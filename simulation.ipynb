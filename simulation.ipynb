{
 "cells": [
  {
   "cell_type": "markdown",
   "metadata": {},
   "source": [
    "# Simulation of an Electrical System based on Thermoelectrics Plants"
   ]
  },
  {
   "cell_type": "code",
   "execution_count": 1,
   "metadata": {},
   "outputs": [],
   "source": [
    "from src.map import Map2D, GraphMap\n",
    "from src.circuits import Circuit, Block\n",
    "from src.thermoelectrics import Thermoelectric\n",
    "import pandas as pd\n",
    "import plotly.express as px\n",
    "import plotly.graph_objects as go\n",
    "\n",
    "from src.simulation_constants import (\n",
    "    NO_CIRCUITS,\n",
    "    NO_THERMOELECTRICS,\n",
    "    IMPORTANCE_ALPHA,\n",
    "    RANDOM,\n",
    "    DISTANCE_REGULATOR\n",
    ")\n"
   ]
  },
  {
   "cell_type": "markdown",
   "metadata": {},
   "source": [
    "## Initialize bases "
   ]
  },
  {
   "cell_type": "code",
   "execution_count": 2,
   "metadata": {},
   "outputs": [
    {
     "data": {
      "application/vnd.plotly.v1+json": {
       "config": {
        "plotlyServerURL": "https://plot.ly"
       },
       "data": [
        {
         "marker": {
          "color": [
           3,
           6,
           1,
           7,
           7,
           0,
           4,
           5,
           0,
           0,
           3,
           2,
           0,
           7,
           4,
           3,
           7,
           2,
           0,
           3,
           5,
           3,
           0,
           5,
           3,
           7,
           0,
           0,
           1,
           5,
           3,
           1,
           0,
           7,
           6,
           3,
           1,
           4,
           0,
           7,
           1,
           4,
           0,
           0,
           3,
           7,
           0,
           3,
           0,
           7
          ],
          "colorscale": [
           [
            0,
            "#440154"
           ],
           [
            0.1111111111111111,
            "#482878"
           ],
           [
            0.2222222222222222,
            "#3e4989"
           ],
           [
            0.3333333333333333,
            "#31688e"
           ],
           [
            0.4444444444444444,
            "#26828e"
           ],
           [
            0.5555555555555556,
            "#1f9e89"
           ],
           [
            0.6666666666666666,
            "#35b779"
           ],
           [
            0.7777777777777778,
            "#6ece58"
           ],
           [
            0.8888888888888888,
            "#b5de2b"
           ],
           [
            1,
            "#fde725"
           ]
          ],
          "showscale": true,
          "size": 10
         },
         "mode": "markers",
         "name": "Circuits",
         "type": "scatter",
         "x": [
          77.77024105738202,
          82.42785326613685,
          97.26011139048933,
          60.90424627612779,
          64.16133447590691,
          3.5036524101437316,
          5.851249188207475,
          37.28540278748075,
          25.62799493266301,
          0.9412770080969413,
          94.90941816782103,
          31.93913663803646,
          3.190366643989473,
          62.982899910782294,
          0.8715732303784862,
          81.28411710026235,
          65.64553345969578,
          47.988339149638314,
          0.00120335694850926,
          71.22326779115835,
          27.699635638380947,
          91.85517481459487,
          45.80858172767637,
          37.93332914830662,
          77.2378759680558,
          68.60850791873135,
          13.798605275825725,
          24.555910532465564,
          92.59944794902178,
          23.76589218796833,
          55.663205143440265,
          83.97085104160709,
          14.48709890463251,
          49.064013706516086,
          98.4938457701008,
          49.904168390089396,
          91.3212806989643,
          22.658787689942837,
          13.635835175923795,
          59.53992453523792,
          95.89347319832972,
          12.895807457854048,
          20.163407511411524,
          43.71180126508111,
          96.72531085605694,
          84.4558532806118,
          10.930490807954563,
          96.64620412773903,
          8.190006001834515,
          65.01305180131334
         ],
         "y": [
          23.75412200349123,
          96.57491980429998,
          45.34492474173122,
          77.55265146048467,
          72.20182295169472,
          29.84494708891794,
          85.70609425871989,
          67.9847951578097,
          34.758121515249194,
          35.83337827049697,
          21.789900913168893,
          91.77723860005874,
          6.508453704251449,
          87.38134432795387,
          74.65772369939376,
          7.571744617226672,
          50.92622000835182,
          95.55741449310663,
          24.697870099191633,
          32.45820497867131,
          69.54454525534746,
          24.44757021979903,
          25.299268282150646,
          60.4538828631711,
          6.79174967944145,
          54.826009739582524,
          9.875321920491842,
          15.17866625844726,
          68.0105015604642,
          56.88852525565604,
          7.273721088434781,
          40.53194926981314,
          19.092005866659367,
          71.20243742497533,
          87.47865017350445,
          10.677999399370886,
          36.4915960886285,
          87.24318623454285,
          23.638016015282027,
          56.3922609078715,
          45.32393332235999,
          76.056767676739,
          17.57298632131816,
          34.02608028478126,
          14.302607708757154,
          66.94061399806628,
          8.8253540029274,
          19.42974852130065,
          26.938469527986364,
          54.67772453446605
         ]
        },
        {
         "marker": {
          "color": "red",
          "size": 15,
          "symbol": "x"
         },
         "mode": "markers",
         "name": "Thermoelectrics",
         "type": "scatter",
         "x": [
          16.32473082533196,
          92.20903285568244,
          39.96373789383739,
          79.32189834166,
          10.56935439159571,
          31.671064940534162,
          90.46084951811883,
          64.4861517072137
         ],
         "y": [
          22.29206708272511,
          47.14058099659941,
          93.66732654658269,
          16.8497369129662,
          80.91594296734888,
          63.71793713299608,
          92.02678498890222,
          65.78900948371631
         ]
        },
        {
         "marker": {
          "color": "black",
          "size": 12,
          "symbol": "triangle-up"
         },
         "mode": "markers",
         "name": "Tension Towers",
         "type": "scatter",
         "x": [
          13.450577304101664,
          16.32473082533197,
          17.253064851564275,
          39.979679546775685,
          43.40119100274585,
          47.76496867167781,
          53.381685325175,
          54.453182464976585,
          64.4861517072137,
          75.4649059516504,
          75.81865803272113,
          76.64817011347576,
          82.06184830936576,
          87.88482940840254,
          90.75971426400191,
          101.6800491200944
         ],
         "y": [
          77.35613526659026,
          22.29206708272512,
          75.186654605745,
          92.24195665724753,
          62.373625941612545,
          44.320708395757045,
          88.86548957935928,
          63.17303237655272,
          65.78900948371631,
          27.90892337339851,
          18.520442037394922,
          78.36384638851025,
          60.73763992626015,
          7.999496219614333,
          92.93561036277183,
          27.29849798690225
         ]
        },
        {
         "line": {
          "color": "black"
         },
         "mode": "lines",
         "showlegend": false,
         "type": "scatter",
         "x": [
          13.450577304101664,
          16.32473082533197
         ],
         "y": [
          77.35613526659026,
          22.29206708272512
         ]
        },
        {
         "line": {
          "color": "black"
         },
         "mode": "lines",
         "showlegend": false,
         "type": "scatter",
         "x": [
          16.32473082533197,
          17.253064851564275
         ],
         "y": [
          22.29206708272512,
          75.186654605745
         ]
        },
        {
         "line": {
          "color": "black"
         },
         "mode": "lines",
         "showlegend": false,
         "type": "scatter",
         "x": [
          17.253064851564275,
          39.979679546775685
         ],
         "y": [
          75.186654605745,
          92.24195665724753
         ]
        },
        {
         "line": {
          "color": "black"
         },
         "mode": "lines",
         "showlegend": false,
         "type": "scatter",
         "x": [
          39.979679546775685,
          43.40119100274585
         ],
         "y": [
          92.24195665724753,
          62.373625941612545
         ]
        },
        {
         "line": {
          "color": "black"
         },
         "mode": "lines",
         "showlegend": false,
         "type": "scatter",
         "x": [
          43.40119100274585,
          47.76496867167781
         ],
         "y": [
          62.373625941612545,
          44.320708395757045
         ]
        },
        {
         "line": {
          "color": "black"
         },
         "mode": "lines",
         "showlegend": false,
         "type": "scatter",
         "x": [
          47.76496867167781,
          53.381685325175
         ],
         "y": [
          44.320708395757045,
          88.86548957935928
         ]
        },
        {
         "line": {
          "color": "black"
         },
         "mode": "lines",
         "showlegend": false,
         "type": "scatter",
         "x": [
          53.381685325175,
          54.453182464976585
         ],
         "y": [
          88.86548957935928,
          63.17303237655272
         ]
        },
        {
         "line": {
          "color": "black"
         },
         "mode": "lines",
         "showlegend": false,
         "type": "scatter",
         "x": [
          54.453182464976585,
          64.4861517072137
         ],
         "y": [
          63.17303237655272,
          65.78900948371631
         ]
        },
        {
         "line": {
          "color": "black"
         },
         "mode": "lines",
         "showlegend": false,
         "type": "scatter",
         "x": [
          64.4861517072137,
          75.4649059516504
         ],
         "y": [
          65.78900948371631,
          27.90892337339851
         ]
        },
        {
         "line": {
          "color": "black"
         },
         "mode": "lines",
         "showlegend": false,
         "type": "scatter",
         "x": [
          75.4649059516504,
          75.81865803272113
         ],
         "y": [
          27.90892337339851,
          18.520442037394922
         ]
        },
        {
         "line": {
          "color": "black"
         },
         "mode": "lines",
         "showlegend": false,
         "type": "scatter",
         "x": [
          75.81865803272113,
          76.64817011347576
         ],
         "y": [
          18.520442037394922,
          78.36384638851025
         ]
        },
        {
         "line": {
          "color": "black"
         },
         "mode": "lines",
         "showlegend": false,
         "type": "scatter",
         "x": [
          76.64817011347576,
          82.06184830936576
         ],
         "y": [
          78.36384638851025,
          60.73763992626015
         ]
        },
        {
         "line": {
          "color": "black"
         },
         "mode": "lines",
         "showlegend": false,
         "type": "scatter",
         "x": [
          82.06184830936576,
          87.88482940840254
         ],
         "y": [
          60.73763992626015,
          7.999496219614333
         ]
        },
        {
         "line": {
          "color": "black"
         },
         "mode": "lines",
         "showlegend": false,
         "type": "scatter",
         "x": [
          87.88482940840254,
          90.75971426400191
         ],
         "y": [
          7.999496219614333,
          92.93561036277183
         ]
        },
        {
         "line": {
          "color": "black"
         },
         "mode": "lines",
         "showlegend": false,
         "type": "scatter",
         "x": [
          90.75971426400191,
          101.6800491200944
         ],
         "y": [
          92.93561036277183,
          27.29849798690225
         ]
        }
       ],
       "layout": {
        "height": 800,
        "legend": {
         "bgcolor": "rgba(255, 255, 255, 0.5)",
         "bordercolor": "rgba(0, 0, 0, 0.5)",
         "x": 0.01,
         "y": 0.99
        },
        "plot_bgcolor": "lightgreen",
        "template": {
         "data": {
          "bar": [
           {
            "error_x": {
             "color": "#2a3f5f"
            },
            "error_y": {
             "color": "#2a3f5f"
            },
            "marker": {
             "line": {
              "color": "#E5ECF6",
              "width": 0.5
             },
             "pattern": {
              "fillmode": "overlay",
              "size": 10,
              "solidity": 0.2
             }
            },
            "type": "bar"
           }
          ],
          "barpolar": [
           {
            "marker": {
             "line": {
              "color": "#E5ECF6",
              "width": 0.5
             },
             "pattern": {
              "fillmode": "overlay",
              "size": 10,
              "solidity": 0.2
             }
            },
            "type": "barpolar"
           }
          ],
          "carpet": [
           {
            "aaxis": {
             "endlinecolor": "#2a3f5f",
             "gridcolor": "white",
             "linecolor": "white",
             "minorgridcolor": "white",
             "startlinecolor": "#2a3f5f"
            },
            "baxis": {
             "endlinecolor": "#2a3f5f",
             "gridcolor": "white",
             "linecolor": "white",
             "minorgridcolor": "white",
             "startlinecolor": "#2a3f5f"
            },
            "type": "carpet"
           }
          ],
          "choropleth": [
           {
            "colorbar": {
             "outlinewidth": 0,
             "ticks": ""
            },
            "type": "choropleth"
           }
          ],
          "contour": [
           {
            "colorbar": {
             "outlinewidth": 0,
             "ticks": ""
            },
            "colorscale": [
             [
              0,
              "#0d0887"
             ],
             [
              0.1111111111111111,
              "#46039f"
             ],
             [
              0.2222222222222222,
              "#7201a8"
             ],
             [
              0.3333333333333333,
              "#9c179e"
             ],
             [
              0.4444444444444444,
              "#bd3786"
             ],
             [
              0.5555555555555556,
              "#d8576b"
             ],
             [
              0.6666666666666666,
              "#ed7953"
             ],
             [
              0.7777777777777778,
              "#fb9f3a"
             ],
             [
              0.8888888888888888,
              "#fdca26"
             ],
             [
              1,
              "#f0f921"
             ]
            ],
            "type": "contour"
           }
          ],
          "contourcarpet": [
           {
            "colorbar": {
             "outlinewidth": 0,
             "ticks": ""
            },
            "type": "contourcarpet"
           }
          ],
          "heatmap": [
           {
            "colorbar": {
             "outlinewidth": 0,
             "ticks": ""
            },
            "colorscale": [
             [
              0,
              "#0d0887"
             ],
             [
              0.1111111111111111,
              "#46039f"
             ],
             [
              0.2222222222222222,
              "#7201a8"
             ],
             [
              0.3333333333333333,
              "#9c179e"
             ],
             [
              0.4444444444444444,
              "#bd3786"
             ],
             [
              0.5555555555555556,
              "#d8576b"
             ],
             [
              0.6666666666666666,
              "#ed7953"
             ],
             [
              0.7777777777777778,
              "#fb9f3a"
             ],
             [
              0.8888888888888888,
              "#fdca26"
             ],
             [
              1,
              "#f0f921"
             ]
            ],
            "type": "heatmap"
           }
          ],
          "heatmapgl": [
           {
            "colorbar": {
             "outlinewidth": 0,
             "ticks": ""
            },
            "colorscale": [
             [
              0,
              "#0d0887"
             ],
             [
              0.1111111111111111,
              "#46039f"
             ],
             [
              0.2222222222222222,
              "#7201a8"
             ],
             [
              0.3333333333333333,
              "#9c179e"
             ],
             [
              0.4444444444444444,
              "#bd3786"
             ],
             [
              0.5555555555555556,
              "#d8576b"
             ],
             [
              0.6666666666666666,
              "#ed7953"
             ],
             [
              0.7777777777777778,
              "#fb9f3a"
             ],
             [
              0.8888888888888888,
              "#fdca26"
             ],
             [
              1,
              "#f0f921"
             ]
            ],
            "type": "heatmapgl"
           }
          ],
          "histogram": [
           {
            "marker": {
             "pattern": {
              "fillmode": "overlay",
              "size": 10,
              "solidity": 0.2
             }
            },
            "type": "histogram"
           }
          ],
          "histogram2d": [
           {
            "colorbar": {
             "outlinewidth": 0,
             "ticks": ""
            },
            "colorscale": [
             [
              0,
              "#0d0887"
             ],
             [
              0.1111111111111111,
              "#46039f"
             ],
             [
              0.2222222222222222,
              "#7201a8"
             ],
             [
              0.3333333333333333,
              "#9c179e"
             ],
             [
              0.4444444444444444,
              "#bd3786"
             ],
             [
              0.5555555555555556,
              "#d8576b"
             ],
             [
              0.6666666666666666,
              "#ed7953"
             ],
             [
              0.7777777777777778,
              "#fb9f3a"
             ],
             [
              0.8888888888888888,
              "#fdca26"
             ],
             [
              1,
              "#f0f921"
             ]
            ],
            "type": "histogram2d"
           }
          ],
          "histogram2dcontour": [
           {
            "colorbar": {
             "outlinewidth": 0,
             "ticks": ""
            },
            "colorscale": [
             [
              0,
              "#0d0887"
             ],
             [
              0.1111111111111111,
              "#46039f"
             ],
             [
              0.2222222222222222,
              "#7201a8"
             ],
             [
              0.3333333333333333,
              "#9c179e"
             ],
             [
              0.4444444444444444,
              "#bd3786"
             ],
             [
              0.5555555555555556,
              "#d8576b"
             ],
             [
              0.6666666666666666,
              "#ed7953"
             ],
             [
              0.7777777777777778,
              "#fb9f3a"
             ],
             [
              0.8888888888888888,
              "#fdca26"
             ],
             [
              1,
              "#f0f921"
             ]
            ],
            "type": "histogram2dcontour"
           }
          ],
          "mesh3d": [
           {
            "colorbar": {
             "outlinewidth": 0,
             "ticks": ""
            },
            "type": "mesh3d"
           }
          ],
          "parcoords": [
           {
            "line": {
             "colorbar": {
              "outlinewidth": 0,
              "ticks": ""
             }
            },
            "type": "parcoords"
           }
          ],
          "pie": [
           {
            "automargin": true,
            "type": "pie"
           }
          ],
          "scatter": [
           {
            "fillpattern": {
             "fillmode": "overlay",
             "size": 10,
             "solidity": 0.2
            },
            "type": "scatter"
           }
          ],
          "scatter3d": [
           {
            "line": {
             "colorbar": {
              "outlinewidth": 0,
              "ticks": ""
             }
            },
            "marker": {
             "colorbar": {
              "outlinewidth": 0,
              "ticks": ""
             }
            },
            "type": "scatter3d"
           }
          ],
          "scattercarpet": [
           {
            "marker": {
             "colorbar": {
              "outlinewidth": 0,
              "ticks": ""
             }
            },
            "type": "scattercarpet"
           }
          ],
          "scattergeo": [
           {
            "marker": {
             "colorbar": {
              "outlinewidth": 0,
              "ticks": ""
             }
            },
            "type": "scattergeo"
           }
          ],
          "scattergl": [
           {
            "marker": {
             "colorbar": {
              "outlinewidth": 0,
              "ticks": ""
             }
            },
            "type": "scattergl"
           }
          ],
          "scattermapbox": [
           {
            "marker": {
             "colorbar": {
              "outlinewidth": 0,
              "ticks": ""
             }
            },
            "type": "scattermapbox"
           }
          ],
          "scatterpolar": [
           {
            "marker": {
             "colorbar": {
              "outlinewidth": 0,
              "ticks": ""
             }
            },
            "type": "scatterpolar"
           }
          ],
          "scatterpolargl": [
           {
            "marker": {
             "colorbar": {
              "outlinewidth": 0,
              "ticks": ""
             }
            },
            "type": "scatterpolargl"
           }
          ],
          "scatterternary": [
           {
            "marker": {
             "colorbar": {
              "outlinewidth": 0,
              "ticks": ""
             }
            },
            "type": "scatterternary"
           }
          ],
          "surface": [
           {
            "colorbar": {
             "outlinewidth": 0,
             "ticks": ""
            },
            "colorscale": [
             [
              0,
              "#0d0887"
             ],
             [
              0.1111111111111111,
              "#46039f"
             ],
             [
              0.2222222222222222,
              "#7201a8"
             ],
             [
              0.3333333333333333,
              "#9c179e"
             ],
             [
              0.4444444444444444,
              "#bd3786"
             ],
             [
              0.5555555555555556,
              "#d8576b"
             ],
             [
              0.6666666666666666,
              "#ed7953"
             ],
             [
              0.7777777777777778,
              "#fb9f3a"
             ],
             [
              0.8888888888888888,
              "#fdca26"
             ],
             [
              1,
              "#f0f921"
             ]
            ],
            "type": "surface"
           }
          ],
          "table": [
           {
            "cells": {
             "fill": {
              "color": "#EBF0F8"
             },
             "line": {
              "color": "white"
             }
            },
            "header": {
             "fill": {
              "color": "#C8D4E3"
             },
             "line": {
              "color": "white"
             }
            },
            "type": "table"
           }
          ]
         },
         "layout": {
          "annotationdefaults": {
           "arrowcolor": "#2a3f5f",
           "arrowhead": 0,
           "arrowwidth": 1
          },
          "autotypenumbers": "strict",
          "coloraxis": {
           "colorbar": {
            "outlinewidth": 0,
            "ticks": ""
           }
          },
          "colorscale": {
           "diverging": [
            [
             0,
             "#8e0152"
            ],
            [
             0.1,
             "#c51b7d"
            ],
            [
             0.2,
             "#de77ae"
            ],
            [
             0.3,
             "#f1b6da"
            ],
            [
             0.4,
             "#fde0ef"
            ],
            [
             0.5,
             "#f7f7f7"
            ],
            [
             0.6,
             "#e6f5d0"
            ],
            [
             0.7,
             "#b8e186"
            ],
            [
             0.8,
             "#7fbc41"
            ],
            [
             0.9,
             "#4d9221"
            ],
            [
             1,
             "#276419"
            ]
           ],
           "sequential": [
            [
             0,
             "#0d0887"
            ],
            [
             0.1111111111111111,
             "#46039f"
            ],
            [
             0.2222222222222222,
             "#7201a8"
            ],
            [
             0.3333333333333333,
             "#9c179e"
            ],
            [
             0.4444444444444444,
             "#bd3786"
            ],
            [
             0.5555555555555556,
             "#d8576b"
            ],
            [
             0.6666666666666666,
             "#ed7953"
            ],
            [
             0.7777777777777778,
             "#fb9f3a"
            ],
            [
             0.8888888888888888,
             "#fdca26"
            ],
            [
             1,
             "#f0f921"
            ]
           ],
           "sequentialminus": [
            [
             0,
             "#0d0887"
            ],
            [
             0.1111111111111111,
             "#46039f"
            ],
            [
             0.2222222222222222,
             "#7201a8"
            ],
            [
             0.3333333333333333,
             "#9c179e"
            ],
            [
             0.4444444444444444,
             "#bd3786"
            ],
            [
             0.5555555555555556,
             "#d8576b"
            ],
            [
             0.6666666666666666,
             "#ed7953"
            ],
            [
             0.7777777777777778,
             "#fb9f3a"
            ],
            [
             0.8888888888888888,
             "#fdca26"
            ],
            [
             1,
             "#f0f921"
            ]
           ]
          },
          "colorway": [
           "#636efa",
           "#EF553B",
           "#00cc96",
           "#ab63fa",
           "#FFA15A",
           "#19d3f3",
           "#FF6692",
           "#B6E880",
           "#FF97FF",
           "#FECB52"
          ],
          "font": {
           "color": "#2a3f5f"
          },
          "geo": {
           "bgcolor": "white",
           "lakecolor": "white",
           "landcolor": "#E5ECF6",
           "showlakes": true,
           "showland": true,
           "subunitcolor": "white"
          },
          "hoverlabel": {
           "align": "left"
          },
          "hovermode": "closest",
          "mapbox": {
           "style": "light"
          },
          "paper_bgcolor": "white",
          "plot_bgcolor": "#E5ECF6",
          "polar": {
           "angularaxis": {
            "gridcolor": "white",
            "linecolor": "white",
            "ticks": ""
           },
           "bgcolor": "#E5ECF6",
           "radialaxis": {
            "gridcolor": "white",
            "linecolor": "white",
            "ticks": ""
           }
          },
          "scene": {
           "xaxis": {
            "backgroundcolor": "#E5ECF6",
            "gridcolor": "white",
            "gridwidth": 2,
            "linecolor": "white",
            "showbackground": true,
            "ticks": "",
            "zerolinecolor": "white"
           },
           "yaxis": {
            "backgroundcolor": "#E5ECF6",
            "gridcolor": "white",
            "gridwidth": 2,
            "linecolor": "white",
            "showbackground": true,
            "ticks": "",
            "zerolinecolor": "white"
           },
           "zaxis": {
            "backgroundcolor": "#E5ECF6",
            "gridcolor": "white",
            "gridwidth": 2,
            "linecolor": "white",
            "showbackground": true,
            "ticks": "",
            "zerolinecolor": "white"
           }
          },
          "shapedefaults": {
           "line": {
            "color": "#2a3f5f"
           }
          },
          "ternary": {
           "aaxis": {
            "gridcolor": "white",
            "linecolor": "white",
            "ticks": ""
           },
           "baxis": {
            "gridcolor": "white",
            "linecolor": "white",
            "ticks": ""
           },
           "bgcolor": "#E5ECF6",
           "caxis": {
            "gridcolor": "white",
            "linecolor": "white",
            "ticks": ""
           }
          },
          "title": {
           "x": 0.05
          },
          "xaxis": {
           "automargin": true,
           "gridcolor": "white",
           "linecolor": "white",
           "ticks": "",
           "title": {
            "standoff": 15
           },
           "zerolinecolor": "white",
           "zerolinewidth": 2
          },
          "yaxis": {
           "automargin": true,
           "gridcolor": "white",
           "linecolor": "white",
           "ticks": "",
           "title": {
            "standoff": 15
           },
           "zerolinecolor": "white",
           "zerolinewidth": 2
          }
         }
        },
        "title": {
         "text": "Map Visualization"
        },
        "xaxis": {
         "title": {
          "text": "X Coordinate"
         }
        },
        "yaxis": {
         "title": {
          "text": "Y Coordinate"
         }
        }
       }
      }
     },
     "metadata": {},
     "output_type": "display_data"
    }
   ],
   "source": [
    "map_2d = Map2D(\n",
    "    no_circuits=NO_CIRCUITS,\n",
    "    no_thermoelectrics=NO_THERMOELECTRICS,\n",
    ")\n",
    "\n",
    "\n",
    "map_2d.visualize()"
   ]
  },
  {
   "cell_type": "code",
   "execution_count": 3,
   "metadata": {},
   "outputs": [
    {
     "data": {
      "application/vnd.plotly.v1+json": {
       "config": {
        "plotlyServerURL": "https://plot.ly"
       },
       "data": [
        {
         "marker": {
          "color": "red",
          "size": 12,
          "symbol": "x"
         },
         "mode": "markers+text",
         "name": "Thermoelectrics",
         "text": [
          "Th0",
          "Th1",
          "Th2",
          "Th3",
          "Th4",
          "Th5",
          "Th6",
          "Th7"
         ],
         "textposition": "top center",
         "type": "scatter",
         "x": [
          16.32473082533196,
          92.20903285568244,
          39.96373789383739,
          79.32189834166,
          10.56935439159571,
          31.671064940534162,
          90.46084951811883,
          64.4861517072137
         ],
         "y": [
          22.29206708272511,
          47.14058099659941,
          93.66732654658269,
          16.8497369129662,
          80.91594296734888,
          63.71793713299608,
          92.02678498890222,
          65.78900948371631
         ]
        },
        {
         "marker": {
          "color": "blue",
          "size": 10,
          "symbol": "circle"
         },
         "mode": "markers+text",
         "name": "Circuits",
         "text": [
          "C0",
          "C1",
          "C2",
          "C3",
          "C4",
          "C5",
          "C6",
          "C7",
          "C8",
          "C9",
          "C10",
          "C11",
          "C12",
          "C13",
          "C14",
          "C15",
          "C16",
          "C17",
          "C18",
          "C19",
          "C20",
          "C21",
          "C22",
          "C23",
          "C24",
          "C25",
          "C26",
          "C27",
          "C28",
          "C29",
          "C30",
          "C31",
          "C32",
          "C33",
          "C34",
          "C35",
          "C36",
          "C37",
          "C38",
          "C39",
          "C40",
          "C41",
          "C42",
          "C43",
          "C44",
          "C45",
          "C46",
          "C47",
          "C48",
          "C49"
         ],
         "textposition": "top center",
         "type": "scatter",
         "x": [
          77.77024105738202,
          82.42785326613685,
          97.26011139048933,
          60.90424627612779,
          64.16133447590691,
          3.5036524101437316,
          5.851249188207475,
          37.28540278748075,
          25.62799493266301,
          0.9412770080969413,
          94.90941816782103,
          31.93913663803646,
          3.190366643989473,
          62.982899910782294,
          0.8715732303784862,
          81.28411710026235,
          65.64553345969578,
          47.988339149638314,
          0.00120335694850926,
          71.22326779115835,
          27.699635638380947,
          91.85517481459487,
          45.80858172767637,
          37.93332914830662,
          77.2378759680558,
          68.60850791873135,
          13.798605275825725,
          24.555910532465564,
          92.59944794902178,
          23.76589218796833,
          55.663205143440265,
          83.97085104160709,
          14.48709890463251,
          49.064013706516086,
          98.4938457701008,
          49.904168390089396,
          91.3212806989643,
          22.658787689942837,
          13.635835175923795,
          59.53992453523792,
          95.89347319832972,
          12.895807457854048,
          20.163407511411524,
          43.71180126508111,
          96.72531085605694,
          84.4558532806118,
          10.930490807954563,
          96.64620412773903,
          8.190006001834515,
          65.01305180131334
         ],
         "y": [
          23.75412200349123,
          96.57491980429998,
          45.34492474173122,
          77.55265146048467,
          72.20182295169472,
          29.84494708891794,
          85.70609425871989,
          67.9847951578097,
          34.758121515249194,
          35.83337827049697,
          21.789900913168893,
          91.77723860005874,
          6.508453704251449,
          87.38134432795387,
          74.65772369939376,
          7.571744617226672,
          50.92622000835182,
          95.55741449310663,
          24.697870099191633,
          32.45820497867131,
          69.54454525534746,
          24.44757021979903,
          25.299268282150646,
          60.4538828631711,
          6.79174967944145,
          54.826009739582524,
          9.875321920491842,
          15.17866625844726,
          68.0105015604642,
          56.88852525565604,
          7.273721088434781,
          40.53194926981314,
          19.092005866659367,
          71.20243742497533,
          87.47865017350445,
          10.677999399370886,
          36.4915960886285,
          87.24318623454285,
          23.638016015282027,
          56.3922609078715,
          45.32393332235999,
          76.056767676739,
          17.57298632131816,
          34.02608028478126,
          14.302607708757154,
          66.94061399806628,
          8.8253540029274,
          19.42974852130065,
          26.938469527986364,
          54.67772453446605
         ]
        },
        {
         "marker": {
          "color": "green",
          "size": 14,
          "symbol": "triangle-up"
         },
         "mode": "markers+text",
         "name": "Towers",
         "text": [
          "Tw0",
          "Tw1",
          "Tw2",
          "Tw3",
          "Tw4",
          "Tw5",
          "Tw6",
          "Tw7",
          "Tw8",
          "Tw9",
          "Tw10",
          "Tw11",
          "Tw12",
          "Tw13",
          "Tw14",
          "Tw15"
         ],
         "textposition": "top center",
         "type": "scatter",
         "x": [
          13.450577304101664,
          16.32473082533197,
          17.253064851564275,
          39.979679546775685,
          43.40119100274585,
          47.76496867167781,
          53.381685325175,
          54.453182464976585,
          64.4861517072137,
          75.4649059516504,
          75.81865803272113,
          76.64817011347576,
          82.06184830936576,
          87.88482940840254,
          90.75971426400191,
          101.6800491200944
         ],
         "y": [
          77.35613526659026,
          22.29206708272512,
          75.186654605745,
          92.24195665724753,
          62.373625941612545,
          44.320708395757045,
          88.86548957935928,
          63.17303237655272,
          65.78900948371631,
          27.90892337339851,
          18.520442037394922,
          78.36384638851025,
          60.73763992626015,
          7.999496219614333,
          92.93561036277183,
          27.29849798690225
         ]
        },
        {
         "line": {
          "color": "black"
         },
         "mode": "lines",
         "name": "Wire Connection",
         "showlegend": false,
         "type": "scatter",
         "x": [
          13.450577304101664,
          16.32473082533197
         ],
         "y": [
          77.35613526659026,
          22.29206708272512
         ]
        },
        {
         "line": {
          "color": "black"
         },
         "mode": "lines",
         "name": "Wire Connection",
         "showlegend": false,
         "type": "scatter",
         "x": [
          16.32473082533197,
          17.253064851564275
         ],
         "y": [
          22.29206708272512,
          75.186654605745
         ]
        },
        {
         "line": {
          "color": "black"
         },
         "mode": "lines",
         "name": "Wire Connection",
         "showlegend": false,
         "type": "scatter",
         "x": [
          17.253064851564275,
          39.979679546775685
         ],
         "y": [
          75.186654605745,
          92.24195665724753
         ]
        },
        {
         "line": {
          "color": "black"
         },
         "mode": "lines",
         "name": "Wire Connection",
         "showlegend": false,
         "type": "scatter",
         "x": [
          39.979679546775685,
          43.40119100274585
         ],
         "y": [
          92.24195665724753,
          62.373625941612545
         ]
        },
        {
         "line": {
          "color": "black"
         },
         "mode": "lines",
         "name": "Wire Connection",
         "showlegend": false,
         "type": "scatter",
         "x": [
          43.40119100274585,
          47.76496867167781
         ],
         "y": [
          62.373625941612545,
          44.320708395757045
         ]
        },
        {
         "line": {
          "color": "black"
         },
         "mode": "lines",
         "name": "Wire Connection",
         "showlegend": false,
         "type": "scatter",
         "x": [
          47.76496867167781,
          53.381685325175
         ],
         "y": [
          44.320708395757045,
          88.86548957935928
         ]
        },
        {
         "line": {
          "color": "black"
         },
         "mode": "lines",
         "name": "Wire Connection",
         "showlegend": false,
         "type": "scatter",
         "x": [
          53.381685325175,
          54.453182464976585
         ],
         "y": [
          88.86548957935928,
          63.17303237655272
         ]
        },
        {
         "line": {
          "color": "black"
         },
         "mode": "lines",
         "name": "Wire Connection",
         "showlegend": false,
         "type": "scatter",
         "x": [
          54.453182464976585,
          64.4861517072137
         ],
         "y": [
          63.17303237655272,
          65.78900948371631
         ]
        },
        {
         "line": {
          "color": "black"
         },
         "mode": "lines",
         "name": "Wire Connection",
         "showlegend": false,
         "type": "scatter",
         "x": [
          64.4861517072137,
          75.4649059516504
         ],
         "y": [
          65.78900948371631,
          27.90892337339851
         ]
        },
        {
         "line": {
          "color": "black"
         },
         "mode": "lines",
         "name": "Wire Connection",
         "showlegend": false,
         "type": "scatter",
         "x": [
          75.4649059516504,
          75.81865803272113
         ],
         "y": [
          27.90892337339851,
          18.520442037394922
         ]
        },
        {
         "line": {
          "color": "black"
         },
         "mode": "lines",
         "name": "Wire Connection",
         "showlegend": false,
         "type": "scatter",
         "x": [
          75.81865803272113,
          76.64817011347576
         ],
         "y": [
          18.520442037394922,
          78.36384638851025
         ]
        },
        {
         "line": {
          "color": "black"
         },
         "mode": "lines",
         "name": "Wire Connection",
         "showlegend": false,
         "type": "scatter",
         "x": [
          76.64817011347576,
          82.06184830936576
         ],
         "y": [
          78.36384638851025,
          60.73763992626015
         ]
        },
        {
         "line": {
          "color": "black"
         },
         "mode": "lines",
         "name": "Wire Connection",
         "showlegend": false,
         "type": "scatter",
         "x": [
          82.06184830936576,
          87.88482940840254
         ],
         "y": [
          60.73763992626015,
          7.999496219614333
         ]
        },
        {
         "line": {
          "color": "black"
         },
         "mode": "lines",
         "name": "Wire Connection",
         "showlegend": false,
         "type": "scatter",
         "x": [
          87.88482940840254,
          90.75971426400191
         ],
         "y": [
          7.999496219614333,
          92.93561036277183
         ]
        },
        {
         "line": {
          "color": "black"
         },
         "mode": "lines",
         "name": "Wire Connection",
         "showlegend": false,
         "type": "scatter",
         "x": [
          90.75971426400191,
          101.6800491200944
         ],
         "y": [
          92.93561036277183,
          27.29849798690225
         ]
        },
        {
         "line": {
          "color": "black",
          "dash": "dash"
         },
         "mode": "lines",
         "name": "Circuit Connection",
         "showlegend": false,
         "type": "scatter",
         "x": [
          77.77024105738202,
          75.8915650165911
         ],
         "y": [
          23.75412200349123,
          23.780163043244197
         ]
        },
        {
         "mode": "text",
         "showlegend": false,
         "text": [
          "1.88"
         ],
         "textposition": "middle center",
         "type": "scatter",
         "x": [
          76.83090303698657
         ],
         "y": [
          23.767142523367713
         ]
        },
        {
         "line": {
          "color": "black",
          "dash": "dash"
         },
         "mode": "lines",
         "name": "Circuit Connection",
         "showlegend": false,
         "type": "scatter",
         "x": [
          82.42785326613685,
          90.75971426400191
         ],
         "y": [
          96.57491980429998,
          92.93561036277183
         ]
        },
        {
         "mode": "text",
         "showlegend": false,
         "text": [
          "9.09"
         ],
         "textposition": "middle center",
         "type": "scatter",
         "x": [
          86.59378376506939
         ],
         "y": [
          94.7552650835359
         ]
        },
        {
         "line": {
          "color": "black",
          "dash": "dash"
         },
         "mode": "lines",
         "name": "Circuit Connection",
         "showlegend": false,
         "type": "scatter",
         "x": [
          97.26011139048933,
          98.63940629924022
         ],
         "y": [
          45.34492474173122,
          45.57440409759637
         ]
        },
        {
         "mode": "text",
         "showlegend": false,
         "text": [
          "1.40"
         ],
         "textposition": "middle center",
         "type": "scatter",
         "x": [
          97.94975884486477
         ],
         "y": [
          45.459664419663795
         ]
        },
        {
         "line": {
          "color": "black",
          "dash": "dash"
         },
         "mode": "lines",
         "name": "Circuit Connection",
         "showlegend": false,
         "type": "scatter",
         "x": [
          60.90424627612779,
          53.865726242353325
         ],
         "y": [
          77.55265146048467,
          77.25911184202413
         ]
        },
        {
         "mode": "text",
         "showlegend": false,
         "text": [
          "7.04"
         ],
         "textposition": "middle center",
         "type": "scatter",
         "x": [
          57.38498625924056
         ],
         "y": [
          77.40588165125439
         ]
        },
        {
         "line": {
          "color": "black",
          "dash": "dash"
         },
         "mode": "lines",
         "name": "Circuit Connection",
         "showlegend": false,
         "type": "scatter",
         "x": [
          64.16133447590691,
          64.4861517072137
         ],
         "y": [
          72.20182295169472,
          65.78900948371631
         ]
        },
        {
         "mode": "text",
         "showlegend": false,
         "text": [
          "6.42"
         ],
         "textposition": "middle center",
         "type": "scatter",
         "x": [
          64.3237430915603
         ],
         "y": [
          68.99541621770553
         ]
        },
        {
         "line": {
          "color": "black",
          "dash": "dash"
         },
         "mode": "lines",
         "name": "Circuit Connection",
         "showlegend": false,
         "type": "scatter",
         "x": [
          3.5036524101437316,
          15.896731990355216
         ],
         "y": [
          29.84494708891794,
          30.49182289176298
         ]
        },
        {
         "mode": "text",
         "showlegend": false,
         "text": [
          "12.41"
         ],
         "textposition": "middle center",
         "type": "scatter",
         "x": [
          9.700192200249473
         ],
         "y": [
          30.16838499034046
         ]
        },
        {
         "line": {
          "color": "black",
          "dash": "dash"
         },
         "mode": "lines",
         "name": "Circuit Connection",
         "showlegend": false,
         "type": "scatter",
         "x": [
          5.851249188207475,
          13.450577304101664
         ],
         "y": [
          85.70609425871989,
          77.35613526659026
         ]
        },
        {
         "mode": "text",
         "showlegend": false,
         "text": [
          "11.29"
         ],
         "textposition": "middle center",
         "type": "scatter",
         "x": [
          9.65091324615457
         ],
         "y": [
          81.53111476265508
         ]
        },
        {
         "line": {
          "color": "black",
          "dash": "dash"
         },
         "mode": "lines",
         "name": "Circuit Connection",
         "showlegend": false,
         "type": "scatter",
         "x": [
          37.28540278748075,
          42.68752493556844
         ],
         "y": [
          67.9847951578097,
          68.60362528233878
         ]
        },
        {
         "mode": "text",
         "showlegend": false,
         "text": [
          "5.44"
         ],
         "textposition": "middle center",
         "type": "scatter",
         "x": [
          39.9864638615246
         ],
         "y": [
          68.29421022007423
         ]
        },
        {
         "line": {
          "color": "black",
          "dash": "dash"
         },
         "mode": "lines",
         "name": "Circuit Connection",
         "showlegend": false,
         "type": "scatter",
         "x": [
          25.62799493266301,
          16.546315482204445
         ],
         "y": [
          34.758121515249194,
          34.91751082980858
         ]
        },
        {
         "mode": "text",
         "showlegend": false,
         "text": [
          "9.08"
         ],
         "textposition": "middle center",
         "type": "scatter",
         "x": [
          21.087155207433728
         ],
         "y": [
          34.83781617252889
         ]
        },
        {
         "line": {
          "color": "black",
          "dash": "dash"
         },
         "mode": "lines",
         "name": "Circuit Connection",
         "showlegend": false,
         "type": "scatter",
         "x": [
          0.9412770080969413,
          15.578043760285121
         ],
         "y": [
          35.83337827049697,
          36.5973667676737
         ]
        },
        {
         "mode": "text",
         "showlegend": false,
         "text": [
          "14.66"
         ],
         "textposition": "middle center",
         "type": "scatter",
         "x": [
          8.259660384191031
         ],
         "y": [
          36.215372519085335
         ]
        },
        {
         "line": {
          "color": "black",
          "dash": "dash"
         },
         "mode": "lines",
         "name": "Circuit Connection",
         "showlegend": false,
         "type": "scatter",
         "x": [
          94.90941816782103,
          88.35910614850074
         ],
         "y": [
          21.789900913168893,
          22.01161334978984
         ]
        },
        {
         "mode": "text",
         "showlegend": false,
         "text": [
          "6.55"
         ],
         "textposition": "middle center",
         "type": "scatter",
         "x": [
          91.63426215816088
         ],
         "y": [
          21.900757131479367
         ]
        },
        {
         "line": {
          "color": "black",
          "dash": "dash"
         },
         "mode": "lines",
         "name": "Circuit Connection",
         "showlegend": false,
         "type": "scatter",
         "x": [
          31.93913663803646,
          34.61287711207959
         ],
         "y": [
          91.77723860005874,
          88.21441283684003
         ]
        },
        {
         "mode": "text",
         "showlegend": false,
         "text": [
          "4.45"
         ],
         "textposition": "middle center",
         "type": "scatter",
         "x": [
          33.27600687505802
         ],
         "y": [
          89.99582571844938
         ]
        },
        {
         "line": {
          "color": "black",
          "dash": "dash"
         },
         "mode": "lines",
         "name": "Circuit Connection",
         "showlegend": false,
         "type": "scatter",
         "x": [
          3.190366643989473,
          16.32473082533197
         ],
         "y": [
          6.508453704251449,
          22.29206708272512
         ]
        },
        {
         "mode": "text",
         "showlegend": false,
         "text": [
          "20.53"
         ],
         "textposition": "middle center",
         "type": "scatter",
         "x": [
          9.757548734660721
         ],
         "y": [
          14.400260393488285
         ]
        },
        {
         "line": {
          "color": "black",
          "dash": "dash"
         },
         "mode": "lines",
         "name": "Circuit Connection",
         "showlegend": false,
         "type": "scatter",
         "x": [
          62.982899910782294,
          53.46014399718937
         ],
         "y": [
          87.38134432795387,
          86.9842003084504
         ]
        },
        {
         "mode": "text",
         "showlegend": false,
         "text": [
          "9.53"
         ],
         "textposition": "middle center",
         "type": "scatter",
         "x": [
          58.22152195398583
         ],
         "y": [
          87.18277231820213
         ]
        },
        {
         "line": {
          "color": "black",
          "dash": "dash"
         },
         "mode": "lines",
         "name": "Circuit Connection",
         "showlegend": false,
         "type": "scatter",
         "x": [
          0.8715732303784862,
          13.55686423724461
         ],
         "y": [
          74.65772369939376,
          75.31985192598016
         ]
        },
        {
         "mode": "text",
         "showlegend": false,
         "text": [
          "12.70"
         ],
         "textposition": "middle center",
         "type": "scatter",
         "x": [
          7.214218733811548
         ],
         "y": [
          74.98878781268695
         ]
        },
        {
         "line": {
          "color": "black",
          "dash": "dash"
         },
         "mode": "lines",
         "name": "Circuit Connection",
         "showlegend": false,
         "type": "scatter",
         "x": [
          81.28411710026235,
          87.85198952650232
         ],
         "y": [
          7.571744617226672,
          8.296923668116563
         ]
        },
        {
         "mode": "text",
         "showlegend": false,
         "text": [
          "6.61"
         ],
         "textposition": "middle center",
         "type": "scatter",
         "x": [
          84.56805331338234
         ],
         "y": [
          7.934334142671617
         ]
        },
        {
         "line": {
          "color": "black",
          "dash": "dash"
         },
         "mode": "lines",
         "name": "Circuit Connection",
         "showlegend": false,
         "type": "scatter",
         "x": [
          65.64553345969578,
          68.54985591942231
         ],
         "y": [
          50.92622000835182,
          51.76797740138083
         ]
        },
        {
         "mode": "text",
         "showlegend": false,
         "text": [
          "3.02"
         ],
         "textposition": "middle center",
         "type": "scatter",
         "x": [
          67.09769468955905
         ],
         "y": [
          51.347098704866326
         ]
        },
        {
         "line": {
          "color": "black",
          "dash": "dash"
         },
         "mode": "lines",
         "name": "Circuit Connection",
         "showlegend": false,
         "type": "scatter",
         "x": [
          47.988339149638314,
          53.381685325175
         ],
         "y": [
          95.55741449310663,
          88.86548957935928
         ]
        },
        {
         "mode": "text",
         "showlegend": false,
         "text": [
          "8.59"
         ],
         "textposition": "middle center",
         "type": "scatter",
         "x": [
          50.68501223740665
         ],
         "y": [
          92.21145203623296
         ]
        },
        {
         "line": {
          "color": "black",
          "dash": "dash"
         },
         "mode": "lines",
         "name": "Circuit Connection",
         "showlegend": false,
         "type": "scatter",
         "x": [
          0.00120335694850926,
          16.15514518360764
         ],
         "y": [
          24.697870099191633,
          25.541049877115235
         ]
        },
        {
         "mode": "text",
         "showlegend": false,
         "text": [
          "16.18"
         ],
         "textposition": "middle center",
         "type": "scatter",
         "x": [
          8.078174270278074
         ],
         "y": [
          25.119459988153434
         ]
        },
        {
         "line": {
          "color": "black",
          "dash": "dash"
         },
         "mode": "lines",
         "name": "Circuit Connection",
         "showlegend": false,
         "type": "scatter",
         "x": [
          71.22326779115835,
          73.91987391670047
         ],
         "y": [
          32.45820497867131,
          33.239760117172054
         ]
        },
        {
         "mode": "text",
         "showlegend": false,
         "text": [
          "2.81"
         ],
         "textposition": "middle center",
         "type": "scatter",
         "x": [
          72.57157085392942
         ],
         "y": [
          32.84898254792168
         ]
        },
        {
         "line": {
          "color": "black",
          "dash": "dash"
         },
         "mode": "lines",
         "name": "Circuit Connection",
         "showlegend": false,
         "type": "scatter",
         "x": [
          27.699635638380947,
          17.157289511092245
         ],
         "y": [
          69.54454525534746,
          69.7295702094039
         ]
        },
        {
         "mode": "text",
         "showlegend": false,
         "text": [
          "10.54"
         ],
         "textposition": "middle center",
         "type": "scatter",
         "x": [
          22.428462574736596
         ],
         "y": [
          69.63705773237568
         ]
        },
        {
         "line": {
          "color": "black",
          "dash": "dash"
         },
         "mode": "lines",
         "name": "Circuit Connection",
         "showlegend": false,
         "type": "scatter",
         "x": [
          91.85517481459487,
          88.44546385069143
         ],
         "y": [
          24.44757021979903,
          24.56298080234081
         ]
        },
        {
         "mode": "text",
         "showlegend": false,
         "text": [
          "3.41"
         ],
         "textposition": "middle center",
         "type": "scatter",
         "x": [
          90.15031933264315
         ],
         "y": [
          24.505275511069918
         ]
        },
        {
         "line": {
          "color": "black",
          "dash": "dash"
         },
         "mode": "lines",
         "name": "Circuit Connection",
         "showlegend": false,
         "type": "scatter",
         "x": [
          45.80858172767637,
          47.76496867167781
         ],
         "y": [
          25.299268282150646,
          44.320708395757045
         ]
        },
        {
         "mode": "text",
         "showlegend": false,
         "text": [
          "19.12"
         ],
         "textposition": "middle center",
         "type": "scatter",
         "x": [
          46.786775199677095
         ],
         "y": [
          34.80998833895384
         ]
        },
        {
         "line": {
          "color": "black",
          "dash": "dash"
         },
         "mode": "lines",
         "name": "Circuit Connection",
         "showlegend": false,
         "type": "scatter",
         "x": [
          37.93332914830662,
          43.53777070248341
         ],
         "y": [
          60.4538828631711,
          61.80859668373944
         ]
        },
        {
         "mode": "text",
         "showlegend": false,
         "text": [
          "5.77"
         ],
         "textposition": "middle center",
         "type": "scatter",
         "x": [
          40.73554992539501
         ],
         "y": [
          61.13123977345527
         ]
        },
        {
         "line": {
          "color": "black",
          "dash": "dash"
         },
         "mode": "lines",
         "name": "Circuit Connection",
         "showlegend": false,
         "type": "scatter",
         "x": [
          77.2378759680558,
          87.88482940840254
         ],
         "y": [
          6.79174967944145,
          7.999496219614336
         ]
        },
        {
         "mode": "text",
         "showlegend": false,
         "text": [
          "10.72"
         ],
         "textposition": "middle center",
         "type": "scatter",
         "x": [
          82.56135268822916
         ],
         "y": [
          7.395622949527893
         ]
        },
        {
         "line": {
          "color": "black",
          "dash": "dash"
         },
         "mode": "lines",
         "name": "Circuit Connection",
         "showlegend": false,
         "type": "scatter",
         "x": [
          68.60850791873135,
          67.73677528996409
         ],
         "y": [
          54.826009739582524,
          54.573356187786985
         ]
        },
        {
         "mode": "text",
         "showlegend": false,
         "text": [
          "0.91"
         ],
         "textposition": "middle center",
         "type": "scatter",
         "x": [
          68.17264160434772
         ],
         "y": [
          54.69968296368475
         ]
        },
        {
         "line": {
          "color": "black",
          "dash": "dash"
         },
         "mode": "lines",
         "name": "Circuit Connection",
         "showlegend": false,
         "type": "scatter",
         "x": [
          13.798605275825725,
          16.32473082533197
         ],
         "y": [
          9.875321920491842,
          22.29206708272512
         ]
        },
        {
         "mode": "text",
         "showlegend": false,
         "text": [
          "12.67"
         ],
         "textposition": "middle center",
         "type": "scatter",
         "x": [
          15.061668050578847
         ],
         "y": [
          16.08369450160848
         ]
        },
        {
         "line": {
          "color": "black",
          "dash": "dash"
         },
         "mode": "lines",
         "name": "Circuit Connection",
         "showlegend": false,
         "type": "scatter",
         "x": [
          24.555910532465564,
          16.32473082533197
         ],
         "y": [
          15.17866625844726,
          22.29206708272512
         ]
        },
        {
         "mode": "text",
         "showlegend": false,
         "text": [
          "10.88"
         ],
         "textposition": "middle center",
         "type": "scatter",
         "x": [
          20.440320678898765
         ],
         "y": [
          18.73536667058619
         ]
        },
        {
         "line": {
          "color": "black",
          "dash": "dash"
         },
         "mode": "lines",
         "name": "Circuit Connection",
         "showlegend": false,
         "type": "scatter",
         "x": [
          92.59944794902178,
          94.84447093688814
         ],
         "y": [
          68.0105015604642,
          68.3840159016609
         ]
        },
        {
         "mode": "text",
         "showlegend": false,
         "text": [
          "2.28"
         ],
         "textposition": "middle center",
         "type": "scatter",
         "x": [
          93.72195944295495
         ],
         "y": [
          68.19725873106256
         ]
        },
        {
         "line": {
          "color": "black",
          "dash": "dash"
         },
         "mode": "lines",
         "name": "Circuit Connection",
         "showlegend": false,
         "type": "scatter",
         "x": [
          23.76589218796833,
          16.934025300687285
         ],
         "y": [
          56.88852525565604,
          57.00842891293274
         ]
        },
        {
         "mode": "text",
         "showlegend": false,
         "text": [
          "6.83"
         ],
         "textposition": "middle center",
         "type": "scatter",
         "x": [
          20.349958744327807
         ],
         "y": [
          56.948477084294396
         ]
        },
        {
         "line": {
          "color": "black",
          "dash": "dash"
         },
         "mode": "lines",
         "name": "Circuit Connection",
         "showlegend": false,
         "type": "scatter",
         "x": [
          55.663205143440265,
          75.81865803272113
         ],
         "y": [
          7.273721088434781,
          18.520442037394922
         ]
        },
        {
         "mode": "text",
         "showlegend": false,
         "text": [
          "23.08"
         ],
         "textposition": "middle center",
         "type": "scatter",
         "x": [
          65.7409315880807
         ],
         "y": [
          12.897081562914853
         ]
        },
        {
         "line": {
          "color": "black",
          "dash": "dash"
         },
         "mode": "lines",
         "name": "Circuit Connection",
         "showlegend": false,
         "type": "scatter",
         "x": [
          83.97085104160709,
          84.28894305674892
         ],
         "y": [
          40.53194926981314,
          40.56707079024868
         ]
        },
        {
         "mode": "text",
         "showlegend": false,
         "text": [
          "0.32"
         ],
         "textposition": "middle center",
         "type": "scatter",
         "x": [
          84.129897049178
         ],
         "y": [
          40.54951003003091
         ]
        },
        {
         "line": {
          "color": "black",
          "dash": "dash"
         },
         "mode": "lines",
         "name": "Circuit Connection",
         "showlegend": false,
         "type": "scatter",
         "x": [
          14.48709890463251,
          16.32473082533197
         ],
         "y": [
          19.092005866659367,
          22.29206708272512
         ]
        },
        {
         "mode": "text",
         "showlegend": false,
         "text": [
          "3.69"
         ],
         "textposition": "middle center",
         "type": "scatter",
         "x": [
          15.40591486498224
         ],
         "y": [
          20.692036474692244
         ]
        },
        {
         "line": {
          "color": "black",
          "dash": "dash"
         },
         "mode": "lines",
         "name": "Circuit Connection",
         "showlegend": false,
         "type": "scatter",
         "x": [
          49.064013706516086,
          51.12180823517125
         ],
         "y": [
          71.20243742497533,
          70.94296710114696
         ]
        },
        {
         "mode": "text",
         "showlegend": false,
         "text": [
          "2.07"
         ],
         "textposition": "middle center",
         "type": "scatter",
         "x": [
          50.09291097084367
         ],
         "y": [
          71.07270226306115
         ]
        },
        {
         "line": {
          "color": "black",
          "dash": "dash"
         },
         "mode": "lines",
         "name": "Circuit Connection",
         "showlegend": false,
         "type": "scatter",
         "x": [
          98.4938457701008,
          91.85147641525951
         ],
         "y": [
          87.47865017350445,
          86.37352999123115
         ]
        },
        {
         "mode": "text",
         "showlegend": false,
         "text": [
          "6.73"
         ],
         "textposition": "middle center",
         "type": "scatter",
         "x": [
          95.17266109268016
         ],
         "y": [
          86.9260900823678
         ]
        },
        {
         "line": {
          "color": "black",
          "dash": "dash"
         },
         "mode": "lines",
         "name": "Circuit Connection",
         "showlegend": false,
         "type": "scatter",
         "x": [
          49.904168390089396,
          75.81865803272113
         ],
         "y": [
          10.677999399370886,
          18.520442037394922
         ]
        },
        {
         "mode": "text",
         "showlegend": false,
         "text": [
          "27.08"
         ],
         "textposition": "middle center",
         "type": "scatter",
         "x": [
          62.861413211405264
         ],
         "y": [
          14.599220718382904
         ]
        },
        {
         "line": {
          "color": "black",
          "dash": "dash"
         },
         "mode": "lines",
         "name": "Circuit Connection",
         "showlegend": false,
         "type": "scatter",
         "x": [
          91.3212806989643,
          88.85204792711554
         ],
         "y": [
          36.4915960886285,
          36.57517372780295
         ]
        },
        {
         "mode": "text",
         "showlegend": false,
         "text": [
          "2.47"
         ],
         "textposition": "middle center",
         "type": "scatter",
         "x": [
          90.08666431303992
         ],
         "y": [
          36.53338490821572
         ]
        },
        {
         "line": {
          "color": "black",
          "dash": "dash"
         },
         "mode": "lines",
         "name": "Circuit Connection",
         "showlegend": false,
         "type": "scatter",
         "x": [
          22.658787689942837,
          26.499333495160453
         ],
         "y": [
          87.24318623454285,
          82.12556331171682
         ]
        },
        {
         "mode": "text",
         "showlegend": false,
         "text": [
          "6.40"
         ],
         "textposition": "middle center",
         "type": "scatter",
         "x": [
          24.579060592551645
         ],
         "y": [
          84.68437477312983
         ]
        },
        {
         "line": {
          "color": "black",
          "dash": "dash"
         },
         "mode": "lines",
         "name": "Circuit Connection",
         "showlegend": false,
         "type": "scatter",
         "x": [
          13.635835175923795,
          16.247361908146836
         ],
         "y": [
          23.638016015282027,
          23.77432865982079
         ]
        },
        {
         "mode": "text",
         "showlegend": false,
         "text": [
          "2.62"
         ],
         "textposition": "middle center",
         "type": "scatter",
         "x": [
          14.941598542035315
         ],
         "y": [
          23.706172337551408
         ]
        },
        {
         "line": {
          "color": "black",
          "dash": "dash"
         },
         "mode": "lines",
         "name": "Circuit Connection",
         "showlegend": false,
         "type": "scatter",
         "x": [
          59.53992453523792,
          66.61526803368142
         ],
         "y": [
          56.3922609078715,
          58.44290190267183
         ]
        },
        {
         "mode": "text",
         "showlegend": false,
         "text": [
          "7.37"
         ],
         "textposition": "middle center",
         "type": "scatter",
         "x": [
          63.07759628445967
         ],
         "y": [
          57.41758140527166
         ]
        },
        {
         "line": {
          "color": "black",
          "dash": "dash"
         },
         "mode": "lines",
         "name": "Circuit Connection",
         "showlegend": false,
         "type": "scatter",
         "x": [
          95.89347319832972,
          98.60599444328254
         ],
         "y": [
          45.32393332235999,
          45.77522740320745
         ]
        },
        {
         "mode": "text",
         "showlegend": false,
         "text": [
          "2.75"
         ],
         "textposition": "middle center",
         "type": "scatter",
         "x": [
          97.24973382080613
         ],
         "y": [
          45.54958036278372
         ]
        },
        {
         "line": {
          "color": "black",
          "dash": "dash"
         },
         "mode": "lines",
         "name": "Circuit Connection",
         "showlegend": false,
         "type": "scatter",
         "x": [
          12.895807457854048,
          13.516708158600085
         ],
         "y": [
          76.056767676739,
          76.08917654143502
         ]
        },
        {
         "mode": "text",
         "showlegend": false,
         "text": [
          "0.62"
         ],
         "textposition": "middle center",
         "type": "scatter",
         "x": [
          13.206257808227067
         ],
         "y": [
          76.072972109087
         ]
        },
        {
         "line": {
          "color": "black",
          "dash": "dash"
         },
         "mode": "lines",
         "name": "Circuit Connection",
         "showlegend": false,
         "type": "scatter",
         "x": [
          20.163407511411524,
          16.32473082533197
         ],
         "y": [
          17.57298632131816,
          22.29206708272512
         ]
        },
        {
         "mode": "text",
         "showlegend": false,
         "text": [
          "6.08"
         ],
         "textposition": "middle center",
         "type": "scatter",
         "x": [
          18.244069168371745
         ],
         "y": [
          19.93252670202164
         ]
        },
        {
         "line": {
          "color": "black",
          "dash": "dash"
         },
         "mode": "lines",
         "name": "Circuit Connection",
         "showlegend": false,
         "type": "scatter",
         "x": [
          43.71180126508111,
          47.76496867167781
         ],
         "y": [
          34.02608028478126,
          44.320708395757045
         ]
        },
        {
         "mode": "text",
         "showlegend": false,
         "text": [
          "11.06"
         ],
         "textposition": "middle center",
         "type": "scatter",
         "x": [
          45.738384968379464
         ],
         "y": [
          39.173394340269155
         ]
        },
        {
         "line": {
          "color": "black",
          "dash": "dash"
         },
         "mode": "lines",
         "name": "Circuit Connection",
         "showlegend": false,
         "type": "scatter",
         "x": [
          96.72531085605694,
          88.10804715980812
         ],
         "y": [
          14.302607708757154,
          14.594281529098131
         ]
        },
        {
         "mode": "text",
         "showlegend": false,
         "text": [
          "8.62"
         ],
         "textposition": "middle center",
         "type": "scatter",
         "x": [
          92.41667900793253
         ],
         "y": [
          14.448444618927642
         ]
        },
        {
         "line": {
          "color": "black",
          "dash": "dash"
         },
         "mode": "lines",
         "name": "Circuit Connection",
         "showlegend": false,
         "type": "scatter",
         "x": [
          84.4558532806118,
          80.5272765528601
         ],
         "y": [
          66.94061399806628,
          65.73399871091077
         ]
        },
        {
         "mode": "text",
         "showlegend": false,
         "text": [
          "4.11"
         ],
         "textposition": "middle center",
         "type": "scatter",
         "x": [
          82.49156491673595
         ],
         "y": [
          66.33730635448853
         ]
        },
        {
         "line": {
          "color": "black",
          "dash": "dash"
         },
         "mode": "lines",
         "name": "Circuit Connection",
         "showlegend": false,
         "type": "scatter",
         "x": [
          10.930490807954563,
          16.32473082533197
         ],
         "y": [
          8.8253540029274,
          22.29206708272512
         ]
        },
        {
         "mode": "text",
         "showlegend": false,
         "text": [
          "14.51"
         ],
         "textposition": "middle center",
         "type": "scatter",
         "x": [
          13.627610816643266
         ],
         "y": [
          15.558710542826258
         ]
        },
        {
         "line": {
          "color": "black",
          "dash": "dash"
         },
         "mode": "lines",
         "name": "Circuit Connection",
         "showlegend": false,
         "type": "scatter",
         "x": [
          96.64620412773903,
          88.28129952796002
         ],
         "y": [
          19.42974852130065,
          19.712880588208083
         ]
        },
        {
         "mode": "text",
         "showlegend": false,
         "text": [
          "8.37"
         ],
         "textposition": "middle center",
         "type": "scatter",
         "x": [
          92.46375182784952
         ],
         "y": [
          19.571314554754366
         ]
        },
        {
         "line": {
          "color": "black",
          "dash": "dash"
         },
         "mode": "lines",
         "name": "Circuit Connection",
         "showlegend": false,
         "type": "scatter",
         "x": [
          8.190006001834515,
          16.06076102055682
         ],
         "y": [
          26.938469527986364,
          27.34929566194117
         ]
        },
        {
         "mode": "text",
         "showlegend": false,
         "text": [
          "7.88"
         ],
         "textposition": "middle center",
         "type": "scatter",
         "x": [
          12.125383511195668
         ],
         "y": [
          27.143882594963767
         ]
        },
        {
         "line": {
          "color": "black",
          "dash": "dash"
         },
         "mode": "lines",
         "name": "Circuit Connection",
         "showlegend": false,
         "type": "scatter",
         "x": [
          65.01305180131334,
          67.49780468784024
         ],
         "y": [
          54.67772453446605,
          55.397878422709276
         ]
        },
        {
         "mode": "text",
         "showlegend": false,
         "text": [
          "2.59"
         ],
         "textposition": "middle center",
         "type": "scatter",
         "x": [
          66.25542824457679
         ],
         "y": [
          55.03780147858767
         ]
        },
        {
         "line": {
          "color": "black",
          "dash": "dash"
         },
         "mode": "lines",
         "name": "Thermoelectric Connection",
         "showlegend": false,
         "type": "scatter",
         "x": [
          16.32473082533196,
          16.32473082533197
         ],
         "y": [
          22.29206708272511,
          22.29206708272512
         ]
        },
        {
         "mode": "text",
         "showlegend": false,
         "text": [
          "0.00"
         ],
         "textposition": "middle center",
         "type": "scatter",
         "x": [
          16.324730825331965
         ],
         "y": [
          22.292067082725115
         ]
        },
        {
         "line": {
          "color": "black",
          "dash": "dash"
         },
         "mode": "lines",
         "name": "Thermoelectric Connection",
         "showlegend": false,
         "type": "scatter",
         "x": [
          92.20903285568244,
          89.21309409049053
         ],
         "y": [
          47.14058099659941,
          47.24198637723451
         ]
        },
        {
         "mode": "text",
         "showlegend": false,
         "text": [
          "3.00"
         ],
         "textposition": "middle center",
         "type": "scatter",
         "x": [
          90.71106347308648
         ],
         "y": [
          47.19128368691696
         ]
        },
        {
         "line": {
          "color": "black",
          "dash": "dash"
         },
         "mode": "lines",
         "name": "Thermoelectric Connection",
         "showlegend": false,
         "type": "scatter",
         "x": [
          39.96373789383739,
          39.979679546775685
         ],
         "y": [
          93.66732654658269,
          92.24195665724753
         ]
        },
        {
         "mode": "text",
         "showlegend": false,
         "text": [
          "1.43"
         ],
         "textposition": "middle center",
         "type": "scatter",
         "x": [
          39.97170872030654
         ],
         "y": [
          92.95464160191511
         ]
        },
        {
         "line": {
          "color": "black",
          "dash": "dash"
         },
         "mode": "lines",
         "name": "Thermoelectric Connection",
         "showlegend": false,
         "type": "scatter",
         "x": [
          79.32189834166,
          75.81865803272113
         ],
         "y": [
          16.8497369129662,
          18.520442037394922
         ]
        },
        {
         "mode": "text",
         "showlegend": false,
         "text": [
          "3.88"
         ],
         "textposition": "middle center",
         "type": "scatter",
         "x": [
          77.57027818719057
         ],
         "y": [
          17.68508947518056
         ]
        },
        {
         "line": {
          "color": "black",
          "dash": "dash"
         },
         "mode": "lines",
         "name": "Thermoelectric Connection",
         "showlegend": false,
         "type": "scatter",
         "x": [
          10.56935439159571,
          13.450577304101664
         ],
         "y": [
          80.91594296734888,
          77.35613526659026
         ]
        },
        {
         "mode": "text",
         "showlegend": false,
         "text": [
          "4.58"
         ],
         "textposition": "middle center",
         "type": "scatter",
         "x": [
          12.009965847848687
         ],
         "y": [
          79.13603911696957
         ]
        },
        {
         "line": {
          "color": "black",
          "dash": "dash"
         },
         "mode": "lines",
         "name": "Thermoelectric Connection",
         "showlegend": false,
         "type": "scatter",
         "x": [
          31.671064940534162,
          43.09725657627023
         ],
         "y": [
          63.71793713299608,
          65.0268434107519
         ]
        },
        {
         "mode": "text",
         "showlegend": false,
         "text": [
          "11.50"
         ],
         "textposition": "middle center",
         "type": "scatter",
         "x": [
          37.384160758402196
         ],
         "y": [
          64.37239027187398
         ]
        },
        {
         "line": {
          "color": "black",
          "dash": "dash"
         },
         "mode": "lines",
         "name": "Thermoelectric Connection",
         "showlegend": false,
         "type": "scatter",
         "x": [
          90.46084951811883,
          90.72864588916326
         ],
         "y": [
          92.02678498890222,
          92.01772072054868
         ]
        },
        {
         "mode": "text",
         "showlegend": false,
         "text": [
          "0.27"
         ],
         "textposition": "middle center",
         "type": "scatter",
         "x": [
          90.59474770364105
         ],
         "y": [
          92.02225285472545
         ]
        },
        {
         "line": {
          "color": "black",
          "dash": "dash"
         },
         "mode": "lines",
         "name": "Thermoelectric Connection",
         "showlegend": false,
         "type": "scatter",
         "x": [
          64.4861517072137,
          64.4861517072137
         ],
         "y": [
          65.78900948371631,
          65.78900948371631
         ]
        },
        {
         "mode": "text",
         "showlegend": false,
         "text": [
          "0.00"
         ],
         "textposition": "middle center",
         "type": "scatter",
         "x": [
          64.4861517072137
         ],
         "y": [
          65.78900948371631
         ]
        }
       ],
       "layout": {
        "height": 800,
        "legend": {
         "bgcolor": "rgba(255, 255, 255, 0.5)",
         "bordercolor": "rgba(0, 0, 0, 0.5)",
         "x": 0.01,
         "y": 0.99
        },
        "plot_bgcolor": "lightgreen",
        "template": {
         "data": {
          "bar": [
           {
            "error_x": {
             "color": "#2a3f5f"
            },
            "error_y": {
             "color": "#2a3f5f"
            },
            "marker": {
             "line": {
              "color": "#E5ECF6",
              "width": 0.5
             },
             "pattern": {
              "fillmode": "overlay",
              "size": 10,
              "solidity": 0.2
             }
            },
            "type": "bar"
           }
          ],
          "barpolar": [
           {
            "marker": {
             "line": {
              "color": "#E5ECF6",
              "width": 0.5
             },
             "pattern": {
              "fillmode": "overlay",
              "size": 10,
              "solidity": 0.2
             }
            },
            "type": "barpolar"
           }
          ],
          "carpet": [
           {
            "aaxis": {
             "endlinecolor": "#2a3f5f",
             "gridcolor": "white",
             "linecolor": "white",
             "minorgridcolor": "white",
             "startlinecolor": "#2a3f5f"
            },
            "baxis": {
             "endlinecolor": "#2a3f5f",
             "gridcolor": "white",
             "linecolor": "white",
             "minorgridcolor": "white",
             "startlinecolor": "#2a3f5f"
            },
            "type": "carpet"
           }
          ],
          "choropleth": [
           {
            "colorbar": {
             "outlinewidth": 0,
             "ticks": ""
            },
            "type": "choropleth"
           }
          ],
          "contour": [
           {
            "colorbar": {
             "outlinewidth": 0,
             "ticks": ""
            },
            "colorscale": [
             [
              0,
              "#0d0887"
             ],
             [
              0.1111111111111111,
              "#46039f"
             ],
             [
              0.2222222222222222,
              "#7201a8"
             ],
             [
              0.3333333333333333,
              "#9c179e"
             ],
             [
              0.4444444444444444,
              "#bd3786"
             ],
             [
              0.5555555555555556,
              "#d8576b"
             ],
             [
              0.6666666666666666,
              "#ed7953"
             ],
             [
              0.7777777777777778,
              "#fb9f3a"
             ],
             [
              0.8888888888888888,
              "#fdca26"
             ],
             [
              1,
              "#f0f921"
             ]
            ],
            "type": "contour"
           }
          ],
          "contourcarpet": [
           {
            "colorbar": {
             "outlinewidth": 0,
             "ticks": ""
            },
            "type": "contourcarpet"
           }
          ],
          "heatmap": [
           {
            "colorbar": {
             "outlinewidth": 0,
             "ticks": ""
            },
            "colorscale": [
             [
              0,
              "#0d0887"
             ],
             [
              0.1111111111111111,
              "#46039f"
             ],
             [
              0.2222222222222222,
              "#7201a8"
             ],
             [
              0.3333333333333333,
              "#9c179e"
             ],
             [
              0.4444444444444444,
              "#bd3786"
             ],
             [
              0.5555555555555556,
              "#d8576b"
             ],
             [
              0.6666666666666666,
              "#ed7953"
             ],
             [
              0.7777777777777778,
              "#fb9f3a"
             ],
             [
              0.8888888888888888,
              "#fdca26"
             ],
             [
              1,
              "#f0f921"
             ]
            ],
            "type": "heatmap"
           }
          ],
          "heatmapgl": [
           {
            "colorbar": {
             "outlinewidth": 0,
             "ticks": ""
            },
            "colorscale": [
             [
              0,
              "#0d0887"
             ],
             [
              0.1111111111111111,
              "#46039f"
             ],
             [
              0.2222222222222222,
              "#7201a8"
             ],
             [
              0.3333333333333333,
              "#9c179e"
             ],
             [
              0.4444444444444444,
              "#bd3786"
             ],
             [
              0.5555555555555556,
              "#d8576b"
             ],
             [
              0.6666666666666666,
              "#ed7953"
             ],
             [
              0.7777777777777778,
              "#fb9f3a"
             ],
             [
              0.8888888888888888,
              "#fdca26"
             ],
             [
              1,
              "#f0f921"
             ]
            ],
            "type": "heatmapgl"
           }
          ],
          "histogram": [
           {
            "marker": {
             "pattern": {
              "fillmode": "overlay",
              "size": 10,
              "solidity": 0.2
             }
            },
            "type": "histogram"
           }
          ],
          "histogram2d": [
           {
            "colorbar": {
             "outlinewidth": 0,
             "ticks": ""
            },
            "colorscale": [
             [
              0,
              "#0d0887"
             ],
             [
              0.1111111111111111,
              "#46039f"
             ],
             [
              0.2222222222222222,
              "#7201a8"
             ],
             [
              0.3333333333333333,
              "#9c179e"
             ],
             [
              0.4444444444444444,
              "#bd3786"
             ],
             [
              0.5555555555555556,
              "#d8576b"
             ],
             [
              0.6666666666666666,
              "#ed7953"
             ],
             [
              0.7777777777777778,
              "#fb9f3a"
             ],
             [
              0.8888888888888888,
              "#fdca26"
             ],
             [
              1,
              "#f0f921"
             ]
            ],
            "type": "histogram2d"
           }
          ],
          "histogram2dcontour": [
           {
            "colorbar": {
             "outlinewidth": 0,
             "ticks": ""
            },
            "colorscale": [
             [
              0,
              "#0d0887"
             ],
             [
              0.1111111111111111,
              "#46039f"
             ],
             [
              0.2222222222222222,
              "#7201a8"
             ],
             [
              0.3333333333333333,
              "#9c179e"
             ],
             [
              0.4444444444444444,
              "#bd3786"
             ],
             [
              0.5555555555555556,
              "#d8576b"
             ],
             [
              0.6666666666666666,
              "#ed7953"
             ],
             [
              0.7777777777777778,
              "#fb9f3a"
             ],
             [
              0.8888888888888888,
              "#fdca26"
             ],
             [
              1,
              "#f0f921"
             ]
            ],
            "type": "histogram2dcontour"
           }
          ],
          "mesh3d": [
           {
            "colorbar": {
             "outlinewidth": 0,
             "ticks": ""
            },
            "type": "mesh3d"
           }
          ],
          "parcoords": [
           {
            "line": {
             "colorbar": {
              "outlinewidth": 0,
              "ticks": ""
             }
            },
            "type": "parcoords"
           }
          ],
          "pie": [
           {
            "automargin": true,
            "type": "pie"
           }
          ],
          "scatter": [
           {
            "fillpattern": {
             "fillmode": "overlay",
             "size": 10,
             "solidity": 0.2
            },
            "type": "scatter"
           }
          ],
          "scatter3d": [
           {
            "line": {
             "colorbar": {
              "outlinewidth": 0,
              "ticks": ""
             }
            },
            "marker": {
             "colorbar": {
              "outlinewidth": 0,
              "ticks": ""
             }
            },
            "type": "scatter3d"
           }
          ],
          "scattercarpet": [
           {
            "marker": {
             "colorbar": {
              "outlinewidth": 0,
              "ticks": ""
             }
            },
            "type": "scattercarpet"
           }
          ],
          "scattergeo": [
           {
            "marker": {
             "colorbar": {
              "outlinewidth": 0,
              "ticks": ""
             }
            },
            "type": "scattergeo"
           }
          ],
          "scattergl": [
           {
            "marker": {
             "colorbar": {
              "outlinewidth": 0,
              "ticks": ""
             }
            },
            "type": "scattergl"
           }
          ],
          "scattermapbox": [
           {
            "marker": {
             "colorbar": {
              "outlinewidth": 0,
              "ticks": ""
             }
            },
            "type": "scattermapbox"
           }
          ],
          "scatterpolar": [
           {
            "marker": {
             "colorbar": {
              "outlinewidth": 0,
              "ticks": ""
             }
            },
            "type": "scatterpolar"
           }
          ],
          "scatterpolargl": [
           {
            "marker": {
             "colorbar": {
              "outlinewidth": 0,
              "ticks": ""
             }
            },
            "type": "scatterpolargl"
           }
          ],
          "scatterternary": [
           {
            "marker": {
             "colorbar": {
              "outlinewidth": 0,
              "ticks": ""
             }
            },
            "type": "scatterternary"
           }
          ],
          "surface": [
           {
            "colorbar": {
             "outlinewidth": 0,
             "ticks": ""
            },
            "colorscale": [
             [
              0,
              "#0d0887"
             ],
             [
              0.1111111111111111,
              "#46039f"
             ],
             [
              0.2222222222222222,
              "#7201a8"
             ],
             [
              0.3333333333333333,
              "#9c179e"
             ],
             [
              0.4444444444444444,
              "#bd3786"
             ],
             [
              0.5555555555555556,
              "#d8576b"
             ],
             [
              0.6666666666666666,
              "#ed7953"
             ],
             [
              0.7777777777777778,
              "#fb9f3a"
             ],
             [
              0.8888888888888888,
              "#fdca26"
             ],
             [
              1,
              "#f0f921"
             ]
            ],
            "type": "surface"
           }
          ],
          "table": [
           {
            "cells": {
             "fill": {
              "color": "#EBF0F8"
             },
             "line": {
              "color": "white"
             }
            },
            "header": {
             "fill": {
              "color": "#C8D4E3"
             },
             "line": {
              "color": "white"
             }
            },
            "type": "table"
           }
          ]
         },
         "layout": {
          "annotationdefaults": {
           "arrowcolor": "#2a3f5f",
           "arrowhead": 0,
           "arrowwidth": 1
          },
          "autotypenumbers": "strict",
          "coloraxis": {
           "colorbar": {
            "outlinewidth": 0,
            "ticks": ""
           }
          },
          "colorscale": {
           "diverging": [
            [
             0,
             "#8e0152"
            ],
            [
             0.1,
             "#c51b7d"
            ],
            [
             0.2,
             "#de77ae"
            ],
            [
             0.3,
             "#f1b6da"
            ],
            [
             0.4,
             "#fde0ef"
            ],
            [
             0.5,
             "#f7f7f7"
            ],
            [
             0.6,
             "#e6f5d0"
            ],
            [
             0.7,
             "#b8e186"
            ],
            [
             0.8,
             "#7fbc41"
            ],
            [
             0.9,
             "#4d9221"
            ],
            [
             1,
             "#276419"
            ]
           ],
           "sequential": [
            [
             0,
             "#0d0887"
            ],
            [
             0.1111111111111111,
             "#46039f"
            ],
            [
             0.2222222222222222,
             "#7201a8"
            ],
            [
             0.3333333333333333,
             "#9c179e"
            ],
            [
             0.4444444444444444,
             "#bd3786"
            ],
            [
             0.5555555555555556,
             "#d8576b"
            ],
            [
             0.6666666666666666,
             "#ed7953"
            ],
            [
             0.7777777777777778,
             "#fb9f3a"
            ],
            [
             0.8888888888888888,
             "#fdca26"
            ],
            [
             1,
             "#f0f921"
            ]
           ],
           "sequentialminus": [
            [
             0,
             "#0d0887"
            ],
            [
             0.1111111111111111,
             "#46039f"
            ],
            [
             0.2222222222222222,
             "#7201a8"
            ],
            [
             0.3333333333333333,
             "#9c179e"
            ],
            [
             0.4444444444444444,
             "#bd3786"
            ],
            [
             0.5555555555555556,
             "#d8576b"
            ],
            [
             0.6666666666666666,
             "#ed7953"
            ],
            [
             0.7777777777777778,
             "#fb9f3a"
            ],
            [
             0.8888888888888888,
             "#fdca26"
            ],
            [
             1,
             "#f0f921"
            ]
           ]
          },
          "colorway": [
           "#636efa",
           "#EF553B",
           "#00cc96",
           "#ab63fa",
           "#FFA15A",
           "#19d3f3",
           "#FF6692",
           "#B6E880",
           "#FF97FF",
           "#FECB52"
          ],
          "font": {
           "color": "#2a3f5f"
          },
          "geo": {
           "bgcolor": "white",
           "lakecolor": "white",
           "landcolor": "#E5ECF6",
           "showlakes": true,
           "showland": true,
           "subunitcolor": "white"
          },
          "hoverlabel": {
           "align": "left"
          },
          "hovermode": "closest",
          "mapbox": {
           "style": "light"
          },
          "paper_bgcolor": "white",
          "plot_bgcolor": "#E5ECF6",
          "polar": {
           "angularaxis": {
            "gridcolor": "white",
            "linecolor": "white",
            "ticks": ""
           },
           "bgcolor": "#E5ECF6",
           "radialaxis": {
            "gridcolor": "white",
            "linecolor": "white",
            "ticks": ""
           }
          },
          "scene": {
           "xaxis": {
            "backgroundcolor": "#E5ECF6",
            "gridcolor": "white",
            "gridwidth": 2,
            "linecolor": "white",
            "showbackground": true,
            "ticks": "",
            "zerolinecolor": "white"
           },
           "yaxis": {
            "backgroundcolor": "#E5ECF6",
            "gridcolor": "white",
            "gridwidth": 2,
            "linecolor": "white",
            "showbackground": true,
            "ticks": "",
            "zerolinecolor": "white"
           },
           "zaxis": {
            "backgroundcolor": "#E5ECF6",
            "gridcolor": "white",
            "gridwidth": 2,
            "linecolor": "white",
            "showbackground": true,
            "ticks": "",
            "zerolinecolor": "white"
           }
          },
          "shapedefaults": {
           "line": {
            "color": "#2a3f5f"
           }
          },
          "ternary": {
           "aaxis": {
            "gridcolor": "white",
            "linecolor": "white",
            "ticks": ""
           },
           "baxis": {
            "gridcolor": "white",
            "linecolor": "white",
            "ticks": ""
           },
           "bgcolor": "#E5ECF6",
           "caxis": {
            "gridcolor": "white",
            "linecolor": "white",
            "ticks": ""
           }
          },
          "title": {
           "x": 0.05
          },
          "xaxis": {
           "automargin": true,
           "gridcolor": "white",
           "linecolor": "white",
           "ticks": "",
           "title": {
            "standoff": 15
           },
           "zerolinecolor": "white",
           "zerolinewidth": 2
          },
          "yaxis": {
           "automargin": true,
           "gridcolor": "white",
           "linecolor": "white",
           "ticks": "",
           "title": {
            "standoff": 15
           },
           "zerolinecolor": "white",
           "zerolinewidth": 2
          }
         }
        },
        "title": {
         "text": "Map Visualization"
        },
        "xaxis": {
         "title": {
          "text": "X Coordinate"
         }
        },
        "yaxis": {
         "title": {
          "text": "Y Coordinate"
         }
        }
       }
      }
     },
     "metadata": {},
     "output_type": "display_data"
    }
   ],
   "source": [
    "graphMap = GraphMap(\n",
    "    thermoelectric_labels=[f\"Th{i}\" for i in range(NO_THERMOELECTRICS)],\n",
    "    circuits_labels=[f\"C{i}\" for i in range(NO_CIRCUITS)],\n",
    "    towers_labels=[f\"Tw{i}\" for i in range(len(map_2d.towers_positions))],\n",
    "    thermoelectrics_positions=map_2d.thermoelectrics_positions,\n",
    "    circuits_positions=map_2d.circuits_positions,\n",
    "    towers_positions=map_2d.towers_positions,\n",
    ")\n",
    "\n",
    "graphMap.visualize()"
   ]
  },
  {
   "cell_type": "code",
   "execution_count": 4,
   "metadata": {},
   "outputs": [
    {
     "data": {
      "application/vnd.plotly.v1+json": {
       "config": {
        "plotlyServerURL": "https://plot.ly"
       },
       "data": [
        {
         "hoverinfo": "text",
         "hoverlabel": {
          "bgcolor": "white",
          "font": {
           "family": "Rockwell",
           "size": 16
          }
         },
         "line": {
          "color": "black"
         },
         "mode": "lines",
         "name": "Wire Connection",
         "showlegend": false,
         "text": "C0 -> Th3",
         "type": "scatter",
         "x": [
          77.77024105738202,
          79.32189834166
         ],
         "y": [
          23.75412200349123,
          16.8497369129662
         ]
        },
        {
         "hoverinfo": "text",
         "hoverlabel": {
          "bgcolor": "white",
          "font": {
           "family": "Rockwell",
           "size": 16
          }
         },
         "line": {
          "color": "black"
         },
         "mode": "lines",
         "name": "Wire Connection",
         "showlegend": false,
         "text": "C1 -> Th6",
         "type": "scatter",
         "x": [
          82.42785326613685,
          90.46084951811883
         ],
         "y": [
          96.57491980429998,
          92.02678498890222
         ]
        },
        {
         "hoverinfo": "text",
         "hoverlabel": {
          "bgcolor": "white",
          "font": {
           "family": "Rockwell",
           "size": 16
          }
         },
         "line": {
          "color": "black"
         },
         "mode": "lines",
         "name": "Wire Connection",
         "showlegend": false,
         "text": "C2 -> Th6",
         "type": "scatter",
         "x": [
          97.26011139048933,
          90.46084951811883
         ],
         "y": [
          45.34492474173122,
          92.02678498890222
         ]
        },
        {
         "hoverinfo": "text",
         "hoverlabel": {
          "bgcolor": "white",
          "font": {
           "family": "Rockwell",
           "size": 16
          }
         },
         "line": {
          "color": "black"
         },
         "mode": "lines",
         "name": "Wire Connection",
         "showlegend": false,
         "text": "C3 -> Th7",
         "type": "scatter",
         "x": [
          60.90424627612779,
          64.4861517072137
         ],
         "y": [
          77.55265146048467,
          65.78900948371631
         ]
        },
        {
         "hoverinfo": "text",
         "hoverlabel": {
          "bgcolor": "white",
          "font": {
           "family": "Rockwell",
           "size": 16
          }
         },
         "line": {
          "color": "black"
         },
         "mode": "lines",
         "name": "Wire Connection",
         "showlegend": false,
         "text": "C4 -> Th7",
         "type": "scatter",
         "x": [
          64.16133447590691,
          64.4861517072137
         ],
         "y": [
          72.20182295169472,
          65.78900948371631
         ]
        },
        {
         "hoverinfo": "text",
         "hoverlabel": {
          "bgcolor": "white",
          "font": {
           "family": "Rockwell",
           "size": 16
          }
         },
         "line": {
          "color": "black"
         },
         "mode": "lines",
         "name": "Wire Connection",
         "showlegend": false,
         "text": "C5 -> Th0",
         "type": "scatter",
         "x": [
          3.5036524101437316,
          16.32473082533196
         ],
         "y": [
          29.84494708891794,
          22.29206708272511
         ]
        },
        {
         "hoverinfo": "text",
         "hoverlabel": {
          "bgcolor": "white",
          "font": {
           "family": "Rockwell",
           "size": 16
          }
         },
         "line": {
          "color": "black"
         },
         "mode": "lines",
         "name": "Wire Connection",
         "showlegend": false,
         "text": "C6 -> Th4",
         "type": "scatter",
         "x": [
          5.851249188207475,
          10.56935439159571
         ],
         "y": [
          85.70609425871989,
          80.91594296734888
         ]
        },
        {
         "hoverinfo": "text",
         "hoverlabel": {
          "bgcolor": "white",
          "font": {
           "family": "Rockwell",
           "size": 16
          }
         },
         "line": {
          "color": "black"
         },
         "mode": "lines",
         "name": "Wire Connection",
         "showlegend": false,
         "text": "C7 -> Th5",
         "type": "scatter",
         "x": [
          37.28540278748075,
          31.671064940534162
         ],
         "y": [
          67.9847951578097,
          63.71793713299608
         ]
        },
        {
         "hoverinfo": "text",
         "hoverlabel": {
          "bgcolor": "white",
          "font": {
           "family": "Rockwell",
           "size": 16
          }
         },
         "line": {
          "color": "black"
         },
         "mode": "lines",
         "name": "Wire Connection",
         "showlegend": false,
         "text": "C8 -> Th0",
         "type": "scatter",
         "x": [
          25.62799493266301,
          16.32473082533196
         ],
         "y": [
          34.758121515249194,
          22.29206708272511
         ]
        },
        {
         "hoverinfo": "text",
         "hoverlabel": {
          "bgcolor": "white",
          "font": {
           "family": "Rockwell",
           "size": 16
          }
         },
         "line": {
          "color": "black"
         },
         "mode": "lines",
         "name": "Wire Connection",
         "showlegend": false,
         "text": "C9 -> Th0",
         "type": "scatter",
         "x": [
          0.9412770080969413,
          16.32473082533196
         ],
         "y": [
          35.83337827049697,
          22.29206708272511
         ]
        },
        {
         "hoverinfo": "text",
         "hoverlabel": {
          "bgcolor": "white",
          "font": {
           "family": "Rockwell",
           "size": 16
          }
         },
         "line": {
          "color": "black"
         },
         "mode": "lines",
         "name": "Wire Connection",
         "showlegend": false,
         "text": "C10 -> Th1",
         "type": "scatter",
         "x": [
          94.90941816782103,
          92.20903285568244
         ],
         "y": [
          21.789900913168893,
          47.14058099659941
         ]
        },
        {
         "hoverinfo": "text",
         "hoverlabel": {
          "bgcolor": "white",
          "font": {
           "family": "Rockwell",
           "size": 16
          }
         },
         "line": {
          "color": "black"
         },
         "mode": "lines",
         "name": "Wire Connection",
         "showlegend": false,
         "text": "C11 -> Th2",
         "type": "scatter",
         "x": [
          31.93913663803646,
          39.96373789383739
         ],
         "y": [
          91.77723860005874,
          93.66732654658269
         ]
        },
        {
         "hoverinfo": "text",
         "hoverlabel": {
          "bgcolor": "white",
          "font": {
           "family": "Rockwell",
           "size": 16
          }
         },
         "line": {
          "color": "black"
         },
         "mode": "lines",
         "name": "Wire Connection",
         "showlegend": false,
         "text": "C12 -> Th0",
         "type": "scatter",
         "x": [
          3.190366643989473,
          16.32473082533196
         ],
         "y": [
          6.508453704251449,
          22.29206708272511
         ]
        },
        {
         "hoverinfo": "text",
         "hoverlabel": {
          "bgcolor": "white",
          "font": {
           "family": "Rockwell",
           "size": 16
          }
         },
         "line": {
          "color": "black"
         },
         "mode": "lines",
         "name": "Wire Connection",
         "showlegend": false,
         "text": "C13 -> Th7",
         "type": "scatter",
         "x": [
          62.982899910782294,
          64.4861517072137
         ],
         "y": [
          87.38134432795387,
          65.78900948371631
         ]
        },
        {
         "hoverinfo": "text",
         "hoverlabel": {
          "bgcolor": "white",
          "font": {
           "family": "Rockwell",
           "size": 16
          }
         },
         "line": {
          "color": "black"
         },
         "mode": "lines",
         "name": "Wire Connection",
         "showlegend": false,
         "text": "C14 -> Th4",
         "type": "scatter",
         "x": [
          0.8715732303784862,
          10.56935439159571
         ],
         "y": [
          74.65772369939376,
          80.91594296734888
         ]
        },
        {
         "hoverinfo": "text",
         "hoverlabel": {
          "bgcolor": "white",
          "font": {
           "family": "Rockwell",
           "size": 16
          }
         },
         "line": {
          "color": "black"
         },
         "mode": "lines",
         "name": "Wire Connection",
         "showlegend": false,
         "text": "C15 -> Th1",
         "type": "scatter",
         "x": [
          81.28411710026235,
          92.20903285568244
         ],
         "y": [
          7.571744617226672,
          47.14058099659941
         ]
        },
        {
         "hoverinfo": "text",
         "hoverlabel": {
          "bgcolor": "white",
          "font": {
           "family": "Rockwell",
           "size": 16
          }
         },
         "line": {
          "color": "black"
         },
         "mode": "lines",
         "name": "Wire Connection",
         "showlegend": false,
         "text": "C16 -> Th7",
         "type": "scatter",
         "x": [
          65.64553345969578,
          64.4861517072137
         ],
         "y": [
          50.92622000835182,
          65.78900948371631
         ]
        },
        {
         "hoverinfo": "text",
         "hoverlabel": {
          "bgcolor": "white",
          "font": {
           "family": "Rockwell",
           "size": 16
          }
         },
         "line": {
          "color": "black"
         },
         "mode": "lines",
         "name": "Wire Connection",
         "showlegend": false,
         "text": "C17 -> Th7",
         "type": "scatter",
         "x": [
          47.988339149638314,
          64.4861517072137
         ],
         "y": [
          95.55741449310663,
          65.78900948371631
         ]
        },
        {
         "hoverinfo": "text",
         "hoverlabel": {
          "bgcolor": "white",
          "font": {
           "family": "Rockwell",
           "size": 16
          }
         },
         "line": {
          "color": "black"
         },
         "mode": "lines",
         "name": "Wire Connection",
         "showlegend": false,
         "text": "C18 -> Th0",
         "type": "scatter",
         "x": [
          0.00120335694850926,
          16.32473082533196
         ],
         "y": [
          24.697870099191633,
          22.29206708272511
         ]
        },
        {
         "hoverinfo": "text",
         "hoverlabel": {
          "bgcolor": "white",
          "font": {
           "family": "Rockwell",
           "size": 16
          }
         },
         "line": {
          "color": "black"
         },
         "mode": "lines",
         "name": "Wire Connection",
         "showlegend": false,
         "text": "C19 -> Th3",
         "type": "scatter",
         "x": [
          71.22326779115835,
          79.32189834166
         ],
         "y": [
          32.45820497867131,
          16.8497369129662
         ]
        },
        {
         "hoverinfo": "text",
         "hoverlabel": {
          "bgcolor": "white",
          "font": {
           "family": "Rockwell",
           "size": 16
          }
         },
         "line": {
          "color": "black"
         },
         "mode": "lines",
         "name": "Wire Connection",
         "showlegend": false,
         "text": "C20 -> Th2",
         "type": "scatter",
         "x": [
          27.699635638380947,
          39.96373789383739
         ],
         "y": [
          69.54454525534746,
          93.66732654658269
         ]
        },
        {
         "hoverinfo": "text",
         "hoverlabel": {
          "bgcolor": "white",
          "font": {
           "family": "Rockwell",
           "size": 16
          }
         },
         "line": {
          "color": "black"
         },
         "mode": "lines",
         "name": "Wire Connection",
         "showlegend": false,
         "text": "C21 -> Th1",
         "type": "scatter",
         "x": [
          91.85517481459487,
          92.20903285568244
         ],
         "y": [
          24.44757021979903,
          47.14058099659941
         ]
        },
        {
         "hoverinfo": "text",
         "hoverlabel": {
          "bgcolor": "white",
          "font": {
           "family": "Rockwell",
           "size": 16
          }
         },
         "line": {
          "color": "black"
         },
         "mode": "lines",
         "name": "Wire Connection",
         "showlegend": false,
         "text": "C22 -> Th5",
         "type": "scatter",
         "x": [
          45.80858172767637,
          31.671064940534162
         ],
         "y": [
          25.299268282150646,
          63.71793713299608
         ]
        },
        {
         "hoverinfo": "text",
         "hoverlabel": {
          "bgcolor": "white",
          "font": {
           "family": "Rockwell",
           "size": 16
          }
         },
         "line": {
          "color": "black"
         },
         "mode": "lines",
         "name": "Wire Connection",
         "showlegend": false,
         "text": "C23 -> Th5",
         "type": "scatter",
         "x": [
          37.93332914830662,
          31.671064940534162
         ],
         "y": [
          60.4538828631711,
          63.71793713299608
         ]
        },
        {
         "hoverinfo": "text",
         "hoverlabel": {
          "bgcolor": "white",
          "font": {
           "family": "Rockwell",
           "size": 16
          }
         },
         "line": {
          "color": "black"
         },
         "mode": "lines",
         "name": "Wire Connection",
         "showlegend": false,
         "text": "C24 -> Th1",
         "type": "scatter",
         "x": [
          77.2378759680558,
          92.20903285568244
         ],
         "y": [
          6.79174967944145,
          47.14058099659941
         ]
        },
        {
         "hoverinfo": "text",
         "hoverlabel": {
          "bgcolor": "white",
          "font": {
           "family": "Rockwell",
           "size": 16
          }
         },
         "line": {
          "color": "black"
         },
         "mode": "lines",
         "name": "Wire Connection",
         "showlegend": false,
         "text": "C25 -> Th7",
         "type": "scatter",
         "x": [
          68.60850791873135,
          64.4861517072137
         ],
         "y": [
          54.826009739582524,
          65.78900948371631
         ]
        },
        {
         "hoverinfo": "text",
         "hoverlabel": {
          "bgcolor": "white",
          "font": {
           "family": "Rockwell",
           "size": 16
          }
         },
         "line": {
          "color": "black"
         },
         "mode": "lines",
         "name": "Wire Connection",
         "showlegend": false,
         "text": "C26 -> Th0",
         "type": "scatter",
         "x": [
          13.798605275825725,
          16.32473082533196
         ],
         "y": [
          9.875321920491842,
          22.29206708272511
         ]
        },
        {
         "hoverinfo": "text",
         "hoverlabel": {
          "bgcolor": "white",
          "font": {
           "family": "Rockwell",
           "size": 16
          }
         },
         "line": {
          "color": "black"
         },
         "mode": "lines",
         "name": "Wire Connection",
         "showlegend": false,
         "text": "C27 -> Th0",
         "type": "scatter",
         "x": [
          24.555910532465564,
          16.32473082533196
         ],
         "y": [
          15.17866625844726,
          22.29206708272511
         ]
        },
        {
         "hoverinfo": "text",
         "hoverlabel": {
          "bgcolor": "white",
          "font": {
           "family": "Rockwell",
           "size": 16
          }
         },
         "line": {
          "color": "black"
         },
         "mode": "lines",
         "name": "Wire Connection",
         "showlegend": false,
         "text": "C28 -> Th6",
         "type": "scatter",
         "x": [
          92.59944794902178,
          90.46084951811883
         ],
         "y": [
          68.0105015604642,
          92.02678498890222
         ]
        },
        {
         "hoverinfo": "text",
         "hoverlabel": {
          "bgcolor": "white",
          "font": {
           "family": "Rockwell",
           "size": 16
          }
         },
         "line": {
          "color": "black"
         },
         "mode": "lines",
         "name": "Wire Connection",
         "showlegend": false,
         "text": "C29 -> Th0",
         "type": "scatter",
         "x": [
          23.76589218796833,
          16.32473082533196
         ],
         "y": [
          56.88852525565604,
          22.29206708272511
         ]
        },
        {
         "hoverinfo": "text",
         "hoverlabel": {
          "bgcolor": "white",
          "font": {
           "family": "Rockwell",
           "size": 16
          }
         },
         "line": {
          "color": "black"
         },
         "mode": "lines",
         "name": "Wire Connection",
         "showlegend": false,
         "text": "C30 -> Th3",
         "type": "scatter",
         "x": [
          55.663205143440265,
          79.32189834166
         ],
         "y": [
          7.273721088434781,
          16.8497369129662
         ]
        },
        {
         "hoverinfo": "text",
         "hoverlabel": {
          "bgcolor": "white",
          "font": {
           "family": "Rockwell",
           "size": 16
          }
         },
         "line": {
          "color": "black"
         },
         "mode": "lines",
         "name": "Wire Connection",
         "showlegend": false,
         "text": "C31 -> Th1",
         "type": "scatter",
         "x": [
          83.97085104160709,
          92.20903285568244
         ],
         "y": [
          40.53194926981314,
          47.14058099659941
         ]
        },
        {
         "hoverinfo": "text",
         "hoverlabel": {
          "bgcolor": "white",
          "font": {
           "family": "Rockwell",
           "size": 16
          }
         },
         "line": {
          "color": "black"
         },
         "mode": "lines",
         "name": "Wire Connection",
         "showlegend": false,
         "text": "C32 -> Th0",
         "type": "scatter",
         "x": [
          14.48709890463251,
          16.32473082533196
         ],
         "y": [
          19.092005866659367,
          22.29206708272511
         ]
        },
        {
         "hoverinfo": "text",
         "hoverlabel": {
          "bgcolor": "white",
          "font": {
           "family": "Rockwell",
           "size": 16
          }
         },
         "line": {
          "color": "black"
         },
         "mode": "lines",
         "name": "Wire Connection",
         "showlegend": false,
         "text": "C33 -> Th7",
         "type": "scatter",
         "x": [
          49.064013706516086,
          64.4861517072137
         ],
         "y": [
          71.20243742497533,
          65.78900948371631
         ]
        },
        {
         "hoverinfo": "text",
         "hoverlabel": {
          "bgcolor": "white",
          "font": {
           "family": "Rockwell",
           "size": 16
          }
         },
         "line": {
          "color": "black"
         },
         "mode": "lines",
         "name": "Wire Connection",
         "showlegend": false,
         "text": "C34 -> Th6",
         "type": "scatter",
         "x": [
          98.4938457701008,
          90.46084951811883
         ],
         "y": [
          87.47865017350445,
          92.02678498890222
         ]
        },
        {
         "hoverinfo": "text",
         "hoverlabel": {
          "bgcolor": "white",
          "font": {
           "family": "Rockwell",
           "size": 16
          }
         },
         "line": {
          "color": "black"
         },
         "mode": "lines",
         "name": "Wire Connection",
         "showlegend": false,
         "text": "C35 -> Th3",
         "type": "scatter",
         "x": [
          49.904168390089396,
          79.32189834166
         ],
         "y": [
          10.677999399370886,
          16.8497369129662
         ]
        },
        {
         "hoverinfo": "text",
         "hoverlabel": {
          "bgcolor": "white",
          "font": {
           "family": "Rockwell",
           "size": 16
          }
         },
         "line": {
          "color": "black"
         },
         "mode": "lines",
         "name": "Wire Connection",
         "showlegend": false,
         "text": "C36 -> Th1",
         "type": "scatter",
         "x": [
          91.3212806989643,
          92.20903285568244
         ],
         "y": [
          36.4915960886285,
          47.14058099659941
         ]
        },
        {
         "hoverinfo": "text",
         "hoverlabel": {
          "bgcolor": "white",
          "font": {
           "family": "Rockwell",
           "size": 16
          }
         },
         "line": {
          "color": "black"
         },
         "mode": "lines",
         "name": "Wire Connection",
         "showlegend": false,
         "text": "C37 -> Th2",
         "type": "scatter",
         "x": [
          22.658787689942837,
          39.96373789383739
         ],
         "y": [
          87.24318623454285,
          93.66732654658269
         ]
        },
        {
         "hoverinfo": "text",
         "hoverlabel": {
          "bgcolor": "white",
          "font": {
           "family": "Rockwell",
           "size": 16
          }
         },
         "line": {
          "color": "black"
         },
         "mode": "lines",
         "name": "Wire Connection",
         "showlegend": false,
         "text": "C38 -> Th0",
         "type": "scatter",
         "x": [
          13.635835175923795,
          16.32473082533196
         ],
         "y": [
          23.638016015282027,
          22.29206708272511
         ]
        },
        {
         "hoverinfo": "text",
         "hoverlabel": {
          "bgcolor": "white",
          "font": {
           "family": "Rockwell",
           "size": 16
          }
         },
         "line": {
          "color": "black"
         },
         "mode": "lines",
         "name": "Wire Connection",
         "showlegend": false,
         "text": "C39 -> Th7",
         "type": "scatter",
         "x": [
          59.53992453523792,
          64.4861517072137
         ],
         "y": [
          56.3922609078715,
          65.78900948371631
         ]
        },
        {
         "hoverinfo": "text",
         "hoverlabel": {
          "bgcolor": "white",
          "font": {
           "family": "Rockwell",
           "size": 16
          }
         },
         "line": {
          "color": "black"
         },
         "mode": "lines",
         "name": "Wire Connection",
         "showlegend": false,
         "text": "C40 -> Th6",
         "type": "scatter",
         "x": [
          95.89347319832972,
          90.46084951811883
         ],
         "y": [
          45.32393332235999,
          92.02678498890222
         ]
        },
        {
         "hoverinfo": "text",
         "hoverlabel": {
          "bgcolor": "white",
          "font": {
           "family": "Rockwell",
           "size": 16
          }
         },
         "line": {
          "color": "black"
         },
         "mode": "lines",
         "name": "Wire Connection",
         "showlegend": false,
         "text": "C41 -> Th4",
         "type": "scatter",
         "x": [
          12.895807457854048,
          10.56935439159571
         ],
         "y": [
          76.056767676739,
          80.91594296734888
         ]
        },
        {
         "hoverinfo": "text",
         "hoverlabel": {
          "bgcolor": "white",
          "font": {
           "family": "Rockwell",
           "size": 16
          }
         },
         "line": {
          "color": "black"
         },
         "mode": "lines",
         "name": "Wire Connection",
         "showlegend": false,
         "text": "C42 -> Th0",
         "type": "scatter",
         "x": [
          20.163407511411524,
          16.32473082533196
         ],
         "y": [
          17.57298632131816,
          22.29206708272511
         ]
        },
        {
         "hoverinfo": "text",
         "hoverlabel": {
          "bgcolor": "white",
          "font": {
           "family": "Rockwell",
           "size": 16
          }
         },
         "line": {
          "color": "black"
         },
         "mode": "lines",
         "name": "Wire Connection",
         "showlegend": false,
         "text": "C43 -> Th5",
         "type": "scatter",
         "x": [
          43.71180126508111,
          31.671064940534162
         ],
         "y": [
          34.02608028478126,
          63.71793713299608
         ]
        },
        {
         "hoverinfo": "text",
         "hoverlabel": {
          "bgcolor": "white",
          "font": {
           "family": "Rockwell",
           "size": 16
          }
         },
         "line": {
          "color": "black"
         },
         "mode": "lines",
         "name": "Wire Connection",
         "showlegend": false,
         "text": "C44 -> Th1",
         "type": "scatter",
         "x": [
          96.72531085605694,
          92.20903285568244
         ],
         "y": [
          14.302607708757154,
          47.14058099659941
         ]
        },
        {
         "hoverinfo": "text",
         "hoverlabel": {
          "bgcolor": "white",
          "font": {
           "family": "Rockwell",
           "size": 16
          }
         },
         "line": {
          "color": "black"
         },
         "mode": "lines",
         "name": "Wire Connection",
         "showlegend": false,
         "text": "C45 -> Th3",
         "type": "scatter",
         "x": [
          84.4558532806118,
          79.32189834166
         ],
         "y": [
          66.94061399806628,
          16.8497369129662
         ]
        },
        {
         "hoverinfo": "text",
         "hoverlabel": {
          "bgcolor": "white",
          "font": {
           "family": "Rockwell",
           "size": 16
          }
         },
         "line": {
          "color": "black"
         },
         "mode": "lines",
         "name": "Wire Connection",
         "showlegend": false,
         "text": "C46 -> Th0",
         "type": "scatter",
         "x": [
          10.930490807954563,
          16.32473082533196
         ],
         "y": [
          8.8253540029274,
          22.29206708272511
         ]
        },
        {
         "hoverinfo": "text",
         "hoverlabel": {
          "bgcolor": "white",
          "font": {
           "family": "Rockwell",
           "size": 16
          }
         },
         "line": {
          "color": "black"
         },
         "mode": "lines",
         "name": "Wire Connection",
         "showlegend": false,
         "text": "C47 -> Th1",
         "type": "scatter",
         "x": [
          96.64620412773903,
          92.20903285568244
         ],
         "y": [
          19.42974852130065,
          47.14058099659941
         ]
        },
        {
         "hoverinfo": "text",
         "hoverlabel": {
          "bgcolor": "white",
          "font": {
           "family": "Rockwell",
           "size": 16
          }
         },
         "line": {
          "color": "black"
         },
         "mode": "lines",
         "name": "Wire Connection",
         "showlegend": false,
         "text": "C48 -> Th0",
         "type": "scatter",
         "x": [
          8.190006001834515,
          16.32473082533196
         ],
         "y": [
          26.938469527986364,
          22.29206708272511
         ]
        },
        {
         "hoverinfo": "text",
         "hoverlabel": {
          "bgcolor": "white",
          "font": {
           "family": "Rockwell",
           "size": 16
          }
         },
         "line": {
          "color": "black"
         },
         "mode": "lines",
         "name": "Wire Connection",
         "showlegend": false,
         "text": "C49 -> Th7",
         "type": "scatter",
         "x": [
          65.01305180131334,
          64.4861517072137
         ],
         "y": [
          54.67772453446605,
          65.78900948371631
         ]
        },
        {
         "hoverinfo": "text",
         "marker": {
          "color": "red",
          "size": 10
         },
         "mode": "markers+text",
         "text": [
          "C0"
         ],
         "textposition": "top center",
         "type": "scatter",
         "x": [
          77.77024105738202
         ],
         "y": [
          23.75412200349123
         ]
        },
        {
         "hoverinfo": "text",
         "marker": {
          "color": "red",
          "size": 10
         },
         "mode": "markers+text",
         "text": [
          "C1"
         ],
         "textposition": "top center",
         "type": "scatter",
         "x": [
          82.42785326613685
         ],
         "y": [
          96.57491980429998
         ]
        },
        {
         "hoverinfo": "text",
         "marker": {
          "color": "red",
          "size": 10
         },
         "mode": "markers+text",
         "text": [
          "C2"
         ],
         "textposition": "top center",
         "type": "scatter",
         "x": [
          97.26011139048933
         ],
         "y": [
          45.34492474173122
         ]
        },
        {
         "hoverinfo": "text",
         "marker": {
          "color": "red",
          "size": 10
         },
         "mode": "markers+text",
         "text": [
          "C3"
         ],
         "textposition": "top center",
         "type": "scatter",
         "x": [
          60.90424627612779
         ],
         "y": [
          77.55265146048467
         ]
        },
        {
         "hoverinfo": "text",
         "marker": {
          "color": "red",
          "size": 10
         },
         "mode": "markers+text",
         "text": [
          "C4"
         ],
         "textposition": "top center",
         "type": "scatter",
         "x": [
          64.16133447590691
         ],
         "y": [
          72.20182295169472
         ]
        },
        {
         "hoverinfo": "text",
         "marker": {
          "color": "red",
          "size": 10
         },
         "mode": "markers+text",
         "text": [
          "C5"
         ],
         "textposition": "top center",
         "type": "scatter",
         "x": [
          3.5036524101437316
         ],
         "y": [
          29.84494708891794
         ]
        },
        {
         "hoverinfo": "text",
         "marker": {
          "color": "red",
          "size": 10
         },
         "mode": "markers+text",
         "text": [
          "C6"
         ],
         "textposition": "top center",
         "type": "scatter",
         "x": [
          5.851249188207475
         ],
         "y": [
          85.70609425871989
         ]
        },
        {
         "hoverinfo": "text",
         "marker": {
          "color": "red",
          "size": 10
         },
         "mode": "markers+text",
         "text": [
          "C7"
         ],
         "textposition": "top center",
         "type": "scatter",
         "x": [
          37.28540278748075
         ],
         "y": [
          67.9847951578097
         ]
        },
        {
         "hoverinfo": "text",
         "marker": {
          "color": "red",
          "size": 10
         },
         "mode": "markers+text",
         "text": [
          "C8"
         ],
         "textposition": "top center",
         "type": "scatter",
         "x": [
          25.62799493266301
         ],
         "y": [
          34.758121515249194
         ]
        },
        {
         "hoverinfo": "text",
         "marker": {
          "color": "red",
          "size": 10
         },
         "mode": "markers+text",
         "text": [
          "C9"
         ],
         "textposition": "top center",
         "type": "scatter",
         "x": [
          0.9412770080969413
         ],
         "y": [
          35.83337827049697
         ]
        },
        {
         "hoverinfo": "text",
         "marker": {
          "color": "red",
          "size": 10
         },
         "mode": "markers+text",
         "text": [
          "C10"
         ],
         "textposition": "top center",
         "type": "scatter",
         "x": [
          94.90941816782103
         ],
         "y": [
          21.789900913168893
         ]
        },
        {
         "hoverinfo": "text",
         "marker": {
          "color": "red",
          "size": 10
         },
         "mode": "markers+text",
         "text": [
          "C11"
         ],
         "textposition": "top center",
         "type": "scatter",
         "x": [
          31.93913663803646
         ],
         "y": [
          91.77723860005874
         ]
        },
        {
         "hoverinfo": "text",
         "marker": {
          "color": "red",
          "size": 10
         },
         "mode": "markers+text",
         "text": [
          "C12"
         ],
         "textposition": "top center",
         "type": "scatter",
         "x": [
          3.190366643989473
         ],
         "y": [
          6.508453704251449
         ]
        },
        {
         "hoverinfo": "text",
         "marker": {
          "color": "red",
          "size": 10
         },
         "mode": "markers+text",
         "text": [
          "C13"
         ],
         "textposition": "top center",
         "type": "scatter",
         "x": [
          62.982899910782294
         ],
         "y": [
          87.38134432795387
         ]
        },
        {
         "hoverinfo": "text",
         "marker": {
          "color": "red",
          "size": 10
         },
         "mode": "markers+text",
         "text": [
          "C14"
         ],
         "textposition": "top center",
         "type": "scatter",
         "x": [
          0.8715732303784862
         ],
         "y": [
          74.65772369939376
         ]
        },
        {
         "hoverinfo": "text",
         "marker": {
          "color": "red",
          "size": 10
         },
         "mode": "markers+text",
         "text": [
          "C15"
         ],
         "textposition": "top center",
         "type": "scatter",
         "x": [
          81.28411710026235
         ],
         "y": [
          7.571744617226672
         ]
        },
        {
         "hoverinfo": "text",
         "marker": {
          "color": "red",
          "size": 10
         },
         "mode": "markers+text",
         "text": [
          "C16"
         ],
         "textposition": "top center",
         "type": "scatter",
         "x": [
          65.64553345969578
         ],
         "y": [
          50.92622000835182
         ]
        },
        {
         "hoverinfo": "text",
         "marker": {
          "color": "red",
          "size": 10
         },
         "mode": "markers+text",
         "text": [
          "C17"
         ],
         "textposition": "top center",
         "type": "scatter",
         "x": [
          47.988339149638314
         ],
         "y": [
          95.55741449310663
         ]
        },
        {
         "hoverinfo": "text",
         "marker": {
          "color": "red",
          "size": 10
         },
         "mode": "markers+text",
         "text": [
          "C18"
         ],
         "textposition": "top center",
         "type": "scatter",
         "x": [
          0.00120335694850926
         ],
         "y": [
          24.697870099191633
         ]
        },
        {
         "hoverinfo": "text",
         "marker": {
          "color": "red",
          "size": 10
         },
         "mode": "markers+text",
         "text": [
          "C19"
         ],
         "textposition": "top center",
         "type": "scatter",
         "x": [
          71.22326779115835
         ],
         "y": [
          32.45820497867131
         ]
        },
        {
         "hoverinfo": "text",
         "marker": {
          "color": "red",
          "size": 10
         },
         "mode": "markers+text",
         "text": [
          "C20"
         ],
         "textposition": "top center",
         "type": "scatter",
         "x": [
          27.699635638380947
         ],
         "y": [
          69.54454525534746
         ]
        },
        {
         "hoverinfo": "text",
         "marker": {
          "color": "red",
          "size": 10
         },
         "mode": "markers+text",
         "text": [
          "C21"
         ],
         "textposition": "top center",
         "type": "scatter",
         "x": [
          91.85517481459487
         ],
         "y": [
          24.44757021979903
         ]
        },
        {
         "hoverinfo": "text",
         "marker": {
          "color": "red",
          "size": 10
         },
         "mode": "markers+text",
         "text": [
          "C22"
         ],
         "textposition": "top center",
         "type": "scatter",
         "x": [
          45.80858172767637
         ],
         "y": [
          25.299268282150646
         ]
        },
        {
         "hoverinfo": "text",
         "marker": {
          "color": "red",
          "size": 10
         },
         "mode": "markers+text",
         "text": [
          "C23"
         ],
         "textposition": "top center",
         "type": "scatter",
         "x": [
          37.93332914830662
         ],
         "y": [
          60.4538828631711
         ]
        },
        {
         "hoverinfo": "text",
         "marker": {
          "color": "red",
          "size": 10
         },
         "mode": "markers+text",
         "text": [
          "C24"
         ],
         "textposition": "top center",
         "type": "scatter",
         "x": [
          77.2378759680558
         ],
         "y": [
          6.79174967944145
         ]
        },
        {
         "hoverinfo": "text",
         "marker": {
          "color": "red",
          "size": 10
         },
         "mode": "markers+text",
         "text": [
          "C25"
         ],
         "textposition": "top center",
         "type": "scatter",
         "x": [
          68.60850791873135
         ],
         "y": [
          54.826009739582524
         ]
        },
        {
         "hoverinfo": "text",
         "marker": {
          "color": "red",
          "size": 10
         },
         "mode": "markers+text",
         "text": [
          "C26"
         ],
         "textposition": "top center",
         "type": "scatter",
         "x": [
          13.798605275825725
         ],
         "y": [
          9.875321920491842
         ]
        },
        {
         "hoverinfo": "text",
         "marker": {
          "color": "red",
          "size": 10
         },
         "mode": "markers+text",
         "text": [
          "C27"
         ],
         "textposition": "top center",
         "type": "scatter",
         "x": [
          24.555910532465564
         ],
         "y": [
          15.17866625844726
         ]
        },
        {
         "hoverinfo": "text",
         "marker": {
          "color": "red",
          "size": 10
         },
         "mode": "markers+text",
         "text": [
          "C28"
         ],
         "textposition": "top center",
         "type": "scatter",
         "x": [
          92.59944794902178
         ],
         "y": [
          68.0105015604642
         ]
        },
        {
         "hoverinfo": "text",
         "marker": {
          "color": "red",
          "size": 10
         },
         "mode": "markers+text",
         "text": [
          "C29"
         ],
         "textposition": "top center",
         "type": "scatter",
         "x": [
          23.76589218796833
         ],
         "y": [
          56.88852525565604
         ]
        },
        {
         "hoverinfo": "text",
         "marker": {
          "color": "red",
          "size": 10
         },
         "mode": "markers+text",
         "text": [
          "C30"
         ],
         "textposition": "top center",
         "type": "scatter",
         "x": [
          55.663205143440265
         ],
         "y": [
          7.273721088434781
         ]
        },
        {
         "hoverinfo": "text",
         "marker": {
          "color": "red",
          "size": 10
         },
         "mode": "markers+text",
         "text": [
          "C31"
         ],
         "textposition": "top center",
         "type": "scatter",
         "x": [
          83.97085104160709
         ],
         "y": [
          40.53194926981314
         ]
        },
        {
         "hoverinfo": "text",
         "marker": {
          "color": "red",
          "size": 10
         },
         "mode": "markers+text",
         "text": [
          "C32"
         ],
         "textposition": "top center",
         "type": "scatter",
         "x": [
          14.48709890463251
         ],
         "y": [
          19.092005866659367
         ]
        },
        {
         "hoverinfo": "text",
         "marker": {
          "color": "red",
          "size": 10
         },
         "mode": "markers+text",
         "text": [
          "C33"
         ],
         "textposition": "top center",
         "type": "scatter",
         "x": [
          49.064013706516086
         ],
         "y": [
          71.20243742497533
         ]
        },
        {
         "hoverinfo": "text",
         "marker": {
          "color": "red",
          "size": 10
         },
         "mode": "markers+text",
         "text": [
          "C34"
         ],
         "textposition": "top center",
         "type": "scatter",
         "x": [
          98.4938457701008
         ],
         "y": [
          87.47865017350445
         ]
        },
        {
         "hoverinfo": "text",
         "marker": {
          "color": "red",
          "size": 10
         },
         "mode": "markers+text",
         "text": [
          "C35"
         ],
         "textposition": "top center",
         "type": "scatter",
         "x": [
          49.904168390089396
         ],
         "y": [
          10.677999399370886
         ]
        },
        {
         "hoverinfo": "text",
         "marker": {
          "color": "red",
          "size": 10
         },
         "mode": "markers+text",
         "text": [
          "C36"
         ],
         "textposition": "top center",
         "type": "scatter",
         "x": [
          91.3212806989643
         ],
         "y": [
          36.4915960886285
         ]
        },
        {
         "hoverinfo": "text",
         "marker": {
          "color": "red",
          "size": 10
         },
         "mode": "markers+text",
         "text": [
          "C37"
         ],
         "textposition": "top center",
         "type": "scatter",
         "x": [
          22.658787689942837
         ],
         "y": [
          87.24318623454285
         ]
        },
        {
         "hoverinfo": "text",
         "marker": {
          "color": "red",
          "size": 10
         },
         "mode": "markers+text",
         "text": [
          "C38"
         ],
         "textposition": "top center",
         "type": "scatter",
         "x": [
          13.635835175923795
         ],
         "y": [
          23.638016015282027
         ]
        },
        {
         "hoverinfo": "text",
         "marker": {
          "color": "red",
          "size": 10
         },
         "mode": "markers+text",
         "text": [
          "C39"
         ],
         "textposition": "top center",
         "type": "scatter",
         "x": [
          59.53992453523792
         ],
         "y": [
          56.3922609078715
         ]
        },
        {
         "hoverinfo": "text",
         "marker": {
          "color": "red",
          "size": 10
         },
         "mode": "markers+text",
         "text": [
          "C40"
         ],
         "textposition": "top center",
         "type": "scatter",
         "x": [
          95.89347319832972
         ],
         "y": [
          45.32393332235999
         ]
        },
        {
         "hoverinfo": "text",
         "marker": {
          "color": "red",
          "size": 10
         },
         "mode": "markers+text",
         "text": [
          "C41"
         ],
         "textposition": "top center",
         "type": "scatter",
         "x": [
          12.895807457854048
         ],
         "y": [
          76.056767676739
         ]
        },
        {
         "hoverinfo": "text",
         "marker": {
          "color": "red",
          "size": 10
         },
         "mode": "markers+text",
         "text": [
          "C42"
         ],
         "textposition": "top center",
         "type": "scatter",
         "x": [
          20.163407511411524
         ],
         "y": [
          17.57298632131816
         ]
        },
        {
         "hoverinfo": "text",
         "marker": {
          "color": "red",
          "size": 10
         },
         "mode": "markers+text",
         "text": [
          "C43"
         ],
         "textposition": "top center",
         "type": "scatter",
         "x": [
          43.71180126508111
         ],
         "y": [
          34.02608028478126
         ]
        },
        {
         "hoverinfo": "text",
         "marker": {
          "color": "red",
          "size": 10
         },
         "mode": "markers+text",
         "text": [
          "C44"
         ],
         "textposition": "top center",
         "type": "scatter",
         "x": [
          96.72531085605694
         ],
         "y": [
          14.302607708757154
         ]
        },
        {
         "hoverinfo": "text",
         "marker": {
          "color": "red",
          "size": 10
         },
         "mode": "markers+text",
         "text": [
          "C45"
         ],
         "textposition": "top center",
         "type": "scatter",
         "x": [
          84.4558532806118
         ],
         "y": [
          66.94061399806628
         ]
        },
        {
         "hoverinfo": "text",
         "marker": {
          "color": "red",
          "size": 10
         },
         "mode": "markers+text",
         "text": [
          "C46"
         ],
         "textposition": "top center",
         "type": "scatter",
         "x": [
          10.930490807954563
         ],
         "y": [
          8.8253540029274
         ]
        },
        {
         "hoverinfo": "text",
         "marker": {
          "color": "red",
          "size": 10
         },
         "mode": "markers+text",
         "text": [
          "C47"
         ],
         "textposition": "top center",
         "type": "scatter",
         "x": [
          96.64620412773903
         ],
         "y": [
          19.42974852130065
         ]
        },
        {
         "hoverinfo": "text",
         "marker": {
          "color": "red",
          "size": 10
         },
         "mode": "markers+text",
         "text": [
          "C48"
         ],
         "textposition": "top center",
         "type": "scatter",
         "x": [
          8.190006001834515
         ],
         "y": [
          26.938469527986364
         ]
        },
        {
         "hoverinfo": "text",
         "marker": {
          "color": "red",
          "size": 10
         },
         "mode": "markers+text",
         "text": [
          "C49"
         ],
         "textposition": "top center",
         "type": "scatter",
         "x": [
          65.01305180131334
         ],
         "y": [
          54.67772453446605
         ]
        },
        {
         "hoverinfo": "text",
         "marker": {
          "color": "blue",
          "size": 10
         },
         "mode": "markers+text",
         "text": [
          "Th0"
         ],
         "textposition": "top center",
         "type": "scatter",
         "x": [
          16.32473082533196
         ],
         "y": [
          22.29206708272511
         ]
        },
        {
         "hoverinfo": "text",
         "marker": {
          "color": "blue",
          "size": 10
         },
         "mode": "markers+text",
         "text": [
          "Th1"
         ],
         "textposition": "top center",
         "type": "scatter",
         "x": [
          92.20903285568244
         ],
         "y": [
          47.14058099659941
         ]
        },
        {
         "hoverinfo": "text",
         "marker": {
          "color": "blue",
          "size": 10
         },
         "mode": "markers+text",
         "text": [
          "Th2"
         ],
         "textposition": "top center",
         "type": "scatter",
         "x": [
          39.96373789383739
         ],
         "y": [
          93.66732654658269
         ]
        },
        {
         "hoverinfo": "text",
         "marker": {
          "color": "blue",
          "size": 10
         },
         "mode": "markers+text",
         "text": [
          "Th3"
         ],
         "textposition": "top center",
         "type": "scatter",
         "x": [
          79.32189834166
         ],
         "y": [
          16.8497369129662
         ]
        },
        {
         "hoverinfo": "text",
         "marker": {
          "color": "blue",
          "size": 10
         },
         "mode": "markers+text",
         "text": [
          "Th4"
         ],
         "textposition": "top center",
         "type": "scatter",
         "x": [
          10.56935439159571
         ],
         "y": [
          80.91594296734888
         ]
        },
        {
         "hoverinfo": "text",
         "marker": {
          "color": "blue",
          "size": 10
         },
         "mode": "markers+text",
         "text": [
          "Th5"
         ],
         "textposition": "top center",
         "type": "scatter",
         "x": [
          31.671064940534162
         ],
         "y": [
          63.71793713299608
         ]
        },
        {
         "hoverinfo": "text",
         "marker": {
          "color": "blue",
          "size": 10
         },
         "mode": "markers+text",
         "text": [
          "Th6"
         ],
         "textposition": "top center",
         "type": "scatter",
         "x": [
          90.46084951811883
         ],
         "y": [
          92.02678498890222
         ]
        },
        {
         "hoverinfo": "text",
         "marker": {
          "color": "blue",
          "size": 10
         },
         "mode": "markers+text",
         "text": [
          "Th7"
         ],
         "textposition": "top center",
         "type": "scatter",
         "x": [
          64.4861517072137
         ],
         "y": [
          65.78900948371631
         ]
        }
       ],
       "layout": {
        "height": 800,
        "plot_bgcolor": "lightgreen",
        "showlegend": false,
        "template": {
         "data": {
          "bar": [
           {
            "error_x": {
             "color": "#2a3f5f"
            },
            "error_y": {
             "color": "#2a3f5f"
            },
            "marker": {
             "line": {
              "color": "#E5ECF6",
              "width": 0.5
             },
             "pattern": {
              "fillmode": "overlay",
              "size": 10,
              "solidity": 0.2
             }
            },
            "type": "bar"
           }
          ],
          "barpolar": [
           {
            "marker": {
             "line": {
              "color": "#E5ECF6",
              "width": 0.5
             },
             "pattern": {
              "fillmode": "overlay",
              "size": 10,
              "solidity": 0.2
             }
            },
            "type": "barpolar"
           }
          ],
          "carpet": [
           {
            "aaxis": {
             "endlinecolor": "#2a3f5f",
             "gridcolor": "white",
             "linecolor": "white",
             "minorgridcolor": "white",
             "startlinecolor": "#2a3f5f"
            },
            "baxis": {
             "endlinecolor": "#2a3f5f",
             "gridcolor": "white",
             "linecolor": "white",
             "minorgridcolor": "white",
             "startlinecolor": "#2a3f5f"
            },
            "type": "carpet"
           }
          ],
          "choropleth": [
           {
            "colorbar": {
             "outlinewidth": 0,
             "ticks": ""
            },
            "type": "choropleth"
           }
          ],
          "contour": [
           {
            "colorbar": {
             "outlinewidth": 0,
             "ticks": ""
            },
            "colorscale": [
             [
              0,
              "#0d0887"
             ],
             [
              0.1111111111111111,
              "#46039f"
             ],
             [
              0.2222222222222222,
              "#7201a8"
             ],
             [
              0.3333333333333333,
              "#9c179e"
             ],
             [
              0.4444444444444444,
              "#bd3786"
             ],
             [
              0.5555555555555556,
              "#d8576b"
             ],
             [
              0.6666666666666666,
              "#ed7953"
             ],
             [
              0.7777777777777778,
              "#fb9f3a"
             ],
             [
              0.8888888888888888,
              "#fdca26"
             ],
             [
              1,
              "#f0f921"
             ]
            ],
            "type": "contour"
           }
          ],
          "contourcarpet": [
           {
            "colorbar": {
             "outlinewidth": 0,
             "ticks": ""
            },
            "type": "contourcarpet"
           }
          ],
          "heatmap": [
           {
            "colorbar": {
             "outlinewidth": 0,
             "ticks": ""
            },
            "colorscale": [
             [
              0,
              "#0d0887"
             ],
             [
              0.1111111111111111,
              "#46039f"
             ],
             [
              0.2222222222222222,
              "#7201a8"
             ],
             [
              0.3333333333333333,
              "#9c179e"
             ],
             [
              0.4444444444444444,
              "#bd3786"
             ],
             [
              0.5555555555555556,
              "#d8576b"
             ],
             [
              0.6666666666666666,
              "#ed7953"
             ],
             [
              0.7777777777777778,
              "#fb9f3a"
             ],
             [
              0.8888888888888888,
              "#fdca26"
             ],
             [
              1,
              "#f0f921"
             ]
            ],
            "type": "heatmap"
           }
          ],
          "heatmapgl": [
           {
            "colorbar": {
             "outlinewidth": 0,
             "ticks": ""
            },
            "colorscale": [
             [
              0,
              "#0d0887"
             ],
             [
              0.1111111111111111,
              "#46039f"
             ],
             [
              0.2222222222222222,
              "#7201a8"
             ],
             [
              0.3333333333333333,
              "#9c179e"
             ],
             [
              0.4444444444444444,
              "#bd3786"
             ],
             [
              0.5555555555555556,
              "#d8576b"
             ],
             [
              0.6666666666666666,
              "#ed7953"
             ],
             [
              0.7777777777777778,
              "#fb9f3a"
             ],
             [
              0.8888888888888888,
              "#fdca26"
             ],
             [
              1,
              "#f0f921"
             ]
            ],
            "type": "heatmapgl"
           }
          ],
          "histogram": [
           {
            "marker": {
             "pattern": {
              "fillmode": "overlay",
              "size": 10,
              "solidity": 0.2
             }
            },
            "type": "histogram"
           }
          ],
          "histogram2d": [
           {
            "colorbar": {
             "outlinewidth": 0,
             "ticks": ""
            },
            "colorscale": [
             [
              0,
              "#0d0887"
             ],
             [
              0.1111111111111111,
              "#46039f"
             ],
             [
              0.2222222222222222,
              "#7201a8"
             ],
             [
              0.3333333333333333,
              "#9c179e"
             ],
             [
              0.4444444444444444,
              "#bd3786"
             ],
             [
              0.5555555555555556,
              "#d8576b"
             ],
             [
              0.6666666666666666,
              "#ed7953"
             ],
             [
              0.7777777777777778,
              "#fb9f3a"
             ],
             [
              0.8888888888888888,
              "#fdca26"
             ],
             [
              1,
              "#f0f921"
             ]
            ],
            "type": "histogram2d"
           }
          ],
          "histogram2dcontour": [
           {
            "colorbar": {
             "outlinewidth": 0,
             "ticks": ""
            },
            "colorscale": [
             [
              0,
              "#0d0887"
             ],
             [
              0.1111111111111111,
              "#46039f"
             ],
             [
              0.2222222222222222,
              "#7201a8"
             ],
             [
              0.3333333333333333,
              "#9c179e"
             ],
             [
              0.4444444444444444,
              "#bd3786"
             ],
             [
              0.5555555555555556,
              "#d8576b"
             ],
             [
              0.6666666666666666,
              "#ed7953"
             ],
             [
              0.7777777777777778,
              "#fb9f3a"
             ],
             [
              0.8888888888888888,
              "#fdca26"
             ],
             [
              1,
              "#f0f921"
             ]
            ],
            "type": "histogram2dcontour"
           }
          ],
          "mesh3d": [
           {
            "colorbar": {
             "outlinewidth": 0,
             "ticks": ""
            },
            "type": "mesh3d"
           }
          ],
          "parcoords": [
           {
            "line": {
             "colorbar": {
              "outlinewidth": 0,
              "ticks": ""
             }
            },
            "type": "parcoords"
           }
          ],
          "pie": [
           {
            "automargin": true,
            "type": "pie"
           }
          ],
          "scatter": [
           {
            "fillpattern": {
             "fillmode": "overlay",
             "size": 10,
             "solidity": 0.2
            },
            "type": "scatter"
           }
          ],
          "scatter3d": [
           {
            "line": {
             "colorbar": {
              "outlinewidth": 0,
              "ticks": ""
             }
            },
            "marker": {
             "colorbar": {
              "outlinewidth": 0,
              "ticks": ""
             }
            },
            "type": "scatter3d"
           }
          ],
          "scattercarpet": [
           {
            "marker": {
             "colorbar": {
              "outlinewidth": 0,
              "ticks": ""
             }
            },
            "type": "scattercarpet"
           }
          ],
          "scattergeo": [
           {
            "marker": {
             "colorbar": {
              "outlinewidth": 0,
              "ticks": ""
             }
            },
            "type": "scattergeo"
           }
          ],
          "scattergl": [
           {
            "marker": {
             "colorbar": {
              "outlinewidth": 0,
              "ticks": ""
             }
            },
            "type": "scattergl"
           }
          ],
          "scattermapbox": [
           {
            "marker": {
             "colorbar": {
              "outlinewidth": 0,
              "ticks": ""
             }
            },
            "type": "scattermapbox"
           }
          ],
          "scatterpolar": [
           {
            "marker": {
             "colorbar": {
              "outlinewidth": 0,
              "ticks": ""
             }
            },
            "type": "scatterpolar"
           }
          ],
          "scatterpolargl": [
           {
            "marker": {
             "colorbar": {
              "outlinewidth": 0,
              "ticks": ""
             }
            },
            "type": "scatterpolargl"
           }
          ],
          "scatterternary": [
           {
            "marker": {
             "colorbar": {
              "outlinewidth": 0,
              "ticks": ""
             }
            },
            "type": "scatterternary"
           }
          ],
          "surface": [
           {
            "colorbar": {
             "outlinewidth": 0,
             "ticks": ""
            },
            "colorscale": [
             [
              0,
              "#0d0887"
             ],
             [
              0.1111111111111111,
              "#46039f"
             ],
             [
              0.2222222222222222,
              "#7201a8"
             ],
             [
              0.3333333333333333,
              "#9c179e"
             ],
             [
              0.4444444444444444,
              "#bd3786"
             ],
             [
              0.5555555555555556,
              "#d8576b"
             ],
             [
              0.6666666666666666,
              "#ed7953"
             ],
             [
              0.7777777777777778,
              "#fb9f3a"
             ],
             [
              0.8888888888888888,
              "#fdca26"
             ],
             [
              1,
              "#f0f921"
             ]
            ],
            "type": "surface"
           }
          ],
          "table": [
           {
            "cells": {
             "fill": {
              "color": "#EBF0F8"
             },
             "line": {
              "color": "white"
             }
            },
            "header": {
             "fill": {
              "color": "#C8D4E3"
             },
             "line": {
              "color": "white"
             }
            },
            "type": "table"
           }
          ]
         },
         "layout": {
          "annotationdefaults": {
           "arrowcolor": "#2a3f5f",
           "arrowhead": 0,
           "arrowwidth": 1
          },
          "autotypenumbers": "strict",
          "coloraxis": {
           "colorbar": {
            "outlinewidth": 0,
            "ticks": ""
           }
          },
          "colorscale": {
           "diverging": [
            [
             0,
             "#8e0152"
            ],
            [
             0.1,
             "#c51b7d"
            ],
            [
             0.2,
             "#de77ae"
            ],
            [
             0.3,
             "#f1b6da"
            ],
            [
             0.4,
             "#fde0ef"
            ],
            [
             0.5,
             "#f7f7f7"
            ],
            [
             0.6,
             "#e6f5d0"
            ],
            [
             0.7,
             "#b8e186"
            ],
            [
             0.8,
             "#7fbc41"
            ],
            [
             0.9,
             "#4d9221"
            ],
            [
             1,
             "#276419"
            ]
           ],
           "sequential": [
            [
             0,
             "#0d0887"
            ],
            [
             0.1111111111111111,
             "#46039f"
            ],
            [
             0.2222222222222222,
             "#7201a8"
            ],
            [
             0.3333333333333333,
             "#9c179e"
            ],
            [
             0.4444444444444444,
             "#bd3786"
            ],
            [
             0.5555555555555556,
             "#d8576b"
            ],
            [
             0.6666666666666666,
             "#ed7953"
            ],
            [
             0.7777777777777778,
             "#fb9f3a"
            ],
            [
             0.8888888888888888,
             "#fdca26"
            ],
            [
             1,
             "#f0f921"
            ]
           ],
           "sequentialminus": [
            [
             0,
             "#0d0887"
            ],
            [
             0.1111111111111111,
             "#46039f"
            ],
            [
             0.2222222222222222,
             "#7201a8"
            ],
            [
             0.3333333333333333,
             "#9c179e"
            ],
            [
             0.4444444444444444,
             "#bd3786"
            ],
            [
             0.5555555555555556,
             "#d8576b"
            ],
            [
             0.6666666666666666,
             "#ed7953"
            ],
            [
             0.7777777777777778,
             "#fb9f3a"
            ],
            [
             0.8888888888888888,
             "#fdca26"
            ],
            [
             1,
             "#f0f921"
            ]
           ]
          },
          "colorway": [
           "#636efa",
           "#EF553B",
           "#00cc96",
           "#ab63fa",
           "#FFA15A",
           "#19d3f3",
           "#FF6692",
           "#B6E880",
           "#FF97FF",
           "#FECB52"
          ],
          "font": {
           "color": "#2a3f5f"
          },
          "geo": {
           "bgcolor": "white",
           "lakecolor": "white",
           "landcolor": "#E5ECF6",
           "showlakes": true,
           "showland": true,
           "subunitcolor": "white"
          },
          "hoverlabel": {
           "align": "left"
          },
          "hovermode": "closest",
          "mapbox": {
           "style": "light"
          },
          "paper_bgcolor": "white",
          "plot_bgcolor": "#E5ECF6",
          "polar": {
           "angularaxis": {
            "gridcolor": "white",
            "linecolor": "white",
            "ticks": ""
           },
           "bgcolor": "#E5ECF6",
           "radialaxis": {
            "gridcolor": "white",
            "linecolor": "white",
            "ticks": ""
           }
          },
          "scene": {
           "xaxis": {
            "backgroundcolor": "#E5ECF6",
            "gridcolor": "white",
            "gridwidth": 2,
            "linecolor": "white",
            "showbackground": true,
            "ticks": "",
            "zerolinecolor": "white"
           },
           "yaxis": {
            "backgroundcolor": "#E5ECF6",
            "gridcolor": "white",
            "gridwidth": 2,
            "linecolor": "white",
            "showbackground": true,
            "ticks": "",
            "zerolinecolor": "white"
           },
           "zaxis": {
            "backgroundcolor": "#E5ECF6",
            "gridcolor": "white",
            "gridwidth": 2,
            "linecolor": "white",
            "showbackground": true,
            "ticks": "",
            "zerolinecolor": "white"
           }
          },
          "shapedefaults": {
           "line": {
            "color": "#2a3f5f"
           }
          },
          "ternary": {
           "aaxis": {
            "gridcolor": "white",
            "linecolor": "white",
            "ticks": ""
           },
           "baxis": {
            "gridcolor": "white",
            "linecolor": "white",
            "ticks": ""
           },
           "bgcolor": "#E5ECF6",
           "caxis": {
            "gridcolor": "white",
            "linecolor": "white",
            "ticks": ""
           }
          },
          "title": {
           "x": 0.05
          },
          "xaxis": {
           "automargin": true,
           "gridcolor": "white",
           "linecolor": "white",
           "ticks": "",
           "title": {
            "standoff": 15
           },
           "zerolinecolor": "white",
           "zerolinewidth": 2
          },
          "yaxis": {
           "automargin": true,
           "gridcolor": "white",
           "linecolor": "white",
           "ticks": "",
           "title": {
            "standoff": 15
           },
           "zerolinecolor": "white",
           "zerolinewidth": 2
          }
         }
        },
        "title": {
         "text": "Circuits and Thermoelectrics"
        }
       }
      }
     },
     "metadata": {},
     "output_type": "display_data"
    }
   ],
   "source": [
    "distance_cost_template = graphMap.thermoelectric_generation_cost\n",
    "\n",
    "# Generate circuits for map\n",
    "\n",
    "electric_system_circuits_list: list[Circuit] = []\n",
    "for i in range(NO_CIRCUITS):\n",
    "    electric_system_circuits_list.append(Circuit(graphMap.circuits_nodes[i].id))\n",
    "\n",
    "# Generate Thermoelectric generation based in the nearest circuits\n",
    "mapper_circuit_with_thermoelectric = {}\n",
    "\n",
    "for c in electric_system_circuits_list:\n",
    "\n",
    "    filtered = [f for f in graphMap.thermoelectric_generation_cost if f[1] == c.id]\n",
    "    filtered = sorted(filtered, key=lambda x: x[2])\n",
    "    mapper_circuit_with_thermoelectric[c.id] = filtered[0][0]\n",
    "\n",
    "\n",
    "# Create edges for the plotly graph\n",
    "edges = []\n",
    "edges_labels = []\n",
    "for circuit, thermoelectric in mapper_circuit_with_thermoelectric.items():\n",
    "\n",
    "    circuitPos = [c.position for c in graphMap.circuits_nodes if c.id == circuit][0]\n",
    "    thermoelectricPos = [\n",
    "        t.position for t in graphMap.thermoelectrics_nodes if t.id == thermoelectric\n",
    "    ][0]\n",
    "\n",
    "    edges.append((circuitPos, thermoelectricPos))\n",
    "    edges_labels.append(f\"{circuit} -> {thermoelectric}\")\n",
    "\n",
    "\n",
    "# Create a plotly graph\n",
    "fig = go.Figure()\n",
    "\n",
    "# Add edges to the plotly graph\n",
    "for i, edge in enumerate(edges):\n",
    "    circuit, thermoelectric = edge\n",
    "    fig.add_trace(\n",
    "        go.Scatter(\n",
    "            x=[circuit[0], thermoelectric[0]],\n",
    "            y=[circuit[1], thermoelectric[1]],\n",
    "            mode=\"lines\",\n",
    "            line=dict(color=\"black\"),\n",
    "            name=\"Wire Connection\",\n",
    "            showlegend=False,\n",
    "            hoverinfo=\"text\",\n",
    "            text=edges_labels[i],\n",
    "            hoverlabel=dict(bgcolor=\"white\", font_size=16, font_family=\"Rockwell\"),\n",
    "        )\n",
    "    )\n",
    "\n",
    "# Add nodes to the plotly graph\n",
    "all_nodes = graphMap.circuits_nodes + graphMap.thermoelectrics_nodes\n",
    "for i, node in enumerate(all_nodes):\n",
    "    fig.add_trace(\n",
    "        go.Scatter(\n",
    "            x=[node.position[0]],\n",
    "            y=[node.position[1]],\n",
    "            mode=\"markers+text\",\n",
    "            marker=dict(\n",
    "                size=10, color=\"blue\" if i >= len(graphMap.circuits_nodes) else \"red\"\n",
    "            ),\n",
    "            text=[node.id],\n",
    "            textposition=\"top center\",\n",
    "            hoverinfo=\"text\",\n",
    "        )\n",
    "    )\n",
    "\n",
    "fig.update_layout(\n",
    "    showlegend=False,\n",
    "    title=\"Circuits and Thermoelectrics\",\n",
    "    height=800,\n",
    "    plot_bgcolor=\"lightgreen\",\n",
    ")\n",
    "\n",
    "fig.show()"
   ]
  },
  {
   "cell_type": "code",
   "execution_count": 5,
   "metadata": {},
   "outputs": [
    {
     "data": {
      "text/html": [
       "<div>\n",
       "<style scoped>\n",
       "    .dataframe tbody tr th:only-of-type {\n",
       "        vertical-align: middle;\n",
       "    }\n",
       "\n",
       "    .dataframe tbody tr th {\n",
       "        vertical-align: top;\n",
       "    }\n",
       "\n",
       "    .dataframe thead th {\n",
       "        text-align: right;\n",
       "    }\n",
       "</style>\n",
       "<table border=\"1\" class=\"dataframe\">\n",
       "  <thead>\n",
       "    <tr style=\"text-align: right;\">\n",
       "      <th></th>\n",
       "      <th>C0</th>\n",
       "      <th>C1</th>\n",
       "      <th>C2</th>\n",
       "      <th>C3</th>\n",
       "      <th>C4</th>\n",
       "      <th>C5</th>\n",
       "      <th>C6</th>\n",
       "      <th>C7</th>\n",
       "      <th>C8</th>\n",
       "      <th>C9</th>\n",
       "      <th>...</th>\n",
       "      <th>C40</th>\n",
       "      <th>C41</th>\n",
       "      <th>C42</th>\n",
       "      <th>C43</th>\n",
       "      <th>C44</th>\n",
       "      <th>C45</th>\n",
       "      <th>C46</th>\n",
       "      <th>C47</th>\n",
       "      <th>C48</th>\n",
       "      <th>C49</th>\n",
       "    </tr>\n",
       "  </thead>\n",
       "  <tbody>\n",
       "    <tr>\n",
       "      <th>Th0</th>\n",
       "      <td>0.004552</td>\n",
       "      <td>0.008274</td>\n",
       "      <td>0.008962</td>\n",
       "      <td>0.003300</td>\n",
       "      <td>0.003707</td>\n",
       "      <td>0.000352</td>\n",
       "      <td>0.001133</td>\n",
       "      <td>0.001885</td>\n",
       "      <td>0.000370</td>\n",
       "      <td>0.000494</td>\n",
       "      <td>...</td>\n",
       "      <td>0.008982</td>\n",
       "      <td>0.000929</td>\n",
       "      <td>0.000104</td>\n",
       "      <td>0.002405</td>\n",
       "      <td>0.006930</td>\n",
       "      <td>0.005746</td>\n",
       "      <td>0.000247</td>\n",
       "      <td>0.007013</td>\n",
       "      <td>0.000221</td>\n",
       "      <td>0.003826</td>\n",
       "    </tr>\n",
       "    <tr>\n",
       "      <th>Th1</th>\n",
       "      <td>0.002903</td>\n",
       "      <td>0.000986</td>\n",
       "      <td>0.001673</td>\n",
       "      <td>0.004331</td>\n",
       "      <td>0.003903</td>\n",
       "      <td>0.007742</td>\n",
       "      <td>0.008524</td>\n",
       "      <td>0.005691</td>\n",
       "      <td>0.007330</td>\n",
       "      <td>0.007885</td>\n",
       "      <td>...</td>\n",
       "      <td>0.001693</td>\n",
       "      <td>0.008320</td>\n",
       "      <td>0.007495</td>\n",
       "      <td>0.005363</td>\n",
       "      <td>0.000755</td>\n",
       "      <td>0.001785</td>\n",
       "      <td>0.007638</td>\n",
       "      <td>0.000664</td>\n",
       "      <td>0.007612</td>\n",
       "      <td>0.003653</td>\n",
       "    </tr>\n",
       "    <tr>\n",
       "      <th>Th2</th>\n",
       "      <td>0.003189</td>\n",
       "      <td>0.006912</td>\n",
       "      <td>0.007600</td>\n",
       "      <td>0.001938</td>\n",
       "      <td>0.002344</td>\n",
       "      <td>0.001763</td>\n",
       "      <td>0.002544</td>\n",
       "      <td>0.000523</td>\n",
       "      <td>0.001351</td>\n",
       "      <td>0.001905</td>\n",
       "      <td>...</td>\n",
       "      <td>0.007619</td>\n",
       "      <td>0.002340</td>\n",
       "      <td>0.001515</td>\n",
       "      <td>0.001042</td>\n",
       "      <td>0.005567</td>\n",
       "      <td>0.004384</td>\n",
       "      <td>0.001658</td>\n",
       "      <td>0.005650</td>\n",
       "      <td>0.001632</td>\n",
       "      <td>0.002463</td>\n",
       "    </tr>\n",
       "    <tr>\n",
       "      <th>Th3</th>\n",
       "      <td>0.000188</td>\n",
       "      <td>0.003911</td>\n",
       "      <td>0.004598</td>\n",
       "      <td>0.001436</td>\n",
       "      <td>0.001009</td>\n",
       "      <td>0.004848</td>\n",
       "      <td>0.005629</td>\n",
       "      <td>0.002796</td>\n",
       "      <td>0.004436</td>\n",
       "      <td>0.004990</td>\n",
       "      <td>...</td>\n",
       "      <td>0.004618</td>\n",
       "      <td>0.005426</td>\n",
       "      <td>0.004600</td>\n",
       "      <td>0.002469</td>\n",
       "      <td>0.002566</td>\n",
       "      <td>0.001382</td>\n",
       "      <td>0.004744</td>\n",
       "      <td>0.002649</td>\n",
       "      <td>0.004717</td>\n",
       "      <td>0.000759</td>\n",
       "    </tr>\n",
       "    <tr>\n",
       "      <th>Th4</th>\n",
       "      <td>0.005570</td>\n",
       "      <td>0.009293</td>\n",
       "      <td>0.009980</td>\n",
       "      <td>0.004319</td>\n",
       "      <td>0.004725</td>\n",
       "      <td>0.001090</td>\n",
       "      <td>0.000271</td>\n",
       "      <td>0.002904</td>\n",
       "      <td>0.001389</td>\n",
       "      <td>0.001024</td>\n",
       "      <td>...</td>\n",
       "      <td>0.010000</td>\n",
       "      <td>0.000110</td>\n",
       "      <td>0.001122</td>\n",
       "      <td>0.003423</td>\n",
       "      <td>0.007948</td>\n",
       "      <td>0.006765</td>\n",
       "      <td>0.001266</td>\n",
       "      <td>0.008031</td>\n",
       "      <td>0.001066</td>\n",
       "      <td>0.004844</td>\n",
       "    </tr>\n",
       "    <tr>\n",
       "      <th>Th5</th>\n",
       "      <td>0.002894</td>\n",
       "      <td>0.006617</td>\n",
       "      <td>0.007304</td>\n",
       "      <td>0.001642</td>\n",
       "      <td>0.002049</td>\n",
       "      <td>0.002402</td>\n",
       "      <td>0.003183</td>\n",
       "      <td>0.000350</td>\n",
       "      <td>0.001990</td>\n",
       "      <td>0.002544</td>\n",
       "      <td>...</td>\n",
       "      <td>0.007324</td>\n",
       "      <td>0.002979</td>\n",
       "      <td>0.002154</td>\n",
       "      <td>0.000747</td>\n",
       "      <td>0.005272</td>\n",
       "      <td>0.004088</td>\n",
       "      <td>0.002297</td>\n",
       "      <td>0.005355</td>\n",
       "      <td>0.002271</td>\n",
       "      <td>0.002168</td>\n",
       "    </tr>\n",
       "    <tr>\n",
       "      <th>Th6</th>\n",
       "      <td>0.003621</td>\n",
       "      <td>0.000175</td>\n",
       "      <td>0.000863</td>\n",
       "      <td>0.005048</td>\n",
       "      <td>0.004621</td>\n",
       "      <td>0.008460</td>\n",
       "      <td>0.009241</td>\n",
       "      <td>0.006408</td>\n",
       "      <td>0.008048</td>\n",
       "      <td>0.008603</td>\n",
       "      <td>...</td>\n",
       "      <td>0.000882</td>\n",
       "      <td>0.009038</td>\n",
       "      <td>0.008212</td>\n",
       "      <td>0.006081</td>\n",
       "      <td>0.001473</td>\n",
       "      <td>0.002502</td>\n",
       "      <td>0.008356</td>\n",
       "      <td>0.001381</td>\n",
       "      <td>0.008329</td>\n",
       "      <td>0.004371</td>\n",
       "    </tr>\n",
       "    <tr>\n",
       "      <th>Th7</th>\n",
       "      <td>0.000955</td>\n",
       "      <td>0.004677</td>\n",
       "      <td>0.005365</td>\n",
       "      <td>0.000537</td>\n",
       "      <td>0.000110</td>\n",
       "      <td>0.003949</td>\n",
       "      <td>0.004730</td>\n",
       "      <td>0.001897</td>\n",
       "      <td>0.003537</td>\n",
       "      <td>0.004091</td>\n",
       "      <td>...</td>\n",
       "      <td>0.005384</td>\n",
       "      <td>0.004527</td>\n",
       "      <td>0.003701</td>\n",
       "      <td>0.001570</td>\n",
       "      <td>0.003332</td>\n",
       "      <td>0.002149</td>\n",
       "      <td>0.003845</td>\n",
       "      <td>0.003415</td>\n",
       "      <td>0.003818</td>\n",
       "      <td>0.000229</td>\n",
       "    </tr>\n",
       "  </tbody>\n",
       "</table>\n",
       "<p>8 rows × 50 columns</p>\n",
       "</div>"
      ],
      "text/plain": [
       "           C0        C1        C2        C3        C4        C5        C6  \\\n",
       "Th0  0.004552  0.008274  0.008962  0.003300  0.003707  0.000352  0.001133   \n",
       "Th1  0.002903  0.000986  0.001673  0.004331  0.003903  0.007742  0.008524   \n",
       "Th2  0.003189  0.006912  0.007600  0.001938  0.002344  0.001763  0.002544   \n",
       "Th3  0.000188  0.003911  0.004598  0.001436  0.001009  0.004848  0.005629   \n",
       "Th4  0.005570  0.009293  0.009980  0.004319  0.004725  0.001090  0.000271   \n",
       "Th5  0.002894  0.006617  0.007304  0.001642  0.002049  0.002402  0.003183   \n",
       "Th6  0.003621  0.000175  0.000863  0.005048  0.004621  0.008460  0.009241   \n",
       "Th7  0.000955  0.004677  0.005365  0.000537  0.000110  0.003949  0.004730   \n",
       "\n",
       "           C7        C8        C9  ...       C40       C41       C42  \\\n",
       "Th0  0.001885  0.000370  0.000494  ...  0.008982  0.000929  0.000104   \n",
       "Th1  0.005691  0.007330  0.007885  ...  0.001693  0.008320  0.007495   \n",
       "Th2  0.000523  0.001351  0.001905  ...  0.007619  0.002340  0.001515   \n",
       "Th3  0.002796  0.004436  0.004990  ...  0.004618  0.005426  0.004600   \n",
       "Th4  0.002904  0.001389  0.001024  ...  0.010000  0.000110  0.001122   \n",
       "Th5  0.000350  0.001990  0.002544  ...  0.007324  0.002979  0.002154   \n",
       "Th6  0.006408  0.008048  0.008603  ...  0.000882  0.009038  0.008212   \n",
       "Th7  0.001897  0.003537  0.004091  ...  0.005384  0.004527  0.003701   \n",
       "\n",
       "          C43       C44       C45       C46       C47       C48       C49  \n",
       "Th0  0.002405  0.006930  0.005746  0.000247  0.007013  0.000221  0.003826  \n",
       "Th1  0.005363  0.000755  0.001785  0.007638  0.000664  0.007612  0.003653  \n",
       "Th2  0.001042  0.005567  0.004384  0.001658  0.005650  0.001632  0.002463  \n",
       "Th3  0.002469  0.002566  0.001382  0.004744  0.002649  0.004717  0.000759  \n",
       "Th4  0.003423  0.007948  0.006765  0.001266  0.008031  0.001066  0.004844  \n",
       "Th5  0.000747  0.005272  0.004088  0.002297  0.005355  0.002271  0.002168  \n",
       "Th6  0.006081  0.001473  0.002502  0.008356  0.001381  0.008329  0.004371  \n",
       "Th7  0.001570  0.003332  0.002149  0.003845  0.003415  0.003818  0.000229  \n",
       "\n",
       "[8 rows x 50 columns]"
      ]
     },
     "execution_count": 5,
     "metadata": {},
     "output_type": "execute_result"
    }
   ],
   "source": [
    "# Generate the distance matrix\n",
    "\n",
    "\n",
    "def distance_template_to_distance_matrix(\n",
    "    template: list[tuple[str, str, float, list[str]]],\n",
    "    thermoelectrics: list[str],\n",
    "    circuits: list[str],\n",
    "):\n",
    "    matrix = [[-1 for _ in range(len(circuits))] for _ in range(len(thermoelectrics))]\n",
    "\n",
    "    c_map = {}\n",
    "    t_map = {}\n",
    "\n",
    "    for i, t in enumerate(thermoelectrics):\n",
    "        t_map[t] = i\n",
    "\n",
    "    for i, c in enumerate(circuits):\n",
    "        c_map[c] = i\n",
    "\n",
    "    max_cost = 1\n",
    "    for t, c, cost, _ in template:\n",
    "        matrix[t_map[t]][c_map[c]] = cost\n",
    "        max_cost = max(max_cost, cost)\n",
    "\n",
    "    for t, c, _, _ in template:\n",
    "        matrix[t_map[t]][c_map[c]] /= max_cost * DISTANCE_REGULATOR\n",
    "\n",
    "    return matrix\n",
    "\n",
    "\n",
    "matrix = distance_template_to_distance_matrix(\n",
    "    distance_cost_template,\n",
    "    [t.id for t in graphMap.thermoelectrics_nodes],\n",
    "    [c.id for c in graphMap.circuits_nodes],\n",
    ")\n",
    "\n",
    "\n",
    "distance_matrix_df = pd.DataFrame(\n",
    "    matrix,\n",
    "    index=[t.id for t in graphMap.thermoelectrics_nodes],\n",
    "    columns=[c.id for c in graphMap.circuits_nodes],\n",
    ")\n",
    "\n",
    "distance_matrix_df"
   ]
  },
  {
   "cell_type": "code",
   "execution_count": 6,
   "metadata": {},
   "outputs": [
    {
     "data": {
      "application/vnd.plotly.v1+json": {
       "config": {
        "plotlyServerURL": "https://plot.ly"
       },
       "data": [
        {
         "alignmentgroup": "True",
         "hovertemplate": "Thermoelectric ID=Th0<br>ID=%{x}<br>Total Capacity=%{y}<extra></extra>",
         "legendgroup": "Th0",
         "marker": {
          "color": "#636EFA",
          "pattern": {
           "shape": ""
          }
         },
         "name": "Th0",
         "offsetgroup": "Th0",
         "orientation": "v",
         "showlegend": true,
         "textposition": "auto",
         "type": "bar",
         "x": [
          "Th0"
         ],
         "xaxis": "x",
         "y": [
          20108.004933571854
         ],
         "yaxis": "y"
        },
        {
         "alignmentgroup": "True",
         "hovertemplate": "Thermoelectric ID=Th1<br>ID=%{x}<br>Total Capacity=%{y}<extra></extra>",
         "legendgroup": "Th1",
         "marker": {
          "color": "#EF553B",
          "pattern": {
           "shape": ""
          }
         },
         "name": "Th1",
         "offsetgroup": "Th1",
         "orientation": "v",
         "showlegend": true,
         "textposition": "auto",
         "type": "bar",
         "x": [
          "Th1"
         ],
         "xaxis": "x",
         "y": [
          11996.362329343749
         ],
         "yaxis": "y"
        },
        {
         "alignmentgroup": "True",
         "hovertemplate": "Thermoelectric ID=Th2<br>ID=%{x}<br>Total Capacity=%{y}<extra></extra>",
         "legendgroup": "Th2",
         "marker": {
          "color": "#00CC96",
          "pattern": {
           "shape": ""
          }
         },
         "name": "Th2",
         "offsetgroup": "Th2",
         "orientation": "v",
         "showlegend": true,
         "textposition": "auto",
         "type": "bar",
         "x": [
          "Th2"
         ],
         "xaxis": "x",
         "y": [
          3763.6444700350594
         ],
         "yaxis": "y"
        },
        {
         "alignmentgroup": "True",
         "hovertemplate": "Thermoelectric ID=Th3<br>ID=%{x}<br>Total Capacity=%{y}<extra></extra>",
         "legendgroup": "Th3",
         "marker": {
          "color": "#AB63FA",
          "pattern": {
           "shape": ""
          }
         },
         "name": "Th3",
         "offsetgroup": "Th3",
         "orientation": "v",
         "showlegend": true,
         "textposition": "auto",
         "type": "bar",
         "x": [
          "Th3"
         ],
         "xaxis": "x",
         "y": [
          13842.631289915673
         ],
         "yaxis": "y"
        },
        {
         "alignmentgroup": "True",
         "hovertemplate": "Thermoelectric ID=Th4<br>ID=%{x}<br>Total Capacity=%{y}<extra></extra>",
         "legendgroup": "Th4",
         "marker": {
          "color": "#FFA15A",
          "pattern": {
           "shape": ""
          }
         },
         "name": "Th4",
         "offsetgroup": "Th4",
         "orientation": "v",
         "showlegend": true,
         "textposition": "auto",
         "type": "bar",
         "x": [
          "Th4"
         ],
         "xaxis": "x",
         "y": [
          3248.7501476002417
         ],
         "yaxis": "y"
        },
        {
         "alignmentgroup": "True",
         "hovertemplate": "Thermoelectric ID=Th5<br>ID=%{x}<br>Total Capacity=%{y}<extra></extra>",
         "legendgroup": "Th5",
         "marker": {
          "color": "#19D3F3",
          "pattern": {
           "shape": ""
          }
         },
         "name": "Th5",
         "offsetgroup": "Th5",
         "orientation": "v",
         "showlegend": true,
         "textposition": "auto",
         "type": "bar",
         "x": [
          "Th5"
         ],
         "xaxis": "x",
         "y": [
          6439.231090654619
         ],
         "yaxis": "y"
        },
        {
         "alignmentgroup": "True",
         "hovertemplate": "Thermoelectric ID=Th6<br>ID=%{x}<br>Total Capacity=%{y}<extra></extra>",
         "legendgroup": "Th6",
         "marker": {
          "color": "#FF6692",
          "pattern": {
           "shape": ""
          }
         },
         "name": "Th6",
         "offsetgroup": "Th6",
         "orientation": "v",
         "showlegend": true,
         "textposition": "auto",
         "type": "bar",
         "x": [
          "Th6"
         ],
         "xaxis": "x",
         "y": [
          9358.51697436783
         ],
         "yaxis": "y"
        },
        {
         "alignmentgroup": "True",
         "hovertemplate": "Thermoelectric ID=Th7<br>ID=%{x}<br>Total Capacity=%{y}<extra></extra>",
         "legendgroup": "Th7",
         "marker": {
          "color": "#B6E880",
          "pattern": {
           "shape": ""
          }
         },
         "name": "Th7",
         "offsetgroup": "Th7",
         "orientation": "v",
         "showlegend": true,
         "textposition": "auto",
         "type": "bar",
         "x": [
          "Th7"
         ],
         "xaxis": "x",
         "y": [
          15009.566096312617
         ],
         "yaxis": "y"
        }
       ],
       "layout": {
        "barmode": "relative",
        "height": 800,
        "legend": {
         "title": {
          "text": "Thermoelectric ID"
         },
         "tracegroupgap": 0
        },
        "template": {
         "data": {
          "bar": [
           {
            "error_x": {
             "color": "#2a3f5f"
            },
            "error_y": {
             "color": "#2a3f5f"
            },
            "marker": {
             "line": {
              "color": "#E5ECF6",
              "width": 0.5
             },
             "pattern": {
              "fillmode": "overlay",
              "size": 10,
              "solidity": 0.2
             }
            },
            "type": "bar"
           }
          ],
          "barpolar": [
           {
            "marker": {
             "line": {
              "color": "#E5ECF6",
              "width": 0.5
             },
             "pattern": {
              "fillmode": "overlay",
              "size": 10,
              "solidity": 0.2
             }
            },
            "type": "barpolar"
           }
          ],
          "carpet": [
           {
            "aaxis": {
             "endlinecolor": "#2a3f5f",
             "gridcolor": "white",
             "linecolor": "white",
             "minorgridcolor": "white",
             "startlinecolor": "#2a3f5f"
            },
            "baxis": {
             "endlinecolor": "#2a3f5f",
             "gridcolor": "white",
             "linecolor": "white",
             "minorgridcolor": "white",
             "startlinecolor": "#2a3f5f"
            },
            "type": "carpet"
           }
          ],
          "choropleth": [
           {
            "colorbar": {
             "outlinewidth": 0,
             "ticks": ""
            },
            "type": "choropleth"
           }
          ],
          "contour": [
           {
            "colorbar": {
             "outlinewidth": 0,
             "ticks": ""
            },
            "colorscale": [
             [
              0,
              "#0d0887"
             ],
             [
              0.1111111111111111,
              "#46039f"
             ],
             [
              0.2222222222222222,
              "#7201a8"
             ],
             [
              0.3333333333333333,
              "#9c179e"
             ],
             [
              0.4444444444444444,
              "#bd3786"
             ],
             [
              0.5555555555555556,
              "#d8576b"
             ],
             [
              0.6666666666666666,
              "#ed7953"
             ],
             [
              0.7777777777777778,
              "#fb9f3a"
             ],
             [
              0.8888888888888888,
              "#fdca26"
             ],
             [
              1,
              "#f0f921"
             ]
            ],
            "type": "contour"
           }
          ],
          "contourcarpet": [
           {
            "colorbar": {
             "outlinewidth": 0,
             "ticks": ""
            },
            "type": "contourcarpet"
           }
          ],
          "heatmap": [
           {
            "colorbar": {
             "outlinewidth": 0,
             "ticks": ""
            },
            "colorscale": [
             [
              0,
              "#0d0887"
             ],
             [
              0.1111111111111111,
              "#46039f"
             ],
             [
              0.2222222222222222,
              "#7201a8"
             ],
             [
              0.3333333333333333,
              "#9c179e"
             ],
             [
              0.4444444444444444,
              "#bd3786"
             ],
             [
              0.5555555555555556,
              "#d8576b"
             ],
             [
              0.6666666666666666,
              "#ed7953"
             ],
             [
              0.7777777777777778,
              "#fb9f3a"
             ],
             [
              0.8888888888888888,
              "#fdca26"
             ],
             [
              1,
              "#f0f921"
             ]
            ],
            "type": "heatmap"
           }
          ],
          "heatmapgl": [
           {
            "colorbar": {
             "outlinewidth": 0,
             "ticks": ""
            },
            "colorscale": [
             [
              0,
              "#0d0887"
             ],
             [
              0.1111111111111111,
              "#46039f"
             ],
             [
              0.2222222222222222,
              "#7201a8"
             ],
             [
              0.3333333333333333,
              "#9c179e"
             ],
             [
              0.4444444444444444,
              "#bd3786"
             ],
             [
              0.5555555555555556,
              "#d8576b"
             ],
             [
              0.6666666666666666,
              "#ed7953"
             ],
             [
              0.7777777777777778,
              "#fb9f3a"
             ],
             [
              0.8888888888888888,
              "#fdca26"
             ],
             [
              1,
              "#f0f921"
             ]
            ],
            "type": "heatmapgl"
           }
          ],
          "histogram": [
           {
            "marker": {
             "pattern": {
              "fillmode": "overlay",
              "size": 10,
              "solidity": 0.2
             }
            },
            "type": "histogram"
           }
          ],
          "histogram2d": [
           {
            "colorbar": {
             "outlinewidth": 0,
             "ticks": ""
            },
            "colorscale": [
             [
              0,
              "#0d0887"
             ],
             [
              0.1111111111111111,
              "#46039f"
             ],
             [
              0.2222222222222222,
              "#7201a8"
             ],
             [
              0.3333333333333333,
              "#9c179e"
             ],
             [
              0.4444444444444444,
              "#bd3786"
             ],
             [
              0.5555555555555556,
              "#d8576b"
             ],
             [
              0.6666666666666666,
              "#ed7953"
             ],
             [
              0.7777777777777778,
              "#fb9f3a"
             ],
             [
              0.8888888888888888,
              "#fdca26"
             ],
             [
              1,
              "#f0f921"
             ]
            ],
            "type": "histogram2d"
           }
          ],
          "histogram2dcontour": [
           {
            "colorbar": {
             "outlinewidth": 0,
             "ticks": ""
            },
            "colorscale": [
             [
              0,
              "#0d0887"
             ],
             [
              0.1111111111111111,
              "#46039f"
             ],
             [
              0.2222222222222222,
              "#7201a8"
             ],
             [
              0.3333333333333333,
              "#9c179e"
             ],
             [
              0.4444444444444444,
              "#bd3786"
             ],
             [
              0.5555555555555556,
              "#d8576b"
             ],
             [
              0.6666666666666666,
              "#ed7953"
             ],
             [
              0.7777777777777778,
              "#fb9f3a"
             ],
             [
              0.8888888888888888,
              "#fdca26"
             ],
             [
              1,
              "#f0f921"
             ]
            ],
            "type": "histogram2dcontour"
           }
          ],
          "mesh3d": [
           {
            "colorbar": {
             "outlinewidth": 0,
             "ticks": ""
            },
            "type": "mesh3d"
           }
          ],
          "parcoords": [
           {
            "line": {
             "colorbar": {
              "outlinewidth": 0,
              "ticks": ""
             }
            },
            "type": "parcoords"
           }
          ],
          "pie": [
           {
            "automargin": true,
            "type": "pie"
           }
          ],
          "scatter": [
           {
            "fillpattern": {
             "fillmode": "overlay",
             "size": 10,
             "solidity": 0.2
            },
            "type": "scatter"
           }
          ],
          "scatter3d": [
           {
            "line": {
             "colorbar": {
              "outlinewidth": 0,
              "ticks": ""
             }
            },
            "marker": {
             "colorbar": {
              "outlinewidth": 0,
              "ticks": ""
             }
            },
            "type": "scatter3d"
           }
          ],
          "scattercarpet": [
           {
            "marker": {
             "colorbar": {
              "outlinewidth": 0,
              "ticks": ""
             }
            },
            "type": "scattercarpet"
           }
          ],
          "scattergeo": [
           {
            "marker": {
             "colorbar": {
              "outlinewidth": 0,
              "ticks": ""
             }
            },
            "type": "scattergeo"
           }
          ],
          "scattergl": [
           {
            "marker": {
             "colorbar": {
              "outlinewidth": 0,
              "ticks": ""
             }
            },
            "type": "scattergl"
           }
          ],
          "scattermapbox": [
           {
            "marker": {
             "colorbar": {
              "outlinewidth": 0,
              "ticks": ""
             }
            },
            "type": "scattermapbox"
           }
          ],
          "scatterpolar": [
           {
            "marker": {
             "colorbar": {
              "outlinewidth": 0,
              "ticks": ""
             }
            },
            "type": "scatterpolar"
           }
          ],
          "scatterpolargl": [
           {
            "marker": {
             "colorbar": {
              "outlinewidth": 0,
              "ticks": ""
             }
            },
            "type": "scatterpolargl"
           }
          ],
          "scatterternary": [
           {
            "marker": {
             "colorbar": {
              "outlinewidth": 0,
              "ticks": ""
             }
            },
            "type": "scatterternary"
           }
          ],
          "surface": [
           {
            "colorbar": {
             "outlinewidth": 0,
             "ticks": ""
            },
            "colorscale": [
             [
              0,
              "#0d0887"
             ],
             [
              0.1111111111111111,
              "#46039f"
             ],
             [
              0.2222222222222222,
              "#7201a8"
             ],
             [
              0.3333333333333333,
              "#9c179e"
             ],
             [
              0.4444444444444444,
              "#bd3786"
             ],
             [
              0.5555555555555556,
              "#d8576b"
             ],
             [
              0.6666666666666666,
              "#ed7953"
             ],
             [
              0.7777777777777778,
              "#fb9f3a"
             ],
             [
              0.8888888888888888,
              "#fdca26"
             ],
             [
              1,
              "#f0f921"
             ]
            ],
            "type": "surface"
           }
          ],
          "table": [
           {
            "cells": {
             "fill": {
              "color": "#EBF0F8"
             },
             "line": {
              "color": "white"
             }
            },
            "header": {
             "fill": {
              "color": "#C8D4E3"
             },
             "line": {
              "color": "white"
             }
            },
            "type": "table"
           }
          ]
         },
         "layout": {
          "annotationdefaults": {
           "arrowcolor": "#2a3f5f",
           "arrowhead": 0,
           "arrowwidth": 1
          },
          "autotypenumbers": "strict",
          "coloraxis": {
           "colorbar": {
            "outlinewidth": 0,
            "ticks": ""
           }
          },
          "colorscale": {
           "diverging": [
            [
             0,
             "#8e0152"
            ],
            [
             0.1,
             "#c51b7d"
            ],
            [
             0.2,
             "#de77ae"
            ],
            [
             0.3,
             "#f1b6da"
            ],
            [
             0.4,
             "#fde0ef"
            ],
            [
             0.5,
             "#f7f7f7"
            ],
            [
             0.6,
             "#e6f5d0"
            ],
            [
             0.7,
             "#b8e186"
            ],
            [
             0.8,
             "#7fbc41"
            ],
            [
             0.9,
             "#4d9221"
            ],
            [
             1,
             "#276419"
            ]
           ],
           "sequential": [
            [
             0,
             "#0d0887"
            ],
            [
             0.1111111111111111,
             "#46039f"
            ],
            [
             0.2222222222222222,
             "#7201a8"
            ],
            [
             0.3333333333333333,
             "#9c179e"
            ],
            [
             0.4444444444444444,
             "#bd3786"
            ],
            [
             0.5555555555555556,
             "#d8576b"
            ],
            [
             0.6666666666666666,
             "#ed7953"
            ],
            [
             0.7777777777777778,
             "#fb9f3a"
            ],
            [
             0.8888888888888888,
             "#fdca26"
            ],
            [
             1,
             "#f0f921"
            ]
           ],
           "sequentialminus": [
            [
             0,
             "#0d0887"
            ],
            [
             0.1111111111111111,
             "#46039f"
            ],
            [
             0.2222222222222222,
             "#7201a8"
            ],
            [
             0.3333333333333333,
             "#9c179e"
            ],
            [
             0.4444444444444444,
             "#bd3786"
            ],
            [
             0.5555555555555556,
             "#d8576b"
            ],
            [
             0.6666666666666666,
             "#ed7953"
            ],
            [
             0.7777777777777778,
             "#fb9f3a"
            ],
            [
             0.8888888888888888,
             "#fdca26"
            ],
            [
             1,
             "#f0f921"
            ]
           ]
          },
          "colorway": [
           "#636efa",
           "#EF553B",
           "#00cc96",
           "#ab63fa",
           "#FFA15A",
           "#19d3f3",
           "#FF6692",
           "#B6E880",
           "#FF97FF",
           "#FECB52"
          ],
          "font": {
           "color": "#2a3f5f"
          },
          "geo": {
           "bgcolor": "white",
           "lakecolor": "white",
           "landcolor": "#E5ECF6",
           "showlakes": true,
           "showland": true,
           "subunitcolor": "white"
          },
          "hoverlabel": {
           "align": "left"
          },
          "hovermode": "closest",
          "mapbox": {
           "style": "light"
          },
          "paper_bgcolor": "white",
          "plot_bgcolor": "#E5ECF6",
          "polar": {
           "angularaxis": {
            "gridcolor": "white",
            "linecolor": "white",
            "ticks": ""
           },
           "bgcolor": "#E5ECF6",
           "radialaxis": {
            "gridcolor": "white",
            "linecolor": "white",
            "ticks": ""
           }
          },
          "scene": {
           "xaxis": {
            "backgroundcolor": "#E5ECF6",
            "gridcolor": "white",
            "gridwidth": 2,
            "linecolor": "white",
            "showbackground": true,
            "ticks": "",
            "zerolinecolor": "white"
           },
           "yaxis": {
            "backgroundcolor": "#E5ECF6",
            "gridcolor": "white",
            "gridwidth": 2,
            "linecolor": "white",
            "showbackground": true,
            "ticks": "",
            "zerolinecolor": "white"
           },
           "zaxis": {
            "backgroundcolor": "#E5ECF6",
            "gridcolor": "white",
            "gridwidth": 2,
            "linecolor": "white",
            "showbackground": true,
            "ticks": "",
            "zerolinecolor": "white"
           }
          },
          "shapedefaults": {
           "line": {
            "color": "#2a3f5f"
           }
          },
          "ternary": {
           "aaxis": {
            "gridcolor": "white",
            "linecolor": "white",
            "ticks": ""
           },
           "baxis": {
            "gridcolor": "white",
            "linecolor": "white",
            "ticks": ""
           },
           "bgcolor": "#E5ECF6",
           "caxis": {
            "gridcolor": "white",
            "linecolor": "white",
            "ticks": ""
           }
          },
          "title": {
           "x": 0.05
          },
          "xaxis": {
           "automargin": true,
           "gridcolor": "white",
           "linecolor": "white",
           "ticks": "",
           "title": {
            "standoff": 15
           },
           "zerolinecolor": "white",
           "zerolinewidth": 2
          },
          "yaxis": {
           "automargin": true,
           "gridcolor": "white",
           "linecolor": "white",
           "ticks": "",
           "title": {
            "standoff": 15
           },
           "zerolinecolor": "white",
           "zerolinewidth": 2
          }
         }
        },
        "title": {
         "text": "Total Capacity of Thermoelectrics"
        },
        "xaxis": {
         "anchor": "y",
         "domain": [
          0,
          1
         ],
         "title": {
          "text": "ID"
         }
        },
        "yaxis": {
         "anchor": "x",
         "domain": [
          0,
          1
         ],
         "title": {
          "text": "Total Capacity"
         }
        }
       }
      }
     },
     "metadata": {},
     "output_type": "display_data"
    }
   ],
   "source": [
    "# Generate thermoelectrics\n",
    "electric_system_thermoelectrics_list: list[Thermoelectric] = []\n",
    "\n",
    "for i, t in enumerate(graphMap.thermoelectrics_nodes):\n",
    "    generated_thermoelectric_min_cost = 0\n",
    "    real_cost = 0\n",
    "    for j, c in enumerate(graphMap.circuits_nodes):\n",
    "        if mapper_circuit_with_thermoelectric[c.id] == t.id:\n",
    "            generated_thermoelectric_min_cost += (\n",
    "                electric_system_circuits_list[j].mock_electric_consume * (matrix[i][j] + 1))\n",
    "            real_cost += sum([sum(x.demand_per_hour) for x in  electric_system_circuits_list[j].blocks])\n",
    "\n",
    "    # print(f\"Thermoelectric {t.id} has a total capacity of {generated_thermoelectric_min_cost}, but we add 1000 to the total capacity, and real cost is {real_cost}\")\n",
    "    \n",
    "    electric_system_thermoelectrics_list.append(\n",
    "        Thermoelectric(\n",
    "            id=t.id,\n",
    "            total_capacity=generated_thermoelectric_min_cost,\n",
    "        )\n",
    "    )\n",
    "    thermoelectric_data = {\n",
    "        \"ID\": [t.id for t in electric_system_thermoelectrics_list],\n",
    "        \"Total Capacity\": [\n",
    "            t.total_capacity for t in electric_system_thermoelectrics_list\n",
    "        ],\n",
    "    }\n",
    "\n",
    "    thermoelectric_df = pd.DataFrame(thermoelectric_data)\n",
    "\n",
    "\n",
    "sorted_electric_system_circuit_list = sorted(\n",
    "    electric_system_circuits_list,\n",
    "    key=lambda x: list(\n",
    "        filter(\n",
    "            lambda y: mapper_circuit_with_thermoelectric[x.id] == y.id,\n",
    "            graphMap.thermoelectrics_nodes,\n",
    "        )\n",
    "    )[0].id,\n",
    ")\n",
    "\n",
    "colors = [\n",
    "    list(\n",
    "        filter(\n",
    "            lambda x, y=circuit: mapper_circuit_with_thermoelectric[y.id] == x.id,\n",
    "            graphMap.thermoelectrics_nodes,\n",
    "        )\n",
    "    )[0].id\n",
    "    for circuit in sorted_electric_system_circuit_list\n",
    "]\n",
    "\n",
    "\n",
    "fig = px.bar(\n",
    "    thermoelectric_df,\n",
    "    x=\"ID\",\n",
    "    y=\"Total Capacity\",\n",
    "    title=\"Total Capacity of Thermoelectrics\",\n",
    "    height=800,\n",
    "    color=[t.id for t in electric_system_thermoelectrics_list],\n",
    "    color_discrete_sequence=px.colors.qualitative.Plotly,\n",
    "    labels={\"color\": \"Thermoelectric ID\"},\n",
    ")\n",
    "\n",
    "fig.show()"
   ]
  },
  {
   "cell_type": "code",
   "execution_count": 7,
   "metadata": {},
   "outputs": [
    {
     "data": {
      "application/vnd.plotly.v1+json": {
       "config": {
        "plotlyServerURL": "https://plot.ly"
       },
       "data": [
        {
         "alignmentgroup": "True",
         "hovertemplate": "color=Th0<br>Circuit ID=%{x}<br>Mock Electric Consume=%{y}<extra></extra>",
         "legendgroup": "Th0",
         "marker": {
          "color": "#636efa",
          "pattern": {
           "shape": ""
          }
         },
         "name": "Th0",
         "offsetgroup": "Th0",
         "orientation": "v",
         "showlegend": true,
         "textposition": "auto",
         "type": "bar",
         "x": [
          "C5",
          "C8",
          "C9",
          "C12",
          "C18",
          "C26",
          "C27",
          "C29",
          "C32",
          "C38",
          "C42",
          "C46",
          "C48"
         ],
         "xaxis": "x",
         "y": [
          2440.7625473135477,
          1753.3466420073867,
          3517.5983542493223,
          2337.9124851477973,
          511.7405655232035,
          1504.0590274974609,
          3286.365150592062,
          303.9206403200165,
          582.9980561719784,
          715.0937919206099,
          1369.0151473284113,
          438.04955870623456,
          1341.1253793605763
         ],
         "yaxis": "y"
        },
        {
         "alignmentgroup": "True",
         "hovertemplate": "color=Th1<br>Circuit ID=%{x}<br>Mock Electric Consume=%{y}<extra></extra>",
         "legendgroup": "Th1",
         "marker": {
          "color": "#EF553B",
          "pattern": {
           "shape": ""
          }
         },
         "name": "Th1",
         "offsetgroup": "Th1",
         "orientation": "v",
         "showlegend": true,
         "textposition": "auto",
         "type": "bar",
         "x": [
          "C10",
          "C15",
          "C21",
          "C24",
          "C31",
          "C36",
          "C44",
          "C47"
         ],
         "xaxis": "x",
         "y": [
          405.9746842623742,
          1308.5775213155885,
          1582.2726525278295,
          823.3823030308116,
          1016.8049985582645,
          2189.2952062816767,
          3141.479159163113,
          1520.4176503425392
         ],
         "yaxis": "y"
        },
        {
         "alignmentgroup": "True",
         "hovertemplate": "color=Th2<br>Circuit ID=%{x}<br>Mock Electric Consume=%{y}<extra></extra>",
         "legendgroup": "Th2",
         "marker": {
          "color": "#00cc96",
          "pattern": {
           "shape": ""
          }
         },
         "name": "Th2",
         "offsetgroup": "Th2",
         "orientation": "v",
         "showlegend": true,
         "textposition": "auto",
         "type": "bar",
         "x": [
          "C11",
          "C20",
          "C37"
         ],
         "xaxis": "x",
         "y": [
          581.7959056188013,
          2747.414876470382,
          431.97909567340514
         ],
         "yaxis": "y"
        },
        {
         "alignmentgroup": "True",
         "hovertemplate": "color=Th3<br>Circuit ID=%{x}<br>Mock Electric Consume=%{y}<extra></extra>",
         "legendgroup": "Th3",
         "marker": {
          "color": "#ab63fa",
          "pattern": {
           "shape": ""
          }
         },
         "name": "Th3",
         "offsetgroup": "Th3",
         "orientation": "v",
         "showlegend": true,
         "textposition": "auto",
         "type": "bar",
         "x": [
          "C0",
          "C19",
          "C30",
          "C35",
          "C45"
         ],
         "xaxis": "x",
         "y": [
          2782.4100941386114,
          3885.225817643733,
          2397.0201985782915,
          1761.1407789723817,
          3008.687340014873
         ],
         "yaxis": "y"
        },
        {
         "alignmentgroup": "True",
         "hovertemplate": "color=Th4<br>Circuit ID=%{x}<br>Mock Electric Consume=%{y}<extra></extra>",
         "legendgroup": "Th4",
         "marker": {
          "color": "#FFA15A",
          "pattern": {
           "shape": ""
          }
         },
         "name": "Th4",
         "offsetgroup": "Th4",
         "orientation": "v",
         "showlegend": true,
         "textposition": "auto",
         "type": "bar",
         "x": [
          "C6",
          "C14",
          "C41"
         ],
         "xaxis": "x",
         "y": [
          1356.233511713735,
          1518.3669158710184,
          373.24117085396995
         ],
         "yaxis": "y"
        },
        {
         "alignmentgroup": "True",
         "hovertemplate": "color=Th5<br>Circuit ID=%{x}<br>Mock Electric Consume=%{y}<extra></extra>",
         "legendgroup": "Th5",
         "marker": {
          "color": "#19d3f3",
          "pattern": {
           "shape": ""
          }
         },
         "name": "Th5",
         "offsetgroup": "Th5",
         "orientation": "v",
         "showlegend": true,
         "textposition": "auto",
         "type": "bar",
         "x": [
          "C7",
          "C22",
          "C23",
          "C43"
         ],
         "xaxis": "x",
         "y": [
          648.7447461544042,
          3702.5305945849527,
          1462.4664004715828,
          621.0114581276655
         ],
         "yaxis": "y"
        },
        {
         "alignmentgroup": "True",
         "hovertemplate": "color=Th6<br>Circuit ID=%{x}<br>Mock Electric Consume=%{y}<extra></extra>",
         "legendgroup": "Th6",
         "marker": {
          "color": "#FF6692",
          "pattern": {
           "shape": ""
          }
         },
         "name": "Th6",
         "offsetgroup": "Th6",
         "orientation": "v",
         "showlegend": true,
         "textposition": "auto",
         "type": "bar",
         "x": [
          "C1",
          "C2",
          "C28",
          "C34",
          "C40"
         ],
         "xaxis": "x",
         "y": [
          2145.660151850635,
          2306.880215417532,
          1547.3534027182513,
          2704.566604143172,
          649.6963605726057
         ],
         "yaxis": "y"
        },
        {
         "alignmentgroup": "True",
         "hovertemplate": "color=Th7<br>Circuit ID=%{x}<br>Mock Electric Consume=%{y}<extra></extra>",
         "legendgroup": "Th7",
         "marker": {
          "color": "#B6E880",
          "pattern": {
           "shape": ""
          }
         },
         "name": "Th7",
         "offsetgroup": "Th7",
         "orientation": "v",
         "showlegend": true,
         "textposition": "auto",
         "type": "bar",
         "x": [
          "C3",
          "C4",
          "C13",
          "C16",
          "C17",
          "C25",
          "C33",
          "C39",
          "C49"
         ],
         "xaxis": "x",
         "y": [
          1477.8865433250328,
          2669.9591734393234,
          1161.3942320722517,
          2548.798728284389,
          604.6491620351575,
          2218.0170987215633,
          760.5295670851415,
          3136.786611318318,
          426.25969127996046
         ],
         "yaxis": "y"
        }
       ],
       "layout": {
        "barmode": "relative",
        "height": 800,
        "legend": {
         "title": {
          "text": "color"
         },
         "tracegroupgap": 0
        },
        "template": {
         "data": {
          "bar": [
           {
            "error_x": {
             "color": "#2a3f5f"
            },
            "error_y": {
             "color": "#2a3f5f"
            },
            "marker": {
             "line": {
              "color": "#E5ECF6",
              "width": 0.5
             },
             "pattern": {
              "fillmode": "overlay",
              "size": 10,
              "solidity": 0.2
             }
            },
            "type": "bar"
           }
          ],
          "barpolar": [
           {
            "marker": {
             "line": {
              "color": "#E5ECF6",
              "width": 0.5
             },
             "pattern": {
              "fillmode": "overlay",
              "size": 10,
              "solidity": 0.2
             }
            },
            "type": "barpolar"
           }
          ],
          "carpet": [
           {
            "aaxis": {
             "endlinecolor": "#2a3f5f",
             "gridcolor": "white",
             "linecolor": "white",
             "minorgridcolor": "white",
             "startlinecolor": "#2a3f5f"
            },
            "baxis": {
             "endlinecolor": "#2a3f5f",
             "gridcolor": "white",
             "linecolor": "white",
             "minorgridcolor": "white",
             "startlinecolor": "#2a3f5f"
            },
            "type": "carpet"
           }
          ],
          "choropleth": [
           {
            "colorbar": {
             "outlinewidth": 0,
             "ticks": ""
            },
            "type": "choropleth"
           }
          ],
          "contour": [
           {
            "colorbar": {
             "outlinewidth": 0,
             "ticks": ""
            },
            "colorscale": [
             [
              0,
              "#0d0887"
             ],
             [
              0.1111111111111111,
              "#46039f"
             ],
             [
              0.2222222222222222,
              "#7201a8"
             ],
             [
              0.3333333333333333,
              "#9c179e"
             ],
             [
              0.4444444444444444,
              "#bd3786"
             ],
             [
              0.5555555555555556,
              "#d8576b"
             ],
             [
              0.6666666666666666,
              "#ed7953"
             ],
             [
              0.7777777777777778,
              "#fb9f3a"
             ],
             [
              0.8888888888888888,
              "#fdca26"
             ],
             [
              1,
              "#f0f921"
             ]
            ],
            "type": "contour"
           }
          ],
          "contourcarpet": [
           {
            "colorbar": {
             "outlinewidth": 0,
             "ticks": ""
            },
            "type": "contourcarpet"
           }
          ],
          "heatmap": [
           {
            "colorbar": {
             "outlinewidth": 0,
             "ticks": ""
            },
            "colorscale": [
             [
              0,
              "#0d0887"
             ],
             [
              0.1111111111111111,
              "#46039f"
             ],
             [
              0.2222222222222222,
              "#7201a8"
             ],
             [
              0.3333333333333333,
              "#9c179e"
             ],
             [
              0.4444444444444444,
              "#bd3786"
             ],
             [
              0.5555555555555556,
              "#d8576b"
             ],
             [
              0.6666666666666666,
              "#ed7953"
             ],
             [
              0.7777777777777778,
              "#fb9f3a"
             ],
             [
              0.8888888888888888,
              "#fdca26"
             ],
             [
              1,
              "#f0f921"
             ]
            ],
            "type": "heatmap"
           }
          ],
          "heatmapgl": [
           {
            "colorbar": {
             "outlinewidth": 0,
             "ticks": ""
            },
            "colorscale": [
             [
              0,
              "#0d0887"
             ],
             [
              0.1111111111111111,
              "#46039f"
             ],
             [
              0.2222222222222222,
              "#7201a8"
             ],
             [
              0.3333333333333333,
              "#9c179e"
             ],
             [
              0.4444444444444444,
              "#bd3786"
             ],
             [
              0.5555555555555556,
              "#d8576b"
             ],
             [
              0.6666666666666666,
              "#ed7953"
             ],
             [
              0.7777777777777778,
              "#fb9f3a"
             ],
             [
              0.8888888888888888,
              "#fdca26"
             ],
             [
              1,
              "#f0f921"
             ]
            ],
            "type": "heatmapgl"
           }
          ],
          "histogram": [
           {
            "marker": {
             "pattern": {
              "fillmode": "overlay",
              "size": 10,
              "solidity": 0.2
             }
            },
            "type": "histogram"
           }
          ],
          "histogram2d": [
           {
            "colorbar": {
             "outlinewidth": 0,
             "ticks": ""
            },
            "colorscale": [
             [
              0,
              "#0d0887"
             ],
             [
              0.1111111111111111,
              "#46039f"
             ],
             [
              0.2222222222222222,
              "#7201a8"
             ],
             [
              0.3333333333333333,
              "#9c179e"
             ],
             [
              0.4444444444444444,
              "#bd3786"
             ],
             [
              0.5555555555555556,
              "#d8576b"
             ],
             [
              0.6666666666666666,
              "#ed7953"
             ],
             [
              0.7777777777777778,
              "#fb9f3a"
             ],
             [
              0.8888888888888888,
              "#fdca26"
             ],
             [
              1,
              "#f0f921"
             ]
            ],
            "type": "histogram2d"
           }
          ],
          "histogram2dcontour": [
           {
            "colorbar": {
             "outlinewidth": 0,
             "ticks": ""
            },
            "colorscale": [
             [
              0,
              "#0d0887"
             ],
             [
              0.1111111111111111,
              "#46039f"
             ],
             [
              0.2222222222222222,
              "#7201a8"
             ],
             [
              0.3333333333333333,
              "#9c179e"
             ],
             [
              0.4444444444444444,
              "#bd3786"
             ],
             [
              0.5555555555555556,
              "#d8576b"
             ],
             [
              0.6666666666666666,
              "#ed7953"
             ],
             [
              0.7777777777777778,
              "#fb9f3a"
             ],
             [
              0.8888888888888888,
              "#fdca26"
             ],
             [
              1,
              "#f0f921"
             ]
            ],
            "type": "histogram2dcontour"
           }
          ],
          "mesh3d": [
           {
            "colorbar": {
             "outlinewidth": 0,
             "ticks": ""
            },
            "type": "mesh3d"
           }
          ],
          "parcoords": [
           {
            "line": {
             "colorbar": {
              "outlinewidth": 0,
              "ticks": ""
             }
            },
            "type": "parcoords"
           }
          ],
          "pie": [
           {
            "automargin": true,
            "type": "pie"
           }
          ],
          "scatter": [
           {
            "fillpattern": {
             "fillmode": "overlay",
             "size": 10,
             "solidity": 0.2
            },
            "type": "scatter"
           }
          ],
          "scatter3d": [
           {
            "line": {
             "colorbar": {
              "outlinewidth": 0,
              "ticks": ""
             }
            },
            "marker": {
             "colorbar": {
              "outlinewidth": 0,
              "ticks": ""
             }
            },
            "type": "scatter3d"
           }
          ],
          "scattercarpet": [
           {
            "marker": {
             "colorbar": {
              "outlinewidth": 0,
              "ticks": ""
             }
            },
            "type": "scattercarpet"
           }
          ],
          "scattergeo": [
           {
            "marker": {
             "colorbar": {
              "outlinewidth": 0,
              "ticks": ""
             }
            },
            "type": "scattergeo"
           }
          ],
          "scattergl": [
           {
            "marker": {
             "colorbar": {
              "outlinewidth": 0,
              "ticks": ""
             }
            },
            "type": "scattergl"
           }
          ],
          "scattermapbox": [
           {
            "marker": {
             "colorbar": {
              "outlinewidth": 0,
              "ticks": ""
             }
            },
            "type": "scattermapbox"
           }
          ],
          "scatterpolar": [
           {
            "marker": {
             "colorbar": {
              "outlinewidth": 0,
              "ticks": ""
             }
            },
            "type": "scatterpolar"
           }
          ],
          "scatterpolargl": [
           {
            "marker": {
             "colorbar": {
              "outlinewidth": 0,
              "ticks": ""
             }
            },
            "type": "scatterpolargl"
           }
          ],
          "scatterternary": [
           {
            "marker": {
             "colorbar": {
              "outlinewidth": 0,
              "ticks": ""
             }
            },
            "type": "scatterternary"
           }
          ],
          "surface": [
           {
            "colorbar": {
             "outlinewidth": 0,
             "ticks": ""
            },
            "colorscale": [
             [
              0,
              "#0d0887"
             ],
             [
              0.1111111111111111,
              "#46039f"
             ],
             [
              0.2222222222222222,
              "#7201a8"
             ],
             [
              0.3333333333333333,
              "#9c179e"
             ],
             [
              0.4444444444444444,
              "#bd3786"
             ],
             [
              0.5555555555555556,
              "#d8576b"
             ],
             [
              0.6666666666666666,
              "#ed7953"
             ],
             [
              0.7777777777777778,
              "#fb9f3a"
             ],
             [
              0.8888888888888888,
              "#fdca26"
             ],
             [
              1,
              "#f0f921"
             ]
            ],
            "type": "surface"
           }
          ],
          "table": [
           {
            "cells": {
             "fill": {
              "color": "#EBF0F8"
             },
             "line": {
              "color": "white"
             }
            },
            "header": {
             "fill": {
              "color": "#C8D4E3"
             },
             "line": {
              "color": "white"
             }
            },
            "type": "table"
           }
          ]
         },
         "layout": {
          "annotationdefaults": {
           "arrowcolor": "#2a3f5f",
           "arrowhead": 0,
           "arrowwidth": 1
          },
          "autotypenumbers": "strict",
          "coloraxis": {
           "colorbar": {
            "outlinewidth": 0,
            "ticks": ""
           }
          },
          "colorscale": {
           "diverging": [
            [
             0,
             "#8e0152"
            ],
            [
             0.1,
             "#c51b7d"
            ],
            [
             0.2,
             "#de77ae"
            ],
            [
             0.3,
             "#f1b6da"
            ],
            [
             0.4,
             "#fde0ef"
            ],
            [
             0.5,
             "#f7f7f7"
            ],
            [
             0.6,
             "#e6f5d0"
            ],
            [
             0.7,
             "#b8e186"
            ],
            [
             0.8,
             "#7fbc41"
            ],
            [
             0.9,
             "#4d9221"
            ],
            [
             1,
             "#276419"
            ]
           ],
           "sequential": [
            [
             0,
             "#0d0887"
            ],
            [
             0.1111111111111111,
             "#46039f"
            ],
            [
             0.2222222222222222,
             "#7201a8"
            ],
            [
             0.3333333333333333,
             "#9c179e"
            ],
            [
             0.4444444444444444,
             "#bd3786"
            ],
            [
             0.5555555555555556,
             "#d8576b"
            ],
            [
             0.6666666666666666,
             "#ed7953"
            ],
            [
             0.7777777777777778,
             "#fb9f3a"
            ],
            [
             0.8888888888888888,
             "#fdca26"
            ],
            [
             1,
             "#f0f921"
            ]
           ],
           "sequentialminus": [
            [
             0,
             "#0d0887"
            ],
            [
             0.1111111111111111,
             "#46039f"
            ],
            [
             0.2222222222222222,
             "#7201a8"
            ],
            [
             0.3333333333333333,
             "#9c179e"
            ],
            [
             0.4444444444444444,
             "#bd3786"
            ],
            [
             0.5555555555555556,
             "#d8576b"
            ],
            [
             0.6666666666666666,
             "#ed7953"
            ],
            [
             0.7777777777777778,
             "#fb9f3a"
            ],
            [
             0.8888888888888888,
             "#fdca26"
            ],
            [
             1,
             "#f0f921"
            ]
           ]
          },
          "colorway": [
           "#636efa",
           "#EF553B",
           "#00cc96",
           "#ab63fa",
           "#FFA15A",
           "#19d3f3",
           "#FF6692",
           "#B6E880",
           "#FF97FF",
           "#FECB52"
          ],
          "font": {
           "color": "#2a3f5f"
          },
          "geo": {
           "bgcolor": "white",
           "lakecolor": "white",
           "landcolor": "#E5ECF6",
           "showlakes": true,
           "showland": true,
           "subunitcolor": "white"
          },
          "hoverlabel": {
           "align": "left"
          },
          "hovermode": "closest",
          "mapbox": {
           "style": "light"
          },
          "paper_bgcolor": "white",
          "plot_bgcolor": "#E5ECF6",
          "polar": {
           "angularaxis": {
            "gridcolor": "white",
            "linecolor": "white",
            "ticks": ""
           },
           "bgcolor": "#E5ECF6",
           "radialaxis": {
            "gridcolor": "white",
            "linecolor": "white",
            "ticks": ""
           }
          },
          "scene": {
           "xaxis": {
            "backgroundcolor": "#E5ECF6",
            "gridcolor": "white",
            "gridwidth": 2,
            "linecolor": "white",
            "showbackground": true,
            "ticks": "",
            "zerolinecolor": "white"
           },
           "yaxis": {
            "backgroundcolor": "#E5ECF6",
            "gridcolor": "white",
            "gridwidth": 2,
            "linecolor": "white",
            "showbackground": true,
            "ticks": "",
            "zerolinecolor": "white"
           },
           "zaxis": {
            "backgroundcolor": "#E5ECF6",
            "gridcolor": "white",
            "gridwidth": 2,
            "linecolor": "white",
            "showbackground": true,
            "ticks": "",
            "zerolinecolor": "white"
           }
          },
          "shapedefaults": {
           "line": {
            "color": "#2a3f5f"
           }
          },
          "ternary": {
           "aaxis": {
            "gridcolor": "white",
            "linecolor": "white",
            "ticks": ""
           },
           "baxis": {
            "gridcolor": "white",
            "linecolor": "white",
            "ticks": ""
           },
           "bgcolor": "#E5ECF6",
           "caxis": {
            "gridcolor": "white",
            "linecolor": "white",
            "ticks": ""
           }
          },
          "title": {
           "x": 0.05
          },
          "xaxis": {
           "automargin": true,
           "gridcolor": "white",
           "linecolor": "white",
           "ticks": "",
           "title": {
            "standoff": 15
           },
           "zerolinecolor": "white",
           "zerolinewidth": 2
          },
          "yaxis": {
           "automargin": true,
           "gridcolor": "white",
           "linecolor": "white",
           "ticks": "",
           "title": {
            "standoff": 15
           },
           "zerolinecolor": "white",
           "zerolinewidth": 2
          }
         }
        },
        "title": {
         "text": "Electric Consume per Circuit [24 hours]"
        },
        "xaxis": {
         "anchor": "y",
         "domain": [
          0,
          1
         ],
         "title": {
          "text": "Circuit ID"
         }
        },
        "yaxis": {
         "anchor": "x",
         "domain": [
          0,
          1
         ],
         "title": {
          "text": "Mock Electric Consume"
         }
        }
       }
      }
     },
     "metadata": {},
     "output_type": "display_data"
    }
   ],
   "source": [
    "\n",
    "mock_electric_consume_data = {\n",
    "    \"Circuit ID\": [c.id for c in sorted_electric_system_circuit_list],\n",
    "    \"Mock Electric Consume\": [c.mock_electric_consume for c in sorted_electric_system_circuit_list],\n",
    "}\n",
    "\n",
    "mock_electric_consume_df = pd.DataFrame(mock_electric_consume_data)\n",
    "\n",
    "fig = px.bar(\n",
    "    mock_electric_consume_df,\n",
    "    x=\"Circuit ID\",\n",
    "    y=\"Mock Electric Consume\",\n",
    "    title=\"Electric Consume per Circuit [24 hours]\",\n",
    "    height=800,\n",
    "    color=colors\n",
    ")\n",
    "fig.show()"
   ]
  },
  {
   "cell_type": "code",
   "execution_count": 8,
   "metadata": {},
   "outputs": [
    {
     "data": {
      "text/html": [
       "<div>\n",
       "<style scoped>\n",
       "    .dataframe tbody tr th:only-of-type {\n",
       "        vertical-align: middle;\n",
       "    }\n",
       "\n",
       "    .dataframe tbody tr th {\n",
       "        vertical-align: top;\n",
       "    }\n",
       "\n",
       "    .dataframe thead th {\n",
       "        text-align: right;\n",
       "    }\n",
       "</style>\n",
       "<table border=\"1\" class=\"dataframe\">\n",
       "  <thead>\n",
       "    <tr style=\"text-align: right;\">\n",
       "      <th></th>\n",
       "      <th>Max Population of Circuits</th>\n",
       "      <th>Max Population of Blocks</th>\n",
       "    </tr>\n",
       "  </thead>\n",
       "  <tbody>\n",
       "    <tr>\n",
       "      <th>0</th>\n",
       "      <td>19689</td>\n",
       "      <td>4985</td>\n",
       "    </tr>\n",
       "  </tbody>\n",
       "</table>\n",
       "</div>"
      ],
      "text/plain": [
       "   Max Population of Circuits  Max Population of Blocks\n",
       "0                       19689                      4985"
      ]
     },
     "execution_count": 8,
     "metadata": {},
     "output_type": "execute_result"
    }
   ],
   "source": [
    "max_population_of_circuits = -1\n",
    "max_population_of_block = -1\n",
    "\n",
    "for circuit in electric_system_circuits_list:\n",
    "    max_population_of_circuits = max(\n",
    "        circuit.get_all_block_population(), max_population_of_circuits\n",
    "    )\n",
    "    for block in circuit.blocks:\n",
    "        max_population_of_block = max(block.citizens.amount, max_population_of_block)\n",
    "\n",
    "auxiliary_data_max_population_of_circuits = max_population_of_circuits\n",
    "auxiliary_data_max_population_of_block = max_population_of_block\n",
    "\n",
    "\n",
    "def get_circuit_importance(circuit: Circuit) -> float:\n",
    "    return (\n",
    "        circuit.get_all_block_population() / auxiliary_data_max_population_of_circuits\n",
    "    ) * IMPORTANCE_ALPHA + circuit.industrialization * (1 - IMPORTANCE_ALPHA)\n",
    "\n",
    "\n",
    "def get_block_importance(block: Block) -> float:\n",
    "    return (\n",
    "        block.citizens.amount / auxiliary_data_max_population_of_circuits\n",
    "    ) * IMPORTANCE_ALPHA + block.industrialization * (1 - IMPORTANCE_ALPHA)\n",
    "\n",
    "\n",
    "def set_importance(ci: list[Circuit]):\n",
    "    for circuit in ci:\n",
    "        for block in circuit.blocks:\n",
    "            block.importance = get_block_importance(block)\n",
    "        circuit.importance = get_circuit_importance(circuit)\n",
    "\n",
    "set_importance(electric_system_circuits_list)\n",
    "\n",
    "max_population_data = {\n",
    "    \"Max Population of Circuits\": [auxiliary_data_max_population_of_circuits],\n",
    "    \"Max Population of Blocks\": [auxiliary_data_max_population_of_block],\n",
    "}\n",
    "\n",
    "max_population_df = pd.DataFrame(max_population_data)\n",
    "# TODO : update plotly\n",
    "max_population_df"
   ]
  },
  {
   "cell_type": "code",
   "execution_count": 9,
   "metadata": {},
   "outputs": [
    {
     "data": {
      "application/vnd.plotly.v1+json": {
       "config": {
        "plotlyServerURL": "https://plot.ly"
       },
       "data": [
        {
         "alignmentgroup": "True",
         "hovertemplate": "index=%{x}<br>Citizens=%{y}<extra></extra>",
         "legendgroup": "",
         "marker": {
          "color": "#636efa",
          "pattern": {
           "shape": ""
          }
         },
         "name": "",
         "offsetgroup": "",
         "orientation": "v",
         "showlegend": false,
         "textposition": "auto",
         "type": "bar",
         "x": [
          0,
          1,
          2
         ],
         "xaxis": "x",
         "y": [
          4678,
          4692,
          4671
         ],
         "yaxis": "y"
        }
       ],
       "layout": {
        "barmode": "relative",
        "height": 800,
        "legend": {
         "tracegroupgap": 0
        },
        "template": {
         "data": {
          "bar": [
           {
            "error_x": {
             "color": "#2a3f5f"
            },
            "error_y": {
             "color": "#2a3f5f"
            },
            "marker": {
             "line": {
              "color": "#E5ECF6",
              "width": 0.5
             },
             "pattern": {
              "fillmode": "overlay",
              "size": 10,
              "solidity": 0.2
             }
            },
            "type": "bar"
           }
          ],
          "barpolar": [
           {
            "marker": {
             "line": {
              "color": "#E5ECF6",
              "width": 0.5
             },
             "pattern": {
              "fillmode": "overlay",
              "size": 10,
              "solidity": 0.2
             }
            },
            "type": "barpolar"
           }
          ],
          "carpet": [
           {
            "aaxis": {
             "endlinecolor": "#2a3f5f",
             "gridcolor": "white",
             "linecolor": "white",
             "minorgridcolor": "white",
             "startlinecolor": "#2a3f5f"
            },
            "baxis": {
             "endlinecolor": "#2a3f5f",
             "gridcolor": "white",
             "linecolor": "white",
             "minorgridcolor": "white",
             "startlinecolor": "#2a3f5f"
            },
            "type": "carpet"
           }
          ],
          "choropleth": [
           {
            "colorbar": {
             "outlinewidth": 0,
             "ticks": ""
            },
            "type": "choropleth"
           }
          ],
          "contour": [
           {
            "colorbar": {
             "outlinewidth": 0,
             "ticks": ""
            },
            "colorscale": [
             [
              0,
              "#0d0887"
             ],
             [
              0.1111111111111111,
              "#46039f"
             ],
             [
              0.2222222222222222,
              "#7201a8"
             ],
             [
              0.3333333333333333,
              "#9c179e"
             ],
             [
              0.4444444444444444,
              "#bd3786"
             ],
             [
              0.5555555555555556,
              "#d8576b"
             ],
             [
              0.6666666666666666,
              "#ed7953"
             ],
             [
              0.7777777777777778,
              "#fb9f3a"
             ],
             [
              0.8888888888888888,
              "#fdca26"
             ],
             [
              1,
              "#f0f921"
             ]
            ],
            "type": "contour"
           }
          ],
          "contourcarpet": [
           {
            "colorbar": {
             "outlinewidth": 0,
             "ticks": ""
            },
            "type": "contourcarpet"
           }
          ],
          "heatmap": [
           {
            "colorbar": {
             "outlinewidth": 0,
             "ticks": ""
            },
            "colorscale": [
             [
              0,
              "#0d0887"
             ],
             [
              0.1111111111111111,
              "#46039f"
             ],
             [
              0.2222222222222222,
              "#7201a8"
             ],
             [
              0.3333333333333333,
              "#9c179e"
             ],
             [
              0.4444444444444444,
              "#bd3786"
             ],
             [
              0.5555555555555556,
              "#d8576b"
             ],
             [
              0.6666666666666666,
              "#ed7953"
             ],
             [
              0.7777777777777778,
              "#fb9f3a"
             ],
             [
              0.8888888888888888,
              "#fdca26"
             ],
             [
              1,
              "#f0f921"
             ]
            ],
            "type": "heatmap"
           }
          ],
          "heatmapgl": [
           {
            "colorbar": {
             "outlinewidth": 0,
             "ticks": ""
            },
            "colorscale": [
             [
              0,
              "#0d0887"
             ],
             [
              0.1111111111111111,
              "#46039f"
             ],
             [
              0.2222222222222222,
              "#7201a8"
             ],
             [
              0.3333333333333333,
              "#9c179e"
             ],
             [
              0.4444444444444444,
              "#bd3786"
             ],
             [
              0.5555555555555556,
              "#d8576b"
             ],
             [
              0.6666666666666666,
              "#ed7953"
             ],
             [
              0.7777777777777778,
              "#fb9f3a"
             ],
             [
              0.8888888888888888,
              "#fdca26"
             ],
             [
              1,
              "#f0f921"
             ]
            ],
            "type": "heatmapgl"
           }
          ],
          "histogram": [
           {
            "marker": {
             "pattern": {
              "fillmode": "overlay",
              "size": 10,
              "solidity": 0.2
             }
            },
            "type": "histogram"
           }
          ],
          "histogram2d": [
           {
            "colorbar": {
             "outlinewidth": 0,
             "ticks": ""
            },
            "colorscale": [
             [
              0,
              "#0d0887"
             ],
             [
              0.1111111111111111,
              "#46039f"
             ],
             [
              0.2222222222222222,
              "#7201a8"
             ],
             [
              0.3333333333333333,
              "#9c179e"
             ],
             [
              0.4444444444444444,
              "#bd3786"
             ],
             [
              0.5555555555555556,
              "#d8576b"
             ],
             [
              0.6666666666666666,
              "#ed7953"
             ],
             [
              0.7777777777777778,
              "#fb9f3a"
             ],
             [
              0.8888888888888888,
              "#fdca26"
             ],
             [
              1,
              "#f0f921"
             ]
            ],
            "type": "histogram2d"
           }
          ],
          "histogram2dcontour": [
           {
            "colorbar": {
             "outlinewidth": 0,
             "ticks": ""
            },
            "colorscale": [
             [
              0,
              "#0d0887"
             ],
             [
              0.1111111111111111,
              "#46039f"
             ],
             [
              0.2222222222222222,
              "#7201a8"
             ],
             [
              0.3333333333333333,
              "#9c179e"
             ],
             [
              0.4444444444444444,
              "#bd3786"
             ],
             [
              0.5555555555555556,
              "#d8576b"
             ],
             [
              0.6666666666666666,
              "#ed7953"
             ],
             [
              0.7777777777777778,
              "#fb9f3a"
             ],
             [
              0.8888888888888888,
              "#fdca26"
             ],
             [
              1,
              "#f0f921"
             ]
            ],
            "type": "histogram2dcontour"
           }
          ],
          "mesh3d": [
           {
            "colorbar": {
             "outlinewidth": 0,
             "ticks": ""
            },
            "type": "mesh3d"
           }
          ],
          "parcoords": [
           {
            "line": {
             "colorbar": {
              "outlinewidth": 0,
              "ticks": ""
             }
            },
            "type": "parcoords"
           }
          ],
          "pie": [
           {
            "automargin": true,
            "type": "pie"
           }
          ],
          "scatter": [
           {
            "fillpattern": {
             "fillmode": "overlay",
             "size": 10,
             "solidity": 0.2
            },
            "type": "scatter"
           }
          ],
          "scatter3d": [
           {
            "line": {
             "colorbar": {
              "outlinewidth": 0,
              "ticks": ""
             }
            },
            "marker": {
             "colorbar": {
              "outlinewidth": 0,
              "ticks": ""
             }
            },
            "type": "scatter3d"
           }
          ],
          "scattercarpet": [
           {
            "marker": {
             "colorbar": {
              "outlinewidth": 0,
              "ticks": ""
             }
            },
            "type": "scattercarpet"
           }
          ],
          "scattergeo": [
           {
            "marker": {
             "colorbar": {
              "outlinewidth": 0,
              "ticks": ""
             }
            },
            "type": "scattergeo"
           }
          ],
          "scattergl": [
           {
            "marker": {
             "colorbar": {
              "outlinewidth": 0,
              "ticks": ""
             }
            },
            "type": "scattergl"
           }
          ],
          "scattermapbox": [
           {
            "marker": {
             "colorbar": {
              "outlinewidth": 0,
              "ticks": ""
             }
            },
            "type": "scattermapbox"
           }
          ],
          "scatterpolar": [
           {
            "marker": {
             "colorbar": {
              "outlinewidth": 0,
              "ticks": ""
             }
            },
            "type": "scatterpolar"
           }
          ],
          "scatterpolargl": [
           {
            "marker": {
             "colorbar": {
              "outlinewidth": 0,
              "ticks": ""
             }
            },
            "type": "scatterpolargl"
           }
          ],
          "scatterternary": [
           {
            "marker": {
             "colorbar": {
              "outlinewidth": 0,
              "ticks": ""
             }
            },
            "type": "scatterternary"
           }
          ],
          "surface": [
           {
            "colorbar": {
             "outlinewidth": 0,
             "ticks": ""
            },
            "colorscale": [
             [
              0,
              "#0d0887"
             ],
             [
              0.1111111111111111,
              "#46039f"
             ],
             [
              0.2222222222222222,
              "#7201a8"
             ],
             [
              0.3333333333333333,
              "#9c179e"
             ],
             [
              0.4444444444444444,
              "#bd3786"
             ],
             [
              0.5555555555555556,
              "#d8576b"
             ],
             [
              0.6666666666666666,
              "#ed7953"
             ],
             [
              0.7777777777777778,
              "#fb9f3a"
             ],
             [
              0.8888888888888888,
              "#fdca26"
             ],
             [
              1,
              "#f0f921"
             ]
            ],
            "type": "surface"
           }
          ],
          "table": [
           {
            "cells": {
             "fill": {
              "color": "#EBF0F8"
             },
             "line": {
              "color": "white"
             }
            },
            "header": {
             "fill": {
              "color": "#C8D4E3"
             },
             "line": {
              "color": "white"
             }
            },
            "type": "table"
           }
          ]
         },
         "layout": {
          "annotationdefaults": {
           "arrowcolor": "#2a3f5f",
           "arrowhead": 0,
           "arrowwidth": 1
          },
          "autotypenumbers": "strict",
          "coloraxis": {
           "colorbar": {
            "outlinewidth": 0,
            "ticks": ""
           }
          },
          "colorscale": {
           "diverging": [
            [
             0,
             "#8e0152"
            ],
            [
             0.1,
             "#c51b7d"
            ],
            [
             0.2,
             "#de77ae"
            ],
            [
             0.3,
             "#f1b6da"
            ],
            [
             0.4,
             "#fde0ef"
            ],
            [
             0.5,
             "#f7f7f7"
            ],
            [
             0.6,
             "#e6f5d0"
            ],
            [
             0.7,
             "#b8e186"
            ],
            [
             0.8,
             "#7fbc41"
            ],
            [
             0.9,
             "#4d9221"
            ],
            [
             1,
             "#276419"
            ]
           ],
           "sequential": [
            [
             0,
             "#0d0887"
            ],
            [
             0.1111111111111111,
             "#46039f"
            ],
            [
             0.2222222222222222,
             "#7201a8"
            ],
            [
             0.3333333333333333,
             "#9c179e"
            ],
            [
             0.4444444444444444,
             "#bd3786"
            ],
            [
             0.5555555555555556,
             "#d8576b"
            ],
            [
             0.6666666666666666,
             "#ed7953"
            ],
            [
             0.7777777777777778,
             "#fb9f3a"
            ],
            [
             0.8888888888888888,
             "#fdca26"
            ],
            [
             1,
             "#f0f921"
            ]
           ],
           "sequentialminus": [
            [
             0,
             "#0d0887"
            ],
            [
             0.1111111111111111,
             "#46039f"
            ],
            [
             0.2222222222222222,
             "#7201a8"
            ],
            [
             0.3333333333333333,
             "#9c179e"
            ],
            [
             0.4444444444444444,
             "#bd3786"
            ],
            [
             0.5555555555555556,
             "#d8576b"
            ],
            [
             0.6666666666666666,
             "#ed7953"
            ],
            [
             0.7777777777777778,
             "#fb9f3a"
            ],
            [
             0.8888888888888888,
             "#fdca26"
            ],
            [
             1,
             "#f0f921"
            ]
           ]
          },
          "colorway": [
           "#636efa",
           "#EF553B",
           "#00cc96",
           "#ab63fa",
           "#FFA15A",
           "#19d3f3",
           "#FF6692",
           "#B6E880",
           "#FF97FF",
           "#FECB52"
          ],
          "font": {
           "color": "#2a3f5f"
          },
          "geo": {
           "bgcolor": "white",
           "lakecolor": "white",
           "landcolor": "#E5ECF6",
           "showlakes": true,
           "showland": true,
           "subunitcolor": "white"
          },
          "hoverlabel": {
           "align": "left"
          },
          "hovermode": "closest",
          "mapbox": {
           "style": "light"
          },
          "paper_bgcolor": "white",
          "plot_bgcolor": "#E5ECF6",
          "polar": {
           "angularaxis": {
            "gridcolor": "white",
            "linecolor": "white",
            "ticks": ""
           },
           "bgcolor": "#E5ECF6",
           "radialaxis": {
            "gridcolor": "white",
            "linecolor": "white",
            "ticks": ""
           }
          },
          "scene": {
           "xaxis": {
            "backgroundcolor": "#E5ECF6",
            "gridcolor": "white",
            "gridwidth": 2,
            "linecolor": "white",
            "showbackground": true,
            "ticks": "",
            "zerolinecolor": "white"
           },
           "yaxis": {
            "backgroundcolor": "#E5ECF6",
            "gridcolor": "white",
            "gridwidth": 2,
            "linecolor": "white",
            "showbackground": true,
            "ticks": "",
            "zerolinecolor": "white"
           },
           "zaxis": {
            "backgroundcolor": "#E5ECF6",
            "gridcolor": "white",
            "gridwidth": 2,
            "linecolor": "white",
            "showbackground": true,
            "ticks": "",
            "zerolinecolor": "white"
           }
          },
          "shapedefaults": {
           "line": {
            "color": "#2a3f5f"
           }
          },
          "ternary": {
           "aaxis": {
            "gridcolor": "white",
            "linecolor": "white",
            "ticks": ""
           },
           "baxis": {
            "gridcolor": "white",
            "linecolor": "white",
            "ticks": ""
           },
           "bgcolor": "#E5ECF6",
           "caxis": {
            "gridcolor": "white",
            "linecolor": "white",
            "ticks": ""
           }
          },
          "title": {
           "x": 0.05
          },
          "xaxis": {
           "automargin": true,
           "gridcolor": "white",
           "linecolor": "white",
           "ticks": "",
           "title": {
            "standoff": 15
           },
           "zerolinecolor": "white",
           "zerolinewidth": 2
          },
          "yaxis": {
           "automargin": true,
           "gridcolor": "white",
           "linecolor": "white",
           "ticks": "",
           "title": {
            "standoff": 15
           },
           "zerolinecolor": "white",
           "zerolinewidth": 2
          }
         }
        },
        "title": {
         "text": "Block Citizens in Circuit C0"
        },
        "xaxis": {
         "anchor": "y",
         "domain": [
          0,
          1
         ],
         "title": {
          "text": "index"
         }
        },
        "yaxis": {
         "anchor": "x",
         "domain": [
          0,
          1
         ],
         "title": {
          "text": "Citizens"
         }
        }
       }
      }
     },
     "metadata": {},
     "output_type": "display_data"
    },
    {
     "data": {
      "application/vnd.plotly.v1+json": {
       "config": {
        "plotlyServerURL": "https://plot.ly"
       },
       "data": [
        {
         "alignmentgroup": "True",
         "hovertemplate": "index=%{x}<br>Importance=%{y}<extra></extra>",
         "legendgroup": "",
         "marker": {
          "color": "#636efa",
          "pattern": {
           "shape": ""
          }
         },
         "name": "",
         "offsetgroup": "",
         "orientation": "v",
         "showlegend": false,
         "textposition": "auto",
         "type": "bar",
         "x": [
          0,
          1,
          2
         ],
         "xaxis": "x",
         "y": [
          0.4643353490273757,
          0.4646015296358373,
          0.4642022587231449
         ],
         "yaxis": "y"
        }
       ],
       "layout": {
        "barmode": "relative",
        "height": 800,
        "legend": {
         "tracegroupgap": 0
        },
        "template": {
         "data": {
          "bar": [
           {
            "error_x": {
             "color": "#2a3f5f"
            },
            "error_y": {
             "color": "#2a3f5f"
            },
            "marker": {
             "line": {
              "color": "#E5ECF6",
              "width": 0.5
             },
             "pattern": {
              "fillmode": "overlay",
              "size": 10,
              "solidity": 0.2
             }
            },
            "type": "bar"
           }
          ],
          "barpolar": [
           {
            "marker": {
             "line": {
              "color": "#E5ECF6",
              "width": 0.5
             },
             "pattern": {
              "fillmode": "overlay",
              "size": 10,
              "solidity": 0.2
             }
            },
            "type": "barpolar"
           }
          ],
          "carpet": [
           {
            "aaxis": {
             "endlinecolor": "#2a3f5f",
             "gridcolor": "white",
             "linecolor": "white",
             "minorgridcolor": "white",
             "startlinecolor": "#2a3f5f"
            },
            "baxis": {
             "endlinecolor": "#2a3f5f",
             "gridcolor": "white",
             "linecolor": "white",
             "minorgridcolor": "white",
             "startlinecolor": "#2a3f5f"
            },
            "type": "carpet"
           }
          ],
          "choropleth": [
           {
            "colorbar": {
             "outlinewidth": 0,
             "ticks": ""
            },
            "type": "choropleth"
           }
          ],
          "contour": [
           {
            "colorbar": {
             "outlinewidth": 0,
             "ticks": ""
            },
            "colorscale": [
             [
              0,
              "#0d0887"
             ],
             [
              0.1111111111111111,
              "#46039f"
             ],
             [
              0.2222222222222222,
              "#7201a8"
             ],
             [
              0.3333333333333333,
              "#9c179e"
             ],
             [
              0.4444444444444444,
              "#bd3786"
             ],
             [
              0.5555555555555556,
              "#d8576b"
             ],
             [
              0.6666666666666666,
              "#ed7953"
             ],
             [
              0.7777777777777778,
              "#fb9f3a"
             ],
             [
              0.8888888888888888,
              "#fdca26"
             ],
             [
              1,
              "#f0f921"
             ]
            ],
            "type": "contour"
           }
          ],
          "contourcarpet": [
           {
            "colorbar": {
             "outlinewidth": 0,
             "ticks": ""
            },
            "type": "contourcarpet"
           }
          ],
          "heatmap": [
           {
            "colorbar": {
             "outlinewidth": 0,
             "ticks": ""
            },
            "colorscale": [
             [
              0,
              "#0d0887"
             ],
             [
              0.1111111111111111,
              "#46039f"
             ],
             [
              0.2222222222222222,
              "#7201a8"
             ],
             [
              0.3333333333333333,
              "#9c179e"
             ],
             [
              0.4444444444444444,
              "#bd3786"
             ],
             [
              0.5555555555555556,
              "#d8576b"
             ],
             [
              0.6666666666666666,
              "#ed7953"
             ],
             [
              0.7777777777777778,
              "#fb9f3a"
             ],
             [
              0.8888888888888888,
              "#fdca26"
             ],
             [
              1,
              "#f0f921"
             ]
            ],
            "type": "heatmap"
           }
          ],
          "heatmapgl": [
           {
            "colorbar": {
             "outlinewidth": 0,
             "ticks": ""
            },
            "colorscale": [
             [
              0,
              "#0d0887"
             ],
             [
              0.1111111111111111,
              "#46039f"
             ],
             [
              0.2222222222222222,
              "#7201a8"
             ],
             [
              0.3333333333333333,
              "#9c179e"
             ],
             [
              0.4444444444444444,
              "#bd3786"
             ],
             [
              0.5555555555555556,
              "#d8576b"
             ],
             [
              0.6666666666666666,
              "#ed7953"
             ],
             [
              0.7777777777777778,
              "#fb9f3a"
             ],
             [
              0.8888888888888888,
              "#fdca26"
             ],
             [
              1,
              "#f0f921"
             ]
            ],
            "type": "heatmapgl"
           }
          ],
          "histogram": [
           {
            "marker": {
             "pattern": {
              "fillmode": "overlay",
              "size": 10,
              "solidity": 0.2
             }
            },
            "type": "histogram"
           }
          ],
          "histogram2d": [
           {
            "colorbar": {
             "outlinewidth": 0,
             "ticks": ""
            },
            "colorscale": [
             [
              0,
              "#0d0887"
             ],
             [
              0.1111111111111111,
              "#46039f"
             ],
             [
              0.2222222222222222,
              "#7201a8"
             ],
             [
              0.3333333333333333,
              "#9c179e"
             ],
             [
              0.4444444444444444,
              "#bd3786"
             ],
             [
              0.5555555555555556,
              "#d8576b"
             ],
             [
              0.6666666666666666,
              "#ed7953"
             ],
             [
              0.7777777777777778,
              "#fb9f3a"
             ],
             [
              0.8888888888888888,
              "#fdca26"
             ],
             [
              1,
              "#f0f921"
             ]
            ],
            "type": "histogram2d"
           }
          ],
          "histogram2dcontour": [
           {
            "colorbar": {
             "outlinewidth": 0,
             "ticks": ""
            },
            "colorscale": [
             [
              0,
              "#0d0887"
             ],
             [
              0.1111111111111111,
              "#46039f"
             ],
             [
              0.2222222222222222,
              "#7201a8"
             ],
             [
              0.3333333333333333,
              "#9c179e"
             ],
             [
              0.4444444444444444,
              "#bd3786"
             ],
             [
              0.5555555555555556,
              "#d8576b"
             ],
             [
              0.6666666666666666,
              "#ed7953"
             ],
             [
              0.7777777777777778,
              "#fb9f3a"
             ],
             [
              0.8888888888888888,
              "#fdca26"
             ],
             [
              1,
              "#f0f921"
             ]
            ],
            "type": "histogram2dcontour"
           }
          ],
          "mesh3d": [
           {
            "colorbar": {
             "outlinewidth": 0,
             "ticks": ""
            },
            "type": "mesh3d"
           }
          ],
          "parcoords": [
           {
            "line": {
             "colorbar": {
              "outlinewidth": 0,
              "ticks": ""
             }
            },
            "type": "parcoords"
           }
          ],
          "pie": [
           {
            "automargin": true,
            "type": "pie"
           }
          ],
          "scatter": [
           {
            "fillpattern": {
             "fillmode": "overlay",
             "size": 10,
             "solidity": 0.2
            },
            "type": "scatter"
           }
          ],
          "scatter3d": [
           {
            "line": {
             "colorbar": {
              "outlinewidth": 0,
              "ticks": ""
             }
            },
            "marker": {
             "colorbar": {
              "outlinewidth": 0,
              "ticks": ""
             }
            },
            "type": "scatter3d"
           }
          ],
          "scattercarpet": [
           {
            "marker": {
             "colorbar": {
              "outlinewidth": 0,
              "ticks": ""
             }
            },
            "type": "scattercarpet"
           }
          ],
          "scattergeo": [
           {
            "marker": {
             "colorbar": {
              "outlinewidth": 0,
              "ticks": ""
             }
            },
            "type": "scattergeo"
           }
          ],
          "scattergl": [
           {
            "marker": {
             "colorbar": {
              "outlinewidth": 0,
              "ticks": ""
             }
            },
            "type": "scattergl"
           }
          ],
          "scattermapbox": [
           {
            "marker": {
             "colorbar": {
              "outlinewidth": 0,
              "ticks": ""
             }
            },
            "type": "scattermapbox"
           }
          ],
          "scatterpolar": [
           {
            "marker": {
             "colorbar": {
              "outlinewidth": 0,
              "ticks": ""
             }
            },
            "type": "scatterpolar"
           }
          ],
          "scatterpolargl": [
           {
            "marker": {
             "colorbar": {
              "outlinewidth": 0,
              "ticks": ""
             }
            },
            "type": "scatterpolargl"
           }
          ],
          "scatterternary": [
           {
            "marker": {
             "colorbar": {
              "outlinewidth": 0,
              "ticks": ""
             }
            },
            "type": "scatterternary"
           }
          ],
          "surface": [
           {
            "colorbar": {
             "outlinewidth": 0,
             "ticks": ""
            },
            "colorscale": [
             [
              0,
              "#0d0887"
             ],
             [
              0.1111111111111111,
              "#46039f"
             ],
             [
              0.2222222222222222,
              "#7201a8"
             ],
             [
              0.3333333333333333,
              "#9c179e"
             ],
             [
              0.4444444444444444,
              "#bd3786"
             ],
             [
              0.5555555555555556,
              "#d8576b"
             ],
             [
              0.6666666666666666,
              "#ed7953"
             ],
             [
              0.7777777777777778,
              "#fb9f3a"
             ],
             [
              0.8888888888888888,
              "#fdca26"
             ],
             [
              1,
              "#f0f921"
             ]
            ],
            "type": "surface"
           }
          ],
          "table": [
           {
            "cells": {
             "fill": {
              "color": "#EBF0F8"
             },
             "line": {
              "color": "white"
             }
            },
            "header": {
             "fill": {
              "color": "#C8D4E3"
             },
             "line": {
              "color": "white"
             }
            },
            "type": "table"
           }
          ]
         },
         "layout": {
          "annotationdefaults": {
           "arrowcolor": "#2a3f5f",
           "arrowhead": 0,
           "arrowwidth": 1
          },
          "autotypenumbers": "strict",
          "coloraxis": {
           "colorbar": {
            "outlinewidth": 0,
            "ticks": ""
           }
          },
          "colorscale": {
           "diverging": [
            [
             0,
             "#8e0152"
            ],
            [
             0.1,
             "#c51b7d"
            ],
            [
             0.2,
             "#de77ae"
            ],
            [
             0.3,
             "#f1b6da"
            ],
            [
             0.4,
             "#fde0ef"
            ],
            [
             0.5,
             "#f7f7f7"
            ],
            [
             0.6,
             "#e6f5d0"
            ],
            [
             0.7,
             "#b8e186"
            ],
            [
             0.8,
             "#7fbc41"
            ],
            [
             0.9,
             "#4d9221"
            ],
            [
             1,
             "#276419"
            ]
           ],
           "sequential": [
            [
             0,
             "#0d0887"
            ],
            [
             0.1111111111111111,
             "#46039f"
            ],
            [
             0.2222222222222222,
             "#7201a8"
            ],
            [
             0.3333333333333333,
             "#9c179e"
            ],
            [
             0.4444444444444444,
             "#bd3786"
            ],
            [
             0.5555555555555556,
             "#d8576b"
            ],
            [
             0.6666666666666666,
             "#ed7953"
            ],
            [
             0.7777777777777778,
             "#fb9f3a"
            ],
            [
             0.8888888888888888,
             "#fdca26"
            ],
            [
             1,
             "#f0f921"
            ]
           ],
           "sequentialminus": [
            [
             0,
             "#0d0887"
            ],
            [
             0.1111111111111111,
             "#46039f"
            ],
            [
             0.2222222222222222,
             "#7201a8"
            ],
            [
             0.3333333333333333,
             "#9c179e"
            ],
            [
             0.4444444444444444,
             "#bd3786"
            ],
            [
             0.5555555555555556,
             "#d8576b"
            ],
            [
             0.6666666666666666,
             "#ed7953"
            ],
            [
             0.7777777777777778,
             "#fb9f3a"
            ],
            [
             0.8888888888888888,
             "#fdca26"
            ],
            [
             1,
             "#f0f921"
            ]
           ]
          },
          "colorway": [
           "#636efa",
           "#EF553B",
           "#00cc96",
           "#ab63fa",
           "#FFA15A",
           "#19d3f3",
           "#FF6692",
           "#B6E880",
           "#FF97FF",
           "#FECB52"
          ],
          "font": {
           "color": "#2a3f5f"
          },
          "geo": {
           "bgcolor": "white",
           "lakecolor": "white",
           "landcolor": "#E5ECF6",
           "showlakes": true,
           "showland": true,
           "subunitcolor": "white"
          },
          "hoverlabel": {
           "align": "left"
          },
          "hovermode": "closest",
          "mapbox": {
           "style": "light"
          },
          "paper_bgcolor": "white",
          "plot_bgcolor": "#E5ECF6",
          "polar": {
           "angularaxis": {
            "gridcolor": "white",
            "linecolor": "white",
            "ticks": ""
           },
           "bgcolor": "#E5ECF6",
           "radialaxis": {
            "gridcolor": "white",
            "linecolor": "white",
            "ticks": ""
           }
          },
          "scene": {
           "xaxis": {
            "backgroundcolor": "#E5ECF6",
            "gridcolor": "white",
            "gridwidth": 2,
            "linecolor": "white",
            "showbackground": true,
            "ticks": "",
            "zerolinecolor": "white"
           },
           "yaxis": {
            "backgroundcolor": "#E5ECF6",
            "gridcolor": "white",
            "gridwidth": 2,
            "linecolor": "white",
            "showbackground": true,
            "ticks": "",
            "zerolinecolor": "white"
           },
           "zaxis": {
            "backgroundcolor": "#E5ECF6",
            "gridcolor": "white",
            "gridwidth": 2,
            "linecolor": "white",
            "showbackground": true,
            "ticks": "",
            "zerolinecolor": "white"
           }
          },
          "shapedefaults": {
           "line": {
            "color": "#2a3f5f"
           }
          },
          "ternary": {
           "aaxis": {
            "gridcolor": "white",
            "linecolor": "white",
            "ticks": ""
           },
           "baxis": {
            "gridcolor": "white",
            "linecolor": "white",
            "ticks": ""
           },
           "bgcolor": "#E5ECF6",
           "caxis": {
            "gridcolor": "white",
            "linecolor": "white",
            "ticks": ""
           }
          },
          "title": {
           "x": 0.05
          },
          "xaxis": {
           "automargin": true,
           "gridcolor": "white",
           "linecolor": "white",
           "ticks": "",
           "title": {
            "standoff": 15
           },
           "zerolinecolor": "white",
           "zerolinewidth": 2
          },
          "yaxis": {
           "automargin": true,
           "gridcolor": "white",
           "linecolor": "white",
           "ticks": "",
           "title": {
            "standoff": 15
           },
           "zerolinecolor": "white",
           "zerolinewidth": 2
          }
         }
        },
        "title": {
         "text": "Block Importance in Circuit C0"
        },
        "xaxis": {
         "anchor": "y",
         "domain": [
          0,
          1
         ],
         "title": {
          "text": "index"
         }
        },
        "yaxis": {
         "anchor": "x",
         "domain": [
          0,
          1
         ],
         "title": {
          "text": "Importance"
         }
        }
       }
      }
     },
     "metadata": {},
     "output_type": "display_data"
    },
    {
     "data": {
      "application/vnd.plotly.v1+json": {
       "config": {
        "plotlyServerURL": "https://plot.ly"
       },
       "data": [
        {
         "alignmentgroup": "True",
         "hovertemplate": "index=%{x}<br>Demand per Hour=%{y}<extra></extra>",
         "legendgroup": "",
         "marker": {
          "color": "#636efa",
          "pattern": {
           "shape": ""
          }
         },
         "name": "",
         "offsetgroup": "",
         "orientation": "v",
         "showlegend": false,
         "textposition": "auto",
         "type": "bar",
         "x": [
          0,
          1,
          2
         ],
         "xaxis": "x",
         "y": [
          915.833726032806,
          943.0784114076444,
          923.4979566981613
         ],
         "yaxis": "y"
        }
       ],
       "layout": {
        "barmode": "relative",
        "height": 800,
        "legend": {
         "tracegroupgap": 0
        },
        "template": {
         "data": {
          "bar": [
           {
            "error_x": {
             "color": "#2a3f5f"
            },
            "error_y": {
             "color": "#2a3f5f"
            },
            "marker": {
             "line": {
              "color": "#E5ECF6",
              "width": 0.5
             },
             "pattern": {
              "fillmode": "overlay",
              "size": 10,
              "solidity": 0.2
             }
            },
            "type": "bar"
           }
          ],
          "barpolar": [
           {
            "marker": {
             "line": {
              "color": "#E5ECF6",
              "width": 0.5
             },
             "pattern": {
              "fillmode": "overlay",
              "size": 10,
              "solidity": 0.2
             }
            },
            "type": "barpolar"
           }
          ],
          "carpet": [
           {
            "aaxis": {
             "endlinecolor": "#2a3f5f",
             "gridcolor": "white",
             "linecolor": "white",
             "minorgridcolor": "white",
             "startlinecolor": "#2a3f5f"
            },
            "baxis": {
             "endlinecolor": "#2a3f5f",
             "gridcolor": "white",
             "linecolor": "white",
             "minorgridcolor": "white",
             "startlinecolor": "#2a3f5f"
            },
            "type": "carpet"
           }
          ],
          "choropleth": [
           {
            "colorbar": {
             "outlinewidth": 0,
             "ticks": ""
            },
            "type": "choropleth"
           }
          ],
          "contour": [
           {
            "colorbar": {
             "outlinewidth": 0,
             "ticks": ""
            },
            "colorscale": [
             [
              0,
              "#0d0887"
             ],
             [
              0.1111111111111111,
              "#46039f"
             ],
             [
              0.2222222222222222,
              "#7201a8"
             ],
             [
              0.3333333333333333,
              "#9c179e"
             ],
             [
              0.4444444444444444,
              "#bd3786"
             ],
             [
              0.5555555555555556,
              "#d8576b"
             ],
             [
              0.6666666666666666,
              "#ed7953"
             ],
             [
              0.7777777777777778,
              "#fb9f3a"
             ],
             [
              0.8888888888888888,
              "#fdca26"
             ],
             [
              1,
              "#f0f921"
             ]
            ],
            "type": "contour"
           }
          ],
          "contourcarpet": [
           {
            "colorbar": {
             "outlinewidth": 0,
             "ticks": ""
            },
            "type": "contourcarpet"
           }
          ],
          "heatmap": [
           {
            "colorbar": {
             "outlinewidth": 0,
             "ticks": ""
            },
            "colorscale": [
             [
              0,
              "#0d0887"
             ],
             [
              0.1111111111111111,
              "#46039f"
             ],
             [
              0.2222222222222222,
              "#7201a8"
             ],
             [
              0.3333333333333333,
              "#9c179e"
             ],
             [
              0.4444444444444444,
              "#bd3786"
             ],
             [
              0.5555555555555556,
              "#d8576b"
             ],
             [
              0.6666666666666666,
              "#ed7953"
             ],
             [
              0.7777777777777778,
              "#fb9f3a"
             ],
             [
              0.8888888888888888,
              "#fdca26"
             ],
             [
              1,
              "#f0f921"
             ]
            ],
            "type": "heatmap"
           }
          ],
          "heatmapgl": [
           {
            "colorbar": {
             "outlinewidth": 0,
             "ticks": ""
            },
            "colorscale": [
             [
              0,
              "#0d0887"
             ],
             [
              0.1111111111111111,
              "#46039f"
             ],
             [
              0.2222222222222222,
              "#7201a8"
             ],
             [
              0.3333333333333333,
              "#9c179e"
             ],
             [
              0.4444444444444444,
              "#bd3786"
             ],
             [
              0.5555555555555556,
              "#d8576b"
             ],
             [
              0.6666666666666666,
              "#ed7953"
             ],
             [
              0.7777777777777778,
              "#fb9f3a"
             ],
             [
              0.8888888888888888,
              "#fdca26"
             ],
             [
              1,
              "#f0f921"
             ]
            ],
            "type": "heatmapgl"
           }
          ],
          "histogram": [
           {
            "marker": {
             "pattern": {
              "fillmode": "overlay",
              "size": 10,
              "solidity": 0.2
             }
            },
            "type": "histogram"
           }
          ],
          "histogram2d": [
           {
            "colorbar": {
             "outlinewidth": 0,
             "ticks": ""
            },
            "colorscale": [
             [
              0,
              "#0d0887"
             ],
             [
              0.1111111111111111,
              "#46039f"
             ],
             [
              0.2222222222222222,
              "#7201a8"
             ],
             [
              0.3333333333333333,
              "#9c179e"
             ],
             [
              0.4444444444444444,
              "#bd3786"
             ],
             [
              0.5555555555555556,
              "#d8576b"
             ],
             [
              0.6666666666666666,
              "#ed7953"
             ],
             [
              0.7777777777777778,
              "#fb9f3a"
             ],
             [
              0.8888888888888888,
              "#fdca26"
             ],
             [
              1,
              "#f0f921"
             ]
            ],
            "type": "histogram2d"
           }
          ],
          "histogram2dcontour": [
           {
            "colorbar": {
             "outlinewidth": 0,
             "ticks": ""
            },
            "colorscale": [
             [
              0,
              "#0d0887"
             ],
             [
              0.1111111111111111,
              "#46039f"
             ],
             [
              0.2222222222222222,
              "#7201a8"
             ],
             [
              0.3333333333333333,
              "#9c179e"
             ],
             [
              0.4444444444444444,
              "#bd3786"
             ],
             [
              0.5555555555555556,
              "#d8576b"
             ],
             [
              0.6666666666666666,
              "#ed7953"
             ],
             [
              0.7777777777777778,
              "#fb9f3a"
             ],
             [
              0.8888888888888888,
              "#fdca26"
             ],
             [
              1,
              "#f0f921"
             ]
            ],
            "type": "histogram2dcontour"
           }
          ],
          "mesh3d": [
           {
            "colorbar": {
             "outlinewidth": 0,
             "ticks": ""
            },
            "type": "mesh3d"
           }
          ],
          "parcoords": [
           {
            "line": {
             "colorbar": {
              "outlinewidth": 0,
              "ticks": ""
             }
            },
            "type": "parcoords"
           }
          ],
          "pie": [
           {
            "automargin": true,
            "type": "pie"
           }
          ],
          "scatter": [
           {
            "fillpattern": {
             "fillmode": "overlay",
             "size": 10,
             "solidity": 0.2
            },
            "type": "scatter"
           }
          ],
          "scatter3d": [
           {
            "line": {
             "colorbar": {
              "outlinewidth": 0,
              "ticks": ""
             }
            },
            "marker": {
             "colorbar": {
              "outlinewidth": 0,
              "ticks": ""
             }
            },
            "type": "scatter3d"
           }
          ],
          "scattercarpet": [
           {
            "marker": {
             "colorbar": {
              "outlinewidth": 0,
              "ticks": ""
             }
            },
            "type": "scattercarpet"
           }
          ],
          "scattergeo": [
           {
            "marker": {
             "colorbar": {
              "outlinewidth": 0,
              "ticks": ""
             }
            },
            "type": "scattergeo"
           }
          ],
          "scattergl": [
           {
            "marker": {
             "colorbar": {
              "outlinewidth": 0,
              "ticks": ""
             }
            },
            "type": "scattergl"
           }
          ],
          "scattermapbox": [
           {
            "marker": {
             "colorbar": {
              "outlinewidth": 0,
              "ticks": ""
             }
            },
            "type": "scattermapbox"
           }
          ],
          "scatterpolar": [
           {
            "marker": {
             "colorbar": {
              "outlinewidth": 0,
              "ticks": ""
             }
            },
            "type": "scatterpolar"
           }
          ],
          "scatterpolargl": [
           {
            "marker": {
             "colorbar": {
              "outlinewidth": 0,
              "ticks": ""
             }
            },
            "type": "scatterpolargl"
           }
          ],
          "scatterternary": [
           {
            "marker": {
             "colorbar": {
              "outlinewidth": 0,
              "ticks": ""
             }
            },
            "type": "scatterternary"
           }
          ],
          "surface": [
           {
            "colorbar": {
             "outlinewidth": 0,
             "ticks": ""
            },
            "colorscale": [
             [
              0,
              "#0d0887"
             ],
             [
              0.1111111111111111,
              "#46039f"
             ],
             [
              0.2222222222222222,
              "#7201a8"
             ],
             [
              0.3333333333333333,
              "#9c179e"
             ],
             [
              0.4444444444444444,
              "#bd3786"
             ],
             [
              0.5555555555555556,
              "#d8576b"
             ],
             [
              0.6666666666666666,
              "#ed7953"
             ],
             [
              0.7777777777777778,
              "#fb9f3a"
             ],
             [
              0.8888888888888888,
              "#fdca26"
             ],
             [
              1,
              "#f0f921"
             ]
            ],
            "type": "surface"
           }
          ],
          "table": [
           {
            "cells": {
             "fill": {
              "color": "#EBF0F8"
             },
             "line": {
              "color": "white"
             }
            },
            "header": {
             "fill": {
              "color": "#C8D4E3"
             },
             "line": {
              "color": "white"
             }
            },
            "type": "table"
           }
          ]
         },
         "layout": {
          "annotationdefaults": {
           "arrowcolor": "#2a3f5f",
           "arrowhead": 0,
           "arrowwidth": 1
          },
          "autotypenumbers": "strict",
          "coloraxis": {
           "colorbar": {
            "outlinewidth": 0,
            "ticks": ""
           }
          },
          "colorscale": {
           "diverging": [
            [
             0,
             "#8e0152"
            ],
            [
             0.1,
             "#c51b7d"
            ],
            [
             0.2,
             "#de77ae"
            ],
            [
             0.3,
             "#f1b6da"
            ],
            [
             0.4,
             "#fde0ef"
            ],
            [
             0.5,
             "#f7f7f7"
            ],
            [
             0.6,
             "#e6f5d0"
            ],
            [
             0.7,
             "#b8e186"
            ],
            [
             0.8,
             "#7fbc41"
            ],
            [
             0.9,
             "#4d9221"
            ],
            [
             1,
             "#276419"
            ]
           ],
           "sequential": [
            [
             0,
             "#0d0887"
            ],
            [
             0.1111111111111111,
             "#46039f"
            ],
            [
             0.2222222222222222,
             "#7201a8"
            ],
            [
             0.3333333333333333,
             "#9c179e"
            ],
            [
             0.4444444444444444,
             "#bd3786"
            ],
            [
             0.5555555555555556,
             "#d8576b"
            ],
            [
             0.6666666666666666,
             "#ed7953"
            ],
            [
             0.7777777777777778,
             "#fb9f3a"
            ],
            [
             0.8888888888888888,
             "#fdca26"
            ],
            [
             1,
             "#f0f921"
            ]
           ],
           "sequentialminus": [
            [
             0,
             "#0d0887"
            ],
            [
             0.1111111111111111,
             "#46039f"
            ],
            [
             0.2222222222222222,
             "#7201a8"
            ],
            [
             0.3333333333333333,
             "#9c179e"
            ],
            [
             0.4444444444444444,
             "#bd3786"
            ],
            [
             0.5555555555555556,
             "#d8576b"
            ],
            [
             0.6666666666666666,
             "#ed7953"
            ],
            [
             0.7777777777777778,
             "#fb9f3a"
            ],
            [
             0.8888888888888888,
             "#fdca26"
            ],
            [
             1,
             "#f0f921"
            ]
           ]
          },
          "colorway": [
           "#636efa",
           "#EF553B",
           "#00cc96",
           "#ab63fa",
           "#FFA15A",
           "#19d3f3",
           "#FF6692",
           "#B6E880",
           "#FF97FF",
           "#FECB52"
          ],
          "font": {
           "color": "#2a3f5f"
          },
          "geo": {
           "bgcolor": "white",
           "lakecolor": "white",
           "landcolor": "#E5ECF6",
           "showlakes": true,
           "showland": true,
           "subunitcolor": "white"
          },
          "hoverlabel": {
           "align": "left"
          },
          "hovermode": "closest",
          "mapbox": {
           "style": "light"
          },
          "paper_bgcolor": "white",
          "plot_bgcolor": "#E5ECF6",
          "polar": {
           "angularaxis": {
            "gridcolor": "white",
            "linecolor": "white",
            "ticks": ""
           },
           "bgcolor": "#E5ECF6",
           "radialaxis": {
            "gridcolor": "white",
            "linecolor": "white",
            "ticks": ""
           }
          },
          "scene": {
           "xaxis": {
            "backgroundcolor": "#E5ECF6",
            "gridcolor": "white",
            "gridwidth": 2,
            "linecolor": "white",
            "showbackground": true,
            "ticks": "",
            "zerolinecolor": "white"
           },
           "yaxis": {
            "backgroundcolor": "#E5ECF6",
            "gridcolor": "white",
            "gridwidth": 2,
            "linecolor": "white",
            "showbackground": true,
            "ticks": "",
            "zerolinecolor": "white"
           },
           "zaxis": {
            "backgroundcolor": "#E5ECF6",
            "gridcolor": "white",
            "gridwidth": 2,
            "linecolor": "white",
            "showbackground": true,
            "ticks": "",
            "zerolinecolor": "white"
           }
          },
          "shapedefaults": {
           "line": {
            "color": "#2a3f5f"
           }
          },
          "ternary": {
           "aaxis": {
            "gridcolor": "white",
            "linecolor": "white",
            "ticks": ""
           },
           "baxis": {
            "gridcolor": "white",
            "linecolor": "white",
            "ticks": ""
           },
           "bgcolor": "#E5ECF6",
           "caxis": {
            "gridcolor": "white",
            "linecolor": "white",
            "ticks": ""
           }
          },
          "title": {
           "x": 0.05
          },
          "xaxis": {
           "automargin": true,
           "gridcolor": "white",
           "linecolor": "white",
           "ticks": "",
           "title": {
            "standoff": 15
           },
           "zerolinecolor": "white",
           "zerolinewidth": 2
          },
          "yaxis": {
           "automargin": true,
           "gridcolor": "white",
           "linecolor": "white",
           "ticks": "",
           "title": {
            "standoff": 15
           },
           "zerolinecolor": "white",
           "zerolinewidth": 2
          }
         }
        },
        "title": {
         "text": "Block Demand per Hour in Circuit C0"
        },
        "xaxis": {
         "anchor": "y",
         "domain": [
          0,
          1
         ],
         "title": {
          "text": "index"
         }
        },
        "yaxis": {
         "anchor": "x",
         "domain": [
          0,
          1
         ],
         "title": {
          "text": "Demand per Hour"
         }
        }
       }
      }
     },
     "metadata": {},
     "output_type": "display_data"
    }
   ],
   "source": [
    "# All data of one block of a circuit (importance, citizens, industrialization, demand per hour)\n",
    "\n",
    "circuit_stats = electric_system_circuits_list[0]\n",
    "\n",
    "blocks = circuit_stats.blocks\n",
    "\n",
    "citizens = []\n",
    "importance = []\n",
    "demand_per_hour = []\n",
    "\n",
    "for block in blocks:\n",
    "    citizens.append(block.citizens.amount)\n",
    "    importance.append(block.importance)\n",
    "    demand_per_hour.append(sum(block.predicted_demand_per_hour))\n",
    "\n",
    "block_stats_df = pd.DataFrame(\n",
    "    {\n",
    "        \"Citizens\": citizens,\n",
    "        \"Importance\": importance,\n",
    "        \"Demand per Hour\": demand_per_hour,\n",
    "    }\n",
    ")\n",
    "\n",
    "fig_citizens = px.bar(\n",
    "    block_stats_df,\n",
    "    x=block_stats_df.index,\n",
    "    y=\"Citizens\",\n",
    "    title=f\"Block Citizens in Circuit {circuit_stats.id}\",\n",
    "    height=800,\n",
    ")\n",
    "\n",
    "fig_importance = px.bar(\n",
    "    block_stats_df,\n",
    "    x=block_stats_df.index,\n",
    "    y=\"Importance\",\n",
    "    title=f\"Block Importance in Circuit {circuit_stats.id}\",\n",
    "    height=800,\n",
    ")\n",
    "\n",
    "fig_demand_per_hour = px.bar(\n",
    "    block_stats_df,\n",
    "    x=block_stats_df.index,\n",
    "    y=\"Demand per Hour\",\n",
    "    title=f\"Block Demand per Hour in Circuit {circuit_stats.id}\",\n",
    "    height=800,\n",
    ")\n",
    "\n",
    "\n",
    "fig_citizens.show()\n",
    "fig_importance.show()\n",
    "fig_demand_per_hour.show()"
   ]
  },
  {
   "cell_type": "code",
   "execution_count": 10,
   "metadata": {},
   "outputs": [
    {
     "data": {
      "application/vnd.plotly.v1+json": {
       "config": {
        "plotlyServerURL": "https://plot.ly"
       },
       "data": [
        {
         "alignmentgroup": "True",
         "hovertemplate": "Thermoelectric ID=Th0<br>Circuit ID=%{x}<br>Citizens=%{y}<extra></extra>",
         "legendgroup": "Th0",
         "marker": {
          "color": "#636EFA",
          "pattern": {
           "shape": ""
          }
         },
         "name": "Th0",
         "offsetgroup": "Th0",
         "orientation": "v",
         "showlegend": true,
         "textposition": "auto",
         "type": "bar",
         "x": [
          "C5",
          "C8",
          "C9",
          "C12",
          "C18",
          "C26",
          "C27",
          "C29",
          "C32",
          "C38",
          "C42",
          "C46",
          "C48"
         ],
         "xaxis": "x",
         "y": [
          14041,
          9122,
          8453,
          5161,
          8002,
          7962,
          4984,
          2484,
          4477,
          16163,
          1565,
          1138,
          11367
         ],
         "yaxis": "y"
        },
        {
         "alignmentgroup": "True",
         "hovertemplate": "Thermoelectric ID=Th1<br>Circuit ID=%{x}<br>Citizens=%{y}<extra></extra>",
         "legendgroup": "Th1",
         "marker": {
          "color": "#EF553B",
          "pattern": {
           "shape": ""
          }
         },
         "name": "Th1",
         "offsetgroup": "Th1",
         "orientation": "v",
         "showlegend": true,
         "textposition": "auto",
         "type": "bar",
         "x": [
          "C10",
          "C15",
          "C21",
          "C24",
          "C31",
          "C36",
          "C44",
          "C47"
         ],
         "xaxis": "x",
         "y": [
          4278,
          5651,
          3645,
          8294,
          2142,
          800,
          17888,
          16092
         ],
         "yaxis": "y"
        },
        {
         "alignmentgroup": "True",
         "hovertemplate": "Thermoelectric ID=Th2<br>Circuit ID=%{x}<br>Citizens=%{y}<extra></extra>",
         "legendgroup": "Th2",
         "marker": {
          "color": "#00CC96",
          "pattern": {
           "shape": ""
          }
         },
         "name": "Th2",
         "offsetgroup": "Th2",
         "orientation": "v",
         "showlegend": true,
         "textposition": "auto",
         "type": "bar",
         "x": [
          "C11",
          "C20",
          "C37"
         ],
         "xaxis": "x",
         "y": [
          8763,
          19689,
          6793
         ],
         "yaxis": "y"
        },
        {
         "alignmentgroup": "True",
         "hovertemplate": "Thermoelectric ID=Th3<br>Circuit ID=%{x}<br>Citizens=%{y}<extra></extra>",
         "legendgroup": "Th3",
         "marker": {
          "color": "#AB63FA",
          "pattern": {
           "shape": ""
          }
         },
         "name": "Th3",
         "offsetgroup": "Th3",
         "orientation": "v",
         "showlegend": true,
         "textposition": "auto",
         "type": "bar",
         "x": [
          "C0",
          "C19",
          "C30",
          "C35",
          "C45"
         ],
         "xaxis": "x",
         "y": [
          1886,
          8576,
          6020,
          18908,
          5732
         ],
         "yaxis": "y"
        },
        {
         "alignmentgroup": "True",
         "hovertemplate": "Thermoelectric ID=Th4<br>Circuit ID=%{x}<br>Citizens=%{y}<extra></extra>",
         "legendgroup": "Th4",
         "marker": {
          "color": "#FFA15A",
          "pattern": {
           "shape": ""
          }
         },
         "name": "Th4",
         "offsetgroup": "Th4",
         "orientation": "v",
         "showlegend": true,
         "textposition": "auto",
         "type": "bar",
         "x": [
          "C6",
          "C14",
          "C41"
         ],
         "xaxis": "x",
         "y": [
          1067,
          12884,
          3551
         ],
         "yaxis": "y"
        },
        {
         "alignmentgroup": "True",
         "hovertemplate": "Thermoelectric ID=Th5<br>Circuit ID=%{x}<br>Citizens=%{y}<extra></extra>",
         "legendgroup": "Th5",
         "marker": {
          "color": "#19D3F3",
          "pattern": {
           "shape": ""
          }
         },
         "name": "Th5",
         "offsetgroup": "Th5",
         "orientation": "v",
         "showlegend": true,
         "textposition": "auto",
         "type": "bar",
         "x": [
          "C7",
          "C22",
          "C23",
          "C43"
         ],
         "xaxis": "x",
         "y": [
          2420,
          2266,
          16271,
          5035
         ],
         "yaxis": "y"
        },
        {
         "alignmentgroup": "True",
         "hovertemplate": "Thermoelectric ID=Th6<br>Circuit ID=%{x}<br>Citizens=%{y}<extra></extra>",
         "legendgroup": "Th6",
         "marker": {
          "color": "#FF6692",
          "pattern": {
           "shape": ""
          }
         },
         "name": "Th6",
         "offsetgroup": "Th6",
         "orientation": "v",
         "showlegend": true,
         "textposition": "auto",
         "type": "bar",
         "x": [
          "C1",
          "C2",
          "C28",
          "C34",
          "C40"
         ],
         "xaxis": "x",
         "y": [
          7325,
          909,
          2516,
          18280,
          4068
         ],
         "yaxis": "y"
        },
        {
         "alignmentgroup": "True",
         "hovertemplate": "Thermoelectric ID=Th7<br>Circuit ID=%{x}<br>Citizens=%{y}<extra></extra>",
         "legendgroup": "Th7",
         "marker": {
          "color": "#B6E880",
          "pattern": {
           "shape": ""
          }
         },
         "name": "Th7",
         "offsetgroup": "Th7",
         "orientation": "v",
         "showlegend": true,
         "textposition": "auto",
         "type": "bar",
         "x": [
          "C3",
          "C4",
          "C13",
          "C16",
          "C17",
          "C25",
          "C33",
          "C39",
          "C49"
         ],
         "xaxis": "x",
         "y": [
          621,
          4582,
          2263,
          14929,
          14653,
          1817,
          8509,
          4789,
          1353
         ],
         "yaxis": "y"
        }
       ],
       "layout": {
        "barmode": "relative",
        "height": 800,
        "legend": {
         "title": {
          "text": "Thermoelectric ID"
         },
         "tracegroupgap": 0
        },
        "template": {
         "data": {
          "bar": [
           {
            "error_x": {
             "color": "#2a3f5f"
            },
            "error_y": {
             "color": "#2a3f5f"
            },
            "marker": {
             "line": {
              "color": "#E5ECF6",
              "width": 0.5
             },
             "pattern": {
              "fillmode": "overlay",
              "size": 10,
              "solidity": 0.2
             }
            },
            "type": "bar"
           }
          ],
          "barpolar": [
           {
            "marker": {
             "line": {
              "color": "#E5ECF6",
              "width": 0.5
             },
             "pattern": {
              "fillmode": "overlay",
              "size": 10,
              "solidity": 0.2
             }
            },
            "type": "barpolar"
           }
          ],
          "carpet": [
           {
            "aaxis": {
             "endlinecolor": "#2a3f5f",
             "gridcolor": "white",
             "linecolor": "white",
             "minorgridcolor": "white",
             "startlinecolor": "#2a3f5f"
            },
            "baxis": {
             "endlinecolor": "#2a3f5f",
             "gridcolor": "white",
             "linecolor": "white",
             "minorgridcolor": "white",
             "startlinecolor": "#2a3f5f"
            },
            "type": "carpet"
           }
          ],
          "choropleth": [
           {
            "colorbar": {
             "outlinewidth": 0,
             "ticks": ""
            },
            "type": "choropleth"
           }
          ],
          "contour": [
           {
            "colorbar": {
             "outlinewidth": 0,
             "ticks": ""
            },
            "colorscale": [
             [
              0,
              "#0d0887"
             ],
             [
              0.1111111111111111,
              "#46039f"
             ],
             [
              0.2222222222222222,
              "#7201a8"
             ],
             [
              0.3333333333333333,
              "#9c179e"
             ],
             [
              0.4444444444444444,
              "#bd3786"
             ],
             [
              0.5555555555555556,
              "#d8576b"
             ],
             [
              0.6666666666666666,
              "#ed7953"
             ],
             [
              0.7777777777777778,
              "#fb9f3a"
             ],
             [
              0.8888888888888888,
              "#fdca26"
             ],
             [
              1,
              "#f0f921"
             ]
            ],
            "type": "contour"
           }
          ],
          "contourcarpet": [
           {
            "colorbar": {
             "outlinewidth": 0,
             "ticks": ""
            },
            "type": "contourcarpet"
           }
          ],
          "heatmap": [
           {
            "colorbar": {
             "outlinewidth": 0,
             "ticks": ""
            },
            "colorscale": [
             [
              0,
              "#0d0887"
             ],
             [
              0.1111111111111111,
              "#46039f"
             ],
             [
              0.2222222222222222,
              "#7201a8"
             ],
             [
              0.3333333333333333,
              "#9c179e"
             ],
             [
              0.4444444444444444,
              "#bd3786"
             ],
             [
              0.5555555555555556,
              "#d8576b"
             ],
             [
              0.6666666666666666,
              "#ed7953"
             ],
             [
              0.7777777777777778,
              "#fb9f3a"
             ],
             [
              0.8888888888888888,
              "#fdca26"
             ],
             [
              1,
              "#f0f921"
             ]
            ],
            "type": "heatmap"
           }
          ],
          "heatmapgl": [
           {
            "colorbar": {
             "outlinewidth": 0,
             "ticks": ""
            },
            "colorscale": [
             [
              0,
              "#0d0887"
             ],
             [
              0.1111111111111111,
              "#46039f"
             ],
             [
              0.2222222222222222,
              "#7201a8"
             ],
             [
              0.3333333333333333,
              "#9c179e"
             ],
             [
              0.4444444444444444,
              "#bd3786"
             ],
             [
              0.5555555555555556,
              "#d8576b"
             ],
             [
              0.6666666666666666,
              "#ed7953"
             ],
             [
              0.7777777777777778,
              "#fb9f3a"
             ],
             [
              0.8888888888888888,
              "#fdca26"
             ],
             [
              1,
              "#f0f921"
             ]
            ],
            "type": "heatmapgl"
           }
          ],
          "histogram": [
           {
            "marker": {
             "pattern": {
              "fillmode": "overlay",
              "size": 10,
              "solidity": 0.2
             }
            },
            "type": "histogram"
           }
          ],
          "histogram2d": [
           {
            "colorbar": {
             "outlinewidth": 0,
             "ticks": ""
            },
            "colorscale": [
             [
              0,
              "#0d0887"
             ],
             [
              0.1111111111111111,
              "#46039f"
             ],
             [
              0.2222222222222222,
              "#7201a8"
             ],
             [
              0.3333333333333333,
              "#9c179e"
             ],
             [
              0.4444444444444444,
              "#bd3786"
             ],
             [
              0.5555555555555556,
              "#d8576b"
             ],
             [
              0.6666666666666666,
              "#ed7953"
             ],
             [
              0.7777777777777778,
              "#fb9f3a"
             ],
             [
              0.8888888888888888,
              "#fdca26"
             ],
             [
              1,
              "#f0f921"
             ]
            ],
            "type": "histogram2d"
           }
          ],
          "histogram2dcontour": [
           {
            "colorbar": {
             "outlinewidth": 0,
             "ticks": ""
            },
            "colorscale": [
             [
              0,
              "#0d0887"
             ],
             [
              0.1111111111111111,
              "#46039f"
             ],
             [
              0.2222222222222222,
              "#7201a8"
             ],
             [
              0.3333333333333333,
              "#9c179e"
             ],
             [
              0.4444444444444444,
              "#bd3786"
             ],
             [
              0.5555555555555556,
              "#d8576b"
             ],
             [
              0.6666666666666666,
              "#ed7953"
             ],
             [
              0.7777777777777778,
              "#fb9f3a"
             ],
             [
              0.8888888888888888,
              "#fdca26"
             ],
             [
              1,
              "#f0f921"
             ]
            ],
            "type": "histogram2dcontour"
           }
          ],
          "mesh3d": [
           {
            "colorbar": {
             "outlinewidth": 0,
             "ticks": ""
            },
            "type": "mesh3d"
           }
          ],
          "parcoords": [
           {
            "line": {
             "colorbar": {
              "outlinewidth": 0,
              "ticks": ""
             }
            },
            "type": "parcoords"
           }
          ],
          "pie": [
           {
            "automargin": true,
            "type": "pie"
           }
          ],
          "scatter": [
           {
            "fillpattern": {
             "fillmode": "overlay",
             "size": 10,
             "solidity": 0.2
            },
            "type": "scatter"
           }
          ],
          "scatter3d": [
           {
            "line": {
             "colorbar": {
              "outlinewidth": 0,
              "ticks": ""
             }
            },
            "marker": {
             "colorbar": {
              "outlinewidth": 0,
              "ticks": ""
             }
            },
            "type": "scatter3d"
           }
          ],
          "scattercarpet": [
           {
            "marker": {
             "colorbar": {
              "outlinewidth": 0,
              "ticks": ""
             }
            },
            "type": "scattercarpet"
           }
          ],
          "scattergeo": [
           {
            "marker": {
             "colorbar": {
              "outlinewidth": 0,
              "ticks": ""
             }
            },
            "type": "scattergeo"
           }
          ],
          "scattergl": [
           {
            "marker": {
             "colorbar": {
              "outlinewidth": 0,
              "ticks": ""
             }
            },
            "type": "scattergl"
           }
          ],
          "scattermapbox": [
           {
            "marker": {
             "colorbar": {
              "outlinewidth": 0,
              "ticks": ""
             }
            },
            "type": "scattermapbox"
           }
          ],
          "scatterpolar": [
           {
            "marker": {
             "colorbar": {
              "outlinewidth": 0,
              "ticks": ""
             }
            },
            "type": "scatterpolar"
           }
          ],
          "scatterpolargl": [
           {
            "marker": {
             "colorbar": {
              "outlinewidth": 0,
              "ticks": ""
             }
            },
            "type": "scatterpolargl"
           }
          ],
          "scatterternary": [
           {
            "marker": {
             "colorbar": {
              "outlinewidth": 0,
              "ticks": ""
             }
            },
            "type": "scatterternary"
           }
          ],
          "surface": [
           {
            "colorbar": {
             "outlinewidth": 0,
             "ticks": ""
            },
            "colorscale": [
             [
              0,
              "#0d0887"
             ],
             [
              0.1111111111111111,
              "#46039f"
             ],
             [
              0.2222222222222222,
              "#7201a8"
             ],
             [
              0.3333333333333333,
              "#9c179e"
             ],
             [
              0.4444444444444444,
              "#bd3786"
             ],
             [
              0.5555555555555556,
              "#d8576b"
             ],
             [
              0.6666666666666666,
              "#ed7953"
             ],
             [
              0.7777777777777778,
              "#fb9f3a"
             ],
             [
              0.8888888888888888,
              "#fdca26"
             ],
             [
              1,
              "#f0f921"
             ]
            ],
            "type": "surface"
           }
          ],
          "table": [
           {
            "cells": {
             "fill": {
              "color": "#EBF0F8"
             },
             "line": {
              "color": "white"
             }
            },
            "header": {
             "fill": {
              "color": "#C8D4E3"
             },
             "line": {
              "color": "white"
             }
            },
            "type": "table"
           }
          ]
         },
         "layout": {
          "annotationdefaults": {
           "arrowcolor": "#2a3f5f",
           "arrowhead": 0,
           "arrowwidth": 1
          },
          "autotypenumbers": "strict",
          "coloraxis": {
           "colorbar": {
            "outlinewidth": 0,
            "ticks": ""
           }
          },
          "colorscale": {
           "diverging": [
            [
             0,
             "#8e0152"
            ],
            [
             0.1,
             "#c51b7d"
            ],
            [
             0.2,
             "#de77ae"
            ],
            [
             0.3,
             "#f1b6da"
            ],
            [
             0.4,
             "#fde0ef"
            ],
            [
             0.5,
             "#f7f7f7"
            ],
            [
             0.6,
             "#e6f5d0"
            ],
            [
             0.7,
             "#b8e186"
            ],
            [
             0.8,
             "#7fbc41"
            ],
            [
             0.9,
             "#4d9221"
            ],
            [
             1,
             "#276419"
            ]
           ],
           "sequential": [
            [
             0,
             "#0d0887"
            ],
            [
             0.1111111111111111,
             "#46039f"
            ],
            [
             0.2222222222222222,
             "#7201a8"
            ],
            [
             0.3333333333333333,
             "#9c179e"
            ],
            [
             0.4444444444444444,
             "#bd3786"
            ],
            [
             0.5555555555555556,
             "#d8576b"
            ],
            [
             0.6666666666666666,
             "#ed7953"
            ],
            [
             0.7777777777777778,
             "#fb9f3a"
            ],
            [
             0.8888888888888888,
             "#fdca26"
            ],
            [
             1,
             "#f0f921"
            ]
           ],
           "sequentialminus": [
            [
             0,
             "#0d0887"
            ],
            [
             0.1111111111111111,
             "#46039f"
            ],
            [
             0.2222222222222222,
             "#7201a8"
            ],
            [
             0.3333333333333333,
             "#9c179e"
            ],
            [
             0.4444444444444444,
             "#bd3786"
            ],
            [
             0.5555555555555556,
             "#d8576b"
            ],
            [
             0.6666666666666666,
             "#ed7953"
            ],
            [
             0.7777777777777778,
             "#fb9f3a"
            ],
            [
             0.8888888888888888,
             "#fdca26"
            ],
            [
             1,
             "#f0f921"
            ]
           ]
          },
          "colorway": [
           "#636efa",
           "#EF553B",
           "#00cc96",
           "#ab63fa",
           "#FFA15A",
           "#19d3f3",
           "#FF6692",
           "#B6E880",
           "#FF97FF",
           "#FECB52"
          ],
          "font": {
           "color": "#2a3f5f"
          },
          "geo": {
           "bgcolor": "white",
           "lakecolor": "white",
           "landcolor": "#E5ECF6",
           "showlakes": true,
           "showland": true,
           "subunitcolor": "white"
          },
          "hoverlabel": {
           "align": "left"
          },
          "hovermode": "closest",
          "mapbox": {
           "style": "light"
          },
          "paper_bgcolor": "white",
          "plot_bgcolor": "#E5ECF6",
          "polar": {
           "angularaxis": {
            "gridcolor": "white",
            "linecolor": "white",
            "ticks": ""
           },
           "bgcolor": "#E5ECF6",
           "radialaxis": {
            "gridcolor": "white",
            "linecolor": "white",
            "ticks": ""
           }
          },
          "scene": {
           "xaxis": {
            "backgroundcolor": "#E5ECF6",
            "gridcolor": "white",
            "gridwidth": 2,
            "linecolor": "white",
            "showbackground": true,
            "ticks": "",
            "zerolinecolor": "white"
           },
           "yaxis": {
            "backgroundcolor": "#E5ECF6",
            "gridcolor": "white",
            "gridwidth": 2,
            "linecolor": "white",
            "showbackground": true,
            "ticks": "",
            "zerolinecolor": "white"
           },
           "zaxis": {
            "backgroundcolor": "#E5ECF6",
            "gridcolor": "white",
            "gridwidth": 2,
            "linecolor": "white",
            "showbackground": true,
            "ticks": "",
            "zerolinecolor": "white"
           }
          },
          "shapedefaults": {
           "line": {
            "color": "#2a3f5f"
           }
          },
          "ternary": {
           "aaxis": {
            "gridcolor": "white",
            "linecolor": "white",
            "ticks": ""
           },
           "baxis": {
            "gridcolor": "white",
            "linecolor": "white",
            "ticks": ""
           },
           "bgcolor": "#E5ECF6",
           "caxis": {
            "gridcolor": "white",
            "linecolor": "white",
            "ticks": ""
           }
          },
          "title": {
           "x": 0.05
          },
          "xaxis": {
           "automargin": true,
           "gridcolor": "white",
           "linecolor": "white",
           "ticks": "",
           "title": {
            "standoff": 15
           },
           "zerolinecolor": "white",
           "zerolinewidth": 2
          },
          "yaxis": {
           "automargin": true,
           "gridcolor": "white",
           "linecolor": "white",
           "ticks": "",
           "title": {
            "standoff": 15
           },
           "zerolinecolor": "white",
           "zerolinewidth": 2
          }
         }
        },
        "title": {
         "text": "Total Citizens per Circuit"
        },
        "xaxis": {
         "anchor": "y",
         "domain": [
          0,
          1
         ],
         "title": {
          "text": "Circuit ID"
         }
        },
        "yaxis": {
         "anchor": "x",
         "domain": [
          0,
          1
         ],
         "title": {
          "text": "Citizens"
         }
        }
       }
      }
     },
     "metadata": {},
     "output_type": "display_data"
    },
    {
     "data": {
      "application/vnd.plotly.v1+json": {
       "config": {
        "plotlyServerURL": "https://plot.ly"
       },
       "data": [
        {
         "alignmentgroup": "True",
         "hovertemplate": "Thermoelectric ID=Th0<br>Circuit ID=%{x}<br>Importance=%{y}<extra></extra>",
         "legendgroup": "Th0",
         "marker": {
          "color": "#636EFA",
          "pattern": {
           "shape": ""
          }
         },
         "name": "Th0",
         "offsetgroup": "Th0",
         "orientation": "v",
         "showlegend": true,
         "textposition": "auto",
         "type": "bar",
         "x": [
          "C5",
          "C8",
          "C9",
          "C12",
          "C18",
          "C26",
          "C27",
          "C29",
          "C32",
          "C38",
          "C42",
          "C46",
          "C48"
         ],
         "xaxis": "x",
         "y": [
          0.58933921461222,
          0.6482102560058918,
          0.8078295124688913,
          0.5915126411701965,
          0.5782998204835188,
          0.6149816616384784,
          0.5471924246279648,
          0.1454177649448931,
          0.3588387194626441,
          0.23553295792066636,
          0.2748136105693535,
          0.2222429403981919,
          0.5290112809944639
         ],
         "yaxis": "y"
        },
        {
         "alignmentgroup": "True",
         "hovertemplate": "Thermoelectric ID=Th1<br>Circuit ID=%{x}<br>Importance=%{y}<extra></extra>",
         "legendgroup": "Th1",
         "marker": {
          "color": "#EF553B",
          "pattern": {
           "shape": ""
          }
         },
         "name": "Th1",
         "offsetgroup": "Th1",
         "orientation": "v",
         "showlegend": true,
         "textposition": "auto",
         "type": "bar",
         "x": [
          "C10",
          "C15",
          "C21",
          "C24",
          "C31",
          "C36",
          "C44",
          "C47"
         ],
         "xaxis": "x",
         "y": [
          0.2800171894458835,
          0.6323915227030323,
          0.41687204799634314,
          0.4112513305398954,
          0.13008031004621873,
          0.7023589969272184,
          0.5966710931230637,
          0.22434627124282597
         ],
         "yaxis": "y"
        },
        {
         "alignmentgroup": "True",
         "hovertemplate": "Thermoelectric ID=Th2<br>Circuit ID=%{x}<br>Importance=%{y}<extra></extra>",
         "legendgroup": "Th2",
         "marker": {
          "color": "#00CC96",
          "pattern": {
           "shape": ""
          }
         },
         "name": "Th2",
         "offsetgroup": "Th2",
         "orientation": "v",
         "showlegend": true,
         "textposition": "auto",
         "type": "bar",
         "x": [
          "C11",
          "C20",
          "C37"
         ],
         "xaxis": "x",
         "y": [
          0.5847261808878055,
          0.368521096525979,
          0.45524122664939815
         ],
         "yaxis": "y"
        },
        {
         "alignmentgroup": "True",
         "hovertemplate": "Thermoelectric ID=Th3<br>Circuit ID=%{x}<br>Importance=%{y}<extra></extra>",
         "legendgroup": "Th3",
         "marker": {
          "color": "#AB63FA",
          "pattern": {
           "shape": ""
          }
         },
         "name": "Th3",
         "offsetgroup": "Th3",
         "orientation": "v",
         "showlegend": true,
         "textposition": "auto",
         "type": "bar",
         "x": [
          "C0",
          "C19",
          "C30",
          "C35",
          "C45"
         ],
         "xaxis": "x",
         "y": [
          0.6423531373863578,
          0.9031922660114786,
          0.49522421138706896,
          0.40855745454314596,
          0.7791200325562497
         ],
         "yaxis": "y"
        },
        {
         "alignmentgroup": "True",
         "hovertemplate": "Thermoelectric ID=Th4<br>Circuit ID=%{x}<br>Importance=%{y}<extra></extra>",
         "legendgroup": "Th4",
         "marker": {
          "color": "#FFA15A",
          "pattern": {
           "shape": ""
          }
         },
         "name": "Th4",
         "offsetgroup": "Th4",
         "orientation": "v",
         "showlegend": true,
         "textposition": "auto",
         "type": "bar",
         "x": [
          "C6",
          "C14",
          "C41"
         ],
         "xaxis": "x",
         "y": [
          0.5327187966123217,
          0.6079659013154554,
          0.32463451127533144
         ],
         "yaxis": "y"
        },
        {
         "alignmentgroup": "True",
         "hovertemplate": "Thermoelectric ID=Th5<br>Circuit ID=%{x}<br>Importance=%{y}<extra></extra>",
         "legendgroup": "Th5",
         "marker": {
          "color": "#19D3F3",
          "pattern": {
           "shape": ""
          }
         },
         "name": "Th5",
         "offsetgroup": "Th5",
         "orientation": "v",
         "showlegend": true,
         "textposition": "auto",
         "type": "bar",
         "x": [
          "C7",
          "C22",
          "C23",
          "C43"
         ],
         "xaxis": "x",
         "y": [
          0.48518654510132564,
          0.6871725,
          0.4419821338056783,
          0.48098469406775357
         ],
         "yaxis": "y"
        },
        {
         "alignmentgroup": "True",
         "hovertemplate": "Thermoelectric ID=Th6<br>Circuit ID=%{x}<br>Importance=%{y}<extra></extra>",
         "legendgroup": "Th6",
         "marker": {
          "color": "#FF6692",
          "pattern": {
           "shape": ""
          }
         },
         "name": "Th6",
         "offsetgroup": "Th6",
         "orientation": "v",
         "showlegend": true,
         "textposition": "auto",
         "type": "bar",
         "x": [
          "C1",
          "C2",
          "C28",
          "C34",
          "C40"
         ],
         "xaxis": "x",
         "y": [
          0.6113941793133222,
          0.5361090488089797,
          0.42180944626441164,
          0.3719244057341663,
          0.20247547965869267
         ],
         "yaxis": "y"
        },
        {
         "alignmentgroup": "True",
         "hovertemplate": "Thermoelectric ID=Th7<br>Circuit ID=%{x}<br>Importance=%{y}<extra></extra>",
         "legendgroup": "Th7",
         "marker": {
          "color": "#B6E880",
          "pattern": {
           "shape": ""
          }
         },
         "name": "Th7",
         "offsetgroup": "Th7",
         "orientation": "v",
         "showlegend": true,
         "textposition": "auto",
         "type": "bar",
         "x": [
          "C3",
          "C4",
          "C13",
          "C16",
          "C17",
          "C25",
          "C33",
          "C39",
          "C49"
         ],
         "xaxis": "x",
         "y": [
          0.28582208001930015,
          0.7152307306363961,
          0.4567301887856164,
          0.6582169976128803,
          0.4786841330946214,
          0.6635786355833206,
          0.2933452327695668,
          0.5352523230484026,
          0.27598645451775106
         ],
         "yaxis": "y"
        }
       ],
       "layout": {
        "barmode": "relative",
        "height": 800,
        "legend": {
         "title": {
          "text": "Thermoelectric ID"
         },
         "tracegroupgap": 0
        },
        "template": {
         "data": {
          "bar": [
           {
            "error_x": {
             "color": "#2a3f5f"
            },
            "error_y": {
             "color": "#2a3f5f"
            },
            "marker": {
             "line": {
              "color": "#E5ECF6",
              "width": 0.5
             },
             "pattern": {
              "fillmode": "overlay",
              "size": 10,
              "solidity": 0.2
             }
            },
            "type": "bar"
           }
          ],
          "barpolar": [
           {
            "marker": {
             "line": {
              "color": "#E5ECF6",
              "width": 0.5
             },
             "pattern": {
              "fillmode": "overlay",
              "size": 10,
              "solidity": 0.2
             }
            },
            "type": "barpolar"
           }
          ],
          "carpet": [
           {
            "aaxis": {
             "endlinecolor": "#2a3f5f",
             "gridcolor": "white",
             "linecolor": "white",
             "minorgridcolor": "white",
             "startlinecolor": "#2a3f5f"
            },
            "baxis": {
             "endlinecolor": "#2a3f5f",
             "gridcolor": "white",
             "linecolor": "white",
             "minorgridcolor": "white",
             "startlinecolor": "#2a3f5f"
            },
            "type": "carpet"
           }
          ],
          "choropleth": [
           {
            "colorbar": {
             "outlinewidth": 0,
             "ticks": ""
            },
            "type": "choropleth"
           }
          ],
          "contour": [
           {
            "colorbar": {
             "outlinewidth": 0,
             "ticks": ""
            },
            "colorscale": [
             [
              0,
              "#0d0887"
             ],
             [
              0.1111111111111111,
              "#46039f"
             ],
             [
              0.2222222222222222,
              "#7201a8"
             ],
             [
              0.3333333333333333,
              "#9c179e"
             ],
             [
              0.4444444444444444,
              "#bd3786"
             ],
             [
              0.5555555555555556,
              "#d8576b"
             ],
             [
              0.6666666666666666,
              "#ed7953"
             ],
             [
              0.7777777777777778,
              "#fb9f3a"
             ],
             [
              0.8888888888888888,
              "#fdca26"
             ],
             [
              1,
              "#f0f921"
             ]
            ],
            "type": "contour"
           }
          ],
          "contourcarpet": [
           {
            "colorbar": {
             "outlinewidth": 0,
             "ticks": ""
            },
            "type": "contourcarpet"
           }
          ],
          "heatmap": [
           {
            "colorbar": {
             "outlinewidth": 0,
             "ticks": ""
            },
            "colorscale": [
             [
              0,
              "#0d0887"
             ],
             [
              0.1111111111111111,
              "#46039f"
             ],
             [
              0.2222222222222222,
              "#7201a8"
             ],
             [
              0.3333333333333333,
              "#9c179e"
             ],
             [
              0.4444444444444444,
              "#bd3786"
             ],
             [
              0.5555555555555556,
              "#d8576b"
             ],
             [
              0.6666666666666666,
              "#ed7953"
             ],
             [
              0.7777777777777778,
              "#fb9f3a"
             ],
             [
              0.8888888888888888,
              "#fdca26"
             ],
             [
              1,
              "#f0f921"
             ]
            ],
            "type": "heatmap"
           }
          ],
          "heatmapgl": [
           {
            "colorbar": {
             "outlinewidth": 0,
             "ticks": ""
            },
            "colorscale": [
             [
              0,
              "#0d0887"
             ],
             [
              0.1111111111111111,
              "#46039f"
             ],
             [
              0.2222222222222222,
              "#7201a8"
             ],
             [
              0.3333333333333333,
              "#9c179e"
             ],
             [
              0.4444444444444444,
              "#bd3786"
             ],
             [
              0.5555555555555556,
              "#d8576b"
             ],
             [
              0.6666666666666666,
              "#ed7953"
             ],
             [
              0.7777777777777778,
              "#fb9f3a"
             ],
             [
              0.8888888888888888,
              "#fdca26"
             ],
             [
              1,
              "#f0f921"
             ]
            ],
            "type": "heatmapgl"
           }
          ],
          "histogram": [
           {
            "marker": {
             "pattern": {
              "fillmode": "overlay",
              "size": 10,
              "solidity": 0.2
             }
            },
            "type": "histogram"
           }
          ],
          "histogram2d": [
           {
            "colorbar": {
             "outlinewidth": 0,
             "ticks": ""
            },
            "colorscale": [
             [
              0,
              "#0d0887"
             ],
             [
              0.1111111111111111,
              "#46039f"
             ],
             [
              0.2222222222222222,
              "#7201a8"
             ],
             [
              0.3333333333333333,
              "#9c179e"
             ],
             [
              0.4444444444444444,
              "#bd3786"
             ],
             [
              0.5555555555555556,
              "#d8576b"
             ],
             [
              0.6666666666666666,
              "#ed7953"
             ],
             [
              0.7777777777777778,
              "#fb9f3a"
             ],
             [
              0.8888888888888888,
              "#fdca26"
             ],
             [
              1,
              "#f0f921"
             ]
            ],
            "type": "histogram2d"
           }
          ],
          "histogram2dcontour": [
           {
            "colorbar": {
             "outlinewidth": 0,
             "ticks": ""
            },
            "colorscale": [
             [
              0,
              "#0d0887"
             ],
             [
              0.1111111111111111,
              "#46039f"
             ],
             [
              0.2222222222222222,
              "#7201a8"
             ],
             [
              0.3333333333333333,
              "#9c179e"
             ],
             [
              0.4444444444444444,
              "#bd3786"
             ],
             [
              0.5555555555555556,
              "#d8576b"
             ],
             [
              0.6666666666666666,
              "#ed7953"
             ],
             [
              0.7777777777777778,
              "#fb9f3a"
             ],
             [
              0.8888888888888888,
              "#fdca26"
             ],
             [
              1,
              "#f0f921"
             ]
            ],
            "type": "histogram2dcontour"
           }
          ],
          "mesh3d": [
           {
            "colorbar": {
             "outlinewidth": 0,
             "ticks": ""
            },
            "type": "mesh3d"
           }
          ],
          "parcoords": [
           {
            "line": {
             "colorbar": {
              "outlinewidth": 0,
              "ticks": ""
             }
            },
            "type": "parcoords"
           }
          ],
          "pie": [
           {
            "automargin": true,
            "type": "pie"
           }
          ],
          "scatter": [
           {
            "fillpattern": {
             "fillmode": "overlay",
             "size": 10,
             "solidity": 0.2
            },
            "type": "scatter"
           }
          ],
          "scatter3d": [
           {
            "line": {
             "colorbar": {
              "outlinewidth": 0,
              "ticks": ""
             }
            },
            "marker": {
             "colorbar": {
              "outlinewidth": 0,
              "ticks": ""
             }
            },
            "type": "scatter3d"
           }
          ],
          "scattercarpet": [
           {
            "marker": {
             "colorbar": {
              "outlinewidth": 0,
              "ticks": ""
             }
            },
            "type": "scattercarpet"
           }
          ],
          "scattergeo": [
           {
            "marker": {
             "colorbar": {
              "outlinewidth": 0,
              "ticks": ""
             }
            },
            "type": "scattergeo"
           }
          ],
          "scattergl": [
           {
            "marker": {
             "colorbar": {
              "outlinewidth": 0,
              "ticks": ""
             }
            },
            "type": "scattergl"
           }
          ],
          "scattermapbox": [
           {
            "marker": {
             "colorbar": {
              "outlinewidth": 0,
              "ticks": ""
             }
            },
            "type": "scattermapbox"
           }
          ],
          "scatterpolar": [
           {
            "marker": {
             "colorbar": {
              "outlinewidth": 0,
              "ticks": ""
             }
            },
            "type": "scatterpolar"
           }
          ],
          "scatterpolargl": [
           {
            "marker": {
             "colorbar": {
              "outlinewidth": 0,
              "ticks": ""
             }
            },
            "type": "scatterpolargl"
           }
          ],
          "scatterternary": [
           {
            "marker": {
             "colorbar": {
              "outlinewidth": 0,
              "ticks": ""
             }
            },
            "type": "scatterternary"
           }
          ],
          "surface": [
           {
            "colorbar": {
             "outlinewidth": 0,
             "ticks": ""
            },
            "colorscale": [
             [
              0,
              "#0d0887"
             ],
             [
              0.1111111111111111,
              "#46039f"
             ],
             [
              0.2222222222222222,
              "#7201a8"
             ],
             [
              0.3333333333333333,
              "#9c179e"
             ],
             [
              0.4444444444444444,
              "#bd3786"
             ],
             [
              0.5555555555555556,
              "#d8576b"
             ],
             [
              0.6666666666666666,
              "#ed7953"
             ],
             [
              0.7777777777777778,
              "#fb9f3a"
             ],
             [
              0.8888888888888888,
              "#fdca26"
             ],
             [
              1,
              "#f0f921"
             ]
            ],
            "type": "surface"
           }
          ],
          "table": [
           {
            "cells": {
             "fill": {
              "color": "#EBF0F8"
             },
             "line": {
              "color": "white"
             }
            },
            "header": {
             "fill": {
              "color": "#C8D4E3"
             },
             "line": {
              "color": "white"
             }
            },
            "type": "table"
           }
          ]
         },
         "layout": {
          "annotationdefaults": {
           "arrowcolor": "#2a3f5f",
           "arrowhead": 0,
           "arrowwidth": 1
          },
          "autotypenumbers": "strict",
          "coloraxis": {
           "colorbar": {
            "outlinewidth": 0,
            "ticks": ""
           }
          },
          "colorscale": {
           "diverging": [
            [
             0,
             "#8e0152"
            ],
            [
             0.1,
             "#c51b7d"
            ],
            [
             0.2,
             "#de77ae"
            ],
            [
             0.3,
             "#f1b6da"
            ],
            [
             0.4,
             "#fde0ef"
            ],
            [
             0.5,
             "#f7f7f7"
            ],
            [
             0.6,
             "#e6f5d0"
            ],
            [
             0.7,
             "#b8e186"
            ],
            [
             0.8,
             "#7fbc41"
            ],
            [
             0.9,
             "#4d9221"
            ],
            [
             1,
             "#276419"
            ]
           ],
           "sequential": [
            [
             0,
             "#0d0887"
            ],
            [
             0.1111111111111111,
             "#46039f"
            ],
            [
             0.2222222222222222,
             "#7201a8"
            ],
            [
             0.3333333333333333,
             "#9c179e"
            ],
            [
             0.4444444444444444,
             "#bd3786"
            ],
            [
             0.5555555555555556,
             "#d8576b"
            ],
            [
             0.6666666666666666,
             "#ed7953"
            ],
            [
             0.7777777777777778,
             "#fb9f3a"
            ],
            [
             0.8888888888888888,
             "#fdca26"
            ],
            [
             1,
             "#f0f921"
            ]
           ],
           "sequentialminus": [
            [
             0,
             "#0d0887"
            ],
            [
             0.1111111111111111,
             "#46039f"
            ],
            [
             0.2222222222222222,
             "#7201a8"
            ],
            [
             0.3333333333333333,
             "#9c179e"
            ],
            [
             0.4444444444444444,
             "#bd3786"
            ],
            [
             0.5555555555555556,
             "#d8576b"
            ],
            [
             0.6666666666666666,
             "#ed7953"
            ],
            [
             0.7777777777777778,
             "#fb9f3a"
            ],
            [
             0.8888888888888888,
             "#fdca26"
            ],
            [
             1,
             "#f0f921"
            ]
           ]
          },
          "colorway": [
           "#636efa",
           "#EF553B",
           "#00cc96",
           "#ab63fa",
           "#FFA15A",
           "#19d3f3",
           "#FF6692",
           "#B6E880",
           "#FF97FF",
           "#FECB52"
          ],
          "font": {
           "color": "#2a3f5f"
          },
          "geo": {
           "bgcolor": "white",
           "lakecolor": "white",
           "landcolor": "#E5ECF6",
           "showlakes": true,
           "showland": true,
           "subunitcolor": "white"
          },
          "hoverlabel": {
           "align": "left"
          },
          "hovermode": "closest",
          "mapbox": {
           "style": "light"
          },
          "paper_bgcolor": "white",
          "plot_bgcolor": "#E5ECF6",
          "polar": {
           "angularaxis": {
            "gridcolor": "white",
            "linecolor": "white",
            "ticks": ""
           },
           "bgcolor": "#E5ECF6",
           "radialaxis": {
            "gridcolor": "white",
            "linecolor": "white",
            "ticks": ""
           }
          },
          "scene": {
           "xaxis": {
            "backgroundcolor": "#E5ECF6",
            "gridcolor": "white",
            "gridwidth": 2,
            "linecolor": "white",
            "showbackground": true,
            "ticks": "",
            "zerolinecolor": "white"
           },
           "yaxis": {
            "backgroundcolor": "#E5ECF6",
            "gridcolor": "white",
            "gridwidth": 2,
            "linecolor": "white",
            "showbackground": true,
            "ticks": "",
            "zerolinecolor": "white"
           },
           "zaxis": {
            "backgroundcolor": "#E5ECF6",
            "gridcolor": "white",
            "gridwidth": 2,
            "linecolor": "white",
            "showbackground": true,
            "ticks": "",
            "zerolinecolor": "white"
           }
          },
          "shapedefaults": {
           "line": {
            "color": "#2a3f5f"
           }
          },
          "ternary": {
           "aaxis": {
            "gridcolor": "white",
            "linecolor": "white",
            "ticks": ""
           },
           "baxis": {
            "gridcolor": "white",
            "linecolor": "white",
            "ticks": ""
           },
           "bgcolor": "#E5ECF6",
           "caxis": {
            "gridcolor": "white",
            "linecolor": "white",
            "ticks": ""
           }
          },
          "title": {
           "x": 0.05
          },
          "xaxis": {
           "automargin": true,
           "gridcolor": "white",
           "linecolor": "white",
           "ticks": "",
           "title": {
            "standoff": 15
           },
           "zerolinecolor": "white",
           "zerolinewidth": 2
          },
          "yaxis": {
           "automargin": true,
           "gridcolor": "white",
           "linecolor": "white",
           "ticks": "",
           "title": {
            "standoff": 15
           },
           "zerolinecolor": "white",
           "zerolinewidth": 2
          }
         }
        },
        "title": {
         "text": "Importance per Circuit"
        },
        "xaxis": {
         "anchor": "y",
         "domain": [
          0,
          1
         ],
         "title": {
          "text": "Circuit ID"
         }
        },
        "yaxis": {
         "anchor": "x",
         "domain": [
          0,
          1
         ],
         "title": {
          "text": "Importance"
         }
        }
       }
      }
     },
     "metadata": {},
     "output_type": "display_data"
    }
   ],
   "source": [
    "# Compare data from circuits\n",
    "\n",
    "citizens = []\n",
    "importance = []\n",
    "demand_per_hour = []\n",
    "\n",
    "for circuit in sorted_electric_system_circuit_list:\n",
    "    \n",
    "    importance.append(circuit.importance)\n",
    "    demand_per_hour.append(\n",
    "        sum([sum(block.predicted_demand_per_hour) for block in circuit.blocks])\n",
    "    )\n",
    "\n",
    "# Separate for properties\n",
    "citizens = [\n",
    "    sum(block.citizens.amount for block in circuit.blocks)\n",
    "    for circuit in electric_system_circuits_list\n",
    "]\n",
    "\n",
    "circuit_comparison_df = pd.DataFrame(\n",
    "    {   \"Circuit ID\": [c.id for c in sorted_electric_system_circuit_list], \n",
    "        \"Citizens\": citizens,\n",
    "        \"Importance\": importance,\n",
    "        \"Demand per Hour\": demand_per_hour,\n",
    "    }\n",
    ")\n",
    "\n",
    "fig_citizens = px.bar(\n",
    "    circuit_comparison_df,\n",
    "    x=\"Circuit ID\",\n",
    "    y=\"Citizens\",\n",
    "    title=\"Total Citizens per Circuit\",\n",
    "    height=800,\n",
    "    color=colors,\n",
    "    color_discrete_sequence=px.colors.qualitative.Plotly,\n",
    "    labels={\"color\": \"Thermoelectric ID\"},\n",
    ")\n",
    "\n",
    "fig_importance = px.bar(\n",
    "    circuit_comparison_df,\n",
    "    x=\"Circuit ID\",\n",
    "    y=\"Importance\",\n",
    "    title=\"Importance per Circuit\",\n",
    "    height=800,\n",
    "    color=colors,\n",
    "    color_discrete_sequence=px.colors.qualitative.Plotly,\n",
    "    labels={\"color\": \"Thermoelectric ID\"},\n",
    ")\n",
    "\n",
    "\n",
    "\n",
    "fig_citizens.show()\n",
    "fig_importance.show()\n"
   ]
  },
  {
   "cell_type": "code",
   "execution_count": 11,
   "metadata": {},
   "outputs": [
    {
     "data": {
      "application/vnd.plotly.v1+json": {
       "config": {
        "plotlyServerURL": "https://plot.ly"
       },
       "data": [
        {
         "hovertemplate": "Block ID=Block 1<br>Hour=%{x}<br>Demand (kWh)=%{y}<extra></extra>",
         "legendgroup": "Block 1",
         "line": {
          "color": "#636efa",
          "dash": "solid"
         },
         "marker": {
          "symbol": "circle"
         },
         "mode": "lines",
         "name": "Block 1",
         "orientation": "v",
         "showlegend": true,
         "type": "scatter",
         "x": [
          0,
          1,
          2,
          3,
          4,
          5,
          6,
          7,
          8,
          9,
          10,
          11,
          12,
          13,
          14,
          15,
          16,
          17,
          18,
          19,
          20,
          21,
          22,
          23
         ],
         "xaxis": "x",
         "y": [
          37.97774817438666,
          37.75024717312999,
          32.19390075345049,
          36.73008650335923,
          32.67585056184167,
          39.354990803197914,
          36.4376624883878,
          41.31959117463283,
          45.43744817261009,
          26.499808901288958,
          31.679885934709933,
          34.10012607034257,
          35.56695423479635,
          27.818488001830126,
          34.05766141044632,
          30.385643651533222,
          40.682608294318214,
          49.76761155406507,
          44.02924446079908,
          54.88291505048434,
          52.67101581038543,
          37.71918328515987,
          33.31692024539207,
          42.778133322257816
         ],
         "yaxis": "y"
        },
        {
         "hovertemplate": "Block ID=Block 2<br>Hour=%{x}<br>Demand (kWh)=%{y}<extra></extra>",
         "legendgroup": "Block 2",
         "line": {
          "color": "#EF553B",
          "dash": "solid"
         },
         "marker": {
          "symbol": "circle"
         },
         "mode": "lines",
         "name": "Block 2",
         "orientation": "v",
         "showlegend": true,
         "type": "scatter",
         "x": [
          0,
          1,
          2,
          3,
          4,
          5,
          6,
          7,
          8,
          9,
          10,
          11,
          12,
          13,
          14,
          15,
          16,
          17,
          18,
          19,
          20,
          21,
          22,
          23
         ],
         "xaxis": "x",
         "y": [
          29.776295761493337,
          34.95561731274958,
          32.44884402092015,
          29.43666429788653,
          29.15983879417641,
          46.2885445210298,
          41.73328962216265,
          42.9090424117504,
          40.935574940872314,
          35.67690360129416,
          31.420368420954503,
          25.874668904015586,
          34.03912952743113,
          42.94109647790806,
          27.138257637800862,
          36.014760925187595,
          40.44711336288991,
          50.82267151800913,
          51.55314796288431,
          48.37799469369985,
          56.404014254739025,
          51.120215532442316,
          37.5204204819275,
          46.08393642341913
         ],
         "yaxis": "y"
        },
        {
         "hovertemplate": "Block ID=Block 3<br>Hour=%{x}<br>Demand (kWh)=%{y}<extra></extra>",
         "legendgroup": "Block 3",
         "line": {
          "color": "#00cc96",
          "dash": "solid"
         },
         "marker": {
          "symbol": "circle"
         },
         "mode": "lines",
         "name": "Block 3",
         "orientation": "v",
         "showlegend": true,
         "type": "scatter",
         "x": [
          0,
          1,
          2,
          3,
          4,
          5,
          6,
          7,
          8,
          9,
          10,
          11,
          12,
          13,
          14,
          15,
          16,
          17,
          18,
          19,
          20,
          21,
          22,
          23
         ],
         "xaxis": "x",
         "y": [
          31.21754743976137,
          25.411274795690716,
          33.353106705660565,
          43.94992590692715,
          33.240528327356586,
          43.35076959177918,
          41.00388523244489,
          42.798707168787004,
          51.062969021634274,
          35.6037983593597,
          26.451677837712595,
          37.07834074794189,
          41.985382255424625,
          29.745875427252283,
          30.811833700428583,
          36.54880688104125,
          41.46490598143923,
          40.05658514523806,
          48.17098401981292,
          47.98245408962675,
          45.93840795243524,
          41.93276050289286,
          37.8804895176561,
          36.45694008985757
         ],
         "yaxis": "y"
        }
       ],
       "layout": {
        "height": 800,
        "legend": {
         "title": {
          "text": "Block ID"
         },
         "tracegroupgap": 0
        },
        "template": {
         "data": {
          "bar": [
           {
            "error_x": {
             "color": "#2a3f5f"
            },
            "error_y": {
             "color": "#2a3f5f"
            },
            "marker": {
             "line": {
              "color": "#E5ECF6",
              "width": 0.5
             },
             "pattern": {
              "fillmode": "overlay",
              "size": 10,
              "solidity": 0.2
             }
            },
            "type": "bar"
           }
          ],
          "barpolar": [
           {
            "marker": {
             "line": {
              "color": "#E5ECF6",
              "width": 0.5
             },
             "pattern": {
              "fillmode": "overlay",
              "size": 10,
              "solidity": 0.2
             }
            },
            "type": "barpolar"
           }
          ],
          "carpet": [
           {
            "aaxis": {
             "endlinecolor": "#2a3f5f",
             "gridcolor": "white",
             "linecolor": "white",
             "minorgridcolor": "white",
             "startlinecolor": "#2a3f5f"
            },
            "baxis": {
             "endlinecolor": "#2a3f5f",
             "gridcolor": "white",
             "linecolor": "white",
             "minorgridcolor": "white",
             "startlinecolor": "#2a3f5f"
            },
            "type": "carpet"
           }
          ],
          "choropleth": [
           {
            "colorbar": {
             "outlinewidth": 0,
             "ticks": ""
            },
            "type": "choropleth"
           }
          ],
          "contour": [
           {
            "colorbar": {
             "outlinewidth": 0,
             "ticks": ""
            },
            "colorscale": [
             [
              0,
              "#0d0887"
             ],
             [
              0.1111111111111111,
              "#46039f"
             ],
             [
              0.2222222222222222,
              "#7201a8"
             ],
             [
              0.3333333333333333,
              "#9c179e"
             ],
             [
              0.4444444444444444,
              "#bd3786"
             ],
             [
              0.5555555555555556,
              "#d8576b"
             ],
             [
              0.6666666666666666,
              "#ed7953"
             ],
             [
              0.7777777777777778,
              "#fb9f3a"
             ],
             [
              0.8888888888888888,
              "#fdca26"
             ],
             [
              1,
              "#f0f921"
             ]
            ],
            "type": "contour"
           }
          ],
          "contourcarpet": [
           {
            "colorbar": {
             "outlinewidth": 0,
             "ticks": ""
            },
            "type": "contourcarpet"
           }
          ],
          "heatmap": [
           {
            "colorbar": {
             "outlinewidth": 0,
             "ticks": ""
            },
            "colorscale": [
             [
              0,
              "#0d0887"
             ],
             [
              0.1111111111111111,
              "#46039f"
             ],
             [
              0.2222222222222222,
              "#7201a8"
             ],
             [
              0.3333333333333333,
              "#9c179e"
             ],
             [
              0.4444444444444444,
              "#bd3786"
             ],
             [
              0.5555555555555556,
              "#d8576b"
             ],
             [
              0.6666666666666666,
              "#ed7953"
             ],
             [
              0.7777777777777778,
              "#fb9f3a"
             ],
             [
              0.8888888888888888,
              "#fdca26"
             ],
             [
              1,
              "#f0f921"
             ]
            ],
            "type": "heatmap"
           }
          ],
          "heatmapgl": [
           {
            "colorbar": {
             "outlinewidth": 0,
             "ticks": ""
            },
            "colorscale": [
             [
              0,
              "#0d0887"
             ],
             [
              0.1111111111111111,
              "#46039f"
             ],
             [
              0.2222222222222222,
              "#7201a8"
             ],
             [
              0.3333333333333333,
              "#9c179e"
             ],
             [
              0.4444444444444444,
              "#bd3786"
             ],
             [
              0.5555555555555556,
              "#d8576b"
             ],
             [
              0.6666666666666666,
              "#ed7953"
             ],
             [
              0.7777777777777778,
              "#fb9f3a"
             ],
             [
              0.8888888888888888,
              "#fdca26"
             ],
             [
              1,
              "#f0f921"
             ]
            ],
            "type": "heatmapgl"
           }
          ],
          "histogram": [
           {
            "marker": {
             "pattern": {
              "fillmode": "overlay",
              "size": 10,
              "solidity": 0.2
             }
            },
            "type": "histogram"
           }
          ],
          "histogram2d": [
           {
            "colorbar": {
             "outlinewidth": 0,
             "ticks": ""
            },
            "colorscale": [
             [
              0,
              "#0d0887"
             ],
             [
              0.1111111111111111,
              "#46039f"
             ],
             [
              0.2222222222222222,
              "#7201a8"
             ],
             [
              0.3333333333333333,
              "#9c179e"
             ],
             [
              0.4444444444444444,
              "#bd3786"
             ],
             [
              0.5555555555555556,
              "#d8576b"
             ],
             [
              0.6666666666666666,
              "#ed7953"
             ],
             [
              0.7777777777777778,
              "#fb9f3a"
             ],
             [
              0.8888888888888888,
              "#fdca26"
             ],
             [
              1,
              "#f0f921"
             ]
            ],
            "type": "histogram2d"
           }
          ],
          "histogram2dcontour": [
           {
            "colorbar": {
             "outlinewidth": 0,
             "ticks": ""
            },
            "colorscale": [
             [
              0,
              "#0d0887"
             ],
             [
              0.1111111111111111,
              "#46039f"
             ],
             [
              0.2222222222222222,
              "#7201a8"
             ],
             [
              0.3333333333333333,
              "#9c179e"
             ],
             [
              0.4444444444444444,
              "#bd3786"
             ],
             [
              0.5555555555555556,
              "#d8576b"
             ],
             [
              0.6666666666666666,
              "#ed7953"
             ],
             [
              0.7777777777777778,
              "#fb9f3a"
             ],
             [
              0.8888888888888888,
              "#fdca26"
             ],
             [
              1,
              "#f0f921"
             ]
            ],
            "type": "histogram2dcontour"
           }
          ],
          "mesh3d": [
           {
            "colorbar": {
             "outlinewidth": 0,
             "ticks": ""
            },
            "type": "mesh3d"
           }
          ],
          "parcoords": [
           {
            "line": {
             "colorbar": {
              "outlinewidth": 0,
              "ticks": ""
             }
            },
            "type": "parcoords"
           }
          ],
          "pie": [
           {
            "automargin": true,
            "type": "pie"
           }
          ],
          "scatter": [
           {
            "fillpattern": {
             "fillmode": "overlay",
             "size": 10,
             "solidity": 0.2
            },
            "type": "scatter"
           }
          ],
          "scatter3d": [
           {
            "line": {
             "colorbar": {
              "outlinewidth": 0,
              "ticks": ""
             }
            },
            "marker": {
             "colorbar": {
              "outlinewidth": 0,
              "ticks": ""
             }
            },
            "type": "scatter3d"
           }
          ],
          "scattercarpet": [
           {
            "marker": {
             "colorbar": {
              "outlinewidth": 0,
              "ticks": ""
             }
            },
            "type": "scattercarpet"
           }
          ],
          "scattergeo": [
           {
            "marker": {
             "colorbar": {
              "outlinewidth": 0,
              "ticks": ""
             }
            },
            "type": "scattergeo"
           }
          ],
          "scattergl": [
           {
            "marker": {
             "colorbar": {
              "outlinewidth": 0,
              "ticks": ""
             }
            },
            "type": "scattergl"
           }
          ],
          "scattermapbox": [
           {
            "marker": {
             "colorbar": {
              "outlinewidth": 0,
              "ticks": ""
             }
            },
            "type": "scattermapbox"
           }
          ],
          "scatterpolar": [
           {
            "marker": {
             "colorbar": {
              "outlinewidth": 0,
              "ticks": ""
             }
            },
            "type": "scatterpolar"
           }
          ],
          "scatterpolargl": [
           {
            "marker": {
             "colorbar": {
              "outlinewidth": 0,
              "ticks": ""
             }
            },
            "type": "scatterpolargl"
           }
          ],
          "scatterternary": [
           {
            "marker": {
             "colorbar": {
              "outlinewidth": 0,
              "ticks": ""
             }
            },
            "type": "scatterternary"
           }
          ],
          "surface": [
           {
            "colorbar": {
             "outlinewidth": 0,
             "ticks": ""
            },
            "colorscale": [
             [
              0,
              "#0d0887"
             ],
             [
              0.1111111111111111,
              "#46039f"
             ],
             [
              0.2222222222222222,
              "#7201a8"
             ],
             [
              0.3333333333333333,
              "#9c179e"
             ],
             [
              0.4444444444444444,
              "#bd3786"
             ],
             [
              0.5555555555555556,
              "#d8576b"
             ],
             [
              0.6666666666666666,
              "#ed7953"
             ],
             [
              0.7777777777777778,
              "#fb9f3a"
             ],
             [
              0.8888888888888888,
              "#fdca26"
             ],
             [
              1,
              "#f0f921"
             ]
            ],
            "type": "surface"
           }
          ],
          "table": [
           {
            "cells": {
             "fill": {
              "color": "#EBF0F8"
             },
             "line": {
              "color": "white"
             }
            },
            "header": {
             "fill": {
              "color": "#C8D4E3"
             },
             "line": {
              "color": "white"
             }
            },
            "type": "table"
           }
          ]
         },
         "layout": {
          "annotationdefaults": {
           "arrowcolor": "#2a3f5f",
           "arrowhead": 0,
           "arrowwidth": 1
          },
          "autotypenumbers": "strict",
          "coloraxis": {
           "colorbar": {
            "outlinewidth": 0,
            "ticks": ""
           }
          },
          "colorscale": {
           "diverging": [
            [
             0,
             "#8e0152"
            ],
            [
             0.1,
             "#c51b7d"
            ],
            [
             0.2,
             "#de77ae"
            ],
            [
             0.3,
             "#f1b6da"
            ],
            [
             0.4,
             "#fde0ef"
            ],
            [
             0.5,
             "#f7f7f7"
            ],
            [
             0.6,
             "#e6f5d0"
            ],
            [
             0.7,
             "#b8e186"
            ],
            [
             0.8,
             "#7fbc41"
            ],
            [
             0.9,
             "#4d9221"
            ],
            [
             1,
             "#276419"
            ]
           ],
           "sequential": [
            [
             0,
             "#0d0887"
            ],
            [
             0.1111111111111111,
             "#46039f"
            ],
            [
             0.2222222222222222,
             "#7201a8"
            ],
            [
             0.3333333333333333,
             "#9c179e"
            ],
            [
             0.4444444444444444,
             "#bd3786"
            ],
            [
             0.5555555555555556,
             "#d8576b"
            ],
            [
             0.6666666666666666,
             "#ed7953"
            ],
            [
             0.7777777777777778,
             "#fb9f3a"
            ],
            [
             0.8888888888888888,
             "#fdca26"
            ],
            [
             1,
             "#f0f921"
            ]
           ],
           "sequentialminus": [
            [
             0,
             "#0d0887"
            ],
            [
             0.1111111111111111,
             "#46039f"
            ],
            [
             0.2222222222222222,
             "#7201a8"
            ],
            [
             0.3333333333333333,
             "#9c179e"
            ],
            [
             0.4444444444444444,
             "#bd3786"
            ],
            [
             0.5555555555555556,
             "#d8576b"
            ],
            [
             0.6666666666666666,
             "#ed7953"
            ],
            [
             0.7777777777777778,
             "#fb9f3a"
            ],
            [
             0.8888888888888888,
             "#fdca26"
            ],
            [
             1,
             "#f0f921"
            ]
           ]
          },
          "colorway": [
           "#636efa",
           "#EF553B",
           "#00cc96",
           "#ab63fa",
           "#FFA15A",
           "#19d3f3",
           "#FF6692",
           "#B6E880",
           "#FF97FF",
           "#FECB52"
          ],
          "font": {
           "color": "#2a3f5f"
          },
          "geo": {
           "bgcolor": "white",
           "lakecolor": "white",
           "landcolor": "#E5ECF6",
           "showlakes": true,
           "showland": true,
           "subunitcolor": "white"
          },
          "hoverlabel": {
           "align": "left"
          },
          "hovermode": "closest",
          "mapbox": {
           "style": "light"
          },
          "paper_bgcolor": "white",
          "plot_bgcolor": "#E5ECF6",
          "polar": {
           "angularaxis": {
            "gridcolor": "white",
            "linecolor": "white",
            "ticks": ""
           },
           "bgcolor": "#E5ECF6",
           "radialaxis": {
            "gridcolor": "white",
            "linecolor": "white",
            "ticks": ""
           }
          },
          "scene": {
           "xaxis": {
            "backgroundcolor": "#E5ECF6",
            "gridcolor": "white",
            "gridwidth": 2,
            "linecolor": "white",
            "showbackground": true,
            "ticks": "",
            "zerolinecolor": "white"
           },
           "yaxis": {
            "backgroundcolor": "#E5ECF6",
            "gridcolor": "white",
            "gridwidth": 2,
            "linecolor": "white",
            "showbackground": true,
            "ticks": "",
            "zerolinecolor": "white"
           },
           "zaxis": {
            "backgroundcolor": "#E5ECF6",
            "gridcolor": "white",
            "gridwidth": 2,
            "linecolor": "white",
            "showbackground": true,
            "ticks": "",
            "zerolinecolor": "white"
           }
          },
          "shapedefaults": {
           "line": {
            "color": "#2a3f5f"
           }
          },
          "ternary": {
           "aaxis": {
            "gridcolor": "white",
            "linecolor": "white",
            "ticks": ""
           },
           "baxis": {
            "gridcolor": "white",
            "linecolor": "white",
            "ticks": ""
           },
           "bgcolor": "#E5ECF6",
           "caxis": {
            "gridcolor": "white",
            "linecolor": "white",
            "ticks": ""
           }
          },
          "title": {
           "x": 0.05
          },
          "xaxis": {
           "automargin": true,
           "gridcolor": "white",
           "linecolor": "white",
           "ticks": "",
           "title": {
            "standoff": 15
           },
           "zerolinecolor": "white",
           "zerolinewidth": 2
          },
          "yaxis": {
           "automargin": true,
           "gridcolor": "white",
           "linecolor": "white",
           "ticks": "",
           "title": {
            "standoff": 15
           },
           "zerolinecolor": "white",
           "zerolinewidth": 2
          }
         }
        },
        "title": {
         "text": "Hourly Demand per Block in Circuit C0"
        },
        "xaxis": {
         "anchor": "y",
         "domain": [
          0,
          1
         ],
         "title": {
          "text": "Hour"
         }
        },
        "yaxis": {
         "anchor": "x",
         "domain": [
          0,
          1
         ],
         "title": {
          "text": "Demand (kWh)"
         }
        }
       }
      }
     },
     "metadata": {},
     "output_type": "display_data"
    },
    {
     "data": {
      "application/vnd.plotly.v1+json": {
       "config": {
        "plotlyServerURL": "https://plot.ly"
       },
       "data": [
        {
         "hovertemplate": "Hour=%{x}<br>Demand (kWh)=%{y}<extra></extra>",
         "legendgroup": "",
         "line": {
          "color": "#636efa",
          "dash": "solid"
         },
         "marker": {
          "symbol": "circle"
         },
         "mode": "lines",
         "name": "",
         "orientation": "v",
         "showlegend": false,
         "type": "scatter",
         "x": [
          0,
          1,
          2,
          3,
          4,
          5,
          6,
          7,
          8,
          9,
          10,
          11,
          12,
          13,
          14,
          15,
          16,
          17,
          18,
          19,
          20,
          21,
          22,
          23
         ],
         "xaxis": "x",
         "y": [
          98.97159137564137,
          98.11713928157029,
          97.9958514800312,
          110.11667670817292,
          95.07621768337467,
          128.9943049160069,
          119.17483734299533,
          127.02734075517024,
          137.4359921351167,
          97.78051086194282,
          89.55193219337703,
          97.05313572230004,
          111.59146601765211,
          100.50545990699047,
          92.00775274867577,
          102.94921145776206,
          122.59462763864735,
          140.64686821731226,
          143.7533764434963,
          151.24336383381095,
          155.01343801755968,
          130.77215932049506,
          108.71783024497567,
          125.31900983553452
         ],
         "yaxis": "y"
        }
       ],
       "layout": {
        "height": 800,
        "legend": {
         "tracegroupgap": 0
        },
        "template": {
         "data": {
          "bar": [
           {
            "error_x": {
             "color": "#2a3f5f"
            },
            "error_y": {
             "color": "#2a3f5f"
            },
            "marker": {
             "line": {
              "color": "#E5ECF6",
              "width": 0.5
             },
             "pattern": {
              "fillmode": "overlay",
              "size": 10,
              "solidity": 0.2
             }
            },
            "type": "bar"
           }
          ],
          "barpolar": [
           {
            "marker": {
             "line": {
              "color": "#E5ECF6",
              "width": 0.5
             },
             "pattern": {
              "fillmode": "overlay",
              "size": 10,
              "solidity": 0.2
             }
            },
            "type": "barpolar"
           }
          ],
          "carpet": [
           {
            "aaxis": {
             "endlinecolor": "#2a3f5f",
             "gridcolor": "white",
             "linecolor": "white",
             "minorgridcolor": "white",
             "startlinecolor": "#2a3f5f"
            },
            "baxis": {
             "endlinecolor": "#2a3f5f",
             "gridcolor": "white",
             "linecolor": "white",
             "minorgridcolor": "white",
             "startlinecolor": "#2a3f5f"
            },
            "type": "carpet"
           }
          ],
          "choropleth": [
           {
            "colorbar": {
             "outlinewidth": 0,
             "ticks": ""
            },
            "type": "choropleth"
           }
          ],
          "contour": [
           {
            "colorbar": {
             "outlinewidth": 0,
             "ticks": ""
            },
            "colorscale": [
             [
              0,
              "#0d0887"
             ],
             [
              0.1111111111111111,
              "#46039f"
             ],
             [
              0.2222222222222222,
              "#7201a8"
             ],
             [
              0.3333333333333333,
              "#9c179e"
             ],
             [
              0.4444444444444444,
              "#bd3786"
             ],
             [
              0.5555555555555556,
              "#d8576b"
             ],
             [
              0.6666666666666666,
              "#ed7953"
             ],
             [
              0.7777777777777778,
              "#fb9f3a"
             ],
             [
              0.8888888888888888,
              "#fdca26"
             ],
             [
              1,
              "#f0f921"
             ]
            ],
            "type": "contour"
           }
          ],
          "contourcarpet": [
           {
            "colorbar": {
             "outlinewidth": 0,
             "ticks": ""
            },
            "type": "contourcarpet"
           }
          ],
          "heatmap": [
           {
            "colorbar": {
             "outlinewidth": 0,
             "ticks": ""
            },
            "colorscale": [
             [
              0,
              "#0d0887"
             ],
             [
              0.1111111111111111,
              "#46039f"
             ],
             [
              0.2222222222222222,
              "#7201a8"
             ],
             [
              0.3333333333333333,
              "#9c179e"
             ],
             [
              0.4444444444444444,
              "#bd3786"
             ],
             [
              0.5555555555555556,
              "#d8576b"
             ],
             [
              0.6666666666666666,
              "#ed7953"
             ],
             [
              0.7777777777777778,
              "#fb9f3a"
             ],
             [
              0.8888888888888888,
              "#fdca26"
             ],
             [
              1,
              "#f0f921"
             ]
            ],
            "type": "heatmap"
           }
          ],
          "heatmapgl": [
           {
            "colorbar": {
             "outlinewidth": 0,
             "ticks": ""
            },
            "colorscale": [
             [
              0,
              "#0d0887"
             ],
             [
              0.1111111111111111,
              "#46039f"
             ],
             [
              0.2222222222222222,
              "#7201a8"
             ],
             [
              0.3333333333333333,
              "#9c179e"
             ],
             [
              0.4444444444444444,
              "#bd3786"
             ],
             [
              0.5555555555555556,
              "#d8576b"
             ],
             [
              0.6666666666666666,
              "#ed7953"
             ],
             [
              0.7777777777777778,
              "#fb9f3a"
             ],
             [
              0.8888888888888888,
              "#fdca26"
             ],
             [
              1,
              "#f0f921"
             ]
            ],
            "type": "heatmapgl"
           }
          ],
          "histogram": [
           {
            "marker": {
             "pattern": {
              "fillmode": "overlay",
              "size": 10,
              "solidity": 0.2
             }
            },
            "type": "histogram"
           }
          ],
          "histogram2d": [
           {
            "colorbar": {
             "outlinewidth": 0,
             "ticks": ""
            },
            "colorscale": [
             [
              0,
              "#0d0887"
             ],
             [
              0.1111111111111111,
              "#46039f"
             ],
             [
              0.2222222222222222,
              "#7201a8"
             ],
             [
              0.3333333333333333,
              "#9c179e"
             ],
             [
              0.4444444444444444,
              "#bd3786"
             ],
             [
              0.5555555555555556,
              "#d8576b"
             ],
             [
              0.6666666666666666,
              "#ed7953"
             ],
             [
              0.7777777777777778,
              "#fb9f3a"
             ],
             [
              0.8888888888888888,
              "#fdca26"
             ],
             [
              1,
              "#f0f921"
             ]
            ],
            "type": "histogram2d"
           }
          ],
          "histogram2dcontour": [
           {
            "colorbar": {
             "outlinewidth": 0,
             "ticks": ""
            },
            "colorscale": [
             [
              0,
              "#0d0887"
             ],
             [
              0.1111111111111111,
              "#46039f"
             ],
             [
              0.2222222222222222,
              "#7201a8"
             ],
             [
              0.3333333333333333,
              "#9c179e"
             ],
             [
              0.4444444444444444,
              "#bd3786"
             ],
             [
              0.5555555555555556,
              "#d8576b"
             ],
             [
              0.6666666666666666,
              "#ed7953"
             ],
             [
              0.7777777777777778,
              "#fb9f3a"
             ],
             [
              0.8888888888888888,
              "#fdca26"
             ],
             [
              1,
              "#f0f921"
             ]
            ],
            "type": "histogram2dcontour"
           }
          ],
          "mesh3d": [
           {
            "colorbar": {
             "outlinewidth": 0,
             "ticks": ""
            },
            "type": "mesh3d"
           }
          ],
          "parcoords": [
           {
            "line": {
             "colorbar": {
              "outlinewidth": 0,
              "ticks": ""
             }
            },
            "type": "parcoords"
           }
          ],
          "pie": [
           {
            "automargin": true,
            "type": "pie"
           }
          ],
          "scatter": [
           {
            "fillpattern": {
             "fillmode": "overlay",
             "size": 10,
             "solidity": 0.2
            },
            "type": "scatter"
           }
          ],
          "scatter3d": [
           {
            "line": {
             "colorbar": {
              "outlinewidth": 0,
              "ticks": ""
             }
            },
            "marker": {
             "colorbar": {
              "outlinewidth": 0,
              "ticks": ""
             }
            },
            "type": "scatter3d"
           }
          ],
          "scattercarpet": [
           {
            "marker": {
             "colorbar": {
              "outlinewidth": 0,
              "ticks": ""
             }
            },
            "type": "scattercarpet"
           }
          ],
          "scattergeo": [
           {
            "marker": {
             "colorbar": {
              "outlinewidth": 0,
              "ticks": ""
             }
            },
            "type": "scattergeo"
           }
          ],
          "scattergl": [
           {
            "marker": {
             "colorbar": {
              "outlinewidth": 0,
              "ticks": ""
             }
            },
            "type": "scattergl"
           }
          ],
          "scattermapbox": [
           {
            "marker": {
             "colorbar": {
              "outlinewidth": 0,
              "ticks": ""
             }
            },
            "type": "scattermapbox"
           }
          ],
          "scatterpolar": [
           {
            "marker": {
             "colorbar": {
              "outlinewidth": 0,
              "ticks": ""
             }
            },
            "type": "scatterpolar"
           }
          ],
          "scatterpolargl": [
           {
            "marker": {
             "colorbar": {
              "outlinewidth": 0,
              "ticks": ""
             }
            },
            "type": "scatterpolargl"
           }
          ],
          "scatterternary": [
           {
            "marker": {
             "colorbar": {
              "outlinewidth": 0,
              "ticks": ""
             }
            },
            "type": "scatterternary"
           }
          ],
          "surface": [
           {
            "colorbar": {
             "outlinewidth": 0,
             "ticks": ""
            },
            "colorscale": [
             [
              0,
              "#0d0887"
             ],
             [
              0.1111111111111111,
              "#46039f"
             ],
             [
              0.2222222222222222,
              "#7201a8"
             ],
             [
              0.3333333333333333,
              "#9c179e"
             ],
             [
              0.4444444444444444,
              "#bd3786"
             ],
             [
              0.5555555555555556,
              "#d8576b"
             ],
             [
              0.6666666666666666,
              "#ed7953"
             ],
             [
              0.7777777777777778,
              "#fb9f3a"
             ],
             [
              0.8888888888888888,
              "#fdca26"
             ],
             [
              1,
              "#f0f921"
             ]
            ],
            "type": "surface"
           }
          ],
          "table": [
           {
            "cells": {
             "fill": {
              "color": "#EBF0F8"
             },
             "line": {
              "color": "white"
             }
            },
            "header": {
             "fill": {
              "color": "#C8D4E3"
             },
             "line": {
              "color": "white"
             }
            },
            "type": "table"
           }
          ]
         },
         "layout": {
          "annotationdefaults": {
           "arrowcolor": "#2a3f5f",
           "arrowhead": 0,
           "arrowwidth": 1
          },
          "autotypenumbers": "strict",
          "coloraxis": {
           "colorbar": {
            "outlinewidth": 0,
            "ticks": ""
           }
          },
          "colorscale": {
           "diverging": [
            [
             0,
             "#8e0152"
            ],
            [
             0.1,
             "#c51b7d"
            ],
            [
             0.2,
             "#de77ae"
            ],
            [
             0.3,
             "#f1b6da"
            ],
            [
             0.4,
             "#fde0ef"
            ],
            [
             0.5,
             "#f7f7f7"
            ],
            [
             0.6,
             "#e6f5d0"
            ],
            [
             0.7,
             "#b8e186"
            ],
            [
             0.8,
             "#7fbc41"
            ],
            [
             0.9,
             "#4d9221"
            ],
            [
             1,
             "#276419"
            ]
           ],
           "sequential": [
            [
             0,
             "#0d0887"
            ],
            [
             0.1111111111111111,
             "#46039f"
            ],
            [
             0.2222222222222222,
             "#7201a8"
            ],
            [
             0.3333333333333333,
             "#9c179e"
            ],
            [
             0.4444444444444444,
             "#bd3786"
            ],
            [
             0.5555555555555556,
             "#d8576b"
            ],
            [
             0.6666666666666666,
             "#ed7953"
            ],
            [
             0.7777777777777778,
             "#fb9f3a"
            ],
            [
             0.8888888888888888,
             "#fdca26"
            ],
            [
             1,
             "#f0f921"
            ]
           ],
           "sequentialminus": [
            [
             0,
             "#0d0887"
            ],
            [
             0.1111111111111111,
             "#46039f"
            ],
            [
             0.2222222222222222,
             "#7201a8"
            ],
            [
             0.3333333333333333,
             "#9c179e"
            ],
            [
             0.4444444444444444,
             "#bd3786"
            ],
            [
             0.5555555555555556,
             "#d8576b"
            ],
            [
             0.6666666666666666,
             "#ed7953"
            ],
            [
             0.7777777777777778,
             "#fb9f3a"
            ],
            [
             0.8888888888888888,
             "#fdca26"
            ],
            [
             1,
             "#f0f921"
            ]
           ]
          },
          "colorway": [
           "#636efa",
           "#EF553B",
           "#00cc96",
           "#ab63fa",
           "#FFA15A",
           "#19d3f3",
           "#FF6692",
           "#B6E880",
           "#FF97FF",
           "#FECB52"
          ],
          "font": {
           "color": "#2a3f5f"
          },
          "geo": {
           "bgcolor": "white",
           "lakecolor": "white",
           "landcolor": "#E5ECF6",
           "showlakes": true,
           "showland": true,
           "subunitcolor": "white"
          },
          "hoverlabel": {
           "align": "left"
          },
          "hovermode": "closest",
          "mapbox": {
           "style": "light"
          },
          "paper_bgcolor": "white",
          "plot_bgcolor": "#E5ECF6",
          "polar": {
           "angularaxis": {
            "gridcolor": "white",
            "linecolor": "white",
            "ticks": ""
           },
           "bgcolor": "#E5ECF6",
           "radialaxis": {
            "gridcolor": "white",
            "linecolor": "white",
            "ticks": ""
           }
          },
          "scene": {
           "xaxis": {
            "backgroundcolor": "#E5ECF6",
            "gridcolor": "white",
            "gridwidth": 2,
            "linecolor": "white",
            "showbackground": true,
            "ticks": "",
            "zerolinecolor": "white"
           },
           "yaxis": {
            "backgroundcolor": "#E5ECF6",
            "gridcolor": "white",
            "gridwidth": 2,
            "linecolor": "white",
            "showbackground": true,
            "ticks": "",
            "zerolinecolor": "white"
           },
           "zaxis": {
            "backgroundcolor": "#E5ECF6",
            "gridcolor": "white",
            "gridwidth": 2,
            "linecolor": "white",
            "showbackground": true,
            "ticks": "",
            "zerolinecolor": "white"
           }
          },
          "shapedefaults": {
           "line": {
            "color": "#2a3f5f"
           }
          },
          "ternary": {
           "aaxis": {
            "gridcolor": "white",
            "linecolor": "white",
            "ticks": ""
           },
           "baxis": {
            "gridcolor": "white",
            "linecolor": "white",
            "ticks": ""
           },
           "bgcolor": "#E5ECF6",
           "caxis": {
            "gridcolor": "white",
            "linecolor": "white",
            "ticks": ""
           }
          },
          "title": {
           "x": 0.05
          },
          "xaxis": {
           "automargin": true,
           "gridcolor": "white",
           "linecolor": "white",
           "ticks": "",
           "title": {
            "standoff": 15
           },
           "zerolinecolor": "white",
           "zerolinewidth": 2
          },
          "yaxis": {
           "automargin": true,
           "gridcolor": "white",
           "linecolor": "white",
           "ticks": "",
           "title": {
            "standoff": 15
           },
           "zerolinecolor": "white",
           "zerolinewidth": 2
          }
         }
        },
        "title": {
         "text": "Hourly Demand of Circuit C0"
        },
        "xaxis": {
         "anchor": "y",
         "domain": [
          0,
          1
         ],
         "title": {
          "text": "Hour"
         }
        },
        "yaxis": {
         "anchor": "x",
         "domain": [
          0,
          1
         ],
         "title": {
          "text": "Demand (kWh)"
         }
        }
       }
      }
     },
     "metadata": {},
     "output_type": "display_data"
    }
   ],
   "source": [
    "circuit_id = \"C0\"\n",
    "circuit = next(c for c in electric_system_circuits_list if c.id == circuit_id)\n",
    "\n",
    "block_demand_data = {\"Block ID\": [], \"Hour\": [], \"Demand\": []}\n",
    "\n",
    "for i, block in enumerate(circuit.blocks):\n",
    "    for hour, demand in enumerate(block.predicted_demand_per_hour):\n",
    "        block_demand_data[\"Block ID\"].append(f\"Block {i + 1}\")\n",
    "        block_demand_data[\"Hour\"].append(hour)\n",
    "        block_demand_data[\"Demand\"].append(demand)\n",
    "\n",
    "block_demand_df = pd.DataFrame(block_demand_data)\n",
    "\n",
    "fig_block_demand = px.line(\n",
    "    block_demand_df,\n",
    "    x=\"Hour\",\n",
    "    y=\"Demand\",\n",
    "    color=\"Block ID\",\n",
    "    title=f\"Hourly Demand per Block in Circuit {circuit_id}\",\n",
    "    labels={\"Demand\": \"Demand (kWh)\", \"Hour\": \"Hour\"},\n",
    "    height=800\n",
    ")\n",
    "\n",
    "fig_block_demand.show()\n",
    "\n",
    "circuit_demand_data = {\n",
    "    \"Hour\": list(range(24)),\n",
    "    \"Demand\": [\n",
    "        sum(block.predicted_demand_per_hour[hour] for block in circuit.blocks)\n",
    "        for hour in range(24)\n",
    "    ],\n",
    "}\n",
    "\n",
    "circuit_demand_df = pd.DataFrame(circuit_demand_data)\n",
    "\n",
    "fig_circuit_demand = px.line(\n",
    "    circuit_demand_df,\n",
    "    x=\"Hour\",\n",
    "    y=\"Demand\",\n",
    "    title=f\"Hourly Demand of Circuit {circuit_id}\",\n",
    "    labels={\"Demand\": \"Demand (kWh)\", \"Hour\": \"Hour\"},\n",
    "    height=800,\n",
    ")\n",
    "\n",
    "fig_circuit_demand.show()"
   ]
  },
  {
   "cell_type": "markdown",
   "metadata": {},
   "source": [
    "# Simulation"
   ]
  },
  {
   "cell_type": "code",
   "execution_count": 12,
   "metadata": {},
   "outputs": [
    {
     "name": "stdout",
     "output_type": "stream",
     "text": [
      "Initialization took 0.0 seconds\n",
      "Day 0 🚀-----------------------------------------------------------------\n",
      "Imprimiendo GENERATED DESIRE \n",
      "        id: generated_desire_5.\n",
      "        description : IF tightly covered system AND good general opinion AND many thermoelectrics working THEN meet_demand AND max_stored_energy,\n",
      "        weight: 1.\n",
      "        \n",
      "generación [20108.004933571854, 11996.362329343749, 3763.6444700350594, 13842.631289915673, 3248.7501476002417, 6439.231090654619, 9358.51697436783, 15009.566096312617]\n",
      "asignado [17564.852978836334, 10379.23414341751, 3228.336032968675, 12157.808296169194, 2820.183181023183, 5564.400175320315, 8182.977076583603, 13077.048852483005]\n",
      "planificado [20105.788545657637, 11995.290980392367, 3763.5556044964446, 13841.03428356354, 3247.69554853083, 6435.1026894543065, 9357.536719610745, 15004.906552747125]\n"
     ]
    },
    {
     "ename": "RuntimeError",
     "evalue": "CASO DE PRUEBA GENERADO...",
     "output_type": "error",
     "traceback": [
      "\u001b[1;31m---------------------------------------------------------------------------\u001b[0m",
      "\u001b[1;31mRuntimeError\u001b[0m                              Traceback (most recent call last)",
      "Cell \u001b[1;32mIn[12], line 343\u001b[0m\n\u001b[0;32m    332\u001b[0m         \u001b[38;5;66;03m# self.plot_stats()\u001b[39;00m\n\u001b[0;32m    335\u001b[0m simulation \u001b[38;5;241m=\u001b[39m Simulation(\n\u001b[0;32m    336\u001b[0m     circuits\u001b[38;5;241m=\u001b[39melectric_system_circuits_list,\n\u001b[0;32m    337\u001b[0m     thermoelectrics\u001b[38;5;241m=\u001b[39melectric_system_thermoelectrics_list,\n\u001b[1;32m   (...)\u001b[0m\n\u001b[0;32m    340\u001b[0m     get_block_importance\u001b[38;5;241m=\u001b[39mget_block_importance,\n\u001b[0;32m    341\u001b[0m )\n\u001b[1;32m--> 343\u001b[0m simulation\u001b[38;5;241m.\u001b[39msimulate()\n",
      "Cell \u001b[1;32mIn[12], line 316\u001b[0m, in \u001b[0;36mSimulation.simulate\u001b[1;34m(self, simulation_days)\u001b[0m\n\u001b[0;32m    314\u001b[0m \u001b[38;5;28mself\u001b[39m\u001b[38;5;241m.\u001b[39mchief_agent\u001b[38;5;241m.\u001b[39mlearn \u001b[38;5;241m=\u001b[39m day \u001b[38;5;241m%\u001b[39m \u001b[38;5;28mint\u001b[39m(\u001b[38;5;241m10\u001b[39m \u001b[38;5;241m/\u001b[39m \u001b[38;5;241m3\u001b[39m) \u001b[38;5;241m==\u001b[39m \u001b[38;5;241m0\u001b[39m\n\u001b[0;32m    315\u001b[0m chief_agent_perception \u001b[38;5;241m=\u001b[39m \u001b[38;5;28mself\u001b[39m\u001b[38;5;241m.\u001b[39mcreate_chief_agent_perception()\n\u001b[1;32m--> 316\u001b[0m chief_agent_action \u001b[38;5;241m=\u001b[39m \u001b[38;5;28mself\u001b[39m\u001b[38;5;241m.\u001b[39mchief_agent\u001b[38;5;241m.\u001b[39maction(chief_agent_perception)\n\u001b[0;32m    317\u001b[0m \u001b[38;5;28mself\u001b[39m\u001b[38;5;241m.\u001b[39mchief_agent_actions\u001b[38;5;241m.\u001b[39mappend(chief_agent_action)\n\u001b[0;32m    319\u001b[0m \u001b[38;5;28mself\u001b[39m\u001b[38;5;241m.\u001b[39mupdate_circuits(opinion_day\u001b[38;5;241m=\u001b[39m(day \u001b[38;5;241m%\u001b[39m \u001b[38;5;241m30\u001b[39m \u001b[38;5;241m==\u001b[39m \u001b[38;5;241m0\u001b[39m))\n",
      "File \u001b[1;32mc:\\Osvaldo\\3.2\\IA-Project\\AI-Simulation-Project-2024\\src\\people.py:1242\u001b[0m, in \u001b[0;36mChiefElectricCompanyAgent.action\u001b[1;34m(self, perception)\u001b[0m\n\u001b[0;32m   1228\u001b[0m     TestCaseParams(\n\u001b[0;32m   1229\u001b[0m         name\u001b[38;5;241m=\u001b[39m\u001b[38;5;124m\"\u001b[39m\u001b[38;5;124mErrorOnDistribution\u001b[39m\u001b[38;5;124m\"\u001b[39m,\n\u001b[0;32m   1230\u001b[0m         thermoelectrics\u001b[38;5;241m=\u001b[39m\u001b[38;5;28mself\u001b[39m\u001b[38;5;241m.\u001b[39mthermoelectrics,\n\u001b[1;32m   (...)\u001b[0m\n\u001b[0;32m   1237\u001b[0m         mutation_rate\u001b[38;5;241m=\u001b[39m\u001b[38;5;28mself\u001b[39m\u001b[38;5;241m.\u001b[39mmutation_rate,\n\u001b[0;32m   1238\u001b[0m     )\u001b[38;5;241m.\u001b[39msave()\n\u001b[0;32m   1240\u001b[0m     \u001b[38;5;28;01mraise\u001b[39;00m e\n\u001b[1;32m-> 1242\u001b[0m \u001b[38;5;28;01mreturn\u001b[39;00m \u001b[38;5;28mself\u001b[39m\u001b[38;5;241m.\u001b[39mexecute()\n",
      "File \u001b[1;32mc:\\Osvaldo\\3.2\\IA-Project\\AI-Simulation-Project-2024\\src\\people.py:1198\u001b[0m, in \u001b[0;36mChiefElectricCompanyAgent.execute\u001b[1;34m(self)\u001b[0m\n\u001b[0;32m   1180\u001b[0m         intentions_params\u001b[38;5;241m.\u001b[39mappend(\n\u001b[0;32m   1181\u001b[0m             OBJECTIVE_FUNCTION_INTENTION_PARAMS_DEFAULT_WEIGHT\n\u001b[0;32m   1182\u001b[0m         )\n\u001b[0;32m   1184\u001b[0m final_distribution, score \u001b[38;5;241m=\u001b[39m genetic_algorithm(\n\u001b[0;32m   1185\u001b[0m     get_cost_thermoelectric_to_block\u001b[38;5;241m=\u001b[39m\u001b[38;5;28mself\u001b[39m\u001b[38;5;241m.\u001b[39mget_cost_to_meet_demand_from_thermoelectric_to_block,\n\u001b[0;32m   1186\u001b[0m     capacities\u001b[38;5;241m=\u001b[39m\u001b[38;5;28mself\u001b[39m\u001b[38;5;241m.\u001b[39mbeliefs[\u001b[38;5;124m\"\u001b[39m\u001b[38;5;124mgeneration_per_thermoelectric\u001b[39m\u001b[38;5;124m\"\u001b[39m]\u001b[38;5;241m.\u001b[39mvalue[:],\n\u001b[1;32m   (...)\u001b[0m\n\u001b[0;32m   1195\u001b[0m     ),\n\u001b[0;32m   1196\u001b[0m )\n\u001b[1;32m-> 1198\u001b[0m flat_distribution \u001b[38;5;241m=\u001b[39m \u001b[38;5;28mself\u001b[39m\u001b[38;5;241m.\u001b[39mdistribute_energy_to_blocks_from_thermoelectrics(\n\u001b[0;32m   1199\u001b[0m     complete_distribution\u001b[38;5;241m=\u001b[39mfinal_distribution,\n\u001b[0;32m   1200\u001b[0m     thermoelectrics\u001b[38;5;241m=\u001b[39m\u001b[38;5;28mself\u001b[39m\u001b[38;5;241m.\u001b[39mthermoelectrics,\n\u001b[0;32m   1201\u001b[0m     circuits\u001b[38;5;241m=\u001b[39m\u001b[38;5;28mself\u001b[39m\u001b[38;5;241m.\u001b[39mcircuits,\n\u001b[0;32m   1202\u001b[0m )\n\u001b[0;32m   1204\u001b[0m \u001b[38;5;28mself\u001b[39m\u001b[38;5;241m.\u001b[39mlast_date_result \u001b[38;5;241m=\u001b[39m (flat_distribution, score)\n\u001b[0;32m   1206\u001b[0m \u001b[38;5;28;01mreturn\u001b[39;00m ChiefElectricCompanyAction(\n\u001b[0;32m   1207\u001b[0m     meet_demand\u001b[38;5;241m=\u001b[39m\u001b[38;5;124m\"\u001b[39m\u001b[38;5;124mmeet_demand\u001b[39m\u001b[38;5;124m\"\u001b[39m \u001b[38;5;129;01min\u001b[39;00m intention_executed,\n\u001b[0;32m   1208\u001b[0m     prioritize_block_importance\u001b[38;5;241m=\u001b[39m\u001b[38;5;124m\"\u001b[39m\u001b[38;5;124mprioritize_block_importance\u001b[39m\u001b[38;5;124m\"\u001b[39m\n\u001b[1;32m   (...)\u001b[0m\n\u001b[0;32m   1213\u001b[0m     prioritize_block_opinion\u001b[38;5;241m=\u001b[39m\u001b[38;5;124m\"\u001b[39m\u001b[38;5;124mprioritize_block_opinion\u001b[39m\u001b[38;5;124m\"\u001b[39m \u001b[38;5;129;01min\u001b[39;00m intention_executed,\n\u001b[0;32m   1214\u001b[0m )\n",
      "File \u001b[1;32mc:\\Osvaldo\\3.2\\IA-Project\\AI-Simulation-Project-2024\\src\\people.py:1003\u001b[0m, in \u001b[0;36mChiefElectricCompanyAgent.distribute_energy_to_blocks_from_thermoelectrics\u001b[1;34m(self, complete_distribution, thermoelectrics, circuits)\u001b[0m\n\u001b[0;32m   1001\u001b[0m     \u001b[38;5;28mprint\u001b[39m(\u001b[38;5;124m\"\u001b[39m\u001b[38;5;124masignado\u001b[39m\u001b[38;5;124m\"\u001b[39m, assigned_cost)\n\u001b[0;32m   1002\u001b[0m     \u001b[38;5;28mprint\u001b[39m(\u001b[38;5;124m\"\u001b[39m\u001b[38;5;124mplanificado\u001b[39m\u001b[38;5;124m\"\u001b[39m, plan_cost)\n\u001b[1;32m-> 1003\u001b[0m     \u001b[38;5;28;01mraise\u001b[39;00m \u001b[38;5;167;01mRuntimeError\u001b[39;00m(\u001b[38;5;124m\"\u001b[39m\u001b[38;5;124mCASO DE PRUEBA GENERADO...\u001b[39m\u001b[38;5;124m\"\u001b[39m)\n\u001b[0;32m   1005\u001b[0m circuits[circuit_index]\u001b[38;5;241m.\u001b[39mblocks[block_index]\u001b[38;5;241m.\u001b[39mset_days_distribution(days_off)\n\u001b[0;32m   1006\u001b[0m \u001b[38;5;28;01mreturn\u001b[39;00m flat_distribution\n",
      "\u001b[1;31mRuntimeError\u001b[0m: CASO DE PRUEBA GENERADO..."
     ]
    }
   ],
   "source": [
    "from src.people import (\n",
    "    ThermoelectricAgent,\n",
    "    ThermoelectricAgentPerception,\n",
    "    ThermoelectricAgentAction,\n",
    "    ChiefElectricCompanyAgent,\n",
    "    ChiefElectricCompanyAgentPerception,\n",
    "    ChiefElectricCompanyAction,\n",
    ")\n",
    "from src.worldstate import WorldState\n",
    "import time\n",
    "from src.bdi import (\n",
    "    CECAGeneratedDesire,\n",
    "    CECAMaxStoredEnergyDesire,\n",
    "    CECAMeetDemandDesire,\n",
    "    CECAPrioritizeBlockImportance,\n",
    "    CECAPrioritizeBlockOpinion,\n",
    "    CECAPrioritizeConsecutiveDaysOff,\n",
    "    CECAPrioritizeDaysOff,\n",
    "    TAMaxPowerOutputDesire,\n",
    "    TAMeetEnergyDemandDesire,\n",
    "    TAMinimizeDowntimeDesire,\n",
    "    TAPreventUnexpectedBreakdownDesire,\n",
    "    TAPrioritizeCriticalPartsRepairDesire,\n",
    "    TARepairPartsDesire,\n",
    ")\n",
    "\n",
    "\n",
    "class Simulation:\n",
    "    def __init__(\n",
    "        self,\n",
    "        circuits: list[Circuit],\n",
    "        thermoelectrics: list[Thermoelectric],\n",
    "        distance_matrix: list[list[float]],\n",
    "        get_circuit_importance: callable,\n",
    "        get_block_importance: callable,\n",
    "    ):\n",
    "        self.world_state_manager = WorldState(\n",
    "            circuits=circuits,\n",
    "            thermoelectrics=thermoelectrics,\n",
    "            distance_matrix=distance_matrix,\n",
    "            get_block_importance=get_block_importance,\n",
    "            get_circuit_importance=get_circuit_importance,\n",
    "        )\n",
    "\n",
    "        self.thermoelectric_agents: list[\"ThermoelectricAgent\"] = []\n",
    "        self.thermoelectric_agent_actions: list[list[\"ThermoelectricAgentAction\"]] = []\n",
    "        self.chief_agent = None\n",
    "        self.chief_agent_actions: list[\"ChiefElectricCompanyAction\"] = []\n",
    "\n",
    "        # STATS\n",
    "        self.general_deficit_stats: list[float] = []\n",
    "        self.general_consume_stats: list[float] = []\n",
    "        self.general_demand_stats: list[float] = []\n",
    "        self.general_opinion_stats: list[float] = []\n",
    "\n",
    "        self.circuits_stats_daily_deficit: list[list[float]] = []\n",
    "        self.circuits_stats_daily_demand: list[list[float]] = []\n",
    "        self.circuits_stats_daily_consume: list[list[float]] = []\n",
    "        self.circuits_stats_daily_opinion: list[list[float]] = []\n",
    "\n",
    "        self.blocks_stats_daily_deficit: list[list[float]] = []\n",
    "        self.blocks_stats_daily_demand: list[list[float]] = []\n",
    "        self.blocks_stats_daily_consume: list[list[float]] = []\n",
    "        self.blocks_stats_daily_opinion: list[list[float]] = []\n",
    "\n",
    "        self.general_offer_stats: list[float] = []\n",
    "        self.general_stored_energy: list[float] = []\n",
    "\n",
    "        self.generation_stats: list[list[float]] = []\n",
    "        self.is_working_thermoelectrics_stats: list[int] = []\n",
    "        self.stored_energy_stats: list[list[float]] = []\n",
    "\n",
    "        self.daily_distribution_block_thermoelectric: list[list[tuple[int, int]]] = []\n",
    "        self.fitness: list[float] = []\n",
    "\n",
    "    def recollect_thermoelectric_stats(self):\n",
    "\n",
    "        self.general_offer_stats.append(self.world_state_manager.general_offer)\n",
    "\n",
    "        self.generation_stats.append(\n",
    "            self.world_state_manager.generation_per_thermoelectric\n",
    "        )\n",
    "\n",
    "        self.is_working_thermoelectrics_stats.append(\n",
    "            [\n",
    "                thermoelectric.is_working()\n",
    "                for thermoelectric in self.world_state_manager.thermoelectrics\n",
    "            ]\n",
    "        )\n",
    "\n",
    "        self.stored_energy_stats.append(\n",
    "            [\n",
    "                thermoelectric.current_capacity\n",
    "                for thermoelectric in self.world_state_manager.thermoelectrics\n",
    "            ]\n",
    "        )\n",
    "\n",
    "        self.general_stored_energy.append(sum(self.stored_energy_stats[-1]))\n",
    "\n",
    "        flat_distribution, score = self.chief_agent.last_date_result\n",
    "\n",
    "        self.daily_distribution_block_thermoelectric.append(flat_distribution)\n",
    "        self.fitness.append(score)\n",
    "\n",
    "    def recollect_circuit_block_stats(self):\n",
    "        circuits_demand = []\n",
    "        circuits_consume = []\n",
    "        circuits_deficit = []\n",
    "        circuits_opinion = []\n",
    "\n",
    "        blocks_demand = []\n",
    "        blocks_consume = []\n",
    "        blocks_deficit = []\n",
    "        blocks_opinion = []\n",
    "\n",
    "        for circuit in self.world_state_manager.circuits:\n",
    "            demand = 0\n",
    "            consume = 0\n",
    "\n",
    "            for block in circuit.blocks:\n",
    "                report = block.history_report[-1]\n",
    "                demand += report.total_demand\n",
    "                consume += report.total_consumed\n",
    "\n",
    "                blocks_demand.append(report.total_demand)\n",
    "                blocks_consume.append(report.total_consumed)\n",
    "                blocks_deficit.append(report.total_demand - report.total_consumed)\n",
    "                blocks_opinion.append(report.citizens_opinion)\n",
    "\n",
    "            circuits_demand.append(demand)\n",
    "            circuits_consume.append(consume)\n",
    "            circuits_deficit.append(demand - consume)\n",
    "            circuits_opinion.append(circuit.circuit_satisfaction)  # TODO: Review this\n",
    "\n",
    "        self.circuits_stats_daily_consume.append(circuits_consume)\n",
    "        self.circuits_stats_daily_demand.append(circuits_demand)\n",
    "        self.circuits_stats_daily_deficit.append(circuits_deficit)\n",
    "        self.circuits_stats_daily_opinion.append(circuits_opinion)\n",
    "\n",
    "        self.blocks_stats_daily_consume.append(blocks_consume)\n",
    "        self.blocks_stats_daily_demand.append(blocks_demand)\n",
    "        self.blocks_stats_daily_deficit.append(blocks_deficit)\n",
    "        self.blocks_stats_daily_opinion.append(blocks_opinion)\n",
    "\n",
    "        self.general_demand_stats.append(sum(circuits_demand))\n",
    "\n",
    "        self.general_consume_stats.append(sum(circuits_consume))\n",
    "\n",
    "        self.general_deficit_stats.append(\n",
    "            self.general_demand_stats[-1] - self.general_consume_stats[-1]\n",
    "        )\n",
    "\n",
    "        self.general_opinion_stats.append(self.world_state_manager.general_satisfaction)\n",
    "\n",
    "    def count_props_single_action(self, action, dict):\n",
    "        for key, value in vars(action).items():\n",
    "            if value:\n",
    "                if key in dict:\n",
    "                    dict[key] += 1\n",
    "                else:\n",
    "                    dict[key] = 1\n",
    "\n",
    "    def process_thermoelectric_agent_actions(self):\n",
    "        \"\"\"Returns the count of active properties in the action list for each property\"\"\"\n",
    "        day_i = []\n",
    "\n",
    "        for actions_of_day in self.thermoelectric_agent_actions:\n",
    "            counts = {}\n",
    "            for action in actions_of_day:\n",
    "                self.count_props_single_action(action=action, dict=counts)\n",
    "            day_i.append(counts)\n",
    "        return day_i\n",
    "\n",
    "    def process_chief_agent_actions(self):\n",
    "        counts = {}\n",
    "\n",
    "        for action in self.chief_agent_actions:\n",
    "            self.count_props_single_action(action=action, dict=counts)\n",
    "\n",
    "        return counts\n",
    "\n",
    "    def create_thermoelectric_agent_perception(\n",
    "        self, thermoelectric\n",
    "    ) -> ThermoelectricAgentPerception:\n",
    "\n",
    "        return ThermoelectricAgentPerception(\n",
    "            thermoelectric=thermoelectric,\n",
    "            general_deficit=self.world_state_manager.general_deficit,\n",
    "            general_demand=self.world_state_manager.general_demand,\n",
    "            general_offer=self.world_state_manager.general_offer,\n",
    "        )\n",
    "\n",
    "    def create_chief_agent_perception(self):\n",
    "\n",
    "        return ChiefElectricCompanyAgentPerception(\n",
    "            thermoelectrics_id=self.world_state_manager.thermoelectrics_id,\n",
    "            circuits_id=self.world_state_manager.circuits_id,\n",
    "            generation_per_thermoelectric=self.world_state_manager.generation_per_thermoelectric,\n",
    "            distance_matrix=self.world_state_manager.distance_matrix,\n",
    "            demand_per_block_in_circuit=self.world_state_manager.predicted_demand_per_block_in_circuits,\n",
    "            total_demand_per_circuit=self.world_state_manager.predicted_total_demand_per_circuit,\n",
    "            circuits_importance=self.world_state_manager.circuits_importance,\n",
    "            importance_per_block_in_circuits=self.world_state_manager.importance_per_block_in_circuits,\n",
    "            opinion_per_block_in_circuits=self.world_state_manager.opinion_per_block_in_circuits,\n",
    "            satisfaction_per_circuit=self.world_state_manager.satisfaction_per_circuit,\n",
    "            industrialization_per_circuit=self.world_state_manager.industrialization_per_circuit,\n",
    "            last_days_off_per_block_in_circuits=self.world_state_manager.last_days_off_per_block_in_circuits,\n",
    "            longest_sequence_off_per_block_in_circuits=self.world_state_manager.longest_sequence_off_per_block_in_circuits,\n",
    "            general_satisfaction=self.world_state_manager.general_satisfaction,\n",
    "        )\n",
    "\n",
    "    def update_thermoelectric(self):\n",
    "        for thermoelectric in self.world_state_manager.thermoelectrics:\n",
    "            thermoelectric.update()\n",
    "\n",
    "    def update_circuits(self, opinion_day: float = False):\n",
    "        for circuit in self.world_state_manager.circuits:\n",
    "            circuit.update(self.world_state_manager.general_satisfaction, opinion_day)\n",
    "\n",
    "    def simulate(self, simulation_days=50):\n",
    "\n",
    "        start_time = time.time()\n",
    "\n",
    "        thermoelectric_agent_rules = {\n",
    "            \"max_power_output\": TAMaxPowerOutputDesire(),\n",
    "            \"minimize_downtime\": TAMinimizeDowntimeDesire(),\n",
    "            \"prevent_unexpected_breakdowns\": TAPreventUnexpectedBreakdownDesire(),\n",
    "            \"meet_energy_demand\": TAMeetEnergyDemandDesire(),\n",
    "            \"prioritize_critical_parts_repair\": TAPrioritizeCriticalPartsRepairDesire(),\n",
    "            \"repair_parts\": TARepairPartsDesire(),\n",
    "        }\n",
    "\n",
    "        thermoelectric_agent_current_rules = [\n",
    "            \"max_power_output\",\n",
    "            \"minimize_downtime\",\n",
    "            \"prevent_unexpected_breakdowns\",\n",
    "            \"meet_energy_demand\",\n",
    "            \"prioritize_critical_parts_repair\",\n",
    "            \"repair_parts\",\n",
    "        ]\n",
    "\n",
    "        for thermoelectric in self.world_state_manager.thermoelectrics:\n",
    "            agent_initial_perception = self.create_thermoelectric_agent_perception(\n",
    "                thermoelectric=thermoelectric\n",
    "            )\n",
    "\n",
    "            thermoelectric_agent = ThermoelectricAgent(\n",
    "                name=f\"Agent of {thermoelectric.id}\",\n",
    "                thermoelectric=thermoelectric,\n",
    "                rules=thermoelectric_agent_rules,\n",
    "                current_rules=thermoelectric_agent_current_rules,\n",
    "                perception=agent_initial_perception,\n",
    "            )\n",
    "\n",
    "            self.thermoelectric_agents.append(thermoelectric_agent)\n",
    "\n",
    "        chief_agent_perception = self.create_chief_agent_perception()\n",
    "\n",
    "        chief_agent_desires = {\n",
    "            \"meet_demand\": CECAMeetDemandDesire(),\n",
    "            \"prioritize_block_importance\": CECAPrioritizeBlockImportance(),\n",
    "            \"prioritize_block_opinion\": CECAPrioritizeBlockOpinion(),\n",
    "            \"prioritize_consecutive_days_off\": CECAPrioritizeConsecutiveDaysOff(),\n",
    "            \"prioritize_days_off\": CECAPrioritizeDaysOff(),\n",
    "        }\n",
    "\n",
    "        chief_agent_current_desires = [\n",
    "            \"meet_demand\",\n",
    "            \"prioritize_block_importance\",\n",
    "            \"prioritize_block_opinion\",\n",
    "            \"prioritize_consecutive_days_off\",\n",
    "            \"prioritize_days_off\",\n",
    "        ]\n",
    "\n",
    "        self.chief_agent = ChiefElectricCompanyAgent(\n",
    "            name=\"Chief Electric Company Agent\",\n",
    "            thermoelectrics=self.world_state_manager.thermoelectrics,\n",
    "            circuits=self.world_state_manager.circuits,\n",
    "            perception=chief_agent_perception,\n",
    "            rules=chief_agent_desires,\n",
    "            current_rules=chief_agent_current_desires,\n",
    "            mapper_key_to_circuit_block=self.world_state_manager.mapper_key_to_circuit_block,\n",
    "            learn=False,\n",
    "        )\n",
    "\n",
    "        end_time = time.time()\n",
    "        print(f\"Initialization took {end_time - start_time} seconds\")\n",
    "\n",
    "        for day in range(simulation_days):\n",
    "            start_day_time = time.time()\n",
    "            print(\n",
    "                f\"Day {day} 🚀-----------------------------------------------------------------\"\n",
    "            )\n",
    "\n",
    "            today_actions = []\n",
    "\n",
    "            for agent_index in RANDOM.permutation(\n",
    "                range(len(self.thermoelectric_agents))\n",
    "            ):\n",
    "\n",
    "                agent: ThermoelectricAgent = self.thermoelectric_agents[agent_index]\n",
    "                new_agent_perception = self.create_thermoelectric_agent_perception(\n",
    "                    agent.thermoelectric\n",
    "                )\n",
    "\n",
    "                agent_action_result = agent.action(new_agent_perception)\n",
    "                today_actions.append(agent_action_result)\n",
    "                agent.thermoelectric.update_capacity()\n",
    "                self.world_state_manager.update_only_thermoelectric_stats(agent_index)\n",
    "\n",
    "            self.thermoelectric_agent_actions.append(today_actions)\n",
    "            # distribute energy\n",
    "\n",
    "            self.chief_agent.learn = day % int(10 / 3) == 0\n",
    "            chief_agent_perception = self.create_chief_agent_perception()\n",
    "            chief_agent_action = self.chief_agent.action(chief_agent_perception)\n",
    "            self.chief_agent_actions.append(chief_agent_action)\n",
    "\n",
    "            self.update_circuits(opinion_day=(day % 30 == 0))\n",
    "\n",
    "            self.recollect_thermoelectric_stats()\n",
    "\n",
    "            self.update_thermoelectric()\n",
    "\n",
    "            self.world_state_manager.update()\n",
    "\n",
    "            self.recollect_circuit_block_stats()\n",
    "\n",
    "            end_day_time = time.time()\n",
    "            print(f\"Day {day} took {end_day_time - start_day_time} seconds\")\n",
    "\n",
    "        # self.plot_stats()\n",
    "\n",
    "\n",
    "simulation = Simulation(\n",
    "    circuits=electric_system_circuits_list,\n",
    "    thermoelectrics=electric_system_thermoelectrics_list,\n",
    "    distance_matrix=matrix,\n",
    "    get_circuit_importance=get_circuit_importance,\n",
    "    get_block_importance=get_block_importance,\n",
    ")\n",
    "\n",
    "simulation.simulate()"
   ]
  },
  {
   "cell_type": "markdown",
   "metadata": {},
   "source": [
    "# Estadísticas"
   ]
  },
  {
   "cell_type": "code",
   "execution_count": 13,
   "metadata": {},
   "outputs": [
    {
     "data": {
      "application/vnd.plotly.v1+json": {
       "config": {
        "plotlyServerURL": "https://plot.ly"
       },
       "data": [
        {
         "mode": "lines",
         "name": "Demand",
         "type": "scatter",
         "x": [
          0,
          1,
          2,
          3,
          4,
          5,
          6,
          7,
          8,
          9,
          10,
          11,
          12,
          13,
          14,
          15,
          16,
          17,
          18,
          19,
          20,
          21,
          22,
          23,
          24,
          25,
          26,
          27,
          28,
          29,
          30,
          31,
          32,
          33,
          34,
          35,
          36,
          37,
          38,
          39,
          40,
          41,
          42,
          43,
          44,
          45,
          46,
          47,
          48,
          49,
          50,
          51,
          52,
          53,
          54,
          55,
          56,
          57,
          58,
          59,
          60,
          61,
          62,
          63,
          64,
          65,
          66,
          67,
          68,
          69,
          70,
          71,
          72,
          73,
          74,
          75,
          76,
          77,
          78,
          79,
          80,
          81,
          82,
          83,
          84,
          85,
          86,
          87,
          88,
          89,
          90,
          91,
          92,
          93,
          94,
          95,
          96,
          97,
          98,
          99,
          100,
          101,
          102,
          103,
          104,
          105,
          106,
          107,
          108,
          109,
          110,
          111,
          112,
          113,
          114,
          115,
          116,
          117,
          118,
          119,
          120,
          121,
          122,
          123,
          124,
          125,
          126,
          127,
          128,
          129,
          130,
          131,
          132,
          133,
          134,
          135,
          136,
          137,
          138,
          139,
          140,
          141,
          142,
          143,
          144,
          145,
          146,
          147,
          148,
          149
         ],
         "y": [
          73286.80161748911,
          72943.88333425207,
          73628.3520851266,
          72872.18225844948,
          73220.47915604718,
          72758.08230965002,
          73180.72950076875,
          72883.34692747949,
          72826.23747197313,
          73096.51205937716,
          72651.00751526811,
          72837.39174087172,
          73142.73225972758,
          73057.70050651423,
          72726.27837312917,
          72820.51931802728,
          72662.79673584082,
          73304.35335180897,
          72640.11459418574,
          72623.11053905882,
          72741.17094525325,
          72591.35613289395,
          73226.00032547786,
          73489.61877138918,
          72634.61518991759,
          73365.1428244381,
          73183.27504141729,
          73535.04984904193,
          73027.96244992646,
          73288.08434459443,
          72741.17472747345,
          73438.09674461324,
          72731.06026612042,
          73397.30067339075,
          73465.27149458385,
          72749.66674579204,
          72938.30224771623,
          72856.95178490135,
          72658.56146288826,
          73295.07118566922,
          72480.46567268597,
          72515.20694399705,
          72545.00588683346,
          72828.7566005079,
          72698.46242404214,
          72957.41451767262,
          72979.75999359172,
          73552.21259639035,
          73239.82035716537,
          72744.17347896547,
          73015.2030047162,
          72790.65097218384,
          73496.34167422746,
          73148.5352981271,
          72960.92176617471,
          73334.71580044448,
          73025.30304281408,
          73148.65853581329,
          73721.68656036234,
          72748.98867949248,
          72745.01622115252,
          72925.23476998742,
          72885.0601622503,
          73061.28017946891,
          72853.1195627737,
          72648.82438120586,
          72699.16808818579,
          72537.17394385932,
          72960.6351156981,
          72535.64513820011,
          73007.58659657896,
          72815.42322732425,
          73594.83121629721,
          72543.56367785613,
          73619.39776776427,
          73008.16519239318,
          72591.61578523795,
          73644.00902012842,
          73384.70124516358,
          73790.88502162893,
          73057.10720318776,
          72630.99703703714,
          73207.30740130846,
          73071.46155437503,
          72708.1965971104,
          72808.65853059481,
          73322.09947125103,
          73206.32842172559,
          72770.79359596308,
          73746.38525533861,
          73135.03499854622,
          73736.46942680917,
          73280.56681157416,
          72612.29838772367,
          73176.57015727123,
          72814.59772847588,
          72828.42703194106,
          73602.84149810701,
          72510.96190668434,
          73306.18998191699,
          73111.30214094916,
          73517.68098628195,
          72933.74793199674,
          73031.48447681373,
          73208.04436892242,
          73112.06556474199,
          72774.00071773758,
          73437.50380849939,
          73488.57700927372,
          73592.96301055742,
          73301.32538861671,
          72769.92657297743,
          73677.34378862362,
          72868.81682064127,
          72929.28019730172,
          73001.55550743466,
          72682.53207462872,
          73256.57343531343,
          73283.05189615901,
          72911.07358038054,
          73453.98632359867,
          72736.015979956,
          73439.44575190402,
          73183.12778880398,
          73509.06657073858,
          72976.40347081852,
          72797.92393528791,
          72896.69474310604,
          73016.19352753926,
          73405.67394165506,
          73684.2304072713,
          73223.88942323311,
          73256.05459326413,
          72565.75919837959,
          72861.54104098487,
          73034.25426188945,
          72894.12772166413,
          72593.07738381192,
          73107.78722644242,
          73001.98393486012,
          73060.52341367892,
          73240.2949265952,
          72605.41576006376,
          72930.52823382312,
          73572.95110437064,
          72580.88520073437,
          73723.98187179817,
          73287.10475467503,
          73307.9683954747,
          72827.80227376509
         ]
        },
        {
         "mode": "lines",
         "name": "Stored Energy",
         "type": "scatter",
         "x": [
          0,
          1,
          2,
          3,
          4,
          5,
          6,
          7,
          8,
          9,
          10,
          11,
          12,
          13,
          14,
          15,
          16,
          17,
          18,
          19,
          20,
          21,
          22,
          23,
          24,
          25,
          26,
          27,
          28,
          29,
          30,
          31,
          32,
          33,
          34,
          35,
          36,
          37,
          38,
          39,
          40,
          41,
          42,
          43,
          44,
          45,
          46,
          47,
          48,
          49,
          50,
          51,
          52,
          53,
          54,
          55,
          56,
          57,
          58,
          59,
          60,
          61,
          62,
          63,
          64,
          65,
          66,
          67,
          68,
          69,
          70,
          71,
          72,
          73,
          74,
          75,
          76,
          77,
          78,
          79,
          80,
          81,
          82,
          83,
          84,
          85,
          86,
          87,
          88,
          89,
          90,
          91,
          92,
          93,
          94,
          95,
          96,
          97,
          98,
          99,
          100,
          101,
          102,
          103,
          104,
          105,
          106,
          107,
          108,
          109,
          110,
          111,
          112,
          113,
          114,
          115,
          116,
          117,
          118,
          119,
          120,
          121,
          122,
          123,
          124,
          125,
          126,
          127,
          128,
          129,
          130,
          131,
          132,
          133,
          134,
          135,
          136,
          137,
          138,
          139,
          140,
          141,
          142,
          143,
          144,
          145,
          146,
          147,
          148,
          149
         ],
         "y": [
          10573.858772920239,
          10887.437217499753,
          10227.296923155962,
          11001.973789878703,
          10652.492261243635,
          11124.477418882992,
          9924.357668406394,
          10146.048407024065,
          10302.3018195362,
          9879.675415381244,
          10307.910792082617,
          10353.742114647603,
          10154.76829373473,
          9954.038323925104,
          10328.773964725422,
          10999.217714359094,
          11176.887060369456,
          10573.959481651807,
          11220.559229502045,
          10367.336040323997,
          10259.819398596575,
          10287.64331980345,
          9710.368983540218,
          8361.80168158094,
          9302.857226794777,
          8698.234595311244,
          9033.029948198857,
          7866.526550588147,
          7896.737380678402,
          6597.50761241056,
          7057.781624381819,
          6383.326856844611,
          7510.193771059136,
          7430.927726998558,
          7211.529981939845,
          6628.659313807408,
          6480.594248956486,
          6218.843695207305,
          6970.57445179477,
          6518.037957809677,
          8232.396219625321,
          8034.568636828813,
          7730.056537720214,
          8684.710465715032,
          9515.19099489039,
          7699.93848658885,
          7412.271039710776,
          7533.860037662806,
          7559.114915103881,
          7729.375327095002,
          7517.14229580004,
          7820.4548110367705,
          7761.916617172001,
          7428.529487172774,
          7553.4843079454295,
          8062.052918794787,
          8527.543730981146,
          8090.888471589867,
          7936.024241231761,
          7334.662904552788,
          9215.975182061387,
          8995.89721108534,
          8669.526508874736,
          7941.163932685802,
          9364.400846529468,
          9123.089830917006,
          9127.66909299696,
          8272.968911574364,
          8168.063376686342,
          7994.295364152013,
          9058.485860181296,
          8083.33552545149,
          7394.571548083786,
          7764.984527741759,
          6776.001071810406,
          7495.514934325736,
          8986.68869813722,
          8591.281160315179,
          9727.109772452888,
          9326.737796979723,
          10128.29080104433,
          9848.01703561794,
          9532.839211772325,
          9492.039813862979,
          9790.739887296157,
          9877.219124151541,
          9445.839527554763,
          9498.527343184332,
          9954.883456351145,
          9326.820742065598,
          8539.532900913178,
          8035.297321386522,
          8870.274981709008,
          8740.173794688551,
          7598.101463473558,
          8024.214145485552,
          9007.083949119313,
          8139.643722808105,
          7905.101984147535,
          7449.701570671242,
          7680.966276401542,
          7899.6466572572035,
          8266.633996349528,
          8057.239886238519,
          7935.68963381839,
          8017.299450427182,
          8596.828864284787,
          7766.314039918867,
          8824.488828413369,
          8601.113505245241,
          8280.998773275966,
          7712.184382888358,
          6840.048112315178,
          7474.8705165524,
          7439.217171334065,
          7698.796927156327,
          7989.137582714738,
          7593.049261900421,
          7579.749796121712,
          7731.369529537038,
          7284.783113269058,
          8326.0549886146,
          7400.148626463318,
          8716.696297119628,
          7831.9664704613515,
          8985.088659973833,
          9825.975493885622,
          9765.33428003147,
          10387.112576503969,
          10158.998301150743,
          9927.80297021549,
          10246.927174231523,
          10213.127322532457,
          10820.2507597148,
          10610.744646188869,
          10198.965818976289,
          10440.819702854917,
          9097.611640444133,
          8837.656111402843,
          8960.705598828983,
          9192.89383136727,
          8659.715687356227,
          9128.840044139988,
          8995.1402667233,
          8331.262169904872,
          10418.339770392147,
          9327.414988352755,
          8351.915963333216,
          8336.61625440462,
          8771.978362541988
         ]
        },
        {
         "mode": "lines",
         "name": "Consume",
         "type": "scatter",
         "x": [
          0,
          1,
          2,
          3,
          4,
          5,
          6,
          7,
          8,
          9,
          10,
          11,
          12,
          13,
          14,
          15,
          16,
          17,
          18,
          19,
          20,
          21,
          22,
          23,
          24,
          25,
          26,
          27,
          28,
          29,
          30,
          31,
          32,
          33,
          34,
          35,
          36,
          37,
          38,
          39,
          40,
          41,
          42,
          43,
          44,
          45,
          46,
          47,
          48,
          49,
          50,
          51,
          52,
          53,
          54,
          55,
          56,
          57,
          58,
          59,
          60,
          61,
          62,
          63,
          64,
          65,
          66,
          67,
          68,
          69,
          70,
          71,
          72,
          73,
          74,
          75,
          76,
          77,
          78,
          79,
          80,
          81,
          82,
          83,
          84,
          85,
          86,
          87,
          88,
          89,
          90,
          91,
          92,
          93,
          94,
          95,
          96,
          97,
          98,
          99,
          100,
          101,
          102,
          103,
          104,
          105,
          106,
          107,
          108,
          109,
          110,
          111,
          112,
          113,
          114,
          115,
          116,
          117,
          118,
          119,
          120,
          121,
          122,
          123,
          124,
          125,
          126,
          127,
          128,
          129,
          130,
          131,
          132,
          133,
          134,
          135,
          136,
          137,
          138,
          139,
          140,
          141,
          142,
          143,
          144,
          145,
          146,
          147,
          148,
          149
         ],
         "y": [
          73286.80161748911,
          72943.88333425207,
          73628.3520851266,
          72872.18225844948,
          73220.47915604718,
          72758.08230965002,
          73151.12119978032,
          72849.21947295593,
          72814.99275155184,
          73069.71463846587,
          72616.71910921992,
          72770.00384695907,
          73110.80423239272,
          72989.39863157518,
          72697.45887111402,
          72820.51931802728,
          72662.79673584082,
          73304.35335180897,
          72640.11459418574,
          72586.9550469767,
          72732.65102952177,
          72573.83113488494,
          73193.59388521092,
          73368.40176338889,
          72591.37448692194,
          73323.87188515559,
          73105.25973981112,
          73467.53046689242,
          72896.03862811481,
          73144.74147628134,
          72602.098826375,
          73259.81851176312,
          72644.21239525301,
          73295.76542849444,
          73427.97665392105,
          72595.6102699113,
          72736.00375144042,
          72676.23579193716,
          72574.60634581084,
          73151.48497859424,
          72342.16059611179,
          72346.95680934103,
          72470.88163244048,
          72788.3009540567,
          72681.77816995892,
          72851.40416702132,
          72886.41455740205,
          73417.84931274735,
          73098.69102556213,
          72658.72481947584,
          72926.17820887215,
          72659.97199173809,
          73387.89495869142,
          73104.15057700449,
          72815.73423903149,
          73277.20366655558,
          72864.32228968434,
          73104.22290251992,
          73585.48191739451,
          72687.67423293217,
          72627.32011361477,
          72808.69669716262,
          72768.70530882348,
          73027.76544043988,
          72807.64683836988,
          72570.66216468623,
          72554.03051834703,
          72405.04915837475,
          72846.21998294284,
          72465.02749178809,
          72951.5640311811,
          72696.05885440749,
          73483.73555069203,
          72486.74093415085,
          73491.72233312919,
          72909.21315375516,
          72509.14578967697,
          73550.42645075065,
          73366.40365693998,
          73790.88502162893,
          73021.19214168008,
          72598.25944522671,
          73193.51511846646,
          72996.48277761665,
          72675.47498837291,
          72751.62029815945,
          73237.33646969846,
          73105.48209028725,
          72740.8211420053,
          73716.12112695679,
          73104.74032550817,
          73673.98561952052,
          73244.66045997248,
          72496.16773885804,
          73106.79390575431,
          72711.75710548037,
          72758.06062596754,
          73553.20821375264,
          72455.36066781192,
          73139.06863769211,
          73012.20086255985,
          73427.42411887903,
          72856.33521353752,
          72908.03248635463,
          73146.08722763236,
          73021.60895540101,
          72719.08104384113,
          73350.18402692044,
          73452.21052068291,
          73560.83220664496,
          73231.305124994,
          72747.17015943739,
          73561.45019911553,
          72707.18476289784,
          72845.1928988465,
          72909.37856034013,
          72594.85839696562,
          73130.47025736177,
          73121.68019057739,
          72789.26636914791,
          73358.41595682442,
          72665.90609096344,
          73346.59716571934,
          73068.16751594313,
          73445.69062262494,
          72904.74507447322,
          72749.49913922825,
          72861.00315930544,
          72996.21769978666,
          73372.52353401759,
          73651.39005857732,
          73174.40087153658,
          73231.99035626434,
          72541.64283281099,
          72840.9806160185,
          73034.25426188945,
          72894.12772166413,
          72539.7872584073,
          72993.04729666641,
          72946.89510614098,
          72976.00348481174,
          73150.58647912843,
          72537.75608518951,
          72858.11503447316,
          73504.42852481962,
          72580.88520073437,
          73633.24721799376,
          73223.47400598173,
          73252.35028969793,
          72816.4851017966
         ]
        },
        {
         "mode": "lines",
         "name": "Deficit",
         "type": "scatter",
         "x": [
          0,
          1,
          2,
          3,
          4,
          5,
          6,
          7,
          8,
          9,
          10,
          11,
          12,
          13,
          14,
          15,
          16,
          17,
          18,
          19,
          20,
          21,
          22,
          23,
          24,
          25,
          26,
          27,
          28,
          29,
          30,
          31,
          32,
          33,
          34,
          35,
          36,
          37,
          38,
          39,
          40,
          41,
          42,
          43,
          44,
          45,
          46,
          47,
          48,
          49,
          50,
          51,
          52,
          53,
          54,
          55,
          56,
          57,
          58,
          59,
          60,
          61,
          62,
          63,
          64,
          65,
          66,
          67,
          68,
          69,
          70,
          71,
          72,
          73,
          74,
          75,
          76,
          77,
          78,
          79,
          80,
          81,
          82,
          83,
          84,
          85,
          86,
          87,
          88,
          89,
          90,
          91,
          92,
          93,
          94,
          95,
          96,
          97,
          98,
          99,
          100,
          101,
          102,
          103,
          104,
          105,
          106,
          107,
          108,
          109,
          110,
          111,
          112,
          113,
          114,
          115,
          116,
          117,
          118,
          119,
          120,
          121,
          122,
          123,
          124,
          125,
          126,
          127,
          128,
          129,
          130,
          131,
          132,
          133,
          134,
          135,
          136,
          137,
          138,
          139,
          140,
          141,
          142,
          143,
          144,
          145,
          146,
          147,
          148,
          149
         ],
         "y": [
          0,
          0,
          0,
          0,
          0,
          0,
          29.608300988431438,
          34.127454523564666,
          11.244720421294915,
          26.79742091128719,
          34.288406048188335,
          67.38789391265891,
          31.92802733485587,
          68.30187493904668,
          28.81950201514701,
          0,
          0,
          0,
          0,
          36.15549208212178,
          8.51991573147825,
          17.52499800901569,
          32.406440266931895,
          121.21700800029794,
          43.2407029956521,
          41.270939282505424,
          78.01530160616676,
          67.51938214950496,
          131.92382181165158,
          143.34286831309146,
          139.0759010984475,
          178.27823285011982,
          86.84787086740835,
          101.53524489630945,
          37.29484066279838,
          154.05647588074498,
          202.29849627580552,
          180.715992964193,
          83.95511707742116,
          143.5862070749863,
          138.3050765741791,
          168.2501346560166,
          74.12425439298386,
          40.455646451198845,
          16.68425408321491,
          106.0103506512969,
          93.34543618967291,
          134.36328364300425,
          141.12933160323882,
          85.44865948962979,
          89.024795844045,
          130.67898044575122,
          108.44671553603257,
          44.384721122609335,
          145.1875271432218,
          57.51213388890028,
          160.98075312974106,
          44.43563329336757,
          136.2046429678303,
          61.3144465603109,
          117.6961075377476,
          116.53807282479829,
          116.35485342681932,
          33.51473902903672,
          45.47272440382221,
          78.16221651963133,
          145.13756983875646,
          132.12478548457148,
          114.41513275525358,
          70.61764641202171,
          56.02256539785594,
          119.36437291676702,
          111.09566560518579,
          56.822743705284665,
          127.675434635079,
          98.95203863801726,
          82.46999556098308,
          93.58256937777332,
          18.297588223606,
          0,
          35.91506150767964,
          32.73759181043715,
          13.792282841997803,
          74.97877675837663,
          32.72160873748362,
          57.038232435355894,
          84.76300155256467,
          100.84633143834071,
          29.972453957787366,
          30.264128381822957,
          30.29467303804995,
          62.48380728864868,
          35.90635160167585,
          116.13064886562643,
          69.77625151691609,
          102.84062299551442,
          70.36640597351652,
          49.63328435436415,
          55.601238872419344,
          167.12134422488452,
          99.1012783893093,
          90.25686740291712,
          77.41271845922165,
          123.45199045909976,
          61.957141290055006,
          90.45660934098123,
          54.91967389645288,
          87.31978157894628,
          36.36648859080742,
          32.13080391245603,
          70.02026362270408,
          22.756413540046196,
          115.89358950809401,
          161.6320577434235,
          84.08729845522612,
          92.17694709452917,
          87.67367766310053,
          126.10317795166338,
          161.37170558162325,
          121.80721123263356,
          95.57036677424912,
          70.10988899256336,
          92.84858618467115,
          114.96027286084427,
          63.375948113636696,
          71.6583963453013,
          48.42479605965491,
          35.691583800595254,
          19.97582775259798,
          33.15040763746947,
          32.84034869397874,
          49.48855169652961,
          24.064236999780405,
          24.11636556859594,
          20.56042496637383,
          0,
          0,
          53.29012540461554,
          114.73992977601301,
          55.088828719148296,
          84.51992886718654,
          89.70844746677903,
          67.65967487424496,
          72.41319934996136,
          68.52257955101959,
          0,
          90.73465380440757,
          63.630748693307396,
          55.61810577676806,
          11.317171968490584
         ]
        }
       ],
       "layout": {
        "height": 800,
        "template": {
         "data": {
          "bar": [
           {
            "error_x": {
             "color": "#2a3f5f"
            },
            "error_y": {
             "color": "#2a3f5f"
            },
            "marker": {
             "line": {
              "color": "#E5ECF6",
              "width": 0.5
             },
             "pattern": {
              "fillmode": "overlay",
              "size": 10,
              "solidity": 0.2
             }
            },
            "type": "bar"
           }
          ],
          "barpolar": [
           {
            "marker": {
             "line": {
              "color": "#E5ECF6",
              "width": 0.5
             },
             "pattern": {
              "fillmode": "overlay",
              "size": 10,
              "solidity": 0.2
             }
            },
            "type": "barpolar"
           }
          ],
          "carpet": [
           {
            "aaxis": {
             "endlinecolor": "#2a3f5f",
             "gridcolor": "white",
             "linecolor": "white",
             "minorgridcolor": "white",
             "startlinecolor": "#2a3f5f"
            },
            "baxis": {
             "endlinecolor": "#2a3f5f",
             "gridcolor": "white",
             "linecolor": "white",
             "minorgridcolor": "white",
             "startlinecolor": "#2a3f5f"
            },
            "type": "carpet"
           }
          ],
          "choropleth": [
           {
            "colorbar": {
             "outlinewidth": 0,
             "ticks": ""
            },
            "type": "choropleth"
           }
          ],
          "contour": [
           {
            "colorbar": {
             "outlinewidth": 0,
             "ticks": ""
            },
            "colorscale": [
             [
              0,
              "#0d0887"
             ],
             [
              0.1111111111111111,
              "#46039f"
             ],
             [
              0.2222222222222222,
              "#7201a8"
             ],
             [
              0.3333333333333333,
              "#9c179e"
             ],
             [
              0.4444444444444444,
              "#bd3786"
             ],
             [
              0.5555555555555556,
              "#d8576b"
             ],
             [
              0.6666666666666666,
              "#ed7953"
             ],
             [
              0.7777777777777778,
              "#fb9f3a"
             ],
             [
              0.8888888888888888,
              "#fdca26"
             ],
             [
              1,
              "#f0f921"
             ]
            ],
            "type": "contour"
           }
          ],
          "contourcarpet": [
           {
            "colorbar": {
             "outlinewidth": 0,
             "ticks": ""
            },
            "type": "contourcarpet"
           }
          ],
          "heatmap": [
           {
            "colorbar": {
             "outlinewidth": 0,
             "ticks": ""
            },
            "colorscale": [
             [
              0,
              "#0d0887"
             ],
             [
              0.1111111111111111,
              "#46039f"
             ],
             [
              0.2222222222222222,
              "#7201a8"
             ],
             [
              0.3333333333333333,
              "#9c179e"
             ],
             [
              0.4444444444444444,
              "#bd3786"
             ],
             [
              0.5555555555555556,
              "#d8576b"
             ],
             [
              0.6666666666666666,
              "#ed7953"
             ],
             [
              0.7777777777777778,
              "#fb9f3a"
             ],
             [
              0.8888888888888888,
              "#fdca26"
             ],
             [
              1,
              "#f0f921"
             ]
            ],
            "type": "heatmap"
           }
          ],
          "heatmapgl": [
           {
            "colorbar": {
             "outlinewidth": 0,
             "ticks": ""
            },
            "colorscale": [
             [
              0,
              "#0d0887"
             ],
             [
              0.1111111111111111,
              "#46039f"
             ],
             [
              0.2222222222222222,
              "#7201a8"
             ],
             [
              0.3333333333333333,
              "#9c179e"
             ],
             [
              0.4444444444444444,
              "#bd3786"
             ],
             [
              0.5555555555555556,
              "#d8576b"
             ],
             [
              0.6666666666666666,
              "#ed7953"
             ],
             [
              0.7777777777777778,
              "#fb9f3a"
             ],
             [
              0.8888888888888888,
              "#fdca26"
             ],
             [
              1,
              "#f0f921"
             ]
            ],
            "type": "heatmapgl"
           }
          ],
          "histogram": [
           {
            "marker": {
             "pattern": {
              "fillmode": "overlay",
              "size": 10,
              "solidity": 0.2
             }
            },
            "type": "histogram"
           }
          ],
          "histogram2d": [
           {
            "colorbar": {
             "outlinewidth": 0,
             "ticks": ""
            },
            "colorscale": [
             [
              0,
              "#0d0887"
             ],
             [
              0.1111111111111111,
              "#46039f"
             ],
             [
              0.2222222222222222,
              "#7201a8"
             ],
             [
              0.3333333333333333,
              "#9c179e"
             ],
             [
              0.4444444444444444,
              "#bd3786"
             ],
             [
              0.5555555555555556,
              "#d8576b"
             ],
             [
              0.6666666666666666,
              "#ed7953"
             ],
             [
              0.7777777777777778,
              "#fb9f3a"
             ],
             [
              0.8888888888888888,
              "#fdca26"
             ],
             [
              1,
              "#f0f921"
             ]
            ],
            "type": "histogram2d"
           }
          ],
          "histogram2dcontour": [
           {
            "colorbar": {
             "outlinewidth": 0,
             "ticks": ""
            },
            "colorscale": [
             [
              0,
              "#0d0887"
             ],
             [
              0.1111111111111111,
              "#46039f"
             ],
             [
              0.2222222222222222,
              "#7201a8"
             ],
             [
              0.3333333333333333,
              "#9c179e"
             ],
             [
              0.4444444444444444,
              "#bd3786"
             ],
             [
              0.5555555555555556,
              "#d8576b"
             ],
             [
              0.6666666666666666,
              "#ed7953"
             ],
             [
              0.7777777777777778,
              "#fb9f3a"
             ],
             [
              0.8888888888888888,
              "#fdca26"
             ],
             [
              1,
              "#f0f921"
             ]
            ],
            "type": "histogram2dcontour"
           }
          ],
          "mesh3d": [
           {
            "colorbar": {
             "outlinewidth": 0,
             "ticks": ""
            },
            "type": "mesh3d"
           }
          ],
          "parcoords": [
           {
            "line": {
             "colorbar": {
              "outlinewidth": 0,
              "ticks": ""
             }
            },
            "type": "parcoords"
           }
          ],
          "pie": [
           {
            "automargin": true,
            "type": "pie"
           }
          ],
          "scatter": [
           {
            "fillpattern": {
             "fillmode": "overlay",
             "size": 10,
             "solidity": 0.2
            },
            "type": "scatter"
           }
          ],
          "scatter3d": [
           {
            "line": {
             "colorbar": {
              "outlinewidth": 0,
              "ticks": ""
             }
            },
            "marker": {
             "colorbar": {
              "outlinewidth": 0,
              "ticks": ""
             }
            },
            "type": "scatter3d"
           }
          ],
          "scattercarpet": [
           {
            "marker": {
             "colorbar": {
              "outlinewidth": 0,
              "ticks": ""
             }
            },
            "type": "scattercarpet"
           }
          ],
          "scattergeo": [
           {
            "marker": {
             "colorbar": {
              "outlinewidth": 0,
              "ticks": ""
             }
            },
            "type": "scattergeo"
           }
          ],
          "scattergl": [
           {
            "marker": {
             "colorbar": {
              "outlinewidth": 0,
              "ticks": ""
             }
            },
            "type": "scattergl"
           }
          ],
          "scattermapbox": [
           {
            "marker": {
             "colorbar": {
              "outlinewidth": 0,
              "ticks": ""
             }
            },
            "type": "scattermapbox"
           }
          ],
          "scatterpolar": [
           {
            "marker": {
             "colorbar": {
              "outlinewidth": 0,
              "ticks": ""
             }
            },
            "type": "scatterpolar"
           }
          ],
          "scatterpolargl": [
           {
            "marker": {
             "colorbar": {
              "outlinewidth": 0,
              "ticks": ""
             }
            },
            "type": "scatterpolargl"
           }
          ],
          "scatterternary": [
           {
            "marker": {
             "colorbar": {
              "outlinewidth": 0,
              "ticks": ""
             }
            },
            "type": "scatterternary"
           }
          ],
          "surface": [
           {
            "colorbar": {
             "outlinewidth": 0,
             "ticks": ""
            },
            "colorscale": [
             [
              0,
              "#0d0887"
             ],
             [
              0.1111111111111111,
              "#46039f"
             ],
             [
              0.2222222222222222,
              "#7201a8"
             ],
             [
              0.3333333333333333,
              "#9c179e"
             ],
             [
              0.4444444444444444,
              "#bd3786"
             ],
             [
              0.5555555555555556,
              "#d8576b"
             ],
             [
              0.6666666666666666,
              "#ed7953"
             ],
             [
              0.7777777777777778,
              "#fb9f3a"
             ],
             [
              0.8888888888888888,
              "#fdca26"
             ],
             [
              1,
              "#f0f921"
             ]
            ],
            "type": "surface"
           }
          ],
          "table": [
           {
            "cells": {
             "fill": {
              "color": "#EBF0F8"
             },
             "line": {
              "color": "white"
             }
            },
            "header": {
             "fill": {
              "color": "#C8D4E3"
             },
             "line": {
              "color": "white"
             }
            },
            "type": "table"
           }
          ]
         },
         "layout": {
          "annotationdefaults": {
           "arrowcolor": "#2a3f5f",
           "arrowhead": 0,
           "arrowwidth": 1
          },
          "autotypenumbers": "strict",
          "coloraxis": {
           "colorbar": {
            "outlinewidth": 0,
            "ticks": ""
           }
          },
          "colorscale": {
           "diverging": [
            [
             0,
             "#8e0152"
            ],
            [
             0.1,
             "#c51b7d"
            ],
            [
             0.2,
             "#de77ae"
            ],
            [
             0.3,
             "#f1b6da"
            ],
            [
             0.4,
             "#fde0ef"
            ],
            [
             0.5,
             "#f7f7f7"
            ],
            [
             0.6,
             "#e6f5d0"
            ],
            [
             0.7,
             "#b8e186"
            ],
            [
             0.8,
             "#7fbc41"
            ],
            [
             0.9,
             "#4d9221"
            ],
            [
             1,
             "#276419"
            ]
           ],
           "sequential": [
            [
             0,
             "#0d0887"
            ],
            [
             0.1111111111111111,
             "#46039f"
            ],
            [
             0.2222222222222222,
             "#7201a8"
            ],
            [
             0.3333333333333333,
             "#9c179e"
            ],
            [
             0.4444444444444444,
             "#bd3786"
            ],
            [
             0.5555555555555556,
             "#d8576b"
            ],
            [
             0.6666666666666666,
             "#ed7953"
            ],
            [
             0.7777777777777778,
             "#fb9f3a"
            ],
            [
             0.8888888888888888,
             "#fdca26"
            ],
            [
             1,
             "#f0f921"
            ]
           ],
           "sequentialminus": [
            [
             0,
             "#0d0887"
            ],
            [
             0.1111111111111111,
             "#46039f"
            ],
            [
             0.2222222222222222,
             "#7201a8"
            ],
            [
             0.3333333333333333,
             "#9c179e"
            ],
            [
             0.4444444444444444,
             "#bd3786"
            ],
            [
             0.5555555555555556,
             "#d8576b"
            ],
            [
             0.6666666666666666,
             "#ed7953"
            ],
            [
             0.7777777777777778,
             "#fb9f3a"
            ],
            [
             0.8888888888888888,
             "#fdca26"
            ],
            [
             1,
             "#f0f921"
            ]
           ]
          },
          "colorway": [
           "#636efa",
           "#EF553B",
           "#00cc96",
           "#ab63fa",
           "#FFA15A",
           "#19d3f3",
           "#FF6692",
           "#B6E880",
           "#FF97FF",
           "#FECB52"
          ],
          "font": {
           "color": "#2a3f5f"
          },
          "geo": {
           "bgcolor": "white",
           "lakecolor": "white",
           "landcolor": "#E5ECF6",
           "showlakes": true,
           "showland": true,
           "subunitcolor": "white"
          },
          "hoverlabel": {
           "align": "left"
          },
          "hovermode": "closest",
          "mapbox": {
           "style": "light"
          },
          "paper_bgcolor": "white",
          "plot_bgcolor": "#E5ECF6",
          "polar": {
           "angularaxis": {
            "gridcolor": "white",
            "linecolor": "white",
            "ticks": ""
           },
           "bgcolor": "#E5ECF6",
           "radialaxis": {
            "gridcolor": "white",
            "linecolor": "white",
            "ticks": ""
           }
          },
          "scene": {
           "xaxis": {
            "backgroundcolor": "#E5ECF6",
            "gridcolor": "white",
            "gridwidth": 2,
            "linecolor": "white",
            "showbackground": true,
            "ticks": "",
            "zerolinecolor": "white"
           },
           "yaxis": {
            "backgroundcolor": "#E5ECF6",
            "gridcolor": "white",
            "gridwidth": 2,
            "linecolor": "white",
            "showbackground": true,
            "ticks": "",
            "zerolinecolor": "white"
           },
           "zaxis": {
            "backgroundcolor": "#E5ECF6",
            "gridcolor": "white",
            "gridwidth": 2,
            "linecolor": "white",
            "showbackground": true,
            "ticks": "",
            "zerolinecolor": "white"
           }
          },
          "shapedefaults": {
           "line": {
            "color": "#2a3f5f"
           }
          },
          "ternary": {
           "aaxis": {
            "gridcolor": "white",
            "linecolor": "white",
            "ticks": ""
           },
           "baxis": {
            "gridcolor": "white",
            "linecolor": "white",
            "ticks": ""
           },
           "bgcolor": "#E5ECF6",
           "caxis": {
            "gridcolor": "white",
            "linecolor": "white",
            "ticks": ""
           }
          },
          "title": {
           "x": 0.05
          },
          "xaxis": {
           "automargin": true,
           "gridcolor": "white",
           "linecolor": "white",
           "ticks": "",
           "title": {
            "standoff": 15
           },
           "zerolinecolor": "white",
           "zerolinewidth": 2
          },
          "yaxis": {
           "automargin": true,
           "gridcolor": "white",
           "linecolor": "white",
           "ticks": "",
           "title": {
            "standoff": 15
           },
           "zerolinecolor": "white",
           "zerolinewidth": 2
          }
         }
        },
        "title": {
         "text": "Daily Deficit, Consume, and Demand"
        },
        "xaxis": {
         "title": {
          "text": "Day"
         }
        },
        "yaxis": {
         "title": {
          "text": "Value"
         }
        }
       }
      }
     },
     "metadata": {},
     "output_type": "display_data"
    },
    {
     "data": {
      "application/vnd.plotly.v1+json": {
       "config": {
        "plotlyServerURL": "https://plot.ly"
       },
       "data": [
        {
         "mode": "lines",
         "name": "Working Thermoelectrics",
         "type": "scatter",
         "x": [
          0,
          1,
          2,
          3,
          4,
          5,
          6,
          7,
          8,
          9,
          10,
          11,
          12,
          13,
          14,
          15,
          16,
          17,
          18,
          19,
          20,
          21,
          22,
          23,
          24,
          25,
          26,
          27,
          28,
          29,
          30,
          31,
          32,
          33,
          34,
          35,
          36,
          37,
          38,
          39,
          40,
          41,
          42,
          43,
          44,
          45,
          46,
          47,
          48,
          49,
          50,
          51,
          52,
          53,
          54,
          55,
          56,
          57,
          58,
          59,
          60,
          61,
          62,
          63,
          64,
          65,
          66,
          67,
          68,
          69,
          70,
          71,
          72,
          73,
          74,
          75,
          76,
          77,
          78,
          79,
          80,
          81,
          82,
          83,
          84,
          85,
          86,
          87,
          88,
          89,
          90,
          91,
          92,
          93,
          94,
          95,
          96,
          97,
          98,
          99,
          100,
          101,
          102,
          103,
          104,
          105,
          106,
          107,
          108,
          109,
          110,
          111,
          112,
          113,
          114,
          115,
          116,
          117,
          118,
          119,
          120,
          121,
          122,
          123,
          124,
          125,
          126,
          127,
          128,
          129,
          130,
          131,
          132,
          133,
          134,
          135,
          136,
          137,
          138,
          139,
          140,
          141,
          142,
          143,
          144,
          145,
          146,
          147,
          148,
          149
         ],
         "y": [
          8,
          8,
          8,
          8,
          8,
          7,
          7,
          7,
          7,
          7,
          7,
          7,
          7,
          7,
          7,
          7,
          7,
          7,
          6,
          6,
          6,
          6,
          8,
          8,
          8,
          8,
          8,
          8,
          8,
          8,
          8,
          8,
          8,
          8,
          8,
          8,
          8,
          8,
          8,
          8,
          8,
          8,
          8,
          8,
          8,
          8,
          8,
          8,
          8,
          8,
          8,
          8,
          7,
          8,
          8,
          8,
          8,
          8,
          8,
          8,
          8,
          8,
          8,
          8,
          8,
          8,
          8,
          8,
          8,
          8,
          8,
          7,
          8,
          8,
          8,
          8,
          8,
          8,
          8,
          8,
          8,
          8,
          8,
          8,
          8,
          8,
          6,
          8,
          7,
          7,
          8,
          8,
          7,
          7,
          8,
          8,
          8,
          8,
          8,
          8,
          7,
          8,
          8,
          8,
          7,
          8,
          8,
          7,
          8,
          7,
          8,
          8,
          8,
          8,
          8,
          8,
          8,
          8,
          8,
          8,
          8,
          7,
          8,
          8,
          7,
          8,
          7,
          7,
          6,
          6,
          6,
          6,
          5,
          5,
          5,
          5,
          6,
          8,
          8,
          8,
          8,
          8,
          8,
          8,
          8,
          8,
          8,
          8,
          8,
          7
         ]
        }
       ],
       "layout": {
        "height": 800,
        "template": {
         "data": {
          "bar": [
           {
            "error_x": {
             "color": "#2a3f5f"
            },
            "error_y": {
             "color": "#2a3f5f"
            },
            "marker": {
             "line": {
              "color": "#E5ECF6",
              "width": 0.5
             },
             "pattern": {
              "fillmode": "overlay",
              "size": 10,
              "solidity": 0.2
             }
            },
            "type": "bar"
           }
          ],
          "barpolar": [
           {
            "marker": {
             "line": {
              "color": "#E5ECF6",
              "width": 0.5
             },
             "pattern": {
              "fillmode": "overlay",
              "size": 10,
              "solidity": 0.2
             }
            },
            "type": "barpolar"
           }
          ],
          "carpet": [
           {
            "aaxis": {
             "endlinecolor": "#2a3f5f",
             "gridcolor": "white",
             "linecolor": "white",
             "minorgridcolor": "white",
             "startlinecolor": "#2a3f5f"
            },
            "baxis": {
             "endlinecolor": "#2a3f5f",
             "gridcolor": "white",
             "linecolor": "white",
             "minorgridcolor": "white",
             "startlinecolor": "#2a3f5f"
            },
            "type": "carpet"
           }
          ],
          "choropleth": [
           {
            "colorbar": {
             "outlinewidth": 0,
             "ticks": ""
            },
            "type": "choropleth"
           }
          ],
          "contour": [
           {
            "colorbar": {
             "outlinewidth": 0,
             "ticks": ""
            },
            "colorscale": [
             [
              0,
              "#0d0887"
             ],
             [
              0.1111111111111111,
              "#46039f"
             ],
             [
              0.2222222222222222,
              "#7201a8"
             ],
             [
              0.3333333333333333,
              "#9c179e"
             ],
             [
              0.4444444444444444,
              "#bd3786"
             ],
             [
              0.5555555555555556,
              "#d8576b"
             ],
             [
              0.6666666666666666,
              "#ed7953"
             ],
             [
              0.7777777777777778,
              "#fb9f3a"
             ],
             [
              0.8888888888888888,
              "#fdca26"
             ],
             [
              1,
              "#f0f921"
             ]
            ],
            "type": "contour"
           }
          ],
          "contourcarpet": [
           {
            "colorbar": {
             "outlinewidth": 0,
             "ticks": ""
            },
            "type": "contourcarpet"
           }
          ],
          "heatmap": [
           {
            "colorbar": {
             "outlinewidth": 0,
             "ticks": ""
            },
            "colorscale": [
             [
              0,
              "#0d0887"
             ],
             [
              0.1111111111111111,
              "#46039f"
             ],
             [
              0.2222222222222222,
              "#7201a8"
             ],
             [
              0.3333333333333333,
              "#9c179e"
             ],
             [
              0.4444444444444444,
              "#bd3786"
             ],
             [
              0.5555555555555556,
              "#d8576b"
             ],
             [
              0.6666666666666666,
              "#ed7953"
             ],
             [
              0.7777777777777778,
              "#fb9f3a"
             ],
             [
              0.8888888888888888,
              "#fdca26"
             ],
             [
              1,
              "#f0f921"
             ]
            ],
            "type": "heatmap"
           }
          ],
          "heatmapgl": [
           {
            "colorbar": {
             "outlinewidth": 0,
             "ticks": ""
            },
            "colorscale": [
             [
              0,
              "#0d0887"
             ],
             [
              0.1111111111111111,
              "#46039f"
             ],
             [
              0.2222222222222222,
              "#7201a8"
             ],
             [
              0.3333333333333333,
              "#9c179e"
             ],
             [
              0.4444444444444444,
              "#bd3786"
             ],
             [
              0.5555555555555556,
              "#d8576b"
             ],
             [
              0.6666666666666666,
              "#ed7953"
             ],
             [
              0.7777777777777778,
              "#fb9f3a"
             ],
             [
              0.8888888888888888,
              "#fdca26"
             ],
             [
              1,
              "#f0f921"
             ]
            ],
            "type": "heatmapgl"
           }
          ],
          "histogram": [
           {
            "marker": {
             "pattern": {
              "fillmode": "overlay",
              "size": 10,
              "solidity": 0.2
             }
            },
            "type": "histogram"
           }
          ],
          "histogram2d": [
           {
            "colorbar": {
             "outlinewidth": 0,
             "ticks": ""
            },
            "colorscale": [
             [
              0,
              "#0d0887"
             ],
             [
              0.1111111111111111,
              "#46039f"
             ],
             [
              0.2222222222222222,
              "#7201a8"
             ],
             [
              0.3333333333333333,
              "#9c179e"
             ],
             [
              0.4444444444444444,
              "#bd3786"
             ],
             [
              0.5555555555555556,
              "#d8576b"
             ],
             [
              0.6666666666666666,
              "#ed7953"
             ],
             [
              0.7777777777777778,
              "#fb9f3a"
             ],
             [
              0.8888888888888888,
              "#fdca26"
             ],
             [
              1,
              "#f0f921"
             ]
            ],
            "type": "histogram2d"
           }
          ],
          "histogram2dcontour": [
           {
            "colorbar": {
             "outlinewidth": 0,
             "ticks": ""
            },
            "colorscale": [
             [
              0,
              "#0d0887"
             ],
             [
              0.1111111111111111,
              "#46039f"
             ],
             [
              0.2222222222222222,
              "#7201a8"
             ],
             [
              0.3333333333333333,
              "#9c179e"
             ],
             [
              0.4444444444444444,
              "#bd3786"
             ],
             [
              0.5555555555555556,
              "#d8576b"
             ],
             [
              0.6666666666666666,
              "#ed7953"
             ],
             [
              0.7777777777777778,
              "#fb9f3a"
             ],
             [
              0.8888888888888888,
              "#fdca26"
             ],
             [
              1,
              "#f0f921"
             ]
            ],
            "type": "histogram2dcontour"
           }
          ],
          "mesh3d": [
           {
            "colorbar": {
             "outlinewidth": 0,
             "ticks": ""
            },
            "type": "mesh3d"
           }
          ],
          "parcoords": [
           {
            "line": {
             "colorbar": {
              "outlinewidth": 0,
              "ticks": ""
             }
            },
            "type": "parcoords"
           }
          ],
          "pie": [
           {
            "automargin": true,
            "type": "pie"
           }
          ],
          "scatter": [
           {
            "fillpattern": {
             "fillmode": "overlay",
             "size": 10,
             "solidity": 0.2
            },
            "type": "scatter"
           }
          ],
          "scatter3d": [
           {
            "line": {
             "colorbar": {
              "outlinewidth": 0,
              "ticks": ""
             }
            },
            "marker": {
             "colorbar": {
              "outlinewidth": 0,
              "ticks": ""
             }
            },
            "type": "scatter3d"
           }
          ],
          "scattercarpet": [
           {
            "marker": {
             "colorbar": {
              "outlinewidth": 0,
              "ticks": ""
             }
            },
            "type": "scattercarpet"
           }
          ],
          "scattergeo": [
           {
            "marker": {
             "colorbar": {
              "outlinewidth": 0,
              "ticks": ""
             }
            },
            "type": "scattergeo"
           }
          ],
          "scattergl": [
           {
            "marker": {
             "colorbar": {
              "outlinewidth": 0,
              "ticks": ""
             }
            },
            "type": "scattergl"
           }
          ],
          "scattermapbox": [
           {
            "marker": {
             "colorbar": {
              "outlinewidth": 0,
              "ticks": ""
             }
            },
            "type": "scattermapbox"
           }
          ],
          "scatterpolar": [
           {
            "marker": {
             "colorbar": {
              "outlinewidth": 0,
              "ticks": ""
             }
            },
            "type": "scatterpolar"
           }
          ],
          "scatterpolargl": [
           {
            "marker": {
             "colorbar": {
              "outlinewidth": 0,
              "ticks": ""
             }
            },
            "type": "scatterpolargl"
           }
          ],
          "scatterternary": [
           {
            "marker": {
             "colorbar": {
              "outlinewidth": 0,
              "ticks": ""
             }
            },
            "type": "scatterternary"
           }
          ],
          "surface": [
           {
            "colorbar": {
             "outlinewidth": 0,
             "ticks": ""
            },
            "colorscale": [
             [
              0,
              "#0d0887"
             ],
             [
              0.1111111111111111,
              "#46039f"
             ],
             [
              0.2222222222222222,
              "#7201a8"
             ],
             [
              0.3333333333333333,
              "#9c179e"
             ],
             [
              0.4444444444444444,
              "#bd3786"
             ],
             [
              0.5555555555555556,
              "#d8576b"
             ],
             [
              0.6666666666666666,
              "#ed7953"
             ],
             [
              0.7777777777777778,
              "#fb9f3a"
             ],
             [
              0.8888888888888888,
              "#fdca26"
             ],
             [
              1,
              "#f0f921"
             ]
            ],
            "type": "surface"
           }
          ],
          "table": [
           {
            "cells": {
             "fill": {
              "color": "#EBF0F8"
             },
             "line": {
              "color": "white"
             }
            },
            "header": {
             "fill": {
              "color": "#C8D4E3"
             },
             "line": {
              "color": "white"
             }
            },
            "type": "table"
           }
          ]
         },
         "layout": {
          "annotationdefaults": {
           "arrowcolor": "#2a3f5f",
           "arrowhead": 0,
           "arrowwidth": 1
          },
          "autotypenumbers": "strict",
          "coloraxis": {
           "colorbar": {
            "outlinewidth": 0,
            "ticks": ""
           }
          },
          "colorscale": {
           "diverging": [
            [
             0,
             "#8e0152"
            ],
            [
             0.1,
             "#c51b7d"
            ],
            [
             0.2,
             "#de77ae"
            ],
            [
             0.3,
             "#f1b6da"
            ],
            [
             0.4,
             "#fde0ef"
            ],
            [
             0.5,
             "#f7f7f7"
            ],
            [
             0.6,
             "#e6f5d0"
            ],
            [
             0.7,
             "#b8e186"
            ],
            [
             0.8,
             "#7fbc41"
            ],
            [
             0.9,
             "#4d9221"
            ],
            [
             1,
             "#276419"
            ]
           ],
           "sequential": [
            [
             0,
             "#0d0887"
            ],
            [
             0.1111111111111111,
             "#46039f"
            ],
            [
             0.2222222222222222,
             "#7201a8"
            ],
            [
             0.3333333333333333,
             "#9c179e"
            ],
            [
             0.4444444444444444,
             "#bd3786"
            ],
            [
             0.5555555555555556,
             "#d8576b"
            ],
            [
             0.6666666666666666,
             "#ed7953"
            ],
            [
             0.7777777777777778,
             "#fb9f3a"
            ],
            [
             0.8888888888888888,
             "#fdca26"
            ],
            [
             1,
             "#f0f921"
            ]
           ],
           "sequentialminus": [
            [
             0,
             "#0d0887"
            ],
            [
             0.1111111111111111,
             "#46039f"
            ],
            [
             0.2222222222222222,
             "#7201a8"
            ],
            [
             0.3333333333333333,
             "#9c179e"
            ],
            [
             0.4444444444444444,
             "#bd3786"
            ],
            [
             0.5555555555555556,
             "#d8576b"
            ],
            [
             0.6666666666666666,
             "#ed7953"
            ],
            [
             0.7777777777777778,
             "#fb9f3a"
            ],
            [
             0.8888888888888888,
             "#fdca26"
            ],
            [
             1,
             "#f0f921"
            ]
           ]
          },
          "colorway": [
           "#636efa",
           "#EF553B",
           "#00cc96",
           "#ab63fa",
           "#FFA15A",
           "#19d3f3",
           "#FF6692",
           "#B6E880",
           "#FF97FF",
           "#FECB52"
          ],
          "font": {
           "color": "#2a3f5f"
          },
          "geo": {
           "bgcolor": "white",
           "lakecolor": "white",
           "landcolor": "#E5ECF6",
           "showlakes": true,
           "showland": true,
           "subunitcolor": "white"
          },
          "hoverlabel": {
           "align": "left"
          },
          "hovermode": "closest",
          "mapbox": {
           "style": "light"
          },
          "paper_bgcolor": "white",
          "plot_bgcolor": "#E5ECF6",
          "polar": {
           "angularaxis": {
            "gridcolor": "white",
            "linecolor": "white",
            "ticks": ""
           },
           "bgcolor": "#E5ECF6",
           "radialaxis": {
            "gridcolor": "white",
            "linecolor": "white",
            "ticks": ""
           }
          },
          "scene": {
           "xaxis": {
            "backgroundcolor": "#E5ECF6",
            "gridcolor": "white",
            "gridwidth": 2,
            "linecolor": "white",
            "showbackground": true,
            "ticks": "",
            "zerolinecolor": "white"
           },
           "yaxis": {
            "backgroundcolor": "#E5ECF6",
            "gridcolor": "white",
            "gridwidth": 2,
            "linecolor": "white",
            "showbackground": true,
            "ticks": "",
            "zerolinecolor": "white"
           },
           "zaxis": {
            "backgroundcolor": "#E5ECF6",
            "gridcolor": "white",
            "gridwidth": 2,
            "linecolor": "white",
            "showbackground": true,
            "ticks": "",
            "zerolinecolor": "white"
           }
          },
          "shapedefaults": {
           "line": {
            "color": "#2a3f5f"
           }
          },
          "ternary": {
           "aaxis": {
            "gridcolor": "white",
            "linecolor": "white",
            "ticks": ""
           },
           "baxis": {
            "gridcolor": "white",
            "linecolor": "white",
            "ticks": ""
           },
           "bgcolor": "#E5ECF6",
           "caxis": {
            "gridcolor": "white",
            "linecolor": "white",
            "ticks": ""
           }
          },
          "title": {
           "x": 0.05
          },
          "xaxis": {
           "automargin": true,
           "gridcolor": "white",
           "linecolor": "white",
           "ticks": "",
           "title": {
            "standoff": 15
           },
           "zerolinecolor": "white",
           "zerolinewidth": 2
          },
          "yaxis": {
           "automargin": true,
           "gridcolor": "white",
           "linecolor": "white",
           "ticks": "",
           "title": {
            "standoff": 15
           },
           "zerolinecolor": "white",
           "zerolinewidth": 2
          }
         }
        },
        "title": {
         "text": "Working Thermoelectrics per Day"
        },
        "xaxis": {
         "title": {
          "text": "Day"
         }
        },
        "yaxis": {
         "title": {
          "text": "Number of Working Thermoelectrics"
         }
        }
       }
      }
     },
     "metadata": {},
     "output_type": "display_data"
    },
    {
     "data": {
      "application/vnd.plotly.v1+json": {
       "config": {
        "plotlyServerURL": "https://plot.ly"
       },
       "data": [
        {
         "mode": "lines",
         "name": "Thermoelectric 0",
         "type": "scatter",
         "x": [
          0,
          1,
          2,
          3,
          4,
          5,
          6,
          7,
          8,
          9,
          10,
          11,
          12,
          13,
          14,
          15,
          16,
          17,
          18,
          19,
          20,
          21,
          22,
          23,
          24,
          25,
          26,
          27,
          28,
          29,
          30,
          31,
          32,
          33,
          34,
          35,
          36,
          37,
          38,
          39,
          40,
          41,
          42,
          43,
          44,
          45,
          46,
          47,
          48,
          49,
          50,
          51,
          52,
          53,
          54,
          55,
          56,
          57,
          58,
          59,
          60,
          61,
          62,
          63,
          64,
          65,
          66,
          67,
          68,
          69,
          70,
          71,
          72,
          73,
          74,
          75,
          76,
          77,
          78,
          79,
          80,
          81,
          82,
          83,
          84,
          85,
          86,
          87,
          88,
          89,
          90,
          91,
          92,
          93,
          94,
          95,
          96,
          97,
          98,
          99,
          100,
          101,
          102,
          103,
          104,
          105,
          106,
          107,
          108,
          109,
          110,
          111,
          112,
          113,
          114,
          115,
          116,
          117,
          118,
          119,
          120,
          121,
          122,
          123,
          124,
          125,
          126,
          127,
          128,
          129,
          130,
          131,
          132,
          133,
          134,
          135,
          136,
          137,
          138,
          139,
          140,
          141,
          142,
          143,
          144,
          145,
          146,
          147,
          148,
          149
         ],
         "y": [
          20483.938649630458,
          20483.938649630458,
          20483.938649630458,
          20483.938649630458,
          20483.938649630458,
          20483.938649630458,
          20483.938649630458,
          20483.938649630458,
          20483.938649630458,
          20483.938649630458,
          20483.938649630458,
          20483.938649630458,
          20483.938649630458,
          20483.938649630458,
          20483.938649630458,
          20483.938649630458,
          20483.938649630458,
          20483.938649630458,
          20483.938649630458,
          20483.938649630458,
          20483.938649630458,
          20483.938649630458,
          20483.938649630458,
          20483.938649630458,
          20483.938649630458,
          20483.938649630458,
          20483.938649630458,
          20483.938649630458,
          13655.959099753638,
          6827.979549876819,
          6827.979549876819,
          6827.979549876819,
          6827.979549876819,
          6827.979549876819,
          6827.979549876819,
          6827.979549876819,
          6827.979549876819,
          6827.979549876819,
          6827.979549876819,
          6827.979549876819,
          13655.959099753638,
          13655.959099753638,
          13655.959099753638,
          13655.959099753638,
          13655.959099753638,
          6827.979549876819,
          6827.979549876819,
          6827.979549876819,
          6827.979549876819,
          6827.979549876819,
          6827.979549876819,
          6827.979549876819,
          6827.979549876819,
          6827.979549876819,
          6827.979549876819,
          13655.959099753638,
          13655.959099753638,
          13655.959099753638,
          13655.959099753638,
          13655.959099753638,
          20483.938649630458,
          20483.938649630458,
          20483.938649630458,
          20483.938649630458,
          20483.938649630458,
          20483.938649630458,
          20483.938649630458,
          20483.938649630458,
          20483.938649630458,
          20483.938649630458,
          20483.938649630458,
          20483.938649630458,
          20483.938649630458,
          20483.938649630458,
          20483.938649630458,
          20483.938649630458,
          20483.938649630458,
          20483.938649630458,
          20483.938649630458,
          20483.938649630458,
          20483.938649630458,
          20483.938649630458,
          20483.938649630458,
          20483.938649630458,
          20483.938649630458,
          20483.938649630458,
          20483.938649630458,
          20483.938649630458,
          20483.938649630458,
          20483.938649630458,
          13655.959099753638,
          13655.959099753638,
          13655.959099753638,
          13655.959099753638,
          13655.959099753638,
          13655.959099753638,
          13655.959099753638,
          13655.959099753638,
          13655.959099753638,
          13655.959099753638,
          13655.959099753638,
          13655.959099753638,
          13655.959099753638,
          13655.959099753638,
          13655.959099753638,
          13655.959099753638,
          13655.959099753638,
          13655.959099753638,
          13655.959099753638,
          13655.959099753638,
          13655.959099753638,
          13655.959099753638,
          13655.959099753638,
          13655.959099753638,
          13655.959099753638,
          20483.938649630458,
          20483.938649630458,
          20483.938649630458,
          13655.959099753638,
          13655.959099753638,
          13655.959099753638,
          13655.959099753638,
          13655.959099753638,
          13655.959099753638,
          13655.959099753638,
          13655.959099753638,
          13655.959099753638,
          13655.959099753638,
          20483.938649630458,
          20483.938649630458,
          20483.938649630458,
          20483.938649630458,
          20483.938649630458,
          20483.938649630458,
          20483.938649630458,
          20483.938649630458,
          20483.938649630458,
          20483.938649630458,
          20483.938649630458,
          20483.938649630458,
          20483.938649630458,
          20483.938649630458,
          20483.938649630458,
          20483.938649630458,
          20483.938649630458,
          20483.938649630458,
          20483.938649630458,
          20483.938649630458,
          13655.959099753638,
          13655.959099753638
         ]
        },
        {
         "mode": "lines",
         "name": "Thermoelectric 1",
         "type": "scatter",
         "x": [
          0,
          1,
          2,
          3,
          4,
          5,
          6,
          7,
          8,
          9,
          10,
          11,
          12,
          13,
          14,
          15,
          16,
          17,
          18,
          19,
          20,
          21,
          22,
          23,
          24,
          25,
          26,
          27,
          28,
          29,
          30,
          31,
          32,
          33,
          34,
          35,
          36,
          37,
          38,
          39,
          40,
          41,
          42,
          43,
          44,
          45,
          46,
          47,
          48,
          49,
          50,
          51,
          52,
          53,
          54,
          55,
          56,
          57,
          58,
          59,
          60,
          61,
          62,
          63,
          64,
          65,
          66,
          67,
          68,
          69,
          70,
          71,
          72,
          73,
          74,
          75,
          76,
          77,
          78,
          79,
          80,
          81,
          82,
          83,
          84,
          85,
          86,
          87,
          88,
          89,
          90,
          91,
          92,
          93,
          94,
          95,
          96,
          97,
          98,
          99,
          100,
          101,
          102,
          103,
          104,
          105,
          106,
          107,
          108,
          109,
          110,
          111,
          112,
          113,
          114,
          115,
          116,
          117,
          118,
          119,
          120,
          121,
          122,
          123,
          124,
          125,
          126,
          127,
          128,
          129,
          130,
          131,
          132,
          133,
          134,
          135,
          136,
          137,
          138,
          139,
          140,
          141,
          142,
          143,
          144,
          145,
          146,
          147,
          148,
          149
         ],
         "y": [
          11989.25902211698,
          11989.25902211698,
          11989.25902211698,
          11989.25902211698,
          11989.25902211698,
          11989.25902211698,
          5994.62951105849,
          5994.62951105849,
          5994.62951105849,
          5994.62951105849,
          5994.62951105849,
          5994.62951105849,
          5994.62951105849,
          5994.62951105849,
          5994.62951105849,
          11989.25902211698,
          11989.25902211698,
          11989.25902211698,
          11989.25902211698,
          11989.25902211698,
          11989.25902211698,
          11989.25902211698,
          11989.25902211698,
          11989.25902211698,
          11989.25902211698,
          11989.25902211698,
          11989.25902211698,
          11989.25902211698,
          11989.25902211698,
          11989.25902211698,
          11989.25902211698,
          11989.25902211698,
          11989.25902211698,
          11989.25902211698,
          11989.25902211698,
          5994.62951105849,
          5994.62951105849,
          5994.62951105849,
          5994.62951105849,
          5994.62951105849,
          5994.62951105849,
          5994.62951105849,
          5994.62951105849,
          5994.62951105849,
          11989.25902211698,
          5994.62951105849,
          5994.62951105849,
          5994.62951105849,
          5994.62951105849,
          5994.62951105849,
          5994.62951105849,
          5994.62951105849,
          5994.62951105849,
          5994.62951105849,
          5994.62951105849,
          5994.62951105849,
          5994.62951105849,
          5994.62951105849,
          5994.62951105849,
          5994.62951105849,
          11989.25902211698,
          11989.25902211698,
          11989.25902211698,
          11989.25902211698,
          11989.25902211698,
          11989.25902211698,
          11989.25902211698,
          11989.25902211698,
          11989.25902211698,
          11989.25902211698,
          11989.25902211698,
          11989.25902211698,
          11989.25902211698,
          5994.62951105849,
          5994.62951105849,
          5994.62951105849,
          5994.62951105849,
          5994.62951105849,
          5994.62951105849,
          5994.62951105849,
          5994.62951105849,
          5994.62951105849,
          5994.62951105849,
          5994.62951105849,
          5994.62951105849,
          5994.62951105849,
          5994.62951105849,
          5994.62951105849,
          5994.62951105849,
          5994.62951105849,
          5994.62951105849,
          5994.62951105849,
          5994.62951105849,
          5994.62951105849,
          5994.62951105849,
          5994.62951105849,
          11989.25902211698,
          11989.25902211698,
          11989.25902211698,
          11989.25902211698,
          11989.25902211698,
          11989.25902211698,
          11989.25902211698,
          11989.25902211698,
          11989.25902211698,
          11989.25902211698,
          11989.25902211698,
          11989.25902211698,
          11989.25902211698,
          11989.25902211698,
          11989.25902211698,
          5994.62951105849,
          5994.62951105849,
          5994.62951105849,
          5994.62951105849,
          5994.62951105849,
          5994.62951105849,
          5994.62951105849,
          5994.62951105849,
          5994.62951105849,
          5994.62951105849,
          5994.62951105849,
          5994.62951105849,
          11989.25902211698,
          11989.25902211698,
          11989.25902211698,
          11989.25902211698,
          11989.25902211698,
          11989.25902211698,
          11989.25902211698,
          11989.25902211698,
          11989.25902211698,
          11989.25902211698,
          11989.25902211698,
          11989.25902211698,
          11989.25902211698,
          11989.25902211698,
          11989.25902211698,
          11989.25902211698,
          11989.25902211698,
          11989.25902211698,
          11989.25902211698,
          11989.25902211698,
          11989.25902211698,
          11989.25902211698,
          11989.25902211698,
          11989.25902211698,
          5994.62951105849,
          5994.62951105849,
          5994.62951105849
         ]
        },
        {
         "mode": "lines",
         "name": "Thermoelectric 2",
         "type": "scatter",
         "x": [
          0,
          1,
          2,
          3,
          4,
          5,
          6,
          7,
          8,
          9,
          10,
          11,
          12,
          13,
          14,
          15,
          16,
          17,
          18,
          19,
          20,
          21,
          22,
          23,
          24,
          25,
          26,
          27,
          28,
          29,
          30,
          31,
          32,
          33,
          34,
          35,
          36,
          37,
          38,
          39,
          40,
          41,
          42,
          43,
          44,
          45,
          46,
          47,
          48,
          49,
          50,
          51,
          52,
          53,
          54,
          55,
          56,
          57,
          58,
          59,
          60,
          61,
          62,
          63,
          64,
          65,
          66,
          67,
          68,
          69,
          70,
          71,
          72,
          73,
          74,
          75,
          76,
          77,
          78,
          79,
          80,
          81,
          82,
          83,
          84,
          85,
          86,
          87,
          88,
          89,
          90,
          91,
          92,
          93,
          94,
          95,
          96,
          97,
          98,
          99,
          100,
          101,
          102,
          103,
          104,
          105,
          106,
          107,
          108,
          109,
          110,
          111,
          112,
          113,
          114,
          115,
          116,
          117,
          118,
          119,
          120,
          121,
          122,
          123,
          124,
          125,
          126,
          127,
          128,
          129,
          130,
          131,
          132,
          133,
          134,
          135,
          136,
          137,
          138,
          139,
          140,
          141,
          142,
          143,
          144,
          145,
          146,
          147,
          148,
          149
         ],
         "y": [
          3655.730225240117,
          3655.730225240117,
          3655.730225240117,
          3655.730225240117,
          3655.730225240117,
          3655.730225240117,
          3655.730225240117,
          3655.730225240117,
          3655.730225240117,
          3655.730225240117,
          3655.730225240117,
          3655.730225240117,
          3655.730225240117,
          3655.730225240117,
          3655.730225240117,
          3655.730225240117,
          3655.730225240117,
          3655.730225240117,
          3655.730225240117,
          3655.730225240117,
          3655.730225240117,
          3655.730225240117,
          3655.730225240117,
          3655.730225240117,
          3655.730225240117,
          3655.730225240117,
          3655.730225240117,
          3655.730225240117,
          3655.730225240117,
          3655.730225240117,
          3655.730225240117,
          3655.730225240117,
          3655.730225240117,
          3655.730225240117,
          3655.730225240117,
          3655.730225240117,
          3655.730225240117,
          3655.730225240117,
          3655.730225240117,
          3655.730225240117,
          3655.730225240117,
          3655.730225240117,
          3655.730225240117,
          3655.730225240117,
          3655.730225240117,
          3655.730225240117,
          3655.730225240117,
          3655.730225240117,
          3655.730225240117,
          3655.730225240117,
          3655.730225240117,
          3655.730225240117,
          3655.730225240117,
          3655.730225240117,
          3655.730225240117,
          3655.730225240117,
          3655.730225240117,
          3655.730225240117,
          3655.730225240117,
          3655.730225240117,
          3655.730225240117,
          3655.730225240117,
          3655.730225240117,
          3655.730225240117,
          3655.730225240117,
          3655.730225240117,
          3655.730225240117,
          3655.730225240117,
          3655.730225240117,
          3655.730225240117,
          3655.730225240117,
          3655.730225240117,
          3655.730225240117,
          3655.730225240117,
          3655.730225240117,
          3655.730225240117,
          3655.730225240117,
          3655.730225240117,
          3655.730225240117,
          3655.730225240117,
          3655.730225240117,
          3655.730225240117,
          3655.730225240117,
          3655.730225240117,
          3655.730225240117,
          3655.730225240117,
          3655.730225240117,
          3655.730225240117,
          3655.730225240117,
          3655.730225240117,
          3655.730225240117,
          3655.730225240117,
          3655.730225240117,
          0,
          3655.730225240117,
          3655.730225240117,
          3655.730225240117,
          3655.730225240117,
          3655.730225240117,
          3655.730225240117,
          3655.730225240117,
          3655.730225240117,
          3655.730225240117,
          3655.730225240117,
          3655.730225240117,
          3655.730225240117,
          3655.730225240117,
          3655.730225240117,
          3655.730225240117,
          3655.730225240117,
          3655.730225240117,
          3655.730225240117,
          3655.730225240117,
          3655.730225240117,
          3655.730225240117,
          3655.730225240117,
          3655.730225240117,
          3655.730225240117,
          3655.730225240117,
          3655.730225240117,
          3655.730225240117,
          3655.730225240117,
          3655.730225240117,
          3655.730225240117,
          3655.730225240117,
          3655.730225240117,
          3655.730225240117,
          3655.730225240117,
          3655.730225240117,
          3655.730225240117,
          3655.730225240117,
          3655.730225240117,
          3655.730225240117,
          3655.730225240117,
          3655.730225240117,
          3655.730225240117,
          3655.730225240117,
          3655.730225240117,
          3655.730225240117,
          3655.730225240117,
          3655.730225240117,
          3655.730225240117,
          3655.730225240117,
          3655.730225240117,
          3655.730225240117,
          3655.730225240117,
          3655.730225240117,
          3655.730225240117,
          3655.730225240117,
          3655.730225240117
         ]
        },
        {
         "mode": "lines",
         "name": "Thermoelectric 3",
         "type": "scatter",
         "x": [
          0,
          1,
          2,
          3,
          4,
          5,
          6,
          7,
          8,
          9,
          10,
          11,
          12,
          13,
          14,
          15,
          16,
          17,
          18,
          19,
          20,
          21,
          22,
          23,
          24,
          25,
          26,
          27,
          28,
          29,
          30,
          31,
          32,
          33,
          34,
          35,
          36,
          37,
          38,
          39,
          40,
          41,
          42,
          43,
          44,
          45,
          46,
          47,
          48,
          49,
          50,
          51,
          52,
          53,
          54,
          55,
          56,
          57,
          58,
          59,
          60,
          61,
          62,
          63,
          64,
          65,
          66,
          67,
          68,
          69,
          70,
          71,
          72,
          73,
          74,
          75,
          76,
          77,
          78,
          79,
          80,
          81,
          82,
          83,
          84,
          85,
          86,
          87,
          88,
          89,
          90,
          91,
          92,
          93,
          94,
          95,
          96,
          97,
          98,
          99,
          100,
          101,
          102,
          103,
          104,
          105,
          106,
          107,
          108,
          109,
          110,
          111,
          112,
          113,
          114,
          115,
          116,
          117,
          118,
          119,
          120,
          121,
          122,
          123,
          124,
          125,
          126,
          127,
          128,
          129,
          130,
          131,
          132,
          133,
          134,
          135,
          136,
          137,
          138,
          139,
          140,
          141,
          142,
          143,
          144,
          145,
          146,
          147,
          148,
          149
         ],
         "y": [
          13834.642175584773,
          13834.642175584773,
          13834.642175584773,
          13834.642175584773,
          13834.642175584773,
          13834.642175584773,
          13834.642175584773,
          13834.642175584773,
          13834.642175584773,
          13834.642175584773,
          13834.642175584773,
          13834.642175584773,
          13834.642175584773,
          13834.642175584773,
          13834.642175584773,
          13834.642175584773,
          13834.642175584773,
          13834.642175584773,
          13834.642175584773,
          6917.321087792387,
          6917.321087792387,
          6917.321087792387,
          6917.321087792387,
          6917.321087792387,
          6917.321087792387,
          6917.321087792387,
          6917.321087792387,
          6917.321087792387,
          6917.321087792387,
          6917.321087792387,
          6917.321087792387,
          6917.321087792387,
          13834.642175584773,
          13834.642175584773,
          13834.642175584773,
          13834.642175584773,
          13834.642175584773,
          13834.642175584773,
          13834.642175584773,
          13834.642175584773,
          13834.642175584773,
          13834.642175584773,
          13834.642175584773,
          13834.642175584773,
          13834.642175584773,
          13834.642175584773,
          13834.642175584773,
          13834.642175584773,
          13834.642175584773,
          13834.642175584773,
          13834.642175584773,
          13834.642175584773,
          13834.642175584773,
          6917.321087792387,
          6917.321087792387,
          6917.321087792387,
          6917.321087792387,
          6917.321087792387,
          6917.321087792387,
          6917.321087792387,
          6917.321087792387,
          6917.321087792387,
          6917.321087792387,
          6917.321087792387,
          13834.642175584773,
          13834.642175584773,
          13834.642175584773,
          6917.321087792387,
          6917.321087792387,
          6917.321087792387,
          6917.321087792387,
          6917.321087792387,
          6917.321087792387,
          6917.321087792387,
          6917.321087792387,
          6917.321087792387,
          13834.642175584773,
          13834.642175584773,
          13834.642175584773,
          13834.642175584773,
          13834.642175584773,
          13834.642175584773,
          13834.642175584773,
          13834.642175584773,
          13834.642175584773,
          13834.642175584773,
          13834.642175584773,
          13834.642175584773,
          13834.642175584773,
          13834.642175584773,
          13834.642175584773,
          13834.642175584773,
          13834.642175584773,
          13834.642175584773,
          6917.321087792387,
          6917.321087792387,
          6917.321087792387,
          6917.321087792387,
          6917.321087792387,
          6917.321087792387,
          6917.321087792387,
          6917.321087792387,
          6917.321087792387,
          6917.321087792387,
          6917.321087792387,
          6917.321087792387,
          6917.321087792387,
          13834.642175584773,
          13834.642175584773,
          13834.642175584773,
          13834.642175584773,
          13834.642175584773,
          13834.642175584773,
          13834.642175584773,
          13834.642175584773,
          6917.321087792387,
          6917.321087792387,
          6917.321087792387,
          6917.321087792387,
          6917.321087792387,
          6917.321087792387,
          6917.321087792387,
          6917.321087792387,
          6917.321087792387,
          6917.321087792387,
          6917.321087792387,
          13834.642175584773,
          13834.642175584773,
          13834.642175584773,
          13834.642175584773,
          13834.642175584773,
          13834.642175584773,
          13834.642175584773,
          13834.642175584773,
          13834.642175584773,
          13834.642175584773,
          13834.642175584773,
          13834.642175584773,
          13834.642175584773,
          13834.642175584773,
          13834.642175584773,
          13834.642175584773,
          13834.642175584773,
          13834.642175584773,
          13834.642175584773,
          13834.642175584773,
          13834.642175584773,
          13834.642175584773,
          13834.642175584773,
          13834.642175584773
         ]
        },
        {
         "mode": "lines",
         "name": "Thermoelectric 4",
         "type": "scatter",
         "x": [
          0,
          1,
          2,
          3,
          4,
          5,
          6,
          7,
          8,
          9,
          10,
          11,
          12,
          13,
          14,
          15,
          16,
          17,
          18,
          19,
          20,
          21,
          22,
          23,
          24,
          25,
          26,
          27,
          28,
          29,
          30,
          31,
          32,
          33,
          34,
          35,
          36,
          37,
          38,
          39,
          40,
          41,
          42,
          43,
          44,
          45,
          46,
          47,
          48,
          49,
          50,
          51,
          52,
          53,
          54,
          55,
          56,
          57,
          58,
          59,
          60,
          61,
          62,
          63,
          64,
          65,
          66,
          67,
          68,
          69,
          70,
          71,
          72,
          73,
          74,
          75,
          76,
          77,
          78,
          79,
          80,
          81,
          82,
          83,
          84,
          85,
          86,
          87,
          88,
          89,
          90,
          91,
          92,
          93,
          94,
          95,
          96,
          97,
          98,
          99,
          100,
          101,
          102,
          103,
          104,
          105,
          106,
          107,
          108,
          109,
          110,
          111,
          112,
          113,
          114,
          115,
          116,
          117,
          118,
          119,
          120,
          121,
          122,
          123,
          124,
          125,
          126,
          127,
          128,
          129,
          130,
          131,
          132,
          133,
          134,
          135,
          136,
          137,
          138,
          139,
          140,
          141,
          142,
          143,
          144,
          145,
          146,
          147,
          148,
          149
         ],
         "y": [
          3073.768681007757,
          3073.768681007757,
          3073.768681007757,
          3073.768681007757,
          3073.768681007757,
          3073.768681007757,
          3073.768681007757,
          3073.768681007757,
          3073.768681007757,
          3073.768681007757,
          3073.768681007757,
          3073.768681007757,
          3073.768681007757,
          3073.768681007757,
          3073.768681007757,
          3073.768681007757,
          3073.768681007757,
          3073.768681007757,
          3073.768681007757,
          3073.768681007757,
          3073.768681007757,
          3073.768681007757,
          3073.768681007757,
          3073.768681007757,
          3073.768681007757,
          3073.768681007757,
          3073.768681007757,
          3073.768681007757,
          3073.768681007757,
          3073.768681007757,
          3073.768681007757,
          3073.768681007757,
          3073.768681007757,
          3073.768681007757,
          3073.768681007757,
          3073.768681007757,
          3073.768681007757,
          3073.768681007757,
          3073.768681007757,
          3073.768681007757,
          3073.768681007757,
          3073.768681007757,
          3073.768681007757,
          3073.768681007757,
          3073.768681007757,
          3073.768681007757,
          3073.768681007757,
          3073.768681007757,
          3073.768681007757,
          3073.768681007757,
          3073.768681007757,
          3073.768681007757,
          0,
          3073.768681007757,
          3073.768681007757,
          3073.768681007757,
          3073.768681007757,
          3073.768681007757,
          3073.768681007757,
          3073.768681007757,
          3073.768681007757,
          3073.768681007757,
          3073.768681007757,
          3073.768681007757,
          3073.768681007757,
          3073.768681007757,
          3073.768681007757,
          3073.768681007757,
          3073.768681007757,
          3073.768681007757,
          3073.768681007757,
          3073.768681007757,
          3073.768681007757,
          3073.768681007757,
          3073.768681007757,
          3073.768681007757,
          3073.768681007757,
          3073.768681007757,
          3073.768681007757,
          3073.768681007757,
          3073.768681007757,
          3073.768681007757,
          3073.768681007757,
          3073.768681007757,
          3073.768681007757,
          3073.768681007757,
          3073.768681007757,
          3073.768681007757,
          3073.768681007757,
          3073.768681007757,
          3073.768681007757,
          3073.768681007757,
          3073.768681007757,
          3073.768681007757,
          3073.768681007757,
          3073.768681007757,
          3073.768681007757,
          3073.768681007757,
          3073.768681007757,
          3073.768681007757,
          3073.768681007757,
          3073.768681007757,
          3073.768681007757,
          3073.768681007757,
          3073.768681007757,
          3073.768681007757,
          3073.768681007757,
          3073.768681007757,
          3073.768681007757,
          3073.768681007757,
          3073.768681007757,
          3073.768681007757,
          3073.768681007757,
          3073.768681007757,
          3073.768681007757,
          3073.768681007757,
          3073.768681007757,
          3073.768681007757,
          3073.768681007757,
          3073.768681007757,
          3073.768681007757,
          3073.768681007757,
          3073.768681007757,
          3073.768681007757,
          3073.768681007757,
          3073.768681007757,
          3073.768681007757,
          3073.768681007757,
          3073.768681007757,
          3073.768681007757,
          3073.768681007757,
          3073.768681007757,
          3073.768681007757,
          3073.768681007757,
          3073.768681007757,
          3073.768681007757,
          3073.768681007757,
          3073.768681007757,
          3073.768681007757,
          3073.768681007757,
          3073.768681007757,
          3073.768681007757,
          3073.768681007757,
          3073.768681007757,
          3073.768681007757,
          3073.768681007757,
          3073.768681007757,
          3073.768681007757,
          3073.768681007757,
          3073.768681007757
         ]
        },
        {
         "mode": "lines",
         "name": "Thermoelectric 5",
         "type": "scatter",
         "x": [
          0,
          1,
          2,
          3,
          4,
          5,
          6,
          7,
          8,
          9,
          10,
          11,
          12,
          13,
          14,
          15,
          16,
          17,
          18,
          19,
          20,
          21,
          22,
          23,
          24,
          25,
          26,
          27,
          28,
          29,
          30,
          31,
          32,
          33,
          34,
          35,
          36,
          37,
          38,
          39,
          40,
          41,
          42,
          43,
          44,
          45,
          46,
          47,
          48,
          49,
          50,
          51,
          52,
          53,
          54,
          55,
          56,
          57,
          58,
          59,
          60,
          61,
          62,
          63,
          64,
          65,
          66,
          67,
          68,
          69,
          70,
          71,
          72,
          73,
          74,
          75,
          76,
          77,
          78,
          79,
          80,
          81,
          82,
          83,
          84,
          85,
          86,
          87,
          88,
          89,
          90,
          91,
          92,
          93,
          94,
          95,
          96,
          97,
          98,
          99,
          100,
          101,
          102,
          103,
          104,
          105,
          106,
          107,
          108,
          109,
          110,
          111,
          112,
          113,
          114,
          115,
          116,
          117,
          118,
          119,
          120,
          121,
          122,
          123,
          124,
          125,
          126,
          127,
          128,
          129,
          130,
          131,
          132,
          133,
          134,
          135,
          136,
          137,
          138,
          139,
          140,
          141,
          142,
          143,
          144,
          145,
          146,
          147,
          148,
          149
         ],
         "y": [
          6460.290067797619,
          6460.290067797619,
          6460.290067797619,
          6460.290067797619,
          6460.290067797619,
          6460.290067797619,
          6460.290067797619,
          6460.290067797619,
          6460.290067797619,
          6460.290067797619,
          6460.290067797619,
          6460.290067797619,
          6460.290067797619,
          6460.290067797619,
          6460.290067797619,
          6460.290067797619,
          6460.290067797619,
          6460.290067797619,
          6460.290067797619,
          6460.290067797619,
          6460.290067797619,
          6460.290067797619,
          6460.290067797619,
          6460.290067797619,
          6460.290067797619,
          6460.290067797619,
          6460.290067797619,
          3230.1450338988093,
          3230.1450338988093,
          3230.1450338988093,
          3230.1450338988093,
          3230.1450338988093,
          3230.1450338988093,
          3230.1450338988093,
          3230.1450338988093,
          3230.1450338988093,
          3230.1450338988093,
          3230.1450338988093,
          6460.290067797619,
          6460.290067797619,
          6460.290067797619,
          6460.290067797619,
          6460.290067797619,
          6460.290067797619,
          6460.290067797619,
          6460.290067797619,
          6460.290067797619,
          6460.290067797619,
          6460.290067797619,
          6460.290067797619,
          6460.290067797619,
          6460.290067797619,
          6460.290067797619,
          6460.290067797619,
          6460.290067797619,
          6460.290067797619,
          6460.290067797619,
          6460.290067797619,
          6460.290067797619,
          6460.290067797619,
          6460.290067797619,
          6460.290067797619,
          3230.1450338988093,
          3230.1450338988093,
          3230.1450338988093,
          3230.1450338988093,
          3230.1450338988093,
          3230.1450338988093,
          3230.1450338988093,
          3230.1450338988093,
          3230.1450338988093,
          3230.1450338988093,
          3230.1450338988093,
          3230.1450338988093,
          3230.1450338988093,
          6460.290067797619,
          6460.290067797619,
          6460.290067797619,
          6460.290067797619,
          6460.290067797619,
          6460.290067797619,
          3230.1450338988093,
          3230.1450338988093,
          3230.1450338988093,
          3230.1450338988093,
          3230.1450338988093,
          3230.1450338988093,
          3230.1450338988093,
          3230.1450338988093,
          3230.1450338988093,
          3230.1450338988093,
          3230.1450338988093,
          3230.1450338988093,
          3230.1450338988093,
          3230.1450338988093,
          3230.1450338988093,
          3230.1450338988093,
          3230.1450338988093,
          3230.1450338988093,
          3230.1450338988093,
          6460.290067797619,
          6460.290067797619,
          6460.290067797619,
          6460.290067797619,
          6460.290067797619,
          6460.290067797619,
          6460.290067797619,
          6460.290067797619,
          6460.290067797619,
          6460.290067797619,
          6460.290067797619,
          6460.290067797619,
          6460.290067797619,
          6460.290067797619,
          6460.290067797619,
          6460.290067797619,
          6460.290067797619,
          6460.290067797619,
          6460.290067797619,
          6460.290067797619,
          6460.290067797619,
          3230.1450338988093,
          3230.1450338988093,
          3230.1450338988093,
          3230.1450338988093,
          3230.1450338988093,
          3230.1450338988093,
          3230.1450338988093,
          3230.1450338988093,
          3230.1450338988093,
          3230.1450338988093,
          3230.1450338988093,
          3230.1450338988093,
          3230.1450338988093,
          3230.1450338988093,
          3230.1450338988093,
          3230.1450338988093,
          3230.1450338988093,
          3230.1450338988093,
          3230.1450338988093,
          3230.1450338988093,
          3230.1450338988093,
          3230.1450338988093,
          3230.1450338988093,
          3230.1450338988093,
          6460.290067797619,
          6460.290067797619,
          3230.1450338988093,
          3230.1450338988093,
          3230.1450338988093
         ]
        },
        {
         "mode": "lines",
         "name": "Thermoelectric 6",
         "type": "scatter",
         "x": [
          0,
          1,
          2,
          3,
          4,
          5,
          6,
          7,
          8,
          9,
          10,
          11,
          12,
          13,
          14,
          15,
          16,
          17,
          18,
          19,
          20,
          21,
          22,
          23,
          24,
          25,
          26,
          27,
          28,
          29,
          30,
          31,
          32,
          33,
          34,
          35,
          36,
          37,
          38,
          39,
          40,
          41,
          42,
          43,
          44,
          45,
          46,
          47,
          48,
          49,
          50,
          51,
          52,
          53,
          54,
          55,
          56,
          57,
          58,
          59,
          60,
          61,
          62,
          63,
          64,
          65,
          66,
          67,
          68,
          69,
          70,
          71,
          72,
          73,
          74,
          75,
          76,
          77,
          78,
          79,
          80,
          81,
          82,
          83,
          84,
          85,
          86,
          87,
          88,
          89,
          90,
          91,
          92,
          93,
          94,
          95,
          96,
          97,
          98,
          99,
          100,
          101,
          102,
          103,
          104,
          105,
          106,
          107,
          108,
          109,
          110,
          111,
          112,
          113,
          114,
          115,
          116,
          117,
          118,
          119,
          120,
          121,
          122,
          123,
          124,
          125,
          126,
          127,
          128,
          129,
          130,
          131,
          132,
          133,
          134,
          135,
          136,
          137,
          138,
          139,
          140,
          141,
          142,
          143,
          144,
          145,
          146,
          147,
          148,
          149
         ],
         "y": [
          9515.152117013968,
          9515.152117013968,
          9515.152117013968,
          9515.152117013968,
          9515.152117013968,
          9515.152117013968,
          9515.152117013968,
          9515.152117013968,
          9515.152117013968,
          9515.152117013968,
          9515.152117013968,
          9515.152117013968,
          9515.152117013968,
          9515.152117013968,
          9515.152117013968,
          9515.152117013968,
          9515.152117013968,
          9515.152117013968,
          9515.152117013968,
          9515.152117013968,
          9515.152117013968,
          9515.152117013968,
          9515.152117013968,
          9515.152117013968,
          9515.152117013968,
          9515.152117013968,
          9515.152117013968,
          9515.152117013968,
          9515.152117013968,
          9515.152117013968,
          9515.152117013968,
          9515.152117013968,
          9515.152117013968,
          9515.152117013968,
          9515.152117013968,
          4757.576058506984,
          4757.576058506984,
          4757.576058506984,
          4757.576058506984,
          4757.576058506984,
          4757.576058506984,
          4757.576058506984,
          4757.576058506984,
          4757.576058506984,
          4757.576058506984,
          4757.576058506984,
          4757.576058506984,
          4757.576058506984,
          4757.576058506984,
          4757.576058506984,
          4757.576058506984,
          4757.576058506984,
          9515.152117013968,
          9515.152117013968,
          9515.152117013968,
          9515.152117013968,
          9515.152117013968,
          9515.152117013968,
          9515.152117013968,
          9515.152117013968,
          9515.152117013968,
          9515.152117013968,
          9515.152117013968,
          4757.576058506984,
          4757.576058506984,
          4757.576058506984,
          4757.576058506984,
          4757.576058506984,
          4757.576058506984,
          4757.576058506984,
          4757.576058506984,
          4757.576058506984,
          4757.576058506984,
          4757.576058506984,
          4757.576058506984,
          4757.576058506984,
          4757.576058506984,
          9515.152117013968,
          9515.152117013968,
          9515.152117013968,
          9515.152117013968,
          9515.152117013968,
          9515.152117013968,
          9515.152117013968,
          9515.152117013968,
          9515.152117013968,
          9515.152117013968,
          9515.152117013968,
          9515.152117013968,
          9515.152117013968,
          9515.152117013968,
          9515.152117013968,
          9515.152117013968,
          9515.152117013968,
          9515.152117013968,
          9515.152117013968,
          9515.152117013968,
          9515.152117013968,
          9515.152117013968,
          9515.152117013968,
          9515.152117013968,
          9515.152117013968,
          9515.152117013968,
          9515.152117013968,
          9515.152117013968,
          9515.152117013968,
          9515.152117013968,
          9515.152117013968,
          9515.152117013968,
          9515.152117013968,
          4757.576058506984,
          4757.576058506984,
          4757.576058506984,
          4757.576058506984,
          4757.576058506984,
          4757.576058506984,
          4757.576058506984,
          4757.576058506984,
          4757.576058506984,
          4757.576058506984,
          4757.576058506984,
          9515.152117013968,
          9515.152117013968,
          9515.152117013968,
          9515.152117013968,
          9515.152117013968,
          9515.152117013968,
          9515.152117013968,
          9515.152117013968,
          9515.152117013968,
          9515.152117013968,
          9515.152117013968,
          9515.152117013968,
          9515.152117013968,
          9515.152117013968,
          9515.152117013968,
          9515.152117013968,
          4757.576058506984,
          4757.576058506984,
          4757.576058506984,
          4757.576058506984,
          4757.576058506984,
          4757.576058506984,
          4757.576058506984,
          4757.576058506984,
          9515.152117013968,
          9515.152117013968,
          9515.152117013968,
          9515.152117013968,
          9515.152117013968
         ]
        },
        {
         "mode": "lines",
         "name": "Thermoelectric 7",
         "type": "scatter",
         "x": [
          0,
          1,
          2,
          3,
          4,
          5,
          6,
          7,
          8,
          9,
          10,
          11,
          12,
          13,
          14,
          15,
          16,
          17,
          18,
          19,
          20,
          21,
          22,
          23,
          24,
          25,
          26,
          27,
          28,
          29,
          30,
          31,
          32,
          33,
          34,
          35,
          36,
          37,
          38,
          39,
          40,
          41,
          42,
          43,
          44,
          45,
          46,
          47,
          48,
          49,
          50,
          51,
          52,
          53,
          54,
          55,
          56,
          57,
          58,
          59,
          60,
          61,
          62,
          63,
          64,
          65,
          66,
          67,
          68,
          69,
          70,
          71,
          72,
          73,
          74,
          75,
          76,
          77,
          78,
          79,
          80,
          81,
          82,
          83,
          84,
          85,
          86,
          87,
          88,
          89,
          90,
          91,
          92,
          93,
          94,
          95,
          96,
          97,
          98,
          99,
          100,
          101,
          102,
          103,
          104,
          105,
          106,
          107,
          108,
          109,
          110,
          111,
          112,
          113,
          114,
          115,
          116,
          117,
          118,
          119,
          120,
          121,
          122,
          123,
          124,
          125,
          126,
          127,
          128,
          129,
          130,
          131,
          132,
          133,
          134,
          135,
          136,
          137,
          138,
          139,
          140,
          141,
          142,
          143,
          144,
          145,
          146,
          147,
          148,
          149
         ],
         "y": [
          14855.073435444834,
          14855.073435444834,
          14855.073435444834,
          14855.073435444834,
          14855.073435444834,
          14855.073435444834,
          14855.073435444834,
          14855.073435444834,
          14855.073435444834,
          14855.073435444834,
          14855.073435444834,
          14855.073435444834,
          14855.073435444834,
          14855.073435444834,
          14855.073435444834,
          14855.073435444834,
          14855.073435444834,
          14855.073435444834,
          14855.073435444834,
          14855.073435444834,
          14855.073435444834,
          14855.073435444834,
          14855.073435444834,
          7427.536717722417,
          7427.536717722417,
          7427.536717722417,
          7427.536717722417,
          7427.536717722417,
          7427.536717722417,
          7427.536717722417,
          7427.536717722417,
          7427.536717722417,
          7427.536717722417,
          7427.536717722417,
          7427.536717722417,
          7427.536717722417,
          7427.536717722417,
          7427.536717722417,
          7427.536717722417,
          7427.536717722417,
          7427.536717722417,
          7427.536717722417,
          7427.536717722417,
          14855.073435444834,
          14855.073435444834,
          14855.073435444834,
          14855.073435444834,
          14855.073435444834,
          14855.073435444834,
          14855.073435444834,
          14855.073435444834,
          14855.073435444834,
          14855.073435444834,
          14855.073435444834,
          14855.073435444834,
          14855.073435444834,
          14855.073435444834,
          14855.073435444834,
          14855.073435444834,
          7427.536717722417,
          7427.536717722417,
          7427.536717722417,
          7427.536717722417,
          7427.536717722417,
          7427.536717722417,
          7427.536717722417,
          7427.536717722417,
          7427.536717722417,
          7427.536717722417,
          7427.536717722417,
          14855.073435444834,
          7427.536717722417,
          7427.536717722417,
          7427.536717722417,
          7427.536717722417,
          7427.536717722417,
          7427.536717722417,
          7427.536717722417,
          14855.073435444834,
          14855.073435444834,
          14855.073435444834,
          14855.073435444834,
          14855.073435444834,
          14855.073435444834,
          14855.073435444834,
          14855.073435444834,
          14855.073435444834,
          14855.073435444834,
          14855.073435444834,
          14855.073435444834,
          14855.073435444834,
          14855.073435444834,
          14855.073435444834,
          14855.073435444834,
          14855.073435444834,
          14855.073435444834,
          14855.073435444834,
          14855.073435444834,
          7427.536717722417,
          7427.536717722417,
          7427.536717722417,
          7427.536717722417,
          7427.536717722417,
          7427.536717722417,
          7427.536717722417,
          7427.536717722417,
          7427.536717722417,
          0,
          7427.536717722417,
          7427.536717722417,
          7427.536717722417,
          7427.536717722417,
          7427.536717722417,
          7427.536717722417,
          7427.536717722417,
          7427.536717722417,
          7427.536717722417,
          7427.536717722417,
          14855.073435444834,
          14855.073435444834,
          14855.073435444834,
          14855.073435444834,
          14855.073435444834,
          14855.073435444834,
          14855.073435444834,
          14855.073435444834,
          14855.073435444834,
          14855.073435444834,
          14855.073435444834,
          14855.073435444834,
          14855.073435444834,
          14855.073435444834,
          14855.073435444834,
          14855.073435444834,
          14855.073435444834,
          14855.073435444834,
          14855.073435444834,
          7427.536717722417,
          7427.536717722417,
          7427.536717722417,
          7427.536717722417,
          7427.536717722417,
          7427.536717722417,
          7427.536717722417,
          7427.536717722417,
          7427.536717722417,
          7427.536717722417,
          7427.536717722417,
          14855.073435444834,
          14855.073435444834
         ]
        }
       ],
       "layout": {
        "template": {
         "data": {
          "bar": [
           {
            "error_x": {
             "color": "#2a3f5f"
            },
            "error_y": {
             "color": "#2a3f5f"
            },
            "marker": {
             "line": {
              "color": "#E5ECF6",
              "width": 0.5
             },
             "pattern": {
              "fillmode": "overlay",
              "size": 10,
              "solidity": 0.2
             }
            },
            "type": "bar"
           }
          ],
          "barpolar": [
           {
            "marker": {
             "line": {
              "color": "#E5ECF6",
              "width": 0.5
             },
             "pattern": {
              "fillmode": "overlay",
              "size": 10,
              "solidity": 0.2
             }
            },
            "type": "barpolar"
           }
          ],
          "carpet": [
           {
            "aaxis": {
             "endlinecolor": "#2a3f5f",
             "gridcolor": "white",
             "linecolor": "white",
             "minorgridcolor": "white",
             "startlinecolor": "#2a3f5f"
            },
            "baxis": {
             "endlinecolor": "#2a3f5f",
             "gridcolor": "white",
             "linecolor": "white",
             "minorgridcolor": "white",
             "startlinecolor": "#2a3f5f"
            },
            "type": "carpet"
           }
          ],
          "choropleth": [
           {
            "colorbar": {
             "outlinewidth": 0,
             "ticks": ""
            },
            "type": "choropleth"
           }
          ],
          "contour": [
           {
            "colorbar": {
             "outlinewidth": 0,
             "ticks": ""
            },
            "colorscale": [
             [
              0,
              "#0d0887"
             ],
             [
              0.1111111111111111,
              "#46039f"
             ],
             [
              0.2222222222222222,
              "#7201a8"
             ],
             [
              0.3333333333333333,
              "#9c179e"
             ],
             [
              0.4444444444444444,
              "#bd3786"
             ],
             [
              0.5555555555555556,
              "#d8576b"
             ],
             [
              0.6666666666666666,
              "#ed7953"
             ],
             [
              0.7777777777777778,
              "#fb9f3a"
             ],
             [
              0.8888888888888888,
              "#fdca26"
             ],
             [
              1,
              "#f0f921"
             ]
            ],
            "type": "contour"
           }
          ],
          "contourcarpet": [
           {
            "colorbar": {
             "outlinewidth": 0,
             "ticks": ""
            },
            "type": "contourcarpet"
           }
          ],
          "heatmap": [
           {
            "colorbar": {
             "outlinewidth": 0,
             "ticks": ""
            },
            "colorscale": [
             [
              0,
              "#0d0887"
             ],
             [
              0.1111111111111111,
              "#46039f"
             ],
             [
              0.2222222222222222,
              "#7201a8"
             ],
             [
              0.3333333333333333,
              "#9c179e"
             ],
             [
              0.4444444444444444,
              "#bd3786"
             ],
             [
              0.5555555555555556,
              "#d8576b"
             ],
             [
              0.6666666666666666,
              "#ed7953"
             ],
             [
              0.7777777777777778,
              "#fb9f3a"
             ],
             [
              0.8888888888888888,
              "#fdca26"
             ],
             [
              1,
              "#f0f921"
             ]
            ],
            "type": "heatmap"
           }
          ],
          "heatmapgl": [
           {
            "colorbar": {
             "outlinewidth": 0,
             "ticks": ""
            },
            "colorscale": [
             [
              0,
              "#0d0887"
             ],
             [
              0.1111111111111111,
              "#46039f"
             ],
             [
              0.2222222222222222,
              "#7201a8"
             ],
             [
              0.3333333333333333,
              "#9c179e"
             ],
             [
              0.4444444444444444,
              "#bd3786"
             ],
             [
              0.5555555555555556,
              "#d8576b"
             ],
             [
              0.6666666666666666,
              "#ed7953"
             ],
             [
              0.7777777777777778,
              "#fb9f3a"
             ],
             [
              0.8888888888888888,
              "#fdca26"
             ],
             [
              1,
              "#f0f921"
             ]
            ],
            "type": "heatmapgl"
           }
          ],
          "histogram": [
           {
            "marker": {
             "pattern": {
              "fillmode": "overlay",
              "size": 10,
              "solidity": 0.2
             }
            },
            "type": "histogram"
           }
          ],
          "histogram2d": [
           {
            "colorbar": {
             "outlinewidth": 0,
             "ticks": ""
            },
            "colorscale": [
             [
              0,
              "#0d0887"
             ],
             [
              0.1111111111111111,
              "#46039f"
             ],
             [
              0.2222222222222222,
              "#7201a8"
             ],
             [
              0.3333333333333333,
              "#9c179e"
             ],
             [
              0.4444444444444444,
              "#bd3786"
             ],
             [
              0.5555555555555556,
              "#d8576b"
             ],
             [
              0.6666666666666666,
              "#ed7953"
             ],
             [
              0.7777777777777778,
              "#fb9f3a"
             ],
             [
              0.8888888888888888,
              "#fdca26"
             ],
             [
              1,
              "#f0f921"
             ]
            ],
            "type": "histogram2d"
           }
          ],
          "histogram2dcontour": [
           {
            "colorbar": {
             "outlinewidth": 0,
             "ticks": ""
            },
            "colorscale": [
             [
              0,
              "#0d0887"
             ],
             [
              0.1111111111111111,
              "#46039f"
             ],
             [
              0.2222222222222222,
              "#7201a8"
             ],
             [
              0.3333333333333333,
              "#9c179e"
             ],
             [
              0.4444444444444444,
              "#bd3786"
             ],
             [
              0.5555555555555556,
              "#d8576b"
             ],
             [
              0.6666666666666666,
              "#ed7953"
             ],
             [
              0.7777777777777778,
              "#fb9f3a"
             ],
             [
              0.8888888888888888,
              "#fdca26"
             ],
             [
              1,
              "#f0f921"
             ]
            ],
            "type": "histogram2dcontour"
           }
          ],
          "mesh3d": [
           {
            "colorbar": {
             "outlinewidth": 0,
             "ticks": ""
            },
            "type": "mesh3d"
           }
          ],
          "parcoords": [
           {
            "line": {
             "colorbar": {
              "outlinewidth": 0,
              "ticks": ""
             }
            },
            "type": "parcoords"
           }
          ],
          "pie": [
           {
            "automargin": true,
            "type": "pie"
           }
          ],
          "scatter": [
           {
            "fillpattern": {
             "fillmode": "overlay",
             "size": 10,
             "solidity": 0.2
            },
            "type": "scatter"
           }
          ],
          "scatter3d": [
           {
            "line": {
             "colorbar": {
              "outlinewidth": 0,
              "ticks": ""
             }
            },
            "marker": {
             "colorbar": {
              "outlinewidth": 0,
              "ticks": ""
             }
            },
            "type": "scatter3d"
           }
          ],
          "scattercarpet": [
           {
            "marker": {
             "colorbar": {
              "outlinewidth": 0,
              "ticks": ""
             }
            },
            "type": "scattercarpet"
           }
          ],
          "scattergeo": [
           {
            "marker": {
             "colorbar": {
              "outlinewidth": 0,
              "ticks": ""
             }
            },
            "type": "scattergeo"
           }
          ],
          "scattergl": [
           {
            "marker": {
             "colorbar": {
              "outlinewidth": 0,
              "ticks": ""
             }
            },
            "type": "scattergl"
           }
          ],
          "scattermapbox": [
           {
            "marker": {
             "colorbar": {
              "outlinewidth": 0,
              "ticks": ""
             }
            },
            "type": "scattermapbox"
           }
          ],
          "scatterpolar": [
           {
            "marker": {
             "colorbar": {
              "outlinewidth": 0,
              "ticks": ""
             }
            },
            "type": "scatterpolar"
           }
          ],
          "scatterpolargl": [
           {
            "marker": {
             "colorbar": {
              "outlinewidth": 0,
              "ticks": ""
             }
            },
            "type": "scatterpolargl"
           }
          ],
          "scatterternary": [
           {
            "marker": {
             "colorbar": {
              "outlinewidth": 0,
              "ticks": ""
             }
            },
            "type": "scatterternary"
           }
          ],
          "surface": [
           {
            "colorbar": {
             "outlinewidth": 0,
             "ticks": ""
            },
            "colorscale": [
             [
              0,
              "#0d0887"
             ],
             [
              0.1111111111111111,
              "#46039f"
             ],
             [
              0.2222222222222222,
              "#7201a8"
             ],
             [
              0.3333333333333333,
              "#9c179e"
             ],
             [
              0.4444444444444444,
              "#bd3786"
             ],
             [
              0.5555555555555556,
              "#d8576b"
             ],
             [
              0.6666666666666666,
              "#ed7953"
             ],
             [
              0.7777777777777778,
              "#fb9f3a"
             ],
             [
              0.8888888888888888,
              "#fdca26"
             ],
             [
              1,
              "#f0f921"
             ]
            ],
            "type": "surface"
           }
          ],
          "table": [
           {
            "cells": {
             "fill": {
              "color": "#EBF0F8"
             },
             "line": {
              "color": "white"
             }
            },
            "header": {
             "fill": {
              "color": "#C8D4E3"
             },
             "line": {
              "color": "white"
             }
            },
            "type": "table"
           }
          ]
         },
         "layout": {
          "annotationdefaults": {
           "arrowcolor": "#2a3f5f",
           "arrowhead": 0,
           "arrowwidth": 1
          },
          "autotypenumbers": "strict",
          "coloraxis": {
           "colorbar": {
            "outlinewidth": 0,
            "ticks": ""
           }
          },
          "colorscale": {
           "diverging": [
            [
             0,
             "#8e0152"
            ],
            [
             0.1,
             "#c51b7d"
            ],
            [
             0.2,
             "#de77ae"
            ],
            [
             0.3,
             "#f1b6da"
            ],
            [
             0.4,
             "#fde0ef"
            ],
            [
             0.5,
             "#f7f7f7"
            ],
            [
             0.6,
             "#e6f5d0"
            ],
            [
             0.7,
             "#b8e186"
            ],
            [
             0.8,
             "#7fbc41"
            ],
            [
             0.9,
             "#4d9221"
            ],
            [
             1,
             "#276419"
            ]
           ],
           "sequential": [
            [
             0,
             "#0d0887"
            ],
            [
             0.1111111111111111,
             "#46039f"
            ],
            [
             0.2222222222222222,
             "#7201a8"
            ],
            [
             0.3333333333333333,
             "#9c179e"
            ],
            [
             0.4444444444444444,
             "#bd3786"
            ],
            [
             0.5555555555555556,
             "#d8576b"
            ],
            [
             0.6666666666666666,
             "#ed7953"
            ],
            [
             0.7777777777777778,
             "#fb9f3a"
            ],
            [
             0.8888888888888888,
             "#fdca26"
            ],
            [
             1,
             "#f0f921"
            ]
           ],
           "sequentialminus": [
            [
             0,
             "#0d0887"
            ],
            [
             0.1111111111111111,
             "#46039f"
            ],
            [
             0.2222222222222222,
             "#7201a8"
            ],
            [
             0.3333333333333333,
             "#9c179e"
            ],
            [
             0.4444444444444444,
             "#bd3786"
            ],
            [
             0.5555555555555556,
             "#d8576b"
            ],
            [
             0.6666666666666666,
             "#ed7953"
            ],
            [
             0.7777777777777778,
             "#fb9f3a"
            ],
            [
             0.8888888888888888,
             "#fdca26"
            ],
            [
             1,
             "#f0f921"
            ]
           ]
          },
          "colorway": [
           "#636efa",
           "#EF553B",
           "#00cc96",
           "#ab63fa",
           "#FFA15A",
           "#19d3f3",
           "#FF6692",
           "#B6E880",
           "#FF97FF",
           "#FECB52"
          ],
          "font": {
           "color": "#2a3f5f"
          },
          "geo": {
           "bgcolor": "white",
           "lakecolor": "white",
           "landcolor": "#E5ECF6",
           "showlakes": true,
           "showland": true,
           "subunitcolor": "white"
          },
          "hoverlabel": {
           "align": "left"
          },
          "hovermode": "closest",
          "mapbox": {
           "style": "light"
          },
          "paper_bgcolor": "white",
          "plot_bgcolor": "#E5ECF6",
          "polar": {
           "angularaxis": {
            "gridcolor": "white",
            "linecolor": "white",
            "ticks": ""
           },
           "bgcolor": "#E5ECF6",
           "radialaxis": {
            "gridcolor": "white",
            "linecolor": "white",
            "ticks": ""
           }
          },
          "scene": {
           "xaxis": {
            "backgroundcolor": "#E5ECF6",
            "gridcolor": "white",
            "gridwidth": 2,
            "linecolor": "white",
            "showbackground": true,
            "ticks": "",
            "zerolinecolor": "white"
           },
           "yaxis": {
            "backgroundcolor": "#E5ECF6",
            "gridcolor": "white",
            "gridwidth": 2,
            "linecolor": "white",
            "showbackground": true,
            "ticks": "",
            "zerolinecolor": "white"
           },
           "zaxis": {
            "backgroundcolor": "#E5ECF6",
            "gridcolor": "white",
            "gridwidth": 2,
            "linecolor": "white",
            "showbackground": true,
            "ticks": "",
            "zerolinecolor": "white"
           }
          },
          "shapedefaults": {
           "line": {
            "color": "#2a3f5f"
           }
          },
          "ternary": {
           "aaxis": {
            "gridcolor": "white",
            "linecolor": "white",
            "ticks": ""
           },
           "baxis": {
            "gridcolor": "white",
            "linecolor": "white",
            "ticks": ""
           },
           "bgcolor": "#E5ECF6",
           "caxis": {
            "gridcolor": "white",
            "linecolor": "white",
            "ticks": ""
           }
          },
          "title": {
           "x": 0.05
          },
          "xaxis": {
           "automargin": true,
           "gridcolor": "white",
           "linecolor": "white",
           "ticks": "",
           "title": {
            "standoff": 15
           },
           "zerolinecolor": "white",
           "zerolinewidth": 2
          },
          "yaxis": {
           "automargin": true,
           "gridcolor": "white",
           "linecolor": "white",
           "ticks": "",
           "title": {
            "standoff": 15
           },
           "zerolinecolor": "white",
           "zerolinewidth": 2
          }
         }
        }
       }
      }
     },
     "metadata": {},
     "output_type": "display_data"
    },
    {
     "data": {
      "application/vnd.plotly.v1+json": {
       "config": {
        "plotlyServerURL": "https://plot.ly"
       },
       "data": [
        {
         "mode": "lines",
         "name": "Offer",
         "type": "scatter",
         "x": [
          0,
          1,
          2,
          3,
          4,
          5,
          6,
          7,
          8,
          9,
          10,
          11,
          12,
          13,
          14,
          15,
          16,
          17,
          18,
          19,
          20,
          21,
          22,
          23,
          24,
          25,
          26,
          27,
          28,
          29,
          30,
          31,
          32,
          33,
          34,
          35,
          36,
          37,
          38,
          39,
          40,
          41,
          42,
          43,
          44,
          45,
          46,
          47,
          48,
          49,
          50,
          51,
          52,
          53,
          54,
          55,
          56,
          57,
          58,
          59,
          60,
          61,
          62,
          63,
          64,
          65,
          66,
          67,
          68,
          69,
          70,
          71,
          72,
          73,
          74,
          75,
          76,
          77,
          78,
          79,
          80,
          81,
          82,
          83,
          84,
          85,
          86,
          87,
          88,
          89,
          90,
          91,
          92,
          93,
          94,
          95,
          96,
          97,
          98,
          99,
          100,
          101,
          102,
          103,
          104,
          105,
          106,
          107,
          108,
          109,
          110,
          111,
          112,
          113,
          114,
          115,
          116,
          117,
          118,
          119,
          120,
          121,
          122,
          123,
          124,
          125,
          126,
          127,
          128,
          129,
          130,
          131,
          132,
          133,
          134,
          135,
          136,
          137,
          138,
          139,
          140,
          141,
          142,
          143,
          144,
          145,
          146,
          147,
          148,
          149
         ],
         "y": [
          83867.85437383651,
          83867.8543738365,
          83867.85437383651,
          83867.85437383648,
          83867.85437383653,
          83867.85437383653,
          77873.22486277802,
          77873.224862778,
          77873.22486277802,
          77873.22486277799,
          77873.22486277802,
          77873.224862778,
          77873.22486277802,
          77873.224862778,
          77873.22486277804,
          83867.85437383651,
          83867.8543738365,
          83867.8543738365,
          83867.85437383651,
          76950.53328604411,
          76950.53328604413,
          76950.53328604411,
          76950.53328604413,
          69522.9965683217,
          69522.99656832172,
          69522.99656832172,
          69522.99656832172,
          66292.85153442291,
          59464.87198454606,
          52636.892434669244,
          52636.892434669244,
          52636.89243466925,
          59554.21352246163,
          59554.21352246166,
          59554.213522461636,
          48802.00795289617,
          48802.00795289617,
          48802.00795289616,
          52032.15298679497,
          52032.15298679499,
          58860.13253667179,
          58860.132536671794,
          58860.132536671794,
          66287.66925439419,
          72282.29876545268,
          59459.68970451738,
          59459.689704517405,
          59459.68970451738,
          59459.68970451738,
          59459.68970451738,
          59459.68970451741,
          59459.6897045174,
          61143.49708201663,
          57299.94467523199,
          57299.944675231985,
          64127.9242251088,
          64127.92422510882,
          64127.924225108814,
          64127.9242251088,
          56700.38750738638,
          69522.99656832172,
          69522.99656832167,
          66292.8515344229,
          61535.2754759159,
          68452.5965637083,
          68452.59656370828,
          68452.5965637083,
          61535.27547591592,
          61535.27547591592,
          61535.27547591589,
          68962.81219363832,
          61535.275475915914,
          61535.2754759159,
          55540.645964857424,
          55540.645964857424,
          58770.79099875622,
          65688.1120865486,
          70445.6881450556,
          77873.224862778,
          77873.22486277804,
          77873.224862778,
          74643.07982887921,
          74643.0798288792,
          74643.0798288792,
          74643.0798288792,
          74643.07982887918,
          74643.07982887921,
          74643.0798288792,
          74643.07982887921,
          74643.0798288792,
          67815.1002790024,
          67815.10027900236,
          67815.10027900238,
          64159.37005376228,
          60897.77919121,
          60897.779191209986,
          66892.40870226847,
          66892.4087022685,
          59464.87198454608,
          59464.87198454607,
          62695.01701844488,
          62695.01701844489,
          62695.01701844487,
          62695.01701844486,
          62695.01701844488,
          62695.01701844488,
          62695.017018444894,
          62184.80138851484,
          69612.33810623725,
          69612.33810623725,
          64854.762047730284,
          58860.13253667178,
          58860.13253667179,
          58860.13253667178,
          58860.13253667179,
          58770.79099875622,
          58770.79099875622,
          58770.79099875621,
          59370.34816660183,
          59370.34816660184,
          59370.34816660182,
          60897.77919121,
          60897.77919121001,
          66892.4087022685,
          66892.40870226847,
          66892.40870226848,
          73809.72979006087,
          73809.7297900609,
          80637.70933993772,
          80637.70933993772,
          80637.70933993769,
          80637.7093399377,
          80637.7093399377,
          80637.70933993769,
          80637.7093399377,
          80637.70933993772,
          80637.70933993772,
          68452.5965637083,
          68452.5965637083,
          68452.5965637083,
          68452.5965637083,
          68452.59656370827,
          68452.59656370828,
          68452.59656370827,
          68452.59656370828,
          76440.3176561141,
          76440.31765611409,
          67215.54311115679,
          67815.10027900239,
          67815.10027900238
         ]
        }
       ],
       "layout": {
        "height": 800,
        "template": {
         "data": {
          "bar": [
           {
            "error_x": {
             "color": "#2a3f5f"
            },
            "error_y": {
             "color": "#2a3f5f"
            },
            "marker": {
             "line": {
              "color": "#E5ECF6",
              "width": 0.5
             },
             "pattern": {
              "fillmode": "overlay",
              "size": 10,
              "solidity": 0.2
             }
            },
            "type": "bar"
           }
          ],
          "barpolar": [
           {
            "marker": {
             "line": {
              "color": "#E5ECF6",
              "width": 0.5
             },
             "pattern": {
              "fillmode": "overlay",
              "size": 10,
              "solidity": 0.2
             }
            },
            "type": "barpolar"
           }
          ],
          "carpet": [
           {
            "aaxis": {
             "endlinecolor": "#2a3f5f",
             "gridcolor": "white",
             "linecolor": "white",
             "minorgridcolor": "white",
             "startlinecolor": "#2a3f5f"
            },
            "baxis": {
             "endlinecolor": "#2a3f5f",
             "gridcolor": "white",
             "linecolor": "white",
             "minorgridcolor": "white",
             "startlinecolor": "#2a3f5f"
            },
            "type": "carpet"
           }
          ],
          "choropleth": [
           {
            "colorbar": {
             "outlinewidth": 0,
             "ticks": ""
            },
            "type": "choropleth"
           }
          ],
          "contour": [
           {
            "colorbar": {
             "outlinewidth": 0,
             "ticks": ""
            },
            "colorscale": [
             [
              0,
              "#0d0887"
             ],
             [
              0.1111111111111111,
              "#46039f"
             ],
             [
              0.2222222222222222,
              "#7201a8"
             ],
             [
              0.3333333333333333,
              "#9c179e"
             ],
             [
              0.4444444444444444,
              "#bd3786"
             ],
             [
              0.5555555555555556,
              "#d8576b"
             ],
             [
              0.6666666666666666,
              "#ed7953"
             ],
             [
              0.7777777777777778,
              "#fb9f3a"
             ],
             [
              0.8888888888888888,
              "#fdca26"
             ],
             [
              1,
              "#f0f921"
             ]
            ],
            "type": "contour"
           }
          ],
          "contourcarpet": [
           {
            "colorbar": {
             "outlinewidth": 0,
             "ticks": ""
            },
            "type": "contourcarpet"
           }
          ],
          "heatmap": [
           {
            "colorbar": {
             "outlinewidth": 0,
             "ticks": ""
            },
            "colorscale": [
             [
              0,
              "#0d0887"
             ],
             [
              0.1111111111111111,
              "#46039f"
             ],
             [
              0.2222222222222222,
              "#7201a8"
             ],
             [
              0.3333333333333333,
              "#9c179e"
             ],
             [
              0.4444444444444444,
              "#bd3786"
             ],
             [
              0.5555555555555556,
              "#d8576b"
             ],
             [
              0.6666666666666666,
              "#ed7953"
             ],
             [
              0.7777777777777778,
              "#fb9f3a"
             ],
             [
              0.8888888888888888,
              "#fdca26"
             ],
             [
              1,
              "#f0f921"
             ]
            ],
            "type": "heatmap"
           }
          ],
          "heatmapgl": [
           {
            "colorbar": {
             "outlinewidth": 0,
             "ticks": ""
            },
            "colorscale": [
             [
              0,
              "#0d0887"
             ],
             [
              0.1111111111111111,
              "#46039f"
             ],
             [
              0.2222222222222222,
              "#7201a8"
             ],
             [
              0.3333333333333333,
              "#9c179e"
             ],
             [
              0.4444444444444444,
              "#bd3786"
             ],
             [
              0.5555555555555556,
              "#d8576b"
             ],
             [
              0.6666666666666666,
              "#ed7953"
             ],
             [
              0.7777777777777778,
              "#fb9f3a"
             ],
             [
              0.8888888888888888,
              "#fdca26"
             ],
             [
              1,
              "#f0f921"
             ]
            ],
            "type": "heatmapgl"
           }
          ],
          "histogram": [
           {
            "marker": {
             "pattern": {
              "fillmode": "overlay",
              "size": 10,
              "solidity": 0.2
             }
            },
            "type": "histogram"
           }
          ],
          "histogram2d": [
           {
            "colorbar": {
             "outlinewidth": 0,
             "ticks": ""
            },
            "colorscale": [
             [
              0,
              "#0d0887"
             ],
             [
              0.1111111111111111,
              "#46039f"
             ],
             [
              0.2222222222222222,
              "#7201a8"
             ],
             [
              0.3333333333333333,
              "#9c179e"
             ],
             [
              0.4444444444444444,
              "#bd3786"
             ],
             [
              0.5555555555555556,
              "#d8576b"
             ],
             [
              0.6666666666666666,
              "#ed7953"
             ],
             [
              0.7777777777777778,
              "#fb9f3a"
             ],
             [
              0.8888888888888888,
              "#fdca26"
             ],
             [
              1,
              "#f0f921"
             ]
            ],
            "type": "histogram2d"
           }
          ],
          "histogram2dcontour": [
           {
            "colorbar": {
             "outlinewidth": 0,
             "ticks": ""
            },
            "colorscale": [
             [
              0,
              "#0d0887"
             ],
             [
              0.1111111111111111,
              "#46039f"
             ],
             [
              0.2222222222222222,
              "#7201a8"
             ],
             [
              0.3333333333333333,
              "#9c179e"
             ],
             [
              0.4444444444444444,
              "#bd3786"
             ],
             [
              0.5555555555555556,
              "#d8576b"
             ],
             [
              0.6666666666666666,
              "#ed7953"
             ],
             [
              0.7777777777777778,
              "#fb9f3a"
             ],
             [
              0.8888888888888888,
              "#fdca26"
             ],
             [
              1,
              "#f0f921"
             ]
            ],
            "type": "histogram2dcontour"
           }
          ],
          "mesh3d": [
           {
            "colorbar": {
             "outlinewidth": 0,
             "ticks": ""
            },
            "type": "mesh3d"
           }
          ],
          "parcoords": [
           {
            "line": {
             "colorbar": {
              "outlinewidth": 0,
              "ticks": ""
             }
            },
            "type": "parcoords"
           }
          ],
          "pie": [
           {
            "automargin": true,
            "type": "pie"
           }
          ],
          "scatter": [
           {
            "fillpattern": {
             "fillmode": "overlay",
             "size": 10,
             "solidity": 0.2
            },
            "type": "scatter"
           }
          ],
          "scatter3d": [
           {
            "line": {
             "colorbar": {
              "outlinewidth": 0,
              "ticks": ""
             }
            },
            "marker": {
             "colorbar": {
              "outlinewidth": 0,
              "ticks": ""
             }
            },
            "type": "scatter3d"
           }
          ],
          "scattercarpet": [
           {
            "marker": {
             "colorbar": {
              "outlinewidth": 0,
              "ticks": ""
             }
            },
            "type": "scattercarpet"
           }
          ],
          "scattergeo": [
           {
            "marker": {
             "colorbar": {
              "outlinewidth": 0,
              "ticks": ""
             }
            },
            "type": "scattergeo"
           }
          ],
          "scattergl": [
           {
            "marker": {
             "colorbar": {
              "outlinewidth": 0,
              "ticks": ""
             }
            },
            "type": "scattergl"
           }
          ],
          "scattermapbox": [
           {
            "marker": {
             "colorbar": {
              "outlinewidth": 0,
              "ticks": ""
             }
            },
            "type": "scattermapbox"
           }
          ],
          "scatterpolar": [
           {
            "marker": {
             "colorbar": {
              "outlinewidth": 0,
              "ticks": ""
             }
            },
            "type": "scatterpolar"
           }
          ],
          "scatterpolargl": [
           {
            "marker": {
             "colorbar": {
              "outlinewidth": 0,
              "ticks": ""
             }
            },
            "type": "scatterpolargl"
           }
          ],
          "scatterternary": [
           {
            "marker": {
             "colorbar": {
              "outlinewidth": 0,
              "ticks": ""
             }
            },
            "type": "scatterternary"
           }
          ],
          "surface": [
           {
            "colorbar": {
             "outlinewidth": 0,
             "ticks": ""
            },
            "colorscale": [
             [
              0,
              "#0d0887"
             ],
             [
              0.1111111111111111,
              "#46039f"
             ],
             [
              0.2222222222222222,
              "#7201a8"
             ],
             [
              0.3333333333333333,
              "#9c179e"
             ],
             [
              0.4444444444444444,
              "#bd3786"
             ],
             [
              0.5555555555555556,
              "#d8576b"
             ],
             [
              0.6666666666666666,
              "#ed7953"
             ],
             [
              0.7777777777777778,
              "#fb9f3a"
             ],
             [
              0.8888888888888888,
              "#fdca26"
             ],
             [
              1,
              "#f0f921"
             ]
            ],
            "type": "surface"
           }
          ],
          "table": [
           {
            "cells": {
             "fill": {
              "color": "#EBF0F8"
             },
             "line": {
              "color": "white"
             }
            },
            "header": {
             "fill": {
              "color": "#C8D4E3"
             },
             "line": {
              "color": "white"
             }
            },
            "type": "table"
           }
          ]
         },
         "layout": {
          "annotationdefaults": {
           "arrowcolor": "#2a3f5f",
           "arrowhead": 0,
           "arrowwidth": 1
          },
          "autotypenumbers": "strict",
          "coloraxis": {
           "colorbar": {
            "outlinewidth": 0,
            "ticks": ""
           }
          },
          "colorscale": {
           "diverging": [
            [
             0,
             "#8e0152"
            ],
            [
             0.1,
             "#c51b7d"
            ],
            [
             0.2,
             "#de77ae"
            ],
            [
             0.3,
             "#f1b6da"
            ],
            [
             0.4,
             "#fde0ef"
            ],
            [
             0.5,
             "#f7f7f7"
            ],
            [
             0.6,
             "#e6f5d0"
            ],
            [
             0.7,
             "#b8e186"
            ],
            [
             0.8,
             "#7fbc41"
            ],
            [
             0.9,
             "#4d9221"
            ],
            [
             1,
             "#276419"
            ]
           ],
           "sequential": [
            [
             0,
             "#0d0887"
            ],
            [
             0.1111111111111111,
             "#46039f"
            ],
            [
             0.2222222222222222,
             "#7201a8"
            ],
            [
             0.3333333333333333,
             "#9c179e"
            ],
            [
             0.4444444444444444,
             "#bd3786"
            ],
            [
             0.5555555555555556,
             "#d8576b"
            ],
            [
             0.6666666666666666,
             "#ed7953"
            ],
            [
             0.7777777777777778,
             "#fb9f3a"
            ],
            [
             0.8888888888888888,
             "#fdca26"
            ],
            [
             1,
             "#f0f921"
            ]
           ],
           "sequentialminus": [
            [
             0,
             "#0d0887"
            ],
            [
             0.1111111111111111,
             "#46039f"
            ],
            [
             0.2222222222222222,
             "#7201a8"
            ],
            [
             0.3333333333333333,
             "#9c179e"
            ],
            [
             0.4444444444444444,
             "#bd3786"
            ],
            [
             0.5555555555555556,
             "#d8576b"
            ],
            [
             0.6666666666666666,
             "#ed7953"
            ],
            [
             0.7777777777777778,
             "#fb9f3a"
            ],
            [
             0.8888888888888888,
             "#fdca26"
            ],
            [
             1,
             "#f0f921"
            ]
           ]
          },
          "colorway": [
           "#636efa",
           "#EF553B",
           "#00cc96",
           "#ab63fa",
           "#FFA15A",
           "#19d3f3",
           "#FF6692",
           "#B6E880",
           "#FF97FF",
           "#FECB52"
          ],
          "font": {
           "color": "#2a3f5f"
          },
          "geo": {
           "bgcolor": "white",
           "lakecolor": "white",
           "landcolor": "#E5ECF6",
           "showlakes": true,
           "showland": true,
           "subunitcolor": "white"
          },
          "hoverlabel": {
           "align": "left"
          },
          "hovermode": "closest",
          "mapbox": {
           "style": "light"
          },
          "paper_bgcolor": "white",
          "plot_bgcolor": "#E5ECF6",
          "polar": {
           "angularaxis": {
            "gridcolor": "white",
            "linecolor": "white",
            "ticks": ""
           },
           "bgcolor": "#E5ECF6",
           "radialaxis": {
            "gridcolor": "white",
            "linecolor": "white",
            "ticks": ""
           }
          },
          "scene": {
           "xaxis": {
            "backgroundcolor": "#E5ECF6",
            "gridcolor": "white",
            "gridwidth": 2,
            "linecolor": "white",
            "showbackground": true,
            "ticks": "",
            "zerolinecolor": "white"
           },
           "yaxis": {
            "backgroundcolor": "#E5ECF6",
            "gridcolor": "white",
            "gridwidth": 2,
            "linecolor": "white",
            "showbackground": true,
            "ticks": "",
            "zerolinecolor": "white"
           },
           "zaxis": {
            "backgroundcolor": "#E5ECF6",
            "gridcolor": "white",
            "gridwidth": 2,
            "linecolor": "white",
            "showbackground": true,
            "ticks": "",
            "zerolinecolor": "white"
           }
          },
          "shapedefaults": {
           "line": {
            "color": "#2a3f5f"
           }
          },
          "ternary": {
           "aaxis": {
            "gridcolor": "white",
            "linecolor": "white",
            "ticks": ""
           },
           "baxis": {
            "gridcolor": "white",
            "linecolor": "white",
            "ticks": ""
           },
           "bgcolor": "#E5ECF6",
           "caxis": {
            "gridcolor": "white",
            "linecolor": "white",
            "ticks": ""
           }
          },
          "title": {
           "x": 0.05
          },
          "xaxis": {
           "automargin": true,
           "gridcolor": "white",
           "linecolor": "white",
           "ticks": "",
           "title": {
            "standoff": 15
           },
           "zerolinecolor": "white",
           "zerolinewidth": 2
          },
          "yaxis": {
           "automargin": true,
           "gridcolor": "white",
           "linecolor": "white",
           "ticks": "",
           "title": {
            "standoff": 15
           },
           "zerolinecolor": "white",
           "zerolinewidth": 2
          }
         }
        },
        "title": {
         "text": "Daily Offer"
        },
        "xaxis": {
         "title": {
          "text": "Day"
         }
        },
        "yaxis": {
         "title": {
          "text": "Value"
         }
        }
       }
      }
     },
     "metadata": {},
     "output_type": "display_data"
    },
    {
     "data": {
      "application/vnd.plotly.v1+json": {
       "config": {
        "plotlyServerURL": "https://plot.ly"
       },
       "data": [
        {
         "mode": "lines+markers",
         "name": "meet_demand",
         "type": "scatter",
         "x": [
          0,
          1,
          2,
          3,
          4,
          5,
          6,
          7,
          8,
          9,
          10,
          11,
          12,
          13,
          14,
          15,
          16,
          17,
          18,
          19,
          20,
          21,
          22,
          23,
          24,
          25,
          26,
          27,
          28,
          29,
          30,
          31,
          32,
          33,
          34,
          35,
          36,
          37,
          38,
          39,
          40,
          41,
          42,
          43,
          44,
          45,
          46,
          47,
          48,
          49,
          50,
          51,
          52,
          53,
          54,
          55,
          56,
          57,
          58,
          59,
          60,
          61,
          62,
          63,
          64,
          65,
          66,
          67,
          68,
          69,
          70,
          71,
          72,
          73,
          74,
          75,
          76,
          77,
          78,
          79,
          80,
          81,
          82,
          83,
          84,
          85,
          86,
          87,
          88,
          89,
          90,
          91,
          92,
          93,
          94,
          95,
          96,
          97,
          98,
          99,
          100,
          101,
          102,
          103,
          104,
          105,
          106,
          107,
          108,
          109,
          110,
          111,
          112,
          113,
          114,
          115,
          116,
          117,
          118,
          119,
          120,
          121,
          122,
          123,
          124,
          125,
          126,
          127,
          128,
          129,
          130,
          131,
          132,
          133,
          134,
          135,
          136,
          137,
          138,
          139,
          140,
          141,
          142,
          143,
          144,
          145,
          146,
          147,
          148,
          149
         ],
         "y": [
          0,
          0,
          0,
          0,
          0,
          0,
          0,
          0,
          0,
          0,
          0,
          0,
          0,
          0,
          0,
          0,
          0,
          0,
          0,
          0,
          0,
          0,
          0,
          0,
          0,
          0,
          0,
          0,
          0,
          0,
          0,
          0,
          0,
          0,
          0,
          0,
          0,
          0,
          0,
          0,
          0,
          0,
          0,
          0,
          0,
          0,
          0,
          0,
          0,
          0,
          0,
          0,
          0,
          0,
          0,
          0,
          0,
          0,
          0,
          0,
          0,
          0,
          0,
          0,
          0,
          0,
          0,
          0,
          0,
          0,
          0,
          0,
          0,
          0,
          0,
          0,
          0,
          0,
          0,
          0,
          0,
          0,
          0,
          0,
          0,
          0,
          0,
          0,
          0,
          0,
          0,
          0,
          0,
          0,
          0,
          0,
          0,
          0,
          0,
          0,
          0,
          0,
          0,
          0,
          0,
          0,
          0,
          0,
          0,
          0,
          0,
          0,
          0,
          0,
          0,
          0,
          0,
          0,
          0,
          0,
          0,
          0,
          0,
          0,
          0,
          0,
          0,
          0,
          0,
          0,
          0,
          0,
          0,
          0,
          0,
          0,
          0,
          0,
          0,
          0,
          0,
          0,
          0,
          0,
          0,
          0,
          0,
          0,
          0,
          0
         ]
        },
        {
         "mode": "lines+markers",
         "name": "prioritize_block_importance",
         "type": "scatter",
         "x": [
          0,
          1,
          2,
          3,
          4,
          5,
          6,
          7,
          8,
          9,
          10,
          11,
          12,
          13,
          14,
          15,
          16,
          17,
          18,
          19,
          20,
          21,
          22,
          23,
          24,
          25,
          26,
          27,
          28,
          29,
          30,
          31,
          32,
          33,
          34,
          35,
          36,
          37,
          38,
          39,
          40,
          41,
          42,
          43,
          44,
          45,
          46,
          47,
          48,
          49,
          50,
          51,
          52,
          53,
          54,
          55,
          56,
          57,
          58,
          59,
          60,
          61,
          62,
          63,
          64,
          65,
          66,
          67,
          68,
          69,
          70,
          71,
          72,
          73,
          74,
          75,
          76,
          77,
          78,
          79,
          80,
          81,
          82,
          83,
          84,
          85,
          86,
          87,
          88,
          89,
          90,
          91,
          92,
          93,
          94,
          95,
          96,
          97,
          98,
          99,
          100,
          101,
          102,
          103,
          104,
          105,
          106,
          107,
          108,
          109,
          110,
          111,
          112,
          113,
          114,
          115,
          116,
          117,
          118,
          119,
          120,
          121,
          122,
          123,
          124,
          125,
          126,
          127,
          128,
          129,
          130,
          131,
          132,
          133,
          134,
          135,
          136,
          137,
          138,
          139,
          140,
          141,
          142,
          143,
          144,
          145,
          146,
          147,
          148,
          149
         ],
         "y": [
          0,
          0,
          0,
          0,
          0,
          0,
          0,
          0,
          0,
          0,
          0,
          0,
          0,
          0,
          0,
          0,
          0,
          0,
          0,
          0,
          0,
          0,
          0,
          0,
          0,
          0,
          0,
          0,
          0,
          0,
          0,
          0,
          0,
          0,
          0,
          0,
          0,
          0,
          0,
          0,
          0,
          0,
          0,
          0,
          0,
          0,
          0,
          0,
          0,
          0,
          0,
          0,
          0,
          0,
          0,
          0,
          0,
          0,
          0,
          0,
          0,
          0,
          0,
          0,
          0,
          0,
          0,
          0,
          0,
          0,
          0,
          0,
          0,
          0,
          0,
          0,
          0,
          0,
          0,
          0,
          0,
          0,
          0,
          0,
          0,
          0,
          0,
          0,
          0,
          0,
          0,
          0,
          0,
          0,
          0,
          0,
          0,
          0,
          0,
          0,
          0,
          0,
          0,
          0,
          0,
          0,
          0,
          0,
          0,
          0,
          0,
          0,
          0,
          0,
          0,
          0,
          0,
          0,
          0,
          0,
          0,
          0,
          0,
          0,
          0,
          0,
          0,
          0,
          0,
          0,
          0,
          0,
          0,
          0,
          0,
          0,
          0,
          0,
          0,
          0,
          0,
          0,
          0,
          0,
          0,
          0,
          0,
          0,
          0,
          0
         ]
        },
        {
         "mode": "lines+markers",
         "name": "prioritize_block_opinion",
         "type": "scatter",
         "x": [
          0,
          1,
          2,
          3,
          4,
          5,
          6,
          7,
          8,
          9,
          10,
          11,
          12,
          13,
          14,
          15,
          16,
          17,
          18,
          19,
          20,
          21,
          22,
          23,
          24,
          25,
          26,
          27,
          28,
          29,
          30,
          31,
          32,
          33,
          34,
          35,
          36,
          37,
          38,
          39,
          40,
          41,
          42,
          43,
          44,
          45,
          46,
          47,
          48,
          49,
          50,
          51,
          52,
          53,
          54,
          55,
          56,
          57,
          58,
          59,
          60,
          61,
          62,
          63,
          64,
          65,
          66,
          67,
          68,
          69,
          70,
          71,
          72,
          73,
          74,
          75,
          76,
          77,
          78,
          79,
          80,
          81,
          82,
          83,
          84,
          85,
          86,
          87,
          88,
          89,
          90,
          91,
          92,
          93,
          94,
          95,
          96,
          97,
          98,
          99,
          100,
          101,
          102,
          103,
          104,
          105,
          106,
          107,
          108,
          109,
          110,
          111,
          112,
          113,
          114,
          115,
          116,
          117,
          118,
          119,
          120,
          121,
          122,
          123,
          124,
          125,
          126,
          127,
          128,
          129,
          130,
          131,
          132,
          133,
          134,
          135,
          136,
          137,
          138,
          139,
          140,
          141,
          142,
          143,
          144,
          145,
          146,
          147,
          148,
          149
         ],
         "y": [
          0,
          0,
          0,
          0,
          0,
          0,
          0,
          0,
          0,
          0,
          0,
          0,
          0,
          0,
          0,
          0,
          0,
          0,
          0,
          0,
          0,
          0,
          0,
          0,
          0,
          0,
          0,
          0,
          0,
          0,
          0,
          0,
          0,
          0,
          0,
          0,
          0,
          0,
          0,
          0,
          0,
          0,
          0,
          0,
          0,
          0,
          0,
          0,
          0,
          0,
          0,
          0,
          0,
          0,
          0,
          0,
          0,
          0,
          0,
          0,
          0,
          0,
          0,
          0,
          0,
          0,
          0,
          0,
          0,
          0,
          0,
          0,
          0,
          0,
          0,
          0,
          0,
          0,
          0,
          0,
          0,
          0,
          0,
          0,
          0,
          0,
          0,
          0,
          0,
          0,
          0,
          0,
          0,
          0,
          0,
          0,
          0,
          0,
          0,
          0,
          0,
          0,
          0,
          0,
          0,
          0,
          0,
          0,
          0,
          0,
          0,
          0,
          0,
          0,
          0,
          0,
          0,
          0,
          0,
          0,
          0,
          0,
          0,
          0,
          0,
          0,
          0,
          0,
          0,
          0,
          0,
          0,
          0,
          0,
          0,
          0,
          0,
          0,
          0,
          0,
          0,
          0,
          0,
          0,
          0,
          0,
          0,
          0,
          0,
          0
         ]
        },
        {
         "mode": "lines+markers",
         "name": "prioritize_consecutive_days_off",
         "type": "scatter",
         "x": [
          0,
          1,
          2,
          3,
          4,
          5,
          6,
          7,
          8,
          9,
          10,
          11,
          12,
          13,
          14,
          15,
          16,
          17,
          18,
          19,
          20,
          21,
          22,
          23,
          24,
          25,
          26,
          27,
          28,
          29,
          30,
          31,
          32,
          33,
          34,
          35,
          36,
          37,
          38,
          39,
          40,
          41,
          42,
          43,
          44,
          45,
          46,
          47,
          48,
          49,
          50,
          51,
          52,
          53,
          54,
          55,
          56,
          57,
          58,
          59,
          60,
          61,
          62,
          63,
          64,
          65,
          66,
          67,
          68,
          69,
          70,
          71,
          72,
          73,
          74,
          75,
          76,
          77,
          78,
          79,
          80,
          81,
          82,
          83,
          84,
          85,
          86,
          87,
          88,
          89,
          90,
          91,
          92,
          93,
          94,
          95,
          96,
          97,
          98,
          99,
          100,
          101,
          102,
          103,
          104,
          105,
          106,
          107,
          108,
          109,
          110,
          111,
          112,
          113,
          114,
          115,
          116,
          117,
          118,
          119,
          120,
          121,
          122,
          123,
          124,
          125,
          126,
          127,
          128,
          129,
          130,
          131,
          132,
          133,
          134,
          135,
          136,
          137,
          138,
          139,
          140,
          141,
          142,
          143,
          144,
          145,
          146,
          147,
          148,
          149
         ],
         "y": [
          0,
          0,
          0,
          0,
          0,
          0,
          0,
          0,
          0,
          0,
          0,
          0,
          0,
          0,
          0,
          0,
          0,
          0,
          0,
          0,
          0,
          0,
          0,
          0,
          0,
          0,
          0,
          0,
          0,
          0,
          0,
          0,
          0,
          0,
          0,
          0,
          0,
          0,
          0,
          0,
          0,
          0,
          0,
          0,
          0,
          0,
          0,
          0,
          0,
          0,
          0,
          0,
          0,
          0,
          0,
          0,
          0,
          0,
          0,
          0,
          0,
          0,
          0,
          0,
          0,
          0,
          0,
          0,
          0,
          0,
          0,
          0,
          0,
          0,
          0,
          0,
          0,
          0,
          0,
          0,
          0,
          0,
          0,
          0,
          0,
          0,
          0,
          0,
          0,
          0,
          0,
          0,
          0,
          0,
          0,
          0,
          0,
          0,
          0,
          0,
          0,
          0,
          0,
          0,
          0,
          0,
          0,
          0,
          0,
          0,
          0,
          0,
          0,
          0,
          0,
          0,
          0,
          0,
          0,
          0,
          0,
          0,
          0,
          0,
          0,
          0,
          0,
          0,
          0,
          0,
          0,
          0,
          0,
          0,
          0,
          0,
          0,
          0,
          0,
          0,
          0,
          0,
          0,
          0,
          0,
          0,
          0,
          0,
          0,
          0
         ]
        },
        {
         "mode": "lines+markers",
         "name": "prioritize_days_off",
         "type": "scatter",
         "x": [
          0,
          1,
          2,
          3,
          4,
          5,
          6,
          7,
          8,
          9,
          10,
          11,
          12,
          13,
          14,
          15,
          16,
          17,
          18,
          19,
          20,
          21,
          22,
          23,
          24,
          25,
          26,
          27,
          28,
          29,
          30,
          31,
          32,
          33,
          34,
          35,
          36,
          37,
          38,
          39,
          40,
          41,
          42,
          43,
          44,
          45,
          46,
          47,
          48,
          49,
          50,
          51,
          52,
          53,
          54,
          55,
          56,
          57,
          58,
          59,
          60,
          61,
          62,
          63,
          64,
          65,
          66,
          67,
          68,
          69,
          70,
          71,
          72,
          73,
          74,
          75,
          76,
          77,
          78,
          79,
          80,
          81,
          82,
          83,
          84,
          85,
          86,
          87,
          88,
          89,
          90,
          91,
          92,
          93,
          94,
          95,
          96,
          97,
          98,
          99,
          100,
          101,
          102,
          103,
          104,
          105,
          106,
          107,
          108,
          109,
          110,
          111,
          112,
          113,
          114,
          115,
          116,
          117,
          118,
          119,
          120,
          121,
          122,
          123,
          124,
          125,
          126,
          127,
          128,
          129,
          130,
          131,
          132,
          133,
          134,
          135,
          136,
          137,
          138,
          139,
          140,
          141,
          142,
          143,
          144,
          145,
          146,
          147,
          148,
          149
         ],
         "y": [
          0,
          0,
          0,
          0,
          0,
          0,
          0,
          0,
          0,
          0,
          0,
          0,
          0,
          0,
          0,
          0,
          0,
          0,
          0,
          0,
          0,
          0,
          0,
          0,
          0,
          0,
          0,
          0,
          0,
          0,
          0,
          0,
          0,
          0,
          0,
          0,
          0,
          0,
          0,
          0,
          0,
          0,
          0,
          0,
          0,
          0,
          0,
          0,
          0,
          0,
          0,
          0,
          0,
          0,
          0,
          0,
          0,
          0,
          0,
          0,
          0,
          0,
          0,
          0,
          0,
          0,
          0,
          0,
          0,
          0,
          0,
          0,
          0,
          0,
          0,
          0,
          0,
          0,
          0,
          0,
          0,
          0,
          0,
          0,
          0,
          0,
          0,
          0,
          0,
          0,
          0,
          0,
          0,
          0,
          0,
          0,
          0,
          0,
          0,
          0,
          0,
          0,
          0,
          0,
          0,
          0,
          0,
          0,
          0,
          0,
          0,
          0,
          0,
          0,
          0,
          0,
          0,
          0,
          0,
          0,
          0,
          0,
          0,
          0,
          0,
          0,
          0,
          0,
          0,
          0,
          0,
          0,
          0,
          0,
          0,
          0,
          0,
          0,
          0,
          0,
          0,
          0,
          0,
          0,
          0,
          0,
          0,
          0,
          0,
          0
         ]
        }
       ],
       "layout": {
        "height": 800,
        "template": {
         "data": {
          "bar": [
           {
            "error_x": {
             "color": "#2a3f5f"
            },
            "error_y": {
             "color": "#2a3f5f"
            },
            "marker": {
             "line": {
              "color": "#E5ECF6",
              "width": 0.5
             },
             "pattern": {
              "fillmode": "overlay",
              "size": 10,
              "solidity": 0.2
             }
            },
            "type": "bar"
           }
          ],
          "barpolar": [
           {
            "marker": {
             "line": {
              "color": "#E5ECF6",
              "width": 0.5
             },
             "pattern": {
              "fillmode": "overlay",
              "size": 10,
              "solidity": 0.2
             }
            },
            "type": "barpolar"
           }
          ],
          "carpet": [
           {
            "aaxis": {
             "endlinecolor": "#2a3f5f",
             "gridcolor": "white",
             "linecolor": "white",
             "minorgridcolor": "white",
             "startlinecolor": "#2a3f5f"
            },
            "baxis": {
             "endlinecolor": "#2a3f5f",
             "gridcolor": "white",
             "linecolor": "white",
             "minorgridcolor": "white",
             "startlinecolor": "#2a3f5f"
            },
            "type": "carpet"
           }
          ],
          "choropleth": [
           {
            "colorbar": {
             "outlinewidth": 0,
             "ticks": ""
            },
            "type": "choropleth"
           }
          ],
          "contour": [
           {
            "colorbar": {
             "outlinewidth": 0,
             "ticks": ""
            },
            "colorscale": [
             [
              0,
              "#0d0887"
             ],
             [
              0.1111111111111111,
              "#46039f"
             ],
             [
              0.2222222222222222,
              "#7201a8"
             ],
             [
              0.3333333333333333,
              "#9c179e"
             ],
             [
              0.4444444444444444,
              "#bd3786"
             ],
             [
              0.5555555555555556,
              "#d8576b"
             ],
             [
              0.6666666666666666,
              "#ed7953"
             ],
             [
              0.7777777777777778,
              "#fb9f3a"
             ],
             [
              0.8888888888888888,
              "#fdca26"
             ],
             [
              1,
              "#f0f921"
             ]
            ],
            "type": "contour"
           }
          ],
          "contourcarpet": [
           {
            "colorbar": {
             "outlinewidth": 0,
             "ticks": ""
            },
            "type": "contourcarpet"
           }
          ],
          "heatmap": [
           {
            "colorbar": {
             "outlinewidth": 0,
             "ticks": ""
            },
            "colorscale": [
             [
              0,
              "#0d0887"
             ],
             [
              0.1111111111111111,
              "#46039f"
             ],
             [
              0.2222222222222222,
              "#7201a8"
             ],
             [
              0.3333333333333333,
              "#9c179e"
             ],
             [
              0.4444444444444444,
              "#bd3786"
             ],
             [
              0.5555555555555556,
              "#d8576b"
             ],
             [
              0.6666666666666666,
              "#ed7953"
             ],
             [
              0.7777777777777778,
              "#fb9f3a"
             ],
             [
              0.8888888888888888,
              "#fdca26"
             ],
             [
              1,
              "#f0f921"
             ]
            ],
            "type": "heatmap"
           }
          ],
          "heatmapgl": [
           {
            "colorbar": {
             "outlinewidth": 0,
             "ticks": ""
            },
            "colorscale": [
             [
              0,
              "#0d0887"
             ],
             [
              0.1111111111111111,
              "#46039f"
             ],
             [
              0.2222222222222222,
              "#7201a8"
             ],
             [
              0.3333333333333333,
              "#9c179e"
             ],
             [
              0.4444444444444444,
              "#bd3786"
             ],
             [
              0.5555555555555556,
              "#d8576b"
             ],
             [
              0.6666666666666666,
              "#ed7953"
             ],
             [
              0.7777777777777778,
              "#fb9f3a"
             ],
             [
              0.8888888888888888,
              "#fdca26"
             ],
             [
              1,
              "#f0f921"
             ]
            ],
            "type": "heatmapgl"
           }
          ],
          "histogram": [
           {
            "marker": {
             "pattern": {
              "fillmode": "overlay",
              "size": 10,
              "solidity": 0.2
             }
            },
            "type": "histogram"
           }
          ],
          "histogram2d": [
           {
            "colorbar": {
             "outlinewidth": 0,
             "ticks": ""
            },
            "colorscale": [
             [
              0,
              "#0d0887"
             ],
             [
              0.1111111111111111,
              "#46039f"
             ],
             [
              0.2222222222222222,
              "#7201a8"
             ],
             [
              0.3333333333333333,
              "#9c179e"
             ],
             [
              0.4444444444444444,
              "#bd3786"
             ],
             [
              0.5555555555555556,
              "#d8576b"
             ],
             [
              0.6666666666666666,
              "#ed7953"
             ],
             [
              0.7777777777777778,
              "#fb9f3a"
             ],
             [
              0.8888888888888888,
              "#fdca26"
             ],
             [
              1,
              "#f0f921"
             ]
            ],
            "type": "histogram2d"
           }
          ],
          "histogram2dcontour": [
           {
            "colorbar": {
             "outlinewidth": 0,
             "ticks": ""
            },
            "colorscale": [
             [
              0,
              "#0d0887"
             ],
             [
              0.1111111111111111,
              "#46039f"
             ],
             [
              0.2222222222222222,
              "#7201a8"
             ],
             [
              0.3333333333333333,
              "#9c179e"
             ],
             [
              0.4444444444444444,
              "#bd3786"
             ],
             [
              0.5555555555555556,
              "#d8576b"
             ],
             [
              0.6666666666666666,
              "#ed7953"
             ],
             [
              0.7777777777777778,
              "#fb9f3a"
             ],
             [
              0.8888888888888888,
              "#fdca26"
             ],
             [
              1,
              "#f0f921"
             ]
            ],
            "type": "histogram2dcontour"
           }
          ],
          "mesh3d": [
           {
            "colorbar": {
             "outlinewidth": 0,
             "ticks": ""
            },
            "type": "mesh3d"
           }
          ],
          "parcoords": [
           {
            "line": {
             "colorbar": {
              "outlinewidth": 0,
              "ticks": ""
             }
            },
            "type": "parcoords"
           }
          ],
          "pie": [
           {
            "automargin": true,
            "type": "pie"
           }
          ],
          "scatter": [
           {
            "fillpattern": {
             "fillmode": "overlay",
             "size": 10,
             "solidity": 0.2
            },
            "type": "scatter"
           }
          ],
          "scatter3d": [
           {
            "line": {
             "colorbar": {
              "outlinewidth": 0,
              "ticks": ""
             }
            },
            "marker": {
             "colorbar": {
              "outlinewidth": 0,
              "ticks": ""
             }
            },
            "type": "scatter3d"
           }
          ],
          "scattercarpet": [
           {
            "marker": {
             "colorbar": {
              "outlinewidth": 0,
              "ticks": ""
             }
            },
            "type": "scattercarpet"
           }
          ],
          "scattergeo": [
           {
            "marker": {
             "colorbar": {
              "outlinewidth": 0,
              "ticks": ""
             }
            },
            "type": "scattergeo"
           }
          ],
          "scattergl": [
           {
            "marker": {
             "colorbar": {
              "outlinewidth": 0,
              "ticks": ""
             }
            },
            "type": "scattergl"
           }
          ],
          "scattermapbox": [
           {
            "marker": {
             "colorbar": {
              "outlinewidth": 0,
              "ticks": ""
             }
            },
            "type": "scattermapbox"
           }
          ],
          "scatterpolar": [
           {
            "marker": {
             "colorbar": {
              "outlinewidth": 0,
              "ticks": ""
             }
            },
            "type": "scatterpolar"
           }
          ],
          "scatterpolargl": [
           {
            "marker": {
             "colorbar": {
              "outlinewidth": 0,
              "ticks": ""
             }
            },
            "type": "scatterpolargl"
           }
          ],
          "scatterternary": [
           {
            "marker": {
             "colorbar": {
              "outlinewidth": 0,
              "ticks": ""
             }
            },
            "type": "scatterternary"
           }
          ],
          "surface": [
           {
            "colorbar": {
             "outlinewidth": 0,
             "ticks": ""
            },
            "colorscale": [
             [
              0,
              "#0d0887"
             ],
             [
              0.1111111111111111,
              "#46039f"
             ],
             [
              0.2222222222222222,
              "#7201a8"
             ],
             [
              0.3333333333333333,
              "#9c179e"
             ],
             [
              0.4444444444444444,
              "#bd3786"
             ],
             [
              0.5555555555555556,
              "#d8576b"
             ],
             [
              0.6666666666666666,
              "#ed7953"
             ],
             [
              0.7777777777777778,
              "#fb9f3a"
             ],
             [
              0.8888888888888888,
              "#fdca26"
             ],
             [
              1,
              "#f0f921"
             ]
            ],
            "type": "surface"
           }
          ],
          "table": [
           {
            "cells": {
             "fill": {
              "color": "#EBF0F8"
             },
             "line": {
              "color": "white"
             }
            },
            "header": {
             "fill": {
              "color": "#C8D4E3"
             },
             "line": {
              "color": "white"
             }
            },
            "type": "table"
           }
          ]
         },
         "layout": {
          "annotationdefaults": {
           "arrowcolor": "#2a3f5f",
           "arrowhead": 0,
           "arrowwidth": 1
          },
          "autotypenumbers": "strict",
          "coloraxis": {
           "colorbar": {
            "outlinewidth": 0,
            "ticks": ""
           }
          },
          "colorscale": {
           "diverging": [
            [
             0,
             "#8e0152"
            ],
            [
             0.1,
             "#c51b7d"
            ],
            [
             0.2,
             "#de77ae"
            ],
            [
             0.3,
             "#f1b6da"
            ],
            [
             0.4,
             "#fde0ef"
            ],
            [
             0.5,
             "#f7f7f7"
            ],
            [
             0.6,
             "#e6f5d0"
            ],
            [
             0.7,
             "#b8e186"
            ],
            [
             0.8,
             "#7fbc41"
            ],
            [
             0.9,
             "#4d9221"
            ],
            [
             1,
             "#276419"
            ]
           ],
           "sequential": [
            [
             0,
             "#0d0887"
            ],
            [
             0.1111111111111111,
             "#46039f"
            ],
            [
             0.2222222222222222,
             "#7201a8"
            ],
            [
             0.3333333333333333,
             "#9c179e"
            ],
            [
             0.4444444444444444,
             "#bd3786"
            ],
            [
             0.5555555555555556,
             "#d8576b"
            ],
            [
             0.6666666666666666,
             "#ed7953"
            ],
            [
             0.7777777777777778,
             "#fb9f3a"
            ],
            [
             0.8888888888888888,
             "#fdca26"
            ],
            [
             1,
             "#f0f921"
            ]
           ],
           "sequentialminus": [
            [
             0,
             "#0d0887"
            ],
            [
             0.1111111111111111,
             "#46039f"
            ],
            [
             0.2222222222222222,
             "#7201a8"
            ],
            [
             0.3333333333333333,
             "#9c179e"
            ],
            [
             0.4444444444444444,
             "#bd3786"
            ],
            [
             0.5555555555555556,
             "#d8576b"
            ],
            [
             0.6666666666666666,
             "#ed7953"
            ],
            [
             0.7777777777777778,
             "#fb9f3a"
            ],
            [
             0.8888888888888888,
             "#fdca26"
            ],
            [
             1,
             "#f0f921"
            ]
           ]
          },
          "colorway": [
           "#636efa",
           "#EF553B",
           "#00cc96",
           "#ab63fa",
           "#FFA15A",
           "#19d3f3",
           "#FF6692",
           "#B6E880",
           "#FF97FF",
           "#FECB52"
          ],
          "font": {
           "color": "#2a3f5f"
          },
          "geo": {
           "bgcolor": "white",
           "lakecolor": "white",
           "landcolor": "#E5ECF6",
           "showlakes": true,
           "showland": true,
           "subunitcolor": "white"
          },
          "hoverlabel": {
           "align": "left"
          },
          "hovermode": "closest",
          "mapbox": {
           "style": "light"
          },
          "paper_bgcolor": "white",
          "plot_bgcolor": "#E5ECF6",
          "polar": {
           "angularaxis": {
            "gridcolor": "white",
            "linecolor": "white",
            "ticks": ""
           },
           "bgcolor": "#E5ECF6",
           "radialaxis": {
            "gridcolor": "white",
            "linecolor": "white",
            "ticks": ""
           }
          },
          "scene": {
           "xaxis": {
            "backgroundcolor": "#E5ECF6",
            "gridcolor": "white",
            "gridwidth": 2,
            "linecolor": "white",
            "showbackground": true,
            "ticks": "",
            "zerolinecolor": "white"
           },
           "yaxis": {
            "backgroundcolor": "#E5ECF6",
            "gridcolor": "white",
            "gridwidth": 2,
            "linecolor": "white",
            "showbackground": true,
            "ticks": "",
            "zerolinecolor": "white"
           },
           "zaxis": {
            "backgroundcolor": "#E5ECF6",
            "gridcolor": "white",
            "gridwidth": 2,
            "linecolor": "white",
            "showbackground": true,
            "ticks": "",
            "zerolinecolor": "white"
           }
          },
          "shapedefaults": {
           "line": {
            "color": "#2a3f5f"
           }
          },
          "ternary": {
           "aaxis": {
            "gridcolor": "white",
            "linecolor": "white",
            "ticks": ""
           },
           "baxis": {
            "gridcolor": "white",
            "linecolor": "white",
            "ticks": ""
           },
           "bgcolor": "#E5ECF6",
           "caxis": {
            "gridcolor": "white",
            "linecolor": "white",
            "ticks": ""
           }
          },
          "title": {
           "x": 0.05
          },
          "xaxis": {
           "automargin": true,
           "gridcolor": "white",
           "linecolor": "white",
           "ticks": "",
           "title": {
            "standoff": 15
           },
           "zerolinecolor": "white",
           "zerolinewidth": 2
          },
          "yaxis": {
           "automargin": true,
           "gridcolor": "white",
           "linecolor": "white",
           "ticks": "",
           "title": {
            "standoff": 15
           },
           "zerolinecolor": "white",
           "zerolinewidth": 2
          }
         }
        },
        "title": {
         "text": "Chief Actions by Day"
        },
        "xaxis": {
         "title": {
          "text": "Day"
         }
        },
        "yaxis": {
         "title": {
          "text": "Active (1) / Inactive (0)"
         }
        }
       }
      }
     },
     "metadata": {},
     "output_type": "display_data"
    },
    {
     "data": {
      "application/vnd.plotly.v1+json": {
       "config": {
        "plotlyServerURL": "https://plot.ly"
       },
       "data": [
        {
         "mode": "lines+markers",
         "name": "increase_power_output",
         "type": "scatter",
         "x": [
          0,
          1,
          2,
          3,
          4,
          5,
          6,
          7,
          8,
          9,
          10,
          11,
          12,
          13,
          14,
          15,
          16,
          17,
          18,
          19,
          20,
          21,
          22,
          23,
          24,
          25,
          26,
          27,
          28,
          29,
          30,
          31,
          32,
          33,
          34,
          35,
          36,
          37,
          38,
          39,
          40,
          41,
          42,
          43,
          44,
          45,
          46,
          47,
          48,
          49,
          50,
          51,
          52,
          53,
          54,
          55,
          56,
          57,
          58,
          59,
          60,
          61,
          62,
          63,
          64,
          65,
          66,
          67,
          68,
          69,
          70,
          71,
          72,
          73,
          74,
          75,
          76,
          77,
          78,
          79,
          80,
          81,
          82,
          83,
          84,
          85,
          86,
          87,
          88,
          89,
          90,
          91,
          92,
          93,
          94,
          95,
          96,
          97,
          98,
          99,
          100,
          101,
          102,
          103,
          104,
          105,
          106,
          107,
          108,
          109,
          110,
          111,
          112,
          113,
          114,
          115,
          116,
          117,
          118,
          119,
          120,
          121,
          122,
          123,
          124,
          125,
          126,
          127,
          128,
          129,
          130,
          131,
          132,
          133,
          134,
          135,
          136,
          137,
          138,
          139,
          140,
          141,
          142,
          143,
          144,
          145,
          146,
          147,
          148,
          149
         ],
         "y": [
          0,
          0,
          0,
          0,
          0,
          0,
          0,
          0,
          0,
          0,
          0,
          0,
          0,
          0,
          0,
          0,
          0,
          0,
          0,
          0,
          0,
          0,
          1,
          2,
          2,
          2,
          2,
          3,
          4,
          3,
          4,
          3,
          3,
          3,
          3,
          5,
          4,
          5,
          4,
          3,
          3,
          4,
          4,
          3,
          2,
          3,
          3,
          3,
          3,
          3,
          3,
          3,
          2,
          3,
          2,
          3,
          3,
          3,
          3,
          4,
          2,
          2,
          3,
          3,
          3,
          3,
          2,
          4,
          4,
          4,
          3,
          2,
          4,
          5,
          5,
          4,
          3,
          2,
          0,
          0,
          0,
          0,
          0,
          0,
          0,
          0,
          0,
          1,
          0,
          0,
          2,
          2,
          3,
          3,
          4,
          3,
          3,
          3,
          3,
          3,
          3,
          3,
          2,
          3,
          3,
          3,
          3,
          1,
          1,
          2,
          2,
          4,
          3,
          4,
          4,
          3,
          4,
          4,
          4,
          4,
          4,
          4,
          4,
          3,
          3,
          3,
          2,
          2,
          0,
          0,
          0,
          0,
          0,
          0,
          0,
          0,
          0,
          1,
          3,
          3,
          3,
          3,
          3,
          3,
          2,
          0,
          0,
          2,
          3,
          3
         ]
        },
        {
         "mode": "lines+markers",
         "name": "operate_at_full_capacity",
         "type": "scatter",
         "x": [
          0,
          1,
          2,
          3,
          4,
          5,
          6,
          7,
          8,
          9,
          10,
          11,
          12,
          13,
          14,
          15,
          16,
          17,
          18,
          19,
          20,
          21,
          22,
          23,
          24,
          25,
          26,
          27,
          28,
          29,
          30,
          31,
          32,
          33,
          34,
          35,
          36,
          37,
          38,
          39,
          40,
          41,
          42,
          43,
          44,
          45,
          46,
          47,
          48,
          49,
          50,
          51,
          52,
          53,
          54,
          55,
          56,
          57,
          58,
          59,
          60,
          61,
          62,
          63,
          64,
          65,
          66,
          67,
          68,
          69,
          70,
          71,
          72,
          73,
          74,
          75,
          76,
          77,
          78,
          79,
          80,
          81,
          82,
          83,
          84,
          85,
          86,
          87,
          88,
          89,
          90,
          91,
          92,
          93,
          94,
          95,
          96,
          97,
          98,
          99,
          100,
          101,
          102,
          103,
          104,
          105,
          106,
          107,
          108,
          109,
          110,
          111,
          112,
          113,
          114,
          115,
          116,
          117,
          118,
          119,
          120,
          121,
          122,
          123,
          124,
          125,
          126,
          127,
          128,
          129,
          130,
          131,
          132,
          133,
          134,
          135,
          136,
          137,
          138,
          139,
          140,
          141,
          142,
          143,
          144,
          145,
          146,
          147,
          148,
          149
         ],
         "y": [
          8,
          8,
          8,
          8,
          8,
          8,
          7,
          7,
          7,
          7,
          7,
          7,
          7,
          7,
          7,
          8,
          8,
          8,
          8,
          7,
          7,
          7,
          0,
          0,
          0,
          0,
          0,
          0,
          0,
          0,
          0,
          0,
          0,
          0,
          0,
          0,
          0,
          0,
          0,
          0,
          0,
          0,
          0,
          0,
          0,
          0,
          0,
          0,
          0,
          0,
          0,
          0,
          0,
          0,
          0,
          0,
          0,
          0,
          0,
          0,
          0,
          0,
          0,
          0,
          0,
          0,
          0,
          0,
          0,
          0,
          0,
          0,
          0,
          0,
          0,
          0,
          0,
          0,
          7,
          7,
          7,
          6,
          6,
          6,
          6,
          6,
          6,
          0,
          6,
          6,
          0,
          0,
          0,
          0,
          0,
          0,
          0,
          0,
          0,
          0,
          0,
          0,
          0,
          0,
          0,
          0,
          0,
          0,
          0,
          0,
          0,
          0,
          0,
          0,
          0,
          0,
          0,
          0,
          0,
          0,
          0,
          0,
          0,
          0,
          0,
          0,
          0,
          0,
          7,
          7,
          7,
          7,
          7,
          7,
          7,
          7,
          7,
          0,
          0,
          0,
          0,
          0,
          0,
          0,
          0,
          7,
          7,
          0,
          0,
          0
         ]
        },
        {
         "mode": "lines+markers",
         "name": "perform_maintenance_on_parts",
         "type": "scatter",
         "x": [
          0,
          1,
          2,
          3,
          4,
          5,
          6,
          7,
          8,
          9,
          10,
          11,
          12,
          13,
          14,
          15,
          16,
          17,
          18,
          19,
          20,
          21,
          22,
          23,
          24,
          25,
          26,
          27,
          28,
          29,
          30,
          31,
          32,
          33,
          34,
          35,
          36,
          37,
          38,
          39,
          40,
          41,
          42,
          43,
          44,
          45,
          46,
          47,
          48,
          49,
          50,
          51,
          52,
          53,
          54,
          55,
          56,
          57,
          58,
          59,
          60,
          61,
          62,
          63,
          64,
          65,
          66,
          67,
          68,
          69,
          70,
          71,
          72,
          73,
          74,
          75,
          76,
          77,
          78,
          79,
          80,
          81,
          82,
          83,
          84,
          85,
          86,
          87,
          88,
          89,
          90,
          91,
          92,
          93,
          94,
          95,
          96,
          97,
          98,
          99,
          100,
          101,
          102,
          103,
          104,
          105,
          106,
          107,
          108,
          109,
          110,
          111,
          112,
          113,
          114,
          115,
          116,
          117,
          118,
          119,
          120,
          121,
          122,
          123,
          124,
          125,
          126,
          127,
          128,
          129,
          130,
          131,
          132,
          133,
          134,
          135,
          136,
          137,
          138,
          139,
          140,
          141,
          142,
          143,
          144,
          145,
          146,
          147,
          148,
          149
         ],
         "y": [
          0,
          0,
          0,
          0,
          0,
          0,
          0,
          0,
          0,
          0,
          0,
          0,
          0,
          0,
          0,
          0,
          0,
          0,
          0,
          0,
          0,
          0,
          0,
          0,
          0,
          0,
          0,
          0,
          0,
          0,
          0,
          0,
          0,
          0,
          0,
          0,
          0,
          0,
          0,
          0,
          0,
          0,
          0,
          0,
          0,
          0,
          0,
          0,
          0,
          0,
          0,
          0,
          1,
          0,
          0,
          0,
          0,
          0,
          0,
          0,
          0,
          0,
          0,
          0,
          0,
          0,
          0,
          0,
          0,
          0,
          0,
          2,
          0,
          0,
          0,
          0,
          0,
          0,
          0,
          0,
          0,
          0,
          0,
          0,
          0,
          0,
          0,
          0,
          1,
          1,
          0,
          0,
          1,
          1,
          0,
          0,
          0,
          0,
          0,
          0,
          1,
          0,
          1,
          0,
          1,
          0,
          0,
          0,
          0,
          1,
          1,
          0,
          0,
          0,
          0,
          1,
          0,
          0,
          0,
          0,
          0,
          1,
          0,
          0,
          1,
          0,
          1,
          1,
          0,
          0,
          0,
          0,
          1,
          1,
          1,
          1,
          1,
          1,
          0,
          0,
          0,
          0,
          0,
          0,
          0,
          0,
          0,
          1,
          0,
          1
         ]
        },
        {
         "mode": "lines+markers",
         "name": "reduce_downtime",
         "type": "scatter",
         "x": [
          0,
          1,
          2,
          3,
          4,
          5,
          6,
          7,
          8,
          9,
          10,
          11,
          12,
          13,
          14,
          15,
          16,
          17,
          18,
          19,
          20,
          21,
          22,
          23,
          24,
          25,
          26,
          27,
          28,
          29,
          30,
          31,
          32,
          33,
          34,
          35,
          36,
          37,
          38,
          39,
          40,
          41,
          42,
          43,
          44,
          45,
          46,
          47,
          48,
          49,
          50,
          51,
          52,
          53,
          54,
          55,
          56,
          57,
          58,
          59,
          60,
          61,
          62,
          63,
          64,
          65,
          66,
          67,
          68,
          69,
          70,
          71,
          72,
          73,
          74,
          75,
          76,
          77,
          78,
          79,
          80,
          81,
          82,
          83,
          84,
          85,
          86,
          87,
          88,
          89,
          90,
          91,
          92,
          93,
          94,
          95,
          96,
          97,
          98,
          99,
          100,
          101,
          102,
          103,
          104,
          105,
          106,
          107,
          108,
          109,
          110,
          111,
          112,
          113,
          114,
          115,
          116,
          117,
          118,
          119,
          120,
          121,
          122,
          123,
          124,
          125,
          126,
          127,
          128,
          129,
          130,
          131,
          132,
          133,
          134,
          135,
          136,
          137,
          138,
          139,
          140,
          141,
          142,
          143,
          144,
          145,
          146,
          147,
          148,
          149
         ],
         "y": [
          0,
          0,
          0,
          0,
          0,
          0,
          0,
          0,
          0,
          0,
          0,
          0,
          0,
          0,
          0,
          0,
          0,
          0,
          0,
          0,
          0,
          0,
          3,
          0,
          0,
          0,
          0,
          0,
          0,
          1,
          0,
          1,
          0,
          1,
          0,
          0,
          1,
          0,
          0,
          2,
          1,
          0,
          0,
          1,
          0,
          1,
          0,
          0,
          0,
          1,
          0,
          0,
          0,
          1,
          1,
          0,
          0,
          0,
          0,
          0,
          0,
          0,
          0,
          1,
          0,
          0,
          1,
          0,
          0,
          0,
          1,
          1,
          1,
          1,
          0,
          0,
          0,
          0,
          0,
          0,
          0,
          0,
          0,
          0,
          0,
          0,
          0,
          3,
          0,
          0,
          2,
          1,
          0,
          1,
          1,
          1,
          0,
          0,
          1,
          1,
          0,
          1,
          1,
          1,
          0,
          1,
          0,
          1,
          1,
          0,
          1,
          0,
          1,
          0,
          0,
          0,
          0,
          0,
          0,
          0,
          0,
          0,
          1,
          0,
          0,
          1,
          0,
          3,
          0,
          0,
          0,
          0,
          0,
          0,
          0,
          0,
          0,
          3,
          0,
          1,
          0,
          0,
          0,
          0,
          1,
          0,
          0,
          1,
          0,
          0
         ]
        },
        {
         "mode": "lines+markers",
         "name": "prioritize_repair_of_critical_parts",
         "type": "scatter",
         "x": [
          0,
          1,
          2,
          3,
          4,
          5,
          6,
          7,
          8,
          9,
          10,
          11,
          12,
          13,
          14,
          15,
          16,
          17,
          18,
          19,
          20,
          21,
          22,
          23,
          24,
          25,
          26,
          27,
          28,
          29,
          30,
          31,
          32,
          33,
          34,
          35,
          36,
          37,
          38,
          39,
          40,
          41,
          42,
          43,
          44,
          45,
          46,
          47,
          48,
          49,
          50,
          51,
          52,
          53,
          54,
          55,
          56,
          57,
          58,
          59,
          60,
          61,
          62,
          63,
          64,
          65,
          66,
          67,
          68,
          69,
          70,
          71,
          72,
          73,
          74,
          75,
          76,
          77,
          78,
          79,
          80,
          81,
          82,
          83,
          84,
          85,
          86,
          87,
          88,
          89,
          90,
          91,
          92,
          93,
          94,
          95,
          96,
          97,
          98,
          99,
          100,
          101,
          102,
          103,
          104,
          105,
          106,
          107,
          108,
          109,
          110,
          111,
          112,
          113,
          114,
          115,
          116,
          117,
          118,
          119,
          120,
          121,
          122,
          123,
          124,
          125,
          126,
          127,
          128,
          129,
          130,
          131,
          132,
          133,
          134,
          135,
          136,
          137,
          138,
          139,
          140,
          141,
          142,
          143,
          144,
          145,
          146,
          147,
          148,
          149
         ],
         "y": [
          0,
          0,
          0,
          0,
          0,
          0,
          0,
          0,
          0,
          0,
          0,
          0,
          0,
          0,
          0,
          0,
          0,
          0,
          0,
          0,
          0,
          0,
          0,
          0,
          0,
          0,
          0,
          0,
          0,
          0,
          0,
          0,
          0,
          0,
          0,
          0,
          0,
          0,
          0,
          0,
          0,
          0,
          0,
          0,
          0,
          0,
          0,
          0,
          0,
          0,
          0,
          0,
          0,
          0,
          0,
          0,
          0,
          0,
          0,
          0,
          0,
          0,
          0,
          0,
          0,
          0,
          0,
          0,
          0,
          0,
          0,
          0,
          0,
          0,
          0,
          0,
          0,
          0,
          0,
          0,
          0,
          0,
          0,
          0,
          0,
          0,
          0,
          0,
          0,
          0,
          0,
          0,
          0,
          0,
          0,
          0,
          0,
          0,
          0,
          0,
          0,
          0,
          0,
          0,
          0,
          0,
          0,
          0,
          0,
          0,
          0,
          0,
          0,
          0,
          0,
          0,
          0,
          0,
          0,
          0,
          0,
          0,
          0,
          0,
          0,
          0,
          0,
          0,
          0,
          0,
          0,
          0,
          0,
          0,
          0,
          0,
          0,
          0,
          0,
          0,
          0,
          0,
          0,
          0,
          0,
          0,
          0,
          0,
          0,
          0
         ]
        },
        {
         "mode": "lines+markers",
         "name": "repair_parts",
         "type": "scatter",
         "x": [
          0,
          1,
          2,
          3,
          4,
          5,
          6,
          7,
          8,
          9,
          10,
          11,
          12,
          13,
          14,
          15,
          16,
          17,
          18,
          19,
          20,
          21,
          22,
          23,
          24,
          25,
          26,
          27,
          28,
          29,
          30,
          31,
          32,
          33,
          34,
          35,
          36,
          37,
          38,
          39,
          40,
          41,
          42,
          43,
          44,
          45,
          46,
          47,
          48,
          49,
          50,
          51,
          52,
          53,
          54,
          55,
          56,
          57,
          58,
          59,
          60,
          61,
          62,
          63,
          64,
          65,
          66,
          67,
          68,
          69,
          70,
          71,
          72,
          73,
          74,
          75,
          76,
          77,
          78,
          79,
          80,
          81,
          82,
          83,
          84,
          85,
          86,
          87,
          88,
          89,
          90,
          91,
          92,
          93,
          94,
          95,
          96,
          97,
          98,
          99,
          100,
          101,
          102,
          103,
          104,
          105,
          106,
          107,
          108,
          109,
          110,
          111,
          112,
          113,
          114,
          115,
          116,
          117,
          118,
          119,
          120,
          121,
          122,
          123,
          124,
          125,
          126,
          127,
          128,
          129,
          130,
          131,
          132,
          133,
          134,
          135,
          136,
          137,
          138,
          139,
          140,
          141,
          142,
          143,
          144,
          145,
          146,
          147,
          148,
          149
         ],
         "y": [
          0,
          0,
          0,
          0,
          0,
          0,
          1,
          1,
          1,
          1,
          1,
          1,
          1,
          1,
          1,
          0,
          0,
          0,
          0,
          1,
          1,
          1,
          0,
          0,
          0,
          0,
          0,
          0,
          0,
          0,
          0,
          0,
          0,
          0,
          0,
          0,
          0,
          0,
          0,
          0,
          0,
          0,
          0,
          0,
          0,
          0,
          0,
          0,
          0,
          0,
          0,
          0,
          0,
          0,
          0,
          0,
          0,
          0,
          0,
          0,
          0,
          0,
          0,
          0,
          0,
          0,
          0,
          0,
          0,
          0,
          0,
          0,
          0,
          0,
          0,
          0,
          0,
          0,
          1,
          1,
          1,
          2,
          2,
          2,
          2,
          2,
          2,
          0,
          1,
          1,
          0,
          0,
          0,
          0,
          0,
          0,
          0,
          0,
          0,
          0,
          0,
          0,
          0,
          0,
          0,
          0,
          0,
          0,
          0,
          0,
          0,
          0,
          0,
          0,
          0,
          0,
          0,
          0,
          0,
          0,
          0,
          0,
          0,
          0,
          0,
          0,
          0,
          0,
          1,
          1,
          1,
          1,
          0,
          0,
          0,
          0,
          0,
          0,
          0,
          0,
          0,
          0,
          0,
          0,
          0,
          1,
          1,
          0,
          0,
          0
         ]
        }
       ],
       "layout": {
        "height": 800,
        "template": {
         "data": {
          "bar": [
           {
            "error_x": {
             "color": "#2a3f5f"
            },
            "error_y": {
             "color": "#2a3f5f"
            },
            "marker": {
             "line": {
              "color": "#E5ECF6",
              "width": 0.5
             },
             "pattern": {
              "fillmode": "overlay",
              "size": 10,
              "solidity": 0.2
             }
            },
            "type": "bar"
           }
          ],
          "barpolar": [
           {
            "marker": {
             "line": {
              "color": "#E5ECF6",
              "width": 0.5
             },
             "pattern": {
              "fillmode": "overlay",
              "size": 10,
              "solidity": 0.2
             }
            },
            "type": "barpolar"
           }
          ],
          "carpet": [
           {
            "aaxis": {
             "endlinecolor": "#2a3f5f",
             "gridcolor": "white",
             "linecolor": "white",
             "minorgridcolor": "white",
             "startlinecolor": "#2a3f5f"
            },
            "baxis": {
             "endlinecolor": "#2a3f5f",
             "gridcolor": "white",
             "linecolor": "white",
             "minorgridcolor": "white",
             "startlinecolor": "#2a3f5f"
            },
            "type": "carpet"
           }
          ],
          "choropleth": [
           {
            "colorbar": {
             "outlinewidth": 0,
             "ticks": ""
            },
            "type": "choropleth"
           }
          ],
          "contour": [
           {
            "colorbar": {
             "outlinewidth": 0,
             "ticks": ""
            },
            "colorscale": [
             [
              0,
              "#0d0887"
             ],
             [
              0.1111111111111111,
              "#46039f"
             ],
             [
              0.2222222222222222,
              "#7201a8"
             ],
             [
              0.3333333333333333,
              "#9c179e"
             ],
             [
              0.4444444444444444,
              "#bd3786"
             ],
             [
              0.5555555555555556,
              "#d8576b"
             ],
             [
              0.6666666666666666,
              "#ed7953"
             ],
             [
              0.7777777777777778,
              "#fb9f3a"
             ],
             [
              0.8888888888888888,
              "#fdca26"
             ],
             [
              1,
              "#f0f921"
             ]
            ],
            "type": "contour"
           }
          ],
          "contourcarpet": [
           {
            "colorbar": {
             "outlinewidth": 0,
             "ticks": ""
            },
            "type": "contourcarpet"
           }
          ],
          "heatmap": [
           {
            "colorbar": {
             "outlinewidth": 0,
             "ticks": ""
            },
            "colorscale": [
             [
              0,
              "#0d0887"
             ],
             [
              0.1111111111111111,
              "#46039f"
             ],
             [
              0.2222222222222222,
              "#7201a8"
             ],
             [
              0.3333333333333333,
              "#9c179e"
             ],
             [
              0.4444444444444444,
              "#bd3786"
             ],
             [
              0.5555555555555556,
              "#d8576b"
             ],
             [
              0.6666666666666666,
              "#ed7953"
             ],
             [
              0.7777777777777778,
              "#fb9f3a"
             ],
             [
              0.8888888888888888,
              "#fdca26"
             ],
             [
              1,
              "#f0f921"
             ]
            ],
            "type": "heatmap"
           }
          ],
          "heatmapgl": [
           {
            "colorbar": {
             "outlinewidth": 0,
             "ticks": ""
            },
            "colorscale": [
             [
              0,
              "#0d0887"
             ],
             [
              0.1111111111111111,
              "#46039f"
             ],
             [
              0.2222222222222222,
              "#7201a8"
             ],
             [
              0.3333333333333333,
              "#9c179e"
             ],
             [
              0.4444444444444444,
              "#bd3786"
             ],
             [
              0.5555555555555556,
              "#d8576b"
             ],
             [
              0.6666666666666666,
              "#ed7953"
             ],
             [
              0.7777777777777778,
              "#fb9f3a"
             ],
             [
              0.8888888888888888,
              "#fdca26"
             ],
             [
              1,
              "#f0f921"
             ]
            ],
            "type": "heatmapgl"
           }
          ],
          "histogram": [
           {
            "marker": {
             "pattern": {
              "fillmode": "overlay",
              "size": 10,
              "solidity": 0.2
             }
            },
            "type": "histogram"
           }
          ],
          "histogram2d": [
           {
            "colorbar": {
             "outlinewidth": 0,
             "ticks": ""
            },
            "colorscale": [
             [
              0,
              "#0d0887"
             ],
             [
              0.1111111111111111,
              "#46039f"
             ],
             [
              0.2222222222222222,
              "#7201a8"
             ],
             [
              0.3333333333333333,
              "#9c179e"
             ],
             [
              0.4444444444444444,
              "#bd3786"
             ],
             [
              0.5555555555555556,
              "#d8576b"
             ],
             [
              0.6666666666666666,
              "#ed7953"
             ],
             [
              0.7777777777777778,
              "#fb9f3a"
             ],
             [
              0.8888888888888888,
              "#fdca26"
             ],
             [
              1,
              "#f0f921"
             ]
            ],
            "type": "histogram2d"
           }
          ],
          "histogram2dcontour": [
           {
            "colorbar": {
             "outlinewidth": 0,
             "ticks": ""
            },
            "colorscale": [
             [
              0,
              "#0d0887"
             ],
             [
              0.1111111111111111,
              "#46039f"
             ],
             [
              0.2222222222222222,
              "#7201a8"
             ],
             [
              0.3333333333333333,
              "#9c179e"
             ],
             [
              0.4444444444444444,
              "#bd3786"
             ],
             [
              0.5555555555555556,
              "#d8576b"
             ],
             [
              0.6666666666666666,
              "#ed7953"
             ],
             [
              0.7777777777777778,
              "#fb9f3a"
             ],
             [
              0.8888888888888888,
              "#fdca26"
             ],
             [
              1,
              "#f0f921"
             ]
            ],
            "type": "histogram2dcontour"
           }
          ],
          "mesh3d": [
           {
            "colorbar": {
             "outlinewidth": 0,
             "ticks": ""
            },
            "type": "mesh3d"
           }
          ],
          "parcoords": [
           {
            "line": {
             "colorbar": {
              "outlinewidth": 0,
              "ticks": ""
             }
            },
            "type": "parcoords"
           }
          ],
          "pie": [
           {
            "automargin": true,
            "type": "pie"
           }
          ],
          "scatter": [
           {
            "fillpattern": {
             "fillmode": "overlay",
             "size": 10,
             "solidity": 0.2
            },
            "type": "scatter"
           }
          ],
          "scatter3d": [
           {
            "line": {
             "colorbar": {
              "outlinewidth": 0,
              "ticks": ""
             }
            },
            "marker": {
             "colorbar": {
              "outlinewidth": 0,
              "ticks": ""
             }
            },
            "type": "scatter3d"
           }
          ],
          "scattercarpet": [
           {
            "marker": {
             "colorbar": {
              "outlinewidth": 0,
              "ticks": ""
             }
            },
            "type": "scattercarpet"
           }
          ],
          "scattergeo": [
           {
            "marker": {
             "colorbar": {
              "outlinewidth": 0,
              "ticks": ""
             }
            },
            "type": "scattergeo"
           }
          ],
          "scattergl": [
           {
            "marker": {
             "colorbar": {
              "outlinewidth": 0,
              "ticks": ""
             }
            },
            "type": "scattergl"
           }
          ],
          "scattermapbox": [
           {
            "marker": {
             "colorbar": {
              "outlinewidth": 0,
              "ticks": ""
             }
            },
            "type": "scattermapbox"
           }
          ],
          "scatterpolar": [
           {
            "marker": {
             "colorbar": {
              "outlinewidth": 0,
              "ticks": ""
             }
            },
            "type": "scatterpolar"
           }
          ],
          "scatterpolargl": [
           {
            "marker": {
             "colorbar": {
              "outlinewidth": 0,
              "ticks": ""
             }
            },
            "type": "scatterpolargl"
           }
          ],
          "scatterternary": [
           {
            "marker": {
             "colorbar": {
              "outlinewidth": 0,
              "ticks": ""
             }
            },
            "type": "scatterternary"
           }
          ],
          "surface": [
           {
            "colorbar": {
             "outlinewidth": 0,
             "ticks": ""
            },
            "colorscale": [
             [
              0,
              "#0d0887"
             ],
             [
              0.1111111111111111,
              "#46039f"
             ],
             [
              0.2222222222222222,
              "#7201a8"
             ],
             [
              0.3333333333333333,
              "#9c179e"
             ],
             [
              0.4444444444444444,
              "#bd3786"
             ],
             [
              0.5555555555555556,
              "#d8576b"
             ],
             [
              0.6666666666666666,
              "#ed7953"
             ],
             [
              0.7777777777777778,
              "#fb9f3a"
             ],
             [
              0.8888888888888888,
              "#fdca26"
             ],
             [
              1,
              "#f0f921"
             ]
            ],
            "type": "surface"
           }
          ],
          "table": [
           {
            "cells": {
             "fill": {
              "color": "#EBF0F8"
             },
             "line": {
              "color": "white"
             }
            },
            "header": {
             "fill": {
              "color": "#C8D4E3"
             },
             "line": {
              "color": "white"
             }
            },
            "type": "table"
           }
          ]
         },
         "layout": {
          "annotationdefaults": {
           "arrowcolor": "#2a3f5f",
           "arrowhead": 0,
           "arrowwidth": 1
          },
          "autotypenumbers": "strict",
          "coloraxis": {
           "colorbar": {
            "outlinewidth": 0,
            "ticks": ""
           }
          },
          "colorscale": {
           "diverging": [
            [
             0,
             "#8e0152"
            ],
            [
             0.1,
             "#c51b7d"
            ],
            [
             0.2,
             "#de77ae"
            ],
            [
             0.3,
             "#f1b6da"
            ],
            [
             0.4,
             "#fde0ef"
            ],
            [
             0.5,
             "#f7f7f7"
            ],
            [
             0.6,
             "#e6f5d0"
            ],
            [
             0.7,
             "#b8e186"
            ],
            [
             0.8,
             "#7fbc41"
            ],
            [
             0.9,
             "#4d9221"
            ],
            [
             1,
             "#276419"
            ]
           ],
           "sequential": [
            [
             0,
             "#0d0887"
            ],
            [
             0.1111111111111111,
             "#46039f"
            ],
            [
             0.2222222222222222,
             "#7201a8"
            ],
            [
             0.3333333333333333,
             "#9c179e"
            ],
            [
             0.4444444444444444,
             "#bd3786"
            ],
            [
             0.5555555555555556,
             "#d8576b"
            ],
            [
             0.6666666666666666,
             "#ed7953"
            ],
            [
             0.7777777777777778,
             "#fb9f3a"
            ],
            [
             0.8888888888888888,
             "#fdca26"
            ],
            [
             1,
             "#f0f921"
            ]
           ],
           "sequentialminus": [
            [
             0,
             "#0d0887"
            ],
            [
             0.1111111111111111,
             "#46039f"
            ],
            [
             0.2222222222222222,
             "#7201a8"
            ],
            [
             0.3333333333333333,
             "#9c179e"
            ],
            [
             0.4444444444444444,
             "#bd3786"
            ],
            [
             0.5555555555555556,
             "#d8576b"
            ],
            [
             0.6666666666666666,
             "#ed7953"
            ],
            [
             0.7777777777777778,
             "#fb9f3a"
            ],
            [
             0.8888888888888888,
             "#fdca26"
            ],
            [
             1,
             "#f0f921"
            ]
           ]
          },
          "colorway": [
           "#636efa",
           "#EF553B",
           "#00cc96",
           "#ab63fa",
           "#FFA15A",
           "#19d3f3",
           "#FF6692",
           "#B6E880",
           "#FF97FF",
           "#FECB52"
          ],
          "font": {
           "color": "#2a3f5f"
          },
          "geo": {
           "bgcolor": "white",
           "lakecolor": "white",
           "landcolor": "#E5ECF6",
           "showlakes": true,
           "showland": true,
           "subunitcolor": "white"
          },
          "hoverlabel": {
           "align": "left"
          },
          "hovermode": "closest",
          "mapbox": {
           "style": "light"
          },
          "paper_bgcolor": "white",
          "plot_bgcolor": "#E5ECF6",
          "polar": {
           "angularaxis": {
            "gridcolor": "white",
            "linecolor": "white",
            "ticks": ""
           },
           "bgcolor": "#E5ECF6",
           "radialaxis": {
            "gridcolor": "white",
            "linecolor": "white",
            "ticks": ""
           }
          },
          "scene": {
           "xaxis": {
            "backgroundcolor": "#E5ECF6",
            "gridcolor": "white",
            "gridwidth": 2,
            "linecolor": "white",
            "showbackground": true,
            "ticks": "",
            "zerolinecolor": "white"
           },
           "yaxis": {
            "backgroundcolor": "#E5ECF6",
            "gridcolor": "white",
            "gridwidth": 2,
            "linecolor": "white",
            "showbackground": true,
            "ticks": "",
            "zerolinecolor": "white"
           },
           "zaxis": {
            "backgroundcolor": "#E5ECF6",
            "gridcolor": "white",
            "gridwidth": 2,
            "linecolor": "white",
            "showbackground": true,
            "ticks": "",
            "zerolinecolor": "white"
           }
          },
          "shapedefaults": {
           "line": {
            "color": "#2a3f5f"
           }
          },
          "ternary": {
           "aaxis": {
            "gridcolor": "white",
            "linecolor": "white",
            "ticks": ""
           },
           "baxis": {
            "gridcolor": "white",
            "linecolor": "white",
            "ticks": ""
           },
           "bgcolor": "#E5ECF6",
           "caxis": {
            "gridcolor": "white",
            "linecolor": "white",
            "ticks": ""
           }
          },
          "title": {
           "x": 0.05
          },
          "xaxis": {
           "automargin": true,
           "gridcolor": "white",
           "linecolor": "white",
           "ticks": "",
           "title": {
            "standoff": 15
           },
           "zerolinecolor": "white",
           "zerolinewidth": 2
          },
          "yaxis": {
           "automargin": true,
           "gridcolor": "white",
           "linecolor": "white",
           "ticks": "",
           "title": {
            "standoff": 15
           },
           "zerolinecolor": "white",
           "zerolinewidth": 2
          }
         }
        },
        "title": {
         "text": "Thermoelectric Agent Actions by Day"
        },
        "xaxis": {
         "title": {
          "text": "Day"
         }
        },
        "yaxis": {
         "title": {
          "text": "Count of Actions"
         }
        }
       }
      }
     },
     "metadata": {},
     "output_type": "display_data"
    }
   ],
   "source": [
    "import pickle\n",
    "\n",
    "### Do something using simulation instance\n",
    "\n",
    "# Plotting general stats for deficit, consume, and demand per day\n",
    "fig = go.Figure()\n",
    "fig.add_trace(\n",
    "    go.Scatter(\n",
    "        x=list(range(len(simulation.general_demand_stats))),\n",
    "        y=simulation.general_demand_stats,\n",
    "        mode=\"lines\",\n",
    "        name=\"Demand\",\n",
    "    )\n",
    ")\n",
    "\n",
    "fig.add_trace(\n",
    "    go.Scatter(\n",
    "        x=list(range(len(simulation.general_stored_energy))),\n",
    "        y=simulation.general_stored_energy,\n",
    "        mode=\"lines\",\n",
    "        name=\"Stored Energy\",\n",
    "    )\n",
    ")\n",
    "\n",
    "fig.add_trace(\n",
    "    go.Scatter(\n",
    "        x=list(range(len(simulation.general_consume_stats))),\n",
    "        y=simulation.general_consume_stats,\n",
    "        mode=\"lines\",\n",
    "        name=\"Consume\",\n",
    "    )\n",
    ")\n",
    "fig.add_trace(\n",
    "    go.Scatter(\n",
    "        x=list(range(len(simulation.general_deficit_stats))),\n",
    "        y=simulation.general_deficit_stats,\n",
    "        mode=\"lines\",\n",
    "        name=\"Deficit\",\n",
    "    )\n",
    ")\n",
    "fig.update_layout(\n",
    "    title=\"Daily Deficit, Consume, and Demand\",\n",
    "    xaxis_title=\"Day\",\n",
    "    yaxis_title=\"Value\",\n",
    "    height=800,\n",
    ")\n",
    "\n",
    "fig.show()\n",
    "\n",
    "\n",
    "fig_working_thermoelectrics = go.Figure()\n",
    "fig_working_thermoelectrics.add_trace(\n",
    "    go.Scatter(\n",
    "        x=list(range(len(simulation.is_working_thermoelectrics_stats))),\n",
    "        y=[sum(day) for day in simulation.is_working_thermoelectrics_stats],\n",
    "        mode=\"lines\",\n",
    "        name=\"Working Thermoelectrics\",\n",
    "    )\n",
    ")\n",
    "fig_working_thermoelectrics.update_layout(\n",
    "    title=\"Working Thermoelectrics per Day\",\n",
    "    xaxis_title=\"Day\",\n",
    "    yaxis_title=\"Number of Working Thermoelectrics\",\n",
    "    height=800,\n",
    ")\n",
    "\n",
    "fig_working_thermoelectrics.show()\n",
    "\n",
    "\n",
    "fig_generation = go.Figure()\n",
    "\n",
    "for th_index in range(len(simulation.world_state_manager.thermoelectrics)):\n",
    "    fig_generation.add_trace(\n",
    "        go.Scatter(\n",
    "            x=list(range(len(simulation.generation_stats))),\n",
    "            y=[day[th_index] for day in simulation.generation_stats],\n",
    "            mode=\"lines\",\n",
    "            name=f\"Thermoelectric {th_index}\",\n",
    "        )\n",
    "    )\n",
    "\n",
    "\n",
    "fig_generation.show()\n",
    "\n",
    "\n",
    "fig_offer = go.Figure()\n",
    "fig_offer.add_trace(\n",
    "    go.Scatter(\n",
    "        x=list(range(len(simulation.general_offer_stats))),\n",
    "        y=simulation.general_offer_stats,\n",
    "        mode=\"lines\",\n",
    "        name=\"Offer\",\n",
    "    )\n",
    ")\n",
    "fig_offer.update_layout(\n",
    "    title=\"Daily Offer\", xaxis_title=\"Day\", yaxis_title=\"Value\", height=800\n",
    ")\n",
    "\n",
    "fig_offer.show()\n",
    "\n",
    "# chief actions\n",
    "dias = list(range(len(simulation.chief_agent_actions)))\n",
    "propiedades = list(vars(simulation.chief_agent_actions[0]).keys())\n",
    "\n",
    "data_matrix = []\n",
    "for i in dias:\n",
    "    row = [\n",
    "        1 if getattr(simulation.chief_agent_actions[i], prop) else 0\n",
    "        for prop in propiedades\n",
    "    ]\n",
    "    data_matrix.append(row)\n",
    "\n",
    "fig = go.Figure()\n",
    "\n",
    "for i, prop in enumerate(propiedades):\n",
    "    fig.add_trace(\n",
    "        go.Scatter(\n",
    "            x=dias, y=[row[i] for row in data_matrix], mode=\"lines+markers\", name=prop\n",
    "        )\n",
    "    )\n",
    "\n",
    "fig.update_layout(\n",
    "    title=\"Chief Actions by Day\",\n",
    "    xaxis_title=\"Day\",\n",
    "    yaxis_title=\"Active (1) / Inactive (0)\",\n",
    "    height=800,\n",
    ")\n",
    "\n",
    "fig.show()\n",
    "\n",
    "\n",
    "# thermoelectric agent actions\n",
    "\n",
    "\n",
    "day_i = simulation.process_thermoelectric_agent_actions()\n",
    "\n",
    "propiedades = list(vars(simulation.thermoelectric_agent_actions[0][0]).keys())\n",
    "\n",
    "dias = list(range(len(day_i)))\n",
    "\n",
    "fig = go.Figure()\n",
    "\n",
    "for prop in propiedades:\n",
    "    fig.add_trace(\n",
    "        go.Scatter(\n",
    "            x=dias,\n",
    "            y=[day.get(prop, 0) for day in day_i],\n",
    "            mode=\"lines+markers\",\n",
    "            name=prop,\n",
    "        )\n",
    "    )\n",
    "\n",
    "fig.update_layout(\n",
    "    title=\"Thermoelectric Agent Actions by Day\",\n",
    "    xaxis_title=\"Day\",\n",
    "    yaxis_title=\"Count of Actions\",\n",
    "    height=800,\n",
    ")\n",
    "\n",
    "fig.show()\n",
    "\n",
    "\n",
    "class SimulationCloneDumperClass:\n",
    "    def __init__(self, simulation: Simulation):\n",
    "        self.world_state_manager = simulation.world_state_manager\n",
    "        self.thermoelectric_agents = simulation.thermoelectric_agents\n",
    "        self.thermoelectric_agent_actions = simulation.thermoelectric_agent_actions\n",
    "        # self.chief_agent = simulation.chief_agent\n",
    "        self.chief_agent_actions = simulation.chief_agent_actions\n",
    "\n",
    "        # STATS\n",
    "        self.general_deficit_stats = simulation.general_deficit_stats\n",
    "        self.general_consume_stats = simulation.general_consume_stats\n",
    "        self.general_demand_stats = simulation.general_demand_stats\n",
    "        self.general_opinion_stats = simulation.general_opinion_stats\n",
    "\n",
    "        self.circuits_stats_daily_deficit = simulation.circuits_stats_daily_deficit\n",
    "        self.circuits_stats_daily_demand = simulation.circuits_stats_daily_demand\n",
    "        self.circuits_stats_daily_consume = simulation.circuits_stats_daily_consume\n",
    "        self.circuits_stats_daily_opinion = simulation.circuits_stats_daily_opinion\n",
    "\n",
    "        self.blocks_stats_daily_deficit = simulation.blocks_stats_daily_deficit\n",
    "        self.blocks_stats_daily_demand = simulation.blocks_stats_daily_demand\n",
    "        self.blocks_stats_daily_consume = simulation.blocks_stats_daily_consume\n",
    "        self.blocks_stats_daily_opinion = simulation.blocks_stats_daily_opinion\n",
    "\n",
    "        self.general_offer_stats = simulation.general_offer_stats\n",
    "        self.general_stored_energy = simulation.general_stored_energy\n",
    "\n",
    "        self.generation_stats = simulation.generation_stats\n",
    "        self.is_working_thermoelectrics_stats = (\n",
    "            simulation.is_working_thermoelectrics_stats\n",
    "        )\n",
    "        self.stored_energy_stats = simulation.stored_energy_stats\n",
    "\n",
    "        self.daily_distribution_block_thermoelectric = (\n",
    "            simulation.daily_distribution_block_thermoelectric\n",
    "        )\n",
    "        self.fitness = simulation.fitness\n",
    "\n",
    "\n",
    "simulationDumper = SimulationCloneDumperClass(simulation=simulation)\n",
    "with open(\"simulation_instance.pkl\", \"wb\") as file:\n",
    "    pickle.dump(simulationDumper, file)"
   ]
  }
 ],
 "metadata": {
  "kernelspec": {
   "display_name": "base",
   "language": "python",
   "name": "python3"
  },
  "language_info": {
   "codemirror_mode": {
    "name": "ipython",
    "version": 3
   },
   "file_extension": ".py",
   "mimetype": "text/x-python",
   "name": "python",
   "nbconvert_exporter": "python",
   "pygments_lexer": "ipython3",
   "version": "3.11.10"
  }
 },
 "nbformat": 4,
 "nbformat_minor": 2
}
