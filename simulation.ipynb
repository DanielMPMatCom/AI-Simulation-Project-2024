{
 "cells": [
  {
   "cell_type": "markdown",
   "metadata": {},
   "source": [
    "# Simulation of an Electric System based on Thermoelectrics Plants"
   ]
  },
  {
   "cell_type": "code",
   "execution_count": 1,
   "metadata": {},
   "outputs": [],
   "source": [
    "from src.map import Map2D, GraphMap\n",
    "from src.utils.gaussianmixture import DailyElectricityConsumptionBimodal\n",
    "from src.circuits import Circuit, Block\n",
    "from src.thermoelectrics import Thermoelectric\n",
    "import pandas as pd\n",
    "import plotly.express as px\n",
    "import plotly.graph_objects as go\n",
    "\n",
    "from src.simulation_constants import (\n",
    "    NO_CIRCUITS,\n",
    "    NO_THERMOELECTRICS,\n",
    "    MIN_CITIZEN,\n",
    "    MAX_CITIZEN,\n",
    "    MAX_DEVIATION_CITIZEN_IN_BLOCK,\n",
    "    DEMAND_PER_PERSON,\n",
    "    DEMAND_INDUSTRIALIZATION,\n",
    "    VARIABILITY_DEMAND_PER_PERSON,\n",
    "    VARIABILITY_DEMAND_PER_INDUSTRIALIZATION,\n",
    "    PEAK_CONSUMPTION_MORNING,\n",
    "    PEAK_CONSUMPTION_EVENING,\n",
    "    MAX_DEVIATION_MORNING,\n",
    "    MAX_DEVIATION_EVENING,\n",
    "    WEIGHT_MORNING,\n",
    "    WEIGHT_EVENING,\n",
    "    MIN_BLOCKS_PER_CIRCUIT,\n",
    "    MAX_BLOCKS_PER_CIRCUIT,\n",
    "    IMPORTANCE_ALPHA,\n",
    "    RANDOM_SEED,\n",
    "    RANDOM,\n",
    "    DISTANCE_REGULATOR\n",
    ")\n"
   ]
  },
  {
   "cell_type": "markdown",
   "metadata": {},
   "source": [
    "## Initialize bases "
   ]
  },
  {
   "cell_type": "code",
   "execution_count": 2,
   "metadata": {},
   "outputs": [
    {
     "data": {
      "application/vnd.plotly.v1+json": {
       "config": {
        "plotlyServerURL": "https://plot.ly"
       },
       "data": [
        {
         "marker": {
          "color": [
           3,
           6,
           1,
           7,
           7,
           0,
           4,
           5,
           0,
           0,
           3,
           2,
           0,
           7,
           4,
           3,
           7,
           2,
           0,
           3,
           5,
           3,
           0,
           5,
           3,
           7,
           0,
           0,
           1,
           5,
           3,
           1,
           0,
           7,
           6,
           3,
           1,
           4,
           0,
           7,
           1,
           4,
           0,
           0,
           3,
           7,
           0,
           3,
           0,
           7
          ],
          "colorscale": [
           [
            0,
            "#440154"
           ],
           [
            0.1111111111111111,
            "#482878"
           ],
           [
            0.2222222222222222,
            "#3e4989"
           ],
           [
            0.3333333333333333,
            "#31688e"
           ],
           [
            0.4444444444444444,
            "#26828e"
           ],
           [
            0.5555555555555556,
            "#1f9e89"
           ],
           [
            0.6666666666666666,
            "#35b779"
           ],
           [
            0.7777777777777778,
            "#6ece58"
           ],
           [
            0.8888888888888888,
            "#b5de2b"
           ],
           [
            1,
            "#fde725"
           ]
          ],
          "showscale": true,
          "size": 10
         },
         "mode": "markers",
         "name": "Circuits",
         "type": "scatter",
         "x": [
          77.77024105738202,
          82.42785326613685,
          97.26011139048933,
          60.90424627612779,
          64.16133447590691,
          3.5036524101437316,
          5.851249188207475,
          37.28540278748075,
          25.62799493266301,
          0.9412770080969413,
          94.90941816782103,
          31.93913663803646,
          3.190366643989473,
          62.982899910782294,
          0.8715732303784862,
          81.28411710026235,
          65.64553345969578,
          47.988339149638314,
          0.00120335694850926,
          71.22326779115835,
          27.699635638380947,
          91.85517481459487,
          45.80858172767637,
          37.93332914830662,
          77.2378759680558,
          68.60850791873135,
          13.798605275825725,
          24.555910532465564,
          92.59944794902178,
          23.76589218796833,
          55.663205143440265,
          83.97085104160709,
          14.48709890463251,
          49.064013706516086,
          98.4938457701008,
          49.904168390089396,
          91.3212806989643,
          22.658787689942837,
          13.635835175923795,
          59.53992453523792,
          95.89347319832972,
          12.895807457854048,
          20.163407511411524,
          43.71180126508111,
          96.72531085605694,
          84.4558532806118,
          10.930490807954563,
          96.64620412773903,
          8.190006001834515,
          65.01305180131334
         ],
         "y": [
          23.75412200349123,
          96.57491980429998,
          45.34492474173122,
          77.55265146048467,
          72.20182295169472,
          29.84494708891794,
          85.70609425871989,
          67.9847951578097,
          34.758121515249194,
          35.83337827049697,
          21.789900913168893,
          91.77723860005874,
          6.508453704251449,
          87.38134432795387,
          74.65772369939376,
          7.571744617226672,
          50.92622000835182,
          95.55741449310663,
          24.697870099191633,
          32.45820497867131,
          69.54454525534746,
          24.44757021979903,
          25.299268282150646,
          60.4538828631711,
          6.79174967944145,
          54.826009739582524,
          9.875321920491842,
          15.17866625844726,
          68.0105015604642,
          56.88852525565604,
          7.273721088434781,
          40.53194926981314,
          19.092005866659367,
          71.20243742497533,
          87.47865017350445,
          10.677999399370886,
          36.4915960886285,
          87.24318623454285,
          23.638016015282027,
          56.3922609078715,
          45.32393332235999,
          76.056767676739,
          17.57298632131816,
          34.02608028478126,
          14.302607708757154,
          66.94061399806628,
          8.8253540029274,
          19.42974852130065,
          26.938469527986364,
          54.67772453446605
         ]
        },
        {
         "marker": {
          "color": "red",
          "size": 15,
          "symbol": "x"
         },
         "mode": "markers",
         "name": "Thermoelectrics",
         "type": "scatter",
         "x": [
          16.32473082533196,
          92.20903285568244,
          39.96373789383739,
          79.32189834166,
          10.56935439159571,
          31.671064940534162,
          90.46084951811883,
          64.4861517072137
         ],
         "y": [
          22.29206708272511,
          47.14058099659941,
          93.66732654658269,
          16.8497369129662,
          80.91594296734888,
          63.71793713299608,
          92.02678498890222,
          65.78900948371631
         ]
        },
        {
         "marker": {
          "color": "black",
          "size": 12,
          "symbol": "triangle-up"
         },
         "mode": "markers",
         "name": "Tension Towers",
         "type": "scatter",
         "x": [
          13.450577304101664,
          16.32473082533197,
          17.253064851564275,
          39.979679546775685,
          43.40119100274585,
          47.76496867167781,
          53.381685325175,
          54.453182464976585,
          64.4861517072137,
          75.4649059516504,
          75.81865803272113,
          76.64817011347576,
          82.06184830936576,
          87.88482940840254,
          90.75971426400191,
          101.6800491200944
         ],
         "y": [
          77.35613526659026,
          22.29206708272512,
          75.186654605745,
          92.24195665724753,
          62.373625941612545,
          44.320708395757045,
          88.86548957935928,
          63.17303237655272,
          65.78900948371631,
          27.90892337339851,
          18.520442037394922,
          78.36384638851025,
          60.73763992626015,
          7.999496219614333,
          92.93561036277183,
          27.29849798690225
         ]
        },
        {
         "line": {
          "color": "black"
         },
         "mode": "lines",
         "showlegend": false,
         "type": "scatter",
         "x": [
          13.450577304101664,
          16.32473082533197
         ],
         "y": [
          77.35613526659026,
          22.29206708272512
         ]
        },
        {
         "line": {
          "color": "black"
         },
         "mode": "lines",
         "showlegend": false,
         "type": "scatter",
         "x": [
          16.32473082533197,
          17.253064851564275
         ],
         "y": [
          22.29206708272512,
          75.186654605745
         ]
        },
        {
         "line": {
          "color": "black"
         },
         "mode": "lines",
         "showlegend": false,
         "type": "scatter",
         "x": [
          17.253064851564275,
          39.979679546775685
         ],
         "y": [
          75.186654605745,
          92.24195665724753
         ]
        },
        {
         "line": {
          "color": "black"
         },
         "mode": "lines",
         "showlegend": false,
         "type": "scatter",
         "x": [
          39.979679546775685,
          43.40119100274585
         ],
         "y": [
          92.24195665724753,
          62.373625941612545
         ]
        },
        {
         "line": {
          "color": "black"
         },
         "mode": "lines",
         "showlegend": false,
         "type": "scatter",
         "x": [
          43.40119100274585,
          47.76496867167781
         ],
         "y": [
          62.373625941612545,
          44.320708395757045
         ]
        },
        {
         "line": {
          "color": "black"
         },
         "mode": "lines",
         "showlegend": false,
         "type": "scatter",
         "x": [
          47.76496867167781,
          53.381685325175
         ],
         "y": [
          44.320708395757045,
          88.86548957935928
         ]
        },
        {
         "line": {
          "color": "black"
         },
         "mode": "lines",
         "showlegend": false,
         "type": "scatter",
         "x": [
          53.381685325175,
          54.453182464976585
         ],
         "y": [
          88.86548957935928,
          63.17303237655272
         ]
        },
        {
         "line": {
          "color": "black"
         },
         "mode": "lines",
         "showlegend": false,
         "type": "scatter",
         "x": [
          54.453182464976585,
          64.4861517072137
         ],
         "y": [
          63.17303237655272,
          65.78900948371631
         ]
        },
        {
         "line": {
          "color": "black"
         },
         "mode": "lines",
         "showlegend": false,
         "type": "scatter",
         "x": [
          64.4861517072137,
          75.4649059516504
         ],
         "y": [
          65.78900948371631,
          27.90892337339851
         ]
        },
        {
         "line": {
          "color": "black"
         },
         "mode": "lines",
         "showlegend": false,
         "type": "scatter",
         "x": [
          75.4649059516504,
          75.81865803272113
         ],
         "y": [
          27.90892337339851,
          18.520442037394922
         ]
        },
        {
         "line": {
          "color": "black"
         },
         "mode": "lines",
         "showlegend": false,
         "type": "scatter",
         "x": [
          75.81865803272113,
          76.64817011347576
         ],
         "y": [
          18.520442037394922,
          78.36384638851025
         ]
        },
        {
         "line": {
          "color": "black"
         },
         "mode": "lines",
         "showlegend": false,
         "type": "scatter",
         "x": [
          76.64817011347576,
          82.06184830936576
         ],
         "y": [
          78.36384638851025,
          60.73763992626015
         ]
        },
        {
         "line": {
          "color": "black"
         },
         "mode": "lines",
         "showlegend": false,
         "type": "scatter",
         "x": [
          82.06184830936576,
          87.88482940840254
         ],
         "y": [
          60.73763992626015,
          7.999496219614333
         ]
        },
        {
         "line": {
          "color": "black"
         },
         "mode": "lines",
         "showlegend": false,
         "type": "scatter",
         "x": [
          87.88482940840254,
          90.75971426400191
         ],
         "y": [
          7.999496219614333,
          92.93561036277183
         ]
        },
        {
         "line": {
          "color": "black"
         },
         "mode": "lines",
         "showlegend": false,
         "type": "scatter",
         "x": [
          90.75971426400191,
          101.6800491200944
         ],
         "y": [
          92.93561036277183,
          27.29849798690225
         ]
        }
       ],
       "layout": {
        "height": 800,
        "legend": {
         "bgcolor": "rgba(255, 255, 255, 0.5)",
         "bordercolor": "rgba(0, 0, 0, 0.5)",
         "x": 0.01,
         "y": 0.99
        },
        "plot_bgcolor": "lightgreen",
        "template": {
         "data": {
          "bar": [
           {
            "error_x": {
             "color": "#2a3f5f"
            },
            "error_y": {
             "color": "#2a3f5f"
            },
            "marker": {
             "line": {
              "color": "#E5ECF6",
              "width": 0.5
             },
             "pattern": {
              "fillmode": "overlay",
              "size": 10,
              "solidity": 0.2
             }
            },
            "type": "bar"
           }
          ],
          "barpolar": [
           {
            "marker": {
             "line": {
              "color": "#E5ECF6",
              "width": 0.5
             },
             "pattern": {
              "fillmode": "overlay",
              "size": 10,
              "solidity": 0.2
             }
            },
            "type": "barpolar"
           }
          ],
          "carpet": [
           {
            "aaxis": {
             "endlinecolor": "#2a3f5f",
             "gridcolor": "white",
             "linecolor": "white",
             "minorgridcolor": "white",
             "startlinecolor": "#2a3f5f"
            },
            "baxis": {
             "endlinecolor": "#2a3f5f",
             "gridcolor": "white",
             "linecolor": "white",
             "minorgridcolor": "white",
             "startlinecolor": "#2a3f5f"
            },
            "type": "carpet"
           }
          ],
          "choropleth": [
           {
            "colorbar": {
             "outlinewidth": 0,
             "ticks": ""
            },
            "type": "choropleth"
           }
          ],
          "contour": [
           {
            "colorbar": {
             "outlinewidth": 0,
             "ticks": ""
            },
            "colorscale": [
             [
              0,
              "#0d0887"
             ],
             [
              0.1111111111111111,
              "#46039f"
             ],
             [
              0.2222222222222222,
              "#7201a8"
             ],
             [
              0.3333333333333333,
              "#9c179e"
             ],
             [
              0.4444444444444444,
              "#bd3786"
             ],
             [
              0.5555555555555556,
              "#d8576b"
             ],
             [
              0.6666666666666666,
              "#ed7953"
             ],
             [
              0.7777777777777778,
              "#fb9f3a"
             ],
             [
              0.8888888888888888,
              "#fdca26"
             ],
             [
              1,
              "#f0f921"
             ]
            ],
            "type": "contour"
           }
          ],
          "contourcarpet": [
           {
            "colorbar": {
             "outlinewidth": 0,
             "ticks": ""
            },
            "type": "contourcarpet"
           }
          ],
          "heatmap": [
           {
            "colorbar": {
             "outlinewidth": 0,
             "ticks": ""
            },
            "colorscale": [
             [
              0,
              "#0d0887"
             ],
             [
              0.1111111111111111,
              "#46039f"
             ],
             [
              0.2222222222222222,
              "#7201a8"
             ],
             [
              0.3333333333333333,
              "#9c179e"
             ],
             [
              0.4444444444444444,
              "#bd3786"
             ],
             [
              0.5555555555555556,
              "#d8576b"
             ],
             [
              0.6666666666666666,
              "#ed7953"
             ],
             [
              0.7777777777777778,
              "#fb9f3a"
             ],
             [
              0.8888888888888888,
              "#fdca26"
             ],
             [
              1,
              "#f0f921"
             ]
            ],
            "type": "heatmap"
           }
          ],
          "heatmapgl": [
           {
            "colorbar": {
             "outlinewidth": 0,
             "ticks": ""
            },
            "colorscale": [
             [
              0,
              "#0d0887"
             ],
             [
              0.1111111111111111,
              "#46039f"
             ],
             [
              0.2222222222222222,
              "#7201a8"
             ],
             [
              0.3333333333333333,
              "#9c179e"
             ],
             [
              0.4444444444444444,
              "#bd3786"
             ],
             [
              0.5555555555555556,
              "#d8576b"
             ],
             [
              0.6666666666666666,
              "#ed7953"
             ],
             [
              0.7777777777777778,
              "#fb9f3a"
             ],
             [
              0.8888888888888888,
              "#fdca26"
             ],
             [
              1,
              "#f0f921"
             ]
            ],
            "type": "heatmapgl"
           }
          ],
          "histogram": [
           {
            "marker": {
             "pattern": {
              "fillmode": "overlay",
              "size": 10,
              "solidity": 0.2
             }
            },
            "type": "histogram"
           }
          ],
          "histogram2d": [
           {
            "colorbar": {
             "outlinewidth": 0,
             "ticks": ""
            },
            "colorscale": [
             [
              0,
              "#0d0887"
             ],
             [
              0.1111111111111111,
              "#46039f"
             ],
             [
              0.2222222222222222,
              "#7201a8"
             ],
             [
              0.3333333333333333,
              "#9c179e"
             ],
             [
              0.4444444444444444,
              "#bd3786"
             ],
             [
              0.5555555555555556,
              "#d8576b"
             ],
             [
              0.6666666666666666,
              "#ed7953"
             ],
             [
              0.7777777777777778,
              "#fb9f3a"
             ],
             [
              0.8888888888888888,
              "#fdca26"
             ],
             [
              1,
              "#f0f921"
             ]
            ],
            "type": "histogram2d"
           }
          ],
          "histogram2dcontour": [
           {
            "colorbar": {
             "outlinewidth": 0,
             "ticks": ""
            },
            "colorscale": [
             [
              0,
              "#0d0887"
             ],
             [
              0.1111111111111111,
              "#46039f"
             ],
             [
              0.2222222222222222,
              "#7201a8"
             ],
             [
              0.3333333333333333,
              "#9c179e"
             ],
             [
              0.4444444444444444,
              "#bd3786"
             ],
             [
              0.5555555555555556,
              "#d8576b"
             ],
             [
              0.6666666666666666,
              "#ed7953"
             ],
             [
              0.7777777777777778,
              "#fb9f3a"
             ],
             [
              0.8888888888888888,
              "#fdca26"
             ],
             [
              1,
              "#f0f921"
             ]
            ],
            "type": "histogram2dcontour"
           }
          ],
          "mesh3d": [
           {
            "colorbar": {
             "outlinewidth": 0,
             "ticks": ""
            },
            "type": "mesh3d"
           }
          ],
          "parcoords": [
           {
            "line": {
             "colorbar": {
              "outlinewidth": 0,
              "ticks": ""
             }
            },
            "type": "parcoords"
           }
          ],
          "pie": [
           {
            "automargin": true,
            "type": "pie"
           }
          ],
          "scatter": [
           {
            "fillpattern": {
             "fillmode": "overlay",
             "size": 10,
             "solidity": 0.2
            },
            "type": "scatter"
           }
          ],
          "scatter3d": [
           {
            "line": {
             "colorbar": {
              "outlinewidth": 0,
              "ticks": ""
             }
            },
            "marker": {
             "colorbar": {
              "outlinewidth": 0,
              "ticks": ""
             }
            },
            "type": "scatter3d"
           }
          ],
          "scattercarpet": [
           {
            "marker": {
             "colorbar": {
              "outlinewidth": 0,
              "ticks": ""
             }
            },
            "type": "scattercarpet"
           }
          ],
          "scattergeo": [
           {
            "marker": {
             "colorbar": {
              "outlinewidth": 0,
              "ticks": ""
             }
            },
            "type": "scattergeo"
           }
          ],
          "scattergl": [
           {
            "marker": {
             "colorbar": {
              "outlinewidth": 0,
              "ticks": ""
             }
            },
            "type": "scattergl"
           }
          ],
          "scattermapbox": [
           {
            "marker": {
             "colorbar": {
              "outlinewidth": 0,
              "ticks": ""
             }
            },
            "type": "scattermapbox"
           }
          ],
          "scatterpolar": [
           {
            "marker": {
             "colorbar": {
              "outlinewidth": 0,
              "ticks": ""
             }
            },
            "type": "scatterpolar"
           }
          ],
          "scatterpolargl": [
           {
            "marker": {
             "colorbar": {
              "outlinewidth": 0,
              "ticks": ""
             }
            },
            "type": "scatterpolargl"
           }
          ],
          "scatterternary": [
           {
            "marker": {
             "colorbar": {
              "outlinewidth": 0,
              "ticks": ""
             }
            },
            "type": "scatterternary"
           }
          ],
          "surface": [
           {
            "colorbar": {
             "outlinewidth": 0,
             "ticks": ""
            },
            "colorscale": [
             [
              0,
              "#0d0887"
             ],
             [
              0.1111111111111111,
              "#46039f"
             ],
             [
              0.2222222222222222,
              "#7201a8"
             ],
             [
              0.3333333333333333,
              "#9c179e"
             ],
             [
              0.4444444444444444,
              "#bd3786"
             ],
             [
              0.5555555555555556,
              "#d8576b"
             ],
             [
              0.6666666666666666,
              "#ed7953"
             ],
             [
              0.7777777777777778,
              "#fb9f3a"
             ],
             [
              0.8888888888888888,
              "#fdca26"
             ],
             [
              1,
              "#f0f921"
             ]
            ],
            "type": "surface"
           }
          ],
          "table": [
           {
            "cells": {
             "fill": {
              "color": "#EBF0F8"
             },
             "line": {
              "color": "white"
             }
            },
            "header": {
             "fill": {
              "color": "#C8D4E3"
             },
             "line": {
              "color": "white"
             }
            },
            "type": "table"
           }
          ]
         },
         "layout": {
          "annotationdefaults": {
           "arrowcolor": "#2a3f5f",
           "arrowhead": 0,
           "arrowwidth": 1
          },
          "autotypenumbers": "strict",
          "coloraxis": {
           "colorbar": {
            "outlinewidth": 0,
            "ticks": ""
           }
          },
          "colorscale": {
           "diverging": [
            [
             0,
             "#8e0152"
            ],
            [
             0.1,
             "#c51b7d"
            ],
            [
             0.2,
             "#de77ae"
            ],
            [
             0.3,
             "#f1b6da"
            ],
            [
             0.4,
             "#fde0ef"
            ],
            [
             0.5,
             "#f7f7f7"
            ],
            [
             0.6,
             "#e6f5d0"
            ],
            [
             0.7,
             "#b8e186"
            ],
            [
             0.8,
             "#7fbc41"
            ],
            [
             0.9,
             "#4d9221"
            ],
            [
             1,
             "#276419"
            ]
           ],
           "sequential": [
            [
             0,
             "#0d0887"
            ],
            [
             0.1111111111111111,
             "#46039f"
            ],
            [
             0.2222222222222222,
             "#7201a8"
            ],
            [
             0.3333333333333333,
             "#9c179e"
            ],
            [
             0.4444444444444444,
             "#bd3786"
            ],
            [
             0.5555555555555556,
             "#d8576b"
            ],
            [
             0.6666666666666666,
             "#ed7953"
            ],
            [
             0.7777777777777778,
             "#fb9f3a"
            ],
            [
             0.8888888888888888,
             "#fdca26"
            ],
            [
             1,
             "#f0f921"
            ]
           ],
           "sequentialminus": [
            [
             0,
             "#0d0887"
            ],
            [
             0.1111111111111111,
             "#46039f"
            ],
            [
             0.2222222222222222,
             "#7201a8"
            ],
            [
             0.3333333333333333,
             "#9c179e"
            ],
            [
             0.4444444444444444,
             "#bd3786"
            ],
            [
             0.5555555555555556,
             "#d8576b"
            ],
            [
             0.6666666666666666,
             "#ed7953"
            ],
            [
             0.7777777777777778,
             "#fb9f3a"
            ],
            [
             0.8888888888888888,
             "#fdca26"
            ],
            [
             1,
             "#f0f921"
            ]
           ]
          },
          "colorway": [
           "#636efa",
           "#EF553B",
           "#00cc96",
           "#ab63fa",
           "#FFA15A",
           "#19d3f3",
           "#FF6692",
           "#B6E880",
           "#FF97FF",
           "#FECB52"
          ],
          "font": {
           "color": "#2a3f5f"
          },
          "geo": {
           "bgcolor": "white",
           "lakecolor": "white",
           "landcolor": "#E5ECF6",
           "showlakes": true,
           "showland": true,
           "subunitcolor": "white"
          },
          "hoverlabel": {
           "align": "left"
          },
          "hovermode": "closest",
          "mapbox": {
           "style": "light"
          },
          "paper_bgcolor": "white",
          "plot_bgcolor": "#E5ECF6",
          "polar": {
           "angularaxis": {
            "gridcolor": "white",
            "linecolor": "white",
            "ticks": ""
           },
           "bgcolor": "#E5ECF6",
           "radialaxis": {
            "gridcolor": "white",
            "linecolor": "white",
            "ticks": ""
           }
          },
          "scene": {
           "xaxis": {
            "backgroundcolor": "#E5ECF6",
            "gridcolor": "white",
            "gridwidth": 2,
            "linecolor": "white",
            "showbackground": true,
            "ticks": "",
            "zerolinecolor": "white"
           },
           "yaxis": {
            "backgroundcolor": "#E5ECF6",
            "gridcolor": "white",
            "gridwidth": 2,
            "linecolor": "white",
            "showbackground": true,
            "ticks": "",
            "zerolinecolor": "white"
           },
           "zaxis": {
            "backgroundcolor": "#E5ECF6",
            "gridcolor": "white",
            "gridwidth": 2,
            "linecolor": "white",
            "showbackground": true,
            "ticks": "",
            "zerolinecolor": "white"
           }
          },
          "shapedefaults": {
           "line": {
            "color": "#2a3f5f"
           }
          },
          "ternary": {
           "aaxis": {
            "gridcolor": "white",
            "linecolor": "white",
            "ticks": ""
           },
           "baxis": {
            "gridcolor": "white",
            "linecolor": "white",
            "ticks": ""
           },
           "bgcolor": "#E5ECF6",
           "caxis": {
            "gridcolor": "white",
            "linecolor": "white",
            "ticks": ""
           }
          },
          "title": {
           "x": 0.05
          },
          "xaxis": {
           "automargin": true,
           "gridcolor": "white",
           "linecolor": "white",
           "ticks": "",
           "title": {
            "standoff": 15
           },
           "zerolinecolor": "white",
           "zerolinewidth": 2
          },
          "yaxis": {
           "automargin": true,
           "gridcolor": "white",
           "linecolor": "white",
           "ticks": "",
           "title": {
            "standoff": 15
           },
           "zerolinecolor": "white",
           "zerolinewidth": 2
          }
         }
        },
        "title": {
         "text": "Map Visualization"
        },
        "xaxis": {
         "title": {
          "text": "X Coordinate"
         }
        },
        "yaxis": {
         "title": {
          "text": "Y Coordinate"
         }
        }
       }
      }
     },
     "metadata": {},
     "output_type": "display_data"
    }
   ],
   "source": [
    "map_2d = Map2D(\n",
    "    no_circuits=NO_CIRCUITS,\n",
    "    no_thermoelectrics=NO_THERMOELECTRICS,\n",
    ")\n",
    "\n",
    "\n",
    "map_2d.visualize()"
   ]
  },
  {
   "cell_type": "code",
   "execution_count": 3,
   "metadata": {},
   "outputs": [
    {
     "data": {
      "application/vnd.plotly.v1+json": {
       "config": {
        "plotlyServerURL": "https://plot.ly"
       },
       "data": [
        {
         "marker": {
          "color": "red",
          "size": 12,
          "symbol": "x"
         },
         "mode": "markers+text",
         "name": "Thermoelectrics",
         "text": [
          "Th0",
          "Th1",
          "Th2",
          "Th3",
          "Th4",
          "Th5",
          "Th6",
          "Th7"
         ],
         "textposition": "top center",
         "type": "scatter",
         "x": [
          16.32473082533196,
          92.20903285568244,
          39.96373789383739,
          79.32189834166,
          10.56935439159571,
          31.671064940534162,
          90.46084951811883,
          64.4861517072137
         ],
         "y": [
          22.29206708272511,
          47.14058099659941,
          93.66732654658269,
          16.8497369129662,
          80.91594296734888,
          63.71793713299608,
          92.02678498890222,
          65.78900948371631
         ]
        },
        {
         "marker": {
          "color": "blue",
          "size": 10,
          "symbol": "circle"
         },
         "mode": "markers+text",
         "name": "Circuits",
         "text": [
          "C0",
          "C1",
          "C2",
          "C3",
          "C4",
          "C5",
          "C6",
          "C7",
          "C8",
          "C9",
          "C10",
          "C11",
          "C12",
          "C13",
          "C14",
          "C15",
          "C16",
          "C17",
          "C18",
          "C19",
          "C20",
          "C21",
          "C22",
          "C23",
          "C24",
          "C25",
          "C26",
          "C27",
          "C28",
          "C29",
          "C30",
          "C31",
          "C32",
          "C33",
          "C34",
          "C35",
          "C36",
          "C37",
          "C38",
          "C39",
          "C40",
          "C41",
          "C42",
          "C43",
          "C44",
          "C45",
          "C46",
          "C47",
          "C48",
          "C49"
         ],
         "textposition": "top center",
         "type": "scatter",
         "x": [
          77.77024105738202,
          82.42785326613685,
          97.26011139048933,
          60.90424627612779,
          64.16133447590691,
          3.5036524101437316,
          5.851249188207475,
          37.28540278748075,
          25.62799493266301,
          0.9412770080969413,
          94.90941816782103,
          31.93913663803646,
          3.190366643989473,
          62.982899910782294,
          0.8715732303784862,
          81.28411710026235,
          65.64553345969578,
          47.988339149638314,
          0.00120335694850926,
          71.22326779115835,
          27.699635638380947,
          91.85517481459487,
          45.80858172767637,
          37.93332914830662,
          77.2378759680558,
          68.60850791873135,
          13.798605275825725,
          24.555910532465564,
          92.59944794902178,
          23.76589218796833,
          55.663205143440265,
          83.97085104160709,
          14.48709890463251,
          49.064013706516086,
          98.4938457701008,
          49.904168390089396,
          91.3212806989643,
          22.658787689942837,
          13.635835175923795,
          59.53992453523792,
          95.89347319832972,
          12.895807457854048,
          20.163407511411524,
          43.71180126508111,
          96.72531085605694,
          84.4558532806118,
          10.930490807954563,
          96.64620412773903,
          8.190006001834515,
          65.01305180131334
         ],
         "y": [
          23.75412200349123,
          96.57491980429998,
          45.34492474173122,
          77.55265146048467,
          72.20182295169472,
          29.84494708891794,
          85.70609425871989,
          67.9847951578097,
          34.758121515249194,
          35.83337827049697,
          21.789900913168893,
          91.77723860005874,
          6.508453704251449,
          87.38134432795387,
          74.65772369939376,
          7.571744617226672,
          50.92622000835182,
          95.55741449310663,
          24.697870099191633,
          32.45820497867131,
          69.54454525534746,
          24.44757021979903,
          25.299268282150646,
          60.4538828631711,
          6.79174967944145,
          54.826009739582524,
          9.875321920491842,
          15.17866625844726,
          68.0105015604642,
          56.88852525565604,
          7.273721088434781,
          40.53194926981314,
          19.092005866659367,
          71.20243742497533,
          87.47865017350445,
          10.677999399370886,
          36.4915960886285,
          87.24318623454285,
          23.638016015282027,
          56.3922609078715,
          45.32393332235999,
          76.056767676739,
          17.57298632131816,
          34.02608028478126,
          14.302607708757154,
          66.94061399806628,
          8.8253540029274,
          19.42974852130065,
          26.938469527986364,
          54.67772453446605
         ]
        },
        {
         "marker": {
          "color": "green",
          "size": 14,
          "symbol": "triangle-up"
         },
         "mode": "markers+text",
         "name": "Towers",
         "text": [
          "Tw0",
          "Tw1",
          "Tw2",
          "Tw3",
          "Tw4",
          "Tw5",
          "Tw6",
          "Tw7",
          "Tw8",
          "Tw9",
          "Tw10",
          "Tw11",
          "Tw12",
          "Tw13",
          "Tw14",
          "Tw15"
         ],
         "textposition": "top center",
         "type": "scatter",
         "x": [
          13.450577304101664,
          16.32473082533197,
          17.253064851564275,
          39.979679546775685,
          43.40119100274585,
          47.76496867167781,
          53.381685325175,
          54.453182464976585,
          64.4861517072137,
          75.4649059516504,
          75.81865803272113,
          76.64817011347576,
          82.06184830936576,
          87.88482940840254,
          90.75971426400191,
          101.6800491200944
         ],
         "y": [
          77.35613526659026,
          22.29206708272512,
          75.186654605745,
          92.24195665724753,
          62.373625941612545,
          44.320708395757045,
          88.86548957935928,
          63.17303237655272,
          65.78900948371631,
          27.90892337339851,
          18.520442037394922,
          78.36384638851025,
          60.73763992626015,
          7.999496219614333,
          92.93561036277183,
          27.29849798690225
         ]
        },
        {
         "line": {
          "color": "black"
         },
         "mode": "lines",
         "name": "Wire Connection",
         "showlegend": false,
         "type": "scatter",
         "x": [
          13.450577304101664,
          16.32473082533197
         ],
         "y": [
          77.35613526659026,
          22.29206708272512
         ]
        },
        {
         "line": {
          "color": "black"
         },
         "mode": "lines",
         "name": "Wire Connection",
         "showlegend": false,
         "type": "scatter",
         "x": [
          16.32473082533197,
          17.253064851564275
         ],
         "y": [
          22.29206708272512,
          75.186654605745
         ]
        },
        {
         "line": {
          "color": "black"
         },
         "mode": "lines",
         "name": "Wire Connection",
         "showlegend": false,
         "type": "scatter",
         "x": [
          17.253064851564275,
          39.979679546775685
         ],
         "y": [
          75.186654605745,
          92.24195665724753
         ]
        },
        {
         "line": {
          "color": "black"
         },
         "mode": "lines",
         "name": "Wire Connection",
         "showlegend": false,
         "type": "scatter",
         "x": [
          39.979679546775685,
          43.40119100274585
         ],
         "y": [
          92.24195665724753,
          62.373625941612545
         ]
        },
        {
         "line": {
          "color": "black"
         },
         "mode": "lines",
         "name": "Wire Connection",
         "showlegend": false,
         "type": "scatter",
         "x": [
          43.40119100274585,
          47.76496867167781
         ],
         "y": [
          62.373625941612545,
          44.320708395757045
         ]
        },
        {
         "line": {
          "color": "black"
         },
         "mode": "lines",
         "name": "Wire Connection",
         "showlegend": false,
         "type": "scatter",
         "x": [
          47.76496867167781,
          53.381685325175
         ],
         "y": [
          44.320708395757045,
          88.86548957935928
         ]
        },
        {
         "line": {
          "color": "black"
         },
         "mode": "lines",
         "name": "Wire Connection",
         "showlegend": false,
         "type": "scatter",
         "x": [
          53.381685325175,
          54.453182464976585
         ],
         "y": [
          88.86548957935928,
          63.17303237655272
         ]
        },
        {
         "line": {
          "color": "black"
         },
         "mode": "lines",
         "name": "Wire Connection",
         "showlegend": false,
         "type": "scatter",
         "x": [
          54.453182464976585,
          64.4861517072137
         ],
         "y": [
          63.17303237655272,
          65.78900948371631
         ]
        },
        {
         "line": {
          "color": "black"
         },
         "mode": "lines",
         "name": "Wire Connection",
         "showlegend": false,
         "type": "scatter",
         "x": [
          64.4861517072137,
          75.4649059516504
         ],
         "y": [
          65.78900948371631,
          27.90892337339851
         ]
        },
        {
         "line": {
          "color": "black"
         },
         "mode": "lines",
         "name": "Wire Connection",
         "showlegend": false,
         "type": "scatter",
         "x": [
          75.4649059516504,
          75.81865803272113
         ],
         "y": [
          27.90892337339851,
          18.520442037394922
         ]
        },
        {
         "line": {
          "color": "black"
         },
         "mode": "lines",
         "name": "Wire Connection",
         "showlegend": false,
         "type": "scatter",
         "x": [
          75.81865803272113,
          76.64817011347576
         ],
         "y": [
          18.520442037394922,
          78.36384638851025
         ]
        },
        {
         "line": {
          "color": "black"
         },
         "mode": "lines",
         "name": "Wire Connection",
         "showlegend": false,
         "type": "scatter",
         "x": [
          76.64817011347576,
          82.06184830936576
         ],
         "y": [
          78.36384638851025,
          60.73763992626015
         ]
        },
        {
         "line": {
          "color": "black"
         },
         "mode": "lines",
         "name": "Wire Connection",
         "showlegend": false,
         "type": "scatter",
         "x": [
          82.06184830936576,
          87.88482940840254
         ],
         "y": [
          60.73763992626015,
          7.999496219614333
         ]
        },
        {
         "line": {
          "color": "black"
         },
         "mode": "lines",
         "name": "Wire Connection",
         "showlegend": false,
         "type": "scatter",
         "x": [
          87.88482940840254,
          90.75971426400191
         ],
         "y": [
          7.999496219614333,
          92.93561036277183
         ]
        },
        {
         "line": {
          "color": "black"
         },
         "mode": "lines",
         "name": "Wire Connection",
         "showlegend": false,
         "type": "scatter",
         "x": [
          90.75971426400191,
          101.6800491200944
         ],
         "y": [
          92.93561036277183,
          27.29849798690225
         ]
        },
        {
         "line": {
          "color": "black",
          "dash": "dash"
         },
         "mode": "lines",
         "name": "Circuit Connection",
         "showlegend": false,
         "type": "scatter",
         "x": [
          77.77024105738202,
          75.8915650165911
         ],
         "y": [
          23.75412200349123,
          23.780163043244197
         ]
        },
        {
         "mode": "text",
         "showlegend": false,
         "text": [
          "1.88"
         ],
         "textposition": "middle center",
         "type": "scatter",
         "x": [
          76.83090303698657
         ],
         "y": [
          23.767142523367713
         ]
        },
        {
         "line": {
          "color": "black",
          "dash": "dash"
         },
         "mode": "lines",
         "name": "Circuit Connection",
         "showlegend": false,
         "type": "scatter",
         "x": [
          82.42785326613685,
          90.75971426400191
         ],
         "y": [
          96.57491980429998,
          92.93561036277183
         ]
        },
        {
         "mode": "text",
         "showlegend": false,
         "text": [
          "9.09"
         ],
         "textposition": "middle center",
         "type": "scatter",
         "x": [
          86.59378376506939
         ],
         "y": [
          94.7552650835359
         ]
        },
        {
         "line": {
          "color": "black",
          "dash": "dash"
         },
         "mode": "lines",
         "name": "Circuit Connection",
         "showlegend": false,
         "type": "scatter",
         "x": [
          97.26011139048933,
          98.63940629924022
         ],
         "y": [
          45.34492474173122,
          45.57440409759637
         ]
        },
        {
         "mode": "text",
         "showlegend": false,
         "text": [
          "1.40"
         ],
         "textposition": "middle center",
         "type": "scatter",
         "x": [
          97.94975884486477
         ],
         "y": [
          45.459664419663795
         ]
        },
        {
         "line": {
          "color": "black",
          "dash": "dash"
         },
         "mode": "lines",
         "name": "Circuit Connection",
         "showlegend": false,
         "type": "scatter",
         "x": [
          60.90424627612779,
          53.865726242353325
         ],
         "y": [
          77.55265146048467,
          77.25911184202413
         ]
        },
        {
         "mode": "text",
         "showlegend": false,
         "text": [
          "7.04"
         ],
         "textposition": "middle center",
         "type": "scatter",
         "x": [
          57.38498625924056
         ],
         "y": [
          77.40588165125439
         ]
        },
        {
         "line": {
          "color": "black",
          "dash": "dash"
         },
         "mode": "lines",
         "name": "Circuit Connection",
         "showlegend": false,
         "type": "scatter",
         "x": [
          64.16133447590691,
          64.4861517072137
         ],
         "y": [
          72.20182295169472,
          65.78900948371631
         ]
        },
        {
         "mode": "text",
         "showlegend": false,
         "text": [
          "6.42"
         ],
         "textposition": "middle center",
         "type": "scatter",
         "x": [
          64.3237430915603
         ],
         "y": [
          68.99541621770553
         ]
        },
        {
         "line": {
          "color": "black",
          "dash": "dash"
         },
         "mode": "lines",
         "name": "Circuit Connection",
         "showlegend": false,
         "type": "scatter",
         "x": [
          3.5036524101437316,
          15.896731990355216
         ],
         "y": [
          29.84494708891794,
          30.49182289176298
         ]
        },
        {
         "mode": "text",
         "showlegend": false,
         "text": [
          "12.41"
         ],
         "textposition": "middle center",
         "type": "scatter",
         "x": [
          9.700192200249473
         ],
         "y": [
          30.16838499034046
         ]
        },
        {
         "line": {
          "color": "black",
          "dash": "dash"
         },
         "mode": "lines",
         "name": "Circuit Connection",
         "showlegend": false,
         "type": "scatter",
         "x": [
          5.851249188207475,
          13.450577304101664
         ],
         "y": [
          85.70609425871989,
          77.35613526659026
         ]
        },
        {
         "mode": "text",
         "showlegend": false,
         "text": [
          "11.29"
         ],
         "textposition": "middle center",
         "type": "scatter",
         "x": [
          9.65091324615457
         ],
         "y": [
          81.53111476265508
         ]
        },
        {
         "line": {
          "color": "black",
          "dash": "dash"
         },
         "mode": "lines",
         "name": "Circuit Connection",
         "showlegend": false,
         "type": "scatter",
         "x": [
          37.28540278748075,
          42.68752493556844
         ],
         "y": [
          67.9847951578097,
          68.60362528233878
         ]
        },
        {
         "mode": "text",
         "showlegend": false,
         "text": [
          "5.44"
         ],
         "textposition": "middle center",
         "type": "scatter",
         "x": [
          39.9864638615246
         ],
         "y": [
          68.29421022007423
         ]
        },
        {
         "line": {
          "color": "black",
          "dash": "dash"
         },
         "mode": "lines",
         "name": "Circuit Connection",
         "showlegend": false,
         "type": "scatter",
         "x": [
          25.62799493266301,
          16.546315482204445
         ],
         "y": [
          34.758121515249194,
          34.91751082980858
         ]
        },
        {
         "mode": "text",
         "showlegend": false,
         "text": [
          "9.08"
         ],
         "textposition": "middle center",
         "type": "scatter",
         "x": [
          21.087155207433728
         ],
         "y": [
          34.83781617252889
         ]
        },
        {
         "line": {
          "color": "black",
          "dash": "dash"
         },
         "mode": "lines",
         "name": "Circuit Connection",
         "showlegend": false,
         "type": "scatter",
         "x": [
          0.9412770080969413,
          15.578043760285121
         ],
         "y": [
          35.83337827049697,
          36.5973667676737
         ]
        },
        {
         "mode": "text",
         "showlegend": false,
         "text": [
          "14.66"
         ],
         "textposition": "middle center",
         "type": "scatter",
         "x": [
          8.259660384191031
         ],
         "y": [
          36.215372519085335
         ]
        },
        {
         "line": {
          "color": "black",
          "dash": "dash"
         },
         "mode": "lines",
         "name": "Circuit Connection",
         "showlegend": false,
         "type": "scatter",
         "x": [
          94.90941816782103,
          88.35910614850074
         ],
         "y": [
          21.789900913168893,
          22.01161334978984
         ]
        },
        {
         "mode": "text",
         "showlegend": false,
         "text": [
          "6.55"
         ],
         "textposition": "middle center",
         "type": "scatter",
         "x": [
          91.63426215816088
         ],
         "y": [
          21.900757131479367
         ]
        },
        {
         "line": {
          "color": "black",
          "dash": "dash"
         },
         "mode": "lines",
         "name": "Circuit Connection",
         "showlegend": false,
         "type": "scatter",
         "x": [
          31.93913663803646,
          34.61287711207959
         ],
         "y": [
          91.77723860005874,
          88.21441283684003
         ]
        },
        {
         "mode": "text",
         "showlegend": false,
         "text": [
          "4.45"
         ],
         "textposition": "middle center",
         "type": "scatter",
         "x": [
          33.27600687505802
         ],
         "y": [
          89.99582571844938
         ]
        },
        {
         "line": {
          "color": "black",
          "dash": "dash"
         },
         "mode": "lines",
         "name": "Circuit Connection",
         "showlegend": false,
         "type": "scatter",
         "x": [
          3.190366643989473,
          16.32473082533197
         ],
         "y": [
          6.508453704251449,
          22.29206708272512
         ]
        },
        {
         "mode": "text",
         "showlegend": false,
         "text": [
          "20.53"
         ],
         "textposition": "middle center",
         "type": "scatter",
         "x": [
          9.757548734660721
         ],
         "y": [
          14.400260393488285
         ]
        },
        {
         "line": {
          "color": "black",
          "dash": "dash"
         },
         "mode": "lines",
         "name": "Circuit Connection",
         "showlegend": false,
         "type": "scatter",
         "x": [
          62.982899910782294,
          53.46014399718937
         ],
         "y": [
          87.38134432795387,
          86.9842003084504
         ]
        },
        {
         "mode": "text",
         "showlegend": false,
         "text": [
          "9.53"
         ],
         "textposition": "middle center",
         "type": "scatter",
         "x": [
          58.22152195398583
         ],
         "y": [
          87.18277231820213
         ]
        },
        {
         "line": {
          "color": "black",
          "dash": "dash"
         },
         "mode": "lines",
         "name": "Circuit Connection",
         "showlegend": false,
         "type": "scatter",
         "x": [
          0.8715732303784862,
          13.55686423724461
         ],
         "y": [
          74.65772369939376,
          75.31985192598016
         ]
        },
        {
         "mode": "text",
         "showlegend": false,
         "text": [
          "12.70"
         ],
         "textposition": "middle center",
         "type": "scatter",
         "x": [
          7.214218733811548
         ],
         "y": [
          74.98878781268695
         ]
        },
        {
         "line": {
          "color": "black",
          "dash": "dash"
         },
         "mode": "lines",
         "name": "Circuit Connection",
         "showlegend": false,
         "type": "scatter",
         "x": [
          81.28411710026235,
          87.85198952650232
         ],
         "y": [
          7.571744617226672,
          8.296923668116563
         ]
        },
        {
         "mode": "text",
         "showlegend": false,
         "text": [
          "6.61"
         ],
         "textposition": "middle center",
         "type": "scatter",
         "x": [
          84.56805331338234
         ],
         "y": [
          7.934334142671617
         ]
        },
        {
         "line": {
          "color": "black",
          "dash": "dash"
         },
         "mode": "lines",
         "name": "Circuit Connection",
         "showlegend": false,
         "type": "scatter",
         "x": [
          65.64553345969578,
          68.54985591942231
         ],
         "y": [
          50.92622000835182,
          51.76797740138083
         ]
        },
        {
         "mode": "text",
         "showlegend": false,
         "text": [
          "3.02"
         ],
         "textposition": "middle center",
         "type": "scatter",
         "x": [
          67.09769468955905
         ],
         "y": [
          51.347098704866326
         ]
        },
        {
         "line": {
          "color": "black",
          "dash": "dash"
         },
         "mode": "lines",
         "name": "Circuit Connection",
         "showlegend": false,
         "type": "scatter",
         "x": [
          47.988339149638314,
          53.381685325175
         ],
         "y": [
          95.55741449310663,
          88.86548957935928
         ]
        },
        {
         "mode": "text",
         "showlegend": false,
         "text": [
          "8.59"
         ],
         "textposition": "middle center",
         "type": "scatter",
         "x": [
          50.68501223740665
         ],
         "y": [
          92.21145203623296
         ]
        },
        {
         "line": {
          "color": "black",
          "dash": "dash"
         },
         "mode": "lines",
         "name": "Circuit Connection",
         "showlegend": false,
         "type": "scatter",
         "x": [
          0.00120335694850926,
          16.15514518360764
         ],
         "y": [
          24.697870099191633,
          25.541049877115235
         ]
        },
        {
         "mode": "text",
         "showlegend": false,
         "text": [
          "16.18"
         ],
         "textposition": "middle center",
         "type": "scatter",
         "x": [
          8.078174270278074
         ],
         "y": [
          25.119459988153434
         ]
        },
        {
         "line": {
          "color": "black",
          "dash": "dash"
         },
         "mode": "lines",
         "name": "Circuit Connection",
         "showlegend": false,
         "type": "scatter",
         "x": [
          71.22326779115835,
          73.91987391670047
         ],
         "y": [
          32.45820497867131,
          33.239760117172054
         ]
        },
        {
         "mode": "text",
         "showlegend": false,
         "text": [
          "2.81"
         ],
         "textposition": "middle center",
         "type": "scatter",
         "x": [
          72.57157085392942
         ],
         "y": [
          32.84898254792168
         ]
        },
        {
         "line": {
          "color": "black",
          "dash": "dash"
         },
         "mode": "lines",
         "name": "Circuit Connection",
         "showlegend": false,
         "type": "scatter",
         "x": [
          27.699635638380947,
          17.157289511092245
         ],
         "y": [
          69.54454525534746,
          69.7295702094039
         ]
        },
        {
         "mode": "text",
         "showlegend": false,
         "text": [
          "10.54"
         ],
         "textposition": "middle center",
         "type": "scatter",
         "x": [
          22.428462574736596
         ],
         "y": [
          69.63705773237568
         ]
        },
        {
         "line": {
          "color": "black",
          "dash": "dash"
         },
         "mode": "lines",
         "name": "Circuit Connection",
         "showlegend": false,
         "type": "scatter",
         "x": [
          91.85517481459487,
          88.44546385069143
         ],
         "y": [
          24.44757021979903,
          24.56298080234081
         ]
        },
        {
         "mode": "text",
         "showlegend": false,
         "text": [
          "3.41"
         ],
         "textposition": "middle center",
         "type": "scatter",
         "x": [
          90.15031933264315
         ],
         "y": [
          24.505275511069918
         ]
        },
        {
         "line": {
          "color": "black",
          "dash": "dash"
         },
         "mode": "lines",
         "name": "Circuit Connection",
         "showlegend": false,
         "type": "scatter",
         "x": [
          45.80858172767637,
          47.76496867167781
         ],
         "y": [
          25.299268282150646,
          44.320708395757045
         ]
        },
        {
         "mode": "text",
         "showlegend": false,
         "text": [
          "19.12"
         ],
         "textposition": "middle center",
         "type": "scatter",
         "x": [
          46.786775199677095
         ],
         "y": [
          34.80998833895384
         ]
        },
        {
         "line": {
          "color": "black",
          "dash": "dash"
         },
         "mode": "lines",
         "name": "Circuit Connection",
         "showlegend": false,
         "type": "scatter",
         "x": [
          37.93332914830662,
          43.53777070248341
         ],
         "y": [
          60.4538828631711,
          61.80859668373944
         ]
        },
        {
         "mode": "text",
         "showlegend": false,
         "text": [
          "5.77"
         ],
         "textposition": "middle center",
         "type": "scatter",
         "x": [
          40.73554992539501
         ],
         "y": [
          61.13123977345527
         ]
        },
        {
         "line": {
          "color": "black",
          "dash": "dash"
         },
         "mode": "lines",
         "name": "Circuit Connection",
         "showlegend": false,
         "type": "scatter",
         "x": [
          77.2378759680558,
          87.88482940840254
         ],
         "y": [
          6.79174967944145,
          7.999496219614336
         ]
        },
        {
         "mode": "text",
         "showlegend": false,
         "text": [
          "10.72"
         ],
         "textposition": "middle center",
         "type": "scatter",
         "x": [
          82.56135268822916
         ],
         "y": [
          7.395622949527893
         ]
        },
        {
         "line": {
          "color": "black",
          "dash": "dash"
         },
         "mode": "lines",
         "name": "Circuit Connection",
         "showlegend": false,
         "type": "scatter",
         "x": [
          68.60850791873135,
          67.73677528996409
         ],
         "y": [
          54.826009739582524,
          54.573356187786985
         ]
        },
        {
         "mode": "text",
         "showlegend": false,
         "text": [
          "0.91"
         ],
         "textposition": "middle center",
         "type": "scatter",
         "x": [
          68.17264160434772
         ],
         "y": [
          54.69968296368475
         ]
        },
        {
         "line": {
          "color": "black",
          "dash": "dash"
         },
         "mode": "lines",
         "name": "Circuit Connection",
         "showlegend": false,
         "type": "scatter",
         "x": [
          13.798605275825725,
          16.32473082533197
         ],
         "y": [
          9.875321920491842,
          22.29206708272512
         ]
        },
        {
         "mode": "text",
         "showlegend": false,
         "text": [
          "12.67"
         ],
         "textposition": "middle center",
         "type": "scatter",
         "x": [
          15.061668050578847
         ],
         "y": [
          16.08369450160848
         ]
        },
        {
         "line": {
          "color": "black",
          "dash": "dash"
         },
         "mode": "lines",
         "name": "Circuit Connection",
         "showlegend": false,
         "type": "scatter",
         "x": [
          24.555910532465564,
          16.32473082533197
         ],
         "y": [
          15.17866625844726,
          22.29206708272512
         ]
        },
        {
         "mode": "text",
         "showlegend": false,
         "text": [
          "10.88"
         ],
         "textposition": "middle center",
         "type": "scatter",
         "x": [
          20.440320678898765
         ],
         "y": [
          18.73536667058619
         ]
        },
        {
         "line": {
          "color": "black",
          "dash": "dash"
         },
         "mode": "lines",
         "name": "Circuit Connection",
         "showlegend": false,
         "type": "scatter",
         "x": [
          92.59944794902178,
          94.84447093688814
         ],
         "y": [
          68.0105015604642,
          68.3840159016609
         ]
        },
        {
         "mode": "text",
         "showlegend": false,
         "text": [
          "2.28"
         ],
         "textposition": "middle center",
         "type": "scatter",
         "x": [
          93.72195944295495
         ],
         "y": [
          68.19725873106256
         ]
        },
        {
         "line": {
          "color": "black",
          "dash": "dash"
         },
         "mode": "lines",
         "name": "Circuit Connection",
         "showlegend": false,
         "type": "scatter",
         "x": [
          23.76589218796833,
          16.934025300687285
         ],
         "y": [
          56.88852525565604,
          57.00842891293274
         ]
        },
        {
         "mode": "text",
         "showlegend": false,
         "text": [
          "6.83"
         ],
         "textposition": "middle center",
         "type": "scatter",
         "x": [
          20.349958744327807
         ],
         "y": [
          56.948477084294396
         ]
        },
        {
         "line": {
          "color": "black",
          "dash": "dash"
         },
         "mode": "lines",
         "name": "Circuit Connection",
         "showlegend": false,
         "type": "scatter",
         "x": [
          55.663205143440265,
          75.81865803272113
         ],
         "y": [
          7.273721088434781,
          18.520442037394922
         ]
        },
        {
         "mode": "text",
         "showlegend": false,
         "text": [
          "23.08"
         ],
         "textposition": "middle center",
         "type": "scatter",
         "x": [
          65.7409315880807
         ],
         "y": [
          12.897081562914853
         ]
        },
        {
         "line": {
          "color": "black",
          "dash": "dash"
         },
         "mode": "lines",
         "name": "Circuit Connection",
         "showlegend": false,
         "type": "scatter",
         "x": [
          83.97085104160709,
          84.28894305674892
         ],
         "y": [
          40.53194926981314,
          40.56707079024868
         ]
        },
        {
         "mode": "text",
         "showlegend": false,
         "text": [
          "0.32"
         ],
         "textposition": "middle center",
         "type": "scatter",
         "x": [
          84.129897049178
         ],
         "y": [
          40.54951003003091
         ]
        },
        {
         "line": {
          "color": "black",
          "dash": "dash"
         },
         "mode": "lines",
         "name": "Circuit Connection",
         "showlegend": false,
         "type": "scatter",
         "x": [
          14.48709890463251,
          16.32473082533197
         ],
         "y": [
          19.092005866659367,
          22.29206708272512
         ]
        },
        {
         "mode": "text",
         "showlegend": false,
         "text": [
          "3.69"
         ],
         "textposition": "middle center",
         "type": "scatter",
         "x": [
          15.40591486498224
         ],
         "y": [
          20.692036474692244
         ]
        },
        {
         "line": {
          "color": "black",
          "dash": "dash"
         },
         "mode": "lines",
         "name": "Circuit Connection",
         "showlegend": false,
         "type": "scatter",
         "x": [
          49.064013706516086,
          51.12180823517125
         ],
         "y": [
          71.20243742497533,
          70.94296710114696
         ]
        },
        {
         "mode": "text",
         "showlegend": false,
         "text": [
          "2.07"
         ],
         "textposition": "middle center",
         "type": "scatter",
         "x": [
          50.09291097084367
         ],
         "y": [
          71.07270226306115
         ]
        },
        {
         "line": {
          "color": "black",
          "dash": "dash"
         },
         "mode": "lines",
         "name": "Circuit Connection",
         "showlegend": false,
         "type": "scatter",
         "x": [
          98.4938457701008,
          91.85147641525951
         ],
         "y": [
          87.47865017350445,
          86.37352999123115
         ]
        },
        {
         "mode": "text",
         "showlegend": false,
         "text": [
          "6.73"
         ],
         "textposition": "middle center",
         "type": "scatter",
         "x": [
          95.17266109268016
         ],
         "y": [
          86.9260900823678
         ]
        },
        {
         "line": {
          "color": "black",
          "dash": "dash"
         },
         "mode": "lines",
         "name": "Circuit Connection",
         "showlegend": false,
         "type": "scatter",
         "x": [
          49.904168390089396,
          75.81865803272113
         ],
         "y": [
          10.677999399370886,
          18.520442037394922
         ]
        },
        {
         "mode": "text",
         "showlegend": false,
         "text": [
          "27.08"
         ],
         "textposition": "middle center",
         "type": "scatter",
         "x": [
          62.861413211405264
         ],
         "y": [
          14.599220718382904
         ]
        },
        {
         "line": {
          "color": "black",
          "dash": "dash"
         },
         "mode": "lines",
         "name": "Circuit Connection",
         "showlegend": false,
         "type": "scatter",
         "x": [
          91.3212806989643,
          88.85204792711554
         ],
         "y": [
          36.4915960886285,
          36.57517372780295
         ]
        },
        {
         "mode": "text",
         "showlegend": false,
         "text": [
          "2.47"
         ],
         "textposition": "middle center",
         "type": "scatter",
         "x": [
          90.08666431303992
         ],
         "y": [
          36.53338490821572
         ]
        },
        {
         "line": {
          "color": "black",
          "dash": "dash"
         },
         "mode": "lines",
         "name": "Circuit Connection",
         "showlegend": false,
         "type": "scatter",
         "x": [
          22.658787689942837,
          26.499333495160453
         ],
         "y": [
          87.24318623454285,
          82.12556331171682
         ]
        },
        {
         "mode": "text",
         "showlegend": false,
         "text": [
          "6.40"
         ],
         "textposition": "middle center",
         "type": "scatter",
         "x": [
          24.579060592551645
         ],
         "y": [
          84.68437477312983
         ]
        },
        {
         "line": {
          "color": "black",
          "dash": "dash"
         },
         "mode": "lines",
         "name": "Circuit Connection",
         "showlegend": false,
         "type": "scatter",
         "x": [
          13.635835175923795,
          16.247361908146836
         ],
         "y": [
          23.638016015282027,
          23.77432865982079
         ]
        },
        {
         "mode": "text",
         "showlegend": false,
         "text": [
          "2.62"
         ],
         "textposition": "middle center",
         "type": "scatter",
         "x": [
          14.941598542035315
         ],
         "y": [
          23.706172337551408
         ]
        },
        {
         "line": {
          "color": "black",
          "dash": "dash"
         },
         "mode": "lines",
         "name": "Circuit Connection",
         "showlegend": false,
         "type": "scatter",
         "x": [
          59.53992453523792,
          66.61526803368142
         ],
         "y": [
          56.3922609078715,
          58.44290190267183
         ]
        },
        {
         "mode": "text",
         "showlegend": false,
         "text": [
          "7.37"
         ],
         "textposition": "middle center",
         "type": "scatter",
         "x": [
          63.07759628445967
         ],
         "y": [
          57.41758140527166
         ]
        },
        {
         "line": {
          "color": "black",
          "dash": "dash"
         },
         "mode": "lines",
         "name": "Circuit Connection",
         "showlegend": false,
         "type": "scatter",
         "x": [
          95.89347319832972,
          98.60599444328254
         ],
         "y": [
          45.32393332235999,
          45.77522740320745
         ]
        },
        {
         "mode": "text",
         "showlegend": false,
         "text": [
          "2.75"
         ],
         "textposition": "middle center",
         "type": "scatter",
         "x": [
          97.24973382080613
         ],
         "y": [
          45.54958036278372
         ]
        },
        {
         "line": {
          "color": "black",
          "dash": "dash"
         },
         "mode": "lines",
         "name": "Circuit Connection",
         "showlegend": false,
         "type": "scatter",
         "x": [
          12.895807457854048,
          13.516708158600085
         ],
         "y": [
          76.056767676739,
          76.08917654143502
         ]
        },
        {
         "mode": "text",
         "showlegend": false,
         "text": [
          "0.62"
         ],
         "textposition": "middle center",
         "type": "scatter",
         "x": [
          13.206257808227067
         ],
         "y": [
          76.072972109087
         ]
        },
        {
         "line": {
          "color": "black",
          "dash": "dash"
         },
         "mode": "lines",
         "name": "Circuit Connection",
         "showlegend": false,
         "type": "scatter",
         "x": [
          20.163407511411524,
          16.32473082533197
         ],
         "y": [
          17.57298632131816,
          22.29206708272512
         ]
        },
        {
         "mode": "text",
         "showlegend": false,
         "text": [
          "6.08"
         ],
         "textposition": "middle center",
         "type": "scatter",
         "x": [
          18.244069168371745
         ],
         "y": [
          19.93252670202164
         ]
        },
        {
         "line": {
          "color": "black",
          "dash": "dash"
         },
         "mode": "lines",
         "name": "Circuit Connection",
         "showlegend": false,
         "type": "scatter",
         "x": [
          43.71180126508111,
          47.76496867167781
         ],
         "y": [
          34.02608028478126,
          44.320708395757045
         ]
        },
        {
         "mode": "text",
         "showlegend": false,
         "text": [
          "11.06"
         ],
         "textposition": "middle center",
         "type": "scatter",
         "x": [
          45.738384968379464
         ],
         "y": [
          39.173394340269155
         ]
        },
        {
         "line": {
          "color": "black",
          "dash": "dash"
         },
         "mode": "lines",
         "name": "Circuit Connection",
         "showlegend": false,
         "type": "scatter",
         "x": [
          96.72531085605694,
          88.10804715980812
         ],
         "y": [
          14.302607708757154,
          14.594281529098131
         ]
        },
        {
         "mode": "text",
         "showlegend": false,
         "text": [
          "8.62"
         ],
         "textposition": "middle center",
         "type": "scatter",
         "x": [
          92.41667900793253
         ],
         "y": [
          14.448444618927642
         ]
        },
        {
         "line": {
          "color": "black",
          "dash": "dash"
         },
         "mode": "lines",
         "name": "Circuit Connection",
         "showlegend": false,
         "type": "scatter",
         "x": [
          84.4558532806118,
          80.5272765528601
         ],
         "y": [
          66.94061399806628,
          65.73399871091077
         ]
        },
        {
         "mode": "text",
         "showlegend": false,
         "text": [
          "4.11"
         ],
         "textposition": "middle center",
         "type": "scatter",
         "x": [
          82.49156491673595
         ],
         "y": [
          66.33730635448853
         ]
        },
        {
         "line": {
          "color": "black",
          "dash": "dash"
         },
         "mode": "lines",
         "name": "Circuit Connection",
         "showlegend": false,
         "type": "scatter",
         "x": [
          10.930490807954563,
          16.32473082533197
         ],
         "y": [
          8.8253540029274,
          22.29206708272512
         ]
        },
        {
         "mode": "text",
         "showlegend": false,
         "text": [
          "14.51"
         ],
         "textposition": "middle center",
         "type": "scatter",
         "x": [
          13.627610816643266
         ],
         "y": [
          15.558710542826258
         ]
        },
        {
         "line": {
          "color": "black",
          "dash": "dash"
         },
         "mode": "lines",
         "name": "Circuit Connection",
         "showlegend": false,
         "type": "scatter",
         "x": [
          96.64620412773903,
          88.28129952796002
         ],
         "y": [
          19.42974852130065,
          19.712880588208083
         ]
        },
        {
         "mode": "text",
         "showlegend": false,
         "text": [
          "8.37"
         ],
         "textposition": "middle center",
         "type": "scatter",
         "x": [
          92.46375182784952
         ],
         "y": [
          19.571314554754366
         ]
        },
        {
         "line": {
          "color": "black",
          "dash": "dash"
         },
         "mode": "lines",
         "name": "Circuit Connection",
         "showlegend": false,
         "type": "scatter",
         "x": [
          8.190006001834515,
          16.06076102055682
         ],
         "y": [
          26.938469527986364,
          27.34929566194117
         ]
        },
        {
         "mode": "text",
         "showlegend": false,
         "text": [
          "7.88"
         ],
         "textposition": "middle center",
         "type": "scatter",
         "x": [
          12.125383511195668
         ],
         "y": [
          27.143882594963767
         ]
        },
        {
         "line": {
          "color": "black",
          "dash": "dash"
         },
         "mode": "lines",
         "name": "Circuit Connection",
         "showlegend": false,
         "type": "scatter",
         "x": [
          65.01305180131334,
          67.49780468784024
         ],
         "y": [
          54.67772453446605,
          55.397878422709276
         ]
        },
        {
         "mode": "text",
         "showlegend": false,
         "text": [
          "2.59"
         ],
         "textposition": "middle center",
         "type": "scatter",
         "x": [
          66.25542824457679
         ],
         "y": [
          55.03780147858767
         ]
        },
        {
         "line": {
          "color": "black",
          "dash": "dash"
         },
         "mode": "lines",
         "name": "Thermoelectric Connection",
         "showlegend": false,
         "type": "scatter",
         "x": [
          16.32473082533196,
          16.32473082533197
         ],
         "y": [
          22.29206708272511,
          22.29206708272512
         ]
        },
        {
         "mode": "text",
         "showlegend": false,
         "text": [
          "0.00"
         ],
         "textposition": "middle center",
         "type": "scatter",
         "x": [
          16.324730825331965
         ],
         "y": [
          22.292067082725115
         ]
        },
        {
         "line": {
          "color": "black",
          "dash": "dash"
         },
         "mode": "lines",
         "name": "Thermoelectric Connection",
         "showlegend": false,
         "type": "scatter",
         "x": [
          92.20903285568244,
          89.21309409049053
         ],
         "y": [
          47.14058099659941,
          47.24198637723451
         ]
        },
        {
         "mode": "text",
         "showlegend": false,
         "text": [
          "3.00"
         ],
         "textposition": "middle center",
         "type": "scatter",
         "x": [
          90.71106347308648
         ],
         "y": [
          47.19128368691696
         ]
        },
        {
         "line": {
          "color": "black",
          "dash": "dash"
         },
         "mode": "lines",
         "name": "Thermoelectric Connection",
         "showlegend": false,
         "type": "scatter",
         "x": [
          39.96373789383739,
          39.979679546775685
         ],
         "y": [
          93.66732654658269,
          92.24195665724753
         ]
        },
        {
         "mode": "text",
         "showlegend": false,
         "text": [
          "1.43"
         ],
         "textposition": "middle center",
         "type": "scatter",
         "x": [
          39.97170872030654
         ],
         "y": [
          92.95464160191511
         ]
        },
        {
         "line": {
          "color": "black",
          "dash": "dash"
         },
         "mode": "lines",
         "name": "Thermoelectric Connection",
         "showlegend": false,
         "type": "scatter",
         "x": [
          79.32189834166,
          75.81865803272113
         ],
         "y": [
          16.8497369129662,
          18.520442037394922
         ]
        },
        {
         "mode": "text",
         "showlegend": false,
         "text": [
          "3.88"
         ],
         "textposition": "middle center",
         "type": "scatter",
         "x": [
          77.57027818719057
         ],
         "y": [
          17.68508947518056
         ]
        },
        {
         "line": {
          "color": "black",
          "dash": "dash"
         },
         "mode": "lines",
         "name": "Thermoelectric Connection",
         "showlegend": false,
         "type": "scatter",
         "x": [
          10.56935439159571,
          13.450577304101664
         ],
         "y": [
          80.91594296734888,
          77.35613526659026
         ]
        },
        {
         "mode": "text",
         "showlegend": false,
         "text": [
          "4.58"
         ],
         "textposition": "middle center",
         "type": "scatter",
         "x": [
          12.009965847848687
         ],
         "y": [
          79.13603911696957
         ]
        },
        {
         "line": {
          "color": "black",
          "dash": "dash"
         },
         "mode": "lines",
         "name": "Thermoelectric Connection",
         "showlegend": false,
         "type": "scatter",
         "x": [
          31.671064940534162,
          43.09725657627023
         ],
         "y": [
          63.71793713299608,
          65.0268434107519
         ]
        },
        {
         "mode": "text",
         "showlegend": false,
         "text": [
          "11.50"
         ],
         "textposition": "middle center",
         "type": "scatter",
         "x": [
          37.384160758402196
         ],
         "y": [
          64.37239027187398
         ]
        },
        {
         "line": {
          "color": "black",
          "dash": "dash"
         },
         "mode": "lines",
         "name": "Thermoelectric Connection",
         "showlegend": false,
         "type": "scatter",
         "x": [
          90.46084951811883,
          90.72864588916326
         ],
         "y": [
          92.02678498890222,
          92.01772072054868
         ]
        },
        {
         "mode": "text",
         "showlegend": false,
         "text": [
          "0.27"
         ],
         "textposition": "middle center",
         "type": "scatter",
         "x": [
          90.59474770364105
         ],
         "y": [
          92.02225285472545
         ]
        },
        {
         "line": {
          "color": "black",
          "dash": "dash"
         },
         "mode": "lines",
         "name": "Thermoelectric Connection",
         "showlegend": false,
         "type": "scatter",
         "x": [
          64.4861517072137,
          64.4861517072137
         ],
         "y": [
          65.78900948371631,
          65.78900948371631
         ]
        },
        {
         "mode": "text",
         "showlegend": false,
         "text": [
          "0.00"
         ],
         "textposition": "middle center",
         "type": "scatter",
         "x": [
          64.4861517072137
         ],
         "y": [
          65.78900948371631
         ]
        }
       ],
       "layout": {
        "height": 800,
        "legend": {
         "bgcolor": "rgba(255, 255, 255, 0.5)",
         "bordercolor": "rgba(0, 0, 0, 0.5)",
         "x": 0.01,
         "y": 0.99
        },
        "plot_bgcolor": "lightgreen",
        "template": {
         "data": {
          "bar": [
           {
            "error_x": {
             "color": "#2a3f5f"
            },
            "error_y": {
             "color": "#2a3f5f"
            },
            "marker": {
             "line": {
              "color": "#E5ECF6",
              "width": 0.5
             },
             "pattern": {
              "fillmode": "overlay",
              "size": 10,
              "solidity": 0.2
             }
            },
            "type": "bar"
           }
          ],
          "barpolar": [
           {
            "marker": {
             "line": {
              "color": "#E5ECF6",
              "width": 0.5
             },
             "pattern": {
              "fillmode": "overlay",
              "size": 10,
              "solidity": 0.2
             }
            },
            "type": "barpolar"
           }
          ],
          "carpet": [
           {
            "aaxis": {
             "endlinecolor": "#2a3f5f",
             "gridcolor": "white",
             "linecolor": "white",
             "minorgridcolor": "white",
             "startlinecolor": "#2a3f5f"
            },
            "baxis": {
             "endlinecolor": "#2a3f5f",
             "gridcolor": "white",
             "linecolor": "white",
             "minorgridcolor": "white",
             "startlinecolor": "#2a3f5f"
            },
            "type": "carpet"
           }
          ],
          "choropleth": [
           {
            "colorbar": {
             "outlinewidth": 0,
             "ticks": ""
            },
            "type": "choropleth"
           }
          ],
          "contour": [
           {
            "colorbar": {
             "outlinewidth": 0,
             "ticks": ""
            },
            "colorscale": [
             [
              0,
              "#0d0887"
             ],
             [
              0.1111111111111111,
              "#46039f"
             ],
             [
              0.2222222222222222,
              "#7201a8"
             ],
             [
              0.3333333333333333,
              "#9c179e"
             ],
             [
              0.4444444444444444,
              "#bd3786"
             ],
             [
              0.5555555555555556,
              "#d8576b"
             ],
             [
              0.6666666666666666,
              "#ed7953"
             ],
             [
              0.7777777777777778,
              "#fb9f3a"
             ],
             [
              0.8888888888888888,
              "#fdca26"
             ],
             [
              1,
              "#f0f921"
             ]
            ],
            "type": "contour"
           }
          ],
          "contourcarpet": [
           {
            "colorbar": {
             "outlinewidth": 0,
             "ticks": ""
            },
            "type": "contourcarpet"
           }
          ],
          "heatmap": [
           {
            "colorbar": {
             "outlinewidth": 0,
             "ticks": ""
            },
            "colorscale": [
             [
              0,
              "#0d0887"
             ],
             [
              0.1111111111111111,
              "#46039f"
             ],
             [
              0.2222222222222222,
              "#7201a8"
             ],
             [
              0.3333333333333333,
              "#9c179e"
             ],
             [
              0.4444444444444444,
              "#bd3786"
             ],
             [
              0.5555555555555556,
              "#d8576b"
             ],
             [
              0.6666666666666666,
              "#ed7953"
             ],
             [
              0.7777777777777778,
              "#fb9f3a"
             ],
             [
              0.8888888888888888,
              "#fdca26"
             ],
             [
              1,
              "#f0f921"
             ]
            ],
            "type": "heatmap"
           }
          ],
          "heatmapgl": [
           {
            "colorbar": {
             "outlinewidth": 0,
             "ticks": ""
            },
            "colorscale": [
             [
              0,
              "#0d0887"
             ],
             [
              0.1111111111111111,
              "#46039f"
             ],
             [
              0.2222222222222222,
              "#7201a8"
             ],
             [
              0.3333333333333333,
              "#9c179e"
             ],
             [
              0.4444444444444444,
              "#bd3786"
             ],
             [
              0.5555555555555556,
              "#d8576b"
             ],
             [
              0.6666666666666666,
              "#ed7953"
             ],
             [
              0.7777777777777778,
              "#fb9f3a"
             ],
             [
              0.8888888888888888,
              "#fdca26"
             ],
             [
              1,
              "#f0f921"
             ]
            ],
            "type": "heatmapgl"
           }
          ],
          "histogram": [
           {
            "marker": {
             "pattern": {
              "fillmode": "overlay",
              "size": 10,
              "solidity": 0.2
             }
            },
            "type": "histogram"
           }
          ],
          "histogram2d": [
           {
            "colorbar": {
             "outlinewidth": 0,
             "ticks": ""
            },
            "colorscale": [
             [
              0,
              "#0d0887"
             ],
             [
              0.1111111111111111,
              "#46039f"
             ],
             [
              0.2222222222222222,
              "#7201a8"
             ],
             [
              0.3333333333333333,
              "#9c179e"
             ],
             [
              0.4444444444444444,
              "#bd3786"
             ],
             [
              0.5555555555555556,
              "#d8576b"
             ],
             [
              0.6666666666666666,
              "#ed7953"
             ],
             [
              0.7777777777777778,
              "#fb9f3a"
             ],
             [
              0.8888888888888888,
              "#fdca26"
             ],
             [
              1,
              "#f0f921"
             ]
            ],
            "type": "histogram2d"
           }
          ],
          "histogram2dcontour": [
           {
            "colorbar": {
             "outlinewidth": 0,
             "ticks": ""
            },
            "colorscale": [
             [
              0,
              "#0d0887"
             ],
             [
              0.1111111111111111,
              "#46039f"
             ],
             [
              0.2222222222222222,
              "#7201a8"
             ],
             [
              0.3333333333333333,
              "#9c179e"
             ],
             [
              0.4444444444444444,
              "#bd3786"
             ],
             [
              0.5555555555555556,
              "#d8576b"
             ],
             [
              0.6666666666666666,
              "#ed7953"
             ],
             [
              0.7777777777777778,
              "#fb9f3a"
             ],
             [
              0.8888888888888888,
              "#fdca26"
             ],
             [
              1,
              "#f0f921"
             ]
            ],
            "type": "histogram2dcontour"
           }
          ],
          "mesh3d": [
           {
            "colorbar": {
             "outlinewidth": 0,
             "ticks": ""
            },
            "type": "mesh3d"
           }
          ],
          "parcoords": [
           {
            "line": {
             "colorbar": {
              "outlinewidth": 0,
              "ticks": ""
             }
            },
            "type": "parcoords"
           }
          ],
          "pie": [
           {
            "automargin": true,
            "type": "pie"
           }
          ],
          "scatter": [
           {
            "fillpattern": {
             "fillmode": "overlay",
             "size": 10,
             "solidity": 0.2
            },
            "type": "scatter"
           }
          ],
          "scatter3d": [
           {
            "line": {
             "colorbar": {
              "outlinewidth": 0,
              "ticks": ""
             }
            },
            "marker": {
             "colorbar": {
              "outlinewidth": 0,
              "ticks": ""
             }
            },
            "type": "scatter3d"
           }
          ],
          "scattercarpet": [
           {
            "marker": {
             "colorbar": {
              "outlinewidth": 0,
              "ticks": ""
             }
            },
            "type": "scattercarpet"
           }
          ],
          "scattergeo": [
           {
            "marker": {
             "colorbar": {
              "outlinewidth": 0,
              "ticks": ""
             }
            },
            "type": "scattergeo"
           }
          ],
          "scattergl": [
           {
            "marker": {
             "colorbar": {
              "outlinewidth": 0,
              "ticks": ""
             }
            },
            "type": "scattergl"
           }
          ],
          "scattermapbox": [
           {
            "marker": {
             "colorbar": {
              "outlinewidth": 0,
              "ticks": ""
             }
            },
            "type": "scattermapbox"
           }
          ],
          "scatterpolar": [
           {
            "marker": {
             "colorbar": {
              "outlinewidth": 0,
              "ticks": ""
             }
            },
            "type": "scatterpolar"
           }
          ],
          "scatterpolargl": [
           {
            "marker": {
             "colorbar": {
              "outlinewidth": 0,
              "ticks": ""
             }
            },
            "type": "scatterpolargl"
           }
          ],
          "scatterternary": [
           {
            "marker": {
             "colorbar": {
              "outlinewidth": 0,
              "ticks": ""
             }
            },
            "type": "scatterternary"
           }
          ],
          "surface": [
           {
            "colorbar": {
             "outlinewidth": 0,
             "ticks": ""
            },
            "colorscale": [
             [
              0,
              "#0d0887"
             ],
             [
              0.1111111111111111,
              "#46039f"
             ],
             [
              0.2222222222222222,
              "#7201a8"
             ],
             [
              0.3333333333333333,
              "#9c179e"
             ],
             [
              0.4444444444444444,
              "#bd3786"
             ],
             [
              0.5555555555555556,
              "#d8576b"
             ],
             [
              0.6666666666666666,
              "#ed7953"
             ],
             [
              0.7777777777777778,
              "#fb9f3a"
             ],
             [
              0.8888888888888888,
              "#fdca26"
             ],
             [
              1,
              "#f0f921"
             ]
            ],
            "type": "surface"
           }
          ],
          "table": [
           {
            "cells": {
             "fill": {
              "color": "#EBF0F8"
             },
             "line": {
              "color": "white"
             }
            },
            "header": {
             "fill": {
              "color": "#C8D4E3"
             },
             "line": {
              "color": "white"
             }
            },
            "type": "table"
           }
          ]
         },
         "layout": {
          "annotationdefaults": {
           "arrowcolor": "#2a3f5f",
           "arrowhead": 0,
           "arrowwidth": 1
          },
          "autotypenumbers": "strict",
          "coloraxis": {
           "colorbar": {
            "outlinewidth": 0,
            "ticks": ""
           }
          },
          "colorscale": {
           "diverging": [
            [
             0,
             "#8e0152"
            ],
            [
             0.1,
             "#c51b7d"
            ],
            [
             0.2,
             "#de77ae"
            ],
            [
             0.3,
             "#f1b6da"
            ],
            [
             0.4,
             "#fde0ef"
            ],
            [
             0.5,
             "#f7f7f7"
            ],
            [
             0.6,
             "#e6f5d0"
            ],
            [
             0.7,
             "#b8e186"
            ],
            [
             0.8,
             "#7fbc41"
            ],
            [
             0.9,
             "#4d9221"
            ],
            [
             1,
             "#276419"
            ]
           ],
           "sequential": [
            [
             0,
             "#0d0887"
            ],
            [
             0.1111111111111111,
             "#46039f"
            ],
            [
             0.2222222222222222,
             "#7201a8"
            ],
            [
             0.3333333333333333,
             "#9c179e"
            ],
            [
             0.4444444444444444,
             "#bd3786"
            ],
            [
             0.5555555555555556,
             "#d8576b"
            ],
            [
             0.6666666666666666,
             "#ed7953"
            ],
            [
             0.7777777777777778,
             "#fb9f3a"
            ],
            [
             0.8888888888888888,
             "#fdca26"
            ],
            [
             1,
             "#f0f921"
            ]
           ],
           "sequentialminus": [
            [
             0,
             "#0d0887"
            ],
            [
             0.1111111111111111,
             "#46039f"
            ],
            [
             0.2222222222222222,
             "#7201a8"
            ],
            [
             0.3333333333333333,
             "#9c179e"
            ],
            [
             0.4444444444444444,
             "#bd3786"
            ],
            [
             0.5555555555555556,
             "#d8576b"
            ],
            [
             0.6666666666666666,
             "#ed7953"
            ],
            [
             0.7777777777777778,
             "#fb9f3a"
            ],
            [
             0.8888888888888888,
             "#fdca26"
            ],
            [
             1,
             "#f0f921"
            ]
           ]
          },
          "colorway": [
           "#636efa",
           "#EF553B",
           "#00cc96",
           "#ab63fa",
           "#FFA15A",
           "#19d3f3",
           "#FF6692",
           "#B6E880",
           "#FF97FF",
           "#FECB52"
          ],
          "font": {
           "color": "#2a3f5f"
          },
          "geo": {
           "bgcolor": "white",
           "lakecolor": "white",
           "landcolor": "#E5ECF6",
           "showlakes": true,
           "showland": true,
           "subunitcolor": "white"
          },
          "hoverlabel": {
           "align": "left"
          },
          "hovermode": "closest",
          "mapbox": {
           "style": "light"
          },
          "paper_bgcolor": "white",
          "plot_bgcolor": "#E5ECF6",
          "polar": {
           "angularaxis": {
            "gridcolor": "white",
            "linecolor": "white",
            "ticks": ""
           },
           "bgcolor": "#E5ECF6",
           "radialaxis": {
            "gridcolor": "white",
            "linecolor": "white",
            "ticks": ""
           }
          },
          "scene": {
           "xaxis": {
            "backgroundcolor": "#E5ECF6",
            "gridcolor": "white",
            "gridwidth": 2,
            "linecolor": "white",
            "showbackground": true,
            "ticks": "",
            "zerolinecolor": "white"
           },
           "yaxis": {
            "backgroundcolor": "#E5ECF6",
            "gridcolor": "white",
            "gridwidth": 2,
            "linecolor": "white",
            "showbackground": true,
            "ticks": "",
            "zerolinecolor": "white"
           },
           "zaxis": {
            "backgroundcolor": "#E5ECF6",
            "gridcolor": "white",
            "gridwidth": 2,
            "linecolor": "white",
            "showbackground": true,
            "ticks": "",
            "zerolinecolor": "white"
           }
          },
          "shapedefaults": {
           "line": {
            "color": "#2a3f5f"
           }
          },
          "ternary": {
           "aaxis": {
            "gridcolor": "white",
            "linecolor": "white",
            "ticks": ""
           },
           "baxis": {
            "gridcolor": "white",
            "linecolor": "white",
            "ticks": ""
           },
           "bgcolor": "#E5ECF6",
           "caxis": {
            "gridcolor": "white",
            "linecolor": "white",
            "ticks": ""
           }
          },
          "title": {
           "x": 0.05
          },
          "xaxis": {
           "automargin": true,
           "gridcolor": "white",
           "linecolor": "white",
           "ticks": "",
           "title": {
            "standoff": 15
           },
           "zerolinecolor": "white",
           "zerolinewidth": 2
          },
          "yaxis": {
           "automargin": true,
           "gridcolor": "white",
           "linecolor": "white",
           "ticks": "",
           "title": {
            "standoff": 15
           },
           "zerolinecolor": "white",
           "zerolinewidth": 2
          }
         }
        },
        "title": {
         "text": "Map Visualization"
        },
        "xaxis": {
         "title": {
          "text": "X Coordinate"
         }
        },
        "yaxis": {
         "title": {
          "text": "Y Coordinate"
         }
        }
       }
      }
     },
     "metadata": {},
     "output_type": "display_data"
    }
   ],
   "source": [
    "graphMap = GraphMap(\n",
    "    thermoelectric_labels=[f\"Th{i}\" for i in range(NO_THERMOELECTRICS)],\n",
    "    circuits_labels=[f\"C{i}\" for i in range(NO_CIRCUITS)],\n",
    "    towers_labels=[f\"Tw{i}\" for i in range(len(map_2d.towers_positions))],\n",
    "    thermoelectrics_positions=map_2d.thermoelectrics_positions,\n",
    "    circuits_positions=map_2d.circuits_positions,\n",
    "    towers_positions=map_2d.towers_positions,\n",
    ")\n",
    "\n",
    "graphMap.visualize()"
   ]
  },
  {
   "cell_type": "code",
   "execution_count": 4,
   "metadata": {},
   "outputs": [
    {
     "data": {
      "application/vnd.plotly.v1+json": {
       "config": {
        "plotlyServerURL": "https://plot.ly"
       },
       "data": [
        {
         "hoverinfo": "text",
         "hoverlabel": {
          "bgcolor": "white",
          "font": {
           "family": "Rockwell",
           "size": 16
          }
         },
         "line": {
          "color": "black"
         },
         "mode": "lines",
         "name": "Wire Connection",
         "showlegend": false,
         "text": "C0 -> Th3",
         "type": "scatter",
         "x": [
          77.77024105738202,
          79.32189834166
         ],
         "y": [
          23.75412200349123,
          16.8497369129662
         ]
        },
        {
         "hoverinfo": "text",
         "hoverlabel": {
          "bgcolor": "white",
          "font": {
           "family": "Rockwell",
           "size": 16
          }
         },
         "line": {
          "color": "black"
         },
         "mode": "lines",
         "name": "Wire Connection",
         "showlegend": false,
         "text": "C1 -> Th6",
         "type": "scatter",
         "x": [
          82.42785326613685,
          90.46084951811883
         ],
         "y": [
          96.57491980429998,
          92.02678498890222
         ]
        },
        {
         "hoverinfo": "text",
         "hoverlabel": {
          "bgcolor": "white",
          "font": {
           "family": "Rockwell",
           "size": 16
          }
         },
         "line": {
          "color": "black"
         },
         "mode": "lines",
         "name": "Wire Connection",
         "showlegend": false,
         "text": "C2 -> Th6",
         "type": "scatter",
         "x": [
          97.26011139048933,
          90.46084951811883
         ],
         "y": [
          45.34492474173122,
          92.02678498890222
         ]
        },
        {
         "hoverinfo": "text",
         "hoverlabel": {
          "bgcolor": "white",
          "font": {
           "family": "Rockwell",
           "size": 16
          }
         },
         "line": {
          "color": "black"
         },
         "mode": "lines",
         "name": "Wire Connection",
         "showlegend": false,
         "text": "C3 -> Th7",
         "type": "scatter",
         "x": [
          60.90424627612779,
          64.4861517072137
         ],
         "y": [
          77.55265146048467,
          65.78900948371631
         ]
        },
        {
         "hoverinfo": "text",
         "hoverlabel": {
          "bgcolor": "white",
          "font": {
           "family": "Rockwell",
           "size": 16
          }
         },
         "line": {
          "color": "black"
         },
         "mode": "lines",
         "name": "Wire Connection",
         "showlegend": false,
         "text": "C4 -> Th7",
         "type": "scatter",
         "x": [
          64.16133447590691,
          64.4861517072137
         ],
         "y": [
          72.20182295169472,
          65.78900948371631
         ]
        },
        {
         "hoverinfo": "text",
         "hoverlabel": {
          "bgcolor": "white",
          "font": {
           "family": "Rockwell",
           "size": 16
          }
         },
         "line": {
          "color": "black"
         },
         "mode": "lines",
         "name": "Wire Connection",
         "showlegend": false,
         "text": "C5 -> Th0",
         "type": "scatter",
         "x": [
          3.5036524101437316,
          16.32473082533196
         ],
         "y": [
          29.84494708891794,
          22.29206708272511
         ]
        },
        {
         "hoverinfo": "text",
         "hoverlabel": {
          "bgcolor": "white",
          "font": {
           "family": "Rockwell",
           "size": 16
          }
         },
         "line": {
          "color": "black"
         },
         "mode": "lines",
         "name": "Wire Connection",
         "showlegend": false,
         "text": "C6 -> Th4",
         "type": "scatter",
         "x": [
          5.851249188207475,
          10.56935439159571
         ],
         "y": [
          85.70609425871989,
          80.91594296734888
         ]
        },
        {
         "hoverinfo": "text",
         "hoverlabel": {
          "bgcolor": "white",
          "font": {
           "family": "Rockwell",
           "size": 16
          }
         },
         "line": {
          "color": "black"
         },
         "mode": "lines",
         "name": "Wire Connection",
         "showlegend": false,
         "text": "C7 -> Th5",
         "type": "scatter",
         "x": [
          37.28540278748075,
          31.671064940534162
         ],
         "y": [
          67.9847951578097,
          63.71793713299608
         ]
        },
        {
         "hoverinfo": "text",
         "hoverlabel": {
          "bgcolor": "white",
          "font": {
           "family": "Rockwell",
           "size": 16
          }
         },
         "line": {
          "color": "black"
         },
         "mode": "lines",
         "name": "Wire Connection",
         "showlegend": false,
         "text": "C8 -> Th0",
         "type": "scatter",
         "x": [
          25.62799493266301,
          16.32473082533196
         ],
         "y": [
          34.758121515249194,
          22.29206708272511
         ]
        },
        {
         "hoverinfo": "text",
         "hoverlabel": {
          "bgcolor": "white",
          "font": {
           "family": "Rockwell",
           "size": 16
          }
         },
         "line": {
          "color": "black"
         },
         "mode": "lines",
         "name": "Wire Connection",
         "showlegend": false,
         "text": "C9 -> Th0",
         "type": "scatter",
         "x": [
          0.9412770080969413,
          16.32473082533196
         ],
         "y": [
          35.83337827049697,
          22.29206708272511
         ]
        },
        {
         "hoverinfo": "text",
         "hoverlabel": {
          "bgcolor": "white",
          "font": {
           "family": "Rockwell",
           "size": 16
          }
         },
         "line": {
          "color": "black"
         },
         "mode": "lines",
         "name": "Wire Connection",
         "showlegend": false,
         "text": "C10 -> Th1",
         "type": "scatter",
         "x": [
          94.90941816782103,
          92.20903285568244
         ],
         "y": [
          21.789900913168893,
          47.14058099659941
         ]
        },
        {
         "hoverinfo": "text",
         "hoverlabel": {
          "bgcolor": "white",
          "font": {
           "family": "Rockwell",
           "size": 16
          }
         },
         "line": {
          "color": "black"
         },
         "mode": "lines",
         "name": "Wire Connection",
         "showlegend": false,
         "text": "C11 -> Th2",
         "type": "scatter",
         "x": [
          31.93913663803646,
          39.96373789383739
         ],
         "y": [
          91.77723860005874,
          93.66732654658269
         ]
        },
        {
         "hoverinfo": "text",
         "hoverlabel": {
          "bgcolor": "white",
          "font": {
           "family": "Rockwell",
           "size": 16
          }
         },
         "line": {
          "color": "black"
         },
         "mode": "lines",
         "name": "Wire Connection",
         "showlegend": false,
         "text": "C12 -> Th0",
         "type": "scatter",
         "x": [
          3.190366643989473,
          16.32473082533196
         ],
         "y": [
          6.508453704251449,
          22.29206708272511
         ]
        },
        {
         "hoverinfo": "text",
         "hoverlabel": {
          "bgcolor": "white",
          "font": {
           "family": "Rockwell",
           "size": 16
          }
         },
         "line": {
          "color": "black"
         },
         "mode": "lines",
         "name": "Wire Connection",
         "showlegend": false,
         "text": "C13 -> Th7",
         "type": "scatter",
         "x": [
          62.982899910782294,
          64.4861517072137
         ],
         "y": [
          87.38134432795387,
          65.78900948371631
         ]
        },
        {
         "hoverinfo": "text",
         "hoverlabel": {
          "bgcolor": "white",
          "font": {
           "family": "Rockwell",
           "size": 16
          }
         },
         "line": {
          "color": "black"
         },
         "mode": "lines",
         "name": "Wire Connection",
         "showlegend": false,
         "text": "C14 -> Th4",
         "type": "scatter",
         "x": [
          0.8715732303784862,
          10.56935439159571
         ],
         "y": [
          74.65772369939376,
          80.91594296734888
         ]
        },
        {
         "hoverinfo": "text",
         "hoverlabel": {
          "bgcolor": "white",
          "font": {
           "family": "Rockwell",
           "size": 16
          }
         },
         "line": {
          "color": "black"
         },
         "mode": "lines",
         "name": "Wire Connection",
         "showlegend": false,
         "text": "C15 -> Th1",
         "type": "scatter",
         "x": [
          81.28411710026235,
          92.20903285568244
         ],
         "y": [
          7.571744617226672,
          47.14058099659941
         ]
        },
        {
         "hoverinfo": "text",
         "hoverlabel": {
          "bgcolor": "white",
          "font": {
           "family": "Rockwell",
           "size": 16
          }
         },
         "line": {
          "color": "black"
         },
         "mode": "lines",
         "name": "Wire Connection",
         "showlegend": false,
         "text": "C16 -> Th7",
         "type": "scatter",
         "x": [
          65.64553345969578,
          64.4861517072137
         ],
         "y": [
          50.92622000835182,
          65.78900948371631
         ]
        },
        {
         "hoverinfo": "text",
         "hoverlabel": {
          "bgcolor": "white",
          "font": {
           "family": "Rockwell",
           "size": 16
          }
         },
         "line": {
          "color": "black"
         },
         "mode": "lines",
         "name": "Wire Connection",
         "showlegend": false,
         "text": "C17 -> Th7",
         "type": "scatter",
         "x": [
          47.988339149638314,
          64.4861517072137
         ],
         "y": [
          95.55741449310663,
          65.78900948371631
         ]
        },
        {
         "hoverinfo": "text",
         "hoverlabel": {
          "bgcolor": "white",
          "font": {
           "family": "Rockwell",
           "size": 16
          }
         },
         "line": {
          "color": "black"
         },
         "mode": "lines",
         "name": "Wire Connection",
         "showlegend": false,
         "text": "C18 -> Th0",
         "type": "scatter",
         "x": [
          0.00120335694850926,
          16.32473082533196
         ],
         "y": [
          24.697870099191633,
          22.29206708272511
         ]
        },
        {
         "hoverinfo": "text",
         "hoverlabel": {
          "bgcolor": "white",
          "font": {
           "family": "Rockwell",
           "size": 16
          }
         },
         "line": {
          "color": "black"
         },
         "mode": "lines",
         "name": "Wire Connection",
         "showlegend": false,
         "text": "C19 -> Th3",
         "type": "scatter",
         "x": [
          71.22326779115835,
          79.32189834166
         ],
         "y": [
          32.45820497867131,
          16.8497369129662
         ]
        },
        {
         "hoverinfo": "text",
         "hoverlabel": {
          "bgcolor": "white",
          "font": {
           "family": "Rockwell",
           "size": 16
          }
         },
         "line": {
          "color": "black"
         },
         "mode": "lines",
         "name": "Wire Connection",
         "showlegend": false,
         "text": "C20 -> Th2",
         "type": "scatter",
         "x": [
          27.699635638380947,
          39.96373789383739
         ],
         "y": [
          69.54454525534746,
          93.66732654658269
         ]
        },
        {
         "hoverinfo": "text",
         "hoverlabel": {
          "bgcolor": "white",
          "font": {
           "family": "Rockwell",
           "size": 16
          }
         },
         "line": {
          "color": "black"
         },
         "mode": "lines",
         "name": "Wire Connection",
         "showlegend": false,
         "text": "C21 -> Th1",
         "type": "scatter",
         "x": [
          91.85517481459487,
          92.20903285568244
         ],
         "y": [
          24.44757021979903,
          47.14058099659941
         ]
        },
        {
         "hoverinfo": "text",
         "hoverlabel": {
          "bgcolor": "white",
          "font": {
           "family": "Rockwell",
           "size": 16
          }
         },
         "line": {
          "color": "black"
         },
         "mode": "lines",
         "name": "Wire Connection",
         "showlegend": false,
         "text": "C22 -> Th5",
         "type": "scatter",
         "x": [
          45.80858172767637,
          31.671064940534162
         ],
         "y": [
          25.299268282150646,
          63.71793713299608
         ]
        },
        {
         "hoverinfo": "text",
         "hoverlabel": {
          "bgcolor": "white",
          "font": {
           "family": "Rockwell",
           "size": 16
          }
         },
         "line": {
          "color": "black"
         },
         "mode": "lines",
         "name": "Wire Connection",
         "showlegend": false,
         "text": "C23 -> Th5",
         "type": "scatter",
         "x": [
          37.93332914830662,
          31.671064940534162
         ],
         "y": [
          60.4538828631711,
          63.71793713299608
         ]
        },
        {
         "hoverinfo": "text",
         "hoverlabel": {
          "bgcolor": "white",
          "font": {
           "family": "Rockwell",
           "size": 16
          }
         },
         "line": {
          "color": "black"
         },
         "mode": "lines",
         "name": "Wire Connection",
         "showlegend": false,
         "text": "C24 -> Th1",
         "type": "scatter",
         "x": [
          77.2378759680558,
          92.20903285568244
         ],
         "y": [
          6.79174967944145,
          47.14058099659941
         ]
        },
        {
         "hoverinfo": "text",
         "hoverlabel": {
          "bgcolor": "white",
          "font": {
           "family": "Rockwell",
           "size": 16
          }
         },
         "line": {
          "color": "black"
         },
         "mode": "lines",
         "name": "Wire Connection",
         "showlegend": false,
         "text": "C25 -> Th7",
         "type": "scatter",
         "x": [
          68.60850791873135,
          64.4861517072137
         ],
         "y": [
          54.826009739582524,
          65.78900948371631
         ]
        },
        {
         "hoverinfo": "text",
         "hoverlabel": {
          "bgcolor": "white",
          "font": {
           "family": "Rockwell",
           "size": 16
          }
         },
         "line": {
          "color": "black"
         },
         "mode": "lines",
         "name": "Wire Connection",
         "showlegend": false,
         "text": "C26 -> Th0",
         "type": "scatter",
         "x": [
          13.798605275825725,
          16.32473082533196
         ],
         "y": [
          9.875321920491842,
          22.29206708272511
         ]
        },
        {
         "hoverinfo": "text",
         "hoverlabel": {
          "bgcolor": "white",
          "font": {
           "family": "Rockwell",
           "size": 16
          }
         },
         "line": {
          "color": "black"
         },
         "mode": "lines",
         "name": "Wire Connection",
         "showlegend": false,
         "text": "C27 -> Th0",
         "type": "scatter",
         "x": [
          24.555910532465564,
          16.32473082533196
         ],
         "y": [
          15.17866625844726,
          22.29206708272511
         ]
        },
        {
         "hoverinfo": "text",
         "hoverlabel": {
          "bgcolor": "white",
          "font": {
           "family": "Rockwell",
           "size": 16
          }
         },
         "line": {
          "color": "black"
         },
         "mode": "lines",
         "name": "Wire Connection",
         "showlegend": false,
         "text": "C28 -> Th6",
         "type": "scatter",
         "x": [
          92.59944794902178,
          90.46084951811883
         ],
         "y": [
          68.0105015604642,
          92.02678498890222
         ]
        },
        {
         "hoverinfo": "text",
         "hoverlabel": {
          "bgcolor": "white",
          "font": {
           "family": "Rockwell",
           "size": 16
          }
         },
         "line": {
          "color": "black"
         },
         "mode": "lines",
         "name": "Wire Connection",
         "showlegend": false,
         "text": "C29 -> Th0",
         "type": "scatter",
         "x": [
          23.76589218796833,
          16.32473082533196
         ],
         "y": [
          56.88852525565604,
          22.29206708272511
         ]
        },
        {
         "hoverinfo": "text",
         "hoverlabel": {
          "bgcolor": "white",
          "font": {
           "family": "Rockwell",
           "size": 16
          }
         },
         "line": {
          "color": "black"
         },
         "mode": "lines",
         "name": "Wire Connection",
         "showlegend": false,
         "text": "C30 -> Th3",
         "type": "scatter",
         "x": [
          55.663205143440265,
          79.32189834166
         ],
         "y": [
          7.273721088434781,
          16.8497369129662
         ]
        },
        {
         "hoverinfo": "text",
         "hoverlabel": {
          "bgcolor": "white",
          "font": {
           "family": "Rockwell",
           "size": 16
          }
         },
         "line": {
          "color": "black"
         },
         "mode": "lines",
         "name": "Wire Connection",
         "showlegend": false,
         "text": "C31 -> Th1",
         "type": "scatter",
         "x": [
          83.97085104160709,
          92.20903285568244
         ],
         "y": [
          40.53194926981314,
          47.14058099659941
         ]
        },
        {
         "hoverinfo": "text",
         "hoverlabel": {
          "bgcolor": "white",
          "font": {
           "family": "Rockwell",
           "size": 16
          }
         },
         "line": {
          "color": "black"
         },
         "mode": "lines",
         "name": "Wire Connection",
         "showlegend": false,
         "text": "C32 -> Th0",
         "type": "scatter",
         "x": [
          14.48709890463251,
          16.32473082533196
         ],
         "y": [
          19.092005866659367,
          22.29206708272511
         ]
        },
        {
         "hoverinfo": "text",
         "hoverlabel": {
          "bgcolor": "white",
          "font": {
           "family": "Rockwell",
           "size": 16
          }
         },
         "line": {
          "color": "black"
         },
         "mode": "lines",
         "name": "Wire Connection",
         "showlegend": false,
         "text": "C33 -> Th7",
         "type": "scatter",
         "x": [
          49.064013706516086,
          64.4861517072137
         ],
         "y": [
          71.20243742497533,
          65.78900948371631
         ]
        },
        {
         "hoverinfo": "text",
         "hoverlabel": {
          "bgcolor": "white",
          "font": {
           "family": "Rockwell",
           "size": 16
          }
         },
         "line": {
          "color": "black"
         },
         "mode": "lines",
         "name": "Wire Connection",
         "showlegend": false,
         "text": "C34 -> Th6",
         "type": "scatter",
         "x": [
          98.4938457701008,
          90.46084951811883
         ],
         "y": [
          87.47865017350445,
          92.02678498890222
         ]
        },
        {
         "hoverinfo": "text",
         "hoverlabel": {
          "bgcolor": "white",
          "font": {
           "family": "Rockwell",
           "size": 16
          }
         },
         "line": {
          "color": "black"
         },
         "mode": "lines",
         "name": "Wire Connection",
         "showlegend": false,
         "text": "C35 -> Th3",
         "type": "scatter",
         "x": [
          49.904168390089396,
          79.32189834166
         ],
         "y": [
          10.677999399370886,
          16.8497369129662
         ]
        },
        {
         "hoverinfo": "text",
         "hoverlabel": {
          "bgcolor": "white",
          "font": {
           "family": "Rockwell",
           "size": 16
          }
         },
         "line": {
          "color": "black"
         },
         "mode": "lines",
         "name": "Wire Connection",
         "showlegend": false,
         "text": "C36 -> Th1",
         "type": "scatter",
         "x": [
          91.3212806989643,
          92.20903285568244
         ],
         "y": [
          36.4915960886285,
          47.14058099659941
         ]
        },
        {
         "hoverinfo": "text",
         "hoverlabel": {
          "bgcolor": "white",
          "font": {
           "family": "Rockwell",
           "size": 16
          }
         },
         "line": {
          "color": "black"
         },
         "mode": "lines",
         "name": "Wire Connection",
         "showlegend": false,
         "text": "C37 -> Th2",
         "type": "scatter",
         "x": [
          22.658787689942837,
          39.96373789383739
         ],
         "y": [
          87.24318623454285,
          93.66732654658269
         ]
        },
        {
         "hoverinfo": "text",
         "hoverlabel": {
          "bgcolor": "white",
          "font": {
           "family": "Rockwell",
           "size": 16
          }
         },
         "line": {
          "color": "black"
         },
         "mode": "lines",
         "name": "Wire Connection",
         "showlegend": false,
         "text": "C38 -> Th0",
         "type": "scatter",
         "x": [
          13.635835175923795,
          16.32473082533196
         ],
         "y": [
          23.638016015282027,
          22.29206708272511
         ]
        },
        {
         "hoverinfo": "text",
         "hoverlabel": {
          "bgcolor": "white",
          "font": {
           "family": "Rockwell",
           "size": 16
          }
         },
         "line": {
          "color": "black"
         },
         "mode": "lines",
         "name": "Wire Connection",
         "showlegend": false,
         "text": "C39 -> Th7",
         "type": "scatter",
         "x": [
          59.53992453523792,
          64.4861517072137
         ],
         "y": [
          56.3922609078715,
          65.78900948371631
         ]
        },
        {
         "hoverinfo": "text",
         "hoverlabel": {
          "bgcolor": "white",
          "font": {
           "family": "Rockwell",
           "size": 16
          }
         },
         "line": {
          "color": "black"
         },
         "mode": "lines",
         "name": "Wire Connection",
         "showlegend": false,
         "text": "C40 -> Th6",
         "type": "scatter",
         "x": [
          95.89347319832972,
          90.46084951811883
         ],
         "y": [
          45.32393332235999,
          92.02678498890222
         ]
        },
        {
         "hoverinfo": "text",
         "hoverlabel": {
          "bgcolor": "white",
          "font": {
           "family": "Rockwell",
           "size": 16
          }
         },
         "line": {
          "color": "black"
         },
         "mode": "lines",
         "name": "Wire Connection",
         "showlegend": false,
         "text": "C41 -> Th4",
         "type": "scatter",
         "x": [
          12.895807457854048,
          10.56935439159571
         ],
         "y": [
          76.056767676739,
          80.91594296734888
         ]
        },
        {
         "hoverinfo": "text",
         "hoverlabel": {
          "bgcolor": "white",
          "font": {
           "family": "Rockwell",
           "size": 16
          }
         },
         "line": {
          "color": "black"
         },
         "mode": "lines",
         "name": "Wire Connection",
         "showlegend": false,
         "text": "C42 -> Th0",
         "type": "scatter",
         "x": [
          20.163407511411524,
          16.32473082533196
         ],
         "y": [
          17.57298632131816,
          22.29206708272511
         ]
        },
        {
         "hoverinfo": "text",
         "hoverlabel": {
          "bgcolor": "white",
          "font": {
           "family": "Rockwell",
           "size": 16
          }
         },
         "line": {
          "color": "black"
         },
         "mode": "lines",
         "name": "Wire Connection",
         "showlegend": false,
         "text": "C43 -> Th5",
         "type": "scatter",
         "x": [
          43.71180126508111,
          31.671064940534162
         ],
         "y": [
          34.02608028478126,
          63.71793713299608
         ]
        },
        {
         "hoverinfo": "text",
         "hoverlabel": {
          "bgcolor": "white",
          "font": {
           "family": "Rockwell",
           "size": 16
          }
         },
         "line": {
          "color": "black"
         },
         "mode": "lines",
         "name": "Wire Connection",
         "showlegend": false,
         "text": "C44 -> Th1",
         "type": "scatter",
         "x": [
          96.72531085605694,
          92.20903285568244
         ],
         "y": [
          14.302607708757154,
          47.14058099659941
         ]
        },
        {
         "hoverinfo": "text",
         "hoverlabel": {
          "bgcolor": "white",
          "font": {
           "family": "Rockwell",
           "size": 16
          }
         },
         "line": {
          "color": "black"
         },
         "mode": "lines",
         "name": "Wire Connection",
         "showlegend": false,
         "text": "C45 -> Th3",
         "type": "scatter",
         "x": [
          84.4558532806118,
          79.32189834166
         ],
         "y": [
          66.94061399806628,
          16.8497369129662
         ]
        },
        {
         "hoverinfo": "text",
         "hoverlabel": {
          "bgcolor": "white",
          "font": {
           "family": "Rockwell",
           "size": 16
          }
         },
         "line": {
          "color": "black"
         },
         "mode": "lines",
         "name": "Wire Connection",
         "showlegend": false,
         "text": "C46 -> Th0",
         "type": "scatter",
         "x": [
          10.930490807954563,
          16.32473082533196
         ],
         "y": [
          8.8253540029274,
          22.29206708272511
         ]
        },
        {
         "hoverinfo": "text",
         "hoverlabel": {
          "bgcolor": "white",
          "font": {
           "family": "Rockwell",
           "size": 16
          }
         },
         "line": {
          "color": "black"
         },
         "mode": "lines",
         "name": "Wire Connection",
         "showlegend": false,
         "text": "C47 -> Th1",
         "type": "scatter",
         "x": [
          96.64620412773903,
          92.20903285568244
         ],
         "y": [
          19.42974852130065,
          47.14058099659941
         ]
        },
        {
         "hoverinfo": "text",
         "hoverlabel": {
          "bgcolor": "white",
          "font": {
           "family": "Rockwell",
           "size": 16
          }
         },
         "line": {
          "color": "black"
         },
         "mode": "lines",
         "name": "Wire Connection",
         "showlegend": false,
         "text": "C48 -> Th0",
         "type": "scatter",
         "x": [
          8.190006001834515,
          16.32473082533196
         ],
         "y": [
          26.938469527986364,
          22.29206708272511
         ]
        },
        {
         "hoverinfo": "text",
         "hoverlabel": {
          "bgcolor": "white",
          "font": {
           "family": "Rockwell",
           "size": 16
          }
         },
         "line": {
          "color": "black"
         },
         "mode": "lines",
         "name": "Wire Connection",
         "showlegend": false,
         "text": "C49 -> Th7",
         "type": "scatter",
         "x": [
          65.01305180131334,
          64.4861517072137
         ],
         "y": [
          54.67772453446605,
          65.78900948371631
         ]
        },
        {
         "hoverinfo": "text",
         "marker": {
          "color": "red",
          "size": 10
         },
         "mode": "markers+text",
         "text": [
          "C0"
         ],
         "textposition": "top center",
         "type": "scatter",
         "x": [
          77.77024105738202
         ],
         "y": [
          23.75412200349123
         ]
        },
        {
         "hoverinfo": "text",
         "marker": {
          "color": "red",
          "size": 10
         },
         "mode": "markers+text",
         "text": [
          "C1"
         ],
         "textposition": "top center",
         "type": "scatter",
         "x": [
          82.42785326613685
         ],
         "y": [
          96.57491980429998
         ]
        },
        {
         "hoverinfo": "text",
         "marker": {
          "color": "red",
          "size": 10
         },
         "mode": "markers+text",
         "text": [
          "C2"
         ],
         "textposition": "top center",
         "type": "scatter",
         "x": [
          97.26011139048933
         ],
         "y": [
          45.34492474173122
         ]
        },
        {
         "hoverinfo": "text",
         "marker": {
          "color": "red",
          "size": 10
         },
         "mode": "markers+text",
         "text": [
          "C3"
         ],
         "textposition": "top center",
         "type": "scatter",
         "x": [
          60.90424627612779
         ],
         "y": [
          77.55265146048467
         ]
        },
        {
         "hoverinfo": "text",
         "marker": {
          "color": "red",
          "size": 10
         },
         "mode": "markers+text",
         "text": [
          "C4"
         ],
         "textposition": "top center",
         "type": "scatter",
         "x": [
          64.16133447590691
         ],
         "y": [
          72.20182295169472
         ]
        },
        {
         "hoverinfo": "text",
         "marker": {
          "color": "red",
          "size": 10
         },
         "mode": "markers+text",
         "text": [
          "C5"
         ],
         "textposition": "top center",
         "type": "scatter",
         "x": [
          3.5036524101437316
         ],
         "y": [
          29.84494708891794
         ]
        },
        {
         "hoverinfo": "text",
         "marker": {
          "color": "red",
          "size": 10
         },
         "mode": "markers+text",
         "text": [
          "C6"
         ],
         "textposition": "top center",
         "type": "scatter",
         "x": [
          5.851249188207475
         ],
         "y": [
          85.70609425871989
         ]
        },
        {
         "hoverinfo": "text",
         "marker": {
          "color": "red",
          "size": 10
         },
         "mode": "markers+text",
         "text": [
          "C7"
         ],
         "textposition": "top center",
         "type": "scatter",
         "x": [
          37.28540278748075
         ],
         "y": [
          67.9847951578097
         ]
        },
        {
         "hoverinfo": "text",
         "marker": {
          "color": "red",
          "size": 10
         },
         "mode": "markers+text",
         "text": [
          "C8"
         ],
         "textposition": "top center",
         "type": "scatter",
         "x": [
          25.62799493266301
         ],
         "y": [
          34.758121515249194
         ]
        },
        {
         "hoverinfo": "text",
         "marker": {
          "color": "red",
          "size": 10
         },
         "mode": "markers+text",
         "text": [
          "C9"
         ],
         "textposition": "top center",
         "type": "scatter",
         "x": [
          0.9412770080969413
         ],
         "y": [
          35.83337827049697
         ]
        },
        {
         "hoverinfo": "text",
         "marker": {
          "color": "red",
          "size": 10
         },
         "mode": "markers+text",
         "text": [
          "C10"
         ],
         "textposition": "top center",
         "type": "scatter",
         "x": [
          94.90941816782103
         ],
         "y": [
          21.789900913168893
         ]
        },
        {
         "hoverinfo": "text",
         "marker": {
          "color": "red",
          "size": 10
         },
         "mode": "markers+text",
         "text": [
          "C11"
         ],
         "textposition": "top center",
         "type": "scatter",
         "x": [
          31.93913663803646
         ],
         "y": [
          91.77723860005874
         ]
        },
        {
         "hoverinfo": "text",
         "marker": {
          "color": "red",
          "size": 10
         },
         "mode": "markers+text",
         "text": [
          "C12"
         ],
         "textposition": "top center",
         "type": "scatter",
         "x": [
          3.190366643989473
         ],
         "y": [
          6.508453704251449
         ]
        },
        {
         "hoverinfo": "text",
         "marker": {
          "color": "red",
          "size": 10
         },
         "mode": "markers+text",
         "text": [
          "C13"
         ],
         "textposition": "top center",
         "type": "scatter",
         "x": [
          62.982899910782294
         ],
         "y": [
          87.38134432795387
         ]
        },
        {
         "hoverinfo": "text",
         "marker": {
          "color": "red",
          "size": 10
         },
         "mode": "markers+text",
         "text": [
          "C14"
         ],
         "textposition": "top center",
         "type": "scatter",
         "x": [
          0.8715732303784862
         ],
         "y": [
          74.65772369939376
         ]
        },
        {
         "hoverinfo": "text",
         "marker": {
          "color": "red",
          "size": 10
         },
         "mode": "markers+text",
         "text": [
          "C15"
         ],
         "textposition": "top center",
         "type": "scatter",
         "x": [
          81.28411710026235
         ],
         "y": [
          7.571744617226672
         ]
        },
        {
         "hoverinfo": "text",
         "marker": {
          "color": "red",
          "size": 10
         },
         "mode": "markers+text",
         "text": [
          "C16"
         ],
         "textposition": "top center",
         "type": "scatter",
         "x": [
          65.64553345969578
         ],
         "y": [
          50.92622000835182
         ]
        },
        {
         "hoverinfo": "text",
         "marker": {
          "color": "red",
          "size": 10
         },
         "mode": "markers+text",
         "text": [
          "C17"
         ],
         "textposition": "top center",
         "type": "scatter",
         "x": [
          47.988339149638314
         ],
         "y": [
          95.55741449310663
         ]
        },
        {
         "hoverinfo": "text",
         "marker": {
          "color": "red",
          "size": 10
         },
         "mode": "markers+text",
         "text": [
          "C18"
         ],
         "textposition": "top center",
         "type": "scatter",
         "x": [
          0.00120335694850926
         ],
         "y": [
          24.697870099191633
         ]
        },
        {
         "hoverinfo": "text",
         "marker": {
          "color": "red",
          "size": 10
         },
         "mode": "markers+text",
         "text": [
          "C19"
         ],
         "textposition": "top center",
         "type": "scatter",
         "x": [
          71.22326779115835
         ],
         "y": [
          32.45820497867131
         ]
        },
        {
         "hoverinfo": "text",
         "marker": {
          "color": "red",
          "size": 10
         },
         "mode": "markers+text",
         "text": [
          "C20"
         ],
         "textposition": "top center",
         "type": "scatter",
         "x": [
          27.699635638380947
         ],
         "y": [
          69.54454525534746
         ]
        },
        {
         "hoverinfo": "text",
         "marker": {
          "color": "red",
          "size": 10
         },
         "mode": "markers+text",
         "text": [
          "C21"
         ],
         "textposition": "top center",
         "type": "scatter",
         "x": [
          91.85517481459487
         ],
         "y": [
          24.44757021979903
         ]
        },
        {
         "hoverinfo": "text",
         "marker": {
          "color": "red",
          "size": 10
         },
         "mode": "markers+text",
         "text": [
          "C22"
         ],
         "textposition": "top center",
         "type": "scatter",
         "x": [
          45.80858172767637
         ],
         "y": [
          25.299268282150646
         ]
        },
        {
         "hoverinfo": "text",
         "marker": {
          "color": "red",
          "size": 10
         },
         "mode": "markers+text",
         "text": [
          "C23"
         ],
         "textposition": "top center",
         "type": "scatter",
         "x": [
          37.93332914830662
         ],
         "y": [
          60.4538828631711
         ]
        },
        {
         "hoverinfo": "text",
         "marker": {
          "color": "red",
          "size": 10
         },
         "mode": "markers+text",
         "text": [
          "C24"
         ],
         "textposition": "top center",
         "type": "scatter",
         "x": [
          77.2378759680558
         ],
         "y": [
          6.79174967944145
         ]
        },
        {
         "hoverinfo": "text",
         "marker": {
          "color": "red",
          "size": 10
         },
         "mode": "markers+text",
         "text": [
          "C25"
         ],
         "textposition": "top center",
         "type": "scatter",
         "x": [
          68.60850791873135
         ],
         "y": [
          54.826009739582524
         ]
        },
        {
         "hoverinfo": "text",
         "marker": {
          "color": "red",
          "size": 10
         },
         "mode": "markers+text",
         "text": [
          "C26"
         ],
         "textposition": "top center",
         "type": "scatter",
         "x": [
          13.798605275825725
         ],
         "y": [
          9.875321920491842
         ]
        },
        {
         "hoverinfo": "text",
         "marker": {
          "color": "red",
          "size": 10
         },
         "mode": "markers+text",
         "text": [
          "C27"
         ],
         "textposition": "top center",
         "type": "scatter",
         "x": [
          24.555910532465564
         ],
         "y": [
          15.17866625844726
         ]
        },
        {
         "hoverinfo": "text",
         "marker": {
          "color": "red",
          "size": 10
         },
         "mode": "markers+text",
         "text": [
          "C28"
         ],
         "textposition": "top center",
         "type": "scatter",
         "x": [
          92.59944794902178
         ],
         "y": [
          68.0105015604642
         ]
        },
        {
         "hoverinfo": "text",
         "marker": {
          "color": "red",
          "size": 10
         },
         "mode": "markers+text",
         "text": [
          "C29"
         ],
         "textposition": "top center",
         "type": "scatter",
         "x": [
          23.76589218796833
         ],
         "y": [
          56.88852525565604
         ]
        },
        {
         "hoverinfo": "text",
         "marker": {
          "color": "red",
          "size": 10
         },
         "mode": "markers+text",
         "text": [
          "C30"
         ],
         "textposition": "top center",
         "type": "scatter",
         "x": [
          55.663205143440265
         ],
         "y": [
          7.273721088434781
         ]
        },
        {
         "hoverinfo": "text",
         "marker": {
          "color": "red",
          "size": 10
         },
         "mode": "markers+text",
         "text": [
          "C31"
         ],
         "textposition": "top center",
         "type": "scatter",
         "x": [
          83.97085104160709
         ],
         "y": [
          40.53194926981314
         ]
        },
        {
         "hoverinfo": "text",
         "marker": {
          "color": "red",
          "size": 10
         },
         "mode": "markers+text",
         "text": [
          "C32"
         ],
         "textposition": "top center",
         "type": "scatter",
         "x": [
          14.48709890463251
         ],
         "y": [
          19.092005866659367
         ]
        },
        {
         "hoverinfo": "text",
         "marker": {
          "color": "red",
          "size": 10
         },
         "mode": "markers+text",
         "text": [
          "C33"
         ],
         "textposition": "top center",
         "type": "scatter",
         "x": [
          49.064013706516086
         ],
         "y": [
          71.20243742497533
         ]
        },
        {
         "hoverinfo": "text",
         "marker": {
          "color": "red",
          "size": 10
         },
         "mode": "markers+text",
         "text": [
          "C34"
         ],
         "textposition": "top center",
         "type": "scatter",
         "x": [
          98.4938457701008
         ],
         "y": [
          87.47865017350445
         ]
        },
        {
         "hoverinfo": "text",
         "marker": {
          "color": "red",
          "size": 10
         },
         "mode": "markers+text",
         "text": [
          "C35"
         ],
         "textposition": "top center",
         "type": "scatter",
         "x": [
          49.904168390089396
         ],
         "y": [
          10.677999399370886
         ]
        },
        {
         "hoverinfo": "text",
         "marker": {
          "color": "red",
          "size": 10
         },
         "mode": "markers+text",
         "text": [
          "C36"
         ],
         "textposition": "top center",
         "type": "scatter",
         "x": [
          91.3212806989643
         ],
         "y": [
          36.4915960886285
         ]
        },
        {
         "hoverinfo": "text",
         "marker": {
          "color": "red",
          "size": 10
         },
         "mode": "markers+text",
         "text": [
          "C37"
         ],
         "textposition": "top center",
         "type": "scatter",
         "x": [
          22.658787689942837
         ],
         "y": [
          87.24318623454285
         ]
        },
        {
         "hoverinfo": "text",
         "marker": {
          "color": "red",
          "size": 10
         },
         "mode": "markers+text",
         "text": [
          "C38"
         ],
         "textposition": "top center",
         "type": "scatter",
         "x": [
          13.635835175923795
         ],
         "y": [
          23.638016015282027
         ]
        },
        {
         "hoverinfo": "text",
         "marker": {
          "color": "red",
          "size": 10
         },
         "mode": "markers+text",
         "text": [
          "C39"
         ],
         "textposition": "top center",
         "type": "scatter",
         "x": [
          59.53992453523792
         ],
         "y": [
          56.3922609078715
         ]
        },
        {
         "hoverinfo": "text",
         "marker": {
          "color": "red",
          "size": 10
         },
         "mode": "markers+text",
         "text": [
          "C40"
         ],
         "textposition": "top center",
         "type": "scatter",
         "x": [
          95.89347319832972
         ],
         "y": [
          45.32393332235999
         ]
        },
        {
         "hoverinfo": "text",
         "marker": {
          "color": "red",
          "size": 10
         },
         "mode": "markers+text",
         "text": [
          "C41"
         ],
         "textposition": "top center",
         "type": "scatter",
         "x": [
          12.895807457854048
         ],
         "y": [
          76.056767676739
         ]
        },
        {
         "hoverinfo": "text",
         "marker": {
          "color": "red",
          "size": 10
         },
         "mode": "markers+text",
         "text": [
          "C42"
         ],
         "textposition": "top center",
         "type": "scatter",
         "x": [
          20.163407511411524
         ],
         "y": [
          17.57298632131816
         ]
        },
        {
         "hoverinfo": "text",
         "marker": {
          "color": "red",
          "size": 10
         },
         "mode": "markers+text",
         "text": [
          "C43"
         ],
         "textposition": "top center",
         "type": "scatter",
         "x": [
          43.71180126508111
         ],
         "y": [
          34.02608028478126
         ]
        },
        {
         "hoverinfo": "text",
         "marker": {
          "color": "red",
          "size": 10
         },
         "mode": "markers+text",
         "text": [
          "C44"
         ],
         "textposition": "top center",
         "type": "scatter",
         "x": [
          96.72531085605694
         ],
         "y": [
          14.302607708757154
         ]
        },
        {
         "hoverinfo": "text",
         "marker": {
          "color": "red",
          "size": 10
         },
         "mode": "markers+text",
         "text": [
          "C45"
         ],
         "textposition": "top center",
         "type": "scatter",
         "x": [
          84.4558532806118
         ],
         "y": [
          66.94061399806628
         ]
        },
        {
         "hoverinfo": "text",
         "marker": {
          "color": "red",
          "size": 10
         },
         "mode": "markers+text",
         "text": [
          "C46"
         ],
         "textposition": "top center",
         "type": "scatter",
         "x": [
          10.930490807954563
         ],
         "y": [
          8.8253540029274
         ]
        },
        {
         "hoverinfo": "text",
         "marker": {
          "color": "red",
          "size": 10
         },
         "mode": "markers+text",
         "text": [
          "C47"
         ],
         "textposition": "top center",
         "type": "scatter",
         "x": [
          96.64620412773903
         ],
         "y": [
          19.42974852130065
         ]
        },
        {
         "hoverinfo": "text",
         "marker": {
          "color": "red",
          "size": 10
         },
         "mode": "markers+text",
         "text": [
          "C48"
         ],
         "textposition": "top center",
         "type": "scatter",
         "x": [
          8.190006001834515
         ],
         "y": [
          26.938469527986364
         ]
        },
        {
         "hoverinfo": "text",
         "marker": {
          "color": "red",
          "size": 10
         },
         "mode": "markers+text",
         "text": [
          "C49"
         ],
         "textposition": "top center",
         "type": "scatter",
         "x": [
          65.01305180131334
         ],
         "y": [
          54.67772453446605
         ]
        },
        {
         "hoverinfo": "text",
         "marker": {
          "color": "blue",
          "size": 10
         },
         "mode": "markers+text",
         "text": [
          "Th0"
         ],
         "textposition": "top center",
         "type": "scatter",
         "x": [
          16.32473082533196
         ],
         "y": [
          22.29206708272511
         ]
        },
        {
         "hoverinfo": "text",
         "marker": {
          "color": "blue",
          "size": 10
         },
         "mode": "markers+text",
         "text": [
          "Th1"
         ],
         "textposition": "top center",
         "type": "scatter",
         "x": [
          92.20903285568244
         ],
         "y": [
          47.14058099659941
         ]
        },
        {
         "hoverinfo": "text",
         "marker": {
          "color": "blue",
          "size": 10
         },
         "mode": "markers+text",
         "text": [
          "Th2"
         ],
         "textposition": "top center",
         "type": "scatter",
         "x": [
          39.96373789383739
         ],
         "y": [
          93.66732654658269
         ]
        },
        {
         "hoverinfo": "text",
         "marker": {
          "color": "blue",
          "size": 10
         },
         "mode": "markers+text",
         "text": [
          "Th3"
         ],
         "textposition": "top center",
         "type": "scatter",
         "x": [
          79.32189834166
         ],
         "y": [
          16.8497369129662
         ]
        },
        {
         "hoverinfo": "text",
         "marker": {
          "color": "blue",
          "size": 10
         },
         "mode": "markers+text",
         "text": [
          "Th4"
         ],
         "textposition": "top center",
         "type": "scatter",
         "x": [
          10.56935439159571
         ],
         "y": [
          80.91594296734888
         ]
        },
        {
         "hoverinfo": "text",
         "marker": {
          "color": "blue",
          "size": 10
         },
         "mode": "markers+text",
         "text": [
          "Th5"
         ],
         "textposition": "top center",
         "type": "scatter",
         "x": [
          31.671064940534162
         ],
         "y": [
          63.71793713299608
         ]
        },
        {
         "hoverinfo": "text",
         "marker": {
          "color": "blue",
          "size": 10
         },
         "mode": "markers+text",
         "text": [
          "Th6"
         ],
         "textposition": "top center",
         "type": "scatter",
         "x": [
          90.46084951811883
         ],
         "y": [
          92.02678498890222
         ]
        },
        {
         "hoverinfo": "text",
         "marker": {
          "color": "blue",
          "size": 10
         },
         "mode": "markers+text",
         "text": [
          "Th7"
         ],
         "textposition": "top center",
         "type": "scatter",
         "x": [
          64.4861517072137
         ],
         "y": [
          65.78900948371631
         ]
        }
       ],
       "layout": {
        "height": 800,
        "plot_bgcolor": "lightgreen",
        "showlegend": false,
        "template": {
         "data": {
          "bar": [
           {
            "error_x": {
             "color": "#2a3f5f"
            },
            "error_y": {
             "color": "#2a3f5f"
            },
            "marker": {
             "line": {
              "color": "#E5ECF6",
              "width": 0.5
             },
             "pattern": {
              "fillmode": "overlay",
              "size": 10,
              "solidity": 0.2
             }
            },
            "type": "bar"
           }
          ],
          "barpolar": [
           {
            "marker": {
             "line": {
              "color": "#E5ECF6",
              "width": 0.5
             },
             "pattern": {
              "fillmode": "overlay",
              "size": 10,
              "solidity": 0.2
             }
            },
            "type": "barpolar"
           }
          ],
          "carpet": [
           {
            "aaxis": {
             "endlinecolor": "#2a3f5f",
             "gridcolor": "white",
             "linecolor": "white",
             "minorgridcolor": "white",
             "startlinecolor": "#2a3f5f"
            },
            "baxis": {
             "endlinecolor": "#2a3f5f",
             "gridcolor": "white",
             "linecolor": "white",
             "minorgridcolor": "white",
             "startlinecolor": "#2a3f5f"
            },
            "type": "carpet"
           }
          ],
          "choropleth": [
           {
            "colorbar": {
             "outlinewidth": 0,
             "ticks": ""
            },
            "type": "choropleth"
           }
          ],
          "contour": [
           {
            "colorbar": {
             "outlinewidth": 0,
             "ticks": ""
            },
            "colorscale": [
             [
              0,
              "#0d0887"
             ],
             [
              0.1111111111111111,
              "#46039f"
             ],
             [
              0.2222222222222222,
              "#7201a8"
             ],
             [
              0.3333333333333333,
              "#9c179e"
             ],
             [
              0.4444444444444444,
              "#bd3786"
             ],
             [
              0.5555555555555556,
              "#d8576b"
             ],
             [
              0.6666666666666666,
              "#ed7953"
             ],
             [
              0.7777777777777778,
              "#fb9f3a"
             ],
             [
              0.8888888888888888,
              "#fdca26"
             ],
             [
              1,
              "#f0f921"
             ]
            ],
            "type": "contour"
           }
          ],
          "contourcarpet": [
           {
            "colorbar": {
             "outlinewidth": 0,
             "ticks": ""
            },
            "type": "contourcarpet"
           }
          ],
          "heatmap": [
           {
            "colorbar": {
             "outlinewidth": 0,
             "ticks": ""
            },
            "colorscale": [
             [
              0,
              "#0d0887"
             ],
             [
              0.1111111111111111,
              "#46039f"
             ],
             [
              0.2222222222222222,
              "#7201a8"
             ],
             [
              0.3333333333333333,
              "#9c179e"
             ],
             [
              0.4444444444444444,
              "#bd3786"
             ],
             [
              0.5555555555555556,
              "#d8576b"
             ],
             [
              0.6666666666666666,
              "#ed7953"
             ],
             [
              0.7777777777777778,
              "#fb9f3a"
             ],
             [
              0.8888888888888888,
              "#fdca26"
             ],
             [
              1,
              "#f0f921"
             ]
            ],
            "type": "heatmap"
           }
          ],
          "heatmapgl": [
           {
            "colorbar": {
             "outlinewidth": 0,
             "ticks": ""
            },
            "colorscale": [
             [
              0,
              "#0d0887"
             ],
             [
              0.1111111111111111,
              "#46039f"
             ],
             [
              0.2222222222222222,
              "#7201a8"
             ],
             [
              0.3333333333333333,
              "#9c179e"
             ],
             [
              0.4444444444444444,
              "#bd3786"
             ],
             [
              0.5555555555555556,
              "#d8576b"
             ],
             [
              0.6666666666666666,
              "#ed7953"
             ],
             [
              0.7777777777777778,
              "#fb9f3a"
             ],
             [
              0.8888888888888888,
              "#fdca26"
             ],
             [
              1,
              "#f0f921"
             ]
            ],
            "type": "heatmapgl"
           }
          ],
          "histogram": [
           {
            "marker": {
             "pattern": {
              "fillmode": "overlay",
              "size": 10,
              "solidity": 0.2
             }
            },
            "type": "histogram"
           }
          ],
          "histogram2d": [
           {
            "colorbar": {
             "outlinewidth": 0,
             "ticks": ""
            },
            "colorscale": [
             [
              0,
              "#0d0887"
             ],
             [
              0.1111111111111111,
              "#46039f"
             ],
             [
              0.2222222222222222,
              "#7201a8"
             ],
             [
              0.3333333333333333,
              "#9c179e"
             ],
             [
              0.4444444444444444,
              "#bd3786"
             ],
             [
              0.5555555555555556,
              "#d8576b"
             ],
             [
              0.6666666666666666,
              "#ed7953"
             ],
             [
              0.7777777777777778,
              "#fb9f3a"
             ],
             [
              0.8888888888888888,
              "#fdca26"
             ],
             [
              1,
              "#f0f921"
             ]
            ],
            "type": "histogram2d"
           }
          ],
          "histogram2dcontour": [
           {
            "colorbar": {
             "outlinewidth": 0,
             "ticks": ""
            },
            "colorscale": [
             [
              0,
              "#0d0887"
             ],
             [
              0.1111111111111111,
              "#46039f"
             ],
             [
              0.2222222222222222,
              "#7201a8"
             ],
             [
              0.3333333333333333,
              "#9c179e"
             ],
             [
              0.4444444444444444,
              "#bd3786"
             ],
             [
              0.5555555555555556,
              "#d8576b"
             ],
             [
              0.6666666666666666,
              "#ed7953"
             ],
             [
              0.7777777777777778,
              "#fb9f3a"
             ],
             [
              0.8888888888888888,
              "#fdca26"
             ],
             [
              1,
              "#f0f921"
             ]
            ],
            "type": "histogram2dcontour"
           }
          ],
          "mesh3d": [
           {
            "colorbar": {
             "outlinewidth": 0,
             "ticks": ""
            },
            "type": "mesh3d"
           }
          ],
          "parcoords": [
           {
            "line": {
             "colorbar": {
              "outlinewidth": 0,
              "ticks": ""
             }
            },
            "type": "parcoords"
           }
          ],
          "pie": [
           {
            "automargin": true,
            "type": "pie"
           }
          ],
          "scatter": [
           {
            "fillpattern": {
             "fillmode": "overlay",
             "size": 10,
             "solidity": 0.2
            },
            "type": "scatter"
           }
          ],
          "scatter3d": [
           {
            "line": {
             "colorbar": {
              "outlinewidth": 0,
              "ticks": ""
             }
            },
            "marker": {
             "colorbar": {
              "outlinewidth": 0,
              "ticks": ""
             }
            },
            "type": "scatter3d"
           }
          ],
          "scattercarpet": [
           {
            "marker": {
             "colorbar": {
              "outlinewidth": 0,
              "ticks": ""
             }
            },
            "type": "scattercarpet"
           }
          ],
          "scattergeo": [
           {
            "marker": {
             "colorbar": {
              "outlinewidth": 0,
              "ticks": ""
             }
            },
            "type": "scattergeo"
           }
          ],
          "scattergl": [
           {
            "marker": {
             "colorbar": {
              "outlinewidth": 0,
              "ticks": ""
             }
            },
            "type": "scattergl"
           }
          ],
          "scattermapbox": [
           {
            "marker": {
             "colorbar": {
              "outlinewidth": 0,
              "ticks": ""
             }
            },
            "type": "scattermapbox"
           }
          ],
          "scatterpolar": [
           {
            "marker": {
             "colorbar": {
              "outlinewidth": 0,
              "ticks": ""
             }
            },
            "type": "scatterpolar"
           }
          ],
          "scatterpolargl": [
           {
            "marker": {
             "colorbar": {
              "outlinewidth": 0,
              "ticks": ""
             }
            },
            "type": "scatterpolargl"
           }
          ],
          "scatterternary": [
           {
            "marker": {
             "colorbar": {
              "outlinewidth": 0,
              "ticks": ""
             }
            },
            "type": "scatterternary"
           }
          ],
          "surface": [
           {
            "colorbar": {
             "outlinewidth": 0,
             "ticks": ""
            },
            "colorscale": [
             [
              0,
              "#0d0887"
             ],
             [
              0.1111111111111111,
              "#46039f"
             ],
             [
              0.2222222222222222,
              "#7201a8"
             ],
             [
              0.3333333333333333,
              "#9c179e"
             ],
             [
              0.4444444444444444,
              "#bd3786"
             ],
             [
              0.5555555555555556,
              "#d8576b"
             ],
             [
              0.6666666666666666,
              "#ed7953"
             ],
             [
              0.7777777777777778,
              "#fb9f3a"
             ],
             [
              0.8888888888888888,
              "#fdca26"
             ],
             [
              1,
              "#f0f921"
             ]
            ],
            "type": "surface"
           }
          ],
          "table": [
           {
            "cells": {
             "fill": {
              "color": "#EBF0F8"
             },
             "line": {
              "color": "white"
             }
            },
            "header": {
             "fill": {
              "color": "#C8D4E3"
             },
             "line": {
              "color": "white"
             }
            },
            "type": "table"
           }
          ]
         },
         "layout": {
          "annotationdefaults": {
           "arrowcolor": "#2a3f5f",
           "arrowhead": 0,
           "arrowwidth": 1
          },
          "autotypenumbers": "strict",
          "coloraxis": {
           "colorbar": {
            "outlinewidth": 0,
            "ticks": ""
           }
          },
          "colorscale": {
           "diverging": [
            [
             0,
             "#8e0152"
            ],
            [
             0.1,
             "#c51b7d"
            ],
            [
             0.2,
             "#de77ae"
            ],
            [
             0.3,
             "#f1b6da"
            ],
            [
             0.4,
             "#fde0ef"
            ],
            [
             0.5,
             "#f7f7f7"
            ],
            [
             0.6,
             "#e6f5d0"
            ],
            [
             0.7,
             "#b8e186"
            ],
            [
             0.8,
             "#7fbc41"
            ],
            [
             0.9,
             "#4d9221"
            ],
            [
             1,
             "#276419"
            ]
           ],
           "sequential": [
            [
             0,
             "#0d0887"
            ],
            [
             0.1111111111111111,
             "#46039f"
            ],
            [
             0.2222222222222222,
             "#7201a8"
            ],
            [
             0.3333333333333333,
             "#9c179e"
            ],
            [
             0.4444444444444444,
             "#bd3786"
            ],
            [
             0.5555555555555556,
             "#d8576b"
            ],
            [
             0.6666666666666666,
             "#ed7953"
            ],
            [
             0.7777777777777778,
             "#fb9f3a"
            ],
            [
             0.8888888888888888,
             "#fdca26"
            ],
            [
             1,
             "#f0f921"
            ]
           ],
           "sequentialminus": [
            [
             0,
             "#0d0887"
            ],
            [
             0.1111111111111111,
             "#46039f"
            ],
            [
             0.2222222222222222,
             "#7201a8"
            ],
            [
             0.3333333333333333,
             "#9c179e"
            ],
            [
             0.4444444444444444,
             "#bd3786"
            ],
            [
             0.5555555555555556,
             "#d8576b"
            ],
            [
             0.6666666666666666,
             "#ed7953"
            ],
            [
             0.7777777777777778,
             "#fb9f3a"
            ],
            [
             0.8888888888888888,
             "#fdca26"
            ],
            [
             1,
             "#f0f921"
            ]
           ]
          },
          "colorway": [
           "#636efa",
           "#EF553B",
           "#00cc96",
           "#ab63fa",
           "#FFA15A",
           "#19d3f3",
           "#FF6692",
           "#B6E880",
           "#FF97FF",
           "#FECB52"
          ],
          "font": {
           "color": "#2a3f5f"
          },
          "geo": {
           "bgcolor": "white",
           "lakecolor": "white",
           "landcolor": "#E5ECF6",
           "showlakes": true,
           "showland": true,
           "subunitcolor": "white"
          },
          "hoverlabel": {
           "align": "left"
          },
          "hovermode": "closest",
          "mapbox": {
           "style": "light"
          },
          "paper_bgcolor": "white",
          "plot_bgcolor": "#E5ECF6",
          "polar": {
           "angularaxis": {
            "gridcolor": "white",
            "linecolor": "white",
            "ticks": ""
           },
           "bgcolor": "#E5ECF6",
           "radialaxis": {
            "gridcolor": "white",
            "linecolor": "white",
            "ticks": ""
           }
          },
          "scene": {
           "xaxis": {
            "backgroundcolor": "#E5ECF6",
            "gridcolor": "white",
            "gridwidth": 2,
            "linecolor": "white",
            "showbackground": true,
            "ticks": "",
            "zerolinecolor": "white"
           },
           "yaxis": {
            "backgroundcolor": "#E5ECF6",
            "gridcolor": "white",
            "gridwidth": 2,
            "linecolor": "white",
            "showbackground": true,
            "ticks": "",
            "zerolinecolor": "white"
           },
           "zaxis": {
            "backgroundcolor": "#E5ECF6",
            "gridcolor": "white",
            "gridwidth": 2,
            "linecolor": "white",
            "showbackground": true,
            "ticks": "",
            "zerolinecolor": "white"
           }
          },
          "shapedefaults": {
           "line": {
            "color": "#2a3f5f"
           }
          },
          "ternary": {
           "aaxis": {
            "gridcolor": "white",
            "linecolor": "white",
            "ticks": ""
           },
           "baxis": {
            "gridcolor": "white",
            "linecolor": "white",
            "ticks": ""
           },
           "bgcolor": "#E5ECF6",
           "caxis": {
            "gridcolor": "white",
            "linecolor": "white",
            "ticks": ""
           }
          },
          "title": {
           "x": 0.05
          },
          "xaxis": {
           "automargin": true,
           "gridcolor": "white",
           "linecolor": "white",
           "ticks": "",
           "title": {
            "standoff": 15
           },
           "zerolinecolor": "white",
           "zerolinewidth": 2
          },
          "yaxis": {
           "automargin": true,
           "gridcolor": "white",
           "linecolor": "white",
           "ticks": "",
           "title": {
            "standoff": 15
           },
           "zerolinecolor": "white",
           "zerolinewidth": 2
          }
         }
        },
        "title": {
         "text": "Circuits and Thermoelectrics"
        }
       }
      }
     },
     "metadata": {},
     "output_type": "display_data"
    }
   ],
   "source": [
    "distance_cost_template = graphMap.thermoelectric_generation_cost\n",
    "\n",
    "# Generate circuits for map\n",
    "\n",
    "electric_system_circuits_list: list[Circuit] = []\n",
    "for i in range(NO_CIRCUITS):\n",
    "    citizen_count = RANDOM.integers(MIN_CITIZEN, MAX_CITIZEN)\n",
    "    citizen_range = (\n",
    "        max(citizen_count - MAX_DEVIATION_CITIZEN_IN_BLOCK, 0),\n",
    "        min(citizen_count + MAX_DEVIATION_CITIZEN_IN_BLOCK, MAX_CITIZEN),\n",
    "    )\n",
    "\n",
    "    industrialization = RANDOM.integers(1, DEMAND_INDUSTRIALIZATION) / DEMAND_INDUSTRIALIZATION\n",
    "\n",
    "    bimodal_consumption = DailyElectricityConsumptionBimodal(\n",
    "        base_consumption=DEMAND_PER_PERSON * citizen_count\n",
    "        + DEMAND_INDUSTRIALIZATION * industrialization,\n",
    "        base_variability=VARIABILITY_DEMAND_PER_PERSON * citizen_count\n",
    "        + VARIABILITY_DEMAND_PER_INDUSTRIALIZATION * industrialization,\n",
    "        mean_morning=PEAK_CONSUMPTION_MORNING,\n",
    "        mean_evening=PEAK_CONSUMPTION_EVENING,\n",
    "        std_morning=RANDOM.uniform(1.0, MAX_DEVIATION_MORNING),\n",
    "        std_evening=RANDOM.uniform(1.0, MAX_DEVIATION_EVENING),\n",
    "        weight_morning=WEIGHT_MORNING,\n",
    "        weight_evening=WEIGHT_EVENING,\n",
    "    )\n",
    "\n",
    "    electric_system_circuits_list.append(\n",
    "        Circuit(\n",
    "            graphMap.circuits_nodes[i].id,\n",
    "            gaussian_mixture=bimodal_consumption,\n",
    "            blocks_range=(MIN_BLOCKS_PER_CIRCUIT, MAX_BLOCKS_PER_CIRCUIT),\n",
    "            citizens_range=citizen_range,\n",
    "            industrialization=industrialization,\n",
    "        )\n",
    "    )\n",
    "\n",
    "# Generate Thermoelectric generation based in the nearest circuits\n",
    "mapper_circuit_with_thermoelectric = {}\n",
    "\n",
    "for c in electric_system_circuits_list:\n",
    "\n",
    "    filtered = [f for f in graphMap.thermoelectric_generation_cost if f[1] == c.id]\n",
    "    filtered = sorted(filtered, key=lambda x: x[2])\n",
    "    mapper_circuit_with_thermoelectric[c.id] = filtered[0][0]\n",
    "\n",
    "\n",
    "# Create edges for the plotly graph\n",
    "edges = []\n",
    "edges_labels = []\n",
    "for circuit, thermoelectric in mapper_circuit_with_thermoelectric.items():\n",
    "\n",
    "    circuitPos = [c.position for c in graphMap.circuits_nodes if c.id == circuit][0]\n",
    "    thermoelectricPos = [\n",
    "        t.position for t in graphMap.thermoelectrics_nodes if t.id == thermoelectric\n",
    "    ][0]\n",
    "\n",
    "    edges.append((circuitPos, thermoelectricPos))\n",
    "    edges_labels.append(f\"{circuit} -> {thermoelectric}\")\n",
    "\n",
    "\n",
    "# Create a plotly graph\n",
    "fig = go.Figure()\n",
    "\n",
    "# Add edges to the plotly graph\n",
    "for i, edge in enumerate(edges):\n",
    "    circuit, thermoelectric = edge\n",
    "    fig.add_trace(\n",
    "        go.Scatter(\n",
    "            x=[circuit[0], thermoelectric[0]],\n",
    "            y=[circuit[1], thermoelectric[1]],\n",
    "            mode=\"lines\",\n",
    "            line=dict(color=\"black\"),\n",
    "            name=\"Wire Connection\",\n",
    "            showlegend=False,\n",
    "            hoverinfo=\"text\",\n",
    "            text=edges_labels[i],\n",
    "            hoverlabel=dict(bgcolor=\"white\", font_size=16, font_family=\"Rockwell\"),\n",
    "        )\n",
    "    )\n",
    "\n",
    "# Add nodes to the plotly graph\n",
    "all_nodes = graphMap.circuits_nodes + graphMap.thermoelectrics_nodes\n",
    "for i, node in enumerate(all_nodes):\n",
    "    fig.add_trace(\n",
    "        go.Scatter(\n",
    "            x=[node.position[0]],\n",
    "            y=[node.position[1]],\n",
    "            mode=\"markers+text\",\n",
    "            marker=dict(\n",
    "                size=10, color=\"blue\" if i >= len(graphMap.circuits_nodes) else \"red\"\n",
    "            ),\n",
    "            text=[node.id],\n",
    "            textposition=\"top center\",\n",
    "            hoverinfo=\"text\",\n",
    "        )\n",
    "    )\n",
    "\n",
    "fig.update_layout(\n",
    "    showlegend=False,\n",
    "    title=\"Circuits and Thermoelectrics\",\n",
    "    height=800,\n",
    "    plot_bgcolor=\"lightgreen\",\n",
    ")\n",
    "\n",
    "fig.show()"
   ]
  },
  {
   "cell_type": "code",
   "execution_count": 5,
   "metadata": {},
   "outputs": [
    {
     "data": {
      "text/html": [
       "<div>\n",
       "<style scoped>\n",
       "    .dataframe tbody tr th:only-of-type {\n",
       "        vertical-align: middle;\n",
       "    }\n",
       "\n",
       "    .dataframe tbody tr th {\n",
       "        vertical-align: top;\n",
       "    }\n",
       "\n",
       "    .dataframe thead th {\n",
       "        text-align: right;\n",
       "    }\n",
       "</style>\n",
       "<table border=\"1\" class=\"dataframe\">\n",
       "  <thead>\n",
       "    <tr style=\"text-align: right;\">\n",
       "      <th></th>\n",
       "      <th>C0</th>\n",
       "      <th>C1</th>\n",
       "      <th>C2</th>\n",
       "      <th>C3</th>\n",
       "      <th>C4</th>\n",
       "      <th>C5</th>\n",
       "      <th>C6</th>\n",
       "      <th>C7</th>\n",
       "      <th>C8</th>\n",
       "      <th>C9</th>\n",
       "      <th>...</th>\n",
       "      <th>C40</th>\n",
       "      <th>C41</th>\n",
       "      <th>C42</th>\n",
       "      <th>C43</th>\n",
       "      <th>C44</th>\n",
       "      <th>C45</th>\n",
       "      <th>C46</th>\n",
       "      <th>C47</th>\n",
       "      <th>C48</th>\n",
       "      <th>C49</th>\n",
       "    </tr>\n",
       "  </thead>\n",
       "  <tbody>\n",
       "    <tr>\n",
       "      <th>Th0</th>\n",
       "      <td>0.004552</td>\n",
       "      <td>0.008274</td>\n",
       "      <td>0.008962</td>\n",
       "      <td>0.003300</td>\n",
       "      <td>0.003707</td>\n",
       "      <td>0.000352</td>\n",
       "      <td>0.001133</td>\n",
       "      <td>0.001885</td>\n",
       "      <td>0.000370</td>\n",
       "      <td>0.000494</td>\n",
       "      <td>...</td>\n",
       "      <td>0.008982</td>\n",
       "      <td>0.000929</td>\n",
       "      <td>0.000104</td>\n",
       "      <td>0.002405</td>\n",
       "      <td>0.006930</td>\n",
       "      <td>0.005746</td>\n",
       "      <td>0.000247</td>\n",
       "      <td>0.007013</td>\n",
       "      <td>0.000221</td>\n",
       "      <td>0.003826</td>\n",
       "    </tr>\n",
       "    <tr>\n",
       "      <th>Th1</th>\n",
       "      <td>0.002903</td>\n",
       "      <td>0.000986</td>\n",
       "      <td>0.001673</td>\n",
       "      <td>0.004331</td>\n",
       "      <td>0.003903</td>\n",
       "      <td>0.007742</td>\n",
       "      <td>0.008524</td>\n",
       "      <td>0.005691</td>\n",
       "      <td>0.007330</td>\n",
       "      <td>0.007885</td>\n",
       "      <td>...</td>\n",
       "      <td>0.001693</td>\n",
       "      <td>0.008320</td>\n",
       "      <td>0.007495</td>\n",
       "      <td>0.005363</td>\n",
       "      <td>0.000755</td>\n",
       "      <td>0.001785</td>\n",
       "      <td>0.007638</td>\n",
       "      <td>0.000664</td>\n",
       "      <td>0.007612</td>\n",
       "      <td>0.003653</td>\n",
       "    </tr>\n",
       "    <tr>\n",
       "      <th>Th2</th>\n",
       "      <td>0.003189</td>\n",
       "      <td>0.006912</td>\n",
       "      <td>0.007600</td>\n",
       "      <td>0.001938</td>\n",
       "      <td>0.002344</td>\n",
       "      <td>0.001763</td>\n",
       "      <td>0.002544</td>\n",
       "      <td>0.000523</td>\n",
       "      <td>0.001351</td>\n",
       "      <td>0.001905</td>\n",
       "      <td>...</td>\n",
       "      <td>0.007619</td>\n",
       "      <td>0.002340</td>\n",
       "      <td>0.001515</td>\n",
       "      <td>0.001042</td>\n",
       "      <td>0.005567</td>\n",
       "      <td>0.004384</td>\n",
       "      <td>0.001658</td>\n",
       "      <td>0.005650</td>\n",
       "      <td>0.001632</td>\n",
       "      <td>0.002463</td>\n",
       "    </tr>\n",
       "    <tr>\n",
       "      <th>Th3</th>\n",
       "      <td>0.000188</td>\n",
       "      <td>0.003911</td>\n",
       "      <td>0.004598</td>\n",
       "      <td>0.001436</td>\n",
       "      <td>0.001009</td>\n",
       "      <td>0.004848</td>\n",
       "      <td>0.005629</td>\n",
       "      <td>0.002796</td>\n",
       "      <td>0.004436</td>\n",
       "      <td>0.004990</td>\n",
       "      <td>...</td>\n",
       "      <td>0.004618</td>\n",
       "      <td>0.005426</td>\n",
       "      <td>0.004600</td>\n",
       "      <td>0.002469</td>\n",
       "      <td>0.002566</td>\n",
       "      <td>0.001382</td>\n",
       "      <td>0.004744</td>\n",
       "      <td>0.002649</td>\n",
       "      <td>0.004717</td>\n",
       "      <td>0.000759</td>\n",
       "    </tr>\n",
       "    <tr>\n",
       "      <th>Th4</th>\n",
       "      <td>0.005570</td>\n",
       "      <td>0.009293</td>\n",
       "      <td>0.009980</td>\n",
       "      <td>0.004319</td>\n",
       "      <td>0.004725</td>\n",
       "      <td>0.001090</td>\n",
       "      <td>0.000271</td>\n",
       "      <td>0.002904</td>\n",
       "      <td>0.001389</td>\n",
       "      <td>0.001024</td>\n",
       "      <td>...</td>\n",
       "      <td>0.010000</td>\n",
       "      <td>0.000110</td>\n",
       "      <td>0.001122</td>\n",
       "      <td>0.003423</td>\n",
       "      <td>0.007948</td>\n",
       "      <td>0.006765</td>\n",
       "      <td>0.001266</td>\n",
       "      <td>0.008031</td>\n",
       "      <td>0.001066</td>\n",
       "      <td>0.004844</td>\n",
       "    </tr>\n",
       "    <tr>\n",
       "      <th>Th5</th>\n",
       "      <td>0.002894</td>\n",
       "      <td>0.006617</td>\n",
       "      <td>0.007304</td>\n",
       "      <td>0.001642</td>\n",
       "      <td>0.002049</td>\n",
       "      <td>0.002402</td>\n",
       "      <td>0.003183</td>\n",
       "      <td>0.000350</td>\n",
       "      <td>0.001990</td>\n",
       "      <td>0.002544</td>\n",
       "      <td>...</td>\n",
       "      <td>0.007324</td>\n",
       "      <td>0.002979</td>\n",
       "      <td>0.002154</td>\n",
       "      <td>0.000747</td>\n",
       "      <td>0.005272</td>\n",
       "      <td>0.004088</td>\n",
       "      <td>0.002297</td>\n",
       "      <td>0.005355</td>\n",
       "      <td>0.002271</td>\n",
       "      <td>0.002168</td>\n",
       "    </tr>\n",
       "    <tr>\n",
       "      <th>Th6</th>\n",
       "      <td>0.003621</td>\n",
       "      <td>0.000175</td>\n",
       "      <td>0.000863</td>\n",
       "      <td>0.005048</td>\n",
       "      <td>0.004621</td>\n",
       "      <td>0.008460</td>\n",
       "      <td>0.009241</td>\n",
       "      <td>0.006408</td>\n",
       "      <td>0.008048</td>\n",
       "      <td>0.008603</td>\n",
       "      <td>...</td>\n",
       "      <td>0.000882</td>\n",
       "      <td>0.009038</td>\n",
       "      <td>0.008212</td>\n",
       "      <td>0.006081</td>\n",
       "      <td>0.001473</td>\n",
       "      <td>0.002502</td>\n",
       "      <td>0.008356</td>\n",
       "      <td>0.001381</td>\n",
       "      <td>0.008329</td>\n",
       "      <td>0.004371</td>\n",
       "    </tr>\n",
       "    <tr>\n",
       "      <th>Th7</th>\n",
       "      <td>0.000955</td>\n",
       "      <td>0.004677</td>\n",
       "      <td>0.005365</td>\n",
       "      <td>0.000537</td>\n",
       "      <td>0.000110</td>\n",
       "      <td>0.003949</td>\n",
       "      <td>0.004730</td>\n",
       "      <td>0.001897</td>\n",
       "      <td>0.003537</td>\n",
       "      <td>0.004091</td>\n",
       "      <td>...</td>\n",
       "      <td>0.005384</td>\n",
       "      <td>0.004527</td>\n",
       "      <td>0.003701</td>\n",
       "      <td>0.001570</td>\n",
       "      <td>0.003332</td>\n",
       "      <td>0.002149</td>\n",
       "      <td>0.003845</td>\n",
       "      <td>0.003415</td>\n",
       "      <td>0.003818</td>\n",
       "      <td>0.000229</td>\n",
       "    </tr>\n",
       "  </tbody>\n",
       "</table>\n",
       "<p>8 rows × 50 columns</p>\n",
       "</div>"
      ],
      "text/plain": [
       "           C0        C1        C2        C3        C4        C5        C6  \\\n",
       "Th0  0.004552  0.008274  0.008962  0.003300  0.003707  0.000352  0.001133   \n",
       "Th1  0.002903  0.000986  0.001673  0.004331  0.003903  0.007742  0.008524   \n",
       "Th2  0.003189  0.006912  0.007600  0.001938  0.002344  0.001763  0.002544   \n",
       "Th3  0.000188  0.003911  0.004598  0.001436  0.001009  0.004848  0.005629   \n",
       "Th4  0.005570  0.009293  0.009980  0.004319  0.004725  0.001090  0.000271   \n",
       "Th5  0.002894  0.006617  0.007304  0.001642  0.002049  0.002402  0.003183   \n",
       "Th6  0.003621  0.000175  0.000863  0.005048  0.004621  0.008460  0.009241   \n",
       "Th7  0.000955  0.004677  0.005365  0.000537  0.000110  0.003949  0.004730   \n",
       "\n",
       "           C7        C8        C9  ...       C40       C41       C42  \\\n",
       "Th0  0.001885  0.000370  0.000494  ...  0.008982  0.000929  0.000104   \n",
       "Th1  0.005691  0.007330  0.007885  ...  0.001693  0.008320  0.007495   \n",
       "Th2  0.000523  0.001351  0.001905  ...  0.007619  0.002340  0.001515   \n",
       "Th3  0.002796  0.004436  0.004990  ...  0.004618  0.005426  0.004600   \n",
       "Th4  0.002904  0.001389  0.001024  ...  0.010000  0.000110  0.001122   \n",
       "Th5  0.000350  0.001990  0.002544  ...  0.007324  0.002979  0.002154   \n",
       "Th6  0.006408  0.008048  0.008603  ...  0.000882  0.009038  0.008212   \n",
       "Th7  0.001897  0.003537  0.004091  ...  0.005384  0.004527  0.003701   \n",
       "\n",
       "          C43       C44       C45       C46       C47       C48       C49  \n",
       "Th0  0.002405  0.006930  0.005746  0.000247  0.007013  0.000221  0.003826  \n",
       "Th1  0.005363  0.000755  0.001785  0.007638  0.000664  0.007612  0.003653  \n",
       "Th2  0.001042  0.005567  0.004384  0.001658  0.005650  0.001632  0.002463  \n",
       "Th3  0.002469  0.002566  0.001382  0.004744  0.002649  0.004717  0.000759  \n",
       "Th4  0.003423  0.007948  0.006765  0.001266  0.008031  0.001066  0.004844  \n",
       "Th5  0.000747  0.005272  0.004088  0.002297  0.005355  0.002271  0.002168  \n",
       "Th6  0.006081  0.001473  0.002502  0.008356  0.001381  0.008329  0.004371  \n",
       "Th7  0.001570  0.003332  0.002149  0.003845  0.003415  0.003818  0.000229  \n",
       "\n",
       "[8 rows x 50 columns]"
      ]
     },
     "execution_count": 5,
     "metadata": {},
     "output_type": "execute_result"
    }
   ],
   "source": [
    "# Generate the distance matrix\n",
    "\n",
    "\n",
    "def distance_template_to_distance_matrix(\n",
    "    template: list[tuple[str, str, float, list[str]]],\n",
    "    thermoelectrics: list[str],\n",
    "    circuits: list[str],\n",
    "):\n",
    "    matrix = [[-1 for _ in range(len(circuits))] for _ in range(len(thermoelectrics))]\n",
    "\n",
    "    c_map = {}\n",
    "    t_map = {}\n",
    "\n",
    "    for i, t in enumerate(thermoelectrics):\n",
    "        t_map[t] = i\n",
    "\n",
    "    for i, c in enumerate(circuits):\n",
    "        c_map[c] = i\n",
    "\n",
    "    max_cost = 1\n",
    "    for t, c, cost, _ in template:\n",
    "        matrix[t_map[t]][c_map[c]] = cost\n",
    "        max_cost = max(max_cost, cost)\n",
    "\n",
    "    for t, c, _, _ in template:\n",
    "        matrix[t_map[t]][c_map[c]] /= max_cost * DISTANCE_REGULATOR\n",
    "\n",
    "    return matrix\n",
    "\n",
    "\n",
    "matrix = distance_template_to_distance_matrix(\n",
    "    distance_cost_template,\n",
    "    [t.id for t in graphMap.thermoelectrics_nodes],\n",
    "    [c.id for c in graphMap.circuits_nodes],\n",
    ")\n",
    "\n",
    "\n",
    "distance_matrix_df = pd.DataFrame(\n",
    "    matrix,\n",
    "    index=[t.id for t in graphMap.thermoelectrics_nodes],\n",
    "    columns=[c.id for c in graphMap.circuits_nodes],\n",
    ")\n",
    "\n",
    "distance_matrix_df"
   ]
  },
  {
   "cell_type": "code",
   "execution_count": 6,
   "metadata": {},
   "outputs": [
    {
     "data": {
      "application/vnd.plotly.v1+json": {
       "config": {
        "plotlyServerURL": "https://plot.ly"
       },
       "data": [
        {
         "alignmentgroup": "True",
         "hovertemplate": "Thermoelectric ID=Th0<br>ID=%{x}<br>Total Capacity=%{y}<extra></extra>",
         "legendgroup": "Th0",
         "marker": {
          "color": "#636EFA",
          "pattern": {
           "shape": ""
          }
         },
         "name": "Th0",
         "offsetgroup": "Th0",
         "orientation": "v",
         "showlegend": true,
         "textposition": "auto",
         "type": "bar",
         "x": [
          "Th0"
         ],
         "xaxis": "x",
         "y": [
          37715.12312962877
         ],
         "yaxis": "y"
        },
        {
         "alignmentgroup": "True",
         "hovertemplate": "Thermoelectric ID=Th1<br>ID=%{x}<br>Total Capacity=%{y}<extra></extra>",
         "legendgroup": "Th1",
         "marker": {
          "color": "#EF553B",
          "pattern": {
           "shape": ""
          }
         },
         "name": "Th1",
         "offsetgroup": "Th1",
         "orientation": "v",
         "showlegend": true,
         "textposition": "auto",
         "type": "bar",
         "x": [
          "Th1"
         ],
         "xaxis": "x",
         "y": [
          15738.58533955546
         ],
         "yaxis": "y"
        },
        {
         "alignmentgroup": "True",
         "hovertemplate": "Thermoelectric ID=Th2<br>ID=%{x}<br>Total Capacity=%{y}<extra></extra>",
         "legendgroup": "Th2",
         "marker": {
          "color": "#00CC96",
          "pattern": {
           "shape": ""
          }
         },
         "name": "Th2",
         "offsetgroup": "Th2",
         "orientation": "v",
         "showlegend": true,
         "textposition": "auto",
         "type": "bar",
         "x": [
          "Th2"
         ],
         "xaxis": "x",
         "y": [
          8304.119063823227
         ],
         "yaxis": "y"
        },
        {
         "alignmentgroup": "True",
         "hovertemplate": "Thermoelectric ID=Th3<br>ID=%{x}<br>Total Capacity=%{y}<extra></extra>",
         "legendgroup": "Th3",
         "marker": {
          "color": "#AB63FA",
          "pattern": {
           "shape": ""
          }
         },
         "name": "Th3",
         "offsetgroup": "Th3",
         "orientation": "v",
         "showlegend": true,
         "textposition": "auto",
         "type": "bar",
         "x": [
          "Th3"
         ],
         "xaxis": "x",
         "y": [
          13264.432554214505
         ],
         "yaxis": "y"
        },
        {
         "alignmentgroup": "True",
         "hovertemplate": "Thermoelectric ID=Th4<br>ID=%{x}<br>Total Capacity=%{y}<extra></extra>",
         "legendgroup": "Th4",
         "marker": {
          "color": "#FFA15A",
          "pattern": {
           "shape": ""
          }
         },
         "name": "Th4",
         "offsetgroup": "Th4",
         "orientation": "v",
         "showlegend": true,
         "textposition": "auto",
         "type": "bar",
         "x": [
          "Th4"
         ],
         "xaxis": "x",
         "y": [
          7549.528196304687
         ],
         "yaxis": "y"
        },
        {
         "alignmentgroup": "True",
         "hovertemplate": "Thermoelectric ID=Th5<br>ID=%{x}<br>Total Capacity=%{y}<extra></extra>",
         "legendgroup": "Th5",
         "marker": {
          "color": "#19D3F3",
          "pattern": {
           "shape": ""
          }
         },
         "name": "Th5",
         "offsetgroup": "Th5",
         "orientation": "v",
         "showlegend": true,
         "textposition": "auto",
         "type": "bar",
         "x": [
          "Th5"
         ],
         "xaxis": "x",
         "y": [
          6896.757688854052
         ],
         "yaxis": "y"
        },
        {
         "alignmentgroup": "True",
         "hovertemplate": "Thermoelectric ID=Th6<br>ID=%{x}<br>Total Capacity=%{y}<extra></extra>",
         "legendgroup": "Th6",
         "marker": {
          "color": "#FF6692",
          "pattern": {
           "shape": ""
          }
         },
         "name": "Th6",
         "offsetgroup": "Th6",
         "orientation": "v",
         "showlegend": true,
         "textposition": "auto",
         "type": "bar",
         "x": [
          "Th6"
         ],
         "xaxis": "x",
         "y": [
          13123.724963668044
         ],
         "yaxis": "y"
        },
        {
         "alignmentgroup": "True",
         "hovertemplate": "Thermoelectric ID=Th7<br>ID=%{x}<br>Total Capacity=%{y}<extra></extra>",
         "legendgroup": "Th7",
         "marker": {
          "color": "#B6E880",
          "pattern": {
           "shape": ""
          }
         },
         "name": "Th7",
         "offsetgroup": "Th7",
         "orientation": "v",
         "showlegend": true,
         "textposition": "auto",
         "type": "bar",
         "x": [
          "Th7"
         ],
         "xaxis": "x",
         "y": [
          28200.97322485533
         ],
         "yaxis": "y"
        }
       ],
       "layout": {
        "barmode": "relative",
        "height": 800,
        "legend": {
         "title": {
          "text": "Thermoelectric ID"
         },
         "tracegroupgap": 0
        },
        "template": {
         "data": {
          "bar": [
           {
            "error_x": {
             "color": "#2a3f5f"
            },
            "error_y": {
             "color": "#2a3f5f"
            },
            "marker": {
             "line": {
              "color": "#E5ECF6",
              "width": 0.5
             },
             "pattern": {
              "fillmode": "overlay",
              "size": 10,
              "solidity": 0.2
             }
            },
            "type": "bar"
           }
          ],
          "barpolar": [
           {
            "marker": {
             "line": {
              "color": "#E5ECF6",
              "width": 0.5
             },
             "pattern": {
              "fillmode": "overlay",
              "size": 10,
              "solidity": 0.2
             }
            },
            "type": "barpolar"
           }
          ],
          "carpet": [
           {
            "aaxis": {
             "endlinecolor": "#2a3f5f",
             "gridcolor": "white",
             "linecolor": "white",
             "minorgridcolor": "white",
             "startlinecolor": "#2a3f5f"
            },
            "baxis": {
             "endlinecolor": "#2a3f5f",
             "gridcolor": "white",
             "linecolor": "white",
             "minorgridcolor": "white",
             "startlinecolor": "#2a3f5f"
            },
            "type": "carpet"
           }
          ],
          "choropleth": [
           {
            "colorbar": {
             "outlinewidth": 0,
             "ticks": ""
            },
            "type": "choropleth"
           }
          ],
          "contour": [
           {
            "colorbar": {
             "outlinewidth": 0,
             "ticks": ""
            },
            "colorscale": [
             [
              0,
              "#0d0887"
             ],
             [
              0.1111111111111111,
              "#46039f"
             ],
             [
              0.2222222222222222,
              "#7201a8"
             ],
             [
              0.3333333333333333,
              "#9c179e"
             ],
             [
              0.4444444444444444,
              "#bd3786"
             ],
             [
              0.5555555555555556,
              "#d8576b"
             ],
             [
              0.6666666666666666,
              "#ed7953"
             ],
             [
              0.7777777777777778,
              "#fb9f3a"
             ],
             [
              0.8888888888888888,
              "#fdca26"
             ],
             [
              1,
              "#f0f921"
             ]
            ],
            "type": "contour"
           }
          ],
          "contourcarpet": [
           {
            "colorbar": {
             "outlinewidth": 0,
             "ticks": ""
            },
            "type": "contourcarpet"
           }
          ],
          "heatmap": [
           {
            "colorbar": {
             "outlinewidth": 0,
             "ticks": ""
            },
            "colorscale": [
             [
              0,
              "#0d0887"
             ],
             [
              0.1111111111111111,
              "#46039f"
             ],
             [
              0.2222222222222222,
              "#7201a8"
             ],
             [
              0.3333333333333333,
              "#9c179e"
             ],
             [
              0.4444444444444444,
              "#bd3786"
             ],
             [
              0.5555555555555556,
              "#d8576b"
             ],
             [
              0.6666666666666666,
              "#ed7953"
             ],
             [
              0.7777777777777778,
              "#fb9f3a"
             ],
             [
              0.8888888888888888,
              "#fdca26"
             ],
             [
              1,
              "#f0f921"
             ]
            ],
            "type": "heatmap"
           }
          ],
          "heatmapgl": [
           {
            "colorbar": {
             "outlinewidth": 0,
             "ticks": ""
            },
            "colorscale": [
             [
              0,
              "#0d0887"
             ],
             [
              0.1111111111111111,
              "#46039f"
             ],
             [
              0.2222222222222222,
              "#7201a8"
             ],
             [
              0.3333333333333333,
              "#9c179e"
             ],
             [
              0.4444444444444444,
              "#bd3786"
             ],
             [
              0.5555555555555556,
              "#d8576b"
             ],
             [
              0.6666666666666666,
              "#ed7953"
             ],
             [
              0.7777777777777778,
              "#fb9f3a"
             ],
             [
              0.8888888888888888,
              "#fdca26"
             ],
             [
              1,
              "#f0f921"
             ]
            ],
            "type": "heatmapgl"
           }
          ],
          "histogram": [
           {
            "marker": {
             "pattern": {
              "fillmode": "overlay",
              "size": 10,
              "solidity": 0.2
             }
            },
            "type": "histogram"
           }
          ],
          "histogram2d": [
           {
            "colorbar": {
             "outlinewidth": 0,
             "ticks": ""
            },
            "colorscale": [
             [
              0,
              "#0d0887"
             ],
             [
              0.1111111111111111,
              "#46039f"
             ],
             [
              0.2222222222222222,
              "#7201a8"
             ],
             [
              0.3333333333333333,
              "#9c179e"
             ],
             [
              0.4444444444444444,
              "#bd3786"
             ],
             [
              0.5555555555555556,
              "#d8576b"
             ],
             [
              0.6666666666666666,
              "#ed7953"
             ],
             [
              0.7777777777777778,
              "#fb9f3a"
             ],
             [
              0.8888888888888888,
              "#fdca26"
             ],
             [
              1,
              "#f0f921"
             ]
            ],
            "type": "histogram2d"
           }
          ],
          "histogram2dcontour": [
           {
            "colorbar": {
             "outlinewidth": 0,
             "ticks": ""
            },
            "colorscale": [
             [
              0,
              "#0d0887"
             ],
             [
              0.1111111111111111,
              "#46039f"
             ],
             [
              0.2222222222222222,
              "#7201a8"
             ],
             [
              0.3333333333333333,
              "#9c179e"
             ],
             [
              0.4444444444444444,
              "#bd3786"
             ],
             [
              0.5555555555555556,
              "#d8576b"
             ],
             [
              0.6666666666666666,
              "#ed7953"
             ],
             [
              0.7777777777777778,
              "#fb9f3a"
             ],
             [
              0.8888888888888888,
              "#fdca26"
             ],
             [
              1,
              "#f0f921"
             ]
            ],
            "type": "histogram2dcontour"
           }
          ],
          "mesh3d": [
           {
            "colorbar": {
             "outlinewidth": 0,
             "ticks": ""
            },
            "type": "mesh3d"
           }
          ],
          "parcoords": [
           {
            "line": {
             "colorbar": {
              "outlinewidth": 0,
              "ticks": ""
             }
            },
            "type": "parcoords"
           }
          ],
          "pie": [
           {
            "automargin": true,
            "type": "pie"
           }
          ],
          "scatter": [
           {
            "fillpattern": {
             "fillmode": "overlay",
             "size": 10,
             "solidity": 0.2
            },
            "type": "scatter"
           }
          ],
          "scatter3d": [
           {
            "line": {
             "colorbar": {
              "outlinewidth": 0,
              "ticks": ""
             }
            },
            "marker": {
             "colorbar": {
              "outlinewidth": 0,
              "ticks": ""
             }
            },
            "type": "scatter3d"
           }
          ],
          "scattercarpet": [
           {
            "marker": {
             "colorbar": {
              "outlinewidth": 0,
              "ticks": ""
             }
            },
            "type": "scattercarpet"
           }
          ],
          "scattergeo": [
           {
            "marker": {
             "colorbar": {
              "outlinewidth": 0,
              "ticks": ""
             }
            },
            "type": "scattergeo"
           }
          ],
          "scattergl": [
           {
            "marker": {
             "colorbar": {
              "outlinewidth": 0,
              "ticks": ""
             }
            },
            "type": "scattergl"
           }
          ],
          "scattermapbox": [
           {
            "marker": {
             "colorbar": {
              "outlinewidth": 0,
              "ticks": ""
             }
            },
            "type": "scattermapbox"
           }
          ],
          "scatterpolar": [
           {
            "marker": {
             "colorbar": {
              "outlinewidth": 0,
              "ticks": ""
             }
            },
            "type": "scatterpolar"
           }
          ],
          "scatterpolargl": [
           {
            "marker": {
             "colorbar": {
              "outlinewidth": 0,
              "ticks": ""
             }
            },
            "type": "scatterpolargl"
           }
          ],
          "scatterternary": [
           {
            "marker": {
             "colorbar": {
              "outlinewidth": 0,
              "ticks": ""
             }
            },
            "type": "scatterternary"
           }
          ],
          "surface": [
           {
            "colorbar": {
             "outlinewidth": 0,
             "ticks": ""
            },
            "colorscale": [
             [
              0,
              "#0d0887"
             ],
             [
              0.1111111111111111,
              "#46039f"
             ],
             [
              0.2222222222222222,
              "#7201a8"
             ],
             [
              0.3333333333333333,
              "#9c179e"
             ],
             [
              0.4444444444444444,
              "#bd3786"
             ],
             [
              0.5555555555555556,
              "#d8576b"
             ],
             [
              0.6666666666666666,
              "#ed7953"
             ],
             [
              0.7777777777777778,
              "#fb9f3a"
             ],
             [
              0.8888888888888888,
              "#fdca26"
             ],
             [
              1,
              "#f0f921"
             ]
            ],
            "type": "surface"
           }
          ],
          "table": [
           {
            "cells": {
             "fill": {
              "color": "#EBF0F8"
             },
             "line": {
              "color": "white"
             }
            },
            "header": {
             "fill": {
              "color": "#C8D4E3"
             },
             "line": {
              "color": "white"
             }
            },
            "type": "table"
           }
          ]
         },
         "layout": {
          "annotationdefaults": {
           "arrowcolor": "#2a3f5f",
           "arrowhead": 0,
           "arrowwidth": 1
          },
          "autotypenumbers": "strict",
          "coloraxis": {
           "colorbar": {
            "outlinewidth": 0,
            "ticks": ""
           }
          },
          "colorscale": {
           "diverging": [
            [
             0,
             "#8e0152"
            ],
            [
             0.1,
             "#c51b7d"
            ],
            [
             0.2,
             "#de77ae"
            ],
            [
             0.3,
             "#f1b6da"
            ],
            [
             0.4,
             "#fde0ef"
            ],
            [
             0.5,
             "#f7f7f7"
            ],
            [
             0.6,
             "#e6f5d0"
            ],
            [
             0.7,
             "#b8e186"
            ],
            [
             0.8,
             "#7fbc41"
            ],
            [
             0.9,
             "#4d9221"
            ],
            [
             1,
             "#276419"
            ]
           ],
           "sequential": [
            [
             0,
             "#0d0887"
            ],
            [
             0.1111111111111111,
             "#46039f"
            ],
            [
             0.2222222222222222,
             "#7201a8"
            ],
            [
             0.3333333333333333,
             "#9c179e"
            ],
            [
             0.4444444444444444,
             "#bd3786"
            ],
            [
             0.5555555555555556,
             "#d8576b"
            ],
            [
             0.6666666666666666,
             "#ed7953"
            ],
            [
             0.7777777777777778,
             "#fb9f3a"
            ],
            [
             0.8888888888888888,
             "#fdca26"
            ],
            [
             1,
             "#f0f921"
            ]
           ],
           "sequentialminus": [
            [
             0,
             "#0d0887"
            ],
            [
             0.1111111111111111,
             "#46039f"
            ],
            [
             0.2222222222222222,
             "#7201a8"
            ],
            [
             0.3333333333333333,
             "#9c179e"
            ],
            [
             0.4444444444444444,
             "#bd3786"
            ],
            [
             0.5555555555555556,
             "#d8576b"
            ],
            [
             0.6666666666666666,
             "#ed7953"
            ],
            [
             0.7777777777777778,
             "#fb9f3a"
            ],
            [
             0.8888888888888888,
             "#fdca26"
            ],
            [
             1,
             "#f0f921"
            ]
           ]
          },
          "colorway": [
           "#636efa",
           "#EF553B",
           "#00cc96",
           "#ab63fa",
           "#FFA15A",
           "#19d3f3",
           "#FF6692",
           "#B6E880",
           "#FF97FF",
           "#FECB52"
          ],
          "font": {
           "color": "#2a3f5f"
          },
          "geo": {
           "bgcolor": "white",
           "lakecolor": "white",
           "landcolor": "#E5ECF6",
           "showlakes": true,
           "showland": true,
           "subunitcolor": "white"
          },
          "hoverlabel": {
           "align": "left"
          },
          "hovermode": "closest",
          "mapbox": {
           "style": "light"
          },
          "paper_bgcolor": "white",
          "plot_bgcolor": "#E5ECF6",
          "polar": {
           "angularaxis": {
            "gridcolor": "white",
            "linecolor": "white",
            "ticks": ""
           },
           "bgcolor": "#E5ECF6",
           "radialaxis": {
            "gridcolor": "white",
            "linecolor": "white",
            "ticks": ""
           }
          },
          "scene": {
           "xaxis": {
            "backgroundcolor": "#E5ECF6",
            "gridcolor": "white",
            "gridwidth": 2,
            "linecolor": "white",
            "showbackground": true,
            "ticks": "",
            "zerolinecolor": "white"
           },
           "yaxis": {
            "backgroundcolor": "#E5ECF6",
            "gridcolor": "white",
            "gridwidth": 2,
            "linecolor": "white",
            "showbackground": true,
            "ticks": "",
            "zerolinecolor": "white"
           },
           "zaxis": {
            "backgroundcolor": "#E5ECF6",
            "gridcolor": "white",
            "gridwidth": 2,
            "linecolor": "white",
            "showbackground": true,
            "ticks": "",
            "zerolinecolor": "white"
           }
          },
          "shapedefaults": {
           "line": {
            "color": "#2a3f5f"
           }
          },
          "ternary": {
           "aaxis": {
            "gridcolor": "white",
            "linecolor": "white",
            "ticks": ""
           },
           "baxis": {
            "gridcolor": "white",
            "linecolor": "white",
            "ticks": ""
           },
           "bgcolor": "#E5ECF6",
           "caxis": {
            "gridcolor": "white",
            "linecolor": "white",
            "ticks": ""
           }
          },
          "title": {
           "x": 0.05
          },
          "xaxis": {
           "automargin": true,
           "gridcolor": "white",
           "linecolor": "white",
           "ticks": "",
           "title": {
            "standoff": 15
           },
           "zerolinecolor": "white",
           "zerolinewidth": 2
          },
          "yaxis": {
           "automargin": true,
           "gridcolor": "white",
           "linecolor": "white",
           "ticks": "",
           "title": {
            "standoff": 15
           },
           "zerolinecolor": "white",
           "zerolinewidth": 2
          }
         }
        },
        "title": {
         "text": "Total Capacity of Thermoelectrics"
        },
        "xaxis": {
         "anchor": "y",
         "domain": [
          0,
          1
         ],
         "title": {
          "text": "ID"
         }
        },
        "yaxis": {
         "anchor": "x",
         "domain": [
          0,
          1
         ],
         "title": {
          "text": "Total Capacity"
         }
        }
       }
      }
     },
     "metadata": {},
     "output_type": "display_data"
    }
   ],
   "source": [
    "# Generate thermoelectrics\n",
    "electric_system_thermoelectrics_list: list[Thermoelectric] = []\n",
    "\n",
    "for i, t in enumerate(graphMap.thermoelectrics_nodes):\n",
    "    generated_thermoelectric_min_cost = 0\n",
    "\n",
    "    for j, c in enumerate(graphMap.circuits_nodes):\n",
    "        if mapper_circuit_with_thermoelectric[c.id] == t.id:\n",
    "            generated_thermoelectric_min_cost += (\n",
    "                electric_system_circuits_list[j].mock_electric_consume\n",
    "                + electric_system_circuits_list[j].mock_electric_consume\n",
    "                * matrix[i][j]\n",
    "                * 24\n",
    "            )\n",
    "\n",
    "    electric_system_thermoelectrics_list.append(\n",
    "        Thermoelectric(\n",
    "            id=t.id,\n",
    "            total_capacity=generated_thermoelectric_min_cost + 1000,\n",
    "        )\n",
    "    )\n",
    "    thermoelectric_data = {\n",
    "        \"ID\": [t.id for t in electric_system_thermoelectrics_list],\n",
    "        \"Total Capacity\": [\n",
    "            t.total_capacity for t in electric_system_thermoelectrics_list\n",
    "        ],\n",
    "    }\n",
    "\n",
    "    thermoelectric_df = pd.DataFrame(thermoelectric_data)\n",
    "\n",
    "\n",
    "sorted_electric_system_circuit_list = sorted(\n",
    "    electric_system_circuits_list,\n",
    "    key=lambda x: list(\n",
    "        filter(\n",
    "            lambda y: mapper_circuit_with_thermoelectric[x.id] == y.id,\n",
    "            graphMap.thermoelectrics_nodes,\n",
    "        )\n",
    "    )[0].id,\n",
    ")\n",
    "\n",
    "colors = [\n",
    "    list(\n",
    "        filter(\n",
    "            lambda x, y=circuit: mapper_circuit_with_thermoelectric[y.id] == x.id,\n",
    "            graphMap.thermoelectrics_nodes,\n",
    "        )\n",
    "    )[0].id\n",
    "    for circuit in sorted_electric_system_circuit_list\n",
    "]\n",
    "\n",
    "\n",
    "fig = px.bar(\n",
    "    thermoelectric_df,\n",
    "    x=\"ID\",\n",
    "    y=\"Total Capacity\",\n",
    "    title=\"Total Capacity of Thermoelectrics\",\n",
    "    height=800,\n",
    "    color=[t.id for t in electric_system_thermoelectrics_list],\n",
    "    color_discrete_sequence=px.colors.qualitative.Plotly,\n",
    "    labels={\"color\": \"Thermoelectric ID\"},\n",
    ")\n",
    "\n",
    "fig.show()"
   ]
  },
  {
   "cell_type": "code",
   "execution_count": 7,
   "metadata": {},
   "outputs": [
    {
     "data": {
      "application/vnd.plotly.v1+json": {
       "config": {
        "plotlyServerURL": "https://plot.ly"
       },
       "data": [
        {
         "alignmentgroup": "True",
         "hovertemplate": "color=Th0<br>Circuit ID=%{x}<br>Mock Electric Consume=%{y}<extra></extra>",
         "legendgroup": "Th0",
         "marker": {
          "color": "#636efa",
          "pattern": {
           "shape": ""
          }
         },
         "name": "Th0",
         "offsetgroup": "Th0",
         "orientation": "v",
         "showlegend": true,
         "textposition": "auto",
         "type": "bar",
         "x": [
          "C5",
          "C8",
          "C9",
          "C12",
          "C18",
          "C26",
          "C27",
          "C29",
          "C32",
          "C38",
          "C42",
          "C46",
          "C48"
         ],
         "xaxis": "x",
         "y": [
          1520.7591452914112,
          582.0124416833291,
          4910.254082074057,
          2190.656858312387,
          3137.1924833338444,
          2755.0534367996434,
          1833.5974790499629,
          1199.866881458451,
          4317.141065533732,
          3983.8479745644167,
          3134.1255914633166,
          4893.407640359156,
          2033.8976051259024
         ],
         "yaxis": "y"
        },
        {
         "alignmentgroup": "True",
         "hovertemplate": "color=Th1<br>Circuit ID=%{x}<br>Mock Electric Consume=%{y}<extra></extra>",
         "legendgroup": "Th1",
         "marker": {
          "color": "#EF553B",
          "pattern": {
           "shape": ""
          }
         },
         "name": "Th1",
         "offsetgroup": "Th1",
         "orientation": "v",
         "showlegend": true,
         "textposition": "auto",
         "type": "bar",
         "x": [
          "C10",
          "C15",
          "C21",
          "C24",
          "C31",
          "C36",
          "C44",
          "C47"
         ],
         "xaxis": "x",
         "y": [
          4169.960069058515,
          840.2718232103825,
          2286.0374232761114,
          1596.947752641768,
          903.0335075945259,
          1450.8932943559719,
          945.5156521008549,
          2316.3072974626907
         ],
         "yaxis": "y"
        },
        {
         "alignmentgroup": "True",
         "hovertemplate": "color=Th2<br>Circuit ID=%{x}<br>Mock Electric Consume=%{y}<extra></extra>",
         "legendgroup": "Th2",
         "marker": {
          "color": "#00cc96",
          "pattern": {
           "shape": ""
          }
         },
         "name": "Th2",
         "offsetgroup": "Th2",
         "orientation": "v",
         "showlegend": true,
         "textposition": "auto",
         "type": "bar",
         "x": [
          "C11",
          "C20",
          "C37"
         ],
         "xaxis": "x",
         "y": [
          3912.447749488729,
          506.18859295316946,
          2827.267608979563
         ],
         "yaxis": "y"
        },
        {
         "alignmentgroup": "True",
         "hovertemplate": "color=Th3<br>Circuit ID=%{x}<br>Mock Electric Consume=%{y}<extra></extra>",
         "legendgroup": "Th3",
         "marker": {
          "color": "#ab63fa",
          "pattern": {
           "shape": ""
          }
         },
         "name": "Th3",
         "offsetgroup": "Th3",
         "orientation": "v",
         "showlegend": true,
         "textposition": "auto",
         "type": "bar",
         "x": [
          "C0",
          "C19",
          "C30",
          "C35",
          "C45"
         ],
         "xaxis": "x",
         "y": [
          4147.554096167218,
          879.6190371350058,
          1102.5563015788562,
          3496.6884933020783,
          2473.00731249618
         ],
         "yaxis": "y"
        },
        {
         "alignmentgroup": "True",
         "hovertemplate": "color=Th4<br>Circuit ID=%{x}<br>Mock Electric Consume=%{y}<extra></extra>",
         "legendgroup": "Th4",
         "marker": {
          "color": "#FFA15A",
          "pattern": {
           "shape": ""
          }
         },
         "name": "Th4",
         "offsetgroup": "Th4",
         "orientation": "v",
         "showlegend": true,
         "textposition": "auto",
         "type": "bar",
         "x": [
          "C6",
          "C14",
          "C41"
         ],
         "xaxis": "x",
         "y": [
          423.74104005075014,
          1752.2580465791602,
          4345.412277483159
         ],
         "yaxis": "y"
        },
        {
         "alignmentgroup": "True",
         "hovertemplate": "color=Th5<br>Circuit ID=%{x}<br>Mock Electric Consume=%{y}<extra></extra>",
         "legendgroup": "Th5",
         "marker": {
          "color": "#19d3f3",
          "pattern": {
           "shape": ""
          }
         },
         "name": "Th5",
         "offsetgroup": "Th5",
         "orientation": "v",
         "showlegend": true,
         "textposition": "auto",
         "type": "bar",
         "x": [
          "C7",
          "C22",
          "C23",
          "C43"
         ],
         "xaxis": "x",
         "y": [
          3087.1525215489073,
          538.8008481695334,
          1488.669986024871,
          719.3448127288433
         ],
         "yaxis": "y"
        },
        {
         "alignmentgroup": "True",
         "hovertemplate": "color=Th6<br>Circuit ID=%{x}<br>Mock Electric Consume=%{y}<extra></extra>",
         "legendgroup": "Th6",
         "marker": {
          "color": "#FF6692",
          "pattern": {
           "shape": ""
          }
         },
         "name": "Th6",
         "offsetgroup": "Th6",
         "orientation": "v",
         "showlegend": true,
         "textposition": "auto",
         "type": "bar",
         "x": [
          "C1",
          "C2",
          "C28",
          "C34",
          "C40"
         ],
         "xaxis": "x",
         "y": [
          2218.0015001643505,
          3300.531732100007,
          4290.063437933709,
          1357.217906200822,
          805.2970731137564
         ],
         "yaxis": "y"
        },
        {
         "alignmentgroup": "True",
         "hovertemplate": "color=Th7<br>Circuit ID=%{x}<br>Mock Electric Consume=%{y}<extra></extra>",
         "legendgroup": "Th7",
         "marker": {
          "color": "#B6E880",
          "pattern": {
           "shape": ""
          }
         },
         "name": "Th7",
         "offsetgroup": "Th7",
         "orientation": "v",
         "showlegend": true,
         "textposition": "auto",
         "type": "bar",
         "x": [
          "C3",
          "C4",
          "C13",
          "C16",
          "C17",
          "C25",
          "C33",
          "C39",
          "C49"
         ],
         "xaxis": "x",
         "y": [
          2728.1799127708387,
          1925.545431657949,
          2421.824596209897,
          5789.193511853263,
          965.6603988635517,
          1803.8150060752412,
          5077.407307999796,
          4739.877196720347,
          1443.285539054034
         ],
         "yaxis": "y"
        }
       ],
       "layout": {
        "barmode": "relative",
        "height": 800,
        "legend": {
         "title": {
          "text": "color"
         },
         "tracegroupgap": 0
        },
        "template": {
         "data": {
          "bar": [
           {
            "error_x": {
             "color": "#2a3f5f"
            },
            "error_y": {
             "color": "#2a3f5f"
            },
            "marker": {
             "line": {
              "color": "#E5ECF6",
              "width": 0.5
             },
             "pattern": {
              "fillmode": "overlay",
              "size": 10,
              "solidity": 0.2
             }
            },
            "type": "bar"
           }
          ],
          "barpolar": [
           {
            "marker": {
             "line": {
              "color": "#E5ECF6",
              "width": 0.5
             },
             "pattern": {
              "fillmode": "overlay",
              "size": 10,
              "solidity": 0.2
             }
            },
            "type": "barpolar"
           }
          ],
          "carpet": [
           {
            "aaxis": {
             "endlinecolor": "#2a3f5f",
             "gridcolor": "white",
             "linecolor": "white",
             "minorgridcolor": "white",
             "startlinecolor": "#2a3f5f"
            },
            "baxis": {
             "endlinecolor": "#2a3f5f",
             "gridcolor": "white",
             "linecolor": "white",
             "minorgridcolor": "white",
             "startlinecolor": "#2a3f5f"
            },
            "type": "carpet"
           }
          ],
          "choropleth": [
           {
            "colorbar": {
             "outlinewidth": 0,
             "ticks": ""
            },
            "type": "choropleth"
           }
          ],
          "contour": [
           {
            "colorbar": {
             "outlinewidth": 0,
             "ticks": ""
            },
            "colorscale": [
             [
              0,
              "#0d0887"
             ],
             [
              0.1111111111111111,
              "#46039f"
             ],
             [
              0.2222222222222222,
              "#7201a8"
             ],
             [
              0.3333333333333333,
              "#9c179e"
             ],
             [
              0.4444444444444444,
              "#bd3786"
             ],
             [
              0.5555555555555556,
              "#d8576b"
             ],
             [
              0.6666666666666666,
              "#ed7953"
             ],
             [
              0.7777777777777778,
              "#fb9f3a"
             ],
             [
              0.8888888888888888,
              "#fdca26"
             ],
             [
              1,
              "#f0f921"
             ]
            ],
            "type": "contour"
           }
          ],
          "contourcarpet": [
           {
            "colorbar": {
             "outlinewidth": 0,
             "ticks": ""
            },
            "type": "contourcarpet"
           }
          ],
          "heatmap": [
           {
            "colorbar": {
             "outlinewidth": 0,
             "ticks": ""
            },
            "colorscale": [
             [
              0,
              "#0d0887"
             ],
             [
              0.1111111111111111,
              "#46039f"
             ],
             [
              0.2222222222222222,
              "#7201a8"
             ],
             [
              0.3333333333333333,
              "#9c179e"
             ],
             [
              0.4444444444444444,
              "#bd3786"
             ],
             [
              0.5555555555555556,
              "#d8576b"
             ],
             [
              0.6666666666666666,
              "#ed7953"
             ],
             [
              0.7777777777777778,
              "#fb9f3a"
             ],
             [
              0.8888888888888888,
              "#fdca26"
             ],
             [
              1,
              "#f0f921"
             ]
            ],
            "type": "heatmap"
           }
          ],
          "heatmapgl": [
           {
            "colorbar": {
             "outlinewidth": 0,
             "ticks": ""
            },
            "colorscale": [
             [
              0,
              "#0d0887"
             ],
             [
              0.1111111111111111,
              "#46039f"
             ],
             [
              0.2222222222222222,
              "#7201a8"
             ],
             [
              0.3333333333333333,
              "#9c179e"
             ],
             [
              0.4444444444444444,
              "#bd3786"
             ],
             [
              0.5555555555555556,
              "#d8576b"
             ],
             [
              0.6666666666666666,
              "#ed7953"
             ],
             [
              0.7777777777777778,
              "#fb9f3a"
             ],
             [
              0.8888888888888888,
              "#fdca26"
             ],
             [
              1,
              "#f0f921"
             ]
            ],
            "type": "heatmapgl"
           }
          ],
          "histogram": [
           {
            "marker": {
             "pattern": {
              "fillmode": "overlay",
              "size": 10,
              "solidity": 0.2
             }
            },
            "type": "histogram"
           }
          ],
          "histogram2d": [
           {
            "colorbar": {
             "outlinewidth": 0,
             "ticks": ""
            },
            "colorscale": [
             [
              0,
              "#0d0887"
             ],
             [
              0.1111111111111111,
              "#46039f"
             ],
             [
              0.2222222222222222,
              "#7201a8"
             ],
             [
              0.3333333333333333,
              "#9c179e"
             ],
             [
              0.4444444444444444,
              "#bd3786"
             ],
             [
              0.5555555555555556,
              "#d8576b"
             ],
             [
              0.6666666666666666,
              "#ed7953"
             ],
             [
              0.7777777777777778,
              "#fb9f3a"
             ],
             [
              0.8888888888888888,
              "#fdca26"
             ],
             [
              1,
              "#f0f921"
             ]
            ],
            "type": "histogram2d"
           }
          ],
          "histogram2dcontour": [
           {
            "colorbar": {
             "outlinewidth": 0,
             "ticks": ""
            },
            "colorscale": [
             [
              0,
              "#0d0887"
             ],
             [
              0.1111111111111111,
              "#46039f"
             ],
             [
              0.2222222222222222,
              "#7201a8"
             ],
             [
              0.3333333333333333,
              "#9c179e"
             ],
             [
              0.4444444444444444,
              "#bd3786"
             ],
             [
              0.5555555555555556,
              "#d8576b"
             ],
             [
              0.6666666666666666,
              "#ed7953"
             ],
             [
              0.7777777777777778,
              "#fb9f3a"
             ],
             [
              0.8888888888888888,
              "#fdca26"
             ],
             [
              1,
              "#f0f921"
             ]
            ],
            "type": "histogram2dcontour"
           }
          ],
          "mesh3d": [
           {
            "colorbar": {
             "outlinewidth": 0,
             "ticks": ""
            },
            "type": "mesh3d"
           }
          ],
          "parcoords": [
           {
            "line": {
             "colorbar": {
              "outlinewidth": 0,
              "ticks": ""
             }
            },
            "type": "parcoords"
           }
          ],
          "pie": [
           {
            "automargin": true,
            "type": "pie"
           }
          ],
          "scatter": [
           {
            "fillpattern": {
             "fillmode": "overlay",
             "size": 10,
             "solidity": 0.2
            },
            "type": "scatter"
           }
          ],
          "scatter3d": [
           {
            "line": {
             "colorbar": {
              "outlinewidth": 0,
              "ticks": ""
             }
            },
            "marker": {
             "colorbar": {
              "outlinewidth": 0,
              "ticks": ""
             }
            },
            "type": "scatter3d"
           }
          ],
          "scattercarpet": [
           {
            "marker": {
             "colorbar": {
              "outlinewidth": 0,
              "ticks": ""
             }
            },
            "type": "scattercarpet"
           }
          ],
          "scattergeo": [
           {
            "marker": {
             "colorbar": {
              "outlinewidth": 0,
              "ticks": ""
             }
            },
            "type": "scattergeo"
           }
          ],
          "scattergl": [
           {
            "marker": {
             "colorbar": {
              "outlinewidth": 0,
              "ticks": ""
             }
            },
            "type": "scattergl"
           }
          ],
          "scattermapbox": [
           {
            "marker": {
             "colorbar": {
              "outlinewidth": 0,
              "ticks": ""
             }
            },
            "type": "scattermapbox"
           }
          ],
          "scatterpolar": [
           {
            "marker": {
             "colorbar": {
              "outlinewidth": 0,
              "ticks": ""
             }
            },
            "type": "scatterpolar"
           }
          ],
          "scatterpolargl": [
           {
            "marker": {
             "colorbar": {
              "outlinewidth": 0,
              "ticks": ""
             }
            },
            "type": "scatterpolargl"
           }
          ],
          "scatterternary": [
           {
            "marker": {
             "colorbar": {
              "outlinewidth": 0,
              "ticks": ""
             }
            },
            "type": "scatterternary"
           }
          ],
          "surface": [
           {
            "colorbar": {
             "outlinewidth": 0,
             "ticks": ""
            },
            "colorscale": [
             [
              0,
              "#0d0887"
             ],
             [
              0.1111111111111111,
              "#46039f"
             ],
             [
              0.2222222222222222,
              "#7201a8"
             ],
             [
              0.3333333333333333,
              "#9c179e"
             ],
             [
              0.4444444444444444,
              "#bd3786"
             ],
             [
              0.5555555555555556,
              "#d8576b"
             ],
             [
              0.6666666666666666,
              "#ed7953"
             ],
             [
              0.7777777777777778,
              "#fb9f3a"
             ],
             [
              0.8888888888888888,
              "#fdca26"
             ],
             [
              1,
              "#f0f921"
             ]
            ],
            "type": "surface"
           }
          ],
          "table": [
           {
            "cells": {
             "fill": {
              "color": "#EBF0F8"
             },
             "line": {
              "color": "white"
             }
            },
            "header": {
             "fill": {
              "color": "#C8D4E3"
             },
             "line": {
              "color": "white"
             }
            },
            "type": "table"
           }
          ]
         },
         "layout": {
          "annotationdefaults": {
           "arrowcolor": "#2a3f5f",
           "arrowhead": 0,
           "arrowwidth": 1
          },
          "autotypenumbers": "strict",
          "coloraxis": {
           "colorbar": {
            "outlinewidth": 0,
            "ticks": ""
           }
          },
          "colorscale": {
           "diverging": [
            [
             0,
             "#8e0152"
            ],
            [
             0.1,
             "#c51b7d"
            ],
            [
             0.2,
             "#de77ae"
            ],
            [
             0.3,
             "#f1b6da"
            ],
            [
             0.4,
             "#fde0ef"
            ],
            [
             0.5,
             "#f7f7f7"
            ],
            [
             0.6,
             "#e6f5d0"
            ],
            [
             0.7,
             "#b8e186"
            ],
            [
             0.8,
             "#7fbc41"
            ],
            [
             0.9,
             "#4d9221"
            ],
            [
             1,
             "#276419"
            ]
           ],
           "sequential": [
            [
             0,
             "#0d0887"
            ],
            [
             0.1111111111111111,
             "#46039f"
            ],
            [
             0.2222222222222222,
             "#7201a8"
            ],
            [
             0.3333333333333333,
             "#9c179e"
            ],
            [
             0.4444444444444444,
             "#bd3786"
            ],
            [
             0.5555555555555556,
             "#d8576b"
            ],
            [
             0.6666666666666666,
             "#ed7953"
            ],
            [
             0.7777777777777778,
             "#fb9f3a"
            ],
            [
             0.8888888888888888,
             "#fdca26"
            ],
            [
             1,
             "#f0f921"
            ]
           ],
           "sequentialminus": [
            [
             0,
             "#0d0887"
            ],
            [
             0.1111111111111111,
             "#46039f"
            ],
            [
             0.2222222222222222,
             "#7201a8"
            ],
            [
             0.3333333333333333,
             "#9c179e"
            ],
            [
             0.4444444444444444,
             "#bd3786"
            ],
            [
             0.5555555555555556,
             "#d8576b"
            ],
            [
             0.6666666666666666,
             "#ed7953"
            ],
            [
             0.7777777777777778,
             "#fb9f3a"
            ],
            [
             0.8888888888888888,
             "#fdca26"
            ],
            [
             1,
             "#f0f921"
            ]
           ]
          },
          "colorway": [
           "#636efa",
           "#EF553B",
           "#00cc96",
           "#ab63fa",
           "#FFA15A",
           "#19d3f3",
           "#FF6692",
           "#B6E880",
           "#FF97FF",
           "#FECB52"
          ],
          "font": {
           "color": "#2a3f5f"
          },
          "geo": {
           "bgcolor": "white",
           "lakecolor": "white",
           "landcolor": "#E5ECF6",
           "showlakes": true,
           "showland": true,
           "subunitcolor": "white"
          },
          "hoverlabel": {
           "align": "left"
          },
          "hovermode": "closest",
          "mapbox": {
           "style": "light"
          },
          "paper_bgcolor": "white",
          "plot_bgcolor": "#E5ECF6",
          "polar": {
           "angularaxis": {
            "gridcolor": "white",
            "linecolor": "white",
            "ticks": ""
           },
           "bgcolor": "#E5ECF6",
           "radialaxis": {
            "gridcolor": "white",
            "linecolor": "white",
            "ticks": ""
           }
          },
          "scene": {
           "xaxis": {
            "backgroundcolor": "#E5ECF6",
            "gridcolor": "white",
            "gridwidth": 2,
            "linecolor": "white",
            "showbackground": true,
            "ticks": "",
            "zerolinecolor": "white"
           },
           "yaxis": {
            "backgroundcolor": "#E5ECF6",
            "gridcolor": "white",
            "gridwidth": 2,
            "linecolor": "white",
            "showbackground": true,
            "ticks": "",
            "zerolinecolor": "white"
           },
           "zaxis": {
            "backgroundcolor": "#E5ECF6",
            "gridcolor": "white",
            "gridwidth": 2,
            "linecolor": "white",
            "showbackground": true,
            "ticks": "",
            "zerolinecolor": "white"
           }
          },
          "shapedefaults": {
           "line": {
            "color": "#2a3f5f"
           }
          },
          "ternary": {
           "aaxis": {
            "gridcolor": "white",
            "linecolor": "white",
            "ticks": ""
           },
           "baxis": {
            "gridcolor": "white",
            "linecolor": "white",
            "ticks": ""
           },
           "bgcolor": "#E5ECF6",
           "caxis": {
            "gridcolor": "white",
            "linecolor": "white",
            "ticks": ""
           }
          },
          "title": {
           "x": 0.05
          },
          "xaxis": {
           "automargin": true,
           "gridcolor": "white",
           "linecolor": "white",
           "ticks": "",
           "title": {
            "standoff": 15
           },
           "zerolinecolor": "white",
           "zerolinewidth": 2
          },
          "yaxis": {
           "automargin": true,
           "gridcolor": "white",
           "linecolor": "white",
           "ticks": "",
           "title": {
            "standoff": 15
           },
           "zerolinecolor": "white",
           "zerolinewidth": 2
          }
         }
        },
        "title": {
         "text": "Electric Consume per Circuit [24 hours]"
        },
        "xaxis": {
         "anchor": "y",
         "domain": [
          0,
          1
         ],
         "title": {
          "text": "Circuit ID"
         }
        },
        "yaxis": {
         "anchor": "x",
         "domain": [
          0,
          1
         ],
         "title": {
          "text": "Mock Electric Consume"
         }
        }
       }
      }
     },
     "metadata": {},
     "output_type": "display_data"
    }
   ],
   "source": [
    "\n",
    "mock_electric_consume_data = {\n",
    "    \"Circuit ID\": [c.id for c in sorted_electric_system_circuit_list],\n",
    "    \"Mock Electric Consume\": [c.mock_electric_consume for c in sorted_electric_system_circuit_list],\n",
    "}\n",
    "\n",
    "mock_electric_consume_df = pd.DataFrame(mock_electric_consume_data)\n",
    "\n",
    "fig = px.bar(\n",
    "    mock_electric_consume_df,\n",
    "    x=\"Circuit ID\",\n",
    "    y=\"Mock Electric Consume\",\n",
    "    title=\"Electric Consume per Circuit [24 hours]\",\n",
    "    height=800,\n",
    "    color=colors\n",
    ")\n",
    "fig.show()"
   ]
  },
  {
   "cell_type": "code",
   "execution_count": 8,
   "metadata": {},
   "outputs": [
    {
     "data": {
      "text/html": [
       "<div>\n",
       "<style scoped>\n",
       "    .dataframe tbody tr th:only-of-type {\n",
       "        vertical-align: middle;\n",
       "    }\n",
       "\n",
       "    .dataframe tbody tr th {\n",
       "        vertical-align: top;\n",
       "    }\n",
       "\n",
       "    .dataframe thead th {\n",
       "        text-align: right;\n",
       "    }\n",
       "</style>\n",
       "<table border=\"1\" class=\"dataframe\">\n",
       "  <thead>\n",
       "    <tr style=\"text-align: right;\">\n",
       "      <th></th>\n",
       "      <th>Max Population of Circuits</th>\n",
       "      <th>Max Population of Blocks</th>\n",
       "    </tr>\n",
       "  </thead>\n",
       "  <tbody>\n",
       "    <tr>\n",
       "      <th>0</th>\n",
       "      <td>18809</td>\n",
       "      <td>4867</td>\n",
       "    </tr>\n",
       "  </tbody>\n",
       "</table>\n",
       "</div>"
      ],
      "text/plain": [
       "   Max Population of Circuits  Max Population of Blocks\n",
       "0                       18809                      4867"
      ]
     },
     "execution_count": 8,
     "metadata": {},
     "output_type": "execute_result"
    }
   ],
   "source": [
    "max_population_of_circuits = -1\n",
    "max_population_of_block = -1\n",
    "\n",
    "for circuit in electric_system_circuits_list:\n",
    "    max_population_of_circuits = max(\n",
    "        circuit.get_all_block_population(), max_population_of_circuits\n",
    "    )\n",
    "    for block in circuit.blocks:\n",
    "        max_population_of_block = max(block.citizens.amount, max_population_of_block)\n",
    "\n",
    "auxiliary_data_max_population_of_circuits = max_population_of_circuits\n",
    "auxiliary_data_max_population_of_block = max_population_of_block\n",
    "\n",
    "\n",
    "def get_circuit_importance(circuit: Circuit) -> float:\n",
    "    return (\n",
    "        circuit.get_all_block_population() / auxiliary_data_max_population_of_circuits\n",
    "    ) * IMPORTANCE_ALPHA + circuit.industrialization * (1 - IMPORTANCE_ALPHA)\n",
    "\n",
    "\n",
    "def get_block_importance(block: Block) -> float:\n",
    "    return (\n",
    "        block.citizens.amount / auxiliary_data_max_population_of_circuits\n",
    "    ) * IMPORTANCE_ALPHA + block.industrialization * (1 - IMPORTANCE_ALPHA)\n",
    "\n",
    "\n",
    "def set_importance(ci: list[Circuit]):\n",
    "    for circuit in ci:\n",
    "        for block in circuit.blocks:\n",
    "            block.importance = get_block_importance(block)\n",
    "        circuit.importance = get_circuit_importance(circuit)\n",
    "\n",
    "set_importance(electric_system_circuits_list)\n",
    "\n",
    "max_population_data = {\n",
    "    \"Max Population of Circuits\": [auxiliary_data_max_population_of_circuits],\n",
    "    \"Max Population of Blocks\": [auxiliary_data_max_population_of_block],\n",
    "}\n",
    "\n",
    "max_population_df = pd.DataFrame(max_population_data)\n",
    "# TODO : update plotly\n",
    "max_population_df"
   ]
  },
  {
   "cell_type": "code",
   "execution_count": 9,
   "metadata": {},
   "outputs": [
    {
     "data": {
      "application/vnd.plotly.v1+json": {
       "config": {
        "plotlyServerURL": "https://plot.ly"
       },
       "data": [
        {
         "alignmentgroup": "True",
         "hovertemplate": "index=%{x}<br>Citizens=%{y}<extra></extra>",
         "legendgroup": "",
         "marker": {
          "color": "#636efa",
          "pattern": {
           "shape": ""
          }
         },
         "name": "",
         "offsetgroup": "",
         "orientation": "v",
         "showlegend": false,
         "textposition": "auto",
         "type": "bar",
         "x": [
          0,
          1,
          2
         ],
         "xaxis": "x",
         "y": [
          4791,
          4692,
          4671
         ],
         "yaxis": "y"
        }
       ],
       "layout": {
        "barmode": "relative",
        "height": 800,
        "legend": {
         "tracegroupgap": 0
        },
        "template": {
         "data": {
          "bar": [
           {
            "error_x": {
             "color": "#2a3f5f"
            },
            "error_y": {
             "color": "#2a3f5f"
            },
            "marker": {
             "line": {
              "color": "#E5ECF6",
              "width": 0.5
             },
             "pattern": {
              "fillmode": "overlay",
              "size": 10,
              "solidity": 0.2
             }
            },
            "type": "bar"
           }
          ],
          "barpolar": [
           {
            "marker": {
             "line": {
              "color": "#E5ECF6",
              "width": 0.5
             },
             "pattern": {
              "fillmode": "overlay",
              "size": 10,
              "solidity": 0.2
             }
            },
            "type": "barpolar"
           }
          ],
          "carpet": [
           {
            "aaxis": {
             "endlinecolor": "#2a3f5f",
             "gridcolor": "white",
             "linecolor": "white",
             "minorgridcolor": "white",
             "startlinecolor": "#2a3f5f"
            },
            "baxis": {
             "endlinecolor": "#2a3f5f",
             "gridcolor": "white",
             "linecolor": "white",
             "minorgridcolor": "white",
             "startlinecolor": "#2a3f5f"
            },
            "type": "carpet"
           }
          ],
          "choropleth": [
           {
            "colorbar": {
             "outlinewidth": 0,
             "ticks": ""
            },
            "type": "choropleth"
           }
          ],
          "contour": [
           {
            "colorbar": {
             "outlinewidth": 0,
             "ticks": ""
            },
            "colorscale": [
             [
              0,
              "#0d0887"
             ],
             [
              0.1111111111111111,
              "#46039f"
             ],
             [
              0.2222222222222222,
              "#7201a8"
             ],
             [
              0.3333333333333333,
              "#9c179e"
             ],
             [
              0.4444444444444444,
              "#bd3786"
             ],
             [
              0.5555555555555556,
              "#d8576b"
             ],
             [
              0.6666666666666666,
              "#ed7953"
             ],
             [
              0.7777777777777778,
              "#fb9f3a"
             ],
             [
              0.8888888888888888,
              "#fdca26"
             ],
             [
              1,
              "#f0f921"
             ]
            ],
            "type": "contour"
           }
          ],
          "contourcarpet": [
           {
            "colorbar": {
             "outlinewidth": 0,
             "ticks": ""
            },
            "type": "contourcarpet"
           }
          ],
          "heatmap": [
           {
            "colorbar": {
             "outlinewidth": 0,
             "ticks": ""
            },
            "colorscale": [
             [
              0,
              "#0d0887"
             ],
             [
              0.1111111111111111,
              "#46039f"
             ],
             [
              0.2222222222222222,
              "#7201a8"
             ],
             [
              0.3333333333333333,
              "#9c179e"
             ],
             [
              0.4444444444444444,
              "#bd3786"
             ],
             [
              0.5555555555555556,
              "#d8576b"
             ],
             [
              0.6666666666666666,
              "#ed7953"
             ],
             [
              0.7777777777777778,
              "#fb9f3a"
             ],
             [
              0.8888888888888888,
              "#fdca26"
             ],
             [
              1,
              "#f0f921"
             ]
            ],
            "type": "heatmap"
           }
          ],
          "heatmapgl": [
           {
            "colorbar": {
             "outlinewidth": 0,
             "ticks": ""
            },
            "colorscale": [
             [
              0,
              "#0d0887"
             ],
             [
              0.1111111111111111,
              "#46039f"
             ],
             [
              0.2222222222222222,
              "#7201a8"
             ],
             [
              0.3333333333333333,
              "#9c179e"
             ],
             [
              0.4444444444444444,
              "#bd3786"
             ],
             [
              0.5555555555555556,
              "#d8576b"
             ],
             [
              0.6666666666666666,
              "#ed7953"
             ],
             [
              0.7777777777777778,
              "#fb9f3a"
             ],
             [
              0.8888888888888888,
              "#fdca26"
             ],
             [
              1,
              "#f0f921"
             ]
            ],
            "type": "heatmapgl"
           }
          ],
          "histogram": [
           {
            "marker": {
             "pattern": {
              "fillmode": "overlay",
              "size": 10,
              "solidity": 0.2
             }
            },
            "type": "histogram"
           }
          ],
          "histogram2d": [
           {
            "colorbar": {
             "outlinewidth": 0,
             "ticks": ""
            },
            "colorscale": [
             [
              0,
              "#0d0887"
             ],
             [
              0.1111111111111111,
              "#46039f"
             ],
             [
              0.2222222222222222,
              "#7201a8"
             ],
             [
              0.3333333333333333,
              "#9c179e"
             ],
             [
              0.4444444444444444,
              "#bd3786"
             ],
             [
              0.5555555555555556,
              "#d8576b"
             ],
             [
              0.6666666666666666,
              "#ed7953"
             ],
             [
              0.7777777777777778,
              "#fb9f3a"
             ],
             [
              0.8888888888888888,
              "#fdca26"
             ],
             [
              1,
              "#f0f921"
             ]
            ],
            "type": "histogram2d"
           }
          ],
          "histogram2dcontour": [
           {
            "colorbar": {
             "outlinewidth": 0,
             "ticks": ""
            },
            "colorscale": [
             [
              0,
              "#0d0887"
             ],
             [
              0.1111111111111111,
              "#46039f"
             ],
             [
              0.2222222222222222,
              "#7201a8"
             ],
             [
              0.3333333333333333,
              "#9c179e"
             ],
             [
              0.4444444444444444,
              "#bd3786"
             ],
             [
              0.5555555555555556,
              "#d8576b"
             ],
             [
              0.6666666666666666,
              "#ed7953"
             ],
             [
              0.7777777777777778,
              "#fb9f3a"
             ],
             [
              0.8888888888888888,
              "#fdca26"
             ],
             [
              1,
              "#f0f921"
             ]
            ],
            "type": "histogram2dcontour"
           }
          ],
          "mesh3d": [
           {
            "colorbar": {
             "outlinewidth": 0,
             "ticks": ""
            },
            "type": "mesh3d"
           }
          ],
          "parcoords": [
           {
            "line": {
             "colorbar": {
              "outlinewidth": 0,
              "ticks": ""
             }
            },
            "type": "parcoords"
           }
          ],
          "pie": [
           {
            "automargin": true,
            "type": "pie"
           }
          ],
          "scatter": [
           {
            "fillpattern": {
             "fillmode": "overlay",
             "size": 10,
             "solidity": 0.2
            },
            "type": "scatter"
           }
          ],
          "scatter3d": [
           {
            "line": {
             "colorbar": {
              "outlinewidth": 0,
              "ticks": ""
             }
            },
            "marker": {
             "colorbar": {
              "outlinewidth": 0,
              "ticks": ""
             }
            },
            "type": "scatter3d"
           }
          ],
          "scattercarpet": [
           {
            "marker": {
             "colorbar": {
              "outlinewidth": 0,
              "ticks": ""
             }
            },
            "type": "scattercarpet"
           }
          ],
          "scattergeo": [
           {
            "marker": {
             "colorbar": {
              "outlinewidth": 0,
              "ticks": ""
             }
            },
            "type": "scattergeo"
           }
          ],
          "scattergl": [
           {
            "marker": {
             "colorbar": {
              "outlinewidth": 0,
              "ticks": ""
             }
            },
            "type": "scattergl"
           }
          ],
          "scattermapbox": [
           {
            "marker": {
             "colorbar": {
              "outlinewidth": 0,
              "ticks": ""
             }
            },
            "type": "scattermapbox"
           }
          ],
          "scatterpolar": [
           {
            "marker": {
             "colorbar": {
              "outlinewidth": 0,
              "ticks": ""
             }
            },
            "type": "scatterpolar"
           }
          ],
          "scatterpolargl": [
           {
            "marker": {
             "colorbar": {
              "outlinewidth": 0,
              "ticks": ""
             }
            },
            "type": "scatterpolargl"
           }
          ],
          "scatterternary": [
           {
            "marker": {
             "colorbar": {
              "outlinewidth": 0,
              "ticks": ""
             }
            },
            "type": "scatterternary"
           }
          ],
          "surface": [
           {
            "colorbar": {
             "outlinewidth": 0,
             "ticks": ""
            },
            "colorscale": [
             [
              0,
              "#0d0887"
             ],
             [
              0.1111111111111111,
              "#46039f"
             ],
             [
              0.2222222222222222,
              "#7201a8"
             ],
             [
              0.3333333333333333,
              "#9c179e"
             ],
             [
              0.4444444444444444,
              "#bd3786"
             ],
             [
              0.5555555555555556,
              "#d8576b"
             ],
             [
              0.6666666666666666,
              "#ed7953"
             ],
             [
              0.7777777777777778,
              "#fb9f3a"
             ],
             [
              0.8888888888888888,
              "#fdca26"
             ],
             [
              1,
              "#f0f921"
             ]
            ],
            "type": "surface"
           }
          ],
          "table": [
           {
            "cells": {
             "fill": {
              "color": "#EBF0F8"
             },
             "line": {
              "color": "white"
             }
            },
            "header": {
             "fill": {
              "color": "#C8D4E3"
             },
             "line": {
              "color": "white"
             }
            },
            "type": "table"
           }
          ]
         },
         "layout": {
          "annotationdefaults": {
           "arrowcolor": "#2a3f5f",
           "arrowhead": 0,
           "arrowwidth": 1
          },
          "autotypenumbers": "strict",
          "coloraxis": {
           "colorbar": {
            "outlinewidth": 0,
            "ticks": ""
           }
          },
          "colorscale": {
           "diverging": [
            [
             0,
             "#8e0152"
            ],
            [
             0.1,
             "#c51b7d"
            ],
            [
             0.2,
             "#de77ae"
            ],
            [
             0.3,
             "#f1b6da"
            ],
            [
             0.4,
             "#fde0ef"
            ],
            [
             0.5,
             "#f7f7f7"
            ],
            [
             0.6,
             "#e6f5d0"
            ],
            [
             0.7,
             "#b8e186"
            ],
            [
             0.8,
             "#7fbc41"
            ],
            [
             0.9,
             "#4d9221"
            ],
            [
             1,
             "#276419"
            ]
           ],
           "sequential": [
            [
             0,
             "#0d0887"
            ],
            [
             0.1111111111111111,
             "#46039f"
            ],
            [
             0.2222222222222222,
             "#7201a8"
            ],
            [
             0.3333333333333333,
             "#9c179e"
            ],
            [
             0.4444444444444444,
             "#bd3786"
            ],
            [
             0.5555555555555556,
             "#d8576b"
            ],
            [
             0.6666666666666666,
             "#ed7953"
            ],
            [
             0.7777777777777778,
             "#fb9f3a"
            ],
            [
             0.8888888888888888,
             "#fdca26"
            ],
            [
             1,
             "#f0f921"
            ]
           ],
           "sequentialminus": [
            [
             0,
             "#0d0887"
            ],
            [
             0.1111111111111111,
             "#46039f"
            ],
            [
             0.2222222222222222,
             "#7201a8"
            ],
            [
             0.3333333333333333,
             "#9c179e"
            ],
            [
             0.4444444444444444,
             "#bd3786"
            ],
            [
             0.5555555555555556,
             "#d8576b"
            ],
            [
             0.6666666666666666,
             "#ed7953"
            ],
            [
             0.7777777777777778,
             "#fb9f3a"
            ],
            [
             0.8888888888888888,
             "#fdca26"
            ],
            [
             1,
             "#f0f921"
            ]
           ]
          },
          "colorway": [
           "#636efa",
           "#EF553B",
           "#00cc96",
           "#ab63fa",
           "#FFA15A",
           "#19d3f3",
           "#FF6692",
           "#B6E880",
           "#FF97FF",
           "#FECB52"
          ],
          "font": {
           "color": "#2a3f5f"
          },
          "geo": {
           "bgcolor": "white",
           "lakecolor": "white",
           "landcolor": "#E5ECF6",
           "showlakes": true,
           "showland": true,
           "subunitcolor": "white"
          },
          "hoverlabel": {
           "align": "left"
          },
          "hovermode": "closest",
          "mapbox": {
           "style": "light"
          },
          "paper_bgcolor": "white",
          "plot_bgcolor": "#E5ECF6",
          "polar": {
           "angularaxis": {
            "gridcolor": "white",
            "linecolor": "white",
            "ticks": ""
           },
           "bgcolor": "#E5ECF6",
           "radialaxis": {
            "gridcolor": "white",
            "linecolor": "white",
            "ticks": ""
           }
          },
          "scene": {
           "xaxis": {
            "backgroundcolor": "#E5ECF6",
            "gridcolor": "white",
            "gridwidth": 2,
            "linecolor": "white",
            "showbackground": true,
            "ticks": "",
            "zerolinecolor": "white"
           },
           "yaxis": {
            "backgroundcolor": "#E5ECF6",
            "gridcolor": "white",
            "gridwidth": 2,
            "linecolor": "white",
            "showbackground": true,
            "ticks": "",
            "zerolinecolor": "white"
           },
           "zaxis": {
            "backgroundcolor": "#E5ECF6",
            "gridcolor": "white",
            "gridwidth": 2,
            "linecolor": "white",
            "showbackground": true,
            "ticks": "",
            "zerolinecolor": "white"
           }
          },
          "shapedefaults": {
           "line": {
            "color": "#2a3f5f"
           }
          },
          "ternary": {
           "aaxis": {
            "gridcolor": "white",
            "linecolor": "white",
            "ticks": ""
           },
           "baxis": {
            "gridcolor": "white",
            "linecolor": "white",
            "ticks": ""
           },
           "bgcolor": "#E5ECF6",
           "caxis": {
            "gridcolor": "white",
            "linecolor": "white",
            "ticks": ""
           }
          },
          "title": {
           "x": 0.05
          },
          "xaxis": {
           "automargin": true,
           "gridcolor": "white",
           "linecolor": "white",
           "ticks": "",
           "title": {
            "standoff": 15
           },
           "zerolinecolor": "white",
           "zerolinewidth": 2
          },
          "yaxis": {
           "automargin": true,
           "gridcolor": "white",
           "linecolor": "white",
           "ticks": "",
           "title": {
            "standoff": 15
           },
           "zerolinecolor": "white",
           "zerolinewidth": 2
          }
         }
        },
        "title": {
         "text": "Block Citizens in Circuit C0"
        },
        "xaxis": {
         "anchor": "y",
         "domain": [
          0,
          1
         ],
         "title": {
          "text": "index"
         }
        },
        "yaxis": {
         "anchor": "x",
         "domain": [
          0,
          1
         ],
         "title": {
          "text": "Citizens"
         }
        }
       }
      }
     },
     "metadata": {},
     "output_type": "display_data"
    },
    {
     "data": {
      "application/vnd.plotly.v1+json": {
       "config": {
        "plotlyServerURL": "https://plot.ly"
       },
       "data": [
        {
         "alignmentgroup": "True",
         "hovertemplate": "index=%{x}<br>Importance=%{y}<extra></extra>",
         "legendgroup": "",
         "marker": {
          "color": "#636efa",
          "pattern": {
           "shape": ""
          }
         },
         "name": "",
         "offsetgroup": "",
         "orientation": "v",
         "showlegend": false,
         "textposition": "auto",
         "type": "bar",
         "x": [
          0,
          1,
          2
         ],
         "xaxis": "x",
         "y": [
          0.4707455915784997,
          0.4687752499867085,
          0.46835729873996496
         ],
         "yaxis": "y"
        }
       ],
       "layout": {
        "barmode": "relative",
        "height": 800,
        "legend": {
         "tracegroupgap": 0
        },
        "template": {
         "data": {
          "bar": [
           {
            "error_x": {
             "color": "#2a3f5f"
            },
            "error_y": {
             "color": "#2a3f5f"
            },
            "marker": {
             "line": {
              "color": "#E5ECF6",
              "width": 0.5
             },
             "pattern": {
              "fillmode": "overlay",
              "size": 10,
              "solidity": 0.2
             }
            },
            "type": "bar"
           }
          ],
          "barpolar": [
           {
            "marker": {
             "line": {
              "color": "#E5ECF6",
              "width": 0.5
             },
             "pattern": {
              "fillmode": "overlay",
              "size": 10,
              "solidity": 0.2
             }
            },
            "type": "barpolar"
           }
          ],
          "carpet": [
           {
            "aaxis": {
             "endlinecolor": "#2a3f5f",
             "gridcolor": "white",
             "linecolor": "white",
             "minorgridcolor": "white",
             "startlinecolor": "#2a3f5f"
            },
            "baxis": {
             "endlinecolor": "#2a3f5f",
             "gridcolor": "white",
             "linecolor": "white",
             "minorgridcolor": "white",
             "startlinecolor": "#2a3f5f"
            },
            "type": "carpet"
           }
          ],
          "choropleth": [
           {
            "colorbar": {
             "outlinewidth": 0,
             "ticks": ""
            },
            "type": "choropleth"
           }
          ],
          "contour": [
           {
            "colorbar": {
             "outlinewidth": 0,
             "ticks": ""
            },
            "colorscale": [
             [
              0,
              "#0d0887"
             ],
             [
              0.1111111111111111,
              "#46039f"
             ],
             [
              0.2222222222222222,
              "#7201a8"
             ],
             [
              0.3333333333333333,
              "#9c179e"
             ],
             [
              0.4444444444444444,
              "#bd3786"
             ],
             [
              0.5555555555555556,
              "#d8576b"
             ],
             [
              0.6666666666666666,
              "#ed7953"
             ],
             [
              0.7777777777777778,
              "#fb9f3a"
             ],
             [
              0.8888888888888888,
              "#fdca26"
             ],
             [
              1,
              "#f0f921"
             ]
            ],
            "type": "contour"
           }
          ],
          "contourcarpet": [
           {
            "colorbar": {
             "outlinewidth": 0,
             "ticks": ""
            },
            "type": "contourcarpet"
           }
          ],
          "heatmap": [
           {
            "colorbar": {
             "outlinewidth": 0,
             "ticks": ""
            },
            "colorscale": [
             [
              0,
              "#0d0887"
             ],
             [
              0.1111111111111111,
              "#46039f"
             ],
             [
              0.2222222222222222,
              "#7201a8"
             ],
             [
              0.3333333333333333,
              "#9c179e"
             ],
             [
              0.4444444444444444,
              "#bd3786"
             ],
             [
              0.5555555555555556,
              "#d8576b"
             ],
             [
              0.6666666666666666,
              "#ed7953"
             ],
             [
              0.7777777777777778,
              "#fb9f3a"
             ],
             [
              0.8888888888888888,
              "#fdca26"
             ],
             [
              1,
              "#f0f921"
             ]
            ],
            "type": "heatmap"
           }
          ],
          "heatmapgl": [
           {
            "colorbar": {
             "outlinewidth": 0,
             "ticks": ""
            },
            "colorscale": [
             [
              0,
              "#0d0887"
             ],
             [
              0.1111111111111111,
              "#46039f"
             ],
             [
              0.2222222222222222,
              "#7201a8"
             ],
             [
              0.3333333333333333,
              "#9c179e"
             ],
             [
              0.4444444444444444,
              "#bd3786"
             ],
             [
              0.5555555555555556,
              "#d8576b"
             ],
             [
              0.6666666666666666,
              "#ed7953"
             ],
             [
              0.7777777777777778,
              "#fb9f3a"
             ],
             [
              0.8888888888888888,
              "#fdca26"
             ],
             [
              1,
              "#f0f921"
             ]
            ],
            "type": "heatmapgl"
           }
          ],
          "histogram": [
           {
            "marker": {
             "pattern": {
              "fillmode": "overlay",
              "size": 10,
              "solidity": 0.2
             }
            },
            "type": "histogram"
           }
          ],
          "histogram2d": [
           {
            "colorbar": {
             "outlinewidth": 0,
             "ticks": ""
            },
            "colorscale": [
             [
              0,
              "#0d0887"
             ],
             [
              0.1111111111111111,
              "#46039f"
             ],
             [
              0.2222222222222222,
              "#7201a8"
             ],
             [
              0.3333333333333333,
              "#9c179e"
             ],
             [
              0.4444444444444444,
              "#bd3786"
             ],
             [
              0.5555555555555556,
              "#d8576b"
             ],
             [
              0.6666666666666666,
              "#ed7953"
             ],
             [
              0.7777777777777778,
              "#fb9f3a"
             ],
             [
              0.8888888888888888,
              "#fdca26"
             ],
             [
              1,
              "#f0f921"
             ]
            ],
            "type": "histogram2d"
           }
          ],
          "histogram2dcontour": [
           {
            "colorbar": {
             "outlinewidth": 0,
             "ticks": ""
            },
            "colorscale": [
             [
              0,
              "#0d0887"
             ],
             [
              0.1111111111111111,
              "#46039f"
             ],
             [
              0.2222222222222222,
              "#7201a8"
             ],
             [
              0.3333333333333333,
              "#9c179e"
             ],
             [
              0.4444444444444444,
              "#bd3786"
             ],
             [
              0.5555555555555556,
              "#d8576b"
             ],
             [
              0.6666666666666666,
              "#ed7953"
             ],
             [
              0.7777777777777778,
              "#fb9f3a"
             ],
             [
              0.8888888888888888,
              "#fdca26"
             ],
             [
              1,
              "#f0f921"
             ]
            ],
            "type": "histogram2dcontour"
           }
          ],
          "mesh3d": [
           {
            "colorbar": {
             "outlinewidth": 0,
             "ticks": ""
            },
            "type": "mesh3d"
           }
          ],
          "parcoords": [
           {
            "line": {
             "colorbar": {
              "outlinewidth": 0,
              "ticks": ""
             }
            },
            "type": "parcoords"
           }
          ],
          "pie": [
           {
            "automargin": true,
            "type": "pie"
           }
          ],
          "scatter": [
           {
            "fillpattern": {
             "fillmode": "overlay",
             "size": 10,
             "solidity": 0.2
            },
            "type": "scatter"
           }
          ],
          "scatter3d": [
           {
            "line": {
             "colorbar": {
              "outlinewidth": 0,
              "ticks": ""
             }
            },
            "marker": {
             "colorbar": {
              "outlinewidth": 0,
              "ticks": ""
             }
            },
            "type": "scatter3d"
           }
          ],
          "scattercarpet": [
           {
            "marker": {
             "colorbar": {
              "outlinewidth": 0,
              "ticks": ""
             }
            },
            "type": "scattercarpet"
           }
          ],
          "scattergeo": [
           {
            "marker": {
             "colorbar": {
              "outlinewidth": 0,
              "ticks": ""
             }
            },
            "type": "scattergeo"
           }
          ],
          "scattergl": [
           {
            "marker": {
             "colorbar": {
              "outlinewidth": 0,
              "ticks": ""
             }
            },
            "type": "scattergl"
           }
          ],
          "scattermapbox": [
           {
            "marker": {
             "colorbar": {
              "outlinewidth": 0,
              "ticks": ""
             }
            },
            "type": "scattermapbox"
           }
          ],
          "scatterpolar": [
           {
            "marker": {
             "colorbar": {
              "outlinewidth": 0,
              "ticks": ""
             }
            },
            "type": "scatterpolar"
           }
          ],
          "scatterpolargl": [
           {
            "marker": {
             "colorbar": {
              "outlinewidth": 0,
              "ticks": ""
             }
            },
            "type": "scatterpolargl"
           }
          ],
          "scatterternary": [
           {
            "marker": {
             "colorbar": {
              "outlinewidth": 0,
              "ticks": ""
             }
            },
            "type": "scatterternary"
           }
          ],
          "surface": [
           {
            "colorbar": {
             "outlinewidth": 0,
             "ticks": ""
            },
            "colorscale": [
             [
              0,
              "#0d0887"
             ],
             [
              0.1111111111111111,
              "#46039f"
             ],
             [
              0.2222222222222222,
              "#7201a8"
             ],
             [
              0.3333333333333333,
              "#9c179e"
             ],
             [
              0.4444444444444444,
              "#bd3786"
             ],
             [
              0.5555555555555556,
              "#d8576b"
             ],
             [
              0.6666666666666666,
              "#ed7953"
             ],
             [
              0.7777777777777778,
              "#fb9f3a"
             ],
             [
              0.8888888888888888,
              "#fdca26"
             ],
             [
              1,
              "#f0f921"
             ]
            ],
            "type": "surface"
           }
          ],
          "table": [
           {
            "cells": {
             "fill": {
              "color": "#EBF0F8"
             },
             "line": {
              "color": "white"
             }
            },
            "header": {
             "fill": {
              "color": "#C8D4E3"
             },
             "line": {
              "color": "white"
             }
            },
            "type": "table"
           }
          ]
         },
         "layout": {
          "annotationdefaults": {
           "arrowcolor": "#2a3f5f",
           "arrowhead": 0,
           "arrowwidth": 1
          },
          "autotypenumbers": "strict",
          "coloraxis": {
           "colorbar": {
            "outlinewidth": 0,
            "ticks": ""
           }
          },
          "colorscale": {
           "diverging": [
            [
             0,
             "#8e0152"
            ],
            [
             0.1,
             "#c51b7d"
            ],
            [
             0.2,
             "#de77ae"
            ],
            [
             0.3,
             "#f1b6da"
            ],
            [
             0.4,
             "#fde0ef"
            ],
            [
             0.5,
             "#f7f7f7"
            ],
            [
             0.6,
             "#e6f5d0"
            ],
            [
             0.7,
             "#b8e186"
            ],
            [
             0.8,
             "#7fbc41"
            ],
            [
             0.9,
             "#4d9221"
            ],
            [
             1,
             "#276419"
            ]
           ],
           "sequential": [
            [
             0,
             "#0d0887"
            ],
            [
             0.1111111111111111,
             "#46039f"
            ],
            [
             0.2222222222222222,
             "#7201a8"
            ],
            [
             0.3333333333333333,
             "#9c179e"
            ],
            [
             0.4444444444444444,
             "#bd3786"
            ],
            [
             0.5555555555555556,
             "#d8576b"
            ],
            [
             0.6666666666666666,
             "#ed7953"
            ],
            [
             0.7777777777777778,
             "#fb9f3a"
            ],
            [
             0.8888888888888888,
             "#fdca26"
            ],
            [
             1,
             "#f0f921"
            ]
           ],
           "sequentialminus": [
            [
             0,
             "#0d0887"
            ],
            [
             0.1111111111111111,
             "#46039f"
            ],
            [
             0.2222222222222222,
             "#7201a8"
            ],
            [
             0.3333333333333333,
             "#9c179e"
            ],
            [
             0.4444444444444444,
             "#bd3786"
            ],
            [
             0.5555555555555556,
             "#d8576b"
            ],
            [
             0.6666666666666666,
             "#ed7953"
            ],
            [
             0.7777777777777778,
             "#fb9f3a"
            ],
            [
             0.8888888888888888,
             "#fdca26"
            ],
            [
             1,
             "#f0f921"
            ]
           ]
          },
          "colorway": [
           "#636efa",
           "#EF553B",
           "#00cc96",
           "#ab63fa",
           "#FFA15A",
           "#19d3f3",
           "#FF6692",
           "#B6E880",
           "#FF97FF",
           "#FECB52"
          ],
          "font": {
           "color": "#2a3f5f"
          },
          "geo": {
           "bgcolor": "white",
           "lakecolor": "white",
           "landcolor": "#E5ECF6",
           "showlakes": true,
           "showland": true,
           "subunitcolor": "white"
          },
          "hoverlabel": {
           "align": "left"
          },
          "hovermode": "closest",
          "mapbox": {
           "style": "light"
          },
          "paper_bgcolor": "white",
          "plot_bgcolor": "#E5ECF6",
          "polar": {
           "angularaxis": {
            "gridcolor": "white",
            "linecolor": "white",
            "ticks": ""
           },
           "bgcolor": "#E5ECF6",
           "radialaxis": {
            "gridcolor": "white",
            "linecolor": "white",
            "ticks": ""
           }
          },
          "scene": {
           "xaxis": {
            "backgroundcolor": "#E5ECF6",
            "gridcolor": "white",
            "gridwidth": 2,
            "linecolor": "white",
            "showbackground": true,
            "ticks": "",
            "zerolinecolor": "white"
           },
           "yaxis": {
            "backgroundcolor": "#E5ECF6",
            "gridcolor": "white",
            "gridwidth": 2,
            "linecolor": "white",
            "showbackground": true,
            "ticks": "",
            "zerolinecolor": "white"
           },
           "zaxis": {
            "backgroundcolor": "#E5ECF6",
            "gridcolor": "white",
            "gridwidth": 2,
            "linecolor": "white",
            "showbackground": true,
            "ticks": "",
            "zerolinecolor": "white"
           }
          },
          "shapedefaults": {
           "line": {
            "color": "#2a3f5f"
           }
          },
          "ternary": {
           "aaxis": {
            "gridcolor": "white",
            "linecolor": "white",
            "ticks": ""
           },
           "baxis": {
            "gridcolor": "white",
            "linecolor": "white",
            "ticks": ""
           },
           "bgcolor": "#E5ECF6",
           "caxis": {
            "gridcolor": "white",
            "linecolor": "white",
            "ticks": ""
           }
          },
          "title": {
           "x": 0.05
          },
          "xaxis": {
           "automargin": true,
           "gridcolor": "white",
           "linecolor": "white",
           "ticks": "",
           "title": {
            "standoff": 15
           },
           "zerolinecolor": "white",
           "zerolinewidth": 2
          },
          "yaxis": {
           "automargin": true,
           "gridcolor": "white",
           "linecolor": "white",
           "ticks": "",
           "title": {
            "standoff": 15
           },
           "zerolinecolor": "white",
           "zerolinewidth": 2
          }
         }
        },
        "title": {
         "text": "Block Importance in Circuit C0"
        },
        "xaxis": {
         "anchor": "y",
         "domain": [
          0,
          1
         ],
         "title": {
          "text": "index"
         }
        },
        "yaxis": {
         "anchor": "x",
         "domain": [
          0,
          1
         ],
         "title": {
          "text": "Importance"
         }
        }
       }
      }
     },
     "metadata": {},
     "output_type": "display_data"
    },
    {
     "data": {
      "application/vnd.plotly.v1+json": {
       "config": {
        "plotlyServerURL": "https://plot.ly"
       },
       "data": [
        {
         "alignmentgroup": "True",
         "hovertemplate": "index=%{x}<br>Demand per Hour=%{y}<extra></extra>",
         "legendgroup": "",
         "marker": {
          "color": "#636efa",
          "pattern": {
           "shape": ""
          }
         },
         "name": "",
         "offsetgroup": "",
         "orientation": "v",
         "showlegend": false,
         "textposition": "auto",
         "type": "bar",
         "x": [
          0,
          1,
          2
         ],
         "xaxis": "x",
         "y": [
          1392.1596878384405,
          1376.6707109923386,
          1378.7236973364388
         ],
         "yaxis": "y"
        }
       ],
       "layout": {
        "barmode": "relative",
        "height": 800,
        "legend": {
         "tracegroupgap": 0
        },
        "template": {
         "data": {
          "bar": [
           {
            "error_x": {
             "color": "#2a3f5f"
            },
            "error_y": {
             "color": "#2a3f5f"
            },
            "marker": {
             "line": {
              "color": "#E5ECF6",
              "width": 0.5
             },
             "pattern": {
              "fillmode": "overlay",
              "size": 10,
              "solidity": 0.2
             }
            },
            "type": "bar"
           }
          ],
          "barpolar": [
           {
            "marker": {
             "line": {
              "color": "#E5ECF6",
              "width": 0.5
             },
             "pattern": {
              "fillmode": "overlay",
              "size": 10,
              "solidity": 0.2
             }
            },
            "type": "barpolar"
           }
          ],
          "carpet": [
           {
            "aaxis": {
             "endlinecolor": "#2a3f5f",
             "gridcolor": "white",
             "linecolor": "white",
             "minorgridcolor": "white",
             "startlinecolor": "#2a3f5f"
            },
            "baxis": {
             "endlinecolor": "#2a3f5f",
             "gridcolor": "white",
             "linecolor": "white",
             "minorgridcolor": "white",
             "startlinecolor": "#2a3f5f"
            },
            "type": "carpet"
           }
          ],
          "choropleth": [
           {
            "colorbar": {
             "outlinewidth": 0,
             "ticks": ""
            },
            "type": "choropleth"
           }
          ],
          "contour": [
           {
            "colorbar": {
             "outlinewidth": 0,
             "ticks": ""
            },
            "colorscale": [
             [
              0,
              "#0d0887"
             ],
             [
              0.1111111111111111,
              "#46039f"
             ],
             [
              0.2222222222222222,
              "#7201a8"
             ],
             [
              0.3333333333333333,
              "#9c179e"
             ],
             [
              0.4444444444444444,
              "#bd3786"
             ],
             [
              0.5555555555555556,
              "#d8576b"
             ],
             [
              0.6666666666666666,
              "#ed7953"
             ],
             [
              0.7777777777777778,
              "#fb9f3a"
             ],
             [
              0.8888888888888888,
              "#fdca26"
             ],
             [
              1,
              "#f0f921"
             ]
            ],
            "type": "contour"
           }
          ],
          "contourcarpet": [
           {
            "colorbar": {
             "outlinewidth": 0,
             "ticks": ""
            },
            "type": "contourcarpet"
           }
          ],
          "heatmap": [
           {
            "colorbar": {
             "outlinewidth": 0,
             "ticks": ""
            },
            "colorscale": [
             [
              0,
              "#0d0887"
             ],
             [
              0.1111111111111111,
              "#46039f"
             ],
             [
              0.2222222222222222,
              "#7201a8"
             ],
             [
              0.3333333333333333,
              "#9c179e"
             ],
             [
              0.4444444444444444,
              "#bd3786"
             ],
             [
              0.5555555555555556,
              "#d8576b"
             ],
             [
              0.6666666666666666,
              "#ed7953"
             ],
             [
              0.7777777777777778,
              "#fb9f3a"
             ],
             [
              0.8888888888888888,
              "#fdca26"
             ],
             [
              1,
              "#f0f921"
             ]
            ],
            "type": "heatmap"
           }
          ],
          "heatmapgl": [
           {
            "colorbar": {
             "outlinewidth": 0,
             "ticks": ""
            },
            "colorscale": [
             [
              0,
              "#0d0887"
             ],
             [
              0.1111111111111111,
              "#46039f"
             ],
             [
              0.2222222222222222,
              "#7201a8"
             ],
             [
              0.3333333333333333,
              "#9c179e"
             ],
             [
              0.4444444444444444,
              "#bd3786"
             ],
             [
              0.5555555555555556,
              "#d8576b"
             ],
             [
              0.6666666666666666,
              "#ed7953"
             ],
             [
              0.7777777777777778,
              "#fb9f3a"
             ],
             [
              0.8888888888888888,
              "#fdca26"
             ],
             [
              1,
              "#f0f921"
             ]
            ],
            "type": "heatmapgl"
           }
          ],
          "histogram": [
           {
            "marker": {
             "pattern": {
              "fillmode": "overlay",
              "size": 10,
              "solidity": 0.2
             }
            },
            "type": "histogram"
           }
          ],
          "histogram2d": [
           {
            "colorbar": {
             "outlinewidth": 0,
             "ticks": ""
            },
            "colorscale": [
             [
              0,
              "#0d0887"
             ],
             [
              0.1111111111111111,
              "#46039f"
             ],
             [
              0.2222222222222222,
              "#7201a8"
             ],
             [
              0.3333333333333333,
              "#9c179e"
             ],
             [
              0.4444444444444444,
              "#bd3786"
             ],
             [
              0.5555555555555556,
              "#d8576b"
             ],
             [
              0.6666666666666666,
              "#ed7953"
             ],
             [
              0.7777777777777778,
              "#fb9f3a"
             ],
             [
              0.8888888888888888,
              "#fdca26"
             ],
             [
              1,
              "#f0f921"
             ]
            ],
            "type": "histogram2d"
           }
          ],
          "histogram2dcontour": [
           {
            "colorbar": {
             "outlinewidth": 0,
             "ticks": ""
            },
            "colorscale": [
             [
              0,
              "#0d0887"
             ],
             [
              0.1111111111111111,
              "#46039f"
             ],
             [
              0.2222222222222222,
              "#7201a8"
             ],
             [
              0.3333333333333333,
              "#9c179e"
             ],
             [
              0.4444444444444444,
              "#bd3786"
             ],
             [
              0.5555555555555556,
              "#d8576b"
             ],
             [
              0.6666666666666666,
              "#ed7953"
             ],
             [
              0.7777777777777778,
              "#fb9f3a"
             ],
             [
              0.8888888888888888,
              "#fdca26"
             ],
             [
              1,
              "#f0f921"
             ]
            ],
            "type": "histogram2dcontour"
           }
          ],
          "mesh3d": [
           {
            "colorbar": {
             "outlinewidth": 0,
             "ticks": ""
            },
            "type": "mesh3d"
           }
          ],
          "parcoords": [
           {
            "line": {
             "colorbar": {
              "outlinewidth": 0,
              "ticks": ""
             }
            },
            "type": "parcoords"
           }
          ],
          "pie": [
           {
            "automargin": true,
            "type": "pie"
           }
          ],
          "scatter": [
           {
            "fillpattern": {
             "fillmode": "overlay",
             "size": 10,
             "solidity": 0.2
            },
            "type": "scatter"
           }
          ],
          "scatter3d": [
           {
            "line": {
             "colorbar": {
              "outlinewidth": 0,
              "ticks": ""
             }
            },
            "marker": {
             "colorbar": {
              "outlinewidth": 0,
              "ticks": ""
             }
            },
            "type": "scatter3d"
           }
          ],
          "scattercarpet": [
           {
            "marker": {
             "colorbar": {
              "outlinewidth": 0,
              "ticks": ""
             }
            },
            "type": "scattercarpet"
           }
          ],
          "scattergeo": [
           {
            "marker": {
             "colorbar": {
              "outlinewidth": 0,
              "ticks": ""
             }
            },
            "type": "scattergeo"
           }
          ],
          "scattergl": [
           {
            "marker": {
             "colorbar": {
              "outlinewidth": 0,
              "ticks": ""
             }
            },
            "type": "scattergl"
           }
          ],
          "scattermapbox": [
           {
            "marker": {
             "colorbar": {
              "outlinewidth": 0,
              "ticks": ""
             }
            },
            "type": "scattermapbox"
           }
          ],
          "scatterpolar": [
           {
            "marker": {
             "colorbar": {
              "outlinewidth": 0,
              "ticks": ""
             }
            },
            "type": "scatterpolar"
           }
          ],
          "scatterpolargl": [
           {
            "marker": {
             "colorbar": {
              "outlinewidth": 0,
              "ticks": ""
             }
            },
            "type": "scatterpolargl"
           }
          ],
          "scatterternary": [
           {
            "marker": {
             "colorbar": {
              "outlinewidth": 0,
              "ticks": ""
             }
            },
            "type": "scatterternary"
           }
          ],
          "surface": [
           {
            "colorbar": {
             "outlinewidth": 0,
             "ticks": ""
            },
            "colorscale": [
             [
              0,
              "#0d0887"
             ],
             [
              0.1111111111111111,
              "#46039f"
             ],
             [
              0.2222222222222222,
              "#7201a8"
             ],
             [
              0.3333333333333333,
              "#9c179e"
             ],
             [
              0.4444444444444444,
              "#bd3786"
             ],
             [
              0.5555555555555556,
              "#d8576b"
             ],
             [
              0.6666666666666666,
              "#ed7953"
             ],
             [
              0.7777777777777778,
              "#fb9f3a"
             ],
             [
              0.8888888888888888,
              "#fdca26"
             ],
             [
              1,
              "#f0f921"
             ]
            ],
            "type": "surface"
           }
          ],
          "table": [
           {
            "cells": {
             "fill": {
              "color": "#EBF0F8"
             },
             "line": {
              "color": "white"
             }
            },
            "header": {
             "fill": {
              "color": "#C8D4E3"
             },
             "line": {
              "color": "white"
             }
            },
            "type": "table"
           }
          ]
         },
         "layout": {
          "annotationdefaults": {
           "arrowcolor": "#2a3f5f",
           "arrowhead": 0,
           "arrowwidth": 1
          },
          "autotypenumbers": "strict",
          "coloraxis": {
           "colorbar": {
            "outlinewidth": 0,
            "ticks": ""
           }
          },
          "colorscale": {
           "diverging": [
            [
             0,
             "#8e0152"
            ],
            [
             0.1,
             "#c51b7d"
            ],
            [
             0.2,
             "#de77ae"
            ],
            [
             0.3,
             "#f1b6da"
            ],
            [
             0.4,
             "#fde0ef"
            ],
            [
             0.5,
             "#f7f7f7"
            ],
            [
             0.6,
             "#e6f5d0"
            ],
            [
             0.7,
             "#b8e186"
            ],
            [
             0.8,
             "#7fbc41"
            ],
            [
             0.9,
             "#4d9221"
            ],
            [
             1,
             "#276419"
            ]
           ],
           "sequential": [
            [
             0,
             "#0d0887"
            ],
            [
             0.1111111111111111,
             "#46039f"
            ],
            [
             0.2222222222222222,
             "#7201a8"
            ],
            [
             0.3333333333333333,
             "#9c179e"
            ],
            [
             0.4444444444444444,
             "#bd3786"
            ],
            [
             0.5555555555555556,
             "#d8576b"
            ],
            [
             0.6666666666666666,
             "#ed7953"
            ],
            [
             0.7777777777777778,
             "#fb9f3a"
            ],
            [
             0.8888888888888888,
             "#fdca26"
            ],
            [
             1,
             "#f0f921"
            ]
           ],
           "sequentialminus": [
            [
             0,
             "#0d0887"
            ],
            [
             0.1111111111111111,
             "#46039f"
            ],
            [
             0.2222222222222222,
             "#7201a8"
            ],
            [
             0.3333333333333333,
             "#9c179e"
            ],
            [
             0.4444444444444444,
             "#bd3786"
            ],
            [
             0.5555555555555556,
             "#d8576b"
            ],
            [
             0.6666666666666666,
             "#ed7953"
            ],
            [
             0.7777777777777778,
             "#fb9f3a"
            ],
            [
             0.8888888888888888,
             "#fdca26"
            ],
            [
             1,
             "#f0f921"
            ]
           ]
          },
          "colorway": [
           "#636efa",
           "#EF553B",
           "#00cc96",
           "#ab63fa",
           "#FFA15A",
           "#19d3f3",
           "#FF6692",
           "#B6E880",
           "#FF97FF",
           "#FECB52"
          ],
          "font": {
           "color": "#2a3f5f"
          },
          "geo": {
           "bgcolor": "white",
           "lakecolor": "white",
           "landcolor": "#E5ECF6",
           "showlakes": true,
           "showland": true,
           "subunitcolor": "white"
          },
          "hoverlabel": {
           "align": "left"
          },
          "hovermode": "closest",
          "mapbox": {
           "style": "light"
          },
          "paper_bgcolor": "white",
          "plot_bgcolor": "#E5ECF6",
          "polar": {
           "angularaxis": {
            "gridcolor": "white",
            "linecolor": "white",
            "ticks": ""
           },
           "bgcolor": "#E5ECF6",
           "radialaxis": {
            "gridcolor": "white",
            "linecolor": "white",
            "ticks": ""
           }
          },
          "scene": {
           "xaxis": {
            "backgroundcolor": "#E5ECF6",
            "gridcolor": "white",
            "gridwidth": 2,
            "linecolor": "white",
            "showbackground": true,
            "ticks": "",
            "zerolinecolor": "white"
           },
           "yaxis": {
            "backgroundcolor": "#E5ECF6",
            "gridcolor": "white",
            "gridwidth": 2,
            "linecolor": "white",
            "showbackground": true,
            "ticks": "",
            "zerolinecolor": "white"
           },
           "zaxis": {
            "backgroundcolor": "#E5ECF6",
            "gridcolor": "white",
            "gridwidth": 2,
            "linecolor": "white",
            "showbackground": true,
            "ticks": "",
            "zerolinecolor": "white"
           }
          },
          "shapedefaults": {
           "line": {
            "color": "#2a3f5f"
           }
          },
          "ternary": {
           "aaxis": {
            "gridcolor": "white",
            "linecolor": "white",
            "ticks": ""
           },
           "baxis": {
            "gridcolor": "white",
            "linecolor": "white",
            "ticks": ""
           },
           "bgcolor": "#E5ECF6",
           "caxis": {
            "gridcolor": "white",
            "linecolor": "white",
            "ticks": ""
           }
          },
          "title": {
           "x": 0.05
          },
          "xaxis": {
           "automargin": true,
           "gridcolor": "white",
           "linecolor": "white",
           "ticks": "",
           "title": {
            "standoff": 15
           },
           "zerolinecolor": "white",
           "zerolinewidth": 2
          },
          "yaxis": {
           "automargin": true,
           "gridcolor": "white",
           "linecolor": "white",
           "ticks": "",
           "title": {
            "standoff": 15
           },
           "zerolinecolor": "white",
           "zerolinewidth": 2
          }
         }
        },
        "title": {
         "text": "Block Demand per Hour in Circuit C0"
        },
        "xaxis": {
         "anchor": "y",
         "domain": [
          0,
          1
         ],
         "title": {
          "text": "index"
         }
        },
        "yaxis": {
         "anchor": "x",
         "domain": [
          0,
          1
         ],
         "title": {
          "text": "Demand per Hour"
         }
        }
       }
      }
     },
     "metadata": {},
     "output_type": "display_data"
    }
   ],
   "source": [
    "# All data of one block of a circuit (importance, citizens, industrialization, demand per hour)\n",
    "\n",
    "circuit_stats = electric_system_circuits_list[0]\n",
    "\n",
    "blocks = circuit_stats.blocks\n",
    "\n",
    "citizens = []\n",
    "importance = []\n",
    "demand_per_hour = []\n",
    "\n",
    "for block in blocks:\n",
    "    citizens.append(block.citizens.amount)\n",
    "    importance.append(block.importance)\n",
    "    demand_per_hour.append(sum(block.predicted_demand_per_hour))\n",
    "\n",
    "block_stats_df = pd.DataFrame(\n",
    "    {\n",
    "        \"Citizens\": citizens,\n",
    "        \"Importance\": importance,\n",
    "        \"Demand per Hour\": demand_per_hour,\n",
    "    }\n",
    ")\n",
    "\n",
    "fig_citizens = px.bar(\n",
    "    block_stats_df,\n",
    "    x=block_stats_df.index,\n",
    "    y=\"Citizens\",\n",
    "    title=f\"Block Citizens in Circuit {circuit_stats.id}\",\n",
    "    height=800,\n",
    ")\n",
    "\n",
    "fig_importance = px.bar(\n",
    "    block_stats_df,\n",
    "    x=block_stats_df.index,\n",
    "    y=\"Importance\",\n",
    "    title=f\"Block Importance in Circuit {circuit_stats.id}\",\n",
    "    height=800,\n",
    ")\n",
    "\n",
    "fig_demand_per_hour = px.bar(\n",
    "    block_stats_df,\n",
    "    x=block_stats_df.index,\n",
    "    y=\"Demand per Hour\",\n",
    "    title=f\"Block Demand per Hour in Circuit {circuit_stats.id}\",\n",
    "    height=800,\n",
    ")\n",
    "\n",
    "\n",
    "fig_citizens.show()\n",
    "fig_importance.show()\n",
    "fig_demand_per_hour.show()"
   ]
  },
  {
   "cell_type": "code",
   "execution_count": 10,
   "metadata": {},
   "outputs": [
    {
     "data": {
      "application/vnd.plotly.v1+json": {
       "config": {
        "plotlyServerURL": "https://plot.ly"
       },
       "data": [
        {
         "alignmentgroup": "True",
         "hovertemplate": "Thermoelectric ID=Th0<br>Circuit ID=%{x}<br>Citizens=%{y}<extra></extra>",
         "legendgroup": "Th0",
         "marker": {
          "color": "#636EFA",
          "pattern": {
           "shape": ""
          }
         },
         "name": "Th0",
         "offsetgroup": "Th0",
         "orientation": "v",
         "showlegend": true,
         "textposition": "auto",
         "type": "bar",
         "x": [
          "C5",
          "C8",
          "C9",
          "C12",
          "C18",
          "C26",
          "C27",
          "C29",
          "C32",
          "C38",
          "C42",
          "C46",
          "C48"
         ],
         "xaxis": "x",
         "y": [
          14154,
          4905,
          10873,
          9637,
          8676,
          2086,
          945,
          11080,
          1636,
          18809,
          11630,
          9289,
          7286
         ],
         "yaxis": "y"
        },
        {
         "alignmentgroup": "True",
         "hovertemplate": "Thermoelectric ID=Th1<br>Circuit ID=%{x}<br>Citizens=%{y}<extra></extra>",
         "legendgroup": "Th1",
         "marker": {
          "color": "#EF553B",
          "pattern": {
           "shape": ""
          }
         },
         "name": "Th1",
         "offsetgroup": "Th1",
         "orientation": "v",
         "showlegend": true,
         "textposition": "auto",
         "type": "bar",
         "x": [
          "C10",
          "C15",
          "C21",
          "C24",
          "C31",
          "C36",
          "C44",
          "C47"
         ],
         "xaxis": "x",
         "y": [
          4219,
          3562,
          3209,
          17155,
          2414,
          5702,
          3512,
          1256
         ],
         "yaxis": "y"
        },
        {
         "alignmentgroup": "True",
         "hovertemplate": "Thermoelectric ID=Th2<br>Circuit ID=%{x}<br>Citizens=%{y}<extra></extra>",
         "legendgroup": "Th2",
         "marker": {
          "color": "#00CC96",
          "pattern": {
           "shape": ""
          }
         },
         "name": "Th2",
         "offsetgroup": "Th2",
         "orientation": "v",
         "showlegend": true,
         "textposition": "auto",
         "type": "bar",
         "x": [
          "C11",
          "C20",
          "C37"
         ],
         "xaxis": "x",
         "y": [
          1845,
          1820,
          5331
         ],
         "yaxis": "y"
        },
        {
         "alignmentgroup": "True",
         "hovertemplate": "Thermoelectric ID=Th3<br>Circuit ID=%{x}<br>Citizens=%{y}<extra></extra>",
         "legendgroup": "Th3",
         "marker": {
          "color": "#AB63FA",
          "pattern": {
           "shape": ""
          }
         },
         "name": "Th3",
         "offsetgroup": "Th3",
         "orientation": "v",
         "showlegend": true,
         "textposition": "auto",
         "type": "bar",
         "x": [
          "C0",
          "C19",
          "C30",
          "C35",
          "C45"
         ],
         "xaxis": "x",
         "y": [
          2485,
          4131,
          9538,
          3008,
          12565
         ],
         "yaxis": "y"
        },
        {
         "alignmentgroup": "True",
         "hovertemplate": "Thermoelectric ID=Th4<br>Circuit ID=%{x}<br>Citizens=%{y}<extra></extra>",
         "legendgroup": "Th4",
         "marker": {
          "color": "#FFA15A",
          "pattern": {
           "shape": ""
          }
         },
         "name": "Th4",
         "offsetgroup": "Th4",
         "orientation": "v",
         "showlegend": true,
         "textposition": "auto",
         "type": "bar",
         "x": [
          "C6",
          "C14",
          "C41"
         ],
         "xaxis": "x",
         "y": [
          2885,
          2769,
          2726
         ],
         "yaxis": "y"
        },
        {
         "alignmentgroup": "True",
         "hovertemplate": "Thermoelectric ID=Th5<br>Circuit ID=%{x}<br>Citizens=%{y}<extra></extra>",
         "legendgroup": "Th5",
         "marker": {
          "color": "#19D3F3",
          "pattern": {
           "shape": ""
          }
         },
         "name": "Th5",
         "offsetgroup": "Th5",
         "orientation": "v",
         "showlegend": true,
         "textposition": "auto",
         "type": "bar",
         "x": [
          "C7",
          "C22",
          "C23",
          "C43"
         ],
         "xaxis": "x",
         "y": [
          16475,
          17836,
          4419,
          12909
         ],
         "yaxis": "y"
        },
        {
         "alignmentgroup": "True",
         "hovertemplate": "Thermoelectric ID=Th6<br>Circuit ID=%{x}<br>Citizens=%{y}<extra></extra>",
         "legendgroup": "Th6",
         "marker": {
          "color": "#FF6692",
          "pattern": {
           "shape": ""
          }
         },
         "name": "Th6",
         "offsetgroup": "Th6",
         "orientation": "v",
         "showlegend": true,
         "textposition": "auto",
         "type": "bar",
         "x": [
          "C1",
          "C2",
          "C28",
          "C34",
          "C40"
         ],
         "xaxis": "x",
         "y": [
          4218,
          8228,
          9928,
          10973,
          1954
         ],
         "yaxis": "y"
        },
        {
         "alignmentgroup": "True",
         "hovertemplate": "Thermoelectric ID=Th7<br>Circuit ID=%{x}<br>Citizens=%{y}<extra></extra>",
         "legendgroup": "Th7",
         "marker": {
          "color": "#B6E880",
          "pattern": {
           "shape": ""
          }
         },
         "name": "Th7",
         "offsetgroup": "Th7",
         "orientation": "v",
         "showlegend": true,
         "textposition": "auto",
         "type": "bar",
         "x": [
          "C3",
          "C4",
          "C13",
          "C16",
          "C17",
          "C25",
          "C33",
          "C39",
          "C49"
         ],
         "xaxis": "x",
         "y": [
          11131,
          9717,
          1472,
          2595,
          10124,
          18237,
          8410,
          2989,
          5983
         ],
         "yaxis": "y"
        }
       ],
       "layout": {
        "barmode": "relative",
        "height": 800,
        "legend": {
         "title": {
          "text": "Thermoelectric ID"
         },
         "tracegroupgap": 0
        },
        "template": {
         "data": {
          "bar": [
           {
            "error_x": {
             "color": "#2a3f5f"
            },
            "error_y": {
             "color": "#2a3f5f"
            },
            "marker": {
             "line": {
              "color": "#E5ECF6",
              "width": 0.5
             },
             "pattern": {
              "fillmode": "overlay",
              "size": 10,
              "solidity": 0.2
             }
            },
            "type": "bar"
           }
          ],
          "barpolar": [
           {
            "marker": {
             "line": {
              "color": "#E5ECF6",
              "width": 0.5
             },
             "pattern": {
              "fillmode": "overlay",
              "size": 10,
              "solidity": 0.2
             }
            },
            "type": "barpolar"
           }
          ],
          "carpet": [
           {
            "aaxis": {
             "endlinecolor": "#2a3f5f",
             "gridcolor": "white",
             "linecolor": "white",
             "minorgridcolor": "white",
             "startlinecolor": "#2a3f5f"
            },
            "baxis": {
             "endlinecolor": "#2a3f5f",
             "gridcolor": "white",
             "linecolor": "white",
             "minorgridcolor": "white",
             "startlinecolor": "#2a3f5f"
            },
            "type": "carpet"
           }
          ],
          "choropleth": [
           {
            "colorbar": {
             "outlinewidth": 0,
             "ticks": ""
            },
            "type": "choropleth"
           }
          ],
          "contour": [
           {
            "colorbar": {
             "outlinewidth": 0,
             "ticks": ""
            },
            "colorscale": [
             [
              0,
              "#0d0887"
             ],
             [
              0.1111111111111111,
              "#46039f"
             ],
             [
              0.2222222222222222,
              "#7201a8"
             ],
             [
              0.3333333333333333,
              "#9c179e"
             ],
             [
              0.4444444444444444,
              "#bd3786"
             ],
             [
              0.5555555555555556,
              "#d8576b"
             ],
             [
              0.6666666666666666,
              "#ed7953"
             ],
             [
              0.7777777777777778,
              "#fb9f3a"
             ],
             [
              0.8888888888888888,
              "#fdca26"
             ],
             [
              1,
              "#f0f921"
             ]
            ],
            "type": "contour"
           }
          ],
          "contourcarpet": [
           {
            "colorbar": {
             "outlinewidth": 0,
             "ticks": ""
            },
            "type": "contourcarpet"
           }
          ],
          "heatmap": [
           {
            "colorbar": {
             "outlinewidth": 0,
             "ticks": ""
            },
            "colorscale": [
             [
              0,
              "#0d0887"
             ],
             [
              0.1111111111111111,
              "#46039f"
             ],
             [
              0.2222222222222222,
              "#7201a8"
             ],
             [
              0.3333333333333333,
              "#9c179e"
             ],
             [
              0.4444444444444444,
              "#bd3786"
             ],
             [
              0.5555555555555556,
              "#d8576b"
             ],
             [
              0.6666666666666666,
              "#ed7953"
             ],
             [
              0.7777777777777778,
              "#fb9f3a"
             ],
             [
              0.8888888888888888,
              "#fdca26"
             ],
             [
              1,
              "#f0f921"
             ]
            ],
            "type": "heatmap"
           }
          ],
          "heatmapgl": [
           {
            "colorbar": {
             "outlinewidth": 0,
             "ticks": ""
            },
            "colorscale": [
             [
              0,
              "#0d0887"
             ],
             [
              0.1111111111111111,
              "#46039f"
             ],
             [
              0.2222222222222222,
              "#7201a8"
             ],
             [
              0.3333333333333333,
              "#9c179e"
             ],
             [
              0.4444444444444444,
              "#bd3786"
             ],
             [
              0.5555555555555556,
              "#d8576b"
             ],
             [
              0.6666666666666666,
              "#ed7953"
             ],
             [
              0.7777777777777778,
              "#fb9f3a"
             ],
             [
              0.8888888888888888,
              "#fdca26"
             ],
             [
              1,
              "#f0f921"
             ]
            ],
            "type": "heatmapgl"
           }
          ],
          "histogram": [
           {
            "marker": {
             "pattern": {
              "fillmode": "overlay",
              "size": 10,
              "solidity": 0.2
             }
            },
            "type": "histogram"
           }
          ],
          "histogram2d": [
           {
            "colorbar": {
             "outlinewidth": 0,
             "ticks": ""
            },
            "colorscale": [
             [
              0,
              "#0d0887"
             ],
             [
              0.1111111111111111,
              "#46039f"
             ],
             [
              0.2222222222222222,
              "#7201a8"
             ],
             [
              0.3333333333333333,
              "#9c179e"
             ],
             [
              0.4444444444444444,
              "#bd3786"
             ],
             [
              0.5555555555555556,
              "#d8576b"
             ],
             [
              0.6666666666666666,
              "#ed7953"
             ],
             [
              0.7777777777777778,
              "#fb9f3a"
             ],
             [
              0.8888888888888888,
              "#fdca26"
             ],
             [
              1,
              "#f0f921"
             ]
            ],
            "type": "histogram2d"
           }
          ],
          "histogram2dcontour": [
           {
            "colorbar": {
             "outlinewidth": 0,
             "ticks": ""
            },
            "colorscale": [
             [
              0,
              "#0d0887"
             ],
             [
              0.1111111111111111,
              "#46039f"
             ],
             [
              0.2222222222222222,
              "#7201a8"
             ],
             [
              0.3333333333333333,
              "#9c179e"
             ],
             [
              0.4444444444444444,
              "#bd3786"
             ],
             [
              0.5555555555555556,
              "#d8576b"
             ],
             [
              0.6666666666666666,
              "#ed7953"
             ],
             [
              0.7777777777777778,
              "#fb9f3a"
             ],
             [
              0.8888888888888888,
              "#fdca26"
             ],
             [
              1,
              "#f0f921"
             ]
            ],
            "type": "histogram2dcontour"
           }
          ],
          "mesh3d": [
           {
            "colorbar": {
             "outlinewidth": 0,
             "ticks": ""
            },
            "type": "mesh3d"
           }
          ],
          "parcoords": [
           {
            "line": {
             "colorbar": {
              "outlinewidth": 0,
              "ticks": ""
             }
            },
            "type": "parcoords"
           }
          ],
          "pie": [
           {
            "automargin": true,
            "type": "pie"
           }
          ],
          "scatter": [
           {
            "fillpattern": {
             "fillmode": "overlay",
             "size": 10,
             "solidity": 0.2
            },
            "type": "scatter"
           }
          ],
          "scatter3d": [
           {
            "line": {
             "colorbar": {
              "outlinewidth": 0,
              "ticks": ""
             }
            },
            "marker": {
             "colorbar": {
              "outlinewidth": 0,
              "ticks": ""
             }
            },
            "type": "scatter3d"
           }
          ],
          "scattercarpet": [
           {
            "marker": {
             "colorbar": {
              "outlinewidth": 0,
              "ticks": ""
             }
            },
            "type": "scattercarpet"
           }
          ],
          "scattergeo": [
           {
            "marker": {
             "colorbar": {
              "outlinewidth": 0,
              "ticks": ""
             }
            },
            "type": "scattergeo"
           }
          ],
          "scattergl": [
           {
            "marker": {
             "colorbar": {
              "outlinewidth": 0,
              "ticks": ""
             }
            },
            "type": "scattergl"
           }
          ],
          "scattermapbox": [
           {
            "marker": {
             "colorbar": {
              "outlinewidth": 0,
              "ticks": ""
             }
            },
            "type": "scattermapbox"
           }
          ],
          "scatterpolar": [
           {
            "marker": {
             "colorbar": {
              "outlinewidth": 0,
              "ticks": ""
             }
            },
            "type": "scatterpolar"
           }
          ],
          "scatterpolargl": [
           {
            "marker": {
             "colorbar": {
              "outlinewidth": 0,
              "ticks": ""
             }
            },
            "type": "scatterpolargl"
           }
          ],
          "scatterternary": [
           {
            "marker": {
             "colorbar": {
              "outlinewidth": 0,
              "ticks": ""
             }
            },
            "type": "scatterternary"
           }
          ],
          "surface": [
           {
            "colorbar": {
             "outlinewidth": 0,
             "ticks": ""
            },
            "colorscale": [
             [
              0,
              "#0d0887"
             ],
             [
              0.1111111111111111,
              "#46039f"
             ],
             [
              0.2222222222222222,
              "#7201a8"
             ],
             [
              0.3333333333333333,
              "#9c179e"
             ],
             [
              0.4444444444444444,
              "#bd3786"
             ],
             [
              0.5555555555555556,
              "#d8576b"
             ],
             [
              0.6666666666666666,
              "#ed7953"
             ],
             [
              0.7777777777777778,
              "#fb9f3a"
             ],
             [
              0.8888888888888888,
              "#fdca26"
             ],
             [
              1,
              "#f0f921"
             ]
            ],
            "type": "surface"
           }
          ],
          "table": [
           {
            "cells": {
             "fill": {
              "color": "#EBF0F8"
             },
             "line": {
              "color": "white"
             }
            },
            "header": {
             "fill": {
              "color": "#C8D4E3"
             },
             "line": {
              "color": "white"
             }
            },
            "type": "table"
           }
          ]
         },
         "layout": {
          "annotationdefaults": {
           "arrowcolor": "#2a3f5f",
           "arrowhead": 0,
           "arrowwidth": 1
          },
          "autotypenumbers": "strict",
          "coloraxis": {
           "colorbar": {
            "outlinewidth": 0,
            "ticks": ""
           }
          },
          "colorscale": {
           "diverging": [
            [
             0,
             "#8e0152"
            ],
            [
             0.1,
             "#c51b7d"
            ],
            [
             0.2,
             "#de77ae"
            ],
            [
             0.3,
             "#f1b6da"
            ],
            [
             0.4,
             "#fde0ef"
            ],
            [
             0.5,
             "#f7f7f7"
            ],
            [
             0.6,
             "#e6f5d0"
            ],
            [
             0.7,
             "#b8e186"
            ],
            [
             0.8,
             "#7fbc41"
            ],
            [
             0.9,
             "#4d9221"
            ],
            [
             1,
             "#276419"
            ]
           ],
           "sequential": [
            [
             0,
             "#0d0887"
            ],
            [
             0.1111111111111111,
             "#46039f"
            ],
            [
             0.2222222222222222,
             "#7201a8"
            ],
            [
             0.3333333333333333,
             "#9c179e"
            ],
            [
             0.4444444444444444,
             "#bd3786"
            ],
            [
             0.5555555555555556,
             "#d8576b"
            ],
            [
             0.6666666666666666,
             "#ed7953"
            ],
            [
             0.7777777777777778,
             "#fb9f3a"
            ],
            [
             0.8888888888888888,
             "#fdca26"
            ],
            [
             1,
             "#f0f921"
            ]
           ],
           "sequentialminus": [
            [
             0,
             "#0d0887"
            ],
            [
             0.1111111111111111,
             "#46039f"
            ],
            [
             0.2222222222222222,
             "#7201a8"
            ],
            [
             0.3333333333333333,
             "#9c179e"
            ],
            [
             0.4444444444444444,
             "#bd3786"
            ],
            [
             0.5555555555555556,
             "#d8576b"
            ],
            [
             0.6666666666666666,
             "#ed7953"
            ],
            [
             0.7777777777777778,
             "#fb9f3a"
            ],
            [
             0.8888888888888888,
             "#fdca26"
            ],
            [
             1,
             "#f0f921"
            ]
           ]
          },
          "colorway": [
           "#636efa",
           "#EF553B",
           "#00cc96",
           "#ab63fa",
           "#FFA15A",
           "#19d3f3",
           "#FF6692",
           "#B6E880",
           "#FF97FF",
           "#FECB52"
          ],
          "font": {
           "color": "#2a3f5f"
          },
          "geo": {
           "bgcolor": "white",
           "lakecolor": "white",
           "landcolor": "#E5ECF6",
           "showlakes": true,
           "showland": true,
           "subunitcolor": "white"
          },
          "hoverlabel": {
           "align": "left"
          },
          "hovermode": "closest",
          "mapbox": {
           "style": "light"
          },
          "paper_bgcolor": "white",
          "plot_bgcolor": "#E5ECF6",
          "polar": {
           "angularaxis": {
            "gridcolor": "white",
            "linecolor": "white",
            "ticks": ""
           },
           "bgcolor": "#E5ECF6",
           "radialaxis": {
            "gridcolor": "white",
            "linecolor": "white",
            "ticks": ""
           }
          },
          "scene": {
           "xaxis": {
            "backgroundcolor": "#E5ECF6",
            "gridcolor": "white",
            "gridwidth": 2,
            "linecolor": "white",
            "showbackground": true,
            "ticks": "",
            "zerolinecolor": "white"
           },
           "yaxis": {
            "backgroundcolor": "#E5ECF6",
            "gridcolor": "white",
            "gridwidth": 2,
            "linecolor": "white",
            "showbackground": true,
            "ticks": "",
            "zerolinecolor": "white"
           },
           "zaxis": {
            "backgroundcolor": "#E5ECF6",
            "gridcolor": "white",
            "gridwidth": 2,
            "linecolor": "white",
            "showbackground": true,
            "ticks": "",
            "zerolinecolor": "white"
           }
          },
          "shapedefaults": {
           "line": {
            "color": "#2a3f5f"
           }
          },
          "ternary": {
           "aaxis": {
            "gridcolor": "white",
            "linecolor": "white",
            "ticks": ""
           },
           "baxis": {
            "gridcolor": "white",
            "linecolor": "white",
            "ticks": ""
           },
           "bgcolor": "#E5ECF6",
           "caxis": {
            "gridcolor": "white",
            "linecolor": "white",
            "ticks": ""
           }
          },
          "title": {
           "x": 0.05
          },
          "xaxis": {
           "automargin": true,
           "gridcolor": "white",
           "linecolor": "white",
           "ticks": "",
           "title": {
            "standoff": 15
           },
           "zerolinecolor": "white",
           "zerolinewidth": 2
          },
          "yaxis": {
           "automargin": true,
           "gridcolor": "white",
           "linecolor": "white",
           "ticks": "",
           "title": {
            "standoff": 15
           },
           "zerolinecolor": "white",
           "zerolinewidth": 2
          }
         }
        },
        "title": {
         "text": "Total Citizens per Circuit"
        },
        "xaxis": {
         "anchor": "y",
         "domain": [
          0,
          1
         ],
         "title": {
          "text": "Circuit ID"
         }
        },
        "yaxis": {
         "anchor": "x",
         "domain": [
          0,
          1
         ],
         "title": {
          "text": "Citizens"
         }
        }
       }
      }
     },
     "metadata": {},
     "output_type": "display_data"
    },
    {
     "data": {
      "application/vnd.plotly.v1+json": {
       "config": {
        "plotlyServerURL": "https://plot.ly"
       },
       "data": [
        {
         "alignmentgroup": "True",
         "hovertemplate": "Thermoelectric ID=Th0<br>Circuit ID=%{x}<br>Importance=%{y}<extra></extra>",
         "legendgroup": "Th0",
         "marker": {
          "color": "#636EFA",
          "pattern": {
           "shape": ""
          }
         },
         "name": "Th0",
         "offsetgroup": "Th0",
         "orientation": "v",
         "showlegend": true,
         "textposition": "auto",
         "type": "bar",
         "x": [
          "C5",
          "C8",
          "C9",
          "C12",
          "C18",
          "C26",
          "C27",
          "C29",
          "C32",
          "C38",
          "C42",
          "C46",
          "C48"
         ],
         "xaxis": "x",
         "y": [
          0.2917784905098623,
          0.09512589236535701,
          0.624607,
          0.45783668017970125,
          0.6765732147110427,
          0.3775259757828699,
          0.5603905404859376,
          0.6205080403264396,
          0.5155892042904993,
          0.6355499275081078,
          0.5062195126003509,
          0.6132228041363177,
          0.4348813941198363
         ],
         "yaxis": "y"
        },
        {
         "alignmentgroup": "True",
         "hovertemplate": "Thermoelectric ID=Th1<br>Circuit ID=%{x}<br>Importance=%{y}<extra></extra>",
         "legendgroup": "Th1",
         "marker": {
          "color": "#EF553B",
          "pattern": {
           "shape": ""
          }
         },
         "name": "Th1",
         "offsetgroup": "Th1",
         "orientation": "v",
         "showlegend": true,
         "textposition": "auto",
         "type": "bar",
         "x": [
          "C10",
          "C15",
          "C21",
          "C24",
          "C31",
          "C36",
          "C44",
          "C47"
         ],
         "xaxis": "x",
         "y": [
          0.7945548809346591,
          0.1889979309904833,
          0.5372440023924717,
          0.48741606419799033,
          0.304516052315381,
          0.5844724932744964,
          0.36447433263331386,
          0.2925105231006433
         ],
         "yaxis": "y"
        },
        {
         "alignmentgroup": "True",
         "hovertemplate": "Thermoelectric ID=Th2<br>Circuit ID=%{x}<br>Importance=%{y}<extra></extra>",
         "legendgroup": "Th2",
         "marker": {
          "color": "#00CC96",
          "pattern": {
           "shape": ""
          }
         },
         "name": "Th2",
         "offsetgroup": "Th2",
         "orientation": "v",
         "showlegend": true,
         "textposition": "auto",
         "type": "bar",
         "x": [
          "C11",
          "C20",
          "C37"
         ],
         "xaxis": "x",
         "y": [
          0.6228322681429104,
          0.21269396504333032,
          0.664281278962199
         ],
         "yaxis": "y"
        },
        {
         "alignmentgroup": "True",
         "hovertemplate": "Thermoelectric ID=Th3<br>Circuit ID=%{x}<br>Importance=%{y}<extra></extra>",
         "legendgroup": "Th3",
         "marker": {
          "color": "#AB63FA",
          "pattern": {
           "shape": ""
          }
         },
         "name": "Th3",
         "offsetgroup": "Th3",
         "orientation": "v",
         "showlegend": true,
         "textposition": "auto",
         "type": "bar",
         "x": [
          "C0",
          "C19",
          "C30",
          "C35",
          "C45"
         ],
         "xaxis": "x",
         "y": [
          0.657092140305173,
          0.19502837040778354,
          0.49306835724918924,
          0.5071826021053751,
          0.26405780581104793
         ],
         "yaxis": "y"
        },
        {
         "alignmentgroup": "True",
         "hovertemplate": "Thermoelectric ID=Th4<br>Circuit ID=%{x}<br>Importance=%{y}<extra></extra>",
         "legendgroup": "Th4",
         "marker": {
          "color": "#FFA15A",
          "pattern": {
           "shape": ""
          }
         },
         "name": "Th4",
         "offsetgroup": "Th4",
         "orientation": "v",
         "showlegend": true,
         "textposition": "auto",
         "type": "bar",
         "x": [
          "C6",
          "C14",
          "C41"
         ],
         "xaxis": "x",
         "y": [
          0.14393880610346113,
          0.3211544924238397,
          0.6594925632144186
         ],
         "yaxis": "y"
        },
        {
         "alignmentgroup": "True",
         "hovertemplate": "Thermoelectric ID=Th5<br>Circuit ID=%{x}<br>Importance=%{y}<extra></extra>",
         "legendgroup": "Th5",
         "marker": {
          "color": "#19D3F3",
          "pattern": {
           "shape": ""
          }
         },
         "name": "Th5",
         "offsetgroup": "Th5",
         "orientation": "v",
         "showlegend": true,
         "textposition": "auto",
         "type": "bar",
         "x": [
          "C7",
          "C22",
          "C23",
          "C43"
         ],
         "xaxis": "x",
         "y": [
          0.4082155387580414,
          0.16135344138444363,
          0.23123090935190604,
          0.15442739215269288
         ],
         "yaxis": "y"
        },
        {
         "alignmentgroup": "True",
         "hovertemplate": "Thermoelectric ID=Th6<br>Circuit ID=%{x}<br>Importance=%{y}<extra></extra>",
         "legendgroup": "Th6",
         "marker": {
          "color": "#FF6692",
          "pattern": {
           "shape": ""
          }
         },
         "name": "Th6",
         "offsetgroup": "Th6",
         "orientation": "v",
         "showlegend": true,
         "textposition": "auto",
         "type": "bar",
         "x": [
          "C1",
          "C2",
          "C28",
          "C34",
          "C40"
         ],
         "xaxis": "x",
         "y": [
          0.5981454697751077,
          0.529226733611569,
          0.750598162634909,
          0.525907383779042,
          0.10145486838747408
         ],
         "yaxis": "y"
        },
        {
         "alignmentgroup": "True",
         "hovertemplate": "Thermoelectric ID=Th7<br>Circuit ID=%{x}<br>Importance=%{y}<extra></extra>",
         "legendgroup": "Th7",
         "marker": {
          "color": "#B6E880",
          "pattern": {
           "shape": ""
          }
         },
         "name": "Th7",
         "offsetgroup": "Th7",
         "orientation": "v",
         "showlegend": true,
         "textposition": "auto",
         "type": "bar",
         "x": [
          "C3",
          "C4",
          "C13",
          "C16",
          "C17",
          "C25",
          "C33",
          "C39",
          "C49"
         ],
         "xaxis": "x",
         "y": [
          0.5046273173746612,
          0.235239072226062,
          0.39679589571481744,
          0.8419503637088628,
          0.1731754909351906,
          0.5201754809665586,
          0.6678074255675475,
          0.7814789776436813,
          0.18164180044127812
         ],
         "yaxis": "y"
        }
       ],
       "layout": {
        "barmode": "relative",
        "height": 800,
        "legend": {
         "title": {
          "text": "Thermoelectric ID"
         },
         "tracegroupgap": 0
        },
        "template": {
         "data": {
          "bar": [
           {
            "error_x": {
             "color": "#2a3f5f"
            },
            "error_y": {
             "color": "#2a3f5f"
            },
            "marker": {
             "line": {
              "color": "#E5ECF6",
              "width": 0.5
             },
             "pattern": {
              "fillmode": "overlay",
              "size": 10,
              "solidity": 0.2
             }
            },
            "type": "bar"
           }
          ],
          "barpolar": [
           {
            "marker": {
             "line": {
              "color": "#E5ECF6",
              "width": 0.5
             },
             "pattern": {
              "fillmode": "overlay",
              "size": 10,
              "solidity": 0.2
             }
            },
            "type": "barpolar"
           }
          ],
          "carpet": [
           {
            "aaxis": {
             "endlinecolor": "#2a3f5f",
             "gridcolor": "white",
             "linecolor": "white",
             "minorgridcolor": "white",
             "startlinecolor": "#2a3f5f"
            },
            "baxis": {
             "endlinecolor": "#2a3f5f",
             "gridcolor": "white",
             "linecolor": "white",
             "minorgridcolor": "white",
             "startlinecolor": "#2a3f5f"
            },
            "type": "carpet"
           }
          ],
          "choropleth": [
           {
            "colorbar": {
             "outlinewidth": 0,
             "ticks": ""
            },
            "type": "choropleth"
           }
          ],
          "contour": [
           {
            "colorbar": {
             "outlinewidth": 0,
             "ticks": ""
            },
            "colorscale": [
             [
              0,
              "#0d0887"
             ],
             [
              0.1111111111111111,
              "#46039f"
             ],
             [
              0.2222222222222222,
              "#7201a8"
             ],
             [
              0.3333333333333333,
              "#9c179e"
             ],
             [
              0.4444444444444444,
              "#bd3786"
             ],
             [
              0.5555555555555556,
              "#d8576b"
             ],
             [
              0.6666666666666666,
              "#ed7953"
             ],
             [
              0.7777777777777778,
              "#fb9f3a"
             ],
             [
              0.8888888888888888,
              "#fdca26"
             ],
             [
              1,
              "#f0f921"
             ]
            ],
            "type": "contour"
           }
          ],
          "contourcarpet": [
           {
            "colorbar": {
             "outlinewidth": 0,
             "ticks": ""
            },
            "type": "contourcarpet"
           }
          ],
          "heatmap": [
           {
            "colorbar": {
             "outlinewidth": 0,
             "ticks": ""
            },
            "colorscale": [
             [
              0,
              "#0d0887"
             ],
             [
              0.1111111111111111,
              "#46039f"
             ],
             [
              0.2222222222222222,
              "#7201a8"
             ],
             [
              0.3333333333333333,
              "#9c179e"
             ],
             [
              0.4444444444444444,
              "#bd3786"
             ],
             [
              0.5555555555555556,
              "#d8576b"
             ],
             [
              0.6666666666666666,
              "#ed7953"
             ],
             [
              0.7777777777777778,
              "#fb9f3a"
             ],
             [
              0.8888888888888888,
              "#fdca26"
             ],
             [
              1,
              "#f0f921"
             ]
            ],
            "type": "heatmap"
           }
          ],
          "heatmapgl": [
           {
            "colorbar": {
             "outlinewidth": 0,
             "ticks": ""
            },
            "colorscale": [
             [
              0,
              "#0d0887"
             ],
             [
              0.1111111111111111,
              "#46039f"
             ],
             [
              0.2222222222222222,
              "#7201a8"
             ],
             [
              0.3333333333333333,
              "#9c179e"
             ],
             [
              0.4444444444444444,
              "#bd3786"
             ],
             [
              0.5555555555555556,
              "#d8576b"
             ],
             [
              0.6666666666666666,
              "#ed7953"
             ],
             [
              0.7777777777777778,
              "#fb9f3a"
             ],
             [
              0.8888888888888888,
              "#fdca26"
             ],
             [
              1,
              "#f0f921"
             ]
            ],
            "type": "heatmapgl"
           }
          ],
          "histogram": [
           {
            "marker": {
             "pattern": {
              "fillmode": "overlay",
              "size": 10,
              "solidity": 0.2
             }
            },
            "type": "histogram"
           }
          ],
          "histogram2d": [
           {
            "colorbar": {
             "outlinewidth": 0,
             "ticks": ""
            },
            "colorscale": [
             [
              0,
              "#0d0887"
             ],
             [
              0.1111111111111111,
              "#46039f"
             ],
             [
              0.2222222222222222,
              "#7201a8"
             ],
             [
              0.3333333333333333,
              "#9c179e"
             ],
             [
              0.4444444444444444,
              "#bd3786"
             ],
             [
              0.5555555555555556,
              "#d8576b"
             ],
             [
              0.6666666666666666,
              "#ed7953"
             ],
             [
              0.7777777777777778,
              "#fb9f3a"
             ],
             [
              0.8888888888888888,
              "#fdca26"
             ],
             [
              1,
              "#f0f921"
             ]
            ],
            "type": "histogram2d"
           }
          ],
          "histogram2dcontour": [
           {
            "colorbar": {
             "outlinewidth": 0,
             "ticks": ""
            },
            "colorscale": [
             [
              0,
              "#0d0887"
             ],
             [
              0.1111111111111111,
              "#46039f"
             ],
             [
              0.2222222222222222,
              "#7201a8"
             ],
             [
              0.3333333333333333,
              "#9c179e"
             ],
             [
              0.4444444444444444,
              "#bd3786"
             ],
             [
              0.5555555555555556,
              "#d8576b"
             ],
             [
              0.6666666666666666,
              "#ed7953"
             ],
             [
              0.7777777777777778,
              "#fb9f3a"
             ],
             [
              0.8888888888888888,
              "#fdca26"
             ],
             [
              1,
              "#f0f921"
             ]
            ],
            "type": "histogram2dcontour"
           }
          ],
          "mesh3d": [
           {
            "colorbar": {
             "outlinewidth": 0,
             "ticks": ""
            },
            "type": "mesh3d"
           }
          ],
          "parcoords": [
           {
            "line": {
             "colorbar": {
              "outlinewidth": 0,
              "ticks": ""
             }
            },
            "type": "parcoords"
           }
          ],
          "pie": [
           {
            "automargin": true,
            "type": "pie"
           }
          ],
          "scatter": [
           {
            "fillpattern": {
             "fillmode": "overlay",
             "size": 10,
             "solidity": 0.2
            },
            "type": "scatter"
           }
          ],
          "scatter3d": [
           {
            "line": {
             "colorbar": {
              "outlinewidth": 0,
              "ticks": ""
             }
            },
            "marker": {
             "colorbar": {
              "outlinewidth": 0,
              "ticks": ""
             }
            },
            "type": "scatter3d"
           }
          ],
          "scattercarpet": [
           {
            "marker": {
             "colorbar": {
              "outlinewidth": 0,
              "ticks": ""
             }
            },
            "type": "scattercarpet"
           }
          ],
          "scattergeo": [
           {
            "marker": {
             "colorbar": {
              "outlinewidth": 0,
              "ticks": ""
             }
            },
            "type": "scattergeo"
           }
          ],
          "scattergl": [
           {
            "marker": {
             "colorbar": {
              "outlinewidth": 0,
              "ticks": ""
             }
            },
            "type": "scattergl"
           }
          ],
          "scattermapbox": [
           {
            "marker": {
             "colorbar": {
              "outlinewidth": 0,
              "ticks": ""
             }
            },
            "type": "scattermapbox"
           }
          ],
          "scatterpolar": [
           {
            "marker": {
             "colorbar": {
              "outlinewidth": 0,
              "ticks": ""
             }
            },
            "type": "scatterpolar"
           }
          ],
          "scatterpolargl": [
           {
            "marker": {
             "colorbar": {
              "outlinewidth": 0,
              "ticks": ""
             }
            },
            "type": "scatterpolargl"
           }
          ],
          "scatterternary": [
           {
            "marker": {
             "colorbar": {
              "outlinewidth": 0,
              "ticks": ""
             }
            },
            "type": "scatterternary"
           }
          ],
          "surface": [
           {
            "colorbar": {
             "outlinewidth": 0,
             "ticks": ""
            },
            "colorscale": [
             [
              0,
              "#0d0887"
             ],
             [
              0.1111111111111111,
              "#46039f"
             ],
             [
              0.2222222222222222,
              "#7201a8"
             ],
             [
              0.3333333333333333,
              "#9c179e"
             ],
             [
              0.4444444444444444,
              "#bd3786"
             ],
             [
              0.5555555555555556,
              "#d8576b"
             ],
             [
              0.6666666666666666,
              "#ed7953"
             ],
             [
              0.7777777777777778,
              "#fb9f3a"
             ],
             [
              0.8888888888888888,
              "#fdca26"
             ],
             [
              1,
              "#f0f921"
             ]
            ],
            "type": "surface"
           }
          ],
          "table": [
           {
            "cells": {
             "fill": {
              "color": "#EBF0F8"
             },
             "line": {
              "color": "white"
             }
            },
            "header": {
             "fill": {
              "color": "#C8D4E3"
             },
             "line": {
              "color": "white"
             }
            },
            "type": "table"
           }
          ]
         },
         "layout": {
          "annotationdefaults": {
           "arrowcolor": "#2a3f5f",
           "arrowhead": 0,
           "arrowwidth": 1
          },
          "autotypenumbers": "strict",
          "coloraxis": {
           "colorbar": {
            "outlinewidth": 0,
            "ticks": ""
           }
          },
          "colorscale": {
           "diverging": [
            [
             0,
             "#8e0152"
            ],
            [
             0.1,
             "#c51b7d"
            ],
            [
             0.2,
             "#de77ae"
            ],
            [
             0.3,
             "#f1b6da"
            ],
            [
             0.4,
             "#fde0ef"
            ],
            [
             0.5,
             "#f7f7f7"
            ],
            [
             0.6,
             "#e6f5d0"
            ],
            [
             0.7,
             "#b8e186"
            ],
            [
             0.8,
             "#7fbc41"
            ],
            [
             0.9,
             "#4d9221"
            ],
            [
             1,
             "#276419"
            ]
           ],
           "sequential": [
            [
             0,
             "#0d0887"
            ],
            [
             0.1111111111111111,
             "#46039f"
            ],
            [
             0.2222222222222222,
             "#7201a8"
            ],
            [
             0.3333333333333333,
             "#9c179e"
            ],
            [
             0.4444444444444444,
             "#bd3786"
            ],
            [
             0.5555555555555556,
             "#d8576b"
            ],
            [
             0.6666666666666666,
             "#ed7953"
            ],
            [
             0.7777777777777778,
             "#fb9f3a"
            ],
            [
             0.8888888888888888,
             "#fdca26"
            ],
            [
             1,
             "#f0f921"
            ]
           ],
           "sequentialminus": [
            [
             0,
             "#0d0887"
            ],
            [
             0.1111111111111111,
             "#46039f"
            ],
            [
             0.2222222222222222,
             "#7201a8"
            ],
            [
             0.3333333333333333,
             "#9c179e"
            ],
            [
             0.4444444444444444,
             "#bd3786"
            ],
            [
             0.5555555555555556,
             "#d8576b"
            ],
            [
             0.6666666666666666,
             "#ed7953"
            ],
            [
             0.7777777777777778,
             "#fb9f3a"
            ],
            [
             0.8888888888888888,
             "#fdca26"
            ],
            [
             1,
             "#f0f921"
            ]
           ]
          },
          "colorway": [
           "#636efa",
           "#EF553B",
           "#00cc96",
           "#ab63fa",
           "#FFA15A",
           "#19d3f3",
           "#FF6692",
           "#B6E880",
           "#FF97FF",
           "#FECB52"
          ],
          "font": {
           "color": "#2a3f5f"
          },
          "geo": {
           "bgcolor": "white",
           "lakecolor": "white",
           "landcolor": "#E5ECF6",
           "showlakes": true,
           "showland": true,
           "subunitcolor": "white"
          },
          "hoverlabel": {
           "align": "left"
          },
          "hovermode": "closest",
          "mapbox": {
           "style": "light"
          },
          "paper_bgcolor": "white",
          "plot_bgcolor": "#E5ECF6",
          "polar": {
           "angularaxis": {
            "gridcolor": "white",
            "linecolor": "white",
            "ticks": ""
           },
           "bgcolor": "#E5ECF6",
           "radialaxis": {
            "gridcolor": "white",
            "linecolor": "white",
            "ticks": ""
           }
          },
          "scene": {
           "xaxis": {
            "backgroundcolor": "#E5ECF6",
            "gridcolor": "white",
            "gridwidth": 2,
            "linecolor": "white",
            "showbackground": true,
            "ticks": "",
            "zerolinecolor": "white"
           },
           "yaxis": {
            "backgroundcolor": "#E5ECF6",
            "gridcolor": "white",
            "gridwidth": 2,
            "linecolor": "white",
            "showbackground": true,
            "ticks": "",
            "zerolinecolor": "white"
           },
           "zaxis": {
            "backgroundcolor": "#E5ECF6",
            "gridcolor": "white",
            "gridwidth": 2,
            "linecolor": "white",
            "showbackground": true,
            "ticks": "",
            "zerolinecolor": "white"
           }
          },
          "shapedefaults": {
           "line": {
            "color": "#2a3f5f"
           }
          },
          "ternary": {
           "aaxis": {
            "gridcolor": "white",
            "linecolor": "white",
            "ticks": ""
           },
           "baxis": {
            "gridcolor": "white",
            "linecolor": "white",
            "ticks": ""
           },
           "bgcolor": "#E5ECF6",
           "caxis": {
            "gridcolor": "white",
            "linecolor": "white",
            "ticks": ""
           }
          },
          "title": {
           "x": 0.05
          },
          "xaxis": {
           "automargin": true,
           "gridcolor": "white",
           "linecolor": "white",
           "ticks": "",
           "title": {
            "standoff": 15
           },
           "zerolinecolor": "white",
           "zerolinewidth": 2
          },
          "yaxis": {
           "automargin": true,
           "gridcolor": "white",
           "linecolor": "white",
           "ticks": "",
           "title": {
            "standoff": 15
           },
           "zerolinecolor": "white",
           "zerolinewidth": 2
          }
         }
        },
        "title": {
         "text": "Importance per Circuit"
        },
        "xaxis": {
         "anchor": "y",
         "domain": [
          0,
          1
         ],
         "title": {
          "text": "Circuit ID"
         }
        },
        "yaxis": {
         "anchor": "x",
         "domain": [
          0,
          1
         ],
         "title": {
          "text": "Importance"
         }
        }
       }
      }
     },
     "metadata": {},
     "output_type": "display_data"
    },
    {
     "data": {
      "application/vnd.plotly.v1+json": {
       "config": {
        "plotlyServerURL": "https://plot.ly"
       },
       "data": [
        {
         "alignmentgroup": "True",
         "hovertemplate": "Thermoelectric ID=Th0<br>Circuit ID=%{x}<br>Demand per Hour=%{y}<extra></extra>",
         "legendgroup": "Th0",
         "marker": {
          "color": "#636EFA",
          "pattern": {
           "shape": ""
          }
         },
         "name": "Th0",
         "offsetgroup": "Th0",
         "orientation": "v",
         "showlegend": true,
         "textposition": "auto",
         "type": "bar",
         "x": [
          "C5",
          "C8",
          "C9",
          "C12",
          "C18",
          "C26",
          "C27",
          "C29",
          "C32",
          "C38",
          "C42",
          "C46",
          "C48"
         ],
         "xaxis": "x",
         "y": [
          1520.7591452914112,
          582.0124416833291,
          4910.254082074057,
          2190.656858312387,
          3137.1924833338444,
          2755.0534367996434,
          1833.5974790499629,
          1199.866881458451,
          4317.141065533732,
          3983.8479745644167,
          3134.1255914633166,
          4893.407640359156,
          2033.8976051259024
         ],
         "yaxis": "y"
        },
        {
         "alignmentgroup": "True",
         "hovertemplate": "Thermoelectric ID=Th1<br>Circuit ID=%{x}<br>Demand per Hour=%{y}<extra></extra>",
         "legendgroup": "Th1",
         "marker": {
          "color": "#EF553B",
          "pattern": {
           "shape": ""
          }
         },
         "name": "Th1",
         "offsetgroup": "Th1",
         "orientation": "v",
         "showlegend": true,
         "textposition": "auto",
         "type": "bar",
         "x": [
          "C10",
          "C15",
          "C21",
          "C24",
          "C31",
          "C36",
          "C44",
          "C47"
         ],
         "xaxis": "x",
         "y": [
          4169.960069058515,
          840.2718232103825,
          2286.0374232761114,
          1596.947752641768,
          903.0335075945259,
          1450.8932943559719,
          945.5156521008549,
          2316.3072974626907
         ],
         "yaxis": "y"
        },
        {
         "alignmentgroup": "True",
         "hovertemplate": "Thermoelectric ID=Th2<br>Circuit ID=%{x}<br>Demand per Hour=%{y}<extra></extra>",
         "legendgroup": "Th2",
         "marker": {
          "color": "#00CC96",
          "pattern": {
           "shape": ""
          }
         },
         "name": "Th2",
         "offsetgroup": "Th2",
         "orientation": "v",
         "showlegend": true,
         "textposition": "auto",
         "type": "bar",
         "x": [
          "C11",
          "C20",
          "C37"
         ],
         "xaxis": "x",
         "y": [
          3912.447749488729,
          506.18859295316946,
          2827.267608979563
         ],
         "yaxis": "y"
        },
        {
         "alignmentgroup": "True",
         "hovertemplate": "Thermoelectric ID=Th3<br>Circuit ID=%{x}<br>Demand per Hour=%{y}<extra></extra>",
         "legendgroup": "Th3",
         "marker": {
          "color": "#AB63FA",
          "pattern": {
           "shape": ""
          }
         },
         "name": "Th3",
         "offsetgroup": "Th3",
         "orientation": "v",
         "showlegend": true,
         "textposition": "auto",
         "type": "bar",
         "x": [
          "C0",
          "C19",
          "C30",
          "C35",
          "C45"
         ],
         "xaxis": "x",
         "y": [
          4147.554096167218,
          879.6190371350058,
          1102.5563015788562,
          3496.6884933020783,
          2473.00731249618
         ],
         "yaxis": "y"
        },
        {
         "alignmentgroup": "True",
         "hovertemplate": "Thermoelectric ID=Th4<br>Circuit ID=%{x}<br>Demand per Hour=%{y}<extra></extra>",
         "legendgroup": "Th4",
         "marker": {
          "color": "#FFA15A",
          "pattern": {
           "shape": ""
          }
         },
         "name": "Th4",
         "offsetgroup": "Th4",
         "orientation": "v",
         "showlegend": true,
         "textposition": "auto",
         "type": "bar",
         "x": [
          "C6",
          "C14",
          "C41"
         ],
         "xaxis": "x",
         "y": [
          423.74104005075014,
          1752.2580465791602,
          4345.412277483159
         ],
         "yaxis": "y"
        },
        {
         "alignmentgroup": "True",
         "hovertemplate": "Thermoelectric ID=Th5<br>Circuit ID=%{x}<br>Demand per Hour=%{y}<extra></extra>",
         "legendgroup": "Th5",
         "marker": {
          "color": "#19D3F3",
          "pattern": {
           "shape": ""
          }
         },
         "name": "Th5",
         "offsetgroup": "Th5",
         "orientation": "v",
         "showlegend": true,
         "textposition": "auto",
         "type": "bar",
         "x": [
          "C7",
          "C22",
          "C23",
          "C43"
         ],
         "xaxis": "x",
         "y": [
          3087.1525215489073,
          538.8008481695334,
          1488.669986024871,
          719.3448127288433
         ],
         "yaxis": "y"
        },
        {
         "alignmentgroup": "True",
         "hovertemplate": "Thermoelectric ID=Th6<br>Circuit ID=%{x}<br>Demand per Hour=%{y}<extra></extra>",
         "legendgroup": "Th6",
         "marker": {
          "color": "#FF6692",
          "pattern": {
           "shape": ""
          }
         },
         "name": "Th6",
         "offsetgroup": "Th6",
         "orientation": "v",
         "showlegend": true,
         "textposition": "auto",
         "type": "bar",
         "x": [
          "C1",
          "C2",
          "C28",
          "C34",
          "C40"
         ],
         "xaxis": "x",
         "y": [
          2218.0015001643505,
          3300.531732100007,
          4290.063437933709,
          1357.217906200822,
          805.2970731137564
         ],
         "yaxis": "y"
        },
        {
         "alignmentgroup": "True",
         "hovertemplate": "Thermoelectric ID=Th7<br>Circuit ID=%{x}<br>Demand per Hour=%{y}<extra></extra>",
         "legendgroup": "Th7",
         "marker": {
          "color": "#B6E880",
          "pattern": {
           "shape": ""
          }
         },
         "name": "Th7",
         "offsetgroup": "Th7",
         "orientation": "v",
         "showlegend": true,
         "textposition": "auto",
         "type": "bar",
         "x": [
          "C3",
          "C4",
          "C13",
          "C16",
          "C17",
          "C25",
          "C33",
          "C39",
          "C49"
         ],
         "xaxis": "x",
         "y": [
          2728.1799127708387,
          1925.545431657949,
          2421.824596209897,
          5789.193511853263,
          965.6603988635517,
          1803.8150060752412,
          5077.407307999796,
          4739.877196720347,
          1443.285539054034
         ],
         "yaxis": "y"
        }
       ],
       "layout": {
        "barmode": "relative",
        "height": 800,
        "legend": {
         "title": {
          "text": "Thermoelectric ID"
         },
         "tracegroupgap": 0
        },
        "template": {
         "data": {
          "bar": [
           {
            "error_x": {
             "color": "#2a3f5f"
            },
            "error_y": {
             "color": "#2a3f5f"
            },
            "marker": {
             "line": {
              "color": "#E5ECF6",
              "width": 0.5
             },
             "pattern": {
              "fillmode": "overlay",
              "size": 10,
              "solidity": 0.2
             }
            },
            "type": "bar"
           }
          ],
          "barpolar": [
           {
            "marker": {
             "line": {
              "color": "#E5ECF6",
              "width": 0.5
             },
             "pattern": {
              "fillmode": "overlay",
              "size": 10,
              "solidity": 0.2
             }
            },
            "type": "barpolar"
           }
          ],
          "carpet": [
           {
            "aaxis": {
             "endlinecolor": "#2a3f5f",
             "gridcolor": "white",
             "linecolor": "white",
             "minorgridcolor": "white",
             "startlinecolor": "#2a3f5f"
            },
            "baxis": {
             "endlinecolor": "#2a3f5f",
             "gridcolor": "white",
             "linecolor": "white",
             "minorgridcolor": "white",
             "startlinecolor": "#2a3f5f"
            },
            "type": "carpet"
           }
          ],
          "choropleth": [
           {
            "colorbar": {
             "outlinewidth": 0,
             "ticks": ""
            },
            "type": "choropleth"
           }
          ],
          "contour": [
           {
            "colorbar": {
             "outlinewidth": 0,
             "ticks": ""
            },
            "colorscale": [
             [
              0,
              "#0d0887"
             ],
             [
              0.1111111111111111,
              "#46039f"
             ],
             [
              0.2222222222222222,
              "#7201a8"
             ],
             [
              0.3333333333333333,
              "#9c179e"
             ],
             [
              0.4444444444444444,
              "#bd3786"
             ],
             [
              0.5555555555555556,
              "#d8576b"
             ],
             [
              0.6666666666666666,
              "#ed7953"
             ],
             [
              0.7777777777777778,
              "#fb9f3a"
             ],
             [
              0.8888888888888888,
              "#fdca26"
             ],
             [
              1,
              "#f0f921"
             ]
            ],
            "type": "contour"
           }
          ],
          "contourcarpet": [
           {
            "colorbar": {
             "outlinewidth": 0,
             "ticks": ""
            },
            "type": "contourcarpet"
           }
          ],
          "heatmap": [
           {
            "colorbar": {
             "outlinewidth": 0,
             "ticks": ""
            },
            "colorscale": [
             [
              0,
              "#0d0887"
             ],
             [
              0.1111111111111111,
              "#46039f"
             ],
             [
              0.2222222222222222,
              "#7201a8"
             ],
             [
              0.3333333333333333,
              "#9c179e"
             ],
             [
              0.4444444444444444,
              "#bd3786"
             ],
             [
              0.5555555555555556,
              "#d8576b"
             ],
             [
              0.6666666666666666,
              "#ed7953"
             ],
             [
              0.7777777777777778,
              "#fb9f3a"
             ],
             [
              0.8888888888888888,
              "#fdca26"
             ],
             [
              1,
              "#f0f921"
             ]
            ],
            "type": "heatmap"
           }
          ],
          "heatmapgl": [
           {
            "colorbar": {
             "outlinewidth": 0,
             "ticks": ""
            },
            "colorscale": [
             [
              0,
              "#0d0887"
             ],
             [
              0.1111111111111111,
              "#46039f"
             ],
             [
              0.2222222222222222,
              "#7201a8"
             ],
             [
              0.3333333333333333,
              "#9c179e"
             ],
             [
              0.4444444444444444,
              "#bd3786"
             ],
             [
              0.5555555555555556,
              "#d8576b"
             ],
             [
              0.6666666666666666,
              "#ed7953"
             ],
             [
              0.7777777777777778,
              "#fb9f3a"
             ],
             [
              0.8888888888888888,
              "#fdca26"
             ],
             [
              1,
              "#f0f921"
             ]
            ],
            "type": "heatmapgl"
           }
          ],
          "histogram": [
           {
            "marker": {
             "pattern": {
              "fillmode": "overlay",
              "size": 10,
              "solidity": 0.2
             }
            },
            "type": "histogram"
           }
          ],
          "histogram2d": [
           {
            "colorbar": {
             "outlinewidth": 0,
             "ticks": ""
            },
            "colorscale": [
             [
              0,
              "#0d0887"
             ],
             [
              0.1111111111111111,
              "#46039f"
             ],
             [
              0.2222222222222222,
              "#7201a8"
             ],
             [
              0.3333333333333333,
              "#9c179e"
             ],
             [
              0.4444444444444444,
              "#bd3786"
             ],
             [
              0.5555555555555556,
              "#d8576b"
             ],
             [
              0.6666666666666666,
              "#ed7953"
             ],
             [
              0.7777777777777778,
              "#fb9f3a"
             ],
             [
              0.8888888888888888,
              "#fdca26"
             ],
             [
              1,
              "#f0f921"
             ]
            ],
            "type": "histogram2d"
           }
          ],
          "histogram2dcontour": [
           {
            "colorbar": {
             "outlinewidth": 0,
             "ticks": ""
            },
            "colorscale": [
             [
              0,
              "#0d0887"
             ],
             [
              0.1111111111111111,
              "#46039f"
             ],
             [
              0.2222222222222222,
              "#7201a8"
             ],
             [
              0.3333333333333333,
              "#9c179e"
             ],
             [
              0.4444444444444444,
              "#bd3786"
             ],
             [
              0.5555555555555556,
              "#d8576b"
             ],
             [
              0.6666666666666666,
              "#ed7953"
             ],
             [
              0.7777777777777778,
              "#fb9f3a"
             ],
             [
              0.8888888888888888,
              "#fdca26"
             ],
             [
              1,
              "#f0f921"
             ]
            ],
            "type": "histogram2dcontour"
           }
          ],
          "mesh3d": [
           {
            "colorbar": {
             "outlinewidth": 0,
             "ticks": ""
            },
            "type": "mesh3d"
           }
          ],
          "parcoords": [
           {
            "line": {
             "colorbar": {
              "outlinewidth": 0,
              "ticks": ""
             }
            },
            "type": "parcoords"
           }
          ],
          "pie": [
           {
            "automargin": true,
            "type": "pie"
           }
          ],
          "scatter": [
           {
            "fillpattern": {
             "fillmode": "overlay",
             "size": 10,
             "solidity": 0.2
            },
            "type": "scatter"
           }
          ],
          "scatter3d": [
           {
            "line": {
             "colorbar": {
              "outlinewidth": 0,
              "ticks": ""
             }
            },
            "marker": {
             "colorbar": {
              "outlinewidth": 0,
              "ticks": ""
             }
            },
            "type": "scatter3d"
           }
          ],
          "scattercarpet": [
           {
            "marker": {
             "colorbar": {
              "outlinewidth": 0,
              "ticks": ""
             }
            },
            "type": "scattercarpet"
           }
          ],
          "scattergeo": [
           {
            "marker": {
             "colorbar": {
              "outlinewidth": 0,
              "ticks": ""
             }
            },
            "type": "scattergeo"
           }
          ],
          "scattergl": [
           {
            "marker": {
             "colorbar": {
              "outlinewidth": 0,
              "ticks": ""
             }
            },
            "type": "scattergl"
           }
          ],
          "scattermapbox": [
           {
            "marker": {
             "colorbar": {
              "outlinewidth": 0,
              "ticks": ""
             }
            },
            "type": "scattermapbox"
           }
          ],
          "scatterpolar": [
           {
            "marker": {
             "colorbar": {
              "outlinewidth": 0,
              "ticks": ""
             }
            },
            "type": "scatterpolar"
           }
          ],
          "scatterpolargl": [
           {
            "marker": {
             "colorbar": {
              "outlinewidth": 0,
              "ticks": ""
             }
            },
            "type": "scatterpolargl"
           }
          ],
          "scatterternary": [
           {
            "marker": {
             "colorbar": {
              "outlinewidth": 0,
              "ticks": ""
             }
            },
            "type": "scatterternary"
           }
          ],
          "surface": [
           {
            "colorbar": {
             "outlinewidth": 0,
             "ticks": ""
            },
            "colorscale": [
             [
              0,
              "#0d0887"
             ],
             [
              0.1111111111111111,
              "#46039f"
             ],
             [
              0.2222222222222222,
              "#7201a8"
             ],
             [
              0.3333333333333333,
              "#9c179e"
             ],
             [
              0.4444444444444444,
              "#bd3786"
             ],
             [
              0.5555555555555556,
              "#d8576b"
             ],
             [
              0.6666666666666666,
              "#ed7953"
             ],
             [
              0.7777777777777778,
              "#fb9f3a"
             ],
             [
              0.8888888888888888,
              "#fdca26"
             ],
             [
              1,
              "#f0f921"
             ]
            ],
            "type": "surface"
           }
          ],
          "table": [
           {
            "cells": {
             "fill": {
              "color": "#EBF0F8"
             },
             "line": {
              "color": "white"
             }
            },
            "header": {
             "fill": {
              "color": "#C8D4E3"
             },
             "line": {
              "color": "white"
             }
            },
            "type": "table"
           }
          ]
         },
         "layout": {
          "annotationdefaults": {
           "arrowcolor": "#2a3f5f",
           "arrowhead": 0,
           "arrowwidth": 1
          },
          "autotypenumbers": "strict",
          "coloraxis": {
           "colorbar": {
            "outlinewidth": 0,
            "ticks": ""
           }
          },
          "colorscale": {
           "diverging": [
            [
             0,
             "#8e0152"
            ],
            [
             0.1,
             "#c51b7d"
            ],
            [
             0.2,
             "#de77ae"
            ],
            [
             0.3,
             "#f1b6da"
            ],
            [
             0.4,
             "#fde0ef"
            ],
            [
             0.5,
             "#f7f7f7"
            ],
            [
             0.6,
             "#e6f5d0"
            ],
            [
             0.7,
             "#b8e186"
            ],
            [
             0.8,
             "#7fbc41"
            ],
            [
             0.9,
             "#4d9221"
            ],
            [
             1,
             "#276419"
            ]
           ],
           "sequential": [
            [
             0,
             "#0d0887"
            ],
            [
             0.1111111111111111,
             "#46039f"
            ],
            [
             0.2222222222222222,
             "#7201a8"
            ],
            [
             0.3333333333333333,
             "#9c179e"
            ],
            [
             0.4444444444444444,
             "#bd3786"
            ],
            [
             0.5555555555555556,
             "#d8576b"
            ],
            [
             0.6666666666666666,
             "#ed7953"
            ],
            [
             0.7777777777777778,
             "#fb9f3a"
            ],
            [
             0.8888888888888888,
             "#fdca26"
            ],
            [
             1,
             "#f0f921"
            ]
           ],
           "sequentialminus": [
            [
             0,
             "#0d0887"
            ],
            [
             0.1111111111111111,
             "#46039f"
            ],
            [
             0.2222222222222222,
             "#7201a8"
            ],
            [
             0.3333333333333333,
             "#9c179e"
            ],
            [
             0.4444444444444444,
             "#bd3786"
            ],
            [
             0.5555555555555556,
             "#d8576b"
            ],
            [
             0.6666666666666666,
             "#ed7953"
            ],
            [
             0.7777777777777778,
             "#fb9f3a"
            ],
            [
             0.8888888888888888,
             "#fdca26"
            ],
            [
             1,
             "#f0f921"
            ]
           ]
          },
          "colorway": [
           "#636efa",
           "#EF553B",
           "#00cc96",
           "#ab63fa",
           "#FFA15A",
           "#19d3f3",
           "#FF6692",
           "#B6E880",
           "#FF97FF",
           "#FECB52"
          ],
          "font": {
           "color": "#2a3f5f"
          },
          "geo": {
           "bgcolor": "white",
           "lakecolor": "white",
           "landcolor": "#E5ECF6",
           "showlakes": true,
           "showland": true,
           "subunitcolor": "white"
          },
          "hoverlabel": {
           "align": "left"
          },
          "hovermode": "closest",
          "mapbox": {
           "style": "light"
          },
          "paper_bgcolor": "white",
          "plot_bgcolor": "#E5ECF6",
          "polar": {
           "angularaxis": {
            "gridcolor": "white",
            "linecolor": "white",
            "ticks": ""
           },
           "bgcolor": "#E5ECF6",
           "radialaxis": {
            "gridcolor": "white",
            "linecolor": "white",
            "ticks": ""
           }
          },
          "scene": {
           "xaxis": {
            "backgroundcolor": "#E5ECF6",
            "gridcolor": "white",
            "gridwidth": 2,
            "linecolor": "white",
            "showbackground": true,
            "ticks": "",
            "zerolinecolor": "white"
           },
           "yaxis": {
            "backgroundcolor": "#E5ECF6",
            "gridcolor": "white",
            "gridwidth": 2,
            "linecolor": "white",
            "showbackground": true,
            "ticks": "",
            "zerolinecolor": "white"
           },
           "zaxis": {
            "backgroundcolor": "#E5ECF6",
            "gridcolor": "white",
            "gridwidth": 2,
            "linecolor": "white",
            "showbackground": true,
            "ticks": "",
            "zerolinecolor": "white"
           }
          },
          "shapedefaults": {
           "line": {
            "color": "#2a3f5f"
           }
          },
          "ternary": {
           "aaxis": {
            "gridcolor": "white",
            "linecolor": "white",
            "ticks": ""
           },
           "baxis": {
            "gridcolor": "white",
            "linecolor": "white",
            "ticks": ""
           },
           "bgcolor": "#E5ECF6",
           "caxis": {
            "gridcolor": "white",
            "linecolor": "white",
            "ticks": ""
           }
          },
          "title": {
           "x": 0.05
          },
          "xaxis": {
           "automargin": true,
           "gridcolor": "white",
           "linecolor": "white",
           "ticks": "",
           "title": {
            "standoff": 15
           },
           "zerolinecolor": "white",
           "zerolinewidth": 2
          },
          "yaxis": {
           "automargin": true,
           "gridcolor": "white",
           "linecolor": "white",
           "ticks": "",
           "title": {
            "standoff": 15
           },
           "zerolinecolor": "white",
           "zerolinewidth": 2
          }
         }
        },
        "title": {
         "text": "Total Demand per Circuit in a Day"
        },
        "xaxis": {
         "anchor": "y",
         "domain": [
          0,
          1
         ],
         "title": {
          "text": "Circuit ID"
         }
        },
        "yaxis": {
         "anchor": "x",
         "domain": [
          0,
          1
         ],
         "title": {
          "text": "Demand per Hour"
         }
        }
       }
      }
     },
     "metadata": {},
     "output_type": "display_data"
    }
   ],
   "source": [
    "# Compare data from circuits\n",
    "\n",
    "citizens = []\n",
    "importance = []\n",
    "demand_per_hour = []\n",
    "\n",
    "for circuit in sorted_electric_system_circuit_list:\n",
    "    \n",
    "    importance.append(circuit.importance)\n",
    "    demand_per_hour.append(\n",
    "        sum([sum(block.predicted_demand_per_hour) for block in circuit.blocks])\n",
    "    )\n",
    "\n",
    "# Separate for properties\n",
    "citizens = [\n",
    "    sum(block.citizens.amount for block in circuit.blocks)\n",
    "    for circuit in electric_system_circuits_list\n",
    "]\n",
    "\n",
    "circuit_comparison_df = pd.DataFrame(\n",
    "    {   \"Circuit ID\": [c.id for c in sorted_electric_system_circuit_list], \n",
    "        \"Citizens\": citizens,\n",
    "        \"Importance\": importance,\n",
    "        \"Demand per Hour\": demand_per_hour,\n",
    "    }\n",
    ")\n",
    "\n",
    "fig_citizens = px.bar(\n",
    "    circuit_comparison_df,\n",
    "    x=\"Circuit ID\",\n",
    "    y=\"Citizens\",\n",
    "    title=\"Total Citizens per Circuit\",\n",
    "    height=800,\n",
    "    color=colors,\n",
    "    color_discrete_sequence=px.colors.qualitative.Plotly,\n",
    "    labels={\"color\": \"Thermoelectric ID\"},\n",
    ")\n",
    "\n",
    "fig_importance = px.bar(\n",
    "    circuit_comparison_df,\n",
    "    x=\"Circuit ID\",\n",
    "    y=\"Importance\",\n",
    "    title=\"Importance per Circuit\",\n",
    "    height=800,\n",
    "    color=colors,\n",
    "    color_discrete_sequence=px.colors.qualitative.Plotly,\n",
    "    labels={\"color\": \"Thermoelectric ID\"},\n",
    ")\n",
    "\n",
    "fig_demand_per_hour = px.bar(\n",
    "    circuit_comparison_df,\n",
    "    x=\"Circuit ID\",\n",
    "    y=\"Demand per Hour\",\n",
    "    title=\"Total Demand per Circuit in a Day\",\n",
    "    height=800,\n",
    "    color=colors,\n",
    "    color_discrete_sequence=px.colors.qualitative.Plotly,\n",
    "    labels={\"color\": \"Thermoelectric ID\"},\n",
    ")\n",
    "\n",
    "fig_citizens.show()\n",
    "fig_importance.show()\n",
    "fig_demand_per_hour.show()"
   ]
  },
  {
   "cell_type": "code",
   "execution_count": 11,
   "metadata": {},
   "outputs": [
    {
     "data": {
      "application/vnd.plotly.v1+json": {
       "config": {
        "plotlyServerURL": "https://plot.ly"
       },
       "data": [
        {
         "hovertemplate": "Block ID=Block 1<br>Hour=%{x}<br>Demand (kWh)=%{y}<extra></extra>",
         "legendgroup": "Block 1",
         "line": {
          "color": "#636efa",
          "dash": "solid"
         },
         "marker": {
          "symbol": "circle"
         },
         "mode": "lines",
         "name": "Block 1",
         "orientation": "v",
         "showlegend": true,
         "type": "scatter",
         "x": [
          0,
          1,
          2,
          3,
          4,
          5,
          6,
          7,
          8,
          9,
          10,
          11,
          12,
          13,
          14,
          15,
          16,
          17,
          18,
          19,
          20,
          21,
          22,
          23
         ],
         "xaxis": "x",
         "y": [
          51.4002338382985,
          53.57949372605405,
          51.89335110920389,
          50.21314068264497,
          55.07979762982419,
          50.21630333412596,
          61.79710704277343,
          63.591819244918064,
          60.121386996886834,
          50.5797396792976,
          54.61070128633979,
          46.82555183763021,
          51.96786005048181,
          60.74288830500628,
          56.828463823780226,
          54.40171065400328,
          60.63156349254629,
          63.572689121222766,
          66.10708090886087,
          71.14914008383413,
          77.05190380151743,
          64.5464675087098,
          58.591692573344616,
          56.659601107135636
         ],
         "yaxis": "y"
        },
        {
         "hovertemplate": "Block ID=Block 2<br>Hour=%{x}<br>Demand (kWh)=%{y}<extra></extra>",
         "legendgroup": "Block 2",
         "line": {
          "color": "#EF553B",
          "dash": "solid"
         },
         "marker": {
          "symbol": "circle"
         },
         "mode": "lines",
         "name": "Block 2",
         "orientation": "v",
         "showlegend": true,
         "type": "scatter",
         "x": [
          0,
          1,
          2,
          3,
          4,
          5,
          6,
          7,
          8,
          9,
          10,
          11,
          12,
          13,
          14,
          15,
          16,
          17,
          18,
          19,
          20,
          21,
          22,
          23
         ],
         "xaxis": "x",
         "y": [
          49.29248950951432,
          53.77441832300665,
          53.1196524345574,
          51.3156474969967,
          56.31496855273576,
          50.08240934768088,
          58.51039333961863,
          63.85391426026443,
          58.912859219325604,
          54.51606841286696,
          59.09444531147015,
          51.468986783145205,
          50.98449486684505,
          48.423870821939964,
          50.25520229416381,
          53.71768302916552,
          60.967376872994095,
          68.85055524812145,
          69.21708197393552,
          76.47013451248887,
          66.67218398928912,
          61.40740504098281,
          52.57940310082714,
          56.869066250402284
         ],
         "yaxis": "y"
        },
        {
         "hovertemplate": "Block ID=Block 3<br>Hour=%{x}<br>Demand (kWh)=%{y}<extra></extra>",
         "legendgroup": "Block 3",
         "line": {
          "color": "#00cc96",
          "dash": "solid"
         },
         "marker": {
          "symbol": "circle"
         },
         "mode": "lines",
         "name": "Block 3",
         "orientation": "v",
         "showlegend": true,
         "type": "scatter",
         "x": [
          0,
          1,
          2,
          3,
          4,
          5,
          6,
          7,
          8,
          9,
          10,
          11,
          12,
          13,
          14,
          15,
          16,
          17,
          18,
          19,
          20,
          21,
          22,
          23
         ],
         "xaxis": "x",
         "y": [
          48.88715634350005,
          54.11985984629478,
          50.77634610739226,
          53.95553092121593,
          50.94614360349527,
          64.00602145548154,
          65.04817115312736,
          62.489676052238096,
          55.8207171611002,
          50.49581353643643,
          55.22306293965434,
          58.38524701886186,
          52.62270915657272,
          55.14523119017283,
          50.082056742071565,
          52.0452735765916,
          54.62608286301767,
          60.69758577320187,
          68.62400761060178,
          70.82166552249174,
          69.22066935833567,
          64.37954161773206,
          57.25186531757697,
          53.053262469274046
         ],
         "yaxis": "y"
        }
       ],
       "layout": {
        "legend": {
         "title": {
          "text": "Block ID"
         },
         "tracegroupgap": 0
        },
        "template": {
         "data": {
          "bar": [
           {
            "error_x": {
             "color": "#2a3f5f"
            },
            "error_y": {
             "color": "#2a3f5f"
            },
            "marker": {
             "line": {
              "color": "#E5ECF6",
              "width": 0.5
             },
             "pattern": {
              "fillmode": "overlay",
              "size": 10,
              "solidity": 0.2
             }
            },
            "type": "bar"
           }
          ],
          "barpolar": [
           {
            "marker": {
             "line": {
              "color": "#E5ECF6",
              "width": 0.5
             },
             "pattern": {
              "fillmode": "overlay",
              "size": 10,
              "solidity": 0.2
             }
            },
            "type": "barpolar"
           }
          ],
          "carpet": [
           {
            "aaxis": {
             "endlinecolor": "#2a3f5f",
             "gridcolor": "white",
             "linecolor": "white",
             "minorgridcolor": "white",
             "startlinecolor": "#2a3f5f"
            },
            "baxis": {
             "endlinecolor": "#2a3f5f",
             "gridcolor": "white",
             "linecolor": "white",
             "minorgridcolor": "white",
             "startlinecolor": "#2a3f5f"
            },
            "type": "carpet"
           }
          ],
          "choropleth": [
           {
            "colorbar": {
             "outlinewidth": 0,
             "ticks": ""
            },
            "type": "choropleth"
           }
          ],
          "contour": [
           {
            "colorbar": {
             "outlinewidth": 0,
             "ticks": ""
            },
            "colorscale": [
             [
              0,
              "#0d0887"
             ],
             [
              0.1111111111111111,
              "#46039f"
             ],
             [
              0.2222222222222222,
              "#7201a8"
             ],
             [
              0.3333333333333333,
              "#9c179e"
             ],
             [
              0.4444444444444444,
              "#bd3786"
             ],
             [
              0.5555555555555556,
              "#d8576b"
             ],
             [
              0.6666666666666666,
              "#ed7953"
             ],
             [
              0.7777777777777778,
              "#fb9f3a"
             ],
             [
              0.8888888888888888,
              "#fdca26"
             ],
             [
              1,
              "#f0f921"
             ]
            ],
            "type": "contour"
           }
          ],
          "contourcarpet": [
           {
            "colorbar": {
             "outlinewidth": 0,
             "ticks": ""
            },
            "type": "contourcarpet"
           }
          ],
          "heatmap": [
           {
            "colorbar": {
             "outlinewidth": 0,
             "ticks": ""
            },
            "colorscale": [
             [
              0,
              "#0d0887"
             ],
             [
              0.1111111111111111,
              "#46039f"
             ],
             [
              0.2222222222222222,
              "#7201a8"
             ],
             [
              0.3333333333333333,
              "#9c179e"
             ],
             [
              0.4444444444444444,
              "#bd3786"
             ],
             [
              0.5555555555555556,
              "#d8576b"
             ],
             [
              0.6666666666666666,
              "#ed7953"
             ],
             [
              0.7777777777777778,
              "#fb9f3a"
             ],
             [
              0.8888888888888888,
              "#fdca26"
             ],
             [
              1,
              "#f0f921"
             ]
            ],
            "type": "heatmap"
           }
          ],
          "heatmapgl": [
           {
            "colorbar": {
             "outlinewidth": 0,
             "ticks": ""
            },
            "colorscale": [
             [
              0,
              "#0d0887"
             ],
             [
              0.1111111111111111,
              "#46039f"
             ],
             [
              0.2222222222222222,
              "#7201a8"
             ],
             [
              0.3333333333333333,
              "#9c179e"
             ],
             [
              0.4444444444444444,
              "#bd3786"
             ],
             [
              0.5555555555555556,
              "#d8576b"
             ],
             [
              0.6666666666666666,
              "#ed7953"
             ],
             [
              0.7777777777777778,
              "#fb9f3a"
             ],
             [
              0.8888888888888888,
              "#fdca26"
             ],
             [
              1,
              "#f0f921"
             ]
            ],
            "type": "heatmapgl"
           }
          ],
          "histogram": [
           {
            "marker": {
             "pattern": {
              "fillmode": "overlay",
              "size": 10,
              "solidity": 0.2
             }
            },
            "type": "histogram"
           }
          ],
          "histogram2d": [
           {
            "colorbar": {
             "outlinewidth": 0,
             "ticks": ""
            },
            "colorscale": [
             [
              0,
              "#0d0887"
             ],
             [
              0.1111111111111111,
              "#46039f"
             ],
             [
              0.2222222222222222,
              "#7201a8"
             ],
             [
              0.3333333333333333,
              "#9c179e"
             ],
             [
              0.4444444444444444,
              "#bd3786"
             ],
             [
              0.5555555555555556,
              "#d8576b"
             ],
             [
              0.6666666666666666,
              "#ed7953"
             ],
             [
              0.7777777777777778,
              "#fb9f3a"
             ],
             [
              0.8888888888888888,
              "#fdca26"
             ],
             [
              1,
              "#f0f921"
             ]
            ],
            "type": "histogram2d"
           }
          ],
          "histogram2dcontour": [
           {
            "colorbar": {
             "outlinewidth": 0,
             "ticks": ""
            },
            "colorscale": [
             [
              0,
              "#0d0887"
             ],
             [
              0.1111111111111111,
              "#46039f"
             ],
             [
              0.2222222222222222,
              "#7201a8"
             ],
             [
              0.3333333333333333,
              "#9c179e"
             ],
             [
              0.4444444444444444,
              "#bd3786"
             ],
             [
              0.5555555555555556,
              "#d8576b"
             ],
             [
              0.6666666666666666,
              "#ed7953"
             ],
             [
              0.7777777777777778,
              "#fb9f3a"
             ],
             [
              0.8888888888888888,
              "#fdca26"
             ],
             [
              1,
              "#f0f921"
             ]
            ],
            "type": "histogram2dcontour"
           }
          ],
          "mesh3d": [
           {
            "colorbar": {
             "outlinewidth": 0,
             "ticks": ""
            },
            "type": "mesh3d"
           }
          ],
          "parcoords": [
           {
            "line": {
             "colorbar": {
              "outlinewidth": 0,
              "ticks": ""
             }
            },
            "type": "parcoords"
           }
          ],
          "pie": [
           {
            "automargin": true,
            "type": "pie"
           }
          ],
          "scatter": [
           {
            "fillpattern": {
             "fillmode": "overlay",
             "size": 10,
             "solidity": 0.2
            },
            "type": "scatter"
           }
          ],
          "scatter3d": [
           {
            "line": {
             "colorbar": {
              "outlinewidth": 0,
              "ticks": ""
             }
            },
            "marker": {
             "colorbar": {
              "outlinewidth": 0,
              "ticks": ""
             }
            },
            "type": "scatter3d"
           }
          ],
          "scattercarpet": [
           {
            "marker": {
             "colorbar": {
              "outlinewidth": 0,
              "ticks": ""
             }
            },
            "type": "scattercarpet"
           }
          ],
          "scattergeo": [
           {
            "marker": {
             "colorbar": {
              "outlinewidth": 0,
              "ticks": ""
             }
            },
            "type": "scattergeo"
           }
          ],
          "scattergl": [
           {
            "marker": {
             "colorbar": {
              "outlinewidth": 0,
              "ticks": ""
             }
            },
            "type": "scattergl"
           }
          ],
          "scattermapbox": [
           {
            "marker": {
             "colorbar": {
              "outlinewidth": 0,
              "ticks": ""
             }
            },
            "type": "scattermapbox"
           }
          ],
          "scatterpolar": [
           {
            "marker": {
             "colorbar": {
              "outlinewidth": 0,
              "ticks": ""
             }
            },
            "type": "scatterpolar"
           }
          ],
          "scatterpolargl": [
           {
            "marker": {
             "colorbar": {
              "outlinewidth": 0,
              "ticks": ""
             }
            },
            "type": "scatterpolargl"
           }
          ],
          "scatterternary": [
           {
            "marker": {
             "colorbar": {
              "outlinewidth": 0,
              "ticks": ""
             }
            },
            "type": "scatterternary"
           }
          ],
          "surface": [
           {
            "colorbar": {
             "outlinewidth": 0,
             "ticks": ""
            },
            "colorscale": [
             [
              0,
              "#0d0887"
             ],
             [
              0.1111111111111111,
              "#46039f"
             ],
             [
              0.2222222222222222,
              "#7201a8"
             ],
             [
              0.3333333333333333,
              "#9c179e"
             ],
             [
              0.4444444444444444,
              "#bd3786"
             ],
             [
              0.5555555555555556,
              "#d8576b"
             ],
             [
              0.6666666666666666,
              "#ed7953"
             ],
             [
              0.7777777777777778,
              "#fb9f3a"
             ],
             [
              0.8888888888888888,
              "#fdca26"
             ],
             [
              1,
              "#f0f921"
             ]
            ],
            "type": "surface"
           }
          ],
          "table": [
           {
            "cells": {
             "fill": {
              "color": "#EBF0F8"
             },
             "line": {
              "color": "white"
             }
            },
            "header": {
             "fill": {
              "color": "#C8D4E3"
             },
             "line": {
              "color": "white"
             }
            },
            "type": "table"
           }
          ]
         },
         "layout": {
          "annotationdefaults": {
           "arrowcolor": "#2a3f5f",
           "arrowhead": 0,
           "arrowwidth": 1
          },
          "autotypenumbers": "strict",
          "coloraxis": {
           "colorbar": {
            "outlinewidth": 0,
            "ticks": ""
           }
          },
          "colorscale": {
           "diverging": [
            [
             0,
             "#8e0152"
            ],
            [
             0.1,
             "#c51b7d"
            ],
            [
             0.2,
             "#de77ae"
            ],
            [
             0.3,
             "#f1b6da"
            ],
            [
             0.4,
             "#fde0ef"
            ],
            [
             0.5,
             "#f7f7f7"
            ],
            [
             0.6,
             "#e6f5d0"
            ],
            [
             0.7,
             "#b8e186"
            ],
            [
             0.8,
             "#7fbc41"
            ],
            [
             0.9,
             "#4d9221"
            ],
            [
             1,
             "#276419"
            ]
           ],
           "sequential": [
            [
             0,
             "#0d0887"
            ],
            [
             0.1111111111111111,
             "#46039f"
            ],
            [
             0.2222222222222222,
             "#7201a8"
            ],
            [
             0.3333333333333333,
             "#9c179e"
            ],
            [
             0.4444444444444444,
             "#bd3786"
            ],
            [
             0.5555555555555556,
             "#d8576b"
            ],
            [
             0.6666666666666666,
             "#ed7953"
            ],
            [
             0.7777777777777778,
             "#fb9f3a"
            ],
            [
             0.8888888888888888,
             "#fdca26"
            ],
            [
             1,
             "#f0f921"
            ]
           ],
           "sequentialminus": [
            [
             0,
             "#0d0887"
            ],
            [
             0.1111111111111111,
             "#46039f"
            ],
            [
             0.2222222222222222,
             "#7201a8"
            ],
            [
             0.3333333333333333,
             "#9c179e"
            ],
            [
             0.4444444444444444,
             "#bd3786"
            ],
            [
             0.5555555555555556,
             "#d8576b"
            ],
            [
             0.6666666666666666,
             "#ed7953"
            ],
            [
             0.7777777777777778,
             "#fb9f3a"
            ],
            [
             0.8888888888888888,
             "#fdca26"
            ],
            [
             1,
             "#f0f921"
            ]
           ]
          },
          "colorway": [
           "#636efa",
           "#EF553B",
           "#00cc96",
           "#ab63fa",
           "#FFA15A",
           "#19d3f3",
           "#FF6692",
           "#B6E880",
           "#FF97FF",
           "#FECB52"
          ],
          "font": {
           "color": "#2a3f5f"
          },
          "geo": {
           "bgcolor": "white",
           "lakecolor": "white",
           "landcolor": "#E5ECF6",
           "showlakes": true,
           "showland": true,
           "subunitcolor": "white"
          },
          "hoverlabel": {
           "align": "left"
          },
          "hovermode": "closest",
          "mapbox": {
           "style": "light"
          },
          "paper_bgcolor": "white",
          "plot_bgcolor": "#E5ECF6",
          "polar": {
           "angularaxis": {
            "gridcolor": "white",
            "linecolor": "white",
            "ticks": ""
           },
           "bgcolor": "#E5ECF6",
           "radialaxis": {
            "gridcolor": "white",
            "linecolor": "white",
            "ticks": ""
           }
          },
          "scene": {
           "xaxis": {
            "backgroundcolor": "#E5ECF6",
            "gridcolor": "white",
            "gridwidth": 2,
            "linecolor": "white",
            "showbackground": true,
            "ticks": "",
            "zerolinecolor": "white"
           },
           "yaxis": {
            "backgroundcolor": "#E5ECF6",
            "gridcolor": "white",
            "gridwidth": 2,
            "linecolor": "white",
            "showbackground": true,
            "ticks": "",
            "zerolinecolor": "white"
           },
           "zaxis": {
            "backgroundcolor": "#E5ECF6",
            "gridcolor": "white",
            "gridwidth": 2,
            "linecolor": "white",
            "showbackground": true,
            "ticks": "",
            "zerolinecolor": "white"
           }
          },
          "shapedefaults": {
           "line": {
            "color": "#2a3f5f"
           }
          },
          "ternary": {
           "aaxis": {
            "gridcolor": "white",
            "linecolor": "white",
            "ticks": ""
           },
           "baxis": {
            "gridcolor": "white",
            "linecolor": "white",
            "ticks": ""
           },
           "bgcolor": "#E5ECF6",
           "caxis": {
            "gridcolor": "white",
            "linecolor": "white",
            "ticks": ""
           }
          },
          "title": {
           "x": 0.05
          },
          "xaxis": {
           "automargin": true,
           "gridcolor": "white",
           "linecolor": "white",
           "ticks": "",
           "title": {
            "standoff": 15
           },
           "zerolinecolor": "white",
           "zerolinewidth": 2
          },
          "yaxis": {
           "automargin": true,
           "gridcolor": "white",
           "linecolor": "white",
           "ticks": "",
           "title": {
            "standoff": 15
           },
           "zerolinecolor": "white",
           "zerolinewidth": 2
          }
         }
        },
        "title": {
         "text": "Hourly Demand per Block in Circuit C0"
        },
        "xaxis": {
         "anchor": "y",
         "domain": [
          0,
          1
         ],
         "title": {
          "text": "Hour"
         }
        },
        "yaxis": {
         "anchor": "x",
         "domain": [
          0,
          1
         ],
         "title": {
          "text": "Demand (kWh)"
         }
        }
       }
      }
     },
     "metadata": {},
     "output_type": "display_data"
    },
    {
     "data": {
      "application/vnd.plotly.v1+json": {
       "config": {
        "plotlyServerURL": "https://plot.ly"
       },
       "data": [
        {
         "hovertemplate": "Hour=%{x}<br>Demand (kWh)=%{y}<extra></extra>",
         "legendgroup": "",
         "line": {
          "color": "#636efa",
          "dash": "solid"
         },
         "marker": {
          "symbol": "circle"
         },
         "mode": "lines",
         "name": "",
         "orientation": "v",
         "showlegend": false,
         "type": "scatter",
         "x": [
          0,
          1,
          2,
          3,
          4,
          5,
          6,
          7,
          8,
          9,
          10,
          11,
          12,
          13,
          14,
          15,
          16,
          17,
          18,
          19,
          20,
          21,
          22,
          23
         ],
         "xaxis": "x",
         "y": [
          149.57987969131287,
          161.47377189535547,
          155.78934965115354,
          155.4843191008576,
          162.34090978605522,
          164.3047341372884,
          185.35567153551943,
          189.9354095574206,
          174.85496337731263,
          155.591621628601,
          168.92820953746428,
          156.67978563963726,
          155.57506407389957,
          164.31199031711907,
          157.1657228600156,
          160.1646672597604,
          176.22502322855806,
          193.12083014254608,
          203.94817049339815,
          218.44094011881475,
          212.94475714914222,
          190.33341416742468,
          168.42296099174874,
          166.58192982681197
         ],
         "yaxis": "y"
        }
       ],
       "layout": {
        "legend": {
         "tracegroupgap": 0
        },
        "template": {
         "data": {
          "bar": [
           {
            "error_x": {
             "color": "#2a3f5f"
            },
            "error_y": {
             "color": "#2a3f5f"
            },
            "marker": {
             "line": {
              "color": "#E5ECF6",
              "width": 0.5
             },
             "pattern": {
              "fillmode": "overlay",
              "size": 10,
              "solidity": 0.2
             }
            },
            "type": "bar"
           }
          ],
          "barpolar": [
           {
            "marker": {
             "line": {
              "color": "#E5ECF6",
              "width": 0.5
             },
             "pattern": {
              "fillmode": "overlay",
              "size": 10,
              "solidity": 0.2
             }
            },
            "type": "barpolar"
           }
          ],
          "carpet": [
           {
            "aaxis": {
             "endlinecolor": "#2a3f5f",
             "gridcolor": "white",
             "linecolor": "white",
             "minorgridcolor": "white",
             "startlinecolor": "#2a3f5f"
            },
            "baxis": {
             "endlinecolor": "#2a3f5f",
             "gridcolor": "white",
             "linecolor": "white",
             "minorgridcolor": "white",
             "startlinecolor": "#2a3f5f"
            },
            "type": "carpet"
           }
          ],
          "choropleth": [
           {
            "colorbar": {
             "outlinewidth": 0,
             "ticks": ""
            },
            "type": "choropleth"
           }
          ],
          "contour": [
           {
            "colorbar": {
             "outlinewidth": 0,
             "ticks": ""
            },
            "colorscale": [
             [
              0,
              "#0d0887"
             ],
             [
              0.1111111111111111,
              "#46039f"
             ],
             [
              0.2222222222222222,
              "#7201a8"
             ],
             [
              0.3333333333333333,
              "#9c179e"
             ],
             [
              0.4444444444444444,
              "#bd3786"
             ],
             [
              0.5555555555555556,
              "#d8576b"
             ],
             [
              0.6666666666666666,
              "#ed7953"
             ],
             [
              0.7777777777777778,
              "#fb9f3a"
             ],
             [
              0.8888888888888888,
              "#fdca26"
             ],
             [
              1,
              "#f0f921"
             ]
            ],
            "type": "contour"
           }
          ],
          "contourcarpet": [
           {
            "colorbar": {
             "outlinewidth": 0,
             "ticks": ""
            },
            "type": "contourcarpet"
           }
          ],
          "heatmap": [
           {
            "colorbar": {
             "outlinewidth": 0,
             "ticks": ""
            },
            "colorscale": [
             [
              0,
              "#0d0887"
             ],
             [
              0.1111111111111111,
              "#46039f"
             ],
             [
              0.2222222222222222,
              "#7201a8"
             ],
             [
              0.3333333333333333,
              "#9c179e"
             ],
             [
              0.4444444444444444,
              "#bd3786"
             ],
             [
              0.5555555555555556,
              "#d8576b"
             ],
             [
              0.6666666666666666,
              "#ed7953"
             ],
             [
              0.7777777777777778,
              "#fb9f3a"
             ],
             [
              0.8888888888888888,
              "#fdca26"
             ],
             [
              1,
              "#f0f921"
             ]
            ],
            "type": "heatmap"
           }
          ],
          "heatmapgl": [
           {
            "colorbar": {
             "outlinewidth": 0,
             "ticks": ""
            },
            "colorscale": [
             [
              0,
              "#0d0887"
             ],
             [
              0.1111111111111111,
              "#46039f"
             ],
             [
              0.2222222222222222,
              "#7201a8"
             ],
             [
              0.3333333333333333,
              "#9c179e"
             ],
             [
              0.4444444444444444,
              "#bd3786"
             ],
             [
              0.5555555555555556,
              "#d8576b"
             ],
             [
              0.6666666666666666,
              "#ed7953"
             ],
             [
              0.7777777777777778,
              "#fb9f3a"
             ],
             [
              0.8888888888888888,
              "#fdca26"
             ],
             [
              1,
              "#f0f921"
             ]
            ],
            "type": "heatmapgl"
           }
          ],
          "histogram": [
           {
            "marker": {
             "pattern": {
              "fillmode": "overlay",
              "size": 10,
              "solidity": 0.2
             }
            },
            "type": "histogram"
           }
          ],
          "histogram2d": [
           {
            "colorbar": {
             "outlinewidth": 0,
             "ticks": ""
            },
            "colorscale": [
             [
              0,
              "#0d0887"
             ],
             [
              0.1111111111111111,
              "#46039f"
             ],
             [
              0.2222222222222222,
              "#7201a8"
             ],
             [
              0.3333333333333333,
              "#9c179e"
             ],
             [
              0.4444444444444444,
              "#bd3786"
             ],
             [
              0.5555555555555556,
              "#d8576b"
             ],
             [
              0.6666666666666666,
              "#ed7953"
             ],
             [
              0.7777777777777778,
              "#fb9f3a"
             ],
             [
              0.8888888888888888,
              "#fdca26"
             ],
             [
              1,
              "#f0f921"
             ]
            ],
            "type": "histogram2d"
           }
          ],
          "histogram2dcontour": [
           {
            "colorbar": {
             "outlinewidth": 0,
             "ticks": ""
            },
            "colorscale": [
             [
              0,
              "#0d0887"
             ],
             [
              0.1111111111111111,
              "#46039f"
             ],
             [
              0.2222222222222222,
              "#7201a8"
             ],
             [
              0.3333333333333333,
              "#9c179e"
             ],
             [
              0.4444444444444444,
              "#bd3786"
             ],
             [
              0.5555555555555556,
              "#d8576b"
             ],
             [
              0.6666666666666666,
              "#ed7953"
             ],
             [
              0.7777777777777778,
              "#fb9f3a"
             ],
             [
              0.8888888888888888,
              "#fdca26"
             ],
             [
              1,
              "#f0f921"
             ]
            ],
            "type": "histogram2dcontour"
           }
          ],
          "mesh3d": [
           {
            "colorbar": {
             "outlinewidth": 0,
             "ticks": ""
            },
            "type": "mesh3d"
           }
          ],
          "parcoords": [
           {
            "line": {
             "colorbar": {
              "outlinewidth": 0,
              "ticks": ""
             }
            },
            "type": "parcoords"
           }
          ],
          "pie": [
           {
            "automargin": true,
            "type": "pie"
           }
          ],
          "scatter": [
           {
            "fillpattern": {
             "fillmode": "overlay",
             "size": 10,
             "solidity": 0.2
            },
            "type": "scatter"
           }
          ],
          "scatter3d": [
           {
            "line": {
             "colorbar": {
              "outlinewidth": 0,
              "ticks": ""
             }
            },
            "marker": {
             "colorbar": {
              "outlinewidth": 0,
              "ticks": ""
             }
            },
            "type": "scatter3d"
           }
          ],
          "scattercarpet": [
           {
            "marker": {
             "colorbar": {
              "outlinewidth": 0,
              "ticks": ""
             }
            },
            "type": "scattercarpet"
           }
          ],
          "scattergeo": [
           {
            "marker": {
             "colorbar": {
              "outlinewidth": 0,
              "ticks": ""
             }
            },
            "type": "scattergeo"
           }
          ],
          "scattergl": [
           {
            "marker": {
             "colorbar": {
              "outlinewidth": 0,
              "ticks": ""
             }
            },
            "type": "scattergl"
           }
          ],
          "scattermapbox": [
           {
            "marker": {
             "colorbar": {
              "outlinewidth": 0,
              "ticks": ""
             }
            },
            "type": "scattermapbox"
           }
          ],
          "scatterpolar": [
           {
            "marker": {
             "colorbar": {
              "outlinewidth": 0,
              "ticks": ""
             }
            },
            "type": "scatterpolar"
           }
          ],
          "scatterpolargl": [
           {
            "marker": {
             "colorbar": {
              "outlinewidth": 0,
              "ticks": ""
             }
            },
            "type": "scatterpolargl"
           }
          ],
          "scatterternary": [
           {
            "marker": {
             "colorbar": {
              "outlinewidth": 0,
              "ticks": ""
             }
            },
            "type": "scatterternary"
           }
          ],
          "surface": [
           {
            "colorbar": {
             "outlinewidth": 0,
             "ticks": ""
            },
            "colorscale": [
             [
              0,
              "#0d0887"
             ],
             [
              0.1111111111111111,
              "#46039f"
             ],
             [
              0.2222222222222222,
              "#7201a8"
             ],
             [
              0.3333333333333333,
              "#9c179e"
             ],
             [
              0.4444444444444444,
              "#bd3786"
             ],
             [
              0.5555555555555556,
              "#d8576b"
             ],
             [
              0.6666666666666666,
              "#ed7953"
             ],
             [
              0.7777777777777778,
              "#fb9f3a"
             ],
             [
              0.8888888888888888,
              "#fdca26"
             ],
             [
              1,
              "#f0f921"
             ]
            ],
            "type": "surface"
           }
          ],
          "table": [
           {
            "cells": {
             "fill": {
              "color": "#EBF0F8"
             },
             "line": {
              "color": "white"
             }
            },
            "header": {
             "fill": {
              "color": "#C8D4E3"
             },
             "line": {
              "color": "white"
             }
            },
            "type": "table"
           }
          ]
         },
         "layout": {
          "annotationdefaults": {
           "arrowcolor": "#2a3f5f",
           "arrowhead": 0,
           "arrowwidth": 1
          },
          "autotypenumbers": "strict",
          "coloraxis": {
           "colorbar": {
            "outlinewidth": 0,
            "ticks": ""
           }
          },
          "colorscale": {
           "diverging": [
            [
             0,
             "#8e0152"
            ],
            [
             0.1,
             "#c51b7d"
            ],
            [
             0.2,
             "#de77ae"
            ],
            [
             0.3,
             "#f1b6da"
            ],
            [
             0.4,
             "#fde0ef"
            ],
            [
             0.5,
             "#f7f7f7"
            ],
            [
             0.6,
             "#e6f5d0"
            ],
            [
             0.7,
             "#b8e186"
            ],
            [
             0.8,
             "#7fbc41"
            ],
            [
             0.9,
             "#4d9221"
            ],
            [
             1,
             "#276419"
            ]
           ],
           "sequential": [
            [
             0,
             "#0d0887"
            ],
            [
             0.1111111111111111,
             "#46039f"
            ],
            [
             0.2222222222222222,
             "#7201a8"
            ],
            [
             0.3333333333333333,
             "#9c179e"
            ],
            [
             0.4444444444444444,
             "#bd3786"
            ],
            [
             0.5555555555555556,
             "#d8576b"
            ],
            [
             0.6666666666666666,
             "#ed7953"
            ],
            [
             0.7777777777777778,
             "#fb9f3a"
            ],
            [
             0.8888888888888888,
             "#fdca26"
            ],
            [
             1,
             "#f0f921"
            ]
           ],
           "sequentialminus": [
            [
             0,
             "#0d0887"
            ],
            [
             0.1111111111111111,
             "#46039f"
            ],
            [
             0.2222222222222222,
             "#7201a8"
            ],
            [
             0.3333333333333333,
             "#9c179e"
            ],
            [
             0.4444444444444444,
             "#bd3786"
            ],
            [
             0.5555555555555556,
             "#d8576b"
            ],
            [
             0.6666666666666666,
             "#ed7953"
            ],
            [
             0.7777777777777778,
             "#fb9f3a"
            ],
            [
             0.8888888888888888,
             "#fdca26"
            ],
            [
             1,
             "#f0f921"
            ]
           ]
          },
          "colorway": [
           "#636efa",
           "#EF553B",
           "#00cc96",
           "#ab63fa",
           "#FFA15A",
           "#19d3f3",
           "#FF6692",
           "#B6E880",
           "#FF97FF",
           "#FECB52"
          ],
          "font": {
           "color": "#2a3f5f"
          },
          "geo": {
           "bgcolor": "white",
           "lakecolor": "white",
           "landcolor": "#E5ECF6",
           "showlakes": true,
           "showland": true,
           "subunitcolor": "white"
          },
          "hoverlabel": {
           "align": "left"
          },
          "hovermode": "closest",
          "mapbox": {
           "style": "light"
          },
          "paper_bgcolor": "white",
          "plot_bgcolor": "#E5ECF6",
          "polar": {
           "angularaxis": {
            "gridcolor": "white",
            "linecolor": "white",
            "ticks": ""
           },
           "bgcolor": "#E5ECF6",
           "radialaxis": {
            "gridcolor": "white",
            "linecolor": "white",
            "ticks": ""
           }
          },
          "scene": {
           "xaxis": {
            "backgroundcolor": "#E5ECF6",
            "gridcolor": "white",
            "gridwidth": 2,
            "linecolor": "white",
            "showbackground": true,
            "ticks": "",
            "zerolinecolor": "white"
           },
           "yaxis": {
            "backgroundcolor": "#E5ECF6",
            "gridcolor": "white",
            "gridwidth": 2,
            "linecolor": "white",
            "showbackground": true,
            "ticks": "",
            "zerolinecolor": "white"
           },
           "zaxis": {
            "backgroundcolor": "#E5ECF6",
            "gridcolor": "white",
            "gridwidth": 2,
            "linecolor": "white",
            "showbackground": true,
            "ticks": "",
            "zerolinecolor": "white"
           }
          },
          "shapedefaults": {
           "line": {
            "color": "#2a3f5f"
           }
          },
          "ternary": {
           "aaxis": {
            "gridcolor": "white",
            "linecolor": "white",
            "ticks": ""
           },
           "baxis": {
            "gridcolor": "white",
            "linecolor": "white",
            "ticks": ""
           },
           "bgcolor": "#E5ECF6",
           "caxis": {
            "gridcolor": "white",
            "linecolor": "white",
            "ticks": ""
           }
          },
          "title": {
           "x": 0.05
          },
          "xaxis": {
           "automargin": true,
           "gridcolor": "white",
           "linecolor": "white",
           "ticks": "",
           "title": {
            "standoff": 15
           },
           "zerolinecolor": "white",
           "zerolinewidth": 2
          },
          "yaxis": {
           "automargin": true,
           "gridcolor": "white",
           "linecolor": "white",
           "ticks": "",
           "title": {
            "standoff": 15
           },
           "zerolinecolor": "white",
           "zerolinewidth": 2
          }
         }
        },
        "title": {
         "text": "Hourly Demand of Circuit C0"
        },
        "xaxis": {
         "anchor": "y",
         "domain": [
          0,
          1
         ],
         "title": {
          "text": "Hour"
         }
        },
        "yaxis": {
         "anchor": "x",
         "domain": [
          0,
          1
         ],
         "title": {
          "text": "Demand (kWh)"
         }
        }
       }
      }
     },
     "metadata": {},
     "output_type": "display_data"
    }
   ],
   "source": [
    "circuit_id = \"C0\"\n",
    "circuit = next(c for c in electric_system_circuits_list if c.id == circuit_id)\n",
    "\n",
    "block_demand_data = {\"Block ID\": [], \"Hour\": [], \"Demand\": []}\n",
    "\n",
    "for i, block in enumerate(circuit.blocks):\n",
    "    for hour, demand in enumerate(block.predicted_demand_per_hour):\n",
    "        block_demand_data[\"Block ID\"].append(f\"Block {i + 1}\")\n",
    "        block_demand_data[\"Hour\"].append(hour)\n",
    "        block_demand_data[\"Demand\"].append(demand)\n",
    "\n",
    "block_demand_df = pd.DataFrame(block_demand_data)\n",
    "\n",
    "fig_block_demand = px.line(\n",
    "    block_demand_df,\n",
    "    x=\"Hour\",\n",
    "    y=\"Demand\",\n",
    "    color=\"Block ID\",\n",
    "    title=f\"Hourly Demand per Block in Circuit {circuit_id}\",\n",
    "    labels={\"Demand\": \"Demand (kWh)\", \"Hour\": \"Hour\"},\n",
    ")\n",
    "\n",
    "fig_block_demand.show()\n",
    "\n",
    "circuit_demand_data = {\n",
    "    \"Hour\": list(range(24)),\n",
    "    \"Demand\": [\n",
    "        sum(block.predicted_demand_per_hour[hour] for block in circuit.blocks)\n",
    "        for hour in range(24)\n",
    "    ],\n",
    "}\n",
    "\n",
    "circuit_demand_df = pd.DataFrame(circuit_demand_data)\n",
    "\n",
    "fig_circuit_demand = px.line(\n",
    "    circuit_demand_df,\n",
    "    x=\"Hour\",\n",
    "    y=\"Demand\",\n",
    "    title=f\"Hourly Demand of Circuit {circuit_id}\",\n",
    "    labels={\"Demand\": \"Demand (kWh)\", \"Hour\": \"Hour\"},\n",
    ")\n",
    "\n",
    "fig_circuit_demand.show()"
   ]
  },
  {
   "cell_type": "markdown",
   "metadata": {},
   "source": [
    "# Simulation"
   ]
  },
  {
   "cell_type": "code",
   "execution_count": 12,
   "metadata": {},
   "outputs": [
    {
     "name": "stdout",
     "output_type": "stream",
     "text": [
      "C0\n",
      "[]\n",
      "[51.4002338382985, 53.57949372605405, 51.89335110920389, 50.21314068264497, 55.07979762982419, 50.21630333412596, 61.79710704277343, 63.591819244918064, 60.121386996886834, 50.5797396792976, 54.61070128633979, 46.82555183763021, 51.96786005048181, 60.74288830500628, 56.828463823780226, 54.40171065400328, 60.63156349254629, 63.572689121222766, 66.10708090886087, 71.14914008383413, 77.05190380151743, 64.5464675087098, 58.591692573344616, 56.659601107135636]\n",
      "[]\n",
      "[49.29248950951432, 53.77441832300665, 53.1196524345574, 51.3156474969967, 56.31496855273576, 50.08240934768088, 58.51039333961863, 63.85391426026443, 58.912859219325604, 54.51606841286696, 59.09444531147015, 51.468986783145205, 50.98449486684505, 48.423870821939964, 50.25520229416381, 53.71768302916552, 60.967376872994095, 68.85055524812145, 69.21708197393552, 76.47013451248887, 66.67218398928912, 61.40740504098281, 52.57940310082714, 56.869066250402284]\n",
      "[]\n",
      "[48.88715634350005, 54.11985984629478, 50.77634610739226, 53.95553092121593, 50.94614360349527, 64.00602145548154, 65.04817115312736, 62.489676052238096, 55.8207171611002, 50.49581353643643, 55.22306293965434, 58.38524701886186, 52.62270915657272, 55.14523119017283, 50.082056742071565, 52.0452735765916, 54.62608286301767, 60.69758577320187, 68.62400761060178, 70.82166552249174, 69.22066935833567, 64.37954161773206, 57.25186531757697, 53.053262469274046]\n",
      "C1\n",
      "[]\n",
      "[41.270038015866916, 41.321575986396404, 46.410392507771796, 38.63232882286665, 37.94060632015883, 42.156252204356896, 47.97167217937448, 60.60980455424032, 46.2612143320543, 45.31632461729281, 42.841141443566755, 40.44808991043672, 45.866224251025976, 41.91643702826825, 42.45271801683896, 39.38604600286563, 42.351765181497484, 47.962627262626526, 58.626989615676976, 59.01133577778789, 60.86765222861816, 47.89141410594824, 45.24724169024587, 44.285585947772475]\n",
      "[]\n",
      "[42.00246484651286, 46.14492849566779, 44.204443550232604, 37.09659316937107, 40.74887693640146, 41.75779527859252, 48.278720892160294, 47.415527372625576, 44.24352879335397, 37.80343116561917, 38.3201921068265, 45.12408283735747, 43.00656155609162, 41.869480758755515, 42.585923798755324, 42.79662130171227, 47.7984711146548, 57.50843203106501, 56.03699514992847, 60.63717331013943, 58.33047189350546, 52.38250078986644, 51.144478230722726, 43.71832678087678]\n",
      "C2\n",
      "[]\n",
      "[44.041840842199754, 39.07396705473856, 46.971108170838846, 39.92796468558131, 40.845944133337106, 41.813221625691924, 46.52036165688206, 54.87750130678385, 44.82566708885251, 41.4540196855175, 43.61719196152726, 38.20956893683782, 38.54619786959447, 43.80746158350362, 39.2862491305762, 43.545962024407366, 43.54550353500601, 48.74692071409757, 56.743174286165456, 63.12802619874981, 61.20592661369965, 53.40325639724681, 51.41878229502862, 40.72341167446334]\n",
      "[]\n",
      "[37.61516121891119, 43.94098540511079, 42.53359411731033, 42.74706823121333, 44.79882951207812, 42.58496783619972, 49.60725799839824, 49.6712048502231, 47.1442132701457, 41.55875156897533, 44.77855702435165, 43.0801849264595, 41.481596219631676, 40.64169438901754, 39.22807503401198, 44.30643767725302, 44.65287285730365, 49.0798435894312, 54.03287429705617, 59.780491551908504, 58.16514032568794, 46.957357297745844, 46.284030570216224, 37.62783645096314]\n",
      "[]\n",
      "[43.39695923228524, 39.819584051318536, 40.16101926550148, 42.04507510290426, 40.1563504730342, 42.23489916834057, 44.450824549676526, 49.29545330487816, 46.30005546992963, 45.683188188469124, 40.33331456451395, 45.128949291220614, 42.82686827662392, 38.58064255146415, 41.67965163088824, 43.900215639720955, 43.93977720483093, 52.621212426024655, 58.20508409558667, 66.54917895062995, 58.34057000754532, 49.96277508536479, 44.034697398962855, 42.30713047936107]\n",
      "C3\n",
      "[]\n",
      "[51.64913225695663, 47.58586266741487, 49.805335894851765, 50.643633492117296, 56.46267773184743, 50.376978394041565, 64.52358430253781, 61.730683939935844, 59.42962439144246, 53.94685506958695, 49.634899427511876, 56.141031076629, 53.47913728254516, 51.89877761883292, 49.170691046668644, 54.147755479151925, 61.88280779673938, 66.65761831369699, 67.7354694456526, 73.91375958046194, 71.79475788881908, 60.22043600566792, 56.03894269274894, 54.93528977979069]\n",
      "[]\n",
      "[53.902404564286094, 48.507609819083946, 52.270920056962595, 53.516191790255654, 51.97891678041007, 51.25671756807993, 58.411803979220785, 60.3197250799469, 65.2549155336875, 53.56810753170556, 50.66565902723536, 49.32276874278566, 49.11827726253958, 48.879818724452534, 50.07774078094446, 50.67305960704015, 56.754314268860945, 62.09385953955964, 72.18234546876363, 68.82260670380904, 70.75295284576704, 60.092300945120925, 60.70826251601773, 55.24289205865343]\n",
      "C4\n",
      "[]\n",
      "[38.8922280818501, 36.92534029027251, 36.96721695433703, 35.0781364722961, 38.06854234876247, 39.74281099140642, 41.42230823600849, 47.67028604633154, 44.53282811237021, 37.06095171438666, 43.08595570188567, 35.13585090115298, 36.77130548802453, 39.58151418303811, 35.4601659878623, 36.33489869962656, 37.25048708167954, 38.91133606035834, 49.81013064139617, 53.824823728273905, 48.13053645975101, 44.54906555789882, 36.920847103481286, 35.89681262461817]\n",
      "[]\n",
      "[34.652913746017205, 36.23578403583783, 33.94763781672779, 36.762172489791965, 36.10864803227248, 36.061646592146055, 44.0930479954683, 46.71262222877496, 41.60987005583546, 38.4831721900439, 37.71182782662789, 38.845953021990674, 37.39712119083759, 35.13392822890689, 36.55582839217346, 36.19111262493202, 35.15647154558672, 39.187484785110705, 52.40386192496763, 57.427507806592544, 48.93059666757816, 41.31293652874162, 35.70289454764087, 40.896011916277345]\n",
      "C5\n",
      "[]\n",
      "[16.784056211687535, 20.541392809929373, 17.463317958406957, 17.16733203143002, 15.574997439219876, 18.111897032958495, 22.55209610636931, 26.866297280812276, 25.253014582264168, 19.44126593467505, 15.661912005846538, 18.69557518613481, 16.81243195680653, 16.966926579917423, 17.584146733812705, 16.63722353908276, 19.95481965711, 23.481589637696004, 32.843795973121566, 37.02318682090091, 32.57228518329924, 22.142315129792777, 19.826452116287584, 18.91404259973612]\n",
      "[]\n",
      "[17.037779242482024, 17.91605060910239, 16.913430292568044, 17.008052377974437, 15.871345381281937, 18.486658676868444, 23.49350997670869, 25.715035474598977, 24.16705120812156, 17.583379020554382, 18.328497675526403, 17.327526964589865, 18.859185965347805, 16.941334327433008, 16.410687594201118, 16.505050497643055, 20.42281528927215, 24.935220026104354, 30.94402252746209, 37.37212145993148, 33.70475317401659, 28.044637016975493, 18.496419818654125, 18.27515255106396]\n",
      "[]\n",
      "[17.579915075246547, 17.951464879487343, 15.372655614260829, 17.635998784888898, 16.330180889857974, 18.271371907812792, 24.121988658398923, 25.862634945643016, 23.46102008793782, 16.174517031886612, 16.013090735740857, 16.730547437557995, 16.839443516579564, 18.35629840341213, 17.28276495841367, 17.893442042867427, 19.0116706160471, 24.34294956384519, 30.58425754261994, 38.8103897618656, 31.639835986913926, 25.872302988221676, 17.88965741530354, 17.09865879082121]\n",
      "C6\n",
      "[]\n",
      "[15.976115007153442, 14.60253894549288, 15.473922656809558, 13.552648183137547, 16.28642741252146, 15.6560817494958, 19.89492721493144, 24.582357871266055, 19.36505662338609, 13.944408243834275, 13.951838721336555, 13.38143779055847, 13.586631541725234, 13.616396753293243, 13.447754851105824, 14.7156081702616, 14.367564306159187, 19.17099202067551, 27.442385028265136, 34.91115888723753, 27.83321003457438, 18.751430468664086, 15.878450761442425, 13.351696807422533]\n",
      "C7\n",
      "[]\n",
      "[35.844274516023084, 35.04654999698892, 44.5539889011733, 37.696031949773165, 42.729131152294634, 37.84257450387634, 41.157296724271035, 46.308779239044036, 43.217171089766296, 37.60037106206997, 37.95764686333213, 36.00685166785246, 37.90819437093801, 37.55114217309072, 35.19076366939972, 39.71461048019877, 45.08796198945054, 49.74437939171056, 53.4911253981459, 64.70961627483828, 54.07966048091383, 50.11983564249606, 39.82394513429428, 39.20772849511945]\n",
      "[]\n",
      "[41.30561239137371, 38.891983509562, 36.497187881208916, 36.344885595770656, 40.88219832538819, 39.534752003129206, 42.29598996276948, 55.682405920822774, 42.53183455014974, 39.29963158338349, 38.089609973335634, 37.19440094642782, 38.99763948393906, 36.46759149044088, 35.777300358309745, 37.62400747553542, 47.00697918209988, 47.359923354471306, 57.693540421208965, 56.449430399990895, 54.72573344569952, 48.37400518484696, 40.410894939197895, 47.633215443179]\n",
      "[]\n",
      "[38.64364056105759, 37.2092765656244, 35.96833040809725, 35.69560177741736, 33.67588113468758, 37.10591764221072, 46.367207952284105, 47.14555651234546, 47.01067446840892, 39.92957553785117, 38.18185657292607, 37.33049739934346, 39.20095016867686, 37.58467909512542, 38.308225348997624, 44.2439244586424, 43.06429806962894, 50.078252504852465, 54.270695849224666, 58.05554578322568, 52.66958960849743, 48.17539147328831, 45.659769745845004, 41.916797921345655]\n",
      "C8\n",
      "[]\n",
      "[9.78338235163942, 8.767010627159255, 10.065466570577367, 8.63586926023046, 9.033107782420458, 9.43734391793362, 14.674675355392298, 18.121734864574584, 15.38725248759418, 10.184246481318182, 8.963494399273113, 7.781839299366406, 7.772468526028086, 8.902230011397632, 8.819965115367967, 8.662787867138032, 8.282527565289163, 12.838633465773395, 22.197561177358498, 29.510017456326146, 22.355187666375116, 13.177229850626084, 8.889288696656532, 8.474268378790878]\n",
      "[]\n",
      "[8.46398950098554, 9.342969452574284, 8.644435569735766, 9.3126642069654, 8.683420793376786, 10.468663010694602, 14.095130123071776, 18.609014763886826, 14.33660249223373, 10.210712569114733, 8.922796532906473, 8.628514424211954, 9.5472712984788, 8.210204571117737, 8.487993448579942, 9.140700990237546, 8.85017998333016, 12.806527080210055, 22.850849211486555, 28.62608798497603, 21.894772214052537, 12.620691033707224, 8.8092415777488, 9.731419675038936]\n",
      "C9\n",
      "[]\n",
      "[54.36038302101112, 43.25067411461158, 47.1222513462092, 47.36799862081421, 50.170774611305205, 54.12356102824036, 54.15995684208701, 60.924457641015806, 51.904510640253534, 49.99269224927389, 47.04760896902152, 44.91404107505156, 59.55473742774677, 50.08008493206673, 45.246410060994606, 49.77578172253045, 46.627833317307655, 50.571758677754474, 59.99331581414901, 69.20139271813736, 59.244202440719896, 51.03467693753272, 50.33172008045107, 47.33369934476922]\n",
      "[]\n",
      "[45.501716229074404, 47.39542366095363, 49.739984524224525, 43.763172091235454, 44.44477558247437, 48.357351373037595, 51.28624991286411, 58.15510891473191, 54.05725041884543, 46.690513034194694, 45.896582281675315, 47.384395148657745, 44.56277709131828, 46.11217660666418, 48.35663306532666, 45.95404823664299, 49.16217351223728, 53.277289698046374, 68.4583169931043, 68.66118065728227, 59.478879806917796, 51.128058307307654, 50.840144999661426, 48.7374591418602]\n",
      "[]\n",
      "[44.48421842655605, 46.5604880211142, 47.52681791427953, 53.11265779515045, 52.7183765564777, 49.53328721045891, 53.144858458071354, 55.181900777210615, 56.15446556092287, 46.45779468772832, 46.56592645053499, 49.517905849148676, 48.34010563447732, 47.61219479938057, 50.71395693226205, 49.36047879776428, 47.548230566434135, 55.194738189653464, 58.12122946769388, 65.81705831285133, 63.85888291712184, 49.89828647586144, 45.232411081082915, 42.219059309573794]\n",
      "[]\n",
      "[47.084413869065685, 50.5403627550317, 45.659634920167576, 47.43216058685522, 47.45650877533124, 44.653545820954335, 51.840326782538654, 51.98280927403208, 52.08084367893987, 48.217658366007754, 49.092701521708875, 46.15337163799765, 42.23619579268603, 51.5776944390286, 48.32942978706535, 48.377803039555296, 52.309718901611525, 55.8124762796858, 61.15701134538178, 68.97409245819622, 61.961525832065746, 53.54847971042136, 46.437281502061985, 50.726519884462235]\n",
      "C10\n",
      "[]\n",
      "[70.16501799237666, 53.24331996235079, 49.854931316920094, 50.6426050290338, 52.71026403382178, 57.48350076444366, 60.84910004813584, 65.51331244768497, 56.605291084007135, 56.791538087265266, 50.06764946330294, 65.3821538695595, 53.92957642712439, 49.915313581688885, 58.00805529663924, 54.581444264136216, 55.65648034281907, 59.8835523789423, 67.44248131490296, 70.93730679644189, 67.50684091821039, 57.70803120971104, 61.352223566112805, 55.16701921431915]\n",
      "[]\n",
      "[56.97112979575046, 51.8083427949499, 56.05780873738769, 48.07355391122277, 59.544917075659136, 53.657272443547114, 58.02318874911542, 60.73494959424983, 58.33274265623544, 56.350423184018, 60.0200835954155, 49.62844345834498, 53.9239523574315, 58.792732349742266, 51.023456074556314, 48.4706252509305, 60.65768384263983, 61.33932601916548, 65.45564216586172, 68.36491578370101, 65.7458176380782, 59.16442636514671, 57.96567186084588, 50.04089617851562]\n",
      "[]\n",
      "[59.05810514009487, 55.971310840485245, 55.9127832940593, 51.338195832286054, 61.157837859840804, 52.33905064503691, 59.70262308170885, 56.59511401319939, 58.919325680216645, 59.393750157159786, 57.083247120530075, 55.61571901753569, 55.40503209971385, 53.386843658796224, 53.01328555883334, 53.800160398918315, 52.024572367621545, 60.51039503338423, 72.58845055638092, 75.05230399302856, 71.75842515927621, 60.96189290827823, 54.98556599876968, 51.84106735089798]\n",
      "C11\n",
      "[]\n",
      "[37.17633306267279, 42.7033257036076, 34.16823288322284, 35.54406186628983, 36.43127831595265, 38.713741060984034, 43.77577503747602, 48.35088327414819, 42.434128591043894, 39.176131646916545, 34.16544790154435, 35.35782333632642, 35.11785479554576, 36.45113663769218, 40.6582111744243, 36.102807385184896, 40.079112933945645, 41.31983549105495, 53.61517495568857, 57.439359803585745, 51.11486206000039, 41.52627836781571, 39.11030066687792, 38.76396721738563]\n",
      "[]\n",
      "[37.07641455191641, 35.927417838071115, 35.24135642823386, 35.76033048300557, 38.768190671619806, 35.483905868416805, 43.015726171730975, 47.01245828781688, 44.490735559690386, 38.08684650440257, 37.72945894377174, 33.42805832721865, 37.527925529196935, 35.15444493584466, 38.27745715204603, 35.508372148368096, 34.63844346619021, 43.706654313358385, 51.39372895094509, 56.18605532687332, 50.24705995455744, 42.992538547494135, 36.69887837499682, 36.306839029727115]\n",
      "[]\n",
      "[37.5453462030327, 37.45517850586199, 37.49946438443426, 35.62528209636128, 38.37864833030087, 37.44507370859374, 41.94955556070168, 47.62103762804935, 40.18045164576831, 35.23318881954279, 37.89157610037123, 37.28878106272876, 35.108688367103, 33.89188529642938, 36.67187025372799, 41.42275866752602, 37.78201432546904, 47.04095958053676, 53.936595769084995, 53.57557567461465, 53.411875221083704, 41.30152012039844, 36.954945837388486, 47.447827862674]\n",
      "[]\n",
      "[41.07905117431644, 36.35639655190974, 37.127087368899865, 37.168982529409924, 41.922238861681755, 35.84883888968991, 42.38657228962033, 45.97743905176681, 39.80398413280077, 37.45575461278759, 39.959904689997494, 38.8405588942423, 37.40302230531751, 37.75626445568539, 37.33259756964256, 37.26225859088913, 36.87491345661476, 45.59134484967554, 50.96452297429066, 54.74142239246, 58.145819180974485, 43.47120870644423, 38.89974437581946, 37.4623590271293]\n",
      "C12\n",
      "[]\n",
      "[43.65327055706695, 42.93099309942595, 40.31051613198946, 42.63665669291162, 40.167511590207575, 41.70540739170674, 46.87840992552678, 50.177531463513255, 44.817318170274675, 42.81264436166053, 39.74133698026479, 37.33974173907728, 42.06562373991153, 42.878800523503, 47.80999476252983, 42.992311493174356, 48.83455462776316, 48.04849213349043, 56.56407079325854, 62.202247957687334, 55.78650890541919, 47.575933380822164, 41.31372519858265, 41.69240604548012]\n",
      "[]\n",
      "[39.771143324625925, 42.4038817841351, 39.28384371756034, 43.57934727034475, 41.53989593563821, 41.209083099562704, 50.79111742792142, 48.68851675406803, 49.14130172684139, 46.023457750466065, 46.05071774117843, 40.20348677308871, 42.36190592419635, 42.452885621772424, 37.5622211332333, 43.22888186305262, 47.80130814417557, 52.51728047950384, 55.947919051312674, 57.96418524529507, 60.987332813255804, 47.75684348430356, 42.13165594890358, 40.32263763270346]\n",
      "C13\n",
      "[]\n",
      "[23.158703439548738, 21.324796735915804, 21.790025253306617, 21.686014245872073, 21.41400363013896, 23.290644815599435, 25.812806278574076, 33.569123343821175, 28.58023091959085, 21.278269291123507, 21.743402519487695, 23.886991114443344, 20.52264890554023, 21.500895176151037, 20.598589130280928, 20.68490381286132, 18.845443421881896, 28.10692217212962, 33.69710918285228, 40.03709439120304, 36.14754426609802, 25.863256980147682, 23.47918421334316, 20.860035601203762]\n",
      "[]\n",
      "[19.753637751998173, 21.87504840336623, 22.338516930426604, 20.073663865112465, 23.21882902179016, 23.906802496885078, 31.925498212861992, 33.35179366814373, 27.608705502152727, 23.379245966153807, 23.729585580786626, 20.522006360210877, 22.235631091492134, 19.824279964052675, 21.74662405111592, 20.542476995850404, 20.95071787876191, 24.755844925114772, 39.46517658375449, 42.977529796012305, 33.36908818659753, 25.545676538216366, 22.019510697965536, 23.76075803588396]\n",
      "[]\n",
      "[21.486759645788915, 21.13196959203695, 22.204820236491997, 22.192425455719846, 22.624815460103548, 23.356407783332873, 28.26891829478382, 34.06519125538781, 28.759414512790674, 22.90906931028345, 22.09230621056154, 21.707941990369285, 22.750462707489017, 23.977377357068498, 22.70770080555284, 20.006188963240053, 19.870322092851964, 25.238751549286178, 33.2654726616941, 40.434560283738534, 34.46378619555677, 25.975016702198843, 21.31594856641362, 22.293322484202555]\n",
      "[]\n",
      "[24.943094578327294, 21.829361641917856, 21.9946956933953, 22.946238552535757, 24.193679123391693, 25.500191279891006, 28.51334440705887, 31.422658076835074, 31.23694841081597, 24.335901125255504, 21.805102585663487, 22.614150845819417, 19.874782236722258, 25.520858167597716, 20.481285979285452, 21.27244547724166, 22.781796284678613, 24.850008272687134, 33.99542986744042, 40.61067057902269, 33.365252916109675, 24.891440578116146, 21.09854831457446, 21.892473752748337]\n",
      "C14\n",
      "[]\n",
      "[20.981182932805723, 21.885853920186495, 20.67290491521058, 21.646798275453104, 18.53175684569045, 24.086205923981694, 26.113444817384096, 30.872139890699483, 26.26482087058504, 22.06077624095819, 20.028904284792684, 21.79597465007903, 18.57838226687983, 19.108668977813863, 18.631623384585765, 22.67805838325508, 21.201633253011074, 25.579465977910708, 37.424228352778734, 41.04327784195499, 38.90923798508726, 28.513922552008502, 21.35487308505773, 22.58447024282544]\n",
      "[]\n",
      "[18.358908538496213, 20.112099996499133, 19.66626761483601, 20.39220874815525, 22.4617763703458, 21.38681820100353, 26.911536180848092, 29.07270465072977, 25.728100058381003, 19.423350528722235, 21.226263459682638, 21.184029282242072, 21.011275055037185, 22.663134490501115, 18.588103530423407, 21.84792313014637, 21.84736181203045, 28.57286614031434, 35.40414097482446, 39.67112136945626, 34.19659239072488, 25.647115136241332, 22.8368209530942, 20.13801810611189]\n",
      "[]\n",
      "[20.95911873567257, 21.556900428908797, 19.445397745643795, 22.39362651494052, 20.178318281483424, 24.346555050428037, 25.7488470575443, 31.71833725867768, 27.93993700182743, 20.7763781369928, 20.19388494503961, 19.90884494442235, 19.962568156602828, 19.66163481350961, 18.656229502462185, 19.34680309067859, 21.399628314691945, 26.471084074638085, 38.12014571369715, 40.12457898106109, 33.61321677154722, 29.166550155476422, 20.089761619576542, 21.582556693794274]\n",
      "C15\n",
      "[]\n",
      "[31.52383343505505, 31.241801059819615, 32.35579660085516, 33.03038800694406, 33.268568243656205, 33.50694362418131, 36.39281165881792, 38.94101212380239, 36.671608063897075, 30.285302561248997, 31.030206367396524, 31.088441141715887, 31.18874158925547, 32.53895730328001, 28.971651809256276, 31.03700641424436, 34.452588205115454, 39.2261446016153, 44.55029979648661, 48.911216786293174, 46.10986230486061, 38.51323693312784, 33.919223825656545, 31.516180753800814]\n",
      "C16\n",
      "[]\n",
      "[57.63192718048139, 57.71034149923283, 56.7582802697597, 52.15211326385309, 52.165157475904614, 56.019286101006955, 57.56736875445306, 67.55784387130291, 61.772748674729435, 59.090297559227395, 58.05756319829674, 55.556067320799926, 54.94640032615277, 56.67934360083634, 50.54679464109302, 54.429804640036735, 57.92517756290002, 67.63830407243319, 69.57780662005686, 72.81438032766117, 77.18196036983643, 63.33090233319908, 59.00524586507262, 59.23978289884454]\n",
      "[]\n",
      "[68.04637914444575, 59.87696668658227, 58.24186642468409, 60.04276513600953, 63.20185119342424, 50.524123907730875, 61.81565069842216, 64.4858767995311, 58.547692322539326, 56.24873010719055, 57.6960758227004, 52.899801424624386, 57.18429766409232, 50.442388607890535, 54.69106322904604, 57.8893803652407, 56.736062617913525, 66.1514403026912, 70.36509369430411, 78.05728685686518, 78.87056258848092, 68.30172448139676, 60.71395664507157, 57.64381980210931]\n",
      "[]\n",
      "[62.0149147839892, 52.54271785022595, 55.42801859840604, 60.25602256147332, 51.011234591395684, 59.07834863847821, 56.802579418780525, 67.93773099080803, 62.31468584705909, 56.88867350193965, 59.634957633230876, 49.95045237436888, 57.647895709824404, 57.90071603843097, 51.382306658445074, 56.97083124990018, 59.24499479808021, 63.905898022786104, 74.48892726359234, 71.75717415977248, 79.53511365835445, 63.50346055811609, 59.10240655004295, 50.72179172646844]\n",
      "[]\n",
      "[57.060691752737675, 64.53542111348253, 56.90274981988081, 57.95597834191323, 56.37482014235398, 55.103228885985786, 60.43227028970345, 64.53492713934077, 60.161286848829924, 55.276840249499095, 58.20876545361074, 59.65281224085362, 60.45672550629308, 56.84987496026945, 52.822004124703554, 56.50104998036369, 61.08030894537537, 63.888819842162064, 73.50125348071896, 74.84239810235343, 65.89143698208296, 61.1594190408491, 56.597012113379456, 55.351808362393655]\n",
      "C17\n",
      "[]\n",
      "[14.128297637894802, 14.694642308498496, 16.351093484702936, 14.284595716564759, 15.284883963122748, 18.189839788653753, 22.898424479774395, 25.965867416404578, 21.413371398876404, 16.649504708994357, 15.976430378574065, 18.14408651286332, 14.22126582933669, 15.037360728824156, 15.45786799894872, 16.967174563518338, 21.290526518545594, 26.700875374560795, 32.22058889021804, 36.64204411949166, 32.52655896291712, 25.459561141728905, 19.94133994418827, 16.37095163871744]\n",
      "[]\n",
      "[15.498266196647625, 13.888984914994882, 14.659289582462213, 14.991882341107297, 17.245242055185674, 15.909497977091522, 20.22067644920151, 24.303854399680237, 21.219249298051135, 15.44924794859039, 15.591214262180314, 16.043964421850706, 14.850996830573797, 15.344864031215694, 15.5637534938457, 17.555121656210932, 19.29792127409455, 25.123614206225255, 34.34602055681118, 34.31746027993533, 32.69199740885458, 26.603952850725392, 20.303046819177446, 17.823126102917985]\n",
      "C18\n",
      "[]\n",
      "[39.35208823160166, 42.37446604854292, 38.31419277731259, 38.90873602913502, 38.17923549755306, 40.480024900126025, 43.13848019536124, 44.481321786382146, 49.89215739496664, 38.23047815495841, 38.957010930316315, 36.728390274375144, 35.99199151662344, 43.81151754851497, 41.61508101435264, 39.62141373977729, 42.46155960785401, 47.343028085694044, 55.858334092382286, 60.04616842144968, 59.45990589862272, 46.48645303475159, 44.49435827787972, 48.19276701608994]\n",
      "[]\n",
      "[34.05147588830811, 37.6233295569914, 35.42741226574425, 38.663072352221384, 39.78168976251332, 47.84209319829199, 42.144647722928426, 52.39961209233437, 40.32240198114214, 39.30980881022275, 42.061828057637996, 41.23869909474035, 38.32936122940017, 37.422337940176355, 43.55793335230468, 37.9282135737312, 42.66390521109397, 43.92296844573286, 53.356216610823964, 56.970333795681995, 58.111428656053604, 46.17534615881216, 42.21130606835809, 42.49890873253785]\n",
      "[]\n",
      "[38.2120197526452, 41.13417694027273, 38.757899244872874, 47.45769253630538, 35.444013817070264, 43.992034189540604, 46.33751235682, 47.455591618274944, 47.26340380458435, 40.53240131310969, 39.42768239356382, 36.98745617671986, 37.005494720620675, 42.585271379002215, 43.82679302061742, 40.76272352885318, 41.933916054300674, 47.21128956622215, 52.47842413863187, 58.76595018561535, 54.21201457612722, 47.02937026926804, 38.40122619699312, 41.54463452140619]\n",
      "C19\n",
      "[]\n",
      "[33.9543123909878, 32.91899733000525, 33.30655944966878, 32.93979576341662, 30.438642347130493, 32.580893739836604, 41.338060469303144, 43.010122465033106, 41.91223570989639, 40.75337823544103, 32.39727642456035, 32.415369963180375, 32.51849596859498, 32.88451143049373, 33.707973508261034, 32.78401181562873, 31.887706317797, 32.825615632776724, 45.17016360173295, 51.38007416297593, 48.69932113755962, 36.1236694937493, 35.48093632546116, 38.190913451514646]\n",
      "C20\n",
      "[]\n",
      "[17.183363169634404, 17.823587983046952, 17.07938614588617, 16.740569427274366, 16.50606437579364, 18.70612835016992, 24.19319461198693, 26.99142602215223, 22.051583539125176, 18.213589446702237, 17.1228142163988, 15.881977568438298, 17.889197346266986, 19.112246663226028, 17.613070070714443, 16.384563761725122, 19.335361169650735, 23.715872487117096, 32.50837266669698, 36.1130796218645, 33.3752267855247, 25.910790643731374, 19.30695518171125, 16.43017169833104]\n",
      "C21\n",
      "[]\n",
      "[26.20332064085319, 24.018268016544788, 25.23263496129901, 28.466500701444073, 26.751078751080552, 25.689982580409573, 32.13316016791312, 35.77860954099541, 33.93857684869677, 27.864613977782657, 27.731018469713014, 25.573450944856056, 29.432075632221757, 28.632573507535394, 23.690845005542627, 28.41405589618851, 29.98815022665304, 39.87517916399598, 43.652548336699454, 47.476069762513255, 42.67955049834006, 37.32888410358039, 30.79639709680569, 26.62575262755207]\n",
      "[]\n",
      "[25.300672217547472, 29.532285139380235, 24.722014627912223, 24.797778824045146, 25.359937800294745, 32.47140968614794, 29.300859393901487, 35.825933690764025, 32.45587090165019, 26.9751960058804, 26.302115137917333, 26.896189657887923, 26.358334156602485, 25.784798098585224, 30.33175207052513, 26.621081200011904, 31.032214388067047, 40.23597284771813, 45.31590599147981, 52.90878490992761, 46.81604973011376, 41.91127109628887, 36.062706049328405, 27.733423214988807]\n",
      "[]\n",
      "[29.277932151662107, 26.03820880962831, 29.31698412814943, 28.76441756203845, 26.292018874648956, 25.099629251693788, 32.67667986998217, 36.32070490613527, 30.391792390377418, 28.877687561677806, 30.629411092901677, 27.993677940056628, 28.79581070680138, 26.205751531476597, 30.114470486467543, 28.81062654599729, 30.996371760404216, 37.4277268811706, 44.07689856556644, 46.286630178518806, 42.38351517399592, 37.33489582279026, 31.961882571764797, 30.937844216022963]\n",
      "C22\n",
      "[]\n",
      "[16.46882713502613, 18.823694780506, 18.07155946840755, 17.55428047198197, 19.3068626897069, 21.265996509954718, 23.535055073021365, 28.148498911389684, 23.221804321319574, 19.937352031546965, 18.92616522459104, 18.009784153933712, 18.045541892480546, 20.045002607307175, 18.83101868239034, 18.238951153359867, 21.561752738790318, 26.22463293046563, 34.26935688221694, 37.19546908391615, 33.4477754041058, 26.858934509145303, 22.135335549357492, 18.677195964612213]\n",
      "C23\n",
      "[]\n",
      "[25.11536512668746, 25.488859933159546, 27.03082432243918, 25.89398100555895, 24.490116567900987, 28.696790825298983, 32.824224803181764, 34.51417857853699, 31.276323628502933, 29.397996314666415, 25.834138853057393, 28.591614725367677, 25.548579842124525, 28.449761622215103, 25.703912426451822, 26.110628224964973, 29.07475646992595, 35.708419176613276, 42.04049865173002, 45.16808293232122, 43.54574266677619, 35.12132243923412, 32.98037135111172, 28.319201688249485]\n",
      "[]\n",
      "[27.16633477153139, 29.91442508890259, 27.367776888440723, 28.099035432389464, 29.893961485958943, 29.45201755302793, 33.7628689714401, 35.9088012384481, 30.76815524840451, 29.75686925254821, 24.138259279046057, 25.386824122548088, 26.49660002741272, 28.303390637413496, 23.97756093230217, 25.34756722576919, 31.906348694884798, 37.17527540188024, 43.40358551527858, 47.90577184386052, 41.41608057765572, 36.607007742562004, 31.42960314317173, 26.160172773916855]\n",
      "C24\n",
      "[]\n",
      "[33.41514778646977, 30.030052315199647, 31.941040001945346, 33.154999235261336, 29.621535963445755, 28.505054427713326, 36.89992270771765, 42.9282958575883, 36.22620610743316, 30.858938381771917, 27.86772916440573, 28.687353894049693, 27.842282718810438, 29.1373769847607, 34.15284695573097, 27.20672039700938, 30.432581501556275, 35.87276199985218, 49.0851108590756, 49.07019070539678, 43.86274911228753, 37.28519823872637, 30.54191706136916, 30.582169702066725]\n",
      "[]\n",
      "[26.446733106319904, 27.518815917235656, 27.59373286511604, 27.118716857144364, 28.36718706098701, 29.08379848191003, 35.7572039142876, 38.5510889486704, 36.292793747786504, 30.698647579617276, 29.03020746125153, 28.14682228831056, 25.23078036228972, 28.55892336584323, 27.791303047250707, 33.21228971198063, 34.292902905853865, 37.320991119385674, 44.00470092146452, 48.38714958239328, 45.508808768368894, 37.841048210114835, 26.930459363497835, 28.054464975044176]\n",
      "C25\n",
      "[]\n",
      "[31.269737513366785, 34.84267360147988, 38.17548102422484, 33.32624703553805, 34.61880310473563, 36.971218438604346, 41.43834119039488, 41.41289128661707, 41.02283938954531, 34.483031033106045, 34.87355847492048, 34.41641203073224, 32.756517229623235, 33.47502141382466, 31.155792650345475, 33.35223513854105, 35.82628369713218, 38.19805122174405, 48.1755533520708, 55.300733554918985, 49.912672109068964, 41.28629171644056, 35.364189034267014, 34.361269703557696]\n",
      "[]\n",
      "[36.06306029092375, 33.669827311141844, 33.106131549945886, 33.66953413527054, 32.46868862112488, 35.88795530366909, 38.93625802063487, 43.90152418442207, 44.50916670603611, 35.737645451277594, 34.77032851247127, 34.75960551020577, 35.19302704435087, 37.11605509828958, 34.41155110637866, 32.47166272853935, 34.26594484537449, 37.108124746914044, 41.438750847410944, 51.316256585095715, 46.31298804940003, 38.73966380117541, 33.26744710626615, 38.67796357412185]\n",
      "C26\n",
      "[]\n",
      "[32.56382730074639, 31.302386993749245, 34.834294916752555, 31.04948225152636, 29.388013791225102, 35.89901223766219, 37.41717539495267, 42.33995385186177, 39.51313578655431, 34.78494454070762, 33.680347570781706, 31.34898866925384, 31.437894171885297, 35.18086978490757, 35.827425268983305, 35.7596885059001, 41.43778420657203, 45.80285518176718, 51.87420609508712, 55.664247061616635, 50.04632909798411, 43.97606261130271, 40.50313548199165, 33.90430807564137]\n",
      "[]\n",
      "[34.14202255932832, 32.63112784885185, 33.14940808745895, 34.192285703624215, 33.34455433792037, 32.889326024637754, 40.10056662563755, 44.607550805394396, 39.37135449915126, 33.91230291153813, 34.502765404746384, 31.89131285931644, 38.14724126058238, 32.17334521790856, 36.39303000273382, 34.85702254020805, 40.591868986127025, 44.3271866227864, 48.14173881034057, 53.716144001971955, 50.62809815483463, 45.422433277229416, 40.049738393408205, 38.22196103616305]\n",
      "[]\n",
      "[30.47240192798917, 30.18461136243697, 33.763585629283085, 35.560073319106394, 33.0571908273484, 36.77441548378589, 36.76453252185787, 42.7476056787774, 39.61393360419695, 33.120510289053925, 33.63203669393704, 33.34024297176266, 32.924368526992474, 35.23724862216041, 32.91346873158091, 34.739520111686446, 36.002760236253174, 45.84752747194879, 49.93366639628384, 54.73549612525756, 50.969366517647416, 42.30859702387843, 42.74350168834927, 34.726020216756496]\n",
      "C27\n",
      "[]\n",
      "[33.11639998897618, 30.86012901862727, 34.47460629368938, 32.36256291380666, 29.86789725679009, 35.965626610718616, 38.885107001285355, 44.61903126385713, 40.04364402035796, 38.044441000757836, 39.684079614241384, 32.56163052597432, 35.24114374541042, 30.1419561404828, 33.926865778267604, 35.88924066550436, 42.31387398094829, 42.2070416599082, 51.7395093469224, 56.31724350212396, 45.94187460063841, 50.28656149069084, 36.09850642412358, 33.05808666632471]\n",
      "[]\n",
      "[37.652055974708595, 30.74213384127792, 33.791508884818654, 29.011772279793956, 31.811132981358533, 35.99363682110308, 43.85981427253062, 42.677103343116535, 38.89370472214338, 33.11795285372892, 34.78153186472448, 31.552902276907243, 35.65983343596911, 32.90252764947403, 36.868934809675686, 32.608310144810666, 35.783677854961184, 42.23561513850781, 45.730761280954326, 57.47286501530775, 50.138420313224884, 44.957914601371456, 35.5389364941142, 36.1673726849522]\n",
      "C28\n",
      "[]\n",
      "[52.32787794366456, 58.75220573259235, 55.13826139522867, 51.29653480291518, 53.703116959771776, 48.758796213816716, 65.78211975571757, 68.6828062460795, 59.841703963600786, 57.6022141906074, 59.15891809835263, 54.860190170076294, 50.96995712278836, 57.01283013260619, 56.6088228785086, 53.75029967049703, 59.702261692928914, 65.85873862238988, 74.6253166101463, 78.94798011499428, 72.40770318987082, 63.0988798045996, 57.87263018088336, 56.60328996527063]\n",
      "[]\n",
      "[53.90649388291866, 54.25278772577118, 58.2830500589116, 54.945615190868, 47.80277130750349, 55.78852582886097, 56.87763460341924, 70.44946579226436, 59.95559107079459, 56.06657718760495, 55.85148491816967, 55.30008357184503, 54.15475575341144, 61.43387015236924, 50.518955667665324, 54.95106301623904, 57.43233895956729, 67.56806369714508, 72.19893415559633, 80.19578526034783, 65.96439176953723, 64.30013550254564, 58.44674807741028, 56.17313558952563]\n",
      "[]\n",
      "[58.84160328310404, 66.10289386681754, 58.239994525538286, 53.37538852936411, 51.340495499322, 57.814785085607724, 65.81824272359302, 64.60833981832326, 61.24202027291978, 51.68344202094371, 56.54713869974323, 56.05420506095174, 52.40767918118353, 56.078193016803, 54.32792454728388, 55.48570083484178, 61.70091868545038, 61.22447954280611, 68.5926394983421, 72.1025569654263, 74.09154283654809, 61.73299130637427, 59.10904482291483, 55.35950311130656]\n",
      "C29\n",
      "[]\n",
      "[50.68245309811133, 50.895158037231305, 47.926185708672136, 48.83120426018015, 46.930944185981176, 47.63515975444987, 48.534248875415855, 62.030563420483105, 54.20105311093636, 48.862587249046385, 44.42227116599372, 43.53325165847618, 42.9229886193307, 47.62198920488157, 40.898608346399456, 42.43311560622165, 45.04693499473563, 51.05185550997005, 59.98488733212335, 72.09983886573086, 54.78266625261476, 50.102473000846025, 49.525245666817966, 48.911197533801364]\n",
      "C30\n",
      "[]\n",
      "[42.611420764748466, 42.443622316215375, 37.961340328859976, 44.80689517974169, 44.51851632893736, 41.00998982206252, 46.99787347408654, 49.25405281003393, 47.571629834389675, 44.52876769001523, 41.747324616944425, 39.896902312596076, 43.577396258894936, 38.37905045728201, 43.25346499649686, 46.55979148030436, 42.47639993983522, 48.12667832127993, 57.689495078608104, 62.08660835970929, 59.113228166156276, 50.88891593047099, 47.27346515157136, 39.783471959615646]\n",
      "C31\n",
      "[]\n",
      "[32.03922680298399, 36.943244706402446, 30.46938598881419, 32.33224293117686, 36.260388221388624, 33.174817958190275, 39.95688642569386, 37.864332215604875, 35.55149317054589, 34.11704041802335, 37.52524160301897, 31.746566522338092, 31.58656963065983, 36.066163154938245, 31.37484542259265, 33.50749019726961, 36.784966880262154, 43.48613762499805, 47.376853894354895, 53.377775635598454, 49.44492806004405, 44.53280683977103, 40.733294584224005, 36.78080870563146]\n",
      "C32\n",
      "[]\n",
      "[36.90988310168691, 42.33663861960819, 36.19410304060672, 37.88891616536538, 38.01780959625618, 39.34056218497697, 43.651421653640966, 48.81694403315859, 46.72060690399195, 44.14109526345162, 43.69334774546399, 41.781833367409064, 38.65650716930777, 44.73060721846025, 38.41855616610392, 38.84147231411306, 46.633023041472875, 53.050968942317155, 57.43779910288242, 60.51822311768758, 57.80561193520214, 50.07272795062569, 46.102027183312174, 39.342734839875426]\n",
      "[]\n",
      "[43.13767952539394, 37.615898534028275, 38.33057587198049, 40.82574960151216, 42.19666112248013, 46.88216307747265, 44.95914515768426, 51.63579821334032, 45.014146478818006, 41.83645574886467, 40.417042161782874, 40.08222584634678, 38.560340726903405, 38.67334072366511, 36.37476972490139, 42.672385838590515, 45.23977492088295, 50.45862319533282, 55.46279400116515, 58.942424761332106, 56.442706978818016, 53.11073575575039, 45.1233631027077, 43.99886391452537]\n",
      "[]\n",
      "[36.65596847231996, 44.33713350385016, 38.135442323453994, 36.63429617541633, 35.644536261843214, 40.07100156813295, 48.39008464785299, 50.199103583804934, 45.78687827802699, 44.30522986430124, 40.30817877586885, 45.87034475598706, 37.72792065665058, 43.750749801532294, 44.998862820213766, 41.38629383917981, 43.78519262565679, 50.59418675006166, 59.96506434038377, 60.19625397945348, 55.986371697973844, 52.01463965515947, 45.30676485251344, 42.79252768918553]\n",
      "[]\n",
      "[37.09460420601382, 42.684455093622375, 40.998598780860455, 38.85505419210372, 40.06046996501627, 39.182517599148994, 47.218048855998134, 49.61179026956222, 46.771279689549885, 41.485158014460936, 41.74588876676415, 39.91694359555753, 40.54051136787032, 43.17433417712796, 40.216736581470855, 43.99883523923417, 46.19205107732438, 50.76036639365936, 57.909025042285045, 57.61426915642032, 55.24540322986017, 53.84253912908996, 46.065857981036146, 42.01621456961527]\n",
      "C33\n",
      "[]\n",
      "[49.84589458242392, 51.72527631561161, 45.21110323200942, 48.52419763654698, 47.014524494442234, 53.65547983666241, 58.85250459390424, 62.07656619142078, 53.02382115144753, 48.826350940629275, 46.95381225202729, 49.399626746812906, 50.40224452983317, 50.76348862653791, 50.236438581643505, 47.76845394453599, 49.079059783555465, 56.39093294582955, 65.10585212417752, 65.38020141602003, 64.58479136214513, 58.71395577538555, 50.9321176343735, 48.88740417997289]\n",
      "[]\n",
      "[48.61568013585056, 52.1617360726535, 50.670298014707974, 47.36910577627065, 52.82476958803584, 49.20595723522189, 56.538892535931325, 59.03810240438188, 51.98490397488937, 45.908635941641414, 54.369982321676986, 46.56060756251917, 47.255960858900444, 47.49564127324933, 47.62030922297807, 52.288947940278234, 53.74631288389446, 55.17936298332276, 66.07492809151563, 67.44743468876491, 64.47859666888353, 61.41407277873354, 54.30558031494317, 47.40185952764576]\n",
      "[]\n",
      "[50.32526173467107, 45.90417980123086, 46.59333602461857, 51.325756361645766, 52.16686449640471, 56.16209978734713, 54.42343025793009, 64.62823741227052, 57.612052171976394, 48.24498983234995, 46.73528804661585, 46.52985823474144, 49.36713847318295, 49.507124278973826, 49.311386303811155, 46.64844069037089, 48.341935273177654, 54.804791808992675, 63.016615700818186, 68.93106275488178, 63.299983515862806, 68.77523529509598, 50.36449379006642, 49.91929888261319]\n",
      "[]\n",
      "[45.25685112575814, 45.83102947731845, 48.110408611984866, 45.056239424145666, 51.85078356419363, 50.72194296470446, 52.07549239490403, 60.39697931709074, 53.07353604920126, 49.494882409772494, 49.44616796976837, 45.031464385616985, 52.76802349764615, 48.59974193893363, 47.966035185524525, 47.055140635278306, 50.00805564702512, 53.678203116768586, 61.36754310270762, 65.79697095896326, 62.121374357482885, 51.53314919569896, 54.516920736170675, 49.39973332864726]\n",
      "C34\n",
      "[]\n",
      "[48.56665729920058, 49.134616542709736, 55.65670734965041, 49.34556249906621, 50.025770966592376, 53.32508634634378, 56.23217407397294, 67.66113711701271, 59.88155874202703, 51.06096217414178, 53.72724381728375, 52.04690928490837, 50.474427014892406, 52.38392698938418, 49.93281960685163, 50.96545062425685, 66.2590941422732, 64.99904908996999, 64.9865287201966, 69.65675398693318, 64.57626372393528, 58.65244119540186, 61.99618726826185, 55.67057762555532]\n",
      "C35\n",
      "[]\n",
      "[43.80991232446919, 48.85396503202147, 44.730283135048104, 43.36464728870221, 45.398770429909284, 46.82612482720671, 47.97605918146705, 58.305967117749105, 51.0622060693246, 48.07239786628981, 46.07722677564973, 44.016261404291356, 42.30203555308009, 43.67603949556181, 40.920462139283664, 42.65161702176488, 44.08252026189685, 48.51837998892266, 58.740235062838394, 60.6231449298077, 59.661054233914655, 48.95549017001314, 45.446790440946835, 45.46965817958902]\n",
      "[]\n",
      "[43.245126236209586, 46.812949107445654, 44.92304383439557, 44.979518698290306, 41.76659623660212, 47.99584148780906, 52.58274014191811, 54.75135078750782, 49.055749056869686, 45.97061441604757, 45.80424027021602, 44.12375350076706, 45.36727835680401, 41.6099148204425, 43.530173128705165, 43.48505859996759, 48.27477090485544, 50.015808563601354, 60.88648070285034, 64.81975111320747, 62.65690968662665, 49.013486967870044, 46.385718034851244, 41.27107301691328]\n",
      "[]\n",
      "[48.849284583382754, 41.59322865622668, 46.155449685351215, 47.269435610147184, 51.62973952563308, 45.77793816041993, 52.43977697837053, 56.39868392086406, 48.939660286011474, 47.98202488229586, 43.65742346709514, 49.74897392447684, 41.229381485689906, 50.30069103061126, 52.85223330986131, 42.93035313747181, 48.28520961645733, 50.153074179607174, 56.38133221326341, 67.15764757630474, 60.44980107201945, 49.28159070625846, 41.409078457004185, 46.94728423673273]\n",
      "C36\n",
      "[]\n",
      "[56.479926716239454, 52.60792297259112, 53.442162956644744, 59.06166646724242, 59.22821006113261, 52.65171709664067, 56.811850761044184, 65.75723227690212, 62.2970044682669, 54.281793431726534, 62.23723509604235, 56.96471221292068, 56.913432174866145, 54.718861612526005, 55.20632543269959, 53.18607045818198, 62.733624635368884, 64.73570491847941, 74.57781843384396, 75.8207265495002, 67.84458824410363, 70.30318998395192, 62.670257209870044, 60.36126018518656]\n",
      "C37\n",
      "[]\n",
      "[51.81602217480602, 52.94751333101559, 50.35153101849758, 54.368474861425796, 62.67250003853791, 56.76719506751752, 60.91682901476413, 68.1146551232559, 61.47486423125988, 51.524771777341606, 54.083446147806534, 50.36134255835908, 52.30268955837049, 59.094401114223935, 52.84299006456717, 66.07649263346254, 55.00586821022047, 58.710422118023715, 70.37567643384176, 77.70404140264003, 64.72997627575126, 60.89030248713682, 56.005521906206766, 56.67170971078553]\n",
      "[]\n",
      "[51.944887953206326, 51.5721345233566, 55.296725696939276, 54.93167977297615, 58.869762101014764, 54.73846578201588, 58.59915054025885, 60.25927223955299, 63.2479949929102, 56.642706154727335, 58.21719790227511, 51.65769588193386, 56.27843079395897, 51.86949962028315, 52.330019843917896, 57.3867028747951, 57.90065688417677, 69.26776065399153, 79.97290495939833, 74.50699302520337, 70.4452278305892, 60.37259865964958, 62.526170649676914, 52.62373238293741]\n",
      "C38\n",
      "[]\n",
      "[35.85899502689096, 39.616490432989714, 35.11572136081334, 37.493449080989876, 36.21473656123238, 37.9465982881269, 45.154596263554254, 46.258050205587104, 44.30193781143244, 45.517015346359294, 37.47965395845038, 36.158559214996785, 39.002025048188514, 39.56047691121852, 37.850039600295744, 36.34106358665962, 37.785757582414924, 41.084534450929155, 54.1711257318398, 61.73552627596753, 55.12029237299356, 43.213242906622, 37.43743145121285, 37.25078393861954]\n",
      "[]\n",
      "[35.88210848905437, 36.22443792748228, 39.60762721395816, 40.264203116497036, 41.41695183939351, 41.303365793131896, 38.697480473570934, 48.923785404985225, 43.64372659779198, 39.877007887272455, 38.57471165728592, 36.54276839540893, 39.27702774336754, 32.397988428862696, 43.065899776313145, 37.33545921163235, 37.30078626207256, 35.90423480856717, 48.61803715770607, 54.424606967999374, 47.32720535158861, 39.71155364162324, 46.050974478097295, 35.203406212457786]\n",
      "[]\n",
      "[40.30257032108776, 37.07064305647244, 40.14333761807541, 36.08916925520649, 38.816107327263104, 40.88705018176814, 47.004313127389224, 48.55075990160179, 49.29900183602895, 43.873459138360786, 34.7278742383018, 36.32952261584988, 36.54489656501302, 38.966616146212225, 37.90505095311891, 38.212780779560106, 39.795081483789474, 39.101824897704105, 49.60529876203164, 60.43661745591872, 50.8932899308908, 40.6161800166373, 37.62984653469872, 42.99146719731444]\n",
      "[]\n",
      "[41.494772906362364, 42.34970936004765, 41.143543519384224, 36.02698594782675, 34.06071590183346, 40.178597329912414, 45.59667838610534, 45.833338481580725, 43.31066318828893, 39.796938786796595, 39.41360591778374, 36.42313977868849, 34.706161129941606, 38.93834381781004, 38.251557783495294, 45.49857250902787, 36.94948887986507, 39.60237538673185, 58.929713487249856, 54.59170319599336, 53.23988385109116, 42.15193302362458, 37.72858910079987, 36.59474530937475]\n",
      "C39\n",
      "[]\n",
      "[49.81247986629953, 44.99678206169866, 40.79310543925269, 46.30669751910501, 45.847501463662496, 51.28377781749384, 52.59046143661723, 58.968816339477975, 51.67326778637907, 45.314533261635034, 50.127965839304274, 40.58192924178948, 41.60921405370061, 43.5608735653523, 45.57841764336543, 44.33803485046252, 51.41343631465762, 54.431877762985366, 62.82658095337673, 64.30976368227672, 61.29694283166064, 50.62584300359639, 42.317428560867306, 43.40843415091332]\n",
      "[]\n",
      "[43.50521973608091, 44.92168344190742, 50.9460306860901, 46.37876687832962, 43.9724766805143, 46.83538902120279, 51.39255126102272, 52.93470629045703, 49.78220355401308, 50.387874220041454, 49.60992715107444, 46.02993236910055, 44.68140182933268, 46.41117440744534, 45.29342628056064, 44.123565812774444, 50.047529460562764, 55.32389562660181, 58.86009626118599, 64.74607667385405, 62.89615695115016, 47.81765068160861, 48.53222692470829, 49.104574339240884]\n",
      "[]\n",
      "[42.66148207416479, 45.46746395024048, 39.33433102740858, 52.67665484415186, 42.590366909135035, 46.71923723353676, 52.99086699225674, 55.028822772769594, 48.8402165325606, 47.07637405040125, 44.88768394692088, 44.140698786547475, 45.723998962734186, 50.76061420174462, 44.97640211568621, 43.52409948040041, 44.36737512376318, 54.588038487158585, 59.75873437815167, 63.00145354381286, 58.22138082681132, 60.71396215152073, 49.52562191619618, 49.47683086226655]\n",
      "[]\n",
      "[43.48361137683201, 46.098695218618225, 41.39437599912459, 44.109211451762576, 46.8730673644037, 42.79849676873606, 48.51890224787141, 54.5454034153552, 49.70563604567474, 50.34169306617917, 44.72008125237027, 45.32368006112474, 53.61767491169501, 43.92365016452744, 44.98527651838302, 44.18965904297313, 47.542363766819, 51.900756999150744, 63.99475594458475, 66.80040882437666, 59.52084593925226, 53.55922163937903, 42.57067006820481, 43.757645477816645]\n",
      "C40\n",
      "[]\n",
      "[8.47252078240067, 7.042133269557805, 6.800291351122394, 8.060407467119672, 7.75440784664648, 9.770595603887951, 14.054780558125092, 17.765040758001717, 14.472185415099567, 10.136286207439317, 7.904845873848593, 7.2745725713333425, 7.630195461364315, 7.464574050997979, 7.914499835186189, 7.434361103443048, 8.160620062131112, 11.484787105492545, 21.254409949170274, 28.68725097860188, 21.39986171553717, 11.543519088380139, 7.522579911105718, 7.694184224280016]\n",
      "[]\n",
      "[7.756167050055121, 7.99508768730196, 7.6952898181848415, 8.02125047027234, 7.762188197993297, 10.056464183021024, 13.468191701549078, 18.130105734281038, 13.908436212109756, 9.107959461635561, 7.134754431952788, 6.858357535708681, 7.656313062487472, 7.686167715363278, 8.661965394225831, 8.52556462850161, 8.56509942677093, 11.11953454910602, 20.77466453983027, 28.669389878928524, 22.157604004517214, 11.455171231980039, 8.333893792645704, 8.13038372680377]\n",
      "[]\n",
      "[7.547588789519298, 8.358214097586352, 7.833945223892318, 7.472790560367903, 7.525106018651316, 8.942216918548871, 13.250259107767109, 18.160771248999993, 14.936196645923113, 9.560082459369696, 7.731792291258103, 7.727244847300884, 8.082584221868032, 7.538507820692382, 7.876731241424403, 8.648769779892394, 7.395832287601074, 11.000682893503114, 20.772419099685262, 28.27355967273457, 20.39741649818604, 12.412036723245066, 8.794363364545408, 7.7290456756945325]\n",
      "C41\n",
      "[]\n",
      "[39.857301937468286, 46.51383134094092, 42.36410972438708, 41.128238819977604, 46.25019695398681, 44.157462350641794, 51.37624566276956, 49.06388873199293, 45.71141446574134, 41.13685731070453, 50.0360934642901, 42.99417346200248, 40.49209802858752, 47.35909953436063, 42.17041286376011, 41.23002044821542, 42.33274789416879, 42.05069502494056, 60.84015733726536, 60.09070581143506, 51.256339470696595, 41.66023018963741, 41.10684972010983, 43.18347291414309]\n",
      "[]\n",
      "[42.73386283098332, 44.29173628599064, 39.96563827566088, 37.18206273953074, 43.580756485239206, 43.985728321137934, 47.732079673164165, 48.62295108249255, 53.91876040435106, 41.68290853195193, 42.11549464483614, 40.765837256330414, 40.66241654793304, 41.347549699492596, 47.09134270477113, 39.06169687327158, 47.83491556527349, 52.61572312930647, 60.73352273949714, 61.2512794209149, 49.95391676571116, 48.56983230209252, 40.47650614572447, 38.15776565376541]\n",
      "[]\n",
      "[42.02679417642092, 42.80539249590041, 40.11909660984081, 40.41590241582881, 39.39488601850882, 41.37172958294096, 48.58203969316257, 49.412370038830986, 46.52034862341334, 42.29753363666303, 41.11519285211573, 41.76353950133921, 47.606887362173836, 40.38847733355183, 36.3189163001281, 44.73661597813399, 44.410313065718924, 53.37030138757918, 52.80979872003996, 61.78279790194309, 53.89576942023307, 43.67160726745066, 40.085676501510626, 45.49496519660004]\n",
      "[]\n",
      "[40.4172098641064, 41.26528134606084, 56.23030102195828, 36.52234878631939, 40.48577915878236, 44.768997975020156, 45.306975021670524, 53.9603300768606, 47.664080187717175, 41.87630012128686, 36.84710650153314, 38.9066074355346, 38.7837223809159, 38.39774497477213, 43.439655294036264, 41.85597387570878, 42.03482027555389, 46.91828105951287, 55.046254411567965, 60.4725285364584, 54.47519800342322, 46.85654810220445, 39.61424115299918, 44.17211229748017]\n",
      "C42\n",
      "[]\n",
      "[37.34920802861513, 39.61833958801095, 36.35032686154591, 39.21749962022845, 39.03025204006375, 40.664611484339645, 45.647429887704256, 49.97325919336985, 47.0614276251359, 38.154948226964585, 41.90108169873079, 36.709541118699434, 39.289154616900305, 36.16842051978918, 40.44458156786703, 41.798068761634426, 48.001841167916645, 52.33342195445808, 56.607715875952174, 60.98522721417855, 55.96052145509854, 49.50368140594077, 46.370745831075105, 37.9263255350817]\n",
      "[]\n",
      "[34.524888405874414, 41.46440009993573, 37.79221865693054, 38.34523748528943, 42.61768837514043, 43.282994123816316, 44.57453319699527, 50.473037591550955, 43.36926633775095, 38.45552233089805, 41.32158983363347, 38.155461033338014, 36.21601125855792, 36.487207004183624, 36.45281202407403, 42.607251629038316, 41.64116619369269, 50.886026004261716, 53.90690072827226, 56.92207075346725, 54.86680649686708, 50.463119503076875, 41.09664646908213, 39.14378831622877]\n",
      "[]\n",
      "[37.26186836479668, 35.240103725928996, 41.062332576809396, 42.235452223663835, 38.97681359741529, 38.479415604699255, 45.222556221689864, 49.63792277252876, 48.990086108012044, 37.7402373000429, 38.65010185411112, 37.28230683291454, 37.469037277355184, 36.818066509128116, 40.14255293728687, 42.732028363879486, 41.48714136098917, 45.244394846904754, 55.33744645324871, 58.60277977636149, 57.974617332610286, 49.89933353906785, 45.68736144706401, 39.81735930555115]\n",
      "C43\n",
      "[]\n",
      "[11.790227083725698, 11.856479805265028, 11.512274549579075, 12.851655203479497, 10.904968551651399, 12.19349043809311, 17.896016248662303, 21.540389705299702, 18.694989017850293, 12.81290812480492, 12.438289666516276, 10.778747648685373, 11.577931316400418, 11.330635205253117, 12.390935498888389, 10.397348100714868, 11.910013659072586, 15.085212848665027, 26.26729691218042, 31.884085755089096, 24.45013731474182, 16.16566783350102, 12.396891537619169, 11.30085719759243]\n",
      "[]\n",
      "[10.437363092227445, 11.556410771122806, 13.122796591177408, 11.659253282131404, 13.837142177321875, 12.613738418424681, 16.965649707810208, 21.624468673677278, 16.81776644139118, 13.054391486263135, 10.910417108185678, 11.03580042942223, 10.9191286474213, 10.645639994042995, 12.633437144139013, 12.139912733774239, 12.383665901663731, 15.46324093461576, 25.189225298195403, 32.62591798718808, 23.915118735221572, 16.36998127820088, 12.093026788422645, 10.903869883471279]\n",
      "C44\n",
      "[]\n",
      "[36.750048259066, 39.82987069420026, 31.70952642828525, 33.89661286044181, 32.55430158774622, 42.20172461676176, 42.479871593447385, 40.94122147476934, 39.05480733046577, 37.421225279612905, 33.90833000284192, 31.33157945287397, 34.72898994001625, 34.65887967662503, 39.32226220615984, 32.75194485927018, 35.5417744274745, 43.69107939617585, 49.06265296096207, 60.47725280161862, 51.39711820528335, 45.66146574612384, 42.555055925570784, 33.588056375061946]\n",
      "C45\n",
      "[]\n",
      "[28.293548839765943, 31.656644720602248, 30.754198731455297, 28.815435511098826, 29.661604157901657, 29.364604644987534, 34.58839581631412, 39.124504789969116, 35.53518616224078, 31.045298713702316, 30.6097639513547, 29.222110270384263, 30.076977813743014, 30.978013184500554, 27.932330455673757, 30.70564047166907, 33.790357583111934, 41.331922614687606, 46.37964518723115, 48.668694519871465, 47.7869037215939, 42.727169725649006, 33.064361433637096, 33.23276711462502]\n",
      "[]\n",
      "[28.88749511089977, 31.030720168235618, 28.500449037407854, 28.887286599297425, 28.42262387442397, 32.359770676379114, 34.55637536597799, 36.87725377435779, 33.81713632177166, 32.71579121699469, 28.374185886579312, 27.934272943232173, 29.902242894632693, 30.036591576974075, 28.279089240411842, 30.873547384200982, 37.54138458510067, 41.99570385601166, 48.27590410632517, 49.749430615847366, 48.08134979601956, 41.060679351202474, 35.23769117233465, 31.396446152946957]\n",
      "[]\n",
      "[29.708119992218855, 27.98101458823698, 33.192760981516855, 30.57671766215272, 30.297203591233668, 31.039306737566687, 36.53210843662543, 37.32960525259393, 38.996533390016154, 30.796332199768077, 31.38360837249609, 29.40540996491579, 28.162048082624096, 27.464253913734716, 29.94414571240692, 31.507635975422055, 35.29501319750382, 40.034608516059436, 45.399451369625254, 48.061193806008646, 47.44023274798721, 37.93706208055118, 32.35351797925417, 32.029926102324765]\n",
      "C46\n",
      "[]\n",
      "[51.0993528490448, 44.344271695463966, 46.81066665543502, 50.23911549012272, 45.50609674648421, 48.08004541396935, 50.26181595666735, 58.84244638938491, 56.42370559761429, 47.73123181383063, 44.95472584537404, 46.55988715096421, 45.5694177411465, 46.4920689763691, 47.496360982273124, 49.57002350903653, 51.27501552159046, 54.85459651097011, 63.62409910640724, 66.3764189382652, 65.85037365263695, 55.9956723246226, 46.962860308378566, 46.80887762128518]\n",
      "[]\n",
      "[50.69976332178874, 49.67761984653503, 50.727228442591304, 47.01893400689621, 46.34263222416468, 52.49745170634698, 55.885378145761194, 55.06372599273814, 54.2221623934292, 45.950099961195214, 45.7042153745745, 45.540404328924666, 50.353484351195696, 48.69269990836355, 49.669759468710495, 48.729997855297995, 45.94072609179407, 51.52471991554455, 61.00139260044598, 65.57706201829149, 57.16775970937198, 55.30161460875862, 48.38107605293418, 46.47816841650878]\n",
      "[]\n",
      "[49.25825996983986, 48.66786840373255, 44.13440350759244, 47.60809096084471, 43.80210772495942, 50.75400464383578, 54.95543503197361, 51.78579099736528, 54.69755759869757, 45.90135826844822, 46.3059667727786, 45.83510230381367, 47.12283519148355, 44.1007202353628, 43.86396405314289, 44.83583910251622, 49.86511008472387, 51.1144567080669, 61.38199223405519, 68.79291212197322, 64.52745406541142, 56.75866824838256, 48.51423574787372, 49.837946353810494]\n",
      "[]\n",
      "[49.272462876749735, 46.0520851630967, 50.494549018537825, 43.46477572526867, 46.10855318746023, 47.56319589960415, 56.99875328286912, 54.95749441030852, 53.62116157398434, 48.70089047772714, 46.51115364548576, 46.59359858351915, 44.992498063306535, 44.60322492423782, 46.045821109914876, 46.69418895179996, 49.7802177579801, 52.84658478389447, 66.56296391568372, 66.03677848893608, 59.685766935337185, 54.58843123170283, 51.70208918458541, 45.23109729698035]\n",
      "C47\n",
      "[]\n",
      "[26.832852612420012, 28.48101984194879, 27.7135853615791, 25.482019080718054, 27.308801123444603, 30.061595174815793, 33.5722226100948, 35.92742172850595, 31.24556505004422, 29.623946469308088, 27.942464207007973, 27.57072136455046, 24.458588067276974, 26.415986287066236, 27.536040712566777, 27.862866496027912, 34.42309359311038, 39.90190898957722, 46.44960064215007, 48.671074924859404, 44.79746583747378, 39.11191506125881, 33.15037724860601, 30.012884951643308]\n",
      "[]\n",
      "[27.155151312954928, 29.632857867340775, 26.898639863849777, 26.31261400147621, 31.318470609363136, 29.204999654746146, 31.935845984679375, 35.24430787337557, 31.84144696461499, 26.77082129619493, 27.05243047720767, 27.42413248981232, 25.635302091331454, 26.12543115369535, 29.53462022442382, 27.569370502410187, 35.427573683005434, 40.13687385041217, 42.08339091660546, 46.82576737329395, 45.51254417945031, 40.487915031428145, 33.68459784836855, 31.75429688133803]\n",
      "[]\n",
      "[27.599288730667766, 25.59253181970611, 25.764313342193812, 26.90271259133821, 27.040584296713266, 27.37132368133342, 36.83355528789338, 35.949114729602606, 30.79952080213536, 31.482733764790815, 29.88692166147937, 25.73917271112448, 27.339557094167944, 25.311904430670285, 28.3688851855233, 28.587228604675275, 33.539818360759554, 39.2579982056319, 44.014602716817286, 45.12806717402653, 42.82824617191529, 37.74149277641645, 32.80424234312817, 30.300061412546825]\n",
      "C48\n",
      "[]\n",
      "[29.070065054617505, 24.739339092229983, 28.432806867512603, 27.290126902181914, 28.38770380298608, 28.86291897320636, 30.292481872682025, 33.60591506932598, 31.582959598025727, 24.026415917220703, 26.935088717512627, 21.547984134956057, 24.399427344079207, 25.587192119469165, 23.426212518134335, 26.332697744635308, 27.90604920576599, 32.25261039655334, 39.5977158348655, 44.60079983908097, 38.399118541645805, 29.283789167624363, 22.234588777088792, 25.86696334325377]\n",
      "[]\n",
      "[28.561141893073675, 23.548239641789834, 24.77361208379002, 24.151240982985232, 24.597547546067748, 27.002148754810435, 31.33354887853916, 34.103209003532335, 32.82301270596572, 24.408994096261836, 24.542478698455827, 26.782759332267286, 23.753381709197082, 24.538949442286572, 23.234768749289564, 23.540362680014223, 23.254050482704262, 28.39655877608811, 36.30199152644589, 45.18490507953758, 35.941012342158686, 24.566242186035446, 22.689043408298144, 27.02295567620804]\n",
      "[]\n",
      "[26.222032139756067, 24.18214514403409, 27.664276668276827, 26.49072421396459, 24.74565705903751, 25.249153462623035, 30.163811895189685, 34.92838198282782, 28.119566027737353, 24.379204572551874, 24.257351305482903, 26.868174723705312, 25.271244698519094, 22.94463536197038, 26.947368673337138, 28.163898680909192, 29.13552895401174, 28.4187573831807, 36.978739730742895, 43.83935097185815, 35.41355146485974, 25.753173164789256, 24.335000519152995, 23.712749816926888]\n",
      "C49\n",
      "[]\n",
      "[26.151086322721465, 26.72358809661906, 26.408064644730423, 26.490017754681336, 28.300084522572277, 28.696406263240522, 30.45293974553237, 35.64521181080931, 30.8611024851165, 26.191140186406496, 27.730022681095424, 23.654424355752685, 24.41642343181714, 24.918737806205428, 24.846941739560485, 25.609477866894903, 26.524564872597043, 33.975394196841236, 41.31955855286757, 47.632931805623976, 40.98896796937849, 34.353623351497426, 28.038486098118533, 28.134000857522274]\n",
      "[]\n",
      "[24.801361457728962, 25.273276155782963, 27.744491101038406, 25.07747660869518, 26.548107575189032, 27.89467846477322, 31.98110776463748, 35.02865981795425, 31.79191449352682, 28.23004849227868, 27.156219914126208, 26.542493262496684, 24.950224102640526, 24.034408259712073, 28.058916994198682, 26.573879467174823, 27.753711035313756, 33.748666406877945, 40.9123750257819, 46.21332753863067, 43.06399966932426, 35.10721274182777, 29.072228731856693, 27.663556554264822]\n"
     ]
    },
    {
     "ename": "RuntimeError",
     "evalue": "FIN",
     "output_type": "error",
     "traceback": [
      "\u001b[1;31m---------------------------------------------------------------------------\u001b[0m",
      "\u001b[1;31mRuntimeError\u001b[0m                              Traceback (most recent call last)",
      "Cell \u001b[1;32mIn[12], line 186\u001b[0m\n\u001b[0;32m    171\u001b[0m             \u001b[38;5;66;03m# for action in today_actions:\u001b[39;00m\n\u001b[0;32m    172\u001b[0m             \u001b[38;5;66;03m#     print(action)\u001b[39;00m\n\u001b[0;32m    173\u001b[0m \n\u001b[0;32m    174\u001b[0m \n\u001b[0;32m    175\u001b[0m         \u001b[38;5;66;03m# for action in self.thermoelectric_agent_actions:\u001b[39;00m\n\u001b[0;32m    176\u001b[0m         \u001b[38;5;66;03m#     print(action)\u001b[39;00m\n\u001b[0;32m    178\u001b[0m simulation \u001b[38;5;241m=\u001b[39m Simulation(\n\u001b[0;32m    179\u001b[0m     circuits\u001b[38;5;241m=\u001b[39melectric_system_circuits_list,\n\u001b[0;32m    180\u001b[0m     thermoelectrics\u001b[38;5;241m=\u001b[39melectric_system_thermoelectrics_list,\n\u001b[1;32m   (...)\u001b[0m\n\u001b[0;32m    183\u001b[0m     get_block_importance\u001b[38;5;241m=\u001b[39mget_block_importance,\n\u001b[0;32m    184\u001b[0m )\n\u001b[1;32m--> 186\u001b[0m simulation\u001b[38;5;241m.\u001b[39msimulate()\n",
      "Cell \u001b[1;32mIn[12], line 90\u001b[0m, in \u001b[0;36mSimulation.simulate\u001b[1;34m(self, simulation_days)\u001b[0m\n\u001b[0;32m     88\u001b[0m         \u001b[38;5;28mprint\u001b[39m(block\u001b[38;5;241m.\u001b[39mdemand_per_hour)\n\u001b[0;32m     89\u001b[0m         \u001b[38;5;28mprint\u001b[39m(block\u001b[38;5;241m.\u001b[39mpredicted_demand_per_hour)\n\u001b[1;32m---> 90\u001b[0m \u001b[38;5;28;01mraise\u001b[39;00m \u001b[38;5;167;01mRuntimeError\u001b[39;00m(\u001b[38;5;124m\"\u001b[39m\u001b[38;5;124mFIN\u001b[39m\u001b[38;5;124m\"\u001b[39m)\n\u001b[0;32m     91\u001b[0m \u001b[38;5;28;01mfor\u001b[39;00m thermoelectric \u001b[38;5;129;01min\u001b[39;00m \u001b[38;5;28mself\u001b[39m\u001b[38;5;241m.\u001b[39mworld_state_manager\u001b[38;5;241m.\u001b[39mthermoelectrics:\n\u001b[0;32m     92\u001b[0m     agent_initial_perception \u001b[38;5;241m=\u001b[39m \u001b[38;5;28mself\u001b[39m\u001b[38;5;241m.\u001b[39mcreate_thermoelectric_agent_perception(\n\u001b[0;32m     93\u001b[0m         thermoelectric\u001b[38;5;241m=\u001b[39mthermoelectric\n\u001b[0;32m     94\u001b[0m     )\n",
      "\u001b[1;31mRuntimeError\u001b[0m: FIN"
     ]
    }
   ],
   "source": [
    "from src.people import (\n",
    "    ThermoelectricAgent,\n",
    "    ThermoelectricAgentPerception,\n",
    "    ThermoelectricAgentAction,\n",
    "    ChiefElectricCompanyAgent,\n",
    "    ChiefElectricCompanyAgentPerception,\n",
    "    ChiefElectricCompanyAction\n",
    ")\n",
    "from src.worldstate import WorldState\n",
    "from src.bdi import (\n",
    "    CECAGeneratedDesire,\n",
    "    CECAMaxStoredEnergyDesire,\n",
    "    CECAMeetDemandDesire,\n",
    "    CECAPrioritizeBlockImportance,\n",
    "    CECAPrioritizeBlockOpinion,\n",
    "    CECAPrioritizeConsecutiveDaysOff,\n",
    "    CECAPrioritizeDaysOff,\n",
    ")\n",
    "\n",
    "class Simulation:\n",
    "    def __init__(\n",
    "        self,\n",
    "        circuits: list[Circuit],\n",
    "        thermoelectrics: list[Thermoelectric],\n",
    "        distance_matrix: list[list[float]],\n",
    "        get_circuit_importance: callable,\n",
    "        get_block_importance: callable,\n",
    "    ):\n",
    "        self.world_state_manager = WorldState(\n",
    "            circuits=circuits,\n",
    "            thermoelectrics=thermoelectrics,\n",
    "            distance_matrix=distance_matrix,\n",
    "            get_block_importance=get_block_importance,\n",
    "            get_circuit_importance=get_circuit_importance,\n",
    "        )\n",
    "\n",
    "        self.thermoelectric_agents: list[\"ThermoelectricAgent\"] = []\n",
    "\n",
    "        self.thermoelectric_agent_actions: list[\"ThermoelectricAgentAction\"] = []\n",
    "\n",
    "        self.chief_agent = None\n",
    "\n",
    "        self.chief_agent_actions : list[\"ChiefElectricCompanyAction\"] =[]\n",
    "\n",
    "    def create_thermoelectric_agent_perception(\n",
    "        self, thermoelectric\n",
    "    ) -> ThermoelectricAgentPerception:\n",
    "\n",
    "        return ThermoelectricAgentPerception(\n",
    "            thermoelectric=thermoelectric,\n",
    "            general_deficit=self.world_state_manager.general_deficit,\n",
    "            general_demand=self.world_state_manager.general_demand,\n",
    "            general_offer=self.world_state_manager.general_offer,\n",
    "        )\n",
    "\n",
    "    def create_chief_agent_perception(self):\n",
    "\n",
    "        return ChiefElectricCompanyAgentPerception(\n",
    "            thermoelectrics_id=self.world_state_manager.thermoelectrics_id,\n",
    "            circuits_id=self.world_state_manager.circuits_id,\n",
    "            generation_per_thermoelectric=self.world_state_manager.generation_per_thermoelectric,\n",
    "            distance_matrix=self.world_state_manager.distance_matrix,\n",
    "            demand_per_block_in_circuit=self.world_state_manager.predicted_demand_per_block_in_circuits,\n",
    "            total_demand_per_circuit=self.world_state_manager.predicted_total_demand_per_circuit,\n",
    "            circuits_importance=self.world_state_manager.circuits_importance,\n",
    "            importance_per_block_in_circuits=self.world_state_manager.importance_per_block_in_circuits,\n",
    "            opinion_per_block_in_circuits=self.world_state_manager.opinion_per_block_in_circuits,\n",
    "            satisfaction_per_circuit=self.world_state_manager.satisfaction_per_circuit,\n",
    "            industrialization_per_circuit=self.world_state_manager.industrialization_per_circuit,\n",
    "            last_days_off_per_block_in_circuits=self.world_state_manager.last_days_off_per_block_in_circuits,\n",
    "            longest_sequence_off_per_block_in_circuits=self.world_state_manager.longest_sequence_off_per_block_in_circuits,\n",
    "            general_satisfaction=self.world_state_manager.general_satisfaction,\n",
    "        )\n",
    "    \n",
    "    def update_thermoelectric(self):\n",
    "        for thermoelectric in self.world_state_manager.thermoelectrics:\n",
    "            thermoelectric.update()\n",
    "        \n",
    "    def update_circuits(self, opinion_day:float=False):\n",
    "        for circuit in self.world_state_manager.circuits:\n",
    "            circuit.update(self.world_state_manager.general_satisfaction, opinion_day)\n",
    "\n",
    "    def simulate(self, simulation_days=365):\n",
    "\n",
    "        for circuit in self.world_state_manager.circuits:\n",
    "            print(circuit.id)\n",
    "            for block in circuit.blocks:\n",
    "                print('demand per hour', block.demand_per_hour)\n",
    "                print('predicted demand per hour', block.predicted_demand_per_hour)\n",
    "        raise RuntimeError(\"FIN\")\n",
    "        for thermoelectric in self.world_state_manager.thermoelectrics:\n",
    "            agent_initial_perception = self.create_thermoelectric_agent_perception(\n",
    "                thermoelectric=thermoelectric\n",
    "            )\n",
    "\n",
    "            thermoelectric_agent = ThermoelectricAgent(\n",
    "                name=f\"Agent of {thermoelectric.id}\",\n",
    "                thermoelectric=thermoelectric,\n",
    "                perception=agent_initial_perception,\n",
    "            )\n",
    "\n",
    "            self.thermoelectric_agents.append(thermoelectric_agent)\n",
    "\n",
    "        chief_agent_perception = self.create_chief_agent_perception()\n",
    "    \n",
    "        chief_agent_desires = {\n",
    "            \"meet_demand\": CECAMeetDemandDesire(),\n",
    "            \"prioritize_block_importance\": CECAPrioritizeBlockImportance(),\n",
    "            \"prioritize_block_opinion\": CECAPrioritizeBlockOpinion(),\n",
    "            \"prioritize_consecutive_days_off\": CECAPrioritizeConsecutiveDaysOff(),\n",
    "            \"prioritize_days_off\": CECAPrioritizeDaysOff(),\n",
    "        }\n",
    "\n",
    "        chief_agent_current_desires = [\n",
    "            \"meet_demand\",\n",
    "            \"prioritize_block_importance\",\n",
    "            \"prioritize_block_opinion\",\n",
    "            \"prioritize_consecutive_days_off\",\n",
    "            \"prioritize_days_off\",\n",
    "        ]\n",
    "\n",
    "    \n",
    "        self.chief_agent = ChiefElectricCompanyAgent(\n",
    "            name=\"Chief Electric Company Agent\",\n",
    "            thermoelectrics=self.world_state_manager.thermoelectrics,\n",
    "            circuits=self.world_state_manager.circuits,\n",
    "            perception=chief_agent_perception,\n",
    "            rules=chief_agent_desires,\n",
    "            current_rules=chief_agent_current_desires,\n",
    "            learn=False,\n",
    "        )\n",
    "\n",
    "        for day in range(simulation_days):\n",
    "            print(f\"Day {day} 🚀-----------------------------------------------------------------\")\n",
    "            today_actions = []\n",
    "            # print(self.world_state_manager.basic_info_str())\n",
    "\n",
    "            for agent_index in RANDOM.permutation( # thermoelectrics plan\n",
    "                range(len(self.thermoelectric_agents))\n",
    "            ):\n",
    "                agent: ThermoelectricAgent = self.thermoelectric_agents[agent_index]\n",
    "                new_agent_perception = self.create_thermoelectric_agent_perception(\n",
    "                    agent.thermoelectric\n",
    "                )\n",
    "                \n",
    "                agent_action_result= agent.action(new_agent_perception)\n",
    "                today_actions.append(agent_action_result)\n",
    "                self.thermoelectric_agent_actions.append(agent_action_result)\n",
    "                agent.thermoelectric.update_capacity()\n",
    "                self.world_state_manager.update_only_thermoelectric_stats(agent_index)\n",
    "\n",
    "            \n",
    "            # distribute energy\n",
    "\n",
    "            chief_agent_perception = self.create_chief_agent_perception()\n",
    "            chief_agent_action = self.chief_agent.action(chief_agent_perception)\n",
    "            self.chief_agent_actions.append(chief_agent_action)\n",
    "\n",
    "\n",
    "\n",
    "            # TESTING \n",
    "\n",
    "            for thermoelectric in self.world_state_manager.thermoelectrics:\n",
    "                thermoelectric.consume_energy(thermoelectric.current_capacity)\n",
    "\n",
    "            self.update_circuits(opinion_day=(day % 30 == 0))\n",
    "            self.update_thermoelectric()\n",
    "            self.world_state_manager.update()\n",
    "            \n",
    "            \n",
    "            # for action in today_actions:\n",
    "            #     print(action)\n",
    "\n",
    "\n",
    "        # for action in self.thermoelectric_agent_actions:\n",
    "        #     print(action)\n",
    "\n",
    "simulation = Simulation(\n",
    "    circuits=electric_system_circuits_list,\n",
    "    thermoelectrics=electric_system_thermoelectrics_list,\n",
    "    distance_matrix=matrix,\n",
    "    get_circuit_importance=get_circuit_importance,\n",
    "    get_block_importance=get_block_importance,\n",
    ")\n",
    "\n",
    "simulation.simulate()"
   ]
  }
 ],
 "metadata": {
  "kernelspec": {
   "display_name": "base",
   "language": "python",
   "name": "python3"
  },
  "language_info": {
   "codemirror_mode": {
    "name": "ipython",
    "version": 3
   },
   "file_extension": ".py",
   "mimetype": "text/x-python",
   "name": "python",
   "nbconvert_exporter": "python",
   "pygments_lexer": "ipython3",
   "version": "3.11.10"
  }
 },
 "nbformat": 4,
 "nbformat_minor": 2
}
