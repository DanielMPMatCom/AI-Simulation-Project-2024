{
 "cells": [
  {
   "cell_type": "markdown",
   "metadata": {},
   "source": [
    "# Simulation of an Electric System based on Thermoelectrics Plants"
   ]
  },
  {
   "cell_type": "code",
   "execution_count": 1,
   "metadata": {},
   "outputs": [],
   "source": [
    "from src.map import Map2D, GraphMap\n",
    "from src.utils.gaussianmixture import DailyElectricityConsumptionBimodal\n",
    "from src.circuits import Circuit, Block\n",
    "from src.thermoelectrics import Thermoelectric\n",
    "import pandas as pd\n",
    "import plotly.express as px\n",
    "\n",
    "from src.simulation_constants import (\n",
    "    NO_CIRCUITS,\n",
    "    NO_THERMOELECTRICS,\n",
    "    MIN_CITIZEN,\n",
    "    MAX_CITIZEN,\n",
    "    MAX_DEVIATION_CITIZEN_IN_BLOCK,\n",
    "    DEMAND_PER_PERSON,\n",
    "    DEMAND_INDUSTRIALIZATION,\n",
    "    VARIABILITY_DEMAND_PER_PERSON,\n",
    "    VARIABILITY_DEMAND_PER_INDUSTRIALIZATION,\n",
    "    PEAK_CONSUMPTION_MORNING,\n",
    "    PEAK_CONSUMPTION_EVENING,\n",
    "    MAX_DEVIATION_MORNING,\n",
    "    MAX_DEVIATION_EVENING,\n",
    "    WEIGHT_MORNING,\n",
    "    WEIGHT_EVENING,\n",
    "    MIN_BLOCKS_PER_CIRCUIT,\n",
    "    MAX_BLOCKS_PER_CIRCUIT,\n",
    "    IMPORTANCE_ALPHA,\n",
    "    RANDOM\n",
    ")\n"
   ]
  },
  {
   "cell_type": "markdown",
   "metadata": {},
   "source": [
    "## Initialize bases "
   ]
  },
  {
   "cell_type": "code",
   "execution_count": 2,
   "metadata": {},
   "outputs": [
    {
     "data": {
      "application/vnd.plotly.v1+json": {
       "config": {
        "plotlyServerURL": "https://plot.ly"
       },
       "data": [
        {
         "marker": {
          "color": [
           2,
           6,
           6,
           3,
           3,
           0,
           0,
           3,
           7,
           1,
           0,
           2,
           6,
           7,
           0,
           6,
           1,
           5,
           2,
           2,
           1,
           3,
           5,
           3,
           6,
           4,
           6,
           3,
           5,
           1,
           3,
           0,
           5,
           1,
           4,
           5,
           1,
           2,
           4,
           4,
           5,
           5,
           7,
           1,
           5,
           4,
           0,
           7,
           1,
           1
          ],
          "colorscale": [
           [
            0,
            "#440154"
           ],
           [
            0.1111111111111111,
            "#482878"
           ],
           [
            0.2222222222222222,
            "#3e4989"
           ],
           [
            0.3333333333333333,
            "#31688e"
           ],
           [
            0.4444444444444444,
            "#26828e"
           ],
           [
            0.5555555555555556,
            "#1f9e89"
           ],
           [
            0.6666666666666666,
            "#35b779"
           ],
           [
            0.7777777777777778,
            "#6ece58"
           ],
           [
            0.8888888888888888,
            "#b5de2b"
           ],
           [
            1,
            "#fde725"
           ]
          ],
          "showscale": true,
          "size": 10
         },
         "mode": "markers",
         "name": "Circuits",
         "type": "scatter",
         "x": [
          81.67906903864657,
          27.025455964122326,
          27.143279946174538,
          18.101269335534344,
          12.761898677851702,
          88.06784170357295,
          78.55207062472648,
          3.957254972136559,
          45.151701723785756,
          28.505298484521624,
          70.62690681125126,
          71.93119501657027,
          18.13253486874533,
          54.687549207607276,
          97.94032990987867,
          13.787881975355464,
          29.043068761638747,
          67.06667574038228,
          86.93239130215423,
          86.58660420708655,
          21.072196196232774,
          4.35425718801522,
          57.16567991645371,
          30.29449728651291,
          14.127204218130107,
          79.70022426272268,
          19.28721750152175,
          24.285486402509125,
          55.331244019367695,
          37.3366863136953,
          16.94101320118091,
          93.06009195741673,
          70.82462846610204,
          7.0061251761257655,
          85.10532709357774,
          68.76788419858231,
          11.10458241563993,
          74.26672865829146,
          96.41506646556954,
          82.85262138117378,
          67.39592930271091,
          58.731148822994996,
          33.6898216617606,
          41.54027730035176,
          58.27981227781016,
          92.06936628014104,
          97.60165320209013,
          46.9947624755654,
          39.16386265283784,
          0.7157335688142252
         ],
         "y": [
          17.41013608655382,
          41.1520658945776,
          46.17981503116314,
          82.75670462160082,
          89.09105540605843,
          79.67600630406929,
          71.56188998387034,
          71.49616895599384,
          52.22379579878075,
          30.78767292632496,
          92.64801346303034,
          6.650509366593926,
          55.83314835260388,
          57.44064688379693,
          74.9190395517761,
          53.16093971473856,
          26.587340034375238,
          20.520600078831063,
          24.4863458278618,
          10.728105840344714,
          1.6969953382807934,
          75.9355143583485,
          18.407218636498833,
          78.2880340951697,
          50.14879922845809,
          41.49793727418943,
          34.29640739612254,
          96.5045023801125,
          23.73015961882583,
          0.19102889866459138,
          97.90230298256775,
          90.34428711130327,
          27.110875805361655,
          15.84530797601722,
          28.239322381772546,
          20.08073267237537,
          6.005879912209277,
          5.319866555746511,
          27.781548938784205,
          50.39029550639954,
          24.786627700523212,
          18.798899045437125,
          53.15666286926199,
          9.392368693590413,
          28.448354735929037,
          46.24021294897529,
          83.33871967051479,
          77.48628098872234,
          17.096537246009447,
          21.830604645383968
         ]
        },
        {
         "marker": {
          "color": "red",
          "size": 15,
          "symbol": "x"
         },
         "mode": "markers",
         "name": "Thermoelectrics",
         "type": "scatter",
         "x": [
          87.64148236815603,
          23.94309231887311,
          80.27919764454981,
          15.813668151962972,
          87.22852109663697,
          62.945375343050515,
          19.91726241234159,
          45.130958767179756
         ],
         "y": [
          82.08132601409403,
          14.38152618565066,
          12.91899273542015,
          84.56775468569307,
          38.8298634100242,
          22.735433536722763,
          46.7951959362773,
          60.076846635140505
         ]
        },
        {
         "marker": {
          "color": "black",
          "size": 12,
          "symbol": "triangle-up"
         },
         "mode": "markers",
         "name": "Tension Towers",
         "type": "scatter",
         "x": [
          -8.157954667183978,
          6.481953146218483,
          16.80587897876717,
          16.9718997769922,
          19.959218297140513,
          25.993761897889797,
          39.68286355500005,
          39.734123852654676,
          45.130958767179756,
          55.12165732779044,
          60.26064588670764,
          69.58183762022777,
          74.01235697830586,
          79.54145883425421,
          86.28183481522531,
          87.64148236815602
         ],
         "y": [
          35.66751484289325,
          58.85964343548259,
          80.22552003874961,
          17.010302276863047,
          46.325585641295376,
          84.07665021719366,
          58.587231613378016,
          26.834675620834147,
          60.076846635140505,
          7.393367777929072,
          69.79907198196302,
          31.327765977132767,
          25.726215078888735,
          11.32207338662834,
          46.77505283510387,
          82.08132601409405
         ]
        },
        {
         "line": {
          "color": "black"
         },
         "mode": "lines",
         "showlegend": false,
         "type": "scatter",
         "x": [
          -8.157954667183978,
          6.481953146218483
         ],
         "y": [
          35.66751484289325,
          58.85964343548259
         ]
        },
        {
         "line": {
          "color": "black"
         },
         "mode": "lines",
         "showlegend": false,
         "type": "scatter",
         "x": [
          6.481953146218483,
          16.80587897876717
         ],
         "y": [
          58.85964343548259,
          80.22552003874961
         ]
        },
        {
         "line": {
          "color": "black"
         },
         "mode": "lines",
         "showlegend": false,
         "type": "scatter",
         "x": [
          16.80587897876717,
          16.9718997769922
         ],
         "y": [
          80.22552003874961,
          17.010302276863047
         ]
        },
        {
         "line": {
          "color": "black"
         },
         "mode": "lines",
         "showlegend": false,
         "type": "scatter",
         "x": [
          16.9718997769922,
          19.959218297140513
         ],
         "y": [
          17.010302276863047,
          46.325585641295376
         ]
        },
        {
         "line": {
          "color": "black"
         },
         "mode": "lines",
         "showlegend": false,
         "type": "scatter",
         "x": [
          19.959218297140513,
          25.993761897889797
         ],
         "y": [
          46.325585641295376,
          84.07665021719366
         ]
        },
        {
         "line": {
          "color": "black"
         },
         "mode": "lines",
         "showlegend": false,
         "type": "scatter",
         "x": [
          25.993761897889797,
          39.68286355500005
         ],
         "y": [
          84.07665021719366,
          58.587231613378016
         ]
        },
        {
         "line": {
          "color": "black"
         },
         "mode": "lines",
         "showlegend": false,
         "type": "scatter",
         "x": [
          39.68286355500005,
          39.734123852654676
         ],
         "y": [
          58.587231613378016,
          26.834675620834147
         ]
        },
        {
         "line": {
          "color": "black"
         },
         "mode": "lines",
         "showlegend": false,
         "type": "scatter",
         "x": [
          39.734123852654676,
          45.130958767179756
         ],
         "y": [
          26.834675620834147,
          60.076846635140505
         ]
        },
        {
         "line": {
          "color": "black"
         },
         "mode": "lines",
         "showlegend": false,
         "type": "scatter",
         "x": [
          45.130958767179756,
          55.12165732779044
         ],
         "y": [
          60.076846635140505,
          7.393367777929072
         ]
        },
        {
         "line": {
          "color": "black"
         },
         "mode": "lines",
         "showlegend": false,
         "type": "scatter",
         "x": [
          55.12165732779044,
          60.26064588670764
         ],
         "y": [
          7.393367777929072,
          69.79907198196302
         ]
        },
        {
         "line": {
          "color": "black"
         },
         "mode": "lines",
         "showlegend": false,
         "type": "scatter",
         "x": [
          60.26064588670764,
          69.58183762022777
         ],
         "y": [
          69.79907198196302,
          31.327765977132767
         ]
        },
        {
         "line": {
          "color": "black"
         },
         "mode": "lines",
         "showlegend": false,
         "type": "scatter",
         "x": [
          69.58183762022777,
          74.01235697830586
         ],
         "y": [
          31.327765977132767,
          25.726215078888735
         ]
        },
        {
         "line": {
          "color": "black"
         },
         "mode": "lines",
         "showlegend": false,
         "type": "scatter",
         "x": [
          74.01235697830586,
          79.54145883425421
         ],
         "y": [
          25.726215078888735,
          11.32207338662834
         ]
        },
        {
         "line": {
          "color": "black"
         },
         "mode": "lines",
         "showlegend": false,
         "type": "scatter",
         "x": [
          79.54145883425421,
          86.28183481522531
         ],
         "y": [
          11.32207338662834,
          46.77505283510387
         ]
        },
        {
         "line": {
          "color": "black"
         },
         "mode": "lines",
         "showlegend": false,
         "type": "scatter",
         "x": [
          86.28183481522531,
          87.64148236815602
         ],
         "y": [
          46.77505283510387,
          82.08132601409405
         ]
        }
       ],
       "layout": {
        "height": 800,
        "legend": {
         "bgcolor": "rgba(255, 255, 255, 0.5)",
         "bordercolor": "rgba(0, 0, 0, 0.5)",
         "x": 0.01,
         "y": 0.99
        },
        "plot_bgcolor": "lightgreen",
        "template": {
         "data": {
          "bar": [
           {
            "error_x": {
             "color": "#2a3f5f"
            },
            "error_y": {
             "color": "#2a3f5f"
            },
            "marker": {
             "line": {
              "color": "#E5ECF6",
              "width": 0.5
             },
             "pattern": {
              "fillmode": "overlay",
              "size": 10,
              "solidity": 0.2
             }
            },
            "type": "bar"
           }
          ],
          "barpolar": [
           {
            "marker": {
             "line": {
              "color": "#E5ECF6",
              "width": 0.5
             },
             "pattern": {
              "fillmode": "overlay",
              "size": 10,
              "solidity": 0.2
             }
            },
            "type": "barpolar"
           }
          ],
          "carpet": [
           {
            "aaxis": {
             "endlinecolor": "#2a3f5f",
             "gridcolor": "white",
             "linecolor": "white",
             "minorgridcolor": "white",
             "startlinecolor": "#2a3f5f"
            },
            "baxis": {
             "endlinecolor": "#2a3f5f",
             "gridcolor": "white",
             "linecolor": "white",
             "minorgridcolor": "white",
             "startlinecolor": "#2a3f5f"
            },
            "type": "carpet"
           }
          ],
          "choropleth": [
           {
            "colorbar": {
             "outlinewidth": 0,
             "ticks": ""
            },
            "type": "choropleth"
           }
          ],
          "contour": [
           {
            "colorbar": {
             "outlinewidth": 0,
             "ticks": ""
            },
            "colorscale": [
             [
              0,
              "#0d0887"
             ],
             [
              0.1111111111111111,
              "#46039f"
             ],
             [
              0.2222222222222222,
              "#7201a8"
             ],
             [
              0.3333333333333333,
              "#9c179e"
             ],
             [
              0.4444444444444444,
              "#bd3786"
             ],
             [
              0.5555555555555556,
              "#d8576b"
             ],
             [
              0.6666666666666666,
              "#ed7953"
             ],
             [
              0.7777777777777778,
              "#fb9f3a"
             ],
             [
              0.8888888888888888,
              "#fdca26"
             ],
             [
              1,
              "#f0f921"
             ]
            ],
            "type": "contour"
           }
          ],
          "contourcarpet": [
           {
            "colorbar": {
             "outlinewidth": 0,
             "ticks": ""
            },
            "type": "contourcarpet"
           }
          ],
          "heatmap": [
           {
            "colorbar": {
             "outlinewidth": 0,
             "ticks": ""
            },
            "colorscale": [
             [
              0,
              "#0d0887"
             ],
             [
              0.1111111111111111,
              "#46039f"
             ],
             [
              0.2222222222222222,
              "#7201a8"
             ],
             [
              0.3333333333333333,
              "#9c179e"
             ],
             [
              0.4444444444444444,
              "#bd3786"
             ],
             [
              0.5555555555555556,
              "#d8576b"
             ],
             [
              0.6666666666666666,
              "#ed7953"
             ],
             [
              0.7777777777777778,
              "#fb9f3a"
             ],
             [
              0.8888888888888888,
              "#fdca26"
             ],
             [
              1,
              "#f0f921"
             ]
            ],
            "type": "heatmap"
           }
          ],
          "heatmapgl": [
           {
            "colorbar": {
             "outlinewidth": 0,
             "ticks": ""
            },
            "colorscale": [
             [
              0,
              "#0d0887"
             ],
             [
              0.1111111111111111,
              "#46039f"
             ],
             [
              0.2222222222222222,
              "#7201a8"
             ],
             [
              0.3333333333333333,
              "#9c179e"
             ],
             [
              0.4444444444444444,
              "#bd3786"
             ],
             [
              0.5555555555555556,
              "#d8576b"
             ],
             [
              0.6666666666666666,
              "#ed7953"
             ],
             [
              0.7777777777777778,
              "#fb9f3a"
             ],
             [
              0.8888888888888888,
              "#fdca26"
             ],
             [
              1,
              "#f0f921"
             ]
            ],
            "type": "heatmapgl"
           }
          ],
          "histogram": [
           {
            "marker": {
             "pattern": {
              "fillmode": "overlay",
              "size": 10,
              "solidity": 0.2
             }
            },
            "type": "histogram"
           }
          ],
          "histogram2d": [
           {
            "colorbar": {
             "outlinewidth": 0,
             "ticks": ""
            },
            "colorscale": [
             [
              0,
              "#0d0887"
             ],
             [
              0.1111111111111111,
              "#46039f"
             ],
             [
              0.2222222222222222,
              "#7201a8"
             ],
             [
              0.3333333333333333,
              "#9c179e"
             ],
             [
              0.4444444444444444,
              "#bd3786"
             ],
             [
              0.5555555555555556,
              "#d8576b"
             ],
             [
              0.6666666666666666,
              "#ed7953"
             ],
             [
              0.7777777777777778,
              "#fb9f3a"
             ],
             [
              0.8888888888888888,
              "#fdca26"
             ],
             [
              1,
              "#f0f921"
             ]
            ],
            "type": "histogram2d"
           }
          ],
          "histogram2dcontour": [
           {
            "colorbar": {
             "outlinewidth": 0,
             "ticks": ""
            },
            "colorscale": [
             [
              0,
              "#0d0887"
             ],
             [
              0.1111111111111111,
              "#46039f"
             ],
             [
              0.2222222222222222,
              "#7201a8"
             ],
             [
              0.3333333333333333,
              "#9c179e"
             ],
             [
              0.4444444444444444,
              "#bd3786"
             ],
             [
              0.5555555555555556,
              "#d8576b"
             ],
             [
              0.6666666666666666,
              "#ed7953"
             ],
             [
              0.7777777777777778,
              "#fb9f3a"
             ],
             [
              0.8888888888888888,
              "#fdca26"
             ],
             [
              1,
              "#f0f921"
             ]
            ],
            "type": "histogram2dcontour"
           }
          ],
          "mesh3d": [
           {
            "colorbar": {
             "outlinewidth": 0,
             "ticks": ""
            },
            "type": "mesh3d"
           }
          ],
          "parcoords": [
           {
            "line": {
             "colorbar": {
              "outlinewidth": 0,
              "ticks": ""
             }
            },
            "type": "parcoords"
           }
          ],
          "pie": [
           {
            "automargin": true,
            "type": "pie"
           }
          ],
          "scatter": [
           {
            "fillpattern": {
             "fillmode": "overlay",
             "size": 10,
             "solidity": 0.2
            },
            "type": "scatter"
           }
          ],
          "scatter3d": [
           {
            "line": {
             "colorbar": {
              "outlinewidth": 0,
              "ticks": ""
             }
            },
            "marker": {
             "colorbar": {
              "outlinewidth": 0,
              "ticks": ""
             }
            },
            "type": "scatter3d"
           }
          ],
          "scattercarpet": [
           {
            "marker": {
             "colorbar": {
              "outlinewidth": 0,
              "ticks": ""
             }
            },
            "type": "scattercarpet"
           }
          ],
          "scattergeo": [
           {
            "marker": {
             "colorbar": {
              "outlinewidth": 0,
              "ticks": ""
             }
            },
            "type": "scattergeo"
           }
          ],
          "scattergl": [
           {
            "marker": {
             "colorbar": {
              "outlinewidth": 0,
              "ticks": ""
             }
            },
            "type": "scattergl"
           }
          ],
          "scattermapbox": [
           {
            "marker": {
             "colorbar": {
              "outlinewidth": 0,
              "ticks": ""
             }
            },
            "type": "scattermapbox"
           }
          ],
          "scatterpolar": [
           {
            "marker": {
             "colorbar": {
              "outlinewidth": 0,
              "ticks": ""
             }
            },
            "type": "scatterpolar"
           }
          ],
          "scatterpolargl": [
           {
            "marker": {
             "colorbar": {
              "outlinewidth": 0,
              "ticks": ""
             }
            },
            "type": "scatterpolargl"
           }
          ],
          "scatterternary": [
           {
            "marker": {
             "colorbar": {
              "outlinewidth": 0,
              "ticks": ""
             }
            },
            "type": "scatterternary"
           }
          ],
          "surface": [
           {
            "colorbar": {
             "outlinewidth": 0,
             "ticks": ""
            },
            "colorscale": [
             [
              0,
              "#0d0887"
             ],
             [
              0.1111111111111111,
              "#46039f"
             ],
             [
              0.2222222222222222,
              "#7201a8"
             ],
             [
              0.3333333333333333,
              "#9c179e"
             ],
             [
              0.4444444444444444,
              "#bd3786"
             ],
             [
              0.5555555555555556,
              "#d8576b"
             ],
             [
              0.6666666666666666,
              "#ed7953"
             ],
             [
              0.7777777777777778,
              "#fb9f3a"
             ],
             [
              0.8888888888888888,
              "#fdca26"
             ],
             [
              1,
              "#f0f921"
             ]
            ],
            "type": "surface"
           }
          ],
          "table": [
           {
            "cells": {
             "fill": {
              "color": "#EBF0F8"
             },
             "line": {
              "color": "white"
             }
            },
            "header": {
             "fill": {
              "color": "#C8D4E3"
             },
             "line": {
              "color": "white"
             }
            },
            "type": "table"
           }
          ]
         },
         "layout": {
          "annotationdefaults": {
           "arrowcolor": "#2a3f5f",
           "arrowhead": 0,
           "arrowwidth": 1
          },
          "autotypenumbers": "strict",
          "coloraxis": {
           "colorbar": {
            "outlinewidth": 0,
            "ticks": ""
           }
          },
          "colorscale": {
           "diverging": [
            [
             0,
             "#8e0152"
            ],
            [
             0.1,
             "#c51b7d"
            ],
            [
             0.2,
             "#de77ae"
            ],
            [
             0.3,
             "#f1b6da"
            ],
            [
             0.4,
             "#fde0ef"
            ],
            [
             0.5,
             "#f7f7f7"
            ],
            [
             0.6,
             "#e6f5d0"
            ],
            [
             0.7,
             "#b8e186"
            ],
            [
             0.8,
             "#7fbc41"
            ],
            [
             0.9,
             "#4d9221"
            ],
            [
             1,
             "#276419"
            ]
           ],
           "sequential": [
            [
             0,
             "#0d0887"
            ],
            [
             0.1111111111111111,
             "#46039f"
            ],
            [
             0.2222222222222222,
             "#7201a8"
            ],
            [
             0.3333333333333333,
             "#9c179e"
            ],
            [
             0.4444444444444444,
             "#bd3786"
            ],
            [
             0.5555555555555556,
             "#d8576b"
            ],
            [
             0.6666666666666666,
             "#ed7953"
            ],
            [
             0.7777777777777778,
             "#fb9f3a"
            ],
            [
             0.8888888888888888,
             "#fdca26"
            ],
            [
             1,
             "#f0f921"
            ]
           ],
           "sequentialminus": [
            [
             0,
             "#0d0887"
            ],
            [
             0.1111111111111111,
             "#46039f"
            ],
            [
             0.2222222222222222,
             "#7201a8"
            ],
            [
             0.3333333333333333,
             "#9c179e"
            ],
            [
             0.4444444444444444,
             "#bd3786"
            ],
            [
             0.5555555555555556,
             "#d8576b"
            ],
            [
             0.6666666666666666,
             "#ed7953"
            ],
            [
             0.7777777777777778,
             "#fb9f3a"
            ],
            [
             0.8888888888888888,
             "#fdca26"
            ],
            [
             1,
             "#f0f921"
            ]
           ]
          },
          "colorway": [
           "#636efa",
           "#EF553B",
           "#00cc96",
           "#ab63fa",
           "#FFA15A",
           "#19d3f3",
           "#FF6692",
           "#B6E880",
           "#FF97FF",
           "#FECB52"
          ],
          "font": {
           "color": "#2a3f5f"
          },
          "geo": {
           "bgcolor": "white",
           "lakecolor": "white",
           "landcolor": "#E5ECF6",
           "showlakes": true,
           "showland": true,
           "subunitcolor": "white"
          },
          "hoverlabel": {
           "align": "left"
          },
          "hovermode": "closest",
          "mapbox": {
           "style": "light"
          },
          "paper_bgcolor": "white",
          "plot_bgcolor": "#E5ECF6",
          "polar": {
           "angularaxis": {
            "gridcolor": "white",
            "linecolor": "white",
            "ticks": ""
           },
           "bgcolor": "#E5ECF6",
           "radialaxis": {
            "gridcolor": "white",
            "linecolor": "white",
            "ticks": ""
           }
          },
          "scene": {
           "xaxis": {
            "backgroundcolor": "#E5ECF6",
            "gridcolor": "white",
            "gridwidth": 2,
            "linecolor": "white",
            "showbackground": true,
            "ticks": "",
            "zerolinecolor": "white"
           },
           "yaxis": {
            "backgroundcolor": "#E5ECF6",
            "gridcolor": "white",
            "gridwidth": 2,
            "linecolor": "white",
            "showbackground": true,
            "ticks": "",
            "zerolinecolor": "white"
           },
           "zaxis": {
            "backgroundcolor": "#E5ECF6",
            "gridcolor": "white",
            "gridwidth": 2,
            "linecolor": "white",
            "showbackground": true,
            "ticks": "",
            "zerolinecolor": "white"
           }
          },
          "shapedefaults": {
           "line": {
            "color": "#2a3f5f"
           }
          },
          "ternary": {
           "aaxis": {
            "gridcolor": "white",
            "linecolor": "white",
            "ticks": ""
           },
           "baxis": {
            "gridcolor": "white",
            "linecolor": "white",
            "ticks": ""
           },
           "bgcolor": "#E5ECF6",
           "caxis": {
            "gridcolor": "white",
            "linecolor": "white",
            "ticks": ""
           }
          },
          "title": {
           "x": 0.05
          },
          "xaxis": {
           "automargin": true,
           "gridcolor": "white",
           "linecolor": "white",
           "ticks": "",
           "title": {
            "standoff": 15
           },
           "zerolinecolor": "white",
           "zerolinewidth": 2
          },
          "yaxis": {
           "automargin": true,
           "gridcolor": "white",
           "linecolor": "white",
           "ticks": "",
           "title": {
            "standoff": 15
           },
           "zerolinecolor": "white",
           "zerolinewidth": 2
          }
         }
        },
        "title": {
         "text": "Map Visualization"
        },
        "xaxis": {
         "title": {
          "text": "X Coordinate"
         }
        },
        "yaxis": {
         "title": {
          "text": "Y Coordinate"
         }
        }
       }
      }
     },
     "metadata": {},
     "output_type": "display_data"
    }
   ],
   "source": [
    "map_2d = Map2D(\n",
    "    no_circuits=NO_CIRCUITS,\n",
    "    no_thermoelectrics=NO_THERMOELECTRICS,\n",
    ")\n",
    "\n",
    "\n",
    "map_2d.visualize()"
   ]
  },
  {
   "cell_type": "code",
   "execution_count": 3,
   "metadata": {},
   "outputs": [
    {
     "data": {
      "application/vnd.plotly.v1+json": {
       "config": {
        "plotlyServerURL": "https://plot.ly"
       },
       "data": [
        {
         "marker": {
          "color": "red",
          "size": 12,
          "symbol": "x"
         },
         "mode": "markers+text",
         "name": "Thermoelectrics",
         "text": [
          "Th0",
          "Th1",
          "Th2",
          "Th3",
          "Th4",
          "Th5",
          "Th6",
          "Th7"
         ],
         "textposition": "top center",
         "type": "scatter",
         "x": [
          87.64148236815603,
          23.94309231887311,
          80.27919764454981,
          15.813668151962972,
          87.22852109663697,
          62.945375343050515,
          19.91726241234159,
          45.130958767179756
         ],
         "y": [
          82.08132601409403,
          14.38152618565066,
          12.91899273542015,
          84.56775468569307,
          38.8298634100242,
          22.735433536722763,
          46.7951959362773,
          60.076846635140505
         ]
        },
        {
         "marker": {
          "color": "blue",
          "size": 10,
          "symbol": "circle"
         },
         "mode": "markers+text",
         "name": "Circuits",
         "text": [
          "C0",
          "C1",
          "C2",
          "C3",
          "C4",
          "C5",
          "C6",
          "C7",
          "C8",
          "C9",
          "C10",
          "C11",
          "C12",
          "C13",
          "C14",
          "C15",
          "C16",
          "C17",
          "C18",
          "C19",
          "C20",
          "C21",
          "C22",
          "C23",
          "C24",
          "C25",
          "C26",
          "C27",
          "C28",
          "C29",
          "C30",
          "C31",
          "C32",
          "C33",
          "C34",
          "C35",
          "C36",
          "C37",
          "C38",
          "C39",
          "C40",
          "C41",
          "C42",
          "C43",
          "C44",
          "C45",
          "C46",
          "C47",
          "C48",
          "C49"
         ],
         "textposition": "top center",
         "type": "scatter",
         "x": [
          81.67906903864657,
          27.025455964122326,
          27.143279946174538,
          18.101269335534344,
          12.761898677851702,
          88.06784170357295,
          78.55207062472648,
          3.957254972136559,
          45.151701723785756,
          28.505298484521624,
          70.62690681125126,
          71.93119501657027,
          18.13253486874533,
          54.687549207607276,
          97.94032990987867,
          13.787881975355464,
          29.043068761638747,
          67.06667574038228,
          86.93239130215423,
          86.58660420708655,
          21.072196196232774,
          4.35425718801522,
          57.16567991645371,
          30.29449728651291,
          14.127204218130107,
          79.70022426272268,
          19.28721750152175,
          24.285486402509125,
          55.331244019367695,
          37.3366863136953,
          16.94101320118091,
          93.06009195741673,
          70.82462846610204,
          7.0061251761257655,
          85.10532709357774,
          68.76788419858231,
          11.10458241563993,
          74.26672865829146,
          96.41506646556954,
          82.85262138117378,
          67.39592930271091,
          58.731148822994996,
          33.6898216617606,
          41.54027730035176,
          58.27981227781016,
          92.06936628014104,
          97.60165320209013,
          46.9947624755654,
          39.16386265283784,
          0.7157335688142252
         ],
         "y": [
          17.41013608655382,
          41.1520658945776,
          46.17981503116314,
          82.75670462160082,
          89.09105540605843,
          79.67600630406929,
          71.56188998387034,
          71.49616895599384,
          52.22379579878075,
          30.78767292632496,
          92.64801346303034,
          6.650509366593926,
          55.83314835260388,
          57.44064688379693,
          74.9190395517761,
          53.16093971473856,
          26.587340034375238,
          20.520600078831063,
          24.4863458278618,
          10.728105840344714,
          1.6969953382807934,
          75.9355143583485,
          18.407218636498833,
          78.2880340951697,
          50.14879922845809,
          41.49793727418943,
          34.29640739612254,
          96.5045023801125,
          23.73015961882583,
          0.19102889866459138,
          97.90230298256775,
          90.34428711130327,
          27.110875805361655,
          15.84530797601722,
          28.239322381772546,
          20.08073267237537,
          6.005879912209277,
          5.319866555746511,
          27.781548938784205,
          50.39029550639954,
          24.786627700523212,
          18.798899045437125,
          53.15666286926199,
          9.392368693590413,
          28.448354735929037,
          46.24021294897529,
          83.33871967051479,
          77.48628098872234,
          17.096537246009447,
          21.830604645383968
         ]
        },
        {
         "marker": {
          "color": "green",
          "size": 14,
          "symbol": "triangle-up"
         },
         "mode": "markers+text",
         "name": "Towers",
         "text": [
          "Tw0",
          "Tw1",
          "Tw2",
          "Tw3",
          "Tw4",
          "Tw5",
          "Tw6",
          "Tw7",
          "Tw8",
          "Tw9",
          "Tw10",
          "Tw11",
          "Tw12",
          "Tw13",
          "Tw14",
          "Tw15"
         ],
         "textposition": "top center",
         "type": "scatter",
         "x": [
          -8.157954667183978,
          6.481953146218483,
          16.80587897876717,
          16.9718997769922,
          19.959218297140513,
          25.993761897889797,
          39.68286355500005,
          39.734123852654676,
          45.130958767179756,
          55.12165732779044,
          60.26064588670764,
          69.58183762022777,
          74.01235697830586,
          79.54145883425421,
          86.28183481522531,
          87.64148236815602
         ],
         "y": [
          35.66751484289325,
          58.85964343548259,
          80.22552003874961,
          17.010302276863047,
          46.325585641295376,
          84.07665021719366,
          58.587231613378016,
          26.834675620834147,
          60.076846635140505,
          7.393367777929072,
          69.79907198196302,
          31.327765977132767,
          25.726215078888735,
          11.32207338662834,
          46.77505283510387,
          82.08132601409405
         ]
        },
        {
         "line": {
          "color": "black"
         },
         "mode": "lines",
         "name": "Wire Connection",
         "showlegend": false,
         "type": "scatter",
         "x": [
          -8.157954667183978,
          6.481953146218483
         ],
         "y": [
          35.66751484289325,
          58.85964343548259
         ]
        },
        {
         "line": {
          "color": "black"
         },
         "mode": "lines",
         "name": "Wire Connection",
         "showlegend": false,
         "type": "scatter",
         "x": [
          6.481953146218483,
          16.80587897876717
         ],
         "y": [
          58.85964343548259,
          80.22552003874961
         ]
        },
        {
         "line": {
          "color": "black"
         },
         "mode": "lines",
         "name": "Wire Connection",
         "showlegend": false,
         "type": "scatter",
         "x": [
          16.80587897876717,
          16.9718997769922
         ],
         "y": [
          80.22552003874961,
          17.010302276863047
         ]
        },
        {
         "line": {
          "color": "black"
         },
         "mode": "lines",
         "name": "Wire Connection",
         "showlegend": false,
         "type": "scatter",
         "x": [
          16.9718997769922,
          19.959218297140513
         ],
         "y": [
          17.010302276863047,
          46.325585641295376
         ]
        },
        {
         "line": {
          "color": "black"
         },
         "mode": "lines",
         "name": "Wire Connection",
         "showlegend": false,
         "type": "scatter",
         "x": [
          19.959218297140513,
          25.993761897889797
         ],
         "y": [
          46.325585641295376,
          84.07665021719366
         ]
        },
        {
         "line": {
          "color": "black"
         },
         "mode": "lines",
         "name": "Wire Connection",
         "showlegend": false,
         "type": "scatter",
         "x": [
          25.993761897889797,
          39.68286355500005
         ],
         "y": [
          84.07665021719366,
          58.587231613378016
         ]
        },
        {
         "line": {
          "color": "black"
         },
         "mode": "lines",
         "name": "Wire Connection",
         "showlegend": false,
         "type": "scatter",
         "x": [
          39.68286355500005,
          39.734123852654676
         ],
         "y": [
          58.587231613378016,
          26.834675620834147
         ]
        },
        {
         "line": {
          "color": "black"
         },
         "mode": "lines",
         "name": "Wire Connection",
         "showlegend": false,
         "type": "scatter",
         "x": [
          39.734123852654676,
          45.130958767179756
         ],
         "y": [
          26.834675620834147,
          60.076846635140505
         ]
        },
        {
         "line": {
          "color": "black"
         },
         "mode": "lines",
         "name": "Wire Connection",
         "showlegend": false,
         "type": "scatter",
         "x": [
          45.130958767179756,
          55.12165732779044
         ],
         "y": [
          60.076846635140505,
          7.393367777929072
         ]
        },
        {
         "line": {
          "color": "black"
         },
         "mode": "lines",
         "name": "Wire Connection",
         "showlegend": false,
         "type": "scatter",
         "x": [
          55.12165732779044,
          60.26064588670764
         ],
         "y": [
          7.393367777929072,
          69.79907198196302
         ]
        },
        {
         "line": {
          "color": "black"
         },
         "mode": "lines",
         "name": "Wire Connection",
         "showlegend": false,
         "type": "scatter",
         "x": [
          60.26064588670764,
          69.58183762022777
         ],
         "y": [
          69.79907198196302,
          31.327765977132767
         ]
        },
        {
         "line": {
          "color": "black"
         },
         "mode": "lines",
         "name": "Wire Connection",
         "showlegend": false,
         "type": "scatter",
         "x": [
          69.58183762022777,
          74.01235697830586
         ],
         "y": [
          31.327765977132767,
          25.726215078888735
         ]
        },
        {
         "line": {
          "color": "black"
         },
         "mode": "lines",
         "name": "Wire Connection",
         "showlegend": false,
         "type": "scatter",
         "x": [
          74.01235697830586,
          79.54145883425421
         ],
         "y": [
          25.726215078888735,
          11.32207338662834
         ]
        },
        {
         "line": {
          "color": "black"
         },
         "mode": "lines",
         "name": "Wire Connection",
         "showlegend": false,
         "type": "scatter",
         "x": [
          79.54145883425421,
          86.28183481522531
         ],
         "y": [
          11.32207338662834,
          46.77505283510387
         ]
        },
        {
         "line": {
          "color": "black"
         },
         "mode": "lines",
         "name": "Wire Connection",
         "showlegend": false,
         "type": "scatter",
         "x": [
          86.28183481522531,
          87.64148236815602
         ],
         "y": [
          46.77505283510387,
          82.08132601409405
         ]
        },
        {
         "line": {
          "color": "black",
          "dash": "dash"
         },
         "mode": "lines",
         "name": "Circuit Connection",
         "showlegend": false,
         "type": "scatter",
         "x": [
          81.67906903864657,
          80.73312320683308
         ],
         "y": [
          17.41013608655382,
          17.5899807896858
         ]
        },
        {
         "mode": "text",
         "showlegend": false,
         "text": [
          "0.96"
         ],
         "textposition": "middle center",
         "type": "scatter",
         "x": [
          81.20609612273984
         ],
         "y": [
          17.500058438119808
         ]
        },
        {
         "line": {
          "color": "black",
          "dash": "dash"
         },
         "mode": "lines",
         "name": "Circuit Connection",
         "showlegend": false,
         "type": "scatter",
         "x": [
          27.025455964122326,
          19.510062229438383
         ],
         "y": [
          41.1520658945776,
          41.917907882551255
         ]
        },
        {
         "mode": "text",
         "showlegend": false,
         "text": [
          "7.55"
         ],
         "textposition": "middle center",
         "type": "scatter",
         "x": [
          23.267759096780352
         ],
         "y": [
          41.53498688856443
         ]
        },
        {
         "line": {
          "color": "black",
          "dash": "dash"
         },
         "mode": "lines",
         "name": "Circuit Connection",
         "showlegend": false,
         "type": "scatter",
         "x": [
          27.143279946174538,
          20.11549303399013
         ],
         "y": [
          46.17981503116314,
          47.30321345753302
         ]
        },
        {
         "mode": "text",
         "showlegend": false,
         "text": [
          "7.12"
         ],
         "textposition": "middle center",
         "type": "scatter",
         "x": [
          23.629386490082332
         ],
         "y": [
          46.74151424434808
         ]
        },
        {
         "line": {
          "color": "black",
          "dash": "dash"
         },
         "mode": "lines",
         "name": "Circuit Connection",
         "showlegend": false,
         "type": "scatter",
         "x": [
          18.101269335534344,
          16.80587897876717
         ],
         "y": [
          82.75670462160082,
          80.22552003874961
         ]
        },
        {
         "mode": "text",
         "showlegend": false,
         "text": [
          "2.84"
         ],
         "textposition": "middle center",
         "type": "scatter",
         "x": [
          17.453574157150754
         ],
         "y": [
          81.49111233017521
         ]
        },
        {
         "line": {
          "color": "black",
          "dash": "dash"
         },
         "mode": "lines",
         "name": "Circuit Connection",
         "showlegend": false,
         "type": "scatter",
         "x": [
          12.761898677851702,
          16.80587897876717
         ],
         "y": [
          89.09105540605843,
          80.22552003874961
         ]
        },
        {
         "mode": "text",
         "showlegend": false,
         "text": [
          "9.74"
         ],
         "textposition": "middle center",
         "type": "scatter",
         "x": [
          14.783888828309436
         ],
         "y": [
          84.65828772240403
         ]
        },
        {
         "line": {
          "color": "black",
          "dash": "dash"
         },
         "mode": "lines",
         "name": "Circuit Connection",
         "showlegend": false,
         "type": "scatter",
         "x": [
          88.06784170357295,
          87.54962183743214
         ],
         "y": [
          79.67600630406929,
          79.69596299474878
         ]
        },
        {
         "mode": "text",
         "showlegend": false,
         "text": [
          "0.52"
         ],
         "textposition": "middle center",
         "type": "scatter",
         "x": [
          87.80873177050255
         ],
         "y": [
          79.68598464940904
         ]
        },
        {
         "line": {
          "color": "black",
          "dash": "dash"
         },
         "mode": "lines",
         "name": "Circuit Connection",
         "showlegend": false,
         "type": "scatter",
         "x": [
          78.55207062472648,
          87.22351801388005
         ],
         "y": [
          71.56188998387034,
          71.22795181477336
         ]
        },
        {
         "mode": "text",
         "showlegend": false,
         "text": [
          "8.68"
         ],
         "textposition": "middle center",
         "type": "scatter",
         "x": [
          82.88779431930327
         ],
         "y": [
          71.39492089932185
         ]
        },
        {
         "line": {
          "color": "black",
          "dash": "dash"
         },
         "mode": "lines",
         "name": "Circuit Connection",
         "showlegend": false,
         "type": "scatter",
         "x": [
          3.957254972136559,
          10.954233890473585
         ],
         "y": [
          71.49616895599384,
          68.11525027214388
         ]
        },
        {
         "mode": "text",
         "showlegend": false,
         "text": [
          "7.77"
         ],
         "textposition": "middle center",
         "type": "scatter",
         "x": [
          7.455744431305072
         ],
         "y": [
          69.80570961406886
         ]
        },
        {
         "line": {
          "color": "black",
          "dash": "dash"
         },
         "mode": "lines",
         "name": "Circuit Connection",
         "showlegend": false,
         "type": "scatter",
         "x": [
          45.151701723785756,
          43.88929689184047
         ],
         "y": [
          52.22379579878075,
          52.428746025117505
         ]
        },
        {
         "mode": "text",
         "showlegend": false,
         "text": [
          "1.28"
         ],
         "textposition": "middle center",
         "type": "scatter",
         "x": [
          44.52049930781311
         ],
         "y": [
          52.32627091194912
         ]
        },
        {
         "line": {
          "color": "black",
          "dash": "dash"
         },
         "mode": "lines",
         "name": "Circuit Connection",
         "showlegend": false,
         "type": "scatter",
         "x": [
          28.505298484521624,
          18.479962216447436
         ],
         "y": [
          30.78767292632496,
          31.80928586221317
         ]
        },
        {
         "mode": "text",
         "showlegend": false,
         "text": [
          "10.08"
         ],
         "textposition": "middle center",
         "type": "scatter",
         "x": [
          23.492630350484532
         ],
         "y": [
          31.298479394269066
         ]
        },
        {
         "line": {
          "color": "black",
          "dash": "dash"
         },
         "mode": "lines",
         "name": "Circuit Connection",
         "showlegend": false,
         "type": "scatter",
         "x": [
          70.62690681125126,
          87.64148236815602
         ],
         "y": [
          92.64801346303034,
          82.08132601409405
         ]
        },
        {
         "mode": "text",
         "showlegend": false,
         "text": [
          "20.03"
         ],
         "textposition": "middle center",
         "type": "scatter",
         "x": [
          79.13419458970364
         ],
         "y": [
          87.36466973856218
         ]
        },
        {
         "line": {
          "color": "black",
          "dash": "dash"
         },
         "mode": "lines",
         "name": "Circuit Connection",
         "showlegend": false,
         "type": "scatter",
         "x": [
          71.93119501657027,
          79.54145883425421
         ],
         "y": [
          6.650509366593926,
          11.32207338662834
         ]
        },
        {
         "mode": "text",
         "showlegend": false,
         "text": [
          "8.93"
         ],
         "textposition": "middle center",
         "type": "scatter",
         "x": [
          75.73632692541224
         ],
         "y": [
          8.986291376611133
         ]
        },
        {
         "line": {
          "color": "black",
          "dash": "dash"
         },
         "mode": "lines",
         "name": "Circuit Connection",
         "showlegend": false,
         "type": "scatter",
         "x": [
          18.13253486874533,
          16.86994886051735
         ],
         "y": [
          55.83314835260388,
          55.82983244949803
         ]
        },
        {
         "mode": "text",
         "showlegend": false,
         "text": [
          "1.26"
         ],
         "textposition": "middle center",
         "type": "scatter",
         "x": [
          17.50124186463134
         ],
         "y": [
          55.83149040105096
         ]
        },
        {
         "line": {
          "color": "black",
          "dash": "dash"
         },
         "mode": "lines",
         "name": "Circuit Connection",
         "showlegend": false,
         "type": "scatter",
         "x": [
          54.687549207607276,
          59.212270525699424
         ],
         "y": [
          57.44064688379693,
          57.068044869565334
         ]
        },
        {
         "mode": "text",
         "showlegend": false,
         "text": [
          "4.54"
         ],
         "textposition": "middle center",
         "type": "scatter",
         "x": [
          56.94990986665335
         ],
         "y": [
          57.25434587668113
         ]
        },
        {
         "line": {
          "color": "black",
          "dash": "dash"
         },
         "mode": "lines",
         "name": "Circuit Connection",
         "showlegend": false,
         "type": "scatter",
         "x": [
          97.94032990987867,
          87.3813214037509
         ],
         "y": [
          74.9190395517761,
          75.32566785842145
         ]
        },
        {
         "mode": "text",
         "showlegend": false,
         "text": [
          "10.57"
         ],
         "textposition": "middle center",
         "type": "scatter",
         "x": [
          92.66082565681478
         ],
         "y": [
          75.12235370509877
         ]
        },
        {
         "line": {
          "color": "black",
          "dash": "dash"
         },
         "mode": "lines",
         "name": "Circuit Connection",
         "showlegend": false,
         "type": "scatter",
         "x": [
          13.787881975355464,
          16.8769368111663
         ],
         "y": [
          53.16093971473856,
          53.16905243455128
         ]
        },
        {
         "mode": "text",
         "showlegend": false,
         "text": [
          "3.09"
         ],
         "textposition": "middle center",
         "type": "scatter",
         "x": [
          15.332409393260882
         ],
         "y": [
          53.16499607464492
         ]
        },
        {
         "line": {
          "color": "black",
          "dash": "dash"
         },
         "mode": "lines",
         "name": "Circuit Connection",
         "showlegend": false,
         "type": "scatter",
         "x": [
          29.043068761638747,
          39.734123852654676
         ],
         "y": [
          26.587340034375238,
          26.834675620834147
         ]
        },
        {
         "mode": "text",
         "showlegend": false,
         "text": [
          "10.69"
         ],
         "textposition": "middle center",
         "type": "scatter",
         "x": [
          34.38859630714671
         ],
         "y": [
          26.711007827604693
         ]
        },
        {
         "line": {
          "color": "black",
          "dash": "dash"
         },
         "mode": "lines",
         "name": "Circuit Connection",
         "showlegend": false,
         "type": "scatter",
         "x": [
          67.06667574038228,
          74.86196418775876
         ],
         "y": [
          20.520600078831063,
          23.512860551053503
         ]
        },
        {
         "mode": "text",
         "showlegend": false,
         "text": [
          "8.35"
         ],
         "textposition": "middle center",
         "type": "scatter",
         "x": [
          70.96431996407051
         ],
         "y": [
          22.016730314942283
         ]
        },
        {
         "line": {
          "color": "black",
          "dash": "dash"
         },
         "mode": "lines",
         "name": "Circuit Connection",
         "showlegend": false,
         "type": "scatter",
         "x": [
          86.93239130215423,
          82.21479418518754
         ],
         "y": [
          24.4863458278618,
          25.383262780675707
         ]
        },
        {
         "mode": "text",
         "showlegend": false,
         "text": [
          "4.80"
         ],
         "textposition": "middle center",
         "type": "scatter",
         "x": [
          84.57359274367089
         ],
         "y": [
          24.934804304268752
         ]
        },
        {
         "line": {
          "color": "black",
          "dash": "dash"
         },
         "mode": "lines",
         "name": "Circuit Connection",
         "showlegend": false,
         "type": "scatter",
         "x": [
          86.58660420708655,
          79.67824383837389
         ],
         "y": [
          10.728105840344714,
          12.041534133863376
         ]
        },
        {
         "mode": "text",
         "showlegend": false,
         "text": [
          "7.03"
         ],
         "textposition": "middle center",
         "type": "scatter",
         "x": [
          83.13242402273022
         ],
         "y": [
          11.384819987104045
         ]
        },
        {
         "line": {
          "color": "black",
          "dash": "dash"
         },
         "mode": "lines",
         "name": "Circuit Connection",
         "showlegend": false,
         "type": "scatter",
         "x": [
          21.072196196232774,
          16.9718997769922
         ],
         "y": [
          1.6969953382807934,
          17.010302276863044
         ]
        },
        {
         "mode": "text",
         "showlegend": false,
         "text": [
          "15.85"
         ],
         "textposition": "middle center",
         "type": "scatter",
         "x": [
          19.022047986612485
         ],
         "y": [
          9.353648807571918
         ]
        },
        {
         "line": {
          "color": "black",
          "dash": "dash"
         },
         "mode": "lines",
         "name": "Circuit Connection",
         "showlegend": false,
         "type": "scatter",
         "x": [
          4.35425718801522,
          12.768427193701164
         ],
         "y": [
          75.9355143583485,
          71.86981330174524
         ]
        },
        {
         "mode": "text",
         "showlegend": false,
         "text": [
          "9.34"
         ],
         "textposition": "middle center",
         "type": "scatter",
         "x": [
          8.561342190858191
         ],
         "y": [
          73.90266383004686
         ]
        },
        {
         "line": {
          "color": "black",
          "dash": "dash"
         },
         "mode": "lines",
         "name": "Circuit Connection",
         "showlegend": false,
         "type": "scatter",
         "x": [
          57.16567991645371,
          56.03628521317879
         ],
         "y": [
          18.407218636498833,
          18.50022209720261
         ]
        },
        {
         "mode": "text",
         "showlegend": false,
         "text": [
          "1.13"
         ],
         "textposition": "middle center",
         "type": "scatter",
         "x": [
          56.60098256481625
         ],
         "y": [
          18.45372036685072
         ]
        },
        {
         "line": {
          "color": "black",
          "dash": "dash"
         },
         "mode": "lines",
         "name": "Circuit Connection",
         "showlegend": false,
         "type": "scatter",
         "x": [
          30.29449728651291,
          29.36936875696957
         ],
         "y": [
          78.2880340951697,
          77.7911934773568
         ]
        },
        {
         "mode": "text",
         "showlegend": false,
         "text": [
          "1.05"
         ],
         "textposition": "middle center",
         "type": "scatter",
         "x": [
          29.831933021741243
         ],
         "y": [
          78.03961378626326
         ]
        },
        {
         "line": {
          "color": "black",
          "dash": "dash"
         },
         "mode": "lines",
         "name": "Circuit Connection",
         "showlegend": false,
         "type": "scatter",
         "x": [
          14.127204218130107,
          16.884849818281474
         ],
         "y": [
          50.14879922845809,
          50.15604157515827
         ]
        },
        {
         "mode": "text",
         "showlegend": false,
         "text": [
          "2.76"
         ],
         "textposition": "middle center",
         "type": "scatter",
         "x": [
          15.50602701820579
         ],
         "y": [
          50.15242040180818
         ]
        },
        {
         "line": {
          "color": "black",
          "dash": "dash"
         },
         "mode": "lines",
         "name": "Circuit Connection",
         "showlegend": false,
         "type": "scatter",
         "x": [
          79.70022426272268,
          85.0839404054772
         ],
         "y": [
          41.49793727418943,
          40.474376728883854
         ]
        },
        {
         "mode": "text",
         "showlegend": false,
         "text": [
          "5.48"
         ],
         "textposition": "middle center",
         "type": "scatter",
         "x": [
          82.39208233409994
         ],
         "y": [
          40.98615700153664
         ]
        },
        {
         "line": {
          "color": "black",
          "dash": "dash"
         },
         "mode": "lines",
         "name": "Circuit Connection",
         "showlegend": false,
         "type": "scatter",
         "x": [
          19.28721750152175,
          18.73909942521583
         ],
         "y": [
          34.29640739612254,
          34.35226233227381
         ]
        },
        {
         "mode": "text",
         "showlegend": false,
         "text": [
          "0.55"
         ],
         "textposition": "middle center",
         "type": "scatter",
         "x": [
          19.01315846336879
         ],
         "y": [
          34.32433486419818
         ]
        },
        {
         "line": {
          "color": "black",
          "dash": "dash"
         },
         "mode": "lines",
         "name": "Circuit Connection",
         "showlegend": false,
         "type": "scatter",
         "x": [
          24.285486402509125,
          25.993761897889797
         ],
         "y": [
          96.5045023801125,
          84.07665021719366
         ]
        },
        {
         "mode": "text",
         "showlegend": false,
         "text": [
          "12.54"
         ],
         "textposition": "middle center",
         "type": "scatter",
         "x": [
          25.13962415019946
         ],
         "y": [
          90.29057629865308
         ]
        },
        {
         "line": {
          "color": "black",
          "dash": "dash"
         },
         "mode": "lines",
         "name": "Circuit Connection",
         "showlegend": false,
         "type": "scatter",
         "x": [
          55.331244019367695,
          56.45931076312184
         ],
         "y": [
          23.73015961882583,
          23.637265513009897
         ]
        },
        {
         "mode": "text",
         "showlegend": false,
         "text": [
          "1.13"
         ],
         "textposition": "middle center",
         "type": "scatter",
         "x": [
          55.89527739124477
         ],
         "y": [
          23.683712565917865
         ]
        },
        {
         "line": {
          "color": "black",
          "dash": "dash"
         },
         "mode": "lines",
         "name": "Circuit Connection",
         "showlegend": false,
         "type": "scatter",
         "x": [
          37.3366863136953,
          55.12165732779044
         ],
         "y": [
          0.19102889866459138,
          7.393367777929072
         ]
        },
        {
         "mode": "text",
         "showlegend": false,
         "text": [
          "19.19"
         ],
         "textposition": "middle center",
         "type": "scatter",
         "x": [
          46.22917182074287
         ],
         "y": [
          3.7921983382968314
         ]
        },
        {
         "line": {
          "color": "black",
          "dash": "dash"
         },
         "mode": "lines",
         "name": "Circuit Connection",
         "showlegend": false,
         "type": "scatter",
         "x": [
          16.94101320118091,
          25.993761897889797
         ],
         "y": [
          97.90230298256775,
          84.07665021719366
         ]
        },
        {
         "mode": "text",
         "showlegend": false,
         "text": [
          "16.53"
         ],
         "textposition": "middle center",
         "type": "scatter",
         "x": [
          21.467387549535353
         ],
         "y": [
          90.9894765998807
         ]
        },
        {
         "line": {
          "color": "black",
          "dash": "dash"
         },
         "mode": "lines",
         "name": "Circuit Connection",
         "showlegend": false,
         "type": "scatter",
         "x": [
          93.06009195741673,
          87.64148236815602
         ],
         "y": [
          90.34428711130327,
          82.08132601409405
         ]
        },
        {
         "mode": "text",
         "showlegend": false,
         "text": [
          "9.88"
         ],
         "textposition": "middle center",
         "type": "scatter",
         "x": [
          90.35078716278638
         ],
         "y": [
          86.21280656269866
         ]
        },
        {
         "line": {
          "color": "black",
          "dash": "dash"
         },
         "mode": "lines",
         "name": "Circuit Connection",
         "showlegend": false,
         "type": "scatter",
         "x": [
          70.82462846610204,
          72.11187339063221
         ],
         "y": [
          27.110875805361655,
          28.129015899117928
         ]
        },
        {
         "mode": "text",
         "showlegend": false,
         "text": [
          "1.64"
         ],
         "textposition": "middle center",
         "type": "scatter",
         "x": [
          71.46825092836713
         ],
         "y": [
          27.61994585223979
         ]
        },
        {
         "line": {
          "color": "black",
          "dash": "dash"
         },
         "mode": "lines",
         "name": "Circuit Connection",
         "showlegend": false,
         "type": "scatter",
         "x": [
          7.0061251761257655,
          16.9718997769922
         ],
         "y": [
          15.84530797601722,
          17.010302276863044
         ]
        },
        {
         "mode": "text",
         "showlegend": false,
         "text": [
          "10.03"
         ],
         "textposition": "middle center",
         "type": "scatter",
         "x": [
          11.989012476558983
         ],
         "y": [
          16.427805126440134
         ]
        },
        {
         "line": {
          "color": "black",
          "dash": "dash"
         },
         "mode": "lines",
         "name": "Circuit Connection",
         "showlegend": false,
         "type": "scatter",
         "x": [
          85.10532709357774,
          82.83968701192148
         ],
         "y": [
          28.239322381772546,
          28.67006942265567
         ]
        },
        {
         "mode": "text",
         "showlegend": false,
         "text": [
          "2.31"
         ],
         "textposition": "middle center",
         "type": "scatter",
         "x": [
          83.97250705274962
         ],
         "y": [
          28.454695902214105
         ]
        },
        {
         "line": {
          "color": "black",
          "dash": "dash"
         },
         "mode": "lines",
         "name": "Circuit Connection",
         "showlegend": false,
         "type": "scatter",
         "x": [
          68.76788419858231,
          75.22759912371906
         ],
         "y": [
          20.08073267237537,
          22.560326565891565
         ]
        },
        {
         "mode": "text",
         "showlegend": false,
         "text": [
          "6.92"
         ],
         "textposition": "middle center",
         "type": "scatter",
         "x": [
          71.99774166115068
         ],
         "y": [
          21.320529619133467
         ]
        },
        {
         "line": {
          "color": "black",
          "dash": "dash"
         },
         "mode": "lines",
         "name": "Circuit Connection",
         "showlegend": false,
         "type": "scatter",
         "x": [
          11.10458241563993,
          16.9718997769922
         ],
         "y": [
          6.005879912209277,
          17.010302276863044
         ]
        },
        {
         "mode": "text",
         "showlegend": false,
         "text": [
          "12.47"
         ],
         "textposition": "middle center",
         "type": "scatter",
         "x": [
          14.038241096316064
         ],
         "y": [
          11.50809109453616
         ]
        },
        {
         "line": {
          "color": "black",
          "dash": "dash"
         },
         "mode": "lines",
         "name": "Circuit Connection",
         "showlegend": false,
         "type": "scatter",
         "x": [
          74.26672865829146,
          79.54145883425421
         ],
         "y": [
          5.319866555746511,
          11.32207338662834
         ]
        },
        {
         "mode": "text",
         "showlegend": false,
         "text": [
          "7.99"
         ],
         "textposition": "middle center",
         "type": "scatter",
         "x": [
          76.90409374627284
         ],
         "y": [
          8.320969971187425
         ]
        },
        {
         "line": {
          "color": "black",
          "dash": "dash"
         },
         "mode": "lines",
         "name": "Circuit Connection",
         "showlegend": false,
         "type": "scatter",
         "x": [
          96.41506646556954,
          83.15023354174316
         ],
         "y": [
          27.781548938784205,
          30.303479750305844
         ]
        },
        {
         "mode": "text",
         "showlegend": false,
         "text": [
          "13.50"
         ],
         "textposition": "middle center",
         "type": "scatter",
         "x": [
          89.78265000365636
         ],
         "y": [
          29.042514344545026
         ]
        },
        {
         "line": {
          "color": "black",
          "dash": "dash"
         },
         "mode": "lines",
         "name": "Circuit Connection",
         "showlegend": false,
         "type": "scatter",
         "x": [
          82.85262138117378,
          86.41577386504188
         ],
         "y": [
          50.39029550639954,
          50.25307820422636
         ]
        },
        {
         "mode": "text",
         "showlegend": false,
         "text": [
          "3.57"
         ],
         "textposition": "middle center",
         "type": "scatter",
         "x": [
          84.63419762310784
         ],
         "y": [
          50.32168685531295
         ]
        },
        {
         "line": {
          "color": "black",
          "dash": "dash"
         },
         "mode": "lines",
         "name": "Circuit Connection",
         "showlegend": false,
         "type": "scatter",
         "x": [
          67.39592930271091,
          71.92325216908095
         ],
         "y": [
          24.786627700523212,
          28.367491636975153
         ]
        },
        {
         "mode": "text",
         "showlegend": false,
         "text": [
          "5.77"
         ],
         "textposition": "middle center",
         "type": "scatter",
         "x": [
          69.65959073589593
         ],
         "y": [
          26.577059668749182
         ]
        },
        {
         "line": {
          "color": "black",
          "dash": "dash"
         },
         "mode": "lines",
         "name": "Circuit Connection",
         "showlegend": false,
         "type": "scatter",
         "x": [
          58.731148822994996,
          56.078866344934006
         ],
         "y": [
          18.798899045437125,
          19.017309357180565
         ]
        },
        {
         "mode": "text",
         "showlegend": false,
         "text": [
          "2.66"
         ],
         "textposition": "middle center",
         "type": "scatter",
         "x": [
          57.405007583964505
         ],
         "y": [
          18.908104201308845
         ]
        },
        {
         "line": {
          "color": "black",
          "dash": "dash"
         },
         "mode": "lines",
         "name": "Circuit Connection",
         "showlegend": false,
         "type": "scatter",
         "x": [
          33.6898216617606,
          39.691614847467605
         ],
         "y": [
          53.15666286926199,
          53.16635196973104
         ]
        },
        {
         "mode": "text",
         "showlegend": false,
         "text": [
          "6.00"
         ],
         "textposition": "middle center",
         "type": "scatter",
         "x": [
          36.6907182546141
         ],
         "y": [
          53.161507419496516
         ]
        },
        {
         "line": {
          "color": "black",
          "dash": "dash"
         },
         "mode": "lines",
         "name": "Circuit Connection",
         "showlegend": false,
         "type": "scatter",
         "x": [
          41.54027730035176,
          54.28427564825863
         ],
         "y": [
          9.392368693590413,
          11.809093038919592
         ]
        },
        {
         "mode": "text",
         "showlegend": false,
         "text": [
          "12.97"
         ],
         "textposition": "middle center",
         "type": "scatter",
         "x": [
          47.912276474305195
         ],
         "y": [
          10.600730866255002
         ]
        },
        {
         "line": {
          "color": "black",
          "dash": "dash"
         },
         "mode": "lines",
         "name": "Circuit Connection",
         "showlegend": false,
         "type": "scatter",
         "x": [
          58.27981227781016,
          56.86508814928767
         ],
         "y": [
          28.448354735929037,
          28.564854520736066
         ]
        },
        {
         "mode": "text",
         "showlegend": false,
         "text": [
          "1.42"
         ],
         "textposition": "middle center",
         "type": "scatter",
         "x": [
          57.57245021354892
         ],
         "y": [
          28.506604628332553
         ]
        },
        {
         "line": {
          "color": "black",
          "dash": "dash"
         },
         "mode": "lines",
         "name": "Circuit Connection",
         "showlegend": false,
         "type": "scatter",
         "x": [
          92.06936628014104,
          86.28183481522531
         ],
         "y": [
          46.24021294897529,
          46.77505283510387
         ]
        },
        {
         "mode": "text",
         "showlegend": false,
         "text": [
          "5.81"
         ],
         "textposition": "middle center",
         "type": "scatter",
         "x": [
          89.17560054768317
         ],
         "y": [
          46.50763289203958
         ]
        },
        {
         "line": {
          "color": "black",
          "dash": "dash"
         },
         "mode": "lines",
         "name": "Circuit Connection",
         "showlegend": false,
         "type": "scatter",
         "x": [
          97.60165320209013,
          87.64148236815602
         ],
         "y": [
          83.33871967051479,
          82.08132601409405
         ]
        },
        {
         "mode": "text",
         "showlegend": false,
         "text": [
          "10.04"
         ],
         "textposition": "middle center",
         "type": "scatter",
         "x": [
          92.62156778512308
         ],
         "y": [
          82.71002284230443
         ]
        },
        {
         "line": {
          "color": "black",
          "dash": "dash"
         },
         "mode": "lines",
         "name": "Circuit Connection",
         "showlegend": false,
         "type": "scatter",
         "x": [
          46.9947624755654,
          60.26064588670764
         ],
         "y": [
          77.48628098872234,
          69.79907198196302
         ]
        },
        {
         "mode": "text",
         "showlegend": false,
         "text": [
          "15.33"
         ],
         "textposition": "middle center",
         "type": "scatter",
         "x": [
          53.62770418113652
         ],
         "y": [
          73.64267648534269
         ]
        },
        {
         "line": {
          "color": "black",
          "dash": "dash"
         },
         "mode": "lines",
         "name": "Circuit Connection",
         "showlegend": false,
         "type": "scatter",
         "x": [
          39.16386265283784,
          39.734123852654676
         ],
         "y": [
          17.096537246009447,
          26.834675620834147
         ]
        },
        {
         "mode": "text",
         "showlegend": false,
         "text": [
          "9.75"
         ],
         "textposition": "middle center",
         "type": "scatter",
         "x": [
          39.44899325274626
         ],
         "y": [
          21.965606433421797
         ]
        },
        {
         "line": {
          "color": "black",
          "dash": "dash"
         },
         "mode": "lines",
         "name": "Circuit Connection",
         "showlegend": false,
         "type": "scatter",
         "x": [
          0.7157335688142252,
          16.959128281920986
         ],
         "y": [
          21.830604645383968,
          21.873264331637237
         ]
        },
        {
         "mode": "text",
         "showlegend": false,
         "text": [
          "16.24"
         ],
         "textposition": "middle center",
         "type": "scatter",
         "x": [
          8.837430925367606
         ],
         "y": [
          21.8519344885106
         ]
        },
        {
         "line": {
          "color": "black",
          "dash": "dash"
         },
         "mode": "lines",
         "name": "Thermoelectric Connection",
         "showlegend": false,
         "type": "scatter",
         "x": [
          87.64148236815603,
          87.64148236815602
         ],
         "y": [
          82.08132601409403,
          82.08132601409403
         ]
        },
        {
         "mode": "text",
         "showlegend": false,
         "text": [
          "0.00"
         ],
         "textposition": "middle center",
         "type": "scatter",
         "x": [
          87.64148236815603
         ],
         "y": [
          82.08132601409403
         ]
        },
        {
         "line": {
          "color": "black",
          "dash": "dash"
         },
         "mode": "lines",
         "name": "Thermoelectric Connection",
         "showlegend": false,
         "type": "scatter",
         "x": [
          23.94309231887311,
          16.9718997769922
         ],
         "y": [
          14.38152618565066,
          17.010302276863044
         ]
        },
        {
         "mode": "text",
         "showlegend": false,
         "text": [
          "7.45"
         ],
         "textposition": "middle center",
         "type": "scatter",
         "x": [
          20.457496047932654
         ],
         "y": [
          15.695914231256852
         ]
        },
        {
         "line": {
          "color": "black",
          "dash": "dash"
         },
         "mode": "lines",
         "name": "Thermoelectric Connection",
         "showlegend": false,
         "type": "scatter",
         "x": [
          80.27919764454981,
          79.86021237166248
         ],
         "y": [
          12.91899273542015,
          12.998650871737148
         ]
        },
        {
         "mode": "text",
         "showlegend": false,
         "text": [
          "0.43"
         ],
         "textposition": "middle center",
         "type": "scatter",
         "x": [
          80.06970500810615
         ],
         "y": [
          12.95882180357865
         ]
        },
        {
         "line": {
          "color": "black",
          "dash": "dash"
         },
         "mode": "lines",
         "name": "Thermoelectric Connection",
         "showlegend": false,
         "type": "scatter",
         "x": [
          15.813668151962972,
          16.80587897876717
         ],
         "y": [
          84.56775468569307,
          80.22552003874961
         ]
        },
        {
         "mode": "text",
         "showlegend": false,
         "text": [
          "4.45"
         ],
         "textposition": "middle center",
         "type": "scatter",
         "x": [
          16.30977356536507
         ],
         "y": [
          82.39663736222134
         ]
        },
        {
         "line": {
          "color": "black",
          "dash": "dash"
         },
         "mode": "lines",
         "name": "Thermoelectric Connection",
         "showlegend": false,
         "type": "scatter",
         "x": [
          87.22852109663697,
          84.85700430155943
         ],
         "y": [
          38.8298634100242,
          39.28073989749238
         ]
        },
        {
         "mode": "text",
         "showlegend": false,
         "text": [
          "2.41"
         ],
         "textposition": "middle center",
         "type": "scatter",
         "x": [
          86.0427626990982
         ],
         "y": [
          39.05530165375829
         ]
        },
        {
         "line": {
          "color": "black",
          "dash": "dash"
         },
         "mode": "lines",
         "name": "Thermoelectric Connection",
         "showlegend": false,
         "type": "scatter",
         "x": [
          62.945375343050515,
          56.42923392674021
         ],
         "y": [
          22.735433536722763,
          23.2720251290109
         ]
        },
        {
         "mode": "text",
         "showlegend": false,
         "text": [
          "6.54"
         ],
         "textposition": "middle center",
         "type": "scatter",
         "x": [
          59.68730463489536
         ],
         "y": [
          23.003729332866833
         ]
        },
        {
         "line": {
          "color": "black",
          "dash": "dash"
         },
         "mode": "lines",
         "name": "Thermoelectric Connection",
         "showlegend": false,
         "type": "scatter",
         "x": [
          19.91726241234159,
          20.03137022949862
         ],
         "y": [
          46.7951959362773,
          46.776955693106515
         ]
        },
        {
         "mode": "text",
         "showlegend": false,
         "text": [
          "0.12"
         ],
         "textposition": "middle center",
         "type": "scatter",
         "x": [
          19.974316320920103
         ],
         "y": [
          46.78607581469191
         ]
        },
        {
         "line": {
          "color": "black",
          "dash": "dash"
         },
         "mode": "lines",
         "name": "Thermoelectric Connection",
         "showlegend": false,
         "type": "scatter",
         "x": [
          45.130958767179756,
          45.130958767179756
         ],
         "y": [
          60.076846635140505,
          60.076846635140505
         ]
        },
        {
         "mode": "text",
         "showlegend": false,
         "text": [
          "0.00"
         ],
         "textposition": "middle center",
         "type": "scatter",
         "x": [
          45.130958767179756
         ],
         "y": [
          60.076846635140505
         ]
        }
       ],
       "layout": {
        "height": 800,
        "legend": {
         "bgcolor": "rgba(255, 255, 255, 0.5)",
         "bordercolor": "rgba(0, 0, 0, 0.5)",
         "x": 0.01,
         "y": 0.99
        },
        "plot_bgcolor": "lightgreen",
        "template": {
         "data": {
          "bar": [
           {
            "error_x": {
             "color": "#2a3f5f"
            },
            "error_y": {
             "color": "#2a3f5f"
            },
            "marker": {
             "line": {
              "color": "#E5ECF6",
              "width": 0.5
             },
             "pattern": {
              "fillmode": "overlay",
              "size": 10,
              "solidity": 0.2
             }
            },
            "type": "bar"
           }
          ],
          "barpolar": [
           {
            "marker": {
             "line": {
              "color": "#E5ECF6",
              "width": 0.5
             },
             "pattern": {
              "fillmode": "overlay",
              "size": 10,
              "solidity": 0.2
             }
            },
            "type": "barpolar"
           }
          ],
          "carpet": [
           {
            "aaxis": {
             "endlinecolor": "#2a3f5f",
             "gridcolor": "white",
             "linecolor": "white",
             "minorgridcolor": "white",
             "startlinecolor": "#2a3f5f"
            },
            "baxis": {
             "endlinecolor": "#2a3f5f",
             "gridcolor": "white",
             "linecolor": "white",
             "minorgridcolor": "white",
             "startlinecolor": "#2a3f5f"
            },
            "type": "carpet"
           }
          ],
          "choropleth": [
           {
            "colorbar": {
             "outlinewidth": 0,
             "ticks": ""
            },
            "type": "choropleth"
           }
          ],
          "contour": [
           {
            "colorbar": {
             "outlinewidth": 0,
             "ticks": ""
            },
            "colorscale": [
             [
              0,
              "#0d0887"
             ],
             [
              0.1111111111111111,
              "#46039f"
             ],
             [
              0.2222222222222222,
              "#7201a8"
             ],
             [
              0.3333333333333333,
              "#9c179e"
             ],
             [
              0.4444444444444444,
              "#bd3786"
             ],
             [
              0.5555555555555556,
              "#d8576b"
             ],
             [
              0.6666666666666666,
              "#ed7953"
             ],
             [
              0.7777777777777778,
              "#fb9f3a"
             ],
             [
              0.8888888888888888,
              "#fdca26"
             ],
             [
              1,
              "#f0f921"
             ]
            ],
            "type": "contour"
           }
          ],
          "contourcarpet": [
           {
            "colorbar": {
             "outlinewidth": 0,
             "ticks": ""
            },
            "type": "contourcarpet"
           }
          ],
          "heatmap": [
           {
            "colorbar": {
             "outlinewidth": 0,
             "ticks": ""
            },
            "colorscale": [
             [
              0,
              "#0d0887"
             ],
             [
              0.1111111111111111,
              "#46039f"
             ],
             [
              0.2222222222222222,
              "#7201a8"
             ],
             [
              0.3333333333333333,
              "#9c179e"
             ],
             [
              0.4444444444444444,
              "#bd3786"
             ],
             [
              0.5555555555555556,
              "#d8576b"
             ],
             [
              0.6666666666666666,
              "#ed7953"
             ],
             [
              0.7777777777777778,
              "#fb9f3a"
             ],
             [
              0.8888888888888888,
              "#fdca26"
             ],
             [
              1,
              "#f0f921"
             ]
            ],
            "type": "heatmap"
           }
          ],
          "heatmapgl": [
           {
            "colorbar": {
             "outlinewidth": 0,
             "ticks": ""
            },
            "colorscale": [
             [
              0,
              "#0d0887"
             ],
             [
              0.1111111111111111,
              "#46039f"
             ],
             [
              0.2222222222222222,
              "#7201a8"
             ],
             [
              0.3333333333333333,
              "#9c179e"
             ],
             [
              0.4444444444444444,
              "#bd3786"
             ],
             [
              0.5555555555555556,
              "#d8576b"
             ],
             [
              0.6666666666666666,
              "#ed7953"
             ],
             [
              0.7777777777777778,
              "#fb9f3a"
             ],
             [
              0.8888888888888888,
              "#fdca26"
             ],
             [
              1,
              "#f0f921"
             ]
            ],
            "type": "heatmapgl"
           }
          ],
          "histogram": [
           {
            "marker": {
             "pattern": {
              "fillmode": "overlay",
              "size": 10,
              "solidity": 0.2
             }
            },
            "type": "histogram"
           }
          ],
          "histogram2d": [
           {
            "colorbar": {
             "outlinewidth": 0,
             "ticks": ""
            },
            "colorscale": [
             [
              0,
              "#0d0887"
             ],
             [
              0.1111111111111111,
              "#46039f"
             ],
             [
              0.2222222222222222,
              "#7201a8"
             ],
             [
              0.3333333333333333,
              "#9c179e"
             ],
             [
              0.4444444444444444,
              "#bd3786"
             ],
             [
              0.5555555555555556,
              "#d8576b"
             ],
             [
              0.6666666666666666,
              "#ed7953"
             ],
             [
              0.7777777777777778,
              "#fb9f3a"
             ],
             [
              0.8888888888888888,
              "#fdca26"
             ],
             [
              1,
              "#f0f921"
             ]
            ],
            "type": "histogram2d"
           }
          ],
          "histogram2dcontour": [
           {
            "colorbar": {
             "outlinewidth": 0,
             "ticks": ""
            },
            "colorscale": [
             [
              0,
              "#0d0887"
             ],
             [
              0.1111111111111111,
              "#46039f"
             ],
             [
              0.2222222222222222,
              "#7201a8"
             ],
             [
              0.3333333333333333,
              "#9c179e"
             ],
             [
              0.4444444444444444,
              "#bd3786"
             ],
             [
              0.5555555555555556,
              "#d8576b"
             ],
             [
              0.6666666666666666,
              "#ed7953"
             ],
             [
              0.7777777777777778,
              "#fb9f3a"
             ],
             [
              0.8888888888888888,
              "#fdca26"
             ],
             [
              1,
              "#f0f921"
             ]
            ],
            "type": "histogram2dcontour"
           }
          ],
          "mesh3d": [
           {
            "colorbar": {
             "outlinewidth": 0,
             "ticks": ""
            },
            "type": "mesh3d"
           }
          ],
          "parcoords": [
           {
            "line": {
             "colorbar": {
              "outlinewidth": 0,
              "ticks": ""
             }
            },
            "type": "parcoords"
           }
          ],
          "pie": [
           {
            "automargin": true,
            "type": "pie"
           }
          ],
          "scatter": [
           {
            "fillpattern": {
             "fillmode": "overlay",
             "size": 10,
             "solidity": 0.2
            },
            "type": "scatter"
           }
          ],
          "scatter3d": [
           {
            "line": {
             "colorbar": {
              "outlinewidth": 0,
              "ticks": ""
             }
            },
            "marker": {
             "colorbar": {
              "outlinewidth": 0,
              "ticks": ""
             }
            },
            "type": "scatter3d"
           }
          ],
          "scattercarpet": [
           {
            "marker": {
             "colorbar": {
              "outlinewidth": 0,
              "ticks": ""
             }
            },
            "type": "scattercarpet"
           }
          ],
          "scattergeo": [
           {
            "marker": {
             "colorbar": {
              "outlinewidth": 0,
              "ticks": ""
             }
            },
            "type": "scattergeo"
           }
          ],
          "scattergl": [
           {
            "marker": {
             "colorbar": {
              "outlinewidth": 0,
              "ticks": ""
             }
            },
            "type": "scattergl"
           }
          ],
          "scattermapbox": [
           {
            "marker": {
             "colorbar": {
              "outlinewidth": 0,
              "ticks": ""
             }
            },
            "type": "scattermapbox"
           }
          ],
          "scatterpolar": [
           {
            "marker": {
             "colorbar": {
              "outlinewidth": 0,
              "ticks": ""
             }
            },
            "type": "scatterpolar"
           }
          ],
          "scatterpolargl": [
           {
            "marker": {
             "colorbar": {
              "outlinewidth": 0,
              "ticks": ""
             }
            },
            "type": "scatterpolargl"
           }
          ],
          "scatterternary": [
           {
            "marker": {
             "colorbar": {
              "outlinewidth": 0,
              "ticks": ""
             }
            },
            "type": "scatterternary"
           }
          ],
          "surface": [
           {
            "colorbar": {
             "outlinewidth": 0,
             "ticks": ""
            },
            "colorscale": [
             [
              0,
              "#0d0887"
             ],
             [
              0.1111111111111111,
              "#46039f"
             ],
             [
              0.2222222222222222,
              "#7201a8"
             ],
             [
              0.3333333333333333,
              "#9c179e"
             ],
             [
              0.4444444444444444,
              "#bd3786"
             ],
             [
              0.5555555555555556,
              "#d8576b"
             ],
             [
              0.6666666666666666,
              "#ed7953"
             ],
             [
              0.7777777777777778,
              "#fb9f3a"
             ],
             [
              0.8888888888888888,
              "#fdca26"
             ],
             [
              1,
              "#f0f921"
             ]
            ],
            "type": "surface"
           }
          ],
          "table": [
           {
            "cells": {
             "fill": {
              "color": "#EBF0F8"
             },
             "line": {
              "color": "white"
             }
            },
            "header": {
             "fill": {
              "color": "#C8D4E3"
             },
             "line": {
              "color": "white"
             }
            },
            "type": "table"
           }
          ]
         },
         "layout": {
          "annotationdefaults": {
           "arrowcolor": "#2a3f5f",
           "arrowhead": 0,
           "arrowwidth": 1
          },
          "autotypenumbers": "strict",
          "coloraxis": {
           "colorbar": {
            "outlinewidth": 0,
            "ticks": ""
           }
          },
          "colorscale": {
           "diverging": [
            [
             0,
             "#8e0152"
            ],
            [
             0.1,
             "#c51b7d"
            ],
            [
             0.2,
             "#de77ae"
            ],
            [
             0.3,
             "#f1b6da"
            ],
            [
             0.4,
             "#fde0ef"
            ],
            [
             0.5,
             "#f7f7f7"
            ],
            [
             0.6,
             "#e6f5d0"
            ],
            [
             0.7,
             "#b8e186"
            ],
            [
             0.8,
             "#7fbc41"
            ],
            [
             0.9,
             "#4d9221"
            ],
            [
             1,
             "#276419"
            ]
           ],
           "sequential": [
            [
             0,
             "#0d0887"
            ],
            [
             0.1111111111111111,
             "#46039f"
            ],
            [
             0.2222222222222222,
             "#7201a8"
            ],
            [
             0.3333333333333333,
             "#9c179e"
            ],
            [
             0.4444444444444444,
             "#bd3786"
            ],
            [
             0.5555555555555556,
             "#d8576b"
            ],
            [
             0.6666666666666666,
             "#ed7953"
            ],
            [
             0.7777777777777778,
             "#fb9f3a"
            ],
            [
             0.8888888888888888,
             "#fdca26"
            ],
            [
             1,
             "#f0f921"
            ]
           ],
           "sequentialminus": [
            [
             0,
             "#0d0887"
            ],
            [
             0.1111111111111111,
             "#46039f"
            ],
            [
             0.2222222222222222,
             "#7201a8"
            ],
            [
             0.3333333333333333,
             "#9c179e"
            ],
            [
             0.4444444444444444,
             "#bd3786"
            ],
            [
             0.5555555555555556,
             "#d8576b"
            ],
            [
             0.6666666666666666,
             "#ed7953"
            ],
            [
             0.7777777777777778,
             "#fb9f3a"
            ],
            [
             0.8888888888888888,
             "#fdca26"
            ],
            [
             1,
             "#f0f921"
            ]
           ]
          },
          "colorway": [
           "#636efa",
           "#EF553B",
           "#00cc96",
           "#ab63fa",
           "#FFA15A",
           "#19d3f3",
           "#FF6692",
           "#B6E880",
           "#FF97FF",
           "#FECB52"
          ],
          "font": {
           "color": "#2a3f5f"
          },
          "geo": {
           "bgcolor": "white",
           "lakecolor": "white",
           "landcolor": "#E5ECF6",
           "showlakes": true,
           "showland": true,
           "subunitcolor": "white"
          },
          "hoverlabel": {
           "align": "left"
          },
          "hovermode": "closest",
          "mapbox": {
           "style": "light"
          },
          "paper_bgcolor": "white",
          "plot_bgcolor": "#E5ECF6",
          "polar": {
           "angularaxis": {
            "gridcolor": "white",
            "linecolor": "white",
            "ticks": ""
           },
           "bgcolor": "#E5ECF6",
           "radialaxis": {
            "gridcolor": "white",
            "linecolor": "white",
            "ticks": ""
           }
          },
          "scene": {
           "xaxis": {
            "backgroundcolor": "#E5ECF6",
            "gridcolor": "white",
            "gridwidth": 2,
            "linecolor": "white",
            "showbackground": true,
            "ticks": "",
            "zerolinecolor": "white"
           },
           "yaxis": {
            "backgroundcolor": "#E5ECF6",
            "gridcolor": "white",
            "gridwidth": 2,
            "linecolor": "white",
            "showbackground": true,
            "ticks": "",
            "zerolinecolor": "white"
           },
           "zaxis": {
            "backgroundcolor": "#E5ECF6",
            "gridcolor": "white",
            "gridwidth": 2,
            "linecolor": "white",
            "showbackground": true,
            "ticks": "",
            "zerolinecolor": "white"
           }
          },
          "shapedefaults": {
           "line": {
            "color": "#2a3f5f"
           }
          },
          "ternary": {
           "aaxis": {
            "gridcolor": "white",
            "linecolor": "white",
            "ticks": ""
           },
           "baxis": {
            "gridcolor": "white",
            "linecolor": "white",
            "ticks": ""
           },
           "bgcolor": "#E5ECF6",
           "caxis": {
            "gridcolor": "white",
            "linecolor": "white",
            "ticks": ""
           }
          },
          "title": {
           "x": 0.05
          },
          "xaxis": {
           "automargin": true,
           "gridcolor": "white",
           "linecolor": "white",
           "ticks": "",
           "title": {
            "standoff": 15
           },
           "zerolinecolor": "white",
           "zerolinewidth": 2
          },
          "yaxis": {
           "automargin": true,
           "gridcolor": "white",
           "linecolor": "white",
           "ticks": "",
           "title": {
            "standoff": 15
           },
           "zerolinecolor": "white",
           "zerolinewidth": 2
          }
         }
        },
        "title": {
         "text": "Map Visualization"
        },
        "xaxis": {
         "title": {
          "text": "X Coordinate"
         }
        },
        "yaxis": {
         "title": {
          "text": "Y Coordinate"
         }
        }
       }
      }
     },
     "metadata": {},
     "output_type": "display_data"
    }
   ],
   "source": [
    "graphMap = GraphMap(\n",
    "    thermoelectric_labels=[f\"Th{i}\" for i in range(NO_THERMOELECTRICS)],\n",
    "    circuits_labels=[f\"C{i}\" for i in range(NO_CIRCUITS)],\n",
    "    towers_labels=[f\"Tw{i}\" for i in range(len(map_2d.towers_positions))],\n",
    "    thermoelectrics_positions=map_2d.thermoelectrics_positions,\n",
    "    circuits_positions=map_2d.circuits_positions,\n",
    "    towers_positions=map_2d.towers_positions,\n",
    ")\n",
    "\n",
    "graphMap.visualize()"
   ]
  },
  {
   "cell_type": "code",
   "execution_count": 4,
   "metadata": {},
   "outputs": [
    {
     "data": {
      "application/vnd.plotly.v1+json": {
       "config": {
        "plotlyServerURL": "https://plot.ly"
       },
       "data": [
        {
         "hoverinfo": "text",
         "hoverlabel": {
          "bgcolor": "white",
          "font": {
           "family": "Rockwell",
           "size": 16
          }
         },
         "line": {
          "color": "black"
         },
         "mode": "lines",
         "name": "Wire Connection",
         "showlegend": false,
         "text": "C0 -> Th2",
         "type": "scatter",
         "x": [
          81.67906903864657,
          80.27919764454981
         ],
         "y": [
          17.41013608655382,
          12.91899273542015
         ]
        },
        {
         "hoverinfo": "text",
         "hoverlabel": {
          "bgcolor": "white",
          "font": {
           "family": "Rockwell",
           "size": 16
          }
         },
         "line": {
          "color": "black"
         },
         "mode": "lines",
         "name": "Wire Connection",
         "showlegend": false,
         "text": "C1 -> Th6",
         "type": "scatter",
         "x": [
          27.025455964122326,
          19.91726241234159
         ],
         "y": [
          41.1520658945776,
          46.7951959362773
         ]
        },
        {
         "hoverinfo": "text",
         "hoverlabel": {
          "bgcolor": "white",
          "font": {
           "family": "Rockwell",
           "size": 16
          }
         },
         "line": {
          "color": "black"
         },
         "mode": "lines",
         "name": "Wire Connection",
         "showlegend": false,
         "text": "C2 -> Th6",
         "type": "scatter",
         "x": [
          27.143279946174538,
          19.91726241234159
         ],
         "y": [
          46.17981503116314,
          46.7951959362773
         ]
        },
        {
         "hoverinfo": "text",
         "hoverlabel": {
          "bgcolor": "white",
          "font": {
           "family": "Rockwell",
           "size": 16
          }
         },
         "line": {
          "color": "black"
         },
         "mode": "lines",
         "name": "Wire Connection",
         "showlegend": false,
         "text": "C3 -> Th3",
         "type": "scatter",
         "x": [
          18.101269335534344,
          15.813668151962972
         ],
         "y": [
          82.75670462160082,
          84.56775468569307
         ]
        },
        {
         "hoverinfo": "text",
         "hoverlabel": {
          "bgcolor": "white",
          "font": {
           "family": "Rockwell",
           "size": 16
          }
         },
         "line": {
          "color": "black"
         },
         "mode": "lines",
         "name": "Wire Connection",
         "showlegend": false,
         "text": "C4 -> Th3",
         "type": "scatter",
         "x": [
          12.761898677851702,
          15.813668151962972
         ],
         "y": [
          89.09105540605843,
          84.56775468569307
         ]
        },
        {
         "hoverinfo": "text",
         "hoverlabel": {
          "bgcolor": "white",
          "font": {
           "family": "Rockwell",
           "size": 16
          }
         },
         "line": {
          "color": "black"
         },
         "mode": "lines",
         "name": "Wire Connection",
         "showlegend": false,
         "text": "C5 -> Th0",
         "type": "scatter",
         "x": [
          88.06784170357295,
          87.64148236815603
         ],
         "y": [
          79.67600630406929,
          82.08132601409403
         ]
        },
        {
         "hoverinfo": "text",
         "hoverlabel": {
          "bgcolor": "white",
          "font": {
           "family": "Rockwell",
           "size": 16
          }
         },
         "line": {
          "color": "black"
         },
         "mode": "lines",
         "name": "Wire Connection",
         "showlegend": false,
         "text": "C6 -> Th0",
         "type": "scatter",
         "x": [
          78.55207062472648,
          87.64148236815603
         ],
         "y": [
          71.56188998387034,
          82.08132601409403
         ]
        },
        {
         "hoverinfo": "text",
         "hoverlabel": {
          "bgcolor": "white",
          "font": {
           "family": "Rockwell",
           "size": 16
          }
         },
         "line": {
          "color": "black"
         },
         "mode": "lines",
         "name": "Wire Connection",
         "showlegend": false,
         "text": "C7 -> Th3",
         "type": "scatter",
         "x": [
          3.957254972136559,
          15.813668151962972
         ],
         "y": [
          71.49616895599384,
          84.56775468569307
         ]
        },
        {
         "hoverinfo": "text",
         "hoverlabel": {
          "bgcolor": "white",
          "font": {
           "family": "Rockwell",
           "size": 16
          }
         },
         "line": {
          "color": "black"
         },
         "mode": "lines",
         "name": "Wire Connection",
         "showlegend": false,
         "text": "C8 -> Th7",
         "type": "scatter",
         "x": [
          45.151701723785756,
          45.130958767179756
         ],
         "y": [
          52.22379579878075,
          60.076846635140505
         ]
        },
        {
         "hoverinfo": "text",
         "hoverlabel": {
          "bgcolor": "white",
          "font": {
           "family": "Rockwell",
           "size": 16
          }
         },
         "line": {
          "color": "black"
         },
         "mode": "lines",
         "name": "Wire Connection",
         "showlegend": false,
         "text": "C9 -> Th6",
         "type": "scatter",
         "x": [
          28.505298484521624,
          19.91726241234159
         ],
         "y": [
          30.78767292632496,
          46.7951959362773
         ]
        },
        {
         "hoverinfo": "text",
         "hoverlabel": {
          "bgcolor": "white",
          "font": {
           "family": "Rockwell",
           "size": 16
          }
         },
         "line": {
          "color": "black"
         },
         "mode": "lines",
         "name": "Wire Connection",
         "showlegend": false,
         "text": "C10 -> Th0",
         "type": "scatter",
         "x": [
          70.62690681125126,
          87.64148236815603
         ],
         "y": [
          92.64801346303034,
          82.08132601409403
         ]
        },
        {
         "hoverinfo": "text",
         "hoverlabel": {
          "bgcolor": "white",
          "font": {
           "family": "Rockwell",
           "size": 16
          }
         },
         "line": {
          "color": "black"
         },
         "mode": "lines",
         "name": "Wire Connection",
         "showlegend": false,
         "text": "C11 -> Th2",
         "type": "scatter",
         "x": [
          71.93119501657027,
          80.27919764454981
         ],
         "y": [
          6.650509366593926,
          12.91899273542015
         ]
        },
        {
         "hoverinfo": "text",
         "hoverlabel": {
          "bgcolor": "white",
          "font": {
           "family": "Rockwell",
           "size": 16
          }
         },
         "line": {
          "color": "black"
         },
         "mode": "lines",
         "name": "Wire Connection",
         "showlegend": false,
         "text": "C12 -> Th3",
         "type": "scatter",
         "x": [
          18.13253486874533,
          15.813668151962972
         ],
         "y": [
          55.83314835260388,
          84.56775468569307
         ]
        },
        {
         "hoverinfo": "text",
         "hoverlabel": {
          "bgcolor": "white",
          "font": {
           "family": "Rockwell",
           "size": 16
          }
         },
         "line": {
          "color": "black"
         },
         "mode": "lines",
         "name": "Wire Connection",
         "showlegend": false,
         "text": "C13 -> Th5",
         "type": "scatter",
         "x": [
          54.687549207607276,
          62.945375343050515
         ],
         "y": [
          57.44064688379693,
          22.735433536722763
         ]
        },
        {
         "hoverinfo": "text",
         "hoverlabel": {
          "bgcolor": "white",
          "font": {
           "family": "Rockwell",
           "size": 16
          }
         },
         "line": {
          "color": "black"
         },
         "mode": "lines",
         "name": "Wire Connection",
         "showlegend": false,
         "text": "C14 -> Th0",
         "type": "scatter",
         "x": [
          97.94032990987867,
          87.64148236815603
         ],
         "y": [
          74.9190395517761,
          82.08132601409403
         ]
        },
        {
         "hoverinfo": "text",
         "hoverlabel": {
          "bgcolor": "white",
          "font": {
           "family": "Rockwell",
           "size": 16
          }
         },
         "line": {
          "color": "black"
         },
         "mode": "lines",
         "name": "Wire Connection",
         "showlegend": false,
         "text": "C15 -> Th3",
         "type": "scatter",
         "x": [
          13.787881975355464,
          15.813668151962972
         ],
         "y": [
          53.16093971473856,
          84.56775468569307
         ]
        },
        {
         "hoverinfo": "text",
         "hoverlabel": {
          "bgcolor": "white",
          "font": {
           "family": "Rockwell",
           "size": 16
          }
         },
         "line": {
          "color": "black"
         },
         "mode": "lines",
         "name": "Wire Connection",
         "showlegend": false,
         "text": "C16 -> Th7",
         "type": "scatter",
         "x": [
          29.043068761638747,
          45.130958767179756
         ],
         "y": [
          26.587340034375238,
          60.076846635140505
         ]
        },
        {
         "hoverinfo": "text",
         "hoverlabel": {
          "bgcolor": "white",
          "font": {
           "family": "Rockwell",
           "size": 16
          }
         },
         "line": {
          "color": "black"
         },
         "mode": "lines",
         "name": "Wire Connection",
         "showlegend": false,
         "text": "C17 -> Th2",
         "type": "scatter",
         "x": [
          67.06667574038228,
          80.27919764454981
         ],
         "y": [
          20.520600078831063,
          12.91899273542015
         ]
        },
        {
         "hoverinfo": "text",
         "hoverlabel": {
          "bgcolor": "white",
          "font": {
           "family": "Rockwell",
           "size": 16
          }
         },
         "line": {
          "color": "black"
         },
         "mode": "lines",
         "name": "Wire Connection",
         "showlegend": false,
         "text": "C18 -> Th2",
         "type": "scatter",
         "x": [
          86.93239130215423,
          80.27919764454981
         ],
         "y": [
          24.4863458278618,
          12.91899273542015
         ]
        },
        {
         "hoverinfo": "text",
         "hoverlabel": {
          "bgcolor": "white",
          "font": {
           "family": "Rockwell",
           "size": 16
          }
         },
         "line": {
          "color": "black"
         },
         "mode": "lines",
         "name": "Wire Connection",
         "showlegend": false,
         "text": "C19 -> Th2",
         "type": "scatter",
         "x": [
          86.58660420708655,
          80.27919764454981
         ],
         "y": [
          10.728105840344714,
          12.91899273542015
         ]
        },
        {
         "hoverinfo": "text",
         "hoverlabel": {
          "bgcolor": "white",
          "font": {
           "family": "Rockwell",
           "size": 16
          }
         },
         "line": {
          "color": "black"
         },
         "mode": "lines",
         "name": "Wire Connection",
         "showlegend": false,
         "text": "C20 -> Th1",
         "type": "scatter",
         "x": [
          21.072196196232774,
          23.94309231887311
         ],
         "y": [
          1.6969953382807934,
          14.38152618565066
         ]
        },
        {
         "hoverinfo": "text",
         "hoverlabel": {
          "bgcolor": "white",
          "font": {
           "family": "Rockwell",
           "size": 16
          }
         },
         "line": {
          "color": "black"
         },
         "mode": "lines",
         "name": "Wire Connection",
         "showlegend": false,
         "text": "C21 -> Th3",
         "type": "scatter",
         "x": [
          4.35425718801522,
          15.813668151962972
         ],
         "y": [
          75.9355143583485,
          84.56775468569307
         ]
        },
        {
         "hoverinfo": "text",
         "hoverlabel": {
          "bgcolor": "white",
          "font": {
           "family": "Rockwell",
           "size": 16
          }
         },
         "line": {
          "color": "black"
         },
         "mode": "lines",
         "name": "Wire Connection",
         "showlegend": false,
         "text": "C22 -> Th5",
         "type": "scatter",
         "x": [
          57.16567991645371,
          62.945375343050515
         ],
         "y": [
          18.407218636498833,
          22.735433536722763
         ]
        },
        {
         "hoverinfo": "text",
         "hoverlabel": {
          "bgcolor": "white",
          "font": {
           "family": "Rockwell",
           "size": 16
          }
         },
         "line": {
          "color": "black"
         },
         "mode": "lines",
         "name": "Wire Connection",
         "showlegend": false,
         "text": "C23 -> Th6",
         "type": "scatter",
         "x": [
          30.29449728651291,
          19.91726241234159
         ],
         "y": [
          78.2880340951697,
          46.7951959362773
         ]
        },
        {
         "hoverinfo": "text",
         "hoverlabel": {
          "bgcolor": "white",
          "font": {
           "family": "Rockwell",
           "size": 16
          }
         },
         "line": {
          "color": "black"
         },
         "mode": "lines",
         "name": "Wire Connection",
         "showlegend": false,
         "text": "C24 -> Th3",
         "type": "scatter",
         "x": [
          14.127204218130107,
          15.813668151962972
         ],
         "y": [
          50.14879922845809,
          84.56775468569307
         ]
        },
        {
         "hoverinfo": "text",
         "hoverlabel": {
          "bgcolor": "white",
          "font": {
           "family": "Rockwell",
           "size": 16
          }
         },
         "line": {
          "color": "black"
         },
         "mode": "lines",
         "name": "Wire Connection",
         "showlegend": false,
         "text": "C25 -> Th4",
         "type": "scatter",
         "x": [
          79.70022426272268,
          87.22852109663697
         ],
         "y": [
          41.49793727418943,
          38.8298634100242
         ]
        },
        {
         "hoverinfo": "text",
         "hoverlabel": {
          "bgcolor": "white",
          "font": {
           "family": "Rockwell",
           "size": 16
          }
         },
         "line": {
          "color": "black"
         },
         "mode": "lines",
         "name": "Wire Connection",
         "showlegend": false,
         "text": "C26 -> Th6",
         "type": "scatter",
         "x": [
          19.28721750152175,
          19.91726241234159
         ],
         "y": [
          34.29640739612254,
          46.7951959362773
         ]
        },
        {
         "hoverinfo": "text",
         "hoverlabel": {
          "bgcolor": "white",
          "font": {
           "family": "Rockwell",
           "size": 16
          }
         },
         "line": {
          "color": "black"
         },
         "mode": "lines",
         "name": "Wire Connection",
         "showlegend": false,
         "text": "C27 -> Th6",
         "type": "scatter",
         "x": [
          24.285486402509125,
          19.91726241234159
         ],
         "y": [
          96.5045023801125,
          46.7951959362773
         ]
        },
        {
         "hoverinfo": "text",
         "hoverlabel": {
          "bgcolor": "white",
          "font": {
           "family": "Rockwell",
           "size": 16
          }
         },
         "line": {
          "color": "black"
         },
         "mode": "lines",
         "name": "Wire Connection",
         "showlegend": false,
         "text": "C28 -> Th5",
         "type": "scatter",
         "x": [
          55.331244019367695,
          62.945375343050515
         ],
         "y": [
          23.73015961882583,
          22.735433536722763
         ]
        },
        {
         "hoverinfo": "text",
         "hoverlabel": {
          "bgcolor": "white",
          "font": {
           "family": "Rockwell",
           "size": 16
          }
         },
         "line": {
          "color": "black"
         },
         "mode": "lines",
         "name": "Wire Connection",
         "showlegend": false,
         "text": "C29 -> Th5",
         "type": "scatter",
         "x": [
          37.3366863136953,
          62.945375343050515
         ],
         "y": [
          0.19102889866459138,
          22.735433536722763
         ]
        },
        {
         "hoverinfo": "text",
         "hoverlabel": {
          "bgcolor": "white",
          "font": {
           "family": "Rockwell",
           "size": 16
          }
         },
         "line": {
          "color": "black"
         },
         "mode": "lines",
         "name": "Wire Connection",
         "showlegend": false,
         "text": "C30 -> Th6",
         "type": "scatter",
         "x": [
          16.94101320118091,
          19.91726241234159
         ],
         "y": [
          97.90230298256775,
          46.7951959362773
         ]
        },
        {
         "hoverinfo": "text",
         "hoverlabel": {
          "bgcolor": "white",
          "font": {
           "family": "Rockwell",
           "size": 16
          }
         },
         "line": {
          "color": "black"
         },
         "mode": "lines",
         "name": "Wire Connection",
         "showlegend": false,
         "text": "C31 -> Th0",
         "type": "scatter",
         "x": [
          93.06009195741673,
          87.64148236815603
         ],
         "y": [
          90.34428711130327,
          82.08132601409403
         ]
        },
        {
         "hoverinfo": "text",
         "hoverlabel": {
          "bgcolor": "white",
          "font": {
           "family": "Rockwell",
           "size": 16
          }
         },
         "line": {
          "color": "black"
         },
         "mode": "lines",
         "name": "Wire Connection",
         "showlegend": false,
         "text": "C32 -> Th2",
         "type": "scatter",
         "x": [
          70.82462846610204,
          80.27919764454981
         ],
         "y": [
          27.110875805361655,
          12.91899273542015
         ]
        },
        {
         "hoverinfo": "text",
         "hoverlabel": {
          "bgcolor": "white",
          "font": {
           "family": "Rockwell",
           "size": 16
          }
         },
         "line": {
          "color": "black"
         },
         "mode": "lines",
         "name": "Wire Connection",
         "showlegend": false,
         "text": "C33 -> Th1",
         "type": "scatter",
         "x": [
          7.0061251761257655,
          23.94309231887311
         ],
         "y": [
          15.84530797601722,
          14.38152618565066
         ]
        },
        {
         "hoverinfo": "text",
         "hoverlabel": {
          "bgcolor": "white",
          "font": {
           "family": "Rockwell",
           "size": 16
          }
         },
         "line": {
          "color": "black"
         },
         "mode": "lines",
         "name": "Wire Connection",
         "showlegend": false,
         "text": "C34 -> Th4",
         "type": "scatter",
         "x": [
          85.10532709357774,
          87.22852109663697
         ],
         "y": [
          28.239322381772546,
          38.8298634100242
         ]
        },
        {
         "hoverinfo": "text",
         "hoverlabel": {
          "bgcolor": "white",
          "font": {
           "family": "Rockwell",
           "size": 16
          }
         },
         "line": {
          "color": "black"
         },
         "mode": "lines",
         "name": "Wire Connection",
         "showlegend": false,
         "text": "C35 -> Th2",
         "type": "scatter",
         "x": [
          68.76788419858231,
          80.27919764454981
         ],
         "y": [
          20.08073267237537,
          12.91899273542015
         ]
        },
        {
         "hoverinfo": "text",
         "hoverlabel": {
          "bgcolor": "white",
          "font": {
           "family": "Rockwell",
           "size": 16
          }
         },
         "line": {
          "color": "black"
         },
         "mode": "lines",
         "name": "Wire Connection",
         "showlegend": false,
         "text": "C36 -> Th1",
         "type": "scatter",
         "x": [
          11.10458241563993,
          23.94309231887311
         ],
         "y": [
          6.005879912209277,
          14.38152618565066
         ]
        },
        {
         "hoverinfo": "text",
         "hoverlabel": {
          "bgcolor": "white",
          "font": {
           "family": "Rockwell",
           "size": 16
          }
         },
         "line": {
          "color": "black"
         },
         "mode": "lines",
         "name": "Wire Connection",
         "showlegend": false,
         "text": "C37 -> Th2",
         "type": "scatter",
         "x": [
          74.26672865829146,
          80.27919764454981
         ],
         "y": [
          5.319866555746511,
          12.91899273542015
         ]
        },
        {
         "hoverinfo": "text",
         "hoverlabel": {
          "bgcolor": "white",
          "font": {
           "family": "Rockwell",
           "size": 16
          }
         },
         "line": {
          "color": "black"
         },
         "mode": "lines",
         "name": "Wire Connection",
         "showlegend": false,
         "text": "C38 -> Th4",
         "type": "scatter",
         "x": [
          96.41506646556954,
          87.22852109663697
         ],
         "y": [
          27.781548938784205,
          38.8298634100242
         ]
        },
        {
         "hoverinfo": "text",
         "hoverlabel": {
          "bgcolor": "white",
          "font": {
           "family": "Rockwell",
           "size": 16
          }
         },
         "line": {
          "color": "black"
         },
         "mode": "lines",
         "name": "Wire Connection",
         "showlegend": false,
         "text": "C39 -> Th4",
         "type": "scatter",
         "x": [
          82.85262138117378,
          87.22852109663697
         ],
         "y": [
          50.39029550639954,
          38.8298634100242
         ]
        },
        {
         "hoverinfo": "text",
         "hoverlabel": {
          "bgcolor": "white",
          "font": {
           "family": "Rockwell",
           "size": 16
          }
         },
         "line": {
          "color": "black"
         },
         "mode": "lines",
         "name": "Wire Connection",
         "showlegend": false,
         "text": "C40 -> Th2",
         "type": "scatter",
         "x": [
          67.39592930271091,
          80.27919764454981
         ],
         "y": [
          24.786627700523212,
          12.91899273542015
         ]
        },
        {
         "hoverinfo": "text",
         "hoverlabel": {
          "bgcolor": "white",
          "font": {
           "family": "Rockwell",
           "size": 16
          }
         },
         "line": {
          "color": "black"
         },
         "mode": "lines",
         "name": "Wire Connection",
         "showlegend": false,
         "text": "C41 -> Th5",
         "type": "scatter",
         "x": [
          58.731148822994996,
          62.945375343050515
         ],
         "y": [
          18.798899045437125,
          22.735433536722763
         ]
        },
        {
         "hoverinfo": "text",
         "hoverlabel": {
          "bgcolor": "white",
          "font": {
           "family": "Rockwell",
           "size": 16
          }
         },
         "line": {
          "color": "black"
         },
         "mode": "lines",
         "name": "Wire Connection",
         "showlegend": false,
         "text": "C42 -> Th7",
         "type": "scatter",
         "x": [
          33.6898216617606,
          45.130958767179756
         ],
         "y": [
          53.15666286926199,
          60.076846635140505
         ]
        },
        {
         "hoverinfo": "text",
         "hoverlabel": {
          "bgcolor": "white",
          "font": {
           "family": "Rockwell",
           "size": 16
          }
         },
         "line": {
          "color": "black"
         },
         "mode": "lines",
         "name": "Wire Connection",
         "showlegend": false,
         "text": "C43 -> Th5",
         "type": "scatter",
         "x": [
          41.54027730035176,
          62.945375343050515
         ],
         "y": [
          9.392368693590413,
          22.735433536722763
         ]
        },
        {
         "hoverinfo": "text",
         "hoverlabel": {
          "bgcolor": "white",
          "font": {
           "family": "Rockwell",
           "size": 16
          }
         },
         "line": {
          "color": "black"
         },
         "mode": "lines",
         "name": "Wire Connection",
         "showlegend": false,
         "text": "C44 -> Th5",
         "type": "scatter",
         "x": [
          58.27981227781016,
          62.945375343050515
         ],
         "y": [
          28.448354735929037,
          22.735433536722763
         ]
        },
        {
         "hoverinfo": "text",
         "hoverlabel": {
          "bgcolor": "white",
          "font": {
           "family": "Rockwell",
           "size": 16
          }
         },
         "line": {
          "color": "black"
         },
         "mode": "lines",
         "name": "Wire Connection",
         "showlegend": false,
         "text": "C45 -> Th4",
         "type": "scatter",
         "x": [
          92.06936628014104,
          87.22852109663697
         ],
         "y": [
          46.24021294897529,
          38.8298634100242
         ]
        },
        {
         "hoverinfo": "text",
         "hoverlabel": {
          "bgcolor": "white",
          "font": {
           "family": "Rockwell",
           "size": 16
          }
         },
         "line": {
          "color": "black"
         },
         "mode": "lines",
         "name": "Wire Connection",
         "showlegend": false,
         "text": "C46 -> Th0",
         "type": "scatter",
         "x": [
          97.60165320209013,
          87.64148236815603
         ],
         "y": [
          83.33871967051479,
          82.08132601409403
         ]
        },
        {
         "hoverinfo": "text",
         "hoverlabel": {
          "bgcolor": "white",
          "font": {
           "family": "Rockwell",
           "size": 16
          }
         },
         "line": {
          "color": "black"
         },
         "mode": "lines",
         "name": "Wire Connection",
         "showlegend": false,
         "text": "C47 -> Th5",
         "type": "scatter",
         "x": [
          46.9947624755654,
          62.945375343050515
         ],
         "y": [
          77.48628098872234,
          22.735433536722763
         ]
        },
        {
         "hoverinfo": "text",
         "hoverlabel": {
          "bgcolor": "white",
          "font": {
           "family": "Rockwell",
           "size": 16
          }
         },
         "line": {
          "color": "black"
         },
         "mode": "lines",
         "name": "Wire Connection",
         "showlegend": false,
         "text": "C48 -> Th7",
         "type": "scatter",
         "x": [
          39.16386265283784,
          45.130958767179756
         ],
         "y": [
          17.096537246009447,
          60.076846635140505
         ]
        },
        {
         "hoverinfo": "text",
         "hoverlabel": {
          "bgcolor": "white",
          "font": {
           "family": "Rockwell",
           "size": 16
          }
         },
         "line": {
          "color": "black"
         },
         "mode": "lines",
         "name": "Wire Connection",
         "showlegend": false,
         "text": "C49 -> Th1",
         "type": "scatter",
         "x": [
          0.7157335688142252,
          23.94309231887311
         ],
         "y": [
          21.830604645383968,
          14.38152618565066
         ]
        },
        {
         "hoverinfo": "text",
         "marker": {
          "color": "red",
          "size": 10
         },
         "mode": "markers+text",
         "text": [
          "C0"
         ],
         "textposition": "top center",
         "type": "scatter",
         "x": [
          81.67906903864657
         ],
         "y": [
          17.41013608655382
         ]
        },
        {
         "hoverinfo": "text",
         "marker": {
          "color": "red",
          "size": 10
         },
         "mode": "markers+text",
         "text": [
          "C1"
         ],
         "textposition": "top center",
         "type": "scatter",
         "x": [
          27.025455964122326
         ],
         "y": [
          41.1520658945776
         ]
        },
        {
         "hoverinfo": "text",
         "marker": {
          "color": "red",
          "size": 10
         },
         "mode": "markers+text",
         "text": [
          "C2"
         ],
         "textposition": "top center",
         "type": "scatter",
         "x": [
          27.143279946174538
         ],
         "y": [
          46.17981503116314
         ]
        },
        {
         "hoverinfo": "text",
         "marker": {
          "color": "red",
          "size": 10
         },
         "mode": "markers+text",
         "text": [
          "C3"
         ],
         "textposition": "top center",
         "type": "scatter",
         "x": [
          18.101269335534344
         ],
         "y": [
          82.75670462160082
         ]
        },
        {
         "hoverinfo": "text",
         "marker": {
          "color": "red",
          "size": 10
         },
         "mode": "markers+text",
         "text": [
          "C4"
         ],
         "textposition": "top center",
         "type": "scatter",
         "x": [
          12.761898677851702
         ],
         "y": [
          89.09105540605843
         ]
        },
        {
         "hoverinfo": "text",
         "marker": {
          "color": "red",
          "size": 10
         },
         "mode": "markers+text",
         "text": [
          "C5"
         ],
         "textposition": "top center",
         "type": "scatter",
         "x": [
          88.06784170357295
         ],
         "y": [
          79.67600630406929
         ]
        },
        {
         "hoverinfo": "text",
         "marker": {
          "color": "red",
          "size": 10
         },
         "mode": "markers+text",
         "text": [
          "C6"
         ],
         "textposition": "top center",
         "type": "scatter",
         "x": [
          78.55207062472648
         ],
         "y": [
          71.56188998387034
         ]
        },
        {
         "hoverinfo": "text",
         "marker": {
          "color": "red",
          "size": 10
         },
         "mode": "markers+text",
         "text": [
          "C7"
         ],
         "textposition": "top center",
         "type": "scatter",
         "x": [
          3.957254972136559
         ],
         "y": [
          71.49616895599384
         ]
        },
        {
         "hoverinfo": "text",
         "marker": {
          "color": "red",
          "size": 10
         },
         "mode": "markers+text",
         "text": [
          "C8"
         ],
         "textposition": "top center",
         "type": "scatter",
         "x": [
          45.151701723785756
         ],
         "y": [
          52.22379579878075
         ]
        },
        {
         "hoverinfo": "text",
         "marker": {
          "color": "red",
          "size": 10
         },
         "mode": "markers+text",
         "text": [
          "C9"
         ],
         "textposition": "top center",
         "type": "scatter",
         "x": [
          28.505298484521624
         ],
         "y": [
          30.78767292632496
         ]
        },
        {
         "hoverinfo": "text",
         "marker": {
          "color": "red",
          "size": 10
         },
         "mode": "markers+text",
         "text": [
          "C10"
         ],
         "textposition": "top center",
         "type": "scatter",
         "x": [
          70.62690681125126
         ],
         "y": [
          92.64801346303034
         ]
        },
        {
         "hoverinfo": "text",
         "marker": {
          "color": "red",
          "size": 10
         },
         "mode": "markers+text",
         "text": [
          "C11"
         ],
         "textposition": "top center",
         "type": "scatter",
         "x": [
          71.93119501657027
         ],
         "y": [
          6.650509366593926
         ]
        },
        {
         "hoverinfo": "text",
         "marker": {
          "color": "red",
          "size": 10
         },
         "mode": "markers+text",
         "text": [
          "C12"
         ],
         "textposition": "top center",
         "type": "scatter",
         "x": [
          18.13253486874533
         ],
         "y": [
          55.83314835260388
         ]
        },
        {
         "hoverinfo": "text",
         "marker": {
          "color": "red",
          "size": 10
         },
         "mode": "markers+text",
         "text": [
          "C13"
         ],
         "textposition": "top center",
         "type": "scatter",
         "x": [
          54.687549207607276
         ],
         "y": [
          57.44064688379693
         ]
        },
        {
         "hoverinfo": "text",
         "marker": {
          "color": "red",
          "size": 10
         },
         "mode": "markers+text",
         "text": [
          "C14"
         ],
         "textposition": "top center",
         "type": "scatter",
         "x": [
          97.94032990987867
         ],
         "y": [
          74.9190395517761
         ]
        },
        {
         "hoverinfo": "text",
         "marker": {
          "color": "red",
          "size": 10
         },
         "mode": "markers+text",
         "text": [
          "C15"
         ],
         "textposition": "top center",
         "type": "scatter",
         "x": [
          13.787881975355464
         ],
         "y": [
          53.16093971473856
         ]
        },
        {
         "hoverinfo": "text",
         "marker": {
          "color": "red",
          "size": 10
         },
         "mode": "markers+text",
         "text": [
          "C16"
         ],
         "textposition": "top center",
         "type": "scatter",
         "x": [
          29.043068761638747
         ],
         "y": [
          26.587340034375238
         ]
        },
        {
         "hoverinfo": "text",
         "marker": {
          "color": "red",
          "size": 10
         },
         "mode": "markers+text",
         "text": [
          "C17"
         ],
         "textposition": "top center",
         "type": "scatter",
         "x": [
          67.06667574038228
         ],
         "y": [
          20.520600078831063
         ]
        },
        {
         "hoverinfo": "text",
         "marker": {
          "color": "red",
          "size": 10
         },
         "mode": "markers+text",
         "text": [
          "C18"
         ],
         "textposition": "top center",
         "type": "scatter",
         "x": [
          86.93239130215423
         ],
         "y": [
          24.4863458278618
         ]
        },
        {
         "hoverinfo": "text",
         "marker": {
          "color": "red",
          "size": 10
         },
         "mode": "markers+text",
         "text": [
          "C19"
         ],
         "textposition": "top center",
         "type": "scatter",
         "x": [
          86.58660420708655
         ],
         "y": [
          10.728105840344714
         ]
        },
        {
         "hoverinfo": "text",
         "marker": {
          "color": "red",
          "size": 10
         },
         "mode": "markers+text",
         "text": [
          "C20"
         ],
         "textposition": "top center",
         "type": "scatter",
         "x": [
          21.072196196232774
         ],
         "y": [
          1.6969953382807934
         ]
        },
        {
         "hoverinfo": "text",
         "marker": {
          "color": "red",
          "size": 10
         },
         "mode": "markers+text",
         "text": [
          "C21"
         ],
         "textposition": "top center",
         "type": "scatter",
         "x": [
          4.35425718801522
         ],
         "y": [
          75.9355143583485
         ]
        },
        {
         "hoverinfo": "text",
         "marker": {
          "color": "red",
          "size": 10
         },
         "mode": "markers+text",
         "text": [
          "C22"
         ],
         "textposition": "top center",
         "type": "scatter",
         "x": [
          57.16567991645371
         ],
         "y": [
          18.407218636498833
         ]
        },
        {
         "hoverinfo": "text",
         "marker": {
          "color": "red",
          "size": 10
         },
         "mode": "markers+text",
         "text": [
          "C23"
         ],
         "textposition": "top center",
         "type": "scatter",
         "x": [
          30.29449728651291
         ],
         "y": [
          78.2880340951697
         ]
        },
        {
         "hoverinfo": "text",
         "marker": {
          "color": "red",
          "size": 10
         },
         "mode": "markers+text",
         "text": [
          "C24"
         ],
         "textposition": "top center",
         "type": "scatter",
         "x": [
          14.127204218130107
         ],
         "y": [
          50.14879922845809
         ]
        },
        {
         "hoverinfo": "text",
         "marker": {
          "color": "red",
          "size": 10
         },
         "mode": "markers+text",
         "text": [
          "C25"
         ],
         "textposition": "top center",
         "type": "scatter",
         "x": [
          79.70022426272268
         ],
         "y": [
          41.49793727418943
         ]
        },
        {
         "hoverinfo": "text",
         "marker": {
          "color": "red",
          "size": 10
         },
         "mode": "markers+text",
         "text": [
          "C26"
         ],
         "textposition": "top center",
         "type": "scatter",
         "x": [
          19.28721750152175
         ],
         "y": [
          34.29640739612254
         ]
        },
        {
         "hoverinfo": "text",
         "marker": {
          "color": "red",
          "size": 10
         },
         "mode": "markers+text",
         "text": [
          "C27"
         ],
         "textposition": "top center",
         "type": "scatter",
         "x": [
          24.285486402509125
         ],
         "y": [
          96.5045023801125
         ]
        },
        {
         "hoverinfo": "text",
         "marker": {
          "color": "red",
          "size": 10
         },
         "mode": "markers+text",
         "text": [
          "C28"
         ],
         "textposition": "top center",
         "type": "scatter",
         "x": [
          55.331244019367695
         ],
         "y": [
          23.73015961882583
         ]
        },
        {
         "hoverinfo": "text",
         "marker": {
          "color": "red",
          "size": 10
         },
         "mode": "markers+text",
         "text": [
          "C29"
         ],
         "textposition": "top center",
         "type": "scatter",
         "x": [
          37.3366863136953
         ],
         "y": [
          0.19102889866459138
         ]
        },
        {
         "hoverinfo": "text",
         "marker": {
          "color": "red",
          "size": 10
         },
         "mode": "markers+text",
         "text": [
          "C30"
         ],
         "textposition": "top center",
         "type": "scatter",
         "x": [
          16.94101320118091
         ],
         "y": [
          97.90230298256775
         ]
        },
        {
         "hoverinfo": "text",
         "marker": {
          "color": "red",
          "size": 10
         },
         "mode": "markers+text",
         "text": [
          "C31"
         ],
         "textposition": "top center",
         "type": "scatter",
         "x": [
          93.06009195741673
         ],
         "y": [
          90.34428711130327
         ]
        },
        {
         "hoverinfo": "text",
         "marker": {
          "color": "red",
          "size": 10
         },
         "mode": "markers+text",
         "text": [
          "C32"
         ],
         "textposition": "top center",
         "type": "scatter",
         "x": [
          70.82462846610204
         ],
         "y": [
          27.110875805361655
         ]
        },
        {
         "hoverinfo": "text",
         "marker": {
          "color": "red",
          "size": 10
         },
         "mode": "markers+text",
         "text": [
          "C33"
         ],
         "textposition": "top center",
         "type": "scatter",
         "x": [
          7.0061251761257655
         ],
         "y": [
          15.84530797601722
         ]
        },
        {
         "hoverinfo": "text",
         "marker": {
          "color": "red",
          "size": 10
         },
         "mode": "markers+text",
         "text": [
          "C34"
         ],
         "textposition": "top center",
         "type": "scatter",
         "x": [
          85.10532709357774
         ],
         "y": [
          28.239322381772546
         ]
        },
        {
         "hoverinfo": "text",
         "marker": {
          "color": "red",
          "size": 10
         },
         "mode": "markers+text",
         "text": [
          "C35"
         ],
         "textposition": "top center",
         "type": "scatter",
         "x": [
          68.76788419858231
         ],
         "y": [
          20.08073267237537
         ]
        },
        {
         "hoverinfo": "text",
         "marker": {
          "color": "red",
          "size": 10
         },
         "mode": "markers+text",
         "text": [
          "C36"
         ],
         "textposition": "top center",
         "type": "scatter",
         "x": [
          11.10458241563993
         ],
         "y": [
          6.005879912209277
         ]
        },
        {
         "hoverinfo": "text",
         "marker": {
          "color": "red",
          "size": 10
         },
         "mode": "markers+text",
         "text": [
          "C37"
         ],
         "textposition": "top center",
         "type": "scatter",
         "x": [
          74.26672865829146
         ],
         "y": [
          5.319866555746511
         ]
        },
        {
         "hoverinfo": "text",
         "marker": {
          "color": "red",
          "size": 10
         },
         "mode": "markers+text",
         "text": [
          "C38"
         ],
         "textposition": "top center",
         "type": "scatter",
         "x": [
          96.41506646556954
         ],
         "y": [
          27.781548938784205
         ]
        },
        {
         "hoverinfo": "text",
         "marker": {
          "color": "red",
          "size": 10
         },
         "mode": "markers+text",
         "text": [
          "C39"
         ],
         "textposition": "top center",
         "type": "scatter",
         "x": [
          82.85262138117378
         ],
         "y": [
          50.39029550639954
         ]
        },
        {
         "hoverinfo": "text",
         "marker": {
          "color": "red",
          "size": 10
         },
         "mode": "markers+text",
         "text": [
          "C40"
         ],
         "textposition": "top center",
         "type": "scatter",
         "x": [
          67.39592930271091
         ],
         "y": [
          24.786627700523212
         ]
        },
        {
         "hoverinfo": "text",
         "marker": {
          "color": "red",
          "size": 10
         },
         "mode": "markers+text",
         "text": [
          "C41"
         ],
         "textposition": "top center",
         "type": "scatter",
         "x": [
          58.731148822994996
         ],
         "y": [
          18.798899045437125
         ]
        },
        {
         "hoverinfo": "text",
         "marker": {
          "color": "red",
          "size": 10
         },
         "mode": "markers+text",
         "text": [
          "C42"
         ],
         "textposition": "top center",
         "type": "scatter",
         "x": [
          33.6898216617606
         ],
         "y": [
          53.15666286926199
         ]
        },
        {
         "hoverinfo": "text",
         "marker": {
          "color": "red",
          "size": 10
         },
         "mode": "markers+text",
         "text": [
          "C43"
         ],
         "textposition": "top center",
         "type": "scatter",
         "x": [
          41.54027730035176
         ],
         "y": [
          9.392368693590413
         ]
        },
        {
         "hoverinfo": "text",
         "marker": {
          "color": "red",
          "size": 10
         },
         "mode": "markers+text",
         "text": [
          "C44"
         ],
         "textposition": "top center",
         "type": "scatter",
         "x": [
          58.27981227781016
         ],
         "y": [
          28.448354735929037
         ]
        },
        {
         "hoverinfo": "text",
         "marker": {
          "color": "red",
          "size": 10
         },
         "mode": "markers+text",
         "text": [
          "C45"
         ],
         "textposition": "top center",
         "type": "scatter",
         "x": [
          92.06936628014104
         ],
         "y": [
          46.24021294897529
         ]
        },
        {
         "hoverinfo": "text",
         "marker": {
          "color": "red",
          "size": 10
         },
         "mode": "markers+text",
         "text": [
          "C46"
         ],
         "textposition": "top center",
         "type": "scatter",
         "x": [
          97.60165320209013
         ],
         "y": [
          83.33871967051479
         ]
        },
        {
         "hoverinfo": "text",
         "marker": {
          "color": "red",
          "size": 10
         },
         "mode": "markers+text",
         "text": [
          "C47"
         ],
         "textposition": "top center",
         "type": "scatter",
         "x": [
          46.9947624755654
         ],
         "y": [
          77.48628098872234
         ]
        },
        {
         "hoverinfo": "text",
         "marker": {
          "color": "red",
          "size": 10
         },
         "mode": "markers+text",
         "text": [
          "C48"
         ],
         "textposition": "top center",
         "type": "scatter",
         "x": [
          39.16386265283784
         ],
         "y": [
          17.096537246009447
         ]
        },
        {
         "hoverinfo": "text",
         "marker": {
          "color": "red",
          "size": 10
         },
         "mode": "markers+text",
         "text": [
          "C49"
         ],
         "textposition": "top center",
         "type": "scatter",
         "x": [
          0.7157335688142252
         ],
         "y": [
          21.830604645383968
         ]
        },
        {
         "hoverinfo": "text",
         "marker": {
          "color": "blue",
          "size": 10
         },
         "mode": "markers+text",
         "text": [
          "Th0"
         ],
         "textposition": "top center",
         "type": "scatter",
         "x": [
          87.64148236815603
         ],
         "y": [
          82.08132601409403
         ]
        },
        {
         "hoverinfo": "text",
         "marker": {
          "color": "blue",
          "size": 10
         },
         "mode": "markers+text",
         "text": [
          "Th1"
         ],
         "textposition": "top center",
         "type": "scatter",
         "x": [
          23.94309231887311
         ],
         "y": [
          14.38152618565066
         ]
        },
        {
         "hoverinfo": "text",
         "marker": {
          "color": "blue",
          "size": 10
         },
         "mode": "markers+text",
         "text": [
          "Th2"
         ],
         "textposition": "top center",
         "type": "scatter",
         "x": [
          80.27919764454981
         ],
         "y": [
          12.91899273542015
         ]
        },
        {
         "hoverinfo": "text",
         "marker": {
          "color": "blue",
          "size": 10
         },
         "mode": "markers+text",
         "text": [
          "Th3"
         ],
         "textposition": "top center",
         "type": "scatter",
         "x": [
          15.813668151962972
         ],
         "y": [
          84.56775468569307
         ]
        },
        {
         "hoverinfo": "text",
         "marker": {
          "color": "blue",
          "size": 10
         },
         "mode": "markers+text",
         "text": [
          "Th4"
         ],
         "textposition": "top center",
         "type": "scatter",
         "x": [
          87.22852109663697
         ],
         "y": [
          38.8298634100242
         ]
        },
        {
         "hoverinfo": "text",
         "marker": {
          "color": "blue",
          "size": 10
         },
         "mode": "markers+text",
         "text": [
          "Th5"
         ],
         "textposition": "top center",
         "type": "scatter",
         "x": [
          62.945375343050515
         ],
         "y": [
          22.735433536722763
         ]
        },
        {
         "hoverinfo": "text",
         "marker": {
          "color": "blue",
          "size": 10
         },
         "mode": "markers+text",
         "text": [
          "Th6"
         ],
         "textposition": "top center",
         "type": "scatter",
         "x": [
          19.91726241234159
         ],
         "y": [
          46.7951959362773
         ]
        },
        {
         "hoverinfo": "text",
         "marker": {
          "color": "blue",
          "size": 10
         },
         "mode": "markers+text",
         "text": [
          "Th7"
         ],
         "textposition": "top center",
         "type": "scatter",
         "x": [
          45.130958767179756
         ],
         "y": [
          60.076846635140505
         ]
        }
       ],
       "layout": {
        "height": 800,
        "plot_bgcolor": "lightgreen",
        "showlegend": false,
        "template": {
         "data": {
          "bar": [
           {
            "error_x": {
             "color": "#2a3f5f"
            },
            "error_y": {
             "color": "#2a3f5f"
            },
            "marker": {
             "line": {
              "color": "#E5ECF6",
              "width": 0.5
             },
             "pattern": {
              "fillmode": "overlay",
              "size": 10,
              "solidity": 0.2
             }
            },
            "type": "bar"
           }
          ],
          "barpolar": [
           {
            "marker": {
             "line": {
              "color": "#E5ECF6",
              "width": 0.5
             },
             "pattern": {
              "fillmode": "overlay",
              "size": 10,
              "solidity": 0.2
             }
            },
            "type": "barpolar"
           }
          ],
          "carpet": [
           {
            "aaxis": {
             "endlinecolor": "#2a3f5f",
             "gridcolor": "white",
             "linecolor": "white",
             "minorgridcolor": "white",
             "startlinecolor": "#2a3f5f"
            },
            "baxis": {
             "endlinecolor": "#2a3f5f",
             "gridcolor": "white",
             "linecolor": "white",
             "minorgridcolor": "white",
             "startlinecolor": "#2a3f5f"
            },
            "type": "carpet"
           }
          ],
          "choropleth": [
           {
            "colorbar": {
             "outlinewidth": 0,
             "ticks": ""
            },
            "type": "choropleth"
           }
          ],
          "contour": [
           {
            "colorbar": {
             "outlinewidth": 0,
             "ticks": ""
            },
            "colorscale": [
             [
              0,
              "#0d0887"
             ],
             [
              0.1111111111111111,
              "#46039f"
             ],
             [
              0.2222222222222222,
              "#7201a8"
             ],
             [
              0.3333333333333333,
              "#9c179e"
             ],
             [
              0.4444444444444444,
              "#bd3786"
             ],
             [
              0.5555555555555556,
              "#d8576b"
             ],
             [
              0.6666666666666666,
              "#ed7953"
             ],
             [
              0.7777777777777778,
              "#fb9f3a"
             ],
             [
              0.8888888888888888,
              "#fdca26"
             ],
             [
              1,
              "#f0f921"
             ]
            ],
            "type": "contour"
           }
          ],
          "contourcarpet": [
           {
            "colorbar": {
             "outlinewidth": 0,
             "ticks": ""
            },
            "type": "contourcarpet"
           }
          ],
          "heatmap": [
           {
            "colorbar": {
             "outlinewidth": 0,
             "ticks": ""
            },
            "colorscale": [
             [
              0,
              "#0d0887"
             ],
             [
              0.1111111111111111,
              "#46039f"
             ],
             [
              0.2222222222222222,
              "#7201a8"
             ],
             [
              0.3333333333333333,
              "#9c179e"
             ],
             [
              0.4444444444444444,
              "#bd3786"
             ],
             [
              0.5555555555555556,
              "#d8576b"
             ],
             [
              0.6666666666666666,
              "#ed7953"
             ],
             [
              0.7777777777777778,
              "#fb9f3a"
             ],
             [
              0.8888888888888888,
              "#fdca26"
             ],
             [
              1,
              "#f0f921"
             ]
            ],
            "type": "heatmap"
           }
          ],
          "heatmapgl": [
           {
            "colorbar": {
             "outlinewidth": 0,
             "ticks": ""
            },
            "colorscale": [
             [
              0,
              "#0d0887"
             ],
             [
              0.1111111111111111,
              "#46039f"
             ],
             [
              0.2222222222222222,
              "#7201a8"
             ],
             [
              0.3333333333333333,
              "#9c179e"
             ],
             [
              0.4444444444444444,
              "#bd3786"
             ],
             [
              0.5555555555555556,
              "#d8576b"
             ],
             [
              0.6666666666666666,
              "#ed7953"
             ],
             [
              0.7777777777777778,
              "#fb9f3a"
             ],
             [
              0.8888888888888888,
              "#fdca26"
             ],
             [
              1,
              "#f0f921"
             ]
            ],
            "type": "heatmapgl"
           }
          ],
          "histogram": [
           {
            "marker": {
             "pattern": {
              "fillmode": "overlay",
              "size": 10,
              "solidity": 0.2
             }
            },
            "type": "histogram"
           }
          ],
          "histogram2d": [
           {
            "colorbar": {
             "outlinewidth": 0,
             "ticks": ""
            },
            "colorscale": [
             [
              0,
              "#0d0887"
             ],
             [
              0.1111111111111111,
              "#46039f"
             ],
             [
              0.2222222222222222,
              "#7201a8"
             ],
             [
              0.3333333333333333,
              "#9c179e"
             ],
             [
              0.4444444444444444,
              "#bd3786"
             ],
             [
              0.5555555555555556,
              "#d8576b"
             ],
             [
              0.6666666666666666,
              "#ed7953"
             ],
             [
              0.7777777777777778,
              "#fb9f3a"
             ],
             [
              0.8888888888888888,
              "#fdca26"
             ],
             [
              1,
              "#f0f921"
             ]
            ],
            "type": "histogram2d"
           }
          ],
          "histogram2dcontour": [
           {
            "colorbar": {
             "outlinewidth": 0,
             "ticks": ""
            },
            "colorscale": [
             [
              0,
              "#0d0887"
             ],
             [
              0.1111111111111111,
              "#46039f"
             ],
             [
              0.2222222222222222,
              "#7201a8"
             ],
             [
              0.3333333333333333,
              "#9c179e"
             ],
             [
              0.4444444444444444,
              "#bd3786"
             ],
             [
              0.5555555555555556,
              "#d8576b"
             ],
             [
              0.6666666666666666,
              "#ed7953"
             ],
             [
              0.7777777777777778,
              "#fb9f3a"
             ],
             [
              0.8888888888888888,
              "#fdca26"
             ],
             [
              1,
              "#f0f921"
             ]
            ],
            "type": "histogram2dcontour"
           }
          ],
          "mesh3d": [
           {
            "colorbar": {
             "outlinewidth": 0,
             "ticks": ""
            },
            "type": "mesh3d"
           }
          ],
          "parcoords": [
           {
            "line": {
             "colorbar": {
              "outlinewidth": 0,
              "ticks": ""
             }
            },
            "type": "parcoords"
           }
          ],
          "pie": [
           {
            "automargin": true,
            "type": "pie"
           }
          ],
          "scatter": [
           {
            "fillpattern": {
             "fillmode": "overlay",
             "size": 10,
             "solidity": 0.2
            },
            "type": "scatter"
           }
          ],
          "scatter3d": [
           {
            "line": {
             "colorbar": {
              "outlinewidth": 0,
              "ticks": ""
             }
            },
            "marker": {
             "colorbar": {
              "outlinewidth": 0,
              "ticks": ""
             }
            },
            "type": "scatter3d"
           }
          ],
          "scattercarpet": [
           {
            "marker": {
             "colorbar": {
              "outlinewidth": 0,
              "ticks": ""
             }
            },
            "type": "scattercarpet"
           }
          ],
          "scattergeo": [
           {
            "marker": {
             "colorbar": {
              "outlinewidth": 0,
              "ticks": ""
             }
            },
            "type": "scattergeo"
           }
          ],
          "scattergl": [
           {
            "marker": {
             "colorbar": {
              "outlinewidth": 0,
              "ticks": ""
             }
            },
            "type": "scattergl"
           }
          ],
          "scattermapbox": [
           {
            "marker": {
             "colorbar": {
              "outlinewidth": 0,
              "ticks": ""
             }
            },
            "type": "scattermapbox"
           }
          ],
          "scatterpolar": [
           {
            "marker": {
             "colorbar": {
              "outlinewidth": 0,
              "ticks": ""
             }
            },
            "type": "scatterpolar"
           }
          ],
          "scatterpolargl": [
           {
            "marker": {
             "colorbar": {
              "outlinewidth": 0,
              "ticks": ""
             }
            },
            "type": "scatterpolargl"
           }
          ],
          "scatterternary": [
           {
            "marker": {
             "colorbar": {
              "outlinewidth": 0,
              "ticks": ""
             }
            },
            "type": "scatterternary"
           }
          ],
          "surface": [
           {
            "colorbar": {
             "outlinewidth": 0,
             "ticks": ""
            },
            "colorscale": [
             [
              0,
              "#0d0887"
             ],
             [
              0.1111111111111111,
              "#46039f"
             ],
             [
              0.2222222222222222,
              "#7201a8"
             ],
             [
              0.3333333333333333,
              "#9c179e"
             ],
             [
              0.4444444444444444,
              "#bd3786"
             ],
             [
              0.5555555555555556,
              "#d8576b"
             ],
             [
              0.6666666666666666,
              "#ed7953"
             ],
             [
              0.7777777777777778,
              "#fb9f3a"
             ],
             [
              0.8888888888888888,
              "#fdca26"
             ],
             [
              1,
              "#f0f921"
             ]
            ],
            "type": "surface"
           }
          ],
          "table": [
           {
            "cells": {
             "fill": {
              "color": "#EBF0F8"
             },
             "line": {
              "color": "white"
             }
            },
            "header": {
             "fill": {
              "color": "#C8D4E3"
             },
             "line": {
              "color": "white"
             }
            },
            "type": "table"
           }
          ]
         },
         "layout": {
          "annotationdefaults": {
           "arrowcolor": "#2a3f5f",
           "arrowhead": 0,
           "arrowwidth": 1
          },
          "autotypenumbers": "strict",
          "coloraxis": {
           "colorbar": {
            "outlinewidth": 0,
            "ticks": ""
           }
          },
          "colorscale": {
           "diverging": [
            [
             0,
             "#8e0152"
            ],
            [
             0.1,
             "#c51b7d"
            ],
            [
             0.2,
             "#de77ae"
            ],
            [
             0.3,
             "#f1b6da"
            ],
            [
             0.4,
             "#fde0ef"
            ],
            [
             0.5,
             "#f7f7f7"
            ],
            [
             0.6,
             "#e6f5d0"
            ],
            [
             0.7,
             "#b8e186"
            ],
            [
             0.8,
             "#7fbc41"
            ],
            [
             0.9,
             "#4d9221"
            ],
            [
             1,
             "#276419"
            ]
           ],
           "sequential": [
            [
             0,
             "#0d0887"
            ],
            [
             0.1111111111111111,
             "#46039f"
            ],
            [
             0.2222222222222222,
             "#7201a8"
            ],
            [
             0.3333333333333333,
             "#9c179e"
            ],
            [
             0.4444444444444444,
             "#bd3786"
            ],
            [
             0.5555555555555556,
             "#d8576b"
            ],
            [
             0.6666666666666666,
             "#ed7953"
            ],
            [
             0.7777777777777778,
             "#fb9f3a"
            ],
            [
             0.8888888888888888,
             "#fdca26"
            ],
            [
             1,
             "#f0f921"
            ]
           ],
           "sequentialminus": [
            [
             0,
             "#0d0887"
            ],
            [
             0.1111111111111111,
             "#46039f"
            ],
            [
             0.2222222222222222,
             "#7201a8"
            ],
            [
             0.3333333333333333,
             "#9c179e"
            ],
            [
             0.4444444444444444,
             "#bd3786"
            ],
            [
             0.5555555555555556,
             "#d8576b"
            ],
            [
             0.6666666666666666,
             "#ed7953"
            ],
            [
             0.7777777777777778,
             "#fb9f3a"
            ],
            [
             0.8888888888888888,
             "#fdca26"
            ],
            [
             1,
             "#f0f921"
            ]
           ]
          },
          "colorway": [
           "#636efa",
           "#EF553B",
           "#00cc96",
           "#ab63fa",
           "#FFA15A",
           "#19d3f3",
           "#FF6692",
           "#B6E880",
           "#FF97FF",
           "#FECB52"
          ],
          "font": {
           "color": "#2a3f5f"
          },
          "geo": {
           "bgcolor": "white",
           "lakecolor": "white",
           "landcolor": "#E5ECF6",
           "showlakes": true,
           "showland": true,
           "subunitcolor": "white"
          },
          "hoverlabel": {
           "align": "left"
          },
          "hovermode": "closest",
          "mapbox": {
           "style": "light"
          },
          "paper_bgcolor": "white",
          "plot_bgcolor": "#E5ECF6",
          "polar": {
           "angularaxis": {
            "gridcolor": "white",
            "linecolor": "white",
            "ticks": ""
           },
           "bgcolor": "#E5ECF6",
           "radialaxis": {
            "gridcolor": "white",
            "linecolor": "white",
            "ticks": ""
           }
          },
          "scene": {
           "xaxis": {
            "backgroundcolor": "#E5ECF6",
            "gridcolor": "white",
            "gridwidth": 2,
            "linecolor": "white",
            "showbackground": true,
            "ticks": "",
            "zerolinecolor": "white"
           },
           "yaxis": {
            "backgroundcolor": "#E5ECF6",
            "gridcolor": "white",
            "gridwidth": 2,
            "linecolor": "white",
            "showbackground": true,
            "ticks": "",
            "zerolinecolor": "white"
           },
           "zaxis": {
            "backgroundcolor": "#E5ECF6",
            "gridcolor": "white",
            "gridwidth": 2,
            "linecolor": "white",
            "showbackground": true,
            "ticks": "",
            "zerolinecolor": "white"
           }
          },
          "shapedefaults": {
           "line": {
            "color": "#2a3f5f"
           }
          },
          "ternary": {
           "aaxis": {
            "gridcolor": "white",
            "linecolor": "white",
            "ticks": ""
           },
           "baxis": {
            "gridcolor": "white",
            "linecolor": "white",
            "ticks": ""
           },
           "bgcolor": "#E5ECF6",
           "caxis": {
            "gridcolor": "white",
            "linecolor": "white",
            "ticks": ""
           }
          },
          "title": {
           "x": 0.05
          },
          "xaxis": {
           "automargin": true,
           "gridcolor": "white",
           "linecolor": "white",
           "ticks": "",
           "title": {
            "standoff": 15
           },
           "zerolinecolor": "white",
           "zerolinewidth": 2
          },
          "yaxis": {
           "automargin": true,
           "gridcolor": "white",
           "linecolor": "white",
           "ticks": "",
           "title": {
            "standoff": 15
           },
           "zerolinecolor": "white",
           "zerolinewidth": 2
          }
         }
        },
        "title": {
         "text": "Circuits and Thermoelectrics"
        }
       }
      }
     },
     "metadata": {},
     "output_type": "display_data"
    }
   ],
   "source": [
    "distance_cost_template = graphMap.thermoelectric_generation_cost\n",
    "\n",
    "# Generate circuits for map\n",
    "rng = RANDOM\n",
    "\n",
    "electric_system_circuits_list: list[Circuit] = []\n",
    "for i in range(NO_CIRCUITS):\n",
    "    citizen_count = RANDOM.integers(MIN_CITIZEN, MAX_CITIZEN)\n",
    "    citizen_range = (\n",
    "        max(citizen_count - MAX_DEVIATION_CITIZEN_IN_BLOCK, 0),\n",
    "        min(citizen_count + MAX_DEVIATION_CITIZEN_IN_BLOCK, MAX_CITIZEN),\n",
    "    )\n",
    "\n",
    "    industrialization = RANDOM.integers(0, DEMAND_INDUSTRIALIZATION) / DEMAND_INDUSTRIALIZATION\n",
    "\n",
    "    bimodal_consumption = DailyElectricityConsumptionBimodal(\n",
    "        base_consumption=DEMAND_PER_PERSON * citizen_count\n",
    "        + DEMAND_INDUSTRIALIZATION * industrialization,\n",
    "        base_variability=VARIABILITY_DEMAND_PER_PERSON * citizen_count\n",
    "        + VARIABILITY_DEMAND_PER_INDUSTRIALIZATION * industrialization,\n",
    "        mean_morning=PEAK_CONSUMPTION_MORNING,\n",
    "        mean_evening=PEAK_CONSUMPTION_EVENING,\n",
    "        std_morning=RANDOM.uniform(1.0, MAX_DEVIATION_MORNING),\n",
    "        std_evening=RANDOM.uniform(1.0, MAX_DEVIATION_EVENING),\n",
    "        weight_morning=WEIGHT_MORNING,\n",
    "        weight_evening=WEIGHT_EVENING,\n",
    "    )\n",
    "\n",
    "    electric_system_circuits_list.append(\n",
    "        Circuit(\n",
    "            graphMap.circuits_nodes[i].id,\n",
    "            gaussian_mixture=bimodal_consumption,\n",
    "            blocks_range=(MIN_BLOCKS_PER_CIRCUIT, MAX_BLOCKS_PER_CIRCUIT),\n",
    "            citizens_range=citizen_range,\n",
    "            industrialization=industrialization,\n",
    "        )\n",
    "    )\n",
    "\n",
    "# Generate Thermoelectric generation based in the nearest circuits\n",
    "mapper_circuit_with_thermoelectric = {}\n",
    "\n",
    "for c in electric_system_circuits_list:\n",
    "\n",
    "    filtered = [f for f in graphMap.thermoelectric_generation_cost if f[1] == c.id]\n",
    "    filtered = sorted(filtered, key=lambda x: x[2])\n",
    "    mapper_circuit_with_thermoelectric[c.id] = filtered[0][0]\n",
    "\n",
    "\n",
    "import plotly.graph_objects as go\n",
    "\n",
    "# Create edges for the plotly graph\n",
    "edges = []\n",
    "edges_labels = []\n",
    "for circuit, thermoelectric in mapper_circuit_with_thermoelectric.items():\n",
    "\n",
    "    circuitPos = [c.position for c in graphMap.circuits_nodes if c.id == circuit][0]\n",
    "    thermoelectricPos = [\n",
    "        t.position for t in graphMap.thermoelectrics_nodes if t.id == thermoelectric\n",
    "    ][0]\n",
    "\n",
    "    edges.append((circuitPos, thermoelectricPos))\n",
    "    edges_labels.append(f\"{circuit} -> {thermoelectric}\")\n",
    "\n",
    "\n",
    "# Create a plotly graph\n",
    "fig = go.Figure()\n",
    "\n",
    "# Add edges to the plotly graph\n",
    "for i, edge in enumerate(edges):\n",
    "    circuit, thermoelectric = edge\n",
    "    fig.add_trace(\n",
    "        go.Scatter(\n",
    "            x=[circuit[0], thermoelectric[0]],\n",
    "            y=[circuit[1], thermoelectric[1]],\n",
    "            mode=\"lines\",\n",
    "            line=dict(color=\"black\"),\n",
    "            name=\"Wire Connection\",\n",
    "            showlegend=False,\n",
    "            hoverinfo=\"text\",\n",
    "            text=edges_labels[i],\n",
    "            hoverlabel=dict(bgcolor=\"white\", font_size=16, font_family=\"Rockwell\"),\n",
    "        )\n",
    "    )\n",
    "\n",
    "# Add nodes to the plotly graph\n",
    "all_nodes = graphMap.circuits_nodes + graphMap.thermoelectrics_nodes\n",
    "for i, node in enumerate(all_nodes):\n",
    "    fig.add_trace(\n",
    "        go.Scatter(\n",
    "            x=[node.position[0]],\n",
    "            y=[node.position[1]],\n",
    "            mode=\"markers+text\",\n",
    "            marker=dict(\n",
    "                size=10, color=\"blue\" if i >= len(graphMap.circuits_nodes) else \"red\"\n",
    "            ),\n",
    "            text=[node.id],\n",
    "            textposition=\"top center\",\n",
    "            hoverinfo=\"text\",\n",
    "        )\n",
    "    )\n",
    "\n",
    "fig.update_layout(\n",
    "    showlegend=False,\n",
    "    title=\"Circuits and Thermoelectrics\",\n",
    "    height=800,\n",
    "    plot_bgcolor=\"lightgreen\",\n",
    ")\n",
    "\n",
    "fig.show()"
   ]
  },
  {
   "cell_type": "code",
   "execution_count": 5,
   "metadata": {},
   "outputs": [
    {
     "data": {
      "text/html": [
       "<div>\n",
       "<style scoped>\n",
       "    .dataframe tbody tr th:only-of-type {\n",
       "        vertical-align: middle;\n",
       "    }\n",
       "\n",
       "    .dataframe tbody tr th {\n",
       "        vertical-align: top;\n",
       "    }\n",
       "\n",
       "    .dataframe thead th {\n",
       "        text-align: right;\n",
       "    }\n",
       "</style>\n",
       "<table border=\"1\" class=\"dataframe\">\n",
       "  <thead>\n",
       "    <tr style=\"text-align: right;\">\n",
       "      <th></th>\n",
       "      <th>C0</th>\n",
       "      <th>C1</th>\n",
       "      <th>C2</th>\n",
       "      <th>C3</th>\n",
       "      <th>C4</th>\n",
       "      <th>C5</th>\n",
       "      <th>C6</th>\n",
       "      <th>C7</th>\n",
       "      <th>C8</th>\n",
       "      <th>C9</th>\n",
       "      <th>...</th>\n",
       "      <th>C40</th>\n",
       "      <th>C41</th>\n",
       "      <th>C42</th>\n",
       "      <th>C43</th>\n",
       "      <th>C44</th>\n",
       "      <th>C45</th>\n",
       "      <th>C46</th>\n",
       "      <th>C47</th>\n",
       "      <th>C48</th>\n",
       "      <th>C49</th>\n",
       "    </tr>\n",
       "  </thead>\n",
       "  <tbody>\n",
       "    <tr>\n",
       "      <th>Th0</th>\n",
       "      <td>0.132119</td>\n",
       "      <td>0.789459</td>\n",
       "      <td>0.777733</td>\n",
       "      <td>0.956684</td>\n",
       "      <td>0.970498</td>\n",
       "      <td>0.005816</td>\n",
       "      <td>0.039112</td>\n",
       "      <td>0.993470</td>\n",
       "      <td>0.518126</td>\n",
       "      <td>0.814849</td>\n",
       "      <td>...</td>\n",
       "      <td>0.192142</td>\n",
       "      <td>0.374701</td>\n",
       "      <td>0.632191</td>\n",
       "      <td>0.427681</td>\n",
       "      <td>0.353039</td>\n",
       "      <td>0.082360</td>\n",
       "      <td>0.020096</td>\n",
       "      <td>0.298070</td>\n",
       "      <td>0.586995</td>\n",
       "      <td>0.866702</td>\n",
       "    </tr>\n",
       "    <tr>\n",
       "      <th>Th1</th>\n",
       "      <td>0.711103</td>\n",
       "      <td>0.080151</td>\n",
       "      <td>0.090126</td>\n",
       "      <td>0.147144</td>\n",
       "      <td>0.160958</td>\n",
       "      <td>0.835627</td>\n",
       "      <td>0.834996</td>\n",
       "      <td>0.183930</td>\n",
       "      <td>0.326361</td>\n",
       "      <td>0.064862</td>\n",
       "      <td>...</td>\n",
       "      <td>0.670334</td>\n",
       "      <td>0.475320</td>\n",
       "      <td>0.231204</td>\n",
       "      <td>0.463615</td>\n",
       "      <td>0.492011</td>\n",
       "      <td>0.780276</td>\n",
       "      <td>0.859463</td>\n",
       "      <td>0.602678</td>\n",
       "      <td>0.291424</td>\n",
       "      <td>0.057162</td>\n",
       "    </tr>\n",
       "    <tr>\n",
       "      <th>Th2</th>\n",
       "      <td>0.012136</td>\n",
       "      <td>0.650766</td>\n",
       "      <td>0.639040</td>\n",
       "      <td>0.817991</td>\n",
       "      <td>0.831805</td>\n",
       "      <td>0.136660</td>\n",
       "      <td>0.136030</td>\n",
       "      <td>0.854777</td>\n",
       "      <td>0.379433</td>\n",
       "      <td>0.676156</td>\n",
       "      <td>...</td>\n",
       "      <td>0.053449</td>\n",
       "      <td>0.236008</td>\n",
       "      <td>0.493498</td>\n",
       "      <td>0.288988</td>\n",
       "      <td>0.214346</td>\n",
       "      <td>0.081310</td>\n",
       "      <td>0.160496</td>\n",
       "      <td>0.159377</td>\n",
       "      <td>0.448302</td>\n",
       "      <td>0.728009</td>\n",
       "    </tr>\n",
       "    <tr>\n",
       "      <th>Th3</th>\n",
       "      <td>0.831644</td>\n",
       "      <td>0.200692</td>\n",
       "      <td>0.210667</td>\n",
       "      <td>0.014608</td>\n",
       "      <td>0.028421</td>\n",
       "      <td>0.956168</td>\n",
       "      <td>0.955537</td>\n",
       "      <td>0.051394</td>\n",
       "      <td>0.446902</td>\n",
       "      <td>0.185403</td>\n",
       "      <td>...</td>\n",
       "      <td>0.790875</td>\n",
       "      <td>0.595862</td>\n",
       "      <td>0.351745</td>\n",
       "      <td>0.584156</td>\n",
       "      <td>0.612552</td>\n",
       "      <td>0.900817</td>\n",
       "      <td>0.980004</td>\n",
       "      <td>0.723219</td>\n",
       "      <td>0.411966</td>\n",
       "      <td>0.158235</td>\n",
       "    </tr>\n",
       "    <tr>\n",
       "      <th>Th4</th>\n",
       "      <td>0.050956</td>\n",
       "      <td>0.708296</td>\n",
       "      <td>0.696570</td>\n",
       "      <td>0.875521</td>\n",
       "      <td>0.889334</td>\n",
       "      <td>0.087087</td>\n",
       "      <td>0.086457</td>\n",
       "      <td>0.912307</td>\n",
       "      <td>0.436963</td>\n",
       "      <td>0.733685</td>\n",
       "      <td>...</td>\n",
       "      <td>0.110979</td>\n",
       "      <td>0.293538</td>\n",
       "      <td>0.551028</td>\n",
       "      <td>0.346518</td>\n",
       "      <td>0.271876</td>\n",
       "      <td>0.031737</td>\n",
       "      <td>0.110923</td>\n",
       "      <td>0.216907</td>\n",
       "      <td>0.505832</td>\n",
       "      <td>0.785539</td>\n",
       "    </tr>\n",
       "    <tr>\n",
       "      <th>Th5</th>\n",
       "      <td>0.245652</td>\n",
       "      <td>0.441719</td>\n",
       "      <td>0.429993</td>\n",
       "      <td>0.608943</td>\n",
       "      <td>0.622757</td>\n",
       "      <td>0.370176</td>\n",
       "      <td>0.369545</td>\n",
       "      <td>0.645730</td>\n",
       "      <td>0.170386</td>\n",
       "      <td>0.467108</td>\n",
       "      <td>...</td>\n",
       "      <td>0.204882</td>\n",
       "      <td>0.026960</td>\n",
       "      <td>0.284450</td>\n",
       "      <td>0.079940</td>\n",
       "      <td>0.026560</td>\n",
       "      <td>0.314825</td>\n",
       "      <td>0.394011</td>\n",
       "      <td>0.137227</td>\n",
       "      <td>0.239255</td>\n",
       "      <td>0.518962</td>\n",
       "    </tr>\n",
       "    <tr>\n",
       "      <th>Th6</th>\n",
       "      <td>0.636521</td>\n",
       "      <td>0.025136</td>\n",
       "      <td>0.015544</td>\n",
       "      <td>0.192361</td>\n",
       "      <td>0.206175</td>\n",
       "      <td>0.761045</td>\n",
       "      <td>0.760415</td>\n",
       "      <td>0.229148</td>\n",
       "      <td>0.251779</td>\n",
       "      <td>0.050526</td>\n",
       "      <td>...</td>\n",
       "      <td>0.595752</td>\n",
       "      <td>0.400739</td>\n",
       "      <td>0.156622</td>\n",
       "      <td>0.389033</td>\n",
       "      <td>0.417429</td>\n",
       "      <td>0.705695</td>\n",
       "      <td>0.784881</td>\n",
       "      <td>0.528097</td>\n",
       "      <td>0.216843</td>\n",
       "      <td>0.102380</td>\n",
       "    </tr>\n",
       "    <tr>\n",
       "      <th>Th7</th>\n",
       "      <td>0.371792</td>\n",
       "      <td>0.289403</td>\n",
       "      <td>0.277677</td>\n",
       "      <td>0.456627</td>\n",
       "      <td>0.470441</td>\n",
       "      <td>0.496316</td>\n",
       "      <td>0.495686</td>\n",
       "      <td>0.493414</td>\n",
       "      <td>0.018070</td>\n",
       "      <td>0.314792</td>\n",
       "      <td>...</td>\n",
       "      <td>0.331023</td>\n",
       "      <td>0.136010</td>\n",
       "      <td>0.132135</td>\n",
       "      <td>0.124304</td>\n",
       "      <td>0.152700</td>\n",
       "      <td>0.440966</td>\n",
       "      <td>0.520152</td>\n",
       "      <td>0.263368</td>\n",
       "      <td>0.086939</td>\n",
       "      <td>0.366646</td>\n",
       "    </tr>\n",
       "  </tbody>\n",
       "</table>\n",
       "<p>8 rows × 50 columns</p>\n",
       "</div>"
      ],
      "text/plain": [
       "           C0        C1        C2        C3        C4        C5        C6  \\\n",
       "Th0  0.132119  0.789459  0.777733  0.956684  0.970498  0.005816  0.039112   \n",
       "Th1  0.711103  0.080151  0.090126  0.147144  0.160958  0.835627  0.834996   \n",
       "Th2  0.012136  0.650766  0.639040  0.817991  0.831805  0.136660  0.136030   \n",
       "Th3  0.831644  0.200692  0.210667  0.014608  0.028421  0.956168  0.955537   \n",
       "Th4  0.050956  0.708296  0.696570  0.875521  0.889334  0.087087  0.086457   \n",
       "Th5  0.245652  0.441719  0.429993  0.608943  0.622757  0.370176  0.369545   \n",
       "Th6  0.636521  0.025136  0.015544  0.192361  0.206175  0.761045  0.760415   \n",
       "Th7  0.371792  0.289403  0.277677  0.456627  0.470441  0.496316  0.495686   \n",
       "\n",
       "           C7        C8        C9  ...       C40       C41       C42  \\\n",
       "Th0  0.993470  0.518126  0.814849  ...  0.192142  0.374701  0.632191   \n",
       "Th1  0.183930  0.326361  0.064862  ...  0.670334  0.475320  0.231204   \n",
       "Th2  0.854777  0.379433  0.676156  ...  0.053449  0.236008  0.493498   \n",
       "Th3  0.051394  0.446902  0.185403  ...  0.790875  0.595862  0.351745   \n",
       "Th4  0.912307  0.436963  0.733685  ...  0.110979  0.293538  0.551028   \n",
       "Th5  0.645730  0.170386  0.467108  ...  0.204882  0.026960  0.284450   \n",
       "Th6  0.229148  0.251779  0.050526  ...  0.595752  0.400739  0.156622   \n",
       "Th7  0.493414  0.018070  0.314792  ...  0.331023  0.136010  0.132135   \n",
       "\n",
       "          C43       C44       C45       C46       C47       C48       C49  \n",
       "Th0  0.427681  0.353039  0.082360  0.020096  0.298070  0.586995  0.866702  \n",
       "Th1  0.463615  0.492011  0.780276  0.859463  0.602678  0.291424  0.057162  \n",
       "Th2  0.288988  0.214346  0.081310  0.160496  0.159377  0.448302  0.728009  \n",
       "Th3  0.584156  0.612552  0.900817  0.980004  0.723219  0.411966  0.158235  \n",
       "Th4  0.346518  0.271876  0.031737  0.110923  0.216907  0.505832  0.785539  \n",
       "Th5  0.079940  0.026560  0.314825  0.394011  0.137227  0.239255  0.518962  \n",
       "Th6  0.389033  0.417429  0.705695  0.784881  0.528097  0.216843  0.102380  \n",
       "Th7  0.124304  0.152700  0.440966  0.520152  0.263368  0.086939  0.366646  \n",
       "\n",
       "[8 rows x 50 columns]"
      ]
     },
     "execution_count": 5,
     "metadata": {},
     "output_type": "execute_result"
    }
   ],
   "source": [
    "# Generate the distance matrix\n",
    "\n",
    "\n",
    "def distance_template_to_distance_matrix(\n",
    "    template: list[tuple[str, str, float, list[str]]],\n",
    "    thermoelectrics: list[str],\n",
    "    circuits: list[str],\n",
    "):\n",
    "    matrix = [[-1 for _ in range(len(circuits))] for _ in range(len(thermoelectrics))]\n",
    "\n",
    "    c_map = {}\n",
    "    t_map = {}\n",
    "\n",
    "    for i, t in enumerate(thermoelectrics):\n",
    "        t_map[t] = i\n",
    "\n",
    "    for i, c in enumerate(circuits):\n",
    "        c_map[c] = i\n",
    "\n",
    "    max_cost = 1\n",
    "    for t, c, cost, _ in template:\n",
    "        matrix[t_map[t]][c_map[c]] = cost\n",
    "        max_cost = max(max_cost, cost)\n",
    "\n",
    "    for t, c, _, _ in template:\n",
    "        matrix[t_map[t]][c_map[c]] /= max_cost\n",
    "\n",
    "    return matrix\n",
    "\n",
    "\n",
    "matrix = distance_template_to_distance_matrix(\n",
    "    distance_cost_template,\n",
    "    [t.id for t in graphMap.thermoelectrics_nodes],\n",
    "    [c.id for c in graphMap.circuits_nodes],\n",
    ")\n",
    "\n",
    "\n",
    "distance_matrix_df = pd.DataFrame(\n",
    "    matrix,\n",
    "    index=[t.id for t in graphMap.thermoelectrics_nodes],\n",
    "    columns=[c.id for c in graphMap.circuits_nodes],\n",
    ")\n",
    "\n",
    "distance_matrix_df"
   ]
  },
  {
   "cell_type": "code",
   "execution_count": 6,
   "metadata": {},
   "outputs": [
    {
     "name": "stdout",
     "output_type": "stream",
     "text": [
      "['Th0', 'Th0', 'Th0', 'Th0', 'Th0', 'Th0', 'Th1', 'Th1', 'Th1', 'Th1', 'Th2', 'Th2', 'Th2', 'Th2', 'Th2', 'Th2', 'Th2', 'Th2', 'Th2', 'Th3', 'Th3', 'Th3', 'Th3', 'Th3', 'Th3', 'Th3', 'Th4', 'Th4', 'Th4', 'Th4', 'Th4', 'Th5', 'Th5', 'Th5', 'Th5', 'Th5', 'Th5', 'Th5', 'Th5', 'Th6', 'Th6', 'Th6', 'Th6', 'Th6', 'Th6', 'Th6', 'Th7', 'Th7', 'Th7', 'Th7']\n",
      "['Th0', 'Th1', 'Th2', 'Th3', 'Th4', 'Th5', 'Th6', 'Th7']\n"
     ]
    },
    {
     "data": {
      "application/vnd.plotly.v1+json": {
       "config": {
        "plotlyServerURL": "https://plot.ly"
       },
       "data": [
        {
         "alignmentgroup": "True",
         "hovertemplate": "Thermoelectric ID=Th0<br>ID=%{x}<br>Total Capacity=%{y}<extra></extra>",
         "legendgroup": "Th0",
         "marker": {
          "color": "#636EFA",
          "pattern": {
           "shape": ""
          }
         },
         "name": "Th0",
         "offsetgroup": "Th0",
         "orientation": "v",
         "showlegend": true,
         "textposition": "auto",
         "type": "bar",
         "x": [
          "Th0"
         ],
         "xaxis": "x",
         "y": [
          29362.73924639479
         ],
         "yaxis": "y"
        },
        {
         "alignmentgroup": "True",
         "hovertemplate": "Thermoelectric ID=Th1<br>ID=%{x}<br>Total Capacity=%{y}<extra></extra>",
         "legendgroup": "Th1",
         "marker": {
          "color": "#EF553B",
          "pattern": {
           "shape": ""
          }
         },
         "name": "Th1",
         "offsetgroup": "Th1",
         "orientation": "v",
         "showlegend": true,
         "textposition": "auto",
         "type": "bar",
         "x": [
          "Th1"
         ],
         "xaxis": "x",
         "y": [
          19974.152842286232
         ],
         "yaxis": "y"
        },
        {
         "alignmentgroup": "True",
         "hovertemplate": "Thermoelectric ID=Th2<br>ID=%{x}<br>Total Capacity=%{y}<extra></extra>",
         "legendgroup": "Th2",
         "marker": {
          "color": "#00CC96",
          "pattern": {
           "shape": ""
          }
         },
         "name": "Th2",
         "offsetgroup": "Th2",
         "orientation": "v",
         "showlegend": true,
         "textposition": "auto",
         "type": "bar",
         "x": [
          "Th2"
         ],
         "xaxis": "x",
         "y": [
          27954.100723425352
         ],
         "yaxis": "y"
        },
        {
         "alignmentgroup": "True",
         "hovertemplate": "Thermoelectric ID=Th3<br>ID=%{x}<br>Total Capacity=%{y}<extra></extra>",
         "legendgroup": "Th3",
         "marker": {
          "color": "#AB63FA",
          "pattern": {
           "shape": ""
          }
         },
         "name": "Th3",
         "offsetgroup": "Th3",
         "orientation": "v",
         "showlegend": true,
         "textposition": "auto",
         "type": "bar",
         "x": [
          "Th3"
         ],
         "xaxis": "x",
         "y": [
          32338.20576767256
         ],
         "yaxis": "y"
        },
        {
         "alignmentgroup": "True",
         "hovertemplate": "Thermoelectric ID=Th4<br>ID=%{x}<br>Total Capacity=%{y}<extra></extra>",
         "legendgroup": "Th4",
         "marker": {
          "color": "#FFA15A",
          "pattern": {
           "shape": ""
          }
         },
         "name": "Th4",
         "offsetgroup": "Th4",
         "orientation": "v",
         "showlegend": true,
         "textposition": "auto",
         "type": "bar",
         "x": [
          "Th4"
         ],
         "xaxis": "x",
         "y": [
          10137.702365446723
         ],
         "yaxis": "y"
        },
        {
         "alignmentgroup": "True",
         "hovertemplate": "Thermoelectric ID=Th5<br>ID=%{x}<br>Total Capacity=%{y}<extra></extra>",
         "legendgroup": "Th5",
         "marker": {
          "color": "#19D3F3",
          "pattern": {
           "shape": ""
          }
         },
         "name": "Th5",
         "offsetgroup": "Th5",
         "orientation": "v",
         "showlegend": true,
         "textposition": "auto",
         "type": "bar",
         "x": [
          "Th5"
         ],
         "xaxis": "x",
         "y": [
          39321.54792956207
         ],
         "yaxis": "y"
        },
        {
         "alignmentgroup": "True",
         "hovertemplate": "Thermoelectric ID=Th6<br>ID=%{x}<br>Total Capacity=%{y}<extra></extra>",
         "legendgroup": "Th6",
         "marker": {
          "color": "#FF6692",
          "pattern": {
           "shape": ""
          }
         },
         "name": "Th6",
         "offsetgroup": "Th6",
         "orientation": "v",
         "showlegend": true,
         "textposition": "auto",
         "type": "bar",
         "x": [
          "Th6"
         ],
         "xaxis": "x",
         "y": [
          33155.38324890003
         ],
         "yaxis": "y"
        },
        {
         "alignmentgroup": "True",
         "hovertemplate": "Thermoelectric ID=Th7<br>ID=%{x}<br>Total Capacity=%{y}<extra></extra>",
         "legendgroup": "Th7",
         "marker": {
          "color": "#B6E880",
          "pattern": {
           "shape": ""
          }
         },
         "name": "Th7",
         "offsetgroup": "Th7",
         "orientation": "v",
         "showlegend": true,
         "textposition": "auto",
         "type": "bar",
         "x": [
          "Th7"
         ],
         "xaxis": "x",
         "y": [
          16219.537491372801
         ],
         "yaxis": "y"
        }
       ],
       "layout": {
        "barmode": "relative",
        "height": 800,
        "legend": {
         "title": {
          "text": "Thermoelectric ID"
         },
         "tracegroupgap": 0
        },
        "template": {
         "data": {
          "bar": [
           {
            "error_x": {
             "color": "#2a3f5f"
            },
            "error_y": {
             "color": "#2a3f5f"
            },
            "marker": {
             "line": {
              "color": "#E5ECF6",
              "width": 0.5
             },
             "pattern": {
              "fillmode": "overlay",
              "size": 10,
              "solidity": 0.2
             }
            },
            "type": "bar"
           }
          ],
          "barpolar": [
           {
            "marker": {
             "line": {
              "color": "#E5ECF6",
              "width": 0.5
             },
             "pattern": {
              "fillmode": "overlay",
              "size": 10,
              "solidity": 0.2
             }
            },
            "type": "barpolar"
           }
          ],
          "carpet": [
           {
            "aaxis": {
             "endlinecolor": "#2a3f5f",
             "gridcolor": "white",
             "linecolor": "white",
             "minorgridcolor": "white",
             "startlinecolor": "#2a3f5f"
            },
            "baxis": {
             "endlinecolor": "#2a3f5f",
             "gridcolor": "white",
             "linecolor": "white",
             "minorgridcolor": "white",
             "startlinecolor": "#2a3f5f"
            },
            "type": "carpet"
           }
          ],
          "choropleth": [
           {
            "colorbar": {
             "outlinewidth": 0,
             "ticks": ""
            },
            "type": "choropleth"
           }
          ],
          "contour": [
           {
            "colorbar": {
             "outlinewidth": 0,
             "ticks": ""
            },
            "colorscale": [
             [
              0,
              "#0d0887"
             ],
             [
              0.1111111111111111,
              "#46039f"
             ],
             [
              0.2222222222222222,
              "#7201a8"
             ],
             [
              0.3333333333333333,
              "#9c179e"
             ],
             [
              0.4444444444444444,
              "#bd3786"
             ],
             [
              0.5555555555555556,
              "#d8576b"
             ],
             [
              0.6666666666666666,
              "#ed7953"
             ],
             [
              0.7777777777777778,
              "#fb9f3a"
             ],
             [
              0.8888888888888888,
              "#fdca26"
             ],
             [
              1,
              "#f0f921"
             ]
            ],
            "type": "contour"
           }
          ],
          "contourcarpet": [
           {
            "colorbar": {
             "outlinewidth": 0,
             "ticks": ""
            },
            "type": "contourcarpet"
           }
          ],
          "heatmap": [
           {
            "colorbar": {
             "outlinewidth": 0,
             "ticks": ""
            },
            "colorscale": [
             [
              0,
              "#0d0887"
             ],
             [
              0.1111111111111111,
              "#46039f"
             ],
             [
              0.2222222222222222,
              "#7201a8"
             ],
             [
              0.3333333333333333,
              "#9c179e"
             ],
             [
              0.4444444444444444,
              "#bd3786"
             ],
             [
              0.5555555555555556,
              "#d8576b"
             ],
             [
              0.6666666666666666,
              "#ed7953"
             ],
             [
              0.7777777777777778,
              "#fb9f3a"
             ],
             [
              0.8888888888888888,
              "#fdca26"
             ],
             [
              1,
              "#f0f921"
             ]
            ],
            "type": "heatmap"
           }
          ],
          "heatmapgl": [
           {
            "colorbar": {
             "outlinewidth": 0,
             "ticks": ""
            },
            "colorscale": [
             [
              0,
              "#0d0887"
             ],
             [
              0.1111111111111111,
              "#46039f"
             ],
             [
              0.2222222222222222,
              "#7201a8"
             ],
             [
              0.3333333333333333,
              "#9c179e"
             ],
             [
              0.4444444444444444,
              "#bd3786"
             ],
             [
              0.5555555555555556,
              "#d8576b"
             ],
             [
              0.6666666666666666,
              "#ed7953"
             ],
             [
              0.7777777777777778,
              "#fb9f3a"
             ],
             [
              0.8888888888888888,
              "#fdca26"
             ],
             [
              1,
              "#f0f921"
             ]
            ],
            "type": "heatmapgl"
           }
          ],
          "histogram": [
           {
            "marker": {
             "pattern": {
              "fillmode": "overlay",
              "size": 10,
              "solidity": 0.2
             }
            },
            "type": "histogram"
           }
          ],
          "histogram2d": [
           {
            "colorbar": {
             "outlinewidth": 0,
             "ticks": ""
            },
            "colorscale": [
             [
              0,
              "#0d0887"
             ],
             [
              0.1111111111111111,
              "#46039f"
             ],
             [
              0.2222222222222222,
              "#7201a8"
             ],
             [
              0.3333333333333333,
              "#9c179e"
             ],
             [
              0.4444444444444444,
              "#bd3786"
             ],
             [
              0.5555555555555556,
              "#d8576b"
             ],
             [
              0.6666666666666666,
              "#ed7953"
             ],
             [
              0.7777777777777778,
              "#fb9f3a"
             ],
             [
              0.8888888888888888,
              "#fdca26"
             ],
             [
              1,
              "#f0f921"
             ]
            ],
            "type": "histogram2d"
           }
          ],
          "histogram2dcontour": [
           {
            "colorbar": {
             "outlinewidth": 0,
             "ticks": ""
            },
            "colorscale": [
             [
              0,
              "#0d0887"
             ],
             [
              0.1111111111111111,
              "#46039f"
             ],
             [
              0.2222222222222222,
              "#7201a8"
             ],
             [
              0.3333333333333333,
              "#9c179e"
             ],
             [
              0.4444444444444444,
              "#bd3786"
             ],
             [
              0.5555555555555556,
              "#d8576b"
             ],
             [
              0.6666666666666666,
              "#ed7953"
             ],
             [
              0.7777777777777778,
              "#fb9f3a"
             ],
             [
              0.8888888888888888,
              "#fdca26"
             ],
             [
              1,
              "#f0f921"
             ]
            ],
            "type": "histogram2dcontour"
           }
          ],
          "mesh3d": [
           {
            "colorbar": {
             "outlinewidth": 0,
             "ticks": ""
            },
            "type": "mesh3d"
           }
          ],
          "parcoords": [
           {
            "line": {
             "colorbar": {
              "outlinewidth": 0,
              "ticks": ""
             }
            },
            "type": "parcoords"
           }
          ],
          "pie": [
           {
            "automargin": true,
            "type": "pie"
           }
          ],
          "scatter": [
           {
            "fillpattern": {
             "fillmode": "overlay",
             "size": 10,
             "solidity": 0.2
            },
            "type": "scatter"
           }
          ],
          "scatter3d": [
           {
            "line": {
             "colorbar": {
              "outlinewidth": 0,
              "ticks": ""
             }
            },
            "marker": {
             "colorbar": {
              "outlinewidth": 0,
              "ticks": ""
             }
            },
            "type": "scatter3d"
           }
          ],
          "scattercarpet": [
           {
            "marker": {
             "colorbar": {
              "outlinewidth": 0,
              "ticks": ""
             }
            },
            "type": "scattercarpet"
           }
          ],
          "scattergeo": [
           {
            "marker": {
             "colorbar": {
              "outlinewidth": 0,
              "ticks": ""
             }
            },
            "type": "scattergeo"
           }
          ],
          "scattergl": [
           {
            "marker": {
             "colorbar": {
              "outlinewidth": 0,
              "ticks": ""
             }
            },
            "type": "scattergl"
           }
          ],
          "scattermapbox": [
           {
            "marker": {
             "colorbar": {
              "outlinewidth": 0,
              "ticks": ""
             }
            },
            "type": "scattermapbox"
           }
          ],
          "scatterpolar": [
           {
            "marker": {
             "colorbar": {
              "outlinewidth": 0,
              "ticks": ""
             }
            },
            "type": "scatterpolar"
           }
          ],
          "scatterpolargl": [
           {
            "marker": {
             "colorbar": {
              "outlinewidth": 0,
              "ticks": ""
             }
            },
            "type": "scatterpolargl"
           }
          ],
          "scatterternary": [
           {
            "marker": {
             "colorbar": {
              "outlinewidth": 0,
              "ticks": ""
             }
            },
            "type": "scatterternary"
           }
          ],
          "surface": [
           {
            "colorbar": {
             "outlinewidth": 0,
             "ticks": ""
            },
            "colorscale": [
             [
              0,
              "#0d0887"
             ],
             [
              0.1111111111111111,
              "#46039f"
             ],
             [
              0.2222222222222222,
              "#7201a8"
             ],
             [
              0.3333333333333333,
              "#9c179e"
             ],
             [
              0.4444444444444444,
              "#bd3786"
             ],
             [
              0.5555555555555556,
              "#d8576b"
             ],
             [
              0.6666666666666666,
              "#ed7953"
             ],
             [
              0.7777777777777778,
              "#fb9f3a"
             ],
             [
              0.8888888888888888,
              "#fdca26"
             ],
             [
              1,
              "#f0f921"
             ]
            ],
            "type": "surface"
           }
          ],
          "table": [
           {
            "cells": {
             "fill": {
              "color": "#EBF0F8"
             },
             "line": {
              "color": "white"
             }
            },
            "header": {
             "fill": {
              "color": "#C8D4E3"
             },
             "line": {
              "color": "white"
             }
            },
            "type": "table"
           }
          ]
         },
         "layout": {
          "annotationdefaults": {
           "arrowcolor": "#2a3f5f",
           "arrowhead": 0,
           "arrowwidth": 1
          },
          "autotypenumbers": "strict",
          "coloraxis": {
           "colorbar": {
            "outlinewidth": 0,
            "ticks": ""
           }
          },
          "colorscale": {
           "diverging": [
            [
             0,
             "#8e0152"
            ],
            [
             0.1,
             "#c51b7d"
            ],
            [
             0.2,
             "#de77ae"
            ],
            [
             0.3,
             "#f1b6da"
            ],
            [
             0.4,
             "#fde0ef"
            ],
            [
             0.5,
             "#f7f7f7"
            ],
            [
             0.6,
             "#e6f5d0"
            ],
            [
             0.7,
             "#b8e186"
            ],
            [
             0.8,
             "#7fbc41"
            ],
            [
             0.9,
             "#4d9221"
            ],
            [
             1,
             "#276419"
            ]
           ],
           "sequential": [
            [
             0,
             "#0d0887"
            ],
            [
             0.1111111111111111,
             "#46039f"
            ],
            [
             0.2222222222222222,
             "#7201a8"
            ],
            [
             0.3333333333333333,
             "#9c179e"
            ],
            [
             0.4444444444444444,
             "#bd3786"
            ],
            [
             0.5555555555555556,
             "#d8576b"
            ],
            [
             0.6666666666666666,
             "#ed7953"
            ],
            [
             0.7777777777777778,
             "#fb9f3a"
            ],
            [
             0.8888888888888888,
             "#fdca26"
            ],
            [
             1,
             "#f0f921"
            ]
           ],
           "sequentialminus": [
            [
             0,
             "#0d0887"
            ],
            [
             0.1111111111111111,
             "#46039f"
            ],
            [
             0.2222222222222222,
             "#7201a8"
            ],
            [
             0.3333333333333333,
             "#9c179e"
            ],
            [
             0.4444444444444444,
             "#bd3786"
            ],
            [
             0.5555555555555556,
             "#d8576b"
            ],
            [
             0.6666666666666666,
             "#ed7953"
            ],
            [
             0.7777777777777778,
             "#fb9f3a"
            ],
            [
             0.8888888888888888,
             "#fdca26"
            ],
            [
             1,
             "#f0f921"
            ]
           ]
          },
          "colorway": [
           "#636efa",
           "#EF553B",
           "#00cc96",
           "#ab63fa",
           "#FFA15A",
           "#19d3f3",
           "#FF6692",
           "#B6E880",
           "#FF97FF",
           "#FECB52"
          ],
          "font": {
           "color": "#2a3f5f"
          },
          "geo": {
           "bgcolor": "white",
           "lakecolor": "white",
           "landcolor": "#E5ECF6",
           "showlakes": true,
           "showland": true,
           "subunitcolor": "white"
          },
          "hoverlabel": {
           "align": "left"
          },
          "hovermode": "closest",
          "mapbox": {
           "style": "light"
          },
          "paper_bgcolor": "white",
          "plot_bgcolor": "#E5ECF6",
          "polar": {
           "angularaxis": {
            "gridcolor": "white",
            "linecolor": "white",
            "ticks": ""
           },
           "bgcolor": "#E5ECF6",
           "radialaxis": {
            "gridcolor": "white",
            "linecolor": "white",
            "ticks": ""
           }
          },
          "scene": {
           "xaxis": {
            "backgroundcolor": "#E5ECF6",
            "gridcolor": "white",
            "gridwidth": 2,
            "linecolor": "white",
            "showbackground": true,
            "ticks": "",
            "zerolinecolor": "white"
           },
           "yaxis": {
            "backgroundcolor": "#E5ECF6",
            "gridcolor": "white",
            "gridwidth": 2,
            "linecolor": "white",
            "showbackground": true,
            "ticks": "",
            "zerolinecolor": "white"
           },
           "zaxis": {
            "backgroundcolor": "#E5ECF6",
            "gridcolor": "white",
            "gridwidth": 2,
            "linecolor": "white",
            "showbackground": true,
            "ticks": "",
            "zerolinecolor": "white"
           }
          },
          "shapedefaults": {
           "line": {
            "color": "#2a3f5f"
           }
          },
          "ternary": {
           "aaxis": {
            "gridcolor": "white",
            "linecolor": "white",
            "ticks": ""
           },
           "baxis": {
            "gridcolor": "white",
            "linecolor": "white",
            "ticks": ""
           },
           "bgcolor": "#E5ECF6",
           "caxis": {
            "gridcolor": "white",
            "linecolor": "white",
            "ticks": ""
           }
          },
          "title": {
           "x": 0.05
          },
          "xaxis": {
           "automargin": true,
           "gridcolor": "white",
           "linecolor": "white",
           "ticks": "",
           "title": {
            "standoff": 15
           },
           "zerolinecolor": "white",
           "zerolinewidth": 2
          },
          "yaxis": {
           "automargin": true,
           "gridcolor": "white",
           "linecolor": "white",
           "ticks": "",
           "title": {
            "standoff": 15
           },
           "zerolinecolor": "white",
           "zerolinewidth": 2
          }
         }
        },
        "title": {
         "text": "Total Capacity of Thermoelectrics"
        },
        "xaxis": {
         "anchor": "y",
         "domain": [
          0,
          1
         ],
         "title": {
          "text": "ID"
         }
        },
        "yaxis": {
         "anchor": "x",
         "domain": [
          0,
          1
         ],
         "title": {
          "text": "Total Capacity"
         }
        }
       }
      }
     },
     "metadata": {},
     "output_type": "display_data"
    }
   ],
   "source": [
    "# Generate thermoelectrics\n",
    "electric_system_thermoelectrics_list: list[Thermoelectric] = []\n",
    "\n",
    "for i, t in enumerate(graphMap.thermoelectrics_nodes):\n",
    "    generated_thermoelectric_min_cost = 0\n",
    "\n",
    "    for j, c in enumerate(graphMap.circuits_nodes):\n",
    "        if mapper_circuit_with_thermoelectric[c.id] == t.id:\n",
    "            generated_thermoelectric_min_cost += (\n",
    "                electric_system_circuits_list[j].mock_electric_consume\n",
    "                + electric_system_circuits_list[j].mock_electric_consume\n",
    "                * matrix[i][j]\n",
    "                * 24\n",
    "            )\n",
    "\n",
    "    electric_system_thermoelectrics_list.append(\n",
    "        Thermoelectric(\n",
    "            id=t.id,\n",
    "            parts=[],\n",
    "            total_capacity=generated_thermoelectric_min_cost + 200,\n",
    "        )\n",
    "    )\n",
    "    thermoelectric_data = {\n",
    "        \"ID\": [t.id for t in electric_system_thermoelectrics_list],\n",
    "        \"Total Capacity\": [\n",
    "            t.total_capacity for t in electric_system_thermoelectrics_list\n",
    "        ],\n",
    "    }\n",
    "\n",
    "    thermoelectric_df = pd.DataFrame(thermoelectric_data)\n",
    "\n",
    "\n",
    "sorted_electric_system_circuit_list = sorted(\n",
    "    electric_system_circuits_list,\n",
    "    key=lambda x: list(\n",
    "        filter(\n",
    "            lambda y: mapper_circuit_with_thermoelectric[x.id] == y.id,\n",
    "            graphMap.thermoelectrics_nodes,\n",
    "        ))[0].id)\n",
    "\n",
    "colors = [\n",
    "    list(\n",
    "        filter(\n",
    "            lambda x, y=circuit: mapper_circuit_with_thermoelectric[y.id] == x.id,\n",
    "            graphMap.thermoelectrics_nodes,\n",
    "        )\n",
    "    )[0].id\n",
    "    for circuit in sorted_electric_system_circuit_list\n",
    "]\n",
    "\n",
    "print(colors)\n",
    "\n",
    "print([t.id for t in electric_system_thermoelectrics_list])\n",
    "\n",
    "fig = px.bar(\n",
    "    thermoelectric_df,\n",
    "    x=\"ID\",\n",
    "    y=\"Total Capacity\",\n",
    "    title=\"Total Capacity of Thermoelectrics\",\n",
    "    height=800,\n",
    "    color=[t.id for t in electric_system_thermoelectrics_list],\n",
    "    color_discrete_sequence=px.colors.qualitative.Plotly,\n",
    "    labels={\"color\": \"Thermoelectric ID\"},\n",
    ")\n",
    "\n",
    "fig.show()"
   ]
  },
  {
   "cell_type": "code",
   "execution_count": 7,
   "metadata": {},
   "outputs": [
    {
     "data": {
      "application/vnd.plotly.v1+json": {
       "config": {
        "plotlyServerURL": "https://plot.ly"
       },
       "data": [
        {
         "alignmentgroup": "True",
         "hovertemplate": "color=Th0<br>Circuit ID=%{x}<br>Mock Electric Consume=%{y}<extra></extra>",
         "legendgroup": "Th0",
         "marker": {
          "color": "#636efa",
          "pattern": {
           "shape": ""
          }
         },
         "name": "Th0",
         "offsetgroup": "Th0",
         "orientation": "v",
         "showlegend": true,
         "textposition": "auto",
         "type": "bar",
         "x": [
          "C5",
          "C6",
          "C10",
          "C14",
          "C31",
          "C46"
         ],
         "xaxis": "x",
         "y": [
          5422.364509284042,
          2501.5873530258814,
          2104.3422502975945,
          4358.319301014782,
          3110.0388934152124,
          965.9432036297728
         ],
         "yaxis": "y"
        },
        {
         "alignmentgroup": "True",
         "hovertemplate": "color=Th1<br>Circuit ID=%{x}<br>Mock Electric Consume=%{y}<extra></extra>",
         "legendgroup": "Th1",
         "marker": {
          "color": "#EF553B",
          "pattern": {
           "shape": ""
          }
         },
         "name": "Th1",
         "offsetgroup": "Th1",
         "orientation": "v",
         "showlegend": true,
         "textposition": "auto",
         "type": "bar",
         "x": [
          "C20",
          "C33",
          "C36",
          "C49"
         ],
         "xaxis": "x",
         "y": [
          1005.9087870677391,
          3646.397701790422,
          2834.7368468937893,
          2270.4438093342815
         ],
         "yaxis": "y"
        },
        {
         "alignmentgroup": "True",
         "hovertemplate": "color=Th2<br>Circuit ID=%{x}<br>Mock Electric Consume=%{y}<extra></extra>",
         "legendgroup": "Th2",
         "marker": {
          "color": "#00cc96",
          "pattern": {
           "shape": ""
          }
         },
         "name": "Th2",
         "offsetgroup": "Th2",
         "orientation": "v",
         "showlegend": true,
         "textposition": "auto",
         "type": "bar",
         "x": [
          "C0",
          "C11",
          "C17",
          "C18",
          "C19",
          "C32",
          "C35",
          "C37",
          "C40"
         ],
         "xaxis": "x",
         "y": [
          760.3121044280048,
          1760.3829617315948,
          2488.3599567619317,
          1083.149764281785,
          2413.0952538438983,
          2386.69908329221,
          1551.6346500563182,
          1059.6277800617404,
          1635.4712343448487
         ],
         "yaxis": "y"
        },
        {
         "alignmentgroup": "True",
         "hovertemplate": "color=Th3<br>Circuit ID=%{x}<br>Mock Electric Consume=%{y}<extra></extra>",
         "legendgroup": "Th3",
         "marker": {
          "color": "#ab63fa",
          "pattern": {
           "shape": ""
          }
         },
         "name": "Th3",
         "offsetgroup": "Th3",
         "orientation": "v",
         "showlegend": true,
         "textposition": "auto",
         "type": "bar",
         "x": [
          "C3",
          "C4",
          "C7",
          "C12",
          "C15",
          "C21",
          "C24"
         ],
         "xaxis": "x",
         "y": [
          810.612555379085,
          3094.1224371214475,
          997.1881828906976,
          2362.935306039989,
          1159.0045219645824,
          2328.811501950263,
          3523.413122451477
         ],
         "yaxis": "y"
        },
        {
         "alignmentgroup": "True",
         "hovertemplate": "color=Th4<br>Circuit ID=%{x}<br>Mock Electric Consume=%{y}<extra></extra>",
         "legendgroup": "Th4",
         "marker": {
          "color": "#FFA15A",
          "pattern": {
           "shape": ""
          }
         },
         "name": "Th4",
         "offsetgroup": "Th4",
         "orientation": "v",
         "showlegend": true,
         "textposition": "auto",
         "type": "bar",
         "x": [
          "C25",
          "C34",
          "C38",
          "C39",
          "C45"
         ],
         "xaxis": "x",
         "y": [
          1487.2213721558549,
          1813.587511088946,
          685.7448994070876,
          779.5417237046308,
          966.7603317106808
         ],
         "yaxis": "y"
        },
        {
         "alignmentgroup": "True",
         "hovertemplate": "color=Th5<br>Circuit ID=%{x}<br>Mock Electric Consume=%{y}<extra></extra>",
         "legendgroup": "Th5",
         "marker": {
          "color": "#19d3f3",
          "pattern": {
           "shape": ""
          }
         },
         "name": "Th5",
         "offsetgroup": "Th5",
         "orientation": "v",
         "showlegend": true,
         "textposition": "auto",
         "type": "bar",
         "x": [
          "C13",
          "C22",
          "C28",
          "C29",
          "C41",
          "C43",
          "C44",
          "C47"
         ],
         "xaxis": "x",
         "y": [
          978.1733861660817,
          4801.370139615055,
          721.3612600244293,
          4731.451718873091,
          2336.644463462287,
          662.865679778918,
          890.5476622605578,
          1377.0101765531688
         ],
         "yaxis": "y"
        },
        {
         "alignmentgroup": "True",
         "hovertemplate": "color=Th6<br>Circuit ID=%{x}<br>Mock Electric Consume=%{y}<extra></extra>",
         "legendgroup": "Th6",
         "marker": {
          "color": "#FF6692",
          "pattern": {
           "shape": ""
          }
         },
         "name": "Th6",
         "offsetgroup": "Th6",
         "orientation": "v",
         "showlegend": true,
         "textposition": "auto",
         "type": "bar",
         "x": [
          "C1",
          "C2",
          "C9",
          "C23",
          "C26",
          "C27",
          "C30"
         ],
         "xaxis": "x",
         "y": [
          1182.9994159512003,
          4761.497121886092,
          2419.7190593997702,
          859.9222677243417,
          2343.213717512506,
          1022.1772979579556,
          2512.4642484914007
         ],
         "yaxis": "y"
        },
        {
         "alignmentgroup": "True",
         "hovertemplate": "color=Th7<br>Circuit ID=%{x}<br>Mock Electric Consume=%{y}<extra></extra>",
         "legendgroup": "Th7",
         "marker": {
          "color": "#B6E880",
          "pattern": {
           "shape": ""
          }
         },
         "name": "Th7",
         "offsetgroup": "Th7",
         "orientation": "v",
         "showlegend": true,
         "textposition": "auto",
         "type": "bar",
         "x": [
          "C8",
          "C16",
          "C42",
          "C48"
         ],
         "xaxis": "x",
         "y": [
          615.6200772721983,
          927.9538144014009,
          1201.0713995678134,
          2339.5152554724646
         ],
         "yaxis": "y"
        }
       ],
       "layout": {
        "barmode": "relative",
        "height": 800,
        "legend": {
         "title": {
          "text": "color"
         },
         "tracegroupgap": 0
        },
        "template": {
         "data": {
          "bar": [
           {
            "error_x": {
             "color": "#2a3f5f"
            },
            "error_y": {
             "color": "#2a3f5f"
            },
            "marker": {
             "line": {
              "color": "#E5ECF6",
              "width": 0.5
             },
             "pattern": {
              "fillmode": "overlay",
              "size": 10,
              "solidity": 0.2
             }
            },
            "type": "bar"
           }
          ],
          "barpolar": [
           {
            "marker": {
             "line": {
              "color": "#E5ECF6",
              "width": 0.5
             },
             "pattern": {
              "fillmode": "overlay",
              "size": 10,
              "solidity": 0.2
             }
            },
            "type": "barpolar"
           }
          ],
          "carpet": [
           {
            "aaxis": {
             "endlinecolor": "#2a3f5f",
             "gridcolor": "white",
             "linecolor": "white",
             "minorgridcolor": "white",
             "startlinecolor": "#2a3f5f"
            },
            "baxis": {
             "endlinecolor": "#2a3f5f",
             "gridcolor": "white",
             "linecolor": "white",
             "minorgridcolor": "white",
             "startlinecolor": "#2a3f5f"
            },
            "type": "carpet"
           }
          ],
          "choropleth": [
           {
            "colorbar": {
             "outlinewidth": 0,
             "ticks": ""
            },
            "type": "choropleth"
           }
          ],
          "contour": [
           {
            "colorbar": {
             "outlinewidth": 0,
             "ticks": ""
            },
            "colorscale": [
             [
              0,
              "#0d0887"
             ],
             [
              0.1111111111111111,
              "#46039f"
             ],
             [
              0.2222222222222222,
              "#7201a8"
             ],
             [
              0.3333333333333333,
              "#9c179e"
             ],
             [
              0.4444444444444444,
              "#bd3786"
             ],
             [
              0.5555555555555556,
              "#d8576b"
             ],
             [
              0.6666666666666666,
              "#ed7953"
             ],
             [
              0.7777777777777778,
              "#fb9f3a"
             ],
             [
              0.8888888888888888,
              "#fdca26"
             ],
             [
              1,
              "#f0f921"
             ]
            ],
            "type": "contour"
           }
          ],
          "contourcarpet": [
           {
            "colorbar": {
             "outlinewidth": 0,
             "ticks": ""
            },
            "type": "contourcarpet"
           }
          ],
          "heatmap": [
           {
            "colorbar": {
             "outlinewidth": 0,
             "ticks": ""
            },
            "colorscale": [
             [
              0,
              "#0d0887"
             ],
             [
              0.1111111111111111,
              "#46039f"
             ],
             [
              0.2222222222222222,
              "#7201a8"
             ],
             [
              0.3333333333333333,
              "#9c179e"
             ],
             [
              0.4444444444444444,
              "#bd3786"
             ],
             [
              0.5555555555555556,
              "#d8576b"
             ],
             [
              0.6666666666666666,
              "#ed7953"
             ],
             [
              0.7777777777777778,
              "#fb9f3a"
             ],
             [
              0.8888888888888888,
              "#fdca26"
             ],
             [
              1,
              "#f0f921"
             ]
            ],
            "type": "heatmap"
           }
          ],
          "heatmapgl": [
           {
            "colorbar": {
             "outlinewidth": 0,
             "ticks": ""
            },
            "colorscale": [
             [
              0,
              "#0d0887"
             ],
             [
              0.1111111111111111,
              "#46039f"
             ],
             [
              0.2222222222222222,
              "#7201a8"
             ],
             [
              0.3333333333333333,
              "#9c179e"
             ],
             [
              0.4444444444444444,
              "#bd3786"
             ],
             [
              0.5555555555555556,
              "#d8576b"
             ],
             [
              0.6666666666666666,
              "#ed7953"
             ],
             [
              0.7777777777777778,
              "#fb9f3a"
             ],
             [
              0.8888888888888888,
              "#fdca26"
             ],
             [
              1,
              "#f0f921"
             ]
            ],
            "type": "heatmapgl"
           }
          ],
          "histogram": [
           {
            "marker": {
             "pattern": {
              "fillmode": "overlay",
              "size": 10,
              "solidity": 0.2
             }
            },
            "type": "histogram"
           }
          ],
          "histogram2d": [
           {
            "colorbar": {
             "outlinewidth": 0,
             "ticks": ""
            },
            "colorscale": [
             [
              0,
              "#0d0887"
             ],
             [
              0.1111111111111111,
              "#46039f"
             ],
             [
              0.2222222222222222,
              "#7201a8"
             ],
             [
              0.3333333333333333,
              "#9c179e"
             ],
             [
              0.4444444444444444,
              "#bd3786"
             ],
             [
              0.5555555555555556,
              "#d8576b"
             ],
             [
              0.6666666666666666,
              "#ed7953"
             ],
             [
              0.7777777777777778,
              "#fb9f3a"
             ],
             [
              0.8888888888888888,
              "#fdca26"
             ],
             [
              1,
              "#f0f921"
             ]
            ],
            "type": "histogram2d"
           }
          ],
          "histogram2dcontour": [
           {
            "colorbar": {
             "outlinewidth": 0,
             "ticks": ""
            },
            "colorscale": [
             [
              0,
              "#0d0887"
             ],
             [
              0.1111111111111111,
              "#46039f"
             ],
             [
              0.2222222222222222,
              "#7201a8"
             ],
             [
              0.3333333333333333,
              "#9c179e"
             ],
             [
              0.4444444444444444,
              "#bd3786"
             ],
             [
              0.5555555555555556,
              "#d8576b"
             ],
             [
              0.6666666666666666,
              "#ed7953"
             ],
             [
              0.7777777777777778,
              "#fb9f3a"
             ],
             [
              0.8888888888888888,
              "#fdca26"
             ],
             [
              1,
              "#f0f921"
             ]
            ],
            "type": "histogram2dcontour"
           }
          ],
          "mesh3d": [
           {
            "colorbar": {
             "outlinewidth": 0,
             "ticks": ""
            },
            "type": "mesh3d"
           }
          ],
          "parcoords": [
           {
            "line": {
             "colorbar": {
              "outlinewidth": 0,
              "ticks": ""
             }
            },
            "type": "parcoords"
           }
          ],
          "pie": [
           {
            "automargin": true,
            "type": "pie"
           }
          ],
          "scatter": [
           {
            "fillpattern": {
             "fillmode": "overlay",
             "size": 10,
             "solidity": 0.2
            },
            "type": "scatter"
           }
          ],
          "scatter3d": [
           {
            "line": {
             "colorbar": {
              "outlinewidth": 0,
              "ticks": ""
             }
            },
            "marker": {
             "colorbar": {
              "outlinewidth": 0,
              "ticks": ""
             }
            },
            "type": "scatter3d"
           }
          ],
          "scattercarpet": [
           {
            "marker": {
             "colorbar": {
              "outlinewidth": 0,
              "ticks": ""
             }
            },
            "type": "scattercarpet"
           }
          ],
          "scattergeo": [
           {
            "marker": {
             "colorbar": {
              "outlinewidth": 0,
              "ticks": ""
             }
            },
            "type": "scattergeo"
           }
          ],
          "scattergl": [
           {
            "marker": {
             "colorbar": {
              "outlinewidth": 0,
              "ticks": ""
             }
            },
            "type": "scattergl"
           }
          ],
          "scattermapbox": [
           {
            "marker": {
             "colorbar": {
              "outlinewidth": 0,
              "ticks": ""
             }
            },
            "type": "scattermapbox"
           }
          ],
          "scatterpolar": [
           {
            "marker": {
             "colorbar": {
              "outlinewidth": 0,
              "ticks": ""
             }
            },
            "type": "scatterpolar"
           }
          ],
          "scatterpolargl": [
           {
            "marker": {
             "colorbar": {
              "outlinewidth": 0,
              "ticks": ""
             }
            },
            "type": "scatterpolargl"
           }
          ],
          "scatterternary": [
           {
            "marker": {
             "colorbar": {
              "outlinewidth": 0,
              "ticks": ""
             }
            },
            "type": "scatterternary"
           }
          ],
          "surface": [
           {
            "colorbar": {
             "outlinewidth": 0,
             "ticks": ""
            },
            "colorscale": [
             [
              0,
              "#0d0887"
             ],
             [
              0.1111111111111111,
              "#46039f"
             ],
             [
              0.2222222222222222,
              "#7201a8"
             ],
             [
              0.3333333333333333,
              "#9c179e"
             ],
             [
              0.4444444444444444,
              "#bd3786"
             ],
             [
              0.5555555555555556,
              "#d8576b"
             ],
             [
              0.6666666666666666,
              "#ed7953"
             ],
             [
              0.7777777777777778,
              "#fb9f3a"
             ],
             [
              0.8888888888888888,
              "#fdca26"
             ],
             [
              1,
              "#f0f921"
             ]
            ],
            "type": "surface"
           }
          ],
          "table": [
           {
            "cells": {
             "fill": {
              "color": "#EBF0F8"
             },
             "line": {
              "color": "white"
             }
            },
            "header": {
             "fill": {
              "color": "#C8D4E3"
             },
             "line": {
              "color": "white"
             }
            },
            "type": "table"
           }
          ]
         },
         "layout": {
          "annotationdefaults": {
           "arrowcolor": "#2a3f5f",
           "arrowhead": 0,
           "arrowwidth": 1
          },
          "autotypenumbers": "strict",
          "coloraxis": {
           "colorbar": {
            "outlinewidth": 0,
            "ticks": ""
           }
          },
          "colorscale": {
           "diverging": [
            [
             0,
             "#8e0152"
            ],
            [
             0.1,
             "#c51b7d"
            ],
            [
             0.2,
             "#de77ae"
            ],
            [
             0.3,
             "#f1b6da"
            ],
            [
             0.4,
             "#fde0ef"
            ],
            [
             0.5,
             "#f7f7f7"
            ],
            [
             0.6,
             "#e6f5d0"
            ],
            [
             0.7,
             "#b8e186"
            ],
            [
             0.8,
             "#7fbc41"
            ],
            [
             0.9,
             "#4d9221"
            ],
            [
             1,
             "#276419"
            ]
           ],
           "sequential": [
            [
             0,
             "#0d0887"
            ],
            [
             0.1111111111111111,
             "#46039f"
            ],
            [
             0.2222222222222222,
             "#7201a8"
            ],
            [
             0.3333333333333333,
             "#9c179e"
            ],
            [
             0.4444444444444444,
             "#bd3786"
            ],
            [
             0.5555555555555556,
             "#d8576b"
            ],
            [
             0.6666666666666666,
             "#ed7953"
            ],
            [
             0.7777777777777778,
             "#fb9f3a"
            ],
            [
             0.8888888888888888,
             "#fdca26"
            ],
            [
             1,
             "#f0f921"
            ]
           ],
           "sequentialminus": [
            [
             0,
             "#0d0887"
            ],
            [
             0.1111111111111111,
             "#46039f"
            ],
            [
             0.2222222222222222,
             "#7201a8"
            ],
            [
             0.3333333333333333,
             "#9c179e"
            ],
            [
             0.4444444444444444,
             "#bd3786"
            ],
            [
             0.5555555555555556,
             "#d8576b"
            ],
            [
             0.6666666666666666,
             "#ed7953"
            ],
            [
             0.7777777777777778,
             "#fb9f3a"
            ],
            [
             0.8888888888888888,
             "#fdca26"
            ],
            [
             1,
             "#f0f921"
            ]
           ]
          },
          "colorway": [
           "#636efa",
           "#EF553B",
           "#00cc96",
           "#ab63fa",
           "#FFA15A",
           "#19d3f3",
           "#FF6692",
           "#B6E880",
           "#FF97FF",
           "#FECB52"
          ],
          "font": {
           "color": "#2a3f5f"
          },
          "geo": {
           "bgcolor": "white",
           "lakecolor": "white",
           "landcolor": "#E5ECF6",
           "showlakes": true,
           "showland": true,
           "subunitcolor": "white"
          },
          "hoverlabel": {
           "align": "left"
          },
          "hovermode": "closest",
          "mapbox": {
           "style": "light"
          },
          "paper_bgcolor": "white",
          "plot_bgcolor": "#E5ECF6",
          "polar": {
           "angularaxis": {
            "gridcolor": "white",
            "linecolor": "white",
            "ticks": ""
           },
           "bgcolor": "#E5ECF6",
           "radialaxis": {
            "gridcolor": "white",
            "linecolor": "white",
            "ticks": ""
           }
          },
          "scene": {
           "xaxis": {
            "backgroundcolor": "#E5ECF6",
            "gridcolor": "white",
            "gridwidth": 2,
            "linecolor": "white",
            "showbackground": true,
            "ticks": "",
            "zerolinecolor": "white"
           },
           "yaxis": {
            "backgroundcolor": "#E5ECF6",
            "gridcolor": "white",
            "gridwidth": 2,
            "linecolor": "white",
            "showbackground": true,
            "ticks": "",
            "zerolinecolor": "white"
           },
           "zaxis": {
            "backgroundcolor": "#E5ECF6",
            "gridcolor": "white",
            "gridwidth": 2,
            "linecolor": "white",
            "showbackground": true,
            "ticks": "",
            "zerolinecolor": "white"
           }
          },
          "shapedefaults": {
           "line": {
            "color": "#2a3f5f"
           }
          },
          "ternary": {
           "aaxis": {
            "gridcolor": "white",
            "linecolor": "white",
            "ticks": ""
           },
           "baxis": {
            "gridcolor": "white",
            "linecolor": "white",
            "ticks": ""
           },
           "bgcolor": "#E5ECF6",
           "caxis": {
            "gridcolor": "white",
            "linecolor": "white",
            "ticks": ""
           }
          },
          "title": {
           "x": 0.05
          },
          "xaxis": {
           "automargin": true,
           "gridcolor": "white",
           "linecolor": "white",
           "ticks": "",
           "title": {
            "standoff": 15
           },
           "zerolinecolor": "white",
           "zerolinewidth": 2
          },
          "yaxis": {
           "automargin": true,
           "gridcolor": "white",
           "linecolor": "white",
           "ticks": "",
           "title": {
            "standoff": 15
           },
           "zerolinecolor": "white",
           "zerolinewidth": 2
          }
         }
        },
        "title": {
         "text": "Electric Consume per Circuit [24 hours]"
        },
        "xaxis": {
         "anchor": "y",
         "domain": [
          0,
          1
         ],
         "title": {
          "text": "Circuit ID"
         }
        },
        "yaxis": {
         "anchor": "x",
         "domain": [
          0,
          1
         ],
         "title": {
          "text": "Mock Electric Consume"
         }
        }
       }
      }
     },
     "metadata": {},
     "output_type": "display_data"
    }
   ],
   "source": [
    "\n",
    "mock_electric_consume_data = {\n",
    "    \"Circuit ID\": [c.id for c in sorted_electric_system_circuit_list],\n",
    "    \"Mock Electric Consume\": [c.mock_electric_consume for c in sorted_electric_system_circuit_list],\n",
    "}\n",
    "\n",
    "mock_electric_consume_df = pd.DataFrame(mock_electric_consume_data)\n",
    "\n",
    "fig = px.bar(\n",
    "    mock_electric_consume_df,\n",
    "    x=\"Circuit ID\",\n",
    "    y=\"Mock Electric Consume\",\n",
    "    title=\"Electric Consume per Circuit [24 hours]\",\n",
    "    height=800,\n",
    "    color=colors\n",
    ")\n",
    "fig.show()"
   ]
  },
  {
   "cell_type": "code",
   "execution_count": 8,
   "metadata": {},
   "outputs": [
    {
     "data": {
      "text/html": [
       "<div>\n",
       "<style scoped>\n",
       "    .dataframe tbody tr th:only-of-type {\n",
       "        vertical-align: middle;\n",
       "    }\n",
       "\n",
       "    .dataframe tbody tr th {\n",
       "        vertical-align: top;\n",
       "    }\n",
       "\n",
       "    .dataframe thead th {\n",
       "        text-align: right;\n",
       "    }\n",
       "</style>\n",
       "<table border=\"1\" class=\"dataframe\">\n",
       "  <thead>\n",
       "    <tr style=\"text-align: right;\">\n",
       "      <th></th>\n",
       "      <th>Max Population of Circuits</th>\n",
       "      <th>Max Population of Blocks</th>\n",
       "    </tr>\n",
       "  </thead>\n",
       "  <tbody>\n",
       "    <tr>\n",
       "      <th>0</th>\n",
       "      <td>19547</td>\n",
       "      <td>4988</td>\n",
       "    </tr>\n",
       "  </tbody>\n",
       "</table>\n",
       "</div>"
      ],
      "text/plain": [
       "   Max Population of Circuits  Max Population of Blocks\n",
       "0                       19547                      4988"
      ]
     },
     "execution_count": 8,
     "metadata": {},
     "output_type": "execute_result"
    }
   ],
   "source": [
    "max_population_of_circuits = -1\n",
    "max_population_of_block = -1\n",
    "\n",
    "for circuit in electric_system_circuits_list:\n",
    "    max_population_of_circuits = max(\n",
    "        circuit.get_all_block_population(), max_population_of_circuits\n",
    "    )\n",
    "    for block in circuit.blocks:\n",
    "        max_population_of_block = max(block.citizens.amount, max_population_of_block)\n",
    "\n",
    "auxiliary_data_max_population_of_circuits = max_population_of_circuits\n",
    "auxiliary_data_max_population_of_block = max_population_of_block\n",
    "\n",
    "\n",
    "def get_circuit_importance(circuit: Circuit) -> float:\n",
    "    return (\n",
    "        circuit.get_all_block_population() / auxiliary_data_max_population_of_circuits\n",
    "    ) * IMPORTANCE_ALPHA + circuit.industrialization * (1 - IMPORTANCE_ALPHA)\n",
    "\n",
    "\n",
    "def get_block_importance(block: Block) -> float:\n",
    "    return (\n",
    "        block.citizens.amount / auxiliary_data_max_population_of_circuits\n",
    "    ) * IMPORTANCE_ALPHA + block.industrialization * (1 - IMPORTANCE_ALPHA)\n",
    "\n",
    "\n",
    "def set_importance(ci: list[Circuit]):\n",
    "    for circuit in ci:\n",
    "        for block in circuit.blocks:\n",
    "            block.importance = get_block_importance(block)\n",
    "        circuit.importance = get_circuit_importance(circuit)\n",
    "\n",
    "set_importance(electric_system_circuits_list)\n",
    "\n",
    "max_population_data = {\n",
    "    \"Max Population of Circuits\": [auxiliary_data_max_population_of_circuits],\n",
    "    \"Max Population of Blocks\": [auxiliary_data_max_population_of_block],\n",
    "}\n",
    "\n",
    "max_population_df = pd.DataFrame(max_population_data)\n",
    "\n",
    "max_population_df"
   ]
  },
  {
   "cell_type": "code",
   "execution_count": 9,
   "metadata": {},
   "outputs": [
    {
     "data": {
      "application/vnd.plotly.v1+json": {
       "config": {
        "plotlyServerURL": "https://plot.ly"
       },
       "data": [
        {
         "alignmentgroup": "True",
         "hovertemplate": "index=%{x}<br>Citizens=%{y}<extra></extra>",
         "legendgroup": "",
         "marker": {
          "color": "#636efa",
          "pattern": {
           "shape": ""
          }
         },
         "name": "",
         "offsetgroup": "",
         "orientation": "v",
         "showlegend": false,
         "textposition": "auto",
         "type": "bar",
         "x": [
          0
         ],
         "xaxis": "x",
         "y": [
          1070
         ],
         "yaxis": "y"
        }
       ],
       "layout": {
        "barmode": "relative",
        "height": 800,
        "legend": {
         "tracegroupgap": 0
        },
        "template": {
         "data": {
          "bar": [
           {
            "error_x": {
             "color": "#2a3f5f"
            },
            "error_y": {
             "color": "#2a3f5f"
            },
            "marker": {
             "line": {
              "color": "#E5ECF6",
              "width": 0.5
             },
             "pattern": {
              "fillmode": "overlay",
              "size": 10,
              "solidity": 0.2
             }
            },
            "type": "bar"
           }
          ],
          "barpolar": [
           {
            "marker": {
             "line": {
              "color": "#E5ECF6",
              "width": 0.5
             },
             "pattern": {
              "fillmode": "overlay",
              "size": 10,
              "solidity": 0.2
             }
            },
            "type": "barpolar"
           }
          ],
          "carpet": [
           {
            "aaxis": {
             "endlinecolor": "#2a3f5f",
             "gridcolor": "white",
             "linecolor": "white",
             "minorgridcolor": "white",
             "startlinecolor": "#2a3f5f"
            },
            "baxis": {
             "endlinecolor": "#2a3f5f",
             "gridcolor": "white",
             "linecolor": "white",
             "minorgridcolor": "white",
             "startlinecolor": "#2a3f5f"
            },
            "type": "carpet"
           }
          ],
          "choropleth": [
           {
            "colorbar": {
             "outlinewidth": 0,
             "ticks": ""
            },
            "type": "choropleth"
           }
          ],
          "contour": [
           {
            "colorbar": {
             "outlinewidth": 0,
             "ticks": ""
            },
            "colorscale": [
             [
              0,
              "#0d0887"
             ],
             [
              0.1111111111111111,
              "#46039f"
             ],
             [
              0.2222222222222222,
              "#7201a8"
             ],
             [
              0.3333333333333333,
              "#9c179e"
             ],
             [
              0.4444444444444444,
              "#bd3786"
             ],
             [
              0.5555555555555556,
              "#d8576b"
             ],
             [
              0.6666666666666666,
              "#ed7953"
             ],
             [
              0.7777777777777778,
              "#fb9f3a"
             ],
             [
              0.8888888888888888,
              "#fdca26"
             ],
             [
              1,
              "#f0f921"
             ]
            ],
            "type": "contour"
           }
          ],
          "contourcarpet": [
           {
            "colorbar": {
             "outlinewidth": 0,
             "ticks": ""
            },
            "type": "contourcarpet"
           }
          ],
          "heatmap": [
           {
            "colorbar": {
             "outlinewidth": 0,
             "ticks": ""
            },
            "colorscale": [
             [
              0,
              "#0d0887"
             ],
             [
              0.1111111111111111,
              "#46039f"
             ],
             [
              0.2222222222222222,
              "#7201a8"
             ],
             [
              0.3333333333333333,
              "#9c179e"
             ],
             [
              0.4444444444444444,
              "#bd3786"
             ],
             [
              0.5555555555555556,
              "#d8576b"
             ],
             [
              0.6666666666666666,
              "#ed7953"
             ],
             [
              0.7777777777777778,
              "#fb9f3a"
             ],
             [
              0.8888888888888888,
              "#fdca26"
             ],
             [
              1,
              "#f0f921"
             ]
            ],
            "type": "heatmap"
           }
          ],
          "heatmapgl": [
           {
            "colorbar": {
             "outlinewidth": 0,
             "ticks": ""
            },
            "colorscale": [
             [
              0,
              "#0d0887"
             ],
             [
              0.1111111111111111,
              "#46039f"
             ],
             [
              0.2222222222222222,
              "#7201a8"
             ],
             [
              0.3333333333333333,
              "#9c179e"
             ],
             [
              0.4444444444444444,
              "#bd3786"
             ],
             [
              0.5555555555555556,
              "#d8576b"
             ],
             [
              0.6666666666666666,
              "#ed7953"
             ],
             [
              0.7777777777777778,
              "#fb9f3a"
             ],
             [
              0.8888888888888888,
              "#fdca26"
             ],
             [
              1,
              "#f0f921"
             ]
            ],
            "type": "heatmapgl"
           }
          ],
          "histogram": [
           {
            "marker": {
             "pattern": {
              "fillmode": "overlay",
              "size": 10,
              "solidity": 0.2
             }
            },
            "type": "histogram"
           }
          ],
          "histogram2d": [
           {
            "colorbar": {
             "outlinewidth": 0,
             "ticks": ""
            },
            "colorscale": [
             [
              0,
              "#0d0887"
             ],
             [
              0.1111111111111111,
              "#46039f"
             ],
             [
              0.2222222222222222,
              "#7201a8"
             ],
             [
              0.3333333333333333,
              "#9c179e"
             ],
             [
              0.4444444444444444,
              "#bd3786"
             ],
             [
              0.5555555555555556,
              "#d8576b"
             ],
             [
              0.6666666666666666,
              "#ed7953"
             ],
             [
              0.7777777777777778,
              "#fb9f3a"
             ],
             [
              0.8888888888888888,
              "#fdca26"
             ],
             [
              1,
              "#f0f921"
             ]
            ],
            "type": "histogram2d"
           }
          ],
          "histogram2dcontour": [
           {
            "colorbar": {
             "outlinewidth": 0,
             "ticks": ""
            },
            "colorscale": [
             [
              0,
              "#0d0887"
             ],
             [
              0.1111111111111111,
              "#46039f"
             ],
             [
              0.2222222222222222,
              "#7201a8"
             ],
             [
              0.3333333333333333,
              "#9c179e"
             ],
             [
              0.4444444444444444,
              "#bd3786"
             ],
             [
              0.5555555555555556,
              "#d8576b"
             ],
             [
              0.6666666666666666,
              "#ed7953"
             ],
             [
              0.7777777777777778,
              "#fb9f3a"
             ],
             [
              0.8888888888888888,
              "#fdca26"
             ],
             [
              1,
              "#f0f921"
             ]
            ],
            "type": "histogram2dcontour"
           }
          ],
          "mesh3d": [
           {
            "colorbar": {
             "outlinewidth": 0,
             "ticks": ""
            },
            "type": "mesh3d"
           }
          ],
          "parcoords": [
           {
            "line": {
             "colorbar": {
              "outlinewidth": 0,
              "ticks": ""
             }
            },
            "type": "parcoords"
           }
          ],
          "pie": [
           {
            "automargin": true,
            "type": "pie"
           }
          ],
          "scatter": [
           {
            "fillpattern": {
             "fillmode": "overlay",
             "size": 10,
             "solidity": 0.2
            },
            "type": "scatter"
           }
          ],
          "scatter3d": [
           {
            "line": {
             "colorbar": {
              "outlinewidth": 0,
              "ticks": ""
             }
            },
            "marker": {
             "colorbar": {
              "outlinewidth": 0,
              "ticks": ""
             }
            },
            "type": "scatter3d"
           }
          ],
          "scattercarpet": [
           {
            "marker": {
             "colorbar": {
              "outlinewidth": 0,
              "ticks": ""
             }
            },
            "type": "scattercarpet"
           }
          ],
          "scattergeo": [
           {
            "marker": {
             "colorbar": {
              "outlinewidth": 0,
              "ticks": ""
             }
            },
            "type": "scattergeo"
           }
          ],
          "scattergl": [
           {
            "marker": {
             "colorbar": {
              "outlinewidth": 0,
              "ticks": ""
             }
            },
            "type": "scattergl"
           }
          ],
          "scattermapbox": [
           {
            "marker": {
             "colorbar": {
              "outlinewidth": 0,
              "ticks": ""
             }
            },
            "type": "scattermapbox"
           }
          ],
          "scatterpolar": [
           {
            "marker": {
             "colorbar": {
              "outlinewidth": 0,
              "ticks": ""
             }
            },
            "type": "scatterpolar"
           }
          ],
          "scatterpolargl": [
           {
            "marker": {
             "colorbar": {
              "outlinewidth": 0,
              "ticks": ""
             }
            },
            "type": "scatterpolargl"
           }
          ],
          "scatterternary": [
           {
            "marker": {
             "colorbar": {
              "outlinewidth": 0,
              "ticks": ""
             }
            },
            "type": "scatterternary"
           }
          ],
          "surface": [
           {
            "colorbar": {
             "outlinewidth": 0,
             "ticks": ""
            },
            "colorscale": [
             [
              0,
              "#0d0887"
             ],
             [
              0.1111111111111111,
              "#46039f"
             ],
             [
              0.2222222222222222,
              "#7201a8"
             ],
             [
              0.3333333333333333,
              "#9c179e"
             ],
             [
              0.4444444444444444,
              "#bd3786"
             ],
             [
              0.5555555555555556,
              "#d8576b"
             ],
             [
              0.6666666666666666,
              "#ed7953"
             ],
             [
              0.7777777777777778,
              "#fb9f3a"
             ],
             [
              0.8888888888888888,
              "#fdca26"
             ],
             [
              1,
              "#f0f921"
             ]
            ],
            "type": "surface"
           }
          ],
          "table": [
           {
            "cells": {
             "fill": {
              "color": "#EBF0F8"
             },
             "line": {
              "color": "white"
             }
            },
            "header": {
             "fill": {
              "color": "#C8D4E3"
             },
             "line": {
              "color": "white"
             }
            },
            "type": "table"
           }
          ]
         },
         "layout": {
          "annotationdefaults": {
           "arrowcolor": "#2a3f5f",
           "arrowhead": 0,
           "arrowwidth": 1
          },
          "autotypenumbers": "strict",
          "coloraxis": {
           "colorbar": {
            "outlinewidth": 0,
            "ticks": ""
           }
          },
          "colorscale": {
           "diverging": [
            [
             0,
             "#8e0152"
            ],
            [
             0.1,
             "#c51b7d"
            ],
            [
             0.2,
             "#de77ae"
            ],
            [
             0.3,
             "#f1b6da"
            ],
            [
             0.4,
             "#fde0ef"
            ],
            [
             0.5,
             "#f7f7f7"
            ],
            [
             0.6,
             "#e6f5d0"
            ],
            [
             0.7,
             "#b8e186"
            ],
            [
             0.8,
             "#7fbc41"
            ],
            [
             0.9,
             "#4d9221"
            ],
            [
             1,
             "#276419"
            ]
           ],
           "sequential": [
            [
             0,
             "#0d0887"
            ],
            [
             0.1111111111111111,
             "#46039f"
            ],
            [
             0.2222222222222222,
             "#7201a8"
            ],
            [
             0.3333333333333333,
             "#9c179e"
            ],
            [
             0.4444444444444444,
             "#bd3786"
            ],
            [
             0.5555555555555556,
             "#d8576b"
            ],
            [
             0.6666666666666666,
             "#ed7953"
            ],
            [
             0.7777777777777778,
             "#fb9f3a"
            ],
            [
             0.8888888888888888,
             "#fdca26"
            ],
            [
             1,
             "#f0f921"
            ]
           ],
           "sequentialminus": [
            [
             0,
             "#0d0887"
            ],
            [
             0.1111111111111111,
             "#46039f"
            ],
            [
             0.2222222222222222,
             "#7201a8"
            ],
            [
             0.3333333333333333,
             "#9c179e"
            ],
            [
             0.4444444444444444,
             "#bd3786"
            ],
            [
             0.5555555555555556,
             "#d8576b"
            ],
            [
             0.6666666666666666,
             "#ed7953"
            ],
            [
             0.7777777777777778,
             "#fb9f3a"
            ],
            [
             0.8888888888888888,
             "#fdca26"
            ],
            [
             1,
             "#f0f921"
            ]
           ]
          },
          "colorway": [
           "#636efa",
           "#EF553B",
           "#00cc96",
           "#ab63fa",
           "#FFA15A",
           "#19d3f3",
           "#FF6692",
           "#B6E880",
           "#FF97FF",
           "#FECB52"
          ],
          "font": {
           "color": "#2a3f5f"
          },
          "geo": {
           "bgcolor": "white",
           "lakecolor": "white",
           "landcolor": "#E5ECF6",
           "showlakes": true,
           "showland": true,
           "subunitcolor": "white"
          },
          "hoverlabel": {
           "align": "left"
          },
          "hovermode": "closest",
          "mapbox": {
           "style": "light"
          },
          "paper_bgcolor": "white",
          "plot_bgcolor": "#E5ECF6",
          "polar": {
           "angularaxis": {
            "gridcolor": "white",
            "linecolor": "white",
            "ticks": ""
           },
           "bgcolor": "#E5ECF6",
           "radialaxis": {
            "gridcolor": "white",
            "linecolor": "white",
            "ticks": ""
           }
          },
          "scene": {
           "xaxis": {
            "backgroundcolor": "#E5ECF6",
            "gridcolor": "white",
            "gridwidth": 2,
            "linecolor": "white",
            "showbackground": true,
            "ticks": "",
            "zerolinecolor": "white"
           },
           "yaxis": {
            "backgroundcolor": "#E5ECF6",
            "gridcolor": "white",
            "gridwidth": 2,
            "linecolor": "white",
            "showbackground": true,
            "ticks": "",
            "zerolinecolor": "white"
           },
           "zaxis": {
            "backgroundcolor": "#E5ECF6",
            "gridcolor": "white",
            "gridwidth": 2,
            "linecolor": "white",
            "showbackground": true,
            "ticks": "",
            "zerolinecolor": "white"
           }
          },
          "shapedefaults": {
           "line": {
            "color": "#2a3f5f"
           }
          },
          "ternary": {
           "aaxis": {
            "gridcolor": "white",
            "linecolor": "white",
            "ticks": ""
           },
           "baxis": {
            "gridcolor": "white",
            "linecolor": "white",
            "ticks": ""
           },
           "bgcolor": "#E5ECF6",
           "caxis": {
            "gridcolor": "white",
            "linecolor": "white",
            "ticks": ""
           }
          },
          "title": {
           "x": 0.05
          },
          "xaxis": {
           "automargin": true,
           "gridcolor": "white",
           "linecolor": "white",
           "ticks": "",
           "title": {
            "standoff": 15
           },
           "zerolinecolor": "white",
           "zerolinewidth": 2
          },
          "yaxis": {
           "automargin": true,
           "gridcolor": "white",
           "linecolor": "white",
           "ticks": "",
           "title": {
            "standoff": 15
           },
           "zerolinecolor": "white",
           "zerolinewidth": 2
          }
         }
        },
        "title": {
         "text": "Block Citizens in Circuit C0"
        },
        "xaxis": {
         "anchor": "y",
         "domain": [
          0,
          1
         ],
         "title": {
          "text": "index"
         }
        },
        "yaxis": {
         "anchor": "x",
         "domain": [
          0,
          1
         ],
         "title": {
          "text": "Citizens"
         }
        }
       }
      }
     },
     "metadata": {},
     "output_type": "display_data"
    },
    {
     "data": {
      "application/vnd.plotly.v1+json": {
       "config": {
        "plotlyServerURL": "https://plot.ly"
       },
       "data": [
        {
         "alignmentgroup": "True",
         "hovertemplate": "index=%{x}<br>Importance=%{y}<extra></extra>",
         "legendgroup": "",
         "marker": {
          "color": "#636efa",
          "pattern": {
           "shape": ""
          }
         },
         "name": "",
         "offsetgroup": "",
         "orientation": "v",
         "showlegend": false,
         "textposition": "auto",
         "type": "bar",
         "x": [
          0
         ],
         "xaxis": "x",
         "y": [
          0.45845009206016274
         ],
         "yaxis": "y"
        }
       ],
       "layout": {
        "barmode": "relative",
        "height": 800,
        "legend": {
         "tracegroupgap": 0
        },
        "template": {
         "data": {
          "bar": [
           {
            "error_x": {
             "color": "#2a3f5f"
            },
            "error_y": {
             "color": "#2a3f5f"
            },
            "marker": {
             "line": {
              "color": "#E5ECF6",
              "width": 0.5
             },
             "pattern": {
              "fillmode": "overlay",
              "size": 10,
              "solidity": 0.2
             }
            },
            "type": "bar"
           }
          ],
          "barpolar": [
           {
            "marker": {
             "line": {
              "color": "#E5ECF6",
              "width": 0.5
             },
             "pattern": {
              "fillmode": "overlay",
              "size": 10,
              "solidity": 0.2
             }
            },
            "type": "barpolar"
           }
          ],
          "carpet": [
           {
            "aaxis": {
             "endlinecolor": "#2a3f5f",
             "gridcolor": "white",
             "linecolor": "white",
             "minorgridcolor": "white",
             "startlinecolor": "#2a3f5f"
            },
            "baxis": {
             "endlinecolor": "#2a3f5f",
             "gridcolor": "white",
             "linecolor": "white",
             "minorgridcolor": "white",
             "startlinecolor": "#2a3f5f"
            },
            "type": "carpet"
           }
          ],
          "choropleth": [
           {
            "colorbar": {
             "outlinewidth": 0,
             "ticks": ""
            },
            "type": "choropleth"
           }
          ],
          "contour": [
           {
            "colorbar": {
             "outlinewidth": 0,
             "ticks": ""
            },
            "colorscale": [
             [
              0,
              "#0d0887"
             ],
             [
              0.1111111111111111,
              "#46039f"
             ],
             [
              0.2222222222222222,
              "#7201a8"
             ],
             [
              0.3333333333333333,
              "#9c179e"
             ],
             [
              0.4444444444444444,
              "#bd3786"
             ],
             [
              0.5555555555555556,
              "#d8576b"
             ],
             [
              0.6666666666666666,
              "#ed7953"
             ],
             [
              0.7777777777777778,
              "#fb9f3a"
             ],
             [
              0.8888888888888888,
              "#fdca26"
             ],
             [
              1,
              "#f0f921"
             ]
            ],
            "type": "contour"
           }
          ],
          "contourcarpet": [
           {
            "colorbar": {
             "outlinewidth": 0,
             "ticks": ""
            },
            "type": "contourcarpet"
           }
          ],
          "heatmap": [
           {
            "colorbar": {
             "outlinewidth": 0,
             "ticks": ""
            },
            "colorscale": [
             [
              0,
              "#0d0887"
             ],
             [
              0.1111111111111111,
              "#46039f"
             ],
             [
              0.2222222222222222,
              "#7201a8"
             ],
             [
              0.3333333333333333,
              "#9c179e"
             ],
             [
              0.4444444444444444,
              "#bd3786"
             ],
             [
              0.5555555555555556,
              "#d8576b"
             ],
             [
              0.6666666666666666,
              "#ed7953"
             ],
             [
              0.7777777777777778,
              "#fb9f3a"
             ],
             [
              0.8888888888888888,
              "#fdca26"
             ],
             [
              1,
              "#f0f921"
             ]
            ],
            "type": "heatmap"
           }
          ],
          "heatmapgl": [
           {
            "colorbar": {
             "outlinewidth": 0,
             "ticks": ""
            },
            "colorscale": [
             [
              0,
              "#0d0887"
             ],
             [
              0.1111111111111111,
              "#46039f"
             ],
             [
              0.2222222222222222,
              "#7201a8"
             ],
             [
              0.3333333333333333,
              "#9c179e"
             ],
             [
              0.4444444444444444,
              "#bd3786"
             ],
             [
              0.5555555555555556,
              "#d8576b"
             ],
             [
              0.6666666666666666,
              "#ed7953"
             ],
             [
              0.7777777777777778,
              "#fb9f3a"
             ],
             [
              0.8888888888888888,
              "#fdca26"
             ],
             [
              1,
              "#f0f921"
             ]
            ],
            "type": "heatmapgl"
           }
          ],
          "histogram": [
           {
            "marker": {
             "pattern": {
              "fillmode": "overlay",
              "size": 10,
              "solidity": 0.2
             }
            },
            "type": "histogram"
           }
          ],
          "histogram2d": [
           {
            "colorbar": {
             "outlinewidth": 0,
             "ticks": ""
            },
            "colorscale": [
             [
              0,
              "#0d0887"
             ],
             [
              0.1111111111111111,
              "#46039f"
             ],
             [
              0.2222222222222222,
              "#7201a8"
             ],
             [
              0.3333333333333333,
              "#9c179e"
             ],
             [
              0.4444444444444444,
              "#bd3786"
             ],
             [
              0.5555555555555556,
              "#d8576b"
             ],
             [
              0.6666666666666666,
              "#ed7953"
             ],
             [
              0.7777777777777778,
              "#fb9f3a"
             ],
             [
              0.8888888888888888,
              "#fdca26"
             ],
             [
              1,
              "#f0f921"
             ]
            ],
            "type": "histogram2d"
           }
          ],
          "histogram2dcontour": [
           {
            "colorbar": {
             "outlinewidth": 0,
             "ticks": ""
            },
            "colorscale": [
             [
              0,
              "#0d0887"
             ],
             [
              0.1111111111111111,
              "#46039f"
             ],
             [
              0.2222222222222222,
              "#7201a8"
             ],
             [
              0.3333333333333333,
              "#9c179e"
             ],
             [
              0.4444444444444444,
              "#bd3786"
             ],
             [
              0.5555555555555556,
              "#d8576b"
             ],
             [
              0.6666666666666666,
              "#ed7953"
             ],
             [
              0.7777777777777778,
              "#fb9f3a"
             ],
             [
              0.8888888888888888,
              "#fdca26"
             ],
             [
              1,
              "#f0f921"
             ]
            ],
            "type": "histogram2dcontour"
           }
          ],
          "mesh3d": [
           {
            "colorbar": {
             "outlinewidth": 0,
             "ticks": ""
            },
            "type": "mesh3d"
           }
          ],
          "parcoords": [
           {
            "line": {
             "colorbar": {
              "outlinewidth": 0,
              "ticks": ""
             }
            },
            "type": "parcoords"
           }
          ],
          "pie": [
           {
            "automargin": true,
            "type": "pie"
           }
          ],
          "scatter": [
           {
            "fillpattern": {
             "fillmode": "overlay",
             "size": 10,
             "solidity": 0.2
            },
            "type": "scatter"
           }
          ],
          "scatter3d": [
           {
            "line": {
             "colorbar": {
              "outlinewidth": 0,
              "ticks": ""
             }
            },
            "marker": {
             "colorbar": {
              "outlinewidth": 0,
              "ticks": ""
             }
            },
            "type": "scatter3d"
           }
          ],
          "scattercarpet": [
           {
            "marker": {
             "colorbar": {
              "outlinewidth": 0,
              "ticks": ""
             }
            },
            "type": "scattercarpet"
           }
          ],
          "scattergeo": [
           {
            "marker": {
             "colorbar": {
              "outlinewidth": 0,
              "ticks": ""
             }
            },
            "type": "scattergeo"
           }
          ],
          "scattergl": [
           {
            "marker": {
             "colorbar": {
              "outlinewidth": 0,
              "ticks": ""
             }
            },
            "type": "scattergl"
           }
          ],
          "scattermapbox": [
           {
            "marker": {
             "colorbar": {
              "outlinewidth": 0,
              "ticks": ""
             }
            },
            "type": "scattermapbox"
           }
          ],
          "scatterpolar": [
           {
            "marker": {
             "colorbar": {
              "outlinewidth": 0,
              "ticks": ""
             }
            },
            "type": "scatterpolar"
           }
          ],
          "scatterpolargl": [
           {
            "marker": {
             "colorbar": {
              "outlinewidth": 0,
              "ticks": ""
             }
            },
            "type": "scatterpolargl"
           }
          ],
          "scatterternary": [
           {
            "marker": {
             "colorbar": {
              "outlinewidth": 0,
              "ticks": ""
             }
            },
            "type": "scatterternary"
           }
          ],
          "surface": [
           {
            "colorbar": {
             "outlinewidth": 0,
             "ticks": ""
            },
            "colorscale": [
             [
              0,
              "#0d0887"
             ],
             [
              0.1111111111111111,
              "#46039f"
             ],
             [
              0.2222222222222222,
              "#7201a8"
             ],
             [
              0.3333333333333333,
              "#9c179e"
             ],
             [
              0.4444444444444444,
              "#bd3786"
             ],
             [
              0.5555555555555556,
              "#d8576b"
             ],
             [
              0.6666666666666666,
              "#ed7953"
             ],
             [
              0.7777777777777778,
              "#fb9f3a"
             ],
             [
              0.8888888888888888,
              "#fdca26"
             ],
             [
              1,
              "#f0f921"
             ]
            ],
            "type": "surface"
           }
          ],
          "table": [
           {
            "cells": {
             "fill": {
              "color": "#EBF0F8"
             },
             "line": {
              "color": "white"
             }
            },
            "header": {
             "fill": {
              "color": "#C8D4E3"
             },
             "line": {
              "color": "white"
             }
            },
            "type": "table"
           }
          ]
         },
         "layout": {
          "annotationdefaults": {
           "arrowcolor": "#2a3f5f",
           "arrowhead": 0,
           "arrowwidth": 1
          },
          "autotypenumbers": "strict",
          "coloraxis": {
           "colorbar": {
            "outlinewidth": 0,
            "ticks": ""
           }
          },
          "colorscale": {
           "diverging": [
            [
             0,
             "#8e0152"
            ],
            [
             0.1,
             "#c51b7d"
            ],
            [
             0.2,
             "#de77ae"
            ],
            [
             0.3,
             "#f1b6da"
            ],
            [
             0.4,
             "#fde0ef"
            ],
            [
             0.5,
             "#f7f7f7"
            ],
            [
             0.6,
             "#e6f5d0"
            ],
            [
             0.7,
             "#b8e186"
            ],
            [
             0.8,
             "#7fbc41"
            ],
            [
             0.9,
             "#4d9221"
            ],
            [
             1,
             "#276419"
            ]
           ],
           "sequential": [
            [
             0,
             "#0d0887"
            ],
            [
             0.1111111111111111,
             "#46039f"
            ],
            [
             0.2222222222222222,
             "#7201a8"
            ],
            [
             0.3333333333333333,
             "#9c179e"
            ],
            [
             0.4444444444444444,
             "#bd3786"
            ],
            [
             0.5555555555555556,
             "#d8576b"
            ],
            [
             0.6666666666666666,
             "#ed7953"
            ],
            [
             0.7777777777777778,
             "#fb9f3a"
            ],
            [
             0.8888888888888888,
             "#fdca26"
            ],
            [
             1,
             "#f0f921"
            ]
           ],
           "sequentialminus": [
            [
             0,
             "#0d0887"
            ],
            [
             0.1111111111111111,
             "#46039f"
            ],
            [
             0.2222222222222222,
             "#7201a8"
            ],
            [
             0.3333333333333333,
             "#9c179e"
            ],
            [
             0.4444444444444444,
             "#bd3786"
            ],
            [
             0.5555555555555556,
             "#d8576b"
            ],
            [
             0.6666666666666666,
             "#ed7953"
            ],
            [
             0.7777777777777778,
             "#fb9f3a"
            ],
            [
             0.8888888888888888,
             "#fdca26"
            ],
            [
             1,
             "#f0f921"
            ]
           ]
          },
          "colorway": [
           "#636efa",
           "#EF553B",
           "#00cc96",
           "#ab63fa",
           "#FFA15A",
           "#19d3f3",
           "#FF6692",
           "#B6E880",
           "#FF97FF",
           "#FECB52"
          ],
          "font": {
           "color": "#2a3f5f"
          },
          "geo": {
           "bgcolor": "white",
           "lakecolor": "white",
           "landcolor": "#E5ECF6",
           "showlakes": true,
           "showland": true,
           "subunitcolor": "white"
          },
          "hoverlabel": {
           "align": "left"
          },
          "hovermode": "closest",
          "mapbox": {
           "style": "light"
          },
          "paper_bgcolor": "white",
          "plot_bgcolor": "#E5ECF6",
          "polar": {
           "angularaxis": {
            "gridcolor": "white",
            "linecolor": "white",
            "ticks": ""
           },
           "bgcolor": "#E5ECF6",
           "radialaxis": {
            "gridcolor": "white",
            "linecolor": "white",
            "ticks": ""
           }
          },
          "scene": {
           "xaxis": {
            "backgroundcolor": "#E5ECF6",
            "gridcolor": "white",
            "gridwidth": 2,
            "linecolor": "white",
            "showbackground": true,
            "ticks": "",
            "zerolinecolor": "white"
           },
           "yaxis": {
            "backgroundcolor": "#E5ECF6",
            "gridcolor": "white",
            "gridwidth": 2,
            "linecolor": "white",
            "showbackground": true,
            "ticks": "",
            "zerolinecolor": "white"
           },
           "zaxis": {
            "backgroundcolor": "#E5ECF6",
            "gridcolor": "white",
            "gridwidth": 2,
            "linecolor": "white",
            "showbackground": true,
            "ticks": "",
            "zerolinecolor": "white"
           }
          },
          "shapedefaults": {
           "line": {
            "color": "#2a3f5f"
           }
          },
          "ternary": {
           "aaxis": {
            "gridcolor": "white",
            "linecolor": "white",
            "ticks": ""
           },
           "baxis": {
            "gridcolor": "white",
            "linecolor": "white",
            "ticks": ""
           },
           "bgcolor": "#E5ECF6",
           "caxis": {
            "gridcolor": "white",
            "linecolor": "white",
            "ticks": ""
           }
          },
          "title": {
           "x": 0.05
          },
          "xaxis": {
           "automargin": true,
           "gridcolor": "white",
           "linecolor": "white",
           "ticks": "",
           "title": {
            "standoff": 15
           },
           "zerolinecolor": "white",
           "zerolinewidth": 2
          },
          "yaxis": {
           "automargin": true,
           "gridcolor": "white",
           "linecolor": "white",
           "ticks": "",
           "title": {
            "standoff": 15
           },
           "zerolinecolor": "white",
           "zerolinewidth": 2
          }
         }
        },
        "title": {
         "text": "Block Importance in Circuit C0"
        },
        "xaxis": {
         "anchor": "y",
         "domain": [
          0,
          1
         ],
         "title": {
          "text": "index"
         }
        },
        "yaxis": {
         "anchor": "x",
         "domain": [
          0,
          1
         ],
         "title": {
          "text": "Importance"
         }
        }
       }
      }
     },
     "metadata": {},
     "output_type": "display_data"
    },
    {
     "data": {
      "application/vnd.plotly.v1+json": {
       "config": {
        "plotlyServerURL": "https://plot.ly"
       },
       "data": [
        {
         "alignmentgroup": "True",
         "hovertemplate": "index=%{x}<br>Demand per Hour=%{y}<extra></extra>",
         "legendgroup": "",
         "marker": {
          "color": "#636efa",
          "pattern": {
           "shape": ""
          }
         },
         "name": "",
         "offsetgroup": "",
         "orientation": "v",
         "showlegend": false,
         "textposition": "auto",
         "type": "bar",
         "x": [
          0
         ],
         "xaxis": "x",
         "y": [
          760.3121044280048
         ],
         "yaxis": "y"
        }
       ],
       "layout": {
        "barmode": "relative",
        "height": 800,
        "legend": {
         "tracegroupgap": 0
        },
        "template": {
         "data": {
          "bar": [
           {
            "error_x": {
             "color": "#2a3f5f"
            },
            "error_y": {
             "color": "#2a3f5f"
            },
            "marker": {
             "line": {
              "color": "#E5ECF6",
              "width": 0.5
             },
             "pattern": {
              "fillmode": "overlay",
              "size": 10,
              "solidity": 0.2
             }
            },
            "type": "bar"
           }
          ],
          "barpolar": [
           {
            "marker": {
             "line": {
              "color": "#E5ECF6",
              "width": 0.5
             },
             "pattern": {
              "fillmode": "overlay",
              "size": 10,
              "solidity": 0.2
             }
            },
            "type": "barpolar"
           }
          ],
          "carpet": [
           {
            "aaxis": {
             "endlinecolor": "#2a3f5f",
             "gridcolor": "white",
             "linecolor": "white",
             "minorgridcolor": "white",
             "startlinecolor": "#2a3f5f"
            },
            "baxis": {
             "endlinecolor": "#2a3f5f",
             "gridcolor": "white",
             "linecolor": "white",
             "minorgridcolor": "white",
             "startlinecolor": "#2a3f5f"
            },
            "type": "carpet"
           }
          ],
          "choropleth": [
           {
            "colorbar": {
             "outlinewidth": 0,
             "ticks": ""
            },
            "type": "choropleth"
           }
          ],
          "contour": [
           {
            "colorbar": {
             "outlinewidth": 0,
             "ticks": ""
            },
            "colorscale": [
             [
              0,
              "#0d0887"
             ],
             [
              0.1111111111111111,
              "#46039f"
             ],
             [
              0.2222222222222222,
              "#7201a8"
             ],
             [
              0.3333333333333333,
              "#9c179e"
             ],
             [
              0.4444444444444444,
              "#bd3786"
             ],
             [
              0.5555555555555556,
              "#d8576b"
             ],
             [
              0.6666666666666666,
              "#ed7953"
             ],
             [
              0.7777777777777778,
              "#fb9f3a"
             ],
             [
              0.8888888888888888,
              "#fdca26"
             ],
             [
              1,
              "#f0f921"
             ]
            ],
            "type": "contour"
           }
          ],
          "contourcarpet": [
           {
            "colorbar": {
             "outlinewidth": 0,
             "ticks": ""
            },
            "type": "contourcarpet"
           }
          ],
          "heatmap": [
           {
            "colorbar": {
             "outlinewidth": 0,
             "ticks": ""
            },
            "colorscale": [
             [
              0,
              "#0d0887"
             ],
             [
              0.1111111111111111,
              "#46039f"
             ],
             [
              0.2222222222222222,
              "#7201a8"
             ],
             [
              0.3333333333333333,
              "#9c179e"
             ],
             [
              0.4444444444444444,
              "#bd3786"
             ],
             [
              0.5555555555555556,
              "#d8576b"
             ],
             [
              0.6666666666666666,
              "#ed7953"
             ],
             [
              0.7777777777777778,
              "#fb9f3a"
             ],
             [
              0.8888888888888888,
              "#fdca26"
             ],
             [
              1,
              "#f0f921"
             ]
            ],
            "type": "heatmap"
           }
          ],
          "heatmapgl": [
           {
            "colorbar": {
             "outlinewidth": 0,
             "ticks": ""
            },
            "colorscale": [
             [
              0,
              "#0d0887"
             ],
             [
              0.1111111111111111,
              "#46039f"
             ],
             [
              0.2222222222222222,
              "#7201a8"
             ],
             [
              0.3333333333333333,
              "#9c179e"
             ],
             [
              0.4444444444444444,
              "#bd3786"
             ],
             [
              0.5555555555555556,
              "#d8576b"
             ],
             [
              0.6666666666666666,
              "#ed7953"
             ],
             [
              0.7777777777777778,
              "#fb9f3a"
             ],
             [
              0.8888888888888888,
              "#fdca26"
             ],
             [
              1,
              "#f0f921"
             ]
            ],
            "type": "heatmapgl"
           }
          ],
          "histogram": [
           {
            "marker": {
             "pattern": {
              "fillmode": "overlay",
              "size": 10,
              "solidity": 0.2
             }
            },
            "type": "histogram"
           }
          ],
          "histogram2d": [
           {
            "colorbar": {
             "outlinewidth": 0,
             "ticks": ""
            },
            "colorscale": [
             [
              0,
              "#0d0887"
             ],
             [
              0.1111111111111111,
              "#46039f"
             ],
             [
              0.2222222222222222,
              "#7201a8"
             ],
             [
              0.3333333333333333,
              "#9c179e"
             ],
             [
              0.4444444444444444,
              "#bd3786"
             ],
             [
              0.5555555555555556,
              "#d8576b"
             ],
             [
              0.6666666666666666,
              "#ed7953"
             ],
             [
              0.7777777777777778,
              "#fb9f3a"
             ],
             [
              0.8888888888888888,
              "#fdca26"
             ],
             [
              1,
              "#f0f921"
             ]
            ],
            "type": "histogram2d"
           }
          ],
          "histogram2dcontour": [
           {
            "colorbar": {
             "outlinewidth": 0,
             "ticks": ""
            },
            "colorscale": [
             [
              0,
              "#0d0887"
             ],
             [
              0.1111111111111111,
              "#46039f"
             ],
             [
              0.2222222222222222,
              "#7201a8"
             ],
             [
              0.3333333333333333,
              "#9c179e"
             ],
             [
              0.4444444444444444,
              "#bd3786"
             ],
             [
              0.5555555555555556,
              "#d8576b"
             ],
             [
              0.6666666666666666,
              "#ed7953"
             ],
             [
              0.7777777777777778,
              "#fb9f3a"
             ],
             [
              0.8888888888888888,
              "#fdca26"
             ],
             [
              1,
              "#f0f921"
             ]
            ],
            "type": "histogram2dcontour"
           }
          ],
          "mesh3d": [
           {
            "colorbar": {
             "outlinewidth": 0,
             "ticks": ""
            },
            "type": "mesh3d"
           }
          ],
          "parcoords": [
           {
            "line": {
             "colorbar": {
              "outlinewidth": 0,
              "ticks": ""
             }
            },
            "type": "parcoords"
           }
          ],
          "pie": [
           {
            "automargin": true,
            "type": "pie"
           }
          ],
          "scatter": [
           {
            "fillpattern": {
             "fillmode": "overlay",
             "size": 10,
             "solidity": 0.2
            },
            "type": "scatter"
           }
          ],
          "scatter3d": [
           {
            "line": {
             "colorbar": {
              "outlinewidth": 0,
              "ticks": ""
             }
            },
            "marker": {
             "colorbar": {
              "outlinewidth": 0,
              "ticks": ""
             }
            },
            "type": "scatter3d"
           }
          ],
          "scattercarpet": [
           {
            "marker": {
             "colorbar": {
              "outlinewidth": 0,
              "ticks": ""
             }
            },
            "type": "scattercarpet"
           }
          ],
          "scattergeo": [
           {
            "marker": {
             "colorbar": {
              "outlinewidth": 0,
              "ticks": ""
             }
            },
            "type": "scattergeo"
           }
          ],
          "scattergl": [
           {
            "marker": {
             "colorbar": {
              "outlinewidth": 0,
              "ticks": ""
             }
            },
            "type": "scattergl"
           }
          ],
          "scattermapbox": [
           {
            "marker": {
             "colorbar": {
              "outlinewidth": 0,
              "ticks": ""
             }
            },
            "type": "scattermapbox"
           }
          ],
          "scatterpolar": [
           {
            "marker": {
             "colorbar": {
              "outlinewidth": 0,
              "ticks": ""
             }
            },
            "type": "scatterpolar"
           }
          ],
          "scatterpolargl": [
           {
            "marker": {
             "colorbar": {
              "outlinewidth": 0,
              "ticks": ""
             }
            },
            "type": "scatterpolargl"
           }
          ],
          "scatterternary": [
           {
            "marker": {
             "colorbar": {
              "outlinewidth": 0,
              "ticks": ""
             }
            },
            "type": "scatterternary"
           }
          ],
          "surface": [
           {
            "colorbar": {
             "outlinewidth": 0,
             "ticks": ""
            },
            "colorscale": [
             [
              0,
              "#0d0887"
             ],
             [
              0.1111111111111111,
              "#46039f"
             ],
             [
              0.2222222222222222,
              "#7201a8"
             ],
             [
              0.3333333333333333,
              "#9c179e"
             ],
             [
              0.4444444444444444,
              "#bd3786"
             ],
             [
              0.5555555555555556,
              "#d8576b"
             ],
             [
              0.6666666666666666,
              "#ed7953"
             ],
             [
              0.7777777777777778,
              "#fb9f3a"
             ],
             [
              0.8888888888888888,
              "#fdca26"
             ],
             [
              1,
              "#f0f921"
             ]
            ],
            "type": "surface"
           }
          ],
          "table": [
           {
            "cells": {
             "fill": {
              "color": "#EBF0F8"
             },
             "line": {
              "color": "white"
             }
            },
            "header": {
             "fill": {
              "color": "#C8D4E3"
             },
             "line": {
              "color": "white"
             }
            },
            "type": "table"
           }
          ]
         },
         "layout": {
          "annotationdefaults": {
           "arrowcolor": "#2a3f5f",
           "arrowhead": 0,
           "arrowwidth": 1
          },
          "autotypenumbers": "strict",
          "coloraxis": {
           "colorbar": {
            "outlinewidth": 0,
            "ticks": ""
           }
          },
          "colorscale": {
           "diverging": [
            [
             0,
             "#8e0152"
            ],
            [
             0.1,
             "#c51b7d"
            ],
            [
             0.2,
             "#de77ae"
            ],
            [
             0.3,
             "#f1b6da"
            ],
            [
             0.4,
             "#fde0ef"
            ],
            [
             0.5,
             "#f7f7f7"
            ],
            [
             0.6,
             "#e6f5d0"
            ],
            [
             0.7,
             "#b8e186"
            ],
            [
             0.8,
             "#7fbc41"
            ],
            [
             0.9,
             "#4d9221"
            ],
            [
             1,
             "#276419"
            ]
           ],
           "sequential": [
            [
             0,
             "#0d0887"
            ],
            [
             0.1111111111111111,
             "#46039f"
            ],
            [
             0.2222222222222222,
             "#7201a8"
            ],
            [
             0.3333333333333333,
             "#9c179e"
            ],
            [
             0.4444444444444444,
             "#bd3786"
            ],
            [
             0.5555555555555556,
             "#d8576b"
            ],
            [
             0.6666666666666666,
             "#ed7953"
            ],
            [
             0.7777777777777778,
             "#fb9f3a"
            ],
            [
             0.8888888888888888,
             "#fdca26"
            ],
            [
             1,
             "#f0f921"
            ]
           ],
           "sequentialminus": [
            [
             0,
             "#0d0887"
            ],
            [
             0.1111111111111111,
             "#46039f"
            ],
            [
             0.2222222222222222,
             "#7201a8"
            ],
            [
             0.3333333333333333,
             "#9c179e"
            ],
            [
             0.4444444444444444,
             "#bd3786"
            ],
            [
             0.5555555555555556,
             "#d8576b"
            ],
            [
             0.6666666666666666,
             "#ed7953"
            ],
            [
             0.7777777777777778,
             "#fb9f3a"
            ],
            [
             0.8888888888888888,
             "#fdca26"
            ],
            [
             1,
             "#f0f921"
            ]
           ]
          },
          "colorway": [
           "#636efa",
           "#EF553B",
           "#00cc96",
           "#ab63fa",
           "#FFA15A",
           "#19d3f3",
           "#FF6692",
           "#B6E880",
           "#FF97FF",
           "#FECB52"
          ],
          "font": {
           "color": "#2a3f5f"
          },
          "geo": {
           "bgcolor": "white",
           "lakecolor": "white",
           "landcolor": "#E5ECF6",
           "showlakes": true,
           "showland": true,
           "subunitcolor": "white"
          },
          "hoverlabel": {
           "align": "left"
          },
          "hovermode": "closest",
          "mapbox": {
           "style": "light"
          },
          "paper_bgcolor": "white",
          "plot_bgcolor": "#E5ECF6",
          "polar": {
           "angularaxis": {
            "gridcolor": "white",
            "linecolor": "white",
            "ticks": ""
           },
           "bgcolor": "#E5ECF6",
           "radialaxis": {
            "gridcolor": "white",
            "linecolor": "white",
            "ticks": ""
           }
          },
          "scene": {
           "xaxis": {
            "backgroundcolor": "#E5ECF6",
            "gridcolor": "white",
            "gridwidth": 2,
            "linecolor": "white",
            "showbackground": true,
            "ticks": "",
            "zerolinecolor": "white"
           },
           "yaxis": {
            "backgroundcolor": "#E5ECF6",
            "gridcolor": "white",
            "gridwidth": 2,
            "linecolor": "white",
            "showbackground": true,
            "ticks": "",
            "zerolinecolor": "white"
           },
           "zaxis": {
            "backgroundcolor": "#E5ECF6",
            "gridcolor": "white",
            "gridwidth": 2,
            "linecolor": "white",
            "showbackground": true,
            "ticks": "",
            "zerolinecolor": "white"
           }
          },
          "shapedefaults": {
           "line": {
            "color": "#2a3f5f"
           }
          },
          "ternary": {
           "aaxis": {
            "gridcolor": "white",
            "linecolor": "white",
            "ticks": ""
           },
           "baxis": {
            "gridcolor": "white",
            "linecolor": "white",
            "ticks": ""
           },
           "bgcolor": "#E5ECF6",
           "caxis": {
            "gridcolor": "white",
            "linecolor": "white",
            "ticks": ""
           }
          },
          "title": {
           "x": 0.05
          },
          "xaxis": {
           "automargin": true,
           "gridcolor": "white",
           "linecolor": "white",
           "ticks": "",
           "title": {
            "standoff": 15
           },
           "zerolinecolor": "white",
           "zerolinewidth": 2
          },
          "yaxis": {
           "automargin": true,
           "gridcolor": "white",
           "linecolor": "white",
           "ticks": "",
           "title": {
            "standoff": 15
           },
           "zerolinecolor": "white",
           "zerolinewidth": 2
          }
         }
        },
        "title": {
         "text": "Block Demand per Hour in Circuit C0"
        },
        "xaxis": {
         "anchor": "y",
         "domain": [
          0,
          1
         ],
         "title": {
          "text": "index"
         }
        },
        "yaxis": {
         "anchor": "x",
         "domain": [
          0,
          1
         ],
         "title": {
          "text": "Demand per Hour"
         }
        }
       }
      }
     },
     "metadata": {},
     "output_type": "display_data"
    }
   ],
   "source": [
    "# All data of one block of a circuit (importance, citizens, industrialization, demand per hour)\n",
    "\n",
    "circuit_stats = electric_system_circuits_list[0]\n",
    "\n",
    "blocks = circuit_stats.blocks\n",
    "\n",
    "citizens = []\n",
    "importance = []\n",
    "demand_per_hour = []\n",
    "\n",
    "for block in blocks:\n",
    "    citizens.append(block.citizens.amount)\n",
    "    importance.append(block.importance)\n",
    "    demand_per_hour.append(sum(block.predicted_demand_per_hour))\n",
    "\n",
    "block_stats_df = pd.DataFrame(\n",
    "    {\n",
    "        \"Citizens\": citizens,\n",
    "        \"Importance\": importance,\n",
    "        \"Demand per Hour\": demand_per_hour,\n",
    "    }\n",
    ")\n",
    "\n",
    "fig_citizens = px.bar(\n",
    "    block_stats_df,\n",
    "    x=block_stats_df.index,\n",
    "    y=\"Citizens\",\n",
    "    title=f\"Block Citizens in Circuit {circuit_stats.id}\",\n",
    "    height=800,\n",
    ")\n",
    "\n",
    "fig_importance = px.bar(\n",
    "    block_stats_df,\n",
    "    x=block_stats_df.index,\n",
    "    y=\"Importance\",\n",
    "    title=f\"Block Importance in Circuit {circuit_stats.id}\",\n",
    "    height=800,\n",
    ")\n",
    "\n",
    "fig_demand_per_hour = px.bar(\n",
    "    block_stats_df,\n",
    "    x=block_stats_df.index,\n",
    "    y=\"Demand per Hour\",\n",
    "    title=f\"Block Demand per Hour in Circuit {circuit_stats.id}\",\n",
    "    height=800,\n",
    ")\n",
    "\n",
    "\n",
    "fig_citizens.show()\n",
    "fig_importance.show()\n",
    "fig_demand_per_hour.show()"
   ]
  },
  {
   "cell_type": "code",
   "execution_count": 10,
   "metadata": {},
   "outputs": [
    {
     "data": {
      "application/vnd.plotly.v1+json": {
       "config": {
        "plotlyServerURL": "https://plot.ly"
       },
       "data": [
        {
         "alignmentgroup": "True",
         "hovertemplate": "Thermoelectric ID=Th0<br>Circuit ID=%{x}<br>Citizens=%{y}<extra></extra>",
         "legendgroup": "Th0",
         "marker": {
          "color": "#636EFA",
          "pattern": {
           "shape": ""
          }
         },
         "name": "Th0",
         "offsetgroup": "Th0",
         "orientation": "v",
         "showlegend": true,
         "textposition": "auto",
         "type": "bar",
         "x": [
          "C5",
          "C6",
          "C10",
          "C14",
          "C31",
          "C46"
         ],
         "xaxis": "x",
         "y": [
          1070,
          4428,
          17340,
          2694,
          12716,
          17811
         ],
         "yaxis": "y"
        },
        {
         "alignmentgroup": "True",
         "hovertemplate": "Thermoelectric ID=Th1<br>Circuit ID=%{x}<br>Citizens=%{y}<extra></extra>",
         "legendgroup": "Th1",
         "marker": {
          "color": "#EF553B",
          "pattern": {
           "shape": ""
          }
         },
         "name": "Th1",
         "offsetgroup": "Th1",
         "orientation": "v",
         "showlegend": true,
         "textposition": "auto",
         "type": "bar",
         "x": [
          "C20",
          "C33",
          "C36",
          "C49"
         ],
         "xaxis": "x",
         "y": [
          7832,
          4524,
          2185,
          6997
         ],
         "yaxis": "y"
        },
        {
         "alignmentgroup": "True",
         "hovertemplate": "Thermoelectric ID=Th2<br>Circuit ID=%{x}<br>Citizens=%{y}<extra></extra>",
         "legendgroup": "Th2",
         "marker": {
          "color": "#00CC96",
          "pattern": {
           "shape": ""
          }
         },
         "name": "Th2",
         "offsetgroup": "Th2",
         "orientation": "v",
         "showlegend": true,
         "textposition": "auto",
         "type": "bar",
         "x": [
          "C0",
          "C11",
          "C17",
          "C18",
          "C19",
          "C32",
          "C35",
          "C37",
          "C40"
         ],
         "xaxis": "x",
         "y": [
          4620,
          8274,
          7813,
          2639,
          12224,
          2334,
          1602,
          10428,
          4289
         ],
         "yaxis": "y"
        },
        {
         "alignmentgroup": "True",
         "hovertemplate": "Thermoelectric ID=Th3<br>Circuit ID=%{x}<br>Citizens=%{y}<extra></extra>",
         "legendgroup": "Th3",
         "marker": {
          "color": "#AB63FA",
          "pattern": {
           "shape": ""
          }
         },
         "name": "Th3",
         "offsetgroup": "Th3",
         "orientation": "v",
         "showlegend": true,
         "textposition": "auto",
         "type": "bar",
         "x": [
          "C3",
          "C4",
          "C7",
          "C12",
          "C15",
          "C21",
          "C24"
         ],
         "xaxis": "x",
         "y": [
          7591,
          2708,
          6998,
          19547,
          1587,
          7774,
          6164
         ],
         "yaxis": "y"
        },
        {
         "alignmentgroup": "True",
         "hovertemplate": "Thermoelectric ID=Th4<br>Circuit ID=%{x}<br>Citizens=%{y}<extra></extra>",
         "legendgroup": "Th4",
         "marker": {
          "color": "#FFA15A",
          "pattern": {
           "shape": ""
          }
         },
         "name": "Th4",
         "offsetgroup": "Th4",
         "orientation": "v",
         "showlegend": true,
         "textposition": "auto",
         "type": "bar",
         "x": [
          "C25",
          "C34",
          "C38",
          "C39",
          "C45"
         ],
         "xaxis": "x",
         "y": [
          7489,
          2493,
          1154,
          13596,
          9525
         ],
         "yaxis": "y"
        },
        {
         "alignmentgroup": "True",
         "hovertemplate": "Thermoelectric ID=Th5<br>Circuit ID=%{x}<br>Citizens=%{y}<extra></extra>",
         "legendgroup": "Th5",
         "marker": {
          "color": "#19D3F3",
          "pattern": {
           "shape": ""
          }
         },
         "name": "Th5",
         "offsetgroup": "Th5",
         "orientation": "v",
         "showlegend": true,
         "textposition": "auto",
         "type": "bar",
         "x": [
          "C13",
          "C22",
          "C28",
          "C29",
          "C41",
          "C43",
          "C44",
          "C47"
         ],
         "xaxis": "x",
         "y": [
          10674,
          9345,
          16843,
          4415,
          4648,
          8959,
          3201,
          3101
         ],
         "yaxis": "y"
        },
        {
         "alignmentgroup": "True",
         "hovertemplate": "Thermoelectric ID=Th6<br>Circuit ID=%{x}<br>Citizens=%{y}<extra></extra>",
         "legendgroup": "Th6",
         "marker": {
          "color": "#FF6692",
          "pattern": {
           "shape": ""
          }
         },
         "name": "Th6",
         "offsetgroup": "Th6",
         "orientation": "v",
         "showlegend": true,
         "textposition": "auto",
         "type": "bar",
         "x": [
          "C1",
          "C2",
          "C9",
          "C23",
          "C26",
          "C27",
          "C30"
         ],
         "xaxis": "x",
         "y": [
          1007,
          5433,
          2932,
          4781,
          1781,
          2714,
          3894
         ],
         "yaxis": "y"
        },
        {
         "alignmentgroup": "True",
         "hovertemplate": "Thermoelectric ID=Th7<br>Circuit ID=%{x}<br>Citizens=%{y}<extra></extra>",
         "legendgroup": "Th7",
         "marker": {
          "color": "#B6E880",
          "pattern": {
           "shape": ""
          }
         },
         "name": "Th7",
         "offsetgroup": "Th7",
         "orientation": "v",
         "showlegend": true,
         "textposition": "auto",
         "type": "bar",
         "x": [
          "C8",
          "C16",
          "C42",
          "C48"
         ],
         "xaxis": "x",
         "y": [
          2989,
          3683,
          4805,
          8610
         ],
         "yaxis": "y"
        }
       ],
       "layout": {
        "barmode": "relative",
        "height": 800,
        "legend": {
         "title": {
          "text": "Thermoelectric ID"
         },
         "tracegroupgap": 0
        },
        "template": {
         "data": {
          "bar": [
           {
            "error_x": {
             "color": "#2a3f5f"
            },
            "error_y": {
             "color": "#2a3f5f"
            },
            "marker": {
             "line": {
              "color": "#E5ECF6",
              "width": 0.5
             },
             "pattern": {
              "fillmode": "overlay",
              "size": 10,
              "solidity": 0.2
             }
            },
            "type": "bar"
           }
          ],
          "barpolar": [
           {
            "marker": {
             "line": {
              "color": "#E5ECF6",
              "width": 0.5
             },
             "pattern": {
              "fillmode": "overlay",
              "size": 10,
              "solidity": 0.2
             }
            },
            "type": "barpolar"
           }
          ],
          "carpet": [
           {
            "aaxis": {
             "endlinecolor": "#2a3f5f",
             "gridcolor": "white",
             "linecolor": "white",
             "minorgridcolor": "white",
             "startlinecolor": "#2a3f5f"
            },
            "baxis": {
             "endlinecolor": "#2a3f5f",
             "gridcolor": "white",
             "linecolor": "white",
             "minorgridcolor": "white",
             "startlinecolor": "#2a3f5f"
            },
            "type": "carpet"
           }
          ],
          "choropleth": [
           {
            "colorbar": {
             "outlinewidth": 0,
             "ticks": ""
            },
            "type": "choropleth"
           }
          ],
          "contour": [
           {
            "colorbar": {
             "outlinewidth": 0,
             "ticks": ""
            },
            "colorscale": [
             [
              0,
              "#0d0887"
             ],
             [
              0.1111111111111111,
              "#46039f"
             ],
             [
              0.2222222222222222,
              "#7201a8"
             ],
             [
              0.3333333333333333,
              "#9c179e"
             ],
             [
              0.4444444444444444,
              "#bd3786"
             ],
             [
              0.5555555555555556,
              "#d8576b"
             ],
             [
              0.6666666666666666,
              "#ed7953"
             ],
             [
              0.7777777777777778,
              "#fb9f3a"
             ],
             [
              0.8888888888888888,
              "#fdca26"
             ],
             [
              1,
              "#f0f921"
             ]
            ],
            "type": "contour"
           }
          ],
          "contourcarpet": [
           {
            "colorbar": {
             "outlinewidth": 0,
             "ticks": ""
            },
            "type": "contourcarpet"
           }
          ],
          "heatmap": [
           {
            "colorbar": {
             "outlinewidth": 0,
             "ticks": ""
            },
            "colorscale": [
             [
              0,
              "#0d0887"
             ],
             [
              0.1111111111111111,
              "#46039f"
             ],
             [
              0.2222222222222222,
              "#7201a8"
             ],
             [
              0.3333333333333333,
              "#9c179e"
             ],
             [
              0.4444444444444444,
              "#bd3786"
             ],
             [
              0.5555555555555556,
              "#d8576b"
             ],
             [
              0.6666666666666666,
              "#ed7953"
             ],
             [
              0.7777777777777778,
              "#fb9f3a"
             ],
             [
              0.8888888888888888,
              "#fdca26"
             ],
             [
              1,
              "#f0f921"
             ]
            ],
            "type": "heatmap"
           }
          ],
          "heatmapgl": [
           {
            "colorbar": {
             "outlinewidth": 0,
             "ticks": ""
            },
            "colorscale": [
             [
              0,
              "#0d0887"
             ],
             [
              0.1111111111111111,
              "#46039f"
             ],
             [
              0.2222222222222222,
              "#7201a8"
             ],
             [
              0.3333333333333333,
              "#9c179e"
             ],
             [
              0.4444444444444444,
              "#bd3786"
             ],
             [
              0.5555555555555556,
              "#d8576b"
             ],
             [
              0.6666666666666666,
              "#ed7953"
             ],
             [
              0.7777777777777778,
              "#fb9f3a"
             ],
             [
              0.8888888888888888,
              "#fdca26"
             ],
             [
              1,
              "#f0f921"
             ]
            ],
            "type": "heatmapgl"
           }
          ],
          "histogram": [
           {
            "marker": {
             "pattern": {
              "fillmode": "overlay",
              "size": 10,
              "solidity": 0.2
             }
            },
            "type": "histogram"
           }
          ],
          "histogram2d": [
           {
            "colorbar": {
             "outlinewidth": 0,
             "ticks": ""
            },
            "colorscale": [
             [
              0,
              "#0d0887"
             ],
             [
              0.1111111111111111,
              "#46039f"
             ],
             [
              0.2222222222222222,
              "#7201a8"
             ],
             [
              0.3333333333333333,
              "#9c179e"
             ],
             [
              0.4444444444444444,
              "#bd3786"
             ],
             [
              0.5555555555555556,
              "#d8576b"
             ],
             [
              0.6666666666666666,
              "#ed7953"
             ],
             [
              0.7777777777777778,
              "#fb9f3a"
             ],
             [
              0.8888888888888888,
              "#fdca26"
             ],
             [
              1,
              "#f0f921"
             ]
            ],
            "type": "histogram2d"
           }
          ],
          "histogram2dcontour": [
           {
            "colorbar": {
             "outlinewidth": 0,
             "ticks": ""
            },
            "colorscale": [
             [
              0,
              "#0d0887"
             ],
             [
              0.1111111111111111,
              "#46039f"
             ],
             [
              0.2222222222222222,
              "#7201a8"
             ],
             [
              0.3333333333333333,
              "#9c179e"
             ],
             [
              0.4444444444444444,
              "#bd3786"
             ],
             [
              0.5555555555555556,
              "#d8576b"
             ],
             [
              0.6666666666666666,
              "#ed7953"
             ],
             [
              0.7777777777777778,
              "#fb9f3a"
             ],
             [
              0.8888888888888888,
              "#fdca26"
             ],
             [
              1,
              "#f0f921"
             ]
            ],
            "type": "histogram2dcontour"
           }
          ],
          "mesh3d": [
           {
            "colorbar": {
             "outlinewidth": 0,
             "ticks": ""
            },
            "type": "mesh3d"
           }
          ],
          "parcoords": [
           {
            "line": {
             "colorbar": {
              "outlinewidth": 0,
              "ticks": ""
             }
            },
            "type": "parcoords"
           }
          ],
          "pie": [
           {
            "automargin": true,
            "type": "pie"
           }
          ],
          "scatter": [
           {
            "fillpattern": {
             "fillmode": "overlay",
             "size": 10,
             "solidity": 0.2
            },
            "type": "scatter"
           }
          ],
          "scatter3d": [
           {
            "line": {
             "colorbar": {
              "outlinewidth": 0,
              "ticks": ""
             }
            },
            "marker": {
             "colorbar": {
              "outlinewidth": 0,
              "ticks": ""
             }
            },
            "type": "scatter3d"
           }
          ],
          "scattercarpet": [
           {
            "marker": {
             "colorbar": {
              "outlinewidth": 0,
              "ticks": ""
             }
            },
            "type": "scattercarpet"
           }
          ],
          "scattergeo": [
           {
            "marker": {
             "colorbar": {
              "outlinewidth": 0,
              "ticks": ""
             }
            },
            "type": "scattergeo"
           }
          ],
          "scattergl": [
           {
            "marker": {
             "colorbar": {
              "outlinewidth": 0,
              "ticks": ""
             }
            },
            "type": "scattergl"
           }
          ],
          "scattermapbox": [
           {
            "marker": {
             "colorbar": {
              "outlinewidth": 0,
              "ticks": ""
             }
            },
            "type": "scattermapbox"
           }
          ],
          "scatterpolar": [
           {
            "marker": {
             "colorbar": {
              "outlinewidth": 0,
              "ticks": ""
             }
            },
            "type": "scatterpolar"
           }
          ],
          "scatterpolargl": [
           {
            "marker": {
             "colorbar": {
              "outlinewidth": 0,
              "ticks": ""
             }
            },
            "type": "scatterpolargl"
           }
          ],
          "scatterternary": [
           {
            "marker": {
             "colorbar": {
              "outlinewidth": 0,
              "ticks": ""
             }
            },
            "type": "scatterternary"
           }
          ],
          "surface": [
           {
            "colorbar": {
             "outlinewidth": 0,
             "ticks": ""
            },
            "colorscale": [
             [
              0,
              "#0d0887"
             ],
             [
              0.1111111111111111,
              "#46039f"
             ],
             [
              0.2222222222222222,
              "#7201a8"
             ],
             [
              0.3333333333333333,
              "#9c179e"
             ],
             [
              0.4444444444444444,
              "#bd3786"
             ],
             [
              0.5555555555555556,
              "#d8576b"
             ],
             [
              0.6666666666666666,
              "#ed7953"
             ],
             [
              0.7777777777777778,
              "#fb9f3a"
             ],
             [
              0.8888888888888888,
              "#fdca26"
             ],
             [
              1,
              "#f0f921"
             ]
            ],
            "type": "surface"
           }
          ],
          "table": [
           {
            "cells": {
             "fill": {
              "color": "#EBF0F8"
             },
             "line": {
              "color": "white"
             }
            },
            "header": {
             "fill": {
              "color": "#C8D4E3"
             },
             "line": {
              "color": "white"
             }
            },
            "type": "table"
           }
          ]
         },
         "layout": {
          "annotationdefaults": {
           "arrowcolor": "#2a3f5f",
           "arrowhead": 0,
           "arrowwidth": 1
          },
          "autotypenumbers": "strict",
          "coloraxis": {
           "colorbar": {
            "outlinewidth": 0,
            "ticks": ""
           }
          },
          "colorscale": {
           "diverging": [
            [
             0,
             "#8e0152"
            ],
            [
             0.1,
             "#c51b7d"
            ],
            [
             0.2,
             "#de77ae"
            ],
            [
             0.3,
             "#f1b6da"
            ],
            [
             0.4,
             "#fde0ef"
            ],
            [
             0.5,
             "#f7f7f7"
            ],
            [
             0.6,
             "#e6f5d0"
            ],
            [
             0.7,
             "#b8e186"
            ],
            [
             0.8,
             "#7fbc41"
            ],
            [
             0.9,
             "#4d9221"
            ],
            [
             1,
             "#276419"
            ]
           ],
           "sequential": [
            [
             0,
             "#0d0887"
            ],
            [
             0.1111111111111111,
             "#46039f"
            ],
            [
             0.2222222222222222,
             "#7201a8"
            ],
            [
             0.3333333333333333,
             "#9c179e"
            ],
            [
             0.4444444444444444,
             "#bd3786"
            ],
            [
             0.5555555555555556,
             "#d8576b"
            ],
            [
             0.6666666666666666,
             "#ed7953"
            ],
            [
             0.7777777777777778,
             "#fb9f3a"
            ],
            [
             0.8888888888888888,
             "#fdca26"
            ],
            [
             1,
             "#f0f921"
            ]
           ],
           "sequentialminus": [
            [
             0,
             "#0d0887"
            ],
            [
             0.1111111111111111,
             "#46039f"
            ],
            [
             0.2222222222222222,
             "#7201a8"
            ],
            [
             0.3333333333333333,
             "#9c179e"
            ],
            [
             0.4444444444444444,
             "#bd3786"
            ],
            [
             0.5555555555555556,
             "#d8576b"
            ],
            [
             0.6666666666666666,
             "#ed7953"
            ],
            [
             0.7777777777777778,
             "#fb9f3a"
            ],
            [
             0.8888888888888888,
             "#fdca26"
            ],
            [
             1,
             "#f0f921"
            ]
           ]
          },
          "colorway": [
           "#636efa",
           "#EF553B",
           "#00cc96",
           "#ab63fa",
           "#FFA15A",
           "#19d3f3",
           "#FF6692",
           "#B6E880",
           "#FF97FF",
           "#FECB52"
          ],
          "font": {
           "color": "#2a3f5f"
          },
          "geo": {
           "bgcolor": "white",
           "lakecolor": "white",
           "landcolor": "#E5ECF6",
           "showlakes": true,
           "showland": true,
           "subunitcolor": "white"
          },
          "hoverlabel": {
           "align": "left"
          },
          "hovermode": "closest",
          "mapbox": {
           "style": "light"
          },
          "paper_bgcolor": "white",
          "plot_bgcolor": "#E5ECF6",
          "polar": {
           "angularaxis": {
            "gridcolor": "white",
            "linecolor": "white",
            "ticks": ""
           },
           "bgcolor": "#E5ECF6",
           "radialaxis": {
            "gridcolor": "white",
            "linecolor": "white",
            "ticks": ""
           }
          },
          "scene": {
           "xaxis": {
            "backgroundcolor": "#E5ECF6",
            "gridcolor": "white",
            "gridwidth": 2,
            "linecolor": "white",
            "showbackground": true,
            "ticks": "",
            "zerolinecolor": "white"
           },
           "yaxis": {
            "backgroundcolor": "#E5ECF6",
            "gridcolor": "white",
            "gridwidth": 2,
            "linecolor": "white",
            "showbackground": true,
            "ticks": "",
            "zerolinecolor": "white"
           },
           "zaxis": {
            "backgroundcolor": "#E5ECF6",
            "gridcolor": "white",
            "gridwidth": 2,
            "linecolor": "white",
            "showbackground": true,
            "ticks": "",
            "zerolinecolor": "white"
           }
          },
          "shapedefaults": {
           "line": {
            "color": "#2a3f5f"
           }
          },
          "ternary": {
           "aaxis": {
            "gridcolor": "white",
            "linecolor": "white",
            "ticks": ""
           },
           "baxis": {
            "gridcolor": "white",
            "linecolor": "white",
            "ticks": ""
           },
           "bgcolor": "#E5ECF6",
           "caxis": {
            "gridcolor": "white",
            "linecolor": "white",
            "ticks": ""
           }
          },
          "title": {
           "x": 0.05
          },
          "xaxis": {
           "automargin": true,
           "gridcolor": "white",
           "linecolor": "white",
           "ticks": "",
           "title": {
            "standoff": 15
           },
           "zerolinecolor": "white",
           "zerolinewidth": 2
          },
          "yaxis": {
           "automargin": true,
           "gridcolor": "white",
           "linecolor": "white",
           "ticks": "",
           "title": {
            "standoff": 15
           },
           "zerolinecolor": "white",
           "zerolinewidth": 2
          }
         }
        },
        "title": {
         "text": "Total Citizens per Circuit"
        },
        "xaxis": {
         "anchor": "y",
         "domain": [
          0,
          1
         ],
         "title": {
          "text": "Circuit ID"
         }
        },
        "yaxis": {
         "anchor": "x",
         "domain": [
          0,
          1
         ],
         "title": {
          "text": "Citizens"
         }
        }
       }
      }
     },
     "metadata": {},
     "output_type": "display_data"
    },
    {
     "data": {
      "application/vnd.plotly.v1+json": {
       "config": {
        "plotlyServerURL": "https://plot.ly"
       },
       "data": [
        {
         "alignmentgroup": "True",
         "hovertemplate": "Thermoelectric ID=Th0<br>Circuit ID=%{x}<br>Importance=%{y}<extra></extra>",
         "legendgroup": "Th0",
         "marker": {
          "color": "#636EFA",
          "pattern": {
           "shape": ""
          }
         },
         "name": "Th0",
         "offsetgroup": "Th0",
         "orientation": "v",
         "showlegend": true,
         "textposition": "auto",
         "type": "bar",
         "x": [
          "C5",
          "C6",
          "C10",
          "C14",
          "C31",
          "C46"
         ],
         "xaxis": "x",
         "y": [
          0.7164918282089323,
          0.5253837934721441,
          0.5890017152504221,
          0.609495076021896,
          0.45467999406558557,
          0.30750440062413675
         ],
         "yaxis": "y"
        },
        {
         "alignmentgroup": "True",
         "hovertemplate": "Thermoelectric ID=Th1<br>Circuit ID=%{x}<br>Importance=%{y}<extra></extra>",
         "legendgroup": "Th1",
         "marker": {
          "color": "#EF553B",
          "pattern": {
           "shape": ""
          }
         },
         "name": "Th1",
         "offsetgroup": "Th1",
         "orientation": "v",
         "showlegend": true,
         "textposition": "auto",
         "type": "bar",
         "x": [
          "C20",
          "C33",
          "C36",
          "C49"
         ],
         "xaxis": "x",
         "y": [
          0.4272539638307669,
          0.322560640251701,
          0.3592704937074743,
          0.29002128751215017
         ],
         "yaxis": "y"
        },
        {
         "alignmentgroup": "True",
         "hovertemplate": "Thermoelectric ID=Th2<br>Circuit ID=%{x}<br>Importance=%{y}<extra></extra>",
         "legendgroup": "Th2",
         "marker": {
          "color": "#00CC96",
          "pattern": {
           "shape": ""
          }
         },
         "name": "Th2",
         "offsetgroup": "Th2",
         "orientation": "v",
         "showlegend": true,
         "textposition": "auto",
         "type": "bar",
         "x": [
          "C0",
          "C11",
          "C17",
          "C18",
          "C19",
          "C32",
          "C35",
          "C37",
          "C40"
         ],
         "xaxis": "x",
         "y": [
          0.45845009206016274,
          0.15845554458484676,
          0.2622723429938098,
          0.2698352274262035,
          0.5207683975034533,
          0.36666278766562643,
          0.6521034438276975,
          0.3741299169949353,
          0.2917439950120223
         ],
         "yaxis": "y"
        },
        {
         "alignmentgroup": "True",
         "hovertemplate": "Thermoelectric ID=Th3<br>Circuit ID=%{x}<br>Importance=%{y}<extra></extra>",
         "legendgroup": "Th3",
         "marker": {
          "color": "#AB63FA",
          "pattern": {
           "shape": ""
          }
         },
         "name": "Th3",
         "offsetgroup": "Th3",
         "orientation": "v",
         "showlegend": true,
         "textposition": "auto",
         "type": "bar",
         "x": [
          "C3",
          "C4",
          "C7",
          "C12",
          "C15",
          "C21",
          "C24"
         ],
         "xaxis": "x",
         "y": [
          0.30185484954212927,
          0.3686553781654474,
          0.0866392172711925,
          0.4624544240804216,
          0.6077879821200185,
          0.5094118422775874,
          0.7119695342763597
         ],
         "yaxis": "y"
        },
        {
         "alignmentgroup": "True",
         "hovertemplate": "Thermoelectric ID=Th4<br>Circuit ID=%{x}<br>Importance=%{y}<extra></extra>",
         "legendgroup": "Th4",
         "marker": {
          "color": "#FFA15A",
          "pattern": {
           "shape": ""
          }
         },
         "name": "Th4",
         "offsetgroup": "Th4",
         "orientation": "v",
         "showlegend": true,
         "textposition": "auto",
         "type": "bar",
         "x": [
          "C25",
          "C34",
          "C38",
          "C39",
          "C45"
         ],
         "xaxis": "x",
         "y": [
          0.18061239108303065,
          0.20968275602394232,
          0.05938731493323783,
          0.4572435777612933,
          0.0745740742824986
         ],
         "yaxis": "y"
        },
        {
         "alignmentgroup": "True",
         "hovertemplate": "Thermoelectric ID=Th5<br>Circuit ID=%{x}<br>Importance=%{y}<extra></extra>",
         "legendgroup": "Th5",
         "marker": {
          "color": "#19D3F3",
          "pattern": {
           "shape": ""
          }
         },
         "name": "Th5",
         "offsetgroup": "Th5",
         "orientation": "v",
         "showlegend": true,
         "textposition": "auto",
         "type": "bar",
         "x": [
          "C13",
          "C22",
          "C28",
          "C29",
          "C41",
          "C43",
          "C44",
          "C47"
         ],
         "xaxis": "x",
         "y": [
          0.42593254340819564,
          0.5620415,
          0.39749327779198856,
          0.823466776308385,
          0.4941092924489692,
          0.09667346771883154,
          0.3022378699544688,
          0.571057208932317
         ],
         "yaxis": "y"
        },
        {
         "alignmentgroup": "True",
         "hovertemplate": "Thermoelectric ID=Th6<br>Circuit ID=%{x}<br>Importance=%{y}<extra></extra>",
         "legendgroup": "Th6",
         "marker": {
          "color": "#FF6692",
          "pattern": {
           "shape": ""
          }
         },
         "name": "Th6",
         "offsetgroup": "Th6",
         "orientation": "v",
         "showlegend": true,
         "textposition": "auto",
         "type": "bar",
         "x": [
          "C1",
          "C2",
          "C9",
          "C23",
          "C26",
          "C27",
          "C30"
         ],
         "xaxis": "x",
         "y": [
          0.08480071929196295,
          0.5823406974983374,
          0.5719581912569704,
          0.46835116971913854,
          0.3311184934005218,
          0.4857019943981174,
          0.4326754713766819
         ],
         "yaxis": "y"
        },
        {
         "alignmentgroup": "True",
         "hovertemplate": "Thermoelectric ID=Th7<br>Circuit ID=%{x}<br>Importance=%{y}<extra></extra>",
         "legendgroup": "Th7",
         "marker": {
          "color": "#B6E880",
          "pattern": {
           "shape": ""
          }
         },
         "name": "Th7",
         "offsetgroup": "Th7",
         "orientation": "v",
         "showlegend": true,
         "textposition": "auto",
         "type": "bar",
         "x": [
          "C8",
          "C16",
          "C42",
          "C48"
         ],
         "xaxis": "x",
         "y": [
          0.16697598004808922,
          0.5312039350283931,
          0.09156102956975495,
          0.6551101540645625
         ],
         "yaxis": "y"
        }
       ],
       "layout": {
        "barmode": "relative",
        "height": 800,
        "legend": {
         "title": {
          "text": "Thermoelectric ID"
         },
         "tracegroupgap": 0
        },
        "template": {
         "data": {
          "bar": [
           {
            "error_x": {
             "color": "#2a3f5f"
            },
            "error_y": {
             "color": "#2a3f5f"
            },
            "marker": {
             "line": {
              "color": "#E5ECF6",
              "width": 0.5
             },
             "pattern": {
              "fillmode": "overlay",
              "size": 10,
              "solidity": 0.2
             }
            },
            "type": "bar"
           }
          ],
          "barpolar": [
           {
            "marker": {
             "line": {
              "color": "#E5ECF6",
              "width": 0.5
             },
             "pattern": {
              "fillmode": "overlay",
              "size": 10,
              "solidity": 0.2
             }
            },
            "type": "barpolar"
           }
          ],
          "carpet": [
           {
            "aaxis": {
             "endlinecolor": "#2a3f5f",
             "gridcolor": "white",
             "linecolor": "white",
             "minorgridcolor": "white",
             "startlinecolor": "#2a3f5f"
            },
            "baxis": {
             "endlinecolor": "#2a3f5f",
             "gridcolor": "white",
             "linecolor": "white",
             "minorgridcolor": "white",
             "startlinecolor": "#2a3f5f"
            },
            "type": "carpet"
           }
          ],
          "choropleth": [
           {
            "colorbar": {
             "outlinewidth": 0,
             "ticks": ""
            },
            "type": "choropleth"
           }
          ],
          "contour": [
           {
            "colorbar": {
             "outlinewidth": 0,
             "ticks": ""
            },
            "colorscale": [
             [
              0,
              "#0d0887"
             ],
             [
              0.1111111111111111,
              "#46039f"
             ],
             [
              0.2222222222222222,
              "#7201a8"
             ],
             [
              0.3333333333333333,
              "#9c179e"
             ],
             [
              0.4444444444444444,
              "#bd3786"
             ],
             [
              0.5555555555555556,
              "#d8576b"
             ],
             [
              0.6666666666666666,
              "#ed7953"
             ],
             [
              0.7777777777777778,
              "#fb9f3a"
             ],
             [
              0.8888888888888888,
              "#fdca26"
             ],
             [
              1,
              "#f0f921"
             ]
            ],
            "type": "contour"
           }
          ],
          "contourcarpet": [
           {
            "colorbar": {
             "outlinewidth": 0,
             "ticks": ""
            },
            "type": "contourcarpet"
           }
          ],
          "heatmap": [
           {
            "colorbar": {
             "outlinewidth": 0,
             "ticks": ""
            },
            "colorscale": [
             [
              0,
              "#0d0887"
             ],
             [
              0.1111111111111111,
              "#46039f"
             ],
             [
              0.2222222222222222,
              "#7201a8"
             ],
             [
              0.3333333333333333,
              "#9c179e"
             ],
             [
              0.4444444444444444,
              "#bd3786"
             ],
             [
              0.5555555555555556,
              "#d8576b"
             ],
             [
              0.6666666666666666,
              "#ed7953"
             ],
             [
              0.7777777777777778,
              "#fb9f3a"
             ],
             [
              0.8888888888888888,
              "#fdca26"
             ],
             [
              1,
              "#f0f921"
             ]
            ],
            "type": "heatmap"
           }
          ],
          "heatmapgl": [
           {
            "colorbar": {
             "outlinewidth": 0,
             "ticks": ""
            },
            "colorscale": [
             [
              0,
              "#0d0887"
             ],
             [
              0.1111111111111111,
              "#46039f"
             ],
             [
              0.2222222222222222,
              "#7201a8"
             ],
             [
              0.3333333333333333,
              "#9c179e"
             ],
             [
              0.4444444444444444,
              "#bd3786"
             ],
             [
              0.5555555555555556,
              "#d8576b"
             ],
             [
              0.6666666666666666,
              "#ed7953"
             ],
             [
              0.7777777777777778,
              "#fb9f3a"
             ],
             [
              0.8888888888888888,
              "#fdca26"
             ],
             [
              1,
              "#f0f921"
             ]
            ],
            "type": "heatmapgl"
           }
          ],
          "histogram": [
           {
            "marker": {
             "pattern": {
              "fillmode": "overlay",
              "size": 10,
              "solidity": 0.2
             }
            },
            "type": "histogram"
           }
          ],
          "histogram2d": [
           {
            "colorbar": {
             "outlinewidth": 0,
             "ticks": ""
            },
            "colorscale": [
             [
              0,
              "#0d0887"
             ],
             [
              0.1111111111111111,
              "#46039f"
             ],
             [
              0.2222222222222222,
              "#7201a8"
             ],
             [
              0.3333333333333333,
              "#9c179e"
             ],
             [
              0.4444444444444444,
              "#bd3786"
             ],
             [
              0.5555555555555556,
              "#d8576b"
             ],
             [
              0.6666666666666666,
              "#ed7953"
             ],
             [
              0.7777777777777778,
              "#fb9f3a"
             ],
             [
              0.8888888888888888,
              "#fdca26"
             ],
             [
              1,
              "#f0f921"
             ]
            ],
            "type": "histogram2d"
           }
          ],
          "histogram2dcontour": [
           {
            "colorbar": {
             "outlinewidth": 0,
             "ticks": ""
            },
            "colorscale": [
             [
              0,
              "#0d0887"
             ],
             [
              0.1111111111111111,
              "#46039f"
             ],
             [
              0.2222222222222222,
              "#7201a8"
             ],
             [
              0.3333333333333333,
              "#9c179e"
             ],
             [
              0.4444444444444444,
              "#bd3786"
             ],
             [
              0.5555555555555556,
              "#d8576b"
             ],
             [
              0.6666666666666666,
              "#ed7953"
             ],
             [
              0.7777777777777778,
              "#fb9f3a"
             ],
             [
              0.8888888888888888,
              "#fdca26"
             ],
             [
              1,
              "#f0f921"
             ]
            ],
            "type": "histogram2dcontour"
           }
          ],
          "mesh3d": [
           {
            "colorbar": {
             "outlinewidth": 0,
             "ticks": ""
            },
            "type": "mesh3d"
           }
          ],
          "parcoords": [
           {
            "line": {
             "colorbar": {
              "outlinewidth": 0,
              "ticks": ""
             }
            },
            "type": "parcoords"
           }
          ],
          "pie": [
           {
            "automargin": true,
            "type": "pie"
           }
          ],
          "scatter": [
           {
            "fillpattern": {
             "fillmode": "overlay",
             "size": 10,
             "solidity": 0.2
            },
            "type": "scatter"
           }
          ],
          "scatter3d": [
           {
            "line": {
             "colorbar": {
              "outlinewidth": 0,
              "ticks": ""
             }
            },
            "marker": {
             "colorbar": {
              "outlinewidth": 0,
              "ticks": ""
             }
            },
            "type": "scatter3d"
           }
          ],
          "scattercarpet": [
           {
            "marker": {
             "colorbar": {
              "outlinewidth": 0,
              "ticks": ""
             }
            },
            "type": "scattercarpet"
           }
          ],
          "scattergeo": [
           {
            "marker": {
             "colorbar": {
              "outlinewidth": 0,
              "ticks": ""
             }
            },
            "type": "scattergeo"
           }
          ],
          "scattergl": [
           {
            "marker": {
             "colorbar": {
              "outlinewidth": 0,
              "ticks": ""
             }
            },
            "type": "scattergl"
           }
          ],
          "scattermapbox": [
           {
            "marker": {
             "colorbar": {
              "outlinewidth": 0,
              "ticks": ""
             }
            },
            "type": "scattermapbox"
           }
          ],
          "scatterpolar": [
           {
            "marker": {
             "colorbar": {
              "outlinewidth": 0,
              "ticks": ""
             }
            },
            "type": "scatterpolar"
           }
          ],
          "scatterpolargl": [
           {
            "marker": {
             "colorbar": {
              "outlinewidth": 0,
              "ticks": ""
             }
            },
            "type": "scatterpolargl"
           }
          ],
          "scatterternary": [
           {
            "marker": {
             "colorbar": {
              "outlinewidth": 0,
              "ticks": ""
             }
            },
            "type": "scatterternary"
           }
          ],
          "surface": [
           {
            "colorbar": {
             "outlinewidth": 0,
             "ticks": ""
            },
            "colorscale": [
             [
              0,
              "#0d0887"
             ],
             [
              0.1111111111111111,
              "#46039f"
             ],
             [
              0.2222222222222222,
              "#7201a8"
             ],
             [
              0.3333333333333333,
              "#9c179e"
             ],
             [
              0.4444444444444444,
              "#bd3786"
             ],
             [
              0.5555555555555556,
              "#d8576b"
             ],
             [
              0.6666666666666666,
              "#ed7953"
             ],
             [
              0.7777777777777778,
              "#fb9f3a"
             ],
             [
              0.8888888888888888,
              "#fdca26"
             ],
             [
              1,
              "#f0f921"
             ]
            ],
            "type": "surface"
           }
          ],
          "table": [
           {
            "cells": {
             "fill": {
              "color": "#EBF0F8"
             },
             "line": {
              "color": "white"
             }
            },
            "header": {
             "fill": {
              "color": "#C8D4E3"
             },
             "line": {
              "color": "white"
             }
            },
            "type": "table"
           }
          ]
         },
         "layout": {
          "annotationdefaults": {
           "arrowcolor": "#2a3f5f",
           "arrowhead": 0,
           "arrowwidth": 1
          },
          "autotypenumbers": "strict",
          "coloraxis": {
           "colorbar": {
            "outlinewidth": 0,
            "ticks": ""
           }
          },
          "colorscale": {
           "diverging": [
            [
             0,
             "#8e0152"
            ],
            [
             0.1,
             "#c51b7d"
            ],
            [
             0.2,
             "#de77ae"
            ],
            [
             0.3,
             "#f1b6da"
            ],
            [
             0.4,
             "#fde0ef"
            ],
            [
             0.5,
             "#f7f7f7"
            ],
            [
             0.6,
             "#e6f5d0"
            ],
            [
             0.7,
             "#b8e186"
            ],
            [
             0.8,
             "#7fbc41"
            ],
            [
             0.9,
             "#4d9221"
            ],
            [
             1,
             "#276419"
            ]
           ],
           "sequential": [
            [
             0,
             "#0d0887"
            ],
            [
             0.1111111111111111,
             "#46039f"
            ],
            [
             0.2222222222222222,
             "#7201a8"
            ],
            [
             0.3333333333333333,
             "#9c179e"
            ],
            [
             0.4444444444444444,
             "#bd3786"
            ],
            [
             0.5555555555555556,
             "#d8576b"
            ],
            [
             0.6666666666666666,
             "#ed7953"
            ],
            [
             0.7777777777777778,
             "#fb9f3a"
            ],
            [
             0.8888888888888888,
             "#fdca26"
            ],
            [
             1,
             "#f0f921"
            ]
           ],
           "sequentialminus": [
            [
             0,
             "#0d0887"
            ],
            [
             0.1111111111111111,
             "#46039f"
            ],
            [
             0.2222222222222222,
             "#7201a8"
            ],
            [
             0.3333333333333333,
             "#9c179e"
            ],
            [
             0.4444444444444444,
             "#bd3786"
            ],
            [
             0.5555555555555556,
             "#d8576b"
            ],
            [
             0.6666666666666666,
             "#ed7953"
            ],
            [
             0.7777777777777778,
             "#fb9f3a"
            ],
            [
             0.8888888888888888,
             "#fdca26"
            ],
            [
             1,
             "#f0f921"
            ]
           ]
          },
          "colorway": [
           "#636efa",
           "#EF553B",
           "#00cc96",
           "#ab63fa",
           "#FFA15A",
           "#19d3f3",
           "#FF6692",
           "#B6E880",
           "#FF97FF",
           "#FECB52"
          ],
          "font": {
           "color": "#2a3f5f"
          },
          "geo": {
           "bgcolor": "white",
           "lakecolor": "white",
           "landcolor": "#E5ECF6",
           "showlakes": true,
           "showland": true,
           "subunitcolor": "white"
          },
          "hoverlabel": {
           "align": "left"
          },
          "hovermode": "closest",
          "mapbox": {
           "style": "light"
          },
          "paper_bgcolor": "white",
          "plot_bgcolor": "#E5ECF6",
          "polar": {
           "angularaxis": {
            "gridcolor": "white",
            "linecolor": "white",
            "ticks": ""
           },
           "bgcolor": "#E5ECF6",
           "radialaxis": {
            "gridcolor": "white",
            "linecolor": "white",
            "ticks": ""
           }
          },
          "scene": {
           "xaxis": {
            "backgroundcolor": "#E5ECF6",
            "gridcolor": "white",
            "gridwidth": 2,
            "linecolor": "white",
            "showbackground": true,
            "ticks": "",
            "zerolinecolor": "white"
           },
           "yaxis": {
            "backgroundcolor": "#E5ECF6",
            "gridcolor": "white",
            "gridwidth": 2,
            "linecolor": "white",
            "showbackground": true,
            "ticks": "",
            "zerolinecolor": "white"
           },
           "zaxis": {
            "backgroundcolor": "#E5ECF6",
            "gridcolor": "white",
            "gridwidth": 2,
            "linecolor": "white",
            "showbackground": true,
            "ticks": "",
            "zerolinecolor": "white"
           }
          },
          "shapedefaults": {
           "line": {
            "color": "#2a3f5f"
           }
          },
          "ternary": {
           "aaxis": {
            "gridcolor": "white",
            "linecolor": "white",
            "ticks": ""
           },
           "baxis": {
            "gridcolor": "white",
            "linecolor": "white",
            "ticks": ""
           },
           "bgcolor": "#E5ECF6",
           "caxis": {
            "gridcolor": "white",
            "linecolor": "white",
            "ticks": ""
           }
          },
          "title": {
           "x": 0.05
          },
          "xaxis": {
           "automargin": true,
           "gridcolor": "white",
           "linecolor": "white",
           "ticks": "",
           "title": {
            "standoff": 15
           },
           "zerolinecolor": "white",
           "zerolinewidth": 2
          },
          "yaxis": {
           "automargin": true,
           "gridcolor": "white",
           "linecolor": "white",
           "ticks": "",
           "title": {
            "standoff": 15
           },
           "zerolinecolor": "white",
           "zerolinewidth": 2
          }
         }
        },
        "title": {
         "text": "Importance per Circuit"
        },
        "xaxis": {
         "anchor": "y",
         "domain": [
          0,
          1
         ],
         "title": {
          "text": "Circuit ID"
         }
        },
        "yaxis": {
         "anchor": "x",
         "domain": [
          0,
          1
         ],
         "title": {
          "text": "Importance"
         }
        }
       }
      }
     },
     "metadata": {},
     "output_type": "display_data"
    },
    {
     "data": {
      "application/vnd.plotly.v1+json": {
       "config": {
        "plotlyServerURL": "https://plot.ly"
       },
       "data": [
        {
         "alignmentgroup": "True",
         "hovertemplate": "Thermoelectric ID=Th0<br>Circuit ID=%{x}<br>Demand per Hour=%{y}<extra></extra>",
         "legendgroup": "Th0",
         "marker": {
          "color": "#636EFA",
          "pattern": {
           "shape": ""
          }
         },
         "name": "Th0",
         "offsetgroup": "Th0",
         "orientation": "v",
         "showlegend": true,
         "textposition": "auto",
         "type": "bar",
         "x": [
          "C5",
          "C6",
          "C10",
          "C14",
          "C31",
          "C46"
         ],
         "xaxis": "x",
         "y": [
          5422.364509284042,
          2501.5873530258814,
          2104.3422502975945,
          4358.319301014782,
          3110.0388934152124,
          965.9432036297728
         ],
         "yaxis": "y"
        },
        {
         "alignmentgroup": "True",
         "hovertemplate": "Thermoelectric ID=Th1<br>Circuit ID=%{x}<br>Demand per Hour=%{y}<extra></extra>",
         "legendgroup": "Th1",
         "marker": {
          "color": "#EF553B",
          "pattern": {
           "shape": ""
          }
         },
         "name": "Th1",
         "offsetgroup": "Th1",
         "orientation": "v",
         "showlegend": true,
         "textposition": "auto",
         "type": "bar",
         "x": [
          "C20",
          "C33",
          "C36",
          "C49"
         ],
         "xaxis": "x",
         "y": [
          1005.9087870677391,
          3646.397701790422,
          2834.7368468937893,
          2270.4438093342815
         ],
         "yaxis": "y"
        },
        {
         "alignmentgroup": "True",
         "hovertemplate": "Thermoelectric ID=Th2<br>Circuit ID=%{x}<br>Demand per Hour=%{y}<extra></extra>",
         "legendgroup": "Th2",
         "marker": {
          "color": "#00CC96",
          "pattern": {
           "shape": ""
          }
         },
         "name": "Th2",
         "offsetgroup": "Th2",
         "orientation": "v",
         "showlegend": true,
         "textposition": "auto",
         "type": "bar",
         "x": [
          "C0",
          "C11",
          "C17",
          "C18",
          "C19",
          "C32",
          "C35",
          "C37",
          "C40"
         ],
         "xaxis": "x",
         "y": [
          760.3121044280048,
          1760.3829617315948,
          2488.3599567619317,
          1083.149764281785,
          2413.0952538438983,
          2386.69908329221,
          1551.6346500563182,
          1059.6277800617404,
          1635.4712343448487
         ],
         "yaxis": "y"
        },
        {
         "alignmentgroup": "True",
         "hovertemplate": "Thermoelectric ID=Th3<br>Circuit ID=%{x}<br>Demand per Hour=%{y}<extra></extra>",
         "legendgroup": "Th3",
         "marker": {
          "color": "#AB63FA",
          "pattern": {
           "shape": ""
          }
         },
         "name": "Th3",
         "offsetgroup": "Th3",
         "orientation": "v",
         "showlegend": true,
         "textposition": "auto",
         "type": "bar",
         "x": [
          "C3",
          "C4",
          "C7",
          "C12",
          "C15",
          "C21",
          "C24"
         ],
         "xaxis": "x",
         "y": [
          810.612555379085,
          3094.1224371214475,
          997.1881828906976,
          2362.935306039989,
          1159.0045219645824,
          2328.811501950263,
          3523.413122451477
         ],
         "yaxis": "y"
        },
        {
         "alignmentgroup": "True",
         "hovertemplate": "Thermoelectric ID=Th4<br>Circuit ID=%{x}<br>Demand per Hour=%{y}<extra></extra>",
         "legendgroup": "Th4",
         "marker": {
          "color": "#FFA15A",
          "pattern": {
           "shape": ""
          }
         },
         "name": "Th4",
         "offsetgroup": "Th4",
         "orientation": "v",
         "showlegend": true,
         "textposition": "auto",
         "type": "bar",
         "x": [
          "C25",
          "C34",
          "C38",
          "C39",
          "C45"
         ],
         "xaxis": "x",
         "y": [
          1487.2213721558549,
          1813.587511088946,
          685.7448994070876,
          779.5417237046308,
          966.7603317106808
         ],
         "yaxis": "y"
        },
        {
         "alignmentgroup": "True",
         "hovertemplate": "Thermoelectric ID=Th5<br>Circuit ID=%{x}<br>Demand per Hour=%{y}<extra></extra>",
         "legendgroup": "Th5",
         "marker": {
          "color": "#19D3F3",
          "pattern": {
           "shape": ""
          }
         },
         "name": "Th5",
         "offsetgroup": "Th5",
         "orientation": "v",
         "showlegend": true,
         "textposition": "auto",
         "type": "bar",
         "x": [
          "C13",
          "C22",
          "C28",
          "C29",
          "C41",
          "C43",
          "C44",
          "C47"
         ],
         "xaxis": "x",
         "y": [
          978.1733861660817,
          4801.370139615055,
          721.3612600244293,
          4731.451718873091,
          2336.644463462287,
          662.865679778918,
          890.5476622605578,
          1377.0101765531688
         ],
         "yaxis": "y"
        },
        {
         "alignmentgroup": "True",
         "hovertemplate": "Thermoelectric ID=Th6<br>Circuit ID=%{x}<br>Demand per Hour=%{y}<extra></extra>",
         "legendgroup": "Th6",
         "marker": {
          "color": "#FF6692",
          "pattern": {
           "shape": ""
          }
         },
         "name": "Th6",
         "offsetgroup": "Th6",
         "orientation": "v",
         "showlegend": true,
         "textposition": "auto",
         "type": "bar",
         "x": [
          "C1",
          "C2",
          "C9",
          "C23",
          "C26",
          "C27",
          "C30"
         ],
         "xaxis": "x",
         "y": [
          1182.9994159512003,
          4761.497121886092,
          2419.7190593997702,
          859.9222677243417,
          2343.213717512506,
          1022.1772979579556,
          2512.4642484914007
         ],
         "yaxis": "y"
        },
        {
         "alignmentgroup": "True",
         "hovertemplate": "Thermoelectric ID=Th7<br>Circuit ID=%{x}<br>Demand per Hour=%{y}<extra></extra>",
         "legendgroup": "Th7",
         "marker": {
          "color": "#B6E880",
          "pattern": {
           "shape": ""
          }
         },
         "name": "Th7",
         "offsetgroup": "Th7",
         "orientation": "v",
         "showlegend": true,
         "textposition": "auto",
         "type": "bar",
         "x": [
          "C8",
          "C16",
          "C42",
          "C48"
         ],
         "xaxis": "x",
         "y": [
          615.6200772721983,
          927.9538144014009,
          1201.0713995678134,
          2339.5152554724646
         ],
         "yaxis": "y"
        }
       ],
       "layout": {
        "barmode": "relative",
        "height": 800,
        "legend": {
         "title": {
          "text": "Thermoelectric ID"
         },
         "tracegroupgap": 0
        },
        "template": {
         "data": {
          "bar": [
           {
            "error_x": {
             "color": "#2a3f5f"
            },
            "error_y": {
             "color": "#2a3f5f"
            },
            "marker": {
             "line": {
              "color": "#E5ECF6",
              "width": 0.5
             },
             "pattern": {
              "fillmode": "overlay",
              "size": 10,
              "solidity": 0.2
             }
            },
            "type": "bar"
           }
          ],
          "barpolar": [
           {
            "marker": {
             "line": {
              "color": "#E5ECF6",
              "width": 0.5
             },
             "pattern": {
              "fillmode": "overlay",
              "size": 10,
              "solidity": 0.2
             }
            },
            "type": "barpolar"
           }
          ],
          "carpet": [
           {
            "aaxis": {
             "endlinecolor": "#2a3f5f",
             "gridcolor": "white",
             "linecolor": "white",
             "minorgridcolor": "white",
             "startlinecolor": "#2a3f5f"
            },
            "baxis": {
             "endlinecolor": "#2a3f5f",
             "gridcolor": "white",
             "linecolor": "white",
             "minorgridcolor": "white",
             "startlinecolor": "#2a3f5f"
            },
            "type": "carpet"
           }
          ],
          "choropleth": [
           {
            "colorbar": {
             "outlinewidth": 0,
             "ticks": ""
            },
            "type": "choropleth"
           }
          ],
          "contour": [
           {
            "colorbar": {
             "outlinewidth": 0,
             "ticks": ""
            },
            "colorscale": [
             [
              0,
              "#0d0887"
             ],
             [
              0.1111111111111111,
              "#46039f"
             ],
             [
              0.2222222222222222,
              "#7201a8"
             ],
             [
              0.3333333333333333,
              "#9c179e"
             ],
             [
              0.4444444444444444,
              "#bd3786"
             ],
             [
              0.5555555555555556,
              "#d8576b"
             ],
             [
              0.6666666666666666,
              "#ed7953"
             ],
             [
              0.7777777777777778,
              "#fb9f3a"
             ],
             [
              0.8888888888888888,
              "#fdca26"
             ],
             [
              1,
              "#f0f921"
             ]
            ],
            "type": "contour"
           }
          ],
          "contourcarpet": [
           {
            "colorbar": {
             "outlinewidth": 0,
             "ticks": ""
            },
            "type": "contourcarpet"
           }
          ],
          "heatmap": [
           {
            "colorbar": {
             "outlinewidth": 0,
             "ticks": ""
            },
            "colorscale": [
             [
              0,
              "#0d0887"
             ],
             [
              0.1111111111111111,
              "#46039f"
             ],
             [
              0.2222222222222222,
              "#7201a8"
             ],
             [
              0.3333333333333333,
              "#9c179e"
             ],
             [
              0.4444444444444444,
              "#bd3786"
             ],
             [
              0.5555555555555556,
              "#d8576b"
             ],
             [
              0.6666666666666666,
              "#ed7953"
             ],
             [
              0.7777777777777778,
              "#fb9f3a"
             ],
             [
              0.8888888888888888,
              "#fdca26"
             ],
             [
              1,
              "#f0f921"
             ]
            ],
            "type": "heatmap"
           }
          ],
          "heatmapgl": [
           {
            "colorbar": {
             "outlinewidth": 0,
             "ticks": ""
            },
            "colorscale": [
             [
              0,
              "#0d0887"
             ],
             [
              0.1111111111111111,
              "#46039f"
             ],
             [
              0.2222222222222222,
              "#7201a8"
             ],
             [
              0.3333333333333333,
              "#9c179e"
             ],
             [
              0.4444444444444444,
              "#bd3786"
             ],
             [
              0.5555555555555556,
              "#d8576b"
             ],
             [
              0.6666666666666666,
              "#ed7953"
             ],
             [
              0.7777777777777778,
              "#fb9f3a"
             ],
             [
              0.8888888888888888,
              "#fdca26"
             ],
             [
              1,
              "#f0f921"
             ]
            ],
            "type": "heatmapgl"
           }
          ],
          "histogram": [
           {
            "marker": {
             "pattern": {
              "fillmode": "overlay",
              "size": 10,
              "solidity": 0.2
             }
            },
            "type": "histogram"
           }
          ],
          "histogram2d": [
           {
            "colorbar": {
             "outlinewidth": 0,
             "ticks": ""
            },
            "colorscale": [
             [
              0,
              "#0d0887"
             ],
             [
              0.1111111111111111,
              "#46039f"
             ],
             [
              0.2222222222222222,
              "#7201a8"
             ],
             [
              0.3333333333333333,
              "#9c179e"
             ],
             [
              0.4444444444444444,
              "#bd3786"
             ],
             [
              0.5555555555555556,
              "#d8576b"
             ],
             [
              0.6666666666666666,
              "#ed7953"
             ],
             [
              0.7777777777777778,
              "#fb9f3a"
             ],
             [
              0.8888888888888888,
              "#fdca26"
             ],
             [
              1,
              "#f0f921"
             ]
            ],
            "type": "histogram2d"
           }
          ],
          "histogram2dcontour": [
           {
            "colorbar": {
             "outlinewidth": 0,
             "ticks": ""
            },
            "colorscale": [
             [
              0,
              "#0d0887"
             ],
             [
              0.1111111111111111,
              "#46039f"
             ],
             [
              0.2222222222222222,
              "#7201a8"
             ],
             [
              0.3333333333333333,
              "#9c179e"
             ],
             [
              0.4444444444444444,
              "#bd3786"
             ],
             [
              0.5555555555555556,
              "#d8576b"
             ],
             [
              0.6666666666666666,
              "#ed7953"
             ],
             [
              0.7777777777777778,
              "#fb9f3a"
             ],
             [
              0.8888888888888888,
              "#fdca26"
             ],
             [
              1,
              "#f0f921"
             ]
            ],
            "type": "histogram2dcontour"
           }
          ],
          "mesh3d": [
           {
            "colorbar": {
             "outlinewidth": 0,
             "ticks": ""
            },
            "type": "mesh3d"
           }
          ],
          "parcoords": [
           {
            "line": {
             "colorbar": {
              "outlinewidth": 0,
              "ticks": ""
             }
            },
            "type": "parcoords"
           }
          ],
          "pie": [
           {
            "automargin": true,
            "type": "pie"
           }
          ],
          "scatter": [
           {
            "fillpattern": {
             "fillmode": "overlay",
             "size": 10,
             "solidity": 0.2
            },
            "type": "scatter"
           }
          ],
          "scatter3d": [
           {
            "line": {
             "colorbar": {
              "outlinewidth": 0,
              "ticks": ""
             }
            },
            "marker": {
             "colorbar": {
              "outlinewidth": 0,
              "ticks": ""
             }
            },
            "type": "scatter3d"
           }
          ],
          "scattercarpet": [
           {
            "marker": {
             "colorbar": {
              "outlinewidth": 0,
              "ticks": ""
             }
            },
            "type": "scattercarpet"
           }
          ],
          "scattergeo": [
           {
            "marker": {
             "colorbar": {
              "outlinewidth": 0,
              "ticks": ""
             }
            },
            "type": "scattergeo"
           }
          ],
          "scattergl": [
           {
            "marker": {
             "colorbar": {
              "outlinewidth": 0,
              "ticks": ""
             }
            },
            "type": "scattergl"
           }
          ],
          "scattermapbox": [
           {
            "marker": {
             "colorbar": {
              "outlinewidth": 0,
              "ticks": ""
             }
            },
            "type": "scattermapbox"
           }
          ],
          "scatterpolar": [
           {
            "marker": {
             "colorbar": {
              "outlinewidth": 0,
              "ticks": ""
             }
            },
            "type": "scatterpolar"
           }
          ],
          "scatterpolargl": [
           {
            "marker": {
             "colorbar": {
              "outlinewidth": 0,
              "ticks": ""
             }
            },
            "type": "scatterpolargl"
           }
          ],
          "scatterternary": [
           {
            "marker": {
             "colorbar": {
              "outlinewidth": 0,
              "ticks": ""
             }
            },
            "type": "scatterternary"
           }
          ],
          "surface": [
           {
            "colorbar": {
             "outlinewidth": 0,
             "ticks": ""
            },
            "colorscale": [
             [
              0,
              "#0d0887"
             ],
             [
              0.1111111111111111,
              "#46039f"
             ],
             [
              0.2222222222222222,
              "#7201a8"
             ],
             [
              0.3333333333333333,
              "#9c179e"
             ],
             [
              0.4444444444444444,
              "#bd3786"
             ],
             [
              0.5555555555555556,
              "#d8576b"
             ],
             [
              0.6666666666666666,
              "#ed7953"
             ],
             [
              0.7777777777777778,
              "#fb9f3a"
             ],
             [
              0.8888888888888888,
              "#fdca26"
             ],
             [
              1,
              "#f0f921"
             ]
            ],
            "type": "surface"
           }
          ],
          "table": [
           {
            "cells": {
             "fill": {
              "color": "#EBF0F8"
             },
             "line": {
              "color": "white"
             }
            },
            "header": {
             "fill": {
              "color": "#C8D4E3"
             },
             "line": {
              "color": "white"
             }
            },
            "type": "table"
           }
          ]
         },
         "layout": {
          "annotationdefaults": {
           "arrowcolor": "#2a3f5f",
           "arrowhead": 0,
           "arrowwidth": 1
          },
          "autotypenumbers": "strict",
          "coloraxis": {
           "colorbar": {
            "outlinewidth": 0,
            "ticks": ""
           }
          },
          "colorscale": {
           "diverging": [
            [
             0,
             "#8e0152"
            ],
            [
             0.1,
             "#c51b7d"
            ],
            [
             0.2,
             "#de77ae"
            ],
            [
             0.3,
             "#f1b6da"
            ],
            [
             0.4,
             "#fde0ef"
            ],
            [
             0.5,
             "#f7f7f7"
            ],
            [
             0.6,
             "#e6f5d0"
            ],
            [
             0.7,
             "#b8e186"
            ],
            [
             0.8,
             "#7fbc41"
            ],
            [
             0.9,
             "#4d9221"
            ],
            [
             1,
             "#276419"
            ]
           ],
           "sequential": [
            [
             0,
             "#0d0887"
            ],
            [
             0.1111111111111111,
             "#46039f"
            ],
            [
             0.2222222222222222,
             "#7201a8"
            ],
            [
             0.3333333333333333,
             "#9c179e"
            ],
            [
             0.4444444444444444,
             "#bd3786"
            ],
            [
             0.5555555555555556,
             "#d8576b"
            ],
            [
             0.6666666666666666,
             "#ed7953"
            ],
            [
             0.7777777777777778,
             "#fb9f3a"
            ],
            [
             0.8888888888888888,
             "#fdca26"
            ],
            [
             1,
             "#f0f921"
            ]
           ],
           "sequentialminus": [
            [
             0,
             "#0d0887"
            ],
            [
             0.1111111111111111,
             "#46039f"
            ],
            [
             0.2222222222222222,
             "#7201a8"
            ],
            [
             0.3333333333333333,
             "#9c179e"
            ],
            [
             0.4444444444444444,
             "#bd3786"
            ],
            [
             0.5555555555555556,
             "#d8576b"
            ],
            [
             0.6666666666666666,
             "#ed7953"
            ],
            [
             0.7777777777777778,
             "#fb9f3a"
            ],
            [
             0.8888888888888888,
             "#fdca26"
            ],
            [
             1,
             "#f0f921"
            ]
           ]
          },
          "colorway": [
           "#636efa",
           "#EF553B",
           "#00cc96",
           "#ab63fa",
           "#FFA15A",
           "#19d3f3",
           "#FF6692",
           "#B6E880",
           "#FF97FF",
           "#FECB52"
          ],
          "font": {
           "color": "#2a3f5f"
          },
          "geo": {
           "bgcolor": "white",
           "lakecolor": "white",
           "landcolor": "#E5ECF6",
           "showlakes": true,
           "showland": true,
           "subunitcolor": "white"
          },
          "hoverlabel": {
           "align": "left"
          },
          "hovermode": "closest",
          "mapbox": {
           "style": "light"
          },
          "paper_bgcolor": "white",
          "plot_bgcolor": "#E5ECF6",
          "polar": {
           "angularaxis": {
            "gridcolor": "white",
            "linecolor": "white",
            "ticks": ""
           },
           "bgcolor": "#E5ECF6",
           "radialaxis": {
            "gridcolor": "white",
            "linecolor": "white",
            "ticks": ""
           }
          },
          "scene": {
           "xaxis": {
            "backgroundcolor": "#E5ECF6",
            "gridcolor": "white",
            "gridwidth": 2,
            "linecolor": "white",
            "showbackground": true,
            "ticks": "",
            "zerolinecolor": "white"
           },
           "yaxis": {
            "backgroundcolor": "#E5ECF6",
            "gridcolor": "white",
            "gridwidth": 2,
            "linecolor": "white",
            "showbackground": true,
            "ticks": "",
            "zerolinecolor": "white"
           },
           "zaxis": {
            "backgroundcolor": "#E5ECF6",
            "gridcolor": "white",
            "gridwidth": 2,
            "linecolor": "white",
            "showbackground": true,
            "ticks": "",
            "zerolinecolor": "white"
           }
          },
          "shapedefaults": {
           "line": {
            "color": "#2a3f5f"
           }
          },
          "ternary": {
           "aaxis": {
            "gridcolor": "white",
            "linecolor": "white",
            "ticks": ""
           },
           "baxis": {
            "gridcolor": "white",
            "linecolor": "white",
            "ticks": ""
           },
           "bgcolor": "#E5ECF6",
           "caxis": {
            "gridcolor": "white",
            "linecolor": "white",
            "ticks": ""
           }
          },
          "title": {
           "x": 0.05
          },
          "xaxis": {
           "automargin": true,
           "gridcolor": "white",
           "linecolor": "white",
           "ticks": "",
           "title": {
            "standoff": 15
           },
           "zerolinecolor": "white",
           "zerolinewidth": 2
          },
          "yaxis": {
           "automargin": true,
           "gridcolor": "white",
           "linecolor": "white",
           "ticks": "",
           "title": {
            "standoff": 15
           },
           "zerolinecolor": "white",
           "zerolinewidth": 2
          }
         }
        },
        "title": {
         "text": "Total Demand per Circuit in a Day"
        },
        "xaxis": {
         "anchor": "y",
         "domain": [
          0,
          1
         ],
         "title": {
          "text": "Circuit ID"
         }
        },
        "yaxis": {
         "anchor": "x",
         "domain": [
          0,
          1
         ],
         "title": {
          "text": "Demand per Hour"
         }
        }
       }
      }
     },
     "metadata": {},
     "output_type": "display_data"
    }
   ],
   "source": [
    "# Compare data from circuits\n",
    "\n",
    "citizens = []\n",
    "importance = []\n",
    "demand_per_hour = []\n",
    "\n",
    "for circuit in sorted_electric_system_circuit_list:\n",
    "    \n",
    "    importance.append(circuit.importance)\n",
    "    demand_per_hour.append(\n",
    "        sum([sum(block.predicted_demand_per_hour) for block in circuit.blocks])\n",
    "    )\n",
    "\n",
    "# Separate for properties\n",
    "citizens = [\n",
    "    sum(block.citizens.amount for block in circuit.blocks)\n",
    "    for circuit in electric_system_circuits_list\n",
    "]\n",
    "\n",
    "circuit_comparison_df = pd.DataFrame(\n",
    "    {   \"Circuit ID\": [c.id for c in sorted_electric_system_circuit_list], \n",
    "        \"Citizens\": citizens,\n",
    "        \"Importance\": importance,\n",
    "        \"Demand per Hour\": demand_per_hour,\n",
    "    }\n",
    ")\n",
    "\n",
    "fig_citizens = px.bar(\n",
    "    circuit_comparison_df,\n",
    "    x=\"Circuit ID\",\n",
    "    y=\"Citizens\",\n",
    "    title=\"Total Citizens per Circuit\",\n",
    "    height=800,\n",
    "    color=colors,\n",
    "    color_discrete_sequence=px.colors.qualitative.Plotly,\n",
    "    labels={\"color\": \"Thermoelectric ID\"},\n",
    ")\n",
    "\n",
    "fig_importance = px.bar(\n",
    "    circuit_comparison_df,\n",
    "    x=\"Circuit ID\",\n",
    "    y=\"Importance\",\n",
    "    title=\"Importance per Circuit\",\n",
    "    height=800,\n",
    "    color=colors,\n",
    "    color_discrete_sequence=px.colors.qualitative.Plotly,\n",
    "    labels={\"color\": \"Thermoelectric ID\"},\n",
    ")\n",
    "\n",
    "fig_demand_per_hour = px.bar(\n",
    "    circuit_comparison_df,\n",
    "    x=\"Circuit ID\",\n",
    "    y=\"Demand per Hour\",\n",
    "    title=\"Total Demand per Circuit in a Day\",\n",
    "    height=800,\n",
    "    color=colors,\n",
    "    color_discrete_sequence=px.colors.qualitative.Plotly,\n",
    "    labels={\"color\": \"Thermoelectric ID\"},\n",
    ")\n",
    "\n",
    "fig_citizens.show()\n",
    "fig_importance.show()\n",
    "fig_demand_per_hour.show()"
   ]
  },
  {
   "cell_type": "code",
   "execution_count": 11,
   "metadata": {},
   "outputs": [
    {
     "data": {
      "application/vnd.plotly.v1+json": {
       "config": {
        "plotlyServerURL": "https://plot.ly"
       },
       "data": [
        {
         "hovertemplate": "Block ID=Block 1<br>Hour=%{x}<br>Demand (kWh)=%{y}<extra></extra>",
         "legendgroup": "Block 1",
         "line": {
          "color": "#636efa",
          "dash": "solid"
         },
         "marker": {
          "symbol": "circle"
         },
         "mode": "lines",
         "name": "Block 1",
         "orientation": "v",
         "showlegend": true,
         "type": "scatter",
         "x": [
          0,
          1,
          2,
          3,
          4,
          5,
          6,
          7,
          8,
          9,
          10,
          11,
          12,
          13,
          14,
          15,
          16,
          17,
          18,
          19,
          20,
          21,
          22,
          23
         ],
         "xaxis": "x",
         "y": [
          26.24762934300616,
          26.55628435997925,
          29.820415257710625,
          26.508124103497035,
          24.733444306199775,
          28.472163333956484,
          32.23616328424961,
          38.63656945091693,
          34.02176997084592,
          25.730146655796794,
          27.056677526318616,
          28.005545939660593,
          25.740094458954278,
          24.104247223105553,
          26.52439464073562,
          30.089312333462885,
          37.0012302484927,
          37.942583809416845,
          43.330357585033255,
          44.178783176320216,
          42.99941685292255,
          37.862728912507855,
          32.518704769074866,
          29.99531688584062
         ],
         "yaxis": "y"
        }
       ],
       "layout": {
        "legend": {
         "title": {
          "text": "Block ID"
         },
         "tracegroupgap": 0
        },
        "template": {
         "data": {
          "bar": [
           {
            "error_x": {
             "color": "#2a3f5f"
            },
            "error_y": {
             "color": "#2a3f5f"
            },
            "marker": {
             "line": {
              "color": "#E5ECF6",
              "width": 0.5
             },
             "pattern": {
              "fillmode": "overlay",
              "size": 10,
              "solidity": 0.2
             }
            },
            "type": "bar"
           }
          ],
          "barpolar": [
           {
            "marker": {
             "line": {
              "color": "#E5ECF6",
              "width": 0.5
             },
             "pattern": {
              "fillmode": "overlay",
              "size": 10,
              "solidity": 0.2
             }
            },
            "type": "barpolar"
           }
          ],
          "carpet": [
           {
            "aaxis": {
             "endlinecolor": "#2a3f5f",
             "gridcolor": "white",
             "linecolor": "white",
             "minorgridcolor": "white",
             "startlinecolor": "#2a3f5f"
            },
            "baxis": {
             "endlinecolor": "#2a3f5f",
             "gridcolor": "white",
             "linecolor": "white",
             "minorgridcolor": "white",
             "startlinecolor": "#2a3f5f"
            },
            "type": "carpet"
           }
          ],
          "choropleth": [
           {
            "colorbar": {
             "outlinewidth": 0,
             "ticks": ""
            },
            "type": "choropleth"
           }
          ],
          "contour": [
           {
            "colorbar": {
             "outlinewidth": 0,
             "ticks": ""
            },
            "colorscale": [
             [
              0,
              "#0d0887"
             ],
             [
              0.1111111111111111,
              "#46039f"
             ],
             [
              0.2222222222222222,
              "#7201a8"
             ],
             [
              0.3333333333333333,
              "#9c179e"
             ],
             [
              0.4444444444444444,
              "#bd3786"
             ],
             [
              0.5555555555555556,
              "#d8576b"
             ],
             [
              0.6666666666666666,
              "#ed7953"
             ],
             [
              0.7777777777777778,
              "#fb9f3a"
             ],
             [
              0.8888888888888888,
              "#fdca26"
             ],
             [
              1,
              "#f0f921"
             ]
            ],
            "type": "contour"
           }
          ],
          "contourcarpet": [
           {
            "colorbar": {
             "outlinewidth": 0,
             "ticks": ""
            },
            "type": "contourcarpet"
           }
          ],
          "heatmap": [
           {
            "colorbar": {
             "outlinewidth": 0,
             "ticks": ""
            },
            "colorscale": [
             [
              0,
              "#0d0887"
             ],
             [
              0.1111111111111111,
              "#46039f"
             ],
             [
              0.2222222222222222,
              "#7201a8"
             ],
             [
              0.3333333333333333,
              "#9c179e"
             ],
             [
              0.4444444444444444,
              "#bd3786"
             ],
             [
              0.5555555555555556,
              "#d8576b"
             ],
             [
              0.6666666666666666,
              "#ed7953"
             ],
             [
              0.7777777777777778,
              "#fb9f3a"
             ],
             [
              0.8888888888888888,
              "#fdca26"
             ],
             [
              1,
              "#f0f921"
             ]
            ],
            "type": "heatmap"
           }
          ],
          "heatmapgl": [
           {
            "colorbar": {
             "outlinewidth": 0,
             "ticks": ""
            },
            "colorscale": [
             [
              0,
              "#0d0887"
             ],
             [
              0.1111111111111111,
              "#46039f"
             ],
             [
              0.2222222222222222,
              "#7201a8"
             ],
             [
              0.3333333333333333,
              "#9c179e"
             ],
             [
              0.4444444444444444,
              "#bd3786"
             ],
             [
              0.5555555555555556,
              "#d8576b"
             ],
             [
              0.6666666666666666,
              "#ed7953"
             ],
             [
              0.7777777777777778,
              "#fb9f3a"
             ],
             [
              0.8888888888888888,
              "#fdca26"
             ],
             [
              1,
              "#f0f921"
             ]
            ],
            "type": "heatmapgl"
           }
          ],
          "histogram": [
           {
            "marker": {
             "pattern": {
              "fillmode": "overlay",
              "size": 10,
              "solidity": 0.2
             }
            },
            "type": "histogram"
           }
          ],
          "histogram2d": [
           {
            "colorbar": {
             "outlinewidth": 0,
             "ticks": ""
            },
            "colorscale": [
             [
              0,
              "#0d0887"
             ],
             [
              0.1111111111111111,
              "#46039f"
             ],
             [
              0.2222222222222222,
              "#7201a8"
             ],
             [
              0.3333333333333333,
              "#9c179e"
             ],
             [
              0.4444444444444444,
              "#bd3786"
             ],
             [
              0.5555555555555556,
              "#d8576b"
             ],
             [
              0.6666666666666666,
              "#ed7953"
             ],
             [
              0.7777777777777778,
              "#fb9f3a"
             ],
             [
              0.8888888888888888,
              "#fdca26"
             ],
             [
              1,
              "#f0f921"
             ]
            ],
            "type": "histogram2d"
           }
          ],
          "histogram2dcontour": [
           {
            "colorbar": {
             "outlinewidth": 0,
             "ticks": ""
            },
            "colorscale": [
             [
              0,
              "#0d0887"
             ],
             [
              0.1111111111111111,
              "#46039f"
             ],
             [
              0.2222222222222222,
              "#7201a8"
             ],
             [
              0.3333333333333333,
              "#9c179e"
             ],
             [
              0.4444444444444444,
              "#bd3786"
             ],
             [
              0.5555555555555556,
              "#d8576b"
             ],
             [
              0.6666666666666666,
              "#ed7953"
             ],
             [
              0.7777777777777778,
              "#fb9f3a"
             ],
             [
              0.8888888888888888,
              "#fdca26"
             ],
             [
              1,
              "#f0f921"
             ]
            ],
            "type": "histogram2dcontour"
           }
          ],
          "mesh3d": [
           {
            "colorbar": {
             "outlinewidth": 0,
             "ticks": ""
            },
            "type": "mesh3d"
           }
          ],
          "parcoords": [
           {
            "line": {
             "colorbar": {
              "outlinewidth": 0,
              "ticks": ""
             }
            },
            "type": "parcoords"
           }
          ],
          "pie": [
           {
            "automargin": true,
            "type": "pie"
           }
          ],
          "scatter": [
           {
            "fillpattern": {
             "fillmode": "overlay",
             "size": 10,
             "solidity": 0.2
            },
            "type": "scatter"
           }
          ],
          "scatter3d": [
           {
            "line": {
             "colorbar": {
              "outlinewidth": 0,
              "ticks": ""
             }
            },
            "marker": {
             "colorbar": {
              "outlinewidth": 0,
              "ticks": ""
             }
            },
            "type": "scatter3d"
           }
          ],
          "scattercarpet": [
           {
            "marker": {
             "colorbar": {
              "outlinewidth": 0,
              "ticks": ""
             }
            },
            "type": "scattercarpet"
           }
          ],
          "scattergeo": [
           {
            "marker": {
             "colorbar": {
              "outlinewidth": 0,
              "ticks": ""
             }
            },
            "type": "scattergeo"
           }
          ],
          "scattergl": [
           {
            "marker": {
             "colorbar": {
              "outlinewidth": 0,
              "ticks": ""
             }
            },
            "type": "scattergl"
           }
          ],
          "scattermapbox": [
           {
            "marker": {
             "colorbar": {
              "outlinewidth": 0,
              "ticks": ""
             }
            },
            "type": "scattermapbox"
           }
          ],
          "scatterpolar": [
           {
            "marker": {
             "colorbar": {
              "outlinewidth": 0,
              "ticks": ""
             }
            },
            "type": "scatterpolar"
           }
          ],
          "scatterpolargl": [
           {
            "marker": {
             "colorbar": {
              "outlinewidth": 0,
              "ticks": ""
             }
            },
            "type": "scatterpolargl"
           }
          ],
          "scatterternary": [
           {
            "marker": {
             "colorbar": {
              "outlinewidth": 0,
              "ticks": ""
             }
            },
            "type": "scatterternary"
           }
          ],
          "surface": [
           {
            "colorbar": {
             "outlinewidth": 0,
             "ticks": ""
            },
            "colorscale": [
             [
              0,
              "#0d0887"
             ],
             [
              0.1111111111111111,
              "#46039f"
             ],
             [
              0.2222222222222222,
              "#7201a8"
             ],
             [
              0.3333333333333333,
              "#9c179e"
             ],
             [
              0.4444444444444444,
              "#bd3786"
             ],
             [
              0.5555555555555556,
              "#d8576b"
             ],
             [
              0.6666666666666666,
              "#ed7953"
             ],
             [
              0.7777777777777778,
              "#fb9f3a"
             ],
             [
              0.8888888888888888,
              "#fdca26"
             ],
             [
              1,
              "#f0f921"
             ]
            ],
            "type": "surface"
           }
          ],
          "table": [
           {
            "cells": {
             "fill": {
              "color": "#EBF0F8"
             },
             "line": {
              "color": "white"
             }
            },
            "header": {
             "fill": {
              "color": "#C8D4E3"
             },
             "line": {
              "color": "white"
             }
            },
            "type": "table"
           }
          ]
         },
         "layout": {
          "annotationdefaults": {
           "arrowcolor": "#2a3f5f",
           "arrowhead": 0,
           "arrowwidth": 1
          },
          "autotypenumbers": "strict",
          "coloraxis": {
           "colorbar": {
            "outlinewidth": 0,
            "ticks": ""
           }
          },
          "colorscale": {
           "diverging": [
            [
             0,
             "#8e0152"
            ],
            [
             0.1,
             "#c51b7d"
            ],
            [
             0.2,
             "#de77ae"
            ],
            [
             0.3,
             "#f1b6da"
            ],
            [
             0.4,
             "#fde0ef"
            ],
            [
             0.5,
             "#f7f7f7"
            ],
            [
             0.6,
             "#e6f5d0"
            ],
            [
             0.7,
             "#b8e186"
            ],
            [
             0.8,
             "#7fbc41"
            ],
            [
             0.9,
             "#4d9221"
            ],
            [
             1,
             "#276419"
            ]
           ],
           "sequential": [
            [
             0,
             "#0d0887"
            ],
            [
             0.1111111111111111,
             "#46039f"
            ],
            [
             0.2222222222222222,
             "#7201a8"
            ],
            [
             0.3333333333333333,
             "#9c179e"
            ],
            [
             0.4444444444444444,
             "#bd3786"
            ],
            [
             0.5555555555555556,
             "#d8576b"
            ],
            [
             0.6666666666666666,
             "#ed7953"
            ],
            [
             0.7777777777777778,
             "#fb9f3a"
            ],
            [
             0.8888888888888888,
             "#fdca26"
            ],
            [
             1,
             "#f0f921"
            ]
           ],
           "sequentialminus": [
            [
             0,
             "#0d0887"
            ],
            [
             0.1111111111111111,
             "#46039f"
            ],
            [
             0.2222222222222222,
             "#7201a8"
            ],
            [
             0.3333333333333333,
             "#9c179e"
            ],
            [
             0.4444444444444444,
             "#bd3786"
            ],
            [
             0.5555555555555556,
             "#d8576b"
            ],
            [
             0.6666666666666666,
             "#ed7953"
            ],
            [
             0.7777777777777778,
             "#fb9f3a"
            ],
            [
             0.8888888888888888,
             "#fdca26"
            ],
            [
             1,
             "#f0f921"
            ]
           ]
          },
          "colorway": [
           "#636efa",
           "#EF553B",
           "#00cc96",
           "#ab63fa",
           "#FFA15A",
           "#19d3f3",
           "#FF6692",
           "#B6E880",
           "#FF97FF",
           "#FECB52"
          ],
          "font": {
           "color": "#2a3f5f"
          },
          "geo": {
           "bgcolor": "white",
           "lakecolor": "white",
           "landcolor": "#E5ECF6",
           "showlakes": true,
           "showland": true,
           "subunitcolor": "white"
          },
          "hoverlabel": {
           "align": "left"
          },
          "hovermode": "closest",
          "mapbox": {
           "style": "light"
          },
          "paper_bgcolor": "white",
          "plot_bgcolor": "#E5ECF6",
          "polar": {
           "angularaxis": {
            "gridcolor": "white",
            "linecolor": "white",
            "ticks": ""
           },
           "bgcolor": "#E5ECF6",
           "radialaxis": {
            "gridcolor": "white",
            "linecolor": "white",
            "ticks": ""
           }
          },
          "scene": {
           "xaxis": {
            "backgroundcolor": "#E5ECF6",
            "gridcolor": "white",
            "gridwidth": 2,
            "linecolor": "white",
            "showbackground": true,
            "ticks": "",
            "zerolinecolor": "white"
           },
           "yaxis": {
            "backgroundcolor": "#E5ECF6",
            "gridcolor": "white",
            "gridwidth": 2,
            "linecolor": "white",
            "showbackground": true,
            "ticks": "",
            "zerolinecolor": "white"
           },
           "zaxis": {
            "backgroundcolor": "#E5ECF6",
            "gridcolor": "white",
            "gridwidth": 2,
            "linecolor": "white",
            "showbackground": true,
            "ticks": "",
            "zerolinecolor": "white"
           }
          },
          "shapedefaults": {
           "line": {
            "color": "#2a3f5f"
           }
          },
          "ternary": {
           "aaxis": {
            "gridcolor": "white",
            "linecolor": "white",
            "ticks": ""
           },
           "baxis": {
            "gridcolor": "white",
            "linecolor": "white",
            "ticks": ""
           },
           "bgcolor": "#E5ECF6",
           "caxis": {
            "gridcolor": "white",
            "linecolor": "white",
            "ticks": ""
           }
          },
          "title": {
           "x": 0.05
          },
          "xaxis": {
           "automargin": true,
           "gridcolor": "white",
           "linecolor": "white",
           "ticks": "",
           "title": {
            "standoff": 15
           },
           "zerolinecolor": "white",
           "zerolinewidth": 2
          },
          "yaxis": {
           "automargin": true,
           "gridcolor": "white",
           "linecolor": "white",
           "ticks": "",
           "title": {
            "standoff": 15
           },
           "zerolinecolor": "white",
           "zerolinewidth": 2
          }
         }
        },
        "title": {
         "text": "Hourly Demand per Block in Circuit C0"
        },
        "xaxis": {
         "anchor": "y",
         "domain": [
          0,
          1
         ],
         "title": {
          "text": "Hour"
         }
        },
        "yaxis": {
         "anchor": "x",
         "domain": [
          0,
          1
         ],
         "title": {
          "text": "Demand (kWh)"
         }
        }
       }
      }
     },
     "metadata": {},
     "output_type": "display_data"
    },
    {
     "data": {
      "application/vnd.plotly.v1+json": {
       "config": {
        "plotlyServerURL": "https://plot.ly"
       },
       "data": [
        {
         "hovertemplate": "Hour=%{x}<br>Demand (kWh)=%{y}<extra></extra>",
         "legendgroup": "",
         "line": {
          "color": "#636efa",
          "dash": "solid"
         },
         "marker": {
          "symbol": "circle"
         },
         "mode": "lines",
         "name": "",
         "orientation": "v",
         "showlegend": false,
         "type": "scatter",
         "x": [
          0,
          1,
          2,
          3,
          4,
          5,
          6,
          7,
          8,
          9,
          10,
          11,
          12,
          13,
          14,
          15,
          16,
          17,
          18,
          19,
          20,
          21,
          22,
          23
         ],
         "xaxis": "x",
         "y": [
          26.24762934300616,
          26.55628435997925,
          29.820415257710625,
          26.508124103497035,
          24.733444306199775,
          28.472163333956484,
          32.23616328424961,
          38.63656945091693,
          34.02176997084592,
          25.730146655796794,
          27.056677526318616,
          28.005545939660593,
          25.740094458954278,
          24.104247223105553,
          26.52439464073562,
          30.089312333462885,
          37.0012302484927,
          37.942583809416845,
          43.330357585033255,
          44.178783176320216,
          42.99941685292255,
          37.862728912507855,
          32.518704769074866,
          29.99531688584062
         ],
         "yaxis": "y"
        }
       ],
       "layout": {
        "legend": {
         "tracegroupgap": 0
        },
        "template": {
         "data": {
          "bar": [
           {
            "error_x": {
             "color": "#2a3f5f"
            },
            "error_y": {
             "color": "#2a3f5f"
            },
            "marker": {
             "line": {
              "color": "#E5ECF6",
              "width": 0.5
             },
             "pattern": {
              "fillmode": "overlay",
              "size": 10,
              "solidity": 0.2
             }
            },
            "type": "bar"
           }
          ],
          "barpolar": [
           {
            "marker": {
             "line": {
              "color": "#E5ECF6",
              "width": 0.5
             },
             "pattern": {
              "fillmode": "overlay",
              "size": 10,
              "solidity": 0.2
             }
            },
            "type": "barpolar"
           }
          ],
          "carpet": [
           {
            "aaxis": {
             "endlinecolor": "#2a3f5f",
             "gridcolor": "white",
             "linecolor": "white",
             "minorgridcolor": "white",
             "startlinecolor": "#2a3f5f"
            },
            "baxis": {
             "endlinecolor": "#2a3f5f",
             "gridcolor": "white",
             "linecolor": "white",
             "minorgridcolor": "white",
             "startlinecolor": "#2a3f5f"
            },
            "type": "carpet"
           }
          ],
          "choropleth": [
           {
            "colorbar": {
             "outlinewidth": 0,
             "ticks": ""
            },
            "type": "choropleth"
           }
          ],
          "contour": [
           {
            "colorbar": {
             "outlinewidth": 0,
             "ticks": ""
            },
            "colorscale": [
             [
              0,
              "#0d0887"
             ],
             [
              0.1111111111111111,
              "#46039f"
             ],
             [
              0.2222222222222222,
              "#7201a8"
             ],
             [
              0.3333333333333333,
              "#9c179e"
             ],
             [
              0.4444444444444444,
              "#bd3786"
             ],
             [
              0.5555555555555556,
              "#d8576b"
             ],
             [
              0.6666666666666666,
              "#ed7953"
             ],
             [
              0.7777777777777778,
              "#fb9f3a"
             ],
             [
              0.8888888888888888,
              "#fdca26"
             ],
             [
              1,
              "#f0f921"
             ]
            ],
            "type": "contour"
           }
          ],
          "contourcarpet": [
           {
            "colorbar": {
             "outlinewidth": 0,
             "ticks": ""
            },
            "type": "contourcarpet"
           }
          ],
          "heatmap": [
           {
            "colorbar": {
             "outlinewidth": 0,
             "ticks": ""
            },
            "colorscale": [
             [
              0,
              "#0d0887"
             ],
             [
              0.1111111111111111,
              "#46039f"
             ],
             [
              0.2222222222222222,
              "#7201a8"
             ],
             [
              0.3333333333333333,
              "#9c179e"
             ],
             [
              0.4444444444444444,
              "#bd3786"
             ],
             [
              0.5555555555555556,
              "#d8576b"
             ],
             [
              0.6666666666666666,
              "#ed7953"
             ],
             [
              0.7777777777777778,
              "#fb9f3a"
             ],
             [
              0.8888888888888888,
              "#fdca26"
             ],
             [
              1,
              "#f0f921"
             ]
            ],
            "type": "heatmap"
           }
          ],
          "heatmapgl": [
           {
            "colorbar": {
             "outlinewidth": 0,
             "ticks": ""
            },
            "colorscale": [
             [
              0,
              "#0d0887"
             ],
             [
              0.1111111111111111,
              "#46039f"
             ],
             [
              0.2222222222222222,
              "#7201a8"
             ],
             [
              0.3333333333333333,
              "#9c179e"
             ],
             [
              0.4444444444444444,
              "#bd3786"
             ],
             [
              0.5555555555555556,
              "#d8576b"
             ],
             [
              0.6666666666666666,
              "#ed7953"
             ],
             [
              0.7777777777777778,
              "#fb9f3a"
             ],
             [
              0.8888888888888888,
              "#fdca26"
             ],
             [
              1,
              "#f0f921"
             ]
            ],
            "type": "heatmapgl"
           }
          ],
          "histogram": [
           {
            "marker": {
             "pattern": {
              "fillmode": "overlay",
              "size": 10,
              "solidity": 0.2
             }
            },
            "type": "histogram"
           }
          ],
          "histogram2d": [
           {
            "colorbar": {
             "outlinewidth": 0,
             "ticks": ""
            },
            "colorscale": [
             [
              0,
              "#0d0887"
             ],
             [
              0.1111111111111111,
              "#46039f"
             ],
             [
              0.2222222222222222,
              "#7201a8"
             ],
             [
              0.3333333333333333,
              "#9c179e"
             ],
             [
              0.4444444444444444,
              "#bd3786"
             ],
             [
              0.5555555555555556,
              "#d8576b"
             ],
             [
              0.6666666666666666,
              "#ed7953"
             ],
             [
              0.7777777777777778,
              "#fb9f3a"
             ],
             [
              0.8888888888888888,
              "#fdca26"
             ],
             [
              1,
              "#f0f921"
             ]
            ],
            "type": "histogram2d"
           }
          ],
          "histogram2dcontour": [
           {
            "colorbar": {
             "outlinewidth": 0,
             "ticks": ""
            },
            "colorscale": [
             [
              0,
              "#0d0887"
             ],
             [
              0.1111111111111111,
              "#46039f"
             ],
             [
              0.2222222222222222,
              "#7201a8"
             ],
             [
              0.3333333333333333,
              "#9c179e"
             ],
             [
              0.4444444444444444,
              "#bd3786"
             ],
             [
              0.5555555555555556,
              "#d8576b"
             ],
             [
              0.6666666666666666,
              "#ed7953"
             ],
             [
              0.7777777777777778,
              "#fb9f3a"
             ],
             [
              0.8888888888888888,
              "#fdca26"
             ],
             [
              1,
              "#f0f921"
             ]
            ],
            "type": "histogram2dcontour"
           }
          ],
          "mesh3d": [
           {
            "colorbar": {
             "outlinewidth": 0,
             "ticks": ""
            },
            "type": "mesh3d"
           }
          ],
          "parcoords": [
           {
            "line": {
             "colorbar": {
              "outlinewidth": 0,
              "ticks": ""
             }
            },
            "type": "parcoords"
           }
          ],
          "pie": [
           {
            "automargin": true,
            "type": "pie"
           }
          ],
          "scatter": [
           {
            "fillpattern": {
             "fillmode": "overlay",
             "size": 10,
             "solidity": 0.2
            },
            "type": "scatter"
           }
          ],
          "scatter3d": [
           {
            "line": {
             "colorbar": {
              "outlinewidth": 0,
              "ticks": ""
             }
            },
            "marker": {
             "colorbar": {
              "outlinewidth": 0,
              "ticks": ""
             }
            },
            "type": "scatter3d"
           }
          ],
          "scattercarpet": [
           {
            "marker": {
             "colorbar": {
              "outlinewidth": 0,
              "ticks": ""
             }
            },
            "type": "scattercarpet"
           }
          ],
          "scattergeo": [
           {
            "marker": {
             "colorbar": {
              "outlinewidth": 0,
              "ticks": ""
             }
            },
            "type": "scattergeo"
           }
          ],
          "scattergl": [
           {
            "marker": {
             "colorbar": {
              "outlinewidth": 0,
              "ticks": ""
             }
            },
            "type": "scattergl"
           }
          ],
          "scattermapbox": [
           {
            "marker": {
             "colorbar": {
              "outlinewidth": 0,
              "ticks": ""
             }
            },
            "type": "scattermapbox"
           }
          ],
          "scatterpolar": [
           {
            "marker": {
             "colorbar": {
              "outlinewidth": 0,
              "ticks": ""
             }
            },
            "type": "scatterpolar"
           }
          ],
          "scatterpolargl": [
           {
            "marker": {
             "colorbar": {
              "outlinewidth": 0,
              "ticks": ""
             }
            },
            "type": "scatterpolargl"
           }
          ],
          "scatterternary": [
           {
            "marker": {
             "colorbar": {
              "outlinewidth": 0,
              "ticks": ""
             }
            },
            "type": "scatterternary"
           }
          ],
          "surface": [
           {
            "colorbar": {
             "outlinewidth": 0,
             "ticks": ""
            },
            "colorscale": [
             [
              0,
              "#0d0887"
             ],
             [
              0.1111111111111111,
              "#46039f"
             ],
             [
              0.2222222222222222,
              "#7201a8"
             ],
             [
              0.3333333333333333,
              "#9c179e"
             ],
             [
              0.4444444444444444,
              "#bd3786"
             ],
             [
              0.5555555555555556,
              "#d8576b"
             ],
             [
              0.6666666666666666,
              "#ed7953"
             ],
             [
              0.7777777777777778,
              "#fb9f3a"
             ],
             [
              0.8888888888888888,
              "#fdca26"
             ],
             [
              1,
              "#f0f921"
             ]
            ],
            "type": "surface"
           }
          ],
          "table": [
           {
            "cells": {
             "fill": {
              "color": "#EBF0F8"
             },
             "line": {
              "color": "white"
             }
            },
            "header": {
             "fill": {
              "color": "#C8D4E3"
             },
             "line": {
              "color": "white"
             }
            },
            "type": "table"
           }
          ]
         },
         "layout": {
          "annotationdefaults": {
           "arrowcolor": "#2a3f5f",
           "arrowhead": 0,
           "arrowwidth": 1
          },
          "autotypenumbers": "strict",
          "coloraxis": {
           "colorbar": {
            "outlinewidth": 0,
            "ticks": ""
           }
          },
          "colorscale": {
           "diverging": [
            [
             0,
             "#8e0152"
            ],
            [
             0.1,
             "#c51b7d"
            ],
            [
             0.2,
             "#de77ae"
            ],
            [
             0.3,
             "#f1b6da"
            ],
            [
             0.4,
             "#fde0ef"
            ],
            [
             0.5,
             "#f7f7f7"
            ],
            [
             0.6,
             "#e6f5d0"
            ],
            [
             0.7,
             "#b8e186"
            ],
            [
             0.8,
             "#7fbc41"
            ],
            [
             0.9,
             "#4d9221"
            ],
            [
             1,
             "#276419"
            ]
           ],
           "sequential": [
            [
             0,
             "#0d0887"
            ],
            [
             0.1111111111111111,
             "#46039f"
            ],
            [
             0.2222222222222222,
             "#7201a8"
            ],
            [
             0.3333333333333333,
             "#9c179e"
            ],
            [
             0.4444444444444444,
             "#bd3786"
            ],
            [
             0.5555555555555556,
             "#d8576b"
            ],
            [
             0.6666666666666666,
             "#ed7953"
            ],
            [
             0.7777777777777778,
             "#fb9f3a"
            ],
            [
             0.8888888888888888,
             "#fdca26"
            ],
            [
             1,
             "#f0f921"
            ]
           ],
           "sequentialminus": [
            [
             0,
             "#0d0887"
            ],
            [
             0.1111111111111111,
             "#46039f"
            ],
            [
             0.2222222222222222,
             "#7201a8"
            ],
            [
             0.3333333333333333,
             "#9c179e"
            ],
            [
             0.4444444444444444,
             "#bd3786"
            ],
            [
             0.5555555555555556,
             "#d8576b"
            ],
            [
             0.6666666666666666,
             "#ed7953"
            ],
            [
             0.7777777777777778,
             "#fb9f3a"
            ],
            [
             0.8888888888888888,
             "#fdca26"
            ],
            [
             1,
             "#f0f921"
            ]
           ]
          },
          "colorway": [
           "#636efa",
           "#EF553B",
           "#00cc96",
           "#ab63fa",
           "#FFA15A",
           "#19d3f3",
           "#FF6692",
           "#B6E880",
           "#FF97FF",
           "#FECB52"
          ],
          "font": {
           "color": "#2a3f5f"
          },
          "geo": {
           "bgcolor": "white",
           "lakecolor": "white",
           "landcolor": "#E5ECF6",
           "showlakes": true,
           "showland": true,
           "subunitcolor": "white"
          },
          "hoverlabel": {
           "align": "left"
          },
          "hovermode": "closest",
          "mapbox": {
           "style": "light"
          },
          "paper_bgcolor": "white",
          "plot_bgcolor": "#E5ECF6",
          "polar": {
           "angularaxis": {
            "gridcolor": "white",
            "linecolor": "white",
            "ticks": ""
           },
           "bgcolor": "#E5ECF6",
           "radialaxis": {
            "gridcolor": "white",
            "linecolor": "white",
            "ticks": ""
           }
          },
          "scene": {
           "xaxis": {
            "backgroundcolor": "#E5ECF6",
            "gridcolor": "white",
            "gridwidth": 2,
            "linecolor": "white",
            "showbackground": true,
            "ticks": "",
            "zerolinecolor": "white"
           },
           "yaxis": {
            "backgroundcolor": "#E5ECF6",
            "gridcolor": "white",
            "gridwidth": 2,
            "linecolor": "white",
            "showbackground": true,
            "ticks": "",
            "zerolinecolor": "white"
           },
           "zaxis": {
            "backgroundcolor": "#E5ECF6",
            "gridcolor": "white",
            "gridwidth": 2,
            "linecolor": "white",
            "showbackground": true,
            "ticks": "",
            "zerolinecolor": "white"
           }
          },
          "shapedefaults": {
           "line": {
            "color": "#2a3f5f"
           }
          },
          "ternary": {
           "aaxis": {
            "gridcolor": "white",
            "linecolor": "white",
            "ticks": ""
           },
           "baxis": {
            "gridcolor": "white",
            "linecolor": "white",
            "ticks": ""
           },
           "bgcolor": "#E5ECF6",
           "caxis": {
            "gridcolor": "white",
            "linecolor": "white",
            "ticks": ""
           }
          },
          "title": {
           "x": 0.05
          },
          "xaxis": {
           "automargin": true,
           "gridcolor": "white",
           "linecolor": "white",
           "ticks": "",
           "title": {
            "standoff": 15
           },
           "zerolinecolor": "white",
           "zerolinewidth": 2
          },
          "yaxis": {
           "automargin": true,
           "gridcolor": "white",
           "linecolor": "white",
           "ticks": "",
           "title": {
            "standoff": 15
           },
           "zerolinecolor": "white",
           "zerolinewidth": 2
          }
         }
        },
        "title": {
         "text": "Hourly Demand of Circuit C0"
        },
        "xaxis": {
         "anchor": "y",
         "domain": [
          0,
          1
         ],
         "title": {
          "text": "Hour"
         }
        },
        "yaxis": {
         "anchor": "x",
         "domain": [
          0,
          1
         ],
         "title": {
          "text": "Demand (kWh)"
         }
        }
       }
      }
     },
     "metadata": {},
     "output_type": "display_data"
    }
   ],
   "source": [
    "circuit_id = \"C0\"\n",
    "circuit = next(c for c in electric_system_circuits_list if c.id == circuit_id)\n",
    "\n",
    "block_demand_data = {\"Block ID\": [], \"Hour\": [], \"Demand\": []}\n",
    "\n",
    "for i, block in enumerate(circuit.blocks):\n",
    "    for hour, demand in enumerate(block.predicted_demand_per_hour):\n",
    "        block_demand_data[\"Block ID\"].append(f\"Block {i + 1}\")\n",
    "        block_demand_data[\"Hour\"].append(hour)\n",
    "        block_demand_data[\"Demand\"].append(demand)\n",
    "\n",
    "block_demand_df = pd.DataFrame(block_demand_data)\n",
    "\n",
    "fig_block_demand = px.line(\n",
    "    block_demand_df,\n",
    "    x=\"Hour\",\n",
    "    y=\"Demand\",\n",
    "    color=\"Block ID\",\n",
    "    title=f\"Hourly Demand per Block in Circuit {circuit_id}\",\n",
    "    labels={\"Demand\": \"Demand (kWh)\", \"Hour\": \"Hour\"},\n",
    ")\n",
    "\n",
    "fig_block_demand.show()\n",
    "\n",
    "circuit_demand_data = {\n",
    "    \"Hour\": list(range(24)),\n",
    "    \"Demand\": [\n",
    "        sum(block.predicted_demand_per_hour[hour] for block in circuit.blocks)\n",
    "        for hour in range(24)\n",
    "    ],\n",
    "}\n",
    "\n",
    "circuit_demand_df = pd.DataFrame(circuit_demand_data)\n",
    "\n",
    "fig_circuit_demand = px.line(\n",
    "    circuit_demand_df,\n",
    "    x=\"Hour\",\n",
    "    y=\"Demand\",\n",
    "    title=f\"Hourly Demand of Circuit {circuit_id}\",\n",
    "    labels={\"Demand\": \"Demand (kWh)\", \"Hour\": \"Hour\"},\n",
    ")\n",
    "\n",
    "fig_circuit_demand.show()"
   ]
  },
  {
   "cell_type": "markdown",
   "metadata": {},
   "source": [
    "# Simulation"
   ]
  },
  {
   "cell_type": "code",
   "execution_count": 12,
   "metadata": {},
   "outputs": [
    {
     "name": "stdout",
     "output_type": "stream",
     "text": [
      "agent perception\n"
     ]
    }
   ],
   "source": [
    "from src.people import ThermoelectricAgent, ThermoelectricAgentPerception\n",
    "from src.worldstate import WorldState\n",
    "\n",
    "\n",
    "class Simulation:\n",
    "    def __init__(\n",
    "        self,\n",
    "        circuits: list[Circuit],\n",
    "        thermoelectrics: list[Thermoelectric],\n",
    "        distance_matrix: list[list[float]],\n",
    "        get_circuit_importance: callable,\n",
    "        get_block_importance: callable,\n",
    "    ):\n",
    "        self.world_state_manager = WorldState(\n",
    "            circuits=circuits,\n",
    "            thermoelectrics=thermoelectrics,\n",
    "            distance_matrix=distance_matrix,\n",
    "            get_block_importance=get_block_importance,\n",
    "            get_circuit_importance=get_circuit_importance,\n",
    "        )\n",
    "\n",
    "        self.thermoelectric_agents: list[ThermoelectricAgent] = []\n",
    "\n",
    "    def create_thermoelectric_agent_perception(\n",
    "        self, thermoelectric\n",
    "    ) -> ThermoelectricAgentPerception:\n",
    "\n",
    "        return ThermoelectricAgentPerception(\n",
    "            thermoelectric=thermoelectric,\n",
    "            general_deficit=self.world_state_manager.general_deficit,\n",
    "            general_demand=self.world_state_manager.general_demand,\n",
    "            general_offer=self.world_state_manager.general_offer,\n",
    "        )\n",
    "\n",
    "    def simulate(self, simulation_days=50):\n",
    "\n",
    "        for thermoelectric in self.world_state_manager.thermoelectrics:\n",
    "            agent_initial_perception = self.create_thermoelectric_agent_perception(thermoelectric=thermoelectric)\n",
    "            print(\"agent perception\")\n",
    "            print(agent_initial_perception)\n",
    "            thermoelectric_agent = ThermoelectricAgent(\n",
    "                name=f\"Agent of {thermoelectric.id}\",\n",
    "                thermoelectric=thermoelectric,\n",
    "                perception=agent_initial_perception,\n",
    "            )\n",
    "\n",
    "            self.thermoelectric_agents.append(thermoelectric_agent)\n",
    "\n",
    "    # check progress\n",
    "\n",
    "    # for agent in self.thermoelectric_agents:\n",
    "    #     print(agent)\n",
    "\n",
    "\n",
    "simulation = Simulation(\n",
    "    circuits=electric_system_circuits_list,\n",
    "    thermoelectrics=electric_system_thermoelectrics_list,\n",
    "    distance_matrix=matrix,\n",
    "    get_circuit_importance=get_circuit_importance,\n",
    "    get_block_importance=get_block_importance,\n",
    ")\n",
    "\n",
    "simulation.simulate()"
   ]
  }
 ],
 "metadata": {
  "kernelspec": {
   "display_name": "base",
   "language": "python",
   "name": "python3"
  },
  "language_info": {
   "codemirror_mode": {
    "name": "ipython",
    "version": 3
   },
   "file_extension": ".py",
   "mimetype": "text/x-python",
   "name": "python",
   "nbconvert_exporter": "python",
   "pygments_lexer": "ipython3",
   "version": "3.11.10"
  }
 },
 "nbformat": 4,
 "nbformat_minor": 2
}
