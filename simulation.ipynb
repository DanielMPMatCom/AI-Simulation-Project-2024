{
 "cells": [
  {
   "cell_type": "markdown",
   "metadata": {},
   "source": [
    "# Simulation of an Electric System based on Thermoelectrics Plants"
   ]
  },
  {
   "cell_type": "code",
   "execution_count": 14,
   "metadata": {},
   "outputs": [],
   "source": [
    "from src.map import Map2D, GraphMap\n",
    "from src.utils.gaussianmixture import DailyElectricityConsumptionBimodal\n",
    "from src.circuits import Circuit, Block\n",
    "from src.thermoelectrics import Thermoelectric\n",
    "from src.part import Coils, Boiler, Generator, SteamTurbine\n",
    "import pandas as pd\n",
    "import plotly.express as px\n",
    "from numpy import random\n",
    "\n",
    "from src.simulation_constants import (\n",
    "    NO_CIRCUITS,\n",
    "    NO_THERMOELECTRICS,\n",
    "    MIN_CITIZEN,\n",
    "    MAX_CITIZEN,\n",
    "    MAX_DEVIATION_CITIZEN_IN_BLOCK,\n",
    "    DEMAND_PER_PERSON,\n",
    "    DEMAND_INDUSTRIALIZATION,\n",
    "    VARIABILITY_DEMAND_PER_PERSON,\n",
    "    VARIABILITY_DEMAND_PER_INDUSTRIALIZATION,\n",
    "    PEAK_CONSUMPTION_MORNING,\n",
    "    PEAK_CONSUMPTION_EVENING,\n",
    "    MAX_DEVIATION_MORNING,\n",
    "    MAX_DEVIATION_EVENING,\n",
    "    WEIGHT_MORNING,\n",
    "    WEIGHT_EVENING,\n",
    "    MIN_BLOCKS_PER_CIRCUIT,\n",
    "    MAX_BLOCKS_PER_CIRCUIT,\n",
    "    IMPORTANCE_ALPHA,\n",
    "    RANDOM_SEED,\n",
    "    DISTANCE_REGULATOR\n",
    ")"
   ]
  },
  {
   "cell_type": "markdown",
   "metadata": {},
   "source": [
    "## Initialize bases "
   ]
  },
  {
   "cell_type": "code",
   "execution_count": 15,
   "metadata": {},
   "outputs": [
    {
     "data": {
      "application/vnd.plotly.v1+json": {
       "config": {
        "plotlyServerURL": "https://plot.ly"
       },
       "data": [
        {
         "marker": {
          "color": [
           7,
           1,
           5,
           1,
           5,
           7,
           4,
           2,
           7,
           2,
           2,
           5,
           5,
           6,
           6,
           6,
           2,
           6,
           5,
           1,
           4,
           4,
           3,
           6,
           6,
           1,
           7,
           1,
           7,
           2,
           2,
           5,
           4,
           1,
           1,
           3,
           6,
           5,
           7,
           1,
           5,
           4,
           7,
           7,
           3,
           6,
           0,
           3,
           4,
           0
          ],
          "colorscale": [
           [
            0,
            "#440154"
           ],
           [
            0.1111111111111111,
            "#482878"
           ],
           [
            0.2222222222222222,
            "#3e4989"
           ],
           [
            0.3333333333333333,
            "#31688e"
           ],
           [
            0.4444444444444444,
            "#26828e"
           ],
           [
            0.5555555555555556,
            "#1f9e89"
           ],
           [
            0.6666666666666666,
            "#35b779"
           ],
           [
            0.7777777777777778,
            "#6ece58"
           ],
           [
            0.8888888888888888,
            "#b5de2b"
           ],
           [
            1,
            "#fde725"
           ]
          ],
          "showscale": true,
          "size": 10
         },
         "mode": "markers",
         "name": "Circuits",
         "type": "scatter",
         "x": [
          98.90115134756002,
          28.144730195506284,
          44.44694959718031,
          4.852200090644587,
          11.595071149794444,
          85.61820485956244,
          99.07216847578,
          61.82944835673582,
          97.60033158175416,
          44.05308887745445,
          50.96996840471413,
          22.695478934228586,
          24.275815678011302,
          81.88734275653765,
          92.31495390276692,
          70.63714846079961,
          60.100412352318635,
          83.68294504320563,
          45.773799146064654,
          25.195019979155518,
          72.66371963080242,
          82.57539654972054,
          9.413892910049249,
          74.17541279606095,
          85.58690716836288,
          18.395198585753025,
          92.22779774577657,
          25.50567553368033,
          98.40365650382252,
          40.23712839556847,
          44.38741260834264,
          32.25899537209548,
          72.40123708698462,
          18.77457281509295,
          14.019181542772763,
          49.17631570320224,
          87.98135265003748,
          30.491329572436364,
          94.03046334306231,
          3.941980288626623,
          6.423217143992743,
          83.97724892594816,
          98.79156428214655,
          94.08777292407284,
          25.263224568082887,
          68.47226881391506,
          60.42382026473262,
          23.72215788455453,
          84.07924000754835,
          72.27552072400374
         ],
         "y": [
          54.95447268447254,
          7.7289566079172705,
          47.28079697554853,
          16.332444820826673,
          62.739168270442605,
          65.01024210875525,
          47.03507484037854,
          28.26672065311674,
          67.30679991316752,
          28.968734025209486,
          11.246089579599461,
          47.85523046616946,
          38.798251760716695,
          7.454078516154661,
          22.48960820094579,
          11.056545677251128,
          40.67925380882937,
          25.003042784395912,
          55.74327026820758,
          11.024132226573247,
          31.007393751622235,
          45.16665266465536,
          88.72032376098616,
          12.193227543479901,
          6.693827118834939,
          17.216681730643145,
          66.63324712234675,
          25.131625283785162,
          67.87953743323041,
          6.417229596609242,
          20.709162827460148,
          64.94859503276331,
          46.833249733608696,
          29.6387440681542,
          9.47696581546128,
          99.0778703228649,
          16.127882072143063,
          60.47952172863975,
          73.31195005772628,
          15.996243096834316,
          44.455046694943526,
          55.753537382254834,
          76.31956028275805,
          72.67483961714403,
          90.74539022334856,
          10.523491740724166,
          73.72609322200047,
          98.89859095922957,
          43.31002395015694,
          66.86359854884917
         ]
        },
        {
         "marker": {
          "color": "red",
          "size": 15,
          "symbol": "x"
         },
         "mode": "markers",
         "name": "Thermoelectrics",
         "type": "scatter",
         "x": [
          66.34967049436818,
          17.35356987890401,
          50.262909832522354,
          26.89389776647223,
          82.46150177946402,
          27.245082074225483,
          80.59229144896076,
          94.95761782346968
         ],
         "y": [
          70.29484588542482,
          16.56822420627441,
          22.71453174847074,
          94.3605438166073,
          44.850988720446104,
          52.78748514967893,
          13.942712956741197,
          68.01133115245011
         ]
        },
        {
         "marker": {
          "color": "black",
          "size": 12,
          "symbol": "triangle-up"
         },
         "mode": "markers",
         "name": "Tension Towers",
         "type": "scatter",
         "x": [
          -2.9905811493775913,
          1.1482530081196072,
          25.649070315896402,
          25.981213051161156,
          34.163184162428955,
          39.11632518199393,
          42.13492620825108,
          42.45945635650918,
          49.02013205536298,
          51.91140339067614,
          66.34967049436817,
          73.25837926779712,
          78.27075519485604,
          80.57283693528949,
          94.95761782346968,
          105.09834847061643
         ],
         "y": [
          44.28000894514202,
          22.791152724795218,
          51.306391410070596,
          91.94243432620529,
          15.237654757954035,
          65.04297118221166,
          87.23614695703577,
          33.41870814959478,
          49.397706227717826,
          30.811124261481105,
          70.2948458854248,
          61.33704056770339,
          14.63761127016126,
          43.969919990463126,
          68.01133115245011,
          18.367139396277274
         ]
        },
        {
         "line": {
          "color": "black"
         },
         "mode": "lines",
         "showlegend": false,
         "type": "scatter",
         "x": [
          -2.9905811493775913,
          1.1482530081196072
         ],
         "y": [
          44.28000894514202,
          22.791152724795218
         ]
        },
        {
         "line": {
          "color": "black"
         },
         "mode": "lines",
         "showlegend": false,
         "type": "scatter",
         "x": [
          1.1482530081196072,
          25.649070315896402
         ],
         "y": [
          22.791152724795218,
          51.306391410070596
         ]
        },
        {
         "line": {
          "color": "black"
         },
         "mode": "lines",
         "showlegend": false,
         "type": "scatter",
         "x": [
          25.649070315896402,
          25.981213051161156
         ],
         "y": [
          51.306391410070596,
          91.94243432620529
         ]
        },
        {
         "line": {
          "color": "black"
         },
         "mode": "lines",
         "showlegend": false,
         "type": "scatter",
         "x": [
          25.981213051161156,
          34.163184162428955
         ],
         "y": [
          91.94243432620529,
          15.237654757954035
         ]
        },
        {
         "line": {
          "color": "black"
         },
         "mode": "lines",
         "showlegend": false,
         "type": "scatter",
         "x": [
          34.163184162428955,
          39.11632518199393
         ],
         "y": [
          15.237654757954035,
          65.04297118221166
         ]
        },
        {
         "line": {
          "color": "black"
         },
         "mode": "lines",
         "showlegend": false,
         "type": "scatter",
         "x": [
          39.11632518199393,
          42.13492620825108
         ],
         "y": [
          65.04297118221166,
          87.23614695703577
         ]
        },
        {
         "line": {
          "color": "black"
         },
         "mode": "lines",
         "showlegend": false,
         "type": "scatter",
         "x": [
          42.13492620825108,
          42.45945635650918
         ],
         "y": [
          87.23614695703577,
          33.41870814959478
         ]
        },
        {
         "line": {
          "color": "black"
         },
         "mode": "lines",
         "showlegend": false,
         "type": "scatter",
         "x": [
          42.45945635650918,
          49.02013205536298
         ],
         "y": [
          33.41870814959478,
          49.397706227717826
         ]
        },
        {
         "line": {
          "color": "black"
         },
         "mode": "lines",
         "showlegend": false,
         "type": "scatter",
         "x": [
          49.02013205536298,
          51.91140339067614
         ],
         "y": [
          49.397706227717826,
          30.811124261481105
         ]
        },
        {
         "line": {
          "color": "black"
         },
         "mode": "lines",
         "showlegend": false,
         "type": "scatter",
         "x": [
          51.91140339067614,
          66.34967049436817
         ],
         "y": [
          30.811124261481105,
          70.2948458854248
         ]
        },
        {
         "line": {
          "color": "black"
         },
         "mode": "lines",
         "showlegend": false,
         "type": "scatter",
         "x": [
          66.34967049436817,
          73.25837926779712
         ],
         "y": [
          70.2948458854248,
          61.33704056770339
         ]
        },
        {
         "line": {
          "color": "black"
         },
         "mode": "lines",
         "showlegend": false,
         "type": "scatter",
         "x": [
          73.25837926779712,
          78.27075519485604
         ],
         "y": [
          61.33704056770339,
          14.63761127016126
         ]
        },
        {
         "line": {
          "color": "black"
         },
         "mode": "lines",
         "showlegend": false,
         "type": "scatter",
         "x": [
          78.27075519485604,
          80.57283693528949
         ],
         "y": [
          14.63761127016126,
          43.969919990463126
         ]
        },
        {
         "line": {
          "color": "black"
         },
         "mode": "lines",
         "showlegend": false,
         "type": "scatter",
         "x": [
          80.57283693528949,
          94.95761782346968
         ],
         "y": [
          43.969919990463126,
          68.01133115245011
         ]
        },
        {
         "line": {
          "color": "black"
         },
         "mode": "lines",
         "showlegend": false,
         "type": "scatter",
         "x": [
          94.95761782346968,
          105.09834847061643
         ],
         "y": [
          68.01133115245011,
          18.367139396277274
         ]
        }
       ],
       "layout": {
        "height": 800,
        "legend": {
         "bgcolor": "rgba(255, 255, 255, 0.5)",
         "bordercolor": "rgba(0, 0, 0, 0.5)",
         "x": 0.01,
         "y": 0.99
        },
        "plot_bgcolor": "lightgreen",
        "template": {
         "data": {
          "bar": [
           {
            "error_x": {
             "color": "#2a3f5f"
            },
            "error_y": {
             "color": "#2a3f5f"
            },
            "marker": {
             "line": {
              "color": "#E5ECF6",
              "width": 0.5
             },
             "pattern": {
              "fillmode": "overlay",
              "size": 10,
              "solidity": 0.2
             }
            },
            "type": "bar"
           }
          ],
          "barpolar": [
           {
            "marker": {
             "line": {
              "color": "#E5ECF6",
              "width": 0.5
             },
             "pattern": {
              "fillmode": "overlay",
              "size": 10,
              "solidity": 0.2
             }
            },
            "type": "barpolar"
           }
          ],
          "carpet": [
           {
            "aaxis": {
             "endlinecolor": "#2a3f5f",
             "gridcolor": "white",
             "linecolor": "white",
             "minorgridcolor": "white",
             "startlinecolor": "#2a3f5f"
            },
            "baxis": {
             "endlinecolor": "#2a3f5f",
             "gridcolor": "white",
             "linecolor": "white",
             "minorgridcolor": "white",
             "startlinecolor": "#2a3f5f"
            },
            "type": "carpet"
           }
          ],
          "choropleth": [
           {
            "colorbar": {
             "outlinewidth": 0,
             "ticks": ""
            },
            "type": "choropleth"
           }
          ],
          "contour": [
           {
            "colorbar": {
             "outlinewidth": 0,
             "ticks": ""
            },
            "colorscale": [
             [
              0,
              "#0d0887"
             ],
             [
              0.1111111111111111,
              "#46039f"
             ],
             [
              0.2222222222222222,
              "#7201a8"
             ],
             [
              0.3333333333333333,
              "#9c179e"
             ],
             [
              0.4444444444444444,
              "#bd3786"
             ],
             [
              0.5555555555555556,
              "#d8576b"
             ],
             [
              0.6666666666666666,
              "#ed7953"
             ],
             [
              0.7777777777777778,
              "#fb9f3a"
             ],
             [
              0.8888888888888888,
              "#fdca26"
             ],
             [
              1,
              "#f0f921"
             ]
            ],
            "type": "contour"
           }
          ],
          "contourcarpet": [
           {
            "colorbar": {
             "outlinewidth": 0,
             "ticks": ""
            },
            "type": "contourcarpet"
           }
          ],
          "heatmap": [
           {
            "colorbar": {
             "outlinewidth": 0,
             "ticks": ""
            },
            "colorscale": [
             [
              0,
              "#0d0887"
             ],
             [
              0.1111111111111111,
              "#46039f"
             ],
             [
              0.2222222222222222,
              "#7201a8"
             ],
             [
              0.3333333333333333,
              "#9c179e"
             ],
             [
              0.4444444444444444,
              "#bd3786"
             ],
             [
              0.5555555555555556,
              "#d8576b"
             ],
             [
              0.6666666666666666,
              "#ed7953"
             ],
             [
              0.7777777777777778,
              "#fb9f3a"
             ],
             [
              0.8888888888888888,
              "#fdca26"
             ],
             [
              1,
              "#f0f921"
             ]
            ],
            "type": "heatmap"
           }
          ],
          "heatmapgl": [
           {
            "colorbar": {
             "outlinewidth": 0,
             "ticks": ""
            },
            "colorscale": [
             [
              0,
              "#0d0887"
             ],
             [
              0.1111111111111111,
              "#46039f"
             ],
             [
              0.2222222222222222,
              "#7201a8"
             ],
             [
              0.3333333333333333,
              "#9c179e"
             ],
             [
              0.4444444444444444,
              "#bd3786"
             ],
             [
              0.5555555555555556,
              "#d8576b"
             ],
             [
              0.6666666666666666,
              "#ed7953"
             ],
             [
              0.7777777777777778,
              "#fb9f3a"
             ],
             [
              0.8888888888888888,
              "#fdca26"
             ],
             [
              1,
              "#f0f921"
             ]
            ],
            "type": "heatmapgl"
           }
          ],
          "histogram": [
           {
            "marker": {
             "pattern": {
              "fillmode": "overlay",
              "size": 10,
              "solidity": 0.2
             }
            },
            "type": "histogram"
           }
          ],
          "histogram2d": [
           {
            "colorbar": {
             "outlinewidth": 0,
             "ticks": ""
            },
            "colorscale": [
             [
              0,
              "#0d0887"
             ],
             [
              0.1111111111111111,
              "#46039f"
             ],
             [
              0.2222222222222222,
              "#7201a8"
             ],
             [
              0.3333333333333333,
              "#9c179e"
             ],
             [
              0.4444444444444444,
              "#bd3786"
             ],
             [
              0.5555555555555556,
              "#d8576b"
             ],
             [
              0.6666666666666666,
              "#ed7953"
             ],
             [
              0.7777777777777778,
              "#fb9f3a"
             ],
             [
              0.8888888888888888,
              "#fdca26"
             ],
             [
              1,
              "#f0f921"
             ]
            ],
            "type": "histogram2d"
           }
          ],
          "histogram2dcontour": [
           {
            "colorbar": {
             "outlinewidth": 0,
             "ticks": ""
            },
            "colorscale": [
             [
              0,
              "#0d0887"
             ],
             [
              0.1111111111111111,
              "#46039f"
             ],
             [
              0.2222222222222222,
              "#7201a8"
             ],
             [
              0.3333333333333333,
              "#9c179e"
             ],
             [
              0.4444444444444444,
              "#bd3786"
             ],
             [
              0.5555555555555556,
              "#d8576b"
             ],
             [
              0.6666666666666666,
              "#ed7953"
             ],
             [
              0.7777777777777778,
              "#fb9f3a"
             ],
             [
              0.8888888888888888,
              "#fdca26"
             ],
             [
              1,
              "#f0f921"
             ]
            ],
            "type": "histogram2dcontour"
           }
          ],
          "mesh3d": [
           {
            "colorbar": {
             "outlinewidth": 0,
             "ticks": ""
            },
            "type": "mesh3d"
           }
          ],
          "parcoords": [
           {
            "line": {
             "colorbar": {
              "outlinewidth": 0,
              "ticks": ""
             }
            },
            "type": "parcoords"
           }
          ],
          "pie": [
           {
            "automargin": true,
            "type": "pie"
           }
          ],
          "scatter": [
           {
            "fillpattern": {
             "fillmode": "overlay",
             "size": 10,
             "solidity": 0.2
            },
            "type": "scatter"
           }
          ],
          "scatter3d": [
           {
            "line": {
             "colorbar": {
              "outlinewidth": 0,
              "ticks": ""
             }
            },
            "marker": {
             "colorbar": {
              "outlinewidth": 0,
              "ticks": ""
             }
            },
            "type": "scatter3d"
           }
          ],
          "scattercarpet": [
           {
            "marker": {
             "colorbar": {
              "outlinewidth": 0,
              "ticks": ""
             }
            },
            "type": "scattercarpet"
           }
          ],
          "scattergeo": [
           {
            "marker": {
             "colorbar": {
              "outlinewidth": 0,
              "ticks": ""
             }
            },
            "type": "scattergeo"
           }
          ],
          "scattergl": [
           {
            "marker": {
             "colorbar": {
              "outlinewidth": 0,
              "ticks": ""
             }
            },
            "type": "scattergl"
           }
          ],
          "scattermapbox": [
           {
            "marker": {
             "colorbar": {
              "outlinewidth": 0,
              "ticks": ""
             }
            },
            "type": "scattermapbox"
           }
          ],
          "scatterpolar": [
           {
            "marker": {
             "colorbar": {
              "outlinewidth": 0,
              "ticks": ""
             }
            },
            "type": "scatterpolar"
           }
          ],
          "scatterpolargl": [
           {
            "marker": {
             "colorbar": {
              "outlinewidth": 0,
              "ticks": ""
             }
            },
            "type": "scatterpolargl"
           }
          ],
          "scatterternary": [
           {
            "marker": {
             "colorbar": {
              "outlinewidth": 0,
              "ticks": ""
             }
            },
            "type": "scatterternary"
           }
          ],
          "surface": [
           {
            "colorbar": {
             "outlinewidth": 0,
             "ticks": ""
            },
            "colorscale": [
             [
              0,
              "#0d0887"
             ],
             [
              0.1111111111111111,
              "#46039f"
             ],
             [
              0.2222222222222222,
              "#7201a8"
             ],
             [
              0.3333333333333333,
              "#9c179e"
             ],
             [
              0.4444444444444444,
              "#bd3786"
             ],
             [
              0.5555555555555556,
              "#d8576b"
             ],
             [
              0.6666666666666666,
              "#ed7953"
             ],
             [
              0.7777777777777778,
              "#fb9f3a"
             ],
             [
              0.8888888888888888,
              "#fdca26"
             ],
             [
              1,
              "#f0f921"
             ]
            ],
            "type": "surface"
           }
          ],
          "table": [
           {
            "cells": {
             "fill": {
              "color": "#EBF0F8"
             },
             "line": {
              "color": "white"
             }
            },
            "header": {
             "fill": {
              "color": "#C8D4E3"
             },
             "line": {
              "color": "white"
             }
            },
            "type": "table"
           }
          ]
         },
         "layout": {
          "annotationdefaults": {
           "arrowcolor": "#2a3f5f",
           "arrowhead": 0,
           "arrowwidth": 1
          },
          "autotypenumbers": "strict",
          "coloraxis": {
           "colorbar": {
            "outlinewidth": 0,
            "ticks": ""
           }
          },
          "colorscale": {
           "diverging": [
            [
             0,
             "#8e0152"
            ],
            [
             0.1,
             "#c51b7d"
            ],
            [
             0.2,
             "#de77ae"
            ],
            [
             0.3,
             "#f1b6da"
            ],
            [
             0.4,
             "#fde0ef"
            ],
            [
             0.5,
             "#f7f7f7"
            ],
            [
             0.6,
             "#e6f5d0"
            ],
            [
             0.7,
             "#b8e186"
            ],
            [
             0.8,
             "#7fbc41"
            ],
            [
             0.9,
             "#4d9221"
            ],
            [
             1,
             "#276419"
            ]
           ],
           "sequential": [
            [
             0,
             "#0d0887"
            ],
            [
             0.1111111111111111,
             "#46039f"
            ],
            [
             0.2222222222222222,
             "#7201a8"
            ],
            [
             0.3333333333333333,
             "#9c179e"
            ],
            [
             0.4444444444444444,
             "#bd3786"
            ],
            [
             0.5555555555555556,
             "#d8576b"
            ],
            [
             0.6666666666666666,
             "#ed7953"
            ],
            [
             0.7777777777777778,
             "#fb9f3a"
            ],
            [
             0.8888888888888888,
             "#fdca26"
            ],
            [
             1,
             "#f0f921"
            ]
           ],
           "sequentialminus": [
            [
             0,
             "#0d0887"
            ],
            [
             0.1111111111111111,
             "#46039f"
            ],
            [
             0.2222222222222222,
             "#7201a8"
            ],
            [
             0.3333333333333333,
             "#9c179e"
            ],
            [
             0.4444444444444444,
             "#bd3786"
            ],
            [
             0.5555555555555556,
             "#d8576b"
            ],
            [
             0.6666666666666666,
             "#ed7953"
            ],
            [
             0.7777777777777778,
             "#fb9f3a"
            ],
            [
             0.8888888888888888,
             "#fdca26"
            ],
            [
             1,
             "#f0f921"
            ]
           ]
          },
          "colorway": [
           "#636efa",
           "#EF553B",
           "#00cc96",
           "#ab63fa",
           "#FFA15A",
           "#19d3f3",
           "#FF6692",
           "#B6E880",
           "#FF97FF",
           "#FECB52"
          ],
          "font": {
           "color": "#2a3f5f"
          },
          "geo": {
           "bgcolor": "white",
           "lakecolor": "white",
           "landcolor": "#E5ECF6",
           "showlakes": true,
           "showland": true,
           "subunitcolor": "white"
          },
          "hoverlabel": {
           "align": "left"
          },
          "hovermode": "closest",
          "mapbox": {
           "style": "light"
          },
          "paper_bgcolor": "white",
          "plot_bgcolor": "#E5ECF6",
          "polar": {
           "angularaxis": {
            "gridcolor": "white",
            "linecolor": "white",
            "ticks": ""
           },
           "bgcolor": "#E5ECF6",
           "radialaxis": {
            "gridcolor": "white",
            "linecolor": "white",
            "ticks": ""
           }
          },
          "scene": {
           "xaxis": {
            "backgroundcolor": "#E5ECF6",
            "gridcolor": "white",
            "gridwidth": 2,
            "linecolor": "white",
            "showbackground": true,
            "ticks": "",
            "zerolinecolor": "white"
           },
           "yaxis": {
            "backgroundcolor": "#E5ECF6",
            "gridcolor": "white",
            "gridwidth": 2,
            "linecolor": "white",
            "showbackground": true,
            "ticks": "",
            "zerolinecolor": "white"
           },
           "zaxis": {
            "backgroundcolor": "#E5ECF6",
            "gridcolor": "white",
            "gridwidth": 2,
            "linecolor": "white",
            "showbackground": true,
            "ticks": "",
            "zerolinecolor": "white"
           }
          },
          "shapedefaults": {
           "line": {
            "color": "#2a3f5f"
           }
          },
          "ternary": {
           "aaxis": {
            "gridcolor": "white",
            "linecolor": "white",
            "ticks": ""
           },
           "baxis": {
            "gridcolor": "white",
            "linecolor": "white",
            "ticks": ""
           },
           "bgcolor": "#E5ECF6",
           "caxis": {
            "gridcolor": "white",
            "linecolor": "white",
            "ticks": ""
           }
          },
          "title": {
           "x": 0.05
          },
          "xaxis": {
           "automargin": true,
           "gridcolor": "white",
           "linecolor": "white",
           "ticks": "",
           "title": {
            "standoff": 15
           },
           "zerolinecolor": "white",
           "zerolinewidth": 2
          },
          "yaxis": {
           "automargin": true,
           "gridcolor": "white",
           "linecolor": "white",
           "ticks": "",
           "title": {
            "standoff": 15
           },
           "zerolinecolor": "white",
           "zerolinewidth": 2
          }
         }
        },
        "title": {
         "text": "Map Visualization"
        },
        "xaxis": {
         "title": {
          "text": "X Coordinate"
         }
        },
        "yaxis": {
         "title": {
          "text": "Y Coordinate"
         }
        }
       }
      }
     },
     "metadata": {},
     "output_type": "display_data"
    }
   ],
   "source": [
    "map_2d = Map2D(\n",
    "    no_circuits=NO_CIRCUITS,\n",
    "    no_thermoelectrics=NO_THERMOELECTRICS,\n",
    ")\n",
    "\n",
    "\n",
    "map_2d.visualize()"
   ]
  },
  {
   "cell_type": "code",
   "execution_count": 16,
   "metadata": {},
   "outputs": [
    {
     "data": {
      "application/vnd.plotly.v1+json": {
       "config": {
        "plotlyServerURL": "https://plot.ly"
       },
       "data": [
        {
         "marker": {
          "color": "red",
          "size": 12,
          "symbol": "x"
         },
         "mode": "markers+text",
         "name": "Thermoelectrics",
         "text": [
          "Th0",
          "Th1",
          "Th2",
          "Th3",
          "Th4",
          "Th5",
          "Th6",
          "Th7"
         ],
         "textposition": "top center",
         "type": "scatter",
         "x": [
          66.34967049436818,
          17.35356987890401,
          50.262909832522354,
          26.89389776647223,
          82.46150177946402,
          27.245082074225483,
          80.59229144896076,
          94.95761782346968
         ],
         "y": [
          70.29484588542482,
          16.56822420627441,
          22.71453174847074,
          94.3605438166073,
          44.850988720446104,
          52.78748514967893,
          13.942712956741197,
          68.01133115245011
         ]
        },
        {
         "marker": {
          "color": "blue",
          "size": 10,
          "symbol": "circle"
         },
         "mode": "markers+text",
         "name": "Circuits",
         "text": [
          "C0",
          "C1",
          "C2",
          "C3",
          "C4",
          "C5",
          "C6",
          "C7",
          "C8",
          "C9",
          "C10",
          "C11",
          "C12",
          "C13",
          "C14",
          "C15",
          "C16",
          "C17",
          "C18",
          "C19",
          "C20",
          "C21",
          "C22",
          "C23",
          "C24",
          "C25",
          "C26",
          "C27",
          "C28",
          "C29",
          "C30",
          "C31",
          "C32",
          "C33",
          "C34",
          "C35",
          "C36",
          "C37",
          "C38",
          "C39",
          "C40",
          "C41",
          "C42",
          "C43",
          "C44",
          "C45",
          "C46",
          "C47",
          "C48",
          "C49"
         ],
         "textposition": "top center",
         "type": "scatter",
         "x": [
          98.90115134756002,
          28.144730195506284,
          44.44694959718031,
          4.852200090644587,
          11.595071149794444,
          85.61820485956244,
          99.07216847578,
          61.82944835673582,
          97.60033158175416,
          44.05308887745445,
          50.96996840471413,
          22.695478934228586,
          24.275815678011302,
          81.88734275653765,
          92.31495390276692,
          70.63714846079961,
          60.100412352318635,
          83.68294504320563,
          45.773799146064654,
          25.195019979155518,
          72.66371963080242,
          82.57539654972054,
          9.413892910049249,
          74.17541279606095,
          85.58690716836288,
          18.395198585753025,
          92.22779774577657,
          25.50567553368033,
          98.40365650382252,
          40.23712839556847,
          44.38741260834264,
          32.25899537209548,
          72.40123708698462,
          18.77457281509295,
          14.019181542772763,
          49.17631570320224,
          87.98135265003748,
          30.491329572436364,
          94.03046334306231,
          3.941980288626623,
          6.423217143992743,
          83.97724892594816,
          98.79156428214655,
          94.08777292407284,
          25.263224568082887,
          68.47226881391506,
          60.42382026473262,
          23.72215788455453,
          84.07924000754835,
          72.27552072400374
         ],
         "y": [
          54.95447268447254,
          7.7289566079172705,
          47.28079697554853,
          16.332444820826673,
          62.739168270442605,
          65.01024210875525,
          47.03507484037854,
          28.26672065311674,
          67.30679991316752,
          28.968734025209486,
          11.246089579599461,
          47.85523046616946,
          38.798251760716695,
          7.454078516154661,
          22.48960820094579,
          11.056545677251128,
          40.67925380882937,
          25.003042784395912,
          55.74327026820758,
          11.024132226573247,
          31.007393751622235,
          45.16665266465536,
          88.72032376098616,
          12.193227543479901,
          6.693827118834939,
          17.216681730643145,
          66.63324712234675,
          25.131625283785162,
          67.87953743323041,
          6.417229596609242,
          20.709162827460148,
          64.94859503276331,
          46.833249733608696,
          29.6387440681542,
          9.47696581546128,
          99.0778703228649,
          16.127882072143063,
          60.47952172863975,
          73.31195005772628,
          15.996243096834316,
          44.455046694943526,
          55.753537382254834,
          76.31956028275805,
          72.67483961714403,
          90.74539022334856,
          10.523491740724166,
          73.72609322200047,
          98.89859095922957,
          43.31002395015694,
          66.86359854884917
         ]
        },
        {
         "marker": {
          "color": "green",
          "size": 14,
          "symbol": "triangle-up"
         },
         "mode": "markers+text",
         "name": "Towers",
         "text": [
          "Tw0",
          "Tw1",
          "Tw2",
          "Tw3",
          "Tw4",
          "Tw5",
          "Tw6",
          "Tw7",
          "Tw8",
          "Tw9",
          "Tw10",
          "Tw11",
          "Tw12",
          "Tw13",
          "Tw14",
          "Tw15"
         ],
         "textposition": "top center",
         "type": "scatter",
         "x": [
          -2.9905811493775913,
          1.1482530081196072,
          25.649070315896402,
          25.981213051161156,
          34.163184162428955,
          39.11632518199393,
          42.13492620825108,
          42.45945635650918,
          49.02013205536298,
          51.91140339067614,
          66.34967049436817,
          73.25837926779712,
          78.27075519485604,
          80.57283693528949,
          94.95761782346968,
          105.09834847061643
         ],
         "y": [
          44.28000894514202,
          22.791152724795218,
          51.306391410070596,
          91.94243432620529,
          15.237654757954035,
          65.04297118221166,
          87.23614695703577,
          33.41870814959478,
          49.397706227717826,
          30.811124261481105,
          70.2948458854248,
          61.33704056770339,
          14.63761127016126,
          43.969919990463126,
          68.01133115245011,
          18.367139396277274
         ]
        },
        {
         "line": {
          "color": "black"
         },
         "mode": "lines",
         "name": "Wire Connection",
         "showlegend": false,
         "type": "scatter",
         "x": [
          -2.9905811493775913,
          1.1482530081196072
         ],
         "y": [
          44.28000894514202,
          22.791152724795218
         ]
        },
        {
         "line": {
          "color": "black"
         },
         "mode": "lines",
         "name": "Wire Connection",
         "showlegend": false,
         "type": "scatter",
         "x": [
          1.1482530081196072,
          25.649070315896402
         ],
         "y": [
          22.791152724795218,
          51.306391410070596
         ]
        },
        {
         "line": {
          "color": "black"
         },
         "mode": "lines",
         "name": "Wire Connection",
         "showlegend": false,
         "type": "scatter",
         "x": [
          25.649070315896402,
          25.981213051161156
         ],
         "y": [
          51.306391410070596,
          91.94243432620529
         ]
        },
        {
         "line": {
          "color": "black"
         },
         "mode": "lines",
         "name": "Wire Connection",
         "showlegend": false,
         "type": "scatter",
         "x": [
          25.981213051161156,
          34.163184162428955
         ],
         "y": [
          91.94243432620529,
          15.237654757954035
         ]
        },
        {
         "line": {
          "color": "black"
         },
         "mode": "lines",
         "name": "Wire Connection",
         "showlegend": false,
         "type": "scatter",
         "x": [
          34.163184162428955,
          39.11632518199393
         ],
         "y": [
          15.237654757954035,
          65.04297118221166
         ]
        },
        {
         "line": {
          "color": "black"
         },
         "mode": "lines",
         "name": "Wire Connection",
         "showlegend": false,
         "type": "scatter",
         "x": [
          39.11632518199393,
          42.13492620825108
         ],
         "y": [
          65.04297118221166,
          87.23614695703577
         ]
        },
        {
         "line": {
          "color": "black"
         },
         "mode": "lines",
         "name": "Wire Connection",
         "showlegend": false,
         "type": "scatter",
         "x": [
          42.13492620825108,
          42.45945635650918
         ],
         "y": [
          87.23614695703577,
          33.41870814959478
         ]
        },
        {
         "line": {
          "color": "black"
         },
         "mode": "lines",
         "name": "Wire Connection",
         "showlegend": false,
         "type": "scatter",
         "x": [
          42.45945635650918,
          49.02013205536298
         ],
         "y": [
          33.41870814959478,
          49.397706227717826
         ]
        },
        {
         "line": {
          "color": "black"
         },
         "mode": "lines",
         "name": "Wire Connection",
         "showlegend": false,
         "type": "scatter",
         "x": [
          49.02013205536298,
          51.91140339067614
         ],
         "y": [
          49.397706227717826,
          30.811124261481105
         ]
        },
        {
         "line": {
          "color": "black"
         },
         "mode": "lines",
         "name": "Wire Connection",
         "showlegend": false,
         "type": "scatter",
         "x": [
          51.91140339067614,
          66.34967049436817
         ],
         "y": [
          30.811124261481105,
          70.2948458854248
         ]
        },
        {
         "line": {
          "color": "black"
         },
         "mode": "lines",
         "name": "Wire Connection",
         "showlegend": false,
         "type": "scatter",
         "x": [
          66.34967049436817,
          73.25837926779712
         ],
         "y": [
          70.2948458854248,
          61.33704056770339
         ]
        },
        {
         "line": {
          "color": "black"
         },
         "mode": "lines",
         "name": "Wire Connection",
         "showlegend": false,
         "type": "scatter",
         "x": [
          73.25837926779712,
          78.27075519485604
         ],
         "y": [
          61.33704056770339,
          14.63761127016126
         ]
        },
        {
         "line": {
          "color": "black"
         },
         "mode": "lines",
         "name": "Wire Connection",
         "showlegend": false,
         "type": "scatter",
         "x": [
          78.27075519485604,
          80.57283693528949
         ],
         "y": [
          14.63761127016126,
          43.969919990463126
         ]
        },
        {
         "line": {
          "color": "black"
         },
         "mode": "lines",
         "name": "Wire Connection",
         "showlegend": false,
         "type": "scatter",
         "x": [
          80.57283693528949,
          94.95761782346968
         ],
         "y": [
          43.969919990463126,
          68.01133115245011
         ]
        },
        {
         "line": {
          "color": "black"
         },
         "mode": "lines",
         "name": "Wire Connection",
         "showlegend": false,
         "type": "scatter",
         "x": [
          94.95761782346968,
          105.09834847061643
         ],
         "y": [
          68.01133115245011,
          18.367139396277274
         ]
        },
        {
         "line": {
          "color": "black",
          "dash": "dash"
         },
         "mode": "lines",
         "name": "Circuit Connection",
         "showlegend": false,
         "type": "scatter",
         "x": [
          98.90115134756002,
          97.67584555543834
         ],
         "y": [
          54.95447268447254,
          54.70418165225426
         ]
        },
        {
         "mode": "text",
         "showlegend": false,
         "text": [
          "1.25"
         ],
         "textposition": "middle center",
         "type": "scatter",
         "x": [
          98.28849845149918
         ],
         "y": [
          54.829327168363406
         ]
        },
        {
         "line": {
          "color": "black",
          "dash": "dash"
         },
         "mode": "lines",
         "name": "Circuit Connection",
         "showlegend": false,
         "type": "scatter",
         "x": [
          28.144730195506284,
          34.163184162428955
         ],
         "y": [
          7.7289566079172705,
          15.237654757954033
         ]
        },
        {
         "mode": "text",
         "showlegend": false,
         "text": [
          "9.62"
         ],
         "textposition": "middle center",
         "type": "scatter",
         "x": [
          31.15395717896762
         ],
         "y": [
          11.48330568293565
         ]
        },
        {
         "line": {
          "color": "black",
          "dash": "dash"
         },
         "mode": "lines",
         "name": "Circuit Connection",
         "showlegend": false,
         "type": "scatter",
         "x": [
          44.44694959718031,
          42.37594043840586
         ],
         "y": [
          47.28079697554853,
          47.26830836731606
         ]
        },
        {
         "mode": "text",
         "showlegend": false,
         "text": [
          "2.07"
         ],
         "textposition": "middle center",
         "type": "scatter",
         "x": [
          43.411445017793085
         ],
         "y": [
          47.274552671432296
         ]
        },
        {
         "line": {
          "color": "black",
          "dash": "dash"
         },
         "mode": "lines",
         "name": "Circuit Connection",
         "showlegend": false,
         "type": "scatter",
         "x": [
          4.852200090644587,
          1.1482530081196072
         ],
         "y": [
          16.332444820826673,
          22.791152724795218
         ]
        },
        {
         "mode": "text",
         "showlegend": false,
         "text": [
          "7.45"
         ],
         "textposition": "middle center",
         "type": "scatter",
         "x": [
          3.0002265493820968
         ],
         "y": [
          19.561798772810945
         ]
        },
        {
         "line": {
          "color": "black",
          "dash": "dash"
         },
         "mode": "lines",
         "name": "Circuit Connection",
         "showlegend": false,
         "type": "scatter",
         "x": [
          11.595071149794444,
          25.741572158201112
         ],
         "y": [
          62.739168270442605,
          62.62354043854335
         ]
        },
        {
         "mode": "text",
         "showlegend": false,
         "text": [
          "14.15"
         ],
         "textposition": "middle center",
         "type": "scatter",
         "x": [
          18.66832165399778
         ],
         "y": [
          62.68135435449298
         ]
        },
        {
         "line": {
          "color": "black",
          "dash": "dash"
         },
         "mode": "lines",
         "name": "Circuit Connection",
         "showlegend": false,
         "type": "scatter",
         "x": [
          85.61820485956244,
          91.17324509076984
         ],
         "y": [
          65.01024210875525,
          61.68647562880375
         ]
        },
        {
         "mode": "text",
         "showlegend": false,
         "text": [
          "6.47"
         ],
         "textposition": "middle center",
         "type": "scatter",
         "x": [
          88.39572497516613
         ],
         "y": [
          63.3483588687795
         ]
        },
        {
         "line": {
          "color": "black",
          "dash": "dash"
         },
         "mode": "lines",
         "name": "Circuit Connection",
         "showlegend": false,
         "type": "scatter",
         "x": [
          99.07216847578,
          99.23558184199871
         ],
         "y": [
          47.03507484037854,
          47.068454997701
         ]
        },
        {
         "mode": "text",
         "showlegend": false,
         "text": [
          "0.17"
         ],
         "textposition": "middle center",
         "type": "scatter",
         "x": [
          99.15387515888935
         ],
         "y": [
          47.05176491903977
         ]
        },
        {
         "line": {
          "color": "black",
          "dash": "dash"
         },
         "mode": "lines",
         "name": "Circuit Connection",
         "showlegend": false,
         "type": "scatter",
         "x": [
          61.82944835673582,
          52.260524395227854
         ],
         "y": [
          28.26672065311674,
          31.765850784947794
         ]
        },
        {
         "mode": "text",
         "showlegend": false,
         "text": [
          "10.19"
         ],
         "textposition": "middle center",
         "type": "scatter",
         "x": [
          57.044986375981836
         ],
         "y": [
          30.01628571903227
         ]
        },
        {
         "line": {
          "color": "black",
          "dash": "dash"
         },
         "mode": "lines",
         "name": "Circuit Connection",
         "showlegend": false,
         "type": "scatter",
         "x": [
          97.60033158175416,
          95.20161867355174
         ],
         "y": [
          67.30679991316752,
          66.81681909886834
         ]
        },
        {
         "mode": "text",
         "showlegend": false,
         "text": [
          "2.45"
         ],
         "textposition": "middle center",
         "type": "scatter",
         "x": [
          96.40097512765294
         ],
         "y": [
          67.06180950601794
         ]
        },
        {
         "line": {
          "color": "black",
          "dash": "dash"
         },
         "mode": "lines",
         "name": "Circuit Connection",
         "showlegend": false,
         "type": "scatter",
         "x": [
          44.05308887745445,
          42.45945635650918
         ],
         "y": [
          28.968734025209486,
          33.41870814959478
         ]
        },
        {
         "mode": "text",
         "showlegend": false,
         "text": [
          "4.73"
         ],
         "textposition": "middle center",
         "type": "scatter",
         "x": [
          43.25627261698182
         ],
         "y": [
          31.193721087402132
         ]
        },
        {
         "line": {
          "color": "black",
          "dash": "dash"
         },
         "mode": "lines",
         "name": "Circuit Connection",
         "showlegend": false,
         "type": "scatter",
         "x": [
          50.96996840471413,
          34.163184162428955
         ],
         "y": [
          11.246089579599461,
          15.237654757954033
         ]
        },
        {
         "mode": "text",
         "showlegend": false,
         "text": [
          "17.27"
         ],
         "textposition": "middle center",
         "type": "scatter",
         "x": [
          42.56657628357154
         ],
         "y": [
          13.241872168776748
         ]
        },
        {
         "line": {
          "color": "black",
          "dash": "dash"
         },
         "mode": "lines",
         "name": "Circuit Connection",
         "showlegend": false,
         "type": "scatter",
         "x": [
          22.695478934228586,
          22.688742557913415
         ],
         "y": [
          47.85523046616946,
          47.86101848454223
         ]
        },
        {
         "mode": "text",
         "showlegend": false,
         "text": [
          "0.01"
         ],
         "textposition": "middle center",
         "type": "scatter",
         "x": [
          22.692110746071002
         ],
         "y": [
          47.858124475355844
         ]
        },
        {
         "line": {
          "color": "black",
          "dash": "dash"
         },
         "mode": "lines",
         "name": "Circuit Connection",
         "showlegend": false,
         "type": "scatter",
         "x": [
          24.275815678011302,
          18.883072807470526
         ],
         "y": [
          38.798251760716695,
          43.43179557626128
         ]
        },
        {
         "mode": "text",
         "showlegend": false,
         "text": [
          "7.11"
         ],
         "textposition": "middle center",
         "type": "scatter",
         "x": [
          21.579444242740912
         ],
         "y": [
          41.11502366848899
         ]
        },
        {
         "line": {
          "color": "black",
          "dash": "dash"
         },
         "mode": "lines",
         "name": "Circuit Connection",
         "showlegend": false,
         "type": "scatter",
         "x": [
          81.88734275653765,
          78.27075519485604
         ],
         "y": [
          7.454078516154661,
          14.637611270161258
         ]
        },
        {
         "mode": "text",
         "showlegend": false,
         "text": [
          "8.04"
         ],
         "textposition": "middle center",
         "type": "scatter",
         "x": [
          80.07904897569685
         ],
         "y": [
          11.045844893157959
         ]
        },
        {
         "line": {
          "color": "black",
          "dash": "dash"
         },
         "mode": "lines",
         "name": "Circuit Connection",
         "showlegend": false,
         "type": "scatter",
         "x": [
          92.31495390276692,
          103.77795941062675
         ],
         "y": [
          22.48960820094579,
          24.831135923521963
         ]
        },
        {
         "mode": "text",
         "showlegend": false,
         "text": [
          "11.70"
         ],
         "textposition": "middle center",
         "type": "scatter",
         "x": [
          98.04645665669683
         ],
         "y": [
          23.660372062233876
         ]
        },
        {
         "line": {
          "color": "black",
          "dash": "dash"
         },
         "mode": "lines",
         "name": "Circuit Connection",
         "showlegend": false,
         "type": "scatter",
         "x": [
          70.63714846079961,
          78.27075519485604
         ],
         "y": [
          11.056545677251128,
          14.637611270161258
         ]
        },
        {
         "mode": "text",
         "showlegend": false,
         "text": [
          "8.43"
         ],
         "textposition": "middle center",
         "type": "scatter",
         "x": [
          74.45395182782782
         ],
         "y": [
          12.847078473706194
         ]
        },
        {
         "line": {
          "color": "black",
          "dash": "dash"
         },
         "mode": "lines",
         "name": "Circuit Connection",
         "showlegend": false,
         "type": "scatter",
         "x": [
          60.100412352318635,
          56.060200163360896
         ],
         "y": [
          40.67925380882937,
          42.15666425395796
         ]
        },
        {
         "mode": "text",
         "showlegend": false,
         "text": [
          "4.30"
         ],
         "textposition": "middle center",
         "type": "scatter",
         "x": [
          58.080306257839766
         ],
         "y": [
          41.417959031393664
         ]
        },
        {
         "line": {
          "color": "black",
          "dash": "dash"
         },
         "mode": "lines",
         "name": "Circuit Connection",
         "showlegend": false,
         "type": "scatter",
         "x": [
          83.68294504320563,
          79.11241569503308
         ],
         "y": [
          25.003042784395912,
          25.361750728488317
         ]
        },
        {
         "mode": "text",
         "showlegend": false,
         "text": [
          "4.58"
         ],
         "textposition": "middle center",
         "type": "scatter",
         "x": [
          81.39768036911936
         ],
         "y": [
          25.182396756442117
         ]
        },
        {
         "line": {
          "color": "black",
          "dash": "dash"
         },
         "mode": "lines",
         "name": "Circuit Connection",
         "showlegend": false,
         "type": "scatter",
         "x": [
          45.773799146064654,
          42.324960098513905
         ],
         "y": [
          55.74327026820758,
          55.72247306432308
         ]
        },
        {
         "mode": "text",
         "showlegend": false,
         "text": [
          "3.45"
         ],
         "textposition": "middle center",
         "type": "scatter",
         "x": [
          44.04937962228928
         ],
         "y": [
          55.73287166626533
         ]
        },
        {
         "line": {
          "color": "black",
          "dash": "dash"
         },
         "mode": "lines",
         "name": "Circuit Connection",
         "showlegend": false,
         "type": "scatter",
         "x": [
          25.195019979155518,
          34.163184162428955
         ],
         "y": [
          11.024132226573247,
          15.237654757954033
         ]
        },
        {
         "mode": "text",
         "showlegend": false,
         "text": [
          "9.91"
         ],
         "textposition": "middle center",
         "type": "scatter",
         "x": [
          29.679102070792236
         ],
         "y": [
          13.13089349226364
         ]
        },
        {
         "line": {
          "color": "black",
          "dash": "dash"
         },
         "mode": "lines",
         "name": "Circuit Connection",
         "showlegend": false,
         "type": "scatter",
         "x": [
          72.66371963080242,
          76.4698939069888
         ],
         "y": [
          31.007393751622235,
          31.4159207208619
         ]
        },
        {
         "mode": "text",
         "showlegend": false,
         "text": [
          "3.83"
         ],
         "textposition": "middle center",
         "type": "scatter",
         "x": [
          74.56680676889562
         ],
         "y": [
          31.21165723624207
         ]
        },
        {
         "line": {
          "color": "black",
          "dash": "dash"
         },
         "mode": "lines",
         "name": "Circuit Connection",
         "showlegend": false,
         "type": "scatter",
         "x": [
          82.57539654972054,
          81.62803894905134
         ],
         "y": [
          45.16665266465536,
          45.73348842219715
         ]
        },
        {
         "mode": "text",
         "showlegend": false,
         "text": [
          "1.10"
         ],
         "textposition": "middle center",
         "type": "scatter",
         "x": [
          82.10171774938594
         ],
         "y": [
          45.45007054342625
         ]
        },
        {
         "line": {
          "color": "black",
          "dash": "dash"
         },
         "mode": "lines",
         "name": "Circuit Connection",
         "showlegend": false,
         "type": "scatter",
         "x": [
          9.413892910049249,
          25.953771818524302
         ],
         "y": [
          88.72032376098616,
          88.58513341696211
         ]
        },
        {
         "mode": "text",
         "showlegend": false,
         "text": [
          "16.54"
         ],
         "textposition": "middle center",
         "type": "scatter",
         "x": [
          17.683832364286776
         ],
         "y": [
          88.65272858897413
         ]
        },
        {
         "line": {
          "color": "black",
          "dash": "dash"
         },
         "mode": "lines",
         "name": "Circuit Connection",
         "showlegend": false,
         "type": "scatter",
         "x": [
          74.17541279606095,
          78.27075519485604
         ],
         "y": [
          12.193227543479901,
          14.637611270161258
         ]
        },
        {
         "mode": "text",
         "showlegend": false,
         "text": [
          "4.77"
         ],
         "textposition": "middle center",
         "type": "scatter",
         "x": [
          76.2230839954585
         ],
         "y": [
          13.415419406820579
         ]
        },
        {
         "line": {
          "color": "black",
          "dash": "dash"
         },
         "mode": "lines",
         "name": "Circuit Connection",
         "showlegend": false,
         "type": "scatter",
         "x": [
          85.58690716836288,
          78.27075519485604
         ],
         "y": [
          6.693827118834939,
          14.637611270161258
         ]
        },
        {
         "mode": "text",
         "showlegend": false,
         "text": [
          "10.80"
         ],
         "textposition": "middle center",
         "type": "scatter",
         "x": [
          81.92883118160947
         ],
         "y": [
          10.665719194498099
         ]
        },
        {
         "line": {
          "color": "black",
          "dash": "dash"
         },
         "mode": "lines",
         "name": "Circuit Connection",
         "showlegend": false,
         "type": "scatter",
         "x": [
          18.395198585753025,
          33.77706768806877
         ],
         "y": [
          17.216681730643145,
          18.85744009460491
         ]
        },
        {
         "mode": "text",
         "showlegend": false,
         "text": [
          "15.47"
         ],
         "textposition": "middle center",
         "type": "scatter",
         "x": [
          26.086133136910895
         ],
         "y": [
          18.037060912624028
         ]
        },
        {
         "line": {
          "color": "black",
          "dash": "dash"
         },
         "mode": "lines",
         "name": "Circuit Connection",
         "showlegend": false,
         "type": "scatter",
         "x": [
          92.22779774577657,
          93.63078902783313
         ],
         "y": [
          66.63324712234675,
          65.79379048461323
         ]
        },
        {
         "mode": "text",
         "showlegend": false,
         "text": [
          "1.63"
         ],
         "textposition": "middle center",
         "type": "scatter",
         "x": [
          92.92929338680486
         ],
         "y": [
          66.21351880347999
         ]
        },
        {
         "line": {
          "color": "black",
          "dash": "dash"
         },
         "mode": "lines",
         "name": "Circuit Connection",
         "showlegend": false,
         "type": "scatter",
         "x": [
          25.50567553368033,
          33.022285805094796
         ],
         "y": [
          25.131625283785162,
          25.933409585122604
         ]
        },
        {
         "mode": "text",
         "showlegend": false,
         "text": [
          "7.56"
         ],
         "textposition": "middle center",
         "type": "scatter",
         "x": [
          29.263980669387564
         ],
         "y": [
          25.532517434453883
         ]
        },
        {
         "line": {
          "color": "black",
          "dash": "dash"
         },
         "mode": "lines",
         "name": "Circuit Connection",
         "showlegend": false,
         "type": "scatter",
         "x": [
          98.40365650382252,
          95.12148918212361
         ],
         "y": [
          67.87953743323041,
          67.2090949590798
         ]
        },
        {
         "mode": "text",
         "showlegend": false,
         "text": [
          "3.35"
         ],
         "textposition": "middle center",
         "type": "scatter",
         "x": [
          96.76257284297307
         ],
         "y": [
          67.54431619615511
         ]
        },
        {
         "line": {
          "color": "black",
          "dash": "dash"
         },
         "mode": "lines",
         "name": "Circuit Connection",
         "showlegend": false,
         "type": "scatter",
         "x": [
          40.23712839556847,
          34.163184162428955
         ],
         "y": [
          6.417229596609242,
          15.237654757954033
         ]
        },
        {
         "mode": "text",
         "showlegend": false,
         "text": [
          "10.71"
         ],
         "textposition": "middle center",
         "type": "scatter",
         "x": [
          37.20015627899871
         ],
         "y": [
          10.827442177281638
         ]
        },
        {
         "line": {
          "color": "black",
          "dash": "dash"
         },
         "mode": "lines",
         "name": "Circuit Connection",
         "showlegend": false,
         "type": "scatter",
         "x": [
          44.38741260834264,
          34.802127351568956
         ],
         "y": [
          20.709162827460148,
          21.662419889118596
         ]
        },
        {
         "mode": "text",
         "showlegend": false,
         "text": [
          "9.63"
         ],
         "textposition": "middle center",
         "type": "scatter",
         "x": [
          39.5947699799558
         ],
         "y": [
          21.18579135828937
         ]
        },
        {
         "line": {
          "color": "black",
          "dash": "dash"
         },
         "mode": "lines",
         "name": "Circuit Connection",
         "showlegend": false,
         "type": "scatter",
         "x": [
          32.25899537209548,
          28.898833312717485
         ],
         "y": [
          64.94859503276331,
          64.59017214107706
         ]
        },
        {
         "mode": "text",
         "showlegend": false,
         "text": [
          "3.38"
         ],
         "textposition": "middle center",
         "type": "scatter",
         "x": [
          30.57891434240648
         ],
         "y": [
          64.76938358692018
         ]
        },
        {
         "line": {
          "color": "black",
          "dash": "dash"
         },
         "mode": "lines",
         "name": "Circuit Connection",
         "showlegend": false,
         "type": "scatter",
         "x": [
          72.40123708698462,
          74.78761847607264
         ],
         "y": [
          46.833249733608696,
          47.089386496035374
         ]
        },
        {
         "mode": "text",
         "showlegend": false,
         "text": [
          "2.40"
         ],
         "textposition": "middle center",
         "type": "scatter",
         "x": [
          73.59442778152862
         ],
         "y": [
          46.961318114822035
         ]
        },
        {
         "line": {
          "color": "black",
          "dash": "dash"
         },
         "mode": "lines",
         "name": "Circuit Connection",
         "showlegend": false,
         "type": "scatter",
         "x": [
          18.77457281509295,
          12.019099586749306
         ],
         "y": [
          29.6387440681542,
          35.443170859808326
         ]
        },
        {
         "mode": "text",
         "showlegend": false,
         "text": [
          "8.91"
         ],
         "textposition": "middle center",
         "type": "scatter",
         "x": [
          15.396836200921127
         ],
         "y": [
          32.540957463981265
         ]
        },
        {
         "line": {
          "color": "black",
          "dash": "dash"
         },
         "mode": "lines",
         "name": "Circuit Connection",
         "showlegend": false,
         "type": "scatter",
         "x": [
          14.019181542772763,
          1.1482530081196072
         ],
         "y": [
          9.47696581546128,
          22.791152724795218
         ]
        },
        {
         "mode": "text",
         "showlegend": false,
         "text": [
          "18.52"
         ],
         "textposition": "middle center",
         "type": "scatter",
         "x": [
          7.583717275446185
         ],
         "y": [
          16.134059270128247
         ]
        },
        {
         "line": {
          "color": "black",
          "dash": "dash"
         },
         "mode": "lines",
         "name": "Circuit Connection",
         "showlegend": false,
         "type": "scatter",
         "x": [
          49.17631570320224,
          42.13492620825108
         ],
         "y": [
          99.0778703228649,
          87.23614695703577
         ]
        },
        {
         "mode": "text",
         "showlegend": false,
         "text": [
          "13.78"
         ],
         "textposition": "middle center",
         "type": "scatter",
         "x": [
          45.65562095572666
         ],
         "y": [
          93.15700863995033
         ]
        },
        {
         "line": {
          "color": "black",
          "dash": "dash"
         },
         "mode": "lines",
         "name": "Circuit Connection",
         "showlegend": false,
         "type": "scatter",
         "x": [
          87.98135265003748,
          78.44644655221501
         ],
         "y": [
          16.127882072143063,
          16.876208207458564
         ]
        },
        {
         "mode": "text",
         "showlegend": false,
         "text": [
          "9.56"
         ],
         "textposition": "middle center",
         "type": "scatter",
         "x": [
          83.21389960112624
         ],
         "y": [
          16.502045139800813
         ]
        },
        {
         "line": {
          "color": "black",
          "dash": "dash"
         },
         "mode": "lines",
         "name": "Circuit Connection",
         "showlegend": false,
         "type": "scatter",
         "x": [
          30.491329572436364,
          29.350292420569414
         ],
         "y": [
          60.47952172863975,
          60.35780919565279
         ]
        },
        {
         "mode": "text",
         "showlegend": false,
         "text": [
          "1.15"
         ],
         "textposition": "middle center",
         "type": "scatter",
         "x": [
          29.920810996502887
         ],
         "y": [
          60.41866546214627
         ]
        },
        {
         "line": {
          "color": "black",
          "dash": "dash"
         },
         "mode": "lines",
         "name": "Circuit Connection",
         "showlegend": false,
         "type": "scatter",
         "x": [
          94.03046334306231,
          94.95761782346968
         ],
         "y": [
          73.31195005772628,
          68.01133115245011
         ]
        },
        {
         "mode": "text",
         "showlegend": false,
         "text": [
          "5.38"
         ],
         "textposition": "middle center",
         "type": "scatter",
         "x": [
          94.49404058326598
         ],
         "y": [
          70.6616406050882
         ]
        },
        {
         "line": {
          "color": "black",
          "dash": "dash"
         },
         "mode": "lines",
         "name": "Circuit Connection",
         "showlegend": false,
         "type": "scatter",
         "x": [
          3.941980288626623,
          1.1482530081196072
         ],
         "y": [
          15.996243096834316,
          22.791152724795218
         ]
        },
        {
         "mode": "text",
         "showlegend": false,
         "text": [
          "7.35"
         ],
         "textposition": "middle center",
         "type": "scatter",
         "x": [
          2.5451166483731154
         ],
         "y": [
          19.393697910814765
         ]
        },
        {
         "line": {
          "color": "black",
          "dash": "dash"
         },
         "mode": "lines",
         "name": "Circuit Connection",
         "showlegend": false,
         "type": "scatter",
         "x": [
          6.423217143992743,
          -2.6863632401648867
         ],
         "y": [
          44.455046694943526,
          42.700507408728804
         ]
        },
        {
         "mode": "text",
         "showlegend": false,
         "text": [
          "9.28"
         ],
         "textposition": "middle center",
         "type": "scatter",
         "x": [
          1.8684269519139283
         ],
         "y": [
          43.577777051836165
         ]
        },
        {
         "line": {
          "color": "black",
          "dash": "dash"
         },
         "mode": "lines",
         "name": "Circuit Connection",
         "showlegend": false,
         "type": "scatter",
         "x": [
          83.97724892594816,
          86.66216259915146
         ],
         "y": [
          55.753537382254834,
          54.147063676011854
         ]
        },
        {
         "mode": "text",
         "showlegend": false,
         "text": [
          "3.13"
         ],
         "textposition": "middle center",
         "type": "scatter",
         "x": [
          85.3197057625498
         ],
         "y": [
          54.950300529133344
         ]
        },
        {
         "line": {
          "color": "black",
          "dash": "dash"
         },
         "mode": "lines",
         "name": "Circuit Connection",
         "showlegend": false,
         "type": "scatter",
         "x": [
          98.79156428214655,
          94.95761782346968
         ],
         "y": [
          76.31956028275805,
          68.01133115245011
         ]
        },
        {
         "mode": "text",
         "showlegend": false,
         "text": [
          "9.15"
         ],
         "textposition": "middle center",
         "type": "scatter",
         "x": [
          96.87459105280811
         ],
         "y": [
          72.16544571760409
         ]
        },
        {
         "line": {
          "color": "black",
          "dash": "dash"
         },
         "mode": "lines",
         "name": "Circuit Connection",
         "showlegend": false,
         "type": "scatter",
         "x": [
          94.08777292407284,
          94.95761782346968
         ],
         "y": [
          72.67483961714403,
          68.01133115245011
         ]
        },
        {
         "mode": "text",
         "showlegend": false,
         "text": [
          "4.74"
         ],
         "textposition": "middle center",
         "type": "scatter",
         "x": [
          94.52269537377126
         ],
         "y": [
          70.34308538479706
         ]
        },
        {
         "line": {
          "color": "black",
          "dash": "dash"
         },
         "mode": "lines",
         "name": "Circuit Connection",
         "showlegend": false,
         "type": "scatter",
         "x": [
          25.263224568082887,
          25.971381581861515
         ],
         "y": [
          90.74539022334856,
          90.73960203161842
         ]
        },
        {
         "mode": "text",
         "showlegend": false,
         "text": [
          "0.71"
         ],
         "textposition": "middle center",
         "type": "scatter",
         "x": [
          25.6173030749722
         ],
         "y": [
          90.74249612748349
         ]
        },
        {
         "line": {
          "color": "black",
          "dash": "dash"
         },
         "mode": "lines",
         "name": "Circuit Connection",
         "showlegend": false,
         "type": "scatter",
         "x": [
          68.47226881391506,
          78.27075519485604
         ],
         "y": [
          10.523491740724166,
          14.637611270161258
         ]
        },
        {
         "mode": "text",
         "showlegend": false,
         "text": [
          "10.63"
         ],
         "textposition": "middle center",
         "type": "scatter",
         "x": [
          73.37151200438555
         ],
         "y": [
          12.580551505442713
         ]
        },
        {
         "line": {
          "color": "black",
          "dash": "dash"
         },
         "mode": "lines",
         "name": "Circuit Connection",
         "showlegend": false,
         "type": "scatter",
         "x": [
          60.42382026473262,
          66.34967049436817
         ],
         "y": [
          73.72609322200047,
          70.2948458854248
         ]
        },
        {
         "mode": "text",
         "showlegend": false,
         "text": [
          "6.85"
         ],
         "textposition": "middle center",
         "type": "scatter",
         "x": [
          63.38674537955039
         ],
         "y": [
          72.01046955371264
         ]
        },
        {
         "line": {
          "color": "black",
          "dash": "dash"
         },
         "mode": "lines",
         "name": "Circuit Connection",
         "showlegend": false,
         "type": "scatter",
         "x": [
          23.72215788455453,
          25.981213051161156
         ],
         "y": [
          98.89859095922957,
          91.94243432620529
         ]
        },
        {
         "mode": "text",
         "showlegend": false,
         "text": [
          "7.31"
         ],
         "textposition": "middle center",
         "type": "scatter",
         "x": [
          24.85168546785784
         ],
         "y": [
          95.42051264271743
         ]
        },
        {
         "line": {
          "color": "black",
          "dash": "dash"
         },
         "mode": "lines",
         "name": "Circuit Connection",
         "showlegend": false,
         "type": "scatter",
         "x": [
          84.07924000754835,
          81.20646201129061
         ],
         "y": [
          43.31002395015694,
          45.02890316810787
         ]
        },
        {
         "mode": "text",
         "showlegend": false,
         "text": [
          "3.35"
         ],
         "textposition": "middle center",
         "type": "scatter",
         "x": [
          82.64285100941947
         ],
         "y": [
          44.1694635591324
         ]
        },
        {
         "line": {
          "color": "black",
          "dash": "dash"
         },
         "mode": "lines",
         "name": "Circuit Connection",
         "showlegend": false,
         "type": "scatter",
         "x": [
          72.27552072400374,
          70.21918447396735
         ],
         "y": [
          66.86359854884917,
          65.27764888954577
         ]
        },
        {
         "mode": "text",
         "showlegend": false,
         "text": [
          "2.60"
         ],
         "textposition": "middle center",
         "type": "scatter",
         "x": [
          71.24735259898554
         ],
         "y": [
          66.07062371919747
         ]
        },
        {
         "line": {
          "color": "black",
          "dash": "dash"
         },
         "mode": "lines",
         "name": "Thermoelectric Connection",
         "showlegend": false,
         "type": "scatter",
         "x": [
          66.34967049436818,
          66.34967049436817
         ],
         "y": [
          70.29484588542482,
          70.2948458854248
         ]
        },
        {
         "mode": "text",
         "showlegend": false,
         "text": [
          "0.00"
         ],
         "textposition": "middle center",
         "type": "scatter",
         "x": [
          66.34967049436818
         ],
         "y": [
          70.29484588542482
         ]
        },
        {
         "line": {
          "color": "black",
          "dash": "dash"
         },
         "mode": "lines",
         "name": "Thermoelectric Connection",
         "showlegend": false,
         "type": "scatter",
         "x": [
          17.35356987890401,
          4.954838860956796
         ],
         "y": [
          16.56822420627441,
          27.22144183744419
         ]
        },
        {
         "mode": "text",
         "showlegend": false,
         "text": [
          "16.35"
         ],
         "textposition": "middle center",
         "type": "scatter",
         "x": [
          11.154204369930405
         ],
         "y": [
          21.8948330218593
         ]
        },
        {
         "line": {
          "color": "black",
          "dash": "dash"
         },
         "mode": "lines",
         "name": "Thermoelectric Connection",
         "showlegend": false,
         "type": "scatter",
         "x": [
          50.262909832522354,
          51.91140339067614
         ],
         "y": [
          22.71453174847074,
          30.811124261481105
         ]
        },
        {
         "mode": "text",
         "showlegend": false,
         "text": [
          "8.26"
         ],
         "textposition": "middle center",
         "type": "scatter",
         "x": [
          51.08715661159925
         ],
         "y": [
          26.762828004975923
         ]
        },
        {
         "line": {
          "color": "black",
          "dash": "dash"
         },
         "mode": "lines",
         "name": "Thermoelectric Connection",
         "showlegend": false,
         "type": "scatter",
         "x": [
          26.89389776647223,
          25.981213051161156
         ],
         "y": [
          94.3605438166073,
          91.94243432620529
         ]
        },
        {
         "mode": "text",
         "showlegend": false,
         "text": [
          "2.58"
         ],
         "textposition": "middle center",
         "type": "scatter",
         "x": [
          26.437555408816692
         ],
         "y": [
          93.1514890714063
         ]
        },
        {
         "line": {
          "color": "black",
          "dash": "dash"
         },
         "mode": "lines",
         "name": "Thermoelectric Connection",
         "showlegend": false,
         "type": "scatter",
         "x": [
          82.46150177946402,
          81.45893256638597
         ],
         "y": [
          44.850988720446104,
          45.45085943345008
         ]
        },
        {
         "mode": "text",
         "showlegend": false,
         "text": [
          "1.17"
         ],
         "textposition": "middle center",
         "type": "scatter",
         "x": [
          81.96021717292498
         ],
         "y": [
          45.15092407694809
         ]
        },
        {
         "line": {
          "color": "black",
          "dash": "dash"
         },
         "mode": "lines",
         "name": "Thermoelectric Connection",
         "showlegend": false,
         "type": "scatter",
         "x": [
          27.245082074225483,
          25.661281992854327
         ],
         "y": [
          52.78748514967893,
          52.80043049704518
         ]
        },
        {
         "mode": "text",
         "showlegend": false,
         "text": [
          "1.58"
         ],
         "textposition": "middle center",
         "type": "scatter",
         "x": [
          26.453182033539903
         ],
         "y": [
          52.79395782336205
         ]
        },
        {
         "line": {
          "color": "black",
          "dash": "dash"
         },
         "mode": "lines",
         "name": "Thermoelectric Connection",
         "showlegend": false,
         "type": "scatter",
         "x": [
          80.59229144896076,
          78.27075519485604
         ],
         "y": [
          13.942712956741197,
          14.637611270161258
         ]
        },
        {
         "mode": "text",
         "showlegend": false,
         "text": [
          "2.42"
         ],
         "textposition": "middle center",
         "type": "scatter",
         "x": [
          79.4315233219084
         ],
         "y": [
          14.290162113451228
         ]
        },
        {
         "line": {
          "color": "black",
          "dash": "dash"
         },
         "mode": "lines",
         "name": "Thermoelectric Connection",
         "showlegend": false,
         "type": "scatter",
         "x": [
          94.95761782346968,
          94.95761782346968
         ],
         "y": [
          68.01133115245011,
          68.01133115245011
         ]
        },
        {
         "mode": "text",
         "showlegend": false,
         "text": [
          "0.00"
         ],
         "textposition": "middle center",
         "type": "scatter",
         "x": [
          94.95761782346968
         ],
         "y": [
          68.01133115245011
         ]
        }
       ],
       "layout": {
        "height": 800,
        "legend": {
         "bgcolor": "rgba(255, 255, 255, 0.5)",
         "bordercolor": "rgba(0, 0, 0, 0.5)",
         "x": 0.01,
         "y": 0.99
        },
        "plot_bgcolor": "lightgreen",
        "template": {
         "data": {
          "bar": [
           {
            "error_x": {
             "color": "#2a3f5f"
            },
            "error_y": {
             "color": "#2a3f5f"
            },
            "marker": {
             "line": {
              "color": "#E5ECF6",
              "width": 0.5
             },
             "pattern": {
              "fillmode": "overlay",
              "size": 10,
              "solidity": 0.2
             }
            },
            "type": "bar"
           }
          ],
          "barpolar": [
           {
            "marker": {
             "line": {
              "color": "#E5ECF6",
              "width": 0.5
             },
             "pattern": {
              "fillmode": "overlay",
              "size": 10,
              "solidity": 0.2
             }
            },
            "type": "barpolar"
           }
          ],
          "carpet": [
           {
            "aaxis": {
             "endlinecolor": "#2a3f5f",
             "gridcolor": "white",
             "linecolor": "white",
             "minorgridcolor": "white",
             "startlinecolor": "#2a3f5f"
            },
            "baxis": {
             "endlinecolor": "#2a3f5f",
             "gridcolor": "white",
             "linecolor": "white",
             "minorgridcolor": "white",
             "startlinecolor": "#2a3f5f"
            },
            "type": "carpet"
           }
          ],
          "choropleth": [
           {
            "colorbar": {
             "outlinewidth": 0,
             "ticks": ""
            },
            "type": "choropleth"
           }
          ],
          "contour": [
           {
            "colorbar": {
             "outlinewidth": 0,
             "ticks": ""
            },
            "colorscale": [
             [
              0,
              "#0d0887"
             ],
             [
              0.1111111111111111,
              "#46039f"
             ],
             [
              0.2222222222222222,
              "#7201a8"
             ],
             [
              0.3333333333333333,
              "#9c179e"
             ],
             [
              0.4444444444444444,
              "#bd3786"
             ],
             [
              0.5555555555555556,
              "#d8576b"
             ],
             [
              0.6666666666666666,
              "#ed7953"
             ],
             [
              0.7777777777777778,
              "#fb9f3a"
             ],
             [
              0.8888888888888888,
              "#fdca26"
             ],
             [
              1,
              "#f0f921"
             ]
            ],
            "type": "contour"
           }
          ],
          "contourcarpet": [
           {
            "colorbar": {
             "outlinewidth": 0,
             "ticks": ""
            },
            "type": "contourcarpet"
           }
          ],
          "heatmap": [
           {
            "colorbar": {
             "outlinewidth": 0,
             "ticks": ""
            },
            "colorscale": [
             [
              0,
              "#0d0887"
             ],
             [
              0.1111111111111111,
              "#46039f"
             ],
             [
              0.2222222222222222,
              "#7201a8"
             ],
             [
              0.3333333333333333,
              "#9c179e"
             ],
             [
              0.4444444444444444,
              "#bd3786"
             ],
             [
              0.5555555555555556,
              "#d8576b"
             ],
             [
              0.6666666666666666,
              "#ed7953"
             ],
             [
              0.7777777777777778,
              "#fb9f3a"
             ],
             [
              0.8888888888888888,
              "#fdca26"
             ],
             [
              1,
              "#f0f921"
             ]
            ],
            "type": "heatmap"
           }
          ],
          "heatmapgl": [
           {
            "colorbar": {
             "outlinewidth": 0,
             "ticks": ""
            },
            "colorscale": [
             [
              0,
              "#0d0887"
             ],
             [
              0.1111111111111111,
              "#46039f"
             ],
             [
              0.2222222222222222,
              "#7201a8"
             ],
             [
              0.3333333333333333,
              "#9c179e"
             ],
             [
              0.4444444444444444,
              "#bd3786"
             ],
             [
              0.5555555555555556,
              "#d8576b"
             ],
             [
              0.6666666666666666,
              "#ed7953"
             ],
             [
              0.7777777777777778,
              "#fb9f3a"
             ],
             [
              0.8888888888888888,
              "#fdca26"
             ],
             [
              1,
              "#f0f921"
             ]
            ],
            "type": "heatmapgl"
           }
          ],
          "histogram": [
           {
            "marker": {
             "pattern": {
              "fillmode": "overlay",
              "size": 10,
              "solidity": 0.2
             }
            },
            "type": "histogram"
           }
          ],
          "histogram2d": [
           {
            "colorbar": {
             "outlinewidth": 0,
             "ticks": ""
            },
            "colorscale": [
             [
              0,
              "#0d0887"
             ],
             [
              0.1111111111111111,
              "#46039f"
             ],
             [
              0.2222222222222222,
              "#7201a8"
             ],
             [
              0.3333333333333333,
              "#9c179e"
             ],
             [
              0.4444444444444444,
              "#bd3786"
             ],
             [
              0.5555555555555556,
              "#d8576b"
             ],
             [
              0.6666666666666666,
              "#ed7953"
             ],
             [
              0.7777777777777778,
              "#fb9f3a"
             ],
             [
              0.8888888888888888,
              "#fdca26"
             ],
             [
              1,
              "#f0f921"
             ]
            ],
            "type": "histogram2d"
           }
          ],
          "histogram2dcontour": [
           {
            "colorbar": {
             "outlinewidth": 0,
             "ticks": ""
            },
            "colorscale": [
             [
              0,
              "#0d0887"
             ],
             [
              0.1111111111111111,
              "#46039f"
             ],
             [
              0.2222222222222222,
              "#7201a8"
             ],
             [
              0.3333333333333333,
              "#9c179e"
             ],
             [
              0.4444444444444444,
              "#bd3786"
             ],
             [
              0.5555555555555556,
              "#d8576b"
             ],
             [
              0.6666666666666666,
              "#ed7953"
             ],
             [
              0.7777777777777778,
              "#fb9f3a"
             ],
             [
              0.8888888888888888,
              "#fdca26"
             ],
             [
              1,
              "#f0f921"
             ]
            ],
            "type": "histogram2dcontour"
           }
          ],
          "mesh3d": [
           {
            "colorbar": {
             "outlinewidth": 0,
             "ticks": ""
            },
            "type": "mesh3d"
           }
          ],
          "parcoords": [
           {
            "line": {
             "colorbar": {
              "outlinewidth": 0,
              "ticks": ""
             }
            },
            "type": "parcoords"
           }
          ],
          "pie": [
           {
            "automargin": true,
            "type": "pie"
           }
          ],
          "scatter": [
           {
            "fillpattern": {
             "fillmode": "overlay",
             "size": 10,
             "solidity": 0.2
            },
            "type": "scatter"
           }
          ],
          "scatter3d": [
           {
            "line": {
             "colorbar": {
              "outlinewidth": 0,
              "ticks": ""
             }
            },
            "marker": {
             "colorbar": {
              "outlinewidth": 0,
              "ticks": ""
             }
            },
            "type": "scatter3d"
           }
          ],
          "scattercarpet": [
           {
            "marker": {
             "colorbar": {
              "outlinewidth": 0,
              "ticks": ""
             }
            },
            "type": "scattercarpet"
           }
          ],
          "scattergeo": [
           {
            "marker": {
             "colorbar": {
              "outlinewidth": 0,
              "ticks": ""
             }
            },
            "type": "scattergeo"
           }
          ],
          "scattergl": [
           {
            "marker": {
             "colorbar": {
              "outlinewidth": 0,
              "ticks": ""
             }
            },
            "type": "scattergl"
           }
          ],
          "scattermapbox": [
           {
            "marker": {
             "colorbar": {
              "outlinewidth": 0,
              "ticks": ""
             }
            },
            "type": "scattermapbox"
           }
          ],
          "scatterpolar": [
           {
            "marker": {
             "colorbar": {
              "outlinewidth": 0,
              "ticks": ""
             }
            },
            "type": "scatterpolar"
           }
          ],
          "scatterpolargl": [
           {
            "marker": {
             "colorbar": {
              "outlinewidth": 0,
              "ticks": ""
             }
            },
            "type": "scatterpolargl"
           }
          ],
          "scatterternary": [
           {
            "marker": {
             "colorbar": {
              "outlinewidth": 0,
              "ticks": ""
             }
            },
            "type": "scatterternary"
           }
          ],
          "surface": [
           {
            "colorbar": {
             "outlinewidth": 0,
             "ticks": ""
            },
            "colorscale": [
             [
              0,
              "#0d0887"
             ],
             [
              0.1111111111111111,
              "#46039f"
             ],
             [
              0.2222222222222222,
              "#7201a8"
             ],
             [
              0.3333333333333333,
              "#9c179e"
             ],
             [
              0.4444444444444444,
              "#bd3786"
             ],
             [
              0.5555555555555556,
              "#d8576b"
             ],
             [
              0.6666666666666666,
              "#ed7953"
             ],
             [
              0.7777777777777778,
              "#fb9f3a"
             ],
             [
              0.8888888888888888,
              "#fdca26"
             ],
             [
              1,
              "#f0f921"
             ]
            ],
            "type": "surface"
           }
          ],
          "table": [
           {
            "cells": {
             "fill": {
              "color": "#EBF0F8"
             },
             "line": {
              "color": "white"
             }
            },
            "header": {
             "fill": {
              "color": "#C8D4E3"
             },
             "line": {
              "color": "white"
             }
            },
            "type": "table"
           }
          ]
         },
         "layout": {
          "annotationdefaults": {
           "arrowcolor": "#2a3f5f",
           "arrowhead": 0,
           "arrowwidth": 1
          },
          "autotypenumbers": "strict",
          "coloraxis": {
           "colorbar": {
            "outlinewidth": 0,
            "ticks": ""
           }
          },
          "colorscale": {
           "diverging": [
            [
             0,
             "#8e0152"
            ],
            [
             0.1,
             "#c51b7d"
            ],
            [
             0.2,
             "#de77ae"
            ],
            [
             0.3,
             "#f1b6da"
            ],
            [
             0.4,
             "#fde0ef"
            ],
            [
             0.5,
             "#f7f7f7"
            ],
            [
             0.6,
             "#e6f5d0"
            ],
            [
             0.7,
             "#b8e186"
            ],
            [
             0.8,
             "#7fbc41"
            ],
            [
             0.9,
             "#4d9221"
            ],
            [
             1,
             "#276419"
            ]
           ],
           "sequential": [
            [
             0,
             "#0d0887"
            ],
            [
             0.1111111111111111,
             "#46039f"
            ],
            [
             0.2222222222222222,
             "#7201a8"
            ],
            [
             0.3333333333333333,
             "#9c179e"
            ],
            [
             0.4444444444444444,
             "#bd3786"
            ],
            [
             0.5555555555555556,
             "#d8576b"
            ],
            [
             0.6666666666666666,
             "#ed7953"
            ],
            [
             0.7777777777777778,
             "#fb9f3a"
            ],
            [
             0.8888888888888888,
             "#fdca26"
            ],
            [
             1,
             "#f0f921"
            ]
           ],
           "sequentialminus": [
            [
             0,
             "#0d0887"
            ],
            [
             0.1111111111111111,
             "#46039f"
            ],
            [
             0.2222222222222222,
             "#7201a8"
            ],
            [
             0.3333333333333333,
             "#9c179e"
            ],
            [
             0.4444444444444444,
             "#bd3786"
            ],
            [
             0.5555555555555556,
             "#d8576b"
            ],
            [
             0.6666666666666666,
             "#ed7953"
            ],
            [
             0.7777777777777778,
             "#fb9f3a"
            ],
            [
             0.8888888888888888,
             "#fdca26"
            ],
            [
             1,
             "#f0f921"
            ]
           ]
          },
          "colorway": [
           "#636efa",
           "#EF553B",
           "#00cc96",
           "#ab63fa",
           "#FFA15A",
           "#19d3f3",
           "#FF6692",
           "#B6E880",
           "#FF97FF",
           "#FECB52"
          ],
          "font": {
           "color": "#2a3f5f"
          },
          "geo": {
           "bgcolor": "white",
           "lakecolor": "white",
           "landcolor": "#E5ECF6",
           "showlakes": true,
           "showland": true,
           "subunitcolor": "white"
          },
          "hoverlabel": {
           "align": "left"
          },
          "hovermode": "closest",
          "mapbox": {
           "style": "light"
          },
          "paper_bgcolor": "white",
          "plot_bgcolor": "#E5ECF6",
          "polar": {
           "angularaxis": {
            "gridcolor": "white",
            "linecolor": "white",
            "ticks": ""
           },
           "bgcolor": "#E5ECF6",
           "radialaxis": {
            "gridcolor": "white",
            "linecolor": "white",
            "ticks": ""
           }
          },
          "scene": {
           "xaxis": {
            "backgroundcolor": "#E5ECF6",
            "gridcolor": "white",
            "gridwidth": 2,
            "linecolor": "white",
            "showbackground": true,
            "ticks": "",
            "zerolinecolor": "white"
           },
           "yaxis": {
            "backgroundcolor": "#E5ECF6",
            "gridcolor": "white",
            "gridwidth": 2,
            "linecolor": "white",
            "showbackground": true,
            "ticks": "",
            "zerolinecolor": "white"
           },
           "zaxis": {
            "backgroundcolor": "#E5ECF6",
            "gridcolor": "white",
            "gridwidth": 2,
            "linecolor": "white",
            "showbackground": true,
            "ticks": "",
            "zerolinecolor": "white"
           }
          },
          "shapedefaults": {
           "line": {
            "color": "#2a3f5f"
           }
          },
          "ternary": {
           "aaxis": {
            "gridcolor": "white",
            "linecolor": "white",
            "ticks": ""
           },
           "baxis": {
            "gridcolor": "white",
            "linecolor": "white",
            "ticks": ""
           },
           "bgcolor": "#E5ECF6",
           "caxis": {
            "gridcolor": "white",
            "linecolor": "white",
            "ticks": ""
           }
          },
          "title": {
           "x": 0.05
          },
          "xaxis": {
           "automargin": true,
           "gridcolor": "white",
           "linecolor": "white",
           "ticks": "",
           "title": {
            "standoff": 15
           },
           "zerolinecolor": "white",
           "zerolinewidth": 2
          },
          "yaxis": {
           "automargin": true,
           "gridcolor": "white",
           "linecolor": "white",
           "ticks": "",
           "title": {
            "standoff": 15
           },
           "zerolinecolor": "white",
           "zerolinewidth": 2
          }
         }
        },
        "title": {
         "text": "Map Visualization"
        },
        "xaxis": {
         "title": {
          "text": "X Coordinate"
         }
        },
        "yaxis": {
         "title": {
          "text": "Y Coordinate"
         }
        }
       }
      }
     },
     "metadata": {},
     "output_type": "display_data"
    }
   ],
   "source": [
    "graphMap = GraphMap(\n",
    "    thermoelectric_labels=[f\"Th{i}\" for i in range(NO_THERMOELECTRICS)],\n",
    "    circuits_labels=[f\"C{i}\" for i in range(NO_CIRCUITS)],\n",
    "    towers_labels=[f\"Tw{i}\" for i in range(len(map_2d.towers_positions))],\n",
    "    thermoelectrics_positions=map_2d.thermoelectrics_positions,\n",
    "    circuits_positions=map_2d.circuits_positions,\n",
    "    towers_positions=map_2d.towers_positions,\n",
    ")\n",
    "\n",
    "graphMap.visualize()"
   ]
  },
  {
   "cell_type": "code",
   "execution_count": 28,
   "metadata": {},
   "outputs": [
    {
     "name": "stdout",
     "output_type": "stream",
     "text": [
      "4542\n",
      "0.8\n",
      "4744\n",
      "0.2\n",
      "3256\n",
      "0.6\n",
      "1182\n",
      "0.9\n",
      "4563\n",
      "0.0\n",
      "3625\n",
      "0.4\n",
      "4604\n",
      "0.8\n",
      "1830\n",
      "0.7\n",
      "2339\n",
      "0.7\n",
      "4780\n",
      "0.5\n",
      "3625\n",
      "0.2\n",
      "4585\n",
      "0.5\n",
      "1074\n",
      "0.7\n",
      "1169\n",
      "0.9\n",
      "2690\n",
      "0.7\n",
      "4734\n",
      "0.6\n",
      "4858\n",
      "0.5\n",
      "3727\n",
      "0.8\n",
      "4730\n",
      "0.5\n",
      "3764\n",
      "0.5\n",
      "3602\n",
      "0.4\n",
      "1537\n",
      "0.0\n",
      "1538\n",
      "0.5\n",
      "2792\n",
      "0.1\n",
      "1560\n",
      "0.4\n",
      "4534\n",
      "0.0\n",
      "3120\n",
      "0.8\n",
      "3817\n",
      "0.3\n",
      "1015\n",
      "0.8\n",
      "4374\n",
      "0.9\n",
      "4782\n",
      "0.7\n",
      "2436\n",
      "0.6\n",
      "4134\n",
      "0.7\n",
      "695\n",
      "0.4\n",
      "2649\n",
      "0.3\n",
      "3043\n",
      "0.3\n",
      "3851\n",
      "0.6\n",
      "2412\n",
      "0.7\n",
      "2812\n",
      "0.7\n",
      "3257\n",
      "0.3\n",
      "3082\n",
      "0.4\n",
      "4589\n",
      "0.2\n",
      "4796\n",
      "0.9\n",
      "691\n",
      "0.5\n",
      "4765\n",
      "0.0\n",
      "2391\n",
      "0.0\n",
      "2336\n",
      "0.9\n",
      "1898\n",
      "0.4\n",
      "3332\n",
      "0.2\n",
      "1215\n",
      "0.9\n"
     ]
    },
    {
     "data": {
      "application/vnd.plotly.v1+json": {
       "config": {
        "plotlyServerURL": "https://plot.ly"
       },
       "data": [
        {
         "hoverinfo": "text",
         "hoverlabel": {
          "bgcolor": "white",
          "font": {
           "family": "Rockwell",
           "size": 16
          }
         },
         "line": {
          "color": "black"
         },
         "mode": "lines",
         "name": "Wire Connection",
         "showlegend": false,
         "text": "C0 -> Th7",
         "type": "scatter",
         "x": [
          98.90115134756002,
          94.95761782346968
         ],
         "y": [
          54.95447268447254,
          68.01133115245011
         ]
        },
        {
         "hoverinfo": "text",
         "hoverlabel": {
          "bgcolor": "white",
          "font": {
           "family": "Rockwell",
           "size": 16
          }
         },
         "line": {
          "color": "black"
         },
         "mode": "lines",
         "name": "Wire Connection",
         "showlegend": false,
         "text": "C1 -> Th3",
         "type": "scatter",
         "x": [
          28.144730195506284,
          26.89389776647223
         ],
         "y": [
          7.7289566079172705,
          94.3605438166073
         ]
        },
        {
         "hoverinfo": "text",
         "hoverlabel": {
          "bgcolor": "white",
          "font": {
           "family": "Rockwell",
           "size": 16
          }
         },
         "line": {
          "color": "black"
         },
         "mode": "lines",
         "name": "Wire Connection",
         "showlegend": false,
         "text": "C2 -> Th2",
         "type": "scatter",
         "x": [
          44.44694959718031,
          50.262909832522354
         ],
         "y": [
          47.28079697554853,
          22.71453174847074
         ]
        },
        {
         "hoverinfo": "text",
         "hoverlabel": {
          "bgcolor": "white",
          "font": {
           "family": "Rockwell",
           "size": 16
          }
         },
         "line": {
          "color": "black"
         },
         "mode": "lines",
         "name": "Wire Connection",
         "showlegend": false,
         "text": "C3 -> Th1",
         "type": "scatter",
         "x": [
          4.852200090644587,
          17.35356987890401
         ],
         "y": [
          16.332444820826673,
          16.56822420627441
         ]
        },
        {
         "hoverinfo": "text",
         "hoverlabel": {
          "bgcolor": "white",
          "font": {
           "family": "Rockwell",
           "size": 16
          }
         },
         "line": {
          "color": "black"
         },
         "mode": "lines",
         "name": "Wire Connection",
         "showlegend": false,
         "text": "C4 -> Th5",
         "type": "scatter",
         "x": [
          11.595071149794444,
          27.245082074225483
         ],
         "y": [
          62.739168270442605,
          52.78748514967893
         ]
        },
        {
         "hoverinfo": "text",
         "hoverlabel": {
          "bgcolor": "white",
          "font": {
           "family": "Rockwell",
           "size": 16
          }
         },
         "line": {
          "color": "black"
         },
         "mode": "lines",
         "name": "Wire Connection",
         "showlegend": false,
         "text": "C5 -> Th7",
         "type": "scatter",
         "x": [
          85.61820485956244,
          94.95761782346968
         ],
         "y": [
          65.01024210875525,
          68.01133115245011
         ]
        },
        {
         "hoverinfo": "text",
         "hoverlabel": {
          "bgcolor": "white",
          "font": {
           "family": "Rockwell",
           "size": 16
          }
         },
         "line": {
          "color": "black"
         },
         "mode": "lines",
         "name": "Wire Connection",
         "showlegend": false,
         "text": "C6 -> Th7",
         "type": "scatter",
         "x": [
          99.07216847578,
          94.95761782346968
         ],
         "y": [
          47.03507484037854,
          68.01133115245011
         ]
        },
        {
         "hoverinfo": "text",
         "hoverlabel": {
          "bgcolor": "white",
          "font": {
           "family": "Rockwell",
           "size": 16
          }
         },
         "line": {
          "color": "black"
         },
         "mode": "lines",
         "name": "Wire Connection",
         "showlegend": false,
         "text": "C7 -> Th2",
         "type": "scatter",
         "x": [
          61.82944835673582,
          50.262909832522354
         ],
         "y": [
          28.26672065311674,
          22.71453174847074
         ]
        },
        {
         "hoverinfo": "text",
         "hoverlabel": {
          "bgcolor": "white",
          "font": {
           "family": "Rockwell",
           "size": 16
          }
         },
         "line": {
          "color": "black"
         },
         "mode": "lines",
         "name": "Wire Connection",
         "showlegend": false,
         "text": "C8 -> Th7",
         "type": "scatter",
         "x": [
          97.60033158175416,
          94.95761782346968
         ],
         "y": [
          67.30679991316752,
          68.01133115245011
         ]
        },
        {
         "hoverinfo": "text",
         "hoverlabel": {
          "bgcolor": "white",
          "font": {
           "family": "Rockwell",
           "size": 16
          }
         },
         "line": {
          "color": "black"
         },
         "mode": "lines",
         "name": "Wire Connection",
         "showlegend": false,
         "text": "C9 -> Th2",
         "type": "scatter",
         "x": [
          44.05308887745445,
          50.262909832522354
         ],
         "y": [
          28.968734025209486,
          22.71453174847074
         ]
        },
        {
         "hoverinfo": "text",
         "hoverlabel": {
          "bgcolor": "white",
          "font": {
           "family": "Rockwell",
           "size": 16
          }
         },
         "line": {
          "color": "black"
         },
         "mode": "lines",
         "name": "Wire Connection",
         "showlegend": false,
         "text": "C10 -> Th3",
         "type": "scatter",
         "x": [
          50.96996840471413,
          26.89389776647223
         ],
         "y": [
          11.246089579599461,
          94.3605438166073
         ]
        },
        {
         "hoverinfo": "text",
         "hoverlabel": {
          "bgcolor": "white",
          "font": {
           "family": "Rockwell",
           "size": 16
          }
         },
         "line": {
          "color": "black"
         },
         "mode": "lines",
         "name": "Wire Connection",
         "showlegend": false,
         "text": "C11 -> Th5",
         "type": "scatter",
         "x": [
          22.695478934228586,
          27.245082074225483
         ],
         "y": [
          47.85523046616946,
          52.78748514967893
         ]
        },
        {
         "hoverinfo": "text",
         "hoverlabel": {
          "bgcolor": "white",
          "font": {
           "family": "Rockwell",
           "size": 16
          }
         },
         "line": {
          "color": "black"
         },
         "mode": "lines",
         "name": "Wire Connection",
         "showlegend": false,
         "text": "C12 -> Th5",
         "type": "scatter",
         "x": [
          24.275815678011302,
          27.245082074225483
         ],
         "y": [
          38.798251760716695,
          52.78748514967893
         ]
        },
        {
         "hoverinfo": "text",
         "hoverlabel": {
          "bgcolor": "white",
          "font": {
           "family": "Rockwell",
           "size": 16
          }
         },
         "line": {
          "color": "black"
         },
         "mode": "lines",
         "name": "Wire Connection",
         "showlegend": false,
         "text": "C13 -> Th6",
         "type": "scatter",
         "x": [
          81.88734275653765,
          80.59229144896076
         ],
         "y": [
          7.454078516154661,
          13.942712956741197
         ]
        },
        {
         "hoverinfo": "text",
         "hoverlabel": {
          "bgcolor": "white",
          "font": {
           "family": "Rockwell",
           "size": 16
          }
         },
         "line": {
          "color": "black"
         },
         "mode": "lines",
         "name": "Wire Connection",
         "showlegend": false,
         "text": "C14 -> Th7",
         "type": "scatter",
         "x": [
          92.31495390276692,
          94.95761782346968
         ],
         "y": [
          22.48960820094579,
          68.01133115245011
         ]
        },
        {
         "hoverinfo": "text",
         "hoverlabel": {
          "bgcolor": "white",
          "font": {
           "family": "Rockwell",
           "size": 16
          }
         },
         "line": {
          "color": "black"
         },
         "mode": "lines",
         "name": "Wire Connection",
         "showlegend": false,
         "text": "C15 -> Th6",
         "type": "scatter",
         "x": [
          70.63714846079961,
          80.59229144896076
         ],
         "y": [
          11.056545677251128,
          13.942712956741197
         ]
        },
        {
         "hoverinfo": "text",
         "hoverlabel": {
          "bgcolor": "white",
          "font": {
           "family": "Rockwell",
           "size": 16
          }
         },
         "line": {
          "color": "black"
         },
         "mode": "lines",
         "name": "Wire Connection",
         "showlegend": false,
         "text": "C16 -> Th2",
         "type": "scatter",
         "x": [
          60.100412352318635,
          50.262909832522354
         ],
         "y": [
          40.67925380882937,
          22.71453174847074
         ]
        },
        {
         "hoverinfo": "text",
         "hoverlabel": {
          "bgcolor": "white",
          "font": {
           "family": "Rockwell",
           "size": 16
          }
         },
         "line": {
          "color": "black"
         },
         "mode": "lines",
         "name": "Wire Connection",
         "showlegend": false,
         "text": "C17 -> Th6",
         "type": "scatter",
         "x": [
          83.68294504320563,
          80.59229144896076
         ],
         "y": [
          25.003042784395912,
          13.942712956741197
         ]
        },
        {
         "hoverinfo": "text",
         "hoverlabel": {
          "bgcolor": "white",
          "font": {
           "family": "Rockwell",
           "size": 16
          }
         },
         "line": {
          "color": "black"
         },
         "mode": "lines",
         "name": "Wire Connection",
         "showlegend": false,
         "text": "C18 -> Th2",
         "type": "scatter",
         "x": [
          45.773799146064654,
          50.262909832522354
         ],
         "y": [
          55.74327026820758,
          22.71453174847074
         ]
        },
        {
         "hoverinfo": "text",
         "hoverlabel": {
          "bgcolor": "white",
          "font": {
           "family": "Rockwell",
           "size": 16
          }
         },
         "line": {
          "color": "black"
         },
         "mode": "lines",
         "name": "Wire Connection",
         "showlegend": false,
         "text": "C19 -> Th3",
         "type": "scatter",
         "x": [
          25.195019979155518,
          26.89389776647223
         ],
         "y": [
          11.024132226573247,
          94.3605438166073
         ]
        },
        {
         "hoverinfo": "text",
         "hoverlabel": {
          "bgcolor": "white",
          "font": {
           "family": "Rockwell",
           "size": 16
          }
         },
         "line": {
          "color": "black"
         },
         "mode": "lines",
         "name": "Wire Connection",
         "showlegend": false,
         "text": "C20 -> Th6",
         "type": "scatter",
         "x": [
          72.66371963080242,
          80.59229144896076
         ],
         "y": [
          31.007393751622235,
          13.942712956741197
         ]
        },
        {
         "hoverinfo": "text",
         "hoverlabel": {
          "bgcolor": "white",
          "font": {
           "family": "Rockwell",
           "size": 16
          }
         },
         "line": {
          "color": "black"
         },
         "mode": "lines",
         "name": "Wire Connection",
         "showlegend": false,
         "text": "C21 -> Th4",
         "type": "scatter",
         "x": [
          82.57539654972054,
          82.46150177946402
         ],
         "y": [
          45.16665266465536,
          44.850988720446104
         ]
        },
        {
         "hoverinfo": "text",
         "hoverlabel": {
          "bgcolor": "white",
          "font": {
           "family": "Rockwell",
           "size": 16
          }
         },
         "line": {
          "color": "black"
         },
         "mode": "lines",
         "name": "Wire Connection",
         "showlegend": false,
         "text": "C22 -> Th3",
         "type": "scatter",
         "x": [
          9.413892910049249,
          26.89389776647223
         ],
         "y": [
          88.72032376098616,
          94.3605438166073
         ]
        },
        {
         "hoverinfo": "text",
         "hoverlabel": {
          "bgcolor": "white",
          "font": {
           "family": "Rockwell",
           "size": 16
          }
         },
         "line": {
          "color": "black"
         },
         "mode": "lines",
         "name": "Wire Connection",
         "showlegend": false,
         "text": "C23 -> Th6",
         "type": "scatter",
         "x": [
          74.17541279606095,
          80.59229144896076
         ],
         "y": [
          12.193227543479901,
          13.942712956741197
         ]
        },
        {
         "hoverinfo": "text",
         "hoverlabel": {
          "bgcolor": "white",
          "font": {
           "family": "Rockwell",
           "size": 16
          }
         },
         "line": {
          "color": "black"
         },
         "mode": "lines",
         "name": "Wire Connection",
         "showlegend": false,
         "text": "C24 -> Th6",
         "type": "scatter",
         "x": [
          85.58690716836288,
          80.59229144896076
         ],
         "y": [
          6.693827118834939,
          13.942712956741197
         ]
        },
        {
         "hoverinfo": "text",
         "hoverlabel": {
          "bgcolor": "white",
          "font": {
           "family": "Rockwell",
           "size": 16
          }
         },
         "line": {
          "color": "black"
         },
         "mode": "lines",
         "name": "Wire Connection",
         "showlegend": false,
         "text": "C25 -> Th3",
         "type": "scatter",
         "x": [
          18.395198585753025,
          26.89389776647223
         ],
         "y": [
          17.216681730643145,
          94.3605438166073
         ]
        },
        {
         "hoverinfo": "text",
         "hoverlabel": {
          "bgcolor": "white",
          "font": {
           "family": "Rockwell",
           "size": 16
          }
         },
         "line": {
          "color": "black"
         },
         "mode": "lines",
         "name": "Wire Connection",
         "showlegend": false,
         "text": "C26 -> Th7",
         "type": "scatter",
         "x": [
          92.22779774577657,
          94.95761782346968
         ],
         "y": [
          66.63324712234675,
          68.01133115245011
         ]
        },
        {
         "hoverinfo": "text",
         "hoverlabel": {
          "bgcolor": "white",
          "font": {
           "family": "Rockwell",
           "size": 16
          }
         },
         "line": {
          "color": "black"
         },
         "mode": "lines",
         "name": "Wire Connection",
         "showlegend": false,
         "text": "C27 -> Th3",
         "type": "scatter",
         "x": [
          25.50567553368033,
          26.89389776647223
         ],
         "y": [
          25.131625283785162,
          94.3605438166073
         ]
        },
        {
         "hoverinfo": "text",
         "hoverlabel": {
          "bgcolor": "white",
          "font": {
           "family": "Rockwell",
           "size": 16
          }
         },
         "line": {
          "color": "black"
         },
         "mode": "lines",
         "name": "Wire Connection",
         "showlegend": false,
         "text": "C28 -> Th7",
         "type": "scatter",
         "x": [
          98.40365650382252,
          94.95761782346968
         ],
         "y": [
          67.87953743323041,
          68.01133115245011
         ]
        },
        {
         "hoverinfo": "text",
         "hoverlabel": {
          "bgcolor": "white",
          "font": {
           "family": "Rockwell",
           "size": 16
          }
         },
         "line": {
          "color": "black"
         },
         "mode": "lines",
         "name": "Wire Connection",
         "showlegend": false,
         "text": "C29 -> Th3",
         "type": "scatter",
         "x": [
          40.23712839556847,
          26.89389776647223
         ],
         "y": [
          6.417229596609242,
          94.3605438166073
         ]
        },
        {
         "hoverinfo": "text",
         "hoverlabel": {
          "bgcolor": "white",
          "font": {
           "family": "Rockwell",
           "size": 16
          }
         },
         "line": {
          "color": "black"
         },
         "mode": "lines",
         "name": "Wire Connection",
         "showlegend": false,
         "text": "C30 -> Th3",
         "type": "scatter",
         "x": [
          44.38741260834264,
          26.89389776647223
         ],
         "y": [
          20.709162827460148,
          94.3605438166073
         ]
        },
        {
         "hoverinfo": "text",
         "hoverlabel": {
          "bgcolor": "white",
          "font": {
           "family": "Rockwell",
           "size": 16
          }
         },
         "line": {
          "color": "black"
         },
         "mode": "lines",
         "name": "Wire Connection",
         "showlegend": false,
         "text": "C31 -> Th3",
         "type": "scatter",
         "x": [
          32.25899537209548,
          26.89389776647223
         ],
         "y": [
          64.94859503276331,
          94.3605438166073
         ]
        },
        {
         "hoverinfo": "text",
         "hoverlabel": {
          "bgcolor": "white",
          "font": {
           "family": "Rockwell",
           "size": 16
          }
         },
         "line": {
          "color": "black"
         },
         "mode": "lines",
         "name": "Wire Connection",
         "showlegend": false,
         "text": "C32 -> Th0",
         "type": "scatter",
         "x": [
          72.40123708698462,
          66.34967049436818
         ],
         "y": [
          46.833249733608696,
          70.29484588542482
         ]
        },
        {
         "hoverinfo": "text",
         "hoverlabel": {
          "bgcolor": "white",
          "font": {
           "family": "Rockwell",
           "size": 16
          }
         },
         "line": {
          "color": "black"
         },
         "mode": "lines",
         "name": "Wire Connection",
         "showlegend": false,
         "text": "C33 -> Th5",
         "type": "scatter",
         "x": [
          18.77457281509295,
          27.245082074225483
         ],
         "y": [
          29.6387440681542,
          52.78748514967893
         ]
        },
        {
         "hoverinfo": "text",
         "hoverlabel": {
          "bgcolor": "white",
          "font": {
           "family": "Rockwell",
           "size": 16
          }
         },
         "line": {
          "color": "black"
         },
         "mode": "lines",
         "name": "Wire Connection",
         "showlegend": false,
         "text": "C34 -> Th1",
         "type": "scatter",
         "x": [
          14.019181542772763,
          17.35356987890401
         ],
         "y": [
          9.47696581546128,
          16.56822420627441
         ]
        },
        {
         "hoverinfo": "text",
         "hoverlabel": {
          "bgcolor": "white",
          "font": {
           "family": "Rockwell",
           "size": 16
          }
         },
         "line": {
          "color": "black"
         },
         "mode": "lines",
         "name": "Wire Connection",
         "showlegend": false,
         "text": "C35 -> Th2",
         "type": "scatter",
         "x": [
          49.17631570320224,
          50.262909832522354
         ],
         "y": [
          99.0778703228649,
          22.71453174847074
         ]
        },
        {
         "hoverinfo": "text",
         "hoverlabel": {
          "bgcolor": "white",
          "font": {
           "family": "Rockwell",
           "size": 16
          }
         },
         "line": {
          "color": "black"
         },
         "mode": "lines",
         "name": "Wire Connection",
         "showlegend": false,
         "text": "C36 -> Th6",
         "type": "scatter",
         "x": [
          87.98135265003748,
          80.59229144896076
         ],
         "y": [
          16.127882072143063,
          13.942712956741197
         ]
        },
        {
         "hoverinfo": "text",
         "hoverlabel": {
          "bgcolor": "white",
          "font": {
           "family": "Rockwell",
           "size": 16
          }
         },
         "line": {
          "color": "black"
         },
         "mode": "lines",
         "name": "Wire Connection",
         "showlegend": false,
         "text": "C37 -> Th3",
         "type": "scatter",
         "x": [
          30.491329572436364,
          26.89389776647223
         ],
         "y": [
          60.47952172863975,
          94.3605438166073
         ]
        },
        {
         "hoverinfo": "text",
         "hoverlabel": {
          "bgcolor": "white",
          "font": {
           "family": "Rockwell",
           "size": 16
          }
         },
         "line": {
          "color": "black"
         },
         "mode": "lines",
         "name": "Wire Connection",
         "showlegend": false,
         "text": "C38 -> Th7",
         "type": "scatter",
         "x": [
          94.03046334306231,
          94.95761782346968
         ],
         "y": [
          73.31195005772628,
          68.01133115245011
         ]
        },
        {
         "hoverinfo": "text",
         "hoverlabel": {
          "bgcolor": "white",
          "font": {
           "family": "Rockwell",
           "size": 16
          }
         },
         "line": {
          "color": "black"
         },
         "mode": "lines",
         "name": "Wire Connection",
         "showlegend": false,
         "text": "C39 -> Th1",
         "type": "scatter",
         "x": [
          3.941980288626623,
          17.35356987890401
         ],
         "y": [
          15.996243096834316,
          16.56822420627441
         ]
        },
        {
         "hoverinfo": "text",
         "hoverlabel": {
          "bgcolor": "white",
          "font": {
           "family": "Rockwell",
           "size": 16
          }
         },
         "line": {
          "color": "black"
         },
         "mode": "lines",
         "name": "Wire Connection",
         "showlegend": false,
         "text": "C40 -> Th1",
         "type": "scatter",
         "x": [
          6.423217143992743,
          17.35356987890401
         ],
         "y": [
          44.455046694943526,
          16.56822420627441
         ]
        },
        {
         "hoverinfo": "text",
         "hoverlabel": {
          "bgcolor": "white",
          "font": {
           "family": "Rockwell",
           "size": 16
          }
         },
         "line": {
          "color": "black"
         },
         "mode": "lines",
         "name": "Wire Connection",
         "showlegend": false,
         "text": "C41 -> Th4",
         "type": "scatter",
         "x": [
          83.97724892594816,
          82.46150177946402
         ],
         "y": [
          55.753537382254834,
          44.850988720446104
         ]
        },
        {
         "hoverinfo": "text",
         "hoverlabel": {
          "bgcolor": "white",
          "font": {
           "family": "Rockwell",
           "size": 16
          }
         },
         "line": {
          "color": "black"
         },
         "mode": "lines",
         "name": "Wire Connection",
         "showlegend": false,
         "text": "C42 -> Th7",
         "type": "scatter",
         "x": [
          98.79156428214655,
          94.95761782346968
         ],
         "y": [
          76.31956028275805,
          68.01133115245011
         ]
        },
        {
         "hoverinfo": "text",
         "hoverlabel": {
          "bgcolor": "white",
          "font": {
           "family": "Rockwell",
           "size": 16
          }
         },
         "line": {
          "color": "black"
         },
         "mode": "lines",
         "name": "Wire Connection",
         "showlegend": false,
         "text": "C43 -> Th7",
         "type": "scatter",
         "x": [
          94.08777292407284,
          94.95761782346968
         ],
         "y": [
          72.67483961714403,
          68.01133115245011
         ]
        },
        {
         "hoverinfo": "text",
         "hoverlabel": {
          "bgcolor": "white",
          "font": {
           "family": "Rockwell",
           "size": 16
          }
         },
         "line": {
          "color": "black"
         },
         "mode": "lines",
         "name": "Wire Connection",
         "showlegend": false,
         "text": "C44 -> Th3",
         "type": "scatter",
         "x": [
          25.263224568082887,
          26.89389776647223
         ],
         "y": [
          90.74539022334856,
          94.3605438166073
         ]
        },
        {
         "hoverinfo": "text",
         "hoverlabel": {
          "bgcolor": "white",
          "font": {
           "family": "Rockwell",
           "size": 16
          }
         },
         "line": {
          "color": "black"
         },
         "mode": "lines",
         "name": "Wire Connection",
         "showlegend": false,
         "text": "C45 -> Th6",
         "type": "scatter",
         "x": [
          68.47226881391506,
          80.59229144896076
         ],
         "y": [
          10.523491740724166,
          13.942712956741197
         ]
        },
        {
         "hoverinfo": "text",
         "hoverlabel": {
          "bgcolor": "white",
          "font": {
           "family": "Rockwell",
           "size": 16
          }
         },
         "line": {
          "color": "black"
         },
         "mode": "lines",
         "name": "Wire Connection",
         "showlegend": false,
         "text": "C46 -> Th0",
         "type": "scatter",
         "x": [
          60.42382026473262,
          66.34967049436818
         ],
         "y": [
          73.72609322200047,
          70.29484588542482
         ]
        },
        {
         "hoverinfo": "text",
         "hoverlabel": {
          "bgcolor": "white",
          "font": {
           "family": "Rockwell",
           "size": 16
          }
         },
         "line": {
          "color": "black"
         },
         "mode": "lines",
         "name": "Wire Connection",
         "showlegend": false,
         "text": "C47 -> Th3",
         "type": "scatter",
         "x": [
          23.72215788455453,
          26.89389776647223
         ],
         "y": [
          98.89859095922957,
          94.3605438166073
         ]
        },
        {
         "hoverinfo": "text",
         "hoverlabel": {
          "bgcolor": "white",
          "font": {
           "family": "Rockwell",
           "size": 16
          }
         },
         "line": {
          "color": "black"
         },
         "mode": "lines",
         "name": "Wire Connection",
         "showlegend": false,
         "text": "C48 -> Th4",
         "type": "scatter",
         "x": [
          84.07924000754835,
          82.46150177946402
         ],
         "y": [
          43.31002395015694,
          44.850988720446104
         ]
        },
        {
         "hoverinfo": "text",
         "hoverlabel": {
          "bgcolor": "white",
          "font": {
           "family": "Rockwell",
           "size": 16
          }
         },
         "line": {
          "color": "black"
         },
         "mode": "lines",
         "name": "Wire Connection",
         "showlegend": false,
         "text": "C49 -> Th0",
         "type": "scatter",
         "x": [
          72.27552072400374,
          66.34967049436818
         ],
         "y": [
          66.86359854884917,
          70.29484588542482
         ]
        },
        {
         "hoverinfo": "text",
         "marker": {
          "color": "red",
          "size": 10
         },
         "mode": "markers+text",
         "text": [
          "C0"
         ],
         "textposition": "top center",
         "type": "scatter",
         "x": [
          98.90115134756002
         ],
         "y": [
          54.95447268447254
         ]
        },
        {
         "hoverinfo": "text",
         "marker": {
          "color": "red",
          "size": 10
         },
         "mode": "markers+text",
         "text": [
          "C1"
         ],
         "textposition": "top center",
         "type": "scatter",
         "x": [
          28.144730195506284
         ],
         "y": [
          7.7289566079172705
         ]
        },
        {
         "hoverinfo": "text",
         "marker": {
          "color": "red",
          "size": 10
         },
         "mode": "markers+text",
         "text": [
          "C2"
         ],
         "textposition": "top center",
         "type": "scatter",
         "x": [
          44.44694959718031
         ],
         "y": [
          47.28079697554853
         ]
        },
        {
         "hoverinfo": "text",
         "marker": {
          "color": "red",
          "size": 10
         },
         "mode": "markers+text",
         "text": [
          "C3"
         ],
         "textposition": "top center",
         "type": "scatter",
         "x": [
          4.852200090644587
         ],
         "y": [
          16.332444820826673
         ]
        },
        {
         "hoverinfo": "text",
         "marker": {
          "color": "red",
          "size": 10
         },
         "mode": "markers+text",
         "text": [
          "C4"
         ],
         "textposition": "top center",
         "type": "scatter",
         "x": [
          11.595071149794444
         ],
         "y": [
          62.739168270442605
         ]
        },
        {
         "hoverinfo": "text",
         "marker": {
          "color": "red",
          "size": 10
         },
         "mode": "markers+text",
         "text": [
          "C5"
         ],
         "textposition": "top center",
         "type": "scatter",
         "x": [
          85.61820485956244
         ],
         "y": [
          65.01024210875525
         ]
        },
        {
         "hoverinfo": "text",
         "marker": {
          "color": "red",
          "size": 10
         },
         "mode": "markers+text",
         "text": [
          "C6"
         ],
         "textposition": "top center",
         "type": "scatter",
         "x": [
          99.07216847578
         ],
         "y": [
          47.03507484037854
         ]
        },
        {
         "hoverinfo": "text",
         "marker": {
          "color": "red",
          "size": 10
         },
         "mode": "markers+text",
         "text": [
          "C7"
         ],
         "textposition": "top center",
         "type": "scatter",
         "x": [
          61.82944835673582
         ],
         "y": [
          28.26672065311674
         ]
        },
        {
         "hoverinfo": "text",
         "marker": {
          "color": "red",
          "size": 10
         },
         "mode": "markers+text",
         "text": [
          "C8"
         ],
         "textposition": "top center",
         "type": "scatter",
         "x": [
          97.60033158175416
         ],
         "y": [
          67.30679991316752
         ]
        },
        {
         "hoverinfo": "text",
         "marker": {
          "color": "red",
          "size": 10
         },
         "mode": "markers+text",
         "text": [
          "C9"
         ],
         "textposition": "top center",
         "type": "scatter",
         "x": [
          44.05308887745445
         ],
         "y": [
          28.968734025209486
         ]
        },
        {
         "hoverinfo": "text",
         "marker": {
          "color": "red",
          "size": 10
         },
         "mode": "markers+text",
         "text": [
          "C10"
         ],
         "textposition": "top center",
         "type": "scatter",
         "x": [
          50.96996840471413
         ],
         "y": [
          11.246089579599461
         ]
        },
        {
         "hoverinfo": "text",
         "marker": {
          "color": "red",
          "size": 10
         },
         "mode": "markers+text",
         "text": [
          "C11"
         ],
         "textposition": "top center",
         "type": "scatter",
         "x": [
          22.695478934228586
         ],
         "y": [
          47.85523046616946
         ]
        },
        {
         "hoverinfo": "text",
         "marker": {
          "color": "red",
          "size": 10
         },
         "mode": "markers+text",
         "text": [
          "C12"
         ],
         "textposition": "top center",
         "type": "scatter",
         "x": [
          24.275815678011302
         ],
         "y": [
          38.798251760716695
         ]
        },
        {
         "hoverinfo": "text",
         "marker": {
          "color": "red",
          "size": 10
         },
         "mode": "markers+text",
         "text": [
          "C13"
         ],
         "textposition": "top center",
         "type": "scatter",
         "x": [
          81.88734275653765
         ],
         "y": [
          7.454078516154661
         ]
        },
        {
         "hoverinfo": "text",
         "marker": {
          "color": "red",
          "size": 10
         },
         "mode": "markers+text",
         "text": [
          "C14"
         ],
         "textposition": "top center",
         "type": "scatter",
         "x": [
          92.31495390276692
         ],
         "y": [
          22.48960820094579
         ]
        },
        {
         "hoverinfo": "text",
         "marker": {
          "color": "red",
          "size": 10
         },
         "mode": "markers+text",
         "text": [
          "C15"
         ],
         "textposition": "top center",
         "type": "scatter",
         "x": [
          70.63714846079961
         ],
         "y": [
          11.056545677251128
         ]
        },
        {
         "hoverinfo": "text",
         "marker": {
          "color": "red",
          "size": 10
         },
         "mode": "markers+text",
         "text": [
          "C16"
         ],
         "textposition": "top center",
         "type": "scatter",
         "x": [
          60.100412352318635
         ],
         "y": [
          40.67925380882937
         ]
        },
        {
         "hoverinfo": "text",
         "marker": {
          "color": "red",
          "size": 10
         },
         "mode": "markers+text",
         "text": [
          "C17"
         ],
         "textposition": "top center",
         "type": "scatter",
         "x": [
          83.68294504320563
         ],
         "y": [
          25.003042784395912
         ]
        },
        {
         "hoverinfo": "text",
         "marker": {
          "color": "red",
          "size": 10
         },
         "mode": "markers+text",
         "text": [
          "C18"
         ],
         "textposition": "top center",
         "type": "scatter",
         "x": [
          45.773799146064654
         ],
         "y": [
          55.74327026820758
         ]
        },
        {
         "hoverinfo": "text",
         "marker": {
          "color": "red",
          "size": 10
         },
         "mode": "markers+text",
         "text": [
          "C19"
         ],
         "textposition": "top center",
         "type": "scatter",
         "x": [
          25.195019979155518
         ],
         "y": [
          11.024132226573247
         ]
        },
        {
         "hoverinfo": "text",
         "marker": {
          "color": "red",
          "size": 10
         },
         "mode": "markers+text",
         "text": [
          "C20"
         ],
         "textposition": "top center",
         "type": "scatter",
         "x": [
          72.66371963080242
         ],
         "y": [
          31.007393751622235
         ]
        },
        {
         "hoverinfo": "text",
         "marker": {
          "color": "red",
          "size": 10
         },
         "mode": "markers+text",
         "text": [
          "C21"
         ],
         "textposition": "top center",
         "type": "scatter",
         "x": [
          82.57539654972054
         ],
         "y": [
          45.16665266465536
         ]
        },
        {
         "hoverinfo": "text",
         "marker": {
          "color": "red",
          "size": 10
         },
         "mode": "markers+text",
         "text": [
          "C22"
         ],
         "textposition": "top center",
         "type": "scatter",
         "x": [
          9.413892910049249
         ],
         "y": [
          88.72032376098616
         ]
        },
        {
         "hoverinfo": "text",
         "marker": {
          "color": "red",
          "size": 10
         },
         "mode": "markers+text",
         "text": [
          "C23"
         ],
         "textposition": "top center",
         "type": "scatter",
         "x": [
          74.17541279606095
         ],
         "y": [
          12.193227543479901
         ]
        },
        {
         "hoverinfo": "text",
         "marker": {
          "color": "red",
          "size": 10
         },
         "mode": "markers+text",
         "text": [
          "C24"
         ],
         "textposition": "top center",
         "type": "scatter",
         "x": [
          85.58690716836288
         ],
         "y": [
          6.693827118834939
         ]
        },
        {
         "hoverinfo": "text",
         "marker": {
          "color": "red",
          "size": 10
         },
         "mode": "markers+text",
         "text": [
          "C25"
         ],
         "textposition": "top center",
         "type": "scatter",
         "x": [
          18.395198585753025
         ],
         "y": [
          17.216681730643145
         ]
        },
        {
         "hoverinfo": "text",
         "marker": {
          "color": "red",
          "size": 10
         },
         "mode": "markers+text",
         "text": [
          "C26"
         ],
         "textposition": "top center",
         "type": "scatter",
         "x": [
          92.22779774577657
         ],
         "y": [
          66.63324712234675
         ]
        },
        {
         "hoverinfo": "text",
         "marker": {
          "color": "red",
          "size": 10
         },
         "mode": "markers+text",
         "text": [
          "C27"
         ],
         "textposition": "top center",
         "type": "scatter",
         "x": [
          25.50567553368033
         ],
         "y": [
          25.131625283785162
         ]
        },
        {
         "hoverinfo": "text",
         "marker": {
          "color": "red",
          "size": 10
         },
         "mode": "markers+text",
         "text": [
          "C28"
         ],
         "textposition": "top center",
         "type": "scatter",
         "x": [
          98.40365650382252
         ],
         "y": [
          67.87953743323041
         ]
        },
        {
         "hoverinfo": "text",
         "marker": {
          "color": "red",
          "size": 10
         },
         "mode": "markers+text",
         "text": [
          "C29"
         ],
         "textposition": "top center",
         "type": "scatter",
         "x": [
          40.23712839556847
         ],
         "y": [
          6.417229596609242
         ]
        },
        {
         "hoverinfo": "text",
         "marker": {
          "color": "red",
          "size": 10
         },
         "mode": "markers+text",
         "text": [
          "C30"
         ],
         "textposition": "top center",
         "type": "scatter",
         "x": [
          44.38741260834264
         ],
         "y": [
          20.709162827460148
         ]
        },
        {
         "hoverinfo": "text",
         "marker": {
          "color": "red",
          "size": 10
         },
         "mode": "markers+text",
         "text": [
          "C31"
         ],
         "textposition": "top center",
         "type": "scatter",
         "x": [
          32.25899537209548
         ],
         "y": [
          64.94859503276331
         ]
        },
        {
         "hoverinfo": "text",
         "marker": {
          "color": "red",
          "size": 10
         },
         "mode": "markers+text",
         "text": [
          "C32"
         ],
         "textposition": "top center",
         "type": "scatter",
         "x": [
          72.40123708698462
         ],
         "y": [
          46.833249733608696
         ]
        },
        {
         "hoverinfo": "text",
         "marker": {
          "color": "red",
          "size": 10
         },
         "mode": "markers+text",
         "text": [
          "C33"
         ],
         "textposition": "top center",
         "type": "scatter",
         "x": [
          18.77457281509295
         ],
         "y": [
          29.6387440681542
         ]
        },
        {
         "hoverinfo": "text",
         "marker": {
          "color": "red",
          "size": 10
         },
         "mode": "markers+text",
         "text": [
          "C34"
         ],
         "textposition": "top center",
         "type": "scatter",
         "x": [
          14.019181542772763
         ],
         "y": [
          9.47696581546128
         ]
        },
        {
         "hoverinfo": "text",
         "marker": {
          "color": "red",
          "size": 10
         },
         "mode": "markers+text",
         "text": [
          "C35"
         ],
         "textposition": "top center",
         "type": "scatter",
         "x": [
          49.17631570320224
         ],
         "y": [
          99.0778703228649
         ]
        },
        {
         "hoverinfo": "text",
         "marker": {
          "color": "red",
          "size": 10
         },
         "mode": "markers+text",
         "text": [
          "C36"
         ],
         "textposition": "top center",
         "type": "scatter",
         "x": [
          87.98135265003748
         ],
         "y": [
          16.127882072143063
         ]
        },
        {
         "hoverinfo": "text",
         "marker": {
          "color": "red",
          "size": 10
         },
         "mode": "markers+text",
         "text": [
          "C37"
         ],
         "textposition": "top center",
         "type": "scatter",
         "x": [
          30.491329572436364
         ],
         "y": [
          60.47952172863975
         ]
        },
        {
         "hoverinfo": "text",
         "marker": {
          "color": "red",
          "size": 10
         },
         "mode": "markers+text",
         "text": [
          "C38"
         ],
         "textposition": "top center",
         "type": "scatter",
         "x": [
          94.03046334306231
         ],
         "y": [
          73.31195005772628
         ]
        },
        {
         "hoverinfo": "text",
         "marker": {
          "color": "red",
          "size": 10
         },
         "mode": "markers+text",
         "text": [
          "C39"
         ],
         "textposition": "top center",
         "type": "scatter",
         "x": [
          3.941980288626623
         ],
         "y": [
          15.996243096834316
         ]
        },
        {
         "hoverinfo": "text",
         "marker": {
          "color": "red",
          "size": 10
         },
         "mode": "markers+text",
         "text": [
          "C40"
         ],
         "textposition": "top center",
         "type": "scatter",
         "x": [
          6.423217143992743
         ],
         "y": [
          44.455046694943526
         ]
        },
        {
         "hoverinfo": "text",
         "marker": {
          "color": "red",
          "size": 10
         },
         "mode": "markers+text",
         "text": [
          "C41"
         ],
         "textposition": "top center",
         "type": "scatter",
         "x": [
          83.97724892594816
         ],
         "y": [
          55.753537382254834
         ]
        },
        {
         "hoverinfo": "text",
         "marker": {
          "color": "red",
          "size": 10
         },
         "mode": "markers+text",
         "text": [
          "C42"
         ],
         "textposition": "top center",
         "type": "scatter",
         "x": [
          98.79156428214655
         ],
         "y": [
          76.31956028275805
         ]
        },
        {
         "hoverinfo": "text",
         "marker": {
          "color": "red",
          "size": 10
         },
         "mode": "markers+text",
         "text": [
          "C43"
         ],
         "textposition": "top center",
         "type": "scatter",
         "x": [
          94.08777292407284
         ],
         "y": [
          72.67483961714403
         ]
        },
        {
         "hoverinfo": "text",
         "marker": {
          "color": "red",
          "size": 10
         },
         "mode": "markers+text",
         "text": [
          "C44"
         ],
         "textposition": "top center",
         "type": "scatter",
         "x": [
          25.263224568082887
         ],
         "y": [
          90.74539022334856
         ]
        },
        {
         "hoverinfo": "text",
         "marker": {
          "color": "red",
          "size": 10
         },
         "mode": "markers+text",
         "text": [
          "C45"
         ],
         "textposition": "top center",
         "type": "scatter",
         "x": [
          68.47226881391506
         ],
         "y": [
          10.523491740724166
         ]
        },
        {
         "hoverinfo": "text",
         "marker": {
          "color": "red",
          "size": 10
         },
         "mode": "markers+text",
         "text": [
          "C46"
         ],
         "textposition": "top center",
         "type": "scatter",
         "x": [
          60.42382026473262
         ],
         "y": [
          73.72609322200047
         ]
        },
        {
         "hoverinfo": "text",
         "marker": {
          "color": "red",
          "size": 10
         },
         "mode": "markers+text",
         "text": [
          "C47"
         ],
         "textposition": "top center",
         "type": "scatter",
         "x": [
          23.72215788455453
         ],
         "y": [
          98.89859095922957
         ]
        },
        {
         "hoverinfo": "text",
         "marker": {
          "color": "red",
          "size": 10
         },
         "mode": "markers+text",
         "text": [
          "C48"
         ],
         "textposition": "top center",
         "type": "scatter",
         "x": [
          84.07924000754835
         ],
         "y": [
          43.31002395015694
         ]
        },
        {
         "hoverinfo": "text",
         "marker": {
          "color": "red",
          "size": 10
         },
         "mode": "markers+text",
         "text": [
          "C49"
         ],
         "textposition": "top center",
         "type": "scatter",
         "x": [
          72.27552072400374
         ],
         "y": [
          66.86359854884917
         ]
        },
        {
         "hoverinfo": "text",
         "marker": {
          "color": "blue",
          "size": 10
         },
         "mode": "markers+text",
         "text": [
          "Th0"
         ],
         "textposition": "top center",
         "type": "scatter",
         "x": [
          66.34967049436818
         ],
         "y": [
          70.29484588542482
         ]
        },
        {
         "hoverinfo": "text",
         "marker": {
          "color": "blue",
          "size": 10
         },
         "mode": "markers+text",
         "text": [
          "Th1"
         ],
         "textposition": "top center",
         "type": "scatter",
         "x": [
          17.35356987890401
         ],
         "y": [
          16.56822420627441
         ]
        },
        {
         "hoverinfo": "text",
         "marker": {
          "color": "blue",
          "size": 10
         },
         "mode": "markers+text",
         "text": [
          "Th2"
         ],
         "textposition": "top center",
         "type": "scatter",
         "x": [
          50.262909832522354
         ],
         "y": [
          22.71453174847074
         ]
        },
        {
         "hoverinfo": "text",
         "marker": {
          "color": "blue",
          "size": 10
         },
         "mode": "markers+text",
         "text": [
          "Th3"
         ],
         "textposition": "top center",
         "type": "scatter",
         "x": [
          26.89389776647223
         ],
         "y": [
          94.3605438166073
         ]
        },
        {
         "hoverinfo": "text",
         "marker": {
          "color": "blue",
          "size": 10
         },
         "mode": "markers+text",
         "text": [
          "Th4"
         ],
         "textposition": "top center",
         "type": "scatter",
         "x": [
          82.46150177946402
         ],
         "y": [
          44.850988720446104
         ]
        },
        {
         "hoverinfo": "text",
         "marker": {
          "color": "blue",
          "size": 10
         },
         "mode": "markers+text",
         "text": [
          "Th5"
         ],
         "textposition": "top center",
         "type": "scatter",
         "x": [
          27.245082074225483
         ],
         "y": [
          52.78748514967893
         ]
        },
        {
         "hoverinfo": "text",
         "marker": {
          "color": "blue",
          "size": 10
         },
         "mode": "markers+text",
         "text": [
          "Th6"
         ],
         "textposition": "top center",
         "type": "scatter",
         "x": [
          80.59229144896076
         ],
         "y": [
          13.942712956741197
         ]
        },
        {
         "hoverinfo": "text",
         "marker": {
          "color": "blue",
          "size": 10
         },
         "mode": "markers+text",
         "text": [
          "Th7"
         ],
         "textposition": "top center",
         "type": "scatter",
         "x": [
          94.95761782346968
         ],
         "y": [
          68.01133115245011
         ]
        }
       ],
       "layout": {
        "height": 800,
        "plot_bgcolor": "lightgreen",
        "showlegend": false,
        "template": {
         "data": {
          "bar": [
           {
            "error_x": {
             "color": "#2a3f5f"
            },
            "error_y": {
             "color": "#2a3f5f"
            },
            "marker": {
             "line": {
              "color": "#E5ECF6",
              "width": 0.5
             },
             "pattern": {
              "fillmode": "overlay",
              "size": 10,
              "solidity": 0.2
             }
            },
            "type": "bar"
           }
          ],
          "barpolar": [
           {
            "marker": {
             "line": {
              "color": "#E5ECF6",
              "width": 0.5
             },
             "pattern": {
              "fillmode": "overlay",
              "size": 10,
              "solidity": 0.2
             }
            },
            "type": "barpolar"
           }
          ],
          "carpet": [
           {
            "aaxis": {
             "endlinecolor": "#2a3f5f",
             "gridcolor": "white",
             "linecolor": "white",
             "minorgridcolor": "white",
             "startlinecolor": "#2a3f5f"
            },
            "baxis": {
             "endlinecolor": "#2a3f5f",
             "gridcolor": "white",
             "linecolor": "white",
             "minorgridcolor": "white",
             "startlinecolor": "#2a3f5f"
            },
            "type": "carpet"
           }
          ],
          "choropleth": [
           {
            "colorbar": {
             "outlinewidth": 0,
             "ticks": ""
            },
            "type": "choropleth"
           }
          ],
          "contour": [
           {
            "colorbar": {
             "outlinewidth": 0,
             "ticks": ""
            },
            "colorscale": [
             [
              0,
              "#0d0887"
             ],
             [
              0.1111111111111111,
              "#46039f"
             ],
             [
              0.2222222222222222,
              "#7201a8"
             ],
             [
              0.3333333333333333,
              "#9c179e"
             ],
             [
              0.4444444444444444,
              "#bd3786"
             ],
             [
              0.5555555555555556,
              "#d8576b"
             ],
             [
              0.6666666666666666,
              "#ed7953"
             ],
             [
              0.7777777777777778,
              "#fb9f3a"
             ],
             [
              0.8888888888888888,
              "#fdca26"
             ],
             [
              1,
              "#f0f921"
             ]
            ],
            "type": "contour"
           }
          ],
          "contourcarpet": [
           {
            "colorbar": {
             "outlinewidth": 0,
             "ticks": ""
            },
            "type": "contourcarpet"
           }
          ],
          "heatmap": [
           {
            "colorbar": {
             "outlinewidth": 0,
             "ticks": ""
            },
            "colorscale": [
             [
              0,
              "#0d0887"
             ],
             [
              0.1111111111111111,
              "#46039f"
             ],
             [
              0.2222222222222222,
              "#7201a8"
             ],
             [
              0.3333333333333333,
              "#9c179e"
             ],
             [
              0.4444444444444444,
              "#bd3786"
             ],
             [
              0.5555555555555556,
              "#d8576b"
             ],
             [
              0.6666666666666666,
              "#ed7953"
             ],
             [
              0.7777777777777778,
              "#fb9f3a"
             ],
             [
              0.8888888888888888,
              "#fdca26"
             ],
             [
              1,
              "#f0f921"
             ]
            ],
            "type": "heatmap"
           }
          ],
          "heatmapgl": [
           {
            "colorbar": {
             "outlinewidth": 0,
             "ticks": ""
            },
            "colorscale": [
             [
              0,
              "#0d0887"
             ],
             [
              0.1111111111111111,
              "#46039f"
             ],
             [
              0.2222222222222222,
              "#7201a8"
             ],
             [
              0.3333333333333333,
              "#9c179e"
             ],
             [
              0.4444444444444444,
              "#bd3786"
             ],
             [
              0.5555555555555556,
              "#d8576b"
             ],
             [
              0.6666666666666666,
              "#ed7953"
             ],
             [
              0.7777777777777778,
              "#fb9f3a"
             ],
             [
              0.8888888888888888,
              "#fdca26"
             ],
             [
              1,
              "#f0f921"
             ]
            ],
            "type": "heatmapgl"
           }
          ],
          "histogram": [
           {
            "marker": {
             "pattern": {
              "fillmode": "overlay",
              "size": 10,
              "solidity": 0.2
             }
            },
            "type": "histogram"
           }
          ],
          "histogram2d": [
           {
            "colorbar": {
             "outlinewidth": 0,
             "ticks": ""
            },
            "colorscale": [
             [
              0,
              "#0d0887"
             ],
             [
              0.1111111111111111,
              "#46039f"
             ],
             [
              0.2222222222222222,
              "#7201a8"
             ],
             [
              0.3333333333333333,
              "#9c179e"
             ],
             [
              0.4444444444444444,
              "#bd3786"
             ],
             [
              0.5555555555555556,
              "#d8576b"
             ],
             [
              0.6666666666666666,
              "#ed7953"
             ],
             [
              0.7777777777777778,
              "#fb9f3a"
             ],
             [
              0.8888888888888888,
              "#fdca26"
             ],
             [
              1,
              "#f0f921"
             ]
            ],
            "type": "histogram2d"
           }
          ],
          "histogram2dcontour": [
           {
            "colorbar": {
             "outlinewidth": 0,
             "ticks": ""
            },
            "colorscale": [
             [
              0,
              "#0d0887"
             ],
             [
              0.1111111111111111,
              "#46039f"
             ],
             [
              0.2222222222222222,
              "#7201a8"
             ],
             [
              0.3333333333333333,
              "#9c179e"
             ],
             [
              0.4444444444444444,
              "#bd3786"
             ],
             [
              0.5555555555555556,
              "#d8576b"
             ],
             [
              0.6666666666666666,
              "#ed7953"
             ],
             [
              0.7777777777777778,
              "#fb9f3a"
             ],
             [
              0.8888888888888888,
              "#fdca26"
             ],
             [
              1,
              "#f0f921"
             ]
            ],
            "type": "histogram2dcontour"
           }
          ],
          "mesh3d": [
           {
            "colorbar": {
             "outlinewidth": 0,
             "ticks": ""
            },
            "type": "mesh3d"
           }
          ],
          "parcoords": [
           {
            "line": {
             "colorbar": {
              "outlinewidth": 0,
              "ticks": ""
             }
            },
            "type": "parcoords"
           }
          ],
          "pie": [
           {
            "automargin": true,
            "type": "pie"
           }
          ],
          "scatter": [
           {
            "fillpattern": {
             "fillmode": "overlay",
             "size": 10,
             "solidity": 0.2
            },
            "type": "scatter"
           }
          ],
          "scatter3d": [
           {
            "line": {
             "colorbar": {
              "outlinewidth": 0,
              "ticks": ""
             }
            },
            "marker": {
             "colorbar": {
              "outlinewidth": 0,
              "ticks": ""
             }
            },
            "type": "scatter3d"
           }
          ],
          "scattercarpet": [
           {
            "marker": {
             "colorbar": {
              "outlinewidth": 0,
              "ticks": ""
             }
            },
            "type": "scattercarpet"
           }
          ],
          "scattergeo": [
           {
            "marker": {
             "colorbar": {
              "outlinewidth": 0,
              "ticks": ""
             }
            },
            "type": "scattergeo"
           }
          ],
          "scattergl": [
           {
            "marker": {
             "colorbar": {
              "outlinewidth": 0,
              "ticks": ""
             }
            },
            "type": "scattergl"
           }
          ],
          "scattermapbox": [
           {
            "marker": {
             "colorbar": {
              "outlinewidth": 0,
              "ticks": ""
             }
            },
            "type": "scattermapbox"
           }
          ],
          "scatterpolar": [
           {
            "marker": {
             "colorbar": {
              "outlinewidth": 0,
              "ticks": ""
             }
            },
            "type": "scatterpolar"
           }
          ],
          "scatterpolargl": [
           {
            "marker": {
             "colorbar": {
              "outlinewidth": 0,
              "ticks": ""
             }
            },
            "type": "scatterpolargl"
           }
          ],
          "scatterternary": [
           {
            "marker": {
             "colorbar": {
              "outlinewidth": 0,
              "ticks": ""
             }
            },
            "type": "scatterternary"
           }
          ],
          "surface": [
           {
            "colorbar": {
             "outlinewidth": 0,
             "ticks": ""
            },
            "colorscale": [
             [
              0,
              "#0d0887"
             ],
             [
              0.1111111111111111,
              "#46039f"
             ],
             [
              0.2222222222222222,
              "#7201a8"
             ],
             [
              0.3333333333333333,
              "#9c179e"
             ],
             [
              0.4444444444444444,
              "#bd3786"
             ],
             [
              0.5555555555555556,
              "#d8576b"
             ],
             [
              0.6666666666666666,
              "#ed7953"
             ],
             [
              0.7777777777777778,
              "#fb9f3a"
             ],
             [
              0.8888888888888888,
              "#fdca26"
             ],
             [
              1,
              "#f0f921"
             ]
            ],
            "type": "surface"
           }
          ],
          "table": [
           {
            "cells": {
             "fill": {
              "color": "#EBF0F8"
             },
             "line": {
              "color": "white"
             }
            },
            "header": {
             "fill": {
              "color": "#C8D4E3"
             },
             "line": {
              "color": "white"
             }
            },
            "type": "table"
           }
          ]
         },
         "layout": {
          "annotationdefaults": {
           "arrowcolor": "#2a3f5f",
           "arrowhead": 0,
           "arrowwidth": 1
          },
          "autotypenumbers": "strict",
          "coloraxis": {
           "colorbar": {
            "outlinewidth": 0,
            "ticks": ""
           }
          },
          "colorscale": {
           "diverging": [
            [
             0,
             "#8e0152"
            ],
            [
             0.1,
             "#c51b7d"
            ],
            [
             0.2,
             "#de77ae"
            ],
            [
             0.3,
             "#f1b6da"
            ],
            [
             0.4,
             "#fde0ef"
            ],
            [
             0.5,
             "#f7f7f7"
            ],
            [
             0.6,
             "#e6f5d0"
            ],
            [
             0.7,
             "#b8e186"
            ],
            [
             0.8,
             "#7fbc41"
            ],
            [
             0.9,
             "#4d9221"
            ],
            [
             1,
             "#276419"
            ]
           ],
           "sequential": [
            [
             0,
             "#0d0887"
            ],
            [
             0.1111111111111111,
             "#46039f"
            ],
            [
             0.2222222222222222,
             "#7201a8"
            ],
            [
             0.3333333333333333,
             "#9c179e"
            ],
            [
             0.4444444444444444,
             "#bd3786"
            ],
            [
             0.5555555555555556,
             "#d8576b"
            ],
            [
             0.6666666666666666,
             "#ed7953"
            ],
            [
             0.7777777777777778,
             "#fb9f3a"
            ],
            [
             0.8888888888888888,
             "#fdca26"
            ],
            [
             1,
             "#f0f921"
            ]
           ],
           "sequentialminus": [
            [
             0,
             "#0d0887"
            ],
            [
             0.1111111111111111,
             "#46039f"
            ],
            [
             0.2222222222222222,
             "#7201a8"
            ],
            [
             0.3333333333333333,
             "#9c179e"
            ],
            [
             0.4444444444444444,
             "#bd3786"
            ],
            [
             0.5555555555555556,
             "#d8576b"
            ],
            [
             0.6666666666666666,
             "#ed7953"
            ],
            [
             0.7777777777777778,
             "#fb9f3a"
            ],
            [
             0.8888888888888888,
             "#fdca26"
            ],
            [
             1,
             "#f0f921"
            ]
           ]
          },
          "colorway": [
           "#636efa",
           "#EF553B",
           "#00cc96",
           "#ab63fa",
           "#FFA15A",
           "#19d3f3",
           "#FF6692",
           "#B6E880",
           "#FF97FF",
           "#FECB52"
          ],
          "font": {
           "color": "#2a3f5f"
          },
          "geo": {
           "bgcolor": "white",
           "lakecolor": "white",
           "landcolor": "#E5ECF6",
           "showlakes": true,
           "showland": true,
           "subunitcolor": "white"
          },
          "hoverlabel": {
           "align": "left"
          },
          "hovermode": "closest",
          "mapbox": {
           "style": "light"
          },
          "paper_bgcolor": "white",
          "plot_bgcolor": "#E5ECF6",
          "polar": {
           "angularaxis": {
            "gridcolor": "white",
            "linecolor": "white",
            "ticks": ""
           },
           "bgcolor": "#E5ECF6",
           "radialaxis": {
            "gridcolor": "white",
            "linecolor": "white",
            "ticks": ""
           }
          },
          "scene": {
           "xaxis": {
            "backgroundcolor": "#E5ECF6",
            "gridcolor": "white",
            "gridwidth": 2,
            "linecolor": "white",
            "showbackground": true,
            "ticks": "",
            "zerolinecolor": "white"
           },
           "yaxis": {
            "backgroundcolor": "#E5ECF6",
            "gridcolor": "white",
            "gridwidth": 2,
            "linecolor": "white",
            "showbackground": true,
            "ticks": "",
            "zerolinecolor": "white"
           },
           "zaxis": {
            "backgroundcolor": "#E5ECF6",
            "gridcolor": "white",
            "gridwidth": 2,
            "linecolor": "white",
            "showbackground": true,
            "ticks": "",
            "zerolinecolor": "white"
           }
          },
          "shapedefaults": {
           "line": {
            "color": "#2a3f5f"
           }
          },
          "ternary": {
           "aaxis": {
            "gridcolor": "white",
            "linecolor": "white",
            "ticks": ""
           },
           "baxis": {
            "gridcolor": "white",
            "linecolor": "white",
            "ticks": ""
           },
           "bgcolor": "#E5ECF6",
           "caxis": {
            "gridcolor": "white",
            "linecolor": "white",
            "ticks": ""
           }
          },
          "title": {
           "x": 0.05
          },
          "xaxis": {
           "automargin": true,
           "gridcolor": "white",
           "linecolor": "white",
           "ticks": "",
           "title": {
            "standoff": 15
           },
           "zerolinecolor": "white",
           "zerolinewidth": 2
          },
          "yaxis": {
           "automargin": true,
           "gridcolor": "white",
           "linecolor": "white",
           "ticks": "",
           "title": {
            "standoff": 15
           },
           "zerolinecolor": "white",
           "zerolinewidth": 2
          }
         }
        },
        "title": {
         "text": "Circuits and Thermoelectrics"
        }
       }
      }
     },
     "metadata": {},
     "output_type": "display_data"
    }
   ],
   "source": [
    "distance_cost_template = graphMap.thermoelectric_generation_cost\n",
    "\n",
    "# Generate circuits for map\n",
    "random.seed(RANDOM_SEED)\n",
    "RANDOM = random.default_rng(RANDOM_SEED)\n",
    "\n",
    "\n",
    "electric_system_circuits_list: list[Circuit] = []\n",
    "for i in range(NO_CIRCUITS):\n",
    "    citizen_count = RANDOM.integers(MIN_CITIZEN, MAX_CITIZEN)\n",
    "    citizen_range = (\n",
    "        max(citizen_count - MAX_DEVIATION_CITIZEN_IN_BLOCK, 0),\n",
    "        min(citizen_count + MAX_DEVIATION_CITIZEN_IN_BLOCK, MAX_CITIZEN),\n",
    "    )\n",
    "\n",
    "    industrialization = RANDOM.integers(0, DEMAND_INDUSTRIALIZATION) / DEMAND_INDUSTRIALIZATION\n",
    "    \n",
    "    print(citizen_count)\n",
    "\n",
    "    print(industrialization)\n",
    "\n",
    "    bimodal_consumption = DailyElectricityConsumptionBimodal(\n",
    "        base_consumption=DEMAND_PER_PERSON * citizen_count\n",
    "        + DEMAND_INDUSTRIALIZATION * industrialization,\n",
    "        base_variability=VARIABILITY_DEMAND_PER_PERSON * citizen_count\n",
    "        + VARIABILITY_DEMAND_PER_INDUSTRIALIZATION * industrialization,\n",
    "        mean_morning=PEAK_CONSUMPTION_MORNING,\n",
    "        mean_evening=PEAK_CONSUMPTION_EVENING,\n",
    "        std_morning=RANDOM.uniform(1.0, MAX_DEVIATION_MORNING),\n",
    "        std_evening=RANDOM.uniform(1.0, MAX_DEVIATION_EVENING),\n",
    "        weight_morning=WEIGHT_MORNING,\n",
    "        weight_evening=WEIGHT_EVENING,\n",
    "    )\n",
    "\n",
    "    electric_system_circuits_list.append(\n",
    "        Circuit(\n",
    "            graphMap.circuits_nodes[i].id,\n",
    "            gaussian_mixture=bimodal_consumption,\n",
    "            blocks_range=(MIN_BLOCKS_PER_CIRCUIT, MAX_BLOCKS_PER_CIRCUIT),\n",
    "            citizens_range=citizen_range,\n",
    "            industrialization=industrialization,\n",
    "        )\n",
    "    )\n",
    "\n",
    "# Generate Thermoelectric generation based in the nearest circuits\n",
    "mapper_circuit_with_thermoelectric = {}\n",
    "\n",
    "for c in electric_system_circuits_list:\n",
    "\n",
    "    filtered = [f for f in graphMap.thermoelectric_generation_cost if f[1] == c.id]\n",
    "    filtered = sorted(filtered, key=lambda x: x[2])\n",
    "    mapper_circuit_with_thermoelectric[c.id] = filtered[0][0]\n",
    "\n",
    "\n",
    "import plotly.graph_objects as go\n",
    "\n",
    "# Create edges for the plotly graph\n",
    "edges = []\n",
    "edges_labels = []\n",
    "for circuit, thermoelectric in mapper_circuit_with_thermoelectric.items():\n",
    "\n",
    "    circuitPos = [c.position for c in graphMap.circuits_nodes if c.id == circuit][0]\n",
    "    thermoelectricPos = [\n",
    "        t.position for t in graphMap.thermoelectrics_nodes if t.id == thermoelectric\n",
    "    ][0]\n",
    "\n",
    "    edges.append((circuitPos, thermoelectricPos))\n",
    "    edges_labels.append(f\"{circuit} -> {thermoelectric}\")\n",
    "\n",
    "\n",
    "# Create a plotly graph\n",
    "fig = go.Figure()\n",
    "\n",
    "# Add edges to the plotly graph\n",
    "for i, edge in enumerate(edges):\n",
    "    circuit, thermoelectric = edge\n",
    "    fig.add_trace(\n",
    "        go.Scatter(\n",
    "            x=[circuit[0], thermoelectric[0]],\n",
    "            y=[circuit[1], thermoelectric[1]],\n",
    "            mode=\"lines\",\n",
    "            line=dict(color=\"black\"),\n",
    "            name=\"Wire Connection\",\n",
    "            showlegend=False,\n",
    "            hoverinfo=\"text\",\n",
    "            text=edges_labels[i],\n",
    "            hoverlabel=dict(bgcolor=\"white\", font_size=16, font_family=\"Rockwell\"),\n",
    "        )\n",
    "    )\n",
    "\n",
    "# Add nodes to the plotly graph\n",
    "all_nodes = graphMap.circuits_nodes + graphMap.thermoelectrics_nodes\n",
    "for i, node in enumerate(all_nodes):\n",
    "    fig.add_trace(\n",
    "        go.Scatter(\n",
    "            x=[node.position[0]],\n",
    "            y=[node.position[1]],\n",
    "            mode=\"markers+text\",\n",
    "            marker=dict(\n",
    "                size=10, color=\"blue\" if i >= len(graphMap.circuits_nodes) else \"red\"\n",
    "            ),\n",
    "            text=[node.id],\n",
    "            textposition=\"top center\",\n",
    "            hoverinfo=\"text\",\n",
    "        )\n",
    "    )\n",
    "\n",
    "fig.update_layout(\n",
    "    showlegend=False,\n",
    "    title=\"Circuits and Thermoelectrics\",\n",
    "    height=800,\n",
    "    plot_bgcolor=\"lightgreen\",\n",
    ")\n",
    "\n",
    "fig.show()"
   ]
  },
  {
   "cell_type": "code",
   "execution_count": 18,
   "metadata": {},
   "outputs": [
    {
     "data": {
      "text/html": [
       "<div>\n",
       "<style scoped>\n",
       "    .dataframe tbody tr th:only-of-type {\n",
       "        vertical-align: middle;\n",
       "    }\n",
       "\n",
       "    .dataframe tbody tr th {\n",
       "        vertical-align: top;\n",
       "    }\n",
       "\n",
       "    .dataframe thead th {\n",
       "        text-align: right;\n",
       "    }\n",
       "</style>\n",
       "<table border=\"1\" class=\"dataframe\">\n",
       "  <thead>\n",
       "    <tr style=\"text-align: right;\">\n",
       "      <th></th>\n",
       "      <th>C0</th>\n",
       "      <th>C1</th>\n",
       "      <th>C2</th>\n",
       "      <th>C3</th>\n",
       "      <th>C4</th>\n",
       "      <th>C5</th>\n",
       "      <th>C6</th>\n",
       "      <th>C7</th>\n",
       "      <th>C8</th>\n",
       "      <th>C9</th>\n",
       "      <th>...</th>\n",
       "      <th>C40</th>\n",
       "      <th>C41</th>\n",
       "      <th>C42</th>\n",
       "      <th>C43</th>\n",
       "      <th>C44</th>\n",
       "      <th>C45</th>\n",
       "      <th>C46</th>\n",
       "      <th>C47</th>\n",
       "      <th>C48</th>\n",
       "      <th>C49</th>\n",
       "    </tr>\n",
       "  </thead>\n",
       "  <tbody>\n",
       "    <tr>\n",
       "      <th>Th0</th>\n",
       "      <td>0.002410</td>\n",
       "      <td>0.003950</td>\n",
       "      <td>0.001736</td>\n",
       "      <td>0.006778</td>\n",
       "      <td>0.005999</td>\n",
       "      <td>0.002119</td>\n",
       "      <td>0.002534</td>\n",
       "      <td>0.000945</td>\n",
       "      <td>0.002204</td>\n",
       "      <td>0.001529</td>\n",
       "      <td>...</td>\n",
       "      <td>0.007186</td>\n",
       "      <td>0.001896</td>\n",
       "      <td>0.002305</td>\n",
       "      <td>0.002224</td>\n",
       "      <td>0.005232</td>\n",
       "      <td>0.001272</td>\n",
       "      <td>0.000126</td>\n",
       "      <td>0.005332</td>\n",
       "      <td>0.001703</td>\n",
       "      <td>0.000165</td>\n",
       "    </tr>\n",
       "    <tr>\n",
       "      <th>Th1</th>\n",
       "      <td>0.009244</td>\n",
       "      <td>0.003239</td>\n",
       "      <td>0.005175</td>\n",
       "      <td>0.000547</td>\n",
       "      <td>0.001358</td>\n",
       "      <td>0.008954</td>\n",
       "      <td>0.009368</td>\n",
       "      <td>0.006265</td>\n",
       "      <td>0.009038</td>\n",
       "      <td>0.005480</td>\n",
       "      <td>...</td>\n",
       "      <td>0.000955</td>\n",
       "      <td>0.008730</td>\n",
       "      <td>0.009139</td>\n",
       "      <td>0.009058</td>\n",
       "      <td>0.001629</td>\n",
       "      <td>0.008106</td>\n",
       "      <td>0.006961</td>\n",
       "      <td>0.001773</td>\n",
       "      <td>0.008538</td>\n",
       "      <td>0.006999</td>\n",
       "    </tr>\n",
       "    <tr>\n",
       "      <th>Th2</th>\n",
       "      <td>0.003338</td>\n",
       "      <td>0.003327</td>\n",
       "      <td>0.001112</td>\n",
       "      <td>0.006155</td>\n",
       "      <td>0.005375</td>\n",
       "      <td>0.003048</td>\n",
       "      <td>0.003462</td>\n",
       "      <td>0.000359</td>\n",
       "      <td>0.003132</td>\n",
       "      <td>0.000906</td>\n",
       "      <td>...</td>\n",
       "      <td>0.006563</td>\n",
       "      <td>0.002824</td>\n",
       "      <td>0.003233</td>\n",
       "      <td>0.003152</td>\n",
       "      <td>0.004608</td>\n",
       "      <td>0.002200</td>\n",
       "      <td>0.001055</td>\n",
       "      <td>0.004708</td>\n",
       "      <td>0.002632</td>\n",
       "      <td>0.001093</td>\n",
       "    </tr>\n",
       "    <tr>\n",
       "      <th>Th3</th>\n",
       "      <td>0.007654</td>\n",
       "      <td>0.001649</td>\n",
       "      <td>0.003585</td>\n",
       "      <td>0.001629</td>\n",
       "      <td>0.000850</td>\n",
       "      <td>0.007364</td>\n",
       "      <td>0.007778</td>\n",
       "      <td>0.004675</td>\n",
       "      <td>0.007448</td>\n",
       "      <td>0.003890</td>\n",
       "      <td>...</td>\n",
       "      <td>0.002037</td>\n",
       "      <td>0.007140</td>\n",
       "      <td>0.007549</td>\n",
       "      <td>0.007468</td>\n",
       "      <td>0.000083</td>\n",
       "      <td>0.006516</td>\n",
       "      <td>0.005371</td>\n",
       "      <td>0.000183</td>\n",
       "      <td>0.006948</td>\n",
       "      <td>0.005409</td>\n",
       "    </tr>\n",
       "    <tr>\n",
       "      <th>Th4</th>\n",
       "      <td>0.000781</td>\n",
       "      <td>0.005623</td>\n",
       "      <td>0.003408</td>\n",
       "      <td>0.008450</td>\n",
       "      <td>0.007671</td>\n",
       "      <td>0.000490</td>\n",
       "      <td>0.000904</td>\n",
       "      <td>0.002618</td>\n",
       "      <td>0.000575</td>\n",
       "      <td>0.003202</td>\n",
       "      <td>...</td>\n",
       "      <td>0.008858</td>\n",
       "      <td>0.000266</td>\n",
       "      <td>0.000676</td>\n",
       "      <td>0.000594</td>\n",
       "      <td>0.006904</td>\n",
       "      <td>0.000793</td>\n",
       "      <td>0.001799</td>\n",
       "      <td>0.007004</td>\n",
       "      <td>0.000092</td>\n",
       "      <td>0.001603</td>\n",
       "    </tr>\n",
       "    <tr>\n",
       "      <th>Th5</th>\n",
       "      <td>0.008358</td>\n",
       "      <td>0.002353</td>\n",
       "      <td>0.004289</td>\n",
       "      <td>0.000888</td>\n",
       "      <td>0.000472</td>\n",
       "      <td>0.008068</td>\n",
       "      <td>0.008482</td>\n",
       "      <td>0.005379</td>\n",
       "      <td>0.008152</td>\n",
       "      <td>0.004594</td>\n",
       "      <td>...</td>\n",
       "      <td>0.001296</td>\n",
       "      <td>0.007844</td>\n",
       "      <td>0.008253</td>\n",
       "      <td>0.008172</td>\n",
       "      <td>0.000743</td>\n",
       "      <td>0.007220</td>\n",
       "      <td>0.006075</td>\n",
       "      <td>0.000887</td>\n",
       "      <td>0.007652</td>\n",
       "      <td>0.006113</td>\n",
       "    </tr>\n",
       "    <tr>\n",
       "      <th>Th6</th>\n",
       "      <td>0.001379</td>\n",
       "      <td>0.005071</td>\n",
       "      <td>0.002856</td>\n",
       "      <td>0.007899</td>\n",
       "      <td>0.007119</td>\n",
       "      <td>0.001088</td>\n",
       "      <td>0.001503</td>\n",
       "      <td>0.002066</td>\n",
       "      <td>0.001173</td>\n",
       "      <td>0.002650</td>\n",
       "      <td>...</td>\n",
       "      <td>0.008307</td>\n",
       "      <td>0.000864</td>\n",
       "      <td>0.001274</td>\n",
       "      <td>0.001193</td>\n",
       "      <td>0.006352</td>\n",
       "      <td>0.000241</td>\n",
       "      <td>0.001247</td>\n",
       "      <td>0.006452</td>\n",
       "      <td>0.000672</td>\n",
       "      <td>0.001051</td>\n",
       "    </tr>\n",
       "    <tr>\n",
       "      <th>Th7</th>\n",
       "      <td>0.000274</td>\n",
       "      <td>0.006086</td>\n",
       "      <td>0.003872</td>\n",
       "      <td>0.008914</td>\n",
       "      <td>0.008135</td>\n",
       "      <td>0.000256</td>\n",
       "      <td>0.000398</td>\n",
       "      <td>0.003081</td>\n",
       "      <td>0.000068</td>\n",
       "      <td>0.003665</td>\n",
       "      <td>...</td>\n",
       "      <td>0.009322</td>\n",
       "      <td>0.000356</td>\n",
       "      <td>0.000169</td>\n",
       "      <td>0.000088</td>\n",
       "      <td>0.007368</td>\n",
       "      <td>0.001256</td>\n",
       "      <td>0.002262</td>\n",
       "      <td>0.007468</td>\n",
       "      <td>0.000556</td>\n",
       "      <td>0.002067</td>\n",
       "    </tr>\n",
       "  </tbody>\n",
       "</table>\n",
       "<p>8 rows × 50 columns</p>\n",
       "</div>"
      ],
      "text/plain": [
       "           C0        C1        C2        C3        C4        C5        C6  \\\n",
       "Th0  0.002410  0.003950  0.001736  0.006778  0.005999  0.002119  0.002534   \n",
       "Th1  0.009244  0.003239  0.005175  0.000547  0.001358  0.008954  0.009368   \n",
       "Th2  0.003338  0.003327  0.001112  0.006155  0.005375  0.003048  0.003462   \n",
       "Th3  0.007654  0.001649  0.003585  0.001629  0.000850  0.007364  0.007778   \n",
       "Th4  0.000781  0.005623  0.003408  0.008450  0.007671  0.000490  0.000904   \n",
       "Th5  0.008358  0.002353  0.004289  0.000888  0.000472  0.008068  0.008482   \n",
       "Th6  0.001379  0.005071  0.002856  0.007899  0.007119  0.001088  0.001503   \n",
       "Th7  0.000274  0.006086  0.003872  0.008914  0.008135  0.000256  0.000398   \n",
       "\n",
       "           C7        C8        C9  ...       C40       C41       C42  \\\n",
       "Th0  0.000945  0.002204  0.001529  ...  0.007186  0.001896  0.002305   \n",
       "Th1  0.006265  0.009038  0.005480  ...  0.000955  0.008730  0.009139   \n",
       "Th2  0.000359  0.003132  0.000906  ...  0.006563  0.002824  0.003233   \n",
       "Th3  0.004675  0.007448  0.003890  ...  0.002037  0.007140  0.007549   \n",
       "Th4  0.002618  0.000575  0.003202  ...  0.008858  0.000266  0.000676   \n",
       "Th5  0.005379  0.008152  0.004594  ...  0.001296  0.007844  0.008253   \n",
       "Th6  0.002066  0.001173  0.002650  ...  0.008307  0.000864  0.001274   \n",
       "Th7  0.003081  0.000068  0.003665  ...  0.009322  0.000356  0.000169   \n",
       "\n",
       "          C43       C44       C45       C46       C47       C48       C49  \n",
       "Th0  0.002224  0.005232  0.001272  0.000126  0.005332  0.001703  0.000165  \n",
       "Th1  0.009058  0.001629  0.008106  0.006961  0.001773  0.008538  0.006999  \n",
       "Th2  0.003152  0.004608  0.002200  0.001055  0.004708  0.002632  0.001093  \n",
       "Th3  0.007468  0.000083  0.006516  0.005371  0.000183  0.006948  0.005409  \n",
       "Th4  0.000594  0.006904  0.000793  0.001799  0.007004  0.000092  0.001603  \n",
       "Th5  0.008172  0.000743  0.007220  0.006075  0.000887  0.007652  0.006113  \n",
       "Th6  0.001193  0.006352  0.000241  0.001247  0.006452  0.000672  0.001051  \n",
       "Th7  0.000088  0.007368  0.001256  0.002262  0.007468  0.000556  0.002067  \n",
       "\n",
       "[8 rows x 50 columns]"
      ]
     },
     "execution_count": 18,
     "metadata": {},
     "output_type": "execute_result"
    }
   ],
   "source": [
    "# Generate the distance matrix\n",
    "\n",
    "\n",
    "def distance_template_to_distance_matrix(\n",
    "    template: list[tuple[str, str, float, list[str]]],\n",
    "    thermoelectrics: list[str],\n",
    "    circuits: list[str],\n",
    "):\n",
    "    matrix = [[-1 for _ in range(len(circuits))] for _ in range(len(thermoelectrics))]\n",
    "\n",
    "    c_map = {}\n",
    "    t_map = {}\n",
    "\n",
    "    for i, t in enumerate(thermoelectrics):\n",
    "        t_map[t] = i\n",
    "\n",
    "    for i, c in enumerate(circuits):\n",
    "        c_map[c] = i\n",
    "\n",
    "    max_cost = 1\n",
    "    for t, c, cost, _ in template:\n",
    "        matrix[t_map[t]][c_map[c]] = cost\n",
    "        max_cost = max(max_cost, cost)\n",
    "\n",
    "    for t, c, _, _ in template:\n",
    "        matrix[t_map[t]][c_map[c]] /= max_cost * DISTANCE_REGULATOR\n",
    "\n",
    "    return matrix\n",
    "\n",
    "\n",
    "matrix = distance_template_to_distance_matrix(\n",
    "    distance_cost_template,\n",
    "    [t.id for t in graphMap.thermoelectrics_nodes],\n",
    "    [c.id for c in graphMap.circuits_nodes],\n",
    ")\n",
    "\n",
    "\n",
    "distance_matrix_df = pd.DataFrame(\n",
    "    matrix,\n",
    "    index=[t.id for t in graphMap.thermoelectrics_nodes],\n",
    "    columns=[c.id for c in graphMap.circuits_nodes],\n",
    ")\n",
    "\n",
    "distance_matrix_df"
   ]
  },
  {
   "cell_type": "code",
   "execution_count": 19,
   "metadata": {},
   "outputs": [
    {
     "data": {
      "application/vnd.plotly.v1+json": {
       "config": {
        "plotlyServerURL": "https://plot.ly"
       },
       "data": [
        {
         "alignmentgroup": "True",
         "hovertemplate": "Thermoelectric ID=Th0<br>ID=%{x}<br>Total Capacity=%{y}<extra></extra>",
         "legendgroup": "Th0",
         "marker": {
          "color": "#636EFA",
          "pattern": {
           "shape": ""
          }
         },
         "name": "Th0",
         "offsetgroup": "Th0",
         "orientation": "v",
         "showlegend": true,
         "textposition": "auto",
         "type": "bar",
         "x": [
          "Th0"
         ],
         "xaxis": "x",
         "y": [
          9741.973122665971
         ],
         "yaxis": "y"
        },
        {
         "alignmentgroup": "True",
         "hovertemplate": "Thermoelectric ID=Th1<br>ID=%{x}<br>Total Capacity=%{y}<extra></extra>",
         "legendgroup": "Th1",
         "marker": {
          "color": "#EF553B",
          "pattern": {
           "shape": ""
          }
         },
         "name": "Th1",
         "offsetgroup": "Th1",
         "orientation": "v",
         "showlegend": true,
         "textposition": "auto",
         "type": "bar",
         "x": [
          "Th1"
         ],
         "xaxis": "x",
         "y": [
          11212.708651772382
         ],
         "yaxis": "y"
        },
        {
         "alignmentgroup": "True",
         "hovertemplate": "Thermoelectric ID=Th2<br>ID=%{x}<br>Total Capacity=%{y}<extra></extra>",
         "legendgroup": "Th2",
         "marker": {
          "color": "#00CC96",
          "pattern": {
           "shape": ""
          }
         },
         "name": "Th2",
         "offsetgroup": "Th2",
         "orientation": "v",
         "showlegend": true,
         "textposition": "auto",
         "type": "bar",
         "x": [
          "Th2"
         ],
         "xaxis": "x",
         "y": [
          18838.444694203416
         ],
         "yaxis": "y"
        },
        {
         "alignmentgroup": "True",
         "hovertemplate": "Thermoelectric ID=Th3<br>ID=%{x}<br>Total Capacity=%{y}<extra></extra>",
         "legendgroup": "Th3",
         "marker": {
          "color": "#AB63FA",
          "pattern": {
           "shape": ""
          }
         },
         "name": "Th3",
         "offsetgroup": "Th3",
         "orientation": "v",
         "showlegend": true,
         "textposition": "auto",
         "type": "bar",
         "x": [
          "Th3"
         ],
         "xaxis": "x",
         "y": [
          30199.529025346823
         ],
         "yaxis": "y"
        },
        {
         "alignmentgroup": "True",
         "hovertemplate": "Thermoelectric ID=Th4<br>ID=%{x}<br>Total Capacity=%{y}<extra></extra>",
         "legendgroup": "Th4",
         "marker": {
          "color": "#FFA15A",
          "pattern": {
           "shape": ""
          }
         },
         "name": "Th4",
         "offsetgroup": "Th4",
         "orientation": "v",
         "showlegend": true,
         "textposition": "auto",
         "type": "bar",
         "x": [
          "Th4"
         ],
         "xaxis": "x",
         "y": [
          7283.112348285446
         ],
         "yaxis": "y"
        },
        {
         "alignmentgroup": "True",
         "hovertemplate": "Thermoelectric ID=Th5<br>ID=%{x}<br>Total Capacity=%{y}<extra></extra>",
         "legendgroup": "Th5",
         "marker": {
          "color": "#19D3F3",
          "pattern": {
           "shape": ""
          }
         },
         "name": "Th5",
         "offsetgroup": "Th5",
         "orientation": "v",
         "showlegend": true,
         "textposition": "auto",
         "type": "bar",
         "x": [
          "Th5"
         ],
         "xaxis": "x",
         "y": [
          5992.451512996686
         ],
         "yaxis": "y"
        },
        {
         "alignmentgroup": "True",
         "hovertemplate": "Thermoelectric ID=Th6<br>ID=%{x}<br>Total Capacity=%{y}<extra></extra>",
         "legendgroup": "Th6",
         "marker": {
          "color": "#FF6692",
          "pattern": {
           "shape": ""
          }
         },
         "name": "Th6",
         "offsetgroup": "Th6",
         "orientation": "v",
         "showlegend": true,
         "textposition": "auto",
         "type": "bar",
         "x": [
          "Th6"
         ],
         "xaxis": "x",
         "y": [
          19487.17697857964
         ],
         "yaxis": "y"
        },
        {
         "alignmentgroup": "True",
         "hovertemplate": "Thermoelectric ID=Th7<br>ID=%{x}<br>Total Capacity=%{y}<extra></extra>",
         "legendgroup": "Th7",
         "marker": {
          "color": "#B6E880",
          "pattern": {
           "shape": ""
          }
         },
         "name": "Th7",
         "offsetgroup": "Th7",
         "orientation": "v",
         "showlegend": true,
         "textposition": "auto",
         "type": "bar",
         "x": [
          "Th7"
         ],
         "xaxis": "x",
         "y": [
          20327.21897751352
         ],
         "yaxis": "y"
        }
       ],
       "layout": {
        "barmode": "relative",
        "height": 800,
        "legend": {
         "title": {
          "text": "Thermoelectric ID"
         },
         "tracegroupgap": 0
        },
        "template": {
         "data": {
          "bar": [
           {
            "error_x": {
             "color": "#2a3f5f"
            },
            "error_y": {
             "color": "#2a3f5f"
            },
            "marker": {
             "line": {
              "color": "#E5ECF6",
              "width": 0.5
             },
             "pattern": {
              "fillmode": "overlay",
              "size": 10,
              "solidity": 0.2
             }
            },
            "type": "bar"
           }
          ],
          "barpolar": [
           {
            "marker": {
             "line": {
              "color": "#E5ECF6",
              "width": 0.5
             },
             "pattern": {
              "fillmode": "overlay",
              "size": 10,
              "solidity": 0.2
             }
            },
            "type": "barpolar"
           }
          ],
          "carpet": [
           {
            "aaxis": {
             "endlinecolor": "#2a3f5f",
             "gridcolor": "white",
             "linecolor": "white",
             "minorgridcolor": "white",
             "startlinecolor": "#2a3f5f"
            },
            "baxis": {
             "endlinecolor": "#2a3f5f",
             "gridcolor": "white",
             "linecolor": "white",
             "minorgridcolor": "white",
             "startlinecolor": "#2a3f5f"
            },
            "type": "carpet"
           }
          ],
          "choropleth": [
           {
            "colorbar": {
             "outlinewidth": 0,
             "ticks": ""
            },
            "type": "choropleth"
           }
          ],
          "contour": [
           {
            "colorbar": {
             "outlinewidth": 0,
             "ticks": ""
            },
            "colorscale": [
             [
              0,
              "#0d0887"
             ],
             [
              0.1111111111111111,
              "#46039f"
             ],
             [
              0.2222222222222222,
              "#7201a8"
             ],
             [
              0.3333333333333333,
              "#9c179e"
             ],
             [
              0.4444444444444444,
              "#bd3786"
             ],
             [
              0.5555555555555556,
              "#d8576b"
             ],
             [
              0.6666666666666666,
              "#ed7953"
             ],
             [
              0.7777777777777778,
              "#fb9f3a"
             ],
             [
              0.8888888888888888,
              "#fdca26"
             ],
             [
              1,
              "#f0f921"
             ]
            ],
            "type": "contour"
           }
          ],
          "contourcarpet": [
           {
            "colorbar": {
             "outlinewidth": 0,
             "ticks": ""
            },
            "type": "contourcarpet"
           }
          ],
          "heatmap": [
           {
            "colorbar": {
             "outlinewidth": 0,
             "ticks": ""
            },
            "colorscale": [
             [
              0,
              "#0d0887"
             ],
             [
              0.1111111111111111,
              "#46039f"
             ],
             [
              0.2222222222222222,
              "#7201a8"
             ],
             [
              0.3333333333333333,
              "#9c179e"
             ],
             [
              0.4444444444444444,
              "#bd3786"
             ],
             [
              0.5555555555555556,
              "#d8576b"
             ],
             [
              0.6666666666666666,
              "#ed7953"
             ],
             [
              0.7777777777777778,
              "#fb9f3a"
             ],
             [
              0.8888888888888888,
              "#fdca26"
             ],
             [
              1,
              "#f0f921"
             ]
            ],
            "type": "heatmap"
           }
          ],
          "heatmapgl": [
           {
            "colorbar": {
             "outlinewidth": 0,
             "ticks": ""
            },
            "colorscale": [
             [
              0,
              "#0d0887"
             ],
             [
              0.1111111111111111,
              "#46039f"
             ],
             [
              0.2222222222222222,
              "#7201a8"
             ],
             [
              0.3333333333333333,
              "#9c179e"
             ],
             [
              0.4444444444444444,
              "#bd3786"
             ],
             [
              0.5555555555555556,
              "#d8576b"
             ],
             [
              0.6666666666666666,
              "#ed7953"
             ],
             [
              0.7777777777777778,
              "#fb9f3a"
             ],
             [
              0.8888888888888888,
              "#fdca26"
             ],
             [
              1,
              "#f0f921"
             ]
            ],
            "type": "heatmapgl"
           }
          ],
          "histogram": [
           {
            "marker": {
             "pattern": {
              "fillmode": "overlay",
              "size": 10,
              "solidity": 0.2
             }
            },
            "type": "histogram"
           }
          ],
          "histogram2d": [
           {
            "colorbar": {
             "outlinewidth": 0,
             "ticks": ""
            },
            "colorscale": [
             [
              0,
              "#0d0887"
             ],
             [
              0.1111111111111111,
              "#46039f"
             ],
             [
              0.2222222222222222,
              "#7201a8"
             ],
             [
              0.3333333333333333,
              "#9c179e"
             ],
             [
              0.4444444444444444,
              "#bd3786"
             ],
             [
              0.5555555555555556,
              "#d8576b"
             ],
             [
              0.6666666666666666,
              "#ed7953"
             ],
             [
              0.7777777777777778,
              "#fb9f3a"
             ],
             [
              0.8888888888888888,
              "#fdca26"
             ],
             [
              1,
              "#f0f921"
             ]
            ],
            "type": "histogram2d"
           }
          ],
          "histogram2dcontour": [
           {
            "colorbar": {
             "outlinewidth": 0,
             "ticks": ""
            },
            "colorscale": [
             [
              0,
              "#0d0887"
             ],
             [
              0.1111111111111111,
              "#46039f"
             ],
             [
              0.2222222222222222,
              "#7201a8"
             ],
             [
              0.3333333333333333,
              "#9c179e"
             ],
             [
              0.4444444444444444,
              "#bd3786"
             ],
             [
              0.5555555555555556,
              "#d8576b"
             ],
             [
              0.6666666666666666,
              "#ed7953"
             ],
             [
              0.7777777777777778,
              "#fb9f3a"
             ],
             [
              0.8888888888888888,
              "#fdca26"
             ],
             [
              1,
              "#f0f921"
             ]
            ],
            "type": "histogram2dcontour"
           }
          ],
          "mesh3d": [
           {
            "colorbar": {
             "outlinewidth": 0,
             "ticks": ""
            },
            "type": "mesh3d"
           }
          ],
          "parcoords": [
           {
            "line": {
             "colorbar": {
              "outlinewidth": 0,
              "ticks": ""
             }
            },
            "type": "parcoords"
           }
          ],
          "pie": [
           {
            "automargin": true,
            "type": "pie"
           }
          ],
          "scatter": [
           {
            "fillpattern": {
             "fillmode": "overlay",
             "size": 10,
             "solidity": 0.2
            },
            "type": "scatter"
           }
          ],
          "scatter3d": [
           {
            "line": {
             "colorbar": {
              "outlinewidth": 0,
              "ticks": ""
             }
            },
            "marker": {
             "colorbar": {
              "outlinewidth": 0,
              "ticks": ""
             }
            },
            "type": "scatter3d"
           }
          ],
          "scattercarpet": [
           {
            "marker": {
             "colorbar": {
              "outlinewidth": 0,
              "ticks": ""
             }
            },
            "type": "scattercarpet"
           }
          ],
          "scattergeo": [
           {
            "marker": {
             "colorbar": {
              "outlinewidth": 0,
              "ticks": ""
             }
            },
            "type": "scattergeo"
           }
          ],
          "scattergl": [
           {
            "marker": {
             "colorbar": {
              "outlinewidth": 0,
              "ticks": ""
             }
            },
            "type": "scattergl"
           }
          ],
          "scattermapbox": [
           {
            "marker": {
             "colorbar": {
              "outlinewidth": 0,
              "ticks": ""
             }
            },
            "type": "scattermapbox"
           }
          ],
          "scatterpolar": [
           {
            "marker": {
             "colorbar": {
              "outlinewidth": 0,
              "ticks": ""
             }
            },
            "type": "scatterpolar"
           }
          ],
          "scatterpolargl": [
           {
            "marker": {
             "colorbar": {
              "outlinewidth": 0,
              "ticks": ""
             }
            },
            "type": "scatterpolargl"
           }
          ],
          "scatterternary": [
           {
            "marker": {
             "colorbar": {
              "outlinewidth": 0,
              "ticks": ""
             }
            },
            "type": "scatterternary"
           }
          ],
          "surface": [
           {
            "colorbar": {
             "outlinewidth": 0,
             "ticks": ""
            },
            "colorscale": [
             [
              0,
              "#0d0887"
             ],
             [
              0.1111111111111111,
              "#46039f"
             ],
             [
              0.2222222222222222,
              "#7201a8"
             ],
             [
              0.3333333333333333,
              "#9c179e"
             ],
             [
              0.4444444444444444,
              "#bd3786"
             ],
             [
              0.5555555555555556,
              "#d8576b"
             ],
             [
              0.6666666666666666,
              "#ed7953"
             ],
             [
              0.7777777777777778,
              "#fb9f3a"
             ],
             [
              0.8888888888888888,
              "#fdca26"
             ],
             [
              1,
              "#f0f921"
             ]
            ],
            "type": "surface"
           }
          ],
          "table": [
           {
            "cells": {
             "fill": {
              "color": "#EBF0F8"
             },
             "line": {
              "color": "white"
             }
            },
            "header": {
             "fill": {
              "color": "#C8D4E3"
             },
             "line": {
              "color": "white"
             }
            },
            "type": "table"
           }
          ]
         },
         "layout": {
          "annotationdefaults": {
           "arrowcolor": "#2a3f5f",
           "arrowhead": 0,
           "arrowwidth": 1
          },
          "autotypenumbers": "strict",
          "coloraxis": {
           "colorbar": {
            "outlinewidth": 0,
            "ticks": ""
           }
          },
          "colorscale": {
           "diverging": [
            [
             0,
             "#8e0152"
            ],
            [
             0.1,
             "#c51b7d"
            ],
            [
             0.2,
             "#de77ae"
            ],
            [
             0.3,
             "#f1b6da"
            ],
            [
             0.4,
             "#fde0ef"
            ],
            [
             0.5,
             "#f7f7f7"
            ],
            [
             0.6,
             "#e6f5d0"
            ],
            [
             0.7,
             "#b8e186"
            ],
            [
             0.8,
             "#7fbc41"
            ],
            [
             0.9,
             "#4d9221"
            ],
            [
             1,
             "#276419"
            ]
           ],
           "sequential": [
            [
             0,
             "#0d0887"
            ],
            [
             0.1111111111111111,
             "#46039f"
            ],
            [
             0.2222222222222222,
             "#7201a8"
            ],
            [
             0.3333333333333333,
             "#9c179e"
            ],
            [
             0.4444444444444444,
             "#bd3786"
            ],
            [
             0.5555555555555556,
             "#d8576b"
            ],
            [
             0.6666666666666666,
             "#ed7953"
            ],
            [
             0.7777777777777778,
             "#fb9f3a"
            ],
            [
             0.8888888888888888,
             "#fdca26"
            ],
            [
             1,
             "#f0f921"
            ]
           ],
           "sequentialminus": [
            [
             0,
             "#0d0887"
            ],
            [
             0.1111111111111111,
             "#46039f"
            ],
            [
             0.2222222222222222,
             "#7201a8"
            ],
            [
             0.3333333333333333,
             "#9c179e"
            ],
            [
             0.4444444444444444,
             "#bd3786"
            ],
            [
             0.5555555555555556,
             "#d8576b"
            ],
            [
             0.6666666666666666,
             "#ed7953"
            ],
            [
             0.7777777777777778,
             "#fb9f3a"
            ],
            [
             0.8888888888888888,
             "#fdca26"
            ],
            [
             1,
             "#f0f921"
            ]
           ]
          },
          "colorway": [
           "#636efa",
           "#EF553B",
           "#00cc96",
           "#ab63fa",
           "#FFA15A",
           "#19d3f3",
           "#FF6692",
           "#B6E880",
           "#FF97FF",
           "#FECB52"
          ],
          "font": {
           "color": "#2a3f5f"
          },
          "geo": {
           "bgcolor": "white",
           "lakecolor": "white",
           "landcolor": "#E5ECF6",
           "showlakes": true,
           "showland": true,
           "subunitcolor": "white"
          },
          "hoverlabel": {
           "align": "left"
          },
          "hovermode": "closest",
          "mapbox": {
           "style": "light"
          },
          "paper_bgcolor": "white",
          "plot_bgcolor": "#E5ECF6",
          "polar": {
           "angularaxis": {
            "gridcolor": "white",
            "linecolor": "white",
            "ticks": ""
           },
           "bgcolor": "#E5ECF6",
           "radialaxis": {
            "gridcolor": "white",
            "linecolor": "white",
            "ticks": ""
           }
          },
          "scene": {
           "xaxis": {
            "backgroundcolor": "#E5ECF6",
            "gridcolor": "white",
            "gridwidth": 2,
            "linecolor": "white",
            "showbackground": true,
            "ticks": "",
            "zerolinecolor": "white"
           },
           "yaxis": {
            "backgroundcolor": "#E5ECF6",
            "gridcolor": "white",
            "gridwidth": 2,
            "linecolor": "white",
            "showbackground": true,
            "ticks": "",
            "zerolinecolor": "white"
           },
           "zaxis": {
            "backgroundcolor": "#E5ECF6",
            "gridcolor": "white",
            "gridwidth": 2,
            "linecolor": "white",
            "showbackground": true,
            "ticks": "",
            "zerolinecolor": "white"
           }
          },
          "shapedefaults": {
           "line": {
            "color": "#2a3f5f"
           }
          },
          "ternary": {
           "aaxis": {
            "gridcolor": "white",
            "linecolor": "white",
            "ticks": ""
           },
           "baxis": {
            "gridcolor": "white",
            "linecolor": "white",
            "ticks": ""
           },
           "bgcolor": "#E5ECF6",
           "caxis": {
            "gridcolor": "white",
            "linecolor": "white",
            "ticks": ""
           }
          },
          "title": {
           "x": 0.05
          },
          "xaxis": {
           "automargin": true,
           "gridcolor": "white",
           "linecolor": "white",
           "ticks": "",
           "title": {
            "standoff": 15
           },
           "zerolinecolor": "white",
           "zerolinewidth": 2
          },
          "yaxis": {
           "automargin": true,
           "gridcolor": "white",
           "linecolor": "white",
           "ticks": "",
           "title": {
            "standoff": 15
           },
           "zerolinecolor": "white",
           "zerolinewidth": 2
          }
         }
        },
        "title": {
         "text": "Total Capacity of Thermoelectrics"
        },
        "xaxis": {
         "anchor": "y",
         "domain": [
          0,
          1
         ],
         "title": {
          "text": "ID"
         }
        },
        "yaxis": {
         "anchor": "x",
         "domain": [
          0,
          1
         ],
         "title": {
          "text": "Total Capacity"
         }
        }
       }
      }
     },
     "metadata": {},
     "output_type": "display_data"
    }
   ],
   "source": [
    "# Generate thermoelectrics\n",
    "electric_system_thermoelectrics_list: list[Thermoelectric] = []\n",
    "\n",
    "for i, t in enumerate(graphMap.thermoelectrics_nodes):\n",
    "    generated_thermoelectric_min_cost = 0\n",
    "\n",
    "    for j, c in enumerate(graphMap.circuits_nodes):\n",
    "        if mapper_circuit_with_thermoelectric[c.id] == t.id:\n",
    "            generated_thermoelectric_min_cost += (\n",
    "                electric_system_circuits_list[j].mock_electric_consume\n",
    "                + electric_system_circuits_list[j].mock_electric_consume\n",
    "                * matrix[i][j]\n",
    "                * 24\n",
    "            )\n",
    "\n",
    "    electric_system_thermoelectrics_list.append(\n",
    "        Thermoelectric(\n",
    "            id=t.id,\n",
    "            total_capacity=generated_thermoelectric_min_cost + 200,\n",
    "        )\n",
    "    )\n",
    "    thermoelectric_data = {\n",
    "        \"ID\": [t.id for t in electric_system_thermoelectrics_list],\n",
    "        \"Total Capacity\": [\n",
    "            t.total_capacity for t in electric_system_thermoelectrics_list\n",
    "        ],\n",
    "    }\n",
    "\n",
    "    thermoelectric_df = pd.DataFrame(thermoelectric_data)\n",
    "\n",
    "\n",
    "sorted_electric_system_circuit_list = sorted(\n",
    "    electric_system_circuits_list,\n",
    "    key=lambda x: list(\n",
    "        filter(\n",
    "            lambda y: mapper_circuit_with_thermoelectric[x.id] == y.id,\n",
    "            graphMap.thermoelectrics_nodes,\n",
    "        )\n",
    "    )[0].id,\n",
    ")\n",
    "\n",
    "colors = [\n",
    "    list(\n",
    "        filter(\n",
    "            lambda x, y=circuit: mapper_circuit_with_thermoelectric[y.id] == x.id,\n",
    "            graphMap.thermoelectrics_nodes,\n",
    "        )\n",
    "    )[0].id\n",
    "    for circuit in sorted_electric_system_circuit_list\n",
    "]\n",
    "\n",
    "\n",
    "fig = px.bar(\n",
    "    thermoelectric_df,\n",
    "    x=\"ID\",\n",
    "    y=\"Total Capacity\",\n",
    "    title=\"Total Capacity of Thermoelectrics\",\n",
    "    height=800,\n",
    "    color=[t.id for t in electric_system_thermoelectrics_list],\n",
    "    color_discrete_sequence=px.colors.qualitative.Plotly,\n",
    "    labels={\"color\": \"Thermoelectric ID\"},\n",
    ")\n",
    "\n",
    "fig.show()"
   ]
  },
  {
   "cell_type": "code",
   "execution_count": 20,
   "metadata": {},
   "outputs": [
    {
     "data": {
      "application/vnd.plotly.v1+json": {
       "config": {
        "plotlyServerURL": "https://plot.ly"
       },
       "data": [
        {
         "alignmentgroup": "True",
         "hovertemplate": "color=Th0<br>Circuit ID=%{x}<br>Mock Electric Consume=%{y}<extra></extra>",
         "legendgroup": "Th0",
         "marker": {
          "color": "#636efa",
          "pattern": {
           "shape": ""
          }
         },
         "name": "Th0",
         "offsetgroup": "Th0",
         "orientation": "v",
         "showlegend": true,
         "textposition": "auto",
         "type": "bar",
         "x": [
          "C32",
          "C46",
          "C49"
         ],
         "xaxis": "x",
         "y": [
          1339.202865781843,
          4522.87297849063,
          3635.15546775932
         ],
         "yaxis": "y"
        },
        {
         "alignmentgroup": "True",
         "hovertemplate": "color=Th1<br>Circuit ID=%{x}<br>Mock Electric Consume=%{y}<extra></extra>",
         "legendgroup": "Th1",
         "marker": {
          "color": "#EF553B",
          "pattern": {
           "shape": ""
          }
         },
         "name": "Th1",
         "offsetgroup": "Th1",
         "orientation": "v",
         "showlegend": true,
         "textposition": "auto",
         "type": "bar",
         "x": [
          "C3",
          "C34",
          "C39",
          "C40"
         ],
         "xaxis": "x",
         "y": [
          1867.5224460216739,
          2430.0884419403374,
          3705.749895347593,
          2827.711106967448
         ],
         "yaxis": "y"
        },
        {
         "alignmentgroup": "True",
         "hovertemplate": "color=Th2<br>Circuit ID=%{x}<br>Mock Electric Consume=%{y}<extra></extra>",
         "legendgroup": "Th2",
         "marker": {
          "color": "#00cc96",
          "pattern": {
           "shape": ""
          }
         },
         "name": "Th2",
         "offsetgroup": "Th2",
         "orientation": "v",
         "showlegend": true,
         "textposition": "auto",
         "type": "bar",
         "x": [
          "C2",
          "C7",
          "C9",
          "C16",
          "C18",
          "C35"
         ],
         "xaxis": "x",
         "y": [
          4485.076524713012,
          919.5628818576872,
          5186.711313790355,
          4130.191681899715,
          2604.2735843619366,
          901.5260111720659
         ],
         "yaxis": "y"
        },
        {
         "alignmentgroup": "True",
         "hovertemplate": "color=Th3<br>Circuit ID=%{x}<br>Mock Electric Consume=%{y}<extra></extra>",
         "legendgroup": "Th3",
         "marker": {
          "color": "#ab63fa",
          "pattern": {
           "shape": ""
          }
         },
         "name": "Th3",
         "offsetgroup": "Th3",
         "orientation": "v",
         "showlegend": true,
         "textposition": "auto",
         "type": "bar",
         "x": [
          "C1",
          "C10",
          "C19",
          "C22",
          "C25",
          "C27",
          "C29",
          "C30",
          "C31",
          "C37",
          "C44",
          "C47"
         ],
         "xaxis": "x",
         "y": [
          4535.990874724278,
          2791.3221072593187,
          1112.2743888800844,
          2179.536123182468,
          979.9857548676382,
          1046.3335578176677,
          4602.120800485055,
          5792.152678845765,
          1889.1788979382093,
          1017.1384814887382,
          982.4438001347727,
          2144.88521964574
         ],
         "yaxis": "y"
        },
        {
         "alignmentgroup": "True",
         "hovertemplate": "color=Th4<br>Circuit ID=%{x}<br>Mock Electric Consume=%{y}<extra></extra>",
         "legendgroup": "Th4",
         "marker": {
          "color": "#FFA15A",
          "pattern": {
           "shape": ""
          }
         },
         "name": "Th4",
         "offsetgroup": "Th4",
         "orientation": "v",
         "showlegend": true,
         "textposition": "auto",
         "type": "bar",
         "x": [
          "C21",
          "C41",
          "C48"
         ],
         "xaxis": "x",
         "y": [
          1229.9390496491717,
          3255.0281412845534,
          2570.2163107257743
         ],
         "yaxis": "y"
        },
        {
         "alignmentgroup": "True",
         "hovertemplate": "color=Th5<br>Circuit ID=%{x}<br>Mock Electric Consume=%{y}<extra></extra>",
         "legendgroup": "Th5",
         "marker": {
          "color": "#19d3f3",
          "pattern": {
           "shape": ""
          }
         },
         "name": "Th5",
         "offsetgroup": "Th5",
         "orientation": "v",
         "showlegend": true,
         "textposition": "auto",
         "type": "bar",
         "x": [
          "C4",
          "C11",
          "C12",
          "C33"
         ],
         "xaxis": "x",
         "y": [
          978.7390625073629,
          1258.245169807353,
          1482.3351793390752,
          2014.9256826417493
         ],
         "yaxis": "y"
        },
        {
         "alignmentgroup": "True",
         "hovertemplate": "color=Th6<br>Circuit ID=%{x}<br>Mock Electric Consume=%{y}<extra></extra>",
         "legendgroup": "Th6",
         "marker": {
          "color": "#FF6692",
          "pattern": {
           "shape": ""
          }
         },
         "name": "Th6",
         "offsetgroup": "Th6",
         "orientation": "v",
         "showlegend": true,
         "textposition": "auto",
         "type": "bar",
         "x": [
          "C13",
          "C15",
          "C17",
          "C20",
          "C23",
          "C24",
          "C36",
          "C45"
         ],
         "xaxis": "x",
         "y": [
          2707.3543192224924,
          1388.0095332081164,
          5229.455752744052,
          1073.8105767016102,
          2780.676155711362,
          1277.6885500139842,
          2453.380984736415,
          2260.535062133161
         ],
         "yaxis": "y"
        },
        {
         "alignmentgroup": "True",
         "hovertemplate": "color=Th7<br>Circuit ID=%{x}<br>Mock Electric Consume=%{y}<extra></extra>",
         "legendgroup": "Th7",
         "marker": {
          "color": "#B6E880",
          "pattern": {
           "shape": ""
          }
         },
         "name": "Th7",
         "offsetgroup": "Th7",
         "orientation": "v",
         "showlegend": true,
         "textposition": "auto",
         "type": "bar",
         "x": [
          "C0",
          "C5",
          "C6",
          "C8",
          "C14",
          "C26",
          "C28",
          "C38",
          "C42",
          "C43"
         ],
         "xaxis": "x",
         "y": [
          1535.8848954297587,
          1016.2370932844674,
          2988.75491034674,
          1962.7966121432569,
          2083.6544119225964,
          1257.6553358025162,
          1633.412218981318,
          2149.395380480105,
          4790.612716624667,
          578.1743680633099
         ],
         "yaxis": "y"
        }
       ],
       "layout": {
        "barmode": "relative",
        "height": 800,
        "legend": {
         "title": {
          "text": "color"
         },
         "tracegroupgap": 0
        },
        "template": {
         "data": {
          "bar": [
           {
            "error_x": {
             "color": "#2a3f5f"
            },
            "error_y": {
             "color": "#2a3f5f"
            },
            "marker": {
             "line": {
              "color": "#E5ECF6",
              "width": 0.5
             },
             "pattern": {
              "fillmode": "overlay",
              "size": 10,
              "solidity": 0.2
             }
            },
            "type": "bar"
           }
          ],
          "barpolar": [
           {
            "marker": {
             "line": {
              "color": "#E5ECF6",
              "width": 0.5
             },
             "pattern": {
              "fillmode": "overlay",
              "size": 10,
              "solidity": 0.2
             }
            },
            "type": "barpolar"
           }
          ],
          "carpet": [
           {
            "aaxis": {
             "endlinecolor": "#2a3f5f",
             "gridcolor": "white",
             "linecolor": "white",
             "minorgridcolor": "white",
             "startlinecolor": "#2a3f5f"
            },
            "baxis": {
             "endlinecolor": "#2a3f5f",
             "gridcolor": "white",
             "linecolor": "white",
             "minorgridcolor": "white",
             "startlinecolor": "#2a3f5f"
            },
            "type": "carpet"
           }
          ],
          "choropleth": [
           {
            "colorbar": {
             "outlinewidth": 0,
             "ticks": ""
            },
            "type": "choropleth"
           }
          ],
          "contour": [
           {
            "colorbar": {
             "outlinewidth": 0,
             "ticks": ""
            },
            "colorscale": [
             [
              0,
              "#0d0887"
             ],
             [
              0.1111111111111111,
              "#46039f"
             ],
             [
              0.2222222222222222,
              "#7201a8"
             ],
             [
              0.3333333333333333,
              "#9c179e"
             ],
             [
              0.4444444444444444,
              "#bd3786"
             ],
             [
              0.5555555555555556,
              "#d8576b"
             ],
             [
              0.6666666666666666,
              "#ed7953"
             ],
             [
              0.7777777777777778,
              "#fb9f3a"
             ],
             [
              0.8888888888888888,
              "#fdca26"
             ],
             [
              1,
              "#f0f921"
             ]
            ],
            "type": "contour"
           }
          ],
          "contourcarpet": [
           {
            "colorbar": {
             "outlinewidth": 0,
             "ticks": ""
            },
            "type": "contourcarpet"
           }
          ],
          "heatmap": [
           {
            "colorbar": {
             "outlinewidth": 0,
             "ticks": ""
            },
            "colorscale": [
             [
              0,
              "#0d0887"
             ],
             [
              0.1111111111111111,
              "#46039f"
             ],
             [
              0.2222222222222222,
              "#7201a8"
             ],
             [
              0.3333333333333333,
              "#9c179e"
             ],
             [
              0.4444444444444444,
              "#bd3786"
             ],
             [
              0.5555555555555556,
              "#d8576b"
             ],
             [
              0.6666666666666666,
              "#ed7953"
             ],
             [
              0.7777777777777778,
              "#fb9f3a"
             ],
             [
              0.8888888888888888,
              "#fdca26"
             ],
             [
              1,
              "#f0f921"
             ]
            ],
            "type": "heatmap"
           }
          ],
          "heatmapgl": [
           {
            "colorbar": {
             "outlinewidth": 0,
             "ticks": ""
            },
            "colorscale": [
             [
              0,
              "#0d0887"
             ],
             [
              0.1111111111111111,
              "#46039f"
             ],
             [
              0.2222222222222222,
              "#7201a8"
             ],
             [
              0.3333333333333333,
              "#9c179e"
             ],
             [
              0.4444444444444444,
              "#bd3786"
             ],
             [
              0.5555555555555556,
              "#d8576b"
             ],
             [
              0.6666666666666666,
              "#ed7953"
             ],
             [
              0.7777777777777778,
              "#fb9f3a"
             ],
             [
              0.8888888888888888,
              "#fdca26"
             ],
             [
              1,
              "#f0f921"
             ]
            ],
            "type": "heatmapgl"
           }
          ],
          "histogram": [
           {
            "marker": {
             "pattern": {
              "fillmode": "overlay",
              "size": 10,
              "solidity": 0.2
             }
            },
            "type": "histogram"
           }
          ],
          "histogram2d": [
           {
            "colorbar": {
             "outlinewidth": 0,
             "ticks": ""
            },
            "colorscale": [
             [
              0,
              "#0d0887"
             ],
             [
              0.1111111111111111,
              "#46039f"
             ],
             [
              0.2222222222222222,
              "#7201a8"
             ],
             [
              0.3333333333333333,
              "#9c179e"
             ],
             [
              0.4444444444444444,
              "#bd3786"
             ],
             [
              0.5555555555555556,
              "#d8576b"
             ],
             [
              0.6666666666666666,
              "#ed7953"
             ],
             [
              0.7777777777777778,
              "#fb9f3a"
             ],
             [
              0.8888888888888888,
              "#fdca26"
             ],
             [
              1,
              "#f0f921"
             ]
            ],
            "type": "histogram2d"
           }
          ],
          "histogram2dcontour": [
           {
            "colorbar": {
             "outlinewidth": 0,
             "ticks": ""
            },
            "colorscale": [
             [
              0,
              "#0d0887"
             ],
             [
              0.1111111111111111,
              "#46039f"
             ],
             [
              0.2222222222222222,
              "#7201a8"
             ],
             [
              0.3333333333333333,
              "#9c179e"
             ],
             [
              0.4444444444444444,
              "#bd3786"
             ],
             [
              0.5555555555555556,
              "#d8576b"
             ],
             [
              0.6666666666666666,
              "#ed7953"
             ],
             [
              0.7777777777777778,
              "#fb9f3a"
             ],
             [
              0.8888888888888888,
              "#fdca26"
             ],
             [
              1,
              "#f0f921"
             ]
            ],
            "type": "histogram2dcontour"
           }
          ],
          "mesh3d": [
           {
            "colorbar": {
             "outlinewidth": 0,
             "ticks": ""
            },
            "type": "mesh3d"
           }
          ],
          "parcoords": [
           {
            "line": {
             "colorbar": {
              "outlinewidth": 0,
              "ticks": ""
             }
            },
            "type": "parcoords"
           }
          ],
          "pie": [
           {
            "automargin": true,
            "type": "pie"
           }
          ],
          "scatter": [
           {
            "fillpattern": {
             "fillmode": "overlay",
             "size": 10,
             "solidity": 0.2
            },
            "type": "scatter"
           }
          ],
          "scatter3d": [
           {
            "line": {
             "colorbar": {
              "outlinewidth": 0,
              "ticks": ""
             }
            },
            "marker": {
             "colorbar": {
              "outlinewidth": 0,
              "ticks": ""
             }
            },
            "type": "scatter3d"
           }
          ],
          "scattercarpet": [
           {
            "marker": {
             "colorbar": {
              "outlinewidth": 0,
              "ticks": ""
             }
            },
            "type": "scattercarpet"
           }
          ],
          "scattergeo": [
           {
            "marker": {
             "colorbar": {
              "outlinewidth": 0,
              "ticks": ""
             }
            },
            "type": "scattergeo"
           }
          ],
          "scattergl": [
           {
            "marker": {
             "colorbar": {
              "outlinewidth": 0,
              "ticks": ""
             }
            },
            "type": "scattergl"
           }
          ],
          "scattermapbox": [
           {
            "marker": {
             "colorbar": {
              "outlinewidth": 0,
              "ticks": ""
             }
            },
            "type": "scattermapbox"
           }
          ],
          "scatterpolar": [
           {
            "marker": {
             "colorbar": {
              "outlinewidth": 0,
              "ticks": ""
             }
            },
            "type": "scatterpolar"
           }
          ],
          "scatterpolargl": [
           {
            "marker": {
             "colorbar": {
              "outlinewidth": 0,
              "ticks": ""
             }
            },
            "type": "scatterpolargl"
           }
          ],
          "scatterternary": [
           {
            "marker": {
             "colorbar": {
              "outlinewidth": 0,
              "ticks": ""
             }
            },
            "type": "scatterternary"
           }
          ],
          "surface": [
           {
            "colorbar": {
             "outlinewidth": 0,
             "ticks": ""
            },
            "colorscale": [
             [
              0,
              "#0d0887"
             ],
             [
              0.1111111111111111,
              "#46039f"
             ],
             [
              0.2222222222222222,
              "#7201a8"
             ],
             [
              0.3333333333333333,
              "#9c179e"
             ],
             [
              0.4444444444444444,
              "#bd3786"
             ],
             [
              0.5555555555555556,
              "#d8576b"
             ],
             [
              0.6666666666666666,
              "#ed7953"
             ],
             [
              0.7777777777777778,
              "#fb9f3a"
             ],
             [
              0.8888888888888888,
              "#fdca26"
             ],
             [
              1,
              "#f0f921"
             ]
            ],
            "type": "surface"
           }
          ],
          "table": [
           {
            "cells": {
             "fill": {
              "color": "#EBF0F8"
             },
             "line": {
              "color": "white"
             }
            },
            "header": {
             "fill": {
              "color": "#C8D4E3"
             },
             "line": {
              "color": "white"
             }
            },
            "type": "table"
           }
          ]
         },
         "layout": {
          "annotationdefaults": {
           "arrowcolor": "#2a3f5f",
           "arrowhead": 0,
           "arrowwidth": 1
          },
          "autotypenumbers": "strict",
          "coloraxis": {
           "colorbar": {
            "outlinewidth": 0,
            "ticks": ""
           }
          },
          "colorscale": {
           "diverging": [
            [
             0,
             "#8e0152"
            ],
            [
             0.1,
             "#c51b7d"
            ],
            [
             0.2,
             "#de77ae"
            ],
            [
             0.3,
             "#f1b6da"
            ],
            [
             0.4,
             "#fde0ef"
            ],
            [
             0.5,
             "#f7f7f7"
            ],
            [
             0.6,
             "#e6f5d0"
            ],
            [
             0.7,
             "#b8e186"
            ],
            [
             0.8,
             "#7fbc41"
            ],
            [
             0.9,
             "#4d9221"
            ],
            [
             1,
             "#276419"
            ]
           ],
           "sequential": [
            [
             0,
             "#0d0887"
            ],
            [
             0.1111111111111111,
             "#46039f"
            ],
            [
             0.2222222222222222,
             "#7201a8"
            ],
            [
             0.3333333333333333,
             "#9c179e"
            ],
            [
             0.4444444444444444,
             "#bd3786"
            ],
            [
             0.5555555555555556,
             "#d8576b"
            ],
            [
             0.6666666666666666,
             "#ed7953"
            ],
            [
             0.7777777777777778,
             "#fb9f3a"
            ],
            [
             0.8888888888888888,
             "#fdca26"
            ],
            [
             1,
             "#f0f921"
            ]
           ],
           "sequentialminus": [
            [
             0,
             "#0d0887"
            ],
            [
             0.1111111111111111,
             "#46039f"
            ],
            [
             0.2222222222222222,
             "#7201a8"
            ],
            [
             0.3333333333333333,
             "#9c179e"
            ],
            [
             0.4444444444444444,
             "#bd3786"
            ],
            [
             0.5555555555555556,
             "#d8576b"
            ],
            [
             0.6666666666666666,
             "#ed7953"
            ],
            [
             0.7777777777777778,
             "#fb9f3a"
            ],
            [
             0.8888888888888888,
             "#fdca26"
            ],
            [
             1,
             "#f0f921"
            ]
           ]
          },
          "colorway": [
           "#636efa",
           "#EF553B",
           "#00cc96",
           "#ab63fa",
           "#FFA15A",
           "#19d3f3",
           "#FF6692",
           "#B6E880",
           "#FF97FF",
           "#FECB52"
          ],
          "font": {
           "color": "#2a3f5f"
          },
          "geo": {
           "bgcolor": "white",
           "lakecolor": "white",
           "landcolor": "#E5ECF6",
           "showlakes": true,
           "showland": true,
           "subunitcolor": "white"
          },
          "hoverlabel": {
           "align": "left"
          },
          "hovermode": "closest",
          "mapbox": {
           "style": "light"
          },
          "paper_bgcolor": "white",
          "plot_bgcolor": "#E5ECF6",
          "polar": {
           "angularaxis": {
            "gridcolor": "white",
            "linecolor": "white",
            "ticks": ""
           },
           "bgcolor": "#E5ECF6",
           "radialaxis": {
            "gridcolor": "white",
            "linecolor": "white",
            "ticks": ""
           }
          },
          "scene": {
           "xaxis": {
            "backgroundcolor": "#E5ECF6",
            "gridcolor": "white",
            "gridwidth": 2,
            "linecolor": "white",
            "showbackground": true,
            "ticks": "",
            "zerolinecolor": "white"
           },
           "yaxis": {
            "backgroundcolor": "#E5ECF6",
            "gridcolor": "white",
            "gridwidth": 2,
            "linecolor": "white",
            "showbackground": true,
            "ticks": "",
            "zerolinecolor": "white"
           },
           "zaxis": {
            "backgroundcolor": "#E5ECF6",
            "gridcolor": "white",
            "gridwidth": 2,
            "linecolor": "white",
            "showbackground": true,
            "ticks": "",
            "zerolinecolor": "white"
           }
          },
          "shapedefaults": {
           "line": {
            "color": "#2a3f5f"
           }
          },
          "ternary": {
           "aaxis": {
            "gridcolor": "white",
            "linecolor": "white",
            "ticks": ""
           },
           "baxis": {
            "gridcolor": "white",
            "linecolor": "white",
            "ticks": ""
           },
           "bgcolor": "#E5ECF6",
           "caxis": {
            "gridcolor": "white",
            "linecolor": "white",
            "ticks": ""
           }
          },
          "title": {
           "x": 0.05
          },
          "xaxis": {
           "automargin": true,
           "gridcolor": "white",
           "linecolor": "white",
           "ticks": "",
           "title": {
            "standoff": 15
           },
           "zerolinecolor": "white",
           "zerolinewidth": 2
          },
          "yaxis": {
           "automargin": true,
           "gridcolor": "white",
           "linecolor": "white",
           "ticks": "",
           "title": {
            "standoff": 15
           },
           "zerolinecolor": "white",
           "zerolinewidth": 2
          }
         }
        },
        "title": {
         "text": "Electric Consume per Circuit [24 hours]"
        },
        "xaxis": {
         "anchor": "y",
         "domain": [
          0,
          1
         ],
         "title": {
          "text": "Circuit ID"
         }
        },
        "yaxis": {
         "anchor": "x",
         "domain": [
          0,
          1
         ],
         "title": {
          "text": "Mock Electric Consume"
         }
        }
       }
      }
     },
     "metadata": {},
     "output_type": "display_data"
    }
   ],
   "source": [
    "\n",
    "mock_electric_consume_data = {\n",
    "    \"Circuit ID\": [c.id for c in sorted_electric_system_circuit_list],\n",
    "    \"Mock Electric Consume\": [c.mock_electric_consume for c in sorted_electric_system_circuit_list],\n",
    "}\n",
    "\n",
    "mock_electric_consume_df = pd.DataFrame(mock_electric_consume_data)\n",
    "\n",
    "fig = px.bar(\n",
    "    mock_electric_consume_df,\n",
    "    x=\"Circuit ID\",\n",
    "    y=\"Mock Electric Consume\",\n",
    "    title=\"Electric Consume per Circuit [24 hours]\",\n",
    "    height=800,\n",
    "    color=colors\n",
    ")\n",
    "fig.show()"
   ]
  },
  {
   "cell_type": "code",
   "execution_count": 21,
   "metadata": {},
   "outputs": [
    {
     "data": {
      "text/html": [
       "<div>\n",
       "<style scoped>\n",
       "    .dataframe tbody tr th:only-of-type {\n",
       "        vertical-align: middle;\n",
       "    }\n",
       "\n",
       "    .dataframe tbody tr th {\n",
       "        vertical-align: top;\n",
       "    }\n",
       "\n",
       "    .dataframe thead th {\n",
       "        text-align: right;\n",
       "    }\n",
       "</style>\n",
       "<table border=\"1\" class=\"dataframe\">\n",
       "  <thead>\n",
       "    <tr style=\"text-align: right;\">\n",
       "      <th></th>\n",
       "      <th>Max Population of Circuits</th>\n",
       "      <th>Max Population of Blocks</th>\n",
       "    </tr>\n",
       "  </thead>\n",
       "  <tbody>\n",
       "    <tr>\n",
       "      <th>0</th>\n",
       "      <td>19474</td>\n",
       "      <td>4993</td>\n",
       "    </tr>\n",
       "  </tbody>\n",
       "</table>\n",
       "</div>"
      ],
      "text/plain": [
       "   Max Population of Circuits  Max Population of Blocks\n",
       "0                       19474                      4993"
      ]
     },
     "execution_count": 21,
     "metadata": {},
     "output_type": "execute_result"
    }
   ],
   "source": [
    "max_population_of_circuits = -1\n",
    "max_population_of_block = -1\n",
    "\n",
    "for circuit in electric_system_circuits_list:\n",
    "    max_population_of_circuits = max(\n",
    "        circuit.get_all_block_population(), max_population_of_circuits\n",
    "    )\n",
    "    for block in circuit.blocks:\n",
    "        max_population_of_block = max(block.citizens.amount, max_population_of_block)\n",
    "\n",
    "auxiliary_data_max_population_of_circuits = max_population_of_circuits\n",
    "auxiliary_data_max_population_of_block = max_population_of_block\n",
    "\n",
    "\n",
    "def get_circuit_importance(circuit: Circuit) -> float:\n",
    "    return (\n",
    "        circuit.get_all_block_population() / auxiliary_data_max_population_of_circuits\n",
    "    ) * IMPORTANCE_ALPHA + circuit.industrialization * (1 - IMPORTANCE_ALPHA)\n",
    "\n",
    "\n",
    "def get_block_importance(block: Block) -> float:\n",
    "    return (\n",
    "        block.citizens.amount / auxiliary_data_max_population_of_circuits\n",
    "    ) * IMPORTANCE_ALPHA + block.industrialization * (1 - IMPORTANCE_ALPHA)\n",
    "\n",
    "\n",
    "def set_importance(ci: list[Circuit]):\n",
    "    for circuit in ci:\n",
    "        for block in circuit.blocks:\n",
    "            block.importance = get_block_importance(block)\n",
    "        circuit.importance = get_circuit_importance(circuit)\n",
    "\n",
    "set_importance(electric_system_circuits_list)\n",
    "\n",
    "max_population_data = {\n",
    "    \"Max Population of Circuits\": [auxiliary_data_max_population_of_circuits],\n",
    "    \"Max Population of Blocks\": [auxiliary_data_max_population_of_block],\n",
    "}\n",
    "\n",
    "max_population_df = pd.DataFrame(max_population_data)\n",
    "# TODO : update plotly\n",
    "max_population_df"
   ]
  },
  {
   "cell_type": "code",
   "execution_count": 22,
   "metadata": {},
   "outputs": [
    {
     "data": {
      "application/vnd.plotly.v1+json": {
       "config": {
        "plotlyServerURL": "https://plot.ly"
       },
       "data": [
        {
         "alignmentgroup": "True",
         "hovertemplate": "index=%{x}<br>Citizens=%{y}<extra></extra>",
         "legendgroup": "",
         "marker": {
          "color": "#636efa",
          "pattern": {
           "shape": ""
          }
         },
         "name": "",
         "offsetgroup": "",
         "orientation": "v",
         "showlegend": false,
         "textposition": "auto",
         "type": "bar",
         "x": [
          0
         ],
         "xaxis": "x",
         "y": [
          4723
         ],
         "yaxis": "y"
        }
       ],
       "layout": {
        "barmode": "relative",
        "height": 800,
        "legend": {
         "tracegroupgap": 0
        },
        "template": {
         "data": {
          "bar": [
           {
            "error_x": {
             "color": "#2a3f5f"
            },
            "error_y": {
             "color": "#2a3f5f"
            },
            "marker": {
             "line": {
              "color": "#E5ECF6",
              "width": 0.5
             },
             "pattern": {
              "fillmode": "overlay",
              "size": 10,
              "solidity": 0.2
             }
            },
            "type": "bar"
           }
          ],
          "barpolar": [
           {
            "marker": {
             "line": {
              "color": "#E5ECF6",
              "width": 0.5
             },
             "pattern": {
              "fillmode": "overlay",
              "size": 10,
              "solidity": 0.2
             }
            },
            "type": "barpolar"
           }
          ],
          "carpet": [
           {
            "aaxis": {
             "endlinecolor": "#2a3f5f",
             "gridcolor": "white",
             "linecolor": "white",
             "minorgridcolor": "white",
             "startlinecolor": "#2a3f5f"
            },
            "baxis": {
             "endlinecolor": "#2a3f5f",
             "gridcolor": "white",
             "linecolor": "white",
             "minorgridcolor": "white",
             "startlinecolor": "#2a3f5f"
            },
            "type": "carpet"
           }
          ],
          "choropleth": [
           {
            "colorbar": {
             "outlinewidth": 0,
             "ticks": ""
            },
            "type": "choropleth"
           }
          ],
          "contour": [
           {
            "colorbar": {
             "outlinewidth": 0,
             "ticks": ""
            },
            "colorscale": [
             [
              0,
              "#0d0887"
             ],
             [
              0.1111111111111111,
              "#46039f"
             ],
             [
              0.2222222222222222,
              "#7201a8"
             ],
             [
              0.3333333333333333,
              "#9c179e"
             ],
             [
              0.4444444444444444,
              "#bd3786"
             ],
             [
              0.5555555555555556,
              "#d8576b"
             ],
             [
              0.6666666666666666,
              "#ed7953"
             ],
             [
              0.7777777777777778,
              "#fb9f3a"
             ],
             [
              0.8888888888888888,
              "#fdca26"
             ],
             [
              1,
              "#f0f921"
             ]
            ],
            "type": "contour"
           }
          ],
          "contourcarpet": [
           {
            "colorbar": {
             "outlinewidth": 0,
             "ticks": ""
            },
            "type": "contourcarpet"
           }
          ],
          "heatmap": [
           {
            "colorbar": {
             "outlinewidth": 0,
             "ticks": ""
            },
            "colorscale": [
             [
              0,
              "#0d0887"
             ],
             [
              0.1111111111111111,
              "#46039f"
             ],
             [
              0.2222222222222222,
              "#7201a8"
             ],
             [
              0.3333333333333333,
              "#9c179e"
             ],
             [
              0.4444444444444444,
              "#bd3786"
             ],
             [
              0.5555555555555556,
              "#d8576b"
             ],
             [
              0.6666666666666666,
              "#ed7953"
             ],
             [
              0.7777777777777778,
              "#fb9f3a"
             ],
             [
              0.8888888888888888,
              "#fdca26"
             ],
             [
              1,
              "#f0f921"
             ]
            ],
            "type": "heatmap"
           }
          ],
          "heatmapgl": [
           {
            "colorbar": {
             "outlinewidth": 0,
             "ticks": ""
            },
            "colorscale": [
             [
              0,
              "#0d0887"
             ],
             [
              0.1111111111111111,
              "#46039f"
             ],
             [
              0.2222222222222222,
              "#7201a8"
             ],
             [
              0.3333333333333333,
              "#9c179e"
             ],
             [
              0.4444444444444444,
              "#bd3786"
             ],
             [
              0.5555555555555556,
              "#d8576b"
             ],
             [
              0.6666666666666666,
              "#ed7953"
             ],
             [
              0.7777777777777778,
              "#fb9f3a"
             ],
             [
              0.8888888888888888,
              "#fdca26"
             ],
             [
              1,
              "#f0f921"
             ]
            ],
            "type": "heatmapgl"
           }
          ],
          "histogram": [
           {
            "marker": {
             "pattern": {
              "fillmode": "overlay",
              "size": 10,
              "solidity": 0.2
             }
            },
            "type": "histogram"
           }
          ],
          "histogram2d": [
           {
            "colorbar": {
             "outlinewidth": 0,
             "ticks": ""
            },
            "colorscale": [
             [
              0,
              "#0d0887"
             ],
             [
              0.1111111111111111,
              "#46039f"
             ],
             [
              0.2222222222222222,
              "#7201a8"
             ],
             [
              0.3333333333333333,
              "#9c179e"
             ],
             [
              0.4444444444444444,
              "#bd3786"
             ],
             [
              0.5555555555555556,
              "#d8576b"
             ],
             [
              0.6666666666666666,
              "#ed7953"
             ],
             [
              0.7777777777777778,
              "#fb9f3a"
             ],
             [
              0.8888888888888888,
              "#fdca26"
             ],
             [
              1,
              "#f0f921"
             ]
            ],
            "type": "histogram2d"
           }
          ],
          "histogram2dcontour": [
           {
            "colorbar": {
             "outlinewidth": 0,
             "ticks": ""
            },
            "colorscale": [
             [
              0,
              "#0d0887"
             ],
             [
              0.1111111111111111,
              "#46039f"
             ],
             [
              0.2222222222222222,
              "#7201a8"
             ],
             [
              0.3333333333333333,
              "#9c179e"
             ],
             [
              0.4444444444444444,
              "#bd3786"
             ],
             [
              0.5555555555555556,
              "#d8576b"
             ],
             [
              0.6666666666666666,
              "#ed7953"
             ],
             [
              0.7777777777777778,
              "#fb9f3a"
             ],
             [
              0.8888888888888888,
              "#fdca26"
             ],
             [
              1,
              "#f0f921"
             ]
            ],
            "type": "histogram2dcontour"
           }
          ],
          "mesh3d": [
           {
            "colorbar": {
             "outlinewidth": 0,
             "ticks": ""
            },
            "type": "mesh3d"
           }
          ],
          "parcoords": [
           {
            "line": {
             "colorbar": {
              "outlinewidth": 0,
              "ticks": ""
             }
            },
            "type": "parcoords"
           }
          ],
          "pie": [
           {
            "automargin": true,
            "type": "pie"
           }
          ],
          "scatter": [
           {
            "fillpattern": {
             "fillmode": "overlay",
             "size": 10,
             "solidity": 0.2
            },
            "type": "scatter"
           }
          ],
          "scatter3d": [
           {
            "line": {
             "colorbar": {
              "outlinewidth": 0,
              "ticks": ""
             }
            },
            "marker": {
             "colorbar": {
              "outlinewidth": 0,
              "ticks": ""
             }
            },
            "type": "scatter3d"
           }
          ],
          "scattercarpet": [
           {
            "marker": {
             "colorbar": {
              "outlinewidth": 0,
              "ticks": ""
             }
            },
            "type": "scattercarpet"
           }
          ],
          "scattergeo": [
           {
            "marker": {
             "colorbar": {
              "outlinewidth": 0,
              "ticks": ""
             }
            },
            "type": "scattergeo"
           }
          ],
          "scattergl": [
           {
            "marker": {
             "colorbar": {
              "outlinewidth": 0,
              "ticks": ""
             }
            },
            "type": "scattergl"
           }
          ],
          "scattermapbox": [
           {
            "marker": {
             "colorbar": {
              "outlinewidth": 0,
              "ticks": ""
             }
            },
            "type": "scattermapbox"
           }
          ],
          "scatterpolar": [
           {
            "marker": {
             "colorbar": {
              "outlinewidth": 0,
              "ticks": ""
             }
            },
            "type": "scatterpolar"
           }
          ],
          "scatterpolargl": [
           {
            "marker": {
             "colorbar": {
              "outlinewidth": 0,
              "ticks": ""
             }
            },
            "type": "scatterpolargl"
           }
          ],
          "scatterternary": [
           {
            "marker": {
             "colorbar": {
              "outlinewidth": 0,
              "ticks": ""
             }
            },
            "type": "scatterternary"
           }
          ],
          "surface": [
           {
            "colorbar": {
             "outlinewidth": 0,
             "ticks": ""
            },
            "colorscale": [
             [
              0,
              "#0d0887"
             ],
             [
              0.1111111111111111,
              "#46039f"
             ],
             [
              0.2222222222222222,
              "#7201a8"
             ],
             [
              0.3333333333333333,
              "#9c179e"
             ],
             [
              0.4444444444444444,
              "#bd3786"
             ],
             [
              0.5555555555555556,
              "#d8576b"
             ],
             [
              0.6666666666666666,
              "#ed7953"
             ],
             [
              0.7777777777777778,
              "#fb9f3a"
             ],
             [
              0.8888888888888888,
              "#fdca26"
             ],
             [
              1,
              "#f0f921"
             ]
            ],
            "type": "surface"
           }
          ],
          "table": [
           {
            "cells": {
             "fill": {
              "color": "#EBF0F8"
             },
             "line": {
              "color": "white"
             }
            },
            "header": {
             "fill": {
              "color": "#C8D4E3"
             },
             "line": {
              "color": "white"
             }
            },
            "type": "table"
           }
          ]
         },
         "layout": {
          "annotationdefaults": {
           "arrowcolor": "#2a3f5f",
           "arrowhead": 0,
           "arrowwidth": 1
          },
          "autotypenumbers": "strict",
          "coloraxis": {
           "colorbar": {
            "outlinewidth": 0,
            "ticks": ""
           }
          },
          "colorscale": {
           "diverging": [
            [
             0,
             "#8e0152"
            ],
            [
             0.1,
             "#c51b7d"
            ],
            [
             0.2,
             "#de77ae"
            ],
            [
             0.3,
             "#f1b6da"
            ],
            [
             0.4,
             "#fde0ef"
            ],
            [
             0.5,
             "#f7f7f7"
            ],
            [
             0.6,
             "#e6f5d0"
            ],
            [
             0.7,
             "#b8e186"
            ],
            [
             0.8,
             "#7fbc41"
            ],
            [
             0.9,
             "#4d9221"
            ],
            [
             1,
             "#276419"
            ]
           ],
           "sequential": [
            [
             0,
             "#0d0887"
            ],
            [
             0.1111111111111111,
             "#46039f"
            ],
            [
             0.2222222222222222,
             "#7201a8"
            ],
            [
             0.3333333333333333,
             "#9c179e"
            ],
            [
             0.4444444444444444,
             "#bd3786"
            ],
            [
             0.5555555555555556,
             "#d8576b"
            ],
            [
             0.6666666666666666,
             "#ed7953"
            ],
            [
             0.7777777777777778,
             "#fb9f3a"
            ],
            [
             0.8888888888888888,
             "#fdca26"
            ],
            [
             1,
             "#f0f921"
            ]
           ],
           "sequentialminus": [
            [
             0,
             "#0d0887"
            ],
            [
             0.1111111111111111,
             "#46039f"
            ],
            [
             0.2222222222222222,
             "#7201a8"
            ],
            [
             0.3333333333333333,
             "#9c179e"
            ],
            [
             0.4444444444444444,
             "#bd3786"
            ],
            [
             0.5555555555555556,
             "#d8576b"
            ],
            [
             0.6666666666666666,
             "#ed7953"
            ],
            [
             0.7777777777777778,
             "#fb9f3a"
            ],
            [
             0.8888888888888888,
             "#fdca26"
            ],
            [
             1,
             "#f0f921"
            ]
           ]
          },
          "colorway": [
           "#636efa",
           "#EF553B",
           "#00cc96",
           "#ab63fa",
           "#FFA15A",
           "#19d3f3",
           "#FF6692",
           "#B6E880",
           "#FF97FF",
           "#FECB52"
          ],
          "font": {
           "color": "#2a3f5f"
          },
          "geo": {
           "bgcolor": "white",
           "lakecolor": "white",
           "landcolor": "#E5ECF6",
           "showlakes": true,
           "showland": true,
           "subunitcolor": "white"
          },
          "hoverlabel": {
           "align": "left"
          },
          "hovermode": "closest",
          "mapbox": {
           "style": "light"
          },
          "paper_bgcolor": "white",
          "plot_bgcolor": "#E5ECF6",
          "polar": {
           "angularaxis": {
            "gridcolor": "white",
            "linecolor": "white",
            "ticks": ""
           },
           "bgcolor": "#E5ECF6",
           "radialaxis": {
            "gridcolor": "white",
            "linecolor": "white",
            "ticks": ""
           }
          },
          "scene": {
           "xaxis": {
            "backgroundcolor": "#E5ECF6",
            "gridcolor": "white",
            "gridwidth": 2,
            "linecolor": "white",
            "showbackground": true,
            "ticks": "",
            "zerolinecolor": "white"
           },
           "yaxis": {
            "backgroundcolor": "#E5ECF6",
            "gridcolor": "white",
            "gridwidth": 2,
            "linecolor": "white",
            "showbackground": true,
            "ticks": "",
            "zerolinecolor": "white"
           },
           "zaxis": {
            "backgroundcolor": "#E5ECF6",
            "gridcolor": "white",
            "gridwidth": 2,
            "linecolor": "white",
            "showbackground": true,
            "ticks": "",
            "zerolinecolor": "white"
           }
          },
          "shapedefaults": {
           "line": {
            "color": "#2a3f5f"
           }
          },
          "ternary": {
           "aaxis": {
            "gridcolor": "white",
            "linecolor": "white",
            "ticks": ""
           },
           "baxis": {
            "gridcolor": "white",
            "linecolor": "white",
            "ticks": ""
           },
           "bgcolor": "#E5ECF6",
           "caxis": {
            "gridcolor": "white",
            "linecolor": "white",
            "ticks": ""
           }
          },
          "title": {
           "x": 0.05
          },
          "xaxis": {
           "automargin": true,
           "gridcolor": "white",
           "linecolor": "white",
           "ticks": "",
           "title": {
            "standoff": 15
           },
           "zerolinecolor": "white",
           "zerolinewidth": 2
          },
          "yaxis": {
           "automargin": true,
           "gridcolor": "white",
           "linecolor": "white",
           "ticks": "",
           "title": {
            "standoff": 15
           },
           "zerolinecolor": "white",
           "zerolinewidth": 2
          }
         }
        },
        "title": {
         "text": "Block Citizens in Circuit C0"
        },
        "xaxis": {
         "anchor": "y",
         "domain": [
          0,
          1
         ],
         "title": {
          "text": "index"
         }
        },
        "yaxis": {
         "anchor": "x",
         "domain": [
          0,
          1
         ],
         "title": {
          "text": "Citizens"
         }
        }
       }
      }
     },
     "metadata": {},
     "output_type": "display_data"
    },
    {
     "data": {
      "application/vnd.plotly.v1+json": {
       "config": {
        "plotlyServerURL": "https://plot.ly"
       },
       "data": [
        {
         "alignmentgroup": "True",
         "hovertemplate": "index=%{x}<br>Importance=%{y}<extra></extra>",
         "legendgroup": "",
         "marker": {
          "color": "#636efa",
          "pattern": {
           "shape": ""
          }
         },
         "name": "",
         "offsetgroup": "",
         "orientation": "v",
         "showlegend": false,
         "textposition": "auto",
         "type": "bar",
         "x": [
          0
         ],
         "xaxis": "x",
         "y": [
          0.5913133311594948
         ],
         "yaxis": "y"
        }
       ],
       "layout": {
        "barmode": "relative",
        "height": 800,
        "legend": {
         "tracegroupgap": 0
        },
        "template": {
         "data": {
          "bar": [
           {
            "error_x": {
             "color": "#2a3f5f"
            },
            "error_y": {
             "color": "#2a3f5f"
            },
            "marker": {
             "line": {
              "color": "#E5ECF6",
              "width": 0.5
             },
             "pattern": {
              "fillmode": "overlay",
              "size": 10,
              "solidity": 0.2
             }
            },
            "type": "bar"
           }
          ],
          "barpolar": [
           {
            "marker": {
             "line": {
              "color": "#E5ECF6",
              "width": 0.5
             },
             "pattern": {
              "fillmode": "overlay",
              "size": 10,
              "solidity": 0.2
             }
            },
            "type": "barpolar"
           }
          ],
          "carpet": [
           {
            "aaxis": {
             "endlinecolor": "#2a3f5f",
             "gridcolor": "white",
             "linecolor": "white",
             "minorgridcolor": "white",
             "startlinecolor": "#2a3f5f"
            },
            "baxis": {
             "endlinecolor": "#2a3f5f",
             "gridcolor": "white",
             "linecolor": "white",
             "minorgridcolor": "white",
             "startlinecolor": "#2a3f5f"
            },
            "type": "carpet"
           }
          ],
          "choropleth": [
           {
            "colorbar": {
             "outlinewidth": 0,
             "ticks": ""
            },
            "type": "choropleth"
           }
          ],
          "contour": [
           {
            "colorbar": {
             "outlinewidth": 0,
             "ticks": ""
            },
            "colorscale": [
             [
              0,
              "#0d0887"
             ],
             [
              0.1111111111111111,
              "#46039f"
             ],
             [
              0.2222222222222222,
              "#7201a8"
             ],
             [
              0.3333333333333333,
              "#9c179e"
             ],
             [
              0.4444444444444444,
              "#bd3786"
             ],
             [
              0.5555555555555556,
              "#d8576b"
             ],
             [
              0.6666666666666666,
              "#ed7953"
             ],
             [
              0.7777777777777778,
              "#fb9f3a"
             ],
             [
              0.8888888888888888,
              "#fdca26"
             ],
             [
              1,
              "#f0f921"
             ]
            ],
            "type": "contour"
           }
          ],
          "contourcarpet": [
           {
            "colorbar": {
             "outlinewidth": 0,
             "ticks": ""
            },
            "type": "contourcarpet"
           }
          ],
          "heatmap": [
           {
            "colorbar": {
             "outlinewidth": 0,
             "ticks": ""
            },
            "colorscale": [
             [
              0,
              "#0d0887"
             ],
             [
              0.1111111111111111,
              "#46039f"
             ],
             [
              0.2222222222222222,
              "#7201a8"
             ],
             [
              0.3333333333333333,
              "#9c179e"
             ],
             [
              0.4444444444444444,
              "#bd3786"
             ],
             [
              0.5555555555555556,
              "#d8576b"
             ],
             [
              0.6666666666666666,
              "#ed7953"
             ],
             [
              0.7777777777777778,
              "#fb9f3a"
             ],
             [
              0.8888888888888888,
              "#fdca26"
             ],
             [
              1,
              "#f0f921"
             ]
            ],
            "type": "heatmap"
           }
          ],
          "heatmapgl": [
           {
            "colorbar": {
             "outlinewidth": 0,
             "ticks": ""
            },
            "colorscale": [
             [
              0,
              "#0d0887"
             ],
             [
              0.1111111111111111,
              "#46039f"
             ],
             [
              0.2222222222222222,
              "#7201a8"
             ],
             [
              0.3333333333333333,
              "#9c179e"
             ],
             [
              0.4444444444444444,
              "#bd3786"
             ],
             [
              0.5555555555555556,
              "#d8576b"
             ],
             [
              0.6666666666666666,
              "#ed7953"
             ],
             [
              0.7777777777777778,
              "#fb9f3a"
             ],
             [
              0.8888888888888888,
              "#fdca26"
             ],
             [
              1,
              "#f0f921"
             ]
            ],
            "type": "heatmapgl"
           }
          ],
          "histogram": [
           {
            "marker": {
             "pattern": {
              "fillmode": "overlay",
              "size": 10,
              "solidity": 0.2
             }
            },
            "type": "histogram"
           }
          ],
          "histogram2d": [
           {
            "colorbar": {
             "outlinewidth": 0,
             "ticks": ""
            },
            "colorscale": [
             [
              0,
              "#0d0887"
             ],
             [
              0.1111111111111111,
              "#46039f"
             ],
             [
              0.2222222222222222,
              "#7201a8"
             ],
             [
              0.3333333333333333,
              "#9c179e"
             ],
             [
              0.4444444444444444,
              "#bd3786"
             ],
             [
              0.5555555555555556,
              "#d8576b"
             ],
             [
              0.6666666666666666,
              "#ed7953"
             ],
             [
              0.7777777777777778,
              "#fb9f3a"
             ],
             [
              0.8888888888888888,
              "#fdca26"
             ],
             [
              1,
              "#f0f921"
             ]
            ],
            "type": "histogram2d"
           }
          ],
          "histogram2dcontour": [
           {
            "colorbar": {
             "outlinewidth": 0,
             "ticks": ""
            },
            "colorscale": [
             [
              0,
              "#0d0887"
             ],
             [
              0.1111111111111111,
              "#46039f"
             ],
             [
              0.2222222222222222,
              "#7201a8"
             ],
             [
              0.3333333333333333,
              "#9c179e"
             ],
             [
              0.4444444444444444,
              "#bd3786"
             ],
             [
              0.5555555555555556,
              "#d8576b"
             ],
             [
              0.6666666666666666,
              "#ed7953"
             ],
             [
              0.7777777777777778,
              "#fb9f3a"
             ],
             [
              0.8888888888888888,
              "#fdca26"
             ],
             [
              1,
              "#f0f921"
             ]
            ],
            "type": "histogram2dcontour"
           }
          ],
          "mesh3d": [
           {
            "colorbar": {
             "outlinewidth": 0,
             "ticks": ""
            },
            "type": "mesh3d"
           }
          ],
          "parcoords": [
           {
            "line": {
             "colorbar": {
              "outlinewidth": 0,
              "ticks": ""
             }
            },
            "type": "parcoords"
           }
          ],
          "pie": [
           {
            "automargin": true,
            "type": "pie"
           }
          ],
          "scatter": [
           {
            "fillpattern": {
             "fillmode": "overlay",
             "size": 10,
             "solidity": 0.2
            },
            "type": "scatter"
           }
          ],
          "scatter3d": [
           {
            "line": {
             "colorbar": {
              "outlinewidth": 0,
              "ticks": ""
             }
            },
            "marker": {
             "colorbar": {
              "outlinewidth": 0,
              "ticks": ""
             }
            },
            "type": "scatter3d"
           }
          ],
          "scattercarpet": [
           {
            "marker": {
             "colorbar": {
              "outlinewidth": 0,
              "ticks": ""
             }
            },
            "type": "scattercarpet"
           }
          ],
          "scattergeo": [
           {
            "marker": {
             "colorbar": {
              "outlinewidth": 0,
              "ticks": ""
             }
            },
            "type": "scattergeo"
           }
          ],
          "scattergl": [
           {
            "marker": {
             "colorbar": {
              "outlinewidth": 0,
              "ticks": ""
             }
            },
            "type": "scattergl"
           }
          ],
          "scattermapbox": [
           {
            "marker": {
             "colorbar": {
              "outlinewidth": 0,
              "ticks": ""
             }
            },
            "type": "scattermapbox"
           }
          ],
          "scatterpolar": [
           {
            "marker": {
             "colorbar": {
              "outlinewidth": 0,
              "ticks": ""
             }
            },
            "type": "scatterpolar"
           }
          ],
          "scatterpolargl": [
           {
            "marker": {
             "colorbar": {
              "outlinewidth": 0,
              "ticks": ""
             }
            },
            "type": "scatterpolargl"
           }
          ],
          "scatterternary": [
           {
            "marker": {
             "colorbar": {
              "outlinewidth": 0,
              "ticks": ""
             }
            },
            "type": "scatterternary"
           }
          ],
          "surface": [
           {
            "colorbar": {
             "outlinewidth": 0,
             "ticks": ""
            },
            "colorscale": [
             [
              0,
              "#0d0887"
             ],
             [
              0.1111111111111111,
              "#46039f"
             ],
             [
              0.2222222222222222,
              "#7201a8"
             ],
             [
              0.3333333333333333,
              "#9c179e"
             ],
             [
              0.4444444444444444,
              "#bd3786"
             ],
             [
              0.5555555555555556,
              "#d8576b"
             ],
             [
              0.6666666666666666,
              "#ed7953"
             ],
             [
              0.7777777777777778,
              "#fb9f3a"
             ],
             [
              0.8888888888888888,
              "#fdca26"
             ],
             [
              1,
              "#f0f921"
             ]
            ],
            "type": "surface"
           }
          ],
          "table": [
           {
            "cells": {
             "fill": {
              "color": "#EBF0F8"
             },
             "line": {
              "color": "white"
             }
            },
            "header": {
             "fill": {
              "color": "#C8D4E3"
             },
             "line": {
              "color": "white"
             }
            },
            "type": "table"
           }
          ]
         },
         "layout": {
          "annotationdefaults": {
           "arrowcolor": "#2a3f5f",
           "arrowhead": 0,
           "arrowwidth": 1
          },
          "autotypenumbers": "strict",
          "coloraxis": {
           "colorbar": {
            "outlinewidth": 0,
            "ticks": ""
           }
          },
          "colorscale": {
           "diverging": [
            [
             0,
             "#8e0152"
            ],
            [
             0.1,
             "#c51b7d"
            ],
            [
             0.2,
             "#de77ae"
            ],
            [
             0.3,
             "#f1b6da"
            ],
            [
             0.4,
             "#fde0ef"
            ],
            [
             0.5,
             "#f7f7f7"
            ],
            [
             0.6,
             "#e6f5d0"
            ],
            [
             0.7,
             "#b8e186"
            ],
            [
             0.8,
             "#7fbc41"
            ],
            [
             0.9,
             "#4d9221"
            ],
            [
             1,
             "#276419"
            ]
           ],
           "sequential": [
            [
             0,
             "#0d0887"
            ],
            [
             0.1111111111111111,
             "#46039f"
            ],
            [
             0.2222222222222222,
             "#7201a8"
            ],
            [
             0.3333333333333333,
             "#9c179e"
            ],
            [
             0.4444444444444444,
             "#bd3786"
            ],
            [
             0.5555555555555556,
             "#d8576b"
            ],
            [
             0.6666666666666666,
             "#ed7953"
            ],
            [
             0.7777777777777778,
             "#fb9f3a"
            ],
            [
             0.8888888888888888,
             "#fdca26"
            ],
            [
             1,
             "#f0f921"
            ]
           ],
           "sequentialminus": [
            [
             0,
             "#0d0887"
            ],
            [
             0.1111111111111111,
             "#46039f"
            ],
            [
             0.2222222222222222,
             "#7201a8"
            ],
            [
             0.3333333333333333,
             "#9c179e"
            ],
            [
             0.4444444444444444,
             "#bd3786"
            ],
            [
             0.5555555555555556,
             "#d8576b"
            ],
            [
             0.6666666666666666,
             "#ed7953"
            ],
            [
             0.7777777777777778,
             "#fb9f3a"
            ],
            [
             0.8888888888888888,
             "#fdca26"
            ],
            [
             1,
             "#f0f921"
            ]
           ]
          },
          "colorway": [
           "#636efa",
           "#EF553B",
           "#00cc96",
           "#ab63fa",
           "#FFA15A",
           "#19d3f3",
           "#FF6692",
           "#B6E880",
           "#FF97FF",
           "#FECB52"
          ],
          "font": {
           "color": "#2a3f5f"
          },
          "geo": {
           "bgcolor": "white",
           "lakecolor": "white",
           "landcolor": "#E5ECF6",
           "showlakes": true,
           "showland": true,
           "subunitcolor": "white"
          },
          "hoverlabel": {
           "align": "left"
          },
          "hovermode": "closest",
          "mapbox": {
           "style": "light"
          },
          "paper_bgcolor": "white",
          "plot_bgcolor": "#E5ECF6",
          "polar": {
           "angularaxis": {
            "gridcolor": "white",
            "linecolor": "white",
            "ticks": ""
           },
           "bgcolor": "#E5ECF6",
           "radialaxis": {
            "gridcolor": "white",
            "linecolor": "white",
            "ticks": ""
           }
          },
          "scene": {
           "xaxis": {
            "backgroundcolor": "#E5ECF6",
            "gridcolor": "white",
            "gridwidth": 2,
            "linecolor": "white",
            "showbackground": true,
            "ticks": "",
            "zerolinecolor": "white"
           },
           "yaxis": {
            "backgroundcolor": "#E5ECF6",
            "gridcolor": "white",
            "gridwidth": 2,
            "linecolor": "white",
            "showbackground": true,
            "ticks": "",
            "zerolinecolor": "white"
           },
           "zaxis": {
            "backgroundcolor": "#E5ECF6",
            "gridcolor": "white",
            "gridwidth": 2,
            "linecolor": "white",
            "showbackground": true,
            "ticks": "",
            "zerolinecolor": "white"
           }
          },
          "shapedefaults": {
           "line": {
            "color": "#2a3f5f"
           }
          },
          "ternary": {
           "aaxis": {
            "gridcolor": "white",
            "linecolor": "white",
            "ticks": ""
           },
           "baxis": {
            "gridcolor": "white",
            "linecolor": "white",
            "ticks": ""
           },
           "bgcolor": "#E5ECF6",
           "caxis": {
            "gridcolor": "white",
            "linecolor": "white",
            "ticks": ""
           }
          },
          "title": {
           "x": 0.05
          },
          "xaxis": {
           "automargin": true,
           "gridcolor": "white",
           "linecolor": "white",
           "ticks": "",
           "title": {
            "standoff": 15
           },
           "zerolinecolor": "white",
           "zerolinewidth": 2
          },
          "yaxis": {
           "automargin": true,
           "gridcolor": "white",
           "linecolor": "white",
           "ticks": "",
           "title": {
            "standoff": 15
           },
           "zerolinecolor": "white",
           "zerolinewidth": 2
          }
         }
        },
        "title": {
         "text": "Block Importance in Circuit C0"
        },
        "xaxis": {
         "anchor": "y",
         "domain": [
          0,
          1
         ],
         "title": {
          "text": "index"
         }
        },
        "yaxis": {
         "anchor": "x",
         "domain": [
          0,
          1
         ],
         "title": {
          "text": "Importance"
         }
        }
       }
      }
     },
     "metadata": {},
     "output_type": "display_data"
    },
    {
     "data": {
      "application/vnd.plotly.v1+json": {
       "config": {
        "plotlyServerURL": "https://plot.ly"
       },
       "data": [
        {
         "alignmentgroup": "True",
         "hovertemplate": "index=%{x}<br>Demand per Hour=%{y}<extra></extra>",
         "legendgroup": "",
         "marker": {
          "color": "#636efa",
          "pattern": {
           "shape": ""
          }
         },
         "name": "",
         "offsetgroup": "",
         "orientation": "v",
         "showlegend": false,
         "textposition": "auto",
         "type": "bar",
         "x": [
          0
         ],
         "xaxis": "x",
         "y": [
          1535.8848954297587
         ],
         "yaxis": "y"
        }
       ],
       "layout": {
        "barmode": "relative",
        "height": 800,
        "legend": {
         "tracegroupgap": 0
        },
        "template": {
         "data": {
          "bar": [
           {
            "error_x": {
             "color": "#2a3f5f"
            },
            "error_y": {
             "color": "#2a3f5f"
            },
            "marker": {
             "line": {
              "color": "#E5ECF6",
              "width": 0.5
             },
             "pattern": {
              "fillmode": "overlay",
              "size": 10,
              "solidity": 0.2
             }
            },
            "type": "bar"
           }
          ],
          "barpolar": [
           {
            "marker": {
             "line": {
              "color": "#E5ECF6",
              "width": 0.5
             },
             "pattern": {
              "fillmode": "overlay",
              "size": 10,
              "solidity": 0.2
             }
            },
            "type": "barpolar"
           }
          ],
          "carpet": [
           {
            "aaxis": {
             "endlinecolor": "#2a3f5f",
             "gridcolor": "white",
             "linecolor": "white",
             "minorgridcolor": "white",
             "startlinecolor": "#2a3f5f"
            },
            "baxis": {
             "endlinecolor": "#2a3f5f",
             "gridcolor": "white",
             "linecolor": "white",
             "minorgridcolor": "white",
             "startlinecolor": "#2a3f5f"
            },
            "type": "carpet"
           }
          ],
          "choropleth": [
           {
            "colorbar": {
             "outlinewidth": 0,
             "ticks": ""
            },
            "type": "choropleth"
           }
          ],
          "contour": [
           {
            "colorbar": {
             "outlinewidth": 0,
             "ticks": ""
            },
            "colorscale": [
             [
              0,
              "#0d0887"
             ],
             [
              0.1111111111111111,
              "#46039f"
             ],
             [
              0.2222222222222222,
              "#7201a8"
             ],
             [
              0.3333333333333333,
              "#9c179e"
             ],
             [
              0.4444444444444444,
              "#bd3786"
             ],
             [
              0.5555555555555556,
              "#d8576b"
             ],
             [
              0.6666666666666666,
              "#ed7953"
             ],
             [
              0.7777777777777778,
              "#fb9f3a"
             ],
             [
              0.8888888888888888,
              "#fdca26"
             ],
             [
              1,
              "#f0f921"
             ]
            ],
            "type": "contour"
           }
          ],
          "contourcarpet": [
           {
            "colorbar": {
             "outlinewidth": 0,
             "ticks": ""
            },
            "type": "contourcarpet"
           }
          ],
          "heatmap": [
           {
            "colorbar": {
             "outlinewidth": 0,
             "ticks": ""
            },
            "colorscale": [
             [
              0,
              "#0d0887"
             ],
             [
              0.1111111111111111,
              "#46039f"
             ],
             [
              0.2222222222222222,
              "#7201a8"
             ],
             [
              0.3333333333333333,
              "#9c179e"
             ],
             [
              0.4444444444444444,
              "#bd3786"
             ],
             [
              0.5555555555555556,
              "#d8576b"
             ],
             [
              0.6666666666666666,
              "#ed7953"
             ],
             [
              0.7777777777777778,
              "#fb9f3a"
             ],
             [
              0.8888888888888888,
              "#fdca26"
             ],
             [
              1,
              "#f0f921"
             ]
            ],
            "type": "heatmap"
           }
          ],
          "heatmapgl": [
           {
            "colorbar": {
             "outlinewidth": 0,
             "ticks": ""
            },
            "colorscale": [
             [
              0,
              "#0d0887"
             ],
             [
              0.1111111111111111,
              "#46039f"
             ],
             [
              0.2222222222222222,
              "#7201a8"
             ],
             [
              0.3333333333333333,
              "#9c179e"
             ],
             [
              0.4444444444444444,
              "#bd3786"
             ],
             [
              0.5555555555555556,
              "#d8576b"
             ],
             [
              0.6666666666666666,
              "#ed7953"
             ],
             [
              0.7777777777777778,
              "#fb9f3a"
             ],
             [
              0.8888888888888888,
              "#fdca26"
             ],
             [
              1,
              "#f0f921"
             ]
            ],
            "type": "heatmapgl"
           }
          ],
          "histogram": [
           {
            "marker": {
             "pattern": {
              "fillmode": "overlay",
              "size": 10,
              "solidity": 0.2
             }
            },
            "type": "histogram"
           }
          ],
          "histogram2d": [
           {
            "colorbar": {
             "outlinewidth": 0,
             "ticks": ""
            },
            "colorscale": [
             [
              0,
              "#0d0887"
             ],
             [
              0.1111111111111111,
              "#46039f"
             ],
             [
              0.2222222222222222,
              "#7201a8"
             ],
             [
              0.3333333333333333,
              "#9c179e"
             ],
             [
              0.4444444444444444,
              "#bd3786"
             ],
             [
              0.5555555555555556,
              "#d8576b"
             ],
             [
              0.6666666666666666,
              "#ed7953"
             ],
             [
              0.7777777777777778,
              "#fb9f3a"
             ],
             [
              0.8888888888888888,
              "#fdca26"
             ],
             [
              1,
              "#f0f921"
             ]
            ],
            "type": "histogram2d"
           }
          ],
          "histogram2dcontour": [
           {
            "colorbar": {
             "outlinewidth": 0,
             "ticks": ""
            },
            "colorscale": [
             [
              0,
              "#0d0887"
             ],
             [
              0.1111111111111111,
              "#46039f"
             ],
             [
              0.2222222222222222,
              "#7201a8"
             ],
             [
              0.3333333333333333,
              "#9c179e"
             ],
             [
              0.4444444444444444,
              "#bd3786"
             ],
             [
              0.5555555555555556,
              "#d8576b"
             ],
             [
              0.6666666666666666,
              "#ed7953"
             ],
             [
              0.7777777777777778,
              "#fb9f3a"
             ],
             [
              0.8888888888888888,
              "#fdca26"
             ],
             [
              1,
              "#f0f921"
             ]
            ],
            "type": "histogram2dcontour"
           }
          ],
          "mesh3d": [
           {
            "colorbar": {
             "outlinewidth": 0,
             "ticks": ""
            },
            "type": "mesh3d"
           }
          ],
          "parcoords": [
           {
            "line": {
             "colorbar": {
              "outlinewidth": 0,
              "ticks": ""
             }
            },
            "type": "parcoords"
           }
          ],
          "pie": [
           {
            "automargin": true,
            "type": "pie"
           }
          ],
          "scatter": [
           {
            "fillpattern": {
             "fillmode": "overlay",
             "size": 10,
             "solidity": 0.2
            },
            "type": "scatter"
           }
          ],
          "scatter3d": [
           {
            "line": {
             "colorbar": {
              "outlinewidth": 0,
              "ticks": ""
             }
            },
            "marker": {
             "colorbar": {
              "outlinewidth": 0,
              "ticks": ""
             }
            },
            "type": "scatter3d"
           }
          ],
          "scattercarpet": [
           {
            "marker": {
             "colorbar": {
              "outlinewidth": 0,
              "ticks": ""
             }
            },
            "type": "scattercarpet"
           }
          ],
          "scattergeo": [
           {
            "marker": {
             "colorbar": {
              "outlinewidth": 0,
              "ticks": ""
             }
            },
            "type": "scattergeo"
           }
          ],
          "scattergl": [
           {
            "marker": {
             "colorbar": {
              "outlinewidth": 0,
              "ticks": ""
             }
            },
            "type": "scattergl"
           }
          ],
          "scattermapbox": [
           {
            "marker": {
             "colorbar": {
              "outlinewidth": 0,
              "ticks": ""
             }
            },
            "type": "scattermapbox"
           }
          ],
          "scatterpolar": [
           {
            "marker": {
             "colorbar": {
              "outlinewidth": 0,
              "ticks": ""
             }
            },
            "type": "scatterpolar"
           }
          ],
          "scatterpolargl": [
           {
            "marker": {
             "colorbar": {
              "outlinewidth": 0,
              "ticks": ""
             }
            },
            "type": "scatterpolargl"
           }
          ],
          "scatterternary": [
           {
            "marker": {
             "colorbar": {
              "outlinewidth": 0,
              "ticks": ""
             }
            },
            "type": "scatterternary"
           }
          ],
          "surface": [
           {
            "colorbar": {
             "outlinewidth": 0,
             "ticks": ""
            },
            "colorscale": [
             [
              0,
              "#0d0887"
             ],
             [
              0.1111111111111111,
              "#46039f"
             ],
             [
              0.2222222222222222,
              "#7201a8"
             ],
             [
              0.3333333333333333,
              "#9c179e"
             ],
             [
              0.4444444444444444,
              "#bd3786"
             ],
             [
              0.5555555555555556,
              "#d8576b"
             ],
             [
              0.6666666666666666,
              "#ed7953"
             ],
             [
              0.7777777777777778,
              "#fb9f3a"
             ],
             [
              0.8888888888888888,
              "#fdca26"
             ],
             [
              1,
              "#f0f921"
             ]
            ],
            "type": "surface"
           }
          ],
          "table": [
           {
            "cells": {
             "fill": {
              "color": "#EBF0F8"
             },
             "line": {
              "color": "white"
             }
            },
            "header": {
             "fill": {
              "color": "#C8D4E3"
             },
             "line": {
              "color": "white"
             }
            },
            "type": "table"
           }
          ]
         },
         "layout": {
          "annotationdefaults": {
           "arrowcolor": "#2a3f5f",
           "arrowhead": 0,
           "arrowwidth": 1
          },
          "autotypenumbers": "strict",
          "coloraxis": {
           "colorbar": {
            "outlinewidth": 0,
            "ticks": ""
           }
          },
          "colorscale": {
           "diverging": [
            [
             0,
             "#8e0152"
            ],
            [
             0.1,
             "#c51b7d"
            ],
            [
             0.2,
             "#de77ae"
            ],
            [
             0.3,
             "#f1b6da"
            ],
            [
             0.4,
             "#fde0ef"
            ],
            [
             0.5,
             "#f7f7f7"
            ],
            [
             0.6,
             "#e6f5d0"
            ],
            [
             0.7,
             "#b8e186"
            ],
            [
             0.8,
             "#7fbc41"
            ],
            [
             0.9,
             "#4d9221"
            ],
            [
             1,
             "#276419"
            ]
           ],
           "sequential": [
            [
             0,
             "#0d0887"
            ],
            [
             0.1111111111111111,
             "#46039f"
            ],
            [
             0.2222222222222222,
             "#7201a8"
            ],
            [
             0.3333333333333333,
             "#9c179e"
            ],
            [
             0.4444444444444444,
             "#bd3786"
            ],
            [
             0.5555555555555556,
             "#d8576b"
            ],
            [
             0.6666666666666666,
             "#ed7953"
            ],
            [
             0.7777777777777778,
             "#fb9f3a"
            ],
            [
             0.8888888888888888,
             "#fdca26"
            ],
            [
             1,
             "#f0f921"
            ]
           ],
           "sequentialminus": [
            [
             0,
             "#0d0887"
            ],
            [
             0.1111111111111111,
             "#46039f"
            ],
            [
             0.2222222222222222,
             "#7201a8"
            ],
            [
             0.3333333333333333,
             "#9c179e"
            ],
            [
             0.4444444444444444,
             "#bd3786"
            ],
            [
             0.5555555555555556,
             "#d8576b"
            ],
            [
             0.6666666666666666,
             "#ed7953"
            ],
            [
             0.7777777777777778,
             "#fb9f3a"
            ],
            [
             0.8888888888888888,
             "#fdca26"
            ],
            [
             1,
             "#f0f921"
            ]
           ]
          },
          "colorway": [
           "#636efa",
           "#EF553B",
           "#00cc96",
           "#ab63fa",
           "#FFA15A",
           "#19d3f3",
           "#FF6692",
           "#B6E880",
           "#FF97FF",
           "#FECB52"
          ],
          "font": {
           "color": "#2a3f5f"
          },
          "geo": {
           "bgcolor": "white",
           "lakecolor": "white",
           "landcolor": "#E5ECF6",
           "showlakes": true,
           "showland": true,
           "subunitcolor": "white"
          },
          "hoverlabel": {
           "align": "left"
          },
          "hovermode": "closest",
          "mapbox": {
           "style": "light"
          },
          "paper_bgcolor": "white",
          "plot_bgcolor": "#E5ECF6",
          "polar": {
           "angularaxis": {
            "gridcolor": "white",
            "linecolor": "white",
            "ticks": ""
           },
           "bgcolor": "#E5ECF6",
           "radialaxis": {
            "gridcolor": "white",
            "linecolor": "white",
            "ticks": ""
           }
          },
          "scene": {
           "xaxis": {
            "backgroundcolor": "#E5ECF6",
            "gridcolor": "white",
            "gridwidth": 2,
            "linecolor": "white",
            "showbackground": true,
            "ticks": "",
            "zerolinecolor": "white"
           },
           "yaxis": {
            "backgroundcolor": "#E5ECF6",
            "gridcolor": "white",
            "gridwidth": 2,
            "linecolor": "white",
            "showbackground": true,
            "ticks": "",
            "zerolinecolor": "white"
           },
           "zaxis": {
            "backgroundcolor": "#E5ECF6",
            "gridcolor": "white",
            "gridwidth": 2,
            "linecolor": "white",
            "showbackground": true,
            "ticks": "",
            "zerolinecolor": "white"
           }
          },
          "shapedefaults": {
           "line": {
            "color": "#2a3f5f"
           }
          },
          "ternary": {
           "aaxis": {
            "gridcolor": "white",
            "linecolor": "white",
            "ticks": ""
           },
           "baxis": {
            "gridcolor": "white",
            "linecolor": "white",
            "ticks": ""
           },
           "bgcolor": "#E5ECF6",
           "caxis": {
            "gridcolor": "white",
            "linecolor": "white",
            "ticks": ""
           }
          },
          "title": {
           "x": 0.05
          },
          "xaxis": {
           "automargin": true,
           "gridcolor": "white",
           "linecolor": "white",
           "ticks": "",
           "title": {
            "standoff": 15
           },
           "zerolinecolor": "white",
           "zerolinewidth": 2
          },
          "yaxis": {
           "automargin": true,
           "gridcolor": "white",
           "linecolor": "white",
           "ticks": "",
           "title": {
            "standoff": 15
           },
           "zerolinecolor": "white",
           "zerolinewidth": 2
          }
         }
        },
        "title": {
         "text": "Block Demand per Hour in Circuit C0"
        },
        "xaxis": {
         "anchor": "y",
         "domain": [
          0,
          1
         ],
         "title": {
          "text": "index"
         }
        },
        "yaxis": {
         "anchor": "x",
         "domain": [
          0,
          1
         ],
         "title": {
          "text": "Demand per Hour"
         }
        }
       }
      }
     },
     "metadata": {},
     "output_type": "display_data"
    }
   ],
   "source": [
    "# All data of one block of a circuit (importance, citizens, industrialization, demand per hour)\n",
    "\n",
    "circuit_stats = electric_system_circuits_list[0]\n",
    "\n",
    "blocks = circuit_stats.blocks\n",
    "\n",
    "citizens = []\n",
    "importance = []\n",
    "demand_per_hour = []\n",
    "\n",
    "for block in blocks:\n",
    "    citizens.append(block.citizens.amount)\n",
    "    importance.append(block.importance)\n",
    "    demand_per_hour.append(sum(block.predicted_demand_per_hour))\n",
    "\n",
    "block_stats_df = pd.DataFrame(\n",
    "    {\n",
    "        \"Citizens\": citizens,\n",
    "        \"Importance\": importance,\n",
    "        \"Demand per Hour\": demand_per_hour,\n",
    "    }\n",
    ")\n",
    "\n",
    "fig_citizens = px.bar(\n",
    "    block_stats_df,\n",
    "    x=block_stats_df.index,\n",
    "    y=\"Citizens\",\n",
    "    title=f\"Block Citizens in Circuit {circuit_stats.id}\",\n",
    "    height=800,\n",
    ")\n",
    "\n",
    "fig_importance = px.bar(\n",
    "    block_stats_df,\n",
    "    x=block_stats_df.index,\n",
    "    y=\"Importance\",\n",
    "    title=f\"Block Importance in Circuit {circuit_stats.id}\",\n",
    "    height=800,\n",
    ")\n",
    "\n",
    "fig_demand_per_hour = px.bar(\n",
    "    block_stats_df,\n",
    "    x=block_stats_df.index,\n",
    "    y=\"Demand per Hour\",\n",
    "    title=f\"Block Demand per Hour in Circuit {circuit_stats.id}\",\n",
    "    height=800,\n",
    ")\n",
    "\n",
    "\n",
    "fig_citizens.show()\n",
    "fig_importance.show()\n",
    "fig_demand_per_hour.show()"
   ]
  },
  {
   "cell_type": "code",
   "execution_count": 23,
   "metadata": {},
   "outputs": [
    {
     "data": {
      "application/vnd.plotly.v1+json": {
       "config": {
        "plotlyServerURL": "https://plot.ly"
       },
       "data": [
        {
         "alignmentgroup": "True",
         "hovertemplate": "Thermoelectric ID=Th0<br>Circuit ID=%{x}<br>Citizens=%{y}<extra></extra>",
         "legendgroup": "Th0",
         "marker": {
          "color": "#636EFA",
          "pattern": {
           "shape": ""
          }
         },
         "name": "Th0",
         "offsetgroup": "Th0",
         "orientation": "v",
         "showlegend": true,
         "textposition": "auto",
         "type": "bar",
         "x": [
          "C32",
          "C46",
          "C49"
         ],
         "xaxis": "x",
         "y": [
          4723,
          18740,
          13213
         ],
         "yaxis": "y"
        },
        {
         "alignmentgroup": "True",
         "hovertemplate": "Thermoelectric ID=Th1<br>Circuit ID=%{x}<br>Citizens=%{y}<extra></extra>",
         "legendgroup": "Th1",
         "marker": {
          "color": "#EF553B",
          "pattern": {
           "shape": ""
          }
         },
         "name": "Th1",
         "offsetgroup": "Th1",
         "orientation": "v",
         "showlegend": true,
         "textposition": "auto",
         "type": "bar",
         "x": [
          "C3",
          "C34",
          "C39",
          "C40"
         ],
         "xaxis": "x",
         "y": [
          2182,
          4473,
          3618,
          9294
         ],
         "yaxis": "y"
        },
        {
         "alignmentgroup": "True",
         "hovertemplate": "Thermoelectric ID=Th2<br>Circuit ID=%{x}<br>Citizens=%{y}<extra></extra>",
         "legendgroup": "Th2",
         "marker": {
          "color": "#00CC96",
          "pattern": {
           "shape": ""
          }
         },
         "name": "Th2",
         "offsetgroup": "Th2",
         "orientation": "v",
         "showlegend": true,
         "textposition": "auto",
         "type": "bar",
         "x": [
          "C2",
          "C7",
          "C9",
          "C16",
          "C18",
          "C35"
         ],
         "xaxis": "x",
         "y": [
          1929,
          4515,
          19474,
          10530,
          4532,
          2141
         ],
         "yaxis": "y"
        },
        {
         "alignmentgroup": "True",
         "hovertemplate": "Thermoelectric ID=Th3<br>Circuit ID=%{x}<br>Citizens=%{y}<extra></extra>",
         "legendgroup": "Th3",
         "marker": {
          "color": "#AB63FA",
          "pattern": {
           "shape": ""
          }
         },
         "name": "Th3",
         "offsetgroup": "Th3",
         "orientation": "v",
         "showlegend": true,
         "textposition": "auto",
         "type": "bar",
         "x": [
          "C1",
          "C10",
          "C19",
          "C22",
          "C25",
          "C27",
          "C29",
          "C30",
          "C31",
          "C37",
          "C44",
          "C47"
         ],
         "xaxis": "x",
         "y": [
          3553,
          5322,
          4740,
          14747,
          14534,
          9420,
          3773,
          3792,
          4351,
          4560,
          10869,
          3004
         ],
         "yaxis": "y"
        },
        {
         "alignmentgroup": "True",
         "hovertemplate": "Thermoelectric ID=Th4<br>Circuit ID=%{x}<br>Citizens=%{y}<extra></extra>",
         "legendgroup": "Th4",
         "marker": {
          "color": "#FFA15A",
          "pattern": {
           "shape": ""
          }
         },
         "name": "Th4",
         "offsetgroup": "Th4",
         "orientation": "v",
         "showlegend": true,
         "textposition": "auto",
         "type": "bar",
         "x": [
          "C21",
          "C41",
          "C48"
         ],
         "xaxis": "x",
         "y": [
          4405,
          3200,
          3980
         ],
         "yaxis": "y"
        },
        {
         "alignmentgroup": "True",
         "hovertemplate": "Thermoelectric ID=Th5<br>Circuit ID=%{x}<br>Citizens=%{y}<extra></extra>",
         "legendgroup": "Th5",
         "marker": {
          "color": "#19D3F3",
          "pattern": {
           "shape": ""
          }
         },
         "name": "Th5",
         "offsetgroup": "Th5",
         "orientation": "v",
         "showlegend": true,
         "textposition": "auto",
         "type": "bar",
         "x": [
          "C4",
          "C11",
          "C12",
          "C33"
         ],
         "xaxis": "x",
         "y": [
          2156,
          13181,
          18914,
          4835
         ],
         "yaxis": "y"
        },
        {
         "alignmentgroup": "True",
         "hovertemplate": "Thermoelectric ID=Th6<br>Circuit ID=%{x}<br>Citizens=%{y}<extra></extra>",
         "legendgroup": "Th6",
         "marker": {
          "color": "#FF6692",
          "pattern": {
           "shape": ""
          }
         },
         "name": "Th6",
         "offsetgroup": "Th6",
         "orientation": "v",
         "showlegend": true,
         "textposition": "auto",
         "type": "bar",
         "x": [
          "C13",
          "C15",
          "C17",
          "C20",
          "C23",
          "C24",
          "C36",
          "C45"
         ],
         "xaxis": "x",
         "y": [
          4276,
          2535,
          7823,
          3199,
          7699,
          2476,
          5604,
          13074
         ],
         "yaxis": "y"
        },
        {
         "alignmentgroup": "True",
         "hovertemplate": "Thermoelectric ID=Th7<br>Circuit ID=%{x}<br>Citizens=%{y}<extra></extra>",
         "legendgroup": "Th7",
         "marker": {
          "color": "#B6E880",
          "pattern": {
           "shape": ""
          }
         },
         "name": "Th7",
         "offsetgroup": "Th7",
         "orientation": "v",
         "showlegend": true,
         "textposition": "auto",
         "type": "bar",
         "x": [
          "C0",
          "C5",
          "C6",
          "C8",
          "C14",
          "C26",
          "C28",
          "C38",
          "C42",
          "C43"
         ],
         "xaxis": "x",
         "y": [
          9306,
          13806,
          14811,
          723,
          4566,
          9464,
          9236,
          5731,
          9937,
          4698
         ],
         "yaxis": "y"
        }
       ],
       "layout": {
        "barmode": "relative",
        "height": 800,
        "legend": {
         "title": {
          "text": "Thermoelectric ID"
         },
         "tracegroupgap": 0
        },
        "template": {
         "data": {
          "bar": [
           {
            "error_x": {
             "color": "#2a3f5f"
            },
            "error_y": {
             "color": "#2a3f5f"
            },
            "marker": {
             "line": {
              "color": "#E5ECF6",
              "width": 0.5
             },
             "pattern": {
              "fillmode": "overlay",
              "size": 10,
              "solidity": 0.2
             }
            },
            "type": "bar"
           }
          ],
          "barpolar": [
           {
            "marker": {
             "line": {
              "color": "#E5ECF6",
              "width": 0.5
             },
             "pattern": {
              "fillmode": "overlay",
              "size": 10,
              "solidity": 0.2
             }
            },
            "type": "barpolar"
           }
          ],
          "carpet": [
           {
            "aaxis": {
             "endlinecolor": "#2a3f5f",
             "gridcolor": "white",
             "linecolor": "white",
             "minorgridcolor": "white",
             "startlinecolor": "#2a3f5f"
            },
            "baxis": {
             "endlinecolor": "#2a3f5f",
             "gridcolor": "white",
             "linecolor": "white",
             "minorgridcolor": "white",
             "startlinecolor": "#2a3f5f"
            },
            "type": "carpet"
           }
          ],
          "choropleth": [
           {
            "colorbar": {
             "outlinewidth": 0,
             "ticks": ""
            },
            "type": "choropleth"
           }
          ],
          "contour": [
           {
            "colorbar": {
             "outlinewidth": 0,
             "ticks": ""
            },
            "colorscale": [
             [
              0,
              "#0d0887"
             ],
             [
              0.1111111111111111,
              "#46039f"
             ],
             [
              0.2222222222222222,
              "#7201a8"
             ],
             [
              0.3333333333333333,
              "#9c179e"
             ],
             [
              0.4444444444444444,
              "#bd3786"
             ],
             [
              0.5555555555555556,
              "#d8576b"
             ],
             [
              0.6666666666666666,
              "#ed7953"
             ],
             [
              0.7777777777777778,
              "#fb9f3a"
             ],
             [
              0.8888888888888888,
              "#fdca26"
             ],
             [
              1,
              "#f0f921"
             ]
            ],
            "type": "contour"
           }
          ],
          "contourcarpet": [
           {
            "colorbar": {
             "outlinewidth": 0,
             "ticks": ""
            },
            "type": "contourcarpet"
           }
          ],
          "heatmap": [
           {
            "colorbar": {
             "outlinewidth": 0,
             "ticks": ""
            },
            "colorscale": [
             [
              0,
              "#0d0887"
             ],
             [
              0.1111111111111111,
              "#46039f"
             ],
             [
              0.2222222222222222,
              "#7201a8"
             ],
             [
              0.3333333333333333,
              "#9c179e"
             ],
             [
              0.4444444444444444,
              "#bd3786"
             ],
             [
              0.5555555555555556,
              "#d8576b"
             ],
             [
              0.6666666666666666,
              "#ed7953"
             ],
             [
              0.7777777777777778,
              "#fb9f3a"
             ],
             [
              0.8888888888888888,
              "#fdca26"
             ],
             [
              1,
              "#f0f921"
             ]
            ],
            "type": "heatmap"
           }
          ],
          "heatmapgl": [
           {
            "colorbar": {
             "outlinewidth": 0,
             "ticks": ""
            },
            "colorscale": [
             [
              0,
              "#0d0887"
             ],
             [
              0.1111111111111111,
              "#46039f"
             ],
             [
              0.2222222222222222,
              "#7201a8"
             ],
             [
              0.3333333333333333,
              "#9c179e"
             ],
             [
              0.4444444444444444,
              "#bd3786"
             ],
             [
              0.5555555555555556,
              "#d8576b"
             ],
             [
              0.6666666666666666,
              "#ed7953"
             ],
             [
              0.7777777777777778,
              "#fb9f3a"
             ],
             [
              0.8888888888888888,
              "#fdca26"
             ],
             [
              1,
              "#f0f921"
             ]
            ],
            "type": "heatmapgl"
           }
          ],
          "histogram": [
           {
            "marker": {
             "pattern": {
              "fillmode": "overlay",
              "size": 10,
              "solidity": 0.2
             }
            },
            "type": "histogram"
           }
          ],
          "histogram2d": [
           {
            "colorbar": {
             "outlinewidth": 0,
             "ticks": ""
            },
            "colorscale": [
             [
              0,
              "#0d0887"
             ],
             [
              0.1111111111111111,
              "#46039f"
             ],
             [
              0.2222222222222222,
              "#7201a8"
             ],
             [
              0.3333333333333333,
              "#9c179e"
             ],
             [
              0.4444444444444444,
              "#bd3786"
             ],
             [
              0.5555555555555556,
              "#d8576b"
             ],
             [
              0.6666666666666666,
              "#ed7953"
             ],
             [
              0.7777777777777778,
              "#fb9f3a"
             ],
             [
              0.8888888888888888,
              "#fdca26"
             ],
             [
              1,
              "#f0f921"
             ]
            ],
            "type": "histogram2d"
           }
          ],
          "histogram2dcontour": [
           {
            "colorbar": {
             "outlinewidth": 0,
             "ticks": ""
            },
            "colorscale": [
             [
              0,
              "#0d0887"
             ],
             [
              0.1111111111111111,
              "#46039f"
             ],
             [
              0.2222222222222222,
              "#7201a8"
             ],
             [
              0.3333333333333333,
              "#9c179e"
             ],
             [
              0.4444444444444444,
              "#bd3786"
             ],
             [
              0.5555555555555556,
              "#d8576b"
             ],
             [
              0.6666666666666666,
              "#ed7953"
             ],
             [
              0.7777777777777778,
              "#fb9f3a"
             ],
             [
              0.8888888888888888,
              "#fdca26"
             ],
             [
              1,
              "#f0f921"
             ]
            ],
            "type": "histogram2dcontour"
           }
          ],
          "mesh3d": [
           {
            "colorbar": {
             "outlinewidth": 0,
             "ticks": ""
            },
            "type": "mesh3d"
           }
          ],
          "parcoords": [
           {
            "line": {
             "colorbar": {
              "outlinewidth": 0,
              "ticks": ""
             }
            },
            "type": "parcoords"
           }
          ],
          "pie": [
           {
            "automargin": true,
            "type": "pie"
           }
          ],
          "scatter": [
           {
            "fillpattern": {
             "fillmode": "overlay",
             "size": 10,
             "solidity": 0.2
            },
            "type": "scatter"
           }
          ],
          "scatter3d": [
           {
            "line": {
             "colorbar": {
              "outlinewidth": 0,
              "ticks": ""
             }
            },
            "marker": {
             "colorbar": {
              "outlinewidth": 0,
              "ticks": ""
             }
            },
            "type": "scatter3d"
           }
          ],
          "scattercarpet": [
           {
            "marker": {
             "colorbar": {
              "outlinewidth": 0,
              "ticks": ""
             }
            },
            "type": "scattercarpet"
           }
          ],
          "scattergeo": [
           {
            "marker": {
             "colorbar": {
              "outlinewidth": 0,
              "ticks": ""
             }
            },
            "type": "scattergeo"
           }
          ],
          "scattergl": [
           {
            "marker": {
             "colorbar": {
              "outlinewidth": 0,
              "ticks": ""
             }
            },
            "type": "scattergl"
           }
          ],
          "scattermapbox": [
           {
            "marker": {
             "colorbar": {
              "outlinewidth": 0,
              "ticks": ""
             }
            },
            "type": "scattermapbox"
           }
          ],
          "scatterpolar": [
           {
            "marker": {
             "colorbar": {
              "outlinewidth": 0,
              "ticks": ""
             }
            },
            "type": "scatterpolar"
           }
          ],
          "scatterpolargl": [
           {
            "marker": {
             "colorbar": {
              "outlinewidth": 0,
              "ticks": ""
             }
            },
            "type": "scatterpolargl"
           }
          ],
          "scatterternary": [
           {
            "marker": {
             "colorbar": {
              "outlinewidth": 0,
              "ticks": ""
             }
            },
            "type": "scatterternary"
           }
          ],
          "surface": [
           {
            "colorbar": {
             "outlinewidth": 0,
             "ticks": ""
            },
            "colorscale": [
             [
              0,
              "#0d0887"
             ],
             [
              0.1111111111111111,
              "#46039f"
             ],
             [
              0.2222222222222222,
              "#7201a8"
             ],
             [
              0.3333333333333333,
              "#9c179e"
             ],
             [
              0.4444444444444444,
              "#bd3786"
             ],
             [
              0.5555555555555556,
              "#d8576b"
             ],
             [
              0.6666666666666666,
              "#ed7953"
             ],
             [
              0.7777777777777778,
              "#fb9f3a"
             ],
             [
              0.8888888888888888,
              "#fdca26"
             ],
             [
              1,
              "#f0f921"
             ]
            ],
            "type": "surface"
           }
          ],
          "table": [
           {
            "cells": {
             "fill": {
              "color": "#EBF0F8"
             },
             "line": {
              "color": "white"
             }
            },
            "header": {
             "fill": {
              "color": "#C8D4E3"
             },
             "line": {
              "color": "white"
             }
            },
            "type": "table"
           }
          ]
         },
         "layout": {
          "annotationdefaults": {
           "arrowcolor": "#2a3f5f",
           "arrowhead": 0,
           "arrowwidth": 1
          },
          "autotypenumbers": "strict",
          "coloraxis": {
           "colorbar": {
            "outlinewidth": 0,
            "ticks": ""
           }
          },
          "colorscale": {
           "diverging": [
            [
             0,
             "#8e0152"
            ],
            [
             0.1,
             "#c51b7d"
            ],
            [
             0.2,
             "#de77ae"
            ],
            [
             0.3,
             "#f1b6da"
            ],
            [
             0.4,
             "#fde0ef"
            ],
            [
             0.5,
             "#f7f7f7"
            ],
            [
             0.6,
             "#e6f5d0"
            ],
            [
             0.7,
             "#b8e186"
            ],
            [
             0.8,
             "#7fbc41"
            ],
            [
             0.9,
             "#4d9221"
            ],
            [
             1,
             "#276419"
            ]
           ],
           "sequential": [
            [
             0,
             "#0d0887"
            ],
            [
             0.1111111111111111,
             "#46039f"
            ],
            [
             0.2222222222222222,
             "#7201a8"
            ],
            [
             0.3333333333333333,
             "#9c179e"
            ],
            [
             0.4444444444444444,
             "#bd3786"
            ],
            [
             0.5555555555555556,
             "#d8576b"
            ],
            [
             0.6666666666666666,
             "#ed7953"
            ],
            [
             0.7777777777777778,
             "#fb9f3a"
            ],
            [
             0.8888888888888888,
             "#fdca26"
            ],
            [
             1,
             "#f0f921"
            ]
           ],
           "sequentialminus": [
            [
             0,
             "#0d0887"
            ],
            [
             0.1111111111111111,
             "#46039f"
            ],
            [
             0.2222222222222222,
             "#7201a8"
            ],
            [
             0.3333333333333333,
             "#9c179e"
            ],
            [
             0.4444444444444444,
             "#bd3786"
            ],
            [
             0.5555555555555556,
             "#d8576b"
            ],
            [
             0.6666666666666666,
             "#ed7953"
            ],
            [
             0.7777777777777778,
             "#fb9f3a"
            ],
            [
             0.8888888888888888,
             "#fdca26"
            ],
            [
             1,
             "#f0f921"
            ]
           ]
          },
          "colorway": [
           "#636efa",
           "#EF553B",
           "#00cc96",
           "#ab63fa",
           "#FFA15A",
           "#19d3f3",
           "#FF6692",
           "#B6E880",
           "#FF97FF",
           "#FECB52"
          ],
          "font": {
           "color": "#2a3f5f"
          },
          "geo": {
           "bgcolor": "white",
           "lakecolor": "white",
           "landcolor": "#E5ECF6",
           "showlakes": true,
           "showland": true,
           "subunitcolor": "white"
          },
          "hoverlabel": {
           "align": "left"
          },
          "hovermode": "closest",
          "mapbox": {
           "style": "light"
          },
          "paper_bgcolor": "white",
          "plot_bgcolor": "#E5ECF6",
          "polar": {
           "angularaxis": {
            "gridcolor": "white",
            "linecolor": "white",
            "ticks": ""
           },
           "bgcolor": "#E5ECF6",
           "radialaxis": {
            "gridcolor": "white",
            "linecolor": "white",
            "ticks": ""
           }
          },
          "scene": {
           "xaxis": {
            "backgroundcolor": "#E5ECF6",
            "gridcolor": "white",
            "gridwidth": 2,
            "linecolor": "white",
            "showbackground": true,
            "ticks": "",
            "zerolinecolor": "white"
           },
           "yaxis": {
            "backgroundcolor": "#E5ECF6",
            "gridcolor": "white",
            "gridwidth": 2,
            "linecolor": "white",
            "showbackground": true,
            "ticks": "",
            "zerolinecolor": "white"
           },
           "zaxis": {
            "backgroundcolor": "#E5ECF6",
            "gridcolor": "white",
            "gridwidth": 2,
            "linecolor": "white",
            "showbackground": true,
            "ticks": "",
            "zerolinecolor": "white"
           }
          },
          "shapedefaults": {
           "line": {
            "color": "#2a3f5f"
           }
          },
          "ternary": {
           "aaxis": {
            "gridcolor": "white",
            "linecolor": "white",
            "ticks": ""
           },
           "baxis": {
            "gridcolor": "white",
            "linecolor": "white",
            "ticks": ""
           },
           "bgcolor": "#E5ECF6",
           "caxis": {
            "gridcolor": "white",
            "linecolor": "white",
            "ticks": ""
           }
          },
          "title": {
           "x": 0.05
          },
          "xaxis": {
           "automargin": true,
           "gridcolor": "white",
           "linecolor": "white",
           "ticks": "",
           "title": {
            "standoff": 15
           },
           "zerolinecolor": "white",
           "zerolinewidth": 2
          },
          "yaxis": {
           "automargin": true,
           "gridcolor": "white",
           "linecolor": "white",
           "ticks": "",
           "title": {
            "standoff": 15
           },
           "zerolinecolor": "white",
           "zerolinewidth": 2
          }
         }
        },
        "title": {
         "text": "Total Citizens per Circuit"
        },
        "xaxis": {
         "anchor": "y",
         "domain": [
          0,
          1
         ],
         "title": {
          "text": "Circuit ID"
         }
        },
        "yaxis": {
         "anchor": "x",
         "domain": [
          0,
          1
         ],
         "title": {
          "text": "Citizens"
         }
        }
       }
      }
     },
     "metadata": {},
     "output_type": "display_data"
    },
    {
     "data": {
      "application/vnd.plotly.v1+json": {
       "config": {
        "plotlyServerURL": "https://plot.ly"
       },
       "data": [
        {
         "alignmentgroup": "True",
         "hovertemplate": "Thermoelectric ID=Th0<br>Circuit ID=%{x}<br>Importance=%{y}<extra></extra>",
         "legendgroup": "Th0",
         "marker": {
          "color": "#636EFA",
          "pattern": {
           "shape": ""
          }
         },
         "name": "Th0",
         "offsetgroup": "Th0",
         "orientation": "v",
         "showlegend": true,
         "textposition": "auto",
         "type": "bar",
         "x": [
          "C32",
          "C46",
          "C49"
         ],
         "xaxis": "x",
         "y": [
          0.5201552351340248,
          0.7406313722399097,
          0.6533982609119854
         ],
         "yaxis": "y"
        },
        {
         "alignmentgroup": "True",
         "hovertemplate": "Thermoelectric ID=Th1<br>Circuit ID=%{x}<br>Importance=%{y}<extra></extra>",
         "legendgroup": "Th1",
         "marker": {
          "color": "#EF553B",
          "pattern": {
           "shape": ""
          }
         },
         "name": "Th1",
         "offsetgroup": "Th1",
         "orientation": "v",
         "showlegend": true,
         "textposition": "auto",
         "type": "bar",
         "x": [
          "C3",
          "C34",
          "C39",
          "C40"
         ],
         "xaxis": "x",
         "y": [
          0.6050336712026293,
          0.3380765418506727,
          0.4390155166375681,
          0.42914946893293626
         ],
         "yaxis": "y"
        },
        {
         "alignmentgroup": "True",
         "hovertemplate": "Thermoelectric ID=Th2<br>Circuit ID=%{x}<br>Importance=%{y}<extra></extra>",
         "legendgroup": "Th2",
         "marker": {
          "color": "#00CC96",
          "pattern": {
           "shape": ""
          }
         },
         "name": "Th2",
         "offsetgroup": "Th2",
         "orientation": "v",
         "showlegend": true,
         "textposition": "auto",
         "type": "bar",
         "x": [
          "C2",
          "C7",
          "C9",
          "C16",
          "C18",
          "C35"
         ],
         "xaxis": "x",
         "y": [
          0.6293839872137208,
          0.47503930029783303,
          0.6871725,
          0.5963062776009038,
          0.4939063692615796,
          0.24919026887131562
         ],
         "yaxis": "y"
        },
        {
         "alignmentgroup": "True",
         "hovertemplate": "Thermoelectric ID=Th3<br>Circuit ID=%{x}<br>Importance=%{y}<extra></extra>",
         "legendgroup": "Th3",
         "marker": {
          "color": "#AB63FA",
          "pattern": {
           "shape": ""
          }
         },
         "name": "Th3",
         "offsetgroup": "Th3",
         "orientation": "v",
         "showlegend": true,
         "textposition": "auto",
         "type": "bar",
         "x": [
          "C1",
          "C10",
          "C19",
          "C22",
          "C25",
          "C27",
          "C29",
          "C30",
          "C31",
          "C37",
          "C44",
          "C47"
         ],
         "xaxis": "x",
         "y": [
          0.48536645753312113,
          0.3275471882510014,
          0.38535516175413376,
          0.40048351314573283,
          0.08467647761117388,
          0.2642032834035124,
          0.8164653572969088,
          0.8015387264557872,
          0.4683352858683373,
          0.4855541773133409,
          0.08777135000513506,
          0.36042792353907777
         ],
         "yaxis": "y"
        },
        {
         "alignmentgroup": "True",
         "hovertemplate": "Thermoelectric ID=Th4<br>Circuit ID=%{x}<br>Importance=%{y}<extra></extra>",
         "legendgroup": "Th4",
         "marker": {
          "color": "#FFA15A",
          "pattern": {
           "shape": ""
          }
         },
         "name": "Th4",
         "offsetgroup": "Th4",
         "orientation": "v",
         "showlegend": true,
         "textposition": "auto",
         "type": "bar",
         "x": [
          "C21",
          "C41",
          "C48"
         ],
         "xaxis": "x",
         "y": [
          0.08363844587655335,
          0.39052111348464613,
          0.31614806198007606
         ],
         "yaxis": "y"
        },
        {
         "alignmentgroup": "True",
         "hovertemplate": "Thermoelectric ID=Th5<br>Circuit ID=%{x}<br>Importance=%{y}<extra></extra>",
         "legendgroup": "Th5",
         "marker": {
          "color": "#19D3F3",
          "pattern": {
           "shape": ""
          }
         },
         "name": "Th5",
         "offsetgroup": "Th5",
         "orientation": "v",
         "showlegend": true,
         "textposition": "auto",
         "type": "bar",
         "x": [
          "C4",
          "C11",
          "C12",
          "C33"
         ],
         "xaxis": "x",
         "y": [
          0.08598362868439971,
          0.3999452744685222,
          0.4791145359967136,
          0.2989918230974633
         ],
         "yaxis": "y"
        },
        {
         "alignmentgroup": "True",
         "hovertemplate": "Thermoelectric ID=Th6<br>Circuit ID=%{x}<br>Importance=%{y}<extra></extra>",
         "legendgroup": "Th6",
         "marker": {
          "color": "#FF6692",
          "pattern": {
           "shape": ""
          }
         },
         "name": "Th6",
         "offsetgroup": "Th6",
         "orientation": "v",
         "showlegend": true,
         "textposition": "auto",
         "type": "bar",
         "x": [
          "C13",
          "C15",
          "C17",
          "C20",
          "C23",
          "C24",
          "C36",
          "C45"
         ],
         "xaxis": "x",
         "y": [
          0.6313881435760502,
          0.4665091189278012,
          0.7799083190921229,
          0.32315489514224094,
          0.2714982208072302,
          0.30800732094074157,
          0.5233894134230256,
          0.18192467289719624
         ],
         "yaxis": "y"
        },
        {
         "alignmentgroup": "True",
         "hovertemplate": "Thermoelectric ID=Th7<br>Circuit ID=%{x}<br>Importance=%{y}<extra></extra>",
         "legendgroup": "Th7",
         "marker": {
          "color": "#B6E880",
          "pattern": {
           "shape": ""
          }
         },
         "name": "Th7",
         "offsetgroup": "Th7",
         "orientation": "v",
         "showlegend": true,
         "textposition": "auto",
         "type": "bar",
         "x": [
          "C0",
          "C5",
          "C6",
          "C8",
          "C14",
          "C26",
          "C28",
          "C38",
          "C42",
          "C43"
         ],
         "xaxis": "x",
         "y": [
          0.5913133311594948,
          0.31981012621957483,
          0.6791807952141318,
          0.5247494867002157,
          0.5402622942898223,
          0.562036991681216,
          0.5419683781452194,
          0.5456831266817295,
          0.8477985374345283,
          0.32672559155797476
         ],
         "yaxis": "y"
        }
       ],
       "layout": {
        "barmode": "relative",
        "height": 800,
        "legend": {
         "title": {
          "text": "Thermoelectric ID"
         },
         "tracegroupgap": 0
        },
        "template": {
         "data": {
          "bar": [
           {
            "error_x": {
             "color": "#2a3f5f"
            },
            "error_y": {
             "color": "#2a3f5f"
            },
            "marker": {
             "line": {
              "color": "#E5ECF6",
              "width": 0.5
             },
             "pattern": {
              "fillmode": "overlay",
              "size": 10,
              "solidity": 0.2
             }
            },
            "type": "bar"
           }
          ],
          "barpolar": [
           {
            "marker": {
             "line": {
              "color": "#E5ECF6",
              "width": 0.5
             },
             "pattern": {
              "fillmode": "overlay",
              "size": 10,
              "solidity": 0.2
             }
            },
            "type": "barpolar"
           }
          ],
          "carpet": [
           {
            "aaxis": {
             "endlinecolor": "#2a3f5f",
             "gridcolor": "white",
             "linecolor": "white",
             "minorgridcolor": "white",
             "startlinecolor": "#2a3f5f"
            },
            "baxis": {
             "endlinecolor": "#2a3f5f",
             "gridcolor": "white",
             "linecolor": "white",
             "minorgridcolor": "white",
             "startlinecolor": "#2a3f5f"
            },
            "type": "carpet"
           }
          ],
          "choropleth": [
           {
            "colorbar": {
             "outlinewidth": 0,
             "ticks": ""
            },
            "type": "choropleth"
           }
          ],
          "contour": [
           {
            "colorbar": {
             "outlinewidth": 0,
             "ticks": ""
            },
            "colorscale": [
             [
              0,
              "#0d0887"
             ],
             [
              0.1111111111111111,
              "#46039f"
             ],
             [
              0.2222222222222222,
              "#7201a8"
             ],
             [
              0.3333333333333333,
              "#9c179e"
             ],
             [
              0.4444444444444444,
              "#bd3786"
             ],
             [
              0.5555555555555556,
              "#d8576b"
             ],
             [
              0.6666666666666666,
              "#ed7953"
             ],
             [
              0.7777777777777778,
              "#fb9f3a"
             ],
             [
              0.8888888888888888,
              "#fdca26"
             ],
             [
              1,
              "#f0f921"
             ]
            ],
            "type": "contour"
           }
          ],
          "contourcarpet": [
           {
            "colorbar": {
             "outlinewidth": 0,
             "ticks": ""
            },
            "type": "contourcarpet"
           }
          ],
          "heatmap": [
           {
            "colorbar": {
             "outlinewidth": 0,
             "ticks": ""
            },
            "colorscale": [
             [
              0,
              "#0d0887"
             ],
             [
              0.1111111111111111,
              "#46039f"
             ],
             [
              0.2222222222222222,
              "#7201a8"
             ],
             [
              0.3333333333333333,
              "#9c179e"
             ],
             [
              0.4444444444444444,
              "#bd3786"
             ],
             [
              0.5555555555555556,
              "#d8576b"
             ],
             [
              0.6666666666666666,
              "#ed7953"
             ],
             [
              0.7777777777777778,
              "#fb9f3a"
             ],
             [
              0.8888888888888888,
              "#fdca26"
             ],
             [
              1,
              "#f0f921"
             ]
            ],
            "type": "heatmap"
           }
          ],
          "heatmapgl": [
           {
            "colorbar": {
             "outlinewidth": 0,
             "ticks": ""
            },
            "colorscale": [
             [
              0,
              "#0d0887"
             ],
             [
              0.1111111111111111,
              "#46039f"
             ],
             [
              0.2222222222222222,
              "#7201a8"
             ],
             [
              0.3333333333333333,
              "#9c179e"
             ],
             [
              0.4444444444444444,
              "#bd3786"
             ],
             [
              0.5555555555555556,
              "#d8576b"
             ],
             [
              0.6666666666666666,
              "#ed7953"
             ],
             [
              0.7777777777777778,
              "#fb9f3a"
             ],
             [
              0.8888888888888888,
              "#fdca26"
             ],
             [
              1,
              "#f0f921"
             ]
            ],
            "type": "heatmapgl"
           }
          ],
          "histogram": [
           {
            "marker": {
             "pattern": {
              "fillmode": "overlay",
              "size": 10,
              "solidity": 0.2
             }
            },
            "type": "histogram"
           }
          ],
          "histogram2d": [
           {
            "colorbar": {
             "outlinewidth": 0,
             "ticks": ""
            },
            "colorscale": [
             [
              0,
              "#0d0887"
             ],
             [
              0.1111111111111111,
              "#46039f"
             ],
             [
              0.2222222222222222,
              "#7201a8"
             ],
             [
              0.3333333333333333,
              "#9c179e"
             ],
             [
              0.4444444444444444,
              "#bd3786"
             ],
             [
              0.5555555555555556,
              "#d8576b"
             ],
             [
              0.6666666666666666,
              "#ed7953"
             ],
             [
              0.7777777777777778,
              "#fb9f3a"
             ],
             [
              0.8888888888888888,
              "#fdca26"
             ],
             [
              1,
              "#f0f921"
             ]
            ],
            "type": "histogram2d"
           }
          ],
          "histogram2dcontour": [
           {
            "colorbar": {
             "outlinewidth": 0,
             "ticks": ""
            },
            "colorscale": [
             [
              0,
              "#0d0887"
             ],
             [
              0.1111111111111111,
              "#46039f"
             ],
             [
              0.2222222222222222,
              "#7201a8"
             ],
             [
              0.3333333333333333,
              "#9c179e"
             ],
             [
              0.4444444444444444,
              "#bd3786"
             ],
             [
              0.5555555555555556,
              "#d8576b"
             ],
             [
              0.6666666666666666,
              "#ed7953"
             ],
             [
              0.7777777777777778,
              "#fb9f3a"
             ],
             [
              0.8888888888888888,
              "#fdca26"
             ],
             [
              1,
              "#f0f921"
             ]
            ],
            "type": "histogram2dcontour"
           }
          ],
          "mesh3d": [
           {
            "colorbar": {
             "outlinewidth": 0,
             "ticks": ""
            },
            "type": "mesh3d"
           }
          ],
          "parcoords": [
           {
            "line": {
             "colorbar": {
              "outlinewidth": 0,
              "ticks": ""
             }
            },
            "type": "parcoords"
           }
          ],
          "pie": [
           {
            "automargin": true,
            "type": "pie"
           }
          ],
          "scatter": [
           {
            "fillpattern": {
             "fillmode": "overlay",
             "size": 10,
             "solidity": 0.2
            },
            "type": "scatter"
           }
          ],
          "scatter3d": [
           {
            "line": {
             "colorbar": {
              "outlinewidth": 0,
              "ticks": ""
             }
            },
            "marker": {
             "colorbar": {
              "outlinewidth": 0,
              "ticks": ""
             }
            },
            "type": "scatter3d"
           }
          ],
          "scattercarpet": [
           {
            "marker": {
             "colorbar": {
              "outlinewidth": 0,
              "ticks": ""
             }
            },
            "type": "scattercarpet"
           }
          ],
          "scattergeo": [
           {
            "marker": {
             "colorbar": {
              "outlinewidth": 0,
              "ticks": ""
             }
            },
            "type": "scattergeo"
           }
          ],
          "scattergl": [
           {
            "marker": {
             "colorbar": {
              "outlinewidth": 0,
              "ticks": ""
             }
            },
            "type": "scattergl"
           }
          ],
          "scattermapbox": [
           {
            "marker": {
             "colorbar": {
              "outlinewidth": 0,
              "ticks": ""
             }
            },
            "type": "scattermapbox"
           }
          ],
          "scatterpolar": [
           {
            "marker": {
             "colorbar": {
              "outlinewidth": 0,
              "ticks": ""
             }
            },
            "type": "scatterpolar"
           }
          ],
          "scatterpolargl": [
           {
            "marker": {
             "colorbar": {
              "outlinewidth": 0,
              "ticks": ""
             }
            },
            "type": "scatterpolargl"
           }
          ],
          "scatterternary": [
           {
            "marker": {
             "colorbar": {
              "outlinewidth": 0,
              "ticks": ""
             }
            },
            "type": "scatterternary"
           }
          ],
          "surface": [
           {
            "colorbar": {
             "outlinewidth": 0,
             "ticks": ""
            },
            "colorscale": [
             [
              0,
              "#0d0887"
             ],
             [
              0.1111111111111111,
              "#46039f"
             ],
             [
              0.2222222222222222,
              "#7201a8"
             ],
             [
              0.3333333333333333,
              "#9c179e"
             ],
             [
              0.4444444444444444,
              "#bd3786"
             ],
             [
              0.5555555555555556,
              "#d8576b"
             ],
             [
              0.6666666666666666,
              "#ed7953"
             ],
             [
              0.7777777777777778,
              "#fb9f3a"
             ],
             [
              0.8888888888888888,
              "#fdca26"
             ],
             [
              1,
              "#f0f921"
             ]
            ],
            "type": "surface"
           }
          ],
          "table": [
           {
            "cells": {
             "fill": {
              "color": "#EBF0F8"
             },
             "line": {
              "color": "white"
             }
            },
            "header": {
             "fill": {
              "color": "#C8D4E3"
             },
             "line": {
              "color": "white"
             }
            },
            "type": "table"
           }
          ]
         },
         "layout": {
          "annotationdefaults": {
           "arrowcolor": "#2a3f5f",
           "arrowhead": 0,
           "arrowwidth": 1
          },
          "autotypenumbers": "strict",
          "coloraxis": {
           "colorbar": {
            "outlinewidth": 0,
            "ticks": ""
           }
          },
          "colorscale": {
           "diverging": [
            [
             0,
             "#8e0152"
            ],
            [
             0.1,
             "#c51b7d"
            ],
            [
             0.2,
             "#de77ae"
            ],
            [
             0.3,
             "#f1b6da"
            ],
            [
             0.4,
             "#fde0ef"
            ],
            [
             0.5,
             "#f7f7f7"
            ],
            [
             0.6,
             "#e6f5d0"
            ],
            [
             0.7,
             "#b8e186"
            ],
            [
             0.8,
             "#7fbc41"
            ],
            [
             0.9,
             "#4d9221"
            ],
            [
             1,
             "#276419"
            ]
           ],
           "sequential": [
            [
             0,
             "#0d0887"
            ],
            [
             0.1111111111111111,
             "#46039f"
            ],
            [
             0.2222222222222222,
             "#7201a8"
            ],
            [
             0.3333333333333333,
             "#9c179e"
            ],
            [
             0.4444444444444444,
             "#bd3786"
            ],
            [
             0.5555555555555556,
             "#d8576b"
            ],
            [
             0.6666666666666666,
             "#ed7953"
            ],
            [
             0.7777777777777778,
             "#fb9f3a"
            ],
            [
             0.8888888888888888,
             "#fdca26"
            ],
            [
             1,
             "#f0f921"
            ]
           ],
           "sequentialminus": [
            [
             0,
             "#0d0887"
            ],
            [
             0.1111111111111111,
             "#46039f"
            ],
            [
             0.2222222222222222,
             "#7201a8"
            ],
            [
             0.3333333333333333,
             "#9c179e"
            ],
            [
             0.4444444444444444,
             "#bd3786"
            ],
            [
             0.5555555555555556,
             "#d8576b"
            ],
            [
             0.6666666666666666,
             "#ed7953"
            ],
            [
             0.7777777777777778,
             "#fb9f3a"
            ],
            [
             0.8888888888888888,
             "#fdca26"
            ],
            [
             1,
             "#f0f921"
            ]
           ]
          },
          "colorway": [
           "#636efa",
           "#EF553B",
           "#00cc96",
           "#ab63fa",
           "#FFA15A",
           "#19d3f3",
           "#FF6692",
           "#B6E880",
           "#FF97FF",
           "#FECB52"
          ],
          "font": {
           "color": "#2a3f5f"
          },
          "geo": {
           "bgcolor": "white",
           "lakecolor": "white",
           "landcolor": "#E5ECF6",
           "showlakes": true,
           "showland": true,
           "subunitcolor": "white"
          },
          "hoverlabel": {
           "align": "left"
          },
          "hovermode": "closest",
          "mapbox": {
           "style": "light"
          },
          "paper_bgcolor": "white",
          "plot_bgcolor": "#E5ECF6",
          "polar": {
           "angularaxis": {
            "gridcolor": "white",
            "linecolor": "white",
            "ticks": ""
           },
           "bgcolor": "#E5ECF6",
           "radialaxis": {
            "gridcolor": "white",
            "linecolor": "white",
            "ticks": ""
           }
          },
          "scene": {
           "xaxis": {
            "backgroundcolor": "#E5ECF6",
            "gridcolor": "white",
            "gridwidth": 2,
            "linecolor": "white",
            "showbackground": true,
            "ticks": "",
            "zerolinecolor": "white"
           },
           "yaxis": {
            "backgroundcolor": "#E5ECF6",
            "gridcolor": "white",
            "gridwidth": 2,
            "linecolor": "white",
            "showbackground": true,
            "ticks": "",
            "zerolinecolor": "white"
           },
           "zaxis": {
            "backgroundcolor": "#E5ECF6",
            "gridcolor": "white",
            "gridwidth": 2,
            "linecolor": "white",
            "showbackground": true,
            "ticks": "",
            "zerolinecolor": "white"
           }
          },
          "shapedefaults": {
           "line": {
            "color": "#2a3f5f"
           }
          },
          "ternary": {
           "aaxis": {
            "gridcolor": "white",
            "linecolor": "white",
            "ticks": ""
           },
           "baxis": {
            "gridcolor": "white",
            "linecolor": "white",
            "ticks": ""
           },
           "bgcolor": "#E5ECF6",
           "caxis": {
            "gridcolor": "white",
            "linecolor": "white",
            "ticks": ""
           }
          },
          "title": {
           "x": 0.05
          },
          "xaxis": {
           "automargin": true,
           "gridcolor": "white",
           "linecolor": "white",
           "ticks": "",
           "title": {
            "standoff": 15
           },
           "zerolinecolor": "white",
           "zerolinewidth": 2
          },
          "yaxis": {
           "automargin": true,
           "gridcolor": "white",
           "linecolor": "white",
           "ticks": "",
           "title": {
            "standoff": 15
           },
           "zerolinecolor": "white",
           "zerolinewidth": 2
          }
         }
        },
        "title": {
         "text": "Importance per Circuit"
        },
        "xaxis": {
         "anchor": "y",
         "domain": [
          0,
          1
         ],
         "title": {
          "text": "Circuit ID"
         }
        },
        "yaxis": {
         "anchor": "x",
         "domain": [
          0,
          1
         ],
         "title": {
          "text": "Importance"
         }
        }
       }
      }
     },
     "metadata": {},
     "output_type": "display_data"
    },
    {
     "data": {
      "application/vnd.plotly.v1+json": {
       "config": {
        "plotlyServerURL": "https://plot.ly"
       },
       "data": [
        {
         "alignmentgroup": "True",
         "hovertemplate": "Thermoelectric ID=Th0<br>Circuit ID=%{x}<br>Demand per Hour=%{y}<extra></extra>",
         "legendgroup": "Th0",
         "marker": {
          "color": "#636EFA",
          "pattern": {
           "shape": ""
          }
         },
         "name": "Th0",
         "offsetgroup": "Th0",
         "orientation": "v",
         "showlegend": true,
         "textposition": "auto",
         "type": "bar",
         "x": [
          "C32",
          "C46",
          "C49"
         ],
         "xaxis": "x",
         "y": [
          1339.202865781843,
          4522.87297849063,
          3635.15546775932
         ],
         "yaxis": "y"
        },
        {
         "alignmentgroup": "True",
         "hovertemplate": "Thermoelectric ID=Th1<br>Circuit ID=%{x}<br>Demand per Hour=%{y}<extra></extra>",
         "legendgroup": "Th1",
         "marker": {
          "color": "#EF553B",
          "pattern": {
           "shape": ""
          }
         },
         "name": "Th1",
         "offsetgroup": "Th1",
         "orientation": "v",
         "showlegend": true,
         "textposition": "auto",
         "type": "bar",
         "x": [
          "C3",
          "C34",
          "C39",
          "C40"
         ],
         "xaxis": "x",
         "y": [
          1867.5224460216739,
          2430.0884419403374,
          3705.749895347593,
          2827.711106967448
         ],
         "yaxis": "y"
        },
        {
         "alignmentgroup": "True",
         "hovertemplate": "Thermoelectric ID=Th2<br>Circuit ID=%{x}<br>Demand per Hour=%{y}<extra></extra>",
         "legendgroup": "Th2",
         "marker": {
          "color": "#00CC96",
          "pattern": {
           "shape": ""
          }
         },
         "name": "Th2",
         "offsetgroup": "Th2",
         "orientation": "v",
         "showlegend": true,
         "textposition": "auto",
         "type": "bar",
         "x": [
          "C2",
          "C7",
          "C9",
          "C16",
          "C18",
          "C35"
         ],
         "xaxis": "x",
         "y": [
          4485.076524713012,
          919.5628818576872,
          5186.711313790355,
          4130.191681899715,
          2604.2735843619366,
          901.5260111720659
         ],
         "yaxis": "y"
        },
        {
         "alignmentgroup": "True",
         "hovertemplate": "Thermoelectric ID=Th3<br>Circuit ID=%{x}<br>Demand per Hour=%{y}<extra></extra>",
         "legendgroup": "Th3",
         "marker": {
          "color": "#AB63FA",
          "pattern": {
           "shape": ""
          }
         },
         "name": "Th3",
         "offsetgroup": "Th3",
         "orientation": "v",
         "showlegend": true,
         "textposition": "auto",
         "type": "bar",
         "x": [
          "C1",
          "C10",
          "C19",
          "C22",
          "C25",
          "C27",
          "C29",
          "C30",
          "C31",
          "C37",
          "C44",
          "C47"
         ],
         "xaxis": "x",
         "y": [
          4535.990874724278,
          2791.3221072593187,
          1112.2743888800844,
          2179.536123182468,
          979.9857548676382,
          1046.3335578176677,
          4602.120800485055,
          5792.152678845765,
          1889.1788979382093,
          1017.1384814887382,
          982.4438001347727,
          2144.88521964574
         ],
         "yaxis": "y"
        },
        {
         "alignmentgroup": "True",
         "hovertemplate": "Thermoelectric ID=Th4<br>Circuit ID=%{x}<br>Demand per Hour=%{y}<extra></extra>",
         "legendgroup": "Th4",
         "marker": {
          "color": "#FFA15A",
          "pattern": {
           "shape": ""
          }
         },
         "name": "Th4",
         "offsetgroup": "Th4",
         "orientation": "v",
         "showlegend": true,
         "textposition": "auto",
         "type": "bar",
         "x": [
          "C21",
          "C41",
          "C48"
         ],
         "xaxis": "x",
         "y": [
          1229.9390496491717,
          3255.0281412845534,
          2570.2163107257743
         ],
         "yaxis": "y"
        },
        {
         "alignmentgroup": "True",
         "hovertemplate": "Thermoelectric ID=Th5<br>Circuit ID=%{x}<br>Demand per Hour=%{y}<extra></extra>",
         "legendgroup": "Th5",
         "marker": {
          "color": "#19D3F3",
          "pattern": {
           "shape": ""
          }
         },
         "name": "Th5",
         "offsetgroup": "Th5",
         "orientation": "v",
         "showlegend": true,
         "textposition": "auto",
         "type": "bar",
         "x": [
          "C4",
          "C11",
          "C12",
          "C33"
         ],
         "xaxis": "x",
         "y": [
          978.7390625073629,
          1258.245169807353,
          1482.3351793390752,
          2014.9256826417493
         ],
         "yaxis": "y"
        },
        {
         "alignmentgroup": "True",
         "hovertemplate": "Thermoelectric ID=Th6<br>Circuit ID=%{x}<br>Demand per Hour=%{y}<extra></extra>",
         "legendgroup": "Th6",
         "marker": {
          "color": "#FF6692",
          "pattern": {
           "shape": ""
          }
         },
         "name": "Th6",
         "offsetgroup": "Th6",
         "orientation": "v",
         "showlegend": true,
         "textposition": "auto",
         "type": "bar",
         "x": [
          "C13",
          "C15",
          "C17",
          "C20",
          "C23",
          "C24",
          "C36",
          "C45"
         ],
         "xaxis": "x",
         "y": [
          2707.3543192224924,
          1388.0095332081164,
          5229.455752744052,
          1073.8105767016102,
          2780.676155711362,
          1277.6885500139842,
          2453.380984736415,
          2260.535062133161
         ],
         "yaxis": "y"
        },
        {
         "alignmentgroup": "True",
         "hovertemplate": "Thermoelectric ID=Th7<br>Circuit ID=%{x}<br>Demand per Hour=%{y}<extra></extra>",
         "legendgroup": "Th7",
         "marker": {
          "color": "#B6E880",
          "pattern": {
           "shape": ""
          }
         },
         "name": "Th7",
         "offsetgroup": "Th7",
         "orientation": "v",
         "showlegend": true,
         "textposition": "auto",
         "type": "bar",
         "x": [
          "C0",
          "C5",
          "C6",
          "C8",
          "C14",
          "C26",
          "C28",
          "C38",
          "C42",
          "C43"
         ],
         "xaxis": "x",
         "y": [
          1535.8848954297587,
          1016.2370932844674,
          2988.75491034674,
          1962.7966121432569,
          2083.6544119225964,
          1257.6553358025162,
          1633.412218981318,
          2149.395380480105,
          4790.612716624667,
          578.1743680633099
         ],
         "yaxis": "y"
        }
       ],
       "layout": {
        "barmode": "relative",
        "height": 800,
        "legend": {
         "title": {
          "text": "Thermoelectric ID"
         },
         "tracegroupgap": 0
        },
        "template": {
         "data": {
          "bar": [
           {
            "error_x": {
             "color": "#2a3f5f"
            },
            "error_y": {
             "color": "#2a3f5f"
            },
            "marker": {
             "line": {
              "color": "#E5ECF6",
              "width": 0.5
             },
             "pattern": {
              "fillmode": "overlay",
              "size": 10,
              "solidity": 0.2
             }
            },
            "type": "bar"
           }
          ],
          "barpolar": [
           {
            "marker": {
             "line": {
              "color": "#E5ECF6",
              "width": 0.5
             },
             "pattern": {
              "fillmode": "overlay",
              "size": 10,
              "solidity": 0.2
             }
            },
            "type": "barpolar"
           }
          ],
          "carpet": [
           {
            "aaxis": {
             "endlinecolor": "#2a3f5f",
             "gridcolor": "white",
             "linecolor": "white",
             "minorgridcolor": "white",
             "startlinecolor": "#2a3f5f"
            },
            "baxis": {
             "endlinecolor": "#2a3f5f",
             "gridcolor": "white",
             "linecolor": "white",
             "minorgridcolor": "white",
             "startlinecolor": "#2a3f5f"
            },
            "type": "carpet"
           }
          ],
          "choropleth": [
           {
            "colorbar": {
             "outlinewidth": 0,
             "ticks": ""
            },
            "type": "choropleth"
           }
          ],
          "contour": [
           {
            "colorbar": {
             "outlinewidth": 0,
             "ticks": ""
            },
            "colorscale": [
             [
              0,
              "#0d0887"
             ],
             [
              0.1111111111111111,
              "#46039f"
             ],
             [
              0.2222222222222222,
              "#7201a8"
             ],
             [
              0.3333333333333333,
              "#9c179e"
             ],
             [
              0.4444444444444444,
              "#bd3786"
             ],
             [
              0.5555555555555556,
              "#d8576b"
             ],
             [
              0.6666666666666666,
              "#ed7953"
             ],
             [
              0.7777777777777778,
              "#fb9f3a"
             ],
             [
              0.8888888888888888,
              "#fdca26"
             ],
             [
              1,
              "#f0f921"
             ]
            ],
            "type": "contour"
           }
          ],
          "contourcarpet": [
           {
            "colorbar": {
             "outlinewidth": 0,
             "ticks": ""
            },
            "type": "contourcarpet"
           }
          ],
          "heatmap": [
           {
            "colorbar": {
             "outlinewidth": 0,
             "ticks": ""
            },
            "colorscale": [
             [
              0,
              "#0d0887"
             ],
             [
              0.1111111111111111,
              "#46039f"
             ],
             [
              0.2222222222222222,
              "#7201a8"
             ],
             [
              0.3333333333333333,
              "#9c179e"
             ],
             [
              0.4444444444444444,
              "#bd3786"
             ],
             [
              0.5555555555555556,
              "#d8576b"
             ],
             [
              0.6666666666666666,
              "#ed7953"
             ],
             [
              0.7777777777777778,
              "#fb9f3a"
             ],
             [
              0.8888888888888888,
              "#fdca26"
             ],
             [
              1,
              "#f0f921"
             ]
            ],
            "type": "heatmap"
           }
          ],
          "heatmapgl": [
           {
            "colorbar": {
             "outlinewidth": 0,
             "ticks": ""
            },
            "colorscale": [
             [
              0,
              "#0d0887"
             ],
             [
              0.1111111111111111,
              "#46039f"
             ],
             [
              0.2222222222222222,
              "#7201a8"
             ],
             [
              0.3333333333333333,
              "#9c179e"
             ],
             [
              0.4444444444444444,
              "#bd3786"
             ],
             [
              0.5555555555555556,
              "#d8576b"
             ],
             [
              0.6666666666666666,
              "#ed7953"
             ],
             [
              0.7777777777777778,
              "#fb9f3a"
             ],
             [
              0.8888888888888888,
              "#fdca26"
             ],
             [
              1,
              "#f0f921"
             ]
            ],
            "type": "heatmapgl"
           }
          ],
          "histogram": [
           {
            "marker": {
             "pattern": {
              "fillmode": "overlay",
              "size": 10,
              "solidity": 0.2
             }
            },
            "type": "histogram"
           }
          ],
          "histogram2d": [
           {
            "colorbar": {
             "outlinewidth": 0,
             "ticks": ""
            },
            "colorscale": [
             [
              0,
              "#0d0887"
             ],
             [
              0.1111111111111111,
              "#46039f"
             ],
             [
              0.2222222222222222,
              "#7201a8"
             ],
             [
              0.3333333333333333,
              "#9c179e"
             ],
             [
              0.4444444444444444,
              "#bd3786"
             ],
             [
              0.5555555555555556,
              "#d8576b"
             ],
             [
              0.6666666666666666,
              "#ed7953"
             ],
             [
              0.7777777777777778,
              "#fb9f3a"
             ],
             [
              0.8888888888888888,
              "#fdca26"
             ],
             [
              1,
              "#f0f921"
             ]
            ],
            "type": "histogram2d"
           }
          ],
          "histogram2dcontour": [
           {
            "colorbar": {
             "outlinewidth": 0,
             "ticks": ""
            },
            "colorscale": [
             [
              0,
              "#0d0887"
             ],
             [
              0.1111111111111111,
              "#46039f"
             ],
             [
              0.2222222222222222,
              "#7201a8"
             ],
             [
              0.3333333333333333,
              "#9c179e"
             ],
             [
              0.4444444444444444,
              "#bd3786"
             ],
             [
              0.5555555555555556,
              "#d8576b"
             ],
             [
              0.6666666666666666,
              "#ed7953"
             ],
             [
              0.7777777777777778,
              "#fb9f3a"
             ],
             [
              0.8888888888888888,
              "#fdca26"
             ],
             [
              1,
              "#f0f921"
             ]
            ],
            "type": "histogram2dcontour"
           }
          ],
          "mesh3d": [
           {
            "colorbar": {
             "outlinewidth": 0,
             "ticks": ""
            },
            "type": "mesh3d"
           }
          ],
          "parcoords": [
           {
            "line": {
             "colorbar": {
              "outlinewidth": 0,
              "ticks": ""
             }
            },
            "type": "parcoords"
           }
          ],
          "pie": [
           {
            "automargin": true,
            "type": "pie"
           }
          ],
          "scatter": [
           {
            "fillpattern": {
             "fillmode": "overlay",
             "size": 10,
             "solidity": 0.2
            },
            "type": "scatter"
           }
          ],
          "scatter3d": [
           {
            "line": {
             "colorbar": {
              "outlinewidth": 0,
              "ticks": ""
             }
            },
            "marker": {
             "colorbar": {
              "outlinewidth": 0,
              "ticks": ""
             }
            },
            "type": "scatter3d"
           }
          ],
          "scattercarpet": [
           {
            "marker": {
             "colorbar": {
              "outlinewidth": 0,
              "ticks": ""
             }
            },
            "type": "scattercarpet"
           }
          ],
          "scattergeo": [
           {
            "marker": {
             "colorbar": {
              "outlinewidth": 0,
              "ticks": ""
             }
            },
            "type": "scattergeo"
           }
          ],
          "scattergl": [
           {
            "marker": {
             "colorbar": {
              "outlinewidth": 0,
              "ticks": ""
             }
            },
            "type": "scattergl"
           }
          ],
          "scattermapbox": [
           {
            "marker": {
             "colorbar": {
              "outlinewidth": 0,
              "ticks": ""
             }
            },
            "type": "scattermapbox"
           }
          ],
          "scatterpolar": [
           {
            "marker": {
             "colorbar": {
              "outlinewidth": 0,
              "ticks": ""
             }
            },
            "type": "scatterpolar"
           }
          ],
          "scatterpolargl": [
           {
            "marker": {
             "colorbar": {
              "outlinewidth": 0,
              "ticks": ""
             }
            },
            "type": "scatterpolargl"
           }
          ],
          "scatterternary": [
           {
            "marker": {
             "colorbar": {
              "outlinewidth": 0,
              "ticks": ""
             }
            },
            "type": "scatterternary"
           }
          ],
          "surface": [
           {
            "colorbar": {
             "outlinewidth": 0,
             "ticks": ""
            },
            "colorscale": [
             [
              0,
              "#0d0887"
             ],
             [
              0.1111111111111111,
              "#46039f"
             ],
             [
              0.2222222222222222,
              "#7201a8"
             ],
             [
              0.3333333333333333,
              "#9c179e"
             ],
             [
              0.4444444444444444,
              "#bd3786"
             ],
             [
              0.5555555555555556,
              "#d8576b"
             ],
             [
              0.6666666666666666,
              "#ed7953"
             ],
             [
              0.7777777777777778,
              "#fb9f3a"
             ],
             [
              0.8888888888888888,
              "#fdca26"
             ],
             [
              1,
              "#f0f921"
             ]
            ],
            "type": "surface"
           }
          ],
          "table": [
           {
            "cells": {
             "fill": {
              "color": "#EBF0F8"
             },
             "line": {
              "color": "white"
             }
            },
            "header": {
             "fill": {
              "color": "#C8D4E3"
             },
             "line": {
              "color": "white"
             }
            },
            "type": "table"
           }
          ]
         },
         "layout": {
          "annotationdefaults": {
           "arrowcolor": "#2a3f5f",
           "arrowhead": 0,
           "arrowwidth": 1
          },
          "autotypenumbers": "strict",
          "coloraxis": {
           "colorbar": {
            "outlinewidth": 0,
            "ticks": ""
           }
          },
          "colorscale": {
           "diverging": [
            [
             0,
             "#8e0152"
            ],
            [
             0.1,
             "#c51b7d"
            ],
            [
             0.2,
             "#de77ae"
            ],
            [
             0.3,
             "#f1b6da"
            ],
            [
             0.4,
             "#fde0ef"
            ],
            [
             0.5,
             "#f7f7f7"
            ],
            [
             0.6,
             "#e6f5d0"
            ],
            [
             0.7,
             "#b8e186"
            ],
            [
             0.8,
             "#7fbc41"
            ],
            [
             0.9,
             "#4d9221"
            ],
            [
             1,
             "#276419"
            ]
           ],
           "sequential": [
            [
             0,
             "#0d0887"
            ],
            [
             0.1111111111111111,
             "#46039f"
            ],
            [
             0.2222222222222222,
             "#7201a8"
            ],
            [
             0.3333333333333333,
             "#9c179e"
            ],
            [
             0.4444444444444444,
             "#bd3786"
            ],
            [
             0.5555555555555556,
             "#d8576b"
            ],
            [
             0.6666666666666666,
             "#ed7953"
            ],
            [
             0.7777777777777778,
             "#fb9f3a"
            ],
            [
             0.8888888888888888,
             "#fdca26"
            ],
            [
             1,
             "#f0f921"
            ]
           ],
           "sequentialminus": [
            [
             0,
             "#0d0887"
            ],
            [
             0.1111111111111111,
             "#46039f"
            ],
            [
             0.2222222222222222,
             "#7201a8"
            ],
            [
             0.3333333333333333,
             "#9c179e"
            ],
            [
             0.4444444444444444,
             "#bd3786"
            ],
            [
             0.5555555555555556,
             "#d8576b"
            ],
            [
             0.6666666666666666,
             "#ed7953"
            ],
            [
             0.7777777777777778,
             "#fb9f3a"
            ],
            [
             0.8888888888888888,
             "#fdca26"
            ],
            [
             1,
             "#f0f921"
            ]
           ]
          },
          "colorway": [
           "#636efa",
           "#EF553B",
           "#00cc96",
           "#ab63fa",
           "#FFA15A",
           "#19d3f3",
           "#FF6692",
           "#B6E880",
           "#FF97FF",
           "#FECB52"
          ],
          "font": {
           "color": "#2a3f5f"
          },
          "geo": {
           "bgcolor": "white",
           "lakecolor": "white",
           "landcolor": "#E5ECF6",
           "showlakes": true,
           "showland": true,
           "subunitcolor": "white"
          },
          "hoverlabel": {
           "align": "left"
          },
          "hovermode": "closest",
          "mapbox": {
           "style": "light"
          },
          "paper_bgcolor": "white",
          "plot_bgcolor": "#E5ECF6",
          "polar": {
           "angularaxis": {
            "gridcolor": "white",
            "linecolor": "white",
            "ticks": ""
           },
           "bgcolor": "#E5ECF6",
           "radialaxis": {
            "gridcolor": "white",
            "linecolor": "white",
            "ticks": ""
           }
          },
          "scene": {
           "xaxis": {
            "backgroundcolor": "#E5ECF6",
            "gridcolor": "white",
            "gridwidth": 2,
            "linecolor": "white",
            "showbackground": true,
            "ticks": "",
            "zerolinecolor": "white"
           },
           "yaxis": {
            "backgroundcolor": "#E5ECF6",
            "gridcolor": "white",
            "gridwidth": 2,
            "linecolor": "white",
            "showbackground": true,
            "ticks": "",
            "zerolinecolor": "white"
           },
           "zaxis": {
            "backgroundcolor": "#E5ECF6",
            "gridcolor": "white",
            "gridwidth": 2,
            "linecolor": "white",
            "showbackground": true,
            "ticks": "",
            "zerolinecolor": "white"
           }
          },
          "shapedefaults": {
           "line": {
            "color": "#2a3f5f"
           }
          },
          "ternary": {
           "aaxis": {
            "gridcolor": "white",
            "linecolor": "white",
            "ticks": ""
           },
           "baxis": {
            "gridcolor": "white",
            "linecolor": "white",
            "ticks": ""
           },
           "bgcolor": "#E5ECF6",
           "caxis": {
            "gridcolor": "white",
            "linecolor": "white",
            "ticks": ""
           }
          },
          "title": {
           "x": 0.05
          },
          "xaxis": {
           "automargin": true,
           "gridcolor": "white",
           "linecolor": "white",
           "ticks": "",
           "title": {
            "standoff": 15
           },
           "zerolinecolor": "white",
           "zerolinewidth": 2
          },
          "yaxis": {
           "automargin": true,
           "gridcolor": "white",
           "linecolor": "white",
           "ticks": "",
           "title": {
            "standoff": 15
           },
           "zerolinecolor": "white",
           "zerolinewidth": 2
          }
         }
        },
        "title": {
         "text": "Total Demand per Circuit in a Day"
        },
        "xaxis": {
         "anchor": "y",
         "domain": [
          0,
          1
         ],
         "title": {
          "text": "Circuit ID"
         }
        },
        "yaxis": {
         "anchor": "x",
         "domain": [
          0,
          1
         ],
         "title": {
          "text": "Demand per Hour"
         }
        }
       }
      }
     },
     "metadata": {},
     "output_type": "display_data"
    }
   ],
   "source": [
    "# Compare data from circuits\n",
    "\n",
    "citizens = []\n",
    "importance = []\n",
    "demand_per_hour = []\n",
    "\n",
    "for circuit in sorted_electric_system_circuit_list:\n",
    "    \n",
    "    importance.append(circuit.importance)\n",
    "    demand_per_hour.append(\n",
    "        sum([sum(block.predicted_demand_per_hour) for block in circuit.blocks])\n",
    "    )\n",
    "\n",
    "# Separate for properties\n",
    "citizens = [\n",
    "    sum(block.citizens.amount for block in circuit.blocks)\n",
    "    for circuit in electric_system_circuits_list\n",
    "]\n",
    "\n",
    "circuit_comparison_df = pd.DataFrame(\n",
    "    {   \"Circuit ID\": [c.id for c in sorted_electric_system_circuit_list], \n",
    "        \"Citizens\": citizens,\n",
    "        \"Importance\": importance,\n",
    "        \"Demand per Hour\": demand_per_hour,\n",
    "    }\n",
    ")\n",
    "\n",
    "fig_citizens = px.bar(\n",
    "    circuit_comparison_df,\n",
    "    x=\"Circuit ID\",\n",
    "    y=\"Citizens\",\n",
    "    title=\"Total Citizens per Circuit\",\n",
    "    height=800,\n",
    "    color=colors,\n",
    "    color_discrete_sequence=px.colors.qualitative.Plotly,\n",
    "    labels={\"color\": \"Thermoelectric ID\"},\n",
    ")\n",
    "\n",
    "fig_importance = px.bar(\n",
    "    circuit_comparison_df,\n",
    "    x=\"Circuit ID\",\n",
    "    y=\"Importance\",\n",
    "    title=\"Importance per Circuit\",\n",
    "    height=800,\n",
    "    color=colors,\n",
    "    color_discrete_sequence=px.colors.qualitative.Plotly,\n",
    "    labels={\"color\": \"Thermoelectric ID\"},\n",
    ")\n",
    "\n",
    "fig_demand_per_hour = px.bar(\n",
    "    circuit_comparison_df,\n",
    "    x=\"Circuit ID\",\n",
    "    y=\"Demand per Hour\",\n",
    "    title=\"Total Demand per Circuit in a Day\",\n",
    "    height=800,\n",
    "    color=colors,\n",
    "    color_discrete_sequence=px.colors.qualitative.Plotly,\n",
    "    labels={\"color\": \"Thermoelectric ID\"},\n",
    ")\n",
    "\n",
    "fig_citizens.show()\n",
    "fig_importance.show()\n",
    "fig_demand_per_hour.show()"
   ]
  },
  {
   "cell_type": "code",
   "execution_count": 24,
   "metadata": {},
   "outputs": [
    {
     "data": {
      "application/vnd.plotly.v1+json": {
       "config": {
        "plotlyServerURL": "https://plot.ly"
       },
       "data": [
        {
         "hovertemplate": "Block ID=Block 1<br>Hour=%{x}<br>Demand (kWh)=%{y}<extra></extra>",
         "legendgroup": "Block 1",
         "line": {
          "color": "#636efa",
          "dash": "solid"
         },
         "marker": {
          "symbol": "circle"
         },
         "mode": "lines",
         "name": "Block 1",
         "orientation": "v",
         "showlegend": true,
         "type": "scatter",
         "x": [
          0,
          1,
          2,
          3,
          4,
          5,
          6,
          7,
          8,
          9,
          10,
          11,
          12,
          13,
          14,
          15,
          16,
          17,
          18,
          19,
          20,
          21,
          22,
          23
         ],
         "xaxis": "x",
         "y": [
          49.23701875201705,
          57.298576726562686,
          57.396096498971346,
          59.009658232567254,
          54.76454593765452,
          58.464791524655375,
          69.83124998486504,
          64.71012057116104,
          62.32340014974041,
          58.82289229241488,
          65.47320388977055,
          57.049914835119836,
          62.2331767721732,
          62.565841196782536,
          54.77183150756237,
          58.4267944607382,
          69.79419162396354,
          71.47484001888886,
          78.03511809918707,
          79.68760917491369,
          75.03177214704573,
          71.74316838890722,
          69.43779134230553,
          68.30129130179081
         ],
         "yaxis": "y"
        }
       ],
       "layout": {
        "legend": {
         "title": {
          "text": "Block ID"
         },
         "tracegroupgap": 0
        },
        "template": {
         "data": {
          "bar": [
           {
            "error_x": {
             "color": "#2a3f5f"
            },
            "error_y": {
             "color": "#2a3f5f"
            },
            "marker": {
             "line": {
              "color": "#E5ECF6",
              "width": 0.5
             },
             "pattern": {
              "fillmode": "overlay",
              "size": 10,
              "solidity": 0.2
             }
            },
            "type": "bar"
           }
          ],
          "barpolar": [
           {
            "marker": {
             "line": {
              "color": "#E5ECF6",
              "width": 0.5
             },
             "pattern": {
              "fillmode": "overlay",
              "size": 10,
              "solidity": 0.2
             }
            },
            "type": "barpolar"
           }
          ],
          "carpet": [
           {
            "aaxis": {
             "endlinecolor": "#2a3f5f",
             "gridcolor": "white",
             "linecolor": "white",
             "minorgridcolor": "white",
             "startlinecolor": "#2a3f5f"
            },
            "baxis": {
             "endlinecolor": "#2a3f5f",
             "gridcolor": "white",
             "linecolor": "white",
             "minorgridcolor": "white",
             "startlinecolor": "#2a3f5f"
            },
            "type": "carpet"
           }
          ],
          "choropleth": [
           {
            "colorbar": {
             "outlinewidth": 0,
             "ticks": ""
            },
            "type": "choropleth"
           }
          ],
          "contour": [
           {
            "colorbar": {
             "outlinewidth": 0,
             "ticks": ""
            },
            "colorscale": [
             [
              0,
              "#0d0887"
             ],
             [
              0.1111111111111111,
              "#46039f"
             ],
             [
              0.2222222222222222,
              "#7201a8"
             ],
             [
              0.3333333333333333,
              "#9c179e"
             ],
             [
              0.4444444444444444,
              "#bd3786"
             ],
             [
              0.5555555555555556,
              "#d8576b"
             ],
             [
              0.6666666666666666,
              "#ed7953"
             ],
             [
              0.7777777777777778,
              "#fb9f3a"
             ],
             [
              0.8888888888888888,
              "#fdca26"
             ],
             [
              1,
              "#f0f921"
             ]
            ],
            "type": "contour"
           }
          ],
          "contourcarpet": [
           {
            "colorbar": {
             "outlinewidth": 0,
             "ticks": ""
            },
            "type": "contourcarpet"
           }
          ],
          "heatmap": [
           {
            "colorbar": {
             "outlinewidth": 0,
             "ticks": ""
            },
            "colorscale": [
             [
              0,
              "#0d0887"
             ],
             [
              0.1111111111111111,
              "#46039f"
             ],
             [
              0.2222222222222222,
              "#7201a8"
             ],
             [
              0.3333333333333333,
              "#9c179e"
             ],
             [
              0.4444444444444444,
              "#bd3786"
             ],
             [
              0.5555555555555556,
              "#d8576b"
             ],
             [
              0.6666666666666666,
              "#ed7953"
             ],
             [
              0.7777777777777778,
              "#fb9f3a"
             ],
             [
              0.8888888888888888,
              "#fdca26"
             ],
             [
              1,
              "#f0f921"
             ]
            ],
            "type": "heatmap"
           }
          ],
          "heatmapgl": [
           {
            "colorbar": {
             "outlinewidth": 0,
             "ticks": ""
            },
            "colorscale": [
             [
              0,
              "#0d0887"
             ],
             [
              0.1111111111111111,
              "#46039f"
             ],
             [
              0.2222222222222222,
              "#7201a8"
             ],
             [
              0.3333333333333333,
              "#9c179e"
             ],
             [
              0.4444444444444444,
              "#bd3786"
             ],
             [
              0.5555555555555556,
              "#d8576b"
             ],
             [
              0.6666666666666666,
              "#ed7953"
             ],
             [
              0.7777777777777778,
              "#fb9f3a"
             ],
             [
              0.8888888888888888,
              "#fdca26"
             ],
             [
              1,
              "#f0f921"
             ]
            ],
            "type": "heatmapgl"
           }
          ],
          "histogram": [
           {
            "marker": {
             "pattern": {
              "fillmode": "overlay",
              "size": 10,
              "solidity": 0.2
             }
            },
            "type": "histogram"
           }
          ],
          "histogram2d": [
           {
            "colorbar": {
             "outlinewidth": 0,
             "ticks": ""
            },
            "colorscale": [
             [
              0,
              "#0d0887"
             ],
             [
              0.1111111111111111,
              "#46039f"
             ],
             [
              0.2222222222222222,
              "#7201a8"
             ],
             [
              0.3333333333333333,
              "#9c179e"
             ],
             [
              0.4444444444444444,
              "#bd3786"
             ],
             [
              0.5555555555555556,
              "#d8576b"
             ],
             [
              0.6666666666666666,
              "#ed7953"
             ],
             [
              0.7777777777777778,
              "#fb9f3a"
             ],
             [
              0.8888888888888888,
              "#fdca26"
             ],
             [
              1,
              "#f0f921"
             ]
            ],
            "type": "histogram2d"
           }
          ],
          "histogram2dcontour": [
           {
            "colorbar": {
             "outlinewidth": 0,
             "ticks": ""
            },
            "colorscale": [
             [
              0,
              "#0d0887"
             ],
             [
              0.1111111111111111,
              "#46039f"
             ],
             [
              0.2222222222222222,
              "#7201a8"
             ],
             [
              0.3333333333333333,
              "#9c179e"
             ],
             [
              0.4444444444444444,
              "#bd3786"
             ],
             [
              0.5555555555555556,
              "#d8576b"
             ],
             [
              0.6666666666666666,
              "#ed7953"
             ],
             [
              0.7777777777777778,
              "#fb9f3a"
             ],
             [
              0.8888888888888888,
              "#fdca26"
             ],
             [
              1,
              "#f0f921"
             ]
            ],
            "type": "histogram2dcontour"
           }
          ],
          "mesh3d": [
           {
            "colorbar": {
             "outlinewidth": 0,
             "ticks": ""
            },
            "type": "mesh3d"
           }
          ],
          "parcoords": [
           {
            "line": {
             "colorbar": {
              "outlinewidth": 0,
              "ticks": ""
             }
            },
            "type": "parcoords"
           }
          ],
          "pie": [
           {
            "automargin": true,
            "type": "pie"
           }
          ],
          "scatter": [
           {
            "fillpattern": {
             "fillmode": "overlay",
             "size": 10,
             "solidity": 0.2
            },
            "type": "scatter"
           }
          ],
          "scatter3d": [
           {
            "line": {
             "colorbar": {
              "outlinewidth": 0,
              "ticks": ""
             }
            },
            "marker": {
             "colorbar": {
              "outlinewidth": 0,
              "ticks": ""
             }
            },
            "type": "scatter3d"
           }
          ],
          "scattercarpet": [
           {
            "marker": {
             "colorbar": {
              "outlinewidth": 0,
              "ticks": ""
             }
            },
            "type": "scattercarpet"
           }
          ],
          "scattergeo": [
           {
            "marker": {
             "colorbar": {
              "outlinewidth": 0,
              "ticks": ""
             }
            },
            "type": "scattergeo"
           }
          ],
          "scattergl": [
           {
            "marker": {
             "colorbar": {
              "outlinewidth": 0,
              "ticks": ""
             }
            },
            "type": "scattergl"
           }
          ],
          "scattermapbox": [
           {
            "marker": {
             "colorbar": {
              "outlinewidth": 0,
              "ticks": ""
             }
            },
            "type": "scattermapbox"
           }
          ],
          "scatterpolar": [
           {
            "marker": {
             "colorbar": {
              "outlinewidth": 0,
              "ticks": ""
             }
            },
            "type": "scatterpolar"
           }
          ],
          "scatterpolargl": [
           {
            "marker": {
             "colorbar": {
              "outlinewidth": 0,
              "ticks": ""
             }
            },
            "type": "scatterpolargl"
           }
          ],
          "scatterternary": [
           {
            "marker": {
             "colorbar": {
              "outlinewidth": 0,
              "ticks": ""
             }
            },
            "type": "scatterternary"
           }
          ],
          "surface": [
           {
            "colorbar": {
             "outlinewidth": 0,
             "ticks": ""
            },
            "colorscale": [
             [
              0,
              "#0d0887"
             ],
             [
              0.1111111111111111,
              "#46039f"
             ],
             [
              0.2222222222222222,
              "#7201a8"
             ],
             [
              0.3333333333333333,
              "#9c179e"
             ],
             [
              0.4444444444444444,
              "#bd3786"
             ],
             [
              0.5555555555555556,
              "#d8576b"
             ],
             [
              0.6666666666666666,
              "#ed7953"
             ],
             [
              0.7777777777777778,
              "#fb9f3a"
             ],
             [
              0.8888888888888888,
              "#fdca26"
             ],
             [
              1,
              "#f0f921"
             ]
            ],
            "type": "surface"
           }
          ],
          "table": [
           {
            "cells": {
             "fill": {
              "color": "#EBF0F8"
             },
             "line": {
              "color": "white"
             }
            },
            "header": {
             "fill": {
              "color": "#C8D4E3"
             },
             "line": {
              "color": "white"
             }
            },
            "type": "table"
           }
          ]
         },
         "layout": {
          "annotationdefaults": {
           "arrowcolor": "#2a3f5f",
           "arrowhead": 0,
           "arrowwidth": 1
          },
          "autotypenumbers": "strict",
          "coloraxis": {
           "colorbar": {
            "outlinewidth": 0,
            "ticks": ""
           }
          },
          "colorscale": {
           "diverging": [
            [
             0,
             "#8e0152"
            ],
            [
             0.1,
             "#c51b7d"
            ],
            [
             0.2,
             "#de77ae"
            ],
            [
             0.3,
             "#f1b6da"
            ],
            [
             0.4,
             "#fde0ef"
            ],
            [
             0.5,
             "#f7f7f7"
            ],
            [
             0.6,
             "#e6f5d0"
            ],
            [
             0.7,
             "#b8e186"
            ],
            [
             0.8,
             "#7fbc41"
            ],
            [
             0.9,
             "#4d9221"
            ],
            [
             1,
             "#276419"
            ]
           ],
           "sequential": [
            [
             0,
             "#0d0887"
            ],
            [
             0.1111111111111111,
             "#46039f"
            ],
            [
             0.2222222222222222,
             "#7201a8"
            ],
            [
             0.3333333333333333,
             "#9c179e"
            ],
            [
             0.4444444444444444,
             "#bd3786"
            ],
            [
             0.5555555555555556,
             "#d8576b"
            ],
            [
             0.6666666666666666,
             "#ed7953"
            ],
            [
             0.7777777777777778,
             "#fb9f3a"
            ],
            [
             0.8888888888888888,
             "#fdca26"
            ],
            [
             1,
             "#f0f921"
            ]
           ],
           "sequentialminus": [
            [
             0,
             "#0d0887"
            ],
            [
             0.1111111111111111,
             "#46039f"
            ],
            [
             0.2222222222222222,
             "#7201a8"
            ],
            [
             0.3333333333333333,
             "#9c179e"
            ],
            [
             0.4444444444444444,
             "#bd3786"
            ],
            [
             0.5555555555555556,
             "#d8576b"
            ],
            [
             0.6666666666666666,
             "#ed7953"
            ],
            [
             0.7777777777777778,
             "#fb9f3a"
            ],
            [
             0.8888888888888888,
             "#fdca26"
            ],
            [
             1,
             "#f0f921"
            ]
           ]
          },
          "colorway": [
           "#636efa",
           "#EF553B",
           "#00cc96",
           "#ab63fa",
           "#FFA15A",
           "#19d3f3",
           "#FF6692",
           "#B6E880",
           "#FF97FF",
           "#FECB52"
          ],
          "font": {
           "color": "#2a3f5f"
          },
          "geo": {
           "bgcolor": "white",
           "lakecolor": "white",
           "landcolor": "#E5ECF6",
           "showlakes": true,
           "showland": true,
           "subunitcolor": "white"
          },
          "hoverlabel": {
           "align": "left"
          },
          "hovermode": "closest",
          "mapbox": {
           "style": "light"
          },
          "paper_bgcolor": "white",
          "plot_bgcolor": "#E5ECF6",
          "polar": {
           "angularaxis": {
            "gridcolor": "white",
            "linecolor": "white",
            "ticks": ""
           },
           "bgcolor": "#E5ECF6",
           "radialaxis": {
            "gridcolor": "white",
            "linecolor": "white",
            "ticks": ""
           }
          },
          "scene": {
           "xaxis": {
            "backgroundcolor": "#E5ECF6",
            "gridcolor": "white",
            "gridwidth": 2,
            "linecolor": "white",
            "showbackground": true,
            "ticks": "",
            "zerolinecolor": "white"
           },
           "yaxis": {
            "backgroundcolor": "#E5ECF6",
            "gridcolor": "white",
            "gridwidth": 2,
            "linecolor": "white",
            "showbackground": true,
            "ticks": "",
            "zerolinecolor": "white"
           },
           "zaxis": {
            "backgroundcolor": "#E5ECF6",
            "gridcolor": "white",
            "gridwidth": 2,
            "linecolor": "white",
            "showbackground": true,
            "ticks": "",
            "zerolinecolor": "white"
           }
          },
          "shapedefaults": {
           "line": {
            "color": "#2a3f5f"
           }
          },
          "ternary": {
           "aaxis": {
            "gridcolor": "white",
            "linecolor": "white",
            "ticks": ""
           },
           "baxis": {
            "gridcolor": "white",
            "linecolor": "white",
            "ticks": ""
           },
           "bgcolor": "#E5ECF6",
           "caxis": {
            "gridcolor": "white",
            "linecolor": "white",
            "ticks": ""
           }
          },
          "title": {
           "x": 0.05
          },
          "xaxis": {
           "automargin": true,
           "gridcolor": "white",
           "linecolor": "white",
           "ticks": "",
           "title": {
            "standoff": 15
           },
           "zerolinecolor": "white",
           "zerolinewidth": 2
          },
          "yaxis": {
           "automargin": true,
           "gridcolor": "white",
           "linecolor": "white",
           "ticks": "",
           "title": {
            "standoff": 15
           },
           "zerolinecolor": "white",
           "zerolinewidth": 2
          }
         }
        },
        "title": {
         "text": "Hourly Demand per Block in Circuit C0"
        },
        "xaxis": {
         "anchor": "y",
         "domain": [
          0,
          1
         ],
         "title": {
          "text": "Hour"
         }
        },
        "yaxis": {
         "anchor": "x",
         "domain": [
          0,
          1
         ],
         "title": {
          "text": "Demand (kWh)"
         }
        }
       }
      }
     },
     "metadata": {},
     "output_type": "display_data"
    },
    {
     "data": {
      "application/vnd.plotly.v1+json": {
       "config": {
        "plotlyServerURL": "https://plot.ly"
       },
       "data": [
        {
         "hovertemplate": "Hour=%{x}<br>Demand (kWh)=%{y}<extra></extra>",
         "legendgroup": "",
         "line": {
          "color": "#636efa",
          "dash": "solid"
         },
         "marker": {
          "symbol": "circle"
         },
         "mode": "lines",
         "name": "",
         "orientation": "v",
         "showlegend": false,
         "type": "scatter",
         "x": [
          0,
          1,
          2,
          3,
          4,
          5,
          6,
          7,
          8,
          9,
          10,
          11,
          12,
          13,
          14,
          15,
          16,
          17,
          18,
          19,
          20,
          21,
          22,
          23
         ],
         "xaxis": "x",
         "y": [
          49.23701875201705,
          57.298576726562686,
          57.396096498971346,
          59.009658232567254,
          54.76454593765452,
          58.464791524655375,
          69.83124998486504,
          64.71012057116104,
          62.32340014974041,
          58.82289229241488,
          65.47320388977055,
          57.049914835119836,
          62.2331767721732,
          62.565841196782536,
          54.77183150756237,
          58.4267944607382,
          69.79419162396354,
          71.47484001888886,
          78.03511809918707,
          79.68760917491369,
          75.03177214704573,
          71.74316838890722,
          69.43779134230553,
          68.30129130179081
         ],
         "yaxis": "y"
        }
       ],
       "layout": {
        "legend": {
         "tracegroupgap": 0
        },
        "template": {
         "data": {
          "bar": [
           {
            "error_x": {
             "color": "#2a3f5f"
            },
            "error_y": {
             "color": "#2a3f5f"
            },
            "marker": {
             "line": {
              "color": "#E5ECF6",
              "width": 0.5
             },
             "pattern": {
              "fillmode": "overlay",
              "size": 10,
              "solidity": 0.2
             }
            },
            "type": "bar"
           }
          ],
          "barpolar": [
           {
            "marker": {
             "line": {
              "color": "#E5ECF6",
              "width": 0.5
             },
             "pattern": {
              "fillmode": "overlay",
              "size": 10,
              "solidity": 0.2
             }
            },
            "type": "barpolar"
           }
          ],
          "carpet": [
           {
            "aaxis": {
             "endlinecolor": "#2a3f5f",
             "gridcolor": "white",
             "linecolor": "white",
             "minorgridcolor": "white",
             "startlinecolor": "#2a3f5f"
            },
            "baxis": {
             "endlinecolor": "#2a3f5f",
             "gridcolor": "white",
             "linecolor": "white",
             "minorgridcolor": "white",
             "startlinecolor": "#2a3f5f"
            },
            "type": "carpet"
           }
          ],
          "choropleth": [
           {
            "colorbar": {
             "outlinewidth": 0,
             "ticks": ""
            },
            "type": "choropleth"
           }
          ],
          "contour": [
           {
            "colorbar": {
             "outlinewidth": 0,
             "ticks": ""
            },
            "colorscale": [
             [
              0,
              "#0d0887"
             ],
             [
              0.1111111111111111,
              "#46039f"
             ],
             [
              0.2222222222222222,
              "#7201a8"
             ],
             [
              0.3333333333333333,
              "#9c179e"
             ],
             [
              0.4444444444444444,
              "#bd3786"
             ],
             [
              0.5555555555555556,
              "#d8576b"
             ],
             [
              0.6666666666666666,
              "#ed7953"
             ],
             [
              0.7777777777777778,
              "#fb9f3a"
             ],
             [
              0.8888888888888888,
              "#fdca26"
             ],
             [
              1,
              "#f0f921"
             ]
            ],
            "type": "contour"
           }
          ],
          "contourcarpet": [
           {
            "colorbar": {
             "outlinewidth": 0,
             "ticks": ""
            },
            "type": "contourcarpet"
           }
          ],
          "heatmap": [
           {
            "colorbar": {
             "outlinewidth": 0,
             "ticks": ""
            },
            "colorscale": [
             [
              0,
              "#0d0887"
             ],
             [
              0.1111111111111111,
              "#46039f"
             ],
             [
              0.2222222222222222,
              "#7201a8"
             ],
             [
              0.3333333333333333,
              "#9c179e"
             ],
             [
              0.4444444444444444,
              "#bd3786"
             ],
             [
              0.5555555555555556,
              "#d8576b"
             ],
             [
              0.6666666666666666,
              "#ed7953"
             ],
             [
              0.7777777777777778,
              "#fb9f3a"
             ],
             [
              0.8888888888888888,
              "#fdca26"
             ],
             [
              1,
              "#f0f921"
             ]
            ],
            "type": "heatmap"
           }
          ],
          "heatmapgl": [
           {
            "colorbar": {
             "outlinewidth": 0,
             "ticks": ""
            },
            "colorscale": [
             [
              0,
              "#0d0887"
             ],
             [
              0.1111111111111111,
              "#46039f"
             ],
             [
              0.2222222222222222,
              "#7201a8"
             ],
             [
              0.3333333333333333,
              "#9c179e"
             ],
             [
              0.4444444444444444,
              "#bd3786"
             ],
             [
              0.5555555555555556,
              "#d8576b"
             ],
             [
              0.6666666666666666,
              "#ed7953"
             ],
             [
              0.7777777777777778,
              "#fb9f3a"
             ],
             [
              0.8888888888888888,
              "#fdca26"
             ],
             [
              1,
              "#f0f921"
             ]
            ],
            "type": "heatmapgl"
           }
          ],
          "histogram": [
           {
            "marker": {
             "pattern": {
              "fillmode": "overlay",
              "size": 10,
              "solidity": 0.2
             }
            },
            "type": "histogram"
           }
          ],
          "histogram2d": [
           {
            "colorbar": {
             "outlinewidth": 0,
             "ticks": ""
            },
            "colorscale": [
             [
              0,
              "#0d0887"
             ],
             [
              0.1111111111111111,
              "#46039f"
             ],
             [
              0.2222222222222222,
              "#7201a8"
             ],
             [
              0.3333333333333333,
              "#9c179e"
             ],
             [
              0.4444444444444444,
              "#bd3786"
             ],
             [
              0.5555555555555556,
              "#d8576b"
             ],
             [
              0.6666666666666666,
              "#ed7953"
             ],
             [
              0.7777777777777778,
              "#fb9f3a"
             ],
             [
              0.8888888888888888,
              "#fdca26"
             ],
             [
              1,
              "#f0f921"
             ]
            ],
            "type": "histogram2d"
           }
          ],
          "histogram2dcontour": [
           {
            "colorbar": {
             "outlinewidth": 0,
             "ticks": ""
            },
            "colorscale": [
             [
              0,
              "#0d0887"
             ],
             [
              0.1111111111111111,
              "#46039f"
             ],
             [
              0.2222222222222222,
              "#7201a8"
             ],
             [
              0.3333333333333333,
              "#9c179e"
             ],
             [
              0.4444444444444444,
              "#bd3786"
             ],
             [
              0.5555555555555556,
              "#d8576b"
             ],
             [
              0.6666666666666666,
              "#ed7953"
             ],
             [
              0.7777777777777778,
              "#fb9f3a"
             ],
             [
              0.8888888888888888,
              "#fdca26"
             ],
             [
              1,
              "#f0f921"
             ]
            ],
            "type": "histogram2dcontour"
           }
          ],
          "mesh3d": [
           {
            "colorbar": {
             "outlinewidth": 0,
             "ticks": ""
            },
            "type": "mesh3d"
           }
          ],
          "parcoords": [
           {
            "line": {
             "colorbar": {
              "outlinewidth": 0,
              "ticks": ""
             }
            },
            "type": "parcoords"
           }
          ],
          "pie": [
           {
            "automargin": true,
            "type": "pie"
           }
          ],
          "scatter": [
           {
            "fillpattern": {
             "fillmode": "overlay",
             "size": 10,
             "solidity": 0.2
            },
            "type": "scatter"
           }
          ],
          "scatter3d": [
           {
            "line": {
             "colorbar": {
              "outlinewidth": 0,
              "ticks": ""
             }
            },
            "marker": {
             "colorbar": {
              "outlinewidth": 0,
              "ticks": ""
             }
            },
            "type": "scatter3d"
           }
          ],
          "scattercarpet": [
           {
            "marker": {
             "colorbar": {
              "outlinewidth": 0,
              "ticks": ""
             }
            },
            "type": "scattercarpet"
           }
          ],
          "scattergeo": [
           {
            "marker": {
             "colorbar": {
              "outlinewidth": 0,
              "ticks": ""
             }
            },
            "type": "scattergeo"
           }
          ],
          "scattergl": [
           {
            "marker": {
             "colorbar": {
              "outlinewidth": 0,
              "ticks": ""
             }
            },
            "type": "scattergl"
           }
          ],
          "scattermapbox": [
           {
            "marker": {
             "colorbar": {
              "outlinewidth": 0,
              "ticks": ""
             }
            },
            "type": "scattermapbox"
           }
          ],
          "scatterpolar": [
           {
            "marker": {
             "colorbar": {
              "outlinewidth": 0,
              "ticks": ""
             }
            },
            "type": "scatterpolar"
           }
          ],
          "scatterpolargl": [
           {
            "marker": {
             "colorbar": {
              "outlinewidth": 0,
              "ticks": ""
             }
            },
            "type": "scatterpolargl"
           }
          ],
          "scatterternary": [
           {
            "marker": {
             "colorbar": {
              "outlinewidth": 0,
              "ticks": ""
             }
            },
            "type": "scatterternary"
           }
          ],
          "surface": [
           {
            "colorbar": {
             "outlinewidth": 0,
             "ticks": ""
            },
            "colorscale": [
             [
              0,
              "#0d0887"
             ],
             [
              0.1111111111111111,
              "#46039f"
             ],
             [
              0.2222222222222222,
              "#7201a8"
             ],
             [
              0.3333333333333333,
              "#9c179e"
             ],
             [
              0.4444444444444444,
              "#bd3786"
             ],
             [
              0.5555555555555556,
              "#d8576b"
             ],
             [
              0.6666666666666666,
              "#ed7953"
             ],
             [
              0.7777777777777778,
              "#fb9f3a"
             ],
             [
              0.8888888888888888,
              "#fdca26"
             ],
             [
              1,
              "#f0f921"
             ]
            ],
            "type": "surface"
           }
          ],
          "table": [
           {
            "cells": {
             "fill": {
              "color": "#EBF0F8"
             },
             "line": {
              "color": "white"
             }
            },
            "header": {
             "fill": {
              "color": "#C8D4E3"
             },
             "line": {
              "color": "white"
             }
            },
            "type": "table"
           }
          ]
         },
         "layout": {
          "annotationdefaults": {
           "arrowcolor": "#2a3f5f",
           "arrowhead": 0,
           "arrowwidth": 1
          },
          "autotypenumbers": "strict",
          "coloraxis": {
           "colorbar": {
            "outlinewidth": 0,
            "ticks": ""
           }
          },
          "colorscale": {
           "diverging": [
            [
             0,
             "#8e0152"
            ],
            [
             0.1,
             "#c51b7d"
            ],
            [
             0.2,
             "#de77ae"
            ],
            [
             0.3,
             "#f1b6da"
            ],
            [
             0.4,
             "#fde0ef"
            ],
            [
             0.5,
             "#f7f7f7"
            ],
            [
             0.6,
             "#e6f5d0"
            ],
            [
             0.7,
             "#b8e186"
            ],
            [
             0.8,
             "#7fbc41"
            ],
            [
             0.9,
             "#4d9221"
            ],
            [
             1,
             "#276419"
            ]
           ],
           "sequential": [
            [
             0,
             "#0d0887"
            ],
            [
             0.1111111111111111,
             "#46039f"
            ],
            [
             0.2222222222222222,
             "#7201a8"
            ],
            [
             0.3333333333333333,
             "#9c179e"
            ],
            [
             0.4444444444444444,
             "#bd3786"
            ],
            [
             0.5555555555555556,
             "#d8576b"
            ],
            [
             0.6666666666666666,
             "#ed7953"
            ],
            [
             0.7777777777777778,
             "#fb9f3a"
            ],
            [
             0.8888888888888888,
             "#fdca26"
            ],
            [
             1,
             "#f0f921"
            ]
           ],
           "sequentialminus": [
            [
             0,
             "#0d0887"
            ],
            [
             0.1111111111111111,
             "#46039f"
            ],
            [
             0.2222222222222222,
             "#7201a8"
            ],
            [
             0.3333333333333333,
             "#9c179e"
            ],
            [
             0.4444444444444444,
             "#bd3786"
            ],
            [
             0.5555555555555556,
             "#d8576b"
            ],
            [
             0.6666666666666666,
             "#ed7953"
            ],
            [
             0.7777777777777778,
             "#fb9f3a"
            ],
            [
             0.8888888888888888,
             "#fdca26"
            ],
            [
             1,
             "#f0f921"
            ]
           ]
          },
          "colorway": [
           "#636efa",
           "#EF553B",
           "#00cc96",
           "#ab63fa",
           "#FFA15A",
           "#19d3f3",
           "#FF6692",
           "#B6E880",
           "#FF97FF",
           "#FECB52"
          ],
          "font": {
           "color": "#2a3f5f"
          },
          "geo": {
           "bgcolor": "white",
           "lakecolor": "white",
           "landcolor": "#E5ECF6",
           "showlakes": true,
           "showland": true,
           "subunitcolor": "white"
          },
          "hoverlabel": {
           "align": "left"
          },
          "hovermode": "closest",
          "mapbox": {
           "style": "light"
          },
          "paper_bgcolor": "white",
          "plot_bgcolor": "#E5ECF6",
          "polar": {
           "angularaxis": {
            "gridcolor": "white",
            "linecolor": "white",
            "ticks": ""
           },
           "bgcolor": "#E5ECF6",
           "radialaxis": {
            "gridcolor": "white",
            "linecolor": "white",
            "ticks": ""
           }
          },
          "scene": {
           "xaxis": {
            "backgroundcolor": "#E5ECF6",
            "gridcolor": "white",
            "gridwidth": 2,
            "linecolor": "white",
            "showbackground": true,
            "ticks": "",
            "zerolinecolor": "white"
           },
           "yaxis": {
            "backgroundcolor": "#E5ECF6",
            "gridcolor": "white",
            "gridwidth": 2,
            "linecolor": "white",
            "showbackground": true,
            "ticks": "",
            "zerolinecolor": "white"
           },
           "zaxis": {
            "backgroundcolor": "#E5ECF6",
            "gridcolor": "white",
            "gridwidth": 2,
            "linecolor": "white",
            "showbackground": true,
            "ticks": "",
            "zerolinecolor": "white"
           }
          },
          "shapedefaults": {
           "line": {
            "color": "#2a3f5f"
           }
          },
          "ternary": {
           "aaxis": {
            "gridcolor": "white",
            "linecolor": "white",
            "ticks": ""
           },
           "baxis": {
            "gridcolor": "white",
            "linecolor": "white",
            "ticks": ""
           },
           "bgcolor": "#E5ECF6",
           "caxis": {
            "gridcolor": "white",
            "linecolor": "white",
            "ticks": ""
           }
          },
          "title": {
           "x": 0.05
          },
          "xaxis": {
           "automargin": true,
           "gridcolor": "white",
           "linecolor": "white",
           "ticks": "",
           "title": {
            "standoff": 15
           },
           "zerolinecolor": "white",
           "zerolinewidth": 2
          },
          "yaxis": {
           "automargin": true,
           "gridcolor": "white",
           "linecolor": "white",
           "ticks": "",
           "title": {
            "standoff": 15
           },
           "zerolinecolor": "white",
           "zerolinewidth": 2
          }
         }
        },
        "title": {
         "text": "Hourly Demand of Circuit C0"
        },
        "xaxis": {
         "anchor": "y",
         "domain": [
          0,
          1
         ],
         "title": {
          "text": "Hour"
         }
        },
        "yaxis": {
         "anchor": "x",
         "domain": [
          0,
          1
         ],
         "title": {
          "text": "Demand (kWh)"
         }
        }
       }
      }
     },
     "metadata": {},
     "output_type": "display_data"
    }
   ],
   "source": [
    "circuit_id = \"C0\"\n",
    "circuit = next(c for c in electric_system_circuits_list if c.id == circuit_id)\n",
    "\n",
    "block_demand_data = {\"Block ID\": [], \"Hour\": [], \"Demand\": []}\n",
    "\n",
    "for i, block in enumerate(circuit.blocks):\n",
    "    for hour, demand in enumerate(block.predicted_demand_per_hour):\n",
    "        block_demand_data[\"Block ID\"].append(f\"Block {i + 1}\")\n",
    "        block_demand_data[\"Hour\"].append(hour)\n",
    "        block_demand_data[\"Demand\"].append(demand)\n",
    "\n",
    "block_demand_df = pd.DataFrame(block_demand_data)\n",
    "\n",
    "fig_block_demand = px.line(\n",
    "    block_demand_df,\n",
    "    x=\"Hour\",\n",
    "    y=\"Demand\",\n",
    "    color=\"Block ID\",\n",
    "    title=f\"Hourly Demand per Block in Circuit {circuit_id}\",\n",
    "    labels={\"Demand\": \"Demand (kWh)\", \"Hour\": \"Hour\"},\n",
    ")\n",
    "\n",
    "fig_block_demand.show()\n",
    "\n",
    "circuit_demand_data = {\n",
    "    \"Hour\": list(range(24)),\n",
    "    \"Demand\": [\n",
    "        sum(block.predicted_demand_per_hour[hour] for block in circuit.blocks)\n",
    "        for hour in range(24)\n",
    "    ],\n",
    "}\n",
    "\n",
    "circuit_demand_df = pd.DataFrame(circuit_demand_data)\n",
    "\n",
    "fig_circuit_demand = px.line(\n",
    "    circuit_demand_df,\n",
    "    x=\"Hour\",\n",
    "    y=\"Demand\",\n",
    "    title=f\"Hourly Demand of Circuit {circuit_id}\",\n",
    "    labels={\"Demand\": \"Demand (kWh)\", \"Hour\": \"Hour\"},\n",
    ")\n",
    "\n",
    "fig_circuit_demand.show()"
   ]
  },
  {
   "cell_type": "markdown",
   "metadata": {},
   "source": [
    "# Simulation"
   ]
  },
  {
   "cell_type": "code",
   "execution_count": 25,
   "metadata": {},
   "outputs": [
    {
     "name": "stdout",
     "output_type": "stream",
     "text": [
      "agent perception\n",
      "[<src.part.Boiler object at 0x71f18bc510f0>, <src.part.Boiler object at 0x71f18bc516f0>, <src.part.Generator object at 0x71f18bc50340>, <src.part.Coils object at 0x71f18bc50490>, <src.part.SteamTurbine object at 0x71f18bc50610>]\n",
      "[(<src.part.Boiler object at 0x71f18bc510f0>, 4870.986561332986), (<src.part.Boiler object at 0x71f18bc516f0>, 4870.986561332986), (<src.part.Generator object at 0x71f18bc50340>, 0), (<src.part.Coils object at 0x71f18bc50490>, 0), (<src.part.SteamTurbine object at 0x71f18bc50610>, 0)]\n",
      "{\n",
      "            \"thermoelectric: {'id': 'Th0', 'total_capacity': 9741.973122665971, 'current_capacity': 0, 'stored_energy': 0, 'parts': [{'type': 'Boiler', 'is_working': True, 'estimated_remaining_life': 14.856244220034869}, {'type': 'Boiler', 'is_working': True, 'estimated_remaining_life': 57.666486693912624}, {'type': 'Generator', 'is_working': True, 'estimated_remaining_life': 10.413582103856283}, {'type': 'Coils', 'is_working': True, 'estimated_remaining_life': 146.0280288872935}, {'type': 'SteamTurbine', 'is_working': True, 'estimated_remaining_life': 87.00632247324644}]},\n",
      "            \"plant_status\": True,\n",
      "            \"parts_status\": [(<src.part.Boiler object at 0x71f18bc510f0>, True, 14.856244220034869), (<src.part.Boiler object at 0x71f18bc516f0>, True, 57.666486693912624), (<src.part.Generator object at 0x71f18bc50340>, True, 10.413582103856283), (<src.part.Coils object at 0x71f18bc50490>, True, 146.0280288872935), (<src.part.SteamTurbine object at 0x71f18bc50610>, True, 87.00632247324644)],\n",
      "            \"broken_parts\": [],\n",
      "            \"max_capacity\": 9741.973122665971,\n",
      "            \"current_capacity\": 0,\n",
      "            \"power_output_reduction_on_part_failure\": [('Part: Boiler,\\n            Repairing: False,\\n            Working: True,\\n            Remaining life: 33.69892810815604,\\n            Remaining repair days: None,\\n            Estimated remaining life: 14.856244220034869,\\n            Estimated repair days: None', 4870.986561332986), ('Part: Boiler,\\n            Repairing: False,\\n            Working: True,\\n            Remaining life: 2.863661361444916,\\n            Remaining repair days: None,\\n            Estimated remaining life: 57.666486693912624,\\n            Estimated repair days: None', 4870.986561332986), ('Part: Generator,\\n            Repairing: False,\\n            Working: True,\\n            Remaining life: 137.29565513264728,\\n            Remaining repair days: None,\\n            Estimated remaining life: 10.413582103856283,\\n            Estimated repair days: None', 0), ('Part: Coils,\\n            Repairing: False,\\n            Working: True,\\n            Remaining life: 72.85044324318251,\\n            Remaining repair days: None,\\n            Estimated remaining life: 146.0280288872935,\\n            Estimated repair days: None', 0), ('Part: SteamTurbine,\\n            Repairing: False,\\n            Working: True,\\n            Remaining life: 19.651922427391494,\\n            Remaining repair days: None,\\n            Estimated remaining life: 87.00632247324644,\\n            Estimated repair days: None', 0)],\n",
      "            \"general_deficit\": 0,\n",
      "            \"general_demand\": 0,\n",
      "            \"general_offer\": 0,\n",
      "        }\n",
      "agent perception\n",
      "[<src.part.Boiler object at 0x71f18df7b3a0>, <src.part.Boiler object at 0x71f18de03190>, <src.part.Generator object at 0x71f18de03100>, <src.part.Coils object at 0x71f18de00100>, <src.part.SteamTurbine object at 0x71f18bc505b0>]\n",
      "[(<src.part.Boiler object at 0x71f18df7b3a0>, 5606.354325886191), (<src.part.Boiler object at 0x71f18de03190>, 5606.354325886191), (<src.part.Generator object at 0x71f18de03100>, 0), (<src.part.Coils object at 0x71f18de00100>, 0), (<src.part.SteamTurbine object at 0x71f18bc505b0>, 0)]\n",
      "{\n",
      "            \"thermoelectric: {'id': 'Th1', 'total_capacity': 11212.708651772382, 'current_capacity': 0, 'stored_energy': 0, 'parts': [{'type': 'Boiler', 'is_working': True, 'estimated_remaining_life': 32.11152560264231}, {'type': 'Boiler', 'is_working': True, 'estimated_remaining_life': 95.36383877883742}, {'type': 'Generator', 'is_working': True, 'estimated_remaining_life': 19.897791921540442}, {'type': 'Coils', 'is_working': True, 'estimated_remaining_life': 49.57597954998456}, {'type': 'SteamTurbine', 'is_working': True, 'estimated_remaining_life': 6.762216478040733}]},\n",
      "            \"plant_status\": True,\n",
      "            \"parts_status\": [(<src.part.Boiler object at 0x71f18df7b3a0>, True, 32.11152560264231), (<src.part.Boiler object at 0x71f18de03190>, True, 95.36383877883742), (<src.part.Generator object at 0x71f18de03100>, True, 19.897791921540442), (<src.part.Coils object at 0x71f18de00100>, True, 49.57597954998456), (<src.part.SteamTurbine object at 0x71f18bc505b0>, True, 6.762216478040733)],\n",
      "            \"broken_parts\": [],\n",
      "            \"max_capacity\": 11212.708651772382,\n",
      "            \"current_capacity\": 0,\n",
      "            \"power_output_reduction_on_part_failure\": [('Part: Boiler,\\n            Repairing: False,\\n            Working: True,\\n            Remaining life: 35.42239820885211,\\n            Remaining repair days: None,\\n            Estimated remaining life: 32.11152560264231,\\n            Estimated repair days: None', 5606.354325886191), ('Part: Boiler,\\n            Repairing: False,\\n            Working: True,\\n            Remaining life: 66.3951960476683,\\n            Remaining repair days: None,\\n            Estimated remaining life: 95.36383877883742,\\n            Estimated repair days: None', 5606.354325886191), ('Part: Generator,\\n            Repairing: False,\\n            Working: True,\\n            Remaining life: 60.66358156037643,\\n            Remaining repair days: None,\\n            Estimated remaining life: 19.897791921540442,\\n            Estimated repair days: None', 0), ('Part: Coils,\\n            Repairing: False,\\n            Working: True,\\n            Remaining life: 126.89477145669296,\\n            Remaining repair days: None,\\n            Estimated remaining life: 49.57597954998456,\\n            Estimated repair days: None', 0), ('Part: SteamTurbine,\\n            Repairing: False,\\n            Working: True,\\n            Remaining life: 297.1885783724729,\\n            Remaining repair days: None,\\n            Estimated remaining life: 6.762216478040733,\\n            Estimated repair days: None', 0)],\n",
      "            \"general_deficit\": 0,\n",
      "            \"general_demand\": 0,\n",
      "            \"general_offer\": 0,\n",
      "        }\n",
      "agent perception\n",
      "[<src.part.Boiler object at 0x71f18bc502b0>, <src.part.Boiler object at 0x71f18bc52d70>, <src.part.Boiler object at 0x71f18bc1ab60>, <src.part.Generator object at 0x71f18bc1ace0>, <src.part.Coils object at 0x71f18bc1ba30>, <src.part.SteamTurbine object at 0x71f18bc1a230>]\n",
      "[(<src.part.Boiler object at 0x71f18bc502b0>, 6279.481564734472), (<src.part.Boiler object at 0x71f18bc52d70>, 6279.481564734472), (<src.part.Boiler object at 0x71f18bc1ab60>, 6279.481564734472), (<src.part.Generator object at 0x71f18bc1ace0>, 0), (<src.part.Coils object at 0x71f18bc1ba30>, 0), (<src.part.SteamTurbine object at 0x71f18bc1a230>, 0)]\n",
      "{\n",
      "            \"thermoelectric: {'id': 'Th2', 'total_capacity': 18838.444694203416, 'current_capacity': 0, 'stored_energy': 0, 'parts': [{'type': 'Boiler', 'is_working': True, 'estimated_remaining_life': 46.66610902173382}, {'type': 'Boiler', 'is_working': True, 'estimated_remaining_life': 6.097344701998477}, {'type': 'Boiler', 'is_working': True, 'estimated_remaining_life': 19.29728951983457}, {'type': 'Generator', 'is_working': True, 'estimated_remaining_life': 466.53764168405064}, {'type': 'Coils', 'is_working': True, 'estimated_remaining_life': 59.573748776820516}, {'type': 'SteamTurbine', 'is_working': True, 'estimated_remaining_life': 16.136436869629296}]},\n",
      "            \"plant_status\": True,\n",
      "            \"parts_status\": [(<src.part.Boiler object at 0x71f18bc502b0>, True, 46.66610902173382), (<src.part.Boiler object at 0x71f18bc52d70>, True, 6.097344701998477), (<src.part.Boiler object at 0x71f18bc1ab60>, True, 19.29728951983457), (<src.part.Generator object at 0x71f18bc1ace0>, True, 466.53764168405064), (<src.part.Coils object at 0x71f18bc1ba30>, True, 59.573748776820516), (<src.part.SteamTurbine object at 0x71f18bc1a230>, True, 16.136436869629296)],\n",
      "            \"broken_parts\": [],\n",
      "            \"max_capacity\": 18838.444694203416,\n",
      "            \"current_capacity\": 0,\n",
      "            \"power_output_reduction_on_part_failure\": [('Part: Boiler,\\n            Repairing: False,\\n            Working: True,\\n            Remaining life: 131.55349013320713,\\n            Remaining repair days: None,\\n            Estimated remaining life: 46.66610902173382,\\n            Estimated repair days: None', 6279.481564734472), ('Part: Boiler,\\n            Repairing: False,\\n            Working: True,\\n            Remaining life: 193.80258396305123,\\n            Remaining repair days: None,\\n            Estimated remaining life: 6.097344701998477,\\n            Estimated repair days: None', 6279.481564734472), ('Part: Boiler,\\n            Repairing: False,\\n            Working: True,\\n            Remaining life: 2.0009896586523053,\\n            Remaining repair days: None,\\n            Estimated remaining life: 19.29728951983457,\\n            Estimated repair days: None', 6279.481564734472), ('Part: Generator,\\n            Repairing: False,\\n            Working: True,\\n            Remaining life: 249.6045789162135,\\n            Remaining repair days: None,\\n            Estimated remaining life: 466.53764168405064,\\n            Estimated repair days: None', 0), ('Part: Coils,\\n            Repairing: False,\\n            Working: True,\\n            Remaining life: 16.12014023822974,\\n            Remaining repair days: None,\\n            Estimated remaining life: 59.573748776820516,\\n            Estimated repair days: None', 0), ('Part: SteamTurbine,\\n            Repairing: False,\\n            Working: True,\\n            Remaining life: 485.1368374095224,\\n            Remaining repair days: None,\\n            Estimated remaining life: 16.136436869629296,\\n            Estimated repair days: None', 0)],\n",
      "            \"general_deficit\": 0,\n",
      "            \"general_demand\": 0,\n",
      "            \"general_offer\": 0,\n",
      "        }\n",
      "agent perception\n",
      "[<src.part.Boiler object at 0x71f18bc50cd0>, <src.part.Boiler object at 0x71f18bc513c0>, <src.part.Boiler object at 0x71f18bc19720>, <src.part.Boiler object at 0x71f18bc1a0e0>, <src.part.Generator object at 0x71f18bc1a110>, <src.part.Coils object at 0x71f18bc1b280>, <src.part.SteamTurbine object at 0x71f18bc1a410>]\n",
      "[(<src.part.Boiler object at 0x71f18bc50cd0>, 7549.882256336706), (<src.part.Boiler object at 0x71f18bc513c0>, 7549.882256336706), (<src.part.Boiler object at 0x71f18bc19720>, 7549.882256336706), (<src.part.Boiler object at 0x71f18bc1a0e0>, 7549.882256336706), (<src.part.Generator object at 0x71f18bc1a110>, 0), (<src.part.Coils object at 0x71f18bc1b280>, 0), (<src.part.SteamTurbine object at 0x71f18bc1a410>, 0)]\n",
      "{\n",
      "            \"thermoelectric: {'id': 'Th3', 'total_capacity': 30199.529025346823, 'current_capacity': 0, 'stored_energy': 0, 'parts': [{'type': 'Boiler', 'is_working': True, 'estimated_remaining_life': 16.91648358867103}, {'type': 'Boiler', 'is_working': True, 'estimated_remaining_life': 17.325715045718297}, {'type': 'Boiler', 'is_working': True, 'estimated_remaining_life': 35.317314982988535}, {'type': 'Boiler', 'is_working': True, 'estimated_remaining_life': 10.18743382431229}, {'type': 'Generator', 'is_working': True, 'estimated_remaining_life': 99.59569756331099}, {'type': 'Coils', 'is_working': True, 'estimated_remaining_life': 12.811273272639237}, {'type': 'SteamTurbine', 'is_working': True, 'estimated_remaining_life': 52.414174817598706}]},\n",
      "            \"plant_status\": True,\n",
      "            \"parts_status\": [(<src.part.Boiler object at 0x71f18bc50cd0>, True, 16.91648358867103), (<src.part.Boiler object at 0x71f18bc513c0>, True, 17.325715045718297), (<src.part.Boiler object at 0x71f18bc19720>, True, 35.317314982988535), (<src.part.Boiler object at 0x71f18bc1a0e0>, True, 10.18743382431229), (<src.part.Generator object at 0x71f18bc1a110>, True, 99.59569756331099), (<src.part.Coils object at 0x71f18bc1b280>, True, 12.811273272639237), (<src.part.SteamTurbine object at 0x71f18bc1a410>, True, 52.414174817598706)],\n",
      "            \"broken_parts\": [],\n",
      "            \"max_capacity\": 30199.529025346823,\n",
      "            \"current_capacity\": 0,\n",
      "            \"power_output_reduction_on_part_failure\": [('Part: Boiler,\\n            Repairing: False,\\n            Working: True,\\n            Remaining life: 19.85389235740179,\\n            Remaining repair days: None,\\n            Estimated remaining life: 16.91648358867103,\\n            Estimated repair days: None', 7549.882256336706), ('Part: Boiler,\\n            Repairing: False,\\n            Working: True,\\n            Remaining life: 7.497999081606397,\\n            Remaining repair days: None,\\n            Estimated remaining life: 17.325715045718297,\\n            Estimated repair days: None', 7549.882256336706), ('Part: Boiler,\\n            Repairing: False,\\n            Working: True,\\n            Remaining life: 131.03537706144013,\\n            Remaining repair days: None,\\n            Estimated remaining life: 35.317314982988535,\\n            Estimated repair days: None', 7549.882256336706), ('Part: Boiler,\\n            Repairing: False,\\n            Working: True,\\n            Remaining life: 53.224515975885296,\\n            Remaining repair days: None,\\n            Estimated remaining life: 10.18743382431229,\\n            Estimated repair days: None', 7549.882256336706), ('Part: Generator,\\n            Repairing: False,\\n            Working: True,\\n            Remaining life: 101.17543543591395,\\n            Remaining repair days: None,\\n            Estimated remaining life: 99.59569756331099,\\n            Estimated repair days: None', 0), ('Part: Coils,\\n            Repairing: False,\\n            Working: True,\\n            Remaining life: 121.66776259145962,\\n            Remaining repair days: None,\\n            Estimated remaining life: 12.811273272639237,\\n            Estimated repair days: None', 0), ('Part: SteamTurbine,\\n            Repairing: False,\\n            Working: True,\\n            Remaining life: 80.69970423658259,\\n            Remaining repair days: None,\\n            Estimated remaining life: 52.414174817598706,\\n            Estimated repair days: None', 0)],\n",
      "            \"general_deficit\": 0,\n",
      "            \"general_demand\": 0,\n",
      "            \"general_offer\": 0,\n",
      "        }\n",
      "agent perception\n",
      "[<src.part.Boiler object at 0x71f18bc1aa10>, <src.part.Boiler object at 0x71f18bc1a320>, <src.part.Generator object at 0x71f18bc1b2e0>, <src.part.Coils object at 0x71f18bc1a050>, <src.part.SteamTurbine object at 0x71f18bc19450>]\n",
      "[(<src.part.Boiler object at 0x71f18bc1aa10>, 3641.556174142723), (<src.part.Boiler object at 0x71f18bc1a320>, 3641.556174142723), (<src.part.Generator object at 0x71f18bc1b2e0>, 0), (<src.part.Coils object at 0x71f18bc1a050>, 0), (<src.part.SteamTurbine object at 0x71f18bc19450>, 0)]\n",
      "{\n",
      "            \"thermoelectric: {'id': 'Th4', 'total_capacity': 7283.112348285446, 'current_capacity': 0, 'stored_energy': 0, 'parts': [{'type': 'Boiler', 'is_working': True, 'estimated_remaining_life': 34.105303261918046}, {'type': 'Boiler', 'is_working': True, 'estimated_remaining_life': 49.750574369541525}, {'type': 'Generator', 'is_working': True, 'estimated_remaining_life': 146.3833866067393}, {'type': 'Coils', 'is_working': True, 'estimated_remaining_life': 117.11736968821214}, {'type': 'SteamTurbine', 'is_working': True, 'estimated_remaining_life': 125.5770775837062}]},\n",
      "            \"plant_status\": True,\n",
      "            \"parts_status\": [(<src.part.Boiler object at 0x71f18bc1aa10>, True, 34.105303261918046), (<src.part.Boiler object at 0x71f18bc1a320>, True, 49.750574369541525), (<src.part.Generator object at 0x71f18bc1b2e0>, True, 146.3833866067393), (<src.part.Coils object at 0x71f18bc1a050>, True, 117.11736968821214), (<src.part.SteamTurbine object at 0x71f18bc19450>, True, 125.5770775837062)],\n",
      "            \"broken_parts\": [],\n",
      "            \"max_capacity\": 7283.112348285446,\n",
      "            \"current_capacity\": 0,\n",
      "            \"power_output_reduction_on_part_failure\": [('Part: Boiler,\\n            Repairing: False,\\n            Working: True,\\n            Remaining life: 87.72342848306313,\\n            Remaining repair days: None,\\n            Estimated remaining life: 34.105303261918046,\\n            Estimated repair days: None', 3641.556174142723), ('Part: Boiler,\\n            Repairing: False,\\n            Working: True,\\n            Remaining life: 102.04117926326877,\\n            Remaining repair days: None,\\n            Estimated remaining life: 49.750574369541525,\\n            Estimated repair days: None', 3641.556174142723), ('Part: Generator,\\n            Repairing: False,\\n            Working: True,\\n            Remaining life: 56.97374005191249,\\n            Remaining repair days: None,\\n            Estimated remaining life: 146.3833866067393,\\n            Estimated repair days: None', 0), ('Part: Coils,\\n            Repairing: False,\\n            Working: True,\\n            Remaining life: 74.97581495543471,\\n            Remaining repair days: None,\\n            Estimated remaining life: 117.11736968821214,\\n            Estimated repair days: None', 0), ('Part: SteamTurbine,\\n            Repairing: False,\\n            Working: True,\\n            Remaining life: 51.29619032627227,\\n            Remaining repair days: None,\\n            Estimated remaining life: 125.5770775837062,\\n            Estimated repair days: None', 0)],\n",
      "            \"general_deficit\": 0,\n",
      "            \"general_demand\": 0,\n",
      "            \"general_offer\": 0,\n",
      "        }\n",
      "agent perception\n",
      "[<src.part.Boiler object at 0x71f18bc1a8c0>, <src.part.Generator object at 0x71f18bc19ba0>, <src.part.Coils object at 0x71f18bc1acb0>, <src.part.SteamTurbine object at 0x71f18bc1bbe0>]\n",
      "[(<src.part.Boiler object at 0x71f18bc1a8c0>, 5992.451512996686), (<src.part.Generator object at 0x71f18bc19ba0>, 0), (<src.part.Coils object at 0x71f18bc1acb0>, 0), (<src.part.SteamTurbine object at 0x71f18bc1bbe0>, 0)]\n",
      "{\n",
      "            \"thermoelectric: {'id': 'Th5', 'total_capacity': 5992.451512996686, 'current_capacity': 0, 'stored_energy': 0, 'parts': [{'type': 'Boiler', 'is_working': True, 'estimated_remaining_life': 21.613021784485134}, {'type': 'Generator', 'is_working': True, 'estimated_remaining_life': 60.923817882007874}, {'type': 'Coils', 'is_working': True, 'estimated_remaining_life': 69.2288069853426}, {'type': 'SteamTurbine', 'is_working': True, 'estimated_remaining_life': 10.02144062377357}]},\n",
      "            \"plant_status\": True,\n",
      "            \"parts_status\": [(<src.part.Boiler object at 0x71f18bc1a8c0>, True, 21.613021784485134), (<src.part.Generator object at 0x71f18bc19ba0>, True, 60.923817882007874), (<src.part.Coils object at 0x71f18bc1acb0>, True, 69.2288069853426), (<src.part.SteamTurbine object at 0x71f18bc1bbe0>, True, 10.02144062377357)],\n",
      "            \"broken_parts\": [],\n",
      "            \"max_capacity\": 5992.451512996686,\n",
      "            \"current_capacity\": 0,\n",
      "            \"power_output_reduction_on_part_failure\": [('Part: Boiler,\\n            Repairing: False,\\n            Working: True,\\n            Remaining life: 65.70935578463494,\\n            Remaining repair days: None,\\n            Estimated remaining life: 21.613021784485134,\\n            Estimated repair days: None', 5992.451512996686), ('Part: Generator,\\n            Repairing: False,\\n            Working: True,\\n            Remaining life: 155.68136864095007,\\n            Remaining repair days: None,\\n            Estimated remaining life: 60.923817882007874,\\n            Estimated repair days: None', 0), ('Part: Coils,\\n            Repairing: False,\\n            Working: True,\\n            Remaining life: 120.29438066670366,\\n            Remaining repair days: None,\\n            Estimated remaining life: 69.2288069853426,\\n            Estimated repair days: None', 0), ('Part: SteamTurbine,\\n            Repairing: False,\\n            Working: True,\\n            Remaining life: 58.524602031913446,\\n            Remaining repair days: None,\\n            Estimated remaining life: 10.02144062377357,\\n            Estimated repair days: None', 0)],\n",
      "            \"general_deficit\": 0,\n",
      "            \"general_demand\": 0,\n",
      "            \"general_offer\": 0,\n",
      "        }\n",
      "agent perception\n",
      "[<src.part.Boiler object at 0x71f18bc19ed0>, <src.part.Boiler object at 0x71f18bc1b3a0>, <src.part.Boiler object at 0x71f18bc1b310>, <src.part.Generator object at 0x71f18bc1b0a0>, <src.part.Coils object at 0x71f18bc1afb0>, <src.part.SteamTurbine object at 0x71f18bc19d50>]\n",
      "[(<src.part.Boiler object at 0x71f18bc19ed0>, 6495.725659526546), (<src.part.Boiler object at 0x71f18bc1b3a0>, 6495.725659526546), (<src.part.Boiler object at 0x71f18bc1b310>, 6495.725659526546), (<src.part.Generator object at 0x71f18bc1b0a0>, 0), (<src.part.Coils object at 0x71f18bc1afb0>, 0), (<src.part.SteamTurbine object at 0x71f18bc19d50>, 0)]\n",
      "{\n",
      "            \"thermoelectric: {'id': 'Th6', 'total_capacity': 19487.17697857964, 'current_capacity': 0, 'stored_energy': 0, 'parts': [{'type': 'Boiler', 'is_working': True, 'estimated_remaining_life': 23.83133651508623}, {'type': 'Boiler', 'is_working': True, 'estimated_remaining_life': 64.68429230974634}, {'type': 'Boiler', 'is_working': True, 'estimated_remaining_life': 64.90209580244056}, {'type': 'Generator', 'is_working': True, 'estimated_remaining_life': 37.52379450199639}, {'type': 'Coils', 'is_working': True, 'estimated_remaining_life': 69.15232348815022}, {'type': 'SteamTurbine', 'is_working': True, 'estimated_remaining_life': 220.38357468157332}]},\n",
      "            \"plant_status\": True,\n",
      "            \"parts_status\": [(<src.part.Boiler object at 0x71f18bc19ed0>, True, 23.83133651508623), (<src.part.Boiler object at 0x71f18bc1b3a0>, True, 64.68429230974634), (<src.part.Boiler object at 0x71f18bc1b310>, True, 64.90209580244056), (<src.part.Generator object at 0x71f18bc1b0a0>, True, 37.52379450199639), (<src.part.Coils object at 0x71f18bc1afb0>, True, 69.15232348815022), (<src.part.SteamTurbine object at 0x71f18bc19d50>, True, 220.38357468157332)],\n",
      "            \"broken_parts\": [],\n",
      "            \"max_capacity\": 19487.17697857964,\n",
      "            \"current_capacity\": 0,\n",
      "            \"power_output_reduction_on_part_failure\": [('Part: Boiler,\\n            Repairing: False,\\n            Working: True,\\n            Remaining life: 18.89464452640137,\\n            Remaining repair days: None,\\n            Estimated remaining life: 23.83133651508623,\\n            Estimated repair days: None', 6495.725659526546), ('Part: Boiler,\\n            Repairing: False,\\n            Working: True,\\n            Remaining life: 129.84930112069085,\\n            Remaining repair days: None,\\n            Estimated remaining life: 64.68429230974634,\\n            Estimated repair days: None', 6495.725659526546), ('Part: Boiler,\\n            Repairing: False,\\n            Working: True,\\n            Remaining life: 24.836225511219897,\\n            Remaining repair days: None,\\n            Estimated remaining life: 64.90209580244056,\\n            Estimated repair days: None', 6495.725659526546), ('Part: Generator,\\n            Repairing: False,\\n            Working: True,\\n            Remaining life: 32.170632547127106,\\n            Remaining repair days: None,\\n            Estimated remaining life: 37.52379450199639,\\n            Estimated repair days: None', 0), ('Part: Coils,\\n            Repairing: False,\\n            Working: True,\\n            Remaining life: 147.90495369931324,\\n            Remaining repair days: None,\\n            Estimated remaining life: 69.15232348815022,\\n            Estimated repair days: None', 0), ('Part: SteamTurbine,\\n            Repairing: False,\\n            Working: True,\\n            Remaining life: 418.14894533516434,\\n            Remaining repair days: None,\\n            Estimated remaining life: 220.38357468157332,\\n            Estimated repair days: None', 0)],\n",
      "            \"general_deficit\": 0,\n",
      "            \"general_demand\": 0,\n",
      "            \"general_offer\": 0,\n",
      "        }\n",
      "agent perception\n",
      "[<src.part.Boiler object at 0x71f18bc1a980>, <src.part.Boiler object at 0x71f18bc19f30>, <src.part.Boiler object at 0x71f18bc19e70>, <src.part.Generator object at 0x71f18d7a5d50>, <src.part.Coils object at 0x71f18d7a54e0>, <src.part.SteamTurbine object at 0x71f18bda4070>]\n",
      "[(<src.part.Boiler object at 0x71f18bc1a980>, 6775.739659171173), (<src.part.Boiler object at 0x71f18bc19f30>, 6775.739659171173), (<src.part.Boiler object at 0x71f18bc19e70>, 6775.739659171173), (<src.part.Generator object at 0x71f18d7a5d50>, 0), (<src.part.Coils object at 0x71f18d7a54e0>, 0), (<src.part.SteamTurbine object at 0x71f18bda4070>, 0)]\n",
      "{\n",
      "            \"thermoelectric: {'id': 'Th7', 'total_capacity': 20327.21897751352, 'current_capacity': 0, 'stored_energy': 0, 'parts': [{'type': 'Boiler', 'is_working': True, 'estimated_remaining_life': 61.443818235144505}, {'type': 'Boiler', 'is_working': True, 'estimated_remaining_life': 5.720360221694415}, {'type': 'Boiler', 'is_working': True, 'estimated_remaining_life': 29.151306698957594}, {'type': 'Generator', 'is_working': True, 'estimated_remaining_life': 126.54319706504641}, {'type': 'Coils', 'is_working': True, 'estimated_remaining_life': 140.17994617252617}, {'type': 'SteamTurbine', 'is_working': True, 'estimated_remaining_life': 30.65579679181604}]},\n",
      "            \"plant_status\": True,\n",
      "            \"parts_status\": [(<src.part.Boiler object at 0x71f18bc1a980>, True, 61.443818235144505), (<src.part.Boiler object at 0x71f18bc19f30>, True, 5.720360221694415), (<src.part.Boiler object at 0x71f18bc19e70>, True, 29.151306698957594), (<src.part.Generator object at 0x71f18d7a5d50>, True, 126.54319706504641), (<src.part.Coils object at 0x71f18d7a54e0>, True, 140.17994617252617), (<src.part.SteamTurbine object at 0x71f18bda4070>, True, 30.65579679181604)],\n",
      "            \"broken_parts\": [],\n",
      "            \"max_capacity\": 20327.21897751352,\n",
      "            \"current_capacity\": 0,\n",
      "            \"power_output_reduction_on_part_failure\": [('Part: Boiler,\\n            Repairing: False,\\n            Working: True,\\n            Remaining life: 3.189808061591303,\\n            Remaining repair days: None,\\n            Estimated remaining life: 61.443818235144505,\\n            Estimated repair days: None', 6775.739659171173), ('Part: Boiler,\\n            Repairing: False,\\n            Working: True,\\n            Remaining life: 3.4096435626134376,\\n            Remaining repair days: None,\\n            Estimated remaining life: 5.720360221694415,\\n            Estimated repair days: None', 6775.739659171173), ('Part: Boiler,\\n            Repairing: False,\\n            Working: True,\\n            Remaining life: 109.1267128749565,\\n            Remaining repair days: None,\\n            Estimated remaining life: 29.151306698957594,\\n            Estimated repair days: None', 6775.739659171173), ('Part: Generator,\\n            Repairing: False,\\n            Working: True,\\n            Remaining life: 75.37685449247398,\\n            Remaining repair days: None,\\n            Estimated remaining life: 126.54319706504641,\\n            Estimated repair days: None', 0), ('Part: Coils,\\n            Repairing: False,\\n            Working: True,\\n            Remaining life: 19.601843576671833,\\n            Remaining repair days: None,\\n            Estimated remaining life: 140.17994617252617,\\n            Estimated repair days: None', 0), ('Part: SteamTurbine,\\n            Repairing: False,\\n            Working: True,\\n            Remaining life: 12.934501538599466,\\n            Remaining repair days: None,\\n            Estimated remaining life: 30.65579679181604,\\n            Estimated repair days: None', 0)],\n",
      "            \"general_deficit\": 0,\n",
      "            \"general_demand\": 0,\n",
      "            \"general_offer\": 0,\n",
      "        }\n"
     ]
    }
   ],
   "source": [
    "from src.people import ThermoelectricAgent, ThermoelectricAgentPerception\n",
    "from src.worldstate import WorldState\n",
    "\n",
    "\n",
    "class Simulation:\n",
    "    def __init__(\n",
    "        self,\n",
    "        circuits: list[Circuit],\n",
    "        thermoelectrics: list[Thermoelectric],\n",
    "        distance_matrix: list[list[float]],\n",
    "        get_circuit_importance: callable,\n",
    "        get_block_importance: callable,\n",
    "    ):\n",
    "        self.world_state_manager = WorldState(\n",
    "            circuits=circuits,\n",
    "            thermoelectrics=thermoelectrics,\n",
    "            distance_matrix=distance_matrix,\n",
    "            get_block_importance=get_block_importance,\n",
    "            get_circuit_importance=get_circuit_importance,\n",
    "        )\n",
    "\n",
    "        self.thermoelectric_agents: list[ThermoelectricAgent] = []\n",
    "\n",
    "    def create_thermoelectric_agent_perception(\n",
    "        self, thermoelectric\n",
    "    ) -> ThermoelectricAgentPerception:\n",
    "\n",
    "        return ThermoelectricAgentPerception(\n",
    "            thermoelectric=thermoelectric,\n",
    "            general_deficit=self.world_state_manager.general_deficit,\n",
    "            general_demand=self.world_state_manager.general_demand,\n",
    "            general_offer=self.world_state_manager.general_offer,\n",
    "        )\n",
    "\n",
    "    def simulate(self, simulation_days=50):\n",
    "\n",
    "        for thermoelectric in self.world_state_manager.thermoelectrics:\n",
    "            agent_initial_perception = self.create_thermoelectric_agent_perception(thermoelectric=thermoelectric)\n",
    "            print(\"agent perception\")\n",
    "            print(agent_initial_perception)\n",
    "            thermoelectric_agent = ThermoelectricAgent(\n",
    "                name=f\"Agent of {thermoelectric.id}\",\n",
    "                thermoelectric=thermoelectric,\n",
    "                perception=agent_initial_perception,\n",
    "            )\n",
    "\n",
    "            self.thermoelectric_agents.append(thermoelectric_agent)\n",
    "\n",
    "    # check progress\n",
    "\n",
    "    # for agent in self.thermoelectric_agents:\n",
    "    #     print(agent)\n",
    "\n",
    "\n",
    "simulation = Simulation(\n",
    "    circuits=electric_system_circuits_list,\n",
    "    thermoelectrics=electric_system_thermoelectrics_list,\n",
    "    distance_matrix=matrix,\n",
    "    get_circuit_importance=get_circuit_importance,\n",
    "    get_block_importance=get_block_importance,\n",
    ")\n",
    "\n",
    "simulation.simulate()"
   ]
  }
 ],
 "metadata": {
  "kernelspec": {
   "display_name": "base",
   "language": "python",
   "name": "python3"
  },
  "language_info": {
   "codemirror_mode": {
    "name": "ipython",
    "version": 3
   },
   "file_extension": ".py",
   "mimetype": "text/x-python",
   "name": "python",
   "nbconvert_exporter": "python",
   "pygments_lexer": "ipython3",
   "version": "3.11.10"
  }
 },
 "nbformat": 4,
 "nbformat_minor": 2
}
