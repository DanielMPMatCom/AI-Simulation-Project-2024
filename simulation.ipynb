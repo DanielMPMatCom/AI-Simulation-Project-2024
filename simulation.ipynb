{
 "cells": [
  {
   "cell_type": "markdown",
   "metadata": {},
   "source": [
    "# Simulation of an Electric System based on Thermoelectrics Plants"
   ]
  },
  {
   "cell_type": "code",
   "execution_count": 73,
   "metadata": {},
   "outputs": [],
   "source": [
    "from src.map import Map2D, GraphMap\n",
    "from src.utils.gaussianmixture import DailyElectricityConsumptionBimodal\n",
    "from src.circuits import Circuit, Block\n",
    "from src.thermoelectrics import Thermoelectric\n",
    "from src.part import Coils, Boiler, Generator, SteamTurbine\n",
    "import pandas as pd\n",
    "import plotly.express as px\n",
    "from numpy import random\n",
    "\n",
    "from src.simulation_constants import (\n",
    "    NO_CIRCUITS,\n",
    "    NO_THERMOELECTRICS,\n",
    "    MIN_CITIZEN,\n",
    "    MAX_CITIZEN,\n",
    "    MAX_DEVIATION_CITIZEN_IN_BLOCK,\n",
    "    DEMAND_PER_PERSON,\n",
    "    DEMAND_INDUSTRIALIZATION,\n",
    "    VARIABILITY_DEMAND_PER_PERSON,\n",
    "    VARIABILITY_DEMAND_PER_INDUSTRIALIZATION,\n",
    "    PEAK_CONSUMPTION_MORNING,\n",
    "    PEAK_CONSUMPTION_EVENING,\n",
    "    MAX_DEVIATION_MORNING,\n",
    "    MAX_DEVIATION_EVENING,\n",
    "    WEIGHT_MORNING,\n",
    "    WEIGHT_EVENING,\n",
    "    MIN_BLOCKS_PER_CIRCUIT,\n",
    "    MAX_BLOCKS_PER_CIRCUIT,\n",
    "    IMPORTANCE_ALPHA,\n",
    "    RANDOM_SEED,\n",
    "    DISTANCE_REGULATOR\n",
    ")\n",
    "\n",
    "SIMULATION_INTERNAL_RANDOM = random.default_rng(RANDOM_SEED)"
   ]
  },
  {
   "cell_type": "markdown",
   "metadata": {},
   "source": [
    "## Initialize bases "
   ]
  },
  {
   "cell_type": "code",
   "execution_count": 74,
   "metadata": {},
   "outputs": [
    {
     "data": {
      "application/vnd.plotly.v1+json": {
       "config": {
        "plotlyServerURL": "https://plot.ly"
       },
       "data": [
        {
         "marker": {
          "color": [
           3,
           6,
           1,
           7,
           7,
           0,
           4,
           5,
           0,
           0,
           3,
           2,
           0,
           7,
           4,
           3,
           7,
           2,
           0,
           3,
           5,
           3,
           0,
           5,
           3,
           7,
           0,
           0,
           1,
           5,
           3,
           1,
           0,
           7,
           6,
           3,
           1,
           4,
           0,
           7,
           1,
           4,
           0,
           0,
           3,
           7,
           0,
           3,
           0,
           7
          ],
          "colorscale": [
           [
            0,
            "#440154"
           ],
           [
            0.1111111111111111,
            "#482878"
           ],
           [
            0.2222222222222222,
            "#3e4989"
           ],
           [
            0.3333333333333333,
            "#31688e"
           ],
           [
            0.4444444444444444,
            "#26828e"
           ],
           [
            0.5555555555555556,
            "#1f9e89"
           ],
           [
            0.6666666666666666,
            "#35b779"
           ],
           [
            0.7777777777777778,
            "#6ece58"
           ],
           [
            0.8888888888888888,
            "#b5de2b"
           ],
           [
            1,
            "#fde725"
           ]
          ],
          "showscale": true,
          "size": 10
         },
         "mode": "markers",
         "name": "Circuits",
         "type": "scatter",
         "x": [
          77.77024105738202,
          82.42785326613685,
          97.26011139048933,
          60.90424627612779,
          64.16133447590691,
          3.5036524101437316,
          5.851249188207475,
          37.28540278748075,
          25.62799493266301,
          0.9412770080969413,
          94.90941816782103,
          31.93913663803646,
          3.190366643989473,
          62.982899910782294,
          0.8715732303784862,
          81.28411710026235,
          65.64553345969578,
          47.988339149638314,
          0.00120335694850926,
          71.22326779115835,
          27.699635638380947,
          91.85517481459487,
          45.80858172767637,
          37.93332914830662,
          77.2378759680558,
          68.60850791873135,
          13.798605275825725,
          24.555910532465564,
          92.59944794902178,
          23.76589218796833,
          55.663205143440265,
          83.97085104160709,
          14.48709890463251,
          49.064013706516086,
          98.4938457701008,
          49.904168390089396,
          91.3212806989643,
          22.658787689942837,
          13.635835175923795,
          59.53992453523792,
          95.89347319832972,
          12.895807457854048,
          20.163407511411524,
          43.71180126508111,
          96.72531085605694,
          84.4558532806118,
          10.930490807954563,
          96.64620412773903,
          8.190006001834515,
          65.01305180131334
         ],
         "y": [
          23.75412200349123,
          96.57491980429998,
          45.34492474173122,
          77.55265146048467,
          72.20182295169472,
          29.84494708891794,
          85.70609425871989,
          67.9847951578097,
          34.758121515249194,
          35.83337827049697,
          21.789900913168893,
          91.77723860005874,
          6.508453704251449,
          87.38134432795387,
          74.65772369939376,
          7.571744617226672,
          50.92622000835182,
          95.55741449310663,
          24.697870099191633,
          32.45820497867131,
          69.54454525534746,
          24.44757021979903,
          25.299268282150646,
          60.4538828631711,
          6.79174967944145,
          54.826009739582524,
          9.875321920491842,
          15.17866625844726,
          68.0105015604642,
          56.88852525565604,
          7.273721088434781,
          40.53194926981314,
          19.092005866659367,
          71.20243742497533,
          87.47865017350445,
          10.677999399370886,
          36.4915960886285,
          87.24318623454285,
          23.638016015282027,
          56.3922609078715,
          45.32393332235999,
          76.056767676739,
          17.57298632131816,
          34.02608028478126,
          14.302607708757154,
          66.94061399806628,
          8.8253540029274,
          19.42974852130065,
          26.938469527986364,
          54.67772453446605
         ]
        },
        {
         "marker": {
          "color": "red",
          "size": 15,
          "symbol": "x"
         },
         "mode": "markers",
         "name": "Thermoelectrics",
         "type": "scatter",
         "x": [
          16.32473082533196,
          92.20903285568244,
          39.96373789383739,
          79.32189834166,
          10.56935439159571,
          31.671064940534162,
          90.46084951811883,
          64.4861517072137
         ],
         "y": [
          22.29206708272511,
          47.14058099659941,
          93.66732654658269,
          16.8497369129662,
          80.91594296734888,
          63.71793713299608,
          92.02678498890222,
          65.78900948371631
         ]
        },
        {
         "marker": {
          "color": "black",
          "size": 12,
          "symbol": "triangle-up"
         },
         "mode": "markers",
         "name": "Tension Towers",
         "type": "scatter",
         "x": [
          13.450577304101664,
          16.32473082533197,
          17.253064851564275,
          39.979679546775685,
          43.40119100274585,
          47.76496867167781,
          53.381685325175,
          54.453182464976585,
          64.4861517072137,
          75.4649059516504,
          75.81865803272113,
          76.64817011347576,
          82.06184830936576,
          87.88482940840254,
          90.75971426400191,
          101.6800491200944
         ],
         "y": [
          77.35613526659026,
          22.29206708272512,
          75.186654605745,
          92.24195665724753,
          62.373625941612545,
          44.320708395757045,
          88.86548957935928,
          63.17303237655272,
          65.78900948371631,
          27.90892337339851,
          18.520442037394922,
          78.36384638851025,
          60.73763992626015,
          7.999496219614333,
          92.93561036277183,
          27.29849798690225
         ]
        },
        {
         "line": {
          "color": "black"
         },
         "mode": "lines",
         "showlegend": false,
         "type": "scatter",
         "x": [
          13.450577304101664,
          16.32473082533197
         ],
         "y": [
          77.35613526659026,
          22.29206708272512
         ]
        },
        {
         "line": {
          "color": "black"
         },
         "mode": "lines",
         "showlegend": false,
         "type": "scatter",
         "x": [
          16.32473082533197,
          17.253064851564275
         ],
         "y": [
          22.29206708272512,
          75.186654605745
         ]
        },
        {
         "line": {
          "color": "black"
         },
         "mode": "lines",
         "showlegend": false,
         "type": "scatter",
         "x": [
          17.253064851564275,
          39.979679546775685
         ],
         "y": [
          75.186654605745,
          92.24195665724753
         ]
        },
        {
         "line": {
          "color": "black"
         },
         "mode": "lines",
         "showlegend": false,
         "type": "scatter",
         "x": [
          39.979679546775685,
          43.40119100274585
         ],
         "y": [
          92.24195665724753,
          62.373625941612545
         ]
        },
        {
         "line": {
          "color": "black"
         },
         "mode": "lines",
         "showlegend": false,
         "type": "scatter",
         "x": [
          43.40119100274585,
          47.76496867167781
         ],
         "y": [
          62.373625941612545,
          44.320708395757045
         ]
        },
        {
         "line": {
          "color": "black"
         },
         "mode": "lines",
         "showlegend": false,
         "type": "scatter",
         "x": [
          47.76496867167781,
          53.381685325175
         ],
         "y": [
          44.320708395757045,
          88.86548957935928
         ]
        },
        {
         "line": {
          "color": "black"
         },
         "mode": "lines",
         "showlegend": false,
         "type": "scatter",
         "x": [
          53.381685325175,
          54.453182464976585
         ],
         "y": [
          88.86548957935928,
          63.17303237655272
         ]
        },
        {
         "line": {
          "color": "black"
         },
         "mode": "lines",
         "showlegend": false,
         "type": "scatter",
         "x": [
          54.453182464976585,
          64.4861517072137
         ],
         "y": [
          63.17303237655272,
          65.78900948371631
         ]
        },
        {
         "line": {
          "color": "black"
         },
         "mode": "lines",
         "showlegend": false,
         "type": "scatter",
         "x": [
          64.4861517072137,
          75.4649059516504
         ],
         "y": [
          65.78900948371631,
          27.90892337339851
         ]
        },
        {
         "line": {
          "color": "black"
         },
         "mode": "lines",
         "showlegend": false,
         "type": "scatter",
         "x": [
          75.4649059516504,
          75.81865803272113
         ],
         "y": [
          27.90892337339851,
          18.520442037394922
         ]
        },
        {
         "line": {
          "color": "black"
         },
         "mode": "lines",
         "showlegend": false,
         "type": "scatter",
         "x": [
          75.81865803272113,
          76.64817011347576
         ],
         "y": [
          18.520442037394922,
          78.36384638851025
         ]
        },
        {
         "line": {
          "color": "black"
         },
         "mode": "lines",
         "showlegend": false,
         "type": "scatter",
         "x": [
          76.64817011347576,
          82.06184830936576
         ],
         "y": [
          78.36384638851025,
          60.73763992626015
         ]
        },
        {
         "line": {
          "color": "black"
         },
         "mode": "lines",
         "showlegend": false,
         "type": "scatter",
         "x": [
          82.06184830936576,
          87.88482940840254
         ],
         "y": [
          60.73763992626015,
          7.999496219614333
         ]
        },
        {
         "line": {
          "color": "black"
         },
         "mode": "lines",
         "showlegend": false,
         "type": "scatter",
         "x": [
          87.88482940840254,
          90.75971426400191
         ],
         "y": [
          7.999496219614333,
          92.93561036277183
         ]
        },
        {
         "line": {
          "color": "black"
         },
         "mode": "lines",
         "showlegend": false,
         "type": "scatter",
         "x": [
          90.75971426400191,
          101.6800491200944
         ],
         "y": [
          92.93561036277183,
          27.29849798690225
         ]
        }
       ],
       "layout": {
        "height": 800,
        "legend": {
         "bgcolor": "rgba(255, 255, 255, 0.5)",
         "bordercolor": "rgba(0, 0, 0, 0.5)",
         "x": 0.01,
         "y": 0.99
        },
        "plot_bgcolor": "lightgreen",
        "template": {
         "data": {
          "bar": [
           {
            "error_x": {
             "color": "#2a3f5f"
            },
            "error_y": {
             "color": "#2a3f5f"
            },
            "marker": {
             "line": {
              "color": "#E5ECF6",
              "width": 0.5
             },
             "pattern": {
              "fillmode": "overlay",
              "size": 10,
              "solidity": 0.2
             }
            },
            "type": "bar"
           }
          ],
          "barpolar": [
           {
            "marker": {
             "line": {
              "color": "#E5ECF6",
              "width": 0.5
             },
             "pattern": {
              "fillmode": "overlay",
              "size": 10,
              "solidity": 0.2
             }
            },
            "type": "barpolar"
           }
          ],
          "carpet": [
           {
            "aaxis": {
             "endlinecolor": "#2a3f5f",
             "gridcolor": "white",
             "linecolor": "white",
             "minorgridcolor": "white",
             "startlinecolor": "#2a3f5f"
            },
            "baxis": {
             "endlinecolor": "#2a3f5f",
             "gridcolor": "white",
             "linecolor": "white",
             "minorgridcolor": "white",
             "startlinecolor": "#2a3f5f"
            },
            "type": "carpet"
           }
          ],
          "choropleth": [
           {
            "colorbar": {
             "outlinewidth": 0,
             "ticks": ""
            },
            "type": "choropleth"
           }
          ],
          "contour": [
           {
            "colorbar": {
             "outlinewidth": 0,
             "ticks": ""
            },
            "colorscale": [
             [
              0,
              "#0d0887"
             ],
             [
              0.1111111111111111,
              "#46039f"
             ],
             [
              0.2222222222222222,
              "#7201a8"
             ],
             [
              0.3333333333333333,
              "#9c179e"
             ],
             [
              0.4444444444444444,
              "#bd3786"
             ],
             [
              0.5555555555555556,
              "#d8576b"
             ],
             [
              0.6666666666666666,
              "#ed7953"
             ],
             [
              0.7777777777777778,
              "#fb9f3a"
             ],
             [
              0.8888888888888888,
              "#fdca26"
             ],
             [
              1,
              "#f0f921"
             ]
            ],
            "type": "contour"
           }
          ],
          "contourcarpet": [
           {
            "colorbar": {
             "outlinewidth": 0,
             "ticks": ""
            },
            "type": "contourcarpet"
           }
          ],
          "heatmap": [
           {
            "colorbar": {
             "outlinewidth": 0,
             "ticks": ""
            },
            "colorscale": [
             [
              0,
              "#0d0887"
             ],
             [
              0.1111111111111111,
              "#46039f"
             ],
             [
              0.2222222222222222,
              "#7201a8"
             ],
             [
              0.3333333333333333,
              "#9c179e"
             ],
             [
              0.4444444444444444,
              "#bd3786"
             ],
             [
              0.5555555555555556,
              "#d8576b"
             ],
             [
              0.6666666666666666,
              "#ed7953"
             ],
             [
              0.7777777777777778,
              "#fb9f3a"
             ],
             [
              0.8888888888888888,
              "#fdca26"
             ],
             [
              1,
              "#f0f921"
             ]
            ],
            "type": "heatmap"
           }
          ],
          "heatmapgl": [
           {
            "colorbar": {
             "outlinewidth": 0,
             "ticks": ""
            },
            "colorscale": [
             [
              0,
              "#0d0887"
             ],
             [
              0.1111111111111111,
              "#46039f"
             ],
             [
              0.2222222222222222,
              "#7201a8"
             ],
             [
              0.3333333333333333,
              "#9c179e"
             ],
             [
              0.4444444444444444,
              "#bd3786"
             ],
             [
              0.5555555555555556,
              "#d8576b"
             ],
             [
              0.6666666666666666,
              "#ed7953"
             ],
             [
              0.7777777777777778,
              "#fb9f3a"
             ],
             [
              0.8888888888888888,
              "#fdca26"
             ],
             [
              1,
              "#f0f921"
             ]
            ],
            "type": "heatmapgl"
           }
          ],
          "histogram": [
           {
            "marker": {
             "pattern": {
              "fillmode": "overlay",
              "size": 10,
              "solidity": 0.2
             }
            },
            "type": "histogram"
           }
          ],
          "histogram2d": [
           {
            "colorbar": {
             "outlinewidth": 0,
             "ticks": ""
            },
            "colorscale": [
             [
              0,
              "#0d0887"
             ],
             [
              0.1111111111111111,
              "#46039f"
             ],
             [
              0.2222222222222222,
              "#7201a8"
             ],
             [
              0.3333333333333333,
              "#9c179e"
             ],
             [
              0.4444444444444444,
              "#bd3786"
             ],
             [
              0.5555555555555556,
              "#d8576b"
             ],
             [
              0.6666666666666666,
              "#ed7953"
             ],
             [
              0.7777777777777778,
              "#fb9f3a"
             ],
             [
              0.8888888888888888,
              "#fdca26"
             ],
             [
              1,
              "#f0f921"
             ]
            ],
            "type": "histogram2d"
           }
          ],
          "histogram2dcontour": [
           {
            "colorbar": {
             "outlinewidth": 0,
             "ticks": ""
            },
            "colorscale": [
             [
              0,
              "#0d0887"
             ],
             [
              0.1111111111111111,
              "#46039f"
             ],
             [
              0.2222222222222222,
              "#7201a8"
             ],
             [
              0.3333333333333333,
              "#9c179e"
             ],
             [
              0.4444444444444444,
              "#bd3786"
             ],
             [
              0.5555555555555556,
              "#d8576b"
             ],
             [
              0.6666666666666666,
              "#ed7953"
             ],
             [
              0.7777777777777778,
              "#fb9f3a"
             ],
             [
              0.8888888888888888,
              "#fdca26"
             ],
             [
              1,
              "#f0f921"
             ]
            ],
            "type": "histogram2dcontour"
           }
          ],
          "mesh3d": [
           {
            "colorbar": {
             "outlinewidth": 0,
             "ticks": ""
            },
            "type": "mesh3d"
           }
          ],
          "parcoords": [
           {
            "line": {
             "colorbar": {
              "outlinewidth": 0,
              "ticks": ""
             }
            },
            "type": "parcoords"
           }
          ],
          "pie": [
           {
            "automargin": true,
            "type": "pie"
           }
          ],
          "scatter": [
           {
            "fillpattern": {
             "fillmode": "overlay",
             "size": 10,
             "solidity": 0.2
            },
            "type": "scatter"
           }
          ],
          "scatter3d": [
           {
            "line": {
             "colorbar": {
              "outlinewidth": 0,
              "ticks": ""
             }
            },
            "marker": {
             "colorbar": {
              "outlinewidth": 0,
              "ticks": ""
             }
            },
            "type": "scatter3d"
           }
          ],
          "scattercarpet": [
           {
            "marker": {
             "colorbar": {
              "outlinewidth": 0,
              "ticks": ""
             }
            },
            "type": "scattercarpet"
           }
          ],
          "scattergeo": [
           {
            "marker": {
             "colorbar": {
              "outlinewidth": 0,
              "ticks": ""
             }
            },
            "type": "scattergeo"
           }
          ],
          "scattergl": [
           {
            "marker": {
             "colorbar": {
              "outlinewidth": 0,
              "ticks": ""
             }
            },
            "type": "scattergl"
           }
          ],
          "scattermapbox": [
           {
            "marker": {
             "colorbar": {
              "outlinewidth": 0,
              "ticks": ""
             }
            },
            "type": "scattermapbox"
           }
          ],
          "scatterpolar": [
           {
            "marker": {
             "colorbar": {
              "outlinewidth": 0,
              "ticks": ""
             }
            },
            "type": "scatterpolar"
           }
          ],
          "scatterpolargl": [
           {
            "marker": {
             "colorbar": {
              "outlinewidth": 0,
              "ticks": ""
             }
            },
            "type": "scatterpolargl"
           }
          ],
          "scatterternary": [
           {
            "marker": {
             "colorbar": {
              "outlinewidth": 0,
              "ticks": ""
             }
            },
            "type": "scatterternary"
           }
          ],
          "surface": [
           {
            "colorbar": {
             "outlinewidth": 0,
             "ticks": ""
            },
            "colorscale": [
             [
              0,
              "#0d0887"
             ],
             [
              0.1111111111111111,
              "#46039f"
             ],
             [
              0.2222222222222222,
              "#7201a8"
             ],
             [
              0.3333333333333333,
              "#9c179e"
             ],
             [
              0.4444444444444444,
              "#bd3786"
             ],
             [
              0.5555555555555556,
              "#d8576b"
             ],
             [
              0.6666666666666666,
              "#ed7953"
             ],
             [
              0.7777777777777778,
              "#fb9f3a"
             ],
             [
              0.8888888888888888,
              "#fdca26"
             ],
             [
              1,
              "#f0f921"
             ]
            ],
            "type": "surface"
           }
          ],
          "table": [
           {
            "cells": {
             "fill": {
              "color": "#EBF0F8"
             },
             "line": {
              "color": "white"
             }
            },
            "header": {
             "fill": {
              "color": "#C8D4E3"
             },
             "line": {
              "color": "white"
             }
            },
            "type": "table"
           }
          ]
         },
         "layout": {
          "annotationdefaults": {
           "arrowcolor": "#2a3f5f",
           "arrowhead": 0,
           "arrowwidth": 1
          },
          "autotypenumbers": "strict",
          "coloraxis": {
           "colorbar": {
            "outlinewidth": 0,
            "ticks": ""
           }
          },
          "colorscale": {
           "diverging": [
            [
             0,
             "#8e0152"
            ],
            [
             0.1,
             "#c51b7d"
            ],
            [
             0.2,
             "#de77ae"
            ],
            [
             0.3,
             "#f1b6da"
            ],
            [
             0.4,
             "#fde0ef"
            ],
            [
             0.5,
             "#f7f7f7"
            ],
            [
             0.6,
             "#e6f5d0"
            ],
            [
             0.7,
             "#b8e186"
            ],
            [
             0.8,
             "#7fbc41"
            ],
            [
             0.9,
             "#4d9221"
            ],
            [
             1,
             "#276419"
            ]
           ],
           "sequential": [
            [
             0,
             "#0d0887"
            ],
            [
             0.1111111111111111,
             "#46039f"
            ],
            [
             0.2222222222222222,
             "#7201a8"
            ],
            [
             0.3333333333333333,
             "#9c179e"
            ],
            [
             0.4444444444444444,
             "#bd3786"
            ],
            [
             0.5555555555555556,
             "#d8576b"
            ],
            [
             0.6666666666666666,
             "#ed7953"
            ],
            [
             0.7777777777777778,
             "#fb9f3a"
            ],
            [
             0.8888888888888888,
             "#fdca26"
            ],
            [
             1,
             "#f0f921"
            ]
           ],
           "sequentialminus": [
            [
             0,
             "#0d0887"
            ],
            [
             0.1111111111111111,
             "#46039f"
            ],
            [
             0.2222222222222222,
             "#7201a8"
            ],
            [
             0.3333333333333333,
             "#9c179e"
            ],
            [
             0.4444444444444444,
             "#bd3786"
            ],
            [
             0.5555555555555556,
             "#d8576b"
            ],
            [
             0.6666666666666666,
             "#ed7953"
            ],
            [
             0.7777777777777778,
             "#fb9f3a"
            ],
            [
             0.8888888888888888,
             "#fdca26"
            ],
            [
             1,
             "#f0f921"
            ]
           ]
          },
          "colorway": [
           "#636efa",
           "#EF553B",
           "#00cc96",
           "#ab63fa",
           "#FFA15A",
           "#19d3f3",
           "#FF6692",
           "#B6E880",
           "#FF97FF",
           "#FECB52"
          ],
          "font": {
           "color": "#2a3f5f"
          },
          "geo": {
           "bgcolor": "white",
           "lakecolor": "white",
           "landcolor": "#E5ECF6",
           "showlakes": true,
           "showland": true,
           "subunitcolor": "white"
          },
          "hoverlabel": {
           "align": "left"
          },
          "hovermode": "closest",
          "mapbox": {
           "style": "light"
          },
          "paper_bgcolor": "white",
          "plot_bgcolor": "#E5ECF6",
          "polar": {
           "angularaxis": {
            "gridcolor": "white",
            "linecolor": "white",
            "ticks": ""
           },
           "bgcolor": "#E5ECF6",
           "radialaxis": {
            "gridcolor": "white",
            "linecolor": "white",
            "ticks": ""
           }
          },
          "scene": {
           "xaxis": {
            "backgroundcolor": "#E5ECF6",
            "gridcolor": "white",
            "gridwidth": 2,
            "linecolor": "white",
            "showbackground": true,
            "ticks": "",
            "zerolinecolor": "white"
           },
           "yaxis": {
            "backgroundcolor": "#E5ECF6",
            "gridcolor": "white",
            "gridwidth": 2,
            "linecolor": "white",
            "showbackground": true,
            "ticks": "",
            "zerolinecolor": "white"
           },
           "zaxis": {
            "backgroundcolor": "#E5ECF6",
            "gridcolor": "white",
            "gridwidth": 2,
            "linecolor": "white",
            "showbackground": true,
            "ticks": "",
            "zerolinecolor": "white"
           }
          },
          "shapedefaults": {
           "line": {
            "color": "#2a3f5f"
           }
          },
          "ternary": {
           "aaxis": {
            "gridcolor": "white",
            "linecolor": "white",
            "ticks": ""
           },
           "baxis": {
            "gridcolor": "white",
            "linecolor": "white",
            "ticks": ""
           },
           "bgcolor": "#E5ECF6",
           "caxis": {
            "gridcolor": "white",
            "linecolor": "white",
            "ticks": ""
           }
          },
          "title": {
           "x": 0.05
          },
          "xaxis": {
           "automargin": true,
           "gridcolor": "white",
           "linecolor": "white",
           "ticks": "",
           "title": {
            "standoff": 15
           },
           "zerolinecolor": "white",
           "zerolinewidth": 2
          },
          "yaxis": {
           "automargin": true,
           "gridcolor": "white",
           "linecolor": "white",
           "ticks": "",
           "title": {
            "standoff": 15
           },
           "zerolinecolor": "white",
           "zerolinewidth": 2
          }
         }
        },
        "title": {
         "text": "Map Visualization"
        },
        "xaxis": {
         "title": {
          "text": "X Coordinate"
         }
        },
        "yaxis": {
         "title": {
          "text": "Y Coordinate"
         }
        }
       }
      }
     },
     "metadata": {},
     "output_type": "display_data"
    }
   ],
   "source": [
    "map_2d = Map2D(\n",
    "    no_circuits=NO_CIRCUITS,\n",
    "    no_thermoelectrics=NO_THERMOELECTRICS,\n",
    ")\n",
    "\n",
    "\n",
    "map_2d.visualize()"
   ]
  },
  {
   "cell_type": "code",
   "execution_count": 75,
   "metadata": {},
   "outputs": [
    {
     "data": {
      "application/vnd.plotly.v1+json": {
       "config": {
        "plotlyServerURL": "https://plot.ly"
       },
       "data": [
        {
         "marker": {
          "color": "red",
          "size": 12,
          "symbol": "x"
         },
         "mode": "markers+text",
         "name": "Thermoelectrics",
         "text": [
          "Th0",
          "Th1",
          "Th2",
          "Th3",
          "Th4",
          "Th5",
          "Th6",
          "Th7"
         ],
         "textposition": "top center",
         "type": "scatter",
         "x": [
          16.32473082533196,
          92.20903285568244,
          39.96373789383739,
          79.32189834166,
          10.56935439159571,
          31.671064940534162,
          90.46084951811883,
          64.4861517072137
         ],
         "y": [
          22.29206708272511,
          47.14058099659941,
          93.66732654658269,
          16.8497369129662,
          80.91594296734888,
          63.71793713299608,
          92.02678498890222,
          65.78900948371631
         ]
        },
        {
         "marker": {
          "color": "blue",
          "size": 10,
          "symbol": "circle"
         },
         "mode": "markers+text",
         "name": "Circuits",
         "text": [
          "C0",
          "C1",
          "C2",
          "C3",
          "C4",
          "C5",
          "C6",
          "C7",
          "C8",
          "C9",
          "C10",
          "C11",
          "C12",
          "C13",
          "C14",
          "C15",
          "C16",
          "C17",
          "C18",
          "C19",
          "C20",
          "C21",
          "C22",
          "C23",
          "C24",
          "C25",
          "C26",
          "C27",
          "C28",
          "C29",
          "C30",
          "C31",
          "C32",
          "C33",
          "C34",
          "C35",
          "C36",
          "C37",
          "C38",
          "C39",
          "C40",
          "C41",
          "C42",
          "C43",
          "C44",
          "C45",
          "C46",
          "C47",
          "C48",
          "C49"
         ],
         "textposition": "top center",
         "type": "scatter",
         "x": [
          77.77024105738202,
          82.42785326613685,
          97.26011139048933,
          60.90424627612779,
          64.16133447590691,
          3.5036524101437316,
          5.851249188207475,
          37.28540278748075,
          25.62799493266301,
          0.9412770080969413,
          94.90941816782103,
          31.93913663803646,
          3.190366643989473,
          62.982899910782294,
          0.8715732303784862,
          81.28411710026235,
          65.64553345969578,
          47.988339149638314,
          0.00120335694850926,
          71.22326779115835,
          27.699635638380947,
          91.85517481459487,
          45.80858172767637,
          37.93332914830662,
          77.2378759680558,
          68.60850791873135,
          13.798605275825725,
          24.555910532465564,
          92.59944794902178,
          23.76589218796833,
          55.663205143440265,
          83.97085104160709,
          14.48709890463251,
          49.064013706516086,
          98.4938457701008,
          49.904168390089396,
          91.3212806989643,
          22.658787689942837,
          13.635835175923795,
          59.53992453523792,
          95.89347319832972,
          12.895807457854048,
          20.163407511411524,
          43.71180126508111,
          96.72531085605694,
          84.4558532806118,
          10.930490807954563,
          96.64620412773903,
          8.190006001834515,
          65.01305180131334
         ],
         "y": [
          23.75412200349123,
          96.57491980429998,
          45.34492474173122,
          77.55265146048467,
          72.20182295169472,
          29.84494708891794,
          85.70609425871989,
          67.9847951578097,
          34.758121515249194,
          35.83337827049697,
          21.789900913168893,
          91.77723860005874,
          6.508453704251449,
          87.38134432795387,
          74.65772369939376,
          7.571744617226672,
          50.92622000835182,
          95.55741449310663,
          24.697870099191633,
          32.45820497867131,
          69.54454525534746,
          24.44757021979903,
          25.299268282150646,
          60.4538828631711,
          6.79174967944145,
          54.826009739582524,
          9.875321920491842,
          15.17866625844726,
          68.0105015604642,
          56.88852525565604,
          7.273721088434781,
          40.53194926981314,
          19.092005866659367,
          71.20243742497533,
          87.47865017350445,
          10.677999399370886,
          36.4915960886285,
          87.24318623454285,
          23.638016015282027,
          56.3922609078715,
          45.32393332235999,
          76.056767676739,
          17.57298632131816,
          34.02608028478126,
          14.302607708757154,
          66.94061399806628,
          8.8253540029274,
          19.42974852130065,
          26.938469527986364,
          54.67772453446605
         ]
        },
        {
         "marker": {
          "color": "green",
          "size": 14,
          "symbol": "triangle-up"
         },
         "mode": "markers+text",
         "name": "Towers",
         "text": [
          "Tw0",
          "Tw1",
          "Tw2",
          "Tw3",
          "Tw4",
          "Tw5",
          "Tw6",
          "Tw7",
          "Tw8",
          "Tw9",
          "Tw10",
          "Tw11",
          "Tw12",
          "Tw13",
          "Tw14",
          "Tw15"
         ],
         "textposition": "top center",
         "type": "scatter",
         "x": [
          13.450577304101664,
          16.32473082533197,
          17.253064851564275,
          39.979679546775685,
          43.40119100274585,
          47.76496867167781,
          53.381685325175,
          54.453182464976585,
          64.4861517072137,
          75.4649059516504,
          75.81865803272113,
          76.64817011347576,
          82.06184830936576,
          87.88482940840254,
          90.75971426400191,
          101.6800491200944
         ],
         "y": [
          77.35613526659026,
          22.29206708272512,
          75.186654605745,
          92.24195665724753,
          62.373625941612545,
          44.320708395757045,
          88.86548957935928,
          63.17303237655272,
          65.78900948371631,
          27.90892337339851,
          18.520442037394922,
          78.36384638851025,
          60.73763992626015,
          7.999496219614333,
          92.93561036277183,
          27.29849798690225
         ]
        },
        {
         "line": {
          "color": "black"
         },
         "mode": "lines",
         "name": "Wire Connection",
         "showlegend": false,
         "type": "scatter",
         "x": [
          13.450577304101664,
          16.32473082533197
         ],
         "y": [
          77.35613526659026,
          22.29206708272512
         ]
        },
        {
         "line": {
          "color": "black"
         },
         "mode": "lines",
         "name": "Wire Connection",
         "showlegend": false,
         "type": "scatter",
         "x": [
          16.32473082533197,
          17.253064851564275
         ],
         "y": [
          22.29206708272512,
          75.186654605745
         ]
        },
        {
         "line": {
          "color": "black"
         },
         "mode": "lines",
         "name": "Wire Connection",
         "showlegend": false,
         "type": "scatter",
         "x": [
          17.253064851564275,
          39.979679546775685
         ],
         "y": [
          75.186654605745,
          92.24195665724753
         ]
        },
        {
         "line": {
          "color": "black"
         },
         "mode": "lines",
         "name": "Wire Connection",
         "showlegend": false,
         "type": "scatter",
         "x": [
          39.979679546775685,
          43.40119100274585
         ],
         "y": [
          92.24195665724753,
          62.373625941612545
         ]
        },
        {
         "line": {
          "color": "black"
         },
         "mode": "lines",
         "name": "Wire Connection",
         "showlegend": false,
         "type": "scatter",
         "x": [
          43.40119100274585,
          47.76496867167781
         ],
         "y": [
          62.373625941612545,
          44.320708395757045
         ]
        },
        {
         "line": {
          "color": "black"
         },
         "mode": "lines",
         "name": "Wire Connection",
         "showlegend": false,
         "type": "scatter",
         "x": [
          47.76496867167781,
          53.381685325175
         ],
         "y": [
          44.320708395757045,
          88.86548957935928
         ]
        },
        {
         "line": {
          "color": "black"
         },
         "mode": "lines",
         "name": "Wire Connection",
         "showlegend": false,
         "type": "scatter",
         "x": [
          53.381685325175,
          54.453182464976585
         ],
         "y": [
          88.86548957935928,
          63.17303237655272
         ]
        },
        {
         "line": {
          "color": "black"
         },
         "mode": "lines",
         "name": "Wire Connection",
         "showlegend": false,
         "type": "scatter",
         "x": [
          54.453182464976585,
          64.4861517072137
         ],
         "y": [
          63.17303237655272,
          65.78900948371631
         ]
        },
        {
         "line": {
          "color": "black"
         },
         "mode": "lines",
         "name": "Wire Connection",
         "showlegend": false,
         "type": "scatter",
         "x": [
          64.4861517072137,
          75.4649059516504
         ],
         "y": [
          65.78900948371631,
          27.90892337339851
         ]
        },
        {
         "line": {
          "color": "black"
         },
         "mode": "lines",
         "name": "Wire Connection",
         "showlegend": false,
         "type": "scatter",
         "x": [
          75.4649059516504,
          75.81865803272113
         ],
         "y": [
          27.90892337339851,
          18.520442037394922
         ]
        },
        {
         "line": {
          "color": "black"
         },
         "mode": "lines",
         "name": "Wire Connection",
         "showlegend": false,
         "type": "scatter",
         "x": [
          75.81865803272113,
          76.64817011347576
         ],
         "y": [
          18.520442037394922,
          78.36384638851025
         ]
        },
        {
         "line": {
          "color": "black"
         },
         "mode": "lines",
         "name": "Wire Connection",
         "showlegend": false,
         "type": "scatter",
         "x": [
          76.64817011347576,
          82.06184830936576
         ],
         "y": [
          78.36384638851025,
          60.73763992626015
         ]
        },
        {
         "line": {
          "color": "black"
         },
         "mode": "lines",
         "name": "Wire Connection",
         "showlegend": false,
         "type": "scatter",
         "x": [
          82.06184830936576,
          87.88482940840254
         ],
         "y": [
          60.73763992626015,
          7.999496219614333
         ]
        },
        {
         "line": {
          "color": "black"
         },
         "mode": "lines",
         "name": "Wire Connection",
         "showlegend": false,
         "type": "scatter",
         "x": [
          87.88482940840254,
          90.75971426400191
         ],
         "y": [
          7.999496219614333,
          92.93561036277183
         ]
        },
        {
         "line": {
          "color": "black"
         },
         "mode": "lines",
         "name": "Wire Connection",
         "showlegend": false,
         "type": "scatter",
         "x": [
          90.75971426400191,
          101.6800491200944
         ],
         "y": [
          92.93561036277183,
          27.29849798690225
         ]
        },
        {
         "line": {
          "color": "black",
          "dash": "dash"
         },
         "mode": "lines",
         "name": "Circuit Connection",
         "showlegend": false,
         "type": "scatter",
         "x": [
          77.77024105738202,
          75.8915650165911
         ],
         "y": [
          23.75412200349123,
          23.780163043244197
         ]
        },
        {
         "mode": "text",
         "showlegend": false,
         "text": [
          "1.88"
         ],
         "textposition": "middle center",
         "type": "scatter",
         "x": [
          76.83090303698657
         ],
         "y": [
          23.767142523367713
         ]
        },
        {
         "line": {
          "color": "black",
          "dash": "dash"
         },
         "mode": "lines",
         "name": "Circuit Connection",
         "showlegend": false,
         "type": "scatter",
         "x": [
          82.42785326613685,
          90.75971426400191
         ],
         "y": [
          96.57491980429998,
          92.93561036277183
         ]
        },
        {
         "mode": "text",
         "showlegend": false,
         "text": [
          "9.09"
         ],
         "textposition": "middle center",
         "type": "scatter",
         "x": [
          86.59378376506939
         ],
         "y": [
          94.7552650835359
         ]
        },
        {
         "line": {
          "color": "black",
          "dash": "dash"
         },
         "mode": "lines",
         "name": "Circuit Connection",
         "showlegend": false,
         "type": "scatter",
         "x": [
          97.26011139048933,
          98.63940629924022
         ],
         "y": [
          45.34492474173122,
          45.57440409759637
         ]
        },
        {
         "mode": "text",
         "showlegend": false,
         "text": [
          "1.40"
         ],
         "textposition": "middle center",
         "type": "scatter",
         "x": [
          97.94975884486477
         ],
         "y": [
          45.459664419663795
         ]
        },
        {
         "line": {
          "color": "black",
          "dash": "dash"
         },
         "mode": "lines",
         "name": "Circuit Connection",
         "showlegend": false,
         "type": "scatter",
         "x": [
          60.90424627612779,
          53.865726242353325
         ],
         "y": [
          77.55265146048467,
          77.25911184202413
         ]
        },
        {
         "mode": "text",
         "showlegend": false,
         "text": [
          "7.04"
         ],
         "textposition": "middle center",
         "type": "scatter",
         "x": [
          57.38498625924056
         ],
         "y": [
          77.40588165125439
         ]
        },
        {
         "line": {
          "color": "black",
          "dash": "dash"
         },
         "mode": "lines",
         "name": "Circuit Connection",
         "showlegend": false,
         "type": "scatter",
         "x": [
          64.16133447590691,
          64.4861517072137
         ],
         "y": [
          72.20182295169472,
          65.78900948371631
         ]
        },
        {
         "mode": "text",
         "showlegend": false,
         "text": [
          "6.42"
         ],
         "textposition": "middle center",
         "type": "scatter",
         "x": [
          64.3237430915603
         ],
         "y": [
          68.99541621770553
         ]
        },
        {
         "line": {
          "color": "black",
          "dash": "dash"
         },
         "mode": "lines",
         "name": "Circuit Connection",
         "showlegend": false,
         "type": "scatter",
         "x": [
          3.5036524101437316,
          15.896731990355216
         ],
         "y": [
          29.84494708891794,
          30.49182289176298
         ]
        },
        {
         "mode": "text",
         "showlegend": false,
         "text": [
          "12.41"
         ],
         "textposition": "middle center",
         "type": "scatter",
         "x": [
          9.700192200249473
         ],
         "y": [
          30.16838499034046
         ]
        },
        {
         "line": {
          "color": "black",
          "dash": "dash"
         },
         "mode": "lines",
         "name": "Circuit Connection",
         "showlegend": false,
         "type": "scatter",
         "x": [
          5.851249188207475,
          13.450577304101664
         ],
         "y": [
          85.70609425871989,
          77.35613526659026
         ]
        },
        {
         "mode": "text",
         "showlegend": false,
         "text": [
          "11.29"
         ],
         "textposition": "middle center",
         "type": "scatter",
         "x": [
          9.65091324615457
         ],
         "y": [
          81.53111476265508
         ]
        },
        {
         "line": {
          "color": "black",
          "dash": "dash"
         },
         "mode": "lines",
         "name": "Circuit Connection",
         "showlegend": false,
         "type": "scatter",
         "x": [
          37.28540278748075,
          42.68752493556844
         ],
         "y": [
          67.9847951578097,
          68.60362528233878
         ]
        },
        {
         "mode": "text",
         "showlegend": false,
         "text": [
          "5.44"
         ],
         "textposition": "middle center",
         "type": "scatter",
         "x": [
          39.9864638615246
         ],
         "y": [
          68.29421022007423
         ]
        },
        {
         "line": {
          "color": "black",
          "dash": "dash"
         },
         "mode": "lines",
         "name": "Circuit Connection",
         "showlegend": false,
         "type": "scatter",
         "x": [
          25.62799493266301,
          16.546315482204445
         ],
         "y": [
          34.758121515249194,
          34.91751082980858
         ]
        },
        {
         "mode": "text",
         "showlegend": false,
         "text": [
          "9.08"
         ],
         "textposition": "middle center",
         "type": "scatter",
         "x": [
          21.087155207433728
         ],
         "y": [
          34.83781617252889
         ]
        },
        {
         "line": {
          "color": "black",
          "dash": "dash"
         },
         "mode": "lines",
         "name": "Circuit Connection",
         "showlegend": false,
         "type": "scatter",
         "x": [
          0.9412770080969413,
          15.578043760285121
         ],
         "y": [
          35.83337827049697,
          36.5973667676737
         ]
        },
        {
         "mode": "text",
         "showlegend": false,
         "text": [
          "14.66"
         ],
         "textposition": "middle center",
         "type": "scatter",
         "x": [
          8.259660384191031
         ],
         "y": [
          36.215372519085335
         ]
        },
        {
         "line": {
          "color": "black",
          "dash": "dash"
         },
         "mode": "lines",
         "name": "Circuit Connection",
         "showlegend": false,
         "type": "scatter",
         "x": [
          94.90941816782103,
          88.35910614850074
         ],
         "y": [
          21.789900913168893,
          22.01161334978984
         ]
        },
        {
         "mode": "text",
         "showlegend": false,
         "text": [
          "6.55"
         ],
         "textposition": "middle center",
         "type": "scatter",
         "x": [
          91.63426215816088
         ],
         "y": [
          21.900757131479367
         ]
        },
        {
         "line": {
          "color": "black",
          "dash": "dash"
         },
         "mode": "lines",
         "name": "Circuit Connection",
         "showlegend": false,
         "type": "scatter",
         "x": [
          31.93913663803646,
          34.61287711207959
         ],
         "y": [
          91.77723860005874,
          88.21441283684003
         ]
        },
        {
         "mode": "text",
         "showlegend": false,
         "text": [
          "4.45"
         ],
         "textposition": "middle center",
         "type": "scatter",
         "x": [
          33.27600687505802
         ],
         "y": [
          89.99582571844938
         ]
        },
        {
         "line": {
          "color": "black",
          "dash": "dash"
         },
         "mode": "lines",
         "name": "Circuit Connection",
         "showlegend": false,
         "type": "scatter",
         "x": [
          3.190366643989473,
          16.32473082533197
         ],
         "y": [
          6.508453704251449,
          22.29206708272512
         ]
        },
        {
         "mode": "text",
         "showlegend": false,
         "text": [
          "20.53"
         ],
         "textposition": "middle center",
         "type": "scatter",
         "x": [
          9.757548734660721
         ],
         "y": [
          14.400260393488285
         ]
        },
        {
         "line": {
          "color": "black",
          "dash": "dash"
         },
         "mode": "lines",
         "name": "Circuit Connection",
         "showlegend": false,
         "type": "scatter",
         "x": [
          62.982899910782294,
          53.46014399718937
         ],
         "y": [
          87.38134432795387,
          86.9842003084504
         ]
        },
        {
         "mode": "text",
         "showlegend": false,
         "text": [
          "9.53"
         ],
         "textposition": "middle center",
         "type": "scatter",
         "x": [
          58.22152195398583
         ],
         "y": [
          87.18277231820213
         ]
        },
        {
         "line": {
          "color": "black",
          "dash": "dash"
         },
         "mode": "lines",
         "name": "Circuit Connection",
         "showlegend": false,
         "type": "scatter",
         "x": [
          0.8715732303784862,
          13.55686423724461
         ],
         "y": [
          74.65772369939376,
          75.31985192598016
         ]
        },
        {
         "mode": "text",
         "showlegend": false,
         "text": [
          "12.70"
         ],
         "textposition": "middle center",
         "type": "scatter",
         "x": [
          7.214218733811548
         ],
         "y": [
          74.98878781268695
         ]
        },
        {
         "line": {
          "color": "black",
          "dash": "dash"
         },
         "mode": "lines",
         "name": "Circuit Connection",
         "showlegend": false,
         "type": "scatter",
         "x": [
          81.28411710026235,
          87.85198952650232
         ],
         "y": [
          7.571744617226672,
          8.296923668116563
         ]
        },
        {
         "mode": "text",
         "showlegend": false,
         "text": [
          "6.61"
         ],
         "textposition": "middle center",
         "type": "scatter",
         "x": [
          84.56805331338234
         ],
         "y": [
          7.934334142671617
         ]
        },
        {
         "line": {
          "color": "black",
          "dash": "dash"
         },
         "mode": "lines",
         "name": "Circuit Connection",
         "showlegend": false,
         "type": "scatter",
         "x": [
          65.64553345969578,
          68.54985591942231
         ],
         "y": [
          50.92622000835182,
          51.76797740138083
         ]
        },
        {
         "mode": "text",
         "showlegend": false,
         "text": [
          "3.02"
         ],
         "textposition": "middle center",
         "type": "scatter",
         "x": [
          67.09769468955905
         ],
         "y": [
          51.347098704866326
         ]
        },
        {
         "line": {
          "color": "black",
          "dash": "dash"
         },
         "mode": "lines",
         "name": "Circuit Connection",
         "showlegend": false,
         "type": "scatter",
         "x": [
          47.988339149638314,
          53.381685325175
         ],
         "y": [
          95.55741449310663,
          88.86548957935928
         ]
        },
        {
         "mode": "text",
         "showlegend": false,
         "text": [
          "8.59"
         ],
         "textposition": "middle center",
         "type": "scatter",
         "x": [
          50.68501223740665
         ],
         "y": [
          92.21145203623296
         ]
        },
        {
         "line": {
          "color": "black",
          "dash": "dash"
         },
         "mode": "lines",
         "name": "Circuit Connection",
         "showlegend": false,
         "type": "scatter",
         "x": [
          0.00120335694850926,
          16.15514518360764
         ],
         "y": [
          24.697870099191633,
          25.541049877115235
         ]
        },
        {
         "mode": "text",
         "showlegend": false,
         "text": [
          "16.18"
         ],
         "textposition": "middle center",
         "type": "scatter",
         "x": [
          8.078174270278074
         ],
         "y": [
          25.119459988153434
         ]
        },
        {
         "line": {
          "color": "black",
          "dash": "dash"
         },
         "mode": "lines",
         "name": "Circuit Connection",
         "showlegend": false,
         "type": "scatter",
         "x": [
          71.22326779115835,
          73.91987391670047
         ],
         "y": [
          32.45820497867131,
          33.239760117172054
         ]
        },
        {
         "mode": "text",
         "showlegend": false,
         "text": [
          "2.81"
         ],
         "textposition": "middle center",
         "type": "scatter",
         "x": [
          72.57157085392942
         ],
         "y": [
          32.84898254792168
         ]
        },
        {
         "line": {
          "color": "black",
          "dash": "dash"
         },
         "mode": "lines",
         "name": "Circuit Connection",
         "showlegend": false,
         "type": "scatter",
         "x": [
          27.699635638380947,
          17.157289511092245
         ],
         "y": [
          69.54454525534746,
          69.7295702094039
         ]
        },
        {
         "mode": "text",
         "showlegend": false,
         "text": [
          "10.54"
         ],
         "textposition": "middle center",
         "type": "scatter",
         "x": [
          22.428462574736596
         ],
         "y": [
          69.63705773237568
         ]
        },
        {
         "line": {
          "color": "black",
          "dash": "dash"
         },
         "mode": "lines",
         "name": "Circuit Connection",
         "showlegend": false,
         "type": "scatter",
         "x": [
          91.85517481459487,
          88.44546385069143
         ],
         "y": [
          24.44757021979903,
          24.56298080234081
         ]
        },
        {
         "mode": "text",
         "showlegend": false,
         "text": [
          "3.41"
         ],
         "textposition": "middle center",
         "type": "scatter",
         "x": [
          90.15031933264315
         ],
         "y": [
          24.505275511069918
         ]
        },
        {
         "line": {
          "color": "black",
          "dash": "dash"
         },
         "mode": "lines",
         "name": "Circuit Connection",
         "showlegend": false,
         "type": "scatter",
         "x": [
          45.80858172767637,
          47.76496867167781
         ],
         "y": [
          25.299268282150646,
          44.320708395757045
         ]
        },
        {
         "mode": "text",
         "showlegend": false,
         "text": [
          "19.12"
         ],
         "textposition": "middle center",
         "type": "scatter",
         "x": [
          46.786775199677095
         ],
         "y": [
          34.80998833895384
         ]
        },
        {
         "line": {
          "color": "black",
          "dash": "dash"
         },
         "mode": "lines",
         "name": "Circuit Connection",
         "showlegend": false,
         "type": "scatter",
         "x": [
          37.93332914830662,
          43.53777070248341
         ],
         "y": [
          60.4538828631711,
          61.80859668373944
         ]
        },
        {
         "mode": "text",
         "showlegend": false,
         "text": [
          "5.77"
         ],
         "textposition": "middle center",
         "type": "scatter",
         "x": [
          40.73554992539501
         ],
         "y": [
          61.13123977345527
         ]
        },
        {
         "line": {
          "color": "black",
          "dash": "dash"
         },
         "mode": "lines",
         "name": "Circuit Connection",
         "showlegend": false,
         "type": "scatter",
         "x": [
          77.2378759680558,
          87.88482940840254
         ],
         "y": [
          6.79174967944145,
          7.999496219614336
         ]
        },
        {
         "mode": "text",
         "showlegend": false,
         "text": [
          "10.72"
         ],
         "textposition": "middle center",
         "type": "scatter",
         "x": [
          82.56135268822916
         ],
         "y": [
          7.395622949527893
         ]
        },
        {
         "line": {
          "color": "black",
          "dash": "dash"
         },
         "mode": "lines",
         "name": "Circuit Connection",
         "showlegend": false,
         "type": "scatter",
         "x": [
          68.60850791873135,
          67.73677528996409
         ],
         "y": [
          54.826009739582524,
          54.573356187786985
         ]
        },
        {
         "mode": "text",
         "showlegend": false,
         "text": [
          "0.91"
         ],
         "textposition": "middle center",
         "type": "scatter",
         "x": [
          68.17264160434772
         ],
         "y": [
          54.69968296368475
         ]
        },
        {
         "line": {
          "color": "black",
          "dash": "dash"
         },
         "mode": "lines",
         "name": "Circuit Connection",
         "showlegend": false,
         "type": "scatter",
         "x": [
          13.798605275825725,
          16.32473082533197
         ],
         "y": [
          9.875321920491842,
          22.29206708272512
         ]
        },
        {
         "mode": "text",
         "showlegend": false,
         "text": [
          "12.67"
         ],
         "textposition": "middle center",
         "type": "scatter",
         "x": [
          15.061668050578847
         ],
         "y": [
          16.08369450160848
         ]
        },
        {
         "line": {
          "color": "black",
          "dash": "dash"
         },
         "mode": "lines",
         "name": "Circuit Connection",
         "showlegend": false,
         "type": "scatter",
         "x": [
          24.555910532465564,
          16.32473082533197
         ],
         "y": [
          15.17866625844726,
          22.29206708272512
         ]
        },
        {
         "mode": "text",
         "showlegend": false,
         "text": [
          "10.88"
         ],
         "textposition": "middle center",
         "type": "scatter",
         "x": [
          20.440320678898765
         ],
         "y": [
          18.73536667058619
         ]
        },
        {
         "line": {
          "color": "black",
          "dash": "dash"
         },
         "mode": "lines",
         "name": "Circuit Connection",
         "showlegend": false,
         "type": "scatter",
         "x": [
          92.59944794902178,
          94.84447093688814
         ],
         "y": [
          68.0105015604642,
          68.3840159016609
         ]
        },
        {
         "mode": "text",
         "showlegend": false,
         "text": [
          "2.28"
         ],
         "textposition": "middle center",
         "type": "scatter",
         "x": [
          93.72195944295495
         ],
         "y": [
          68.19725873106256
         ]
        },
        {
         "line": {
          "color": "black",
          "dash": "dash"
         },
         "mode": "lines",
         "name": "Circuit Connection",
         "showlegend": false,
         "type": "scatter",
         "x": [
          23.76589218796833,
          16.934025300687285
         ],
         "y": [
          56.88852525565604,
          57.00842891293274
         ]
        },
        {
         "mode": "text",
         "showlegend": false,
         "text": [
          "6.83"
         ],
         "textposition": "middle center",
         "type": "scatter",
         "x": [
          20.349958744327807
         ],
         "y": [
          56.948477084294396
         ]
        },
        {
         "line": {
          "color": "black",
          "dash": "dash"
         },
         "mode": "lines",
         "name": "Circuit Connection",
         "showlegend": false,
         "type": "scatter",
         "x": [
          55.663205143440265,
          75.81865803272113
         ],
         "y": [
          7.273721088434781,
          18.520442037394922
         ]
        },
        {
         "mode": "text",
         "showlegend": false,
         "text": [
          "23.08"
         ],
         "textposition": "middle center",
         "type": "scatter",
         "x": [
          65.7409315880807
         ],
         "y": [
          12.897081562914853
         ]
        },
        {
         "line": {
          "color": "black",
          "dash": "dash"
         },
         "mode": "lines",
         "name": "Circuit Connection",
         "showlegend": false,
         "type": "scatter",
         "x": [
          83.97085104160709,
          84.28894305674892
         ],
         "y": [
          40.53194926981314,
          40.56707079024868
         ]
        },
        {
         "mode": "text",
         "showlegend": false,
         "text": [
          "0.32"
         ],
         "textposition": "middle center",
         "type": "scatter",
         "x": [
          84.129897049178
         ],
         "y": [
          40.54951003003091
         ]
        },
        {
         "line": {
          "color": "black",
          "dash": "dash"
         },
         "mode": "lines",
         "name": "Circuit Connection",
         "showlegend": false,
         "type": "scatter",
         "x": [
          14.48709890463251,
          16.32473082533197
         ],
         "y": [
          19.092005866659367,
          22.29206708272512
         ]
        },
        {
         "mode": "text",
         "showlegend": false,
         "text": [
          "3.69"
         ],
         "textposition": "middle center",
         "type": "scatter",
         "x": [
          15.40591486498224
         ],
         "y": [
          20.692036474692244
         ]
        },
        {
         "line": {
          "color": "black",
          "dash": "dash"
         },
         "mode": "lines",
         "name": "Circuit Connection",
         "showlegend": false,
         "type": "scatter",
         "x": [
          49.064013706516086,
          51.12180823517125
         ],
         "y": [
          71.20243742497533,
          70.94296710114696
         ]
        },
        {
         "mode": "text",
         "showlegend": false,
         "text": [
          "2.07"
         ],
         "textposition": "middle center",
         "type": "scatter",
         "x": [
          50.09291097084367
         ],
         "y": [
          71.07270226306115
         ]
        },
        {
         "line": {
          "color": "black",
          "dash": "dash"
         },
         "mode": "lines",
         "name": "Circuit Connection",
         "showlegend": false,
         "type": "scatter",
         "x": [
          98.4938457701008,
          91.85147641525951
         ],
         "y": [
          87.47865017350445,
          86.37352999123115
         ]
        },
        {
         "mode": "text",
         "showlegend": false,
         "text": [
          "6.73"
         ],
         "textposition": "middle center",
         "type": "scatter",
         "x": [
          95.17266109268016
         ],
         "y": [
          86.9260900823678
         ]
        },
        {
         "line": {
          "color": "black",
          "dash": "dash"
         },
         "mode": "lines",
         "name": "Circuit Connection",
         "showlegend": false,
         "type": "scatter",
         "x": [
          49.904168390089396,
          75.81865803272113
         ],
         "y": [
          10.677999399370886,
          18.520442037394922
         ]
        },
        {
         "mode": "text",
         "showlegend": false,
         "text": [
          "27.08"
         ],
         "textposition": "middle center",
         "type": "scatter",
         "x": [
          62.861413211405264
         ],
         "y": [
          14.599220718382904
         ]
        },
        {
         "line": {
          "color": "black",
          "dash": "dash"
         },
         "mode": "lines",
         "name": "Circuit Connection",
         "showlegend": false,
         "type": "scatter",
         "x": [
          91.3212806989643,
          88.85204792711554
         ],
         "y": [
          36.4915960886285,
          36.57517372780295
         ]
        },
        {
         "mode": "text",
         "showlegend": false,
         "text": [
          "2.47"
         ],
         "textposition": "middle center",
         "type": "scatter",
         "x": [
          90.08666431303992
         ],
         "y": [
          36.53338490821572
         ]
        },
        {
         "line": {
          "color": "black",
          "dash": "dash"
         },
         "mode": "lines",
         "name": "Circuit Connection",
         "showlegend": false,
         "type": "scatter",
         "x": [
          22.658787689942837,
          26.499333495160453
         ],
         "y": [
          87.24318623454285,
          82.12556331171682
         ]
        },
        {
         "mode": "text",
         "showlegend": false,
         "text": [
          "6.40"
         ],
         "textposition": "middle center",
         "type": "scatter",
         "x": [
          24.579060592551645
         ],
         "y": [
          84.68437477312983
         ]
        },
        {
         "line": {
          "color": "black",
          "dash": "dash"
         },
         "mode": "lines",
         "name": "Circuit Connection",
         "showlegend": false,
         "type": "scatter",
         "x": [
          13.635835175923795,
          16.247361908146836
         ],
         "y": [
          23.638016015282027,
          23.77432865982079
         ]
        },
        {
         "mode": "text",
         "showlegend": false,
         "text": [
          "2.62"
         ],
         "textposition": "middle center",
         "type": "scatter",
         "x": [
          14.941598542035315
         ],
         "y": [
          23.706172337551408
         ]
        },
        {
         "line": {
          "color": "black",
          "dash": "dash"
         },
         "mode": "lines",
         "name": "Circuit Connection",
         "showlegend": false,
         "type": "scatter",
         "x": [
          59.53992453523792,
          66.61526803368142
         ],
         "y": [
          56.3922609078715,
          58.44290190267183
         ]
        },
        {
         "mode": "text",
         "showlegend": false,
         "text": [
          "7.37"
         ],
         "textposition": "middle center",
         "type": "scatter",
         "x": [
          63.07759628445967
         ],
         "y": [
          57.41758140527166
         ]
        },
        {
         "line": {
          "color": "black",
          "dash": "dash"
         },
         "mode": "lines",
         "name": "Circuit Connection",
         "showlegend": false,
         "type": "scatter",
         "x": [
          95.89347319832972,
          98.60599444328254
         ],
         "y": [
          45.32393332235999,
          45.77522740320745
         ]
        },
        {
         "mode": "text",
         "showlegend": false,
         "text": [
          "2.75"
         ],
         "textposition": "middle center",
         "type": "scatter",
         "x": [
          97.24973382080613
         ],
         "y": [
          45.54958036278372
         ]
        },
        {
         "line": {
          "color": "black",
          "dash": "dash"
         },
         "mode": "lines",
         "name": "Circuit Connection",
         "showlegend": false,
         "type": "scatter",
         "x": [
          12.895807457854048,
          13.516708158600085
         ],
         "y": [
          76.056767676739,
          76.08917654143502
         ]
        },
        {
         "mode": "text",
         "showlegend": false,
         "text": [
          "0.62"
         ],
         "textposition": "middle center",
         "type": "scatter",
         "x": [
          13.206257808227067
         ],
         "y": [
          76.072972109087
         ]
        },
        {
         "line": {
          "color": "black",
          "dash": "dash"
         },
         "mode": "lines",
         "name": "Circuit Connection",
         "showlegend": false,
         "type": "scatter",
         "x": [
          20.163407511411524,
          16.32473082533197
         ],
         "y": [
          17.57298632131816,
          22.29206708272512
         ]
        },
        {
         "mode": "text",
         "showlegend": false,
         "text": [
          "6.08"
         ],
         "textposition": "middle center",
         "type": "scatter",
         "x": [
          18.244069168371745
         ],
         "y": [
          19.93252670202164
         ]
        },
        {
         "line": {
          "color": "black",
          "dash": "dash"
         },
         "mode": "lines",
         "name": "Circuit Connection",
         "showlegend": false,
         "type": "scatter",
         "x": [
          43.71180126508111,
          47.76496867167781
         ],
         "y": [
          34.02608028478126,
          44.320708395757045
         ]
        },
        {
         "mode": "text",
         "showlegend": false,
         "text": [
          "11.06"
         ],
         "textposition": "middle center",
         "type": "scatter",
         "x": [
          45.738384968379464
         ],
         "y": [
          39.173394340269155
         ]
        },
        {
         "line": {
          "color": "black",
          "dash": "dash"
         },
         "mode": "lines",
         "name": "Circuit Connection",
         "showlegend": false,
         "type": "scatter",
         "x": [
          96.72531085605694,
          88.10804715980812
         ],
         "y": [
          14.302607708757154,
          14.594281529098131
         ]
        },
        {
         "mode": "text",
         "showlegend": false,
         "text": [
          "8.62"
         ],
         "textposition": "middle center",
         "type": "scatter",
         "x": [
          92.41667900793253
         ],
         "y": [
          14.448444618927642
         ]
        },
        {
         "line": {
          "color": "black",
          "dash": "dash"
         },
         "mode": "lines",
         "name": "Circuit Connection",
         "showlegend": false,
         "type": "scatter",
         "x": [
          84.4558532806118,
          80.5272765528601
         ],
         "y": [
          66.94061399806628,
          65.73399871091077
         ]
        },
        {
         "mode": "text",
         "showlegend": false,
         "text": [
          "4.11"
         ],
         "textposition": "middle center",
         "type": "scatter",
         "x": [
          82.49156491673595
         ],
         "y": [
          66.33730635448853
         ]
        },
        {
         "line": {
          "color": "black",
          "dash": "dash"
         },
         "mode": "lines",
         "name": "Circuit Connection",
         "showlegend": false,
         "type": "scatter",
         "x": [
          10.930490807954563,
          16.32473082533197
         ],
         "y": [
          8.8253540029274,
          22.29206708272512
         ]
        },
        {
         "mode": "text",
         "showlegend": false,
         "text": [
          "14.51"
         ],
         "textposition": "middle center",
         "type": "scatter",
         "x": [
          13.627610816643266
         ],
         "y": [
          15.558710542826258
         ]
        },
        {
         "line": {
          "color": "black",
          "dash": "dash"
         },
         "mode": "lines",
         "name": "Circuit Connection",
         "showlegend": false,
         "type": "scatter",
         "x": [
          96.64620412773903,
          88.28129952796002
         ],
         "y": [
          19.42974852130065,
          19.712880588208083
         ]
        },
        {
         "mode": "text",
         "showlegend": false,
         "text": [
          "8.37"
         ],
         "textposition": "middle center",
         "type": "scatter",
         "x": [
          92.46375182784952
         ],
         "y": [
          19.571314554754366
         ]
        },
        {
         "line": {
          "color": "black",
          "dash": "dash"
         },
         "mode": "lines",
         "name": "Circuit Connection",
         "showlegend": false,
         "type": "scatter",
         "x": [
          8.190006001834515,
          16.06076102055682
         ],
         "y": [
          26.938469527986364,
          27.34929566194117
         ]
        },
        {
         "mode": "text",
         "showlegend": false,
         "text": [
          "7.88"
         ],
         "textposition": "middle center",
         "type": "scatter",
         "x": [
          12.125383511195668
         ],
         "y": [
          27.143882594963767
         ]
        },
        {
         "line": {
          "color": "black",
          "dash": "dash"
         },
         "mode": "lines",
         "name": "Circuit Connection",
         "showlegend": false,
         "type": "scatter",
         "x": [
          65.01305180131334,
          67.49780468784024
         ],
         "y": [
          54.67772453446605,
          55.397878422709276
         ]
        },
        {
         "mode": "text",
         "showlegend": false,
         "text": [
          "2.59"
         ],
         "textposition": "middle center",
         "type": "scatter",
         "x": [
          66.25542824457679
         ],
         "y": [
          55.03780147858767
         ]
        },
        {
         "line": {
          "color": "black",
          "dash": "dash"
         },
         "mode": "lines",
         "name": "Thermoelectric Connection",
         "showlegend": false,
         "type": "scatter",
         "x": [
          16.32473082533196,
          16.32473082533197
         ],
         "y": [
          22.29206708272511,
          22.29206708272512
         ]
        },
        {
         "mode": "text",
         "showlegend": false,
         "text": [
          "0.00"
         ],
         "textposition": "middle center",
         "type": "scatter",
         "x": [
          16.324730825331965
         ],
         "y": [
          22.292067082725115
         ]
        },
        {
         "line": {
          "color": "black",
          "dash": "dash"
         },
         "mode": "lines",
         "name": "Thermoelectric Connection",
         "showlegend": false,
         "type": "scatter",
         "x": [
          92.20903285568244,
          89.21309409049053
         ],
         "y": [
          47.14058099659941,
          47.24198637723451
         ]
        },
        {
         "mode": "text",
         "showlegend": false,
         "text": [
          "3.00"
         ],
         "textposition": "middle center",
         "type": "scatter",
         "x": [
          90.71106347308648
         ],
         "y": [
          47.19128368691696
         ]
        },
        {
         "line": {
          "color": "black",
          "dash": "dash"
         },
         "mode": "lines",
         "name": "Thermoelectric Connection",
         "showlegend": false,
         "type": "scatter",
         "x": [
          39.96373789383739,
          39.979679546775685
         ],
         "y": [
          93.66732654658269,
          92.24195665724753
         ]
        },
        {
         "mode": "text",
         "showlegend": false,
         "text": [
          "1.43"
         ],
         "textposition": "middle center",
         "type": "scatter",
         "x": [
          39.97170872030654
         ],
         "y": [
          92.95464160191511
         ]
        },
        {
         "line": {
          "color": "black",
          "dash": "dash"
         },
         "mode": "lines",
         "name": "Thermoelectric Connection",
         "showlegend": false,
         "type": "scatter",
         "x": [
          79.32189834166,
          75.81865803272113
         ],
         "y": [
          16.8497369129662,
          18.520442037394922
         ]
        },
        {
         "mode": "text",
         "showlegend": false,
         "text": [
          "3.88"
         ],
         "textposition": "middle center",
         "type": "scatter",
         "x": [
          77.57027818719057
         ],
         "y": [
          17.68508947518056
         ]
        },
        {
         "line": {
          "color": "black",
          "dash": "dash"
         },
         "mode": "lines",
         "name": "Thermoelectric Connection",
         "showlegend": false,
         "type": "scatter",
         "x": [
          10.56935439159571,
          13.450577304101664
         ],
         "y": [
          80.91594296734888,
          77.35613526659026
         ]
        },
        {
         "mode": "text",
         "showlegend": false,
         "text": [
          "4.58"
         ],
         "textposition": "middle center",
         "type": "scatter",
         "x": [
          12.009965847848687
         ],
         "y": [
          79.13603911696957
         ]
        },
        {
         "line": {
          "color": "black",
          "dash": "dash"
         },
         "mode": "lines",
         "name": "Thermoelectric Connection",
         "showlegend": false,
         "type": "scatter",
         "x": [
          31.671064940534162,
          43.09725657627023
         ],
         "y": [
          63.71793713299608,
          65.0268434107519
         ]
        },
        {
         "mode": "text",
         "showlegend": false,
         "text": [
          "11.50"
         ],
         "textposition": "middle center",
         "type": "scatter",
         "x": [
          37.384160758402196
         ],
         "y": [
          64.37239027187398
         ]
        },
        {
         "line": {
          "color": "black",
          "dash": "dash"
         },
         "mode": "lines",
         "name": "Thermoelectric Connection",
         "showlegend": false,
         "type": "scatter",
         "x": [
          90.46084951811883,
          90.72864588916326
         ],
         "y": [
          92.02678498890222,
          92.01772072054868
         ]
        },
        {
         "mode": "text",
         "showlegend": false,
         "text": [
          "0.27"
         ],
         "textposition": "middle center",
         "type": "scatter",
         "x": [
          90.59474770364105
         ],
         "y": [
          92.02225285472545
         ]
        },
        {
         "line": {
          "color": "black",
          "dash": "dash"
         },
         "mode": "lines",
         "name": "Thermoelectric Connection",
         "showlegend": false,
         "type": "scatter",
         "x": [
          64.4861517072137,
          64.4861517072137
         ],
         "y": [
          65.78900948371631,
          65.78900948371631
         ]
        },
        {
         "mode": "text",
         "showlegend": false,
         "text": [
          "0.00"
         ],
         "textposition": "middle center",
         "type": "scatter",
         "x": [
          64.4861517072137
         ],
         "y": [
          65.78900948371631
         ]
        }
       ],
       "layout": {
        "height": 800,
        "legend": {
         "bgcolor": "rgba(255, 255, 255, 0.5)",
         "bordercolor": "rgba(0, 0, 0, 0.5)",
         "x": 0.01,
         "y": 0.99
        },
        "plot_bgcolor": "lightgreen",
        "template": {
         "data": {
          "bar": [
           {
            "error_x": {
             "color": "#2a3f5f"
            },
            "error_y": {
             "color": "#2a3f5f"
            },
            "marker": {
             "line": {
              "color": "#E5ECF6",
              "width": 0.5
             },
             "pattern": {
              "fillmode": "overlay",
              "size": 10,
              "solidity": 0.2
             }
            },
            "type": "bar"
           }
          ],
          "barpolar": [
           {
            "marker": {
             "line": {
              "color": "#E5ECF6",
              "width": 0.5
             },
             "pattern": {
              "fillmode": "overlay",
              "size": 10,
              "solidity": 0.2
             }
            },
            "type": "barpolar"
           }
          ],
          "carpet": [
           {
            "aaxis": {
             "endlinecolor": "#2a3f5f",
             "gridcolor": "white",
             "linecolor": "white",
             "minorgridcolor": "white",
             "startlinecolor": "#2a3f5f"
            },
            "baxis": {
             "endlinecolor": "#2a3f5f",
             "gridcolor": "white",
             "linecolor": "white",
             "minorgridcolor": "white",
             "startlinecolor": "#2a3f5f"
            },
            "type": "carpet"
           }
          ],
          "choropleth": [
           {
            "colorbar": {
             "outlinewidth": 0,
             "ticks": ""
            },
            "type": "choropleth"
           }
          ],
          "contour": [
           {
            "colorbar": {
             "outlinewidth": 0,
             "ticks": ""
            },
            "colorscale": [
             [
              0,
              "#0d0887"
             ],
             [
              0.1111111111111111,
              "#46039f"
             ],
             [
              0.2222222222222222,
              "#7201a8"
             ],
             [
              0.3333333333333333,
              "#9c179e"
             ],
             [
              0.4444444444444444,
              "#bd3786"
             ],
             [
              0.5555555555555556,
              "#d8576b"
             ],
             [
              0.6666666666666666,
              "#ed7953"
             ],
             [
              0.7777777777777778,
              "#fb9f3a"
             ],
             [
              0.8888888888888888,
              "#fdca26"
             ],
             [
              1,
              "#f0f921"
             ]
            ],
            "type": "contour"
           }
          ],
          "contourcarpet": [
           {
            "colorbar": {
             "outlinewidth": 0,
             "ticks": ""
            },
            "type": "contourcarpet"
           }
          ],
          "heatmap": [
           {
            "colorbar": {
             "outlinewidth": 0,
             "ticks": ""
            },
            "colorscale": [
             [
              0,
              "#0d0887"
             ],
             [
              0.1111111111111111,
              "#46039f"
             ],
             [
              0.2222222222222222,
              "#7201a8"
             ],
             [
              0.3333333333333333,
              "#9c179e"
             ],
             [
              0.4444444444444444,
              "#bd3786"
             ],
             [
              0.5555555555555556,
              "#d8576b"
             ],
             [
              0.6666666666666666,
              "#ed7953"
             ],
             [
              0.7777777777777778,
              "#fb9f3a"
             ],
             [
              0.8888888888888888,
              "#fdca26"
             ],
             [
              1,
              "#f0f921"
             ]
            ],
            "type": "heatmap"
           }
          ],
          "heatmapgl": [
           {
            "colorbar": {
             "outlinewidth": 0,
             "ticks": ""
            },
            "colorscale": [
             [
              0,
              "#0d0887"
             ],
             [
              0.1111111111111111,
              "#46039f"
             ],
             [
              0.2222222222222222,
              "#7201a8"
             ],
             [
              0.3333333333333333,
              "#9c179e"
             ],
             [
              0.4444444444444444,
              "#bd3786"
             ],
             [
              0.5555555555555556,
              "#d8576b"
             ],
             [
              0.6666666666666666,
              "#ed7953"
             ],
             [
              0.7777777777777778,
              "#fb9f3a"
             ],
             [
              0.8888888888888888,
              "#fdca26"
             ],
             [
              1,
              "#f0f921"
             ]
            ],
            "type": "heatmapgl"
           }
          ],
          "histogram": [
           {
            "marker": {
             "pattern": {
              "fillmode": "overlay",
              "size": 10,
              "solidity": 0.2
             }
            },
            "type": "histogram"
           }
          ],
          "histogram2d": [
           {
            "colorbar": {
             "outlinewidth": 0,
             "ticks": ""
            },
            "colorscale": [
             [
              0,
              "#0d0887"
             ],
             [
              0.1111111111111111,
              "#46039f"
             ],
             [
              0.2222222222222222,
              "#7201a8"
             ],
             [
              0.3333333333333333,
              "#9c179e"
             ],
             [
              0.4444444444444444,
              "#bd3786"
             ],
             [
              0.5555555555555556,
              "#d8576b"
             ],
             [
              0.6666666666666666,
              "#ed7953"
             ],
             [
              0.7777777777777778,
              "#fb9f3a"
             ],
             [
              0.8888888888888888,
              "#fdca26"
             ],
             [
              1,
              "#f0f921"
             ]
            ],
            "type": "histogram2d"
           }
          ],
          "histogram2dcontour": [
           {
            "colorbar": {
             "outlinewidth": 0,
             "ticks": ""
            },
            "colorscale": [
             [
              0,
              "#0d0887"
             ],
             [
              0.1111111111111111,
              "#46039f"
             ],
             [
              0.2222222222222222,
              "#7201a8"
             ],
             [
              0.3333333333333333,
              "#9c179e"
             ],
             [
              0.4444444444444444,
              "#bd3786"
             ],
             [
              0.5555555555555556,
              "#d8576b"
             ],
             [
              0.6666666666666666,
              "#ed7953"
             ],
             [
              0.7777777777777778,
              "#fb9f3a"
             ],
             [
              0.8888888888888888,
              "#fdca26"
             ],
             [
              1,
              "#f0f921"
             ]
            ],
            "type": "histogram2dcontour"
           }
          ],
          "mesh3d": [
           {
            "colorbar": {
             "outlinewidth": 0,
             "ticks": ""
            },
            "type": "mesh3d"
           }
          ],
          "parcoords": [
           {
            "line": {
             "colorbar": {
              "outlinewidth": 0,
              "ticks": ""
             }
            },
            "type": "parcoords"
           }
          ],
          "pie": [
           {
            "automargin": true,
            "type": "pie"
           }
          ],
          "scatter": [
           {
            "fillpattern": {
             "fillmode": "overlay",
             "size": 10,
             "solidity": 0.2
            },
            "type": "scatter"
           }
          ],
          "scatter3d": [
           {
            "line": {
             "colorbar": {
              "outlinewidth": 0,
              "ticks": ""
             }
            },
            "marker": {
             "colorbar": {
              "outlinewidth": 0,
              "ticks": ""
             }
            },
            "type": "scatter3d"
           }
          ],
          "scattercarpet": [
           {
            "marker": {
             "colorbar": {
              "outlinewidth": 0,
              "ticks": ""
             }
            },
            "type": "scattercarpet"
           }
          ],
          "scattergeo": [
           {
            "marker": {
             "colorbar": {
              "outlinewidth": 0,
              "ticks": ""
             }
            },
            "type": "scattergeo"
           }
          ],
          "scattergl": [
           {
            "marker": {
             "colorbar": {
              "outlinewidth": 0,
              "ticks": ""
             }
            },
            "type": "scattergl"
           }
          ],
          "scattermapbox": [
           {
            "marker": {
             "colorbar": {
              "outlinewidth": 0,
              "ticks": ""
             }
            },
            "type": "scattermapbox"
           }
          ],
          "scatterpolar": [
           {
            "marker": {
             "colorbar": {
              "outlinewidth": 0,
              "ticks": ""
             }
            },
            "type": "scatterpolar"
           }
          ],
          "scatterpolargl": [
           {
            "marker": {
             "colorbar": {
              "outlinewidth": 0,
              "ticks": ""
             }
            },
            "type": "scatterpolargl"
           }
          ],
          "scatterternary": [
           {
            "marker": {
             "colorbar": {
              "outlinewidth": 0,
              "ticks": ""
             }
            },
            "type": "scatterternary"
           }
          ],
          "surface": [
           {
            "colorbar": {
             "outlinewidth": 0,
             "ticks": ""
            },
            "colorscale": [
             [
              0,
              "#0d0887"
             ],
             [
              0.1111111111111111,
              "#46039f"
             ],
             [
              0.2222222222222222,
              "#7201a8"
             ],
             [
              0.3333333333333333,
              "#9c179e"
             ],
             [
              0.4444444444444444,
              "#bd3786"
             ],
             [
              0.5555555555555556,
              "#d8576b"
             ],
             [
              0.6666666666666666,
              "#ed7953"
             ],
             [
              0.7777777777777778,
              "#fb9f3a"
             ],
             [
              0.8888888888888888,
              "#fdca26"
             ],
             [
              1,
              "#f0f921"
             ]
            ],
            "type": "surface"
           }
          ],
          "table": [
           {
            "cells": {
             "fill": {
              "color": "#EBF0F8"
             },
             "line": {
              "color": "white"
             }
            },
            "header": {
             "fill": {
              "color": "#C8D4E3"
             },
             "line": {
              "color": "white"
             }
            },
            "type": "table"
           }
          ]
         },
         "layout": {
          "annotationdefaults": {
           "arrowcolor": "#2a3f5f",
           "arrowhead": 0,
           "arrowwidth": 1
          },
          "autotypenumbers": "strict",
          "coloraxis": {
           "colorbar": {
            "outlinewidth": 0,
            "ticks": ""
           }
          },
          "colorscale": {
           "diverging": [
            [
             0,
             "#8e0152"
            ],
            [
             0.1,
             "#c51b7d"
            ],
            [
             0.2,
             "#de77ae"
            ],
            [
             0.3,
             "#f1b6da"
            ],
            [
             0.4,
             "#fde0ef"
            ],
            [
             0.5,
             "#f7f7f7"
            ],
            [
             0.6,
             "#e6f5d0"
            ],
            [
             0.7,
             "#b8e186"
            ],
            [
             0.8,
             "#7fbc41"
            ],
            [
             0.9,
             "#4d9221"
            ],
            [
             1,
             "#276419"
            ]
           ],
           "sequential": [
            [
             0,
             "#0d0887"
            ],
            [
             0.1111111111111111,
             "#46039f"
            ],
            [
             0.2222222222222222,
             "#7201a8"
            ],
            [
             0.3333333333333333,
             "#9c179e"
            ],
            [
             0.4444444444444444,
             "#bd3786"
            ],
            [
             0.5555555555555556,
             "#d8576b"
            ],
            [
             0.6666666666666666,
             "#ed7953"
            ],
            [
             0.7777777777777778,
             "#fb9f3a"
            ],
            [
             0.8888888888888888,
             "#fdca26"
            ],
            [
             1,
             "#f0f921"
            ]
           ],
           "sequentialminus": [
            [
             0,
             "#0d0887"
            ],
            [
             0.1111111111111111,
             "#46039f"
            ],
            [
             0.2222222222222222,
             "#7201a8"
            ],
            [
             0.3333333333333333,
             "#9c179e"
            ],
            [
             0.4444444444444444,
             "#bd3786"
            ],
            [
             0.5555555555555556,
             "#d8576b"
            ],
            [
             0.6666666666666666,
             "#ed7953"
            ],
            [
             0.7777777777777778,
             "#fb9f3a"
            ],
            [
             0.8888888888888888,
             "#fdca26"
            ],
            [
             1,
             "#f0f921"
            ]
           ]
          },
          "colorway": [
           "#636efa",
           "#EF553B",
           "#00cc96",
           "#ab63fa",
           "#FFA15A",
           "#19d3f3",
           "#FF6692",
           "#B6E880",
           "#FF97FF",
           "#FECB52"
          ],
          "font": {
           "color": "#2a3f5f"
          },
          "geo": {
           "bgcolor": "white",
           "lakecolor": "white",
           "landcolor": "#E5ECF6",
           "showlakes": true,
           "showland": true,
           "subunitcolor": "white"
          },
          "hoverlabel": {
           "align": "left"
          },
          "hovermode": "closest",
          "mapbox": {
           "style": "light"
          },
          "paper_bgcolor": "white",
          "plot_bgcolor": "#E5ECF6",
          "polar": {
           "angularaxis": {
            "gridcolor": "white",
            "linecolor": "white",
            "ticks": ""
           },
           "bgcolor": "#E5ECF6",
           "radialaxis": {
            "gridcolor": "white",
            "linecolor": "white",
            "ticks": ""
           }
          },
          "scene": {
           "xaxis": {
            "backgroundcolor": "#E5ECF6",
            "gridcolor": "white",
            "gridwidth": 2,
            "linecolor": "white",
            "showbackground": true,
            "ticks": "",
            "zerolinecolor": "white"
           },
           "yaxis": {
            "backgroundcolor": "#E5ECF6",
            "gridcolor": "white",
            "gridwidth": 2,
            "linecolor": "white",
            "showbackground": true,
            "ticks": "",
            "zerolinecolor": "white"
           },
           "zaxis": {
            "backgroundcolor": "#E5ECF6",
            "gridcolor": "white",
            "gridwidth": 2,
            "linecolor": "white",
            "showbackground": true,
            "ticks": "",
            "zerolinecolor": "white"
           }
          },
          "shapedefaults": {
           "line": {
            "color": "#2a3f5f"
           }
          },
          "ternary": {
           "aaxis": {
            "gridcolor": "white",
            "linecolor": "white",
            "ticks": ""
           },
           "baxis": {
            "gridcolor": "white",
            "linecolor": "white",
            "ticks": ""
           },
           "bgcolor": "#E5ECF6",
           "caxis": {
            "gridcolor": "white",
            "linecolor": "white",
            "ticks": ""
           }
          },
          "title": {
           "x": 0.05
          },
          "xaxis": {
           "automargin": true,
           "gridcolor": "white",
           "linecolor": "white",
           "ticks": "",
           "title": {
            "standoff": 15
           },
           "zerolinecolor": "white",
           "zerolinewidth": 2
          },
          "yaxis": {
           "automargin": true,
           "gridcolor": "white",
           "linecolor": "white",
           "ticks": "",
           "title": {
            "standoff": 15
           },
           "zerolinecolor": "white",
           "zerolinewidth": 2
          }
         }
        },
        "title": {
         "text": "Map Visualization"
        },
        "xaxis": {
         "title": {
          "text": "X Coordinate"
         }
        },
        "yaxis": {
         "title": {
          "text": "Y Coordinate"
         }
        }
       }
      }
     },
     "metadata": {},
     "output_type": "display_data"
    }
   ],
   "source": [
    "graphMap = GraphMap(\n",
    "    thermoelectric_labels=[f\"Th{i}\" for i in range(NO_THERMOELECTRICS)],\n",
    "    circuits_labels=[f\"C{i}\" for i in range(NO_CIRCUITS)],\n",
    "    towers_labels=[f\"Tw{i}\" for i in range(len(map_2d.towers_positions))],\n",
    "    thermoelectrics_positions=map_2d.thermoelectrics_positions,\n",
    "    circuits_positions=map_2d.circuits_positions,\n",
    "    towers_positions=map_2d.towers_positions,\n",
    ")\n",
    "\n",
    "graphMap.visualize()"
   ]
  },
  {
   "cell_type": "code",
   "execution_count": 76,
   "metadata": {},
   "outputs": [
    {
     "data": {
      "application/vnd.plotly.v1+json": {
       "config": {
        "plotlyServerURL": "https://plot.ly"
       },
       "data": [
        {
         "hoverinfo": "text",
         "hoverlabel": {
          "bgcolor": "white",
          "font": {
           "family": "Rockwell",
           "size": 16
          }
         },
         "line": {
          "color": "black"
         },
         "mode": "lines",
         "name": "Wire Connection",
         "showlegend": false,
         "text": "C0 -> Th3",
         "type": "scatter",
         "x": [
          77.77024105738202,
          79.32189834166
         ],
         "y": [
          23.75412200349123,
          16.8497369129662
         ]
        },
        {
         "hoverinfo": "text",
         "hoverlabel": {
          "bgcolor": "white",
          "font": {
           "family": "Rockwell",
           "size": 16
          }
         },
         "line": {
          "color": "black"
         },
         "mode": "lines",
         "name": "Wire Connection",
         "showlegend": false,
         "text": "C1 -> Th6",
         "type": "scatter",
         "x": [
          82.42785326613685,
          90.46084951811883
         ],
         "y": [
          96.57491980429998,
          92.02678498890222
         ]
        },
        {
         "hoverinfo": "text",
         "hoverlabel": {
          "bgcolor": "white",
          "font": {
           "family": "Rockwell",
           "size": 16
          }
         },
         "line": {
          "color": "black"
         },
         "mode": "lines",
         "name": "Wire Connection",
         "showlegend": false,
         "text": "C2 -> Th6",
         "type": "scatter",
         "x": [
          97.26011139048933,
          90.46084951811883
         ],
         "y": [
          45.34492474173122,
          92.02678498890222
         ]
        },
        {
         "hoverinfo": "text",
         "hoverlabel": {
          "bgcolor": "white",
          "font": {
           "family": "Rockwell",
           "size": 16
          }
         },
         "line": {
          "color": "black"
         },
         "mode": "lines",
         "name": "Wire Connection",
         "showlegend": false,
         "text": "C3 -> Th7",
         "type": "scatter",
         "x": [
          60.90424627612779,
          64.4861517072137
         ],
         "y": [
          77.55265146048467,
          65.78900948371631
         ]
        },
        {
         "hoverinfo": "text",
         "hoverlabel": {
          "bgcolor": "white",
          "font": {
           "family": "Rockwell",
           "size": 16
          }
         },
         "line": {
          "color": "black"
         },
         "mode": "lines",
         "name": "Wire Connection",
         "showlegend": false,
         "text": "C4 -> Th7",
         "type": "scatter",
         "x": [
          64.16133447590691,
          64.4861517072137
         ],
         "y": [
          72.20182295169472,
          65.78900948371631
         ]
        },
        {
         "hoverinfo": "text",
         "hoverlabel": {
          "bgcolor": "white",
          "font": {
           "family": "Rockwell",
           "size": 16
          }
         },
         "line": {
          "color": "black"
         },
         "mode": "lines",
         "name": "Wire Connection",
         "showlegend": false,
         "text": "C5 -> Th0",
         "type": "scatter",
         "x": [
          3.5036524101437316,
          16.32473082533196
         ],
         "y": [
          29.84494708891794,
          22.29206708272511
         ]
        },
        {
         "hoverinfo": "text",
         "hoverlabel": {
          "bgcolor": "white",
          "font": {
           "family": "Rockwell",
           "size": 16
          }
         },
         "line": {
          "color": "black"
         },
         "mode": "lines",
         "name": "Wire Connection",
         "showlegend": false,
         "text": "C6 -> Th4",
         "type": "scatter",
         "x": [
          5.851249188207475,
          10.56935439159571
         ],
         "y": [
          85.70609425871989,
          80.91594296734888
         ]
        },
        {
         "hoverinfo": "text",
         "hoverlabel": {
          "bgcolor": "white",
          "font": {
           "family": "Rockwell",
           "size": 16
          }
         },
         "line": {
          "color": "black"
         },
         "mode": "lines",
         "name": "Wire Connection",
         "showlegend": false,
         "text": "C7 -> Th5",
         "type": "scatter",
         "x": [
          37.28540278748075,
          31.671064940534162
         ],
         "y": [
          67.9847951578097,
          63.71793713299608
         ]
        },
        {
         "hoverinfo": "text",
         "hoverlabel": {
          "bgcolor": "white",
          "font": {
           "family": "Rockwell",
           "size": 16
          }
         },
         "line": {
          "color": "black"
         },
         "mode": "lines",
         "name": "Wire Connection",
         "showlegend": false,
         "text": "C8 -> Th0",
         "type": "scatter",
         "x": [
          25.62799493266301,
          16.32473082533196
         ],
         "y": [
          34.758121515249194,
          22.29206708272511
         ]
        },
        {
         "hoverinfo": "text",
         "hoverlabel": {
          "bgcolor": "white",
          "font": {
           "family": "Rockwell",
           "size": 16
          }
         },
         "line": {
          "color": "black"
         },
         "mode": "lines",
         "name": "Wire Connection",
         "showlegend": false,
         "text": "C9 -> Th0",
         "type": "scatter",
         "x": [
          0.9412770080969413,
          16.32473082533196
         ],
         "y": [
          35.83337827049697,
          22.29206708272511
         ]
        },
        {
         "hoverinfo": "text",
         "hoverlabel": {
          "bgcolor": "white",
          "font": {
           "family": "Rockwell",
           "size": 16
          }
         },
         "line": {
          "color": "black"
         },
         "mode": "lines",
         "name": "Wire Connection",
         "showlegend": false,
         "text": "C10 -> Th1",
         "type": "scatter",
         "x": [
          94.90941816782103,
          92.20903285568244
         ],
         "y": [
          21.789900913168893,
          47.14058099659941
         ]
        },
        {
         "hoverinfo": "text",
         "hoverlabel": {
          "bgcolor": "white",
          "font": {
           "family": "Rockwell",
           "size": 16
          }
         },
         "line": {
          "color": "black"
         },
         "mode": "lines",
         "name": "Wire Connection",
         "showlegend": false,
         "text": "C11 -> Th2",
         "type": "scatter",
         "x": [
          31.93913663803646,
          39.96373789383739
         ],
         "y": [
          91.77723860005874,
          93.66732654658269
         ]
        },
        {
         "hoverinfo": "text",
         "hoverlabel": {
          "bgcolor": "white",
          "font": {
           "family": "Rockwell",
           "size": 16
          }
         },
         "line": {
          "color": "black"
         },
         "mode": "lines",
         "name": "Wire Connection",
         "showlegend": false,
         "text": "C12 -> Th0",
         "type": "scatter",
         "x": [
          3.190366643989473,
          16.32473082533196
         ],
         "y": [
          6.508453704251449,
          22.29206708272511
         ]
        },
        {
         "hoverinfo": "text",
         "hoverlabel": {
          "bgcolor": "white",
          "font": {
           "family": "Rockwell",
           "size": 16
          }
         },
         "line": {
          "color": "black"
         },
         "mode": "lines",
         "name": "Wire Connection",
         "showlegend": false,
         "text": "C13 -> Th7",
         "type": "scatter",
         "x": [
          62.982899910782294,
          64.4861517072137
         ],
         "y": [
          87.38134432795387,
          65.78900948371631
         ]
        },
        {
         "hoverinfo": "text",
         "hoverlabel": {
          "bgcolor": "white",
          "font": {
           "family": "Rockwell",
           "size": 16
          }
         },
         "line": {
          "color": "black"
         },
         "mode": "lines",
         "name": "Wire Connection",
         "showlegend": false,
         "text": "C14 -> Th4",
         "type": "scatter",
         "x": [
          0.8715732303784862,
          10.56935439159571
         ],
         "y": [
          74.65772369939376,
          80.91594296734888
         ]
        },
        {
         "hoverinfo": "text",
         "hoverlabel": {
          "bgcolor": "white",
          "font": {
           "family": "Rockwell",
           "size": 16
          }
         },
         "line": {
          "color": "black"
         },
         "mode": "lines",
         "name": "Wire Connection",
         "showlegend": false,
         "text": "C15 -> Th1",
         "type": "scatter",
         "x": [
          81.28411710026235,
          92.20903285568244
         ],
         "y": [
          7.571744617226672,
          47.14058099659941
         ]
        },
        {
         "hoverinfo": "text",
         "hoverlabel": {
          "bgcolor": "white",
          "font": {
           "family": "Rockwell",
           "size": 16
          }
         },
         "line": {
          "color": "black"
         },
         "mode": "lines",
         "name": "Wire Connection",
         "showlegend": false,
         "text": "C16 -> Th7",
         "type": "scatter",
         "x": [
          65.64553345969578,
          64.4861517072137
         ],
         "y": [
          50.92622000835182,
          65.78900948371631
         ]
        },
        {
         "hoverinfo": "text",
         "hoverlabel": {
          "bgcolor": "white",
          "font": {
           "family": "Rockwell",
           "size": 16
          }
         },
         "line": {
          "color": "black"
         },
         "mode": "lines",
         "name": "Wire Connection",
         "showlegend": false,
         "text": "C17 -> Th7",
         "type": "scatter",
         "x": [
          47.988339149638314,
          64.4861517072137
         ],
         "y": [
          95.55741449310663,
          65.78900948371631
         ]
        },
        {
         "hoverinfo": "text",
         "hoverlabel": {
          "bgcolor": "white",
          "font": {
           "family": "Rockwell",
           "size": 16
          }
         },
         "line": {
          "color": "black"
         },
         "mode": "lines",
         "name": "Wire Connection",
         "showlegend": false,
         "text": "C18 -> Th0",
         "type": "scatter",
         "x": [
          0.00120335694850926,
          16.32473082533196
         ],
         "y": [
          24.697870099191633,
          22.29206708272511
         ]
        },
        {
         "hoverinfo": "text",
         "hoverlabel": {
          "bgcolor": "white",
          "font": {
           "family": "Rockwell",
           "size": 16
          }
         },
         "line": {
          "color": "black"
         },
         "mode": "lines",
         "name": "Wire Connection",
         "showlegend": false,
         "text": "C19 -> Th3",
         "type": "scatter",
         "x": [
          71.22326779115835,
          79.32189834166
         ],
         "y": [
          32.45820497867131,
          16.8497369129662
         ]
        },
        {
         "hoverinfo": "text",
         "hoverlabel": {
          "bgcolor": "white",
          "font": {
           "family": "Rockwell",
           "size": 16
          }
         },
         "line": {
          "color": "black"
         },
         "mode": "lines",
         "name": "Wire Connection",
         "showlegend": false,
         "text": "C20 -> Th2",
         "type": "scatter",
         "x": [
          27.699635638380947,
          39.96373789383739
         ],
         "y": [
          69.54454525534746,
          93.66732654658269
         ]
        },
        {
         "hoverinfo": "text",
         "hoverlabel": {
          "bgcolor": "white",
          "font": {
           "family": "Rockwell",
           "size": 16
          }
         },
         "line": {
          "color": "black"
         },
         "mode": "lines",
         "name": "Wire Connection",
         "showlegend": false,
         "text": "C21 -> Th1",
         "type": "scatter",
         "x": [
          91.85517481459487,
          92.20903285568244
         ],
         "y": [
          24.44757021979903,
          47.14058099659941
         ]
        },
        {
         "hoverinfo": "text",
         "hoverlabel": {
          "bgcolor": "white",
          "font": {
           "family": "Rockwell",
           "size": 16
          }
         },
         "line": {
          "color": "black"
         },
         "mode": "lines",
         "name": "Wire Connection",
         "showlegend": false,
         "text": "C22 -> Th5",
         "type": "scatter",
         "x": [
          45.80858172767637,
          31.671064940534162
         ],
         "y": [
          25.299268282150646,
          63.71793713299608
         ]
        },
        {
         "hoverinfo": "text",
         "hoverlabel": {
          "bgcolor": "white",
          "font": {
           "family": "Rockwell",
           "size": 16
          }
         },
         "line": {
          "color": "black"
         },
         "mode": "lines",
         "name": "Wire Connection",
         "showlegend": false,
         "text": "C23 -> Th5",
         "type": "scatter",
         "x": [
          37.93332914830662,
          31.671064940534162
         ],
         "y": [
          60.4538828631711,
          63.71793713299608
         ]
        },
        {
         "hoverinfo": "text",
         "hoverlabel": {
          "bgcolor": "white",
          "font": {
           "family": "Rockwell",
           "size": 16
          }
         },
         "line": {
          "color": "black"
         },
         "mode": "lines",
         "name": "Wire Connection",
         "showlegend": false,
         "text": "C24 -> Th1",
         "type": "scatter",
         "x": [
          77.2378759680558,
          92.20903285568244
         ],
         "y": [
          6.79174967944145,
          47.14058099659941
         ]
        },
        {
         "hoverinfo": "text",
         "hoverlabel": {
          "bgcolor": "white",
          "font": {
           "family": "Rockwell",
           "size": 16
          }
         },
         "line": {
          "color": "black"
         },
         "mode": "lines",
         "name": "Wire Connection",
         "showlegend": false,
         "text": "C25 -> Th7",
         "type": "scatter",
         "x": [
          68.60850791873135,
          64.4861517072137
         ],
         "y": [
          54.826009739582524,
          65.78900948371631
         ]
        },
        {
         "hoverinfo": "text",
         "hoverlabel": {
          "bgcolor": "white",
          "font": {
           "family": "Rockwell",
           "size": 16
          }
         },
         "line": {
          "color": "black"
         },
         "mode": "lines",
         "name": "Wire Connection",
         "showlegend": false,
         "text": "C26 -> Th0",
         "type": "scatter",
         "x": [
          13.798605275825725,
          16.32473082533196
         ],
         "y": [
          9.875321920491842,
          22.29206708272511
         ]
        },
        {
         "hoverinfo": "text",
         "hoverlabel": {
          "bgcolor": "white",
          "font": {
           "family": "Rockwell",
           "size": 16
          }
         },
         "line": {
          "color": "black"
         },
         "mode": "lines",
         "name": "Wire Connection",
         "showlegend": false,
         "text": "C27 -> Th0",
         "type": "scatter",
         "x": [
          24.555910532465564,
          16.32473082533196
         ],
         "y": [
          15.17866625844726,
          22.29206708272511
         ]
        },
        {
         "hoverinfo": "text",
         "hoverlabel": {
          "bgcolor": "white",
          "font": {
           "family": "Rockwell",
           "size": 16
          }
         },
         "line": {
          "color": "black"
         },
         "mode": "lines",
         "name": "Wire Connection",
         "showlegend": false,
         "text": "C28 -> Th6",
         "type": "scatter",
         "x": [
          92.59944794902178,
          90.46084951811883
         ],
         "y": [
          68.0105015604642,
          92.02678498890222
         ]
        },
        {
         "hoverinfo": "text",
         "hoverlabel": {
          "bgcolor": "white",
          "font": {
           "family": "Rockwell",
           "size": 16
          }
         },
         "line": {
          "color": "black"
         },
         "mode": "lines",
         "name": "Wire Connection",
         "showlegend": false,
         "text": "C29 -> Th0",
         "type": "scatter",
         "x": [
          23.76589218796833,
          16.32473082533196
         ],
         "y": [
          56.88852525565604,
          22.29206708272511
         ]
        },
        {
         "hoverinfo": "text",
         "hoverlabel": {
          "bgcolor": "white",
          "font": {
           "family": "Rockwell",
           "size": 16
          }
         },
         "line": {
          "color": "black"
         },
         "mode": "lines",
         "name": "Wire Connection",
         "showlegend": false,
         "text": "C30 -> Th3",
         "type": "scatter",
         "x": [
          55.663205143440265,
          79.32189834166
         ],
         "y": [
          7.273721088434781,
          16.8497369129662
         ]
        },
        {
         "hoverinfo": "text",
         "hoverlabel": {
          "bgcolor": "white",
          "font": {
           "family": "Rockwell",
           "size": 16
          }
         },
         "line": {
          "color": "black"
         },
         "mode": "lines",
         "name": "Wire Connection",
         "showlegend": false,
         "text": "C31 -> Th1",
         "type": "scatter",
         "x": [
          83.97085104160709,
          92.20903285568244
         ],
         "y": [
          40.53194926981314,
          47.14058099659941
         ]
        },
        {
         "hoverinfo": "text",
         "hoverlabel": {
          "bgcolor": "white",
          "font": {
           "family": "Rockwell",
           "size": 16
          }
         },
         "line": {
          "color": "black"
         },
         "mode": "lines",
         "name": "Wire Connection",
         "showlegend": false,
         "text": "C32 -> Th0",
         "type": "scatter",
         "x": [
          14.48709890463251,
          16.32473082533196
         ],
         "y": [
          19.092005866659367,
          22.29206708272511
         ]
        },
        {
         "hoverinfo": "text",
         "hoverlabel": {
          "bgcolor": "white",
          "font": {
           "family": "Rockwell",
           "size": 16
          }
         },
         "line": {
          "color": "black"
         },
         "mode": "lines",
         "name": "Wire Connection",
         "showlegend": false,
         "text": "C33 -> Th7",
         "type": "scatter",
         "x": [
          49.064013706516086,
          64.4861517072137
         ],
         "y": [
          71.20243742497533,
          65.78900948371631
         ]
        },
        {
         "hoverinfo": "text",
         "hoverlabel": {
          "bgcolor": "white",
          "font": {
           "family": "Rockwell",
           "size": 16
          }
         },
         "line": {
          "color": "black"
         },
         "mode": "lines",
         "name": "Wire Connection",
         "showlegend": false,
         "text": "C34 -> Th6",
         "type": "scatter",
         "x": [
          98.4938457701008,
          90.46084951811883
         ],
         "y": [
          87.47865017350445,
          92.02678498890222
         ]
        },
        {
         "hoverinfo": "text",
         "hoverlabel": {
          "bgcolor": "white",
          "font": {
           "family": "Rockwell",
           "size": 16
          }
         },
         "line": {
          "color": "black"
         },
         "mode": "lines",
         "name": "Wire Connection",
         "showlegend": false,
         "text": "C35 -> Th3",
         "type": "scatter",
         "x": [
          49.904168390089396,
          79.32189834166
         ],
         "y": [
          10.677999399370886,
          16.8497369129662
         ]
        },
        {
         "hoverinfo": "text",
         "hoverlabel": {
          "bgcolor": "white",
          "font": {
           "family": "Rockwell",
           "size": 16
          }
         },
         "line": {
          "color": "black"
         },
         "mode": "lines",
         "name": "Wire Connection",
         "showlegend": false,
         "text": "C36 -> Th1",
         "type": "scatter",
         "x": [
          91.3212806989643,
          92.20903285568244
         ],
         "y": [
          36.4915960886285,
          47.14058099659941
         ]
        },
        {
         "hoverinfo": "text",
         "hoverlabel": {
          "bgcolor": "white",
          "font": {
           "family": "Rockwell",
           "size": 16
          }
         },
         "line": {
          "color": "black"
         },
         "mode": "lines",
         "name": "Wire Connection",
         "showlegend": false,
         "text": "C37 -> Th2",
         "type": "scatter",
         "x": [
          22.658787689942837,
          39.96373789383739
         ],
         "y": [
          87.24318623454285,
          93.66732654658269
         ]
        },
        {
         "hoverinfo": "text",
         "hoverlabel": {
          "bgcolor": "white",
          "font": {
           "family": "Rockwell",
           "size": 16
          }
         },
         "line": {
          "color": "black"
         },
         "mode": "lines",
         "name": "Wire Connection",
         "showlegend": false,
         "text": "C38 -> Th0",
         "type": "scatter",
         "x": [
          13.635835175923795,
          16.32473082533196
         ],
         "y": [
          23.638016015282027,
          22.29206708272511
         ]
        },
        {
         "hoverinfo": "text",
         "hoverlabel": {
          "bgcolor": "white",
          "font": {
           "family": "Rockwell",
           "size": 16
          }
         },
         "line": {
          "color": "black"
         },
         "mode": "lines",
         "name": "Wire Connection",
         "showlegend": false,
         "text": "C39 -> Th7",
         "type": "scatter",
         "x": [
          59.53992453523792,
          64.4861517072137
         ],
         "y": [
          56.3922609078715,
          65.78900948371631
         ]
        },
        {
         "hoverinfo": "text",
         "hoverlabel": {
          "bgcolor": "white",
          "font": {
           "family": "Rockwell",
           "size": 16
          }
         },
         "line": {
          "color": "black"
         },
         "mode": "lines",
         "name": "Wire Connection",
         "showlegend": false,
         "text": "C40 -> Th6",
         "type": "scatter",
         "x": [
          95.89347319832972,
          90.46084951811883
         ],
         "y": [
          45.32393332235999,
          92.02678498890222
         ]
        },
        {
         "hoverinfo": "text",
         "hoverlabel": {
          "bgcolor": "white",
          "font": {
           "family": "Rockwell",
           "size": 16
          }
         },
         "line": {
          "color": "black"
         },
         "mode": "lines",
         "name": "Wire Connection",
         "showlegend": false,
         "text": "C41 -> Th4",
         "type": "scatter",
         "x": [
          12.895807457854048,
          10.56935439159571
         ],
         "y": [
          76.056767676739,
          80.91594296734888
         ]
        },
        {
         "hoverinfo": "text",
         "hoverlabel": {
          "bgcolor": "white",
          "font": {
           "family": "Rockwell",
           "size": 16
          }
         },
         "line": {
          "color": "black"
         },
         "mode": "lines",
         "name": "Wire Connection",
         "showlegend": false,
         "text": "C42 -> Th0",
         "type": "scatter",
         "x": [
          20.163407511411524,
          16.32473082533196
         ],
         "y": [
          17.57298632131816,
          22.29206708272511
         ]
        },
        {
         "hoverinfo": "text",
         "hoverlabel": {
          "bgcolor": "white",
          "font": {
           "family": "Rockwell",
           "size": 16
          }
         },
         "line": {
          "color": "black"
         },
         "mode": "lines",
         "name": "Wire Connection",
         "showlegend": false,
         "text": "C43 -> Th5",
         "type": "scatter",
         "x": [
          43.71180126508111,
          31.671064940534162
         ],
         "y": [
          34.02608028478126,
          63.71793713299608
         ]
        },
        {
         "hoverinfo": "text",
         "hoverlabel": {
          "bgcolor": "white",
          "font": {
           "family": "Rockwell",
           "size": 16
          }
         },
         "line": {
          "color": "black"
         },
         "mode": "lines",
         "name": "Wire Connection",
         "showlegend": false,
         "text": "C44 -> Th1",
         "type": "scatter",
         "x": [
          96.72531085605694,
          92.20903285568244
         ],
         "y": [
          14.302607708757154,
          47.14058099659941
         ]
        },
        {
         "hoverinfo": "text",
         "hoverlabel": {
          "bgcolor": "white",
          "font": {
           "family": "Rockwell",
           "size": 16
          }
         },
         "line": {
          "color": "black"
         },
         "mode": "lines",
         "name": "Wire Connection",
         "showlegend": false,
         "text": "C45 -> Th3",
         "type": "scatter",
         "x": [
          84.4558532806118,
          79.32189834166
         ],
         "y": [
          66.94061399806628,
          16.8497369129662
         ]
        },
        {
         "hoverinfo": "text",
         "hoverlabel": {
          "bgcolor": "white",
          "font": {
           "family": "Rockwell",
           "size": 16
          }
         },
         "line": {
          "color": "black"
         },
         "mode": "lines",
         "name": "Wire Connection",
         "showlegend": false,
         "text": "C46 -> Th0",
         "type": "scatter",
         "x": [
          10.930490807954563,
          16.32473082533196
         ],
         "y": [
          8.8253540029274,
          22.29206708272511
         ]
        },
        {
         "hoverinfo": "text",
         "hoverlabel": {
          "bgcolor": "white",
          "font": {
           "family": "Rockwell",
           "size": 16
          }
         },
         "line": {
          "color": "black"
         },
         "mode": "lines",
         "name": "Wire Connection",
         "showlegend": false,
         "text": "C47 -> Th1",
         "type": "scatter",
         "x": [
          96.64620412773903,
          92.20903285568244
         ],
         "y": [
          19.42974852130065,
          47.14058099659941
         ]
        },
        {
         "hoverinfo": "text",
         "hoverlabel": {
          "bgcolor": "white",
          "font": {
           "family": "Rockwell",
           "size": 16
          }
         },
         "line": {
          "color": "black"
         },
         "mode": "lines",
         "name": "Wire Connection",
         "showlegend": false,
         "text": "C48 -> Th0",
         "type": "scatter",
         "x": [
          8.190006001834515,
          16.32473082533196
         ],
         "y": [
          26.938469527986364,
          22.29206708272511
         ]
        },
        {
         "hoverinfo": "text",
         "hoverlabel": {
          "bgcolor": "white",
          "font": {
           "family": "Rockwell",
           "size": 16
          }
         },
         "line": {
          "color": "black"
         },
         "mode": "lines",
         "name": "Wire Connection",
         "showlegend": false,
         "text": "C49 -> Th7",
         "type": "scatter",
         "x": [
          65.01305180131334,
          64.4861517072137
         ],
         "y": [
          54.67772453446605,
          65.78900948371631
         ]
        },
        {
         "hoverinfo": "text",
         "marker": {
          "color": "red",
          "size": 10
         },
         "mode": "markers+text",
         "text": [
          "C0"
         ],
         "textposition": "top center",
         "type": "scatter",
         "x": [
          77.77024105738202
         ],
         "y": [
          23.75412200349123
         ]
        },
        {
         "hoverinfo": "text",
         "marker": {
          "color": "red",
          "size": 10
         },
         "mode": "markers+text",
         "text": [
          "C1"
         ],
         "textposition": "top center",
         "type": "scatter",
         "x": [
          82.42785326613685
         ],
         "y": [
          96.57491980429998
         ]
        },
        {
         "hoverinfo": "text",
         "marker": {
          "color": "red",
          "size": 10
         },
         "mode": "markers+text",
         "text": [
          "C2"
         ],
         "textposition": "top center",
         "type": "scatter",
         "x": [
          97.26011139048933
         ],
         "y": [
          45.34492474173122
         ]
        },
        {
         "hoverinfo": "text",
         "marker": {
          "color": "red",
          "size": 10
         },
         "mode": "markers+text",
         "text": [
          "C3"
         ],
         "textposition": "top center",
         "type": "scatter",
         "x": [
          60.90424627612779
         ],
         "y": [
          77.55265146048467
         ]
        },
        {
         "hoverinfo": "text",
         "marker": {
          "color": "red",
          "size": 10
         },
         "mode": "markers+text",
         "text": [
          "C4"
         ],
         "textposition": "top center",
         "type": "scatter",
         "x": [
          64.16133447590691
         ],
         "y": [
          72.20182295169472
         ]
        },
        {
         "hoverinfo": "text",
         "marker": {
          "color": "red",
          "size": 10
         },
         "mode": "markers+text",
         "text": [
          "C5"
         ],
         "textposition": "top center",
         "type": "scatter",
         "x": [
          3.5036524101437316
         ],
         "y": [
          29.84494708891794
         ]
        },
        {
         "hoverinfo": "text",
         "marker": {
          "color": "red",
          "size": 10
         },
         "mode": "markers+text",
         "text": [
          "C6"
         ],
         "textposition": "top center",
         "type": "scatter",
         "x": [
          5.851249188207475
         ],
         "y": [
          85.70609425871989
         ]
        },
        {
         "hoverinfo": "text",
         "marker": {
          "color": "red",
          "size": 10
         },
         "mode": "markers+text",
         "text": [
          "C7"
         ],
         "textposition": "top center",
         "type": "scatter",
         "x": [
          37.28540278748075
         ],
         "y": [
          67.9847951578097
         ]
        },
        {
         "hoverinfo": "text",
         "marker": {
          "color": "red",
          "size": 10
         },
         "mode": "markers+text",
         "text": [
          "C8"
         ],
         "textposition": "top center",
         "type": "scatter",
         "x": [
          25.62799493266301
         ],
         "y": [
          34.758121515249194
         ]
        },
        {
         "hoverinfo": "text",
         "marker": {
          "color": "red",
          "size": 10
         },
         "mode": "markers+text",
         "text": [
          "C9"
         ],
         "textposition": "top center",
         "type": "scatter",
         "x": [
          0.9412770080969413
         ],
         "y": [
          35.83337827049697
         ]
        },
        {
         "hoverinfo": "text",
         "marker": {
          "color": "red",
          "size": 10
         },
         "mode": "markers+text",
         "text": [
          "C10"
         ],
         "textposition": "top center",
         "type": "scatter",
         "x": [
          94.90941816782103
         ],
         "y": [
          21.789900913168893
         ]
        },
        {
         "hoverinfo": "text",
         "marker": {
          "color": "red",
          "size": 10
         },
         "mode": "markers+text",
         "text": [
          "C11"
         ],
         "textposition": "top center",
         "type": "scatter",
         "x": [
          31.93913663803646
         ],
         "y": [
          91.77723860005874
         ]
        },
        {
         "hoverinfo": "text",
         "marker": {
          "color": "red",
          "size": 10
         },
         "mode": "markers+text",
         "text": [
          "C12"
         ],
         "textposition": "top center",
         "type": "scatter",
         "x": [
          3.190366643989473
         ],
         "y": [
          6.508453704251449
         ]
        },
        {
         "hoverinfo": "text",
         "marker": {
          "color": "red",
          "size": 10
         },
         "mode": "markers+text",
         "text": [
          "C13"
         ],
         "textposition": "top center",
         "type": "scatter",
         "x": [
          62.982899910782294
         ],
         "y": [
          87.38134432795387
         ]
        },
        {
         "hoverinfo": "text",
         "marker": {
          "color": "red",
          "size": 10
         },
         "mode": "markers+text",
         "text": [
          "C14"
         ],
         "textposition": "top center",
         "type": "scatter",
         "x": [
          0.8715732303784862
         ],
         "y": [
          74.65772369939376
         ]
        },
        {
         "hoverinfo": "text",
         "marker": {
          "color": "red",
          "size": 10
         },
         "mode": "markers+text",
         "text": [
          "C15"
         ],
         "textposition": "top center",
         "type": "scatter",
         "x": [
          81.28411710026235
         ],
         "y": [
          7.571744617226672
         ]
        },
        {
         "hoverinfo": "text",
         "marker": {
          "color": "red",
          "size": 10
         },
         "mode": "markers+text",
         "text": [
          "C16"
         ],
         "textposition": "top center",
         "type": "scatter",
         "x": [
          65.64553345969578
         ],
         "y": [
          50.92622000835182
         ]
        },
        {
         "hoverinfo": "text",
         "marker": {
          "color": "red",
          "size": 10
         },
         "mode": "markers+text",
         "text": [
          "C17"
         ],
         "textposition": "top center",
         "type": "scatter",
         "x": [
          47.988339149638314
         ],
         "y": [
          95.55741449310663
         ]
        },
        {
         "hoverinfo": "text",
         "marker": {
          "color": "red",
          "size": 10
         },
         "mode": "markers+text",
         "text": [
          "C18"
         ],
         "textposition": "top center",
         "type": "scatter",
         "x": [
          0.00120335694850926
         ],
         "y": [
          24.697870099191633
         ]
        },
        {
         "hoverinfo": "text",
         "marker": {
          "color": "red",
          "size": 10
         },
         "mode": "markers+text",
         "text": [
          "C19"
         ],
         "textposition": "top center",
         "type": "scatter",
         "x": [
          71.22326779115835
         ],
         "y": [
          32.45820497867131
         ]
        },
        {
         "hoverinfo": "text",
         "marker": {
          "color": "red",
          "size": 10
         },
         "mode": "markers+text",
         "text": [
          "C20"
         ],
         "textposition": "top center",
         "type": "scatter",
         "x": [
          27.699635638380947
         ],
         "y": [
          69.54454525534746
         ]
        },
        {
         "hoverinfo": "text",
         "marker": {
          "color": "red",
          "size": 10
         },
         "mode": "markers+text",
         "text": [
          "C21"
         ],
         "textposition": "top center",
         "type": "scatter",
         "x": [
          91.85517481459487
         ],
         "y": [
          24.44757021979903
         ]
        },
        {
         "hoverinfo": "text",
         "marker": {
          "color": "red",
          "size": 10
         },
         "mode": "markers+text",
         "text": [
          "C22"
         ],
         "textposition": "top center",
         "type": "scatter",
         "x": [
          45.80858172767637
         ],
         "y": [
          25.299268282150646
         ]
        },
        {
         "hoverinfo": "text",
         "marker": {
          "color": "red",
          "size": 10
         },
         "mode": "markers+text",
         "text": [
          "C23"
         ],
         "textposition": "top center",
         "type": "scatter",
         "x": [
          37.93332914830662
         ],
         "y": [
          60.4538828631711
         ]
        },
        {
         "hoverinfo": "text",
         "marker": {
          "color": "red",
          "size": 10
         },
         "mode": "markers+text",
         "text": [
          "C24"
         ],
         "textposition": "top center",
         "type": "scatter",
         "x": [
          77.2378759680558
         ],
         "y": [
          6.79174967944145
         ]
        },
        {
         "hoverinfo": "text",
         "marker": {
          "color": "red",
          "size": 10
         },
         "mode": "markers+text",
         "text": [
          "C25"
         ],
         "textposition": "top center",
         "type": "scatter",
         "x": [
          68.60850791873135
         ],
         "y": [
          54.826009739582524
         ]
        },
        {
         "hoverinfo": "text",
         "marker": {
          "color": "red",
          "size": 10
         },
         "mode": "markers+text",
         "text": [
          "C26"
         ],
         "textposition": "top center",
         "type": "scatter",
         "x": [
          13.798605275825725
         ],
         "y": [
          9.875321920491842
         ]
        },
        {
         "hoverinfo": "text",
         "marker": {
          "color": "red",
          "size": 10
         },
         "mode": "markers+text",
         "text": [
          "C27"
         ],
         "textposition": "top center",
         "type": "scatter",
         "x": [
          24.555910532465564
         ],
         "y": [
          15.17866625844726
         ]
        },
        {
         "hoverinfo": "text",
         "marker": {
          "color": "red",
          "size": 10
         },
         "mode": "markers+text",
         "text": [
          "C28"
         ],
         "textposition": "top center",
         "type": "scatter",
         "x": [
          92.59944794902178
         ],
         "y": [
          68.0105015604642
         ]
        },
        {
         "hoverinfo": "text",
         "marker": {
          "color": "red",
          "size": 10
         },
         "mode": "markers+text",
         "text": [
          "C29"
         ],
         "textposition": "top center",
         "type": "scatter",
         "x": [
          23.76589218796833
         ],
         "y": [
          56.88852525565604
         ]
        },
        {
         "hoverinfo": "text",
         "marker": {
          "color": "red",
          "size": 10
         },
         "mode": "markers+text",
         "text": [
          "C30"
         ],
         "textposition": "top center",
         "type": "scatter",
         "x": [
          55.663205143440265
         ],
         "y": [
          7.273721088434781
         ]
        },
        {
         "hoverinfo": "text",
         "marker": {
          "color": "red",
          "size": 10
         },
         "mode": "markers+text",
         "text": [
          "C31"
         ],
         "textposition": "top center",
         "type": "scatter",
         "x": [
          83.97085104160709
         ],
         "y": [
          40.53194926981314
         ]
        },
        {
         "hoverinfo": "text",
         "marker": {
          "color": "red",
          "size": 10
         },
         "mode": "markers+text",
         "text": [
          "C32"
         ],
         "textposition": "top center",
         "type": "scatter",
         "x": [
          14.48709890463251
         ],
         "y": [
          19.092005866659367
         ]
        },
        {
         "hoverinfo": "text",
         "marker": {
          "color": "red",
          "size": 10
         },
         "mode": "markers+text",
         "text": [
          "C33"
         ],
         "textposition": "top center",
         "type": "scatter",
         "x": [
          49.064013706516086
         ],
         "y": [
          71.20243742497533
         ]
        },
        {
         "hoverinfo": "text",
         "marker": {
          "color": "red",
          "size": 10
         },
         "mode": "markers+text",
         "text": [
          "C34"
         ],
         "textposition": "top center",
         "type": "scatter",
         "x": [
          98.4938457701008
         ],
         "y": [
          87.47865017350445
         ]
        },
        {
         "hoverinfo": "text",
         "marker": {
          "color": "red",
          "size": 10
         },
         "mode": "markers+text",
         "text": [
          "C35"
         ],
         "textposition": "top center",
         "type": "scatter",
         "x": [
          49.904168390089396
         ],
         "y": [
          10.677999399370886
         ]
        },
        {
         "hoverinfo": "text",
         "marker": {
          "color": "red",
          "size": 10
         },
         "mode": "markers+text",
         "text": [
          "C36"
         ],
         "textposition": "top center",
         "type": "scatter",
         "x": [
          91.3212806989643
         ],
         "y": [
          36.4915960886285
         ]
        },
        {
         "hoverinfo": "text",
         "marker": {
          "color": "red",
          "size": 10
         },
         "mode": "markers+text",
         "text": [
          "C37"
         ],
         "textposition": "top center",
         "type": "scatter",
         "x": [
          22.658787689942837
         ],
         "y": [
          87.24318623454285
         ]
        },
        {
         "hoverinfo": "text",
         "marker": {
          "color": "red",
          "size": 10
         },
         "mode": "markers+text",
         "text": [
          "C38"
         ],
         "textposition": "top center",
         "type": "scatter",
         "x": [
          13.635835175923795
         ],
         "y": [
          23.638016015282027
         ]
        },
        {
         "hoverinfo": "text",
         "marker": {
          "color": "red",
          "size": 10
         },
         "mode": "markers+text",
         "text": [
          "C39"
         ],
         "textposition": "top center",
         "type": "scatter",
         "x": [
          59.53992453523792
         ],
         "y": [
          56.3922609078715
         ]
        },
        {
         "hoverinfo": "text",
         "marker": {
          "color": "red",
          "size": 10
         },
         "mode": "markers+text",
         "text": [
          "C40"
         ],
         "textposition": "top center",
         "type": "scatter",
         "x": [
          95.89347319832972
         ],
         "y": [
          45.32393332235999
         ]
        },
        {
         "hoverinfo": "text",
         "marker": {
          "color": "red",
          "size": 10
         },
         "mode": "markers+text",
         "text": [
          "C41"
         ],
         "textposition": "top center",
         "type": "scatter",
         "x": [
          12.895807457854048
         ],
         "y": [
          76.056767676739
         ]
        },
        {
         "hoverinfo": "text",
         "marker": {
          "color": "red",
          "size": 10
         },
         "mode": "markers+text",
         "text": [
          "C42"
         ],
         "textposition": "top center",
         "type": "scatter",
         "x": [
          20.163407511411524
         ],
         "y": [
          17.57298632131816
         ]
        },
        {
         "hoverinfo": "text",
         "marker": {
          "color": "red",
          "size": 10
         },
         "mode": "markers+text",
         "text": [
          "C43"
         ],
         "textposition": "top center",
         "type": "scatter",
         "x": [
          43.71180126508111
         ],
         "y": [
          34.02608028478126
         ]
        },
        {
         "hoverinfo": "text",
         "marker": {
          "color": "red",
          "size": 10
         },
         "mode": "markers+text",
         "text": [
          "C44"
         ],
         "textposition": "top center",
         "type": "scatter",
         "x": [
          96.72531085605694
         ],
         "y": [
          14.302607708757154
         ]
        },
        {
         "hoverinfo": "text",
         "marker": {
          "color": "red",
          "size": 10
         },
         "mode": "markers+text",
         "text": [
          "C45"
         ],
         "textposition": "top center",
         "type": "scatter",
         "x": [
          84.4558532806118
         ],
         "y": [
          66.94061399806628
         ]
        },
        {
         "hoverinfo": "text",
         "marker": {
          "color": "red",
          "size": 10
         },
         "mode": "markers+text",
         "text": [
          "C46"
         ],
         "textposition": "top center",
         "type": "scatter",
         "x": [
          10.930490807954563
         ],
         "y": [
          8.8253540029274
         ]
        },
        {
         "hoverinfo": "text",
         "marker": {
          "color": "red",
          "size": 10
         },
         "mode": "markers+text",
         "text": [
          "C47"
         ],
         "textposition": "top center",
         "type": "scatter",
         "x": [
          96.64620412773903
         ],
         "y": [
          19.42974852130065
         ]
        },
        {
         "hoverinfo": "text",
         "marker": {
          "color": "red",
          "size": 10
         },
         "mode": "markers+text",
         "text": [
          "C48"
         ],
         "textposition": "top center",
         "type": "scatter",
         "x": [
          8.190006001834515
         ],
         "y": [
          26.938469527986364
         ]
        },
        {
         "hoverinfo": "text",
         "marker": {
          "color": "red",
          "size": 10
         },
         "mode": "markers+text",
         "text": [
          "C49"
         ],
         "textposition": "top center",
         "type": "scatter",
         "x": [
          65.01305180131334
         ],
         "y": [
          54.67772453446605
         ]
        },
        {
         "hoverinfo": "text",
         "marker": {
          "color": "blue",
          "size": 10
         },
         "mode": "markers+text",
         "text": [
          "Th0"
         ],
         "textposition": "top center",
         "type": "scatter",
         "x": [
          16.32473082533196
         ],
         "y": [
          22.29206708272511
         ]
        },
        {
         "hoverinfo": "text",
         "marker": {
          "color": "blue",
          "size": 10
         },
         "mode": "markers+text",
         "text": [
          "Th1"
         ],
         "textposition": "top center",
         "type": "scatter",
         "x": [
          92.20903285568244
         ],
         "y": [
          47.14058099659941
         ]
        },
        {
         "hoverinfo": "text",
         "marker": {
          "color": "blue",
          "size": 10
         },
         "mode": "markers+text",
         "text": [
          "Th2"
         ],
         "textposition": "top center",
         "type": "scatter",
         "x": [
          39.96373789383739
         ],
         "y": [
          93.66732654658269
         ]
        },
        {
         "hoverinfo": "text",
         "marker": {
          "color": "blue",
          "size": 10
         },
         "mode": "markers+text",
         "text": [
          "Th3"
         ],
         "textposition": "top center",
         "type": "scatter",
         "x": [
          79.32189834166
         ],
         "y": [
          16.8497369129662
         ]
        },
        {
         "hoverinfo": "text",
         "marker": {
          "color": "blue",
          "size": 10
         },
         "mode": "markers+text",
         "text": [
          "Th4"
         ],
         "textposition": "top center",
         "type": "scatter",
         "x": [
          10.56935439159571
         ],
         "y": [
          80.91594296734888
         ]
        },
        {
         "hoverinfo": "text",
         "marker": {
          "color": "blue",
          "size": 10
         },
         "mode": "markers+text",
         "text": [
          "Th5"
         ],
         "textposition": "top center",
         "type": "scatter",
         "x": [
          31.671064940534162
         ],
         "y": [
          63.71793713299608
         ]
        },
        {
         "hoverinfo": "text",
         "marker": {
          "color": "blue",
          "size": 10
         },
         "mode": "markers+text",
         "text": [
          "Th6"
         ],
         "textposition": "top center",
         "type": "scatter",
         "x": [
          90.46084951811883
         ],
         "y": [
          92.02678498890222
         ]
        },
        {
         "hoverinfo": "text",
         "marker": {
          "color": "blue",
          "size": 10
         },
         "mode": "markers+text",
         "text": [
          "Th7"
         ],
         "textposition": "top center",
         "type": "scatter",
         "x": [
          64.4861517072137
         ],
         "y": [
          65.78900948371631
         ]
        }
       ],
       "layout": {
        "height": 800,
        "plot_bgcolor": "lightgreen",
        "showlegend": false,
        "template": {
         "data": {
          "bar": [
           {
            "error_x": {
             "color": "#2a3f5f"
            },
            "error_y": {
             "color": "#2a3f5f"
            },
            "marker": {
             "line": {
              "color": "#E5ECF6",
              "width": 0.5
             },
             "pattern": {
              "fillmode": "overlay",
              "size": 10,
              "solidity": 0.2
             }
            },
            "type": "bar"
           }
          ],
          "barpolar": [
           {
            "marker": {
             "line": {
              "color": "#E5ECF6",
              "width": 0.5
             },
             "pattern": {
              "fillmode": "overlay",
              "size": 10,
              "solidity": 0.2
             }
            },
            "type": "barpolar"
           }
          ],
          "carpet": [
           {
            "aaxis": {
             "endlinecolor": "#2a3f5f",
             "gridcolor": "white",
             "linecolor": "white",
             "minorgridcolor": "white",
             "startlinecolor": "#2a3f5f"
            },
            "baxis": {
             "endlinecolor": "#2a3f5f",
             "gridcolor": "white",
             "linecolor": "white",
             "minorgridcolor": "white",
             "startlinecolor": "#2a3f5f"
            },
            "type": "carpet"
           }
          ],
          "choropleth": [
           {
            "colorbar": {
             "outlinewidth": 0,
             "ticks": ""
            },
            "type": "choropleth"
           }
          ],
          "contour": [
           {
            "colorbar": {
             "outlinewidth": 0,
             "ticks": ""
            },
            "colorscale": [
             [
              0,
              "#0d0887"
             ],
             [
              0.1111111111111111,
              "#46039f"
             ],
             [
              0.2222222222222222,
              "#7201a8"
             ],
             [
              0.3333333333333333,
              "#9c179e"
             ],
             [
              0.4444444444444444,
              "#bd3786"
             ],
             [
              0.5555555555555556,
              "#d8576b"
             ],
             [
              0.6666666666666666,
              "#ed7953"
             ],
             [
              0.7777777777777778,
              "#fb9f3a"
             ],
             [
              0.8888888888888888,
              "#fdca26"
             ],
             [
              1,
              "#f0f921"
             ]
            ],
            "type": "contour"
           }
          ],
          "contourcarpet": [
           {
            "colorbar": {
             "outlinewidth": 0,
             "ticks": ""
            },
            "type": "contourcarpet"
           }
          ],
          "heatmap": [
           {
            "colorbar": {
             "outlinewidth": 0,
             "ticks": ""
            },
            "colorscale": [
             [
              0,
              "#0d0887"
             ],
             [
              0.1111111111111111,
              "#46039f"
             ],
             [
              0.2222222222222222,
              "#7201a8"
             ],
             [
              0.3333333333333333,
              "#9c179e"
             ],
             [
              0.4444444444444444,
              "#bd3786"
             ],
             [
              0.5555555555555556,
              "#d8576b"
             ],
             [
              0.6666666666666666,
              "#ed7953"
             ],
             [
              0.7777777777777778,
              "#fb9f3a"
             ],
             [
              0.8888888888888888,
              "#fdca26"
             ],
             [
              1,
              "#f0f921"
             ]
            ],
            "type": "heatmap"
           }
          ],
          "heatmapgl": [
           {
            "colorbar": {
             "outlinewidth": 0,
             "ticks": ""
            },
            "colorscale": [
             [
              0,
              "#0d0887"
             ],
             [
              0.1111111111111111,
              "#46039f"
             ],
             [
              0.2222222222222222,
              "#7201a8"
             ],
             [
              0.3333333333333333,
              "#9c179e"
             ],
             [
              0.4444444444444444,
              "#bd3786"
             ],
             [
              0.5555555555555556,
              "#d8576b"
             ],
             [
              0.6666666666666666,
              "#ed7953"
             ],
             [
              0.7777777777777778,
              "#fb9f3a"
             ],
             [
              0.8888888888888888,
              "#fdca26"
             ],
             [
              1,
              "#f0f921"
             ]
            ],
            "type": "heatmapgl"
           }
          ],
          "histogram": [
           {
            "marker": {
             "pattern": {
              "fillmode": "overlay",
              "size": 10,
              "solidity": 0.2
             }
            },
            "type": "histogram"
           }
          ],
          "histogram2d": [
           {
            "colorbar": {
             "outlinewidth": 0,
             "ticks": ""
            },
            "colorscale": [
             [
              0,
              "#0d0887"
             ],
             [
              0.1111111111111111,
              "#46039f"
             ],
             [
              0.2222222222222222,
              "#7201a8"
             ],
             [
              0.3333333333333333,
              "#9c179e"
             ],
             [
              0.4444444444444444,
              "#bd3786"
             ],
             [
              0.5555555555555556,
              "#d8576b"
             ],
             [
              0.6666666666666666,
              "#ed7953"
             ],
             [
              0.7777777777777778,
              "#fb9f3a"
             ],
             [
              0.8888888888888888,
              "#fdca26"
             ],
             [
              1,
              "#f0f921"
             ]
            ],
            "type": "histogram2d"
           }
          ],
          "histogram2dcontour": [
           {
            "colorbar": {
             "outlinewidth": 0,
             "ticks": ""
            },
            "colorscale": [
             [
              0,
              "#0d0887"
             ],
             [
              0.1111111111111111,
              "#46039f"
             ],
             [
              0.2222222222222222,
              "#7201a8"
             ],
             [
              0.3333333333333333,
              "#9c179e"
             ],
             [
              0.4444444444444444,
              "#bd3786"
             ],
             [
              0.5555555555555556,
              "#d8576b"
             ],
             [
              0.6666666666666666,
              "#ed7953"
             ],
             [
              0.7777777777777778,
              "#fb9f3a"
             ],
             [
              0.8888888888888888,
              "#fdca26"
             ],
             [
              1,
              "#f0f921"
             ]
            ],
            "type": "histogram2dcontour"
           }
          ],
          "mesh3d": [
           {
            "colorbar": {
             "outlinewidth": 0,
             "ticks": ""
            },
            "type": "mesh3d"
           }
          ],
          "parcoords": [
           {
            "line": {
             "colorbar": {
              "outlinewidth": 0,
              "ticks": ""
             }
            },
            "type": "parcoords"
           }
          ],
          "pie": [
           {
            "automargin": true,
            "type": "pie"
           }
          ],
          "scatter": [
           {
            "fillpattern": {
             "fillmode": "overlay",
             "size": 10,
             "solidity": 0.2
            },
            "type": "scatter"
           }
          ],
          "scatter3d": [
           {
            "line": {
             "colorbar": {
              "outlinewidth": 0,
              "ticks": ""
             }
            },
            "marker": {
             "colorbar": {
              "outlinewidth": 0,
              "ticks": ""
             }
            },
            "type": "scatter3d"
           }
          ],
          "scattercarpet": [
           {
            "marker": {
             "colorbar": {
              "outlinewidth": 0,
              "ticks": ""
             }
            },
            "type": "scattercarpet"
           }
          ],
          "scattergeo": [
           {
            "marker": {
             "colorbar": {
              "outlinewidth": 0,
              "ticks": ""
             }
            },
            "type": "scattergeo"
           }
          ],
          "scattergl": [
           {
            "marker": {
             "colorbar": {
              "outlinewidth": 0,
              "ticks": ""
             }
            },
            "type": "scattergl"
           }
          ],
          "scattermapbox": [
           {
            "marker": {
             "colorbar": {
              "outlinewidth": 0,
              "ticks": ""
             }
            },
            "type": "scattermapbox"
           }
          ],
          "scatterpolar": [
           {
            "marker": {
             "colorbar": {
              "outlinewidth": 0,
              "ticks": ""
             }
            },
            "type": "scatterpolar"
           }
          ],
          "scatterpolargl": [
           {
            "marker": {
             "colorbar": {
              "outlinewidth": 0,
              "ticks": ""
             }
            },
            "type": "scatterpolargl"
           }
          ],
          "scatterternary": [
           {
            "marker": {
             "colorbar": {
              "outlinewidth": 0,
              "ticks": ""
             }
            },
            "type": "scatterternary"
           }
          ],
          "surface": [
           {
            "colorbar": {
             "outlinewidth": 0,
             "ticks": ""
            },
            "colorscale": [
             [
              0,
              "#0d0887"
             ],
             [
              0.1111111111111111,
              "#46039f"
             ],
             [
              0.2222222222222222,
              "#7201a8"
             ],
             [
              0.3333333333333333,
              "#9c179e"
             ],
             [
              0.4444444444444444,
              "#bd3786"
             ],
             [
              0.5555555555555556,
              "#d8576b"
             ],
             [
              0.6666666666666666,
              "#ed7953"
             ],
             [
              0.7777777777777778,
              "#fb9f3a"
             ],
             [
              0.8888888888888888,
              "#fdca26"
             ],
             [
              1,
              "#f0f921"
             ]
            ],
            "type": "surface"
           }
          ],
          "table": [
           {
            "cells": {
             "fill": {
              "color": "#EBF0F8"
             },
             "line": {
              "color": "white"
             }
            },
            "header": {
             "fill": {
              "color": "#C8D4E3"
             },
             "line": {
              "color": "white"
             }
            },
            "type": "table"
           }
          ]
         },
         "layout": {
          "annotationdefaults": {
           "arrowcolor": "#2a3f5f",
           "arrowhead": 0,
           "arrowwidth": 1
          },
          "autotypenumbers": "strict",
          "coloraxis": {
           "colorbar": {
            "outlinewidth": 0,
            "ticks": ""
           }
          },
          "colorscale": {
           "diverging": [
            [
             0,
             "#8e0152"
            ],
            [
             0.1,
             "#c51b7d"
            ],
            [
             0.2,
             "#de77ae"
            ],
            [
             0.3,
             "#f1b6da"
            ],
            [
             0.4,
             "#fde0ef"
            ],
            [
             0.5,
             "#f7f7f7"
            ],
            [
             0.6,
             "#e6f5d0"
            ],
            [
             0.7,
             "#b8e186"
            ],
            [
             0.8,
             "#7fbc41"
            ],
            [
             0.9,
             "#4d9221"
            ],
            [
             1,
             "#276419"
            ]
           ],
           "sequential": [
            [
             0,
             "#0d0887"
            ],
            [
             0.1111111111111111,
             "#46039f"
            ],
            [
             0.2222222222222222,
             "#7201a8"
            ],
            [
             0.3333333333333333,
             "#9c179e"
            ],
            [
             0.4444444444444444,
             "#bd3786"
            ],
            [
             0.5555555555555556,
             "#d8576b"
            ],
            [
             0.6666666666666666,
             "#ed7953"
            ],
            [
             0.7777777777777778,
             "#fb9f3a"
            ],
            [
             0.8888888888888888,
             "#fdca26"
            ],
            [
             1,
             "#f0f921"
            ]
           ],
           "sequentialminus": [
            [
             0,
             "#0d0887"
            ],
            [
             0.1111111111111111,
             "#46039f"
            ],
            [
             0.2222222222222222,
             "#7201a8"
            ],
            [
             0.3333333333333333,
             "#9c179e"
            ],
            [
             0.4444444444444444,
             "#bd3786"
            ],
            [
             0.5555555555555556,
             "#d8576b"
            ],
            [
             0.6666666666666666,
             "#ed7953"
            ],
            [
             0.7777777777777778,
             "#fb9f3a"
            ],
            [
             0.8888888888888888,
             "#fdca26"
            ],
            [
             1,
             "#f0f921"
            ]
           ]
          },
          "colorway": [
           "#636efa",
           "#EF553B",
           "#00cc96",
           "#ab63fa",
           "#FFA15A",
           "#19d3f3",
           "#FF6692",
           "#B6E880",
           "#FF97FF",
           "#FECB52"
          ],
          "font": {
           "color": "#2a3f5f"
          },
          "geo": {
           "bgcolor": "white",
           "lakecolor": "white",
           "landcolor": "#E5ECF6",
           "showlakes": true,
           "showland": true,
           "subunitcolor": "white"
          },
          "hoverlabel": {
           "align": "left"
          },
          "hovermode": "closest",
          "mapbox": {
           "style": "light"
          },
          "paper_bgcolor": "white",
          "plot_bgcolor": "#E5ECF6",
          "polar": {
           "angularaxis": {
            "gridcolor": "white",
            "linecolor": "white",
            "ticks": ""
           },
           "bgcolor": "#E5ECF6",
           "radialaxis": {
            "gridcolor": "white",
            "linecolor": "white",
            "ticks": ""
           }
          },
          "scene": {
           "xaxis": {
            "backgroundcolor": "#E5ECF6",
            "gridcolor": "white",
            "gridwidth": 2,
            "linecolor": "white",
            "showbackground": true,
            "ticks": "",
            "zerolinecolor": "white"
           },
           "yaxis": {
            "backgroundcolor": "#E5ECF6",
            "gridcolor": "white",
            "gridwidth": 2,
            "linecolor": "white",
            "showbackground": true,
            "ticks": "",
            "zerolinecolor": "white"
           },
           "zaxis": {
            "backgroundcolor": "#E5ECF6",
            "gridcolor": "white",
            "gridwidth": 2,
            "linecolor": "white",
            "showbackground": true,
            "ticks": "",
            "zerolinecolor": "white"
           }
          },
          "shapedefaults": {
           "line": {
            "color": "#2a3f5f"
           }
          },
          "ternary": {
           "aaxis": {
            "gridcolor": "white",
            "linecolor": "white",
            "ticks": ""
           },
           "baxis": {
            "gridcolor": "white",
            "linecolor": "white",
            "ticks": ""
           },
           "bgcolor": "#E5ECF6",
           "caxis": {
            "gridcolor": "white",
            "linecolor": "white",
            "ticks": ""
           }
          },
          "title": {
           "x": 0.05
          },
          "xaxis": {
           "automargin": true,
           "gridcolor": "white",
           "linecolor": "white",
           "ticks": "",
           "title": {
            "standoff": 15
           },
           "zerolinecolor": "white",
           "zerolinewidth": 2
          },
          "yaxis": {
           "automargin": true,
           "gridcolor": "white",
           "linecolor": "white",
           "ticks": "",
           "title": {
            "standoff": 15
           },
           "zerolinecolor": "white",
           "zerolinewidth": 2
          }
         }
        },
        "title": {
         "text": "Circuits and Thermoelectrics"
        }
       }
      }
     },
     "metadata": {},
     "output_type": "display_data"
    }
   ],
   "source": [
    "distance_cost_template = graphMap.thermoelectric_generation_cost\n",
    "\n",
    "# Generate circuits for map\n",
    "\n",
    "electric_system_circuits_list: list[Circuit] = []\n",
    "for i in range(NO_CIRCUITS):\n",
    "    citizen_count = SIMULATION_INTERNAL_RANDOM.integers(MIN_CITIZEN, MAX_CITIZEN)\n",
    "    citizen_range = (\n",
    "        max(citizen_count - MAX_DEVIATION_CITIZEN_IN_BLOCK, 0),\n",
    "        min(citizen_count + MAX_DEVIATION_CITIZEN_IN_BLOCK, MAX_CITIZEN),\n",
    "    )\n",
    "\n",
    "    industrialization = SIMULATION_INTERNAL_RANDOM.integers(0, DEMAND_INDUSTRIALIZATION) / DEMAND_INDUSTRIALIZATION\n",
    "    \n",
    "    bimodal_consumption = DailyElectricityConsumptionBimodal(\n",
    "        base_consumption=DEMAND_PER_PERSON * citizen_count\n",
    "        + DEMAND_INDUSTRIALIZATION * industrialization,\n",
    "        base_variability=VARIABILITY_DEMAND_PER_PERSON * citizen_count\n",
    "        + VARIABILITY_DEMAND_PER_INDUSTRIALIZATION * industrialization,\n",
    "        mean_morning=PEAK_CONSUMPTION_MORNING,\n",
    "        mean_evening=PEAK_CONSUMPTION_EVENING,\n",
    "        std_morning=SIMULATION_INTERNAL_RANDOM.uniform(1.0, MAX_DEVIATION_MORNING),\n",
    "        std_evening=SIMULATION_INTERNAL_RANDOM.uniform(1.0, MAX_DEVIATION_EVENING),\n",
    "        weight_morning=WEIGHT_MORNING,\n",
    "        weight_evening=WEIGHT_EVENING,\n",
    "    )\n",
    "\n",
    "    electric_system_circuits_list.append(\n",
    "        Circuit(\n",
    "            graphMap.circuits_nodes[i].id,\n",
    "            gaussian_mixture=bimodal_consumption,\n",
    "            blocks_range=(MIN_BLOCKS_PER_CIRCUIT, MAX_BLOCKS_PER_CIRCUIT),\n",
    "            citizens_range=citizen_range,\n",
    "            industrialization=industrialization,\n",
    "        )\n",
    "    )\n",
    "\n",
    "# Generate Thermoelectric generation based in the nearest circuits\n",
    "mapper_circuit_with_thermoelectric = {}\n",
    "\n",
    "for c in electric_system_circuits_list:\n",
    "\n",
    "    filtered = [f for f in graphMap.thermoelectric_generation_cost if f[1] == c.id]\n",
    "    filtered = sorted(filtered, key=lambda x: x[2])\n",
    "    mapper_circuit_with_thermoelectric[c.id] = filtered[0][0]\n",
    "\n",
    "\n",
    "import plotly.graph_objects as go\n",
    "\n",
    "# Create edges for the plotly graph\n",
    "edges = []\n",
    "edges_labels = []\n",
    "for circuit, thermoelectric in mapper_circuit_with_thermoelectric.items():\n",
    "\n",
    "    circuitPos = [c.position for c in graphMap.circuits_nodes if c.id == circuit][0]\n",
    "    thermoelectricPos = [\n",
    "        t.position for t in graphMap.thermoelectrics_nodes if t.id == thermoelectric\n",
    "    ][0]\n",
    "\n",
    "    edges.append((circuitPos, thermoelectricPos))\n",
    "    edges_labels.append(f\"{circuit} -> {thermoelectric}\")\n",
    "\n",
    "\n",
    "# Create a plotly graph\n",
    "fig = go.Figure()\n",
    "\n",
    "# Add edges to the plotly graph\n",
    "for i, edge in enumerate(edges):\n",
    "    circuit, thermoelectric = edge\n",
    "    fig.add_trace(\n",
    "        go.Scatter(\n",
    "            x=[circuit[0], thermoelectric[0]],\n",
    "            y=[circuit[1], thermoelectric[1]],\n",
    "            mode=\"lines\",\n",
    "            line=dict(color=\"black\"),\n",
    "            name=\"Wire Connection\",\n",
    "            showlegend=False,\n",
    "            hoverinfo=\"text\",\n",
    "            text=edges_labels[i],\n",
    "            hoverlabel=dict(bgcolor=\"white\", font_size=16, font_family=\"Rockwell\"),\n",
    "        )\n",
    "    )\n",
    "\n",
    "# Add nodes to the plotly graph\n",
    "all_nodes = graphMap.circuits_nodes + graphMap.thermoelectrics_nodes\n",
    "for i, node in enumerate(all_nodes):\n",
    "    fig.add_trace(\n",
    "        go.Scatter(\n",
    "            x=[node.position[0]],\n",
    "            y=[node.position[1]],\n",
    "            mode=\"markers+text\",\n",
    "            marker=dict(\n",
    "                size=10, color=\"blue\" if i >= len(graphMap.circuits_nodes) else \"red\"\n",
    "            ),\n",
    "            text=[node.id],\n",
    "            textposition=\"top center\",\n",
    "            hoverinfo=\"text\",\n",
    "        )\n",
    "    )\n",
    "\n",
    "fig.update_layout(\n",
    "    showlegend=False,\n",
    "    title=\"Circuits and Thermoelectrics\",\n",
    "    height=800,\n",
    "    plot_bgcolor=\"lightgreen\",\n",
    ")\n",
    "\n",
    "fig.show()"
   ]
  },
  {
   "cell_type": "code",
   "execution_count": 77,
   "metadata": {},
   "outputs": [
    {
     "data": {
      "text/html": [
       "<div>\n",
       "<style scoped>\n",
       "    .dataframe tbody tr th:only-of-type {\n",
       "        vertical-align: middle;\n",
       "    }\n",
       "\n",
       "    .dataframe tbody tr th {\n",
       "        vertical-align: top;\n",
       "    }\n",
       "\n",
       "    .dataframe thead th {\n",
       "        text-align: right;\n",
       "    }\n",
       "</style>\n",
       "<table border=\"1\" class=\"dataframe\">\n",
       "  <thead>\n",
       "    <tr style=\"text-align: right;\">\n",
       "      <th></th>\n",
       "      <th>C0</th>\n",
       "      <th>C1</th>\n",
       "      <th>C2</th>\n",
       "      <th>C3</th>\n",
       "      <th>C4</th>\n",
       "      <th>C5</th>\n",
       "      <th>C6</th>\n",
       "      <th>C7</th>\n",
       "      <th>C8</th>\n",
       "      <th>C9</th>\n",
       "      <th>...</th>\n",
       "      <th>C40</th>\n",
       "      <th>C41</th>\n",
       "      <th>C42</th>\n",
       "      <th>C43</th>\n",
       "      <th>C44</th>\n",
       "      <th>C45</th>\n",
       "      <th>C46</th>\n",
       "      <th>C47</th>\n",
       "      <th>C48</th>\n",
       "      <th>C49</th>\n",
       "    </tr>\n",
       "  </thead>\n",
       "  <tbody>\n",
       "    <tr>\n",
       "      <th>Th0</th>\n",
       "      <td>0.004552</td>\n",
       "      <td>0.008274</td>\n",
       "      <td>0.008962</td>\n",
       "      <td>0.003300</td>\n",
       "      <td>0.003707</td>\n",
       "      <td>0.000352</td>\n",
       "      <td>0.001133</td>\n",
       "      <td>0.001885</td>\n",
       "      <td>0.000370</td>\n",
       "      <td>0.000494</td>\n",
       "      <td>...</td>\n",
       "      <td>0.008982</td>\n",
       "      <td>0.000929</td>\n",
       "      <td>0.000104</td>\n",
       "      <td>0.002405</td>\n",
       "      <td>0.006930</td>\n",
       "      <td>0.005746</td>\n",
       "      <td>0.000247</td>\n",
       "      <td>0.007013</td>\n",
       "      <td>0.000221</td>\n",
       "      <td>0.003826</td>\n",
       "    </tr>\n",
       "    <tr>\n",
       "      <th>Th1</th>\n",
       "      <td>0.002903</td>\n",
       "      <td>0.000986</td>\n",
       "      <td>0.001673</td>\n",
       "      <td>0.004331</td>\n",
       "      <td>0.003903</td>\n",
       "      <td>0.007742</td>\n",
       "      <td>0.008524</td>\n",
       "      <td>0.005691</td>\n",
       "      <td>0.007330</td>\n",
       "      <td>0.007885</td>\n",
       "      <td>...</td>\n",
       "      <td>0.001693</td>\n",
       "      <td>0.008320</td>\n",
       "      <td>0.007495</td>\n",
       "      <td>0.005363</td>\n",
       "      <td>0.000755</td>\n",
       "      <td>0.001785</td>\n",
       "      <td>0.007638</td>\n",
       "      <td>0.000664</td>\n",
       "      <td>0.007612</td>\n",
       "      <td>0.003653</td>\n",
       "    </tr>\n",
       "    <tr>\n",
       "      <th>Th2</th>\n",
       "      <td>0.003189</td>\n",
       "      <td>0.006912</td>\n",
       "      <td>0.007600</td>\n",
       "      <td>0.001938</td>\n",
       "      <td>0.002344</td>\n",
       "      <td>0.001763</td>\n",
       "      <td>0.002544</td>\n",
       "      <td>0.000523</td>\n",
       "      <td>0.001351</td>\n",
       "      <td>0.001905</td>\n",
       "      <td>...</td>\n",
       "      <td>0.007619</td>\n",
       "      <td>0.002340</td>\n",
       "      <td>0.001515</td>\n",
       "      <td>0.001042</td>\n",
       "      <td>0.005567</td>\n",
       "      <td>0.004384</td>\n",
       "      <td>0.001658</td>\n",
       "      <td>0.005650</td>\n",
       "      <td>0.001632</td>\n",
       "      <td>0.002463</td>\n",
       "    </tr>\n",
       "    <tr>\n",
       "      <th>Th3</th>\n",
       "      <td>0.000188</td>\n",
       "      <td>0.003911</td>\n",
       "      <td>0.004598</td>\n",
       "      <td>0.001436</td>\n",
       "      <td>0.001009</td>\n",
       "      <td>0.004848</td>\n",
       "      <td>0.005629</td>\n",
       "      <td>0.002796</td>\n",
       "      <td>0.004436</td>\n",
       "      <td>0.004990</td>\n",
       "      <td>...</td>\n",
       "      <td>0.004618</td>\n",
       "      <td>0.005426</td>\n",
       "      <td>0.004600</td>\n",
       "      <td>0.002469</td>\n",
       "      <td>0.002566</td>\n",
       "      <td>0.001382</td>\n",
       "      <td>0.004744</td>\n",
       "      <td>0.002649</td>\n",
       "      <td>0.004717</td>\n",
       "      <td>0.000759</td>\n",
       "    </tr>\n",
       "    <tr>\n",
       "      <th>Th4</th>\n",
       "      <td>0.005570</td>\n",
       "      <td>0.009293</td>\n",
       "      <td>0.009980</td>\n",
       "      <td>0.004319</td>\n",
       "      <td>0.004725</td>\n",
       "      <td>0.001090</td>\n",
       "      <td>0.000271</td>\n",
       "      <td>0.002904</td>\n",
       "      <td>0.001389</td>\n",
       "      <td>0.001024</td>\n",
       "      <td>...</td>\n",
       "      <td>0.010000</td>\n",
       "      <td>0.000110</td>\n",
       "      <td>0.001122</td>\n",
       "      <td>0.003423</td>\n",
       "      <td>0.007948</td>\n",
       "      <td>0.006765</td>\n",
       "      <td>0.001266</td>\n",
       "      <td>0.008031</td>\n",
       "      <td>0.001066</td>\n",
       "      <td>0.004844</td>\n",
       "    </tr>\n",
       "    <tr>\n",
       "      <th>Th5</th>\n",
       "      <td>0.002894</td>\n",
       "      <td>0.006617</td>\n",
       "      <td>0.007304</td>\n",
       "      <td>0.001642</td>\n",
       "      <td>0.002049</td>\n",
       "      <td>0.002402</td>\n",
       "      <td>0.003183</td>\n",
       "      <td>0.000350</td>\n",
       "      <td>0.001990</td>\n",
       "      <td>0.002544</td>\n",
       "      <td>...</td>\n",
       "      <td>0.007324</td>\n",
       "      <td>0.002979</td>\n",
       "      <td>0.002154</td>\n",
       "      <td>0.000747</td>\n",
       "      <td>0.005272</td>\n",
       "      <td>0.004088</td>\n",
       "      <td>0.002297</td>\n",
       "      <td>0.005355</td>\n",
       "      <td>0.002271</td>\n",
       "      <td>0.002168</td>\n",
       "    </tr>\n",
       "    <tr>\n",
       "      <th>Th6</th>\n",
       "      <td>0.003621</td>\n",
       "      <td>0.000175</td>\n",
       "      <td>0.000863</td>\n",
       "      <td>0.005048</td>\n",
       "      <td>0.004621</td>\n",
       "      <td>0.008460</td>\n",
       "      <td>0.009241</td>\n",
       "      <td>0.006408</td>\n",
       "      <td>0.008048</td>\n",
       "      <td>0.008603</td>\n",
       "      <td>...</td>\n",
       "      <td>0.000882</td>\n",
       "      <td>0.009038</td>\n",
       "      <td>0.008212</td>\n",
       "      <td>0.006081</td>\n",
       "      <td>0.001473</td>\n",
       "      <td>0.002502</td>\n",
       "      <td>0.008356</td>\n",
       "      <td>0.001381</td>\n",
       "      <td>0.008329</td>\n",
       "      <td>0.004371</td>\n",
       "    </tr>\n",
       "    <tr>\n",
       "      <th>Th7</th>\n",
       "      <td>0.000955</td>\n",
       "      <td>0.004677</td>\n",
       "      <td>0.005365</td>\n",
       "      <td>0.000537</td>\n",
       "      <td>0.000110</td>\n",
       "      <td>0.003949</td>\n",
       "      <td>0.004730</td>\n",
       "      <td>0.001897</td>\n",
       "      <td>0.003537</td>\n",
       "      <td>0.004091</td>\n",
       "      <td>...</td>\n",
       "      <td>0.005384</td>\n",
       "      <td>0.004527</td>\n",
       "      <td>0.003701</td>\n",
       "      <td>0.001570</td>\n",
       "      <td>0.003332</td>\n",
       "      <td>0.002149</td>\n",
       "      <td>0.003845</td>\n",
       "      <td>0.003415</td>\n",
       "      <td>0.003818</td>\n",
       "      <td>0.000229</td>\n",
       "    </tr>\n",
       "  </tbody>\n",
       "</table>\n",
       "<p>8 rows × 50 columns</p>\n",
       "</div>"
      ],
      "text/plain": [
       "           C0        C1        C2        C3        C4        C5        C6  \\\n",
       "Th0  0.004552  0.008274  0.008962  0.003300  0.003707  0.000352  0.001133   \n",
       "Th1  0.002903  0.000986  0.001673  0.004331  0.003903  0.007742  0.008524   \n",
       "Th2  0.003189  0.006912  0.007600  0.001938  0.002344  0.001763  0.002544   \n",
       "Th3  0.000188  0.003911  0.004598  0.001436  0.001009  0.004848  0.005629   \n",
       "Th4  0.005570  0.009293  0.009980  0.004319  0.004725  0.001090  0.000271   \n",
       "Th5  0.002894  0.006617  0.007304  0.001642  0.002049  0.002402  0.003183   \n",
       "Th6  0.003621  0.000175  0.000863  0.005048  0.004621  0.008460  0.009241   \n",
       "Th7  0.000955  0.004677  0.005365  0.000537  0.000110  0.003949  0.004730   \n",
       "\n",
       "           C7        C8        C9  ...       C40       C41       C42  \\\n",
       "Th0  0.001885  0.000370  0.000494  ...  0.008982  0.000929  0.000104   \n",
       "Th1  0.005691  0.007330  0.007885  ...  0.001693  0.008320  0.007495   \n",
       "Th2  0.000523  0.001351  0.001905  ...  0.007619  0.002340  0.001515   \n",
       "Th3  0.002796  0.004436  0.004990  ...  0.004618  0.005426  0.004600   \n",
       "Th4  0.002904  0.001389  0.001024  ...  0.010000  0.000110  0.001122   \n",
       "Th5  0.000350  0.001990  0.002544  ...  0.007324  0.002979  0.002154   \n",
       "Th6  0.006408  0.008048  0.008603  ...  0.000882  0.009038  0.008212   \n",
       "Th7  0.001897  0.003537  0.004091  ...  0.005384  0.004527  0.003701   \n",
       "\n",
       "          C43       C44       C45       C46       C47       C48       C49  \n",
       "Th0  0.002405  0.006930  0.005746  0.000247  0.007013  0.000221  0.003826  \n",
       "Th1  0.005363  0.000755  0.001785  0.007638  0.000664  0.007612  0.003653  \n",
       "Th2  0.001042  0.005567  0.004384  0.001658  0.005650  0.001632  0.002463  \n",
       "Th3  0.002469  0.002566  0.001382  0.004744  0.002649  0.004717  0.000759  \n",
       "Th4  0.003423  0.007948  0.006765  0.001266  0.008031  0.001066  0.004844  \n",
       "Th5  0.000747  0.005272  0.004088  0.002297  0.005355  0.002271  0.002168  \n",
       "Th6  0.006081  0.001473  0.002502  0.008356  0.001381  0.008329  0.004371  \n",
       "Th7  0.001570  0.003332  0.002149  0.003845  0.003415  0.003818  0.000229  \n",
       "\n",
       "[8 rows x 50 columns]"
      ]
     },
     "execution_count": 77,
     "metadata": {},
     "output_type": "execute_result"
    }
   ],
   "source": [
    "# Generate the distance matrix\n",
    "\n",
    "\n",
    "def distance_template_to_distance_matrix(\n",
    "    template: list[tuple[str, str, float, list[str]]],\n",
    "    thermoelectrics: list[str],\n",
    "    circuits: list[str],\n",
    "):\n",
    "    matrix = [[-1 for _ in range(len(circuits))] for _ in range(len(thermoelectrics))]\n",
    "\n",
    "    c_map = {}\n",
    "    t_map = {}\n",
    "\n",
    "    for i, t in enumerate(thermoelectrics):\n",
    "        t_map[t] = i\n",
    "\n",
    "    for i, c in enumerate(circuits):\n",
    "        c_map[c] = i\n",
    "\n",
    "    max_cost = 1\n",
    "    for t, c, cost, _ in template:\n",
    "        matrix[t_map[t]][c_map[c]] = cost\n",
    "        max_cost = max(max_cost, cost)\n",
    "\n",
    "    for t, c, _, _ in template:\n",
    "        matrix[t_map[t]][c_map[c]] /= max_cost * DISTANCE_REGULATOR\n",
    "\n",
    "    return matrix\n",
    "\n",
    "\n",
    "matrix = distance_template_to_distance_matrix(\n",
    "    distance_cost_template,\n",
    "    [t.id for t in graphMap.thermoelectrics_nodes],\n",
    "    [c.id for c in graphMap.circuits_nodes],\n",
    ")\n",
    "\n",
    "\n",
    "distance_matrix_df = pd.DataFrame(\n",
    "    matrix,\n",
    "    index=[t.id for t in graphMap.thermoelectrics_nodes],\n",
    "    columns=[c.id for c in graphMap.circuits_nodes],\n",
    ")\n",
    "\n",
    "distance_matrix_df"
   ]
  },
  {
   "cell_type": "code",
   "execution_count": 78,
   "metadata": {},
   "outputs": [
    {
     "data": {
      "application/vnd.plotly.v1+json": {
       "config": {
        "plotlyServerURL": "https://plot.ly"
       },
       "data": [
        {
         "alignmentgroup": "True",
         "hovertemplate": "Thermoelectric ID=Th0<br>ID=%{x}<br>Total Capacity=%{y}<extra></extra>",
         "legendgroup": "Th0",
         "marker": {
          "color": "#636EFA",
          "pattern": {
           "shape": ""
          }
         },
         "name": "Th0",
         "offsetgroup": "Th0",
         "orientation": "v",
         "showlegend": true,
         "textposition": "auto",
         "type": "bar",
         "x": [
          "Th0"
         ],
         "xaxis": "x",
         "y": [
          41378.080892371814
         ],
         "yaxis": "y"
        },
        {
         "alignmentgroup": "True",
         "hovertemplate": "Thermoelectric ID=Th1<br>ID=%{x}<br>Total Capacity=%{y}<extra></extra>",
         "legendgroup": "Th1",
         "marker": {
          "color": "#EF553B",
          "pattern": {
           "shape": ""
          }
         },
         "name": "Th1",
         "offsetgroup": "Th1",
         "orientation": "v",
         "showlegend": true,
         "textposition": "auto",
         "type": "bar",
         "x": [
          "Th1"
         ],
         "xaxis": "x",
         "y": [
          18389.600700749175
         ],
         "yaxis": "y"
        },
        {
         "alignmentgroup": "True",
         "hovertemplate": "Thermoelectric ID=Th2<br>ID=%{x}<br>Total Capacity=%{y}<extra></extra>",
         "legendgroup": "Th2",
         "marker": {
          "color": "#00CC96",
          "pattern": {
           "shape": ""
          }
         },
         "name": "Th2",
         "offsetgroup": "Th2",
         "orientation": "v",
         "showlegend": true,
         "textposition": "auto",
         "type": "bar",
         "x": [
          "Th2"
         ],
         "xaxis": "x",
         "y": [
          9273.39881701974
         ],
         "yaxis": "y"
        },
        {
         "alignmentgroup": "True",
         "hovertemplate": "Thermoelectric ID=Th3<br>ID=%{x}<br>Total Capacity=%{y}<extra></extra>",
         "legendgroup": "Th3",
         "marker": {
          "color": "#AB63FA",
          "pattern": {
           "shape": ""
          }
         },
         "name": "Th3",
         "offsetgroup": "Th3",
         "orientation": "v",
         "showlegend": true,
         "textposition": "auto",
         "type": "bar",
         "x": [
          "Th3"
         ],
         "xaxis": "x",
         "y": [
          16402.18197485529
         ],
         "yaxis": "y"
        },
        {
         "alignmentgroup": "True",
         "hovertemplate": "Thermoelectric ID=Th4<br>ID=%{x}<br>Total Capacity=%{y}<extra></extra>",
         "legendgroup": "Th4",
         "marker": {
          "color": "#FFA15A",
          "pattern": {
           "shape": ""
          }
         },
         "name": "Th4",
         "offsetgroup": "Th4",
         "orientation": "v",
         "showlegend": true,
         "textposition": "auto",
         "type": "bar",
         "x": [
          "Th4"
         ],
         "xaxis": "x",
         "y": [
          5317.2613038156105
         ],
         "yaxis": "y"
        },
        {
         "alignmentgroup": "True",
         "hovertemplate": "Thermoelectric ID=Th5<br>ID=%{x}<br>Total Capacity=%{y}<extra></extra>",
         "legendgroup": "Th5",
         "marker": {
          "color": "#19D3F3",
          "pattern": {
           "shape": ""
          }
         },
         "name": "Th5",
         "offsetgroup": "Th5",
         "orientation": "v",
         "showlegend": true,
         "textposition": "auto",
         "type": "bar",
         "x": [
          "Th5"
         ],
         "xaxis": "x",
         "y": [
          7865.931527724202
         ],
         "yaxis": "y"
        },
        {
         "alignmentgroup": "True",
         "hovertemplate": "Thermoelectric ID=Th6<br>ID=%{x}<br>Total Capacity=%{y}<extra></extra>",
         "legendgroup": "Th6",
         "marker": {
          "color": "#FF6692",
          "pattern": {
           "shape": ""
          }
         },
         "name": "Th6",
         "offsetgroup": "Th6",
         "orientation": "v",
         "showlegend": true,
         "textposition": "auto",
         "type": "bar",
         "x": [
          "Th6"
         ],
         "xaxis": "x",
         "y": [
          15063.695742831453
         ],
         "yaxis": "y"
        },
        {
         "alignmentgroup": "True",
         "hovertemplate": "Thermoelectric ID=Th7<br>ID=%{x}<br>Total Capacity=%{y}<extra></extra>",
         "legendgroup": "Th7",
         "marker": {
          "color": "#B6E880",
          "pattern": {
           "shape": ""
          }
         },
         "name": "Th7",
         "offsetgroup": "Th7",
         "orientation": "v",
         "showlegend": true,
         "textposition": "auto",
         "type": "bar",
         "x": [
          "Th7"
         ],
         "xaxis": "x",
         "y": [
          25537.934117932837
         ],
         "yaxis": "y"
        }
       ],
       "layout": {
        "barmode": "relative",
        "height": 800,
        "legend": {
         "title": {
          "text": "Thermoelectric ID"
         },
         "tracegroupgap": 0
        },
        "template": {
         "data": {
          "bar": [
           {
            "error_x": {
             "color": "#2a3f5f"
            },
            "error_y": {
             "color": "#2a3f5f"
            },
            "marker": {
             "line": {
              "color": "#E5ECF6",
              "width": 0.5
             },
             "pattern": {
              "fillmode": "overlay",
              "size": 10,
              "solidity": 0.2
             }
            },
            "type": "bar"
           }
          ],
          "barpolar": [
           {
            "marker": {
             "line": {
              "color": "#E5ECF6",
              "width": 0.5
             },
             "pattern": {
              "fillmode": "overlay",
              "size": 10,
              "solidity": 0.2
             }
            },
            "type": "barpolar"
           }
          ],
          "carpet": [
           {
            "aaxis": {
             "endlinecolor": "#2a3f5f",
             "gridcolor": "white",
             "linecolor": "white",
             "minorgridcolor": "white",
             "startlinecolor": "#2a3f5f"
            },
            "baxis": {
             "endlinecolor": "#2a3f5f",
             "gridcolor": "white",
             "linecolor": "white",
             "minorgridcolor": "white",
             "startlinecolor": "#2a3f5f"
            },
            "type": "carpet"
           }
          ],
          "choropleth": [
           {
            "colorbar": {
             "outlinewidth": 0,
             "ticks": ""
            },
            "type": "choropleth"
           }
          ],
          "contour": [
           {
            "colorbar": {
             "outlinewidth": 0,
             "ticks": ""
            },
            "colorscale": [
             [
              0,
              "#0d0887"
             ],
             [
              0.1111111111111111,
              "#46039f"
             ],
             [
              0.2222222222222222,
              "#7201a8"
             ],
             [
              0.3333333333333333,
              "#9c179e"
             ],
             [
              0.4444444444444444,
              "#bd3786"
             ],
             [
              0.5555555555555556,
              "#d8576b"
             ],
             [
              0.6666666666666666,
              "#ed7953"
             ],
             [
              0.7777777777777778,
              "#fb9f3a"
             ],
             [
              0.8888888888888888,
              "#fdca26"
             ],
             [
              1,
              "#f0f921"
             ]
            ],
            "type": "contour"
           }
          ],
          "contourcarpet": [
           {
            "colorbar": {
             "outlinewidth": 0,
             "ticks": ""
            },
            "type": "contourcarpet"
           }
          ],
          "heatmap": [
           {
            "colorbar": {
             "outlinewidth": 0,
             "ticks": ""
            },
            "colorscale": [
             [
              0,
              "#0d0887"
             ],
             [
              0.1111111111111111,
              "#46039f"
             ],
             [
              0.2222222222222222,
              "#7201a8"
             ],
             [
              0.3333333333333333,
              "#9c179e"
             ],
             [
              0.4444444444444444,
              "#bd3786"
             ],
             [
              0.5555555555555556,
              "#d8576b"
             ],
             [
              0.6666666666666666,
              "#ed7953"
             ],
             [
              0.7777777777777778,
              "#fb9f3a"
             ],
             [
              0.8888888888888888,
              "#fdca26"
             ],
             [
              1,
              "#f0f921"
             ]
            ],
            "type": "heatmap"
           }
          ],
          "heatmapgl": [
           {
            "colorbar": {
             "outlinewidth": 0,
             "ticks": ""
            },
            "colorscale": [
             [
              0,
              "#0d0887"
             ],
             [
              0.1111111111111111,
              "#46039f"
             ],
             [
              0.2222222222222222,
              "#7201a8"
             ],
             [
              0.3333333333333333,
              "#9c179e"
             ],
             [
              0.4444444444444444,
              "#bd3786"
             ],
             [
              0.5555555555555556,
              "#d8576b"
             ],
             [
              0.6666666666666666,
              "#ed7953"
             ],
             [
              0.7777777777777778,
              "#fb9f3a"
             ],
             [
              0.8888888888888888,
              "#fdca26"
             ],
             [
              1,
              "#f0f921"
             ]
            ],
            "type": "heatmapgl"
           }
          ],
          "histogram": [
           {
            "marker": {
             "pattern": {
              "fillmode": "overlay",
              "size": 10,
              "solidity": 0.2
             }
            },
            "type": "histogram"
           }
          ],
          "histogram2d": [
           {
            "colorbar": {
             "outlinewidth": 0,
             "ticks": ""
            },
            "colorscale": [
             [
              0,
              "#0d0887"
             ],
             [
              0.1111111111111111,
              "#46039f"
             ],
             [
              0.2222222222222222,
              "#7201a8"
             ],
             [
              0.3333333333333333,
              "#9c179e"
             ],
             [
              0.4444444444444444,
              "#bd3786"
             ],
             [
              0.5555555555555556,
              "#d8576b"
             ],
             [
              0.6666666666666666,
              "#ed7953"
             ],
             [
              0.7777777777777778,
              "#fb9f3a"
             ],
             [
              0.8888888888888888,
              "#fdca26"
             ],
             [
              1,
              "#f0f921"
             ]
            ],
            "type": "histogram2d"
           }
          ],
          "histogram2dcontour": [
           {
            "colorbar": {
             "outlinewidth": 0,
             "ticks": ""
            },
            "colorscale": [
             [
              0,
              "#0d0887"
             ],
             [
              0.1111111111111111,
              "#46039f"
             ],
             [
              0.2222222222222222,
              "#7201a8"
             ],
             [
              0.3333333333333333,
              "#9c179e"
             ],
             [
              0.4444444444444444,
              "#bd3786"
             ],
             [
              0.5555555555555556,
              "#d8576b"
             ],
             [
              0.6666666666666666,
              "#ed7953"
             ],
             [
              0.7777777777777778,
              "#fb9f3a"
             ],
             [
              0.8888888888888888,
              "#fdca26"
             ],
             [
              1,
              "#f0f921"
             ]
            ],
            "type": "histogram2dcontour"
           }
          ],
          "mesh3d": [
           {
            "colorbar": {
             "outlinewidth": 0,
             "ticks": ""
            },
            "type": "mesh3d"
           }
          ],
          "parcoords": [
           {
            "line": {
             "colorbar": {
              "outlinewidth": 0,
              "ticks": ""
             }
            },
            "type": "parcoords"
           }
          ],
          "pie": [
           {
            "automargin": true,
            "type": "pie"
           }
          ],
          "scatter": [
           {
            "fillpattern": {
             "fillmode": "overlay",
             "size": 10,
             "solidity": 0.2
            },
            "type": "scatter"
           }
          ],
          "scatter3d": [
           {
            "line": {
             "colorbar": {
              "outlinewidth": 0,
              "ticks": ""
             }
            },
            "marker": {
             "colorbar": {
              "outlinewidth": 0,
              "ticks": ""
             }
            },
            "type": "scatter3d"
           }
          ],
          "scattercarpet": [
           {
            "marker": {
             "colorbar": {
              "outlinewidth": 0,
              "ticks": ""
             }
            },
            "type": "scattercarpet"
           }
          ],
          "scattergeo": [
           {
            "marker": {
             "colorbar": {
              "outlinewidth": 0,
              "ticks": ""
             }
            },
            "type": "scattergeo"
           }
          ],
          "scattergl": [
           {
            "marker": {
             "colorbar": {
              "outlinewidth": 0,
              "ticks": ""
             }
            },
            "type": "scattergl"
           }
          ],
          "scattermapbox": [
           {
            "marker": {
             "colorbar": {
              "outlinewidth": 0,
              "ticks": ""
             }
            },
            "type": "scattermapbox"
           }
          ],
          "scatterpolar": [
           {
            "marker": {
             "colorbar": {
              "outlinewidth": 0,
              "ticks": ""
             }
            },
            "type": "scatterpolar"
           }
          ],
          "scatterpolargl": [
           {
            "marker": {
             "colorbar": {
              "outlinewidth": 0,
              "ticks": ""
             }
            },
            "type": "scatterpolargl"
           }
          ],
          "scatterternary": [
           {
            "marker": {
             "colorbar": {
              "outlinewidth": 0,
              "ticks": ""
             }
            },
            "type": "scatterternary"
           }
          ],
          "surface": [
           {
            "colorbar": {
             "outlinewidth": 0,
             "ticks": ""
            },
            "colorscale": [
             [
              0,
              "#0d0887"
             ],
             [
              0.1111111111111111,
              "#46039f"
             ],
             [
              0.2222222222222222,
              "#7201a8"
             ],
             [
              0.3333333333333333,
              "#9c179e"
             ],
             [
              0.4444444444444444,
              "#bd3786"
             ],
             [
              0.5555555555555556,
              "#d8576b"
             ],
             [
              0.6666666666666666,
              "#ed7953"
             ],
             [
              0.7777777777777778,
              "#fb9f3a"
             ],
             [
              0.8888888888888888,
              "#fdca26"
             ],
             [
              1,
              "#f0f921"
             ]
            ],
            "type": "surface"
           }
          ],
          "table": [
           {
            "cells": {
             "fill": {
              "color": "#EBF0F8"
             },
             "line": {
              "color": "white"
             }
            },
            "header": {
             "fill": {
              "color": "#C8D4E3"
             },
             "line": {
              "color": "white"
             }
            },
            "type": "table"
           }
          ]
         },
         "layout": {
          "annotationdefaults": {
           "arrowcolor": "#2a3f5f",
           "arrowhead": 0,
           "arrowwidth": 1
          },
          "autotypenumbers": "strict",
          "coloraxis": {
           "colorbar": {
            "outlinewidth": 0,
            "ticks": ""
           }
          },
          "colorscale": {
           "diverging": [
            [
             0,
             "#8e0152"
            ],
            [
             0.1,
             "#c51b7d"
            ],
            [
             0.2,
             "#de77ae"
            ],
            [
             0.3,
             "#f1b6da"
            ],
            [
             0.4,
             "#fde0ef"
            ],
            [
             0.5,
             "#f7f7f7"
            ],
            [
             0.6,
             "#e6f5d0"
            ],
            [
             0.7,
             "#b8e186"
            ],
            [
             0.8,
             "#7fbc41"
            ],
            [
             0.9,
             "#4d9221"
            ],
            [
             1,
             "#276419"
            ]
           ],
           "sequential": [
            [
             0,
             "#0d0887"
            ],
            [
             0.1111111111111111,
             "#46039f"
            ],
            [
             0.2222222222222222,
             "#7201a8"
            ],
            [
             0.3333333333333333,
             "#9c179e"
            ],
            [
             0.4444444444444444,
             "#bd3786"
            ],
            [
             0.5555555555555556,
             "#d8576b"
            ],
            [
             0.6666666666666666,
             "#ed7953"
            ],
            [
             0.7777777777777778,
             "#fb9f3a"
            ],
            [
             0.8888888888888888,
             "#fdca26"
            ],
            [
             1,
             "#f0f921"
            ]
           ],
           "sequentialminus": [
            [
             0,
             "#0d0887"
            ],
            [
             0.1111111111111111,
             "#46039f"
            ],
            [
             0.2222222222222222,
             "#7201a8"
            ],
            [
             0.3333333333333333,
             "#9c179e"
            ],
            [
             0.4444444444444444,
             "#bd3786"
            ],
            [
             0.5555555555555556,
             "#d8576b"
            ],
            [
             0.6666666666666666,
             "#ed7953"
            ],
            [
             0.7777777777777778,
             "#fb9f3a"
            ],
            [
             0.8888888888888888,
             "#fdca26"
            ],
            [
             1,
             "#f0f921"
            ]
           ]
          },
          "colorway": [
           "#636efa",
           "#EF553B",
           "#00cc96",
           "#ab63fa",
           "#FFA15A",
           "#19d3f3",
           "#FF6692",
           "#B6E880",
           "#FF97FF",
           "#FECB52"
          ],
          "font": {
           "color": "#2a3f5f"
          },
          "geo": {
           "bgcolor": "white",
           "lakecolor": "white",
           "landcolor": "#E5ECF6",
           "showlakes": true,
           "showland": true,
           "subunitcolor": "white"
          },
          "hoverlabel": {
           "align": "left"
          },
          "hovermode": "closest",
          "mapbox": {
           "style": "light"
          },
          "paper_bgcolor": "white",
          "plot_bgcolor": "#E5ECF6",
          "polar": {
           "angularaxis": {
            "gridcolor": "white",
            "linecolor": "white",
            "ticks": ""
           },
           "bgcolor": "#E5ECF6",
           "radialaxis": {
            "gridcolor": "white",
            "linecolor": "white",
            "ticks": ""
           }
          },
          "scene": {
           "xaxis": {
            "backgroundcolor": "#E5ECF6",
            "gridcolor": "white",
            "gridwidth": 2,
            "linecolor": "white",
            "showbackground": true,
            "ticks": "",
            "zerolinecolor": "white"
           },
           "yaxis": {
            "backgroundcolor": "#E5ECF6",
            "gridcolor": "white",
            "gridwidth": 2,
            "linecolor": "white",
            "showbackground": true,
            "ticks": "",
            "zerolinecolor": "white"
           },
           "zaxis": {
            "backgroundcolor": "#E5ECF6",
            "gridcolor": "white",
            "gridwidth": 2,
            "linecolor": "white",
            "showbackground": true,
            "ticks": "",
            "zerolinecolor": "white"
           }
          },
          "shapedefaults": {
           "line": {
            "color": "#2a3f5f"
           }
          },
          "ternary": {
           "aaxis": {
            "gridcolor": "white",
            "linecolor": "white",
            "ticks": ""
           },
           "baxis": {
            "gridcolor": "white",
            "linecolor": "white",
            "ticks": ""
           },
           "bgcolor": "#E5ECF6",
           "caxis": {
            "gridcolor": "white",
            "linecolor": "white",
            "ticks": ""
           }
          },
          "title": {
           "x": 0.05
          },
          "xaxis": {
           "automargin": true,
           "gridcolor": "white",
           "linecolor": "white",
           "ticks": "",
           "title": {
            "standoff": 15
           },
           "zerolinecolor": "white",
           "zerolinewidth": 2
          },
          "yaxis": {
           "automargin": true,
           "gridcolor": "white",
           "linecolor": "white",
           "ticks": "",
           "title": {
            "standoff": 15
           },
           "zerolinecolor": "white",
           "zerolinewidth": 2
          }
         }
        },
        "title": {
         "text": "Total Capacity of Thermoelectrics"
        },
        "xaxis": {
         "anchor": "y",
         "domain": [
          0,
          1
         ],
         "title": {
          "text": "ID"
         }
        },
        "yaxis": {
         "anchor": "x",
         "domain": [
          0,
          1
         ],
         "title": {
          "text": "Total Capacity"
         }
        }
       }
      }
     },
     "metadata": {},
     "output_type": "display_data"
    }
   ],
   "source": [
    "# Generate thermoelectrics\n",
    "electric_system_thermoelectrics_list: list[Thermoelectric] = []\n",
    "\n",
    "for i, t in enumerate(graphMap.thermoelectrics_nodes):\n",
    "    generated_thermoelectric_min_cost = 0\n",
    "\n",
    "    for j, c in enumerate(graphMap.circuits_nodes):\n",
    "        if mapper_circuit_with_thermoelectric[c.id] == t.id:\n",
    "            generated_thermoelectric_min_cost += (\n",
    "                electric_system_circuits_list[j].mock_electric_consume\n",
    "                + electric_system_circuits_list[j].mock_electric_consume\n",
    "                * matrix[i][j]\n",
    "                * 24\n",
    "            )\n",
    "\n",
    "    electric_system_thermoelectrics_list.append(\n",
    "        Thermoelectric(\n",
    "            id=t.id,\n",
    "            total_capacity=generated_thermoelectric_min_cost + 200,\n",
    "        )\n",
    "    )\n",
    "    thermoelectric_data = {\n",
    "        \"ID\": [t.id for t in electric_system_thermoelectrics_list],\n",
    "        \"Total Capacity\": [\n",
    "            t.total_capacity for t in electric_system_thermoelectrics_list\n",
    "        ],\n",
    "    }\n",
    "\n",
    "    thermoelectric_df = pd.DataFrame(thermoelectric_data)\n",
    "\n",
    "\n",
    "sorted_electric_system_circuit_list = sorted(\n",
    "    electric_system_circuits_list,\n",
    "    key=lambda x: list(\n",
    "        filter(\n",
    "            lambda y: mapper_circuit_with_thermoelectric[x.id] == y.id,\n",
    "            graphMap.thermoelectrics_nodes,\n",
    "        )\n",
    "    )[0].id,\n",
    ")\n",
    "\n",
    "colors = [\n",
    "    list(\n",
    "        filter(\n",
    "            lambda x, y=circuit: mapper_circuit_with_thermoelectric[y.id] == x.id,\n",
    "            graphMap.thermoelectrics_nodes,\n",
    "        )\n",
    "    )[0].id\n",
    "    for circuit in sorted_electric_system_circuit_list\n",
    "]\n",
    "\n",
    "\n",
    "fig = px.bar(\n",
    "    thermoelectric_df,\n",
    "    x=\"ID\",\n",
    "    y=\"Total Capacity\",\n",
    "    title=\"Total Capacity of Thermoelectrics\",\n",
    "    height=800,\n",
    "    color=[t.id for t in electric_system_thermoelectrics_list],\n",
    "    color_discrete_sequence=px.colors.qualitative.Plotly,\n",
    "    labels={\"color\": \"Thermoelectric ID\"},\n",
    ")\n",
    "\n",
    "fig.show()"
   ]
  },
  {
   "cell_type": "code",
   "execution_count": 79,
   "metadata": {},
   "outputs": [
    {
     "data": {
      "application/vnd.plotly.v1+json": {
       "config": {
        "plotlyServerURL": "https://plot.ly"
       },
       "data": [
        {
         "alignmentgroup": "True",
         "hovertemplate": "color=Th0<br>Circuit ID=%{x}<br>Mock Electric Consume=%{y}<extra></extra>",
         "legendgroup": "Th0",
         "marker": {
          "color": "#636efa",
          "pattern": {
           "shape": ""
          }
         },
         "name": "Th0",
         "offsetgroup": "Th0",
         "orientation": "v",
         "showlegend": true,
         "textposition": "auto",
         "type": "bar",
         "x": [
          "C5",
          "C8",
          "C9",
          "C12",
          "C18",
          "C26",
          "C27",
          "C29",
          "C32",
          "C38",
          "C42",
          "C46",
          "C48"
         ],
         "xaxis": "x",
         "y": [
          3058.6416746755935,
          2942.660018024565,
          2631.6391866335634,
          2967.311843770084,
          1309.5778466253028,
          3667.3046400173607,
          2107.201798006433,
          6126.747146724053,
          5379.296908194607,
          3252.1727171373086,
          3245.7198666145755,
          3341.8086190165404,
          850.8479847845417
         ],
         "yaxis": "y"
        },
        {
         "alignmentgroup": "True",
         "hovertemplate": "color=Th1<br>Circuit ID=%{x}<br>Mock Electric Consume=%{y}<extra></extra>",
         "legendgroup": "Th1",
         "marker": {
          "color": "#EF553B",
          "pattern": {
           "shape": ""
          }
         },
         "name": "Th1",
         "offsetgroup": "Th1",
         "orientation": "v",
         "showlegend": true,
         "textposition": "auto",
         "type": "bar",
         "x": [
          "C10",
          "C15",
          "C21",
          "C24",
          "C31",
          "C36",
          "C44",
          "C47"
         ],
         "xaxis": "x",
         "y": [
          1832.3018907861865,
          5570.853284033768,
          410.5487908830832,
          639.3682118636923,
          3770.537398761076,
          2462.569416515923,
          980.3215251266832,
          2181.081993549441
         ],
         "yaxis": "y"
        },
        {
         "alignmentgroup": "True",
         "hovertemplate": "color=Th2<br>Circuit ID=%{x}<br>Mock Electric Consume=%{y}<extra></extra>",
         "legendgroup": "Th2",
         "marker": {
          "color": "#00cc96",
          "pattern": {
           "shape": ""
          }
         },
         "name": "Th2",
         "offsetgroup": "Th2",
         "orientation": "v",
         "showlegend": true,
         "textposition": "auto",
         "type": "bar",
         "x": [
          "C11",
          "C20",
          "C37"
         ],
         "xaxis": "x",
         "y": [
          3784.949068844686,
          2117.711470957663,
          3080.3869441918046
         ],
         "yaxis": "y"
        },
        {
         "alignmentgroup": "True",
         "hovertemplate": "color=Th3<br>Circuit ID=%{x}<br>Mock Electric Consume=%{y}<extra></extra>",
         "legendgroup": "Th3",
         "marker": {
          "color": "#ab63fa",
          "pattern": {
           "shape": ""
          }
         },
         "name": "Th3",
         "offsetgroup": "Th3",
         "orientation": "v",
         "showlegend": true,
         "textposition": "auto",
         "type": "bar",
         "x": [
          "C0",
          "C19",
          "C30",
          "C35",
          "C45"
         ],
         "xaxis": "x",
         "y": [
          5953.2651277099185,
          3336.3162356955027,
          2924.8303750231134,
          2707.3984994975644,
          1120.2342726659326
         ],
         "yaxis": "y"
        },
        {
         "alignmentgroup": "True",
         "hovertemplate": "color=Th4<br>Circuit ID=%{x}<br>Mock Electric Consume=%{y}<extra></extra>",
         "legendgroup": "Th4",
         "marker": {
          "color": "#FFA15A",
          "pattern": {
           "shape": ""
          }
         },
         "name": "Th4",
         "offsetgroup": "Th4",
         "orientation": "v",
         "showlegend": true,
         "textposition": "auto",
         "type": "bar",
         "x": [
          "C6",
          "C14",
          "C41"
         ],
         "xaxis": "x",
         "y": [
          2966.0401949796624,
          1028.9195211358206,
          1092.0070871973169
         ],
         "yaxis": "y"
        },
        {
         "alignmentgroup": "True",
         "hovertemplate": "color=Th5<br>Circuit ID=%{x}<br>Mock Electric Consume=%{y}<extra></extra>",
         "legendgroup": "Th5",
         "marker": {
          "color": "#19d3f3",
          "pattern": {
           "shape": ""
          }
         },
         "name": "Th5",
         "offsetgroup": "Th5",
         "orientation": "v",
         "showlegend": true,
         "textposition": "auto",
         "type": "bar",
         "x": [
          "C7",
          "C22",
          "C23",
          "C43"
         ],
         "xaxis": "x",
         "y": [
          2740.4703203254358,
          2954.3280024820806,
          699.1579534344592,
          1159.5594081799827
         ],
         "yaxis": "y"
        },
        {
         "alignmentgroup": "True",
         "hovertemplate": "color=Th6<br>Circuit ID=%{x}<br>Mock Electric Consume=%{y}<extra></extra>",
         "legendgroup": "Th6",
         "marker": {
          "color": "#FF6692",
          "pattern": {
           "shape": ""
          }
         },
         "name": "Th6",
         "offsetgroup": "Th6",
         "orientation": "v",
         "showlegend": true,
         "textposition": "auto",
         "type": "bar",
         "x": [
          "C1",
          "C2",
          "C28",
          "C34",
          "C40"
         ],
         "xaxis": "x",
         "y": [
          4571.319364455588,
          2251.7707282190804,
          2471.4420931719487,
          1597.4417213924746,
          3787.4394978448418
         ],
         "yaxis": "y"
        },
        {
         "alignmentgroup": "True",
         "hovertemplate": "color=Th7<br>Circuit ID=%{x}<br>Mock Electric Consume=%{y}<extra></extra>",
         "legendgroup": "Th7",
         "marker": {
          "color": "#B6E880",
          "pattern": {
           "shape": ""
          }
         },
         "name": "Th7",
         "offsetgroup": "Th7",
         "orientation": "v",
         "showlegend": true,
         "textposition": "auto",
         "type": "bar",
         "x": [
          "C3",
          "C4",
          "C13",
          "C16",
          "C17",
          "C25",
          "C33",
          "C39",
          "C49"
         ],
         "xaxis": "x",
         "y": [
          2766.862251289974,
          3921.5280261788503,
          1798.8647598770954,
          4096.1061233143,
          2645.4420617962996,
          3879.121864814766,
          506.0970531107234,
          1849.5119002285073,
          3655.243318947385
         ],
         "yaxis": "y"
        }
       ],
       "layout": {
        "barmode": "relative",
        "height": 800,
        "legend": {
         "title": {
          "text": "color"
         },
         "tracegroupgap": 0
        },
        "template": {
         "data": {
          "bar": [
           {
            "error_x": {
             "color": "#2a3f5f"
            },
            "error_y": {
             "color": "#2a3f5f"
            },
            "marker": {
             "line": {
              "color": "#E5ECF6",
              "width": 0.5
             },
             "pattern": {
              "fillmode": "overlay",
              "size": 10,
              "solidity": 0.2
             }
            },
            "type": "bar"
           }
          ],
          "barpolar": [
           {
            "marker": {
             "line": {
              "color": "#E5ECF6",
              "width": 0.5
             },
             "pattern": {
              "fillmode": "overlay",
              "size": 10,
              "solidity": 0.2
             }
            },
            "type": "barpolar"
           }
          ],
          "carpet": [
           {
            "aaxis": {
             "endlinecolor": "#2a3f5f",
             "gridcolor": "white",
             "linecolor": "white",
             "minorgridcolor": "white",
             "startlinecolor": "#2a3f5f"
            },
            "baxis": {
             "endlinecolor": "#2a3f5f",
             "gridcolor": "white",
             "linecolor": "white",
             "minorgridcolor": "white",
             "startlinecolor": "#2a3f5f"
            },
            "type": "carpet"
           }
          ],
          "choropleth": [
           {
            "colorbar": {
             "outlinewidth": 0,
             "ticks": ""
            },
            "type": "choropleth"
           }
          ],
          "contour": [
           {
            "colorbar": {
             "outlinewidth": 0,
             "ticks": ""
            },
            "colorscale": [
             [
              0,
              "#0d0887"
             ],
             [
              0.1111111111111111,
              "#46039f"
             ],
             [
              0.2222222222222222,
              "#7201a8"
             ],
             [
              0.3333333333333333,
              "#9c179e"
             ],
             [
              0.4444444444444444,
              "#bd3786"
             ],
             [
              0.5555555555555556,
              "#d8576b"
             ],
             [
              0.6666666666666666,
              "#ed7953"
             ],
             [
              0.7777777777777778,
              "#fb9f3a"
             ],
             [
              0.8888888888888888,
              "#fdca26"
             ],
             [
              1,
              "#f0f921"
             ]
            ],
            "type": "contour"
           }
          ],
          "contourcarpet": [
           {
            "colorbar": {
             "outlinewidth": 0,
             "ticks": ""
            },
            "type": "contourcarpet"
           }
          ],
          "heatmap": [
           {
            "colorbar": {
             "outlinewidth": 0,
             "ticks": ""
            },
            "colorscale": [
             [
              0,
              "#0d0887"
             ],
             [
              0.1111111111111111,
              "#46039f"
             ],
             [
              0.2222222222222222,
              "#7201a8"
             ],
             [
              0.3333333333333333,
              "#9c179e"
             ],
             [
              0.4444444444444444,
              "#bd3786"
             ],
             [
              0.5555555555555556,
              "#d8576b"
             ],
             [
              0.6666666666666666,
              "#ed7953"
             ],
             [
              0.7777777777777778,
              "#fb9f3a"
             ],
             [
              0.8888888888888888,
              "#fdca26"
             ],
             [
              1,
              "#f0f921"
             ]
            ],
            "type": "heatmap"
           }
          ],
          "heatmapgl": [
           {
            "colorbar": {
             "outlinewidth": 0,
             "ticks": ""
            },
            "colorscale": [
             [
              0,
              "#0d0887"
             ],
             [
              0.1111111111111111,
              "#46039f"
             ],
             [
              0.2222222222222222,
              "#7201a8"
             ],
             [
              0.3333333333333333,
              "#9c179e"
             ],
             [
              0.4444444444444444,
              "#bd3786"
             ],
             [
              0.5555555555555556,
              "#d8576b"
             ],
             [
              0.6666666666666666,
              "#ed7953"
             ],
             [
              0.7777777777777778,
              "#fb9f3a"
             ],
             [
              0.8888888888888888,
              "#fdca26"
             ],
             [
              1,
              "#f0f921"
             ]
            ],
            "type": "heatmapgl"
           }
          ],
          "histogram": [
           {
            "marker": {
             "pattern": {
              "fillmode": "overlay",
              "size": 10,
              "solidity": 0.2
             }
            },
            "type": "histogram"
           }
          ],
          "histogram2d": [
           {
            "colorbar": {
             "outlinewidth": 0,
             "ticks": ""
            },
            "colorscale": [
             [
              0,
              "#0d0887"
             ],
             [
              0.1111111111111111,
              "#46039f"
             ],
             [
              0.2222222222222222,
              "#7201a8"
             ],
             [
              0.3333333333333333,
              "#9c179e"
             ],
             [
              0.4444444444444444,
              "#bd3786"
             ],
             [
              0.5555555555555556,
              "#d8576b"
             ],
             [
              0.6666666666666666,
              "#ed7953"
             ],
             [
              0.7777777777777778,
              "#fb9f3a"
             ],
             [
              0.8888888888888888,
              "#fdca26"
             ],
             [
              1,
              "#f0f921"
             ]
            ],
            "type": "histogram2d"
           }
          ],
          "histogram2dcontour": [
           {
            "colorbar": {
             "outlinewidth": 0,
             "ticks": ""
            },
            "colorscale": [
             [
              0,
              "#0d0887"
             ],
             [
              0.1111111111111111,
              "#46039f"
             ],
             [
              0.2222222222222222,
              "#7201a8"
             ],
             [
              0.3333333333333333,
              "#9c179e"
             ],
             [
              0.4444444444444444,
              "#bd3786"
             ],
             [
              0.5555555555555556,
              "#d8576b"
             ],
             [
              0.6666666666666666,
              "#ed7953"
             ],
             [
              0.7777777777777778,
              "#fb9f3a"
             ],
             [
              0.8888888888888888,
              "#fdca26"
             ],
             [
              1,
              "#f0f921"
             ]
            ],
            "type": "histogram2dcontour"
           }
          ],
          "mesh3d": [
           {
            "colorbar": {
             "outlinewidth": 0,
             "ticks": ""
            },
            "type": "mesh3d"
           }
          ],
          "parcoords": [
           {
            "line": {
             "colorbar": {
              "outlinewidth": 0,
              "ticks": ""
             }
            },
            "type": "parcoords"
           }
          ],
          "pie": [
           {
            "automargin": true,
            "type": "pie"
           }
          ],
          "scatter": [
           {
            "fillpattern": {
             "fillmode": "overlay",
             "size": 10,
             "solidity": 0.2
            },
            "type": "scatter"
           }
          ],
          "scatter3d": [
           {
            "line": {
             "colorbar": {
              "outlinewidth": 0,
              "ticks": ""
             }
            },
            "marker": {
             "colorbar": {
              "outlinewidth": 0,
              "ticks": ""
             }
            },
            "type": "scatter3d"
           }
          ],
          "scattercarpet": [
           {
            "marker": {
             "colorbar": {
              "outlinewidth": 0,
              "ticks": ""
             }
            },
            "type": "scattercarpet"
           }
          ],
          "scattergeo": [
           {
            "marker": {
             "colorbar": {
              "outlinewidth": 0,
              "ticks": ""
             }
            },
            "type": "scattergeo"
           }
          ],
          "scattergl": [
           {
            "marker": {
             "colorbar": {
              "outlinewidth": 0,
              "ticks": ""
             }
            },
            "type": "scattergl"
           }
          ],
          "scattermapbox": [
           {
            "marker": {
             "colorbar": {
              "outlinewidth": 0,
              "ticks": ""
             }
            },
            "type": "scattermapbox"
           }
          ],
          "scatterpolar": [
           {
            "marker": {
             "colorbar": {
              "outlinewidth": 0,
              "ticks": ""
             }
            },
            "type": "scatterpolar"
           }
          ],
          "scatterpolargl": [
           {
            "marker": {
             "colorbar": {
              "outlinewidth": 0,
              "ticks": ""
             }
            },
            "type": "scatterpolargl"
           }
          ],
          "scatterternary": [
           {
            "marker": {
             "colorbar": {
              "outlinewidth": 0,
              "ticks": ""
             }
            },
            "type": "scatterternary"
           }
          ],
          "surface": [
           {
            "colorbar": {
             "outlinewidth": 0,
             "ticks": ""
            },
            "colorscale": [
             [
              0,
              "#0d0887"
             ],
             [
              0.1111111111111111,
              "#46039f"
             ],
             [
              0.2222222222222222,
              "#7201a8"
             ],
             [
              0.3333333333333333,
              "#9c179e"
             ],
             [
              0.4444444444444444,
              "#bd3786"
             ],
             [
              0.5555555555555556,
              "#d8576b"
             ],
             [
              0.6666666666666666,
              "#ed7953"
             ],
             [
              0.7777777777777778,
              "#fb9f3a"
             ],
             [
              0.8888888888888888,
              "#fdca26"
             ],
             [
              1,
              "#f0f921"
             ]
            ],
            "type": "surface"
           }
          ],
          "table": [
           {
            "cells": {
             "fill": {
              "color": "#EBF0F8"
             },
             "line": {
              "color": "white"
             }
            },
            "header": {
             "fill": {
              "color": "#C8D4E3"
             },
             "line": {
              "color": "white"
             }
            },
            "type": "table"
           }
          ]
         },
         "layout": {
          "annotationdefaults": {
           "arrowcolor": "#2a3f5f",
           "arrowhead": 0,
           "arrowwidth": 1
          },
          "autotypenumbers": "strict",
          "coloraxis": {
           "colorbar": {
            "outlinewidth": 0,
            "ticks": ""
           }
          },
          "colorscale": {
           "diverging": [
            [
             0,
             "#8e0152"
            ],
            [
             0.1,
             "#c51b7d"
            ],
            [
             0.2,
             "#de77ae"
            ],
            [
             0.3,
             "#f1b6da"
            ],
            [
             0.4,
             "#fde0ef"
            ],
            [
             0.5,
             "#f7f7f7"
            ],
            [
             0.6,
             "#e6f5d0"
            ],
            [
             0.7,
             "#b8e186"
            ],
            [
             0.8,
             "#7fbc41"
            ],
            [
             0.9,
             "#4d9221"
            ],
            [
             1,
             "#276419"
            ]
           ],
           "sequential": [
            [
             0,
             "#0d0887"
            ],
            [
             0.1111111111111111,
             "#46039f"
            ],
            [
             0.2222222222222222,
             "#7201a8"
            ],
            [
             0.3333333333333333,
             "#9c179e"
            ],
            [
             0.4444444444444444,
             "#bd3786"
            ],
            [
             0.5555555555555556,
             "#d8576b"
            ],
            [
             0.6666666666666666,
             "#ed7953"
            ],
            [
             0.7777777777777778,
             "#fb9f3a"
            ],
            [
             0.8888888888888888,
             "#fdca26"
            ],
            [
             1,
             "#f0f921"
            ]
           ],
           "sequentialminus": [
            [
             0,
             "#0d0887"
            ],
            [
             0.1111111111111111,
             "#46039f"
            ],
            [
             0.2222222222222222,
             "#7201a8"
            ],
            [
             0.3333333333333333,
             "#9c179e"
            ],
            [
             0.4444444444444444,
             "#bd3786"
            ],
            [
             0.5555555555555556,
             "#d8576b"
            ],
            [
             0.6666666666666666,
             "#ed7953"
            ],
            [
             0.7777777777777778,
             "#fb9f3a"
            ],
            [
             0.8888888888888888,
             "#fdca26"
            ],
            [
             1,
             "#f0f921"
            ]
           ]
          },
          "colorway": [
           "#636efa",
           "#EF553B",
           "#00cc96",
           "#ab63fa",
           "#FFA15A",
           "#19d3f3",
           "#FF6692",
           "#B6E880",
           "#FF97FF",
           "#FECB52"
          ],
          "font": {
           "color": "#2a3f5f"
          },
          "geo": {
           "bgcolor": "white",
           "lakecolor": "white",
           "landcolor": "#E5ECF6",
           "showlakes": true,
           "showland": true,
           "subunitcolor": "white"
          },
          "hoverlabel": {
           "align": "left"
          },
          "hovermode": "closest",
          "mapbox": {
           "style": "light"
          },
          "paper_bgcolor": "white",
          "plot_bgcolor": "#E5ECF6",
          "polar": {
           "angularaxis": {
            "gridcolor": "white",
            "linecolor": "white",
            "ticks": ""
           },
           "bgcolor": "#E5ECF6",
           "radialaxis": {
            "gridcolor": "white",
            "linecolor": "white",
            "ticks": ""
           }
          },
          "scene": {
           "xaxis": {
            "backgroundcolor": "#E5ECF6",
            "gridcolor": "white",
            "gridwidth": 2,
            "linecolor": "white",
            "showbackground": true,
            "ticks": "",
            "zerolinecolor": "white"
           },
           "yaxis": {
            "backgroundcolor": "#E5ECF6",
            "gridcolor": "white",
            "gridwidth": 2,
            "linecolor": "white",
            "showbackground": true,
            "ticks": "",
            "zerolinecolor": "white"
           },
           "zaxis": {
            "backgroundcolor": "#E5ECF6",
            "gridcolor": "white",
            "gridwidth": 2,
            "linecolor": "white",
            "showbackground": true,
            "ticks": "",
            "zerolinecolor": "white"
           }
          },
          "shapedefaults": {
           "line": {
            "color": "#2a3f5f"
           }
          },
          "ternary": {
           "aaxis": {
            "gridcolor": "white",
            "linecolor": "white",
            "ticks": ""
           },
           "baxis": {
            "gridcolor": "white",
            "linecolor": "white",
            "ticks": ""
           },
           "bgcolor": "#E5ECF6",
           "caxis": {
            "gridcolor": "white",
            "linecolor": "white",
            "ticks": ""
           }
          },
          "title": {
           "x": 0.05
          },
          "xaxis": {
           "automargin": true,
           "gridcolor": "white",
           "linecolor": "white",
           "ticks": "",
           "title": {
            "standoff": 15
           },
           "zerolinecolor": "white",
           "zerolinewidth": 2
          },
          "yaxis": {
           "automargin": true,
           "gridcolor": "white",
           "linecolor": "white",
           "ticks": "",
           "title": {
            "standoff": 15
           },
           "zerolinecolor": "white",
           "zerolinewidth": 2
          }
         }
        },
        "title": {
         "text": "Electric Consume per Circuit [24 hours]"
        },
        "xaxis": {
         "anchor": "y",
         "domain": [
          0,
          1
         ],
         "title": {
          "text": "Circuit ID"
         }
        },
        "yaxis": {
         "anchor": "x",
         "domain": [
          0,
          1
         ],
         "title": {
          "text": "Mock Electric Consume"
         }
        }
       }
      }
     },
     "metadata": {},
     "output_type": "display_data"
    }
   ],
   "source": [
    "\n",
    "mock_electric_consume_data = {\n",
    "    \"Circuit ID\": [c.id for c in sorted_electric_system_circuit_list],\n",
    "    \"Mock Electric Consume\": [c.mock_electric_consume for c in sorted_electric_system_circuit_list],\n",
    "}\n",
    "\n",
    "mock_electric_consume_df = pd.DataFrame(mock_electric_consume_data)\n",
    "\n",
    "fig = px.bar(\n",
    "    mock_electric_consume_df,\n",
    "    x=\"Circuit ID\",\n",
    "    y=\"Mock Electric Consume\",\n",
    "    title=\"Electric Consume per Circuit [24 hours]\",\n",
    "    height=800,\n",
    "    color=colors\n",
    ")\n",
    "fig.show()"
   ]
  },
  {
   "cell_type": "code",
   "execution_count": 80,
   "metadata": {},
   "outputs": [
    {
     "data": {
      "text/html": [
       "<div>\n",
       "<style scoped>\n",
       "    .dataframe tbody tr th:only-of-type {\n",
       "        vertical-align: middle;\n",
       "    }\n",
       "\n",
       "    .dataframe tbody tr th {\n",
       "        vertical-align: top;\n",
       "    }\n",
       "\n",
       "    .dataframe thead th {\n",
       "        text-align: right;\n",
       "    }\n",
       "</style>\n",
       "<table border=\"1\" class=\"dataframe\">\n",
       "  <thead>\n",
       "    <tr style=\"text-align: right;\">\n",
       "      <th></th>\n",
       "      <th>Max Population of Circuits</th>\n",
       "      <th>Max Population of Blocks</th>\n",
       "    </tr>\n",
       "  </thead>\n",
       "  <tbody>\n",
       "    <tr>\n",
       "      <th>0</th>\n",
       "      <td>19284</td>\n",
       "      <td>4979</td>\n",
       "    </tr>\n",
       "  </tbody>\n",
       "</table>\n",
       "</div>"
      ],
      "text/plain": [
       "   Max Population of Circuits  Max Population of Blocks\n",
       "0                       19284                      4979"
      ]
     },
     "execution_count": 80,
     "metadata": {},
     "output_type": "execute_result"
    }
   ],
   "source": [
    "max_population_of_circuits = -1\n",
    "max_population_of_block = -1\n",
    "\n",
    "for circuit in electric_system_circuits_list:\n",
    "    max_population_of_circuits = max(\n",
    "        circuit.get_all_block_population(), max_population_of_circuits\n",
    "    )\n",
    "    for block in circuit.blocks:\n",
    "        max_population_of_block = max(block.citizens.amount, max_population_of_block)\n",
    "\n",
    "auxiliary_data_max_population_of_circuits = max_population_of_circuits\n",
    "auxiliary_data_max_population_of_block = max_population_of_block\n",
    "\n",
    "\n",
    "def get_circuit_importance(circuit: Circuit) -> float:\n",
    "    return (\n",
    "        circuit.get_all_block_population() / auxiliary_data_max_population_of_circuits\n",
    "    ) * IMPORTANCE_ALPHA + circuit.industrialization * (1 - IMPORTANCE_ALPHA)\n",
    "\n",
    "\n",
    "def get_block_importance(block: Block) -> float:\n",
    "    return (\n",
    "        block.citizens.amount / auxiliary_data_max_population_of_circuits\n",
    "    ) * IMPORTANCE_ALPHA + block.industrialization * (1 - IMPORTANCE_ALPHA)\n",
    "\n",
    "\n",
    "def set_importance(ci: list[Circuit]):\n",
    "    for circuit in ci:\n",
    "        for block in circuit.blocks:\n",
    "            block.importance = get_block_importance(block)\n",
    "        circuit.importance = get_circuit_importance(circuit)\n",
    "\n",
    "set_importance(electric_system_circuits_list)\n",
    "\n",
    "max_population_data = {\n",
    "    \"Max Population of Circuits\": [auxiliary_data_max_population_of_circuits],\n",
    "    \"Max Population of Blocks\": [auxiliary_data_max_population_of_block],\n",
    "}\n",
    "\n",
    "max_population_df = pd.DataFrame(max_population_data)\n",
    "# TODO : update plotly\n",
    "max_population_df"
   ]
  },
  {
   "cell_type": "code",
   "execution_count": 81,
   "metadata": {},
   "outputs": [
    {
     "data": {
      "application/vnd.plotly.v1+json": {
       "config": {
        "plotlyServerURL": "https://plot.ly"
       },
       "data": [
        {
         "alignmentgroup": "True",
         "hovertemplate": "index=%{x}<br>Citizens=%{y}<extra></extra>",
         "legendgroup": "",
         "marker": {
          "color": "#636efa",
          "pattern": {
           "shape": ""
          }
         },
         "name": "",
         "offsetgroup": "",
         "orientation": "v",
         "showlegend": false,
         "textposition": "auto",
         "type": "bar",
         "x": [
          0,
          1,
          2,
          3
         ],
         "xaxis": "x",
         "y": [
          4377,
          4427,
          4632,
          4370
         ],
         "yaxis": "y"
        }
       ],
       "layout": {
        "barmode": "relative",
        "height": 800,
        "legend": {
         "tracegroupgap": 0
        },
        "template": {
         "data": {
          "bar": [
           {
            "error_x": {
             "color": "#2a3f5f"
            },
            "error_y": {
             "color": "#2a3f5f"
            },
            "marker": {
             "line": {
              "color": "#E5ECF6",
              "width": 0.5
             },
             "pattern": {
              "fillmode": "overlay",
              "size": 10,
              "solidity": 0.2
             }
            },
            "type": "bar"
           }
          ],
          "barpolar": [
           {
            "marker": {
             "line": {
              "color": "#E5ECF6",
              "width": 0.5
             },
             "pattern": {
              "fillmode": "overlay",
              "size": 10,
              "solidity": 0.2
             }
            },
            "type": "barpolar"
           }
          ],
          "carpet": [
           {
            "aaxis": {
             "endlinecolor": "#2a3f5f",
             "gridcolor": "white",
             "linecolor": "white",
             "minorgridcolor": "white",
             "startlinecolor": "#2a3f5f"
            },
            "baxis": {
             "endlinecolor": "#2a3f5f",
             "gridcolor": "white",
             "linecolor": "white",
             "minorgridcolor": "white",
             "startlinecolor": "#2a3f5f"
            },
            "type": "carpet"
           }
          ],
          "choropleth": [
           {
            "colorbar": {
             "outlinewidth": 0,
             "ticks": ""
            },
            "type": "choropleth"
           }
          ],
          "contour": [
           {
            "colorbar": {
             "outlinewidth": 0,
             "ticks": ""
            },
            "colorscale": [
             [
              0,
              "#0d0887"
             ],
             [
              0.1111111111111111,
              "#46039f"
             ],
             [
              0.2222222222222222,
              "#7201a8"
             ],
             [
              0.3333333333333333,
              "#9c179e"
             ],
             [
              0.4444444444444444,
              "#bd3786"
             ],
             [
              0.5555555555555556,
              "#d8576b"
             ],
             [
              0.6666666666666666,
              "#ed7953"
             ],
             [
              0.7777777777777778,
              "#fb9f3a"
             ],
             [
              0.8888888888888888,
              "#fdca26"
             ],
             [
              1,
              "#f0f921"
             ]
            ],
            "type": "contour"
           }
          ],
          "contourcarpet": [
           {
            "colorbar": {
             "outlinewidth": 0,
             "ticks": ""
            },
            "type": "contourcarpet"
           }
          ],
          "heatmap": [
           {
            "colorbar": {
             "outlinewidth": 0,
             "ticks": ""
            },
            "colorscale": [
             [
              0,
              "#0d0887"
             ],
             [
              0.1111111111111111,
              "#46039f"
             ],
             [
              0.2222222222222222,
              "#7201a8"
             ],
             [
              0.3333333333333333,
              "#9c179e"
             ],
             [
              0.4444444444444444,
              "#bd3786"
             ],
             [
              0.5555555555555556,
              "#d8576b"
             ],
             [
              0.6666666666666666,
              "#ed7953"
             ],
             [
              0.7777777777777778,
              "#fb9f3a"
             ],
             [
              0.8888888888888888,
              "#fdca26"
             ],
             [
              1,
              "#f0f921"
             ]
            ],
            "type": "heatmap"
           }
          ],
          "heatmapgl": [
           {
            "colorbar": {
             "outlinewidth": 0,
             "ticks": ""
            },
            "colorscale": [
             [
              0,
              "#0d0887"
             ],
             [
              0.1111111111111111,
              "#46039f"
             ],
             [
              0.2222222222222222,
              "#7201a8"
             ],
             [
              0.3333333333333333,
              "#9c179e"
             ],
             [
              0.4444444444444444,
              "#bd3786"
             ],
             [
              0.5555555555555556,
              "#d8576b"
             ],
             [
              0.6666666666666666,
              "#ed7953"
             ],
             [
              0.7777777777777778,
              "#fb9f3a"
             ],
             [
              0.8888888888888888,
              "#fdca26"
             ],
             [
              1,
              "#f0f921"
             ]
            ],
            "type": "heatmapgl"
           }
          ],
          "histogram": [
           {
            "marker": {
             "pattern": {
              "fillmode": "overlay",
              "size": 10,
              "solidity": 0.2
             }
            },
            "type": "histogram"
           }
          ],
          "histogram2d": [
           {
            "colorbar": {
             "outlinewidth": 0,
             "ticks": ""
            },
            "colorscale": [
             [
              0,
              "#0d0887"
             ],
             [
              0.1111111111111111,
              "#46039f"
             ],
             [
              0.2222222222222222,
              "#7201a8"
             ],
             [
              0.3333333333333333,
              "#9c179e"
             ],
             [
              0.4444444444444444,
              "#bd3786"
             ],
             [
              0.5555555555555556,
              "#d8576b"
             ],
             [
              0.6666666666666666,
              "#ed7953"
             ],
             [
              0.7777777777777778,
              "#fb9f3a"
             ],
             [
              0.8888888888888888,
              "#fdca26"
             ],
             [
              1,
              "#f0f921"
             ]
            ],
            "type": "histogram2d"
           }
          ],
          "histogram2dcontour": [
           {
            "colorbar": {
             "outlinewidth": 0,
             "ticks": ""
            },
            "colorscale": [
             [
              0,
              "#0d0887"
             ],
             [
              0.1111111111111111,
              "#46039f"
             ],
             [
              0.2222222222222222,
              "#7201a8"
             ],
             [
              0.3333333333333333,
              "#9c179e"
             ],
             [
              0.4444444444444444,
              "#bd3786"
             ],
             [
              0.5555555555555556,
              "#d8576b"
             ],
             [
              0.6666666666666666,
              "#ed7953"
             ],
             [
              0.7777777777777778,
              "#fb9f3a"
             ],
             [
              0.8888888888888888,
              "#fdca26"
             ],
             [
              1,
              "#f0f921"
             ]
            ],
            "type": "histogram2dcontour"
           }
          ],
          "mesh3d": [
           {
            "colorbar": {
             "outlinewidth": 0,
             "ticks": ""
            },
            "type": "mesh3d"
           }
          ],
          "parcoords": [
           {
            "line": {
             "colorbar": {
              "outlinewidth": 0,
              "ticks": ""
             }
            },
            "type": "parcoords"
           }
          ],
          "pie": [
           {
            "automargin": true,
            "type": "pie"
           }
          ],
          "scatter": [
           {
            "fillpattern": {
             "fillmode": "overlay",
             "size": 10,
             "solidity": 0.2
            },
            "type": "scatter"
           }
          ],
          "scatter3d": [
           {
            "line": {
             "colorbar": {
              "outlinewidth": 0,
              "ticks": ""
             }
            },
            "marker": {
             "colorbar": {
              "outlinewidth": 0,
              "ticks": ""
             }
            },
            "type": "scatter3d"
           }
          ],
          "scattercarpet": [
           {
            "marker": {
             "colorbar": {
              "outlinewidth": 0,
              "ticks": ""
             }
            },
            "type": "scattercarpet"
           }
          ],
          "scattergeo": [
           {
            "marker": {
             "colorbar": {
              "outlinewidth": 0,
              "ticks": ""
             }
            },
            "type": "scattergeo"
           }
          ],
          "scattergl": [
           {
            "marker": {
             "colorbar": {
              "outlinewidth": 0,
              "ticks": ""
             }
            },
            "type": "scattergl"
           }
          ],
          "scattermapbox": [
           {
            "marker": {
             "colorbar": {
              "outlinewidth": 0,
              "ticks": ""
             }
            },
            "type": "scattermapbox"
           }
          ],
          "scatterpolar": [
           {
            "marker": {
             "colorbar": {
              "outlinewidth": 0,
              "ticks": ""
             }
            },
            "type": "scatterpolar"
           }
          ],
          "scatterpolargl": [
           {
            "marker": {
             "colorbar": {
              "outlinewidth": 0,
              "ticks": ""
             }
            },
            "type": "scatterpolargl"
           }
          ],
          "scatterternary": [
           {
            "marker": {
             "colorbar": {
              "outlinewidth": 0,
              "ticks": ""
             }
            },
            "type": "scatterternary"
           }
          ],
          "surface": [
           {
            "colorbar": {
             "outlinewidth": 0,
             "ticks": ""
            },
            "colorscale": [
             [
              0,
              "#0d0887"
             ],
             [
              0.1111111111111111,
              "#46039f"
             ],
             [
              0.2222222222222222,
              "#7201a8"
             ],
             [
              0.3333333333333333,
              "#9c179e"
             ],
             [
              0.4444444444444444,
              "#bd3786"
             ],
             [
              0.5555555555555556,
              "#d8576b"
             ],
             [
              0.6666666666666666,
              "#ed7953"
             ],
             [
              0.7777777777777778,
              "#fb9f3a"
             ],
             [
              0.8888888888888888,
              "#fdca26"
             ],
             [
              1,
              "#f0f921"
             ]
            ],
            "type": "surface"
           }
          ],
          "table": [
           {
            "cells": {
             "fill": {
              "color": "#EBF0F8"
             },
             "line": {
              "color": "white"
             }
            },
            "header": {
             "fill": {
              "color": "#C8D4E3"
             },
             "line": {
              "color": "white"
             }
            },
            "type": "table"
           }
          ]
         },
         "layout": {
          "annotationdefaults": {
           "arrowcolor": "#2a3f5f",
           "arrowhead": 0,
           "arrowwidth": 1
          },
          "autotypenumbers": "strict",
          "coloraxis": {
           "colorbar": {
            "outlinewidth": 0,
            "ticks": ""
           }
          },
          "colorscale": {
           "diverging": [
            [
             0,
             "#8e0152"
            ],
            [
             0.1,
             "#c51b7d"
            ],
            [
             0.2,
             "#de77ae"
            ],
            [
             0.3,
             "#f1b6da"
            ],
            [
             0.4,
             "#fde0ef"
            ],
            [
             0.5,
             "#f7f7f7"
            ],
            [
             0.6,
             "#e6f5d0"
            ],
            [
             0.7,
             "#b8e186"
            ],
            [
             0.8,
             "#7fbc41"
            ],
            [
             0.9,
             "#4d9221"
            ],
            [
             1,
             "#276419"
            ]
           ],
           "sequential": [
            [
             0,
             "#0d0887"
            ],
            [
             0.1111111111111111,
             "#46039f"
            ],
            [
             0.2222222222222222,
             "#7201a8"
            ],
            [
             0.3333333333333333,
             "#9c179e"
            ],
            [
             0.4444444444444444,
             "#bd3786"
            ],
            [
             0.5555555555555556,
             "#d8576b"
            ],
            [
             0.6666666666666666,
             "#ed7953"
            ],
            [
             0.7777777777777778,
             "#fb9f3a"
            ],
            [
             0.8888888888888888,
             "#fdca26"
            ],
            [
             1,
             "#f0f921"
            ]
           ],
           "sequentialminus": [
            [
             0,
             "#0d0887"
            ],
            [
             0.1111111111111111,
             "#46039f"
            ],
            [
             0.2222222222222222,
             "#7201a8"
            ],
            [
             0.3333333333333333,
             "#9c179e"
            ],
            [
             0.4444444444444444,
             "#bd3786"
            ],
            [
             0.5555555555555556,
             "#d8576b"
            ],
            [
             0.6666666666666666,
             "#ed7953"
            ],
            [
             0.7777777777777778,
             "#fb9f3a"
            ],
            [
             0.8888888888888888,
             "#fdca26"
            ],
            [
             1,
             "#f0f921"
            ]
           ]
          },
          "colorway": [
           "#636efa",
           "#EF553B",
           "#00cc96",
           "#ab63fa",
           "#FFA15A",
           "#19d3f3",
           "#FF6692",
           "#B6E880",
           "#FF97FF",
           "#FECB52"
          ],
          "font": {
           "color": "#2a3f5f"
          },
          "geo": {
           "bgcolor": "white",
           "lakecolor": "white",
           "landcolor": "#E5ECF6",
           "showlakes": true,
           "showland": true,
           "subunitcolor": "white"
          },
          "hoverlabel": {
           "align": "left"
          },
          "hovermode": "closest",
          "mapbox": {
           "style": "light"
          },
          "paper_bgcolor": "white",
          "plot_bgcolor": "#E5ECF6",
          "polar": {
           "angularaxis": {
            "gridcolor": "white",
            "linecolor": "white",
            "ticks": ""
           },
           "bgcolor": "#E5ECF6",
           "radialaxis": {
            "gridcolor": "white",
            "linecolor": "white",
            "ticks": ""
           }
          },
          "scene": {
           "xaxis": {
            "backgroundcolor": "#E5ECF6",
            "gridcolor": "white",
            "gridwidth": 2,
            "linecolor": "white",
            "showbackground": true,
            "ticks": "",
            "zerolinecolor": "white"
           },
           "yaxis": {
            "backgroundcolor": "#E5ECF6",
            "gridcolor": "white",
            "gridwidth": 2,
            "linecolor": "white",
            "showbackground": true,
            "ticks": "",
            "zerolinecolor": "white"
           },
           "zaxis": {
            "backgroundcolor": "#E5ECF6",
            "gridcolor": "white",
            "gridwidth": 2,
            "linecolor": "white",
            "showbackground": true,
            "ticks": "",
            "zerolinecolor": "white"
           }
          },
          "shapedefaults": {
           "line": {
            "color": "#2a3f5f"
           }
          },
          "ternary": {
           "aaxis": {
            "gridcolor": "white",
            "linecolor": "white",
            "ticks": ""
           },
           "baxis": {
            "gridcolor": "white",
            "linecolor": "white",
            "ticks": ""
           },
           "bgcolor": "#E5ECF6",
           "caxis": {
            "gridcolor": "white",
            "linecolor": "white",
            "ticks": ""
           }
          },
          "title": {
           "x": 0.05
          },
          "xaxis": {
           "automargin": true,
           "gridcolor": "white",
           "linecolor": "white",
           "ticks": "",
           "title": {
            "standoff": 15
           },
           "zerolinecolor": "white",
           "zerolinewidth": 2
          },
          "yaxis": {
           "automargin": true,
           "gridcolor": "white",
           "linecolor": "white",
           "ticks": "",
           "title": {
            "standoff": 15
           },
           "zerolinecolor": "white",
           "zerolinewidth": 2
          }
         }
        },
        "title": {
         "text": "Block Citizens in Circuit C0"
        },
        "xaxis": {
         "anchor": "y",
         "domain": [
          0,
          1
         ],
         "title": {
          "text": "index"
         }
        },
        "yaxis": {
         "anchor": "x",
         "domain": [
          0,
          1
         ],
         "title": {
          "text": "Citizens"
         }
        }
       }
      }
     },
     "metadata": {},
     "output_type": "display_data"
    },
    {
     "data": {
      "application/vnd.plotly.v1+json": {
       "config": {
        "plotlyServerURL": "https://plot.ly"
       },
       "data": [
        {
         "alignmentgroup": "True",
         "hovertemplate": "index=%{x}<br>Importance=%{y}<extra></extra>",
         "legendgroup": "",
         "marker": {
          "color": "#636efa",
          "pattern": {
           "shape": ""
          }
         },
         "name": "",
         "offsetgroup": "",
         "orientation": "v",
         "showlegend": false,
         "textposition": "auto",
         "type": "bar",
         "x": [
          0,
          1,
          2,
          3
         ],
         "xaxis": "x",
         "y": [
          0.5854912300871189,
          0.5864618404376686,
          0.5904413428749223,
          0.585355344638042
         ],
         "yaxis": "y"
        }
       ],
       "layout": {
        "barmode": "relative",
        "height": 800,
        "legend": {
         "tracegroupgap": 0
        },
        "template": {
         "data": {
          "bar": [
           {
            "error_x": {
             "color": "#2a3f5f"
            },
            "error_y": {
             "color": "#2a3f5f"
            },
            "marker": {
             "line": {
              "color": "#E5ECF6",
              "width": 0.5
             },
             "pattern": {
              "fillmode": "overlay",
              "size": 10,
              "solidity": 0.2
             }
            },
            "type": "bar"
           }
          ],
          "barpolar": [
           {
            "marker": {
             "line": {
              "color": "#E5ECF6",
              "width": 0.5
             },
             "pattern": {
              "fillmode": "overlay",
              "size": 10,
              "solidity": 0.2
             }
            },
            "type": "barpolar"
           }
          ],
          "carpet": [
           {
            "aaxis": {
             "endlinecolor": "#2a3f5f",
             "gridcolor": "white",
             "linecolor": "white",
             "minorgridcolor": "white",
             "startlinecolor": "#2a3f5f"
            },
            "baxis": {
             "endlinecolor": "#2a3f5f",
             "gridcolor": "white",
             "linecolor": "white",
             "minorgridcolor": "white",
             "startlinecolor": "#2a3f5f"
            },
            "type": "carpet"
           }
          ],
          "choropleth": [
           {
            "colorbar": {
             "outlinewidth": 0,
             "ticks": ""
            },
            "type": "choropleth"
           }
          ],
          "contour": [
           {
            "colorbar": {
             "outlinewidth": 0,
             "ticks": ""
            },
            "colorscale": [
             [
              0,
              "#0d0887"
             ],
             [
              0.1111111111111111,
              "#46039f"
             ],
             [
              0.2222222222222222,
              "#7201a8"
             ],
             [
              0.3333333333333333,
              "#9c179e"
             ],
             [
              0.4444444444444444,
              "#bd3786"
             ],
             [
              0.5555555555555556,
              "#d8576b"
             ],
             [
              0.6666666666666666,
              "#ed7953"
             ],
             [
              0.7777777777777778,
              "#fb9f3a"
             ],
             [
              0.8888888888888888,
              "#fdca26"
             ],
             [
              1,
              "#f0f921"
             ]
            ],
            "type": "contour"
           }
          ],
          "contourcarpet": [
           {
            "colorbar": {
             "outlinewidth": 0,
             "ticks": ""
            },
            "type": "contourcarpet"
           }
          ],
          "heatmap": [
           {
            "colorbar": {
             "outlinewidth": 0,
             "ticks": ""
            },
            "colorscale": [
             [
              0,
              "#0d0887"
             ],
             [
              0.1111111111111111,
              "#46039f"
             ],
             [
              0.2222222222222222,
              "#7201a8"
             ],
             [
              0.3333333333333333,
              "#9c179e"
             ],
             [
              0.4444444444444444,
              "#bd3786"
             ],
             [
              0.5555555555555556,
              "#d8576b"
             ],
             [
              0.6666666666666666,
              "#ed7953"
             ],
             [
              0.7777777777777778,
              "#fb9f3a"
             ],
             [
              0.8888888888888888,
              "#fdca26"
             ],
             [
              1,
              "#f0f921"
             ]
            ],
            "type": "heatmap"
           }
          ],
          "heatmapgl": [
           {
            "colorbar": {
             "outlinewidth": 0,
             "ticks": ""
            },
            "colorscale": [
             [
              0,
              "#0d0887"
             ],
             [
              0.1111111111111111,
              "#46039f"
             ],
             [
              0.2222222222222222,
              "#7201a8"
             ],
             [
              0.3333333333333333,
              "#9c179e"
             ],
             [
              0.4444444444444444,
              "#bd3786"
             ],
             [
              0.5555555555555556,
              "#d8576b"
             ],
             [
              0.6666666666666666,
              "#ed7953"
             ],
             [
              0.7777777777777778,
              "#fb9f3a"
             ],
             [
              0.8888888888888888,
              "#fdca26"
             ],
             [
              1,
              "#f0f921"
             ]
            ],
            "type": "heatmapgl"
           }
          ],
          "histogram": [
           {
            "marker": {
             "pattern": {
              "fillmode": "overlay",
              "size": 10,
              "solidity": 0.2
             }
            },
            "type": "histogram"
           }
          ],
          "histogram2d": [
           {
            "colorbar": {
             "outlinewidth": 0,
             "ticks": ""
            },
            "colorscale": [
             [
              0,
              "#0d0887"
             ],
             [
              0.1111111111111111,
              "#46039f"
             ],
             [
              0.2222222222222222,
              "#7201a8"
             ],
             [
              0.3333333333333333,
              "#9c179e"
             ],
             [
              0.4444444444444444,
              "#bd3786"
             ],
             [
              0.5555555555555556,
              "#d8576b"
             ],
             [
              0.6666666666666666,
              "#ed7953"
             ],
             [
              0.7777777777777778,
              "#fb9f3a"
             ],
             [
              0.8888888888888888,
              "#fdca26"
             ],
             [
              1,
              "#f0f921"
             ]
            ],
            "type": "histogram2d"
           }
          ],
          "histogram2dcontour": [
           {
            "colorbar": {
             "outlinewidth": 0,
             "ticks": ""
            },
            "colorscale": [
             [
              0,
              "#0d0887"
             ],
             [
              0.1111111111111111,
              "#46039f"
             ],
             [
              0.2222222222222222,
              "#7201a8"
             ],
             [
              0.3333333333333333,
              "#9c179e"
             ],
             [
              0.4444444444444444,
              "#bd3786"
             ],
             [
              0.5555555555555556,
              "#d8576b"
             ],
             [
              0.6666666666666666,
              "#ed7953"
             ],
             [
              0.7777777777777778,
              "#fb9f3a"
             ],
             [
              0.8888888888888888,
              "#fdca26"
             ],
             [
              1,
              "#f0f921"
             ]
            ],
            "type": "histogram2dcontour"
           }
          ],
          "mesh3d": [
           {
            "colorbar": {
             "outlinewidth": 0,
             "ticks": ""
            },
            "type": "mesh3d"
           }
          ],
          "parcoords": [
           {
            "line": {
             "colorbar": {
              "outlinewidth": 0,
              "ticks": ""
             }
            },
            "type": "parcoords"
           }
          ],
          "pie": [
           {
            "automargin": true,
            "type": "pie"
           }
          ],
          "scatter": [
           {
            "fillpattern": {
             "fillmode": "overlay",
             "size": 10,
             "solidity": 0.2
            },
            "type": "scatter"
           }
          ],
          "scatter3d": [
           {
            "line": {
             "colorbar": {
              "outlinewidth": 0,
              "ticks": ""
             }
            },
            "marker": {
             "colorbar": {
              "outlinewidth": 0,
              "ticks": ""
             }
            },
            "type": "scatter3d"
           }
          ],
          "scattercarpet": [
           {
            "marker": {
             "colorbar": {
              "outlinewidth": 0,
              "ticks": ""
             }
            },
            "type": "scattercarpet"
           }
          ],
          "scattergeo": [
           {
            "marker": {
             "colorbar": {
              "outlinewidth": 0,
              "ticks": ""
             }
            },
            "type": "scattergeo"
           }
          ],
          "scattergl": [
           {
            "marker": {
             "colorbar": {
              "outlinewidth": 0,
              "ticks": ""
             }
            },
            "type": "scattergl"
           }
          ],
          "scattermapbox": [
           {
            "marker": {
             "colorbar": {
              "outlinewidth": 0,
              "ticks": ""
             }
            },
            "type": "scattermapbox"
           }
          ],
          "scatterpolar": [
           {
            "marker": {
             "colorbar": {
              "outlinewidth": 0,
              "ticks": ""
             }
            },
            "type": "scatterpolar"
           }
          ],
          "scatterpolargl": [
           {
            "marker": {
             "colorbar": {
              "outlinewidth": 0,
              "ticks": ""
             }
            },
            "type": "scatterpolargl"
           }
          ],
          "scatterternary": [
           {
            "marker": {
             "colorbar": {
              "outlinewidth": 0,
              "ticks": ""
             }
            },
            "type": "scatterternary"
           }
          ],
          "surface": [
           {
            "colorbar": {
             "outlinewidth": 0,
             "ticks": ""
            },
            "colorscale": [
             [
              0,
              "#0d0887"
             ],
             [
              0.1111111111111111,
              "#46039f"
             ],
             [
              0.2222222222222222,
              "#7201a8"
             ],
             [
              0.3333333333333333,
              "#9c179e"
             ],
             [
              0.4444444444444444,
              "#bd3786"
             ],
             [
              0.5555555555555556,
              "#d8576b"
             ],
             [
              0.6666666666666666,
              "#ed7953"
             ],
             [
              0.7777777777777778,
              "#fb9f3a"
             ],
             [
              0.8888888888888888,
              "#fdca26"
             ],
             [
              1,
              "#f0f921"
             ]
            ],
            "type": "surface"
           }
          ],
          "table": [
           {
            "cells": {
             "fill": {
              "color": "#EBF0F8"
             },
             "line": {
              "color": "white"
             }
            },
            "header": {
             "fill": {
              "color": "#C8D4E3"
             },
             "line": {
              "color": "white"
             }
            },
            "type": "table"
           }
          ]
         },
         "layout": {
          "annotationdefaults": {
           "arrowcolor": "#2a3f5f",
           "arrowhead": 0,
           "arrowwidth": 1
          },
          "autotypenumbers": "strict",
          "coloraxis": {
           "colorbar": {
            "outlinewidth": 0,
            "ticks": ""
           }
          },
          "colorscale": {
           "diverging": [
            [
             0,
             "#8e0152"
            ],
            [
             0.1,
             "#c51b7d"
            ],
            [
             0.2,
             "#de77ae"
            ],
            [
             0.3,
             "#f1b6da"
            ],
            [
             0.4,
             "#fde0ef"
            ],
            [
             0.5,
             "#f7f7f7"
            ],
            [
             0.6,
             "#e6f5d0"
            ],
            [
             0.7,
             "#b8e186"
            ],
            [
             0.8,
             "#7fbc41"
            ],
            [
             0.9,
             "#4d9221"
            ],
            [
             1,
             "#276419"
            ]
           ],
           "sequential": [
            [
             0,
             "#0d0887"
            ],
            [
             0.1111111111111111,
             "#46039f"
            ],
            [
             0.2222222222222222,
             "#7201a8"
            ],
            [
             0.3333333333333333,
             "#9c179e"
            ],
            [
             0.4444444444444444,
             "#bd3786"
            ],
            [
             0.5555555555555556,
             "#d8576b"
            ],
            [
             0.6666666666666666,
             "#ed7953"
            ],
            [
             0.7777777777777778,
             "#fb9f3a"
            ],
            [
             0.8888888888888888,
             "#fdca26"
            ],
            [
             1,
             "#f0f921"
            ]
           ],
           "sequentialminus": [
            [
             0,
             "#0d0887"
            ],
            [
             0.1111111111111111,
             "#46039f"
            ],
            [
             0.2222222222222222,
             "#7201a8"
            ],
            [
             0.3333333333333333,
             "#9c179e"
            ],
            [
             0.4444444444444444,
             "#bd3786"
            ],
            [
             0.5555555555555556,
             "#d8576b"
            ],
            [
             0.6666666666666666,
             "#ed7953"
            ],
            [
             0.7777777777777778,
             "#fb9f3a"
            ],
            [
             0.8888888888888888,
             "#fdca26"
            ],
            [
             1,
             "#f0f921"
            ]
           ]
          },
          "colorway": [
           "#636efa",
           "#EF553B",
           "#00cc96",
           "#ab63fa",
           "#FFA15A",
           "#19d3f3",
           "#FF6692",
           "#B6E880",
           "#FF97FF",
           "#FECB52"
          ],
          "font": {
           "color": "#2a3f5f"
          },
          "geo": {
           "bgcolor": "white",
           "lakecolor": "white",
           "landcolor": "#E5ECF6",
           "showlakes": true,
           "showland": true,
           "subunitcolor": "white"
          },
          "hoverlabel": {
           "align": "left"
          },
          "hovermode": "closest",
          "mapbox": {
           "style": "light"
          },
          "paper_bgcolor": "white",
          "plot_bgcolor": "#E5ECF6",
          "polar": {
           "angularaxis": {
            "gridcolor": "white",
            "linecolor": "white",
            "ticks": ""
           },
           "bgcolor": "#E5ECF6",
           "radialaxis": {
            "gridcolor": "white",
            "linecolor": "white",
            "ticks": ""
           }
          },
          "scene": {
           "xaxis": {
            "backgroundcolor": "#E5ECF6",
            "gridcolor": "white",
            "gridwidth": 2,
            "linecolor": "white",
            "showbackground": true,
            "ticks": "",
            "zerolinecolor": "white"
           },
           "yaxis": {
            "backgroundcolor": "#E5ECF6",
            "gridcolor": "white",
            "gridwidth": 2,
            "linecolor": "white",
            "showbackground": true,
            "ticks": "",
            "zerolinecolor": "white"
           },
           "zaxis": {
            "backgroundcolor": "#E5ECF6",
            "gridcolor": "white",
            "gridwidth": 2,
            "linecolor": "white",
            "showbackground": true,
            "ticks": "",
            "zerolinecolor": "white"
           }
          },
          "shapedefaults": {
           "line": {
            "color": "#2a3f5f"
           }
          },
          "ternary": {
           "aaxis": {
            "gridcolor": "white",
            "linecolor": "white",
            "ticks": ""
           },
           "baxis": {
            "gridcolor": "white",
            "linecolor": "white",
            "ticks": ""
           },
           "bgcolor": "#E5ECF6",
           "caxis": {
            "gridcolor": "white",
            "linecolor": "white",
            "ticks": ""
           }
          },
          "title": {
           "x": 0.05
          },
          "xaxis": {
           "automargin": true,
           "gridcolor": "white",
           "linecolor": "white",
           "ticks": "",
           "title": {
            "standoff": 15
           },
           "zerolinecolor": "white",
           "zerolinewidth": 2
          },
          "yaxis": {
           "automargin": true,
           "gridcolor": "white",
           "linecolor": "white",
           "ticks": "",
           "title": {
            "standoff": 15
           },
           "zerolinecolor": "white",
           "zerolinewidth": 2
          }
         }
        },
        "title": {
         "text": "Block Importance in Circuit C0"
        },
        "xaxis": {
         "anchor": "y",
         "domain": [
          0,
          1
         ],
         "title": {
          "text": "index"
         }
        },
        "yaxis": {
         "anchor": "x",
         "domain": [
          0,
          1
         ],
         "title": {
          "text": "Importance"
         }
        }
       }
      }
     },
     "metadata": {},
     "output_type": "display_data"
    },
    {
     "data": {
      "application/vnd.plotly.v1+json": {
       "config": {
        "plotlyServerURL": "https://plot.ly"
       },
       "data": [
        {
         "alignmentgroup": "True",
         "hovertemplate": "index=%{x}<br>Demand per Hour=%{y}<extra></extra>",
         "legendgroup": "",
         "marker": {
          "color": "#636efa",
          "pattern": {
           "shape": ""
          }
         },
         "name": "",
         "offsetgroup": "",
         "orientation": "v",
         "showlegend": false,
         "textposition": "auto",
         "type": "bar",
         "x": [
          0,
          1,
          2,
          3
         ],
         "xaxis": "x",
         "y": [
          1489.6389933326418,
          1485.4919097510199,
          1507.9605714260383,
          1470.1736532002187
         ],
         "yaxis": "y"
        }
       ],
       "layout": {
        "barmode": "relative",
        "height": 800,
        "legend": {
         "tracegroupgap": 0
        },
        "template": {
         "data": {
          "bar": [
           {
            "error_x": {
             "color": "#2a3f5f"
            },
            "error_y": {
             "color": "#2a3f5f"
            },
            "marker": {
             "line": {
              "color": "#E5ECF6",
              "width": 0.5
             },
             "pattern": {
              "fillmode": "overlay",
              "size": 10,
              "solidity": 0.2
             }
            },
            "type": "bar"
           }
          ],
          "barpolar": [
           {
            "marker": {
             "line": {
              "color": "#E5ECF6",
              "width": 0.5
             },
             "pattern": {
              "fillmode": "overlay",
              "size": 10,
              "solidity": 0.2
             }
            },
            "type": "barpolar"
           }
          ],
          "carpet": [
           {
            "aaxis": {
             "endlinecolor": "#2a3f5f",
             "gridcolor": "white",
             "linecolor": "white",
             "minorgridcolor": "white",
             "startlinecolor": "#2a3f5f"
            },
            "baxis": {
             "endlinecolor": "#2a3f5f",
             "gridcolor": "white",
             "linecolor": "white",
             "minorgridcolor": "white",
             "startlinecolor": "#2a3f5f"
            },
            "type": "carpet"
           }
          ],
          "choropleth": [
           {
            "colorbar": {
             "outlinewidth": 0,
             "ticks": ""
            },
            "type": "choropleth"
           }
          ],
          "contour": [
           {
            "colorbar": {
             "outlinewidth": 0,
             "ticks": ""
            },
            "colorscale": [
             [
              0,
              "#0d0887"
             ],
             [
              0.1111111111111111,
              "#46039f"
             ],
             [
              0.2222222222222222,
              "#7201a8"
             ],
             [
              0.3333333333333333,
              "#9c179e"
             ],
             [
              0.4444444444444444,
              "#bd3786"
             ],
             [
              0.5555555555555556,
              "#d8576b"
             ],
             [
              0.6666666666666666,
              "#ed7953"
             ],
             [
              0.7777777777777778,
              "#fb9f3a"
             ],
             [
              0.8888888888888888,
              "#fdca26"
             ],
             [
              1,
              "#f0f921"
             ]
            ],
            "type": "contour"
           }
          ],
          "contourcarpet": [
           {
            "colorbar": {
             "outlinewidth": 0,
             "ticks": ""
            },
            "type": "contourcarpet"
           }
          ],
          "heatmap": [
           {
            "colorbar": {
             "outlinewidth": 0,
             "ticks": ""
            },
            "colorscale": [
             [
              0,
              "#0d0887"
             ],
             [
              0.1111111111111111,
              "#46039f"
             ],
             [
              0.2222222222222222,
              "#7201a8"
             ],
             [
              0.3333333333333333,
              "#9c179e"
             ],
             [
              0.4444444444444444,
              "#bd3786"
             ],
             [
              0.5555555555555556,
              "#d8576b"
             ],
             [
              0.6666666666666666,
              "#ed7953"
             ],
             [
              0.7777777777777778,
              "#fb9f3a"
             ],
             [
              0.8888888888888888,
              "#fdca26"
             ],
             [
              1,
              "#f0f921"
             ]
            ],
            "type": "heatmap"
           }
          ],
          "heatmapgl": [
           {
            "colorbar": {
             "outlinewidth": 0,
             "ticks": ""
            },
            "colorscale": [
             [
              0,
              "#0d0887"
             ],
             [
              0.1111111111111111,
              "#46039f"
             ],
             [
              0.2222222222222222,
              "#7201a8"
             ],
             [
              0.3333333333333333,
              "#9c179e"
             ],
             [
              0.4444444444444444,
              "#bd3786"
             ],
             [
              0.5555555555555556,
              "#d8576b"
             ],
             [
              0.6666666666666666,
              "#ed7953"
             ],
             [
              0.7777777777777778,
              "#fb9f3a"
             ],
             [
              0.8888888888888888,
              "#fdca26"
             ],
             [
              1,
              "#f0f921"
             ]
            ],
            "type": "heatmapgl"
           }
          ],
          "histogram": [
           {
            "marker": {
             "pattern": {
              "fillmode": "overlay",
              "size": 10,
              "solidity": 0.2
             }
            },
            "type": "histogram"
           }
          ],
          "histogram2d": [
           {
            "colorbar": {
             "outlinewidth": 0,
             "ticks": ""
            },
            "colorscale": [
             [
              0,
              "#0d0887"
             ],
             [
              0.1111111111111111,
              "#46039f"
             ],
             [
              0.2222222222222222,
              "#7201a8"
             ],
             [
              0.3333333333333333,
              "#9c179e"
             ],
             [
              0.4444444444444444,
              "#bd3786"
             ],
             [
              0.5555555555555556,
              "#d8576b"
             ],
             [
              0.6666666666666666,
              "#ed7953"
             ],
             [
              0.7777777777777778,
              "#fb9f3a"
             ],
             [
              0.8888888888888888,
              "#fdca26"
             ],
             [
              1,
              "#f0f921"
             ]
            ],
            "type": "histogram2d"
           }
          ],
          "histogram2dcontour": [
           {
            "colorbar": {
             "outlinewidth": 0,
             "ticks": ""
            },
            "colorscale": [
             [
              0,
              "#0d0887"
             ],
             [
              0.1111111111111111,
              "#46039f"
             ],
             [
              0.2222222222222222,
              "#7201a8"
             ],
             [
              0.3333333333333333,
              "#9c179e"
             ],
             [
              0.4444444444444444,
              "#bd3786"
             ],
             [
              0.5555555555555556,
              "#d8576b"
             ],
             [
              0.6666666666666666,
              "#ed7953"
             ],
             [
              0.7777777777777778,
              "#fb9f3a"
             ],
             [
              0.8888888888888888,
              "#fdca26"
             ],
             [
              1,
              "#f0f921"
             ]
            ],
            "type": "histogram2dcontour"
           }
          ],
          "mesh3d": [
           {
            "colorbar": {
             "outlinewidth": 0,
             "ticks": ""
            },
            "type": "mesh3d"
           }
          ],
          "parcoords": [
           {
            "line": {
             "colorbar": {
              "outlinewidth": 0,
              "ticks": ""
             }
            },
            "type": "parcoords"
           }
          ],
          "pie": [
           {
            "automargin": true,
            "type": "pie"
           }
          ],
          "scatter": [
           {
            "fillpattern": {
             "fillmode": "overlay",
             "size": 10,
             "solidity": 0.2
            },
            "type": "scatter"
           }
          ],
          "scatter3d": [
           {
            "line": {
             "colorbar": {
              "outlinewidth": 0,
              "ticks": ""
             }
            },
            "marker": {
             "colorbar": {
              "outlinewidth": 0,
              "ticks": ""
             }
            },
            "type": "scatter3d"
           }
          ],
          "scattercarpet": [
           {
            "marker": {
             "colorbar": {
              "outlinewidth": 0,
              "ticks": ""
             }
            },
            "type": "scattercarpet"
           }
          ],
          "scattergeo": [
           {
            "marker": {
             "colorbar": {
              "outlinewidth": 0,
              "ticks": ""
             }
            },
            "type": "scattergeo"
           }
          ],
          "scattergl": [
           {
            "marker": {
             "colorbar": {
              "outlinewidth": 0,
              "ticks": ""
             }
            },
            "type": "scattergl"
           }
          ],
          "scattermapbox": [
           {
            "marker": {
             "colorbar": {
              "outlinewidth": 0,
              "ticks": ""
             }
            },
            "type": "scattermapbox"
           }
          ],
          "scatterpolar": [
           {
            "marker": {
             "colorbar": {
              "outlinewidth": 0,
              "ticks": ""
             }
            },
            "type": "scatterpolar"
           }
          ],
          "scatterpolargl": [
           {
            "marker": {
             "colorbar": {
              "outlinewidth": 0,
              "ticks": ""
             }
            },
            "type": "scatterpolargl"
           }
          ],
          "scatterternary": [
           {
            "marker": {
             "colorbar": {
              "outlinewidth": 0,
              "ticks": ""
             }
            },
            "type": "scatterternary"
           }
          ],
          "surface": [
           {
            "colorbar": {
             "outlinewidth": 0,
             "ticks": ""
            },
            "colorscale": [
             [
              0,
              "#0d0887"
             ],
             [
              0.1111111111111111,
              "#46039f"
             ],
             [
              0.2222222222222222,
              "#7201a8"
             ],
             [
              0.3333333333333333,
              "#9c179e"
             ],
             [
              0.4444444444444444,
              "#bd3786"
             ],
             [
              0.5555555555555556,
              "#d8576b"
             ],
             [
              0.6666666666666666,
              "#ed7953"
             ],
             [
              0.7777777777777778,
              "#fb9f3a"
             ],
             [
              0.8888888888888888,
              "#fdca26"
             ],
             [
              1,
              "#f0f921"
             ]
            ],
            "type": "surface"
           }
          ],
          "table": [
           {
            "cells": {
             "fill": {
              "color": "#EBF0F8"
             },
             "line": {
              "color": "white"
             }
            },
            "header": {
             "fill": {
              "color": "#C8D4E3"
             },
             "line": {
              "color": "white"
             }
            },
            "type": "table"
           }
          ]
         },
         "layout": {
          "annotationdefaults": {
           "arrowcolor": "#2a3f5f",
           "arrowhead": 0,
           "arrowwidth": 1
          },
          "autotypenumbers": "strict",
          "coloraxis": {
           "colorbar": {
            "outlinewidth": 0,
            "ticks": ""
           }
          },
          "colorscale": {
           "diverging": [
            [
             0,
             "#8e0152"
            ],
            [
             0.1,
             "#c51b7d"
            ],
            [
             0.2,
             "#de77ae"
            ],
            [
             0.3,
             "#f1b6da"
            ],
            [
             0.4,
             "#fde0ef"
            ],
            [
             0.5,
             "#f7f7f7"
            ],
            [
             0.6,
             "#e6f5d0"
            ],
            [
             0.7,
             "#b8e186"
            ],
            [
             0.8,
             "#7fbc41"
            ],
            [
             0.9,
             "#4d9221"
            ],
            [
             1,
             "#276419"
            ]
           ],
           "sequential": [
            [
             0,
             "#0d0887"
            ],
            [
             0.1111111111111111,
             "#46039f"
            ],
            [
             0.2222222222222222,
             "#7201a8"
            ],
            [
             0.3333333333333333,
             "#9c179e"
            ],
            [
             0.4444444444444444,
             "#bd3786"
            ],
            [
             0.5555555555555556,
             "#d8576b"
            ],
            [
             0.6666666666666666,
             "#ed7953"
            ],
            [
             0.7777777777777778,
             "#fb9f3a"
            ],
            [
             0.8888888888888888,
             "#fdca26"
            ],
            [
             1,
             "#f0f921"
            ]
           ],
           "sequentialminus": [
            [
             0,
             "#0d0887"
            ],
            [
             0.1111111111111111,
             "#46039f"
            ],
            [
             0.2222222222222222,
             "#7201a8"
            ],
            [
             0.3333333333333333,
             "#9c179e"
            ],
            [
             0.4444444444444444,
             "#bd3786"
            ],
            [
             0.5555555555555556,
             "#d8576b"
            ],
            [
             0.6666666666666666,
             "#ed7953"
            ],
            [
             0.7777777777777778,
             "#fb9f3a"
            ],
            [
             0.8888888888888888,
             "#fdca26"
            ],
            [
             1,
             "#f0f921"
            ]
           ]
          },
          "colorway": [
           "#636efa",
           "#EF553B",
           "#00cc96",
           "#ab63fa",
           "#FFA15A",
           "#19d3f3",
           "#FF6692",
           "#B6E880",
           "#FF97FF",
           "#FECB52"
          ],
          "font": {
           "color": "#2a3f5f"
          },
          "geo": {
           "bgcolor": "white",
           "lakecolor": "white",
           "landcolor": "#E5ECF6",
           "showlakes": true,
           "showland": true,
           "subunitcolor": "white"
          },
          "hoverlabel": {
           "align": "left"
          },
          "hovermode": "closest",
          "mapbox": {
           "style": "light"
          },
          "paper_bgcolor": "white",
          "plot_bgcolor": "#E5ECF6",
          "polar": {
           "angularaxis": {
            "gridcolor": "white",
            "linecolor": "white",
            "ticks": ""
           },
           "bgcolor": "#E5ECF6",
           "radialaxis": {
            "gridcolor": "white",
            "linecolor": "white",
            "ticks": ""
           }
          },
          "scene": {
           "xaxis": {
            "backgroundcolor": "#E5ECF6",
            "gridcolor": "white",
            "gridwidth": 2,
            "linecolor": "white",
            "showbackground": true,
            "ticks": "",
            "zerolinecolor": "white"
           },
           "yaxis": {
            "backgroundcolor": "#E5ECF6",
            "gridcolor": "white",
            "gridwidth": 2,
            "linecolor": "white",
            "showbackground": true,
            "ticks": "",
            "zerolinecolor": "white"
           },
           "zaxis": {
            "backgroundcolor": "#E5ECF6",
            "gridcolor": "white",
            "gridwidth": 2,
            "linecolor": "white",
            "showbackground": true,
            "ticks": "",
            "zerolinecolor": "white"
           }
          },
          "shapedefaults": {
           "line": {
            "color": "#2a3f5f"
           }
          },
          "ternary": {
           "aaxis": {
            "gridcolor": "white",
            "linecolor": "white",
            "ticks": ""
           },
           "baxis": {
            "gridcolor": "white",
            "linecolor": "white",
            "ticks": ""
           },
           "bgcolor": "#E5ECF6",
           "caxis": {
            "gridcolor": "white",
            "linecolor": "white",
            "ticks": ""
           }
          },
          "title": {
           "x": 0.05
          },
          "xaxis": {
           "automargin": true,
           "gridcolor": "white",
           "linecolor": "white",
           "ticks": "",
           "title": {
            "standoff": 15
           },
           "zerolinecolor": "white",
           "zerolinewidth": 2
          },
          "yaxis": {
           "automargin": true,
           "gridcolor": "white",
           "linecolor": "white",
           "ticks": "",
           "title": {
            "standoff": 15
           },
           "zerolinecolor": "white",
           "zerolinewidth": 2
          }
         }
        },
        "title": {
         "text": "Block Demand per Hour in Circuit C0"
        },
        "xaxis": {
         "anchor": "y",
         "domain": [
          0,
          1
         ],
         "title": {
          "text": "index"
         }
        },
        "yaxis": {
         "anchor": "x",
         "domain": [
          0,
          1
         ],
         "title": {
          "text": "Demand per Hour"
         }
        }
       }
      }
     },
     "metadata": {},
     "output_type": "display_data"
    }
   ],
   "source": [
    "# All data of one block of a circuit (importance, citizens, industrialization, demand per hour)\n",
    "\n",
    "circuit_stats = electric_system_circuits_list[0]\n",
    "\n",
    "blocks = circuit_stats.blocks\n",
    "\n",
    "citizens = []\n",
    "importance = []\n",
    "demand_per_hour = []\n",
    "\n",
    "for block in blocks:\n",
    "    citizens.append(block.citizens.amount)\n",
    "    importance.append(block.importance)\n",
    "    demand_per_hour.append(sum(block.predicted_demand_per_hour))\n",
    "\n",
    "block_stats_df = pd.DataFrame(\n",
    "    {\n",
    "        \"Citizens\": citizens,\n",
    "        \"Importance\": importance,\n",
    "        \"Demand per Hour\": demand_per_hour,\n",
    "    }\n",
    ")\n",
    "\n",
    "fig_citizens = px.bar(\n",
    "    block_stats_df,\n",
    "    x=block_stats_df.index,\n",
    "    y=\"Citizens\",\n",
    "    title=f\"Block Citizens in Circuit {circuit_stats.id}\",\n",
    "    height=800,\n",
    ")\n",
    "\n",
    "fig_importance = px.bar(\n",
    "    block_stats_df,\n",
    "    x=block_stats_df.index,\n",
    "    y=\"Importance\",\n",
    "    title=f\"Block Importance in Circuit {circuit_stats.id}\",\n",
    "    height=800,\n",
    ")\n",
    "\n",
    "fig_demand_per_hour = px.bar(\n",
    "    block_stats_df,\n",
    "    x=block_stats_df.index,\n",
    "    y=\"Demand per Hour\",\n",
    "    title=f\"Block Demand per Hour in Circuit {circuit_stats.id}\",\n",
    "    height=800,\n",
    ")\n",
    "\n",
    "\n",
    "fig_citizens.show()\n",
    "fig_importance.show()\n",
    "fig_demand_per_hour.show()"
   ]
  },
  {
   "cell_type": "code",
   "execution_count": 82,
   "metadata": {},
   "outputs": [
    {
     "data": {
      "application/vnd.plotly.v1+json": {
       "config": {
        "plotlyServerURL": "https://plot.ly"
       },
       "data": [
        {
         "alignmentgroup": "True",
         "hovertemplate": "Thermoelectric ID=Th0<br>Circuit ID=%{x}<br>Citizens=%{y}<extra></extra>",
         "legendgroup": "Th0",
         "marker": {
          "color": "#636EFA",
          "pattern": {
           "shape": ""
          }
         },
         "name": "Th0",
         "offsetgroup": "Th0",
         "orientation": "v",
         "showlegend": true,
         "textposition": "auto",
         "type": "bar",
         "x": [
          "C5",
          "C8",
          "C9",
          "C12",
          "C18",
          "C26",
          "C27",
          "C29",
          "C32",
          "C38",
          "C42",
          "C46",
          "C48"
         ],
         "xaxis": "x",
         "y": [
          17806,
          19284,
          6531,
          3753,
          18201,
          10685,
          9140,
          5307,
          7185,
          9853,
          7089,
          13383,
          4597
         ],
         "yaxis": "y"
        },
        {
         "alignmentgroup": "True",
         "hovertemplate": "Thermoelectric ID=Th1<br>Circuit ID=%{x}<br>Citizens=%{y}<extra></extra>",
         "legendgroup": "Th1",
         "marker": {
          "color": "#EF553B",
          "pattern": {
           "shape": ""
          }
         },
         "name": "Th1",
         "offsetgroup": "Th1",
         "orientation": "v",
         "showlegend": true,
         "textposition": "auto",
         "type": "bar",
         "x": [
          "C10",
          "C15",
          "C21",
          "C24",
          "C31",
          "C36",
          "C44",
          "C47"
         ],
         "xaxis": "x",
         "y": [
          2008,
          2512,
          18702,
          14786,
          7370,
          4673,
          11178,
          7151
         ],
         "yaxis": "y"
        },
        {
         "alignmentgroup": "True",
         "hovertemplate": "Thermoelectric ID=Th2<br>Circuit ID=%{x}<br>Citizens=%{y}<extra></extra>",
         "legendgroup": "Th2",
         "marker": {
          "color": "#00CC96",
          "pattern": {
           "shape": ""
          }
         },
         "name": "Th2",
         "offsetgroup": "Th2",
         "orientation": "v",
         "showlegend": true,
         "textposition": "auto",
         "type": "bar",
         "x": [
          "C11",
          "C20",
          "C37"
         ],
         "xaxis": "x",
         "y": [
          1478,
          6591,
          2955
         ],
         "yaxis": "y"
        },
        {
         "alignmentgroup": "True",
         "hovertemplate": "Thermoelectric ID=Th3<br>Circuit ID=%{x}<br>Citizens=%{y}<extra></extra>",
         "legendgroup": "Th3",
         "marker": {
          "color": "#AB63FA",
          "pattern": {
           "shape": ""
          }
         },
         "name": "Th3",
         "offsetgroup": "Th3",
         "orientation": "v",
         "showlegend": true,
         "textposition": "auto",
         "type": "bar",
         "x": [
          "C0",
          "C19",
          "C30",
          "C35",
          "C45"
         ],
         "xaxis": "x",
         "y": [
          1388,
          17894,
          9471,
          7763,
          2742
         ],
         "yaxis": "y"
        },
        {
         "alignmentgroup": "True",
         "hovertemplate": "Thermoelectric ID=Th4<br>Circuit ID=%{x}<br>Citizens=%{y}<extra></extra>",
         "legendgroup": "Th4",
         "marker": {
          "color": "#FFA15A",
          "pattern": {
           "shape": ""
          }
         },
         "name": "Th4",
         "offsetgroup": "Th4",
         "orientation": "v",
         "showlegend": true,
         "textposition": "auto",
         "type": "bar",
         "x": [
          "C6",
          "C14",
          "C41"
         ],
         "xaxis": "x",
         "y": [
          17625,
          9614,
          9672
         ],
         "yaxis": "y"
        },
        {
         "alignmentgroup": "True",
         "hovertemplate": "Thermoelectric ID=Th5<br>Circuit ID=%{x}<br>Citizens=%{y}<extra></extra>",
         "legendgroup": "Th5",
         "marker": {
          "color": "#19D3F3",
          "pattern": {
           "shape": ""
          }
         },
         "name": "Th5",
         "offsetgroup": "Th5",
         "orientation": "v",
         "showlegend": true,
         "textposition": "auto",
         "type": "bar",
         "x": [
          "C7",
          "C22",
          "C23",
          "C43"
         ],
         "xaxis": "x",
         "y": [
          16499,
          550,
          5030,
          9066
         ],
         "yaxis": "y"
        },
        {
         "alignmentgroup": "True",
         "hovertemplate": "Thermoelectric ID=Th6<br>Circuit ID=%{x}<br>Citizens=%{y}<extra></extra>",
         "legendgroup": "Th6",
         "marker": {
          "color": "#FF6692",
          "pattern": {
           "shape": ""
          }
         },
         "name": "Th6",
         "offsetgroup": "Th6",
         "orientation": "v",
         "showlegend": true,
         "textposition": "auto",
         "type": "bar",
         "x": [
          "C1",
          "C2",
          "C28",
          "C34",
          "C40"
         ],
         "xaxis": "x",
         "y": [
          7777,
          7163,
          8522,
          6199,
          12288
         ],
         "yaxis": "y"
        },
        {
         "alignmentgroup": "True",
         "hovertemplate": "Thermoelectric ID=Th7<br>Circuit ID=%{x}<br>Citizens=%{y}<extra></extra>",
         "legendgroup": "Th7",
         "marker": {
          "color": "#B6E880",
          "pattern": {
           "shape": ""
          }
         },
         "name": "Th7",
         "offsetgroup": "Th7",
         "orientation": "v",
         "showlegend": true,
         "textposition": "auto",
         "type": "bar",
         "x": [
          "C3",
          "C4",
          "C13",
          "C16",
          "C17",
          "C25",
          "C33",
          "C39",
          "C49"
         ],
         "xaxis": "x",
         "y": [
          4589,
          9536,
          1424,
          4922,
          4476,
          7214,
          5446,
          3429,
          4368
         ],
         "yaxis": "y"
        }
       ],
       "layout": {
        "barmode": "relative",
        "height": 800,
        "legend": {
         "title": {
          "text": "Thermoelectric ID"
         },
         "tracegroupgap": 0
        },
        "template": {
         "data": {
          "bar": [
           {
            "error_x": {
             "color": "#2a3f5f"
            },
            "error_y": {
             "color": "#2a3f5f"
            },
            "marker": {
             "line": {
              "color": "#E5ECF6",
              "width": 0.5
             },
             "pattern": {
              "fillmode": "overlay",
              "size": 10,
              "solidity": 0.2
             }
            },
            "type": "bar"
           }
          ],
          "barpolar": [
           {
            "marker": {
             "line": {
              "color": "#E5ECF6",
              "width": 0.5
             },
             "pattern": {
              "fillmode": "overlay",
              "size": 10,
              "solidity": 0.2
             }
            },
            "type": "barpolar"
           }
          ],
          "carpet": [
           {
            "aaxis": {
             "endlinecolor": "#2a3f5f",
             "gridcolor": "white",
             "linecolor": "white",
             "minorgridcolor": "white",
             "startlinecolor": "#2a3f5f"
            },
            "baxis": {
             "endlinecolor": "#2a3f5f",
             "gridcolor": "white",
             "linecolor": "white",
             "minorgridcolor": "white",
             "startlinecolor": "#2a3f5f"
            },
            "type": "carpet"
           }
          ],
          "choropleth": [
           {
            "colorbar": {
             "outlinewidth": 0,
             "ticks": ""
            },
            "type": "choropleth"
           }
          ],
          "contour": [
           {
            "colorbar": {
             "outlinewidth": 0,
             "ticks": ""
            },
            "colorscale": [
             [
              0,
              "#0d0887"
             ],
             [
              0.1111111111111111,
              "#46039f"
             ],
             [
              0.2222222222222222,
              "#7201a8"
             ],
             [
              0.3333333333333333,
              "#9c179e"
             ],
             [
              0.4444444444444444,
              "#bd3786"
             ],
             [
              0.5555555555555556,
              "#d8576b"
             ],
             [
              0.6666666666666666,
              "#ed7953"
             ],
             [
              0.7777777777777778,
              "#fb9f3a"
             ],
             [
              0.8888888888888888,
              "#fdca26"
             ],
             [
              1,
              "#f0f921"
             ]
            ],
            "type": "contour"
           }
          ],
          "contourcarpet": [
           {
            "colorbar": {
             "outlinewidth": 0,
             "ticks": ""
            },
            "type": "contourcarpet"
           }
          ],
          "heatmap": [
           {
            "colorbar": {
             "outlinewidth": 0,
             "ticks": ""
            },
            "colorscale": [
             [
              0,
              "#0d0887"
             ],
             [
              0.1111111111111111,
              "#46039f"
             ],
             [
              0.2222222222222222,
              "#7201a8"
             ],
             [
              0.3333333333333333,
              "#9c179e"
             ],
             [
              0.4444444444444444,
              "#bd3786"
             ],
             [
              0.5555555555555556,
              "#d8576b"
             ],
             [
              0.6666666666666666,
              "#ed7953"
             ],
             [
              0.7777777777777778,
              "#fb9f3a"
             ],
             [
              0.8888888888888888,
              "#fdca26"
             ],
             [
              1,
              "#f0f921"
             ]
            ],
            "type": "heatmap"
           }
          ],
          "heatmapgl": [
           {
            "colorbar": {
             "outlinewidth": 0,
             "ticks": ""
            },
            "colorscale": [
             [
              0,
              "#0d0887"
             ],
             [
              0.1111111111111111,
              "#46039f"
             ],
             [
              0.2222222222222222,
              "#7201a8"
             ],
             [
              0.3333333333333333,
              "#9c179e"
             ],
             [
              0.4444444444444444,
              "#bd3786"
             ],
             [
              0.5555555555555556,
              "#d8576b"
             ],
             [
              0.6666666666666666,
              "#ed7953"
             ],
             [
              0.7777777777777778,
              "#fb9f3a"
             ],
             [
              0.8888888888888888,
              "#fdca26"
             ],
             [
              1,
              "#f0f921"
             ]
            ],
            "type": "heatmapgl"
           }
          ],
          "histogram": [
           {
            "marker": {
             "pattern": {
              "fillmode": "overlay",
              "size": 10,
              "solidity": 0.2
             }
            },
            "type": "histogram"
           }
          ],
          "histogram2d": [
           {
            "colorbar": {
             "outlinewidth": 0,
             "ticks": ""
            },
            "colorscale": [
             [
              0,
              "#0d0887"
             ],
             [
              0.1111111111111111,
              "#46039f"
             ],
             [
              0.2222222222222222,
              "#7201a8"
             ],
             [
              0.3333333333333333,
              "#9c179e"
             ],
             [
              0.4444444444444444,
              "#bd3786"
             ],
             [
              0.5555555555555556,
              "#d8576b"
             ],
             [
              0.6666666666666666,
              "#ed7953"
             ],
             [
              0.7777777777777778,
              "#fb9f3a"
             ],
             [
              0.8888888888888888,
              "#fdca26"
             ],
             [
              1,
              "#f0f921"
             ]
            ],
            "type": "histogram2d"
           }
          ],
          "histogram2dcontour": [
           {
            "colorbar": {
             "outlinewidth": 0,
             "ticks": ""
            },
            "colorscale": [
             [
              0,
              "#0d0887"
             ],
             [
              0.1111111111111111,
              "#46039f"
             ],
             [
              0.2222222222222222,
              "#7201a8"
             ],
             [
              0.3333333333333333,
              "#9c179e"
             ],
             [
              0.4444444444444444,
              "#bd3786"
             ],
             [
              0.5555555555555556,
              "#d8576b"
             ],
             [
              0.6666666666666666,
              "#ed7953"
             ],
             [
              0.7777777777777778,
              "#fb9f3a"
             ],
             [
              0.8888888888888888,
              "#fdca26"
             ],
             [
              1,
              "#f0f921"
             ]
            ],
            "type": "histogram2dcontour"
           }
          ],
          "mesh3d": [
           {
            "colorbar": {
             "outlinewidth": 0,
             "ticks": ""
            },
            "type": "mesh3d"
           }
          ],
          "parcoords": [
           {
            "line": {
             "colorbar": {
              "outlinewidth": 0,
              "ticks": ""
             }
            },
            "type": "parcoords"
           }
          ],
          "pie": [
           {
            "automargin": true,
            "type": "pie"
           }
          ],
          "scatter": [
           {
            "fillpattern": {
             "fillmode": "overlay",
             "size": 10,
             "solidity": 0.2
            },
            "type": "scatter"
           }
          ],
          "scatter3d": [
           {
            "line": {
             "colorbar": {
              "outlinewidth": 0,
              "ticks": ""
             }
            },
            "marker": {
             "colorbar": {
              "outlinewidth": 0,
              "ticks": ""
             }
            },
            "type": "scatter3d"
           }
          ],
          "scattercarpet": [
           {
            "marker": {
             "colorbar": {
              "outlinewidth": 0,
              "ticks": ""
             }
            },
            "type": "scattercarpet"
           }
          ],
          "scattergeo": [
           {
            "marker": {
             "colorbar": {
              "outlinewidth": 0,
              "ticks": ""
             }
            },
            "type": "scattergeo"
           }
          ],
          "scattergl": [
           {
            "marker": {
             "colorbar": {
              "outlinewidth": 0,
              "ticks": ""
             }
            },
            "type": "scattergl"
           }
          ],
          "scattermapbox": [
           {
            "marker": {
             "colorbar": {
              "outlinewidth": 0,
              "ticks": ""
             }
            },
            "type": "scattermapbox"
           }
          ],
          "scatterpolar": [
           {
            "marker": {
             "colorbar": {
              "outlinewidth": 0,
              "ticks": ""
             }
            },
            "type": "scatterpolar"
           }
          ],
          "scatterpolargl": [
           {
            "marker": {
             "colorbar": {
              "outlinewidth": 0,
              "ticks": ""
             }
            },
            "type": "scatterpolargl"
           }
          ],
          "scatterternary": [
           {
            "marker": {
             "colorbar": {
              "outlinewidth": 0,
              "ticks": ""
             }
            },
            "type": "scatterternary"
           }
          ],
          "surface": [
           {
            "colorbar": {
             "outlinewidth": 0,
             "ticks": ""
            },
            "colorscale": [
             [
              0,
              "#0d0887"
             ],
             [
              0.1111111111111111,
              "#46039f"
             ],
             [
              0.2222222222222222,
              "#7201a8"
             ],
             [
              0.3333333333333333,
              "#9c179e"
             ],
             [
              0.4444444444444444,
              "#bd3786"
             ],
             [
              0.5555555555555556,
              "#d8576b"
             ],
             [
              0.6666666666666666,
              "#ed7953"
             ],
             [
              0.7777777777777778,
              "#fb9f3a"
             ],
             [
              0.8888888888888888,
              "#fdca26"
             ],
             [
              1,
              "#f0f921"
             ]
            ],
            "type": "surface"
           }
          ],
          "table": [
           {
            "cells": {
             "fill": {
              "color": "#EBF0F8"
             },
             "line": {
              "color": "white"
             }
            },
            "header": {
             "fill": {
              "color": "#C8D4E3"
             },
             "line": {
              "color": "white"
             }
            },
            "type": "table"
           }
          ]
         },
         "layout": {
          "annotationdefaults": {
           "arrowcolor": "#2a3f5f",
           "arrowhead": 0,
           "arrowwidth": 1
          },
          "autotypenumbers": "strict",
          "coloraxis": {
           "colorbar": {
            "outlinewidth": 0,
            "ticks": ""
           }
          },
          "colorscale": {
           "diverging": [
            [
             0,
             "#8e0152"
            ],
            [
             0.1,
             "#c51b7d"
            ],
            [
             0.2,
             "#de77ae"
            ],
            [
             0.3,
             "#f1b6da"
            ],
            [
             0.4,
             "#fde0ef"
            ],
            [
             0.5,
             "#f7f7f7"
            ],
            [
             0.6,
             "#e6f5d0"
            ],
            [
             0.7,
             "#b8e186"
            ],
            [
             0.8,
             "#7fbc41"
            ],
            [
             0.9,
             "#4d9221"
            ],
            [
             1,
             "#276419"
            ]
           ],
           "sequential": [
            [
             0,
             "#0d0887"
            ],
            [
             0.1111111111111111,
             "#46039f"
            ],
            [
             0.2222222222222222,
             "#7201a8"
            ],
            [
             0.3333333333333333,
             "#9c179e"
            ],
            [
             0.4444444444444444,
             "#bd3786"
            ],
            [
             0.5555555555555556,
             "#d8576b"
            ],
            [
             0.6666666666666666,
             "#ed7953"
            ],
            [
             0.7777777777777778,
             "#fb9f3a"
            ],
            [
             0.8888888888888888,
             "#fdca26"
            ],
            [
             1,
             "#f0f921"
            ]
           ],
           "sequentialminus": [
            [
             0,
             "#0d0887"
            ],
            [
             0.1111111111111111,
             "#46039f"
            ],
            [
             0.2222222222222222,
             "#7201a8"
            ],
            [
             0.3333333333333333,
             "#9c179e"
            ],
            [
             0.4444444444444444,
             "#bd3786"
            ],
            [
             0.5555555555555556,
             "#d8576b"
            ],
            [
             0.6666666666666666,
             "#ed7953"
            ],
            [
             0.7777777777777778,
             "#fb9f3a"
            ],
            [
             0.8888888888888888,
             "#fdca26"
            ],
            [
             1,
             "#f0f921"
            ]
           ]
          },
          "colorway": [
           "#636efa",
           "#EF553B",
           "#00cc96",
           "#ab63fa",
           "#FFA15A",
           "#19d3f3",
           "#FF6692",
           "#B6E880",
           "#FF97FF",
           "#FECB52"
          ],
          "font": {
           "color": "#2a3f5f"
          },
          "geo": {
           "bgcolor": "white",
           "lakecolor": "white",
           "landcolor": "#E5ECF6",
           "showlakes": true,
           "showland": true,
           "subunitcolor": "white"
          },
          "hoverlabel": {
           "align": "left"
          },
          "hovermode": "closest",
          "mapbox": {
           "style": "light"
          },
          "paper_bgcolor": "white",
          "plot_bgcolor": "#E5ECF6",
          "polar": {
           "angularaxis": {
            "gridcolor": "white",
            "linecolor": "white",
            "ticks": ""
           },
           "bgcolor": "#E5ECF6",
           "radialaxis": {
            "gridcolor": "white",
            "linecolor": "white",
            "ticks": ""
           }
          },
          "scene": {
           "xaxis": {
            "backgroundcolor": "#E5ECF6",
            "gridcolor": "white",
            "gridwidth": 2,
            "linecolor": "white",
            "showbackground": true,
            "ticks": "",
            "zerolinecolor": "white"
           },
           "yaxis": {
            "backgroundcolor": "#E5ECF6",
            "gridcolor": "white",
            "gridwidth": 2,
            "linecolor": "white",
            "showbackground": true,
            "ticks": "",
            "zerolinecolor": "white"
           },
           "zaxis": {
            "backgroundcolor": "#E5ECF6",
            "gridcolor": "white",
            "gridwidth": 2,
            "linecolor": "white",
            "showbackground": true,
            "ticks": "",
            "zerolinecolor": "white"
           }
          },
          "shapedefaults": {
           "line": {
            "color": "#2a3f5f"
           }
          },
          "ternary": {
           "aaxis": {
            "gridcolor": "white",
            "linecolor": "white",
            "ticks": ""
           },
           "baxis": {
            "gridcolor": "white",
            "linecolor": "white",
            "ticks": ""
           },
           "bgcolor": "#E5ECF6",
           "caxis": {
            "gridcolor": "white",
            "linecolor": "white",
            "ticks": ""
           }
          },
          "title": {
           "x": 0.05
          },
          "xaxis": {
           "automargin": true,
           "gridcolor": "white",
           "linecolor": "white",
           "ticks": "",
           "title": {
            "standoff": 15
           },
           "zerolinecolor": "white",
           "zerolinewidth": 2
          },
          "yaxis": {
           "automargin": true,
           "gridcolor": "white",
           "linecolor": "white",
           "ticks": "",
           "title": {
            "standoff": 15
           },
           "zerolinecolor": "white",
           "zerolinewidth": 2
          }
         }
        },
        "title": {
         "text": "Total Citizens per Circuit"
        },
        "xaxis": {
         "anchor": "y",
         "domain": [
          0,
          1
         ],
         "title": {
          "text": "Circuit ID"
         }
        },
        "yaxis": {
         "anchor": "x",
         "domain": [
          0,
          1
         ],
         "title": {
          "text": "Citizens"
         }
        }
       }
      }
     },
     "metadata": {},
     "output_type": "display_data"
    },
    {
     "data": {
      "application/vnd.plotly.v1+json": {
       "config": {
        "plotlyServerURL": "https://plot.ly"
       },
       "data": [
        {
         "alignmentgroup": "True",
         "hovertemplate": "Thermoelectric ID=Th0<br>Circuit ID=%{x}<br>Importance=%{y}<extra></extra>",
         "legendgroup": "Th0",
         "marker": {
          "color": "#636EFA",
          "pattern": {
           "shape": ""
          }
         },
         "name": "Th0",
         "offsetgroup": "Th0",
         "orientation": "v",
         "showlegend": true,
         "textposition": "auto",
         "type": "bar",
         "x": [
          "C5",
          "C8",
          "C9",
          "C12",
          "C18",
          "C26",
          "C27",
          "C29",
          "C32",
          "C38",
          "C42",
          "C46",
          "C48"
         ],
         "xaxis": "x",
         "y": [
          0.45768143191246635,
          0.5774352073739888,
          0.5040959756793196,
          0.5271964156295375,
          0.403540743362373,
          0.6843770126011202,
          0.3383934630263431,
          0.9052296485687618,
          0.7582405034743829,
          0.6033893281476872,
          0.7482043060568349,
          0.7031291613773077,
          0.19169545784069697
         ],
         "yaxis": "y"
        },
        {
         "alignmentgroup": "True",
         "hovertemplate": "Thermoelectric ID=Th1<br>Circuit ID=%{x}<br>Importance=%{y}<extra></extra>",
         "legendgroup": "Th1",
         "marker": {
          "color": "#EF553B",
          "pattern": {
           "shape": ""
          }
         },
         "name": "Th1",
         "offsetgroup": "Th1",
         "orientation": "v",
         "showlegend": true,
         "textposition": "auto",
         "type": "bar",
         "x": [
          "C10",
          "C15",
          "C21",
          "C24",
          "C31",
          "C36",
          "C44",
          "C47"
         ],
         "xaxis": "x",
         "y": [
          0.26274413550093345,
          0.7384400955196018,
          0.028691241962248495,
          0.2772061433312591,
          0.5631478662103299,
          0.526361733924497,
          0.09554688290811035,
          0.355980879381871
         ],
         "yaxis": "y"
        },
        {
         "alignmentgroup": "True",
         "hovertemplate": "Thermoelectric ID=Th2<br>Circuit ID=%{x}<br>Importance=%{y}<extra></extra>",
         "legendgroup": "Th2",
         "marker": {
          "color": "#00CC96",
          "pattern": {
           "shape": ""
          }
         },
         "name": "Th2",
         "offsetgroup": "Th2",
         "orientation": "v",
         "showlegend": true,
         "textposition": "auto",
         "type": "bar",
         "x": [
          "C11",
          "C20",
          "C37"
         ],
         "xaxis": "x",
         "y": [
          0.5726210664281269,
          0.3890786923356151,
          0.577008138819747
         ],
         "yaxis": "y"
        },
        {
         "alignmentgroup": "True",
         "hovertemplate": "Thermoelectric ID=Th3<br>Circuit ID=%{x}<br>Importance=%{y}<extra></extra>",
         "legendgroup": "Th3",
         "marker": {
          "color": "#AB63FA",
          "pattern": {
           "shape": ""
          }
         },
         "name": "Th3",
         "offsetgroup": "Th3",
         "orientation": "v",
         "showlegend": true,
         "textposition": "auto",
         "type": "bar",
         "x": [
          "C0",
          "C19",
          "C30",
          "C35",
          "C45"
         ],
         "xaxis": "x",
         "y": [
          0.8461777580377516,
          0.5298171499688862,
          0.6245874582036922,
          0.36368756876166775,
          0.08688903858120722
         ],
         "yaxis": "y"
        },
        {
         "alignmentgroup": "True",
         "hovertemplate": "Thermoelectric ID=Th4<br>Circuit ID=%{x}<br>Importance=%{y}<extra></extra>",
         "legendgroup": "Th4",
         "marker": {
          "color": "#FFA15A",
          "pattern": {
           "shape": ""
          }
         },
         "name": "Th4",
         "offsetgroup": "Th4",
         "orientation": "v",
         "showlegend": true,
         "textposition": "auto",
         "type": "bar",
         "x": [
          "C6",
          "C14",
          "C41"
         ],
         "xaxis": "x",
         "y": [
          0.6779515720804813,
          0.4867219640116159,
          0.2142136179734495
         ],
         "yaxis": "y"
        },
        {
         "alignmentgroup": "True",
         "hovertemplate": "Thermoelectric ID=Th5<br>Circuit ID=%{x}<br>Importance=%{y}<extra></extra>",
         "legendgroup": "Th5",
         "marker": {
          "color": "#19D3F3",
          "pattern": {
           "shape": ""
          }
         },
         "name": "Th5",
         "offsetgroup": "Th5",
         "orientation": "v",
         "showlegend": true,
         "textposition": "auto",
         "type": "bar",
         "x": [
          "C7",
          "C22",
          "C23",
          "C43"
         ],
         "xaxis": "x",
         "y": [
          0.5409790826073428,
          0.44077335640945864,
          0.119928571717486,
          0.3404704827836549
         ],
         "yaxis": "y"
        },
        {
         "alignmentgroup": "True",
         "hovertemplate": "Thermoelectric ID=Th6<br>Circuit ID=%{x}<br>Importance=%{y}<extra></extra>",
         "legendgroup": "Th6",
         "marker": {
          "color": "#FF6692",
          "pattern": {
           "shape": ""
          }
         },
         "name": "Th6",
         "offsetgroup": "Th6",
         "orientation": "v",
         "showlegend": true,
         "textposition": "auto",
         "type": "bar",
         "x": [
          "C1",
          "C2",
          "C28",
          "C34",
          "C40"
         ],
         "xaxis": "x",
         "y": [
          0.49947600000000003,
          0.502174123988799,
          0.5537522716241444,
          0.2853399012652977,
          0.488799199751089
         ],
         "yaxis": "y"
        },
        {
         "alignmentgroup": "True",
         "hovertemplate": "Thermoelectric ID=Th7<br>Circuit ID=%{x}<br>Importance=%{y}<extra></extra>",
         "legendgroup": "Th7",
         "marker": {
          "color": "#B6E880",
          "pattern": {
           "shape": ""
          }
         },
         "name": "Th7",
         "offsetgroup": "Th7",
         "orientation": "v",
         "showlegend": true,
         "textposition": "auto",
         "type": "bar",
         "x": [
          "C3",
          "C4",
          "C13",
          "C16",
          "C17",
          "C25",
          "C33",
          "C39",
          "C49"
         ],
         "xaxis": "x",
         "y": [
          0.635943512912259,
          0.35332157980709394,
          0.6020692116780753,
          0.599856392864551,
          0.6435919656710227,
          0.34736203225471896,
          0.2609387138560465,
          0.30803277126114914,
          0.6478820202240201
         ],
         "yaxis": "y"
        }
       ],
       "layout": {
        "barmode": "relative",
        "height": 800,
        "legend": {
         "title": {
          "text": "Thermoelectric ID"
         },
         "tracegroupgap": 0
        },
        "template": {
         "data": {
          "bar": [
           {
            "error_x": {
             "color": "#2a3f5f"
            },
            "error_y": {
             "color": "#2a3f5f"
            },
            "marker": {
             "line": {
              "color": "#E5ECF6",
              "width": 0.5
             },
             "pattern": {
              "fillmode": "overlay",
              "size": 10,
              "solidity": 0.2
             }
            },
            "type": "bar"
           }
          ],
          "barpolar": [
           {
            "marker": {
             "line": {
              "color": "#E5ECF6",
              "width": 0.5
             },
             "pattern": {
              "fillmode": "overlay",
              "size": 10,
              "solidity": 0.2
             }
            },
            "type": "barpolar"
           }
          ],
          "carpet": [
           {
            "aaxis": {
             "endlinecolor": "#2a3f5f",
             "gridcolor": "white",
             "linecolor": "white",
             "minorgridcolor": "white",
             "startlinecolor": "#2a3f5f"
            },
            "baxis": {
             "endlinecolor": "#2a3f5f",
             "gridcolor": "white",
             "linecolor": "white",
             "minorgridcolor": "white",
             "startlinecolor": "#2a3f5f"
            },
            "type": "carpet"
           }
          ],
          "choropleth": [
           {
            "colorbar": {
             "outlinewidth": 0,
             "ticks": ""
            },
            "type": "choropleth"
           }
          ],
          "contour": [
           {
            "colorbar": {
             "outlinewidth": 0,
             "ticks": ""
            },
            "colorscale": [
             [
              0,
              "#0d0887"
             ],
             [
              0.1111111111111111,
              "#46039f"
             ],
             [
              0.2222222222222222,
              "#7201a8"
             ],
             [
              0.3333333333333333,
              "#9c179e"
             ],
             [
              0.4444444444444444,
              "#bd3786"
             ],
             [
              0.5555555555555556,
              "#d8576b"
             ],
             [
              0.6666666666666666,
              "#ed7953"
             ],
             [
              0.7777777777777778,
              "#fb9f3a"
             ],
             [
              0.8888888888888888,
              "#fdca26"
             ],
             [
              1,
              "#f0f921"
             ]
            ],
            "type": "contour"
           }
          ],
          "contourcarpet": [
           {
            "colorbar": {
             "outlinewidth": 0,
             "ticks": ""
            },
            "type": "contourcarpet"
           }
          ],
          "heatmap": [
           {
            "colorbar": {
             "outlinewidth": 0,
             "ticks": ""
            },
            "colorscale": [
             [
              0,
              "#0d0887"
             ],
             [
              0.1111111111111111,
              "#46039f"
             ],
             [
              0.2222222222222222,
              "#7201a8"
             ],
             [
              0.3333333333333333,
              "#9c179e"
             ],
             [
              0.4444444444444444,
              "#bd3786"
             ],
             [
              0.5555555555555556,
              "#d8576b"
             ],
             [
              0.6666666666666666,
              "#ed7953"
             ],
             [
              0.7777777777777778,
              "#fb9f3a"
             ],
             [
              0.8888888888888888,
              "#fdca26"
             ],
             [
              1,
              "#f0f921"
             ]
            ],
            "type": "heatmap"
           }
          ],
          "heatmapgl": [
           {
            "colorbar": {
             "outlinewidth": 0,
             "ticks": ""
            },
            "colorscale": [
             [
              0,
              "#0d0887"
             ],
             [
              0.1111111111111111,
              "#46039f"
             ],
             [
              0.2222222222222222,
              "#7201a8"
             ],
             [
              0.3333333333333333,
              "#9c179e"
             ],
             [
              0.4444444444444444,
              "#bd3786"
             ],
             [
              0.5555555555555556,
              "#d8576b"
             ],
             [
              0.6666666666666666,
              "#ed7953"
             ],
             [
              0.7777777777777778,
              "#fb9f3a"
             ],
             [
              0.8888888888888888,
              "#fdca26"
             ],
             [
              1,
              "#f0f921"
             ]
            ],
            "type": "heatmapgl"
           }
          ],
          "histogram": [
           {
            "marker": {
             "pattern": {
              "fillmode": "overlay",
              "size": 10,
              "solidity": 0.2
             }
            },
            "type": "histogram"
           }
          ],
          "histogram2d": [
           {
            "colorbar": {
             "outlinewidth": 0,
             "ticks": ""
            },
            "colorscale": [
             [
              0,
              "#0d0887"
             ],
             [
              0.1111111111111111,
              "#46039f"
             ],
             [
              0.2222222222222222,
              "#7201a8"
             ],
             [
              0.3333333333333333,
              "#9c179e"
             ],
             [
              0.4444444444444444,
              "#bd3786"
             ],
             [
              0.5555555555555556,
              "#d8576b"
             ],
             [
              0.6666666666666666,
              "#ed7953"
             ],
             [
              0.7777777777777778,
              "#fb9f3a"
             ],
             [
              0.8888888888888888,
              "#fdca26"
             ],
             [
              1,
              "#f0f921"
             ]
            ],
            "type": "histogram2d"
           }
          ],
          "histogram2dcontour": [
           {
            "colorbar": {
             "outlinewidth": 0,
             "ticks": ""
            },
            "colorscale": [
             [
              0,
              "#0d0887"
             ],
             [
              0.1111111111111111,
              "#46039f"
             ],
             [
              0.2222222222222222,
              "#7201a8"
             ],
             [
              0.3333333333333333,
              "#9c179e"
             ],
             [
              0.4444444444444444,
              "#bd3786"
             ],
             [
              0.5555555555555556,
              "#d8576b"
             ],
             [
              0.6666666666666666,
              "#ed7953"
             ],
             [
              0.7777777777777778,
              "#fb9f3a"
             ],
             [
              0.8888888888888888,
              "#fdca26"
             ],
             [
              1,
              "#f0f921"
             ]
            ],
            "type": "histogram2dcontour"
           }
          ],
          "mesh3d": [
           {
            "colorbar": {
             "outlinewidth": 0,
             "ticks": ""
            },
            "type": "mesh3d"
           }
          ],
          "parcoords": [
           {
            "line": {
             "colorbar": {
              "outlinewidth": 0,
              "ticks": ""
             }
            },
            "type": "parcoords"
           }
          ],
          "pie": [
           {
            "automargin": true,
            "type": "pie"
           }
          ],
          "scatter": [
           {
            "fillpattern": {
             "fillmode": "overlay",
             "size": 10,
             "solidity": 0.2
            },
            "type": "scatter"
           }
          ],
          "scatter3d": [
           {
            "line": {
             "colorbar": {
              "outlinewidth": 0,
              "ticks": ""
             }
            },
            "marker": {
             "colorbar": {
              "outlinewidth": 0,
              "ticks": ""
             }
            },
            "type": "scatter3d"
           }
          ],
          "scattercarpet": [
           {
            "marker": {
             "colorbar": {
              "outlinewidth": 0,
              "ticks": ""
             }
            },
            "type": "scattercarpet"
           }
          ],
          "scattergeo": [
           {
            "marker": {
             "colorbar": {
              "outlinewidth": 0,
              "ticks": ""
             }
            },
            "type": "scattergeo"
           }
          ],
          "scattergl": [
           {
            "marker": {
             "colorbar": {
              "outlinewidth": 0,
              "ticks": ""
             }
            },
            "type": "scattergl"
           }
          ],
          "scattermapbox": [
           {
            "marker": {
             "colorbar": {
              "outlinewidth": 0,
              "ticks": ""
             }
            },
            "type": "scattermapbox"
           }
          ],
          "scatterpolar": [
           {
            "marker": {
             "colorbar": {
              "outlinewidth": 0,
              "ticks": ""
             }
            },
            "type": "scatterpolar"
           }
          ],
          "scatterpolargl": [
           {
            "marker": {
             "colorbar": {
              "outlinewidth": 0,
              "ticks": ""
             }
            },
            "type": "scatterpolargl"
           }
          ],
          "scatterternary": [
           {
            "marker": {
             "colorbar": {
              "outlinewidth": 0,
              "ticks": ""
             }
            },
            "type": "scatterternary"
           }
          ],
          "surface": [
           {
            "colorbar": {
             "outlinewidth": 0,
             "ticks": ""
            },
            "colorscale": [
             [
              0,
              "#0d0887"
             ],
             [
              0.1111111111111111,
              "#46039f"
             ],
             [
              0.2222222222222222,
              "#7201a8"
             ],
             [
              0.3333333333333333,
              "#9c179e"
             ],
             [
              0.4444444444444444,
              "#bd3786"
             ],
             [
              0.5555555555555556,
              "#d8576b"
             ],
             [
              0.6666666666666666,
              "#ed7953"
             ],
             [
              0.7777777777777778,
              "#fb9f3a"
             ],
             [
              0.8888888888888888,
              "#fdca26"
             ],
             [
              1,
              "#f0f921"
             ]
            ],
            "type": "surface"
           }
          ],
          "table": [
           {
            "cells": {
             "fill": {
              "color": "#EBF0F8"
             },
             "line": {
              "color": "white"
             }
            },
            "header": {
             "fill": {
              "color": "#C8D4E3"
             },
             "line": {
              "color": "white"
             }
            },
            "type": "table"
           }
          ]
         },
         "layout": {
          "annotationdefaults": {
           "arrowcolor": "#2a3f5f",
           "arrowhead": 0,
           "arrowwidth": 1
          },
          "autotypenumbers": "strict",
          "coloraxis": {
           "colorbar": {
            "outlinewidth": 0,
            "ticks": ""
           }
          },
          "colorscale": {
           "diverging": [
            [
             0,
             "#8e0152"
            ],
            [
             0.1,
             "#c51b7d"
            ],
            [
             0.2,
             "#de77ae"
            ],
            [
             0.3,
             "#f1b6da"
            ],
            [
             0.4,
             "#fde0ef"
            ],
            [
             0.5,
             "#f7f7f7"
            ],
            [
             0.6,
             "#e6f5d0"
            ],
            [
             0.7,
             "#b8e186"
            ],
            [
             0.8,
             "#7fbc41"
            ],
            [
             0.9,
             "#4d9221"
            ],
            [
             1,
             "#276419"
            ]
           ],
           "sequential": [
            [
             0,
             "#0d0887"
            ],
            [
             0.1111111111111111,
             "#46039f"
            ],
            [
             0.2222222222222222,
             "#7201a8"
            ],
            [
             0.3333333333333333,
             "#9c179e"
            ],
            [
             0.4444444444444444,
             "#bd3786"
            ],
            [
             0.5555555555555556,
             "#d8576b"
            ],
            [
             0.6666666666666666,
             "#ed7953"
            ],
            [
             0.7777777777777778,
             "#fb9f3a"
            ],
            [
             0.8888888888888888,
             "#fdca26"
            ],
            [
             1,
             "#f0f921"
            ]
           ],
           "sequentialminus": [
            [
             0,
             "#0d0887"
            ],
            [
             0.1111111111111111,
             "#46039f"
            ],
            [
             0.2222222222222222,
             "#7201a8"
            ],
            [
             0.3333333333333333,
             "#9c179e"
            ],
            [
             0.4444444444444444,
             "#bd3786"
            ],
            [
             0.5555555555555556,
             "#d8576b"
            ],
            [
             0.6666666666666666,
             "#ed7953"
            ],
            [
             0.7777777777777778,
             "#fb9f3a"
            ],
            [
             0.8888888888888888,
             "#fdca26"
            ],
            [
             1,
             "#f0f921"
            ]
           ]
          },
          "colorway": [
           "#636efa",
           "#EF553B",
           "#00cc96",
           "#ab63fa",
           "#FFA15A",
           "#19d3f3",
           "#FF6692",
           "#B6E880",
           "#FF97FF",
           "#FECB52"
          ],
          "font": {
           "color": "#2a3f5f"
          },
          "geo": {
           "bgcolor": "white",
           "lakecolor": "white",
           "landcolor": "#E5ECF6",
           "showlakes": true,
           "showland": true,
           "subunitcolor": "white"
          },
          "hoverlabel": {
           "align": "left"
          },
          "hovermode": "closest",
          "mapbox": {
           "style": "light"
          },
          "paper_bgcolor": "white",
          "plot_bgcolor": "#E5ECF6",
          "polar": {
           "angularaxis": {
            "gridcolor": "white",
            "linecolor": "white",
            "ticks": ""
           },
           "bgcolor": "#E5ECF6",
           "radialaxis": {
            "gridcolor": "white",
            "linecolor": "white",
            "ticks": ""
           }
          },
          "scene": {
           "xaxis": {
            "backgroundcolor": "#E5ECF6",
            "gridcolor": "white",
            "gridwidth": 2,
            "linecolor": "white",
            "showbackground": true,
            "ticks": "",
            "zerolinecolor": "white"
           },
           "yaxis": {
            "backgroundcolor": "#E5ECF6",
            "gridcolor": "white",
            "gridwidth": 2,
            "linecolor": "white",
            "showbackground": true,
            "ticks": "",
            "zerolinecolor": "white"
           },
           "zaxis": {
            "backgroundcolor": "#E5ECF6",
            "gridcolor": "white",
            "gridwidth": 2,
            "linecolor": "white",
            "showbackground": true,
            "ticks": "",
            "zerolinecolor": "white"
           }
          },
          "shapedefaults": {
           "line": {
            "color": "#2a3f5f"
           }
          },
          "ternary": {
           "aaxis": {
            "gridcolor": "white",
            "linecolor": "white",
            "ticks": ""
           },
           "baxis": {
            "gridcolor": "white",
            "linecolor": "white",
            "ticks": ""
           },
           "bgcolor": "#E5ECF6",
           "caxis": {
            "gridcolor": "white",
            "linecolor": "white",
            "ticks": ""
           }
          },
          "title": {
           "x": 0.05
          },
          "xaxis": {
           "automargin": true,
           "gridcolor": "white",
           "linecolor": "white",
           "ticks": "",
           "title": {
            "standoff": 15
           },
           "zerolinecolor": "white",
           "zerolinewidth": 2
          },
          "yaxis": {
           "automargin": true,
           "gridcolor": "white",
           "linecolor": "white",
           "ticks": "",
           "title": {
            "standoff": 15
           },
           "zerolinecolor": "white",
           "zerolinewidth": 2
          }
         }
        },
        "title": {
         "text": "Importance per Circuit"
        },
        "xaxis": {
         "anchor": "y",
         "domain": [
          0,
          1
         ],
         "title": {
          "text": "Circuit ID"
         }
        },
        "yaxis": {
         "anchor": "x",
         "domain": [
          0,
          1
         ],
         "title": {
          "text": "Importance"
         }
        }
       }
      }
     },
     "metadata": {},
     "output_type": "display_data"
    },
    {
     "data": {
      "application/vnd.plotly.v1+json": {
       "config": {
        "plotlyServerURL": "https://plot.ly"
       },
       "data": [
        {
         "alignmentgroup": "True",
         "hovertemplate": "Thermoelectric ID=Th0<br>Circuit ID=%{x}<br>Demand per Hour=%{y}<extra></extra>",
         "legendgroup": "Th0",
         "marker": {
          "color": "#636EFA",
          "pattern": {
           "shape": ""
          }
         },
         "name": "Th0",
         "offsetgroup": "Th0",
         "orientation": "v",
         "showlegend": true,
         "textposition": "auto",
         "type": "bar",
         "x": [
          "C5",
          "C8",
          "C9",
          "C12",
          "C18",
          "C26",
          "C27",
          "C29",
          "C32",
          "C38",
          "C42",
          "C46",
          "C48"
         ],
         "xaxis": "x",
         "y": [
          3058.6416746755935,
          2942.660018024565,
          2631.6391866335634,
          2967.311843770084,
          1309.5778466253028,
          3667.3046400173607,
          2107.201798006433,
          6126.747146724053,
          5379.296908194607,
          3252.1727171373086,
          3245.7198666145755,
          3341.8086190165404,
          850.8479847845417
         ],
         "yaxis": "y"
        },
        {
         "alignmentgroup": "True",
         "hovertemplate": "Thermoelectric ID=Th1<br>Circuit ID=%{x}<br>Demand per Hour=%{y}<extra></extra>",
         "legendgroup": "Th1",
         "marker": {
          "color": "#EF553B",
          "pattern": {
           "shape": ""
          }
         },
         "name": "Th1",
         "offsetgroup": "Th1",
         "orientation": "v",
         "showlegend": true,
         "textposition": "auto",
         "type": "bar",
         "x": [
          "C10",
          "C15",
          "C21",
          "C24",
          "C31",
          "C36",
          "C44",
          "C47"
         ],
         "xaxis": "x",
         "y": [
          1832.3018907861865,
          5570.853284033768,
          410.5487908830832,
          639.3682118636923,
          3770.537398761076,
          2462.569416515923,
          980.3215251266832,
          2181.081993549441
         ],
         "yaxis": "y"
        },
        {
         "alignmentgroup": "True",
         "hovertemplate": "Thermoelectric ID=Th2<br>Circuit ID=%{x}<br>Demand per Hour=%{y}<extra></extra>",
         "legendgroup": "Th2",
         "marker": {
          "color": "#00CC96",
          "pattern": {
           "shape": ""
          }
         },
         "name": "Th2",
         "offsetgroup": "Th2",
         "orientation": "v",
         "showlegend": true,
         "textposition": "auto",
         "type": "bar",
         "x": [
          "C11",
          "C20",
          "C37"
         ],
         "xaxis": "x",
         "y": [
          3784.949068844686,
          2117.711470957663,
          3080.3869441918046
         ],
         "yaxis": "y"
        },
        {
         "alignmentgroup": "True",
         "hovertemplate": "Thermoelectric ID=Th3<br>Circuit ID=%{x}<br>Demand per Hour=%{y}<extra></extra>",
         "legendgroup": "Th3",
         "marker": {
          "color": "#AB63FA",
          "pattern": {
           "shape": ""
          }
         },
         "name": "Th3",
         "offsetgroup": "Th3",
         "orientation": "v",
         "showlegend": true,
         "textposition": "auto",
         "type": "bar",
         "x": [
          "C0",
          "C19",
          "C30",
          "C35",
          "C45"
         ],
         "xaxis": "x",
         "y": [
          5953.2651277099185,
          3336.3162356955027,
          2924.8303750231134,
          2707.3984994975644,
          1120.2342726659326
         ],
         "yaxis": "y"
        },
        {
         "alignmentgroup": "True",
         "hovertemplate": "Thermoelectric ID=Th4<br>Circuit ID=%{x}<br>Demand per Hour=%{y}<extra></extra>",
         "legendgroup": "Th4",
         "marker": {
          "color": "#FFA15A",
          "pattern": {
           "shape": ""
          }
         },
         "name": "Th4",
         "offsetgroup": "Th4",
         "orientation": "v",
         "showlegend": true,
         "textposition": "auto",
         "type": "bar",
         "x": [
          "C6",
          "C14",
          "C41"
         ],
         "xaxis": "x",
         "y": [
          2966.0401949796624,
          1028.9195211358206,
          1092.0070871973169
         ],
         "yaxis": "y"
        },
        {
         "alignmentgroup": "True",
         "hovertemplate": "Thermoelectric ID=Th5<br>Circuit ID=%{x}<br>Demand per Hour=%{y}<extra></extra>",
         "legendgroup": "Th5",
         "marker": {
          "color": "#19D3F3",
          "pattern": {
           "shape": ""
          }
         },
         "name": "Th5",
         "offsetgroup": "Th5",
         "orientation": "v",
         "showlegend": true,
         "textposition": "auto",
         "type": "bar",
         "x": [
          "C7",
          "C22",
          "C23",
          "C43"
         ],
         "xaxis": "x",
         "y": [
          2740.4703203254358,
          2954.3280024820806,
          699.1579534344592,
          1159.5594081799827
         ],
         "yaxis": "y"
        },
        {
         "alignmentgroup": "True",
         "hovertemplate": "Thermoelectric ID=Th6<br>Circuit ID=%{x}<br>Demand per Hour=%{y}<extra></extra>",
         "legendgroup": "Th6",
         "marker": {
          "color": "#FF6692",
          "pattern": {
           "shape": ""
          }
         },
         "name": "Th6",
         "offsetgroup": "Th6",
         "orientation": "v",
         "showlegend": true,
         "textposition": "auto",
         "type": "bar",
         "x": [
          "C1",
          "C2",
          "C28",
          "C34",
          "C40"
         ],
         "xaxis": "x",
         "y": [
          4571.319364455588,
          2251.7707282190804,
          2471.4420931719487,
          1597.4417213924746,
          3787.4394978448418
         ],
         "yaxis": "y"
        },
        {
         "alignmentgroup": "True",
         "hovertemplate": "Thermoelectric ID=Th7<br>Circuit ID=%{x}<br>Demand per Hour=%{y}<extra></extra>",
         "legendgroup": "Th7",
         "marker": {
          "color": "#B6E880",
          "pattern": {
           "shape": ""
          }
         },
         "name": "Th7",
         "offsetgroup": "Th7",
         "orientation": "v",
         "showlegend": true,
         "textposition": "auto",
         "type": "bar",
         "x": [
          "C3",
          "C4",
          "C13",
          "C16",
          "C17",
          "C25",
          "C33",
          "C39",
          "C49"
         ],
         "xaxis": "x",
         "y": [
          2766.862251289974,
          3921.5280261788503,
          1798.8647598770954,
          4096.1061233143,
          2645.4420617962996,
          3879.121864814766,
          506.0970531107234,
          1849.5119002285073,
          3655.243318947385
         ],
         "yaxis": "y"
        }
       ],
       "layout": {
        "barmode": "relative",
        "height": 800,
        "legend": {
         "title": {
          "text": "Thermoelectric ID"
         },
         "tracegroupgap": 0
        },
        "template": {
         "data": {
          "bar": [
           {
            "error_x": {
             "color": "#2a3f5f"
            },
            "error_y": {
             "color": "#2a3f5f"
            },
            "marker": {
             "line": {
              "color": "#E5ECF6",
              "width": 0.5
             },
             "pattern": {
              "fillmode": "overlay",
              "size": 10,
              "solidity": 0.2
             }
            },
            "type": "bar"
           }
          ],
          "barpolar": [
           {
            "marker": {
             "line": {
              "color": "#E5ECF6",
              "width": 0.5
             },
             "pattern": {
              "fillmode": "overlay",
              "size": 10,
              "solidity": 0.2
             }
            },
            "type": "barpolar"
           }
          ],
          "carpet": [
           {
            "aaxis": {
             "endlinecolor": "#2a3f5f",
             "gridcolor": "white",
             "linecolor": "white",
             "minorgridcolor": "white",
             "startlinecolor": "#2a3f5f"
            },
            "baxis": {
             "endlinecolor": "#2a3f5f",
             "gridcolor": "white",
             "linecolor": "white",
             "minorgridcolor": "white",
             "startlinecolor": "#2a3f5f"
            },
            "type": "carpet"
           }
          ],
          "choropleth": [
           {
            "colorbar": {
             "outlinewidth": 0,
             "ticks": ""
            },
            "type": "choropleth"
           }
          ],
          "contour": [
           {
            "colorbar": {
             "outlinewidth": 0,
             "ticks": ""
            },
            "colorscale": [
             [
              0,
              "#0d0887"
             ],
             [
              0.1111111111111111,
              "#46039f"
             ],
             [
              0.2222222222222222,
              "#7201a8"
             ],
             [
              0.3333333333333333,
              "#9c179e"
             ],
             [
              0.4444444444444444,
              "#bd3786"
             ],
             [
              0.5555555555555556,
              "#d8576b"
             ],
             [
              0.6666666666666666,
              "#ed7953"
             ],
             [
              0.7777777777777778,
              "#fb9f3a"
             ],
             [
              0.8888888888888888,
              "#fdca26"
             ],
             [
              1,
              "#f0f921"
             ]
            ],
            "type": "contour"
           }
          ],
          "contourcarpet": [
           {
            "colorbar": {
             "outlinewidth": 0,
             "ticks": ""
            },
            "type": "contourcarpet"
           }
          ],
          "heatmap": [
           {
            "colorbar": {
             "outlinewidth": 0,
             "ticks": ""
            },
            "colorscale": [
             [
              0,
              "#0d0887"
             ],
             [
              0.1111111111111111,
              "#46039f"
             ],
             [
              0.2222222222222222,
              "#7201a8"
             ],
             [
              0.3333333333333333,
              "#9c179e"
             ],
             [
              0.4444444444444444,
              "#bd3786"
             ],
             [
              0.5555555555555556,
              "#d8576b"
             ],
             [
              0.6666666666666666,
              "#ed7953"
             ],
             [
              0.7777777777777778,
              "#fb9f3a"
             ],
             [
              0.8888888888888888,
              "#fdca26"
             ],
             [
              1,
              "#f0f921"
             ]
            ],
            "type": "heatmap"
           }
          ],
          "heatmapgl": [
           {
            "colorbar": {
             "outlinewidth": 0,
             "ticks": ""
            },
            "colorscale": [
             [
              0,
              "#0d0887"
             ],
             [
              0.1111111111111111,
              "#46039f"
             ],
             [
              0.2222222222222222,
              "#7201a8"
             ],
             [
              0.3333333333333333,
              "#9c179e"
             ],
             [
              0.4444444444444444,
              "#bd3786"
             ],
             [
              0.5555555555555556,
              "#d8576b"
             ],
             [
              0.6666666666666666,
              "#ed7953"
             ],
             [
              0.7777777777777778,
              "#fb9f3a"
             ],
             [
              0.8888888888888888,
              "#fdca26"
             ],
             [
              1,
              "#f0f921"
             ]
            ],
            "type": "heatmapgl"
           }
          ],
          "histogram": [
           {
            "marker": {
             "pattern": {
              "fillmode": "overlay",
              "size": 10,
              "solidity": 0.2
             }
            },
            "type": "histogram"
           }
          ],
          "histogram2d": [
           {
            "colorbar": {
             "outlinewidth": 0,
             "ticks": ""
            },
            "colorscale": [
             [
              0,
              "#0d0887"
             ],
             [
              0.1111111111111111,
              "#46039f"
             ],
             [
              0.2222222222222222,
              "#7201a8"
             ],
             [
              0.3333333333333333,
              "#9c179e"
             ],
             [
              0.4444444444444444,
              "#bd3786"
             ],
             [
              0.5555555555555556,
              "#d8576b"
             ],
             [
              0.6666666666666666,
              "#ed7953"
             ],
             [
              0.7777777777777778,
              "#fb9f3a"
             ],
             [
              0.8888888888888888,
              "#fdca26"
             ],
             [
              1,
              "#f0f921"
             ]
            ],
            "type": "histogram2d"
           }
          ],
          "histogram2dcontour": [
           {
            "colorbar": {
             "outlinewidth": 0,
             "ticks": ""
            },
            "colorscale": [
             [
              0,
              "#0d0887"
             ],
             [
              0.1111111111111111,
              "#46039f"
             ],
             [
              0.2222222222222222,
              "#7201a8"
             ],
             [
              0.3333333333333333,
              "#9c179e"
             ],
             [
              0.4444444444444444,
              "#bd3786"
             ],
             [
              0.5555555555555556,
              "#d8576b"
             ],
             [
              0.6666666666666666,
              "#ed7953"
             ],
             [
              0.7777777777777778,
              "#fb9f3a"
             ],
             [
              0.8888888888888888,
              "#fdca26"
             ],
             [
              1,
              "#f0f921"
             ]
            ],
            "type": "histogram2dcontour"
           }
          ],
          "mesh3d": [
           {
            "colorbar": {
             "outlinewidth": 0,
             "ticks": ""
            },
            "type": "mesh3d"
           }
          ],
          "parcoords": [
           {
            "line": {
             "colorbar": {
              "outlinewidth": 0,
              "ticks": ""
             }
            },
            "type": "parcoords"
           }
          ],
          "pie": [
           {
            "automargin": true,
            "type": "pie"
           }
          ],
          "scatter": [
           {
            "fillpattern": {
             "fillmode": "overlay",
             "size": 10,
             "solidity": 0.2
            },
            "type": "scatter"
           }
          ],
          "scatter3d": [
           {
            "line": {
             "colorbar": {
              "outlinewidth": 0,
              "ticks": ""
             }
            },
            "marker": {
             "colorbar": {
              "outlinewidth": 0,
              "ticks": ""
             }
            },
            "type": "scatter3d"
           }
          ],
          "scattercarpet": [
           {
            "marker": {
             "colorbar": {
              "outlinewidth": 0,
              "ticks": ""
             }
            },
            "type": "scattercarpet"
           }
          ],
          "scattergeo": [
           {
            "marker": {
             "colorbar": {
              "outlinewidth": 0,
              "ticks": ""
             }
            },
            "type": "scattergeo"
           }
          ],
          "scattergl": [
           {
            "marker": {
             "colorbar": {
              "outlinewidth": 0,
              "ticks": ""
             }
            },
            "type": "scattergl"
           }
          ],
          "scattermapbox": [
           {
            "marker": {
             "colorbar": {
              "outlinewidth": 0,
              "ticks": ""
             }
            },
            "type": "scattermapbox"
           }
          ],
          "scatterpolar": [
           {
            "marker": {
             "colorbar": {
              "outlinewidth": 0,
              "ticks": ""
             }
            },
            "type": "scatterpolar"
           }
          ],
          "scatterpolargl": [
           {
            "marker": {
             "colorbar": {
              "outlinewidth": 0,
              "ticks": ""
             }
            },
            "type": "scatterpolargl"
           }
          ],
          "scatterternary": [
           {
            "marker": {
             "colorbar": {
              "outlinewidth": 0,
              "ticks": ""
             }
            },
            "type": "scatterternary"
           }
          ],
          "surface": [
           {
            "colorbar": {
             "outlinewidth": 0,
             "ticks": ""
            },
            "colorscale": [
             [
              0,
              "#0d0887"
             ],
             [
              0.1111111111111111,
              "#46039f"
             ],
             [
              0.2222222222222222,
              "#7201a8"
             ],
             [
              0.3333333333333333,
              "#9c179e"
             ],
             [
              0.4444444444444444,
              "#bd3786"
             ],
             [
              0.5555555555555556,
              "#d8576b"
             ],
             [
              0.6666666666666666,
              "#ed7953"
             ],
             [
              0.7777777777777778,
              "#fb9f3a"
             ],
             [
              0.8888888888888888,
              "#fdca26"
             ],
             [
              1,
              "#f0f921"
             ]
            ],
            "type": "surface"
           }
          ],
          "table": [
           {
            "cells": {
             "fill": {
              "color": "#EBF0F8"
             },
             "line": {
              "color": "white"
             }
            },
            "header": {
             "fill": {
              "color": "#C8D4E3"
             },
             "line": {
              "color": "white"
             }
            },
            "type": "table"
           }
          ]
         },
         "layout": {
          "annotationdefaults": {
           "arrowcolor": "#2a3f5f",
           "arrowhead": 0,
           "arrowwidth": 1
          },
          "autotypenumbers": "strict",
          "coloraxis": {
           "colorbar": {
            "outlinewidth": 0,
            "ticks": ""
           }
          },
          "colorscale": {
           "diverging": [
            [
             0,
             "#8e0152"
            ],
            [
             0.1,
             "#c51b7d"
            ],
            [
             0.2,
             "#de77ae"
            ],
            [
             0.3,
             "#f1b6da"
            ],
            [
             0.4,
             "#fde0ef"
            ],
            [
             0.5,
             "#f7f7f7"
            ],
            [
             0.6,
             "#e6f5d0"
            ],
            [
             0.7,
             "#b8e186"
            ],
            [
             0.8,
             "#7fbc41"
            ],
            [
             0.9,
             "#4d9221"
            ],
            [
             1,
             "#276419"
            ]
           ],
           "sequential": [
            [
             0,
             "#0d0887"
            ],
            [
             0.1111111111111111,
             "#46039f"
            ],
            [
             0.2222222222222222,
             "#7201a8"
            ],
            [
             0.3333333333333333,
             "#9c179e"
            ],
            [
             0.4444444444444444,
             "#bd3786"
            ],
            [
             0.5555555555555556,
             "#d8576b"
            ],
            [
             0.6666666666666666,
             "#ed7953"
            ],
            [
             0.7777777777777778,
             "#fb9f3a"
            ],
            [
             0.8888888888888888,
             "#fdca26"
            ],
            [
             1,
             "#f0f921"
            ]
           ],
           "sequentialminus": [
            [
             0,
             "#0d0887"
            ],
            [
             0.1111111111111111,
             "#46039f"
            ],
            [
             0.2222222222222222,
             "#7201a8"
            ],
            [
             0.3333333333333333,
             "#9c179e"
            ],
            [
             0.4444444444444444,
             "#bd3786"
            ],
            [
             0.5555555555555556,
             "#d8576b"
            ],
            [
             0.6666666666666666,
             "#ed7953"
            ],
            [
             0.7777777777777778,
             "#fb9f3a"
            ],
            [
             0.8888888888888888,
             "#fdca26"
            ],
            [
             1,
             "#f0f921"
            ]
           ]
          },
          "colorway": [
           "#636efa",
           "#EF553B",
           "#00cc96",
           "#ab63fa",
           "#FFA15A",
           "#19d3f3",
           "#FF6692",
           "#B6E880",
           "#FF97FF",
           "#FECB52"
          ],
          "font": {
           "color": "#2a3f5f"
          },
          "geo": {
           "bgcolor": "white",
           "lakecolor": "white",
           "landcolor": "#E5ECF6",
           "showlakes": true,
           "showland": true,
           "subunitcolor": "white"
          },
          "hoverlabel": {
           "align": "left"
          },
          "hovermode": "closest",
          "mapbox": {
           "style": "light"
          },
          "paper_bgcolor": "white",
          "plot_bgcolor": "#E5ECF6",
          "polar": {
           "angularaxis": {
            "gridcolor": "white",
            "linecolor": "white",
            "ticks": ""
           },
           "bgcolor": "#E5ECF6",
           "radialaxis": {
            "gridcolor": "white",
            "linecolor": "white",
            "ticks": ""
           }
          },
          "scene": {
           "xaxis": {
            "backgroundcolor": "#E5ECF6",
            "gridcolor": "white",
            "gridwidth": 2,
            "linecolor": "white",
            "showbackground": true,
            "ticks": "",
            "zerolinecolor": "white"
           },
           "yaxis": {
            "backgroundcolor": "#E5ECF6",
            "gridcolor": "white",
            "gridwidth": 2,
            "linecolor": "white",
            "showbackground": true,
            "ticks": "",
            "zerolinecolor": "white"
           },
           "zaxis": {
            "backgroundcolor": "#E5ECF6",
            "gridcolor": "white",
            "gridwidth": 2,
            "linecolor": "white",
            "showbackground": true,
            "ticks": "",
            "zerolinecolor": "white"
           }
          },
          "shapedefaults": {
           "line": {
            "color": "#2a3f5f"
           }
          },
          "ternary": {
           "aaxis": {
            "gridcolor": "white",
            "linecolor": "white",
            "ticks": ""
           },
           "baxis": {
            "gridcolor": "white",
            "linecolor": "white",
            "ticks": ""
           },
           "bgcolor": "#E5ECF6",
           "caxis": {
            "gridcolor": "white",
            "linecolor": "white",
            "ticks": ""
           }
          },
          "title": {
           "x": 0.05
          },
          "xaxis": {
           "automargin": true,
           "gridcolor": "white",
           "linecolor": "white",
           "ticks": "",
           "title": {
            "standoff": 15
           },
           "zerolinecolor": "white",
           "zerolinewidth": 2
          },
          "yaxis": {
           "automargin": true,
           "gridcolor": "white",
           "linecolor": "white",
           "ticks": "",
           "title": {
            "standoff": 15
           },
           "zerolinecolor": "white",
           "zerolinewidth": 2
          }
         }
        },
        "title": {
         "text": "Total Demand per Circuit in a Day"
        },
        "xaxis": {
         "anchor": "y",
         "domain": [
          0,
          1
         ],
         "title": {
          "text": "Circuit ID"
         }
        },
        "yaxis": {
         "anchor": "x",
         "domain": [
          0,
          1
         ],
         "title": {
          "text": "Demand per Hour"
         }
        }
       }
      }
     },
     "metadata": {},
     "output_type": "display_data"
    }
   ],
   "source": [
    "# Compare data from circuits\n",
    "\n",
    "citizens = []\n",
    "importance = []\n",
    "demand_per_hour = []\n",
    "\n",
    "for circuit in sorted_electric_system_circuit_list:\n",
    "    \n",
    "    importance.append(circuit.importance)\n",
    "    demand_per_hour.append(\n",
    "        sum([sum(block.predicted_demand_per_hour) for block in circuit.blocks])\n",
    "    )\n",
    "\n",
    "# Separate for properties\n",
    "citizens = [\n",
    "    sum(block.citizens.amount for block in circuit.blocks)\n",
    "    for circuit in electric_system_circuits_list\n",
    "]\n",
    "\n",
    "circuit_comparison_df = pd.DataFrame(\n",
    "    {   \"Circuit ID\": [c.id for c in sorted_electric_system_circuit_list], \n",
    "        \"Citizens\": citizens,\n",
    "        \"Importance\": importance,\n",
    "        \"Demand per Hour\": demand_per_hour,\n",
    "    }\n",
    ")\n",
    "\n",
    "fig_citizens = px.bar(\n",
    "    circuit_comparison_df,\n",
    "    x=\"Circuit ID\",\n",
    "    y=\"Citizens\",\n",
    "    title=\"Total Citizens per Circuit\",\n",
    "    height=800,\n",
    "    color=colors,\n",
    "    color_discrete_sequence=px.colors.qualitative.Plotly,\n",
    "    labels={\"color\": \"Thermoelectric ID\"},\n",
    ")\n",
    "\n",
    "fig_importance = px.bar(\n",
    "    circuit_comparison_df,\n",
    "    x=\"Circuit ID\",\n",
    "    y=\"Importance\",\n",
    "    title=\"Importance per Circuit\",\n",
    "    height=800,\n",
    "    color=colors,\n",
    "    color_discrete_sequence=px.colors.qualitative.Plotly,\n",
    "    labels={\"color\": \"Thermoelectric ID\"},\n",
    ")\n",
    "\n",
    "fig_demand_per_hour = px.bar(\n",
    "    circuit_comparison_df,\n",
    "    x=\"Circuit ID\",\n",
    "    y=\"Demand per Hour\",\n",
    "    title=\"Total Demand per Circuit in a Day\",\n",
    "    height=800,\n",
    "    color=colors,\n",
    "    color_discrete_sequence=px.colors.qualitative.Plotly,\n",
    "    labels={\"color\": \"Thermoelectric ID\"},\n",
    ")\n",
    "\n",
    "fig_citizens.show()\n",
    "fig_importance.show()\n",
    "fig_demand_per_hour.show()"
   ]
  },
  {
   "cell_type": "code",
   "execution_count": 83,
   "metadata": {},
   "outputs": [
    {
     "data": {
      "application/vnd.plotly.v1+json": {
       "config": {
        "plotlyServerURL": "https://plot.ly"
       },
       "data": [
        {
         "hovertemplate": "Block ID=Block 1<br>Hour=%{x}<br>Demand (kWh)=%{y}<extra></extra>",
         "legendgroup": "Block 1",
         "line": {
          "color": "#636efa",
          "dash": "solid"
         },
         "marker": {
          "symbol": "circle"
         },
         "mode": "lines",
         "name": "Block 1",
         "orientation": "v",
         "showlegend": true,
         "type": "scatter",
         "x": [
          0,
          1,
          2,
          3,
          4,
          5,
          6,
          7,
          8,
          9,
          10,
          11,
          12,
          13,
          14,
          15,
          16,
          17,
          18,
          19,
          20,
          21,
          22,
          23
         ],
         "xaxis": "x",
         "y": [
          56.43012580038032,
          56.713751455975874,
          55.12192583379883,
          55.74156882246367,
          52.308756770562006,
          60.517735516709784,
          60.9756837615802,
          73.55038810976473,
          62.37129015054238,
          61.136800871519185,
          54.27261165019655,
          57.67631719996798,
          58.94107659387205,
          60.25452938711846,
          54.975543935561355,
          54.00351468298752,
          60.23532184982991,
          66.14030096220556,
          73.52709040752507,
          74.65916469594004,
          75.12792958186921,
          76.34301315247765,
          69.04816001254703,
          59.566392127246225
         ],
         "yaxis": "y"
        },
        {
         "hovertemplate": "Block ID=Block 2<br>Hour=%{x}<br>Demand (kWh)=%{y}<extra></extra>",
         "legendgroup": "Block 2",
         "line": {
          "color": "#EF553B",
          "dash": "solid"
         },
         "marker": {
          "symbol": "circle"
         },
         "mode": "lines",
         "name": "Block 2",
         "orientation": "v",
         "showlegend": true,
         "type": "scatter",
         "x": [
          0,
          1,
          2,
          3,
          4,
          5,
          6,
          7,
          8,
          9,
          10,
          11,
          12,
          13,
          14,
          15,
          16,
          17,
          18,
          19,
          20,
          21,
          22,
          23
         ],
         "xaxis": "x",
         "y": [
          61.68360870058398,
          57.813172920110965,
          69.24250810508376,
          52.47450761252603,
          60.389144736598276,
          58.92386973732838,
          63.46224408474504,
          65.95241995698012,
          61.87693157419777,
          54.02758834225956,
          54.79162491885323,
          55.32804377144555,
          59.68560552474427,
          55.416687266335856,
          59.29509620581817,
          55.97265484666916,
          63.627380191715865,
          64.15886485754396,
          75.07784601834801,
          79.49284812125428,
          68.71331782069124,
          73.40679578668716,
          60.822976201636656,
          53.8561724488626
         ],
         "yaxis": "y"
        },
        {
         "hovertemplate": "Block ID=Block 3<br>Hour=%{x}<br>Demand (kWh)=%{y}<extra></extra>",
         "legendgroup": "Block 3",
         "line": {
          "color": "#00cc96",
          "dash": "solid"
         },
         "marker": {
          "symbol": "circle"
         },
         "mode": "lines",
         "name": "Block 3",
         "orientation": "v",
         "showlegend": true,
         "type": "scatter",
         "x": [
          0,
          1,
          2,
          3,
          4,
          5,
          6,
          7,
          8,
          9,
          10,
          11,
          12,
          13,
          14,
          15,
          16,
          17,
          18,
          19,
          20,
          21,
          22,
          23
         ],
         "xaxis": "x",
         "y": [
          54.594923586728264,
          52.05164744795294,
          62.504030068183056,
          59.111024280843225,
          63.00374453986887,
          62.70495208506447,
          62.94409074386904,
          65.3686708677564,
          58.210178834591105,
          62.187003342143946,
          57.67921041339635,
          53.12865840429133,
          57.453752136690106,
          57.96968330491349,
          53.12004659071647,
          66.24215581636564,
          65.39641187045953,
          77.86219479200311,
          73.34710599198303,
          77.28892061263808,
          77.34194507412779,
          65.55161096241454,
          62.78926220659195,
          60.109347452445625
         ],
         "yaxis": "y"
        },
        {
         "hovertemplate": "Block ID=Block 4<br>Hour=%{x}<br>Demand (kWh)=%{y}<extra></extra>",
         "legendgroup": "Block 4",
         "line": {
          "color": "#ab63fa",
          "dash": "solid"
         },
         "marker": {
          "symbol": "circle"
         },
         "mode": "lines",
         "name": "Block 4",
         "orientation": "v",
         "showlegend": true,
         "type": "scatter",
         "x": [
          0,
          1,
          2,
          3,
          4,
          5,
          6,
          7,
          8,
          9,
          10,
          11,
          12,
          13,
          14,
          15,
          16,
          17,
          18,
          19,
          20,
          21,
          22,
          23
         ],
         "xaxis": "x",
         "y": [
          53.3962153307791,
          55.43098139402954,
          61.91025936091256,
          50.86317774812113,
          55.34535234089909,
          54.709711438512436,
          62.01576739141974,
          66.14724265920502,
          60.03078197337433,
          57.617857517712615,
          59.10195022816697,
          58.29308845813963,
          57.160241119645384,
          56.84795431418919,
          55.12542051743067,
          59.3756554200981,
          55.9239024464299,
          63.12053633852995,
          77.58413767363879,
          81.20189206501837,
          76.38825340363154,
          66.56746365268347,
          64.49866512480503,
          61.51714528284608
         ],
         "yaxis": "y"
        }
       ],
       "layout": {
        "legend": {
         "title": {
          "text": "Block ID"
         },
         "tracegroupgap": 0
        },
        "template": {
         "data": {
          "bar": [
           {
            "error_x": {
             "color": "#2a3f5f"
            },
            "error_y": {
             "color": "#2a3f5f"
            },
            "marker": {
             "line": {
              "color": "#E5ECF6",
              "width": 0.5
             },
             "pattern": {
              "fillmode": "overlay",
              "size": 10,
              "solidity": 0.2
             }
            },
            "type": "bar"
           }
          ],
          "barpolar": [
           {
            "marker": {
             "line": {
              "color": "#E5ECF6",
              "width": 0.5
             },
             "pattern": {
              "fillmode": "overlay",
              "size": 10,
              "solidity": 0.2
             }
            },
            "type": "barpolar"
           }
          ],
          "carpet": [
           {
            "aaxis": {
             "endlinecolor": "#2a3f5f",
             "gridcolor": "white",
             "linecolor": "white",
             "minorgridcolor": "white",
             "startlinecolor": "#2a3f5f"
            },
            "baxis": {
             "endlinecolor": "#2a3f5f",
             "gridcolor": "white",
             "linecolor": "white",
             "minorgridcolor": "white",
             "startlinecolor": "#2a3f5f"
            },
            "type": "carpet"
           }
          ],
          "choropleth": [
           {
            "colorbar": {
             "outlinewidth": 0,
             "ticks": ""
            },
            "type": "choropleth"
           }
          ],
          "contour": [
           {
            "colorbar": {
             "outlinewidth": 0,
             "ticks": ""
            },
            "colorscale": [
             [
              0,
              "#0d0887"
             ],
             [
              0.1111111111111111,
              "#46039f"
             ],
             [
              0.2222222222222222,
              "#7201a8"
             ],
             [
              0.3333333333333333,
              "#9c179e"
             ],
             [
              0.4444444444444444,
              "#bd3786"
             ],
             [
              0.5555555555555556,
              "#d8576b"
             ],
             [
              0.6666666666666666,
              "#ed7953"
             ],
             [
              0.7777777777777778,
              "#fb9f3a"
             ],
             [
              0.8888888888888888,
              "#fdca26"
             ],
             [
              1,
              "#f0f921"
             ]
            ],
            "type": "contour"
           }
          ],
          "contourcarpet": [
           {
            "colorbar": {
             "outlinewidth": 0,
             "ticks": ""
            },
            "type": "contourcarpet"
           }
          ],
          "heatmap": [
           {
            "colorbar": {
             "outlinewidth": 0,
             "ticks": ""
            },
            "colorscale": [
             [
              0,
              "#0d0887"
             ],
             [
              0.1111111111111111,
              "#46039f"
             ],
             [
              0.2222222222222222,
              "#7201a8"
             ],
             [
              0.3333333333333333,
              "#9c179e"
             ],
             [
              0.4444444444444444,
              "#bd3786"
             ],
             [
              0.5555555555555556,
              "#d8576b"
             ],
             [
              0.6666666666666666,
              "#ed7953"
             ],
             [
              0.7777777777777778,
              "#fb9f3a"
             ],
             [
              0.8888888888888888,
              "#fdca26"
             ],
             [
              1,
              "#f0f921"
             ]
            ],
            "type": "heatmap"
           }
          ],
          "heatmapgl": [
           {
            "colorbar": {
             "outlinewidth": 0,
             "ticks": ""
            },
            "colorscale": [
             [
              0,
              "#0d0887"
             ],
             [
              0.1111111111111111,
              "#46039f"
             ],
             [
              0.2222222222222222,
              "#7201a8"
             ],
             [
              0.3333333333333333,
              "#9c179e"
             ],
             [
              0.4444444444444444,
              "#bd3786"
             ],
             [
              0.5555555555555556,
              "#d8576b"
             ],
             [
              0.6666666666666666,
              "#ed7953"
             ],
             [
              0.7777777777777778,
              "#fb9f3a"
             ],
             [
              0.8888888888888888,
              "#fdca26"
             ],
             [
              1,
              "#f0f921"
             ]
            ],
            "type": "heatmapgl"
           }
          ],
          "histogram": [
           {
            "marker": {
             "pattern": {
              "fillmode": "overlay",
              "size": 10,
              "solidity": 0.2
             }
            },
            "type": "histogram"
           }
          ],
          "histogram2d": [
           {
            "colorbar": {
             "outlinewidth": 0,
             "ticks": ""
            },
            "colorscale": [
             [
              0,
              "#0d0887"
             ],
             [
              0.1111111111111111,
              "#46039f"
             ],
             [
              0.2222222222222222,
              "#7201a8"
             ],
             [
              0.3333333333333333,
              "#9c179e"
             ],
             [
              0.4444444444444444,
              "#bd3786"
             ],
             [
              0.5555555555555556,
              "#d8576b"
             ],
             [
              0.6666666666666666,
              "#ed7953"
             ],
             [
              0.7777777777777778,
              "#fb9f3a"
             ],
             [
              0.8888888888888888,
              "#fdca26"
             ],
             [
              1,
              "#f0f921"
             ]
            ],
            "type": "histogram2d"
           }
          ],
          "histogram2dcontour": [
           {
            "colorbar": {
             "outlinewidth": 0,
             "ticks": ""
            },
            "colorscale": [
             [
              0,
              "#0d0887"
             ],
             [
              0.1111111111111111,
              "#46039f"
             ],
             [
              0.2222222222222222,
              "#7201a8"
             ],
             [
              0.3333333333333333,
              "#9c179e"
             ],
             [
              0.4444444444444444,
              "#bd3786"
             ],
             [
              0.5555555555555556,
              "#d8576b"
             ],
             [
              0.6666666666666666,
              "#ed7953"
             ],
             [
              0.7777777777777778,
              "#fb9f3a"
             ],
             [
              0.8888888888888888,
              "#fdca26"
             ],
             [
              1,
              "#f0f921"
             ]
            ],
            "type": "histogram2dcontour"
           }
          ],
          "mesh3d": [
           {
            "colorbar": {
             "outlinewidth": 0,
             "ticks": ""
            },
            "type": "mesh3d"
           }
          ],
          "parcoords": [
           {
            "line": {
             "colorbar": {
              "outlinewidth": 0,
              "ticks": ""
             }
            },
            "type": "parcoords"
           }
          ],
          "pie": [
           {
            "automargin": true,
            "type": "pie"
           }
          ],
          "scatter": [
           {
            "fillpattern": {
             "fillmode": "overlay",
             "size": 10,
             "solidity": 0.2
            },
            "type": "scatter"
           }
          ],
          "scatter3d": [
           {
            "line": {
             "colorbar": {
              "outlinewidth": 0,
              "ticks": ""
             }
            },
            "marker": {
             "colorbar": {
              "outlinewidth": 0,
              "ticks": ""
             }
            },
            "type": "scatter3d"
           }
          ],
          "scattercarpet": [
           {
            "marker": {
             "colorbar": {
              "outlinewidth": 0,
              "ticks": ""
             }
            },
            "type": "scattercarpet"
           }
          ],
          "scattergeo": [
           {
            "marker": {
             "colorbar": {
              "outlinewidth": 0,
              "ticks": ""
             }
            },
            "type": "scattergeo"
           }
          ],
          "scattergl": [
           {
            "marker": {
             "colorbar": {
              "outlinewidth": 0,
              "ticks": ""
             }
            },
            "type": "scattergl"
           }
          ],
          "scattermapbox": [
           {
            "marker": {
             "colorbar": {
              "outlinewidth": 0,
              "ticks": ""
             }
            },
            "type": "scattermapbox"
           }
          ],
          "scatterpolar": [
           {
            "marker": {
             "colorbar": {
              "outlinewidth": 0,
              "ticks": ""
             }
            },
            "type": "scatterpolar"
           }
          ],
          "scatterpolargl": [
           {
            "marker": {
             "colorbar": {
              "outlinewidth": 0,
              "ticks": ""
             }
            },
            "type": "scatterpolargl"
           }
          ],
          "scatterternary": [
           {
            "marker": {
             "colorbar": {
              "outlinewidth": 0,
              "ticks": ""
             }
            },
            "type": "scatterternary"
           }
          ],
          "surface": [
           {
            "colorbar": {
             "outlinewidth": 0,
             "ticks": ""
            },
            "colorscale": [
             [
              0,
              "#0d0887"
             ],
             [
              0.1111111111111111,
              "#46039f"
             ],
             [
              0.2222222222222222,
              "#7201a8"
             ],
             [
              0.3333333333333333,
              "#9c179e"
             ],
             [
              0.4444444444444444,
              "#bd3786"
             ],
             [
              0.5555555555555556,
              "#d8576b"
             ],
             [
              0.6666666666666666,
              "#ed7953"
             ],
             [
              0.7777777777777778,
              "#fb9f3a"
             ],
             [
              0.8888888888888888,
              "#fdca26"
             ],
             [
              1,
              "#f0f921"
             ]
            ],
            "type": "surface"
           }
          ],
          "table": [
           {
            "cells": {
             "fill": {
              "color": "#EBF0F8"
             },
             "line": {
              "color": "white"
             }
            },
            "header": {
             "fill": {
              "color": "#C8D4E3"
             },
             "line": {
              "color": "white"
             }
            },
            "type": "table"
           }
          ]
         },
         "layout": {
          "annotationdefaults": {
           "arrowcolor": "#2a3f5f",
           "arrowhead": 0,
           "arrowwidth": 1
          },
          "autotypenumbers": "strict",
          "coloraxis": {
           "colorbar": {
            "outlinewidth": 0,
            "ticks": ""
           }
          },
          "colorscale": {
           "diverging": [
            [
             0,
             "#8e0152"
            ],
            [
             0.1,
             "#c51b7d"
            ],
            [
             0.2,
             "#de77ae"
            ],
            [
             0.3,
             "#f1b6da"
            ],
            [
             0.4,
             "#fde0ef"
            ],
            [
             0.5,
             "#f7f7f7"
            ],
            [
             0.6,
             "#e6f5d0"
            ],
            [
             0.7,
             "#b8e186"
            ],
            [
             0.8,
             "#7fbc41"
            ],
            [
             0.9,
             "#4d9221"
            ],
            [
             1,
             "#276419"
            ]
           ],
           "sequential": [
            [
             0,
             "#0d0887"
            ],
            [
             0.1111111111111111,
             "#46039f"
            ],
            [
             0.2222222222222222,
             "#7201a8"
            ],
            [
             0.3333333333333333,
             "#9c179e"
            ],
            [
             0.4444444444444444,
             "#bd3786"
            ],
            [
             0.5555555555555556,
             "#d8576b"
            ],
            [
             0.6666666666666666,
             "#ed7953"
            ],
            [
             0.7777777777777778,
             "#fb9f3a"
            ],
            [
             0.8888888888888888,
             "#fdca26"
            ],
            [
             1,
             "#f0f921"
            ]
           ],
           "sequentialminus": [
            [
             0,
             "#0d0887"
            ],
            [
             0.1111111111111111,
             "#46039f"
            ],
            [
             0.2222222222222222,
             "#7201a8"
            ],
            [
             0.3333333333333333,
             "#9c179e"
            ],
            [
             0.4444444444444444,
             "#bd3786"
            ],
            [
             0.5555555555555556,
             "#d8576b"
            ],
            [
             0.6666666666666666,
             "#ed7953"
            ],
            [
             0.7777777777777778,
             "#fb9f3a"
            ],
            [
             0.8888888888888888,
             "#fdca26"
            ],
            [
             1,
             "#f0f921"
            ]
           ]
          },
          "colorway": [
           "#636efa",
           "#EF553B",
           "#00cc96",
           "#ab63fa",
           "#FFA15A",
           "#19d3f3",
           "#FF6692",
           "#B6E880",
           "#FF97FF",
           "#FECB52"
          ],
          "font": {
           "color": "#2a3f5f"
          },
          "geo": {
           "bgcolor": "white",
           "lakecolor": "white",
           "landcolor": "#E5ECF6",
           "showlakes": true,
           "showland": true,
           "subunitcolor": "white"
          },
          "hoverlabel": {
           "align": "left"
          },
          "hovermode": "closest",
          "mapbox": {
           "style": "light"
          },
          "paper_bgcolor": "white",
          "plot_bgcolor": "#E5ECF6",
          "polar": {
           "angularaxis": {
            "gridcolor": "white",
            "linecolor": "white",
            "ticks": ""
           },
           "bgcolor": "#E5ECF6",
           "radialaxis": {
            "gridcolor": "white",
            "linecolor": "white",
            "ticks": ""
           }
          },
          "scene": {
           "xaxis": {
            "backgroundcolor": "#E5ECF6",
            "gridcolor": "white",
            "gridwidth": 2,
            "linecolor": "white",
            "showbackground": true,
            "ticks": "",
            "zerolinecolor": "white"
           },
           "yaxis": {
            "backgroundcolor": "#E5ECF6",
            "gridcolor": "white",
            "gridwidth": 2,
            "linecolor": "white",
            "showbackground": true,
            "ticks": "",
            "zerolinecolor": "white"
           },
           "zaxis": {
            "backgroundcolor": "#E5ECF6",
            "gridcolor": "white",
            "gridwidth": 2,
            "linecolor": "white",
            "showbackground": true,
            "ticks": "",
            "zerolinecolor": "white"
           }
          },
          "shapedefaults": {
           "line": {
            "color": "#2a3f5f"
           }
          },
          "ternary": {
           "aaxis": {
            "gridcolor": "white",
            "linecolor": "white",
            "ticks": ""
           },
           "baxis": {
            "gridcolor": "white",
            "linecolor": "white",
            "ticks": ""
           },
           "bgcolor": "#E5ECF6",
           "caxis": {
            "gridcolor": "white",
            "linecolor": "white",
            "ticks": ""
           }
          },
          "title": {
           "x": 0.05
          },
          "xaxis": {
           "automargin": true,
           "gridcolor": "white",
           "linecolor": "white",
           "ticks": "",
           "title": {
            "standoff": 15
           },
           "zerolinecolor": "white",
           "zerolinewidth": 2
          },
          "yaxis": {
           "automargin": true,
           "gridcolor": "white",
           "linecolor": "white",
           "ticks": "",
           "title": {
            "standoff": 15
           },
           "zerolinecolor": "white",
           "zerolinewidth": 2
          }
         }
        },
        "title": {
         "text": "Hourly Demand per Block in Circuit C0"
        },
        "xaxis": {
         "anchor": "y",
         "domain": [
          0,
          1
         ],
         "title": {
          "text": "Hour"
         }
        },
        "yaxis": {
         "anchor": "x",
         "domain": [
          0,
          1
         ],
         "title": {
          "text": "Demand (kWh)"
         }
        }
       }
      }
     },
     "metadata": {},
     "output_type": "display_data"
    },
    {
     "data": {
      "application/vnd.plotly.v1+json": {
       "config": {
        "plotlyServerURL": "https://plot.ly"
       },
       "data": [
        {
         "hovertemplate": "Hour=%{x}<br>Demand (kWh)=%{y}<extra></extra>",
         "legendgroup": "",
         "line": {
          "color": "#636efa",
          "dash": "solid"
         },
         "marker": {
          "symbol": "circle"
         },
         "mode": "lines",
         "name": "",
         "orientation": "v",
         "showlegend": false,
         "type": "scatter",
         "x": [
          0,
          1,
          2,
          3,
          4,
          5,
          6,
          7,
          8,
          9,
          10,
          11,
          12,
          13,
          14,
          15,
          16,
          17,
          18,
          19,
          20,
          21,
          22,
          23
         ],
         "xaxis": "x",
         "y": [
          226.10487341847164,
          222.00955321806933,
          248.77872336797822,
          218.19027846395406,
          231.04699838792826,
          236.85626877761507,
          249.397785981614,
          271.0187215937063,
          242.4891825327056,
          234.96925007363532,
          225.8453972106131,
          224.4261078338445,
          233.2406753749518,
          230.488854272557,
          222.51610724952667,
          235.5939807661204,
          245.18301635843522,
          271.2818969502826,
          299.5361800914949,
          312.64282549485074,
          297.5714458803198,
          281.8688835542628,
          257.1590635455807,
          235.04905731140053
         ],
         "yaxis": "y"
        }
       ],
       "layout": {
        "legend": {
         "tracegroupgap": 0
        },
        "template": {
         "data": {
          "bar": [
           {
            "error_x": {
             "color": "#2a3f5f"
            },
            "error_y": {
             "color": "#2a3f5f"
            },
            "marker": {
             "line": {
              "color": "#E5ECF6",
              "width": 0.5
             },
             "pattern": {
              "fillmode": "overlay",
              "size": 10,
              "solidity": 0.2
             }
            },
            "type": "bar"
           }
          ],
          "barpolar": [
           {
            "marker": {
             "line": {
              "color": "#E5ECF6",
              "width": 0.5
             },
             "pattern": {
              "fillmode": "overlay",
              "size": 10,
              "solidity": 0.2
             }
            },
            "type": "barpolar"
           }
          ],
          "carpet": [
           {
            "aaxis": {
             "endlinecolor": "#2a3f5f",
             "gridcolor": "white",
             "linecolor": "white",
             "minorgridcolor": "white",
             "startlinecolor": "#2a3f5f"
            },
            "baxis": {
             "endlinecolor": "#2a3f5f",
             "gridcolor": "white",
             "linecolor": "white",
             "minorgridcolor": "white",
             "startlinecolor": "#2a3f5f"
            },
            "type": "carpet"
           }
          ],
          "choropleth": [
           {
            "colorbar": {
             "outlinewidth": 0,
             "ticks": ""
            },
            "type": "choropleth"
           }
          ],
          "contour": [
           {
            "colorbar": {
             "outlinewidth": 0,
             "ticks": ""
            },
            "colorscale": [
             [
              0,
              "#0d0887"
             ],
             [
              0.1111111111111111,
              "#46039f"
             ],
             [
              0.2222222222222222,
              "#7201a8"
             ],
             [
              0.3333333333333333,
              "#9c179e"
             ],
             [
              0.4444444444444444,
              "#bd3786"
             ],
             [
              0.5555555555555556,
              "#d8576b"
             ],
             [
              0.6666666666666666,
              "#ed7953"
             ],
             [
              0.7777777777777778,
              "#fb9f3a"
             ],
             [
              0.8888888888888888,
              "#fdca26"
             ],
             [
              1,
              "#f0f921"
             ]
            ],
            "type": "contour"
           }
          ],
          "contourcarpet": [
           {
            "colorbar": {
             "outlinewidth": 0,
             "ticks": ""
            },
            "type": "contourcarpet"
           }
          ],
          "heatmap": [
           {
            "colorbar": {
             "outlinewidth": 0,
             "ticks": ""
            },
            "colorscale": [
             [
              0,
              "#0d0887"
             ],
             [
              0.1111111111111111,
              "#46039f"
             ],
             [
              0.2222222222222222,
              "#7201a8"
             ],
             [
              0.3333333333333333,
              "#9c179e"
             ],
             [
              0.4444444444444444,
              "#bd3786"
             ],
             [
              0.5555555555555556,
              "#d8576b"
             ],
             [
              0.6666666666666666,
              "#ed7953"
             ],
             [
              0.7777777777777778,
              "#fb9f3a"
             ],
             [
              0.8888888888888888,
              "#fdca26"
             ],
             [
              1,
              "#f0f921"
             ]
            ],
            "type": "heatmap"
           }
          ],
          "heatmapgl": [
           {
            "colorbar": {
             "outlinewidth": 0,
             "ticks": ""
            },
            "colorscale": [
             [
              0,
              "#0d0887"
             ],
             [
              0.1111111111111111,
              "#46039f"
             ],
             [
              0.2222222222222222,
              "#7201a8"
             ],
             [
              0.3333333333333333,
              "#9c179e"
             ],
             [
              0.4444444444444444,
              "#bd3786"
             ],
             [
              0.5555555555555556,
              "#d8576b"
             ],
             [
              0.6666666666666666,
              "#ed7953"
             ],
             [
              0.7777777777777778,
              "#fb9f3a"
             ],
             [
              0.8888888888888888,
              "#fdca26"
             ],
             [
              1,
              "#f0f921"
             ]
            ],
            "type": "heatmapgl"
           }
          ],
          "histogram": [
           {
            "marker": {
             "pattern": {
              "fillmode": "overlay",
              "size": 10,
              "solidity": 0.2
             }
            },
            "type": "histogram"
           }
          ],
          "histogram2d": [
           {
            "colorbar": {
             "outlinewidth": 0,
             "ticks": ""
            },
            "colorscale": [
             [
              0,
              "#0d0887"
             ],
             [
              0.1111111111111111,
              "#46039f"
             ],
             [
              0.2222222222222222,
              "#7201a8"
             ],
             [
              0.3333333333333333,
              "#9c179e"
             ],
             [
              0.4444444444444444,
              "#bd3786"
             ],
             [
              0.5555555555555556,
              "#d8576b"
             ],
             [
              0.6666666666666666,
              "#ed7953"
             ],
             [
              0.7777777777777778,
              "#fb9f3a"
             ],
             [
              0.8888888888888888,
              "#fdca26"
             ],
             [
              1,
              "#f0f921"
             ]
            ],
            "type": "histogram2d"
           }
          ],
          "histogram2dcontour": [
           {
            "colorbar": {
             "outlinewidth": 0,
             "ticks": ""
            },
            "colorscale": [
             [
              0,
              "#0d0887"
             ],
             [
              0.1111111111111111,
              "#46039f"
             ],
             [
              0.2222222222222222,
              "#7201a8"
             ],
             [
              0.3333333333333333,
              "#9c179e"
             ],
             [
              0.4444444444444444,
              "#bd3786"
             ],
             [
              0.5555555555555556,
              "#d8576b"
             ],
             [
              0.6666666666666666,
              "#ed7953"
             ],
             [
              0.7777777777777778,
              "#fb9f3a"
             ],
             [
              0.8888888888888888,
              "#fdca26"
             ],
             [
              1,
              "#f0f921"
             ]
            ],
            "type": "histogram2dcontour"
           }
          ],
          "mesh3d": [
           {
            "colorbar": {
             "outlinewidth": 0,
             "ticks": ""
            },
            "type": "mesh3d"
           }
          ],
          "parcoords": [
           {
            "line": {
             "colorbar": {
              "outlinewidth": 0,
              "ticks": ""
             }
            },
            "type": "parcoords"
           }
          ],
          "pie": [
           {
            "automargin": true,
            "type": "pie"
           }
          ],
          "scatter": [
           {
            "fillpattern": {
             "fillmode": "overlay",
             "size": 10,
             "solidity": 0.2
            },
            "type": "scatter"
           }
          ],
          "scatter3d": [
           {
            "line": {
             "colorbar": {
              "outlinewidth": 0,
              "ticks": ""
             }
            },
            "marker": {
             "colorbar": {
              "outlinewidth": 0,
              "ticks": ""
             }
            },
            "type": "scatter3d"
           }
          ],
          "scattercarpet": [
           {
            "marker": {
             "colorbar": {
              "outlinewidth": 0,
              "ticks": ""
             }
            },
            "type": "scattercarpet"
           }
          ],
          "scattergeo": [
           {
            "marker": {
             "colorbar": {
              "outlinewidth": 0,
              "ticks": ""
             }
            },
            "type": "scattergeo"
           }
          ],
          "scattergl": [
           {
            "marker": {
             "colorbar": {
              "outlinewidth": 0,
              "ticks": ""
             }
            },
            "type": "scattergl"
           }
          ],
          "scattermapbox": [
           {
            "marker": {
             "colorbar": {
              "outlinewidth": 0,
              "ticks": ""
             }
            },
            "type": "scattermapbox"
           }
          ],
          "scatterpolar": [
           {
            "marker": {
             "colorbar": {
              "outlinewidth": 0,
              "ticks": ""
             }
            },
            "type": "scatterpolar"
           }
          ],
          "scatterpolargl": [
           {
            "marker": {
             "colorbar": {
              "outlinewidth": 0,
              "ticks": ""
             }
            },
            "type": "scatterpolargl"
           }
          ],
          "scatterternary": [
           {
            "marker": {
             "colorbar": {
              "outlinewidth": 0,
              "ticks": ""
             }
            },
            "type": "scatterternary"
           }
          ],
          "surface": [
           {
            "colorbar": {
             "outlinewidth": 0,
             "ticks": ""
            },
            "colorscale": [
             [
              0,
              "#0d0887"
             ],
             [
              0.1111111111111111,
              "#46039f"
             ],
             [
              0.2222222222222222,
              "#7201a8"
             ],
             [
              0.3333333333333333,
              "#9c179e"
             ],
             [
              0.4444444444444444,
              "#bd3786"
             ],
             [
              0.5555555555555556,
              "#d8576b"
             ],
             [
              0.6666666666666666,
              "#ed7953"
             ],
             [
              0.7777777777777778,
              "#fb9f3a"
             ],
             [
              0.8888888888888888,
              "#fdca26"
             ],
             [
              1,
              "#f0f921"
             ]
            ],
            "type": "surface"
           }
          ],
          "table": [
           {
            "cells": {
             "fill": {
              "color": "#EBF0F8"
             },
             "line": {
              "color": "white"
             }
            },
            "header": {
             "fill": {
              "color": "#C8D4E3"
             },
             "line": {
              "color": "white"
             }
            },
            "type": "table"
           }
          ]
         },
         "layout": {
          "annotationdefaults": {
           "arrowcolor": "#2a3f5f",
           "arrowhead": 0,
           "arrowwidth": 1
          },
          "autotypenumbers": "strict",
          "coloraxis": {
           "colorbar": {
            "outlinewidth": 0,
            "ticks": ""
           }
          },
          "colorscale": {
           "diverging": [
            [
             0,
             "#8e0152"
            ],
            [
             0.1,
             "#c51b7d"
            ],
            [
             0.2,
             "#de77ae"
            ],
            [
             0.3,
             "#f1b6da"
            ],
            [
             0.4,
             "#fde0ef"
            ],
            [
             0.5,
             "#f7f7f7"
            ],
            [
             0.6,
             "#e6f5d0"
            ],
            [
             0.7,
             "#b8e186"
            ],
            [
             0.8,
             "#7fbc41"
            ],
            [
             0.9,
             "#4d9221"
            ],
            [
             1,
             "#276419"
            ]
           ],
           "sequential": [
            [
             0,
             "#0d0887"
            ],
            [
             0.1111111111111111,
             "#46039f"
            ],
            [
             0.2222222222222222,
             "#7201a8"
            ],
            [
             0.3333333333333333,
             "#9c179e"
            ],
            [
             0.4444444444444444,
             "#bd3786"
            ],
            [
             0.5555555555555556,
             "#d8576b"
            ],
            [
             0.6666666666666666,
             "#ed7953"
            ],
            [
             0.7777777777777778,
             "#fb9f3a"
            ],
            [
             0.8888888888888888,
             "#fdca26"
            ],
            [
             1,
             "#f0f921"
            ]
           ],
           "sequentialminus": [
            [
             0,
             "#0d0887"
            ],
            [
             0.1111111111111111,
             "#46039f"
            ],
            [
             0.2222222222222222,
             "#7201a8"
            ],
            [
             0.3333333333333333,
             "#9c179e"
            ],
            [
             0.4444444444444444,
             "#bd3786"
            ],
            [
             0.5555555555555556,
             "#d8576b"
            ],
            [
             0.6666666666666666,
             "#ed7953"
            ],
            [
             0.7777777777777778,
             "#fb9f3a"
            ],
            [
             0.8888888888888888,
             "#fdca26"
            ],
            [
             1,
             "#f0f921"
            ]
           ]
          },
          "colorway": [
           "#636efa",
           "#EF553B",
           "#00cc96",
           "#ab63fa",
           "#FFA15A",
           "#19d3f3",
           "#FF6692",
           "#B6E880",
           "#FF97FF",
           "#FECB52"
          ],
          "font": {
           "color": "#2a3f5f"
          },
          "geo": {
           "bgcolor": "white",
           "lakecolor": "white",
           "landcolor": "#E5ECF6",
           "showlakes": true,
           "showland": true,
           "subunitcolor": "white"
          },
          "hoverlabel": {
           "align": "left"
          },
          "hovermode": "closest",
          "mapbox": {
           "style": "light"
          },
          "paper_bgcolor": "white",
          "plot_bgcolor": "#E5ECF6",
          "polar": {
           "angularaxis": {
            "gridcolor": "white",
            "linecolor": "white",
            "ticks": ""
           },
           "bgcolor": "#E5ECF6",
           "radialaxis": {
            "gridcolor": "white",
            "linecolor": "white",
            "ticks": ""
           }
          },
          "scene": {
           "xaxis": {
            "backgroundcolor": "#E5ECF6",
            "gridcolor": "white",
            "gridwidth": 2,
            "linecolor": "white",
            "showbackground": true,
            "ticks": "",
            "zerolinecolor": "white"
           },
           "yaxis": {
            "backgroundcolor": "#E5ECF6",
            "gridcolor": "white",
            "gridwidth": 2,
            "linecolor": "white",
            "showbackground": true,
            "ticks": "",
            "zerolinecolor": "white"
           },
           "zaxis": {
            "backgroundcolor": "#E5ECF6",
            "gridcolor": "white",
            "gridwidth": 2,
            "linecolor": "white",
            "showbackground": true,
            "ticks": "",
            "zerolinecolor": "white"
           }
          },
          "shapedefaults": {
           "line": {
            "color": "#2a3f5f"
           }
          },
          "ternary": {
           "aaxis": {
            "gridcolor": "white",
            "linecolor": "white",
            "ticks": ""
           },
           "baxis": {
            "gridcolor": "white",
            "linecolor": "white",
            "ticks": ""
           },
           "bgcolor": "#E5ECF6",
           "caxis": {
            "gridcolor": "white",
            "linecolor": "white",
            "ticks": ""
           }
          },
          "title": {
           "x": 0.05
          },
          "xaxis": {
           "automargin": true,
           "gridcolor": "white",
           "linecolor": "white",
           "ticks": "",
           "title": {
            "standoff": 15
           },
           "zerolinecolor": "white",
           "zerolinewidth": 2
          },
          "yaxis": {
           "automargin": true,
           "gridcolor": "white",
           "linecolor": "white",
           "ticks": "",
           "title": {
            "standoff": 15
           },
           "zerolinecolor": "white",
           "zerolinewidth": 2
          }
         }
        },
        "title": {
         "text": "Hourly Demand of Circuit C0"
        },
        "xaxis": {
         "anchor": "y",
         "domain": [
          0,
          1
         ],
         "title": {
          "text": "Hour"
         }
        },
        "yaxis": {
         "anchor": "x",
         "domain": [
          0,
          1
         ],
         "title": {
          "text": "Demand (kWh)"
         }
        }
       }
      }
     },
     "metadata": {},
     "output_type": "display_data"
    }
   ],
   "source": [
    "circuit_id = \"C0\"\n",
    "circuit = next(c for c in electric_system_circuits_list if c.id == circuit_id)\n",
    "\n",
    "block_demand_data = {\"Block ID\": [], \"Hour\": [], \"Demand\": []}\n",
    "\n",
    "for i, block in enumerate(circuit.blocks):\n",
    "    for hour, demand in enumerate(block.predicted_demand_per_hour):\n",
    "        block_demand_data[\"Block ID\"].append(f\"Block {i + 1}\")\n",
    "        block_demand_data[\"Hour\"].append(hour)\n",
    "        block_demand_data[\"Demand\"].append(demand)\n",
    "\n",
    "block_demand_df = pd.DataFrame(block_demand_data)\n",
    "\n",
    "fig_block_demand = px.line(\n",
    "    block_demand_df,\n",
    "    x=\"Hour\",\n",
    "    y=\"Demand\",\n",
    "    color=\"Block ID\",\n",
    "    title=f\"Hourly Demand per Block in Circuit {circuit_id}\",\n",
    "    labels={\"Demand\": \"Demand (kWh)\", \"Hour\": \"Hour\"},\n",
    ")\n",
    "\n",
    "fig_block_demand.show()\n",
    "\n",
    "circuit_demand_data = {\n",
    "    \"Hour\": list(range(24)),\n",
    "    \"Demand\": [\n",
    "        sum(block.predicted_demand_per_hour[hour] for block in circuit.blocks)\n",
    "        for hour in range(24)\n",
    "    ],\n",
    "}\n",
    "\n",
    "circuit_demand_df = pd.DataFrame(circuit_demand_data)\n",
    "\n",
    "fig_circuit_demand = px.line(\n",
    "    circuit_demand_df,\n",
    "    x=\"Hour\",\n",
    "    y=\"Demand\",\n",
    "    title=f\"Hourly Demand of Circuit {circuit_id}\",\n",
    "    labels={\"Demand\": \"Demand (kWh)\", \"Hour\": \"Hour\"},\n",
    ")\n",
    "\n",
    "fig_circuit_demand.show()"
   ]
  },
  {
   "cell_type": "markdown",
   "metadata": {},
   "source": [
    "# Simulation"
   ]
  },
  {
   "cell_type": "code",
   "execution_count": 84,
   "metadata": {},
   "outputs": [
    {
     "name": "stdout",
     "output_type": "stream",
     "text": [
      "agent perception\n",
      "[]\n",
      "[]\n",
      "{\n",
      "            \"thermoelectric: {'id': 'Th0', 'total_capacity': 41378.080892371814, 'current_capacity': 0, 'stored_energy': 0, 'parts': []},\n",
      "            \"plant_status\": False,\n",
      "            \"parts_status\": [],\n",
      "            \"broken_parts\": [],\n",
      "            \"max_capacity\": 41378.080892371814,\n",
      "            \"current_capacity\": 0,\n",
      "            \"power_output_reduction_on_part_failure\": [],\n",
      "            \"general_deficit\": 0,\n",
      "            \"general_demand\": 0,\n",
      "            \"general_offer\": 0,\n",
      "        }\n",
      "agent perception\n",
      "[]\n",
      "[]\n",
      "{\n",
      "            \"thermoelectric: {'id': 'Th1', 'total_capacity': 18389.600700749175, 'current_capacity': 0, 'stored_energy': 0, 'parts': []},\n",
      "            \"plant_status\": False,\n",
      "            \"parts_status\": [],\n",
      "            \"broken_parts\": [],\n",
      "            \"max_capacity\": 18389.600700749175,\n",
      "            \"current_capacity\": 0,\n",
      "            \"power_output_reduction_on_part_failure\": [],\n",
      "            \"general_deficit\": 0,\n",
      "            \"general_demand\": 0,\n",
      "            \"general_offer\": 0,\n",
      "        }\n",
      "agent perception\n",
      "[]\n",
      "[]\n",
      "{\n",
      "            \"thermoelectric: {'id': 'Th2', 'total_capacity': 9273.39881701974, 'current_capacity': 0, 'stored_energy': 0, 'parts': []},\n",
      "            \"plant_status\": False,\n",
      "            \"parts_status\": [],\n",
      "            \"broken_parts\": [],\n",
      "            \"max_capacity\": 9273.39881701974,\n",
      "            \"current_capacity\": 0,\n",
      "            \"power_output_reduction_on_part_failure\": [],\n",
      "            \"general_deficit\": 0,\n",
      "            \"general_demand\": 0,\n",
      "            \"general_offer\": 0,\n",
      "        }\n",
      "agent perception\n",
      "[]\n",
      "[]\n",
      "{\n",
      "            \"thermoelectric: {'id': 'Th3', 'total_capacity': 16402.18197485529, 'current_capacity': 0, 'stored_energy': 0, 'parts': []},\n",
      "            \"plant_status\": False,\n",
      "            \"parts_status\": [],\n",
      "            \"broken_parts\": [],\n",
      "            \"max_capacity\": 16402.18197485529,\n",
      "            \"current_capacity\": 0,\n",
      "            \"power_output_reduction_on_part_failure\": [],\n",
      "            \"general_deficit\": 0,\n",
      "            \"general_demand\": 0,\n",
      "            \"general_offer\": 0,\n",
      "        }\n",
      "agent perception\n",
      "[]\n",
      "[]\n",
      "{\n",
      "            \"thermoelectric: {'id': 'Th4', 'total_capacity': 5317.2613038156105, 'current_capacity': 0, 'stored_energy': 0, 'parts': []},\n",
      "            \"plant_status\": False,\n",
      "            \"parts_status\": [],\n",
      "            \"broken_parts\": [],\n",
      "            \"max_capacity\": 5317.2613038156105,\n",
      "            \"current_capacity\": 0,\n",
      "            \"power_output_reduction_on_part_failure\": [],\n",
      "            \"general_deficit\": 0,\n",
      "            \"general_demand\": 0,\n",
      "            \"general_offer\": 0,\n",
      "        }\n",
      "agent perception\n",
      "[]\n",
      "[]\n",
      "{\n",
      "            \"thermoelectric: {'id': 'Th5', 'total_capacity': 7865.931527724202, 'current_capacity': 0, 'stored_energy': 0, 'parts': []},\n",
      "            \"plant_status\": False,\n",
      "            \"parts_status\": [],\n",
      "            \"broken_parts\": [],\n",
      "            \"max_capacity\": 7865.931527724202,\n",
      "            \"current_capacity\": 0,\n",
      "            \"power_output_reduction_on_part_failure\": [],\n",
      "            \"general_deficit\": 0,\n",
      "            \"general_demand\": 0,\n",
      "            \"general_offer\": 0,\n",
      "        }\n",
      "agent perception\n",
      "[]\n",
      "[]\n",
      "{\n",
      "            \"thermoelectric: {'id': 'Th6', 'total_capacity': 15063.695742831453, 'current_capacity': 0, 'stored_energy': 0, 'parts': []},\n",
      "            \"plant_status\": False,\n",
      "            \"parts_status\": [],\n",
      "            \"broken_parts\": [],\n",
      "            \"max_capacity\": 15063.695742831453,\n",
      "            \"current_capacity\": 0,\n",
      "            \"power_output_reduction_on_part_failure\": [],\n",
      "            \"general_deficit\": 0,\n",
      "            \"general_demand\": 0,\n",
      "            \"general_offer\": 0,\n",
      "        }\n",
      "agent perception\n",
      "[]\n",
      "[]\n",
      "{\n",
      "            \"thermoelectric: {'id': 'Th7', 'total_capacity': 25537.934117932837, 'current_capacity': 0, 'stored_energy': 0, 'parts': []},\n",
      "            \"plant_status\": False,\n",
      "            \"parts_status\": [],\n",
      "            \"broken_parts\": [],\n",
      "            \"max_capacity\": 25537.934117932837,\n",
      "            \"current_capacity\": 0,\n",
      "            \"power_output_reduction_on_part_failure\": [],\n",
      "            \"general_deficit\": 0,\n",
      "            \"general_demand\": 0,\n",
      "            \"general_offer\": 0,\n",
      "        }\n"
     ]
    }
   ],
   "source": [
    "from src.people import ThermoelectricAgent, ThermoelectricAgentPerception\n",
    "from src.worldstate import WorldState\n",
    "\n",
    "\n",
    "class Simulation:\n",
    "    def __init__(\n",
    "        self,\n",
    "        circuits: list[Circuit],\n",
    "        thermoelectrics: list[Thermoelectric],\n",
    "        distance_matrix: list[list[float]],\n",
    "        get_circuit_importance: callable,\n",
    "        get_block_importance: callable,\n",
    "    ):\n",
    "        self.world_state_manager = WorldState(\n",
    "            circuits=circuits,\n",
    "            thermoelectrics=thermoelectrics,\n",
    "            distance_matrix=distance_matrix,\n",
    "            get_block_importance=get_block_importance,\n",
    "            get_circuit_importance=get_circuit_importance,\n",
    "        )\n",
    "\n",
    "        self.thermoelectric_agents: list[ThermoelectricAgent] = []\n",
    "\n",
    "    def create_thermoelectric_agent_perception(\n",
    "        self, thermoelectric\n",
    "    ) -> ThermoelectricAgentPerception:\n",
    "\n",
    "        return ThermoelectricAgentPerception(\n",
    "            thermoelectric=thermoelectric,\n",
    "            general_deficit=self.world_state_manager.general_deficit,\n",
    "            general_demand=self.world_state_manager.general_demand,\n",
    "            general_offer=self.world_state_manager.general_offer,\n",
    "        )\n",
    "\n",
    "    def simulate(self, simulation_days=50):\n",
    "\n",
    "        for thermoelectric in self.world_state_manager.thermoelectrics:\n",
    "            agent_initial_perception = self.create_thermoelectric_agent_perception(thermoelectric=thermoelectric)\n",
    "            print(\"agent perception\")\n",
    "            print(agent_initial_perception)\n",
    "            thermoelectric_agent = ThermoelectricAgent(\n",
    "                name=f\"Agent of {thermoelectric.id}\",\n",
    "                thermoelectric=thermoelectric,\n",
    "                perception=agent_initial_perception,\n",
    "            )\n",
    "\n",
    "            self.thermoelectric_agents.append(thermoelectric_agent)\n",
    "\n",
    "    # check progress\n",
    "\n",
    "    # for agent in self.thermoelectric_agents:\n",
    "    #     print(agent)\n",
    "\n",
    "\n",
    "simulation = Simulation(\n",
    "    circuits=electric_system_circuits_list,\n",
    "    thermoelectrics=electric_system_thermoelectrics_list,\n",
    "    distance_matrix=matrix,\n",
    "    get_circuit_importance=get_circuit_importance,\n",
    "    get_block_importance=get_block_importance,\n",
    ")\n",
    "\n",
    "simulation.simulate()"
   ]
  }
 ],
 "metadata": {
  "kernelspec": {
   "display_name": "base",
   "language": "python",
   "name": "python3"
  },
  "language_info": {
   "codemirror_mode": {
    "name": "ipython",
    "version": 3
   },
   "file_extension": ".py",
   "mimetype": "text/x-python",
   "name": "python",
   "nbconvert_exporter": "python",
   "pygments_lexer": "ipython3",
   "version": "3.11.10"
  }
 },
 "nbformat": 4,
 "nbformat_minor": 2
}
