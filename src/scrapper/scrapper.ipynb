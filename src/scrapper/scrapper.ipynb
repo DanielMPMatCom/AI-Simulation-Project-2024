{
 "cells": [
  {
   "cell_type": "code",
   "execution_count": null,
   "metadata": {},
   "outputs": [],
   "source": [
    "from generative_ai import GenAIModel\n",
    "from telethon.sync import TelegramClient\n",
    "from telethon.tl.functions.messages import GetHistoryRequest\n",
    "from dotenv import dotenv_values\n",
    "import asyncio\n",
    "import time\n",
    "import re"
   ]
  },
  {
   "cell_type": "code",
   "execution_count": null,
   "metadata": {},
   "outputs": [],
   "source": [
    "async def get_channel(session_name, api_id, api_hash, phone_number, channel_username):\n",
    "    client = TelegramClient(session_name, api_id, api_hash)\n",
    "    await client.start(phone_number)\n",
    "\n",
    "    return await client.get_entity(channel_username)"
   ]
  },
  {
   "cell_type": "code",
   "execution_count": null,
   "metadata": {},
   "outputs": [],
   "source": [
    "async def get_history(channel, offset_id, limit, timeout:float = None):\n",
    "    \n",
    "    start_time = time.time()\n",
    "    all_messages = []\n",
    "    \n",
    "    while True:\n",
    "        history = await(GetHistoryRequest(\n",
    "            peer=channel,\n",
    "            offset_id=offset_id,\n",
    "            offset_date=None,\n",
    "            add_offset=0,\n",
    "            limit=limit,\n",
    "            max_id=0,\n",
    "            min_id=0,\n",
    "            hash=0\n",
    "        ))\n",
    "\n",
    "        if not history.messages:\n",
    "            break\n",
    "\n",
    "        all_messages.extend(history.messages)\n",
    "        offset_id = all_messages[-1].id\n",
    "\n",
    "        if timeout is not None and timeout < time.time() - start_time:\n",
    "            break\n",
    "\n",
    "    return all_messages"
   ]
  },
  {
   "cell_type": "code",
   "execution_count": null,
   "metadata": {},
   "outputs": [],
   "source": [
    "async def model_ask_iterator(model:GenAIModel, iterable:list[str], query:str, timeout:float = None):\n",
    "    \n",
    "    start_time = time.time()\n",
    "    responses = []\n",
    "    last = 0\n",
    "    \n",
    "    while(last < len(iterable)):\n",
    "        for i, current in enumerate(iterable[last:]):\n",
    "            print(f\"Current element: {i}, elements left: {len(iterable) - i}\")\n",
    "            try:\n",
    "                responses.append(model.ask_model(query + current))\n",
    "            except:\n",
    "                break\n",
    "        \n",
    "        last = len(responses)\n",
    "        time.sleep(10)\n",
    "\n",
    "        if timeout is not None and timeout < time.time() - start_time:\n",
    "            break\n",
    "\n",
    "    return responses"
   ]
  },
  {
   "cell_type": "code",
   "execution_count": null,
   "metadata": {},
   "outputs": [],
   "source": [
    "def generate_code(filename:str, iterable:list[str], before_iterations:str=\"\", during_iterations:str=\"\", after_iterations:str=\"\"):\n",
    "\n",
    "    with open(filename, \"w\") as file:\n",
    "\n",
    "        file.write(before_iterations)\n",
    "        for current in iterable:\n",
    "            file.write(current)\n",
    "            file.write(during_iterations)\n",
    "        file.write(after_iterations)"
   ]
  },
  {
   "cell_type": "markdown",
   "metadata": {},
   "source": [
    "# Este fragmento de código debe utilizarse con la ubicación correspondiente al número de teléfono utilizado"
   ]
  },
  {
   "cell_type": "code",
   "execution_count": null,
   "metadata": {},
   "outputs": [],
   "source": [
    "secrets = dotenv_values(\".env\")\n",
    "\n",
    "TELEGRAM_API_ID = secrets[\"TELEGRAM_API_ID\"]\n",
    "TELEGRAM_API_HASH = secrets[\"TELEGRAM_API_HASH\"]\n",
    "TELEGRAM_PHONE_NUMBER = secrets[\"TELEGRAM_PHONE_NUMBER\"]\n",
    "CHANNEL_USERNAME = \"EmpresaElectricaDeLaHabana\"\n",
    "\n",
    "channel = get_channel(\"Scrapper\", TELEGRAM_API_ID, TELEGRAM_API_HASH, TELEGRAM_PHONE_NUMBER)"
   ]
  },
  {
   "cell_type": "markdown",
   "metadata": {},
   "source": [
    "# A partir de este punto es necesario el uso de VPN si se ejecuta en una ubicación no permitido por la API de Gemini"
   ]
  },
  {
   "cell_type": "code",
   "execution_count": null,
   "metadata": {},
   "outputs": [],
   "source": [
    "model = GenAIModel\n",
    "\n",
    "telegram_history = [message for message in get_history(channel, 0, 100) if \"Nota\" in message]"
   ]
  },
  {
   "cell_type": "code",
   "execution_count": null,
   "metadata": {},
   "outputs": [],
   "source": [
    "query = \"extrae la fecha, las unidades que salen de circulación con la cantidad de MW que producen, las unidades que entran en circulación con sus respectivos MW, la generación total, la generación esperada y lo que se espera que ocurra en el pico del siguiente mensaje:\\n\"\n",
    "\n",
    "extracted_info = model_ask_iterator(model, telegram_history, query)"
   ]
  },
  {
   "cell_type": "code",
   "execution_count": null,
   "metadata": {},
   "outputs": [],
   "source": [
    "class_info = \"\"\"\n",
    "class InformeGeneracion:\n",
    "    def __init__(self, fecha, unidades_fuera, unidades_entrando, generacion_total,\n",
    "                 generacion_esperada, demanda_actual, demanda_estimada, afectacion_pico,\n",
    "                 informacion_adicional=None):\n",
    "        self.fecha = fecha\n",
    "        self.unidades_fuera = unidades_fuera\n",
    "        self.unidades_entrando = unidades_entrando\n",
    "        self.generacion_total = generacion_total\n",
    "        self.generacion_esperada = generacion_esperada\n",
    "        self.demanda_actual = demanda_actual\n",
    "        self.demanda_estimada = demanda_estimada\n",
    "        self.afectacion_pico = afectacion_pico\n",
    "        self.informacion_adicional = informacion_adicional   \n",
    "\"\"\"\n",
    "\n",
    "example = \"\"\"\n",
    "# Extracción y asignación de valores del texto a la variable 'instance'\n",
    "instance = InformeGeneracion(\n",
    "    fecha=(25, 9, 2024),\n",
    "    unidades_fuera=[\n",
    "        \"CTE Felton: Unidad 2\",\n",
    "        \"CTE Renté: Unidad 5\",\n",
    "        \"CTE Santa Cruz: Unidad 2\",\n",
    "        \"46 centrales de generación distribuida\",\n",
    "        \"Generación Móvil de Santiago de Cuba\",\n",
    "        \"Motores en la Generación Móvil de Melones\"\n",
    "    ],\n",
    "    unidades_entrando=[\n",
    "        \"5 motores de la Generación Móvil de Melones\"\n",
    "    ],\n",
    "    generacion_total=2025,\n",
    "    generacion_esperada=2220,\n",
    "    demanda_actual=2350,\n",
    "    demanda_estimada=3000,\n",
    "    afectacion_pico=850,\n",
    "    informacion_adicional={\n",
    "        \"afectacion_media\": 550,\n",
    "        \"limitaciones_termicas\": 541,\n",
    "        \"recuperacion_generacion_distribuida\": 80\n",
    "    }\n",
    ")\n",
    "\"\"\"\n",
    "\n",
    "explain = \"\"\"\n",
    "Genera en python solamente la asignacion a una variable llamada instance de una instancia de la clase anterior extrayendo la informacion correspondiente del siguiente texto donde la fecha es una tripla con la fecha en el formato DD-MM-AA solo con valores numericos, no utilices la libreria datetime, coloca directamente los valores correspondientes, unidades fuera contiente un array con los nombres de las unidades al igual que las unidades entrando (el formato es Termoelectrica: Unidad 1, Unidad 2, ...), y el resto de los valores contienen un valor numerico con la cantidad de MW correspondientes guiandote por el ejemplo anterior:\n",
    "\"\"\"\n",
    "\n",
    "query = f\"Dada la clase {class_info} y el ejemplo {example} {explain}:\\n\"\n",
    "\n",
    "class_instances = model_ask_iterator(model, extracted_info, query)"
   ]
  },
  {
   "cell_type": "code",
   "execution_count": null,
   "metadata": {},
   "outputs": [],
   "source": [
    "regex = r\"instance\\s*=\\s*InformeGeneracion.*?informacion_adicional.*?\\)\"\n",
    "\n",
    "matches = re.findall(regex, class_instances)"
   ]
  },
  {
   "cell_type": "code",
   "execution_count": null,
   "metadata": {},
   "outputs": [],
   "source": [
    "declarations = f\"{class_info}\\nclass_instances = []\\n\"\n",
    "appends = \"\\nclass_instances.append(instance)\\n\"\n",
    "\n",
    "generate_code(\"code.py\", matches, before_iterations=declarations, during_iterations=appends)"
   ]
  }
 ],
 "metadata": {
  "language_info": {
   "name": "python"
  }
 },
 "nbformat": 4,
 "nbformat_minor": 2
}
